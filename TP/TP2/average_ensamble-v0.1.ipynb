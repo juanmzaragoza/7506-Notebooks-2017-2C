{
 "cells": [
  {
   "cell_type": "code",
   "execution_count": 1,
   "metadata": {
    "collapsed": false
   },
   "outputs": [
    {
     "name": "stdout",
     "output_type": "stream",
     "text": [
      "<class 'pandas.core.frame.DataFrame'>\n",
      "RangeIndex: 14166 entries, 0 to 14165\n",
      "Data columns (total 9 columns):\n",
      "0     14166 non-null float64\n",
      "id    14166 non-null int64\n",
      "1     14166 non-null float64\n",
      "2     14166 non-null float64\n",
      "3     14166 non-null float64\n",
      "4     14166 non-null float64\n",
      "5     14166 non-null float64\n",
      "6     14166 non-null float64\n",
      "7     14166 non-null float64\n",
      "dtypes: float64(8), int64(1)\n",
      "memory usage: 996.1 KB\n"
     ]
    }
   ],
   "source": [
    "import numpy as np \n",
    "import pandas as pd\n",
    "\n",
    "# files\n",
    "import os\n",
    "import glob\n",
    "\n",
    "extension = 'csv'\n",
    "os.chdir(\"/home/jovyan/work/TP/data/result\")\n",
    "results = [i for i in glob.glob('*.{}'.format(extension))]\t\n",
    "\n",
    "#join de varios datasets\n",
    "for idx, result in enumerate(results):\n",
    "    file = pd.read_csv('/home/jovyan/work/TP/data/result/'+result, low_memory=False)\n",
    "    if idx == 0:\n",
    "        tests = pd.DataFrame({ 'id': file['id'], idx: file['price_usd']})\n",
    "    else:\n",
    "        tests[idx] = file['price_usd']\n",
    "    \n",
    "tests.info()"
   ]
  },
  {
   "cell_type": "code",
   "execution_count": 2,
   "metadata": {
    "collapsed": false
   },
   "outputs": [
    {
     "data": {
      "text/html": [
       "<div>\n",
       "<table border=\"1\" class=\"dataframe\">\n",
       "  <thead>\n",
       "    <tr style=\"text-align: right;\">\n",
       "      <th></th>\n",
       "      <th>0</th>\n",
       "      <th>1</th>\n",
       "      <th>2</th>\n",
       "      <th>3</th>\n",
       "      <th>4</th>\n",
       "      <th>5</th>\n",
       "      <th>6</th>\n",
       "      <th>7</th>\n",
       "    </tr>\n",
       "  </thead>\n",
       "  <tbody>\n",
       "    <tr>\n",
       "      <th>0</th>\n",
       "      <td>231476.371893</td>\n",
       "      <td>505156.135383</td>\n",
       "      <td>604971.587654</td>\n",
       "      <td>718883.756501</td>\n",
       "      <td>179178.251994</td>\n",
       "      <td>464456.669801</td>\n",
       "      <td>297401.672862</td>\n",
       "      <td>278929.191629</td>\n",
       "    </tr>\n",
       "    <tr>\n",
       "      <th>1</th>\n",
       "      <td>227927.683039</td>\n",
       "      <td>742473.427606</td>\n",
       "      <td>686706.977765</td>\n",
       "      <td>718886.669071</td>\n",
       "      <td>178392.138553</td>\n",
       "      <td>716524.369771</td>\n",
       "      <td>293525.655642</td>\n",
       "      <td>275301.872698</td>\n",
       "    </tr>\n",
       "    <tr>\n",
       "      <th>2</th>\n",
       "      <td>235575.544790</td>\n",
       "      <td>108903.601693</td>\n",
       "      <td>145533.435070</td>\n",
       "      <td>477777.676112</td>\n",
       "      <td>144289.016547</td>\n",
       "      <td>98825.529425</td>\n",
       "      <td>248624.111599</td>\n",
       "      <td>346694.283067</td>\n",
       "    </tr>\n",
       "    <tr>\n",
       "      <th>3</th>\n",
       "      <td>231530.536763</td>\n",
       "      <td>105060.834438</td>\n",
       "      <td>36797.017101</td>\n",
       "      <td>505556.454589</td>\n",
       "      <td>152892.537102</td>\n",
       "      <td>100212.212007</td>\n",
       "      <td>216349.870572</td>\n",
       "      <td>340877.569033</td>\n",
       "    </tr>\n",
       "    <tr>\n",
       "      <th>4</th>\n",
       "      <td>231882.044284</td>\n",
       "      <td>105129.689305</td>\n",
       "      <td>164745.253301</td>\n",
       "      <td>620001.015940</td>\n",
       "      <td>186415.938092</td>\n",
       "      <td>104411.938390</td>\n",
       "      <td>286335.073333</td>\n",
       "      <td>341386.770238</td>\n",
       "    </tr>\n",
       "  </tbody>\n",
       "</table>\n",
       "</div>"
      ],
      "text/plain": [
       "               0              1              2              3              4  \\\n",
       "0  231476.371893  505156.135383  604971.587654  718883.756501  179178.251994   \n",
       "1  227927.683039  742473.427606  686706.977765  718886.669071  178392.138553   \n",
       "2  235575.544790  108903.601693  145533.435070  477777.676112  144289.016547   \n",
       "3  231530.536763  105060.834438   36797.017101  505556.454589  152892.537102   \n",
       "4  231882.044284  105129.689305  164745.253301  620001.015940  186415.938092   \n",
       "\n",
       "               5              6              7  \n",
       "0  464456.669801  297401.672862  278929.191629  \n",
       "1  716524.369771  293525.655642  275301.872698  \n",
       "2   98825.529425  248624.111599  346694.283067  \n",
       "3  100212.212007  216349.870572  340877.569033  \n",
       "4  104411.938390  286335.073333  341386.770238  "
      ]
     },
     "execution_count": 2,
     "metadata": {},
     "output_type": "execute_result"
    }
   ],
   "source": [
    "predictions = tests.iloc[:, tests.columns != 'id']\n",
    "predictions.head()"
   ]
  },
  {
   "cell_type": "code",
   "execution_count": 3,
   "metadata": {
    "collapsed": false
   },
   "outputs": [],
   "source": [
    "results = predictions.mean(axis=1)"
   ]
  },
  {
   "cell_type": "code",
   "execution_count": 5,
   "metadata": {
    "collapsed": false
   },
   "outputs": [],
   "source": [
    "import datetime\n",
    "\n",
    "output = pd.DataFrame( data={\"id\":tests[\"id\"], \"price_usd\":results} )\n",
    "output.head()\n",
    "now = datetime.datetime.now()\n",
    "output.to_csv( \"/home/jovyan/work/TP/data/result/result_enamble_\"+str(now)+\".csv\", index=False, quoting=3 )"
   ]
  },
  {
   "cell_type": "code",
   "execution_count": null,
   "metadata": {
    "collapsed": true
   },
   "outputs": [],
   "source": []
  }
 ],
 "metadata": {
  "kernelspec": {
   "display_name": "Python 3",
   "language": "python",
   "name": "python3"
  },
  "language_info": {
   "codemirror_mode": {
    "name": "ipython",
    "version": 3
   },
   "file_extension": ".py",
   "mimetype": "text/x-python",
   "name": "python",
   "nbconvert_exporter": "python",
   "pygments_lexer": "ipython3",
   "version": "3.5.2"
  }
 },
 "nbformat": 4,
 "nbformat_minor": 2
}
