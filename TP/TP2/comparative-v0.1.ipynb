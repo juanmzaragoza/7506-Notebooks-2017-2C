{
 "cells": [
  {
   "cell_type": "markdown",
   "metadata": {},
   "source": [
    "# IDEA: probar varios algoritmos y ver cual nos da el mejor resultado para luego explorarlo mas detalladamente"
   ]
  },
  {
   "cell_type": "code",
   "execution_count": 1,
   "metadata": {
    "collapsed": false
   },
   "outputs": [
    {
     "name": "stderr",
     "output_type": "stream",
     "text": [
      "/opt/conda/lib/python3.5/site-packages/sklearn/cross_validation.py:41: DeprecationWarning: This module was deprecated in version 0.18 in favor of the model_selection module into which all the refactored classes and functions are moved. Also note that the interface of the new CV iterators are different from that of this module. This module will be removed in 0.20.\n",
      "  \"This module will be removed in 0.20.\", DeprecationWarning)\n"
     ]
    }
   ],
   "source": [
    "from sklearn import svm\n",
    "import matplotlib.pyplot as plt\n",
    "from sklearn.neighbors import KNeighborsRegressor\n",
    "from sklearn.linear_model import LinearRegression, LogisticRegression\n",
    "from sklearn.svm import SVR\n",
    "from sklearn.metrics import r2_score\n",
    "from sklearn.cross_validation import train_test_split\n",
    "from sklearn.ensemble import RandomForestRegressor\n",
    "import pandas as pd\n",
    "\n",
    "# modules\n",
    "import knn as knnlibrary"
   ]
  },
  {
   "cell_type": "code",
   "execution_count": 2,
   "metadata": {
    "collapsed": false
   },
   "outputs": [
    {
     "name": "stdout",
     "output_type": "stream",
     "text": [
      "<class 'pandas.core.frame.DataFrame'>\n",
      "Int64Index: 8495 entries, 16 to 34504\n",
      "Data columns (total 14 columns):\n",
      "property_type              8495 non-null int64\n",
      "place_name                 8495 non-null int64\n",
      "place_with_parent_names    8495 non-null int64\n",
      "state_name                 8495 non-null int64\n",
      "lat                        8495 non-null float64\n",
      "lon                        8495 non-null float64\n",
      "price                      8495 non-null float64\n",
      "surface_total_in_m2        8495 non-null float64\n",
      "surface_covered_in_m2      8495 non-null float64\n",
      "floor                      8495 non-null float64\n",
      "rooms                      8495 non-null float64\n",
      "created_on_year            8495 non-null int64\n",
      "created_on_month           8495 non-null int64\n",
      "created_on_day             8495 non-null int64\n",
      "dtypes: float64(7), int64(7)\n",
      "memory usage: 995.5 KB\n"
     ]
    },
    {
     "name": "stderr",
     "output_type": "stream",
     "text": [
      "/opt/conda/lib/python3.5/site-packages/sklearn/preprocessing/label.py:111: DataConversionWarning: A column-vector y was passed when a 1d array was expected. Please change the shape of y to (n_samples, ), for example using ravel().\n",
      "  y = column_or_1d(y, warn=True)\n"
     ]
    }
   ],
   "source": [
    "#leo dataset\n",
    "properties =knnlibrary.get_dataset()\n",
    "\n",
    "# transformo el campo fecha\n",
    "properties_caba = knnlibrary.transform_date(properties)\n",
    "\n",
    "# filtro por CABA y GBA\n",
    "# queremos solo las propiedades que tienen precio y eliminamos columnas que sabemos que no son \n",
    "#redundantes y que no nos servirian para knn\n",
    "# eliminamos propiedades con mas de 54 pisos\n",
    "properties_caba = knnlibrary.clean_dataset(properties)\n",
    "\n",
    "# las expensas tienen demasiados nulos por lo que voy a eliminar esa columna\n",
    "properties_caba = properties_caba.drop(['expenses'], axis = 1)\n",
    "\n",
    "# atributos categoricos\n",
    "from sklearn.preprocessing import LabelEncoder\n",
    "\n",
    "encoder = LabelEncoder()\n",
    "properties_caba = knnlibrary.encoder_attributes(properties_caba, encoder)\n",
    "\n",
    "properties_caba.tail()\n",
    "\n",
    "# eliminamos filas con valores nulo\n",
    "properties_caba = properties_caba.dropna(how='any')\n",
    "properties_caba.info()"
   ]
  },
  {
   "cell_type": "code",
   "execution_count": 3,
   "metadata": {
    "collapsed": false
   },
   "outputs": [
    {
     "name": "stderr",
     "output_type": "stream",
     "text": [
      "/opt/conda/lib/python3.5/site-packages/ipykernel/__main__.py:26: DataConversionWarning: A column-vector y was passed when a 1d array was expected. Please change the shape of y to (n_samples,), for example using ravel().\n",
      "/opt/conda/lib/python3.5/site-packages/sklearn/utils/validation.py:578: DataConversionWarning: A column-vector y was passed when a 1d array was expected. Please change the shape of y to (n_samples, ), for example using ravel().\n",
      "  y = column_or_1d(y, warn=True)\n",
      "/opt/conda/lib/python3.5/site-packages/sklearn/utils/validation.py:578: DataConversionWarning: A column-vector y was passed when a 1d array was expected. Please change the shape of y to (n_samples, ), for example using ravel().\n",
      "  y = column_or_1d(y, warn=True)\n"
     ]
    },
    {
     "data": {
      "image/png": "[encoded data removed]",
      "text/plain": [
       "<matplotlib.figure.Figure at 0x7f22d7ba4940>"
      ]
     },
     "metadata": {},
     "output_type": "display_data"
    }
   ],
   "source": [
    "from sklearn.model_selection import train_test_split\n",
    "import datetime\n",
    "\n",
    "now = datetime.datetime.now()\n",
    "\n",
    "# separamos el train de traing para validarlo luego usando un 20% de los datos\n",
    "X, y = properties_caba.iloc[:, properties_caba.columns != 'price'].values, properties_caba.iloc[:, properties_caba.columns == 'price'].values\n",
    "Xtrn, Xtest, Ytrn, Ytest = train_test_split(X, y, test_size=0.2, random_state=now.microsecond)\n",
    "\n",
    "# model = RandomForestRegressor(n_estimators=150, max_features='sqrt', n_jobs=-1) \n",
    "models = [LinearRegression(),\n",
    "          RandomForestRegressor(n_estimators=100, max_features='sqrt'),\n",
    "          KNeighborsRegressor(n_neighbors=6),\n",
    "          SVR(kernel='linear'),\n",
    "          LogisticRegression()\n",
    "          ]\n",
    "\n",
    "TestModels = pd.DataFrame()\n",
    "tmp = {}\n",
    "\n",
    "for model in models:\n",
    "    # get model name\n",
    "    m = str(model)\n",
    "    tmp['Model'] = m[:m.index('(')]\n",
    "    # fit model on training dataset\n",
    "    model.fit(Xtrn, Ytrn)\n",
    "    # predict prices for test dataset and calculate r^2\n",
    "    tmp['R2_Price'] = r2_score(Ytest, model.predict(Xtest))\n",
    "    # write obtained data\n",
    "    TestModels = TestModels.append([tmp])\n",
    "\n",
    "TestModels.set_index('Model', inplace=True)\n",
    "\n",
    "fig, axes = plt.subplots(ncols=1, figsize=(12, 4))\n",
    "TestModels.R2_Price.plot(ax=axes, kind='bar', title='R2_Price')\n",
    "plt.show()"
   ]
  },
  {
   "cell_type": "markdown",
   "metadata": {},
   "source": [
    "Elijo el random forest y pruebo con una cantidad mayor de estimadores"
   ]
  },
  {
   "cell_type": "code",
   "execution_count": 4,
   "metadata": {
    "collapsed": false
   },
   "outputs": [
    {
     "name": "stderr",
     "output_type": "stream",
     "text": [
      "/opt/conda/lib/python3.5/site-packages/ipykernel/__main__.py:2: DataConversionWarning: A column-vector y was passed when a 1d array was expected. Please change the shape of y to (n_samples,), for example using ravel().\n",
      "  from ipykernel import kernelapp as app\n"
     ]
    },
    {
     "data": {
      "text/plain": [
       "0.52175715283190949"
      ]
     },
     "execution_count": 4,
     "metadata": {},
     "output_type": "execute_result"
    }
   ],
   "source": [
    "model = RandomForestRegressor(n_estimators=200, max_features='sqrt')\n",
    "model.fit(Xtrn, Ytrn)\n",
    "r2_score(Ytest, model.predict(Xtest))"
   ]
  },
  {
   "cell_type": "code",
   "execution_count": 5,
   "metadata": {
    "collapsed": false
   },
   "outputs": [
    {
     "name": "stderr",
     "output_type": "stream",
     "text": [
      "/opt/conda/lib/python3.5/site-packages/ipykernel/__main__.py:3: DataConversionWarning: A column-vector y was passed when a 1d array was expected. Please change the shape of y to (n_samples,), for example using ravel().\n",
      "  app.launch_new_instance()\n"
     ]
    },
    {
     "data": {
      "text/plain": [
       "0.52202203728291596"
      ]
     },
     "execution_count": 5,
     "metadata": {},
     "output_type": "execute_result"
    }
   ],
   "source": [
    "# sigo aumentandp\n",
    "model = RandomForestRegressor(n_estimators=300, max_features='sqrt')\n",
    "model.fit(Xtrn, Ytrn)\n",
    "r2_score(Ytest, model.predict(Xtest))"
   ]
  },
  {
   "cell_type": "code",
   "execution_count": null,
   "metadata": {
    "collapsed": false
   },
   "outputs": [
    {
     "name": "stderr",
     "output_type": "stream",
     "text": [
      "/opt/conda/lib/python3.5/site-packages/ipykernel/__main__.py:3: DataConversionWarning: A column-vector y was passed when a 1d array was expected. Please change the shape of y to (n_samples,), for example using ravel().\n",
      "  app.launch_new_instance()\n"
     ]
    }
   ],
   "source": [
    "# sigo aumentandp\n",
    "model = RandomForestRegressor(n_estimators=3000, oob_score = True , n_jobs = -1,random_state =50,\\\n",
    "                              max_features = \"sqrt\")\n",
    "model.fit(Xtrn, Ytrn)\n",
    "\n",
    "from sklearn.metrics import roc_auc_score\n",
    "roc_auc_score(Ytest,model.oob_prediction_)"
   ]
  },
  {
   "cell_type": "code",
   "execution_count": null,
   "metadata": {
    "collapsed": true
   },
   "outputs": [],
   "source": []
  }
 ],
 "metadata": {
  "kernelspec": {
   "display_name": "Python 3",
   "language": "python",
   "name": "python3"
  },
  "language_info": {
   "codemirror_mode": {
    "name": "ipython",
    "version": 3
   },
   "file_extension": ".py",
   "mimetype": "text/x-python",
   "name": "python",
   "nbconvert_exporter": "python",
   "pygments_lexer": "ipython3",
   "version": "3.5.2"
  }
 },
 "nbformat": 4,
 "nbformat_minor": 0
}
