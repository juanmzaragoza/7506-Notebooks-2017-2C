{
 "cells": [
  {
   "cell_type": "markdown",
   "metadata": {},
   "source": [
    "<h1 style=\"text-align: center;\" markdown=\"1\">TP2: Ensamble FINAL</h1>\n",
    "![](../data/icon_properati-data.png)\n",
    "\n",
    "En este ensamble se hara un promedio ponderado de los mejores resultados obtenidos (que fueron pocos). Para esto se asignara un mayor peso a los resultados que mejor score dieron mientras que los pesos mas pequeños se distribuiran entre los peores resultados."
   ]
  },
  {
   "cell_type": "code",
   "execution_count": 5,
   "metadata": {
    "collapsed": false
   },
   "outputs": [],
   "source": [
    "import numpy as np \n",
    "import pandas as pd\n",
    "\n",
    "# files\n",
    "import os\n",
    "import glob\n",
    "\n",
    "os.chdir(\"/home/jovyan/work/TP/data/result\")\n",
    "\n",
    "# coeficients\n",
    "COEFS = [0.6, 0.3, 0.1]\n",
    "\n",
    "# files\n",
    "# score = 953888218371.50500\n",
    "file1 = pd.read_csv('/home/jovyan/work/TP/data/kaggle/04.333683.csv', low_memory=False)\n",
    "# score = 967806188071.81500\n",
    "file2 = pd.read_csv('/home/jovyan/work/TP/data/kaggle/55.850037.csv', low_memory=False)\n",
    "# socre = 974276431848.45900\n",
    "file3 = pd.read_csv('/home/jovyan/work/TP/data/kaggle/26.291981.csv', low_memory=False)"
   ]
  },
  {
   "cell_type": "code",
   "execution_count": 6,
   "metadata": {
    "collapsed": false
   },
   "outputs": [],
   "source": [
    "predictions = []\n",
    "for row1,row2,row3 in zip(file1.price_usd,file2.price_usd,file3.price_usd):\n",
    "    predictions.append(COEFS[0] * float(row1) + COEFS[1] * float(row2) + COEFS[2] * float(row3))"
   ]
  },
  {
   "cell_type": "code",
   "execution_count": 7,
   "metadata": {
    "collapsed": false
   },
   "outputs": [],
   "source": [
    "import datetime\n",
    "\n",
    "output = pd.DataFrame( data={\"id\":file1[\"id\"], \"price_usd\":predictions} )\n",
    "output.head()\n",
    "now = datetime.datetime.now()\n",
    "output.to_csv( \"/home/jovyan/work/TP/data/result/result_final-ensamble_\"+str(now)+\".csv\", index=False, quoting=3 )"
   ]
  },
  {
   "cell_type": "code",
   "execution_count": null,
   "metadata": {
    "collapsed": true
   },
   "outputs": [],
   "source": []
  }
 ],
 "metadata": {
  "kernelspec": {
   "display_name": "Python 3",
   "language": "python",
   "name": "python3"
  },
  "language_info": {
   "codemirror_mode": {
    "name": "ipython",
    "version": 3
   },
   "file_extension": ".py",
   "mimetype": "text/x-python",
   "name": "python",
   "nbconvert_exporter": "python",
   "pygments_lexer": "ipython3",
   "version": "3.5.2"
  }
 },
 "nbformat": 4,
 "nbformat_minor": 2
}
