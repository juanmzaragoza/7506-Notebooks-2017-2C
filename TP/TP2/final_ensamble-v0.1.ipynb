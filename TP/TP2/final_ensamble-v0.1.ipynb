{
 "cells": [
  {
   "cell_type": "markdown",
   "metadata": {},
   "source": [
    "<h1 style=\"text-align: center;\" markdown=\"1\">TP2: Ensamble FINAL</h1>\n",
    "![](../data/icon_properati-data.png)\n",
    "\n",
    "En este ensamble se hara un promedio ponderado de los mejores resultados obtenidos (que fueron pocos). Para esto se asignara un mayor peso a los resultados que mejor score dieron mientras que los pesos mas pequeños se distribuiran entre los peores resultados."
   ]
  },
  {
   "cell_type": "code",
   "execution_count": 8,
   "metadata": {
    "collapsed": false
   },
   "outputs": [],
   "source": [
    "import numpy as np \n",
    "import pandas as pd\n",
    "\n",
    "# files\n",
    "import os\n",
    "import glob\n",
    "\n",
    "os.chdir(\"/home/jovyan/work/TP/data/result\")\n",
    "\n",
    "# coeficients\n",
    "COEFS = [0.4, 0.2, 0.2, 0.2]\n",
    "\n",
    "# files\n",
    "file1 = pd.read_csv('/home/jovyan/work/TP/data/result/result_knn_2017-11-15 13:53:24.781107.csv', low_memory=False)\n",
    "file2 = pd.read_csv('/home/jovyan/work/TP/data/result/result_knn_2017-11-15 17:28:01.713337.csv', low_memory=False)\n",
    "file3 = pd.read_csv('/home/jovyan/work/TP/data/result/result_knn_2017-11-15 20:32:29.950692.csv', low_memory=False)\n",
    "file4 = pd.read_csv('/home/jovyan/work/TP/data/result/result_GradientBoostingyElasticNet_2017-11-21 19:40:59.660120.csv', low_memory=False)\n"
   ]
  },
  {
   "cell_type": "code",
   "execution_count": 14,
   "metadata": {
    "collapsed": false
   },
   "outputs": [],
   "source": [
    "predictions = []\n",
    "for row1,row2,row3,row4 in zip(file1.price_usd,file2.price_usd,file3.price_usd,file4.price_usd):\n",
    "    predictions.append(COEFS[0] * float(row1) + COEFS[1] * float(row2) + COEFS[2] * float(row3) \n",
    "                       + COEFS[3] * float(row4))"
   ]
  },
  {
   "cell_type": "code",
   "execution_count": 13,
   "metadata": {
    "collapsed": false
   },
   "outputs": [],
   "source": [
    "import datetime\n",
    "\n",
    "output = pd.DataFrame( data={\"id\":file1[\"id\"], \"price_usd\":predictions} )\n",
    "output.head()\n",
    "now = datetime.datetime.now()\n",
    "output.to_csv( \"/home/jovyan/work/TP/data/result/result_final-ensamble_\"+str(now)+\".csv\", index=False, quoting=3 )"
   ]
  }
 ],
 "metadata": {
  "kernelspec": {
   "display_name": "Python 3",
   "language": "python",
   "name": "python3"
  },
  "language_info": {
   "codemirror_mode": {
    "name": "ipython",
    "version": 3
   },
   "file_extension": ".py",
   "mimetype": "text/x-python",
   "name": "python",
   "nbconvert_exporter": "python",
   "pygments_lexer": "ipython3",
   "version": "3.5.2"
  }
 },
 "nbformat": 4,
 "nbformat_minor": 2
}
