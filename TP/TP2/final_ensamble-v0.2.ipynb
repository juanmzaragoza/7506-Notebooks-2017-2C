{
 "cells": [
  {
   "cell_type": "markdown",
   "metadata": {},
   "source": [
    "<h1 style=\"text-align: center;\" markdown=\"1\">TP2: Ensamble FINAL</h1>\n",
    "![](../data/icon_properati-data.png)\n",
    "\n",
    "Se entrenaran varios algoritmos y se iran combinando en este mismo notebook."
   ]
  },
  {
   "cell_type": "code",
   "execution_count": 21,
   "metadata": {
    "collapsed": false
   },
   "outputs": [
    {
     "name": "stdout",
     "output_type": "stream",
     "text": [
      "Populating the interactive namespace from numpy and matplotlib\n"
     ]
    },
    {
     "name": "stderr",
     "output_type": "stream",
     "text": [
      "/opt/conda/lib/python3.5/site-packages/IPython/core/magics/pylab.py:161: UserWarning: pylab import has clobbered these variables: ['plt']\n",
      "`%matplotlib` prevents importing * from pylab and numpy\n",
      "  \"\\n`%matplotlib` prevents importing * from pylab and numpy\"\n"
     ]
    }
   ],
   "source": [
    "import numpy as np \n",
    "import pandas as pd\n",
    "\n",
    "# plots\n",
    "import matplotlib.pyplot as plt\n",
    "import seaborn as sns\n",
    "%matplotlib inline\n",
    "%pylab inline\n",
    "\n",
    "# modules\n",
    "import knn as knnlibrary"
   ]
  },
  {
   "cell_type": "markdown",
   "metadata": {},
   "source": [
    "## Obtener y limpiar dataset"
   ]
  },
  {
   "cell_type": "code",
   "execution_count": 22,
   "metadata": {
    "collapsed": false
   },
   "outputs": [
    {
     "name": "stdout",
     "output_type": "stream",
     "text": [
      "['properati-AR-2016-12-01-properties-sell.csv', 'properati-AR-2016-05-01-properties-sell.csv', 'properati-AR-2016-06-01-properties-sell.csv', 'properati-AR-2016-08-01-properties-sell.csv', 'properati-AR-2017-02-01-properties-sell.csv', 'properati-AR-2017-08-01-properties-sell-six_months.csv', 'properati-AR-2016-04-01-properties-sell.csv', 'properati-AR-2016-11-01-properties-sell.csv', 'properati-AR-2015-02-01-properties-sell-six_months.csv', 'properati-AR-2015-12-01-properties-sell-six_months.csv', 'properati-AR-2016-03-01-properties-sell-six_months.csv', 'properati-AR-2017-01-01-properties-sell.csv', 'properati-AR-2016-10-01-properties-sell.csv', 'properati-AR-2016-07-01-properties-sell.csv', 'properati-AR-2015-07-01-properties-sell-six_months.csv', 'properati-AR-2016-09-01-properties-sell.csv', 'properati-AR-2017-07-01-properties-sell-six_months.csv']\n"
     ]
    },
    {
     "data": {
      "text/html": [
       "<div>\n",
       "<table border=\"1\" class=\"dataframe\">\n",
       "  <thead>\n",
       "    <tr style=\"text-align: right;\">\n",
       "      <th></th>\n",
       "      <th>id</th>\n",
       "      <th>created_on</th>\n",
       "      <th>operation</th>\n",
       "      <th>property_type</th>\n",
       "      <th>place_name</th>\n",
       "      <th>place_with_parent_names</th>\n",
       "      <th>country_name</th>\n",
       "      <th>state_name</th>\n",
       "      <th>geonames_id</th>\n",
       "      <th>lat-lon</th>\n",
       "      <th>...</th>\n",
       "      <th>surface_covered_in_m2</th>\n",
       "      <th>price_usd_per_m2</th>\n",
       "      <th>price_per_m2</th>\n",
       "      <th>floor</th>\n",
       "      <th>rooms</th>\n",
       "      <th>expenses</th>\n",
       "      <th>properati_url</th>\n",
       "      <th>description</th>\n",
       "      <th>title</th>\n",
       "      <th>image_thumbnail</th>\n",
       "    </tr>\n",
       "  </thead>\n",
       "  <tbody>\n",
       "    <tr>\n",
       "      <th>0</th>\n",
       "      <td>ecc59daba3d5bc726ae8aa9dbccfe79635aef175</td>\n",
       "      <td>2016-06-01</td>\n",
       "      <td>sell</td>\n",
       "      <td>apartment</td>\n",
       "      <td>Palermo</td>\n",
       "      <td>|Argentina|Capital Federal|Palermo|</td>\n",
       "      <td>Argentina</td>\n",
       "      <td>Capital Federal</td>\n",
       "      <td>3430234.0</td>\n",
       "      <td>-34.5888560251,-58.4087713338</td>\n",
       "      <td>...</td>\n",
       "      <td>130.0</td>\n",
       "      <td>NaN</td>\n",
       "      <td>3461.538462</td>\n",
       "      <td>5.0</td>\n",
       "      <td>4.0</td>\n",
       "      <td>NaN</td>\n",
       "      <td>http://www.properati.com.ar/ys05_venta_departa...</td>\n",
       "      <td>UNIDAD AL FRENTE CON BALCON CORRIDO Y 2 COCHER...</td>\n",
       "      <td>IMPECABLE PISO DE 4 AMB + DEP Y 2 COCHERAS</td>\n",
       "      <td>https://thumbs4.properati.com/2/RbSA4pJRsv2S8M...</td>\n",
       "    </tr>\n",
       "    <tr>\n",
       "      <th>1</th>\n",
       "      <td>7f1423f29df530cae38e7a59ddc6430c7da7ca38</td>\n",
       "      <td>2016-06-01</td>\n",
       "      <td>sell</td>\n",
       "      <td>apartment</td>\n",
       "      <td>Once</td>\n",
       "      <td>|Argentina|Capital Federal|Once|</td>\n",
       "      <td>Argentina</td>\n",
       "      <td>Capital Federal</td>\n",
       "      <td>3430291.0</td>\n",
       "      <td>-34.6033997612,-58.3984088548</td>\n",
       "      <td>...</td>\n",
       "      <td>46.0</td>\n",
       "      <td>NaN</td>\n",
       "      <td>2065.217391</td>\n",
       "      <td>1.0</td>\n",
       "      <td>1.0</td>\n",
       "      <td>NaN</td>\n",
       "      <td>http://www.properati.com.ar/ys06_venta_departa...</td>\n",
       "      <td>SE VENDE A ESTRENAR EN PLENO CORAZON DE ONCE !...</td>\n",
       "      <td>Excelentes oficinas a estrenar!!!!!</td>\n",
       "      <td>https://thumbs4.properati.com/8/IMCZ4CqITeOqx5...</td>\n",
       "    </tr>\n",
       "    <tr>\n",
       "      <th>2</th>\n",
       "      <td>4fdd84d998a3f82f4a3b36f405cc3f7013fb642e</td>\n",
       "      <td>2016-06-01</td>\n",
       "      <td>sell</td>\n",
       "      <td>store</td>\n",
       "      <td>Barrio Norte</td>\n",
       "      <td>|Argentina|Capital Federal|Barrio Norte|</td>\n",
       "      <td>Argentina</td>\n",
       "      <td>Capital Federal</td>\n",
       "      <td>3436109.0</td>\n",
       "      <td>-34.595849,-58.386979</td>\n",
       "      <td>...</td>\n",
       "      <td>0.0</td>\n",
       "      <td>NaN</td>\n",
       "      <td>NaN</td>\n",
       "      <td>NaN</td>\n",
       "      <td>NaN</td>\n",
       "      <td>500.0</td>\n",
       "      <td>http://www.properati.com.ar/ys0r_venta_local_b...</td>\n",
       "      <td>Local en Venta sobre Avenida Santa Fe.Ideal pa...</td>\n",
       "      <td>Local sobre Av. Santa Fe</td>\n",
       "      <td>https://thumbs4.properati.com/9/-VNE04tbyVFfcO...</td>\n",
       "    </tr>\n",
       "    <tr>\n",
       "      <th>3</th>\n",
       "      <td>a786b4d9a8f6cc86ba3e839f4cb85bbb03cf15fd</td>\n",
       "      <td>2016-06-01</td>\n",
       "      <td>sell</td>\n",
       "      <td>house</td>\n",
       "      <td>Adrogué</td>\n",
       "      <td>|Argentina|Bs.As. G.B.A. Zona Sur|Almirante Br...</td>\n",
       "      <td>Argentina</td>\n",
       "      <td>Bs.As. G.B.A. Zona Sur</td>\n",
       "      <td>NaN</td>\n",
       "      <td>-34.796679,-58.3993149</td>\n",
       "      <td>...</td>\n",
       "      <td>0.0</td>\n",
       "      <td>1285.714286</td>\n",
       "      <td>NaN</td>\n",
       "      <td>NaN</td>\n",
       "      <td>6.0</td>\n",
       "      <td>NaN</td>\n",
       "      <td>http://www.properati.com.ar/ys10_venta_casa_ad...</td>\n",
       "      <td>CHALET INMEJORABLE UBICACIÓN: PLANTA BAJA: AMP...</td>\n",
       "      <td>IMPORTANTE CHALET ZONA MUY RESIDENCIAL</td>\n",
       "      <td>https://thumbs4.properati.com/5/FhMeTqvYjAiHVS...</td>\n",
       "    </tr>\n",
       "    <tr>\n",
       "      <th>4</th>\n",
       "      <td>9844244d17eb024e0632a63b4098b67889de06bc</td>\n",
       "      <td>2016-06-01</td>\n",
       "      <td>sell</td>\n",
       "      <td>house</td>\n",
       "      <td>Pilar</td>\n",
       "      <td>|Argentina|Bs.As. G.B.A. Zona Norte|Pilar|</td>\n",
       "      <td>Argentina</td>\n",
       "      <td>Bs.As. G.B.A. Zona Norte</td>\n",
       "      <td>3429979.0</td>\n",
       "      <td>NaN</td>\n",
       "      <td>...</td>\n",
       "      <td>120.0</td>\n",
       "      <td>1250.000000</td>\n",
       "      <td>1250.000000</td>\n",
       "      <td>NaN</td>\n",
       "      <td>4.0</td>\n",
       "      <td>NaN</td>\n",
       "      <td>http://www.properati.com.ar/ys1c_venta_casa_pi...</td>\n",
       "      <td>Casa muy funcional, desarrollada en una sola p...</td>\n",
       "      <td>BAYUGAR PROPIEDADES/ LINDISIMA CASA/ BARRIO CA...</td>\n",
       "      <td>https://thumbs4.properati.com/2/dxU45Z8wqh3Mdq...</td>\n",
       "    </tr>\n",
       "  </tbody>\n",
       "</table>\n",
       "<p>5 rows × 27 columns</p>\n",
       "</div>"
      ],
      "text/plain": [
       "                                         id  created_on operation  \\\n",
       "0  ecc59daba3d5bc726ae8aa9dbccfe79635aef175  2016-06-01      sell   \n",
       "1  7f1423f29df530cae38e7a59ddc6430c7da7ca38  2016-06-01      sell   \n",
       "2  4fdd84d998a3f82f4a3b36f405cc3f7013fb642e  2016-06-01      sell   \n",
       "3  a786b4d9a8f6cc86ba3e839f4cb85bbb03cf15fd  2016-06-01      sell   \n",
       "4  9844244d17eb024e0632a63b4098b67889de06bc  2016-06-01      sell   \n",
       "\n",
       "  property_type    place_name  \\\n",
       "0     apartment       Palermo   \n",
       "1     apartment          Once   \n",
       "2         store  Barrio Norte   \n",
       "3         house       Adrogué   \n",
       "4         house         Pilar   \n",
       "\n",
       "                             place_with_parent_names country_name  \\\n",
       "0                |Argentina|Capital Federal|Palermo|    Argentina   \n",
       "1                   |Argentina|Capital Federal|Once|    Argentina   \n",
       "2           |Argentina|Capital Federal|Barrio Norte|    Argentina   \n",
       "3  |Argentina|Bs.As. G.B.A. Zona Sur|Almirante Br...    Argentina   \n",
       "4         |Argentina|Bs.As. G.B.A. Zona Norte|Pilar|    Argentina   \n",
       "\n",
       "                 state_name  geonames_id                        lat-lon  \\\n",
       "0           Capital Federal    3430234.0  -34.5888560251,-58.4087713338   \n",
       "1           Capital Federal    3430291.0  -34.6033997612,-58.3984088548   \n",
       "2           Capital Federal    3436109.0          -34.595849,-58.386979   \n",
       "3    Bs.As. G.B.A. Zona Sur          NaN         -34.796679,-58.3993149   \n",
       "4  Bs.As. G.B.A. Zona Norte    3429979.0                            NaN   \n",
       "\n",
       "                         ...                          surface_covered_in_m2  \\\n",
       "0                        ...                                          130.0   \n",
       "1                        ...                                           46.0   \n",
       "2                        ...                                            0.0   \n",
       "3                        ...                                            0.0   \n",
       "4                        ...                                          120.0   \n",
       "\n",
       "   price_usd_per_m2  price_per_m2 floor  rooms  expenses  \\\n",
       "0               NaN   3461.538462   5.0    4.0       NaN   \n",
       "1               NaN   2065.217391   1.0    1.0       NaN   \n",
       "2               NaN           NaN   NaN    NaN     500.0   \n",
       "3       1285.714286           NaN   NaN    6.0       NaN   \n",
       "4       1250.000000   1250.000000   NaN    4.0       NaN   \n",
       "\n",
       "                                       properati_url  \\\n",
       "0  http://www.properati.com.ar/ys05_venta_departa...   \n",
       "1  http://www.properati.com.ar/ys06_venta_departa...   \n",
       "2  http://www.properati.com.ar/ys0r_venta_local_b...   \n",
       "3  http://www.properati.com.ar/ys10_venta_casa_ad...   \n",
       "4  http://www.properati.com.ar/ys1c_venta_casa_pi...   \n",
       "\n",
       "                                         description  \\\n",
       "0  UNIDAD AL FRENTE CON BALCON CORRIDO Y 2 COCHER...   \n",
       "1  SE VENDE A ESTRENAR EN PLENO CORAZON DE ONCE !...   \n",
       "2  Local en Venta sobre Avenida Santa Fe.Ideal pa...   \n",
       "3  CHALET INMEJORABLE UBICACIÓN: PLANTA BAJA: AMP...   \n",
       "4  Casa muy funcional, desarrollada en una sola p...   \n",
       "\n",
       "                                               title  \\\n",
       "0         IMPECABLE PISO DE 4 AMB + DEP Y 2 COCHERAS   \n",
       "1                Excelentes oficinas a estrenar!!!!!   \n",
       "2                           Local sobre Av. Santa Fe   \n",
       "3             IMPORTANTE CHALET ZONA MUY RESIDENCIAL   \n",
       "4  BAYUGAR PROPIEDADES/ LINDISIMA CASA/ BARRIO CA...   \n",
       "\n",
       "                                     image_thumbnail  \n",
       "0  https://thumbs4.properati.com/2/RbSA4pJRsv2S8M...  \n",
       "1  https://thumbs4.properati.com/8/IMCZ4CqITeOqx5...  \n",
       "2  https://thumbs4.properati.com/9/-VNE04tbyVFfcO...  \n",
       "3  https://thumbs4.properati.com/5/FhMeTqvYjAiHVS...  \n",
       "4  https://thumbs4.properati.com/2/dxU45Z8wqh3Mdq...  \n",
       "\n",
       "[5 rows x 27 columns]"
      ]
     },
     "execution_count": 22,
     "metadata": {},
     "output_type": "execute_result"
    }
   ],
   "source": [
    "properties =knnlibrary.get_dataset()\n",
    "properties.head()"
   ]
  },
  {
   "cell_type": "code",
   "execution_count": 28,
   "metadata": {
    "collapsed": false
   },
   "outputs": [
    {
     "name": "stdout",
     "output_type": "stream",
     "text": [
      "<class 'pandas.core.frame.DataFrame'>\n",
      "Int64Index: 11526 entries, 385 to 80073\n",
      "Data columns (total 30 columns):\n",
      "id                            11526 non-null object\n",
      "created_on                    11526 non-null object\n",
      "operation                     11526 non-null object\n",
      "property_type                 11526 non-null object\n",
      "place_name                    11526 non-null object\n",
      "place_with_parent_names       11526 non-null object\n",
      "country_name                  11526 non-null object\n",
      "state_name                    11526 non-null object\n",
      "geonames_id                   10009 non-null float64\n",
      "lat-lon                       10364 non-null object\n",
      "lat                           10364 non-null float64\n",
      "lon                           10364 non-null float64\n",
      "price                         11526 non-null float64\n",
      "currency                      11526 non-null object\n",
      "price_aprox_local_currency    11526 non-null float64\n",
      "price_aprox_usd               11526 non-null float64\n",
      "surface_total_in_m2           11526 non-null float64\n",
      "surface_covered_in_m2         11526 non-null float64\n",
      "price_usd_per_m2              11526 non-null float64\n",
      "price_per_m2                  11526 non-null float64\n",
      "floor                         11526 non-null float64\n",
      "rooms                         11526 non-null float64\n",
      "expenses                      5180 non-null float64\n",
      "properati_url                 11526 non-null object\n",
      "description                   11526 non-null object\n",
      "title                         11526 non-null object\n",
      "image_thumbnail               11510 non-null object\n",
      "created_on_year               11526 non-null int64\n",
      "created_on_month              11526 non-null int64\n",
      "created_on_day                11526 non-null int64\n",
      "dtypes: float64(13), int64(3), object(14)\n",
      "memory usage: 2.7+ MB\n"
     ]
    }
   ],
   "source": [
    "# filtro por CABA y GBA\n",
    "properties_caba = properties[(properties['place_with_parent_names'].str.contains('Capital Federal') \\\n",
    "                             | properties['place_with_parent_names'].str.contains('Bs.As. G.B.A.'))]\n",
    "\n",
    "properties_caba = properties_caba[properties_caba['price'].notnull() & properties_caba['price'] > 0 & properties_caba['place_name'].notnull()]\n",
    "\n",
    "# eliminamos propiedades con mas de 54 pisos\n",
    "properties_caba = properties_caba[properties_caba['floor'] <= 60]\n",
    "# eliminamos propiedades con mas de 9 pisos - ver analisis\n",
    "properties_caba = properties_caba[properties_caba['rooms'] <=  10]\n",
    "# eliminamos propiedades con mas de 2000 m2 de superficie cubierta - ver analisis\n",
    "properties_caba = properties_caba[(properties_caba['surface_covered_in_m2'] <= 4000) & (properties_caba['surface_covered_in_m2'] >= 0)]\n",
    "# eliminamos propiedades con mas de 2000 m2 de superficie cubierta - ver analisis\n",
    "properties_caba = properties_caba[(properties_caba['surface_total_in_m2']<= 6000)  & (properties_caba['surface_total_in_m2'] >= 0)]\n",
    "\n",
    "properties_caba = knnlibrary.transform_date(properties_caba)\n",
    "properties_caba.info()"
   ]
  },
  {
   "cell_type": "code",
   "execution_count": 29,
   "metadata": {
    "collapsed": false
   },
   "outputs": [
    {
     "name": "stdout",
     "output_type": "stream",
     "text": [
      "<class 'pandas.core.frame.DataFrame'>\n",
      "Int64Index: 11526 entries, 385 to 80073\n",
      "Data columns (total 15 columns):\n",
      "created_on_day             11526 non-null int64\n",
      "created_on_month           11526 non-null int64\n",
      "created_on_year            11526 non-null int64\n",
      "property_type              11526 non-null object\n",
      "place_name                 11526 non-null object\n",
      "place_with_parent_names    11526 non-null object\n",
      "country_name               11526 non-null object\n",
      "state_name                 11526 non-null object\n",
      "lat                        10364 non-null float64\n",
      "lon                        10364 non-null float64\n",
      "surface_total_in_m2        11526 non-null float64\n",
      "surface_covered_in_m2      11526 non-null float64\n",
      "floor                      11526 non-null float64\n",
      "rooms                      11526 non-null float64\n",
      "price                      11526 non-null float64\n",
      "dtypes: float64(7), int64(3), object(5)\n",
      "memory usage: 1.4+ MB\n"
     ]
    }
   ],
   "source": [
    "# filtro columnas segun lo que hay en el dataset\n",
    "attributes = ['created_on_day','created_on_month','created_on_year','property_type','place_name','place_with_parent_names',\\\n",
    "              'country_name','state_name','lat','lon','surface_total_in_m2','surface_covered_in_m2',\\\n",
    "              'floor','rooms', 'price']\n",
    "properties_caba[attributes].info()\n",
    "properties_caba_with_price_attributes = properties_caba[attributes]"
   ]
  },
  {
   "cell_type": "code",
   "execution_count": 31,
   "metadata": {
    "collapsed": false
   },
   "outputs": [
    {
     "name": "stderr",
     "output_type": "stream",
     "text": [
      "/opt/conda/lib/python3.5/site-packages/pandas/core/frame.py:2762: SettingWithCopyWarning: \n",
      "A value is trying to be set on a copy of a slice from a DataFrame\n",
      "\n",
      "See the caveats in the documentation: http://pandas.pydata.org/pandas-docs/stable/indexing.html#indexing-view-versus-copy\n",
      "  downcast=downcast, **kwargs)\n",
      "/opt/conda/lib/python3.5/site-packages/sklearn/preprocessing/label.py:111: DataConversionWarning: A column-vector y was passed when a 1d array was expected. Please change the shape of y to (n_samples, ), for example using ravel().\n",
      "  y = column_or_1d(y, warn=True)\n",
      "/opt/conda/lib/python3.5/site-packages/ipykernel/__main__.py:7: SettingWithCopyWarning: \n",
      "A value is trying to be set on a copy of a slice from a DataFrame.\n",
      "Try using .loc[row_indexer,col_indexer] = value instead\n",
      "\n",
      "See the caveats in the documentation: http://pandas.pydata.org/pandas-docs/stable/indexing.html#indexing-view-versus-copy\n",
      "/opt/conda/lib/python3.5/site-packages/ipykernel/__main__.py:9: SettingWithCopyWarning: \n",
      "A value is trying to be set on a copy of a slice from a DataFrame.\n",
      "Try using .loc[row_indexer,col_indexer] = value instead\n",
      "\n",
      "See the caveats in the documentation: http://pandas.pydata.org/pandas-docs/stable/indexing.html#indexing-view-versus-copy\n",
      "/opt/conda/lib/python3.5/site-packages/ipykernel/__main__.py:10: SettingWithCopyWarning: \n",
      "A value is trying to be set on a copy of a slice from a DataFrame.\n",
      "Try using .loc[row_indexer,col_indexer] = value instead\n",
      "\n",
      "See the caveats in the documentation: http://pandas.pydata.org/pandas-docs/stable/indexing.html#indexing-view-versus-copy\n",
      "/opt/conda/lib/python3.5/site-packages/ipykernel/__main__.py:11: SettingWithCopyWarning: \n",
      "A value is trying to be set on a copy of a slice from a DataFrame.\n",
      "Try using .loc[row_indexer,col_indexer] = value instead\n",
      "\n",
      "See the caveats in the documentation: http://pandas.pydata.org/pandas-docs/stable/indexing.html#indexing-view-versus-copy\n",
      "/opt/conda/lib/python3.5/site-packages/ipykernel/__main__.py:12: SettingWithCopyWarning: \n",
      "A value is trying to be set on a copy of a slice from a DataFrame.\n",
      "Try using .loc[row_indexer,col_indexer] = value instead\n",
      "\n",
      "See the caveats in the documentation: http://pandas.pydata.org/pandas-docs/stable/indexing.html#indexing-view-versus-copy\n",
      "/opt/conda/lib/python3.5/site-packages/ipykernel/__main__.py:17: SettingWithCopyWarning: \n",
      "A value is trying to be set on a copy of a slice from a DataFrame.\n",
      "Try using .loc[row_indexer,col_indexer] = value instead\n",
      "\n",
      "See the caveats in the documentation: http://pandas.pydata.org/pandas-docs/stable/indexing.html#indexing-view-versus-copy\n",
      "/opt/conda/lib/python3.5/site-packages/ipykernel/__main__.py:18: SettingWithCopyWarning: \n",
      "A value is trying to be set on a copy of a slice from a DataFrame.\n",
      "Try using .loc[row_indexer,col_indexer] = value instead\n",
      "\n",
      "See the caveats in the documentation: http://pandas.pydata.org/pandas-docs/stable/indexing.html#indexing-view-versus-copy\n",
      "/opt/conda/lib/python3.5/site-packages/ipykernel/__main__.py:20: SettingWithCopyWarning: \n",
      "A value is trying to be set on a copy of a slice from a DataFrame.\n",
      "Try using .loc[row_indexer,col_indexer] = value instead\n",
      "\n",
      "See the caveats in the documentation: http://pandas.pydata.org/pandas-docs/stable/indexing.html#indexing-view-versus-copy\n",
      "/opt/conda/lib/python3.5/site-packages/ipykernel/__main__.py:21: SettingWithCopyWarning: \n",
      "A value is trying to be set on a copy of a slice from a DataFrame.\n",
      "Try using .loc[row_indexer,col_indexer] = value instead\n",
      "\n",
      "See the caveats in the documentation: http://pandas.pydata.org/pandas-docs/stable/indexing.html#indexing-view-versus-copy\n"
     ]
    },
    {
     "data": {
      "text/html": [
       "<div>\n",
       "<table border=\"1\" class=\"dataframe\">\n",
       "  <thead>\n",
       "    <tr style=\"text-align: right;\">\n",
       "      <th></th>\n",
       "      <th>created_on_day</th>\n",
       "      <th>created_on_month</th>\n",
       "      <th>created_on_year</th>\n",
       "      <th>property_type</th>\n",
       "      <th>place_name</th>\n",
       "      <th>place_with_parent_names</th>\n",
       "      <th>country_name</th>\n",
       "      <th>state_name</th>\n",
       "      <th>lat</th>\n",
       "      <th>lon</th>\n",
       "      <th>surface_total_in_m2</th>\n",
       "      <th>surface_covered_in_m2</th>\n",
       "      <th>floor</th>\n",
       "      <th>rooms</th>\n",
       "      <th>price</th>\n",
       "    </tr>\n",
       "  </thead>\n",
       "  <tbody>\n",
       "    <tr>\n",
       "      <th>385</th>\n",
       "      <td>2</td>\n",
       "      <td>6</td>\n",
       "      <td>2016</td>\n",
       "      <td>1</td>\n",
       "      <td>94</td>\n",
       "      <td>128</td>\n",
       "      <td>0</td>\n",
       "      <td>3</td>\n",
       "      <td>-34.544033</td>\n",
       "      <td>-58.472911</td>\n",
       "      <td>74.0</td>\n",
       "      <td>74.0</td>\n",
       "      <td>2.0</td>\n",
       "      <td>3.0</td>\n",
       "      <td>135000.0</td>\n",
       "    </tr>\n",
       "    <tr>\n",
       "      <th>890</th>\n",
       "      <td>9</td>\n",
       "      <td>6</td>\n",
       "      <td>2016</td>\n",
       "      <td>1</td>\n",
       "      <td>67</td>\n",
       "      <td>48</td>\n",
       "      <td>0</td>\n",
       "      <td>1</td>\n",
       "      <td>-34.648915</td>\n",
       "      <td>-58.796383</td>\n",
       "      <td>32.0</td>\n",
       "      <td>32.0</td>\n",
       "      <td>2.0</td>\n",
       "      <td>2.0</td>\n",
       "      <td>48000.0</td>\n",
       "    </tr>\n",
       "    <tr>\n",
       "      <th>1010</th>\n",
       "      <td>10</td>\n",
       "      <td>6</td>\n",
       "      <td>2016</td>\n",
       "      <td>1</td>\n",
       "      <td>23</td>\n",
       "      <td>99</td>\n",
       "      <td>0</td>\n",
       "      <td>3</td>\n",
       "      <td>-34.599574</td>\n",
       "      <td>-58.378334</td>\n",
       "      <td>43.0</td>\n",
       "      <td>43.0</td>\n",
       "      <td>10.0</td>\n",
       "      <td>3.0</td>\n",
       "      <td>129000.0</td>\n",
       "    </tr>\n",
       "    <tr>\n",
       "      <th>1018</th>\n",
       "      <td>10</td>\n",
       "      <td>6</td>\n",
       "      <td>2016</td>\n",
       "      <td>1</td>\n",
       "      <td>68</td>\n",
       "      <td>53</td>\n",
       "      <td>0</td>\n",
       "      <td>1</td>\n",
       "      <td>-34.651616</td>\n",
       "      <td>-58.623603</td>\n",
       "      <td>29.0</td>\n",
       "      <td>27.0</td>\n",
       "      <td>7.0</td>\n",
       "      <td>1.0</td>\n",
       "      <td>58000.0</td>\n",
       "    </tr>\n",
       "    <tr>\n",
       "      <th>1020</th>\n",
       "      <td>10</td>\n",
       "      <td>6</td>\n",
       "      <td>2016</td>\n",
       "      <td>1</td>\n",
       "      <td>90</td>\n",
       "      <td>42</td>\n",
       "      <td>0</td>\n",
       "      <td>1</td>\n",
       "      <td>-34.513637</td>\n",
       "      <td>-58.496707</td>\n",
       "      <td>30.0</td>\n",
       "      <td>30.0</td>\n",
       "      <td>2.0</td>\n",
       "      <td>2.0</td>\n",
       "      <td>55000.0</td>\n",
       "    </tr>\n",
       "  </tbody>\n",
       "</table>\n",
       "</div>"
      ],
      "text/plain": [
       "      created_on_day  created_on_month  created_on_year  property_type  \\\n",
       "385                2                 6             2016              1   \n",
       "890                9                 6             2016              1   \n",
       "1010              10                 6             2016              1   \n",
       "1018              10                 6             2016              1   \n",
       "1020              10                 6             2016              1   \n",
       "\n",
       "      place_name  place_with_parent_names  country_name  state_name  \\\n",
       "385           94                      128             0           3   \n",
       "890           67                       48             0           1   \n",
       "1010          23                       99             0           3   \n",
       "1018          68                       53             0           1   \n",
       "1020          90                       42             0           1   \n",
       "\n",
       "            lat        lon  surface_total_in_m2  surface_covered_in_m2  floor  \\\n",
       "385  -34.544033 -58.472911                 74.0                   74.0    2.0   \n",
       "890  -34.648915 -58.796383                 32.0                   32.0    2.0   \n",
       "1010 -34.599574 -58.378334                 43.0                   43.0   10.0   \n",
       "1018 -34.651616 -58.623603                 29.0                   27.0    7.0   \n",
       "1020 -34.513637 -58.496707                 30.0                   30.0    2.0   \n",
       "\n",
       "      rooms     price  \n",
       "385     3.0  135000.0  \n",
       "890     2.0   48000.0  \n",
       "1010    3.0  129000.0  \n",
       "1018    1.0   58000.0  \n",
       "1020    2.0   55000.0  "
      ]
     },
     "execution_count": 31,
     "metadata": {},
     "output_type": "execute_result"
    }
   ],
   "source": [
    "from sklearn.preprocessing import LabelEncoder\n",
    "\n",
    "properties_caba_with_price_attributes.fillna('NaN', inplace=True)\n",
    "# atributos categoricos\n",
    "encoder = LabelEncoder()\n",
    "\n",
    "properties_caba_with_price_attributes['property_type'] = encoder.fit_transform(properties_caba_with_price_attributes[['property_type']])\n",
    "#properties_caba_with_price_attributes['operation'] = encoder.fit_transform(properties_caba_with_price_attributes[['operation']])\n",
    "properties_caba_with_price_attributes['place_name'] = encoder.fit_transform(properties_caba_with_price_attributes[['place_name']])\n",
    "properties_caba_with_price_attributes['place_with_parent_names'] = encoder.fit_transform(properties_caba_with_price_attributes[['place_with_parent_names']])\n",
    "properties_caba_with_price_attributes['country_name'] = encoder.fit_transform(properties_caba_with_price_attributes[['country_name']])\n",
    "properties_caba_with_price_attributes['state_name'] = encoder.fit_transform(properties_caba_with_price_attributes[['state_name']])\n",
    "\n",
    "# completamos valores nan\n",
    "from sklearn.preprocessing import Imputer\n",
    "imputer_mean = Imputer(missing_values='NaN', strategy='mean', axis=0)\n",
    "properties_caba_with_price_attributes['floor'] = properties_caba_with_price_attributes[['floor']].fillna(1)\n",
    "properties_caba_with_price_attributes['rooms'] = properties_caba_with_price_attributes[['rooms']].fillna(1)\n",
    "\n",
    "properties_caba_with_price_attributes[\"lat\"] = imputer_mean.fit_transform(properties_caba_with_price_attributes[[\"lat\"]])\n",
    "properties_caba_with_price_attributes[\"lon\"] = imputer_mean.fit_transform(properties_caba_with_price_attributes[[\"lon\"]])\n",
    "\n",
    "properties_caba_with_price_attributes.head()"
   ]
  },
  {
   "cell_type": "code",
   "execution_count": 32,
   "metadata": {
    "collapsed": false
   },
   "outputs": [
    {
     "name": "stdout",
     "output_type": "stream",
     "text": [
      "Index(['created_on_day', 'created_on_month', 'created_on_year',\n",
      "       'property_type', 'place_name', 'place_with_parent_names',\n",
      "       'country_name', 'state_name', 'lat', 'lon', 'surface_total_in_m2',\n",
      "       'surface_covered_in_m2', 'floor', 'rooms'],\n",
      "      dtype='object')\n"
     ]
    },
    {
     "data": {
      "text/plain": [
       "(2306, 9220)"
      ]
     },
     "execution_count": 32,
     "metadata": {},
     "output_type": "execute_result"
    }
   ],
   "source": [
    "# separamos el train de traing para validarlo luego usando un 20% de los datos\n",
    "from sklearn.model_selection import train_test_split\n",
    "import datetime\n",
    "\n",
    "now = datetime.datetime.now()\n",
    "\n",
    "columns = properties_caba_with_price_attributes.iloc[:, properties_caba_with_price_attributes.columns != 'price'].columns\n",
    "print(columns)\n",
    "\n",
    "X, y = properties_caba_with_price_attributes.iloc[:, properties_caba_with_price_attributes.columns != 'price'].values, properties_caba_with_price_attributes.iloc[:, properties_caba_with_price_attributes.columns == 'price'].values\n",
    "X_train, X_test, y_train, y_test = \\\n",
    "        train_test_split(X, y, test_size=0.2, random_state=50)\n",
    "    \n",
    "len(X_test), len(X_train)"
   ]
  },
  {
   "cell_type": "code",
   "execution_count": 33,
   "metadata": {
    "collapsed": false
   },
   "outputs": [],
   "source": [
    "# a cada dato le restamos la media y lo dividimos por su desviacion standard\n",
    "from sklearn.preprocessing import StandardScaler\n",
    "stdsc = StandardScaler()\n",
    "\n",
    "X_train_std = stdsc.fit_transform(X_train)\n",
    "X_test_std = stdsc.transform(X_test)\n",
    "\n",
    "X_std = stdsc.transform(X)"
   ]
  },
  {
   "cell_type": "markdown",
   "metadata": {},
   "source": [
    "## Algoritmo 1: KNN"
   ]
  },
  {
   "cell_type": "code",
   "execution_count": 34,
   "metadata": {
    "collapsed": false
   },
   "outputs": [],
   "source": [
    "from sklearn.neighbors import KNeighborsRegressor\n",
    "# busqueda de hiper-parametros\n",
    "k_scores = []\n",
    "k_list = []\n",
    "p_list = []\n",
    "labels = []\n",
    "\n",
    "best_score = 0\n",
    "best_k = 0\n",
    "best_p = 0\n",
    "\n",
    "for i in range(5,14):\n",
    "    for p in range(2,100,4):\n",
    "        knn = KNeighborsRegressor(n_neighbors=i, weights='distance', p=p)\n",
    "        knn.fit(X_train_std, y_train)\n",
    "\n",
    "        p_list.append(p)\n",
    "        k_list.append(i)\n",
    "        \n",
    "        sc = knn.score(X_test_std, y_test)\n",
    "        \n",
    "        labels.append(str(round(sc,3)))\n",
    "        k_scores.append(sc)\n",
    "        \n",
    "        if(sc > best_score):\n",
    "            best_score = sc\n",
    "            best_k = i\n",
    "            best_p = p\n",
    "\n",
    "mu = np.mean(k_scores)\n",
    "v = np.var(k_scores)\n",
    "\n",
    "k_scores = list(map(lambda x: ((x-mu)/v)*50, k_scores))"
   ]
  },
  {
   "cell_type": "code",
   "execution_count": 35,
   "metadata": {
    "collapsed": false
   },
   "outputs": [
    {
     "name": "stdout",
     "output_type": "stream",
     "text": [
      "5 2\n"
     ]
    },
    {
     "data": {
      "image/png": "[encoded data removed]",
      "text/plain": [
       "<matplotlib.figure.Figure at 0x7fd35e362048>"
      ]
     },
     "metadata": {},
     "output_type": "display_data"
    }
   ],
   "source": [
    "# graficamos\n",
    "fig, ax = plt.subplots()\n",
    "ax.scatter(k_list, p_list, s=k_scores, alpha=0.5)\n",
    "\n",
    "title = \"K vs Distancia - best k=%s, best p=%s, score=%s\"%(best_k, best_p, best_score)\n",
    "plt.title(title)\n",
    "ylabel('Distance')\n",
    "xlabel('k values')\n",
    "\n",
    "for i, label in enumerate(labels):\n",
    "    ax.annotate(label, (k_list[i],p_list[i]))\n",
    "\n",
    "ax.grid(linestyle='-', linewidth='0.5', color='red')\n",
    "\n",
    "#plt.savefig('/home/jovyan/work/TP/TP2/img/best_k=%s-best_p=%s-score=%s.png'%(best_k, best_p, best_score));\n",
    "\n",
    "print(best_k, best_p)"
   ]
  },
  {
   "cell_type": "code",
   "execution_count": 36,
   "metadata": {
    "collapsed": false
   },
   "outputs": [
    {
     "name": "stdout",
     "output_type": "stream",
     "text": [
      "RMSE:  204008.07670284002\n"
     ]
    }
   ],
   "source": [
    "from sklearn.metrics import mean_squared_error\n",
    "from math import sqrt\n",
    "\n",
    "model = KNeighborsRegressor(n_neighbors=best_k, weights='distance', p=best_p)\n",
    "model.fit(X_train_std, y_train)\n",
    "\n",
    "print(\"RMSE: \", sqrt(mean_squared_error(model.predict(X_test_std),y_test)))"
   ]
  },
  {
   "cell_type": "code",
   "execution_count": 37,
   "metadata": {
    "collapsed": false
   },
   "outputs": [
    {
     "data": {
      "text/plain": [
       "KNeighborsRegressor(algorithm='auto', leaf_size=30, metric='minkowski',\n",
       "          metric_params=None, n_jobs=1, n_neighbors=5, p=2,\n",
       "          weights='distance')"
      ]
     },
     "execution_count": 37,
     "metadata": {},
     "output_type": "execute_result"
    }
   ],
   "source": [
    "# entrenamos el modelo\n",
    "model_knn = KNeighborsRegressor(n_neighbors=best_k, weights='distance', p=best_p)\n",
    "model_knn.fit(X_test_std, y_test)"
   ]
  },
  {
   "cell_type": "markdown",
   "metadata": {},
   "source": [
    "## Algoritmo II: Random Forest"
   ]
  },
  {
   "cell_type": "markdown",
   "metadata": {},
   "source": [
    "### RF con datos no-normalizados"
   ]
  },
  {
   "cell_type": "code",
   "execution_count": null,
   "metadata": {
    "collapsed": false
   },
   "outputs": [
    {
     "name": "stderr",
     "output_type": "stream",
     "text": [
      "/opt/conda/lib/python3.5/site-packages/sklearn/cross_validation.py:41: DeprecationWarning: This module was deprecated in version 0.18 in favor of the model_selection module into which all the refactored classes and functions are moved. Also note that the interface of the new CV iterators are different from that of this module. This module will be removed in 0.20.\n",
      "  \"This module will be removed in 0.20.\", DeprecationWarning)\n",
      "/opt/conda/lib/python3.5/site-packages/sklearn/grid_search.py:42: DeprecationWarning: This module was deprecated in version 0.18 in favor of the model_selection module into which all the refactored classes and functions are moved. This module will be removed in 0.20.\n",
      "  DeprecationWarning)\n"
     ]
    },
    {
     "data": {
      "text/plain": [
       "([mean: -33541212554.38330, std: 16248307702.43759, params: {'max_depth': 10, 'min_samples_split': 5, 'min_samples_leaf': 5},\n",
       "  mean: -33488184306.26409, std: 16301187654.12930, params: {'max_depth': 10, 'min_samples_split': 10, 'min_samples_leaf': 5},\n",
       "  mean: -35035329484.53563, std: 16401177089.94158, params: {'max_depth': 10, 'min_samples_split': 15, 'min_samples_leaf': 5},\n",
       "  mean: -37422541072.42477, std: 16244407394.48372, params: {'max_depth': 10, 'min_samples_split': 5, 'min_samples_leaf': 10},\n",
       "  mean: -37474200433.41467, std: 16588006068.28053, params: {'max_depth': 10, 'min_samples_split': 10, 'min_samples_leaf': 10},\n",
       "  mean: -37569916315.01438, std: 16410243779.76884, params: {'max_depth': 10, 'min_samples_split': 15, 'min_samples_leaf': 10},\n",
       "  mean: -41397958145.92339, std: 16871433160.83206, params: {'max_depth': 10, 'min_samples_split': 5, 'min_samples_leaf': 15},\n",
       "  mean: -41599834030.63509, std: 16619895273.71703, params: {'max_depth': 10, 'min_samples_split': 10, 'min_samples_leaf': 15},\n",
       "  mean: -41291743983.02738, std: 16678333774.20545, params: {'max_depth': 10, 'min_samples_split': 15, 'min_samples_leaf': 15},\n",
       "  mean: -30257898663.31315, std: 15501403891.56755, params: {'max_depth': 30, 'min_samples_split': 5, 'min_samples_leaf': 5},\n",
       "  mean: -30145700717.98004, std: 15507972433.82595, params: {'max_depth': 30, 'min_samples_split': 10, 'min_samples_leaf': 5},\n",
       "  mean: -31755941927.13558, std: 15922699742.61711, params: {'max_depth': 30, 'min_samples_split': 15, 'min_samples_leaf': 5},\n",
       "  mean: -35468720320.53186, std: 16024481724.09109, params: {'max_depth': 30, 'min_samples_split': 5, 'min_samples_leaf': 10},\n",
       "  mean: -35584861418.80762, std: 15953801371.84860, params: {'max_depth': 30, 'min_samples_split': 10, 'min_samples_leaf': 10},\n",
       "  mean: -35625610593.44247, std: 16021152420.74571, params: {'max_depth': 30, 'min_samples_split': 15, 'min_samples_leaf': 10},\n",
       "  mean: -40025713472.75269, std: 16480109661.94226, params: {'max_depth': 30, 'min_samples_split': 5, 'min_samples_leaf': 15},\n",
       "  mean: -40229470386.51987, std: 16512468032.84287, params: {'max_depth': 30, 'min_samples_split': 10, 'min_samples_leaf': 15},\n",
       "  mean: -40371584891.48727, std: 16419000450.75356, params: {'max_depth': 30, 'min_samples_split': 15, 'min_samples_leaf': 15},\n",
       "  mean: -30069556231.17183, std: 15508239874.00057, params: {'max_depth': 50, 'min_samples_split': 5, 'min_samples_leaf': 5},\n",
       "  mean: -30278312014.64882, std: 15780076274.51230, params: {'max_depth': 50, 'min_samples_split': 10, 'min_samples_leaf': 5},\n",
       "  mean: -31968533322.63085, std: 15955192997.97145, params: {'max_depth': 50, 'min_samples_split': 15, 'min_samples_leaf': 5},\n",
       "  mean: -35895417060.10724, std: 16130306488.58113, params: {'max_depth': 50, 'min_samples_split': 5, 'min_samples_leaf': 10},\n",
       "  mean: -35327657919.84422, std: 15786603521.91993, params: {'max_depth': 50, 'min_samples_split': 10, 'min_samples_leaf': 10},\n",
       "  mean: -35533213787.87624, std: 16220610020.47528, params: {'max_depth': 50, 'min_samples_split': 15, 'min_samples_leaf': 10},\n",
       "  mean: -40020033510.52419, std: 16439846159.06429, params: {'max_depth': 50, 'min_samples_split': 5, 'min_samples_leaf': 15},\n",
       "  mean: -39977077153.79015, std: 16351359717.18593, params: {'max_depth': 50, 'min_samples_split': 10, 'min_samples_leaf': 15},\n",
       "  mean: -39975767772.83639, std: 16352760578.26874, params: {'max_depth': 50, 'min_samples_split': 15, 'min_samples_leaf': 15},\n",
       "  mean: -30316892790.35273, std: 15550292014.32132, params: {'max_depth': 70, 'min_samples_split': 5, 'min_samples_leaf': 5},\n",
       "  mean: -29904904058.70238, std: 15550266368.42855, params: {'max_depth': 70, 'min_samples_split': 10, 'min_samples_leaf': 5},\n",
       "  mean: -32092164674.40605, std: 15911138632.80308, params: {'max_depth': 70, 'min_samples_split': 15, 'min_samples_leaf': 5},\n",
       "  mean: -35714601654.17624, std: 15792428431.33696, params: {'max_depth': 70, 'min_samples_split': 5, 'min_samples_leaf': 10},\n",
       "  mean: -35700215305.30027, std: 15762864052.73283, params: {'max_depth': 70, 'min_samples_split': 10, 'min_samples_leaf': 10},\n",
       "  mean: -35477637259.46882, std: 16005793738.69608, params: {'max_depth': 70, 'min_samples_split': 15, 'min_samples_leaf': 10},\n",
       "  mean: -39924348488.01460, std: 16594189588.13924, params: {'max_depth': 70, 'min_samples_split': 5, 'min_samples_leaf': 15},\n",
       "  mean: -39936129353.21471, std: 16291026156.22264, params: {'max_depth': 70, 'min_samples_split': 10, 'min_samples_leaf': 15},\n",
       "  mean: -39973729386.30959, std: 16450062896.17014, params: {'max_depth': 70, 'min_samples_split': 15, 'min_samples_leaf': 15},\n",
       "  mean: -30211209204.70092, std: 15426487168.76905, params: {'max_depth': 90, 'min_samples_split': 5, 'min_samples_leaf': 5},\n",
       "  mean: -30172427774.17479, std: 15782084882.98004, params: {'max_depth': 90, 'min_samples_split': 10, 'min_samples_leaf': 5},\n",
       "  mean: -32325426478.88371, std: 15822286999.97831, params: {'max_depth': 90, 'min_samples_split': 15, 'min_samples_leaf': 5},\n",
       "  mean: -35414924120.90294, std: 15844197495.02125, params: {'max_depth': 90, 'min_samples_split': 5, 'min_samples_leaf': 10},\n",
       "  mean: -35543640410.23781, std: 15875256635.08933, params: {'max_depth': 90, 'min_samples_split': 10, 'min_samples_leaf': 10},\n",
       "  mean: -35574861490.67491, std: 15825717493.73912, params: {'max_depth': 90, 'min_samples_split': 15, 'min_samples_leaf': 10},\n",
       "  mean: -40048200095.83548, std: 16353911982.89650, params: {'max_depth': 90, 'min_samples_split': 5, 'min_samples_leaf': 15},\n",
       "  mean: -40110477308.23975, std: 16605414606.64014, params: {'max_depth': 90, 'min_samples_split': 10, 'min_samples_leaf': 15},\n",
       "  mean: -39792025699.17049, std: 16655224536.23762, params: {'max_depth': 90, 'min_samples_split': 15, 'min_samples_leaf': 15},\n",
       "  mean: -30401320284.18830, std: 15673465648.26692, params: {'max_depth': 100, 'min_samples_split': 5, 'min_samples_leaf': 5},\n",
       "  mean: -30278657465.33077, std: 15516158245.00488, params: {'max_depth': 100, 'min_samples_split': 10, 'min_samples_leaf': 5},\n",
       "  mean: -31875738352.86056, std: 15578417318.18570, params: {'max_depth': 100, 'min_samples_split': 15, 'min_samples_leaf': 5},\n",
       "  mean: -35620721109.89200, std: 15994559358.19753, params: {'max_depth': 100, 'min_samples_split': 5, 'min_samples_leaf': 10},\n",
       "  mean: -35529695645.02100, std: 16101308416.22654, params: {'max_depth': 100, 'min_samples_split': 10, 'min_samples_leaf': 10},\n",
       "  mean: -35557798031.26579, std: 15971359662.40892, params: {'max_depth': 100, 'min_samples_split': 15, 'min_samples_leaf': 10},\n",
       "  mean: -39772151023.15206, std: 16403604195.19675, params: {'max_depth': 100, 'min_samples_split': 5, 'min_samples_leaf': 15},\n",
       "  mean: -40268290725.36082, std: 16496042450.33831, params: {'max_depth': 100, 'min_samples_split': 10, 'min_samples_leaf': 15},\n",
       "  mean: -39967581065.13603, std: 16466973005.62872, params: {'max_depth': 100, 'min_samples_split': 15, 'min_samples_leaf': 15}],\n",
       " {'max_depth': 70, 'min_samples_leaf': 5, 'min_samples_split': 10},\n",
       " -29904904058.70238)"
      ]
     },
     "execution_count": 38,
     "metadata": {},
     "output_type": "execute_result"
    }
   ],
   "source": [
    "# crossvalidation: max_depth, min_samples_*\n",
    "from sklearn.grid_search import GridSearchCV\n",
    "from sklearn.ensemble import RandomForestRegressor\n",
    "\n",
    "hyperparameters = { 'max_depth': [10,30,50,70,90,100],\n",
    "                    'min_samples_leaf': [5,10,15],\n",
    "                    'min_samples_split': [5,10,15]}\n",
    "\n",
    "model = RandomForestRegressor(n_estimators=100, max_features='auto')\n",
    "clf = GridSearchCV(estimator=model, param_grid=hyperparameters , iid=False, cv=10, scoring='neg_mean_squared_error')\n",
    "\n",
    "# Fit and tune model\n",
    "clf.fit(X_train, y_train.ravel())\n",
    "\n",
    "clf.grid_scores_, clf.best_params_, clf.best_score_"
   ]
  },
  {
   "cell_type": "code",
   "execution_count": null,
   "metadata": {
    "collapsed": false
   },
   "outputs": [],
   "source": [
    "# crossvalidation: n_estimators\n",
    "hyperparameters = { 'n_estimators': [100,200,300,400,500,600,700,800,900,1000]}\n",
    "\n",
    "model = RandomForestRegressor(n_estimators=100, max_features='auto', max_depth=50, min_samples_leaf=5, min_samples_split=5)\n",
    "clf = GridSearchCV(estimator=model, param_grid=hyperparameters , iid=False, cv=10, scoring='neg_mean_squared_error')\n",
    "\n",
    "# Fit and tune model\n",
    "clf.fit(X_train, y_train.ravel())\n",
    "\n",
    "clf.grid_scores_, clf.best_params_, clf.best_score_"
   ]
  },
  {
   "cell_type": "code",
   "execution_count": null,
   "metadata": {
    "collapsed": false
   },
   "outputs": [],
   "source": [
    "from sklearn.metrics import mean_squared_error\n",
    "from math import sqrt\n",
    "\n",
    "print(\"RMSE: \", sqrt(mean_squared_error(clf.predict(X_test),y_test)))"
   ]
  },
  {
   "cell_type": "code",
   "execution_count": null,
   "metadata": {
    "collapsed": false
   },
   "outputs": [],
   "source": [
    "# entrenamos el modelo\n",
    "model_rf1 = RandomForestRegressor(n_estimators=300, max_features='auto', max_depth=50, min_samples_leaf=5, min_samples_split=5)\n",
    "model_rf1.fit(X, y)"
   ]
  },
  {
   "cell_type": "markdown",
   "metadata": {},
   "source": [
    "### RF con datos normalizados"
   ]
  },
  {
   "cell_type": "code",
   "execution_count": null,
   "metadata": {
    "collapsed": false
   },
   "outputs": [],
   "source": [
    "# crossvalidation: max_depth, min_samples_*\n",
    "from sklearn.grid_search import GridSearchCV\n",
    "from sklearn.ensemble import RandomForestRegressor\n",
    "\n",
    "hyperparameters = { 'max_depth': [10,30,50,70,90,100],\n",
    "                    'min_samples_leaf': [5,10,15],\n",
    "                    'min_samples_split': [5,10,15]}\n",
    "\n",
    "model = RandomForestRegressor(n_estimators=100, max_features='auto')\n",
    "clf = GridSearchCV(estimator=model, param_grid=hyperparameters , iid=False, cv=10, scoring='neg_mean_squared_error')\n",
    "\n",
    "# Fit and tune model\n",
    "clf.fit(X_train_std, y_train.ravel())\n",
    "\n",
    "clf.grid_scores_, clf.best_params_, clf.best_score_"
   ]
  },
  {
   "cell_type": "code",
   "execution_count": null,
   "metadata": {
    "collapsed": false
   },
   "outputs": [],
   "source": [
    "# crossvalidation: n_estimators\n",
    "hyperparameters = { 'n_estimators': [100,200,300,400,500,600,700,800,900,1000]}\n",
    "\n",
    "model = RandomForestRegressor(n_estimators=100, max_features='auto', max_depth=100, min_samples_leaf=5, min_samples_split=5)\n",
    "clf = GridSearchCV(estimator=model, param_grid=hyperparameters , iid=False, cv=10, scoring='neg_mean_squared_error')\n",
    "\n",
    "# Fit and tune model\n",
    "clf.fit(X_train_std, y_train.ravel())\n",
    "\n",
    "clf.grid_scores_, clf.best_params_, clf.best_score_"
   ]
  },
  {
   "cell_type": "code",
   "execution_count": null,
   "metadata": {
    "collapsed": false
   },
   "outputs": [],
   "source": [
    "from sklearn.metrics import mean_squared_error\n",
    "from math import sqrt\n",
    "\n",
    "print(\"RMSE: \", sqrt(mean_squared_error(clf.predict(X_test_std),y_test)))"
   ]
  },
  {
   "cell_type": "code",
   "execution_count": null,
   "metadata": {
    "collapsed": false
   },
   "outputs": [],
   "source": [
    "# entrenamos el modelo\n",
    "model_rf2 = RandomForestRegressor(n_estimators=500, max_features='auto', max_depth=100, min_samples_leaf=5, min_samples_split=5)\n",
    "model_rf2.fit(X_std, y)"
   ]
  },
  {
   "cell_type": "markdown",
   "metadata": {},
   "source": [
    "## ENSAMBLE"
   ]
  },
  {
   "cell_type": "markdown",
   "metadata": {},
   "source": [
    "### Levantar set de test"
   ]
  },
  {
   "cell_type": "code",
   "execution_count": 105,
   "metadata": {
    "collapsed": false
   },
   "outputs": [
    {
     "name": "stderr",
     "output_type": "stream",
     "text": [
      "/opt/conda/lib/python3.5/site-packages/sklearn/preprocessing/label.py:111: DataConversionWarning: A column-vector y was passed when a 1d array was expected. Please change the shape of y to (n_samples, ), for example using ravel().\n",
      "  y = column_or_1d(y, warn=True)\n",
      "/opt/conda/lib/python3.5/site-packages/ipykernel/__main__.py:21: SettingWithCopyWarning: \n",
      "A value is trying to be set on a copy of a slice from a DataFrame.\n",
      "Try using .loc[row_indexer,col_indexer] = value instead\n",
      "\n",
      "See the caveats in the documentation: http://pandas.pydata.org/pandas-docs/stable/indexing.html#indexing-view-versus-copy\n"
     ]
    },
    {
     "name": "stdout",
     "output_type": "stream",
     "text": [
      "50.0       264\n",
      "45.0       259\n",
      "42.0       221\n",
      "40.0       217\n",
      "60.0       201\n",
      "51.0       177\n",
      "70.0       174\n",
      "47.0       173\n",
      "39.0       170\n",
      "80.0       169\n",
      "48.0       168\n",
      "35.0       164\n",
      "36.0       163\n",
      "44.0       160\n",
      "43.0       156\n",
      "38.0       153\n",
      "37.0       152\n",
      "300.0      151\n",
      "100.0      150\n",
      "55.0       145\n",
      "53.0       133\n",
      "34.0       130\n",
      "52.0       130\n",
      "46.0       128\n",
      "200.0      125\n",
      "65.0       125\n",
      "64.0       124\n",
      "33.0       121\n",
      "56.0       115\n",
      "32.0       113\n",
      "          ... \n",
      "362.0        1\n",
      "625.0        1\n",
      "522.0        1\n",
      "614.0        1\n",
      "527.0        1\n",
      "369.0        1\n",
      "533.0        1\n",
      "535.0        1\n",
      "536.0        1\n",
      "538.0        1\n",
      "544.0        1\n",
      "545.0        1\n",
      "549.0        1\n",
      "551.0        1\n",
      "552.0        1\n",
      "553.0        1\n",
      "560.0        1\n",
      "342.0        1\n",
      "564.0        1\n",
      "565.0        1\n",
      "570.0        1\n",
      "572.0        1\n",
      "575.0        1\n",
      "576.0        1\n",
      "590.0        1\n",
      "591.0        1\n",
      "592.0        1\n",
      "610.0        1\n",
      "613.0        1\n",
      "16350.0      1\n",
      "Name: surface_total_in_m2, dtype: int64\n"
     ]
    },
    {
     "name": "stderr",
     "output_type": "stream",
     "text": [
      "/opt/conda/lib/python3.5/site-packages/ipykernel/__main__.py:22: SettingWithCopyWarning: \n",
      "A value is trying to be set on a copy of a slice from a DataFrame.\n",
      "Try using .loc[row_indexer,col_indexer] = value instead\n",
      "\n",
      "See the caveats in the documentation: http://pandas.pydata.org/pandas-docs/stable/indexing.html#indexing-view-versus-copy\n",
      "/opt/conda/lib/python3.5/site-packages/ipykernel/__main__.py:24: SettingWithCopyWarning: \n",
      "A value is trying to be set on a copy of a slice from a DataFrame.\n",
      "Try using .loc[row_indexer,col_indexer] = value instead\n",
      "\n",
      "See the caveats in the documentation: http://pandas.pydata.org/pandas-docs/stable/indexing.html#indexing-view-versus-copy\n",
      "/opt/conda/lib/python3.5/site-packages/ipykernel/__main__.py:25: SettingWithCopyWarning: \n",
      "A value is trying to be set on a copy of a slice from a DataFrame.\n",
      "Try using .loc[row_indexer,col_indexer] = value instead\n",
      "\n",
      "See the caveats in the documentation: http://pandas.pydata.org/pandas-docs/stable/indexing.html#indexing-view-versus-copy\n",
      "/opt/conda/lib/python3.5/site-packages/ipykernel/__main__.py:26: SettingWithCopyWarning: \n",
      "A value is trying to be set on a copy of a slice from a DataFrame.\n",
      "Try using .loc[row_indexer,col_indexer] = value instead\n",
      "\n",
      "See the caveats in the documentation: http://pandas.pydata.org/pandas-docs/stable/indexing.html#indexing-view-versus-copy\n",
      "/opt/conda/lib/python3.5/site-packages/ipykernel/__main__.py:27: SettingWithCopyWarning: \n",
      "A value is trying to be set on a copy of a slice from a DataFrame.\n",
      "Try using .loc[row_indexer,col_indexer] = value instead\n",
      "\n",
      "See the caveats in the documentation: http://pandas.pydata.org/pandas-docs/stable/indexing.html#indexing-view-versus-copy\n"
     ]
    },
    {
     "data": {
      "text/html": [
       "<div>\n",
       "<table border=\"1\" class=\"dataframe\">\n",
       "  <thead>\n",
       "    <tr style=\"text-align: right;\">\n",
       "      <th></th>\n",
       "      <th>floor</th>\n",
       "      <th>lat</th>\n",
       "      <th>lon</th>\n",
       "      <th>place_name</th>\n",
       "      <th>place_with_parent_names</th>\n",
       "      <th>property_type</th>\n",
       "      <th>rooms</th>\n",
       "      <th>state_name</th>\n",
       "      <th>surface_covered_in_m2</th>\n",
       "      <th>surface_total_in_m2</th>\n",
       "      <th>created_on_year</th>\n",
       "      <th>created_on_month</th>\n",
       "      <th>created_on_day</th>\n",
       "    </tr>\n",
       "  </thead>\n",
       "  <tbody>\n",
       "    <tr>\n",
       "      <th>0</th>\n",
       "      <td>1.0</td>\n",
       "      <td>-34.610988</td>\n",
       "      <td>-58.363464</td>\n",
       "      <td>152</td>\n",
       "      <td>219</td>\n",
       "      <td>1</td>\n",
       "      <td>1.0</td>\n",
       "      <td>4</td>\n",
       "      <td>359.471588</td>\n",
       "      <td>0.0</td>\n",
       "      <td>2017</td>\n",
       "      <td>8</td>\n",
       "      <td>24</td>\n",
       "    </tr>\n",
       "    <tr>\n",
       "      <th>1</th>\n",
       "      <td>1.0</td>\n",
       "      <td>-34.629923</td>\n",
       "      <td>-58.465820</td>\n",
       "      <td>29</td>\n",
       "      <td>180</td>\n",
       "      <td>1</td>\n",
       "      <td>1.0</td>\n",
       "      <td>3</td>\n",
       "      <td>359.471588</td>\n",
       "      <td>0.0</td>\n",
       "      <td>2017</td>\n",
       "      <td>8</td>\n",
       "      <td>25</td>\n",
       "    </tr>\n",
       "    <tr>\n",
       "      <th>2</th>\n",
       "      <td>1.0</td>\n",
       "      <td>-34.589363</td>\n",
       "      <td>-58.412880</td>\n",
       "      <td>136</td>\n",
       "      <td>210</td>\n",
       "      <td>1</td>\n",
       "      <td>1.0</td>\n",
       "      <td>4</td>\n",
       "      <td>48.000000</td>\n",
       "      <td>53.0</td>\n",
       "      <td>2017</td>\n",
       "      <td>8</td>\n",
       "      <td>1</td>\n",
       "    </tr>\n",
       "    <tr>\n",
       "      <th>3</th>\n",
       "      <td>1.0</td>\n",
       "      <td>-34.629923</td>\n",
       "      <td>-58.465820</td>\n",
       "      <td>40</td>\n",
       "      <td>193</td>\n",
       "      <td>1</td>\n",
       "      <td>1.0</td>\n",
       "      <td>4</td>\n",
       "      <td>39.000000</td>\n",
       "      <td>39.0</td>\n",
       "      <td>2017</td>\n",
       "      <td>8</td>\n",
       "      <td>1</td>\n",
       "    </tr>\n",
       "    <tr>\n",
       "      <th>4</th>\n",
       "      <td>1.0</td>\n",
       "      <td>-34.629923</td>\n",
       "      <td>-58.465820</td>\n",
       "      <td>40</td>\n",
       "      <td>193</td>\n",
       "      <td>1</td>\n",
       "      <td>1.0</td>\n",
       "      <td>4</td>\n",
       "      <td>51.000000</td>\n",
       "      <td>51.0</td>\n",
       "      <td>2017</td>\n",
       "      <td>8</td>\n",
       "      <td>1</td>\n",
       "    </tr>\n",
       "  </tbody>\n",
       "</table>\n",
       "</div>"
      ],
      "text/plain": [
       "   floor        lat        lon  place_name  place_with_parent_names  \\\n",
       "0    1.0 -34.610988 -58.363464         152                      219   \n",
       "1    1.0 -34.629923 -58.465820          29                      180   \n",
       "2    1.0 -34.589363 -58.412880         136                      210   \n",
       "3    1.0 -34.629923 -58.465820          40                      193   \n",
       "4    1.0 -34.629923 -58.465820          40                      193   \n",
       "\n",
       "   property_type  rooms  state_name  surface_covered_in_m2  \\\n",
       "0              1    1.0           4             359.471588   \n",
       "1              1    1.0           3             359.471588   \n",
       "2              1    1.0           4              48.000000   \n",
       "3              1    1.0           4              39.000000   \n",
       "4              1    1.0           4              51.000000   \n",
       "\n",
       "   surface_total_in_m2  created_on_year  created_on_month  created_on_day  \n",
       "0                  0.0             2017                 8              24  \n",
       "1                  0.0             2017                 8              25  \n",
       "2                 53.0             2017                 8               1  \n",
       "3                 39.0             2017                 8               1  \n",
       "4                 51.0             2017                 8               1  "
      ]
     },
     "execution_count": 105,
     "metadata": {},
     "output_type": "execute_result"
    }
   ],
   "source": [
    "# leemos set de test\n",
    "test_df = pd.read_csv('../data/test/properati_dataset_testing_noprice.csv', low_memory=False)\n",
    "test_df.head()\n",
    "\n",
    "# transformamos atributos categoricos\n",
    "test_df['place_name'] = encoder.fit_transform(test_df[['place_name']])\n",
    "test_df['state_name'] = encoder.fit_transform(test_df[['state_name']])\n",
    "test_df['place_with_parent_names'] = encoder.fit_transform(test_df[['place_with_parent_names']])\n",
    "test_df['property_type'] = encoder.fit_transform(test_df[['property_type']])\n",
    "\n",
    "# tranformamos fechas\n",
    "X_test_df = knnlibrary.transform_date(test_df)\n",
    "X_test_df = X_test_df[['floor', 'lat', 'lon', 'place_name', 'place_with_parent_names',\n",
    "       'property_type', 'rooms', 'state_name', 'surface_covered_in_m2',\n",
    "       'surface_total_in_m2', 'created_on_year', 'created_on_month',\n",
    "       'created_on_day']]\n",
    "\n",
    "# completamos valores nan\n",
    "from sklearn.preprocessing import Imputer\n",
    "imputer_mean = Imputer(missing_values='NaN', strategy='mean', axis=0)\n",
    "X_test_df['floor'] = X_test_df[['floor']].fillna(1)\n",
    "X_test_df['rooms'] = X_test_df[['rooms']].fillna(1)\n",
    "\n",
    "X_test_df[\"surface_total_in_m2\"] = imputer_mean.fit_transform(X_test_df[[\"surface_total_in_m2\"]])\n",
    "X_test_df[\"surface_covered_in_m2\"] = imputer_mean.fit_transform(X_test_df[[\"surface_covered_in_m2\"]])\n",
    "X_test_df[\"lat\"] = imputer_mean.fit_transform(X_test_df[[\"lat\"]])\n",
    "X_test_df[\"lon\"] = imputer_mean.fit_transform(X_test_df[[\"lon\"]])\n",
    "\n",
    "X_test_std_df = stdsc.transform(X_test_df)\n",
    "\n",
    "X_test_std_df.head()"
   ]
  },
  {
   "cell_type": "markdown",
   "metadata": {},
   "source": [
    "### Predecir y ensamblar"
   ]
  },
  {
   "cell_type": "code",
   "execution_count": 64,
   "metadata": {
    "collapsed": false
   },
   "outputs": [],
   "source": [
    "y_knn = model_knn.predict(X_test_std_df)\n",
    "y_rf1 = model_rf1.predict(X_test_df)\n",
    "y_rf2 = model_rf2.predict(X_test_std_df)"
   ]
  },
  {
   "cell_type": "code",
   "execution_count": 82,
   "metadata": {
    "collapsed": false
   },
   "outputs": [
    {
     "name": "stdout",
     "output_type": "stream",
     "text": [
      "[ 124272.02690282  124247.50158143  120892.02594912 ...,  128874.72549885\n",
      "  120862.16107823  129237.5274164 ]\n"
     ]
    }
   ],
   "source": [
    "print(y_knn[y_knn< 130045.4243309] )"
   ]
  },
  {
   "cell_type": "markdown",
   "metadata": {},
   "source": [
    "Tener en cuenta para el ensamble cuales fueron los RMSE de cada algoritmo asi le damos un peso acorde a los errores de cada modelo"
   ]
  },
  {
   "cell_type": "code",
   "execution_count": 62,
   "metadata": {
    "collapsed": false
   },
   "outputs": [],
   "source": [
    "# ensamble\n",
    "C1 = 0.2\n",
    "C2 = 0.4\n",
    "C3 = 0.4\n",
    "\n",
    "y_final = []\n",
    "for row1,row2,row3 in zip(y_knn,y_rf1,y_rf2):\n",
    "    y_final.append(C1 * float(row1) + C2 * float(row2) + C3 * float(row3))"
   ]
  },
  {
   "cell_type": "code",
   "execution_count": 63,
   "metadata": {
    "collapsed": false
   },
   "outputs": [],
   "source": [
    "# escribir al archivo\n",
    "output = pd.DataFrame( data={\"id\":test_df[\"id\"], \"price_usd\":y_final} )\n",
    "output.to_csv( \"../data/result/ensamblev02_\"+str(now)+\".csv\", index=False, quoting=3 )"
   ]
  },
  {
   "cell_type": "code",
   "execution_count": null,
   "metadata": {
    "collapsed": true
   },
   "outputs": [],
   "source": []
  }
 ],
 "metadata": {
  "kernelspec": {
   "display_name": "Python 3",
   "language": "python",
   "name": "python3"
  },
  "language_info": {
   "codemirror_mode": {
    "name": "ipython",
    "version": 3
   },
   "file_extension": ".py",
   "mimetype": "text/x-python",
   "name": "python",
   "nbconvert_exporter": "python",
   "pygments_lexer": "ipython3",
   "version": "3.5.2"
  }
 },
 "nbformat": 4,
 "nbformat_minor": 2
}
