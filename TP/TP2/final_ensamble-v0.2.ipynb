{
 "cells": [
  {
   "cell_type": "markdown",
   "metadata": {},
   "source": [
    "<h1 style=\"text-align: center;\" markdown=\"1\">TP2: Ensamble FINAL</h1>\n",
    "![](../data/icon_properati-data.png)\n",
    "\n",
    "Se entrenaran varios algoritmos y se iran combinando en este mismo notebook."
   ]
  },
  {
   "cell_type": "code",
   "execution_count": 1,
   "metadata": {
    "collapsed": false
   },
   "outputs": [
    {
     "name": "stdout",
     "output_type": "stream",
     "text": [
      "Populating the interactive namespace from numpy and matplotlib\n"
     ]
    },
    {
     "name": "stderr",
     "output_type": "stream",
     "text": [
      "/opt/conda/lib/python3.5/site-packages/IPython/core/magics/pylab.py:161: UserWarning: pylab import has clobbered these variables: ['plt']\n",
      "`%matplotlib` prevents importing * from pylab and numpy\n",
      "  \"\\n`%matplotlib` prevents importing * from pylab and numpy\"\n"
     ]
    }
   ],
   "source": [
    "import numpy as np \n",
    "import pandas as pd\n",
    "\n",
    "# plots\n",
    "import matplotlib.pyplot as plt\n",
    "import seaborn as sns\n",
    "%matplotlib inline\n",
    "%pylab inline\n",
    "\n",
    "# modules\n",
    "import knn as knnlibrary"
   ]
  },
  {
   "cell_type": "markdown",
   "metadata": {},
   "source": [
    "## Obtener y limpiar dataset"
   ]
  },
  {
   "cell_type": "code",
   "execution_count": null,
   "metadata": {
    "collapsed": true
   },
   "outputs": [],
   "source": [
    "from time import time\n",
    "# calculo el tiempo que tarda un knn\n",
    "start_notebook_time = time()"
   ]
  },
  {
   "cell_type": "code",
   "execution_count": 2,
   "metadata": {
    "collapsed": false
   },
   "outputs": [
    {
     "data": {
      "text/html": [
       "<div>\n",
       "<table border=\"1\" class=\"dataframe\">\n",
       "  <thead>\n",
       "    <tr style=\"text-align: right;\">\n",
       "      <th></th>\n",
       "      <th>id</th>\n",
       "      <th>created_on</th>\n",
       "      <th>operation</th>\n",
       "      <th>property_type</th>\n",
       "      <th>place_name</th>\n",
       "      <th>place_with_parent_names</th>\n",
       "      <th>country_name</th>\n",
       "      <th>state_name</th>\n",
       "      <th>geonames_id</th>\n",
       "      <th>lat-lon</th>\n",
       "      <th>...</th>\n",
       "      <th>surface_covered_in_m2</th>\n",
       "      <th>price_usd_per_m2</th>\n",
       "      <th>price_per_m2</th>\n",
       "      <th>floor</th>\n",
       "      <th>rooms</th>\n",
       "      <th>expenses</th>\n",
       "      <th>properati_url</th>\n",
       "      <th>description</th>\n",
       "      <th>title</th>\n",
       "      <th>image_thumbnail</th>\n",
       "    </tr>\n",
       "  </thead>\n",
       "  <tbody>\n",
       "    <tr>\n",
       "      <th>0</th>\n",
       "      <td>ecc59daba3d5bc726ae8aa9dbccfe79635aef175</td>\n",
       "      <td>2016-06-01</td>\n",
       "      <td>sell</td>\n",
       "      <td>apartment</td>\n",
       "      <td>Palermo</td>\n",
       "      <td>|Argentina|Capital Federal|Palermo|</td>\n",
       "      <td>Argentina</td>\n",
       "      <td>Capital Federal</td>\n",
       "      <td>3430234.0</td>\n",
       "      <td>-34.5888560251,-58.4087713338</td>\n",
       "      <td>...</td>\n",
       "      <td>130.0</td>\n",
       "      <td>NaN</td>\n",
       "      <td>3461.538462</td>\n",
       "      <td>5.0</td>\n",
       "      <td>4.0</td>\n",
       "      <td>NaN</td>\n",
       "      <td>http://www.properati.com.ar/ys05_venta_departa...</td>\n",
       "      <td>UNIDAD AL FRENTE CON BALCON CORRIDO Y 2 COCHER...</td>\n",
       "      <td>IMPECABLE PISO DE 4 AMB + DEP Y 2 COCHERAS</td>\n",
       "      <td>https://thumbs4.properati.com/2/RbSA4pJRsv2S8M...</td>\n",
       "    </tr>\n",
       "    <tr>\n",
       "      <th>1</th>\n",
       "      <td>7f1423f29df530cae38e7a59ddc6430c7da7ca38</td>\n",
       "      <td>2016-06-01</td>\n",
       "      <td>sell</td>\n",
       "      <td>apartment</td>\n",
       "      <td>Once</td>\n",
       "      <td>|Argentina|Capital Federal|Once|</td>\n",
       "      <td>Argentina</td>\n",
       "      <td>Capital Federal</td>\n",
       "      <td>3430291.0</td>\n",
       "      <td>-34.6033997612,-58.3984088548</td>\n",
       "      <td>...</td>\n",
       "      <td>46.0</td>\n",
       "      <td>NaN</td>\n",
       "      <td>2065.217391</td>\n",
       "      <td>1.0</td>\n",
       "      <td>1.0</td>\n",
       "      <td>NaN</td>\n",
       "      <td>http://www.properati.com.ar/ys06_venta_departa...</td>\n",
       "      <td>SE VENDE A ESTRENAR EN PLENO CORAZON DE ONCE !...</td>\n",
       "      <td>Excelentes oficinas a estrenar!!!!!</td>\n",
       "      <td>https://thumbs4.properati.com/8/IMCZ4CqITeOqx5...</td>\n",
       "    </tr>\n",
       "    <tr>\n",
       "      <th>2</th>\n",
       "      <td>4fdd84d998a3f82f4a3b36f405cc3f7013fb642e</td>\n",
       "      <td>2016-06-01</td>\n",
       "      <td>sell</td>\n",
       "      <td>store</td>\n",
       "      <td>Barrio Norte</td>\n",
       "      <td>|Argentina|Capital Federal|Barrio Norte|</td>\n",
       "      <td>Argentina</td>\n",
       "      <td>Capital Federal</td>\n",
       "      <td>3436109.0</td>\n",
       "      <td>-34.595849,-58.386979</td>\n",
       "      <td>...</td>\n",
       "      <td>0.0</td>\n",
       "      <td>NaN</td>\n",
       "      <td>NaN</td>\n",
       "      <td>NaN</td>\n",
       "      <td>NaN</td>\n",
       "      <td>500.0</td>\n",
       "      <td>http://www.properati.com.ar/ys0r_venta_local_b...</td>\n",
       "      <td>Local en Venta sobre Avenida Santa Fe.Ideal pa...</td>\n",
       "      <td>Local sobre Av. Santa Fe</td>\n",
       "      <td>https://thumbs4.properati.com/9/-VNE04tbyVFfcO...</td>\n",
       "    </tr>\n",
       "    <tr>\n",
       "      <th>3</th>\n",
       "      <td>a786b4d9a8f6cc86ba3e839f4cb85bbb03cf15fd</td>\n",
       "      <td>2016-06-01</td>\n",
       "      <td>sell</td>\n",
       "      <td>house</td>\n",
       "      <td>Adrogué</td>\n",
       "      <td>|Argentina|Bs.As. G.B.A. Zona Sur|Almirante Br...</td>\n",
       "      <td>Argentina</td>\n",
       "      <td>Bs.As. G.B.A. Zona Sur</td>\n",
       "      <td>NaN</td>\n",
       "      <td>-34.796679,-58.3993149</td>\n",
       "      <td>...</td>\n",
       "      <td>0.0</td>\n",
       "      <td>1285.714286</td>\n",
       "      <td>NaN</td>\n",
       "      <td>NaN</td>\n",
       "      <td>6.0</td>\n",
       "      <td>NaN</td>\n",
       "      <td>http://www.properati.com.ar/ys10_venta_casa_ad...</td>\n",
       "      <td>CHALET INMEJORABLE UBICACIÓN: PLANTA BAJA: AMP...</td>\n",
       "      <td>IMPORTANTE CHALET ZONA MUY RESIDENCIAL</td>\n",
       "      <td>https://thumbs4.properati.com/5/FhMeTqvYjAiHVS...</td>\n",
       "    </tr>\n",
       "    <tr>\n",
       "      <th>4</th>\n",
       "      <td>9844244d17eb024e0632a63b4098b67889de06bc</td>\n",
       "      <td>2016-06-01</td>\n",
       "      <td>sell</td>\n",
       "      <td>house</td>\n",
       "      <td>Pilar</td>\n",
       "      <td>|Argentina|Bs.As. G.B.A. Zona Norte|Pilar|</td>\n",
       "      <td>Argentina</td>\n",
       "      <td>Bs.As. G.B.A. Zona Norte</td>\n",
       "      <td>3429979.0</td>\n",
       "      <td>NaN</td>\n",
       "      <td>...</td>\n",
       "      <td>120.0</td>\n",
       "      <td>1250.000000</td>\n",
       "      <td>1250.000000</td>\n",
       "      <td>NaN</td>\n",
       "      <td>4.0</td>\n",
       "      <td>NaN</td>\n",
       "      <td>http://www.properati.com.ar/ys1c_venta_casa_pi...</td>\n",
       "      <td>Casa muy funcional, desarrollada en una sola p...</td>\n",
       "      <td>BAYUGAR PROPIEDADES/ LINDISIMA CASA/ BARRIO CA...</td>\n",
       "      <td>https://thumbs4.properati.com/2/dxU45Z8wqh3Mdq...</td>\n",
       "    </tr>\n",
       "  </tbody>\n",
       "</table>\n",
       "<p>5 rows × 27 columns</p>\n",
       "</div>"
      ],
      "text/plain": [
       "                                         id  created_on operation  \\\n",
       "0  ecc59daba3d5bc726ae8aa9dbccfe79635aef175  2016-06-01      sell   \n",
       "1  7f1423f29df530cae38e7a59ddc6430c7da7ca38  2016-06-01      sell   \n",
       "2  4fdd84d998a3f82f4a3b36f405cc3f7013fb642e  2016-06-01      sell   \n",
       "3  a786b4d9a8f6cc86ba3e839f4cb85bbb03cf15fd  2016-06-01      sell   \n",
       "4  9844244d17eb024e0632a63b4098b67889de06bc  2016-06-01      sell   \n",
       "\n",
       "  property_type    place_name  \\\n",
       "0     apartment       Palermo   \n",
       "1     apartment          Once   \n",
       "2         store  Barrio Norte   \n",
       "3         house       Adrogué   \n",
       "4         house         Pilar   \n",
       "\n",
       "                             place_with_parent_names country_name  \\\n",
       "0                |Argentina|Capital Federal|Palermo|    Argentina   \n",
       "1                   |Argentina|Capital Federal|Once|    Argentina   \n",
       "2           |Argentina|Capital Federal|Barrio Norte|    Argentina   \n",
       "3  |Argentina|Bs.As. G.B.A. Zona Sur|Almirante Br...    Argentina   \n",
       "4         |Argentina|Bs.As. G.B.A. Zona Norte|Pilar|    Argentina   \n",
       "\n",
       "                 state_name  geonames_id                        lat-lon  \\\n",
       "0           Capital Federal    3430234.0  -34.5888560251,-58.4087713338   \n",
       "1           Capital Federal    3430291.0  -34.6033997612,-58.3984088548   \n",
       "2           Capital Federal    3436109.0          -34.595849,-58.386979   \n",
       "3    Bs.As. G.B.A. Zona Sur          NaN         -34.796679,-58.3993149   \n",
       "4  Bs.As. G.B.A. Zona Norte    3429979.0                            NaN   \n",
       "\n",
       "                         ...                          surface_covered_in_m2  \\\n",
       "0                        ...                                          130.0   \n",
       "1                        ...                                           46.0   \n",
       "2                        ...                                            0.0   \n",
       "3                        ...                                            0.0   \n",
       "4                        ...                                          120.0   \n",
       "\n",
       "   price_usd_per_m2  price_per_m2 floor  rooms  expenses  \\\n",
       "0               NaN   3461.538462   5.0    4.0       NaN   \n",
       "1               NaN   2065.217391   1.0    1.0       NaN   \n",
       "2               NaN           NaN   NaN    NaN     500.0   \n",
       "3       1285.714286           NaN   NaN    6.0       NaN   \n",
       "4       1250.000000   1250.000000   NaN    4.0       NaN   \n",
       "\n",
       "                                       properati_url  \\\n",
       "0  http://www.properati.com.ar/ys05_venta_departa...   \n",
       "1  http://www.properati.com.ar/ys06_venta_departa...   \n",
       "2  http://www.properati.com.ar/ys0r_venta_local_b...   \n",
       "3  http://www.properati.com.ar/ys10_venta_casa_ad...   \n",
       "4  http://www.properati.com.ar/ys1c_venta_casa_pi...   \n",
       "\n",
       "                                         description  \\\n",
       "0  UNIDAD AL FRENTE CON BALCON CORRIDO Y 2 COCHER...   \n",
       "1  SE VENDE A ESTRENAR EN PLENO CORAZON DE ONCE !...   \n",
       "2  Local en Venta sobre Avenida Santa Fe.Ideal pa...   \n",
       "3  CHALET INMEJORABLE UBICACIÓN: PLANTA BAJA: AMP...   \n",
       "4  Casa muy funcional, desarrollada en una sola p...   \n",
       "\n",
       "                                               title  \\\n",
       "0         IMPECABLE PISO DE 4 AMB + DEP Y 2 COCHERAS   \n",
       "1                Excelentes oficinas a estrenar!!!!!   \n",
       "2                           Local sobre Av. Santa Fe   \n",
       "3             IMPORTANTE CHALET ZONA MUY RESIDENCIAL   \n",
       "4  BAYUGAR PROPIEDADES/ LINDISIMA CASA/ BARRIO CA...   \n",
       "\n",
       "                                     image_thumbnail  \n",
       "0  https://thumbs4.properati.com/2/RbSA4pJRsv2S8M...  \n",
       "1  https://thumbs4.properati.com/8/IMCZ4CqITeOqx5...  \n",
       "2  https://thumbs4.properati.com/9/-VNE04tbyVFfcO...  \n",
       "3  https://thumbs4.properati.com/5/FhMeTqvYjAiHVS...  \n",
       "4  https://thumbs4.properati.com/2/dxU45Z8wqh3Mdq...  \n",
       "\n",
       "[5 rows x 27 columns]"
      ]
     },
     "execution_count": 2,
     "metadata": {},
     "output_type": "execute_result"
    }
   ],
   "source": [
    "properties =knnlibrary.get_dataset()\n",
    "properties.head()"
   ]
  },
  {
   "cell_type": "code",
   "execution_count": 3,
   "metadata": {
    "collapsed": false
   },
   "outputs": [
    {
     "name": "stdout",
     "output_type": "stream",
     "text": [
      "<class 'pandas.core.frame.DataFrame'>\n",
      "Int64Index: 251014 entries, 18733 to 80257\n",
      "Data columns (total 27 columns):\n",
      "id                            251014 non-null object\n",
      "created_on                    251014 non-null object\n",
      "operation                     251014 non-null object\n",
      "property_type                 251014 non-null object\n",
      "place_name                    250976 non-null object\n",
      "place_with_parent_names       251014 non-null object\n",
      "country_name                  251014 non-null object\n",
      "state_name                    251014 non-null object\n",
      "geonames_id                   211841 non-null float64\n",
      "lat-lon                       178105 non-null object\n",
      "lat                           178105 non-null float64\n",
      "lon                           178105 non-null float64\n",
      "price                         219627 non-null float64\n",
      "currency                      217500 non-null object\n",
      "price_aprox_local_currency    219627 non-null float64\n",
      "price_aprox_usd               219627 non-null float64\n",
      "surface_total_in_m2           175419 non-null float64\n",
      "surface_covered_in_m2         213569 non-null float64\n",
      "price_usd_per_m2              148604 non-null float64\n",
      "price_per_m2                  189959 non-null float64\n",
      "floor                         21985 non-null float64\n",
      "rooms                         132595 non-null float64\n",
      "expenses                      26699 non-null float64\n",
      "properati_url                 251014 non-null object\n",
      "description                   251005 non-null object\n",
      "title                         251014 non-null object\n",
      "image_thumbnail               246610 non-null object\n",
      "dtypes: float64(13), object(14)\n",
      "memory usage: 53.6+ MB\n"
     ]
    }
   ],
   "source": [
    "# obtenemos las propiedades del ultimo año\n",
    "properties_lastyear = properties[properties['created_on']>'2016-10-01']\n",
    "properties_lastyear.info()"
   ]
  },
  {
   "cell_type": "code",
   "execution_count": 4,
   "metadata": {
    "collapsed": false
   },
   "outputs": [
    {
     "name": "stdout",
     "output_type": "stream",
     "text": [
      "<class 'pandas.core.frame.DataFrame'>\n",
      "Int64Index: 171941 entries, 18733 to 80257\n",
      "Data columns (total 27 columns):\n",
      "id                            171941 non-null object\n",
      "created_on                    171941 non-null object\n",
      "operation                     171941 non-null object\n",
      "property_type                 171941 non-null object\n",
      "place_name                    171903 non-null object\n",
      "place_with_parent_names       171941 non-null object\n",
      "country_name                  171941 non-null object\n",
      "state_name                    171941 non-null object\n",
      "geonames_id                   135676 non-null float64\n",
      "lat-lon                       119815 non-null object\n",
      "lat                           119815 non-null float64\n",
      "lon                           119815 non-null float64\n",
      "price                         158267 non-null float64\n",
      "currency                      157583 non-null object\n",
      "price_aprox_local_currency    158267 non-null float64\n",
      "price_aprox_usd               158267 non-null float64\n",
      "surface_total_in_m2           127538 non-null float64\n",
      "surface_covered_in_m2         156229 non-null float64\n",
      "price_usd_per_m2              112758 non-null float64\n",
      "price_per_m2                  144050 non-null float64\n",
      "floor                         16020 non-null float64\n",
      "rooms                         88023 non-null float64\n",
      "expenses                      22548 non-null float64\n",
      "properati_url                 171941 non-null object\n",
      "description                   171936 non-null object\n",
      "title                         171941 non-null object\n",
      "image_thumbnail               169164 non-null object\n",
      "dtypes: float64(13), object(14)\n",
      "memory usage: 36.7+ MB\n"
     ]
    }
   ],
   "source": [
    "# filtro por CABA y GBA\n",
    "properties_caba = properties_lastyear[(properties_lastyear['place_with_parent_names'].str.contains('Capital Federal') \\\n",
    "                             | properties_lastyear['place_with_parent_names'].str.contains('Bs.As. G.B.A.'))]\n",
    "\n",
    "properties_caba.info()"
   ]
  },
  {
   "cell_type": "code",
   "execution_count": 5,
   "metadata": {
    "collapsed": false
   },
   "outputs": [
    {
     "data": {
      "text/html": [
       "<div>\n",
       "<table border=\"1\" class=\"dataframe\">\n",
       "  <thead>\n",
       "    <tr style=\"text-align: right;\">\n",
       "      <th></th>\n",
       "      <th>price</th>\n",
       "      <th>price_aprox_usd</th>\n",
       "      <th>price_aprox_local_currency</th>\n",
       "      <th>currency</th>\n",
       "    </tr>\n",
       "  </thead>\n",
       "  <tbody>\n",
       "    <tr>\n",
       "      <th>18733</th>\n",
       "      <td>130000.0</td>\n",
       "      <td>130000.00</td>\n",
       "      <td>2075905.00</td>\n",
       "      <td>USD</td>\n",
       "    </tr>\n",
       "    <tr>\n",
       "      <th>18739</th>\n",
       "      <td>2898000.0</td>\n",
       "      <td>182545.43</td>\n",
       "      <td>2914976.69</td>\n",
       "      <td>ARS</td>\n",
       "    </tr>\n",
       "    <tr>\n",
       "      <th>18742</th>\n",
       "      <td>395000.0</td>\n",
       "      <td>395000.00</td>\n",
       "      <td>6307557.50</td>\n",
       "      <td>USD</td>\n",
       "    </tr>\n",
       "    <tr>\n",
       "      <th>18745</th>\n",
       "      <td>69000.0</td>\n",
       "      <td>69000.00</td>\n",
       "      <td>1101826.50</td>\n",
       "      <td>USD</td>\n",
       "    </tr>\n",
       "    <tr>\n",
       "      <th>18746</th>\n",
       "      <td>NaN</td>\n",
       "      <td>NaN</td>\n",
       "      <td>NaN</td>\n",
       "      <td>NaN</td>\n",
       "    </tr>\n",
       "  </tbody>\n",
       "</table>\n",
       "</div>"
      ],
      "text/plain": [
       "           price  price_aprox_usd  price_aprox_local_currency currency\n",
       "18733   130000.0        130000.00                  2075905.00      USD\n",
       "18739  2898000.0        182545.43                  2914976.69      ARS\n",
       "18742   395000.0        395000.00                  6307557.50      USD\n",
       "18745    69000.0         69000.00                  1101826.50      USD\n",
       "18746        NaN              NaN                         NaN      NaN"
      ]
     },
     "execution_count": 5,
     "metadata": {},
     "output_type": "execute_result"
    }
   ],
   "source": [
    "# se puede ver que tenemos diferencias entre proce y price aprox usd\n",
    "properties_caba[['price','price_aprox_usd','price_aprox_local_currency','currency']].head()"
   ]
  },
  {
   "cell_type": "code",
   "execution_count": 6,
   "metadata": {
    "collapsed": false
   },
   "outputs": [
    {
     "name": "stdout",
     "output_type": "stream",
     "text": [
      "(19695, 27)\n",
      "(13674, 27)\n",
      "(13674, 27)\n",
      "(0, 27)\n"
     ]
    }
   ],
   "source": [
    "print(properties_caba[properties_caba['price'] != properties_caba['price_aprox_usd']].shape)\n",
    "print(properties_caba[np.isnan(properties_caba['price'])].shape)\n",
    "print(properties_caba[np.isnan(properties_caba['price_aprox_usd'])].shape)\n",
    "print(properties_caba[(properties_caba['price'] != properties_caba['price_aprox_usd']) & np.isnan(properties_caba['price']) & (properties_caba['price_aprox_usd'])].shape)"
   ]
  },
  {
   "cell_type": "markdown",
   "metadata": {},
   "source": [
    "Podemos llegar a la conclusion que nos conviene quedarnos con price_aprox_usd"
   ]
  },
  {
   "cell_type": "code",
   "execution_count": 7,
   "metadata": {
    "collapsed": true
   },
   "outputs": [],
   "source": [
    "properties_caba = properties_caba[properties_caba['price_aprox_usd'].notnull() & properties_caba['price_aprox_usd'] > 0 \\\n",
    "                                  & properties_caba['place_name'].notnull()]"
   ]
  },
  {
   "cell_type": "code",
   "execution_count": 8,
   "metadata": {
    "collapsed": false
   },
   "outputs": [
    {
     "name": "stdout",
     "output_type": "stream",
     "text": [
      "<class 'pandas.core.frame.DataFrame'>\n",
      "Int64Index: 157577 entries, 18733 to 80257\n",
      "Data columns (total 12 columns):\n",
      "created_on               157577 non-null object\n",
      "property_type            157577 non-null object\n",
      "place_name               157539 non-null object\n",
      "state_name               157577 non-null object\n",
      "lat                      109791 non-null float64\n",
      "lon                      109791 non-null float64\n",
      "surface_total_in_m2      116736 non-null float64\n",
      "surface_covered_in_m2    145437 non-null float64\n",
      "floor                    15462 non-null float64\n",
      "rooms                    80335 non-null float64\n",
      "expenses                 21685 non-null float64\n",
      "price_aprox_usd          157577 non-null float64\n",
      "dtypes: float64(8), object(4)\n",
      "memory usage: 15.6+ MB\n"
     ]
    }
   ],
   "source": [
    "# algunas columnas ya sabemos que no son relevantes por lo que las podemos eliminar\n",
    "# filtro columnas segun lo que hay en el dataset\n",
    "attributes = ['created_on','property_type','place_name','state_name',\\\n",
    "              'lat','lon','surface_total_in_m2','surface_covered_in_m2',\\\n",
    "              'floor','rooms', 'expenses', 'price_aprox_usd']\n",
    "properties_caba[attributes].info()\n",
    "properties_caba_with_price_attributes = properties_caba[attributes]"
   ]
  },
  {
   "cell_type": "code",
   "execution_count": 9,
   "metadata": {
    "collapsed": false
   },
   "outputs": [
    {
     "name": "stdout",
     "output_type": "stream",
     "text": [
      "<class 'pandas.core.frame.DataFrame'>\n",
      "Int64Index: 156928 entries, 18733 to 80257\n",
      "Data columns (total 12 columns):\n",
      "created_on               156928 non-null object\n",
      "property_type            156928 non-null object\n",
      "place_name               156890 non-null object\n",
      "state_name               156928 non-null object\n",
      "lat                      109165 non-null float64\n",
      "lon                      109165 non-null float64\n",
      "surface_total_in_m2      116663 non-null float64\n",
      "surface_covered_in_m2    144791 non-null float64\n",
      "floor                    156928 non-null float64\n",
      "rooms                    156928 non-null float64\n",
      "expenses                 21677 non-null float64\n",
      "price_aprox_usd          156928 non-null float64\n",
      "dtypes: float64(8), object(4)\n",
      "memory usage: 15.6+ MB\n"
     ]
    },
    {
     "name": "stderr",
     "output_type": "stream",
     "text": [
      "/opt/conda/lib/python3.5/site-packages/ipykernel/__main__.py:2: SettingWithCopyWarning: \n",
      "A value is trying to be set on a copy of a slice from a DataFrame.\n",
      "Try using .loc[row_indexer,col_indexer] = value instead\n",
      "\n",
      "See the caveats in the documentation: http://pandas.pydata.org/pandas-docs/stable/indexing.html#indexing-view-versus-copy\n",
      "  from ipykernel import kernelapp as app\n",
      "/opt/conda/lib/python3.5/site-packages/ipykernel/__main__.py:3: SettingWithCopyWarning: \n",
      "A value is trying to be set on a copy of a slice from a DataFrame.\n",
      "Try using .loc[row_indexer,col_indexer] = value instead\n",
      "\n",
      "See the caveats in the documentation: http://pandas.pydata.org/pandas-docs/stable/indexing.html#indexing-view-versus-copy\n",
      "  app.launch_new_instance()\n"
     ]
    }
   ],
   "source": [
    "# completamos los nulos\n",
    "properties_caba_with_price_attributes['floor'] = properties_caba_with_price_attributes[['floor']].fillna(0)\n",
    "properties_caba_with_price_attributes['rooms'] = properties_caba_with_price_attributes[['rooms']].fillna(0)\n",
    "\n",
    "# eliminamos propiedades con mas de 54 pisos\n",
    "properties_caba_with_floors = properties_caba_with_price_attributes[properties_caba_with_price_attributes['floor'] <= 60]\n",
    "\n",
    "# eliminamos propiedades con mas de 9 pisos - ver analisis\n",
    "properties_caba_with_rooms = properties_caba_with_floors[properties_caba_with_floors['rooms'] <=  10]\n",
    "\n",
    "properties_caba_with_rooms.info()"
   ]
  },
  {
   "cell_type": "markdown",
   "metadata": {},
   "source": [
    "Intentamos incluir las expensas para ver si podemos mejorar las predicciones. Vamos a ver que forma tienen"
   ]
  },
  {
   "cell_type": "code",
   "execution_count": 10,
   "metadata": {
    "collapsed": false
   },
   "outputs": [
    {
     "data": {
      "text/plain": [
       "1.0       1030\n",
       "1500.0     941\n",
       "2000.0     850\n",
       "1000.0     831\n",
       "1200.0     731\n",
       "1800.0     663\n",
       "3000.0     627\n",
       "2500.0     597\n",
       "4000.0     539\n",
       "5000.0     474\n",
       "3500.0     469\n",
       "800.0      421\n",
       "1300.0     401\n",
       "4500.0     392\n",
       "1400.0     358\n",
       "1600.0     356\n",
       "6000.0     347\n",
       "1100.0     320\n",
       "500.0      299\n",
       "900.0      296\n",
       "1700.0     289\n",
       "700.0      277\n",
       "400.0      255\n",
       "2800.0     254\n",
       "7000.0     250\n",
       "2300.0     249\n",
       "2200.0     249\n",
       "1900.0     247\n",
       "600.0      230\n",
       "8000.0     218\n",
       "          ... \n",
       "1845.0       1\n",
       "5278.0       1\n",
       "1839.0       1\n",
       "1824.0       1\n",
       "5251.0       1\n",
       "5349.0       1\n",
       "1818.0       1\n",
       "1816.0       1\n",
       "5352.0       1\n",
       "1806.0       1\n",
       "5360.0       1\n",
       "1863.0       1\n",
       "1866.0       1\n",
       "1940.0       1\n",
       "1917.0       1\n",
       "1938.0       1\n",
       "1937.0       1\n",
       "1936.0       1\n",
       "5169.0       1\n",
       "1930.0       1\n",
       "5174.0       1\n",
       "5179.0       1\n",
       "1872.0       1\n",
       "1910.0       1\n",
       "1893.0       1\n",
       "5186.0       1\n",
       "1888.0       1\n",
       "1881.0       1\n",
       "5234.0       1\n",
       "6140.0       1\n",
       "Name: expenses, dtype: int64"
      ]
     },
     "execution_count": 10,
     "metadata": {},
     "output_type": "execute_result"
    }
   ],
   "source": [
    "properties_caba_with_rooms['expenses'].value_counts()"
   ]
  },
  {
   "cell_type": "code",
   "execution_count": 11,
   "metadata": {
    "collapsed": false
   },
   "outputs": [
    {
     "name": "stdout",
     "output_type": "stream",
     "text": [
      "<class 'pandas.core.frame.DataFrame'>\n",
      "Int64Index: 156928 entries, 18733 to 80257\n",
      "Data columns (total 12 columns):\n",
      "created_on               156928 non-null object\n",
      "property_type            156928 non-null object\n",
      "place_name               156890 non-null object\n",
      "state_name               156928 non-null object\n",
      "lat                      109165 non-null float64\n",
      "lon                      109165 non-null float64\n",
      "surface_total_in_m2      116663 non-null float64\n",
      "surface_covered_in_m2    144791 non-null float64\n",
      "floor                    156928 non-null float64\n",
      "rooms                    156928 non-null float64\n",
      "expenses                 156928 non-null float64\n",
      "price_aprox_usd          156928 non-null float64\n",
      "dtypes: float64(8), object(4)\n",
      "memory usage: 15.6+ MB\n"
     ]
    },
    {
     "name": "stderr",
     "output_type": "stream",
     "text": [
      "/opt/conda/lib/python3.5/site-packages/ipykernel/__main__.py:2: SettingWithCopyWarning: \n",
      "A value is trying to be set on a copy of a slice from a DataFrame.\n",
      "Try using .loc[row_indexer,col_indexer] = value instead\n",
      "\n",
      "See the caveats in the documentation: http://pandas.pydata.org/pandas-docs/stable/indexing.html#indexing-view-versus-copy\n",
      "  from ipykernel import kernelapp as app\n"
     ]
    }
   ],
   "source": [
    "# las convierto a float entonces\n",
    "properties_caba_with_rooms['expenses'] = properties_caba_with_rooms[['expenses']].fillna(0)\n",
    "properties_caba_with_rooms.info()"
   ]
  },
  {
   "cell_type": "markdown",
   "metadata": {},
   "source": [
    "Que hacemos con la superficie ademas de limitarla?"
   ]
  },
  {
   "cell_type": "code",
   "execution_count": 12,
   "metadata": {
    "collapsed": false
   },
   "outputs": [
    {
     "name": "stdout",
     "output_type": "stream",
     "text": [
      "<class 'pandas.core.frame.DataFrame'>\n",
      "Int64Index: 156701 entries, 18733 to 80257\n",
      "Data columns (total 12 columns):\n",
      "created_on               156701 non-null object\n",
      "property_type            156701 non-null object\n",
      "place_name               156663 non-null object\n",
      "state_name               156701 non-null object\n",
      "lat                      109084 non-null float64\n",
      "lon                      109084 non-null float64\n",
      "surface_total_in_m2      156701 non-null float64\n",
      "surface_covered_in_m2    156701 non-null float64\n",
      "floor                    156701 non-null float64\n",
      "rooms                    156701 non-null float64\n",
      "expenses                 156701 non-null float64\n",
      "price_aprox_usd          156701 non-null float64\n",
      "dtypes: float64(8), object(4)\n",
      "memory usage: 15.5+ MB\n"
     ]
    },
    {
     "name": "stderr",
     "output_type": "stream",
     "text": [
      "/opt/conda/lib/python3.5/site-packages/ipykernel/__main__.py:1: SettingWithCopyWarning: \n",
      "A value is trying to be set on a copy of a slice from a DataFrame.\n",
      "Try using .loc[row_indexer,col_indexer] = value instead\n",
      "\n",
      "See the caveats in the documentation: http://pandas.pydata.org/pandas-docs/stable/indexing.html#indexing-view-versus-copy\n",
      "  if __name__ == '__main__':\n",
      "/opt/conda/lib/python3.5/site-packages/ipykernel/__main__.py:2: SettingWithCopyWarning: \n",
      "A value is trying to be set on a copy of a slice from a DataFrame.\n",
      "Try using .loc[row_indexer,col_indexer] = value instead\n",
      "\n",
      "See the caveats in the documentation: http://pandas.pydata.org/pandas-docs/stable/indexing.html#indexing-view-versus-copy\n",
      "  from ipykernel import kernelapp as app\n"
     ]
    }
   ],
   "source": [
    "properties_caba_with_rooms['surface_total_in_m2'] = properties_caba_with_rooms[['surface_total_in_m2']].fillna(0)\n",
    "properties_caba_with_rooms['surface_covered_in_m2'] = properties_caba_with_rooms[['surface_covered_in_m2']].fillna(0)\n",
    "\n",
    "# eliminamos propiedades con mas de 2000 m2 de superficie cubierta - ver analisis\n",
    "properties_caba_surfacecovered = properties_caba_with_rooms[(properties_caba_with_rooms['surface_covered_in_m2'] <= 4000) & (properties_caba_with_rooms['surface_covered_in_m2'] >= 0)]\n",
    "# eliminamos propiedades con mas de 2000 m2 de superficie cubierta - ver analisis\n",
    "properties_surfaces = properties_caba_surfacecovered[(properties_caba_surfacecovered['surface_total_in_m2']<= 6000)  & (properties_caba_surfacecovered['surface_total_in_m2'] >= 0)]\n",
    "\n",
    "properties_surfaces.info()"
   ]
  },
  {
   "cell_type": "markdown",
   "metadata": {
    "collapsed": false
   },
   "source": [
    "Faltaria solucionar el tema de las latitudes. La manera manera mas sencilla para no tener que estimar valores es eliminar los datos con valores nulos tanto para lat como para lon."
   ]
  },
  {
   "cell_type": "code",
   "execution_count": 13,
   "metadata": {
    "collapsed": false
   },
   "outputs": [
    {
     "name": "stdout",
     "output_type": "stream",
     "text": [
      "(47617, 12)\n",
      "(47617, 12)\n",
      "(47617, 12)\n"
     ]
    }
   ],
   "source": [
    "print(properties_surfaces[np.isnan(properties_surfaces['lat']) & np.isnan(properties_surfaces['lon'])].shape)\n",
    "print(properties_surfaces[np.isnan(properties_surfaces['lat'])].shape)\n",
    "print(properties_surfaces[np.isnan(properties_surfaces['lon'])].shape)"
   ]
  },
  {
   "cell_type": "code",
   "execution_count": 14,
   "metadata": {
    "collapsed": false
   },
   "outputs": [
    {
     "name": "stdout",
     "output_type": "stream",
     "text": [
      "<class 'pandas.core.frame.DataFrame'>\n",
      "Int64Index: 109084 entries, 18733 to 80257\n",
      "Data columns (total 12 columns):\n",
      "created_on               109084 non-null object\n",
      "property_type            109084 non-null object\n",
      "place_name               109046 non-null object\n",
      "state_name               109084 non-null object\n",
      "lat                      109084 non-null float64\n",
      "lon                      109084 non-null float64\n",
      "surface_total_in_m2      109084 non-null float64\n",
      "surface_covered_in_m2    109084 non-null float64\n",
      "floor                    109084 non-null float64\n",
      "rooms                    109084 non-null float64\n",
      "expenses                 109084 non-null float64\n",
      "price_aprox_usd          109084 non-null float64\n",
      "dtypes: float64(8), object(4)\n",
      "memory usage: 10.8+ MB\n"
     ]
    }
   ],
   "source": [
    "properties_latlon = properties_surfaces[np.isfinite(properties_surfaces['lon'])]\n",
    "properties_latlon.info()"
   ]
  },
  {
   "cell_type": "markdown",
   "metadata": {},
   "source": [
    "Analicemos los atributos categoricos"
   ]
  },
  {
   "cell_type": "code",
   "execution_count": 15,
   "metadata": {
    "collapsed": false
   },
   "outputs": [
    {
     "data": {
      "text/plain": [
       "apartment    67814\n",
       "house        29832\n",
       "PH            7866\n",
       "store         3572\n",
       "Name: property_type, dtype: int64"
      ]
     },
     "execution_count": 15,
     "metadata": {},
     "output_type": "execute_result"
    }
   ],
   "source": [
    "properties_latlon['property_type'].value_counts()"
   ]
  },
  {
   "cell_type": "code",
   "execution_count": 16,
   "metadata": {
    "collapsed": false
   },
   "outputs": [
    {
     "data": {
      "text/html": [
       "<div>\n",
       "<table border=\"1\" class=\"dataframe\">\n",
       "  <thead>\n",
       "    <tr style=\"text-align: right;\">\n",
       "      <th></th>\n",
       "      <th>created_on</th>\n",
       "      <th>property_type</th>\n",
       "      <th>place_name</th>\n",
       "      <th>state_name</th>\n",
       "      <th>lat</th>\n",
       "      <th>lon</th>\n",
       "      <th>surface_total_in_m2</th>\n",
       "      <th>surface_covered_in_m2</th>\n",
       "      <th>floor</th>\n",
       "      <th>rooms</th>\n",
       "      <th>expenses</th>\n",
       "      <th>price_aprox_usd</th>\n",
       "    </tr>\n",
       "  </thead>\n",
       "  <tbody>\n",
       "    <tr>\n",
       "      <th>18733</th>\n",
       "      <td>2016-10-02</td>\n",
       "      <td>house</td>\n",
       "      <td>Munro</td>\n",
       "      <td>Bs.As. G.B.A. Zona Norte</td>\n",
       "      <td>-34.535086</td>\n",
       "      <td>-58.537104</td>\n",
       "      <td>126.0</td>\n",
       "      <td>126.0</td>\n",
       "      <td>0.0</td>\n",
       "      <td>3.0</td>\n",
       "      <td>0.0</td>\n",
       "      <td>130000.0</td>\n",
       "    </tr>\n",
       "    <tr>\n",
       "      <th>18742</th>\n",
       "      <td>2016-10-02</td>\n",
       "      <td>house</td>\n",
       "      <td>San Cristobal</td>\n",
       "      <td>Capital Federal</td>\n",
       "      <td>-34.623587</td>\n",
       "      <td>-58.408861</td>\n",
       "      <td>517.0</td>\n",
       "      <td>330.0</td>\n",
       "      <td>0.0</td>\n",
       "      <td>0.0</td>\n",
       "      <td>0.0</td>\n",
       "      <td>395000.0</td>\n",
       "    </tr>\n",
       "    <tr>\n",
       "      <th>18745</th>\n",
       "      <td>2016-10-02</td>\n",
       "      <td>apartment</td>\n",
       "      <td>Floresta</td>\n",
       "      <td>Capital Federal</td>\n",
       "      <td>-34.632349</td>\n",
       "      <td>-58.485810</td>\n",
       "      <td>40.0</td>\n",
       "      <td>40.0</td>\n",
       "      <td>0.0</td>\n",
       "      <td>0.0</td>\n",
       "      <td>700.0</td>\n",
       "      <td>69000.0</td>\n",
       "    </tr>\n",
       "  </tbody>\n",
       "</table>\n",
       "</div>"
      ],
      "text/plain": [
       "       created_on property_type     place_name                state_name  \\\n",
       "18733  2016-10-02         house          Munro  Bs.As. G.B.A. Zona Norte   \n",
       "18742  2016-10-02         house  San Cristobal           Capital Federal   \n",
       "18745  2016-10-02     apartment       Floresta           Capital Federal   \n",
       "\n",
       "             lat        lon  surface_total_in_m2  surface_covered_in_m2  \\\n",
       "18733 -34.535086 -58.537104                126.0                  126.0   \n",
       "18742 -34.623587 -58.408861                517.0                  330.0   \n",
       "18745 -34.632349 -58.485810                 40.0                   40.0   \n",
       "\n",
       "       floor  rooms  expenses  price_aprox_usd  \n",
       "18733    0.0    3.0       0.0         130000.0  \n",
       "18742    0.0    0.0       0.0         395000.0  \n",
       "18745    0.0    0.0     700.0          69000.0  "
      ]
     },
     "execution_count": 16,
     "metadata": {},
     "output_type": "execute_result"
    }
   ],
   "source": [
    "from sklearn.preprocessing import LabelEncoder\n",
    "\n",
    "encoder_property_type = LabelEncoder()\n",
    "properties_latlon.head(3)"
   ]
  },
  {
   "cell_type": "code",
   "execution_count": 17,
   "metadata": {
    "collapsed": false
   },
   "outputs": [
    {
     "name": "stderr",
     "output_type": "stream",
     "text": [
      "/opt/conda/lib/python3.5/site-packages/ipykernel/__main__.py:1: SettingWithCopyWarning: \n",
      "A value is trying to be set on a copy of a slice from a DataFrame.\n",
      "Try using .loc[row_indexer,col_indexer] = value instead\n",
      "\n",
      "See the caveats in the documentation: http://pandas.pydata.org/pandas-docs/stable/indexing.html#indexing-view-versus-copy\n",
      "  if __name__ == '__main__':\n"
     ]
    },
    {
     "data": {
      "text/plain": [
       "1    67814\n",
       "2    29832\n",
       "0     7866\n",
       "3     3572\n",
       "Name: property_type, dtype: int64"
      ]
     },
     "execution_count": 17,
     "metadata": {},
     "output_type": "execute_result"
    }
   ],
   "source": [
    "properties_latlon['property_type'] = encoder_property_type.fit_transform(properties_latlon['property_type'])\n",
    "properties_latlon['property_type'].value_counts()"
   ]
  },
  {
   "cell_type": "code",
   "execution_count": 18,
   "metadata": {
    "collapsed": false
   },
   "outputs": [
    {
     "data": {
      "text/plain": [
       "Palermo                       5024\n",
       "Belgrano                      4714\n",
       "Caballito                     3697\n",
       "Nordelta                      3506\n",
       "Tigre                         3291\n",
       "Recoleta                      3046\n",
       "Barrio Norte                  2610\n",
       "Pilar                         2445\n",
       "Flores                        2391\n",
       "Almagro                       2381\n",
       "Villa Urquiza                 2363\n",
       "Villa Crespo                  2240\n",
       "La Plata                      2199\n",
       "San Telmo                     1646\n",
       "Olivos                        1560\n",
       "San Miguel                    1515\n",
       "Balvanera                     1511\n",
       "Nuñez                         1332\n",
       "Puerto Madero                 1331\n",
       "Quilmes                       1281\n",
       "Ituzaingó                     1076\n",
       "Ramos Mejía                   1060\n",
       "Floresta                      1003\n",
       "San Isidro                     973\n",
       "Barracas                       947\n",
       "Lomas de Zamora                940\n",
       "Caseros                        902\n",
       "Saavedra                       900\n",
       "Villa Devoto                   887\n",
       "Morón                          886\n",
       "                              ... \n",
       "Mayling Club de Campo           78\n",
       "Palermo Viejo                   78\n",
       "Villa Rosa                      74\n",
       "Esteban Echeverría              74\n",
       "Country Nuevo Quilmes           72\n",
       "Cañuelas                        70\n",
       "Barrio San Isidro Labrador      70\n",
       "Villa de Mayo                   68\n",
       "La Reja                         68\n",
       "Guernica                        67\n",
       "Los Lagartos Country Club       66\n",
       "Garín                           65\n",
       "Isidro Casanova                 65\n",
       "Villa Lynch                     64\n",
       "Virreyes                        63\n",
       "Barrio San Agustin              62\n",
       "Villa Dominico                  61\n",
       "Grand Bourg                     60\n",
       "Llavallol                       59\n",
       "La Tablada                      59\n",
       "San Vicente                     58\n",
       "Tolosa                          57\n",
       "El Nacional Club de Campo       56\n",
       "Villa Libertad                  56\n",
       "Country San Jorge Village       56\n",
       "Almirante Brown                 54\n",
       "Mapuche Country Club            54\n",
       "Florencio Varela                53\n",
       "Barrio Los Castores             53\n",
       "Derqui                          52\n",
       "Name: place_name, dtype: int64"
      ]
     },
     "execution_count": 18,
     "metadata": {},
     "output_type": "execute_result"
    }
   ],
   "source": [
    "# me aseguro de tener varios datos en cada place_name\n",
    "properties_placenames = properties_latlon.groupby('place_name').filter(lambda x: len(x) > 50)\n",
    "properties_placenames['place_name'].value_counts()"
   ]
  },
  {
   "cell_type": "code",
   "execution_count": 19,
   "metadata": {
    "collapsed": false
   },
   "outputs": [
    {
     "name": "stderr",
     "output_type": "stream",
     "text": [
      "/opt/conda/lib/python3.5/site-packages/ipykernel/__main__.py:2: SettingWithCopyWarning: \n",
      "A value is trying to be set on a copy of a slice from a DataFrame.\n",
      "Try using .loc[row_indexer,col_indexer] = value instead\n",
      "\n",
      "See the caveats in the documentation: http://pandas.pydata.org/pandas-docs/stable/indexing.html#indexing-view-versus-copy\n",
      "  from ipykernel import kernelapp as app\n"
     ]
    },
    {
     "data": {
      "text/plain": [
       "120    5024\n",
       "22     4714\n",
       "32     3697\n",
       "116    3506\n",
       "161    3291\n",
       "139    3046\n",
       "15     2610\n",
       "133    2445\n",
       "63     2391\n",
       "4      2381\n",
       "192    2363\n",
       "174    2240\n",
       "85     2199\n",
       "153    1646\n",
       "118    1560\n",
       "151    1515\n",
       "7      1511\n",
       "117    1332\n",
       "136    1331\n",
       "137    1281\n",
       "79     1076\n",
       "138    1060\n",
       "64     1003\n",
       "148     973\n",
       "9       947\n",
       "94      940\n",
       "36      902\n",
       "143     900\n",
       "175     887\n",
       "113     886\n",
       "       ... \n",
       "124      78\n",
       "107      78\n",
       "189      74\n",
       "57       74\n",
       "48       72\n",
       "18       70\n",
       "38       70\n",
       "86       68\n",
       "193      68\n",
       "74       67\n",
       "97       66\n",
       "68       65\n",
       "78       65\n",
       "183      64\n",
       "195      63\n",
       "16       62\n",
       "176      61\n",
       "73       60\n",
       "87       59\n",
       "93       59\n",
       "154      58\n",
       "162      57\n",
       "49       56\n",
       "53       56\n",
       "179      56\n",
       "5        54\n",
       "101      54\n",
       "13       53\n",
       "62       53\n",
       "51       52\n",
       "Name: place_name, dtype: int64"
      ]
     },
     "execution_count": 19,
     "metadata": {},
     "output_type": "execute_result"
    }
   ],
   "source": [
    "encoder_place_name = LabelEncoder()\n",
    "properties_placenames['place_name'] = encoder_place_name.fit_transform(properties_placenames['place_name'])\n",
    "properties_placenames['place_name'].value_counts()"
   ]
  },
  {
   "cell_type": "code",
   "execution_count": 20,
   "metadata": {
    "collapsed": false
   },
   "outputs": [
    {
     "data": {
      "text/plain": [
       "Capital Federal             55539\n",
       "Bs.As. G.B.A. Zona Norte    26698\n",
       "Bs.As. G.B.A. Zona Sur      12041\n",
       "Bs.As. G.B.A. Zona Oeste    10145\n",
       "Name: state_name, dtype: int64"
      ]
     },
     "execution_count": 20,
     "metadata": {},
     "output_type": "execute_result"
    }
   ],
   "source": [
    "properties_placenames['state_name'].value_counts()"
   ]
  },
  {
   "cell_type": "code",
   "execution_count": 21,
   "metadata": {
    "collapsed": false
   },
   "outputs": [
    {
     "name": "stderr",
     "output_type": "stream",
     "text": [
      "/opt/conda/lib/python3.5/site-packages/sklearn/preprocessing/label.py:111: DataConversionWarning: A column-vector y was passed when a 1d array was expected. Please change the shape of y to (n_samples, ), for example using ravel().\n",
      "  y = column_or_1d(y, warn=True)\n",
      "/opt/conda/lib/python3.5/site-packages/ipykernel/__main__.py:2: SettingWithCopyWarning: \n",
      "A value is trying to be set on a copy of a slice from a DataFrame.\n",
      "Try using .loc[row_indexer,col_indexer] = value instead\n",
      "\n",
      "See the caveats in the documentation: http://pandas.pydata.org/pandas-docs/stable/indexing.html#indexing-view-versus-copy\n",
      "  from ipykernel import kernelapp as app\n"
     ]
    },
    {
     "data": {
      "text/plain": [
       "3    55539\n",
       "0    26698\n",
       "2    12041\n",
       "1    10145\n",
       "Name: state_name, dtype: int64"
      ]
     },
     "execution_count": 21,
     "metadata": {},
     "output_type": "execute_result"
    }
   ],
   "source": [
    "encoder_state_name = LabelEncoder()\n",
    "properties_placenames['state_name'] = encoder_state_name.fit_transform(properties_placenames[['state_name']])\n",
    "properties_placenames['state_name'].value_counts()"
   ]
  },
  {
   "cell_type": "code",
   "execution_count": 22,
   "metadata": {
    "collapsed": false
   },
   "outputs": [
    {
     "data": {
      "text/html": [
       "<div>\n",
       "<table border=\"1\" class=\"dataframe\">\n",
       "  <thead>\n",
       "    <tr style=\"text-align: right;\">\n",
       "      <th></th>\n",
       "      <th>created_on</th>\n",
       "      <th>property_type</th>\n",
       "      <th>place_name</th>\n",
       "      <th>state_name</th>\n",
       "      <th>lat</th>\n",
       "      <th>lon</th>\n",
       "      <th>surface_total_in_m2</th>\n",
       "      <th>surface_covered_in_m2</th>\n",
       "      <th>floor</th>\n",
       "      <th>rooms</th>\n",
       "      <th>expenses</th>\n",
       "      <th>price_aprox_usd</th>\n",
       "    </tr>\n",
       "  </thead>\n",
       "  <tbody>\n",
       "    <tr>\n",
       "      <th>18733</th>\n",
       "      <td>2016-10-02</td>\n",
       "      <td>2</td>\n",
       "      <td>114</td>\n",
       "      <td>0</td>\n",
       "      <td>-34.535086</td>\n",
       "      <td>-58.537104</td>\n",
       "      <td>126.0</td>\n",
       "      <td>126.0</td>\n",
       "      <td>0.0</td>\n",
       "      <td>3.0</td>\n",
       "      <td>0.0</td>\n",
       "      <td>130000.0</td>\n",
       "    </tr>\n",
       "    <tr>\n",
       "      <th>18742</th>\n",
       "      <td>2016-10-02</td>\n",
       "      <td>2</td>\n",
       "      <td>146</td>\n",
       "      <td>3</td>\n",
       "      <td>-34.623587</td>\n",
       "      <td>-58.408861</td>\n",
       "      <td>517.0</td>\n",
       "      <td>330.0</td>\n",
       "      <td>0.0</td>\n",
       "      <td>0.0</td>\n",
       "      <td>0.0</td>\n",
       "      <td>395000.0</td>\n",
       "    </tr>\n",
       "    <tr>\n",
       "      <th>18745</th>\n",
       "      <td>2016-10-02</td>\n",
       "      <td>1</td>\n",
       "      <td>64</td>\n",
       "      <td>3</td>\n",
       "      <td>-34.632349</td>\n",
       "      <td>-58.485810</td>\n",
       "      <td>40.0</td>\n",
       "      <td>40.0</td>\n",
       "      <td>0.0</td>\n",
       "      <td>0.0</td>\n",
       "      <td>700.0</td>\n",
       "      <td>69000.0</td>\n",
       "    </tr>\n",
       "  </tbody>\n",
       "</table>\n",
       "</div>"
      ],
      "text/plain": [
       "       created_on  property_type  place_name  state_name        lat  \\\n",
       "18733  2016-10-02              2         114           0 -34.535086   \n",
       "18742  2016-10-02              2         146           3 -34.623587   \n",
       "18745  2016-10-02              1          64           3 -34.632349   \n",
       "\n",
       "             lon  surface_total_in_m2  surface_covered_in_m2  floor  rooms  \\\n",
       "18733 -58.537104                126.0                  126.0    0.0    3.0   \n",
       "18742 -58.408861                517.0                  330.0    0.0    0.0   \n",
       "18745 -58.485810                 40.0                   40.0    0.0    0.0   \n",
       "\n",
       "       expenses  price_aprox_usd  \n",
       "18733       0.0         130000.0  \n",
       "18742       0.0         395000.0  \n",
       "18745     700.0          69000.0  "
      ]
     },
     "execution_count": 22,
     "metadata": {},
     "output_type": "execute_result"
    }
   ],
   "source": [
    "properties_placenames.head(3)"
   ]
  },
  {
   "cell_type": "code",
   "execution_count": 23,
   "metadata": {
    "collapsed": false
   },
   "outputs": [
    {
     "name": "stderr",
     "output_type": "stream",
     "text": [
      "/opt/conda/lib/python3.5/site-packages/ipykernel/__main__.py:2: SettingWithCopyWarning: \n",
      "A value is trying to be set on a copy of a slice from a DataFrame.\n",
      "Try using .loc[row_indexer,col_indexer] = value instead\n",
      "\n",
      "See the caveats in the documentation: http://pandas.pydata.org/pandas-docs/stable/indexing.html#indexing-view-versus-copy\n",
      "  from ipykernel import kernelapp as app\n"
     ]
    },
    {
     "data": {
      "text/html": [
       "<div>\n",
       "<table border=\"1\" class=\"dataframe\">\n",
       "  <thead>\n",
       "    <tr style=\"text-align: right;\">\n",
       "      <th></th>\n",
       "      <th>created_on</th>\n",
       "      <th>property_type</th>\n",
       "      <th>place_name</th>\n",
       "      <th>state_name</th>\n",
       "      <th>lat</th>\n",
       "      <th>lon</th>\n",
       "      <th>surface_total_in_m2</th>\n",
       "      <th>surface_covered_in_m2</th>\n",
       "      <th>floor</th>\n",
       "      <th>rooms</th>\n",
       "      <th>expenses</th>\n",
       "      <th>price_aprox_usd</th>\n",
       "    </tr>\n",
       "  </thead>\n",
       "  <tbody>\n",
       "    <tr>\n",
       "      <th>18733</th>\n",
       "      <td>20161002</td>\n",
       "      <td>2</td>\n",
       "      <td>114</td>\n",
       "      <td>0</td>\n",
       "      <td>-34.535086</td>\n",
       "      <td>-58.537104</td>\n",
       "      <td>126.0</td>\n",
       "      <td>126.0</td>\n",
       "      <td>0.0</td>\n",
       "      <td>3.0</td>\n",
       "      <td>0.0</td>\n",
       "      <td>130000.0</td>\n",
       "    </tr>\n",
       "    <tr>\n",
       "      <th>18742</th>\n",
       "      <td>20161002</td>\n",
       "      <td>2</td>\n",
       "      <td>146</td>\n",
       "      <td>3</td>\n",
       "      <td>-34.623587</td>\n",
       "      <td>-58.408861</td>\n",
       "      <td>517.0</td>\n",
       "      <td>330.0</td>\n",
       "      <td>0.0</td>\n",
       "      <td>0.0</td>\n",
       "      <td>0.0</td>\n",
       "      <td>395000.0</td>\n",
       "    </tr>\n",
       "    <tr>\n",
       "      <th>18745</th>\n",
       "      <td>20161002</td>\n",
       "      <td>1</td>\n",
       "      <td>64</td>\n",
       "      <td>3</td>\n",
       "      <td>-34.632349</td>\n",
       "      <td>-58.485810</td>\n",
       "      <td>40.0</td>\n",
       "      <td>40.0</td>\n",
       "      <td>0.0</td>\n",
       "      <td>0.0</td>\n",
       "      <td>700.0</td>\n",
       "      <td>69000.0</td>\n",
       "    </tr>\n",
       "    <tr>\n",
       "      <th>18747</th>\n",
       "      <td>20161002</td>\n",
       "      <td>1</td>\n",
       "      <td>7</td>\n",
       "      <td>3</td>\n",
       "      <td>-34.611201</td>\n",
       "      <td>-58.407291</td>\n",
       "      <td>230.0</td>\n",
       "      <td>230.0</td>\n",
       "      <td>0.0</td>\n",
       "      <td>8.0</td>\n",
       "      <td>0.0</td>\n",
       "      <td>298500.0</td>\n",
       "    </tr>\n",
       "    <tr>\n",
       "      <th>18752</th>\n",
       "      <td>20161002</td>\n",
       "      <td>2</td>\n",
       "      <td>112</td>\n",
       "      <td>1</td>\n",
       "      <td>-34.639858</td>\n",
       "      <td>-58.786730</td>\n",
       "      <td>0.0</td>\n",
       "      <td>84.0</td>\n",
       "      <td>3.0</td>\n",
       "      <td>4.0</td>\n",
       "      <td>0.0</td>\n",
       "      <td>119500.0</td>\n",
       "    </tr>\n",
       "  </tbody>\n",
       "</table>\n",
       "</div>"
      ],
      "text/plain": [
       "       created_on  property_type  place_name  state_name        lat  \\\n",
       "18733    20161002              2         114           0 -34.535086   \n",
       "18742    20161002              2         146           3 -34.623587   \n",
       "18745    20161002              1          64           3 -34.632349   \n",
       "18747    20161002              1           7           3 -34.611201   \n",
       "18752    20161002              2         112           1 -34.639858   \n",
       "\n",
       "             lon  surface_total_in_m2  surface_covered_in_m2  floor  rooms  \\\n",
       "18733 -58.537104                126.0                  126.0    0.0    3.0   \n",
       "18742 -58.408861                517.0                  330.0    0.0    0.0   \n",
       "18745 -58.485810                 40.0                   40.0    0.0    0.0   \n",
       "18747 -58.407291                230.0                  230.0    0.0    8.0   \n",
       "18752 -58.786730                  0.0                   84.0    3.0    4.0   \n",
       "\n",
       "       expenses  price_aprox_usd  \n",
       "18733       0.0         130000.0  \n",
       "18742       0.0         395000.0  \n",
       "18745     700.0          69000.0  \n",
       "18747       0.0         298500.0  \n",
       "18752       0.0         119500.0  "
      ]
     },
     "execution_count": 23,
     "metadata": {},
     "output_type": "execute_result"
    }
   ],
   "source": [
    "# fechas\n",
    "properties_placenames['created_on'] = properties_placenames['created_on'].str.replace('-','').apply(int)\n",
    "properties_placenames.head()"
   ]
  },
  {
   "cell_type": "markdown",
   "metadata": {},
   "source": [
    "Por ultimo separamos el set en 2 para poder entrenar y validar"
   ]
  },
  {
   "cell_type": "code",
   "execution_count": 24,
   "metadata": {
    "collapsed": false
   },
   "outputs": [
    {
     "name": "stdout",
     "output_type": "stream",
     "text": [
      "Index(['created_on', 'property_type', 'place_name', 'state_name', 'lat', 'lon',\n",
      "       'surface_total_in_m2', 'surface_covered_in_m2', 'floor', 'rooms',\n",
      "       'expenses'],\n",
      "      dtype='object')\n"
     ]
    }
   ],
   "source": [
    "# obtenemos las columnas\n",
    "properties = properties_placenames\n",
    "\n",
    "columns = properties.iloc[:, properties.columns != 'price_aprox_usd'].columns\n",
    "print(columns)"
   ]
  },
  {
   "cell_type": "code",
   "execution_count": 25,
   "metadata": {
    "collapsed": false
   },
   "outputs": [
    {
     "data": {
      "text/plain": [
       "(20885, 83538)"
      ]
     },
     "execution_count": 25,
     "metadata": {},
     "output_type": "execute_result"
    }
   ],
   "source": [
    "# separamos el train de traing para validarlo luego usando un 20% de los datos\n",
    "from sklearn.model_selection import train_test_split\n",
    "import datetime\n",
    "\n",
    "now = datetime.datetime.now()\n",
    "\n",
    "X, y = properties.iloc[:, properties.columns != 'price_aprox_usd'].values, properties.iloc[:, properties.columns == 'price_aprox_usd'].values\n",
    "\n",
    "X_train, X_test, y_train, y_test = \\\n",
    "        train_test_split(X, y, test_size=0.2, random_state=200)\n",
    "    \n",
    "len(X_test), len(X_train)"
   ]
  },
  {
   "cell_type": "code",
   "execution_count": 26,
   "metadata": {
    "collapsed": false
   },
   "outputs": [
    {
     "name": "stdout",
     "output_type": "stream",
     "text": [
      "[[  2.01706050e+07   1.00000000e+00   1.38000000e+02 ...,   0.00000000e+00\n",
      "    1.00000000e+00   0.00000000e+00]\n",
      " [  2.01705310e+07   1.00000000e+00   1.50000000e+02 ...,   0.00000000e+00\n",
      "    0.00000000e+00   0.00000000e+00]\n",
      " [  2.01703280e+07   2.00000000e+00   1.38000000e+02 ...,   0.00000000e+00\n",
      "    4.00000000e+00   0.00000000e+00]\n",
      " ..., \n",
      " [  2.01707290e+07   1.00000000e+00   1.41000000e+02 ...,   0.00000000e+00\n",
      "    0.00000000e+00   4.00000000e+03]\n",
      " [  2.01610200e+07   1.00000000e+00   1.23000000e+02 ...,   0.00000000e+00\n",
      "    2.00000000e+00   0.00000000e+00]\n",
      " [  2.01610260e+07   1.00000000e+00   1.96000000e+02 ...,   0.00000000e+00\n",
      "    2.00000000e+00   0.00000000e+00]]\n",
      "[[ 0.49651884 -0.38659992  0.70007077 ..., -0.2227901  -0.49428286\n",
      "  -0.01377297]\n",
      " [ 0.47558034 -0.38659992  0.91160085 ..., -0.2227901  -1.04386761\n",
      "  -0.01377297]\n",
      " [ 0.41814096  1.19683722  0.70007077 ..., -0.2227901   1.1544714\n",
      "  -0.01377297]\n",
      " ..., \n",
      " [ 0.53160496 -0.38659992  0.75295329 ..., -0.2227901  -1.04386761\n",
      "   0.04394306]\n",
      " [-2.21558211 -0.38659992  0.43565818 ..., -0.2227901   0.05530189\n",
      "  -0.01377297]\n",
      " [-2.2138844  -0.38659992  1.72246612 ..., -0.2227901   0.05530189\n",
      "  -0.01377297]]\n"
     ]
    }
   ],
   "source": [
    "# a cada dato le restamos la media y lo dividimos por su desviacion standard\n",
    "from sklearn.preprocessing import StandardScaler\n",
    "\n",
    "stdsc_train = StandardScaler()\n",
    "stdsc_test = StandardScaler()\n",
    "\n",
    "X_train_std = stdsc_train.fit_transform(X_train)\n",
    "X_test_std = stdsc_test.fit_transform(X_test)\n",
    "\n",
    "print(X_train)\n",
    "print(X_train_std)"
   ]
  },
  {
   "cell_type": "markdown",
   "metadata": {},
   "source": [
    "## Algoritmo 1: KNN"
   ]
  },
  {
   "cell_type": "code",
   "execution_count": 27,
   "metadata": {
    "collapsed": true
   },
   "outputs": [],
   "source": [
    "best_k = 5\n",
    "best_p = 2"
   ]
  },
  {
   "cell_type": "code",
   "execution_count": 28,
   "metadata": {
    "collapsed": false
   },
   "outputs": [
    {
     "name": "stdout",
     "output_type": "stream",
     "text": [
      "Transcurrieron: 12.59 segundos de entrenamiento\n",
      "Transcurrieron: 5.11 segundos de predicción\n"
     ]
    }
   ],
   "source": [
    "from time import time\n",
    "from sklearn.neighbors import KNeighborsRegressor\n",
    "\n",
    "# calculo el tiempo que tarda un knn\n",
    "start_time = time()\n",
    "\n",
    "knn = KNeighborsRegressor(n_neighbors=best_k, weights='distance', p=best_p)\n",
    "knn.fit(X_train_std, y_train)\n",
    "\n",
    "train_time = time() - start_time\n",
    "print(\"Transcurrieron: %0.2f segundos de entrenamiento\" % train_time)\n",
    "\n",
    "y_predict = knn.predict(X_test_std)\n",
    "\n",
    "predict_time = time() - start_time - train_time\n",
    "print(\"Transcurrieron: %0.2f segundos de predicción\" % predict_time)"
   ]
  },
  {
   "cell_type": "markdown",
   "metadata": {},
   "source": [
    "Intentamos buscar con backward selection cuales son los features que mejor prediccion nos dan"
   ]
  },
  {
   "cell_type": "code",
   "execution_count": 29,
   "metadata": {
    "collapsed": false
   },
   "outputs": [
    {
     "data": {
      "image/png": "[encoded data removed]",
      "text/plain": [
       "<matplotlib.figure.Figure at 0x7fcbaa872240>"
      ]
     },
     "metadata": {},
     "output_type": "display_data"
    }
   ],
   "source": [
    "from sklearn.base import clone\n",
    "from itertools import combinations\n",
    "from sklearn.model_selection import train_test_split\n",
    "from sklearn.metrics import accuracy_score, median_absolute_error, mean_squared_error\n",
    "\n",
    "# clase para hacer Backward Selection\n",
    "class SBS():\n",
    "    def __init__(self, estimator, k_features,\n",
    "        scoring=accuracy_score,\n",
    "        test_size=0.25, random_state=1):\n",
    "        self.scoring = scoring\n",
    "        self.estimator = clone(estimator)\n",
    "        self.k_features = k_features\n",
    "        self.test_size = test_size\n",
    "        self.random_state = random_state\n",
    "        \n",
    "    def fit(self, X, y):\n",
    "        X_train, X_test, y_train, y_test = \\\n",
    "            train_test_split(X, y, test_size=self.test_size,\n",
    "        random_state=self.random_state)\n",
    "        dim = X_train.shape[1]\n",
    "        self.indices_ = tuple(range(dim))\n",
    "        self.subsets_ = [self.indices_]\n",
    "        score = self._calc_score(X_train, y_train,\n",
    "        X_test, y_test, self.indices_)\n",
    "        self.scores_ = [score]\n",
    "        while dim > self.k_features:\n",
    "            scores = []\n",
    "            subsets = []\n",
    "            for p in combinations(self.indices_, r=dim-1):\n",
    "                score = self._calc_score(X_train, y_train,\n",
    "                X_test, y_test, p)\n",
    "                scores.append(score)\n",
    "                subsets.append(p)\n",
    "            best = np.argmax(scores)\n",
    "            self.indices_ = subsets[best]\n",
    "            self.subsets_.append(self.indices_)\n",
    "            dim -= 1\n",
    "            self.scores_.append(scores[best])\n",
    "        self.k_score_ = self.scores_[-1]\n",
    "        return self\n",
    "    \n",
    "    def transform(self, X):\n",
    "        return X[:, self.indices_]\n",
    "        \n",
    "    def _calc_score(self, X_train, y_train,\n",
    "                        X_test, y_test, indices):\n",
    "        self.estimator.fit(X_train[:, indices], y_train)\n",
    "        y_pred = self.estimator.predict(X_test[:, indices])\n",
    "        score = self.scoring(y_test, y_pred)\n",
    "        return score\n",
    "\n",
    "# aplicamos algoritmos\n",
    "from sklearn.neighbors import KNeighborsRegressor\n",
    "\n",
    "knn = KNeighborsRegressor(n_neighbors=5, weights='distance')\n",
    "sbs = SBS(knn, k_features=1, scoring=mean_squared_error)\n",
    "sbs.fit(X_train_std, y_train)\n",
    "\n",
    "# graficamos\n",
    "k_feat = [len(k) for k in sbs.subsets_]\n",
    "plot(k_feat, sbs.scores_, marker='o')\n",
    "#ylim([0.0, 1.1])\n",
    "ylabel('Mean Squared Error')\n",
    "xlabel('Number of features')\n",
    "grid()\n",
    "show()"
   ]
  },
  {
   "cell_type": "markdown",
   "metadata": {},
   "source": [
    "Observamos que el RMSE disminuye a medida que aumentamos la cantidad de features. No parece necesario disminuir la cantidad de features a menos que sea por temas de performance."
   ]
  },
  {
   "cell_type": "code",
   "execution_count": 30,
   "metadata": {
    "collapsed": false
   },
   "outputs": [
    {
     "name": "stdout",
     "output_type": "stream",
     "text": [
      "Buscando k optimo ..\n",
      "score= 223722.4035061741 k= 10\n",
      ".\n",
      "score= 220387.6993613128 k= 20\n",
      ".\n",
      "score= 220068.00637817345 k= 30\n",
      "......El k optimo parece estar cerca de 30\n"
     ]
    }
   ],
   "source": [
    "from sklearn.neighbors import KNeighborsRegressor\n",
    "from sklearn.metrics import mean_squared_error\n",
    "from math import sqrt\n",
    "\n",
    "# busqueda de hiper-parametros\n",
    "k_scores = []\n",
    "k_list = []\n",
    "\n",
    "best_score = float(\"inf\")\n",
    "\n",
    "print('Buscando k optimo .',end='')\n",
    "for i in [10,20,30,40,60,70,80,90,100]:\n",
    "    print('.',end='')\n",
    "    knn = KNeighborsRegressor(n_neighbors=i, weights='distance', n_jobs=-1)\n",
    "    knn.fit(X_train_std, y_train)\n",
    "\n",
    "    k_list.append(i)\n",
    "    \n",
    "    y_predict = knn.predict(X_test_std)\n",
    "    sc = sqrt(mean_squared_error(y_predict,y_test))\n",
    "\n",
    "    k_scores.append(sc)\n",
    "\n",
    "    if(sc < best_score):\n",
    "        best_score = sc\n",
    "        best_k = i\n",
    "        print(\"\")\n",
    "        print(\"score=\",best_score,\"k=\",best_k)\n",
    "        \n",
    "print(\"El k optimo parece estar cerca de\",best_k)"
   ]
  },
  {
   "cell_type": "code",
   "execution_count": 32,
   "metadata": {
    "collapsed": false
   },
   "outputs": [
    {
     "name": "stdout",
     "output_type": "stream",
     "text": [
      "Buscando k optimo ...\n",
      "score= 220003.37918159607 k= 26\n",
      "........El k optimo parece estar cerca de 26\n"
     ]
    }
   ],
   "source": [
    "# buscamos alrededor del 10\n",
    "print('Buscando k optimo .',end='')\n",
    "range_start = best_k - 5\n",
    "range_end = best_k + 5\n",
    "for i in range(range_start, range_end, 1):\n",
    "    print('.',end='')\n",
    "    knn = KNeighborsRegressor(n_neighbors=i, weights='distance', n_jobs=-1)\n",
    "    knn.fit(X_train_std, y_train)\n",
    "\n",
    "    k_list.append(i)\n",
    "    \n",
    "    y_predict = knn.predict(X_test_std)\n",
    "    sc = sqrt(mean_squared_error(y_predict,y_test))\n",
    "\n",
    "    k_scores.append(sc)\n",
    "\n",
    "    if(sc < best_score):\n",
    "        best_score = sc\n",
    "        best_k = i\n",
    "        print(\"\")\n",
    "        print(\"score=\",best_score,\"k=\",best_k)\n",
    "        \n",
    "print(\"El k optimo parece estar cerca de\",best_k)"
   ]
  },
  {
   "cell_type": "code",
   "execution_count": 33,
   "metadata": {
    "collapsed": false
   },
   "outputs": [
    {
     "name": "stdout",
     "output_type": "stream",
     "text": [
      "Buscando p optimo ............El p optimo parece estar cerca de 2\n"
     ]
    }
   ],
   "source": [
    "p_list = []\n",
    "print('Buscando p optimo .',end='')\n",
    "for p in [100,81,77,66,50,43,30,25,14,9,2]:\n",
    "    print('.',end='')\n",
    "    knn = KNeighborsRegressor(n_neighbors=best_k, p=p, weights='distance', n_jobs=-1)\n",
    "    knn.fit(X_train_std, y_train)\n",
    "\n",
    "    p_list.append(i)\n",
    "    \n",
    "    y_predict = knn.predict(X_test_std)\n",
    "    sc = sqrt(mean_squared_error(y_predict,y_test))\n",
    "\n",
    "    k_scores.append(sc)\n",
    "\n",
    "    if(sc < best_score):\n",
    "        best_score = sc\n",
    "        best_p = p\n",
    "        print(\"\")\n",
    "        print(\"score=\",best_score,\"k=\",best_p)\n",
    "        \n",
    "print(\"El p optimo parece estar cerca de\",best_p)"
   ]
  },
  {
   "cell_type": "code",
   "execution_count": 34,
   "metadata": {
    "collapsed": false
   },
   "outputs": [
    {
     "name": "stdout",
     "output_type": "stream",
     "text": [
      "Error del set de entrenamiento 32826.430387409986\n",
      "Error del set de test 220003.37918159607\n"
     ]
    }
   ],
   "source": [
    "# entrenamos el modelo\n",
    "model_knn = KNeighborsRegressor(n_neighbors=best_k, weights='distance', p=best_p, n_jobs=-1)\n",
    "model_knn.fit(X_train_std, y_train)\n",
    "\n",
    "y_predict = model_knn.predict(X_train_std)\n",
    "print(\"Error del set de entrenamiento\",sqrt(mean_squared_error(y_predict,y_train)))\n",
    "\n",
    "y_predict = model_knn.predict(X_test_std)\n",
    "print(\"Error del set de test\",sqrt(mean_squared_error(y_predict,y_test)))\n"
   ]
  },
  {
   "cell_type": "markdown",
   "metadata": {},
   "source": [
    "## Algoritmo II: Random Forest"
   ]
  },
  {
   "cell_type": "markdown",
   "metadata": {},
   "source": [
    "### RF con datos no-normalizados"
   ]
  },
  {
   "cell_type": "code",
   "execution_count": 167,
   "metadata": {
    "collapsed": true
   },
   "outputs": [],
   "source": [
    "best_max_depth = 5\n",
    "best_min_samples_leaf = 5\n",
    "best_min_samples_split = 10"
   ]
  },
  {
   "cell_type": "code",
   "execution_count": 168,
   "metadata": {
    "collapsed": false
   },
   "outputs": [
    {
     "name": "stderr",
     "output_type": "stream",
     "text": [
      "/opt/conda/lib/python3.5/site-packages/ipykernel/__main__.py:8: DataConversionWarning: A column-vector y was passed when a 1d array was expected. Please change the shape of y to (n_samples,), for example using ravel().\n"
     ]
    },
    {
     "name": "stdout",
     "output_type": "stream",
     "text": [
      "Transcurrieron: 14.58 segundos de entrenamiento\n",
      "Transcurrieron: 0.07 segundos de predicción\n"
     ]
    }
   ],
   "source": [
    "from time import time\n",
    "from sklearn.ensemble import RandomForestRegressor\n",
    "\n",
    "# calculo el tiempo que tarda un knn\n",
    "start_time = time()\n",
    "\n",
    "rf1 = RandomForestRegressor(n_estimators=100, max_features='auto', max_depth=best_max_depth,\\\n",
    "                           min_samples_leaf=best_min_samples_leaf, min_samples_split=best_min_samples_split)\n",
    "rf1.fit(X_train_std, y_train.ravel())\n",
    "\n",
    "train_time = time() - start_time\n",
    "print(\"Transcurrieron: %0.2f segundos de entrenamiento\" % train_time)\n",
    "\n",
    "y_predict = rf1.predict(X_test_std)\n",
    "\n",
    "predict_time = time() - start_time - train_time\n",
    "print(\"Transcurrieron: %0.2f segundos de predicción\" % predict_time)"
   ]
  },
  {
   "cell_type": "markdown",
   "metadata": {},
   "source": [
    "Primero fijo min leaf y min samples split y busco el max depth"
   ]
  },
  {
   "cell_type": "code",
   "execution_count": 172,
   "metadata": {
    "collapsed": false
   },
   "outputs": [
    {
     "name": "stdout",
     "output_type": "stream",
     "text": [
      "Buscando max_depth optimo ..\n",
      "score= 204462.48746332157 max_depth= 10\n",
      ".\n",
      "score= 193624.08728787221 max_depth= 20\n",
      ".\n",
      "score= 193204.01498244234 max_depth= 30\n",
      "..........El max_depth optimo parece estar cerca de 30\n"
     ]
    }
   ],
   "source": [
    "best_score = float(\"inf\")\n",
    "\n",
    "print('Buscando max_depth optimo .',end='')\n",
    "for i in [10,20,30,40,60,70,80,90,100,110,120,130,140]:\n",
    "    print('.',end='')\n",
    "    rf1 = RandomForestRegressor(n_estimators=100, max_features='auto', max_depth=i,\\\n",
    "                           min_samples_leaf=best_min_samples_leaf, min_samples_split=best_min_samples_split, n_jobs=-1)\n",
    "    rf1.fit(X_train, y_train.ravel())\n",
    "    \n",
    "    y_predict = rf1.predict(X_test)\n",
    "    sc = sqrt(mean_squared_error(y_predict,y_test))\n",
    "\n",
    "    if(sc < best_score):\n",
    "        best_score = sc\n",
    "        best_max_depth = i\n",
    "        print(\"\")\n",
    "        print(\"score=\",best_score,\"max_depth=\",best_max_depth)\n",
    "        \n",
    "print(\"El max_depth optimo parece estar cerca de\",best_max_depth)"
   ]
  },
  {
   "cell_type": "code",
   "execution_count": 173,
   "metadata": {
    "collapsed": false
   },
   "outputs": [
    {
     "name": "stdout",
     "output_type": "stream",
     "text": [
      "Buscando max_depth optimo ......\n",
      "score= 193159.91153818782 max_depth= 28\n",
      "....\n",
      "score= 192827.4127358393 max_depth= 32\n",
      "...El max_depth optimo parece estar cerca de 32\n"
     ]
    }
   ],
   "source": [
    "print('Buscando max_depth optimo .',end='')\n",
    "\n",
    "start_range = best_max_depth - 6\n",
    "end_range = best_max_depth + 6\n",
    "for i in range(start_range,end_range,1):\n",
    "    print('.',end='')\n",
    "    rf1 = RandomForestRegressor(n_estimators=100, max_features='auto', max_depth=i,\\\n",
    "                           min_samples_leaf=best_min_samples_leaf, min_samples_split=best_min_samples_split, n_jobs=-1)\n",
    "    rf1.fit(X_train, y_train.ravel())\n",
    "    \n",
    "    y_predict = rf1.predict(X_test)\n",
    "    sc = sqrt(mean_squared_error(y_predict,y_test))\n",
    "\n",
    "    if(sc < best_score):\n",
    "        best_score = sc\n",
    "        best_max_depth = i\n",
    "        print(\"\")\n",
    "        print(\"score=\",best_score,\"max_depth=\",best_max_depth)\n",
    "        \n",
    "print(\"El max_depth optimo parece estar cerca de\",best_max_depth)"
   ]
  },
  {
   "cell_type": "markdown",
   "metadata": {},
   "source": [
    "Fijado el max_depth ahora iteramos sobre el min leaf"
   ]
  },
  {
   "cell_type": "code",
   "execution_count": 176,
   "metadata": {
    "collapsed": false
   },
   "outputs": [
    {
     "name": "stdout",
     "output_type": "stream",
     "text": [
      "Buscando min_samples_leaf optimo .........El min_samples_leaf optimo parece estar cerca de 5\n"
     ]
    }
   ],
   "source": [
    "print('Buscando min_samples_leaf optimo .',end='')\n",
    "for i in [5,10,15,20,25,30,35,40]:\n",
    "    print('.',end='')\n",
    "    rf1 = RandomForestRegressor(n_estimators=100, max_features='auto', max_depth=best_max_depth,\\\n",
    "                           min_samples_leaf=i, min_samples_split=best_min_samples_split, n_jobs=-1)\n",
    "    rf1.fit(X_train, y_train.ravel())\n",
    "    \n",
    "    y_predict = rf1.predict(X_test)\n",
    "    sc = sqrt(mean_squared_error(y_predict,y_test))\n",
    "\n",
    "    if(sc < best_score):\n",
    "        best_score = sc\n",
    "        best_min_samples_leaf = i\n",
    "        print(\"\")\n",
    "        print(\"score=\",best_score,\"min_samples_leaf=\",best_min_samples_leaf)\n",
    "        \n",
    "print(\"El min_samples_leaf optimo parece estar cerca de\",best_min_samples_leaf)"
   ]
  },
  {
   "cell_type": "code",
   "execution_count": 178,
   "metadata": {
    "collapsed": false
   },
   "outputs": [
    {
     "name": "stdout",
     "output_type": "stream",
     "text": [
      "Buscando min_samples_leaf optimo ..\n",
      "score= 189328.4305402849 min_samples_leaf= 1\n",
      ".......El min_samples_leaf optimo parece estar cerca de 1\n"
     ]
    }
   ],
   "source": [
    "start_range = best_min_samples_leaf - 4\n",
    "end_range = best_min_samples_leaf + 4\n",
    "\n",
    "print('Buscando min_samples_leaf optimo .',end='')\n",
    "for i in range(start_range,end_range,1):\n",
    "    print('.',end='')\n",
    "    rf1 = RandomForestRegressor(n_estimators=100, max_features='auto', max_depth=best_max_depth,\\\n",
    "                           min_samples_leaf=i, min_samples_split=best_min_samples_split, n_jobs=-1)\n",
    "    rf1.fit(X_train, y_train.ravel())\n",
    "    \n",
    "    y_predict = rf1.predict(X_test)\n",
    "    sc = sqrt(mean_squared_error(y_predict,y_test))\n",
    "\n",
    "    if(sc < best_score):\n",
    "        best_score = sc\n",
    "        best_min_samples_leaf = i\n",
    "        print(\"\")\n",
    "        print(\"score=\",best_score,\"min_samples_leaf=\",best_min_samples_leaf)\n",
    "        \n",
    "print(\"El min_samples_leaf optimo parece estar cerca de\",best_min_samples_leaf)"
   ]
  },
  {
   "cell_type": "code",
   "execution_count": 179,
   "metadata": {
    "collapsed": false
   },
   "outputs": [
    {
     "name": "stdout",
     "output_type": "stream",
     "text": [
      "Buscando min_samples_split optimo ..\n",
      "score= 186975.5385509554 min_samples_split= 10\n",
      ".......El min_samples_split optimo parece estar cerca de 10\n"
     ]
    }
   ],
   "source": [
    "print('Buscando min_samples_split optimo .',end='')\n",
    "for i in [5,10,15,20,25,30,35,40]:\n",
    "    print('.',end='')\n",
    "    rf1 = RandomForestRegressor(n_estimators=100, max_features='auto', max_depth=best_max_depth,\\\n",
    "                           min_samples_leaf=best_min_samples_leaf, min_samples_split=i, n_jobs=-1)\n",
    "    rf1.fit(X_train, y_train.ravel())\n",
    "    \n",
    "    y_predict = rf1.predict(X_test)\n",
    "    sc = sqrt(mean_squared_error(y_predict,y_test))\n",
    "\n",
    "    if(sc < best_score):\n",
    "        best_score = sc\n",
    "        best_min_samples_leaf = i\n",
    "        print(\"\")\n",
    "        print(\"score=\",best_score,\"min_samples_split=\",best_min_samples_split)\n",
    "        \n",
    "print(\"El min_samples_split optimo parece estar cerca de\",best_min_samples_split)"
   ]
  },
  {
   "cell_type": "code",
   "execution_count": 180,
   "metadata": {
    "collapsed": false
   },
   "outputs": [
    {
     "name": "stdout",
     "output_type": "stream",
     "text": [
      "Buscando min_samples_split optimo .........El min_samples_split optimo parece estar cerca de 10\n"
     ]
    }
   ],
   "source": [
    "start_range = best_min_samples_split - 4\n",
    "end_range = best_min_samples_split + 4\n",
    "\n",
    "print('Buscando min_samples_split optimo .',end='')\n",
    "for i in range(start_range,end_range,1):\n",
    "    print('.',end='')\n",
    "    rf1 = RandomForestRegressor(n_estimators=100, max_features='auto', max_depth=best_max_depth,\\\n",
    "                           min_samples_leaf=best_min_samples_leaf, min_samples_split=i, n_jobs=-1)\n",
    "    rf1.fit(X_train, y_train.ravel())\n",
    "    \n",
    "    y_predict = rf1.predict(X_test)\n",
    "    sc = sqrt(mean_squared_error(y_predict,y_test))\n",
    "\n",
    "    if(sc < best_score):\n",
    "        best_score = sc\n",
    "        best_min_samples_leaf = i\n",
    "        print(\"\")\n",
    "        print(\"score=\",best_score,\"min_samples_split=\",best_min_samples_split)\n",
    "        \n",
    "print(\"El min_samples_split optimo parece estar cerca de\",best_min_samples_split)"
   ]
  },
  {
   "cell_type": "markdown",
   "metadata": {},
   "source": [
    "Por ultima vamos a ir aumentando los estimadores para mejorar la precisiones tratando de ver si mejoran o no los resultados. Esperamos que mientras mas estimadores tengamos, mejores seran los resultados"
   ]
  },
  {
   "cell_type": "code",
   "execution_count": 181,
   "metadata": {
    "collapsed": false
   },
   "outputs": [
    {
     "name": "stdout",
     "output_type": "stream",
     "text": [
      "Aumentando la cantidad de estimadores ...........La cantidad de estimadores que mejor resultados nos dio fue 100\n"
     ]
    }
   ],
   "source": [
    "best_estimators = 100\n",
    "\n",
    "print('Aumentando la cantidad de estimadores .',end='')\n",
    "for i in [100,200,300,400,500,600,700,800,900,1000]:\n",
    "    print('.',end='')\n",
    "    rf1 = RandomForestRegressor(n_estimators=i, max_features='auto', max_depth=best_max_depth,\\\n",
    "                           min_samples_leaf=best_min_samples_leaf, min_samples_split=best_min_samples_split, n_jobs=-1)\n",
    "    rf1.fit(X_train, y_train.ravel())\n",
    "    \n",
    "    y_predict = rf1.predict(X_test)\n",
    "    sc = sqrt(mean_squared_error(y_predict,y_test))\n",
    "\n",
    "    if(sc < best_score):\n",
    "        best_score = sc\n",
    "        best_estimators = i\n",
    "        print(\"\")\n",
    "        print(\"score=\",best_score,\"best_estimators=\",best_estimators)\n",
    "        \n",
    "print(\"La cantidad de estimadores que mejor resultados nos dio fue\",best_estimators)"
   ]
  },
  {
   "cell_type": "code",
   "execution_count": 184,
   "metadata": {
    "collapsed": false
   },
   "outputs": [
    {
     "name": "stdout",
     "output_type": "stream",
     "text": [
      "Error del set de entrenamiento 103808.53315985885\n",
      "Error del set de test 193179.15895364087\n"
     ]
    }
   ],
   "source": [
    "# entrenamos el modelo\n",
    "model_rf1 = RandomForestRegressor(n_estimators=best_estimators, max_features='auto', max_depth=best_max_depth,\\\n",
    "                           min_samples_leaf=best_min_samples_leaf, min_samples_split=best_min_samples_split, n_jobs=-1)\n",
    "model_rf1.fit(X_train, y_train.ravel())\n",
    "\n",
    "y_predict = model_rf1.predict(X_train)\n",
    "print(\"Error del set de entrenamiento\",sqrt(mean_squared_error(y_predict,y_train)))\n",
    "\n",
    "y_predict = model_rf1.predict(X_test)\n",
    "print(\"Error del set de test\",sqrt(mean_squared_error(y_predict,y_test)))"
   ]
  },
  {
   "cell_type": "markdown",
   "metadata": {},
   "source": [
    "### RF con datos normalizados"
   ]
  },
  {
   "cell_type": "code",
   "execution_count": 197,
   "metadata": {
    "collapsed": false
   },
   "outputs": [],
   "source": [
    "best_max_depth = 5\n",
    "best_min_samples_leaf = 5\n",
    "best_min_samples_split = 10"
   ]
  },
  {
   "cell_type": "code",
   "execution_count": 202,
   "metadata": {
    "collapsed": false
   },
   "outputs": [
    {
     "name": "stdout",
     "output_type": "stream",
     "text": [
      "Buscando max_depth optimo ..\n",
      "score= 223023.79344610393 max_depth= 10\n",
      ".\n",
      "score= 218147.8014873916 max_depth= 20\n",
      "..\n",
      "score= 217069.4597087027 max_depth= 40\n",
      ".\n",
      "score= 215911.51728528607 max_depth= 60\n",
      "..\n",
      "score= 215835.08093321047 max_depth= 80\n",
      ".....\n",
      "score= 214259.014941069 max_depth= 130\n",
      ".El max_depth optimo parece estar cerca de 130\n"
     ]
    }
   ],
   "source": [
    "best_score = float(\"inf\")\n",
    "\n",
    "print('Buscando max_depth optimo .',end='')\n",
    "for i in [10,20,30,40,60,70,80,90,100,110,120,130,140]:\n",
    "    print('.',end='')\n",
    "    model_rf2 = RandomForestRegressor(n_estimators=100, max_features='auto', max_depth=i, n_jobs=-1)\n",
    "    model_rf2.fit(X_train_std, y_train.ravel())\n",
    "    \n",
    "    y_predict = model_rf2.predict(X_test_std)\n",
    "    sc = sqrt(mean_squared_error(y_predict,y_test))\n",
    "\n",
    "    if(sc < best_score):\n",
    "        best_score = sc\n",
    "        best_max_depth = i\n",
    "        print(\"\")\n",
    "        print(\"score=\",best_score,\"max_depth=\",best_max_depth)\n",
    "        \n",
    "print(\"El max_depth optimo parece estar cerca de\",best_max_depth)"
   ]
  },
  {
   "cell_type": "code",
   "execution_count": 203,
   "metadata": {
    "collapsed": false
   },
   "outputs": [
    {
     "name": "stdout",
     "output_type": "stream",
     "text": [
      "Buscando max_depth optimo ..\n",
      "score= 214063.0773006001 max_depth= 124\n",
      "...........El max_depth optimo parece estar cerca de 124\n"
     ]
    }
   ],
   "source": [
    "print('Buscando max_depth optimo .',end='')\n",
    "\n",
    "start_range = best_max_depth - 6\n",
    "end_range = best_max_depth + 6\n",
    "for i in range(start_range,end_range,1):\n",
    "    print('.',end='')\n",
    "    model_rf2 = RandomForestRegressor(n_estimators=100, max_features='auto', max_depth=i, n_jobs=-1)\n",
    "    model_rf2.fit(X_train_std, y_train.ravel())\n",
    "    \n",
    "    y_predict = model_rf2.predict(X_test_std)\n",
    "    sc = sqrt(mean_squared_error(y_predict,y_test))\n",
    "\n",
    "    if(sc < best_score):\n",
    "        best_score = sc\n",
    "        best_max_depth = i\n",
    "        print(\"\")\n",
    "        print(\"score=\",best_score,\"max_depth=\",best_max_depth)\n",
    "        \n",
    "print(\"El max_depth optimo parece estar cerca de\",best_max_depth)"
   ]
  },
  {
   "cell_type": "code",
   "execution_count": 204,
   "metadata": {
    "collapsed": false
   },
   "outputs": [
    {
     "name": "stdout",
     "output_type": "stream",
     "text": [
      "Buscando min_samples_leaf optimo .........El min_samples_leaf optimo parece estar cerca de 5\n"
     ]
    }
   ],
   "source": [
    "print('Buscando min_samples_leaf optimo .',end='')\n",
    "for i in [5,10,15,20,25,30,35,40]:\n",
    "    print('.',end='')\n",
    "    model_rf2 = RandomForestRegressor(n_estimators=100, max_features='auto', max_depth=best_max_depth,\\\n",
    "                           min_samples_leaf=i, n_jobs=-1)\n",
    "    model_rf2.fit(X_train_std, y_train.ravel())\n",
    "    \n",
    "    y_predict = model_rf2.predict(X_test_std)\n",
    "    sc = sqrt(mean_squared_error(y_predict,y_test))\n",
    "\n",
    "    if(sc < best_score):\n",
    "        best_score = sc\n",
    "        best_min_samples_leaf = i\n",
    "        print(\"\")\n",
    "        print(\"score=\",best_score,\"min_samples_leaf=\",best_min_samples_leaf)\n",
    "        \n",
    "print(\"El min_samples_leaf optimo parece estar cerca de\",best_min_samples_leaf)"
   ]
  },
  {
   "cell_type": "code",
   "execution_count": 205,
   "metadata": {
    "collapsed": false
   },
   "outputs": [
    {
     "name": "stdout",
     "output_type": "stream",
     "text": [
      "Buscando min_samples_leaf optimo .........El min_samples_leaf optimo parece estar cerca de 5\n"
     ]
    }
   ],
   "source": [
    "print('Buscando min_samples_leaf optimo .',end='')\n",
    "\n",
    "start_range = best_min_samples_leaf - 4\n",
    "end_range = best_min_samples_leaf + 4\n",
    "for i in range(start_range,end_range,1):\n",
    "    print('.',end='')\n",
    "    model_rf2 = RandomForestRegressor(n_estimators=100, max_features='auto', max_depth=best_max_depth,\\\n",
    "                           min_samples_leaf=i, n_jobs=-1)\n",
    "    model_rf2.fit(X_train_std, y_train.ravel())\n",
    "    \n",
    "    y_predict = model_rf2.predict(X_test_std)\n",
    "    sc = sqrt(mean_squared_error(y_predict,y_test))\n",
    "\n",
    "    if(sc < best_score):\n",
    "        best_score = sc\n",
    "        best_min_samples_leaf = i\n",
    "        print(\"\")\n",
    "        print(\"score=\",best_score,\"min_samples_leaf=\",best_min_samples_leaf)\n",
    "        \n",
    "print(\"El min_samples_leaf optimo parece estar cerca de\",best_min_samples_leaf)"
   ]
  },
  {
   "cell_type": "code",
   "execution_count": 206,
   "metadata": {
    "collapsed": false
   },
   "outputs": [
    {
     "name": "stdout",
     "output_type": "stream",
     "text": [
      "Buscando min_samples_split optimo .........El min_samples_split optimo parece estar cerca de 10\n"
     ]
    }
   ],
   "source": [
    "print('Buscando min_samples_split optimo .',end='')\n",
    "for i in [5,10,15,20,25,30,35,40]:\n",
    "    print('.',end='')\n",
    "    model_rf2 = RandomForestRegressor(n_estimators=100, max_features='auto', max_depth=best_max_depth,\\\n",
    "                           min_samples_leaf=best_min_samples_leaf, min_samples_split=i, n_jobs=-1)\n",
    "    model_rf2.fit(X_train_std, y_train.ravel())\n",
    "    \n",
    "    y_predict = model_rf2.predict(X_test_std)\n",
    "    sc = sqrt(mean_squared_error(y_predict,y_test))\n",
    "\n",
    "    if(sc < best_score):\n",
    "        best_score = sc\n",
    "        best_min_samples_leaf = i\n",
    "        print(\"\")\n",
    "        print(\"score=\",best_score,\"min_samples_split=\",best_min_samples_split)\n",
    "        \n",
    "print(\"El min_samples_split optimo parece estar cerca de\",best_min_samples_split)"
   ]
  },
  {
   "cell_type": "code",
   "execution_count": 207,
   "metadata": {
    "collapsed": false
   },
   "outputs": [
    {
     "name": "stdout",
     "output_type": "stream",
     "text": [
      "Buscando min_samples_split optimo .........El min_samples_split optimo parece estar cerca de 10\n"
     ]
    }
   ],
   "source": [
    "print('Buscando min_samples_split optimo .',end='')\n",
    "\n",
    "start_range = best_min_samples_split - 4\n",
    "end_range = best_min_samples_split + 4\n",
    "for i in range(start_range,end_range,1):\n",
    "    print('.',end='')\n",
    "    model_rf2 = RandomForestRegressor(n_estimators=100, max_features='auto', max_depth=best_max_depth,\\\n",
    "                           min_samples_leaf=best_min_samples_leaf, min_samples_split=i, n_jobs=-1)\n",
    "    model_rf2.fit(X_train_std, y_train.ravel())\n",
    "    \n",
    "    y_predict = model_rf2.predict(X_test_std)\n",
    "    sc = sqrt(mean_squared_error(y_predict,y_test))\n",
    "\n",
    "    if(sc < best_score):\n",
    "        best_score = sc\n",
    "        best_min_samples_leaf = i\n",
    "        print(\"\")\n",
    "        print(\"score=\",best_score,\"min_samples_split=\",best_min_samples_split)\n",
    "        \n",
    "print(\"El min_samples_split optimo parece estar cerca de\",best_min_samples_split)"
   ]
  },
  {
   "cell_type": "code",
   "execution_count": 215,
   "metadata": {
    "collapsed": false
   },
   "outputs": [
    {
     "name": "stdout",
     "output_type": "stream",
     "text": [
      "Aumentando la cantidad de estimadores ...........La cantidad de estimadores que mejor resultados nos dio fue 100\n"
     ]
    }
   ],
   "source": [
    "best_estimators = 100\n",
    "\n",
    "print('Aumentando la cantidad de estimadores .',end='')\n",
    "for i in [100,200,300,400,500,600,700,800,900,1000]:\n",
    "    print('.',end='')\n",
    "    model_rf2 = RandomForestRegressor(n_estimators=i, max_features='auto', max_depth=best_max_depth,\\\n",
    "                           min_samples_leaf=best_min_samples_leaf, min_samples_split=best_min_samples_split, n_jobs=-1)\n",
    "    model_rf2.fit(X_train_std, y_train.ravel())\n",
    "    \n",
    "    y_predict = model_rf2.predict(X_test_std)\n",
    "    sc = sqrt(mean_squared_error(y_predict,y_test))\n",
    "\n",
    "    if(sc < best_score):\n",
    "        best_score = sc\n",
    "        best_estimators = i\n",
    "        print(\"\")\n",
    "        print(\"score=\",best_score,\"best_estimators=\",best_estimators)\n",
    "        \n",
    "print(\"La cantidad de estimadores que mejor resultados nos dio fue\",best_estimators)"
   ]
  },
  {
   "cell_type": "markdown",
   "metadata": {},
   "source": [
    "Por ultimo entrenamos el modelo y lo comparamos con el anterior. Fueron mejores o peores los resultados en cada uno de los sets?"
   ]
  },
  {
   "cell_type": "code",
   "execution_count": 216,
   "metadata": {
    "collapsed": false
   },
   "outputs": [
    {
     "name": "stdout",
     "output_type": "stream",
     "text": [
      "Error del set de entrenamiento 103787.23404408517\n",
      "Error del set de test 220360.2520936387\n"
     ]
    }
   ],
   "source": [
    "# entrenamos el modelo\n",
    "model_rf2 = RandomForestRegressor(n_estimators=best_estimators, max_features='auto', max_depth=best_max_depth,\\\n",
    "                           min_samples_leaf=best_min_samples_leaf, min_samples_split=best_min_samples_split, n_jobs=-1)\n",
    "model_rf2.fit(X_train_std, y_train.ravel())\n",
    "\n",
    "y_predict = model_rf2.predict(X_train_std)\n",
    "print(\"Error del set de entrenamiento\",sqrt(mean_squared_error(y_predict,y_train)))\n",
    "\n",
    "y_predict = model_rf2.predict(X_test_std)\n",
    "print(\"Error del set de test\",sqrt(mean_squared_error(y_predict,y_test)))"
   ]
  },
  {
   "cell_type": "markdown",
   "metadata": {},
   "source": [
    "## ENSAMBLE"
   ]
  },
  {
   "cell_type": "markdown",
   "metadata": {},
   "source": [
    "### Levantar set de test"
   ]
  },
  {
   "cell_type": "code",
   "execution_count": 144,
   "metadata": {
    "collapsed": false
   },
   "outputs": [
    {
     "data": {
      "text/html": [
       "<div>\n",
       "<table border=\"1\" class=\"dataframe\">\n",
       "  <thead>\n",
       "    <tr style=\"text-align: right;\">\n",
       "      <th></th>\n",
       "      <th>id</th>\n",
       "      <th>created_on</th>\n",
       "      <th>property_type</th>\n",
       "      <th>operation</th>\n",
       "      <th>place_name</th>\n",
       "      <th>place_with_parent_names</th>\n",
       "      <th>country_name</th>\n",
       "      <th>state_name</th>\n",
       "      <th>lat-lon</th>\n",
       "      <th>lat</th>\n",
       "      <th>lon</th>\n",
       "      <th>surface_total_in_m2</th>\n",
       "      <th>surface_covered_in_m2</th>\n",
       "      <th>floor</th>\n",
       "      <th>rooms</th>\n",
       "      <th>expenses</th>\n",
       "      <th>description</th>\n",
       "    </tr>\n",
       "  </thead>\n",
       "  <tbody>\n",
       "    <tr>\n",
       "      <th>0</th>\n",
       "      <td>3632</td>\n",
       "      <td>2017-08-24</td>\n",
       "      <td>departamento</td>\n",
       "      <td>venta</td>\n",
       "      <td>Puerto Madero</td>\n",
       "      <td>|Argentina|Capital Federal|Puerto Madero|</td>\n",
       "      <td>Argentina</td>\n",
       "      <td>Capital Federal</td>\n",
       "      <td>-34.6109877599,-58.3634635778</td>\n",
       "      <td>-34.610988</td>\n",
       "      <td>-58.363464</td>\n",
       "      <td>0.0</td>\n",
       "      <td>NaN</td>\n",
       "      <td>NaN</td>\n",
       "      <td>NaN</td>\n",
       "      <td>NaN</td>\n",
       "      <td>Edificio BA Houses situado frente al Dique 3 d...</td>\n",
       "    </tr>\n",
       "    <tr>\n",
       "      <th>1</th>\n",
       "      <td>3633</td>\n",
       "      <td>2017-08-25</td>\n",
       "      <td>departamento</td>\n",
       "      <td>venta</td>\n",
       "      <td>Buenos Aires Interior</td>\n",
       "      <td>|Argentina|Buenos Aires Interior|</td>\n",
       "      <td>Argentina</td>\n",
       "      <td>Buenos Aires Interior</td>\n",
       "      <td>NaN</td>\n",
       "      <td>NaN</td>\n",
       "      <td>NaN</td>\n",
       "      <td>0.0</td>\n",
       "      <td>NaN</td>\n",
       "      <td>NaN</td>\n",
       "      <td>NaN</td>\n",
       "      <td>NaN</td>\n",
       "      <td>El departamento cuenta con un living-comedor a...</td>\n",
       "    </tr>\n",
       "    <tr>\n",
       "      <th>2</th>\n",
       "      <td>2263404</td>\n",
       "      <td>2017-08-01</td>\n",
       "      <td>departamento</td>\n",
       "      <td>venta</td>\n",
       "      <td>Palermo Soho</td>\n",
       "      <td>|Argentina|Capital Federal|Palermo|Palermo Soho|</td>\n",
       "      <td>Argentina</td>\n",
       "      <td>Capital Federal</td>\n",
       "      <td>-34.5893633232,-58.4128798588</td>\n",
       "      <td>-34.589363</td>\n",
       "      <td>-58.412880</td>\n",
       "      <td>53.0</td>\n",
       "      <td>48.0</td>\n",
       "      <td>NaN</td>\n",
       "      <td>NaN</td>\n",
       "      <td>1500</td>\n",
       "      <td>IMPECABLE TORRE COY III – DEPA...</td>\n",
       "    </tr>\n",
       "    <tr>\n",
       "      <th>3</th>\n",
       "      <td>2263405</td>\n",
       "      <td>2017-08-01</td>\n",
       "      <td>departamento</td>\n",
       "      <td>venta</td>\n",
       "      <td>Chacarita</td>\n",
       "      <td>|Argentina|Capital Federal|Chacarita|</td>\n",
       "      <td>Argentina</td>\n",
       "      <td>Capital Federal</td>\n",
       "      <td>NaN</td>\n",
       "      <td>NaN</td>\n",
       "      <td>NaN</td>\n",
       "      <td>39.0</td>\n",
       "      <td>39.0</td>\n",
       "      <td>NaN</td>\n",
       "      <td>NaN</td>\n",
       "      <td>NaN</td>\n",
       "      <td>AMBIENTE DIVISIBLE CON PISOS D...</td>\n",
       "    </tr>\n",
       "    <tr>\n",
       "      <th>4</th>\n",
       "      <td>2263406</td>\n",
       "      <td>2017-08-01</td>\n",
       "      <td>departamento</td>\n",
       "      <td>venta</td>\n",
       "      <td>Chacarita</td>\n",
       "      <td>|Argentina|Capital Federal|Chacarita|</td>\n",
       "      <td>Argentina</td>\n",
       "      <td>Capital Federal</td>\n",
       "      <td>NaN</td>\n",
       "      <td>NaN</td>\n",
       "      <td>NaN</td>\n",
       "      <td>51.0</td>\n",
       "      <td>51.0</td>\n",
       "      <td>NaN</td>\n",
       "      <td>NaN</td>\n",
       "      <td>NaN</td>\n",
       "      <td>LIVING COMEDOR CON PISOS DE PO...</td>\n",
       "    </tr>\n",
       "  </tbody>\n",
       "</table>\n",
       "</div>"
      ],
      "text/plain": [
       "        id  created_on property_type operation             place_name  \\\n",
       "0     3632  2017-08-24  departamento     venta          Puerto Madero   \n",
       "1     3633  2017-08-25  departamento     venta  Buenos Aires Interior   \n",
       "2  2263404  2017-08-01  departamento     venta           Palermo Soho   \n",
       "3  2263405  2017-08-01  departamento     venta              Chacarita   \n",
       "4  2263406  2017-08-01  departamento     venta              Chacarita   \n",
       "\n",
       "                            place_with_parent_names country_name  \\\n",
       "0         |Argentina|Capital Federal|Puerto Madero|    Argentina   \n",
       "1                 |Argentina|Buenos Aires Interior|    Argentina   \n",
       "2  |Argentina|Capital Federal|Palermo|Palermo Soho|    Argentina   \n",
       "3             |Argentina|Capital Federal|Chacarita|    Argentina   \n",
       "4             |Argentina|Capital Federal|Chacarita|    Argentina   \n",
       "\n",
       "              state_name                        lat-lon        lat        lon  \\\n",
       "0        Capital Federal  -34.6109877599,-58.3634635778 -34.610988 -58.363464   \n",
       "1  Buenos Aires Interior                            NaN        NaN        NaN   \n",
       "2        Capital Federal  -34.5893633232,-58.4128798588 -34.589363 -58.412880   \n",
       "3        Capital Federal                            NaN        NaN        NaN   \n",
       "4        Capital Federal                            NaN        NaN        NaN   \n",
       "\n",
       "   surface_total_in_m2  surface_covered_in_m2  floor  rooms expenses  \\\n",
       "0                  0.0                    NaN    NaN    NaN      NaN   \n",
       "1                  0.0                    NaN    NaN    NaN      NaN   \n",
       "2                 53.0                   48.0    NaN    NaN     1500   \n",
       "3                 39.0                   39.0    NaN    NaN      NaN   \n",
       "4                 51.0                   51.0    NaN    NaN      NaN   \n",
       "\n",
       "                                         description  \n",
       "0  Edificio BA Houses situado frente al Dique 3 d...  \n",
       "1  El departamento cuenta con un living-comedor a...  \n",
       "2                  IMPECABLE TORRE COY III – DEPA...  \n",
       "3                  AMBIENTE DIVISIBLE CON PISOS D...  \n",
       "4                  LIVING COMEDOR CON PISOS DE PO...  "
      ]
     },
     "execution_count": 144,
     "metadata": {},
     "output_type": "execute_result"
    }
   ],
   "source": [
    "# leemos set de test\n",
    "test_df = pd.read_csv('../data/test/properati_dataset_testing_noprice.csv', low_memory=False)\n",
    "test_df.head()"
   ]
  },
  {
   "cell_type": "code",
   "execution_count": 145,
   "metadata": {
    "collapsed": false
   },
   "outputs": [
    {
     "name": "stdout",
     "output_type": "stream",
     "text": [
      "<class 'pandas.core.frame.DataFrame'>\n",
      "RangeIndex: 14166 entries, 0 to 14165\n",
      "Data columns (total 11 columns):\n",
      "created_on               14166 non-null object\n",
      "property_type            14166 non-null object\n",
      "place_name               14166 non-null object\n",
      "state_name               14166 non-null object\n",
      "lat                      10487 non-null float64\n",
      "lon                      10487 non-null float64\n",
      "surface_total_in_m2      11853 non-null float64\n",
      "surface_covered_in_m2    13005 non-null float64\n",
      "floor                    1368 non-null float64\n",
      "rooms                    7500 non-null float64\n",
      "expenses                 2543 non-null object\n",
      "dtypes: float64(6), object(5)\n",
      "memory usage: 1.2+ MB\n"
     ]
    }
   ],
   "source": [
    "# nos quedamos con las columnas con las que entrenamos el modelo\n",
    "test_predcit_df = test_df.loc[:,columns]\n",
    "test_predcit_df.info()"
   ]
  },
  {
   "cell_type": "code",
   "execution_count": 146,
   "metadata": {
    "collapsed": false
   },
   "outputs": [
    {
     "data": {
      "text/html": [
       "<div>\n",
       "<table border=\"1\" class=\"dataframe\">\n",
       "  <thead>\n",
       "    <tr style=\"text-align: right;\">\n",
       "      <th></th>\n",
       "      <th>floor</th>\n",
       "      <th>rooms</th>\n",
       "    </tr>\n",
       "  </thead>\n",
       "  <tbody>\n",
       "    <tr>\n",
       "      <th>count</th>\n",
       "      <td>14166.000000</td>\n",
       "      <td>14166.000000</td>\n",
       "    </tr>\n",
       "    <tr>\n",
       "      <th>mean</th>\n",
       "      <td>1.031272</td>\n",
       "      <td>1.484893</td>\n",
       "    </tr>\n",
       "    <tr>\n",
       "      <th>std</th>\n",
       "      <td>29.206664</td>\n",
       "      <td>1.742398</td>\n",
       "    </tr>\n",
       "    <tr>\n",
       "      <th>min</th>\n",
       "      <td>0.000000</td>\n",
       "      <td>0.000000</td>\n",
       "    </tr>\n",
       "    <tr>\n",
       "      <th>25%</th>\n",
       "      <td>0.000000</td>\n",
       "      <td>0.000000</td>\n",
       "    </tr>\n",
       "    <tr>\n",
       "      <th>50%</th>\n",
       "      <td>0.000000</td>\n",
       "      <td>1.000000</td>\n",
       "    </tr>\n",
       "    <tr>\n",
       "      <th>75%</th>\n",
       "      <td>0.000000</td>\n",
       "      <td>3.000000</td>\n",
       "    </tr>\n",
       "    <tr>\n",
       "      <th>max</th>\n",
       "      <td>2509.000000</td>\n",
       "      <td>21.000000</td>\n",
       "    </tr>\n",
       "  </tbody>\n",
       "</table>\n",
       "</div>"
      ],
      "text/plain": [
       "              floor         rooms\n",
       "count  14166.000000  14166.000000\n",
       "mean       1.031272      1.484893\n",
       "std       29.206664      1.742398\n",
       "min        0.000000      0.000000\n",
       "25%        0.000000      0.000000\n",
       "50%        0.000000      1.000000\n",
       "75%        0.000000      3.000000\n",
       "max     2509.000000     21.000000"
      ]
     },
     "execution_count": 146,
     "metadata": {},
     "output_type": "execute_result"
    }
   ],
   "source": [
    "# completamos los nulos\n",
    "test_predcit_df['floor'] = test_predcit_df[['floor']].fillna(0)\n",
    "test_predcit_df['rooms'] = test_predcit_df[['rooms']].fillna(0)\n",
    "\n",
    "test_predcit_df[['floor','rooms']].describe()"
   ]
  },
  {
   "cell_type": "code",
   "execution_count": 147,
   "metadata": {
    "collapsed": false
   },
   "outputs": [
    {
     "data": {
      "text/plain": [
       "280                   SI\n",
       "282                   NO\n",
       "363                $1500\n",
       "600               $16000\n",
       "639                $1980\n",
       "1340              $19000\n",
       "4520       $ 2400 aprox.\n",
       "6625              $25900\n",
       "6652              20.622\n",
       "6654                 8.5\n",
       "6655                 8.3\n",
       "6662                13.5\n",
       "6664                 8.2\n",
       "6665               15.47\n",
       "6667                 6.5\n",
       "6669              11.489\n",
       "6670                15.5\n",
       "6671                 8.5\n",
       "6673                 7.8\n",
       "6675                 4.2\n",
       "6681                $650\n",
       "6682                 7.6\n",
       "6685                14.5\n",
       "7623               $ 300\n",
       "8078               $1980\n",
       "8539           2000/2500\n",
       "9960        Sin expensas\n",
       "10978                 NO\n",
       "10987                 SI\n",
       "10989                 NO\n",
       "11054    5750 + 4000 ext\n",
       "11097        $ 600 aprox\n",
       "11250                1.3\n",
       "12000                4.5\n",
       "13329       Sin expensas\n",
       "13989              $1200\n",
       "13993                1.9\n",
       "Name: expenses, dtype: object"
      ]
     },
     "execution_count": 147,
     "metadata": {},
     "output_type": "execute_result"
    }
   ],
   "source": [
    "test_predcit_df['expenses'] = test_predcit_df[['expenses']].fillna(0)\n",
    "test_predcit_df[~test_predcit_df['expenses'].astype(str).str.isdigit()]['expenses']"
   ]
  },
  {
   "cell_type": "code",
   "execution_count": 148,
   "metadata": {
    "collapsed": false
   },
   "outputs": [
    {
     "data": {
      "text/plain": [
       "'12000'"
      ]
     },
     "execution_count": 148,
     "metadata": {},
     "output_type": "execute_result"
    }
   ],
   "source": [
    "import re\n",
    "\n",
    "re.sub('(\\$+)','', \"12000\")"
   ]
  },
  {
   "cell_type": "code",
   "execution_count": 149,
   "metadata": {
    "collapsed": false
   },
   "outputs": [
    {
     "data": {
      "text/plain": [
       "9960     \n",
       "13329    \n",
       "Name: expenses, dtype: object"
      ]
     },
     "execution_count": 149,
     "metadata": {},
     "output_type": "execute_result"
    }
   ],
   "source": [
    "def to_numeric(x):\n",
    "    replacement = x\n",
    "    try:\n",
    "        replacement = re.sub('(\\$+)','', replacement)\n",
    "        replacement = re.sub('aprox','', replacement)\n",
    "        replacement = re.sub('Sin expensas','', replacement)\n",
    "        replacement = re.sub('NO','0', replacement)\n",
    "        replacement = re.sub('SI','0', replacement)\n",
    "        replacement = re.sub('(\\.+)','', replacement)\n",
    "        replacement = re.sub(' ','', replacement)\n",
    "        replacement = re.sub('\\/.*$','', replacement)\n",
    "        replacement = re.sub('\\+.*$','', replacement)\n",
    "    except:\n",
    "        return x\n",
    "    return replacement\n",
    "    \n",
    "test_predcit_df['expenses'] = test_predcit_df['expenses'].apply(to_numeric)\n",
    "test_predcit_df['expenses'] = test_predcit_df[['expenses']].fillna(0)\n",
    "test_predcit_df[~test_predcit_df['expenses'].astype(str).str.isdigit()]['expenses']"
   ]
  },
  {
   "cell_type": "code",
   "execution_count": 150,
   "metadata": {
    "collapsed": false
   },
   "outputs": [
    {
     "data": {
      "text/html": [
       "<div>\n",
       "<table border=\"1\" class=\"dataframe\">\n",
       "  <thead>\n",
       "    <tr style=\"text-align: right;\">\n",
       "      <th></th>\n",
       "      <th>created_on</th>\n",
       "      <th>property_type</th>\n",
       "      <th>place_name</th>\n",
       "      <th>state_name</th>\n",
       "      <th>lat</th>\n",
       "      <th>lon</th>\n",
       "      <th>surface_total_in_m2</th>\n",
       "      <th>surface_covered_in_m2</th>\n",
       "      <th>floor</th>\n",
       "      <th>rooms</th>\n",
       "      <th>expenses</th>\n",
       "    </tr>\n",
       "  </thead>\n",
       "  <tbody>\n",
       "    <tr>\n",
       "      <th>0</th>\n",
       "      <td>2017-08-24</td>\n",
       "      <td>departamento</td>\n",
       "      <td>Puerto Madero</td>\n",
       "      <td>Capital Federal</td>\n",
       "      <td>-34.610988</td>\n",
       "      <td>-58.363464</td>\n",
       "      <td>0.0</td>\n",
       "      <td>NaN</td>\n",
       "      <td>0.0</td>\n",
       "      <td>0.0</td>\n",
       "      <td>0.0</td>\n",
       "    </tr>\n",
       "    <tr>\n",
       "      <th>1</th>\n",
       "      <td>2017-08-25</td>\n",
       "      <td>departamento</td>\n",
       "      <td>Buenos Aires Interior</td>\n",
       "      <td>Buenos Aires Interior</td>\n",
       "      <td>NaN</td>\n",
       "      <td>NaN</td>\n",
       "      <td>0.0</td>\n",
       "      <td>NaN</td>\n",
       "      <td>0.0</td>\n",
       "      <td>0.0</td>\n",
       "      <td>0.0</td>\n",
       "    </tr>\n",
       "    <tr>\n",
       "      <th>2</th>\n",
       "      <td>2017-08-01</td>\n",
       "      <td>departamento</td>\n",
       "      <td>Palermo Soho</td>\n",
       "      <td>Capital Federal</td>\n",
       "      <td>-34.589363</td>\n",
       "      <td>-58.412880</td>\n",
       "      <td>53.0</td>\n",
       "      <td>48.0</td>\n",
       "      <td>0.0</td>\n",
       "      <td>0.0</td>\n",
       "      <td>1500.0</td>\n",
       "    </tr>\n",
       "    <tr>\n",
       "      <th>3</th>\n",
       "      <td>2017-08-01</td>\n",
       "      <td>departamento</td>\n",
       "      <td>Chacarita</td>\n",
       "      <td>Capital Federal</td>\n",
       "      <td>NaN</td>\n",
       "      <td>NaN</td>\n",
       "      <td>39.0</td>\n",
       "      <td>39.0</td>\n",
       "      <td>0.0</td>\n",
       "      <td>0.0</td>\n",
       "      <td>0.0</td>\n",
       "    </tr>\n",
       "    <tr>\n",
       "      <th>4</th>\n",
       "      <td>2017-08-01</td>\n",
       "      <td>departamento</td>\n",
       "      <td>Chacarita</td>\n",
       "      <td>Capital Federal</td>\n",
       "      <td>NaN</td>\n",
       "      <td>NaN</td>\n",
       "      <td>51.0</td>\n",
       "      <td>51.0</td>\n",
       "      <td>0.0</td>\n",
       "      <td>0.0</td>\n",
       "      <td>0.0</td>\n",
       "    </tr>\n",
       "  </tbody>\n",
       "</table>\n",
       "</div>"
      ],
      "text/plain": [
       "   created_on property_type             place_name             state_name  \\\n",
       "0  2017-08-24  departamento          Puerto Madero        Capital Federal   \n",
       "1  2017-08-25  departamento  Buenos Aires Interior  Buenos Aires Interior   \n",
       "2  2017-08-01  departamento           Palermo Soho        Capital Federal   \n",
       "3  2017-08-01  departamento              Chacarita        Capital Federal   \n",
       "4  2017-08-01  departamento              Chacarita        Capital Federal   \n",
       "\n",
       "         lat        lon  surface_total_in_m2  surface_covered_in_m2  floor  \\\n",
       "0 -34.610988 -58.363464                  0.0                    NaN    0.0   \n",
       "1        NaN        NaN                  0.0                    NaN    0.0   \n",
       "2 -34.589363 -58.412880                 53.0                   48.0    0.0   \n",
       "3        NaN        NaN                 39.0                   39.0    0.0   \n",
       "4        NaN        NaN                 51.0                   51.0    0.0   \n",
       "\n",
       "   rooms  expenses  \n",
       "0    0.0       0.0  \n",
       "1    0.0       0.0  \n",
       "2    0.0    1500.0  \n",
       "3    0.0       0.0  \n",
       "4    0.0       0.0  "
      ]
     },
     "execution_count": 150,
     "metadata": {},
     "output_type": "execute_result"
    }
   ],
   "source": [
    "test_predcit_df['expenses'] = pd.to_numeric(test_predcit_df['expenses'])\n",
    "test_predcit_df.head()"
   ]
  },
  {
   "cell_type": "code",
   "execution_count": 151,
   "metadata": {
    "collapsed": false
   },
   "outputs": [
    {
     "data": {
      "text/plain": [
       "Capital Federal             8847\n",
       "Bs.As. G.B.A. Zona Oeste    3101\n",
       "Bs.As. G.B.A. Zona Sur      2215\n",
       "Bs.As. G.B.A. Zona Norte       2\n",
       "Buenos Aires Interior          1\n",
       "Name: state_name, dtype: int64"
      ]
     },
     "execution_count": 151,
     "metadata": {},
     "output_type": "execute_result"
    }
   ],
   "source": [
    "test_predcit_df['state_name'].value_counts()"
   ]
  },
  {
   "cell_type": "code",
   "execution_count": 152,
   "metadata": {
    "collapsed": false
   },
   "outputs": [
    {
     "data": {
      "text/plain": [
       "3    8847\n",
       "1    3101\n",
       "2    2215\n",
       "0       2\n",
       "4       1\n",
       "Name: state_name, dtype: int64"
      ]
     },
     "execution_count": 152,
     "metadata": {},
     "output_type": "execute_result"
    }
   ],
   "source": [
    "def convert_state_name(x):\n",
    "    name = str(x)\n",
    "    if('Capital Federal' in x):\n",
    "        return 3\n",
    "    if('Zona Norte' in x):\n",
    "        return 0\n",
    "    if('Zona Sur' in x):\n",
    "        return 2\n",
    "    if('Zona Oeste' in x):\n",
    "        return 1\n",
    "    return 4\n",
    "\n",
    "test_predcit_df['state_name'] = test_predcit_df.state_name.apply(convert_state_name)\n",
    "test_predcit_df['state_name'].value_counts()"
   ]
  },
  {
   "cell_type": "code",
   "execution_count": 153,
   "metadata": {
    "collapsed": false
   },
   "outputs": [
    {
     "data": {
      "text/plain": [
       "Palermo                       1020\n",
       "Belgrano                       783\n",
       "Caballito                      650\n",
       "La Plata                       603\n",
       "Recoleta                       556\n",
       "Ituzaingó                      547\n",
       "Ramos Mejía                    394\n",
       "Morón                          393\n",
       "Almagro                        376\n",
       "Castelar                       345\n",
       "Flores                         329\n",
       "Villa Crespo                   329\n",
       "Balvanera                      327\n",
       "Villa Urquiza                  309\n",
       "Nuñez                          300\n",
       "Barrio Norte                   276\n",
       "Capital Federal                247\n",
       "Monserrat                      221\n",
       "Saavedra                       211\n",
       "San Telmo                      207\n",
       "Lomas de Zamora                197\n",
       "Quilmes                        178\n",
       "Moreno                         171\n",
       "Palermo Hollywood              164\n",
       "Puerto Madero                  155\n",
       "Banfield                       134\n",
       "Haedo                          126\n",
       "Villa Devoto                   123\n",
       "Lanús                          113\n",
       "Colegiales                     113\n",
       "                              ... \n",
       "Los Pingüinos Country Club       1\n",
       "Buenos Aires Interior            1\n",
       "Monte Chingolo                   1\n",
       "Sourigues                        1\n",
       "Santos Tesei                     1\n",
       "Aldo Bonzi                       1\n",
       "9 de Abril                       1\n",
       "William Morris                   1\n",
       "Malvinas Argentinas              1\n",
       "San Diego Country Club           1\n",
       "Domselaar                        1\n",
       "Villa Numancia                   1\n",
       "Mariano Acosta                   1\n",
       "Villa Brown                      1\n",
       "Villa Riachuelo                  1\n",
       "Cuartel V                        1\n",
       "La Unión                         1\n",
       "Country Banco Provincia          1\n",
       "Altos de Hudson I                1\n",
       "Bosques                          1\n",
       "Abril Club de Campo              1\n",
       "Vicente López                    1\n",
       "González Catán                   1\n",
       "San Carlos                       1\n",
       "Las Golondrinas                  1\n",
       "Barrio Cerrado Malibú            1\n",
       "Barrio Parque San Martin         1\n",
       "Fincas de Iraola                 1\n",
       "General San Martín               1\n",
       "El Rocío                         1\n",
       "Name: place_name, dtype: int64"
      ]
     },
     "execution_count": 153,
     "metadata": {},
     "output_type": "execute_result"
    }
   ],
   "source": [
    "test_predcit_df['place_name'].value_counts()"
   ]
  },
  {
   "cell_type": "code",
   "execution_count": 154,
   "metadata": {
    "collapsed": false
   },
   "outputs": [
    {
     "data": {
      "text/plain": [
       "133    1020\n",
       "20      783\n",
       "31      650\n",
       "96      603\n",
       "157     556\n",
       "92      547\n",
       "155     394\n",
       "129     393\n",
       "7       376\n",
       "37      345\n",
       "196     329\n",
       "73      329\n",
       "12      327\n",
       "218     309\n",
       "130     300\n",
       "17      276\n",
       "34      247\n",
       "124     221\n",
       "160     211\n",
       "168     207\n",
       "110     197\n",
       "153     178\n",
       "128     171\n",
       "135     164\n",
       "152     155\n",
       "13      134\n",
       "85      126\n",
       "197     123\n",
       "101     113\n",
       "47      113\n",
       "       ... \n",
       "175       1\n",
       "70        1\n",
       "56        1\n",
       "126       1\n",
       "150       1\n",
       "55        1\n",
       "15        1\n",
       "80        1\n",
       "222       1\n",
       "26        1\n",
       "9         1\n",
       "77        1\n",
       "99        1\n",
       "2         1\n",
       "50        1\n",
       "114       1\n",
       "154       1\n",
       "162       1\n",
       "194       1\n",
       "105       1\n",
       "65        1\n",
       "29        1\n",
       "207       1\n",
       "116       1\n",
       "164       1\n",
       "18        1\n",
       "172       1\n",
       "212       1\n",
       "5         1\n",
       "0         1\n",
       "Name: place_name, dtype: int64"
      ]
     },
     "execution_count": 154,
     "metadata": {},
     "output_type": "execute_result"
    }
   ],
   "source": [
    "test_predcit_df['place_name'] = encoder_place_name.fit_transform(test_predcit_df['place_name'])\n",
    "test_predcit_df['place_name'].value_counts()"
   ]
  },
  {
   "cell_type": "code",
   "execution_count": 155,
   "metadata": {
    "collapsed": false
   },
   "outputs": [
    {
     "data": {
      "text/html": [
       "<div>\n",
       "<table border=\"1\" class=\"dataframe\">\n",
       "  <thead>\n",
       "    <tr style=\"text-align: right;\">\n",
       "      <th></th>\n",
       "      <th>created_on</th>\n",
       "      <th>property_type</th>\n",
       "      <th>place_name</th>\n",
       "      <th>state_name</th>\n",
       "      <th>lat</th>\n",
       "      <th>lon</th>\n",
       "      <th>surface_total_in_m2</th>\n",
       "      <th>surface_covered_in_m2</th>\n",
       "      <th>floor</th>\n",
       "      <th>rooms</th>\n",
       "      <th>expenses</th>\n",
       "    </tr>\n",
       "  </thead>\n",
       "  <tbody>\n",
       "    <tr>\n",
       "      <th>0</th>\n",
       "      <td>2017-08-24</td>\n",
       "      <td>departamento</td>\n",
       "      <td>152</td>\n",
       "      <td>3</td>\n",
       "      <td>-34.610988</td>\n",
       "      <td>-58.363464</td>\n",
       "      <td>0.0</td>\n",
       "      <td>0.0</td>\n",
       "      <td>0.0</td>\n",
       "      <td>0.0</td>\n",
       "      <td>0.0</td>\n",
       "    </tr>\n",
       "    <tr>\n",
       "      <th>1</th>\n",
       "      <td>2017-08-25</td>\n",
       "      <td>departamento</td>\n",
       "      <td>29</td>\n",
       "      <td>4</td>\n",
       "      <td>NaN</td>\n",
       "      <td>NaN</td>\n",
       "      <td>0.0</td>\n",
       "      <td>0.0</td>\n",
       "      <td>0.0</td>\n",
       "      <td>0.0</td>\n",
       "      <td>0.0</td>\n",
       "    </tr>\n",
       "    <tr>\n",
       "      <th>2</th>\n",
       "      <td>2017-08-01</td>\n",
       "      <td>departamento</td>\n",
       "      <td>136</td>\n",
       "      <td>3</td>\n",
       "      <td>-34.589363</td>\n",
       "      <td>-58.412880</td>\n",
       "      <td>53.0</td>\n",
       "      <td>48.0</td>\n",
       "      <td>0.0</td>\n",
       "      <td>0.0</td>\n",
       "      <td>1500.0</td>\n",
       "    </tr>\n",
       "    <tr>\n",
       "      <th>3</th>\n",
       "      <td>2017-08-01</td>\n",
       "      <td>departamento</td>\n",
       "      <td>40</td>\n",
       "      <td>3</td>\n",
       "      <td>NaN</td>\n",
       "      <td>NaN</td>\n",
       "      <td>39.0</td>\n",
       "      <td>39.0</td>\n",
       "      <td>0.0</td>\n",
       "      <td>0.0</td>\n",
       "      <td>0.0</td>\n",
       "    </tr>\n",
       "    <tr>\n",
       "      <th>4</th>\n",
       "      <td>2017-08-01</td>\n",
       "      <td>departamento</td>\n",
       "      <td>40</td>\n",
       "      <td>3</td>\n",
       "      <td>NaN</td>\n",
       "      <td>NaN</td>\n",
       "      <td>51.0</td>\n",
       "      <td>51.0</td>\n",
       "      <td>0.0</td>\n",
       "      <td>0.0</td>\n",
       "      <td>0.0</td>\n",
       "    </tr>\n",
       "  </tbody>\n",
       "</table>\n",
       "</div>"
      ],
      "text/plain": [
       "   created_on property_type  place_name  state_name        lat        lon  \\\n",
       "0  2017-08-24  departamento         152           3 -34.610988 -58.363464   \n",
       "1  2017-08-25  departamento          29           4        NaN        NaN   \n",
       "2  2017-08-01  departamento         136           3 -34.589363 -58.412880   \n",
       "3  2017-08-01  departamento          40           3        NaN        NaN   \n",
       "4  2017-08-01  departamento          40           3        NaN        NaN   \n",
       "\n",
       "   surface_total_in_m2  surface_covered_in_m2  floor  rooms  expenses  \n",
       "0                  0.0                    0.0    0.0    0.0       0.0  \n",
       "1                  0.0                    0.0    0.0    0.0       0.0  \n",
       "2                 53.0                   48.0    0.0    0.0    1500.0  \n",
       "3                 39.0                   39.0    0.0    0.0       0.0  \n",
       "4                 51.0                   51.0    0.0    0.0       0.0  "
      ]
     },
     "execution_count": 155,
     "metadata": {},
     "output_type": "execute_result"
    }
   ],
   "source": [
    "test_predcit_df['surface_total_in_m2'] = test_predcit_df[['surface_total_in_m2']].fillna(0)\n",
    "test_predcit_df['surface_covered_in_m2'] = test_predcit_df[['surface_covered_in_m2']].fillna(0)\n",
    "test_predcit_df.head()"
   ]
  },
  {
   "cell_type": "code",
   "execution_count": 156,
   "metadata": {
    "collapsed": false
   },
   "outputs": [
    {
     "data": {
      "text/plain": [
       "departamento    9761\n",
       "casa            3409\n",
       "ph               996\n",
       "Name: property_type, dtype: int64"
      ]
     },
     "execution_count": 156,
     "metadata": {},
     "output_type": "execute_result"
    }
   ],
   "source": [
    "test_predcit_df['property_type'].value_counts()"
   ]
  },
  {
   "cell_type": "code",
   "execution_count": 157,
   "metadata": {
    "collapsed": false
   },
   "outputs": [
    {
     "data": {
      "text/plain": [
       "1    9761\n",
       "2    3409\n",
       "0     996\n",
       "Name: property_type, dtype: int64"
      ]
     },
     "execution_count": 157,
     "metadata": {},
     "output_type": "execute_result"
    }
   ],
   "source": [
    "\n",
    "def convert_property_type(x):\n",
    "    if('departamento' in x):\n",
    "        return 1\n",
    "    if('casa' in x):\n",
    "        return 2\n",
    "    if('ph' in x):\n",
    "        return 0\n",
    "    return 3\n",
    "\n",
    "test_predcit_df['property_type'] = test_predcit_df.property_type.apply(convert_property_type)\n",
    "test_predcit_df['property_type'].value_counts()"
   ]
  },
  {
   "cell_type": "code",
   "execution_count": 158,
   "metadata": {
    "collapsed": false
   },
   "outputs": [
    {
     "data": {
      "text/html": [
       "<div>\n",
       "<table border=\"1\" class=\"dataframe\">\n",
       "  <thead>\n",
       "    <tr style=\"text-align: right;\">\n",
       "      <th></th>\n",
       "      <th>created_on</th>\n",
       "      <th>property_type</th>\n",
       "      <th>place_name</th>\n",
       "      <th>state_name</th>\n",
       "      <th>lat</th>\n",
       "      <th>lon</th>\n",
       "      <th>surface_total_in_m2</th>\n",
       "      <th>surface_covered_in_m2</th>\n",
       "      <th>floor</th>\n",
       "      <th>rooms</th>\n",
       "      <th>expenses</th>\n",
       "    </tr>\n",
       "  </thead>\n",
       "  <tbody>\n",
       "    <tr>\n",
       "      <th>0</th>\n",
       "      <td>20170824</td>\n",
       "      <td>1</td>\n",
       "      <td>152</td>\n",
       "      <td>3</td>\n",
       "      <td>-34.610988</td>\n",
       "      <td>-58.363464</td>\n",
       "      <td>0.0</td>\n",
       "      <td>0.0</td>\n",
       "      <td>0.0</td>\n",
       "      <td>0.0</td>\n",
       "      <td>0.0</td>\n",
       "    </tr>\n",
       "    <tr>\n",
       "      <th>1</th>\n",
       "      <td>20170825</td>\n",
       "      <td>1</td>\n",
       "      <td>29</td>\n",
       "      <td>4</td>\n",
       "      <td>NaN</td>\n",
       "      <td>NaN</td>\n",
       "      <td>0.0</td>\n",
       "      <td>0.0</td>\n",
       "      <td>0.0</td>\n",
       "      <td>0.0</td>\n",
       "      <td>0.0</td>\n",
       "    </tr>\n",
       "    <tr>\n",
       "      <th>2</th>\n",
       "      <td>20170801</td>\n",
       "      <td>1</td>\n",
       "      <td>136</td>\n",
       "      <td>3</td>\n",
       "      <td>-34.589363</td>\n",
       "      <td>-58.412880</td>\n",
       "      <td>53.0</td>\n",
       "      <td>48.0</td>\n",
       "      <td>0.0</td>\n",
       "      <td>0.0</td>\n",
       "      <td>1500.0</td>\n",
       "    </tr>\n",
       "    <tr>\n",
       "      <th>3</th>\n",
       "      <td>20170801</td>\n",
       "      <td>1</td>\n",
       "      <td>40</td>\n",
       "      <td>3</td>\n",
       "      <td>NaN</td>\n",
       "      <td>NaN</td>\n",
       "      <td>39.0</td>\n",
       "      <td>39.0</td>\n",
       "      <td>0.0</td>\n",
       "      <td>0.0</td>\n",
       "      <td>0.0</td>\n",
       "    </tr>\n",
       "    <tr>\n",
       "      <th>4</th>\n",
       "      <td>20170801</td>\n",
       "      <td>1</td>\n",
       "      <td>40</td>\n",
       "      <td>3</td>\n",
       "      <td>NaN</td>\n",
       "      <td>NaN</td>\n",
       "      <td>51.0</td>\n",
       "      <td>51.0</td>\n",
       "      <td>0.0</td>\n",
       "      <td>0.0</td>\n",
       "      <td>0.0</td>\n",
       "    </tr>\n",
       "  </tbody>\n",
       "</table>\n",
       "</div>"
      ],
      "text/plain": [
       "   created_on  property_type  place_name  state_name        lat        lon  \\\n",
       "0    20170824              1         152           3 -34.610988 -58.363464   \n",
       "1    20170825              1          29           4        NaN        NaN   \n",
       "2    20170801              1         136           3 -34.589363 -58.412880   \n",
       "3    20170801              1          40           3        NaN        NaN   \n",
       "4    20170801              1          40           3        NaN        NaN   \n",
       "\n",
       "   surface_total_in_m2  surface_covered_in_m2  floor  rooms  expenses  \n",
       "0                  0.0                    0.0    0.0    0.0       0.0  \n",
       "1                  0.0                    0.0    0.0    0.0       0.0  \n",
       "2                 53.0                   48.0    0.0    0.0    1500.0  \n",
       "3                 39.0                   39.0    0.0    0.0       0.0  \n",
       "4                 51.0                   51.0    0.0    0.0       0.0  "
      ]
     },
     "execution_count": 158,
     "metadata": {},
     "output_type": "execute_result"
    }
   ],
   "source": [
    "test_predcit_df['created_on'] = test_predcit_df['created_on'].str.replace('-','').apply(int)\n",
    "test_predcit_df.head()"
   ]
  },
  {
   "cell_type": "markdown",
   "metadata": {},
   "source": [
    "Claramente hay que mejorar el tema de los lat y lon nulos. Por ahora solo asigno un promedio"
   ]
  },
  {
   "cell_type": "code",
   "execution_count": 159,
   "metadata": {
    "collapsed": false
   },
   "outputs": [
    {
     "data": {
      "text/html": [
       "<div>\n",
       "<table border=\"1\" class=\"dataframe\">\n",
       "  <thead>\n",
       "    <tr style=\"text-align: right;\">\n",
       "      <th></th>\n",
       "      <th>created_on</th>\n",
       "      <th>property_type</th>\n",
       "      <th>place_name</th>\n",
       "      <th>state_name</th>\n",
       "      <th>lat</th>\n",
       "      <th>lon</th>\n",
       "      <th>surface_total_in_m2</th>\n",
       "      <th>surface_covered_in_m2</th>\n",
       "      <th>floor</th>\n",
       "      <th>rooms</th>\n",
       "      <th>expenses</th>\n",
       "    </tr>\n",
       "  </thead>\n",
       "  <tbody>\n",
       "    <tr>\n",
       "      <th>0</th>\n",
       "      <td>20170824</td>\n",
       "      <td>1</td>\n",
       "      <td>152</td>\n",
       "      <td>3</td>\n",
       "      <td>-34.610988</td>\n",
       "      <td>-58.363464</td>\n",
       "      <td>0.0</td>\n",
       "      <td>0.0</td>\n",
       "      <td>0.0</td>\n",
       "      <td>0.0</td>\n",
       "      <td>0.0</td>\n",
       "    </tr>\n",
       "    <tr>\n",
       "      <th>1</th>\n",
       "      <td>20170825</td>\n",
       "      <td>1</td>\n",
       "      <td>29</td>\n",
       "      <td>4</td>\n",
       "      <td>-34.629923</td>\n",
       "      <td>-58.465820</td>\n",
       "      <td>0.0</td>\n",
       "      <td>0.0</td>\n",
       "      <td>0.0</td>\n",
       "      <td>0.0</td>\n",
       "      <td>0.0</td>\n",
       "    </tr>\n",
       "    <tr>\n",
       "      <th>2</th>\n",
       "      <td>20170801</td>\n",
       "      <td>1</td>\n",
       "      <td>136</td>\n",
       "      <td>3</td>\n",
       "      <td>-34.589363</td>\n",
       "      <td>-58.412880</td>\n",
       "      <td>53.0</td>\n",
       "      <td>48.0</td>\n",
       "      <td>0.0</td>\n",
       "      <td>0.0</td>\n",
       "      <td>1500.0</td>\n",
       "    </tr>\n",
       "    <tr>\n",
       "      <th>3</th>\n",
       "      <td>20170801</td>\n",
       "      <td>1</td>\n",
       "      <td>40</td>\n",
       "      <td>3</td>\n",
       "      <td>-34.629923</td>\n",
       "      <td>-58.465820</td>\n",
       "      <td>39.0</td>\n",
       "      <td>39.0</td>\n",
       "      <td>0.0</td>\n",
       "      <td>0.0</td>\n",
       "      <td>0.0</td>\n",
       "    </tr>\n",
       "    <tr>\n",
       "      <th>4</th>\n",
       "      <td>20170801</td>\n",
       "      <td>1</td>\n",
       "      <td>40</td>\n",
       "      <td>3</td>\n",
       "      <td>-34.629923</td>\n",
       "      <td>-58.465820</td>\n",
       "      <td>51.0</td>\n",
       "      <td>51.0</td>\n",
       "      <td>0.0</td>\n",
       "      <td>0.0</td>\n",
       "      <td>0.0</td>\n",
       "    </tr>\n",
       "  </tbody>\n",
       "</table>\n",
       "</div>"
      ],
      "text/plain": [
       "   created_on  property_type  place_name  state_name        lat        lon  \\\n",
       "0    20170824              1         152           3 -34.610988 -58.363464   \n",
       "1    20170825              1          29           4 -34.629923 -58.465820   \n",
       "2    20170801              1         136           3 -34.589363 -58.412880   \n",
       "3    20170801              1          40           3 -34.629923 -58.465820   \n",
       "4    20170801              1          40           3 -34.629923 -58.465820   \n",
       "\n",
       "   surface_total_in_m2  surface_covered_in_m2  floor  rooms  expenses  \n",
       "0                  0.0                    0.0    0.0    0.0       0.0  \n",
       "1                  0.0                    0.0    0.0    0.0       0.0  \n",
       "2                 53.0                   48.0    0.0    0.0    1500.0  \n",
       "3                 39.0                   39.0    0.0    0.0       0.0  \n",
       "4                 51.0                   51.0    0.0    0.0       0.0  "
      ]
     },
     "execution_count": 159,
     "metadata": {},
     "output_type": "execute_result"
    }
   ],
   "source": [
    "from sklearn.preprocessing import Imputer\n",
    "imputer_mean = Imputer(missing_values='NaN', strategy='mean', axis=0)\n",
    "\n",
    "test_predcit_df[\"lat\"] = imputer_mean.fit_transform(test_predcit_df[[\"lat\"]])\n",
    "test_predcit_df[\"lon\"] = imputer_mean.fit_transform(test_predcit_df[[\"lon\"]])\n",
    "\n",
    "test_predcit_df.head()"
   ]
  },
  {
   "cell_type": "code",
   "execution_count": 161,
   "metadata": {
    "collapsed": false
   },
   "outputs": [
    {
     "data": {
      "text/plain": [
       "array([[  1.24258347e+00,  -3.20797510e-01,   7.82855685e-01, ...,\n",
       "         -3.53107240e-02,  -8.52242370e-01,  -1.88583144e-02],\n",
       "       [  1.36710992e+00,  -3.20797510e-01,  -1.17649092e+00, ...,\n",
       "         -3.53107240e-02,  -8.52242370e-01,  -1.88583144e-02],\n",
       "       [ -1.62152505e+00,  -3.20797510e-01,   5.27981330e-01, ...,\n",
       "         -3.53107240e-02,  -8.52242370e-01,  -3.19255009e-04],\n",
       "       ..., \n",
       "       [ -1.62152505e+00,   1.56250855e+00,   1.13810503e-01, ...,\n",
       "         -3.53107240e-02,  -8.52242370e-01,  -1.88583144e-02],\n",
       "       [  1.36710992e+00,  -3.20797510e-01,  -1.31985774e+00, ...,\n",
       "         -3.53107240e-02,  -8.52242370e-01,   3.21611770e-02],\n",
       "       [ -2.51734022e-01,   1.56250855e+00,  -9.69405505e-01, ...,\n",
       "         -3.53107240e-02,   1.44352476e+00,  -1.88583144e-02]])"
      ]
     },
     "execution_count": 161,
     "metadata": {},
     "output_type": "execute_result"
    }
   ],
   "source": [
    "test_predcit_df['expenses'] = test_predcit_df[['expenses']].fillna(0)\n",
    "\n",
    "stdsc_prediction = StandardScaler()\n",
    "X_test_std_df = stdsc_prediction.fit_transform(test_predcit_df)\n",
    "X_test_std_df"
   ]
  },
  {
   "cell_type": "markdown",
   "metadata": {},
   "source": [
    "### Predecir y ensamblar"
   ]
  },
  {
   "cell_type": "code",
   "execution_count": 217,
   "metadata": {
    "collapsed": false
   },
   "outputs": [],
   "source": [
    "y_knn = model_knn.predict(X_test_std_df)\n",
    "y_rf1 = model_rf1.predict(test_predcit_df)\n",
    "y_rf2 = model_rf2.predict(X_test_std_df)"
   ]
  },
  {
   "cell_type": "code",
   "execution_count": 218,
   "metadata": {
    "collapsed": false
   },
   "outputs": [
    {
     "name": "stdout",
     "output_type": "stream",
     "text": [
      "[[ 285537.26556421]\n",
      " [ 239084.88037953]\n",
      " [ 274566.50487766]\n",
      " ..., \n",
      " [ 128511.58032552]\n",
      " [ 320008.60506712]\n",
      " [ 154685.17676239]]\n",
      "[ 481140.98809265   78704.79758388  170812.18849782 ...,  191265.11390728\n",
      "  193242.23525484  166685.44338797]\n",
      "[ 616508.43413038  212412.49350963  519193.86598988 ...,  129174.91623075\n",
      "  230191.69953045  156861.24862214]\n"
     ]
    }
   ],
   "source": [
    "print(y_knn)\n",
    "print(y_rf1)\n",
    "print(y_rf2)"
   ]
  },
  {
   "cell_type": "markdown",
   "metadata": {},
   "source": [
    "Tener en cuenta para el ensamble cuales fueron los RMSE de cada algoritmo asi le damos un peso acorde a los errores de cada modelo"
   ]
  },
  {
   "cell_type": "code",
   "execution_count": 228,
   "metadata": {
    "collapsed": false
   },
   "outputs": [],
   "source": [
    "# ensamble\n",
    "C1 = 0.15\n",
    "C2 = 0.8\n",
    "C3 = 0.05\n",
    "\n",
    "y_final = []\n",
    "for row1,row2,row3 in zip(y_knn,y_rf1,y_rf2):\n",
    "    y_final.append(C1 * float(row1) + C2 * float(row2) + C3 * float(row3))"
   ]
  },
  {
   "cell_type": "code",
   "execution_count": 195,
   "metadata": {
    "collapsed": true
   },
   "outputs": [],
   "source": [
    "# ensamble\n",
    "C1 = 0.2\n",
    "C2 = 0.8\n",
    "\n",
    "y_final = []\n",
    "for row1,row2 in zip(y_knn,y_rf1):\n",
    "    y_final.append((C1 * float(row1) + C2 * float(row2)) )"
   ]
  },
  {
   "cell_type": "code",
   "execution_count": 219,
   "metadata": {
    "collapsed": false
   },
   "outputs": [],
   "source": [
    "# ensamble\n",
    "C1 = 1\n",
    "C2 = 0\n",
    "\n",
    "y_final = []\n",
    "for row1 in y_rf2:\n",
    "    y_final.append(float(row1))"
   ]
  },
  {
   "cell_type": "code",
   "execution_count": 229,
   "metadata": {
    "collapsed": false
   },
   "outputs": [
    {
     "name": "stdout",
     "output_type": "stream",
     "text": [
      "[458568.80201527255, 109447.19479951423, 203794.41982940002, 109310.16716180611, 123651.67988596877, 109310.16716180611, 109310.16716180611, 109310.16716180611, 185702.39603757023, 142308.69186374595, 142308.69186374595, 142308.69186374595, 149731.79670957438, 622343.0983535249, 101907.18673821895, 101907.18673821895, 101907.18673821895, 101907.18673821895, 101907.18673821895, 101907.18673821895, 101907.18673821895, 101907.18673821895, 113352.0467860028, 118398.20170200705, 118398.20170200705, 118398.20170200705, 118398.20170200705, 101907.18673821895, 101907.18673821895, 115863.13581473436, 115863.13581473436, 115863.13581473436, 115863.13581473436, 115863.13581473436, 101907.18673821895, 115863.13581473436, 115863.13581473436, 101907.18673821895, 101907.18673821895, 101907.18673821895, 101907.18673821895, 262268.25629964535, 110192.62855326156, 149731.79670957438, 149731.79670957438, 119632.12360508539, 111264.9251027384, 142730.4807441864, 133430.75370702505, 287235.667726348, 278534.76361788495, 288744.24428295065, 263233.78030736966, 478807.59573342616, 105762.10239890247, 250578.53788260263, 90500.11136017345, 106697.40435740087, 160705.385610021, 192952.127938138, 616737.6733516057, 105874.80096969771, 165592.6611442573, 331339.7915108157, 136605.62281673637, 135832.4260248667, 111803.00842088276, 154731.8579227476, 111803.00842088276, 211389.85864176086, 148828.56184229802, 165825.0772147671, 119949.12750820242, 137106.60142104758, 148828.56184229802, 148828.56184229802, 148828.56184229802, 148828.56184229802, 450357.27692870254, 148828.56184229802, 192102.6322768521, 450357.27692870254, 235494.10838294352, 87025.87462775638, 130005.14446379962, 142925.15206369234, 287435.72598718264, 166529.6308674805, 180436.8834326692, 287276.819662366, 112645.80438473028, 337109.90200179827, 170454.95198281083, 113567.76545895138, 113567.76545895138, 333610.83282425016, 207831.93524003486, 253125.58629748705, 110974.26892670617, 268203.58138746873, 109393.28266962843, 180374.94616682344, 439952.6497059444, 439952.6497059444, 306376.1703991478, 135299.53435506683, 181656.92608536672, 151370.5689391926, 130539.24184464011, 188088.18005117177, 146336.6888889618, 163903.4753011135, 111563.70687307978, 104454.92525613042, 106306.66625898339, 111414.97018599942, 106306.66625898339, 111414.97018599942, 111322.88144228581, 151147.9140574023, 77758.00606647445, 111414.97018599942, 111322.88144228581, 149761.64215626614, 278736.6434842688, 148828.56184229802, 148828.56184229802, 148828.56184229802, 148828.56184229802, 148828.56184229802, 148828.56184229802, 155534.4881782527, 125614.55913660361, 141925.6171074982, 144830.77159195632, 144916.63091288958, 216134.16470055445, 173602.8013781615, 98070.36778554584, 171153.56383228087, 139510.26987166452, 226130.36904155393, 111563.70687307978, 120499.37418114832, 142763.14175194598, 145831.11456151138, 213666.46564343318, 260759.70107173326, 2010968.249464808, 1014742.2359695513, 326311.1519182695, 152959.38571135246, 936308.1694577885, 542619.9907683939, 936308.1694577885, 439109.48736986384, 936308.1694577885, 133213.8631915925, 124237.76584553772, 122712.24913477684, 333059.2892769698, 340676.0276658204, 264452.31014115654, 724714.2554179116, 101613.9937467722, 241472.58321415077, 262491.79746876203, 403443.7127554162, 157526.08572955854, 206938.3403278605, 274915.2463935847, 85087.08506007082, 219356.77547046635, 174922.30023971194, 243812.4284400013, 174922.30023971194, 373260.0496335156, 136336.49088567577, 206486.6186714211, 212592.02002470513, 113751.1262357084, 279362.6373692247, 186930.54784680615, 64724.8747549926, 201329.4138100987, 224563.44008743265, 258421.06421182794, 129437.10707147108, 137376.65300800352, 189800.13438922857, 282236.15299971827, 181469.1067879134, 159859.49573095856, 151479.30844441208, 489190.49552659865, 95284.71124510252, 477379.4946828773, 181469.1067879134, 151479.30844441208, 298582.8385918784, 101432.86843162257, 349069.48786535114, 144526.84272201543, 660514.118789909, 137146.67613680876, 182835.61708821505, 146942.97243431365, 159829.03393858913, 434461.47776646586, 235882.05138530393, 76482.10361916464, 343529.7012509449, 584805.8251232096, 84433.71604651565, 432318.9952279463, 385677.76383893547, 339217.3550879406, 420621.0582170221, 258298.879514855, 238744.9200535952, 220469.4460180829, 124356.29849750752, 145016.98103536808, 137192.65420775063, 203705.99266988767, 121527.69739809852, 138725.24083143473, 454188.2275227151, 195497.26540797256, 161995.06555742904, 212293.26448468814, 113247.88144956116, 333668.48689413746, 289082.40242627694, 342210.3382435093, 355181.35782945843, 140458.4291387205, 169923.2450842212, 275494.7317552465, 116320.71926502675, 355848.4547138041, 93931.54076171371, 147107.00249909854, 189642.64460511043, 132631.07566561693, 136189.7807411165, 138192.33196182468, 138192.33196182468, 228333.19643563137, 338549.9168842384, 266977.59438856895, 236894.67309212833, 155593.97004617128, 143373.6556790972, 177438.73857782406, 137442.7984531584, 137818.18115748506, 138413.08543880386, 137439.51194106002, 141239.4812912197, 137814.90244660643, 138403.5475658937, 125647.77189862578, 125939.35933953867, 126534.16964594736, 126527.78769648499, 127788.60591431691, 133821.32395498222, 133810.05056449075, 134146.55750211028, 134894.6443060355, 134883.3662973742, 135219.86421583637, 162723.2463287722, 146626.52207735527, 147332.3164964571, 147354.94055114855, 147354.94055114855, 152381.57182042173, 119128.61239176193, 69303.80175941624, 101669.62906852571, 141529.99001656653, 72016.99235977787, 101366.58933529412, 126135.73601899481, 182333.67630063707, 160131.89826311456, 249276.65533946658, 116026.98954702295, 423311.91556969925, 133244.44108778494, 166032.44053950685, 152325.3107862169, 151838.84173919415, 125932.37505974651, 128945.2018163875, 253265.3245832743, 337405.557108239, 208746.34644133554, 187658.15210106797, 157639.88822387226, 157972.77219837846, 157823.99818122186, 230254.6637330208, 151190.65060709327, 247204.17023325094, 111137.5140683903, 111137.5140683903, 174836.6128978212, 110409.60343666287, 110509.77351325439, 110500.69585093565, 110500.69585093565, 110495.48104541878, 110495.48104541878, 115334.76733240375, 115012.48163123734, 115008.04620098401, 115186.66280337994, 109341.18957870513, 115334.76733240375, 114570.94167269248, 115012.48163123734, 115008.04620098401, 115186.66280337994, 115181.31551689166, 1576407.571110653, 135091.18082874012, 172633.28293371122, 128256.87379737661, 248430.22201596684, 151003.42317892643, 270978.8850391606, 144876.7218295403, 172432.19161302783, 143635.5626204754, 139577.81087143495, 139670.7632750842, 111901.42931358807, 111769.16110403094, 111769.16110403094, 294975.1683009376, 124564.12756911846, 122015.13444259284, 181316.65783560328, 179693.0156012915, 157520.63024477675, 145612.33881371593, 185183.06801435488, 290504.0647086385, 239802.02583857358, 239802.02583857358, 388818.76940461487, 410940.77764795756, 406847.33573826496, 389315.9753849748, 410940.77764795756, 387983.08330242865, 406847.33573826496, 127313.59262311022, 129115.47432030996, 142485.98535516794, 142409.75085950285, 165066.28095613947, 153032.55603757943, 78802.97104361052, 76552.82651601541, 149480.76320992518, 207796.05950961035, 74539.13882030685, 220282.226028773, 237602.33229897535, 255158.58329684255, 711069.697880554, 167352.871042048, 142696.7869975958, 130974.81096506276, 106613.71810053001, 143992.67120414542, 143992.67120414542, 143992.67120414542, 143992.67120414542, 143992.67120414542, 101220.50677803095, 111188.23215944134, 159981.8796602837, 93613.1699408917, 191900.03818240497, 470427.89402888925, 257799.79649616886, 134110.9183943095, 147184.35350355308, 130796.54606594954, 131305.5755112121, 130793.0992228646, 130768.02700771415, 81214.89585773328, 164103.4166518275, 162491.5770755394, 177986.82609814114, 117164.43706323556, 116322.1999279772, 113354.75332064461, 127748.35273362967, 253851.62125187565, 158602.73469908236, 548628.8480616396, 159489.3199460335, 110670.49894325412, 120753.83920609867, 137053.94776911996, 137060.31064956624, 148213.6541176416, 145801.59300269312, 452204.974280031, 134836.3727004001, 461665.28906625544, 355914.84380479227, 226379.19962960642, 203705.85479558766, 236298.4394524048, 112302.24184914057, 140379.6818147665, 127494.61823293488, 141524.95267676158, 274970.59706720174, 166022.5867134823, 379869.27258005185, 379869.27258005185, 653042.3940311993, 653042.3940311993, 348796.0001978543, 388625.25488124986, 388625.25488124986, 459185.4743052478, 459185.4743052478, 321832.19171397254, 321832.19171397254, 321832.19171397254, 321832.19171397254, 226194.2683373832, 266104.59246772004, 245041.32481008212, 120383.12193510876, 382455.82284637226, 382455.82284637226, 258374.09609315603, 258374.09609315603, 258374.09609315603, 258374.09609315603, 297182.40108251455, 297182.40108251455, 459185.4743052478, 459185.4743052478, 367097.31473957817, 367097.31473957817, 388625.25488124986, 388625.25488124986, 667235.811720434, 667235.811720434, 323715.05698814214, 323715.05698814214, 528894.2907989628, 652787.3285590997, 652787.3285590997, 324753.4187506251, 324753.4187506251, 319849.23589185905, 471725.6607933754, 385117.97158420715, 385117.97158420715, 228500.37142611705, 228500.37142611705, 320797.7646893486, 320797.7646893486, 419831.19556634506, 419831.19556634506, 258353.39925001937, 441878.49203285953, 267664.74565775954, 267664.74565775954, 242446.0316188605, 242446.0316188605, 674465.6162204243, 674465.6162204243, 232323.11163102312, 232323.11163102312, 211533.76800534368, 319856.1233647739, 527660.8490010782, 3111563.1052557323, 163938.20113897862, 212594.5106054072, 166020.40811800622, 305893.57022547576, 226825.9096151087, 386091.8718933069, 324753.4187506251, 129823.89545209311, 114207.73569922405, 163938.20113897862, 161792.69123765457, 449911.3486112383, 449911.3486112383, 386091.8718933069, 381676.45612336806, 170375.68430185283, 324753.4187506251, 244985.80423107292, 114207.73569922405, 320443.7045106152, 127721.24724964797, 154983.04296013105, 244268.6214664359, 243052.53646543692, 154779.22274822363, 331772.9539011201, 449911.3486112383, 268417.61307530204, 242306.046957802, 121526.62143137226, 224658.50343821404, 136046.34155792228, 757310.657022677, 757310.657022677, 757310.657022677, 757310.657022677, 382455.82284637226, 135609.61977336992, 471565.8290552076, 244268.83646712257, 388625.25488124986, 533763.722906258, 321464.55802797864, 471725.6607933754, 471725.6607933754, 138871.6156558154, 112512.0788792412, 112512.0788792412, 112746.02479503657, 129861.76614829547, 129861.76614829547, 129861.76614829547, 129861.76614829547, 129861.76614829547, 129861.76614829547, 129861.76614829547, 129861.76614829547, 129861.76614829547, 129861.76614829547, 129861.76614829547, 129861.76614829547, 129861.76614829547, 129861.76614829547, 129861.76614829547, 112746.02479503657, 191049.98901168696, 378480.61420952255, 170498.5287588103, 154529.03190738356, 170498.5287588103, 170498.5287588103, 193315.82089643547, 149233.22475193898, 145795.29998636644, 145795.29998636644, 308144.6235015091, 186310.17947145487, 274046.36402424553, 273342.1950431097, 186310.17947145487, 216846.80849980717, 212774.25099824357, 268252.4404821473, 187735.80911508834, 209142.39486461127, 143652.02001105007, 337134.2259380563, 203451.42855513844, 71490.86724392188, 97428.57281015316, 210816.19745370882, 338423.25546116877, 114370.69763981616, 310128.93383539224, 430166.27578845154, 169085.7731902047, 68141.2797707065, 313260.6382130731, 68141.2797707065, 71619.98990941695, 68141.2797707065, 68141.2797707065, 162479.7936438882, 162479.7936438882, 121166.00149928227, 117771.07116668418, 111135.93353775523, 101421.46370287871, 427444.5429227451, 145427.92320547992, 290000.1490139179, 141908.66754859878, 113567.28389278562, 117742.98848722149, 124574.68207093945, 341548.97441642295, 122511.59114367879, 122283.12236503194, 122995.58815973857, 124272.52141288138, 124272.52141288138, 124272.52141288138, 124272.52141288138, 168855.50255407166, 67603.95736716843, 67603.95736716843, 837082.4563702208, 145584.86634941326, 113302.42851506051, 260931.61371056072, 166464.08295375438, 143742.80337981714, 210608.83314056697, 203318.97079737746, 203318.97079737746, 154592.96551840514, 94224.88278192836, 160986.803068612, 158948.3813282613, 114218.62939774578, 254445.4959905583, 517685.38380963966, 156356.49443008975, 304003.8157854573, 229116.5678571324, 156880.27853023633, 157890.7042031006, 232767.97979339125, 212586.19288717126, 150493.05405117024, 168068.1376923184, 218349.1031997861, 315344.2861656967, 142949.72153079128, 168013.7754215271, 121233.90837385734, 312369.6771124333, 307552.38100689347, 195601.3056443021, 289011.0658151482, 113401.08578745415, 204627.7524233876, 152759.46672366903, 253419.44711534964, 245659.01774446655, 240965.3140931504, 109734.68707143339, 337117.48253957555, 179801.53421449964, 93207.9038970226, 93207.9038970226, 93207.9038970226, 221327.33896354993, 289460.3574242338, 76171.41323325675, 115422.77421882332, 278187.7086993354, 203227.88417285387, 345139.02230297297, 317577.9162055405, 691735.3290898078, 352960.569186695, 216128.24599486685, 219746.21600646837, 420916.84294026374, 495172.1707668853, 412787.93957430305, 130909.90674665081, 132830.6546056344, 164557.90017999802, 113475.27110408837, 422827.19501563325, 203147.07767653945, 219977.40353336133, 313913.8630544261, 184810.45786629574, 230667.88406918215, 83679.60955068671, 166524.84747875392, 166524.84747875392, 178043.2891006569, 138275.26687732458, 188625.96751017915, 134137.77615824717, 188717.83047423663, 138431.18174004823, 197698.81426598024, 97954.88204358115, 109779.73774295652, 145709.47922378953, 136155.67026138463, 199127.33767580488, 163603.7627205957, 221566.98778696815, 148832.65128270074, 152301.14384968686, 207261.40448382343, 234311.64328292425, 122086.39651478158, 83444.66033698301, 181251.7079891055, 166376.628719195, 178102.56195031924, 181890.4985022741, 115041.91304780399, 208143.976825926, 128992.13032588725, 113601.9863853921, 118468.44904592891, 272949.0709385837, 128516.1128674636, 128516.1128674636, 128516.1128674636, 128516.1128674636, 170857.33454203603, 293843.0542879478, 135111.04059151054, 149442.58500282446, 93439.37649955311, 211833.90259420904, 185094.24881017016, 258176.18201972608, 253148.70254426586, 291860.9579644769, 348370.4161306963, 211251.21266546292, 154639.21653819532, 387581.92175235704, 222141.99568264757, 319099.21747756685, 175603.54628986286, 89674.42755483682, 267427.0448373011, 102153.53853456485, 114863.37933582228, 302505.51430888084, 194149.697203337, 498236.30795520335, 251719.65561587398, 237073.58875644012, 216377.66901679293, 157578.42679456872, 192040.66824193124, 81052.35408167704, 108740.47577045945, 155863.01510155716, 109944.5868445251, 133771.43426512284, 118556.07387179483, 177334.60826405298, 90699.85891249243, 132822.88804819173, 89539.84798658575, 106930.457062421, 120441.19269922524, 203592.97181649864, 182492.54352727244, 90993.23709816356, 146454.05140667586, 356013.2834618868, 228555.0517686438, 134925.13768256205, 326274.1921543036, 222101.20519345778, 191548.3496777001, 92062.89038343256, 107332.63434046227, 315400.9374336595, 125975.3453620281, 158069.6104130385, 150218.69573882554, 130801.48458761311, 114518.64267778645, 125923.1261430326, 385896.5514665224, 449184.1188709723, 208651.98790704817, 118193.61020442695, 149130.18720768738, 116843.26458112277, 286406.43124908645, 100562.5597558366, 287963.0943397336, 94169.90978040245, 133405.32517601916, 171677.17228042523, 147554.12770168576, 94171.32754795338, 130964.2148365233, 135897.3241341461, 162370.88875793674, 269023.5425276891, 115441.31922851659, 147554.12770168576, 95476.28754308802, 147554.12770168576, 145758.48223495827, 176563.0929469244, 422888.05081472965, 131699.3331558004, 91663.91806947753, 167649.62406822227, 94169.90978040245, 214752.807767942, 136988.6794135055, 149987.1103922756, 289690.5662124425, 176563.0929469244, 171943.54192739056, 311590.3188521386, 196151.5578292496, 286913.5465681589, 339102.32622388424, 206124.4682699274, 343914.1920057544, 271053.15936005913, 214752.807767942, 287983.84701438877, 86904.74778527848, 286406.43124908645, 274452.282803081, 104392.51449621313, 120814.21610214919, 126767.08857160293, 220446.47451063353, 176563.0929469244, 427800.51897569874, 179175.9339874531, 151799.78739314145, 136643.53056331465, 171178.0865377001, 146754.62018291088, 88683.70454996657, 417581.95395205927, 96726.41210847789, 214752.7916824413, 286406.43124908645, 116821.9410307763, 264994.70413943095, 176563.0929469244, 204839.3610193104, 374968.9594762173, 270665.49903868325, 368574.2804419609, 172058.09610115743, 117200.25026036888, 117200.25026036888, 117554.54848678416, 176563.0929469244, 274452.282803081, 328409.815150276, 86181.33035553792, 220685.036204357, 120814.21610214919, 287963.0943397336, 283978.5439510474, 137711.50032471362, 134792.89921741743, 95717.17020513074, 388354.7756595953, 96241.24154824422, 92783.603030978, 136531.78436805424, 87032.05033987561, 94243.04840499972, 89876.52121737898, 269357.35377701686, 108929.49247286674, 149915.33834437325, 155328.8306035606, 134682.41120774864, 176563.0929469244, 463457.35466550075, 283820.1851888648, 94171.32754795338, 143663.33121916157, 426297.7790172173, 152444.40877317535, 499317.23652508325, 262873.98841878504, 83408.96065459053, 89876.52121737898, 83408.96065459053, 83408.96065459053, 89069.11284681971, 89069.11284681971, 89069.11284681971, 89069.11284681971, 89069.11284681971, 89069.11284681971, 145758.48223495827, 134883.1811004566, 421759.25387108204, 92824.84425881301, 96276.15784494084, 369283.0971293263, 369283.0971293263, 246388.89859683666, 148600.89786198462, 389667.40778235794, 498988.29075979936, 153919.9777126306, 120814.21610214919, 122152.05124557746, 268790.59622255096, 149798.35520325022, 132949.78735763064, 94243.04840499972, 87032.05033987561, 162370.88875793674, 268423.3688788414, 154985.3433676229, 115345.6050744884, 83324.00647104044, 83324.00647104044, 83324.00647104044, 83324.00647104044, 83324.00647104044, 83324.00647104044, 83324.00647104044, 83324.00647104044, 83324.00647104044, 131023.57242034475, 115345.6050744884, 115345.6050744884, 115345.6050744884, 115345.6050744884, 118128.06617213553, 87289.00705081395, 124325.74994356082, 270665.49903868325, 294201.358650024, 91446.62188030162, 86378.47198785619, 251134.40173174944, 118218.61155795307, 105368.88446931507, 147554.12770168576, 102281.27721302911, 432733.8692280244, 220609.48908908034, 211511.4920803864, 220754.4569262785, 161781.96254061104, 226386.91565988996, 204578.6015982775, 313335.2854558519, 115209.02223450031, 289098.6414131556, 290625.94628777064, 136601.12450388103, 424941.8698802348, 136531.78436805424, 287963.0943397336, 102353.68314390833, 124499.00499981108, 172058.09610115743, 133647.61490855474, 131412.51128318647, 755058.8028764393, 153713.58126178946, 119414.67971238292, 162260.448892856, 295105.27670530503, 71533.62148487396, 98096.75914881307, 104973.26290944807, 375885.12583189236, 222902.69593334314, 205532.94429805328, 114663.26284150794, 424941.8698802348, 286406.43124908645, 153251.8697202527, 194091.79313179292, 180570.24306759256, 282502.74808613845, 158565.05986097027, 104973.26290944807, 144932.28325704375, 271362.05265635013, 131023.57242034475, 293798.15220775845, 194533.24059171104, 94171.32754795338, 388668.8682090132, 202568.6279668154, 216007.3583749592, 198031.27908341354, 150368.2958110992, 432906.20044031675, 83324.00647104044, 93768.31033699466, 83408.96065459053, 293770.8060156909, 83448.3358829013, 167273.73177623108, 117617.59871236248, 120796.92227899736, 83317.57518850217, 101336.16440384522, 220040.64311269645, 170672.0060764213, 212404.65587541953, 140251.55172005197, 83317.57518850217, 83317.57518850217, 98771.16212143142, 340401.7407006381, 148746.5012402247, 114146.94707160538, 147357.07904271252, 98980.7206648291, 109916.54767134001, 106044.42303189145, 219024.4296730487, 105133.86202602393, 178971.43532044516, 475791.0083391455, 358041.09978260717, 85907.87526530838, 85907.87526530838, 69338.92014852916, 85907.87526530838, 85033.9851561032, 85033.9851561032, 145543.62740789258, 366733.7824591768, 102031.19123907751, 127190.65489478972, 181433.2200603811, 316160.22518631484, 465574.2398150698, 93695.3766172654, 102905.70887298929, 145873.05954656322, 93695.3766172654, 93695.3766172654, 122836.66041193601, 403584.7167653664, 99721.29615468896, 131972.77333530292, 101138.64543728901, 93695.3766172654, 434657.04552931857, 206012.94184517922, 108900.85759312799, 215181.71979382128, 312634.14836824744, 178336.11656811254, 148122.36464793517, 129602.08341705319, 321743.82738477015, 69951.18082016551, 143688.9961530043, 397994.74438498117, 228031.73454772466, 179528.73367657792, 122049.69198847859, 1356143.4852424338, 118485.9472522245, 501486.8199481829, 197706.56006674597, 392051.7608180306, 111605.72253921704, 109556.91846897829, 198507.25495457975, 248224.33413112335, 338749.9394394118, 128139.61765622828, 119063.60434863772, 251272.27092139312, 1413628.944164269, 533452.5940674371, 228051.19049032798, 319460.16896455776, 720036.1196147108, 123816.24176800008, 344967.12758636806, 206900.17438147866, 192318.5647682064, 132201.43985050137, 290011.2775440824, 142755.9461631754, 270456.2817755432, 246927.08339965728, 226955.7104289069, 383680.4511899184, 98675.74064696995, 249436.8044524307, 252958.04104254334, 87323.91229855294, 319492.0807784064, 201549.49151369746, 420199.0777737744, 123033.83133809746, 202739.0287523219, 315614.35405421397, 145061.88906674922, 234324.09732756313, 236046.9911087852, 385529.29362435325, 336254.6710469363, 573402.72066347, 167001.04454912475, 135183.14581790756, 177571.59339528307, 205709.22591652413, 164498.36848220037, 120668.1110429663, 475426.7063298685, 196590.40238672186, 200924.93686306608, 190991.94649736403, 230489.8266587763, 106562.46494524472, 140859.31179139036, 133634.46496138995, 150701.39614802515, 441057.47426415025, 635562.1801437357, 343098.2037875927, 114710.66238650664, 129709.0808696408, 125015.22765167493, 209628.84838313953, 123259.1391908072, 188865.75767943315, 107546.03176364467, 151021.80753026303, 368581.5402303724, 271369.4250258808, 125197.88974311526, 98843.23621600118, 121659.1878510949, 128505.67813377864, 233131.3235780357, 281602.3737973307, 608894.4348806905, 88769.93615463252, 176458.9801923526, 284300.7364592936, 211211.0579811047, 211211.0579811047, 159050.87045746695, 216485.4653148713, 591675.9172206862, 126704.79423953479, 181977.22382436445, 203537.20489638168, 294134.9215804027, 233129.0963821107, 131992.25767687635, 443758.9087817422, 140004.77866944452, 184966.64543254132, 72971.15473140487, 167099.29381083068, 198010.22652837465, 130659.3032469983, 185113.86818257777, 195388.09625356583, 131222.68634071216, 143141.9814023346, 200730.55209528317, 128556.64411163527, 128556.64411163527, 128556.64411163527, 146225.56155380546, 83930.40602686864, 279783.1762468495, 95953.98723442836, 126663.46765681342, 179117.13358475888, 136960.12189911644, 158561.49772039152, 208189.2439102787, 176267.8496493667, 280070.89519646816, 457920.4564578898, 95672.90897849582, 95672.90897849582, 95672.90897849582, 95672.90897849582, 95672.90897849582, 131691.74735939433, 131691.74735939433, 131691.74735939433, 131691.74735939433, 131691.74735939433, 108673.60836752289, 671159.6727601177, 187294.49714123984, 209620.14551243786, 222317.42463103062, 176570.85432493853, 183858.2632086614, 183858.2632086614, 358560.13728367916, 353603.943088429, 316364.7058529541, 112245.48307679381, 191756.01513501126, 220153.75242185986, 321177.4095275104, 307684.4281294899, 155052.81734817143, 719474.9184065043, 648792.4499539968, 136787.62108521772, 153885.79334553136, 167892.74876162922, 217469.55190264242, 188033.39732822514, 110608.59961266455, 292298.20680703333, 147052.45231597696, 185597.5040498089, 182552.5799088254, 178512.07573606953, 209670.82302098774, 232281.22095748695, 516002.0977839617, 831096.0203575797, 186671.10746250238, 193430.5829921727, 106760.2226616041, 106760.2226616041, 125530.83675291546, 426522.55783596373, 784650.2808215084, 110708.60324834372, 332049.53593402886, 155051.22485763693, 206670.0971228046, 271456.1395321998, 161663.8499728202, 167113.74458167143, 249994.75615260142, 176268.4856141265, 208428.42212491922, 379187.65614537476, 121194.31498030407, 163956.79514905286, 198891.37942862455, 257261.88235219324, 559697.7594236432, 462342.08255980077, 395096.1670093018, 193906.31307593125, 197160.35664461623, 192105.55743943818, 178766.13257504298, 239117.51422547066, 121904.55285579037, 94430.89382549367, 228837.7090529704, 125017.82232706505, 286920.9223214286, 232800.77464019414, 443665.2412586952, 407233.49735724315, 1198477.6588113671, 164259.07493227065, 150791.65600266395, 185181.61784203496, 92314.14532477884, 92314.14532477884, 383948.49315097823, 269501.4131080837, 119265.49427453532, 125036.17467616816, 138063.58579882988, 130223.40578326913, 131137.26080880844, 84587.31311272894, 140768.4556959675, 112018.04210102904, 153606.3653069425, 356272.6844570765, 199332.81765552002, 188120.4927727023, 175570.0395248845, 134541.73476430945, 175570.0395248845, 150503.12551015712, 113824.46462406787, 154026.51690195623, 224895.57022665947, 127195.18999128467, 199076.67483245535, 133057.53945919083, 323230.80630724656, 158014.7343189454, 197623.33861177546, 228038.12021915778, 117831.72836757962, 161056.80637674444, 154228.72633133648, 107765.14083785293, 221350.62712534398, 296124.7828579838, 138621.69116402988, 85129.95222838284, 85129.95222838284, 85526.04792825272, 85510.0704788925, 102836.83257584789, 102019.17378827033, 199244.19395167608, 128128.76801954434, 152695.6212044186, 142641.55262813403, 124074.2699406455, 159644.4101940118, 101179.56451793475, 101190.8254742698, 179345.9673456433, 209342.65147916644, 118866.33949729032, 118985.54987445698, 144395.66388069972, 207577.38108344196, 206393.55897483113, 125034.40928760875, 179516.2804765977, 233676.34316613202, 115710.61700666687, 831764.2077273756, 129673.41714635091, 185118.0478677404, 103350.44529496497, 180694.58915789486, 205656.96899228333, 207670.1956194153, 190827.73711118734, 112236.36655999003, 85546.65717260246, 473075.5290747228, 560138.5175922568, 172637.5200235326, 131245.6154763421, 203153.62984742413, 465994.46990494, 518013.4419692506, 178892.96203205443, 173737.78378058004, 105880.33582657826, 121749.97011977204, 152892.6980380288, 157808.30111218645, 75655.30721863445, 252547.7426274061, 328917.800975868, 580489.1906664849, 106835.04880564139, 165962.51989066123, 142492.115193738, 83222.14683023424, 168861.85205224113, 146888.75641947542, 129188.50309098033, 157238.80136239852, 207204.82160069808, 185047.59343623012, 184039.08184795425, 170614.17124531203, 233533.06415850567, 104701.8686956075, 223104.54650007587, 138957.5578449019, 119542.01162111372, 146869.65538037478, 234467.4895032492, 223197.6407495625, 134433.63442929313, 65763.6281020862, 128280.61577022563, 129261.90767381144, 121701.78907360643, 249435.86644890864, 230257.8373849066, 117300.91986602527, 164006.80266215518, 214169.26971477622, 132507.28430505263, 132234.54737822537, 176577.1204371892, 506626.4018230512, 110714.42484100936, 117468.56098832906, 327700.14189518953, 753001.4140086885, 323124.24346071, 213853.52491983832, 111318.34046193003, 100081.7352556739, 470617.40594423725, 575221.9792778218, 214679.72848408791, 478341.03489370336, 125328.30388865579, 118563.56141888545, 143919.98026971915, 346813.7603534337, 154099.4656378159, 363130.17573575483, 136740.68400868098, 153843.06149007683, 123856.71816652613, 347023.42412405316, 178380.81475299405, 64234.05576457626, 144563.9061054964, 159328.08742528324, 138940.64981971867, 808115.4431265125, 136396.47507682565, 68617.64919279213, 120828.16332042633, 167850.45775935226, 140963.1523156226, 242642.94453602855, 156035.636490875, 148530.18740585234, 196824.70266789448, 144651.9229367722, 142369.7885817272, 109098.5400694798, 154820.93471584632, 138673.55583921506, 118457.9360743626, 137000.84860004907, 219826.8907191425, 165182.36853978212, 105336.74083543915, 155452.60177614103, 377743.1803288015, 156969.9762505392, 128828.37873549895, 168919.26045558602, 289515.3509513766, 111282.23459530185, 122846.78543529943, 176241.29908608831, 131611.23867441586, 295524.13290467946, 170005.40288624377, 124900.57023510039, 159014.92764621077, 211248.19913227373, 163519.80859573008, 138945.5700881986, 159648.96946114636, 103895.1891951619, 85954.23129621733, 118209.90591759661, 112213.06246513079, 130221.0947063033, 187018.63813173058, 75155.63318316606, 182265.17574855103, 125502.89778726317, 163767.43628356027, 227889.89306035722, 105891.4959600628, 157230.30359787206, 157123.69950848576, 146570.36063934033, 146570.36063934033, 123793.14051451746, 132945.86587349404, 163577.62961848668, 127910.732492005, 132234.54737822537, 130862.2808918056, 312610.4287384954, 352398.23721386824, 227147.04586586612, 257221.9395090613, 277906.9732785549, 257221.9395090613, 277906.9732785549, 224705.14594585673, 224705.14594585673, 322561.3600058152, 322561.3600058152, 365599.1133007985, 224705.14594585673, 112122.58885494378, 132973.57481434455, 224621.41026864215, 123605.63025480065, 161842.55655873177, 368800.374679608, 283173.5569382655, 1610838.3824444145, 80546.16946156895, 163464.33401661838, 179161.33599650592, 213554.52896478865, 187836.87187683757, 126866.17678229984, 416785.96345531737, 97692.67145859744, 121979.86301173648, 233409.62146691137, 111183.23050860522, 146606.62591087277, 329492.38215680403, 131877.0613629605, 192404.04810375572, 228321.14365006215, 291996.3597358059, 181874.04667705984, 108954.18759745416, 141581.38882927864, 155332.7973627659, 235123.08955828985, 250877.5403713548, 93597.5356579641, 307374.14274075883, 282737.51770812686, 461706.33980512625, 111908.65937400534, 273566.6698275376, 113333.87563776015, 2018382.2293833871, 322802.68843150954, 100647.13145862761, 663419.3305313238, 157934.79059039598, 343423.0221728587, 113791.0828125003, 166550.43005180504, 201658.02562723123, 135642.65549884405, 231792.7765979505, 114443.40591216486, 209557.20326650207, 113643.71520387809, 199533.50954568738, 100698.060767614, 174425.93420324408, 405125.8631893128, 148906.32608276384, 162328.194864118, 183984.67896718433, 413691.23364138237, 192670.88770371414, 182815.61183551853, 149220.573481424, 213692.42653854864, 299247.18737075716, 151492.00703020155, 312267.9959646853, 506033.078519021, 302268.24247720913, 254663.07969689177, 200947.59487007867, 343096.35020833334, 125227.79407008085, 196599.03761550953, 541803.379218905, 725826.3040329511, 270783.7710263848, 206642.37443876444, 87736.25659823082, 92243.20305096367, 151548.56471926582, 105717.54878655217, 374206.8222157218, 134954.06352500588, 304760.5631038077, 229738.16753425944, 73032.22819912936, 269525.18557797535, 189735.95544351861, 102867.3539144948, 76067.2435862655, 225859.72376040264, 654173.2687479387, 181567.72878525092, 202911.28386369668, 302156.8148720863, 158541.86542518035, 164485.85361127587, 163202.82142222545, 367911.4973737977, 139434.84830040767, 227294.94589102885, 218040.499299243, 182710.91502390377, 107814.93060814094, 104355.44001055759, 107814.93060814094, 96593.85107677741, 107814.93060814094, 107814.93060814094, 151351.45309960993, 174383.40983839481, 113967.1348640331, 104355.44001055759, 152458.3157973985, 176372.76213089965, 107020.14953315188, 120851.33762620372, 132344.39456885125, 101086.9151491913, 105375.78839560552, 116698.37207026426, 140421.25871676643, 339653.07186901104, 153095.60518081725, 116423.1540420992, 421804.5464931017, 197614.4543704081, 106280.24586337767, 140585.83121883817, 144887.92368280567, 157222.86611107574, 193508.8365144798, 135175.74230777682, 758664.005646884, 207054.2078254398, 130074.7453939973, 672616.9682366394, 158633.75511219888, 123696.82773160841, 101828.67214444235, 497699.56099673524, 278547.85284588864, 610382.562529322, 98514.38264879066, 220287.60467936998, 347895.3520903691, 224767.87649847305, 269474.73851943115, 169499.46637047557, 169715.28174233317, 240455.95650095117, 172393.11672113233, 173121.32162153735, 86229.53722311748, 197928.2429571747, 100688.6637763903, 249001.5104412556, 313065.5181605861, 208891.92580009575, 93839.18015495855, 293238.7069047663, 366344.463989756, 61408.174739271526, 174528.84767582358, 527119.7338589008, 993554.6729103909, 179154.7515123507, 122824.12500762577, 157659.0841876412, 104209.4979429976, 250552.39517815478, 130662.49453413444, 152999.87968742682, 438290.86861942615, 288815.9595969368, 516376.90562646894, 171832.07149483895, 114471.45752796503, 572669.4497389292, 146883.39195479255, 572669.4497389292, 293066.76560456003, 185641.19517624323, 139634.389887037, 92405.11886159668, 162720.62614686892, 150436.93922150033, 471925.4484072916, 445365.87659561523, 135727.02147134946, 97338.16512625308, 136230.45371078132, 272377.0988742485, 109569.69095050324, 175963.76678364293, 133593.9759036894, 133594.61924587635, 213037.46521811563, 1161421.1009718226, 184937.75797575928, 202618.64133230067, 268041.1961688097, 222233.17051948406, 140479.42328424723, 147177.00152183397, 350092.73779207416, 483164.6007222585, 130784.71557597097, 158660.4272528238, 144428.60416972236, 216421.06210670614, 320515.07785357186, 552415.453631292, 180070.0547383658, 189695.06197171644, 208829.06728139505, 189604.16719488482, 147176.8637938731, 127930.2799082817, 197621.3284210116, 171207.59288584103, 86221.72670388207, 76123.15275983335, 83476.0170560876, 308899.15787818277, 568946.5688060261, 66031.04335783319, 80182.74003108665, 93210.14573286167, 150794.59467560257, 214670.26852977718, 307036.1223356339, 169878.69938578957, 150743.15882252538, 95049.07807324671, 398069.9263948343, 146275.30112468678, 174816.02823264257, 1065234.0306931927, 804201.6558848062, 900689.8440071124, 474312.45195568725, 307621.35353224684, 240069.8571273812, 275697.8108755793, 209163.67800953088, 968789.959256385, 260159.1174408712, 612389.5366512365, 629691.6364712229, 102262.76442578706, 255949.18220012213, 118673.38544940998, 131361.49393671323, 533764.5192369246, 179898.59865396377, 135563.79315604887, 138210.34934122316, 147720.43840283836, 190931.40985231244, 169890.443743646, 223425.534544113, 109234.97275279181, 505839.12749910454, 438842.5413930266, 116626.8058983523, 189528.57836630422, 150192.69032232053, 227735.1355748187, 994930.3708112383, 125424.11589805564, 225130.67411744662, 231578.03516368667, 225896.1822485705, 650908.293689459, 469093.5425735041, 154852.68385984967, 1908216.7370050214, 609353.6780394077, 111636.88877455852, 441764.5978375738, 370555.9604958321, 212993.90359647147, 780164.949106808, 131965.81745932053, 223664.7755781735, 167578.35180701496, 173554.58331668176, 160759.4653729172, 214548.07259808978, 196315.64983110494, 147274.9487935463, 111932.31436126787, 131163.42407073776, 271510.2310830041, 2633463.1618532124, 458841.0968194391, 112320.96514091254, 148882.29746794072, 110051.47177638693, 141941.07305993213, 165644.44619120008, 215810.26738062437, 160037.56931897532, 161854.7364029569, 232269.8748828628, 133006.5215790328, 155677.04158936907, 125398.36004979418, 102268.24872910249, 181565.33756282445, 161185.33599429528, 130131.91364184873, 1030772.4188334598, 200222.55852463187, 193356.33343082605, 257813.28031883712, 187800.40983670222, 711837.7737360313, 157684.23046929564, 374972.04197161586, 529769.3091658778, 224038.43762576205, 129642.72201887848, 107814.93060814094, 118945.95921467783, 113514.06402308847, 202998.67493507732, 156616.4027962081, 419466.2430969932, 645546.8392548357, 645546.8392548357, 645546.8392548357, 156580.40562685256, 99315.80394702352, 101838.47381592206, 297441.76646562136, 88157.03822561249, 205878.13319811263, 202640.12588817504, 198086.19658743255, 195061.5254918348, 199117.1447867772, 200224.14143212716, 177892.30646422223, 120199.33672045503, 281858.9007262538, 185267.88097849194, 121021.07100107575, 141195.7813756214, 131164.8854242194, 429986.6247128799, 129077.58659907938, 367806.1786008104, 2715902.8840180505, 315842.70575765794, 151502.31789585773, 151502.31789585773, 151502.31789585773, 150783.75394904107, 184864.329136062, 97206.67933801142, 530484.137287716, 330688.62760497513, 96872.89104574939, 201634.1481558544, 110729.04732973738, 163764.64802556465, 402422.5385426296, 656701.3442218765, 211201.9635990726, 201747.53037987676, 129536.61906814725, 130730.93969939469, 155356.1199765004, 279192.24215940456, 290944.7127550242, 78391.62564528683, 206391.85332737098, 313560.7065259969, 170395.41778578018, 144555.3788099343, 525557.1748569455, 169430.128913432, 184214.4912878495, 158015.96106353012, 341723.8615841038, 153593.65757077836, 254636.29709643204, 157760.6517029604, 200765.92886261616, 104089.1290498815, 95993.79026650758, 185555.94454215182, 212057.54488246242, 274520.2383798639, 119998.92373193018, 272432.22920039675, 240360.68327910788, 225384.50606005205, 221288.10988418164, 76609.33892977258, 230248.1732825882, 143808.26807861635, 139120.71531902123, 126596.79237388958, 213714.01504330395, 356887.1734016106, 155832.62169166972, 224779.70239874913, 89995.68848636794, 442567.23296808114, 86570.85926906072, 199619.4099178536, 226556.4316401927, 1210327.048950346, 192571.50949461487, 166378.81538068992, 120409.47097169906, 97216.14682390609, 200630.71147136512, 640752.0788736691, 61715.61836262386, 281565.0142537289, 254640.60096668007, 238969.46875093342, 277520.15817727917, 134738.22409005565, 574503.7590599279, 407203.6495237646, 141240.3660033481, 147445.78024863132, 160154.3242588176, 150216.96841510307, 213214.3788192188, 238835.05039862377, 300022.1893344217, 79378.25033183882, 80696.0139036869, 206403.2821885374, 171768.58860267786, 116777.28030383922, 623876.7009030385, 156488.1902296642, 261861.28245527297, 420312.1138553517, 415347.9472294384, 120923.40575085767, 86958.2736828908, 92469.97996767625, 163270.64169352522, 292336.1569908876, 191742.90586662682, 180226.24441043634, 118931.5110679093, 127672.87852030434, 248373.18461321306, 80558.49036943885, 100283.3474144787, 272049.0206134523, 232636.9582607438, 196720.80117102055, 184004.9960061836, 231449.51382849045, 138117.59196787715, 129596.31509200507, 129893.89395343352, 136073.7709911555, 192575.3276785521, 159163.10822587143, 290545.0017737844, 383652.95479566505, 142285.06522240408, 132336.79620751372, 82183.20352308269, 116516.34754288042, 101067.88759550566, 119124.82629885698, 850070.235284458, 81549.97757156174, 156338.44310890196, 133959.77500440838, 656988.1648702795, 125663.95811150875, 126549.19839396488, 618213.3467759454, 138086.46536959635, 1154088.7720931408, 210876.17883323104, 1154088.7720931408, 248315.8008358748, 1374595.5180387858, 131856.8173581983, 96316.68075413353, 160566.371700773, 160449.59605905286, 136570.32858452466, 164872.15327354523, 449079.18776199047, 582393.950683844, 243026.72968290164, 207886.57084360733, 132065.66247134388, 140485.39773712703, 282875.4740803854, 139047.8633320573, 139047.8633320573, 102532.98614067007, 1078600.0208410462, 1078600.0208410462, 1167769.414657397, 137331.6780942673, 74130.28529799332, 353927.3772044817, 208581.3091040094, 135867.32249919194, 178788.29515292597, 313203.05556016206, 134015.5142039772, 363743.3722170927, 117985.34266192338, 107148.86711293968, 117985.34266192338, 117985.34266192338, 117985.34266192338, 115892.4413183772, 117985.34266192338, 117985.34266192338, 152545.98606020896, 660000.6954800682, 127664.67364760452, 117985.34266192338, 116091.71465364315, 159235.84542824535, 163641.2260237619, 261660.74058391555, 288522.10299318656, 317833.5208786396, 140536.16628825947, 756046.3307114255, 211989.94110629064, 117724.36717092077, 344035.98977900547, 179047.46759771297, 243019.4817717595, 142172.088487792, 143887.94875497464, 135699.20877487047, 240518.2302819965, 516501.49775927956, 195100.06187648093, 168724.96632902895, 329912.1830668689, 146606.45519064457, 263179.6911326455, 131447.2725405468, 237789.50366792642, 325980.2168628559, 215063.73817683881, 897632.1167425079, 1131316.1709912592, 1144641.5263406108, 133922.9875412437, 165658.6453305953, 146802.42311831767, 166810.3428210242, 207452.96356777468, 162811.43456240874, 247405.97976237204, 263462.83554190357, 129752.08927700488, 106678.80375200433, 613563.9991839848, 166148.88620437664, 161061.6776720791, 202540.1853932832, 124449.68160519213, 93802.37225737853, 161773.06362706894, 83247.15657090156, 192613.965286853, 146048.25506172515, 212394.08267199819, 220127.75836305087, 121238.38857443993, 403912.2697682339, 96625.71272013687, 97725.02710346122, 125622.13327779161, 288834.7692618106, 135319.15374656767, 86693.60403111578, 113824.686313418, 79957.34810048903, 167430.93620885466, 113702.0898031117, 173218.28240993957, 134856.2446127327, 127081.34045391215, 145588.96430645254, 145189.54405504873, 101642.24525509289, 209027.89858952968, 114490.07656052068, 98056.4045928275, 276656.64214187174, 181995.84870676644, 979175.4874998679, 282897.68410119385, 108103.70808473584, 142588.34682194595, 253574.26060063826, 131165.44175321655, 151568.421174863, 154593.57622182093, 213554.54487125776, 93101.96297068075, 165687.99511219864, 184367.0620601726, 115053.03569136045, 174617.01826804408, 173552.84564583606, 116517.48974491462, 212977.01610421058, 123606.11784845049, 174267.58101580126, 378781.23876634805, 273902.05660656205, 518374.8568177361, 136484.73134379578, 191808.91471655402, 131917.0675873053, 131870.0759214018, 351086.56757957966, 191187.0385277123, 794321.0401398152, 713905.3991206525, 566395.2893189791, 430693.9700594716, 429498.2167169892, 429498.2167169892, 429498.2167169892, 430693.9700594716, 430693.9700594716, 430693.9700594716, 502820.3924749039, 290385.2328826645, 445818.8848295561, 439501.4704225403, 1172848.388279755, 387153.410684165, 387153.410684165, 403130.98672849906, 416511.65921994846, 416644.86527436646, 416644.86527436646, 416644.86527436646, 465769.29633638455, 457607.9909523717, 397475.94911301753, 400168.29972704477, 398803.1317407578, 403206.743399957, 411853.4383060509, 438951.1039629114, 421418.8633162549, 426907.49047971034, 420726.51438391843, 420726.51438391843, 500779.3260411168, 426137.4501475856, 172735.38817332507, 419501.4236985534, 419501.4236985534, 423190.02828373556, 427537.1232451247, 532938.7309376085, 536228.6596825565, 534056.7521769474, 535253.5912358646, 253939.38772537716, 269269.3028952549, 397684.7624507061, 218037.42186803542, 296734.2104816708, 224393.43830647855, 442046.3438251007, 236304.87402061358, 108724.66348592573, 85558.65227903861, 323584.28388323146, 214144.37952797336, 141571.81661243096, 153468.08202038793, 122062.79229990697, 323686.91567814705, 229220.7635743393, 104322.07458587519, 312660.93043791095, 153567.3497878326, 186497.88869854494, 180401.51351680444, 114175.4199664378, 188816.2427713001, 176689.10012114618, 311891.9913049439, 89306.9484593423, 329188.19475432293, 201918.5444319191, 471620.11545872316, 139319.89734283712, 334457.5935992672, 256852.12944225775, 510941.81814001186, 147652.7859472494, 106219.60030183665, 253559.4604459384, 101225.93535812464, 275891.1142658833, 771372.6446998131, 244211.2588406967, 897289.2867404096, 92701.6130366597, 94871.8953507755, 94764.42345433905, 120615.00970270025, 255306.70429363212, 160947.69374382208, 136688.9289956471, 123118.29908519042, 124670.34685385691, 278949.2562048073, 284113.7983519847, 140285.5744644729, 216871.56758273486, 140285.5744644729, 138062.0667030199, 285548.12430148287, 276253.54396123526, 176864.66099741947, 208342.20201800187, 137962.8607942427, 481118.414450981, 121164.0747045343, 353868.45811244496, 163570.78604487493, 213892.47496070908, 244835.12391177012, 320049.61639948084, 1462072.8926685743, 119438.43180529798, 165584.73574934184, 314263.35882268, 127208.21005783352, 163290.7116304371, 229114.8807243815, 175871.37833824323, 972034.8374735534, 573842.5617503389, 209282.69716594575, 157674.1774433996, 246433.49077003426, 105099.42074541622, 152224.33615285953, 124617.41480396553, 220671.0770025227, 104640.31847956093, 130703.88684674667, 217404.19641999033, 167859.99124618765, 154511.3743191068, 152805.69501472864, 212826.39877242828, 720167.0011690086, 134291.2713458324, 143834.00558901264, 246311.99902863707, 238189.24598405344, 280153.9376487772, 338805.61087002273, 111997.75303816028, 210106.97137620175, 242906.3243626555, 892307.2546495772, 74703.46929865949, 305448.30055828684, 117937.8421956934, 91452.97008401467, 85328.69255358462, 148701.40700462344, 125894.15506172203, 131732.59502481183, 148232.25853510314, 298925.7061987773, 179487.21913514507, 335438.7858341314, 133314.83447155321, 184464.7804401672, 105979.80137949572, 231579.0373955583, 104431.120455103, 100682.58120615165, 166000.2822064776, 326025.77104756807, 189219.70407134786, 396940.7164834842, 149059.5227937641, 301112.372504509, 230247.74127567207, 178283.146053344, 115979.67189837276, 219885.73906703727, 124741.06462690173, 124741.06462690173, 124741.06462690173, 124741.06462690173, 124741.06462690173, 103553.27899922889, 101233.25198246454, 101233.25198246454, 101233.25198246454, 101233.25198246454, 224975.56461320326, 206519.36136717937, 254380.67940986247, 574772.7095641057, 117075.51832239836, 384603.5959404666, 574772.7095641057, 192638.62895680827, 192638.62895680827, 192638.62895680827, 192638.62895680827, 192638.62895680827, 192638.62895680827, 192638.62895680827, 64000.06178089935, 153847.78172927268, 145175.42476382368, 65912.6828229149, 208584.40621453017, 134693.6281014843, 88965.14414467949, 157439.60279360085, 251551.44315758502, 227244.3919491814, 227244.3919491814, 123032.82511408409, 133539.62671410572, 187992.2833446024, 87063.58009246766, 140530.11565257455, 176983.46808793308, 122276.11819168681, 123278.45170710751, 303437.1413230908, 67541.03485400196, 165715.48673777716, 590857.752706574, 129304.95241928162, 131876.26614664588, 127863.31804826306, 127863.31804826306, 131863.10378014605, 167170.7152211777, 121670.80714326743, 574772.7095641057, 82450.94843117236, 137901.6885038769, 139873.05446235885, 109660.89366801662, 179605.70423563645, 136905.71018389627, 125399.10927766585, 133384.35672011698, 161411.14689561754, 117630.98635412837, 581418.0318877423, 113791.41255857245, 97546.23959839527, 256205.87467008937, 194499.82359637014, 159014.975768859, 129342.47346508743, 283946.2491089669, 166511.26886840025, 214982.47149689274, 80570.90486708416, 153645.0624456677, 88323.55737297882, 221585.75306336072, 130464.22374300093, 79160.31194570719, 141909.60265187474, 164723.2813943127, 182713.2389426775, 143568.9229013115, 116186.94588161932, 454451.59396702726, 85457.65368389337, 63297.58352660959, 94184.47059931152, 63946.24684849994, 81801.51032539264, 170530.1709860934, 662223.600763922, 170530.1709860934, 662223.600763922, 178964.57086502947, 139485.6290888065, 177055.73175472178, 177055.73175472178, 657954.168201576, 662223.600763922, 662223.600763922, 662223.600763922, 662223.600763922, 149861.66631242997, 155707.34763061558, 159402.25208878654, 213310.56898942986, 205024.71979963602, 892219.6385563848, 164822.91950807205, 178121.6806074818, 167564.3841164559, 169136.7631132202, 120053.37448830115, 153991.63888013092, 252462.22327836798, 218976.29722596332, 145084.79358930854, 244345.149786372, 258430.04027039098, 174810.47908740447, 290442.1580193665, 290442.1580193665, 141057.94712751347, 167563.1833002737, 152580.8256729813, 381310.325982541, 70489.97383959137, 268893.68319274887, 169914.5798163215, 287846.97835551924, 172974.3224359674, 168963.45954247963, 101608.85939307499, 161936.02461307548, 157967.4625356003, 141947.42672077953, 159314.40600609512, 149568.19234820333, 269132.90840365074, 153520.72035607102, 136074.923606108, 156556.68115384615, 158448.86299743297, 187431.6039902565, 169783.4544958656, 253442.4339737269, 158958.74480026116, 130454.28866536943, 1044014.5785901189, 685113.23465723, 172102.28733781775, 726101.6258720293, 182605.04425222072, 162474.6245409528, 225205.17703671267, 62852.052984367765, 135481.87666552828, 590322.4893720669, 127114.35824851473, 478433.3658132233, 240646.56346668582, 256699.73373443706, 140510.3066877038, 135937.35719959834, 264873.8575389272, 103812.73001557251, 140968.12754909115, 120033.04333062, 120171.62783855096, 167687.63320641394, 163553.84585158402, 167425.7139895762, 750956.9440905955, 154116.42953473656, 282079.7347562207, 493976.05690605287, 1082901.8854869062, 151351.31091660558, 1228888.8165894325, 329200.1712579095, 584957.6396407378, 175609.33680638298, 136543.2459482949, 131927.21449872683, 246088.71362946907, 139461.8900619953, 143375.98365010094, 229525.11025812916, 150056.50412646728, 454713.447181735, 285106.5179471441, 293224.7335457717, 373138.62682568, 640461.3331858244, 473129.71058348287, 166433.37602490632, 206865.02225536635, 213332.33276696916, 459655.5342795037, 916006.189432342, 97404.40655362129, 92978.3967185576, 123498.64525856485, 112605.35875936672, 487524.48811411613, 173829.22885114094, 203542.81145970244, 149666.3970363604, 111382.52822708158, 325869.1984037276, 241152.18970018503, 260640.52180761582, 162563.01224285725, 150363.8705395721, 146028.6018164871, 146028.6018164871, 149461.43381433733, 519503.3418245528, 109342.05896986579, 148069.95600625905, 289447.5869193724, 190590.07245906946, 612394.2628134091, 70489.97383959137, 257954.84736454271, 142310.62926480226, 148930.7701717433, 195411.290780852, 130276.915811332, 319047.4143021374, 275982.48436976987, 152254.4019735025, 158777.68519080456, 70489.97383959137, 170235.38184317364, 138053.95775150243, 205668.7084010968, 446053.67419966083, 211337.77261951138, 107588.85531530628, 159430.5837796784, 257426.1171577957, 153090.90270462926, 66300.28764266384, 365893.38530139567, 136806.82958140605, 95751.52262464442, 201948.16286518716, 220603.18312280386, 163640.21107031524, 70777.89566408843, 223296.19912369316, 151585.08355935823, 169075.78689408433, 99496.77224939979, 135096.99638003256, 180005.67254701478, 116632.53974869347, 203034.38801010037, 127482.01297407612, 72257.70276151242, 138060.7305550877, 147930.24076839484, 366118.7901673757, 171884.2378722874, 136592.49976511762, 161749.13935877781, 128111.59616178434, 340942.37181918445, 74737.1850149258, 225763.27805762505, 265252.66225673177, 273455.64027433575, 131953.8116886709, 155981.94744309067, 96852.1336832768, 152868.9685180386, 137080.66323392317, 132244.72166959816, 437591.6530161602, 1192490.4184982874, 164815.93230798366, 133267.63343127733, 195069.83453851446, 252493.76193025903, 280702.4105966643, 138293.92009377462, 252983.70323840296, 292384.64640267246, 160858.1518513185, 201530.336281932, 150267.40516884014, 131520.5083911969, 132115.80897497814, 131907.99878066775, 132270.19918094485, 104474.69675073386, 416605.9703406257, 126446.17391423651, 165553.04908375634, 164581.26304433853, 139923.74301187834, 142879.58322880967, 123890.6789056388, 147607.25195766447, 130352.26074796214, 158058.60768679663, 133035.9189940773, 147241.40780049306, 301371.6987618164, 461921.74849295727, 238261.41128757774, 162860.63189871504, 146585.65867328364, 152808.86523642484, 157478.46106259854, 390017.94282173115, 117832.1392943169, 154338.189777829, 77148.77055920957, 193203.19854895433, 122739.9408055417, 208056.32835674076, 110905.31309229186, 178910.19560458278, 98729.19991247171, 183013.3861060644, 129318.07717980292, 212092.87916660344, 176566.16179471638, 226935.32302384495, 218784.94049938157, 94514.25385015587, 63901.31113360152, 63152.564363640435, 129131.86733562389, 95625.60979706064, 146611.25808247775, 197425.8585055816, 157853.3700498982, 171791.6600564777, 142516.36524915363, 131428.57756032568, 171791.6600564777, 199087.74591669365, 125149.61882341644, 199087.74591669365, 111704.333964335, 527946.7321748615, 306098.86400851625, 267942.592509274, 205012.4023360813, 140078.28232434666, 172801.47510562406, 282470.9362559163, 168410.80999211452, 133988.00502344285, 472070.20356290636, 171791.6600564777, 297255.1510982061, 66574.0726906987, 251695.01005042173, 90311.30132649645, 152927.23762056907, 84026.15753289353, 242533.1429195989, 199957.4706715786, 91440.67335245067, 304444.240332124, 109389.09839863605, 270257.4076814553, 145789.2443720237, 88542.83443894479, 88542.83443894479, 88542.83443894479, 83689.55529854911, 129983.97015598664, 175758.34398740987, 145261.25236989657, 80530.00990606545, 166316.4777696702, 132754.71368319396, 142616.4414627707, 221880.47993867515, 126398.36667581665, 150040.94521458898, 182970.1274417043, 178910.19560458278, 68881.72274939333, 131350.97921251185, 100504.86016436724, 252439.07713421388, 155637.74229293535, 171470.51887149402, 146313.7873507797, 173652.8715109938, 178378.93186492135, 222174.74334809414, 157949.78110094773, 78734.3270696906, 65828.68019773172, 184919.53992968568, 204763.99841937737, 207081.5005794632, 161112.41683232464, 113677.75637029327, 139400.66919356052, 156442.94342038204, 182217.35835089273, 181013.06589568217, 65605.67500000788, 156312.98461384815, 123165.74647349813, 116600.96267052725, 340181.87145091983, 120708.78510094256, 139273.21960882624, 338242.0399207002, 114217.65439137428, 276629.2370333054, 129064.91167411883, 176827.27506869825, 291664.78165411024, 327476.1575542329, 165573.29255147278, 142457.43325390358, 103680.21121539787, 331166.1101084066, 128767.9813780149, 161169.13655079782, 117739.90416064297, 297104.4319863191, 153485.40533323635, 232343.36108655678, 166168.18723659232, 237116.20675255777, 267230.50623914856, 129758.50050785067, 167795.13023569735, 149536.14915972663, 161749.1077175024, 91626.81750730054, 68852.03078307887, 75083.20570683245, 141014.50972970997, 102778.77882336975, 143439.37869285094, 158182.19225556735, 131584.89155066665, 152755.99651276667, 389690.6766651057, 100651.17798592764, 132459.7536256013, 153842.74946399752, 132506.48231307586, 148498.26760950295, 66734.9843677281, 135501.80094639654, 157931.1088461169, 146652.41477854154, 282149.3987050085, 167774.4157379202, 196473.81676553685, 121596.04360836273, 125514.14510058524, 131363.43157191214, 292566.4441089375, 185791.986969745, 154199.0319103642, 184504.757276905, 170562.77293208605, 131689.99493954674, 200458.97067907895, 86214.770898061, 87515.38491268418, 257671.31767530148, 201499.84164333524, 169252.61254354476, 214970.4696277747, 71293.5800435905, 205525.14749535779, 246592.1526309999, 182837.2900441615, 141769.6953338471, 143924.8753755364, 64559.929759924285, 130876.0841732851, 66583.55422230835, 136497.04572549704, 90311.30132649645, 89276.9109171713, 90311.30132649645, 235361.46779641518, 187762.12024801667, 199174.8765655548, 100308.96245695653, 85004.52854615595, 196281.80792988674, 143207.15709326213, 72301.55774773133, 166680.14312984524, 138294.9097449857, 135741.34683910795, 261863.8228602779, 128485.28334223707, 110483.77438649978, 99328.14829556766, 155560.97799733691, 937210.8454094843, 154431.19766277462, 153662.36690146997, 161993.88989960574, 141334.06628769456, 219152.30822624688, 366573.6859357503, 819283.3358421169, 161315.18911066896, 387533.5999890256, 97894.27198219197, 141334.06628769456, 206091.95193460435, 93316.84275474293, 155970.75512989936, 153551.97851754696, 647194.7231202457, 141445.77967179884, 148412.536768984, 128162.84076933238, 163031.51305358496, 157959.55868530052, 186588.87728952896, 106584.25002853174, 113888.49088194178, 122162.83722111864, 162601.20258678062, 381082.94416819105, 87825.30714054496, 130208.62776067217, 88191.46021150301, 222799.576454554, 199334.69644755786, 251932.3698511591, 203471.6904696728, 165485.26720104247, 219300.00738263375, 237272.07970273794, 201943.97093243626, 97094.75711856742, 101551.03355779627, 138740.87235595498, 172215.0979596245, 157605.58230584997, 165099.21686093335, 179534.39984703684, 202350.23730092662, 114546.58294915115, 140904.36219982198, 64559.929759924285, 64559.929759924285, 150926.82711419056, 211853.0208597665, 159111.3645669371, 288965.47727839707, 360782.88474214176, 307611.70124192745, 143142.03011264413, 66356.21177861925, 171347.44756802454, 366720.0995373384, 276672.110347923, 133176.22319165122, 115952.13486257088, 177713.65785558714, 284944.99458951975, 168455.7062615278, 94168.83057198927, 132728.28606549883, 154226.7449276467, 261912.8001689193, 150903.26177309355, 97415.42307567119, 91221.30003298895, 84385.29811150824, 256231.20945383766, 131622.23870105614, 261537.05110501236, 200450.9479218542, 161258.12208771732, 104499.7037197798, 141407.6868559599, 103837.75426147653, 136889.2984509819, 104499.7037197798, 141407.6868559599, 103837.75426147653, 136889.2984509819, 136889.2984509819, 103837.75426147653, 141407.6868559599, 104499.7037197798, 119791.50114947405, 128855.32348616308, 176724.86147765434, 156049.16412922402, 156049.16412922402, 176724.86147765434, 128855.32348616308, 119791.50114947405, 126135.5961096219, 136220.37842778445, 176724.86147765434, 156049.16412922402, 156049.16412922402, 176724.86147765434, 119791.50114947405, 133379.63171576394, 136220.37842778445, 128855.32348616308, 128855.32348616308, 139306.14086444263, 131853.96028835818, 66153.77822210439, 66153.77822210439, 69632.20706733843, 228972.24195375395, 126003.12300457663, 66153.77822210439, 174387.2693155881, 177427.0792176776, 158550.22925425015, 254998.72530229582, 135051.10660357465, 154639.53002709904, 268308.247564507, 284475.6450101256, 158074.29729180862, 292012.98406704137, 129120.58559412783, 92793.60786906777, 233442.40954977754, 79221.78057780334, 228474.95116027872, 194881.95908524806, 162443.86847451038, 176384.00853328584, 294186.5233150641, 127719.37780262699, 149508.86104338028, 125642.44487623428, 169793.0918295939, 181158.00788206354, 138993.9404390941, 125167.54128081565, 115884.47096938714, 89108.62070311102, 131053.39028945344, 82951.29194191538, 132269.8785623417, 121496.15339529136, 130732.81879357484, 123450.08696763504, 128009.39113735082, 75565.0155776368, 117052.13899029976, 81314.43936112606, 140960.50432524103, 140718.0737918994, 364271.5917019909, 198000.92934799602, 155958.704520268, 121285.73715452902, 277843.9071050301, 191470.13329700634, 138196.95266703295, 176085.49350078934, 263008.3414183989, 123547.85753147332, 384455.8058656352, 178869.10596495616, 155383.5947536322, 135378.17407296516, 253770.98065567756, 147268.94940742973, 242622.61016395534, 169441.86824676243, 189584.44857726467, 147738.83863266784, 199701.80857128339, 287839.4548363632, 243838.27151716166, 206505.7407407207, 116746.7241648065, 64852.105639159956, 127721.02978130578, 244014.07247938155, 144510.14199850615, 250646.1288848983, 139766.11900028092, 85902.5380268293, 158270.22185058295, 407636.85647607944, 135684.8069568389, 270264.45288832684, 205849.1748528071, 253618.66637412002, 173294.52056710332, 154165.24186312067, 134497.7128201395, 167968.3460770939, 150793.38879886272, 156879.81131229727, 118809.62367859921, 167967.34548942215, 161152.91397698058, 196074.67286377653, 182480.76641776835, 220618.34598085366, 167965.89859408364, 167967.24804096133, 205900.19622944482, 142805.65263035166, 142960.49034807563, 156523.68098309432, 161926.6174636568, 131784.37693689618, 234483.84428978487, 137115.68371628606, 119417.89982624566, 155618.95815294862, 219642.22070956638, 223340.4968034686, 428216.9173194648, 123718.86101842775, 189795.16899741915, 121115.80143985353, 154337.94763782978, 165005.7197633351, 130863.32137556258, 137193.08049015093, 103904.5621811385, 161699.64419437165, 1016417.5696160038, 158165.8478477655, 104463.36072149783, 77320.46492851003, 136584.1284400656, 112205.93441141053, 162509.03691440163, 148603.28505695454, 108769.02886259096, 108292.32137890122, 117832.1392943169, 127876.36953488973, 139007.45267394144, 142051.33317430536, 185202.00456685512, 201005.33113231364, 112723.21709363691, 186291.54078186536, 183261.60780953782, 142857.36633106976, 111156.34625764392, 161210.63985772565, 66352.74544093531, 148079.69624267798, 340133.78223050566, 133854.22562114045, 145011.21943452203, 117850.67992937707, 147512.37249180453, 122012.81218375321, 121759.66459389293, 124716.44074804315, 153499.72821606242, 249718.69568330594, 276672.110347923, 63962.682201546646, 1242294.0852593519, 106286.42658989524, 174924.70805444178, 94211.82339145629, 175587.10978741085, 342724.8795057668, 152152.77844303337, 205752.77850921662, 148253.99308759614, 99614.26521739292, 197425.8585055816, 475948.03918819263, 143200.64587438203, 151455.4722030777, 122739.9408055417, 112395.92495169872, 207243.45069271902, 120076.60016421179, 156771.03496620667, 91788.76501800284, 91788.76501800284, 91788.76501800284, 91788.76501800284, 91788.76501800284, 91788.76501800284, 91788.76501800284, 360467.20245928195, 94114.11768505671, 151639.42800451966, 82807.99329544186, 131887.96930229693, 69774.21223534238, 154047.46881397674, 177687.87136524165, 100634.34762542494, 166905.70261293784, 150951.79108443222, 85239.98292357537, 72382.77074564704, 120956.23885982546, 78697.42506025573, 91788.76501800284, 74213.18734111046, 179683.43078595027, 146442.64968476872, 74020.89267936314, 74132.56904178859, 302906.6977825112, 74922.71326538362, 282458.24249789095, 147969.75536536428, 173370.69800385606, 121963.12854224628, 119793.82161267781, 148244.39445279408, 112783.63871504087, 79853.08321434805, 629291.8466184526, 92466.18446842258, 199459.7909115245, 107888.60271919353, 129983.97015598664, 101547.38151694875, 219743.85336483148, 302462.9600444451, 134922.14373565806, 136286.72411901216, 161921.5683711483, 160472.620695259, 137805.9355834238, 160627.61936109595, 115616.9845589167, 150327.41020238117, 258508.8922918641, 215874.13721393998, 219051.6491481487, 166178.1201764353, 124732.69302331642, 155440.11008958958, 101641.61831760705, 267735.83013972436, 273319.1746185039, 380010.6016896632, 202871.6175759366, 153156.5767172679, 90538.61764120647, 162245.52331105052, 104916.84370752012, 180508.17822910074, 131887.96930229693, 122515.97979540966, 241059.62883780716, 195306.87289221046, 79532.00485678983, 133806.0651171283, 319386.4203099353, 164888.90109730963, 150303.244449963, 149245.61298189356, 135755.75367316525, 178745.2520120698, 143872.24119851567, 144890.62005911992, 112805.6651758845, 323752.6159959805, 130886.3919386301, 99115.5484911287, 111708.90972657476, 107188.23189053405, 165596.27470904044, 115244.18780576541, 167988.1012491558, 154583.69491108297, 67210.70988920287, 204661.87919693178, 136409.53793475273, 117942.1460714856, 155267.0659356127, 134753.93042235848, 171332.76400498272, 323301.6589190464, 146671.39974953674, 145245.43431325877, 170389.0166491449, 126150.54471308696, 117224.91511917279, 182603.17691841413, 177738.24305533664, 202732.6855919549, 153250.88657907708, 348400.48344133166, 98748.95558557761, 166078.7066786576, 412980.78183185443, 230567.2508225558, 110873.20377211, 244918.66001677542, 169917.16349571443, 184010.73360019503, 127317.67307903226, 197560.2316755754, 216184.25325961955, 148819.77825210444, 147998.73974292495, 146728.90163526763, 131736.2797992766, 100013.80353039555, 203905.30040072298, 96413.20906172648, 129477.4303105249, 237275.72864552683, 153845.76921826045, 261900.30696258222, 133344.67148269954, 130221.64487102906, 82506.35027140057, 82506.35027140057, 148830.66544531775, 105647.08134929059, 133946.13796908723, 151180.10343733252, 130221.64487102906, 187629.90588512615, 99907.07870126479, 360713.2802787345, 160069.914592379, 93927.32761942454, 178121.6806074818, 202838.99826879404, 63563.10854353606, 119574.79554779103, 133960.41169537866, 78247.95809167442, 78247.95809167442, 188346.57985223652, 155484.57518445552, 133960.41169537866, 78247.95809167442, 93206.31446495048, 93898.89956008327, 90287.23288328055, 78247.95809167442, 188346.57985223652, 155484.57518445552, 152035.24408385958, 144831.27540251546, 213424.25939683148, 208901.47338863608, 150447.824520344, 147462.53750085816, 175487.24024116312, 241405.1381373686, 143532.17440076152, 125420.36982550102, 151096.01164953873, 259504.993831385, 193763.998334274, 150513.57199261594, 247825.4744325888, 313761.83487934916, 80848.67864593877, 656007.3885625448, 362595.8232577078, 187662.1533830911, 90358.49495481809, 2710183.8248049933, 117498.07492701393, 485358.71800090466, 97150.35288629922, 296044.33509402524, 286089.6096572182, 179919.88834566082, 147877.29689486758, 259573.06849972793, 271402.8180010531, 184333.0907648643, 157845.69118456586, 170207.89850117714, 144271.21496708124, 223050.9821303872, 156422.25607982138, 129615.41524323533, 192638.62895680827, 215574.09716091963, 124735.63657433198, 252511.80056371732, 129076.94483273951, 161697.71755997345, 84970.84597802107, 205349.1876927711, 82153.81010157269, 121752.70889784135, 263929.4816784447, 158259.98667651459, 68282.52747515225, 104581.30080085782, 133712.0931479914, 82153.81010157269, 82153.81010157269, 82153.81010157269, 82153.81010157269, 82153.81010157269, 82153.81010157269, 61232.278723711315, 82153.81010157269, 82153.81010157269, 82153.81010157269, 61232.278723711315, 61232.278723711315, 82153.81010157269, 82153.81010157269, 59658.844951498235, 59658.844951498235, 82153.81010157269, 82153.81010157269, 82153.81010157269, 82153.81010157269, 61232.278723711315, 59658.844951498235, 82153.81010157269, 82153.81010157269, 82153.81010157269, 82153.81010157269, 61232.278723711315, 61232.278723711315, 82153.81010157269, 82153.81010157269, 82153.81010157269, 82153.81010157269, 61232.278723711315, 61232.278723711315, 82153.81010157269, 82153.81010157269, 82153.81010157269, 82153.81010157269, 59658.844951498235, 59658.844951498235, 82153.81010157269, 152368.06011532748, 123294.78304323026, 152116.29663785404, 117300.0882588106, 317751.2334531509, 131989.5511417352, 317647.0996646099, 156852.96182702377, 127362.57093907839, 179281.65379625178, 332158.3875041873, 152519.84993655153, 179787.19997482668, 209462.99741531722, 125275.97619508747, 114087.23636706051, 136140.91914287163, 342284.78310754546, 186079.05425732097, 296500.104536322, 240307.75586827163, 203279.43003730156, 229506.04475804325, 149949.67000666683, 528985.8363154583, 321672.2148722239, 218094.1120422858, 210757.496570791, 127424.62760185327, 320798.77078969846, 265277.66995251534, 120244.69091174273, 262559.9319345873, 162857.05022841896, 372216.55962584197, 125600.51203381628, 161976.64269824693, 186537.9453610049, 370477.0824768472, 279879.66389588016, 191644.4748997665, 94168.83057198927, 145888.23859679085, 87063.58009246766, 164493.4196049457, 93955.65204645279, 152841.586075865, 250419.1783282942, 74193.55664523001, 220034.18761018442, 211492.76695022426, 563091.2264397185, 362666.0510296439, 219286.80507182193, 142798.24131222864, 213538.10389820908, 213373.88936439162, 367568.29053031583, 138332.22446491744, 184758.84239226495, 362995.3561081529, 144733.5298116595, 315575.7040783438, 565484.514623211, 126858.56848994139, 162153.04916441868, 144646.17499498284, 130358.43736270923, 620025.1892353399, 384031.8632192527, 145799.399068316, 159791.46220137796, 277725.7207124515, 108275.70983066833, 146601.9285130351, 133227.84700807062, 166485.1456615223, 183536.78950568798, 150311.18908777737, 227477.02974750218, 124184.05604730936, 176985.73509204693, 133010.40570961422, 169745.98455415704, 312834.20046617294, 166711.4557302536, 118994.13381494276, 249561.7884545963, 148650.65807051607, 268312.3271968358, 149925.10935285187, 91608.59693982013, 165295.53934078215, 139869.57852922493, 134858.94731905675, 163551.1341546521, 268733.3182800413, 396393.42054578924, 154040.6167098098, 151064.1309161535, 182690.87507971434, 227259.21852014694, 151477.43936767458, 124795.56912239282, 179860.06983279137, 134602.4122057837, 100205.5951657432, 78967.1689230673, 265179.4819465899, 165826.70585325113, 173613.2780676747, 173296.4462268869, 163532.29519471113, 145728.7490302713, 249183.61868899304, 136518.92571068686, 129439.76492984805, 133712.13251395, 108151.74883491296, 99033.49195088778, 127397.3398353515, 152769.2176405537, 155201.52447809474, 144271.21496708124, 151779.30592399096, 144628.33535766663, 179106.64607272478, 81859.641114528, 129135.63123732692, 128324.6208917764, 87953.12888473096, 64703.532582437736, 64703.532582437736, 143301.51591015066, 154040.6167098098, 169097.77986615905, 203816.44356574945, 143766.01233811514, 123636.2624346301, 496298.56731135433, 118175.18385276488, 234733.0773067682, 127317.67307903226, 357717.69851117395, 165526.8343861205, 137867.49026357598, 139101.26960501092, 128333.06819393765, 140619.0139570136, 136584.1284400656, 187553.4692830071, 64828.165172128574, 147599.12710678883, 147598.93958956358, 92377.90532166335, 306281.49053351016, 148314.27892763945, 126251.30949464937, 148446.13359786494, 92962.28309445016, 177914.81297358286, 182032.60289685772, 164189.8607599128, 149247.24845623647, 114154.91568145952, 304631.5041735863, 153604.25618125638, 290100.8759421873, 292224.5219362228, 63876.23559695061, 237850.28091355282, 237850.28091355282, 143017.28368695217, 179782.39543562432, 150419.87220649145, 81932.86725668157, 172215.80293630535, 186979.243920332, 170255.71236334785, 95881.92914424841, 264701.60223038134, 125275.59512196072, 133697.61584728863, 530687.1672872195, 79624.36512904585, 249216.1152073953, 151586.21107395005, 162061.32148397638, 118586.48266305984, 154304.51740608405, 133086.7789956843, 154051.782311675, 173091.54500453355, 123810.2040560644, 205348.26754921666, 133935.64156901595, 155897.30428187692, 232539.43542727342, 141705.29907001567, 287138.0778772637, 148200.62205229758, 364274.09009692323, 162214.92033736958, 168989.7194103212, 374847.416849394, 589346.322857348, 218673.9308194634, 140484.50431523696, 134723.60888560105, 162719.87911616606, 153958.9761384046, 166382.712627138, 66352.74544093531, 135346.58543112676, 151577.8746737189, 152832.43061769108, 121361.95150995928, 183427.36651198362, 186490.6906766707, 86101.3723940316, 176158.58808509196, 137705.2018546272, 173512.65409581567, 122971.52241082057, 145277.68681989273, 318307.72216546355, 179314.22628212962, 211821.33579571085, 74015.22075617702, 74015.22075617702, 74015.22075617702, 120367.12768915614, 82939.29656116411, 82588.7475189888, 137192.92893156287, 152624.7264696434, 337871.3084951661, 203007.8305735245, 523338.608165175, 130187.97179764387, 124470.39155063617, 122859.68609041334, 114438.30673669344, 176012.61243324625, 174511.85674821152, 136184.31070376516, 103612.7102174077, 132856.07157384144, 91171.20892023254, 175236.47483390832, 195054.26363849844, 181224.2041086658, 114646.0409614795, 109540.53157649012, 161206.09920160053, 219947.2290506654, 158074.29729180862, 122711.52885484802, 163866.8649762144, 246677.7636385233, 94372.00040377247, 133988.00502344285, 207209.96934577142, 158720.9907362721, 169382.2010656559, 125985.59005027048, 129953.80885860087, 165253.24181067984, 158250.3085311062, 168815.92357691264, 127438.09752475026, 127438.09752475026, 190909.95266729986, 175353.4780043691, 101524.06748356899, 84452.42884933668, 84452.42884933668, 88146.55944590535, 84452.42884933668, 224607.07385296136, 71075.13992970099, 119427.17033847056, 139026.89878080122, 180072.990960402, 199152.6668783833, 69612.78491235213, 68456.57015432006, 68456.57015432006, 179560.949935578, 90105.8612759717, 117052.23702461926, 152610.31354033443, 150884.2614016384, 120480.52525414247, 125620.67985588184, 238339.0082946003, 209603.7384371475, 153398.2940674308, 125653.90965074132, 128213.99698955813, 172843.16323967525, 279387.708182581, 91864.16830146719, 80444.87956968739, 97959.8591046398, 137155.06384531126, 149968.2012712397, 122724.07132923185, 174301.682009816, 158832.18008209267, 152538.17259269897, 78793.15331704744, 344491.5398238239, 91457.40952186109, 135218.042980667, 253633.63178179055, 220392.0255441042, 118987.11706660921, 69848.1708026929, 125868.74350756426, 104916.84370752012, 177162.1560073417, 124184.04847887336, 90471.10104691425, 177161.4502849524, 137639.31734112278, 140723.2563982469, 91087.06773947325, 105660.10854729128, 157752.95155595368, 118271.80663461782, 153887.21044726227, 155761.787116901, 155761.787116901, 73118.48901395749, 175457.0465243967, 130797.73492015716, 115442.42927676886, 141138.1648235266, 109502.79498612044, 100280.2923311129, 185373.55666569417, 131276.69000874483, 103851.71099059668, 131803.30921108118, 131587.86106812558, 184299.3544083058, 117891.3121357148, 142820.56589642048, 77387.62514331353, 97034.00948525182, 390314.60233891447, 270427.36332185136, 97909.18081488705, 100361.47624563231, 99332.8219905805, 118987.11706660921, 138267.95713939832, 79988.3381250132, 158996.80890060635, 187971.44606244258, 89781.72180000177, 212123.59565699147, 94776.19528065735, 403155.1548242536, 181749.6068992647, 405346.56595015584, 79078.87430630367, 155904.98136829803, 188269.20610472985, 305709.24552917195, 163124.1976495096, 122248.75113291405, 202824.69280224896, 164687.59090735714, 128896.26447594375, 140877.27500423716, 95788.75343479849, 132396.25902400768, 133798.14962495025, 103146.74306298398, 210400.07604714087, 133483.48771584526, 146153.0329438847, 161369.08340086378, 163050.96000536165, 219962.0205721953, 119088.26422486537, 95246.13300247662, 79415.37882104487, 85220.15033828693, 82871.7942482105, 95870.88108022691, 91142.57858718658, 281781.817519067, 65127.086923035145, 176287.16455882098, 121153.22407241778, 213548.88543331256, 192268.09761040736, 232062.77671217904, 130371.1668690932, 108373.58318519374, 131322.47560513235, 171229.16575513975, 119744.14059031125, 213243.2401198461, 67684.44197276032, 136158.50535029272, 141176.3624139424, 123825.82287698126, 151639.42800451966, 227553.3338456044, 139077.7955991374, 104476.6362779822, 186119.51760208062, 183638.18890937493, 132644.99813955976, 143216.27089767175, 157255.57086459777, 84488.20035461373, 173487.1273813374, 128397.10519440952, 119370.57261976185, 180484.12405618513, 209608.00832247216, 160207.01971036536, 253055.83572158765, 167506.86025089867, 148311.74405038095, 155388.64534485678, 168766.0326914034, 164376.3099362821, 160924.6883935402, 160301.69574296015, 140171.50476799931, 159629.0440946304, 89073.95828843686, 74795.21936952326, 158801.49297865373, 133614.83633381772, 92995.26421702212, 165735.04834329663, 132777.08436776503, 85469.6363809441, 148118.95809862763, 154134.54787198963, 143176.87847184108, 190606.06032604183, 152386.50802927636, 152966.64198012603, 205701.24320221806, 175341.15920773716, 188107.6739533426, 104855.46018508475, 183303.1170728511, 386326.5471282551, 166724.98135738878, 253431.17621560785, 81888.57340740068, 514610.16796530964, 79751.55663001633, 93384.62519452431, 137827.58864248975, 195291.3091143177, 86515.4699756143, 142950.03511051304, 151207.9388806516, 149118.54922477505, 103689.49677194131, 183426.7749517528, 167247.30369510542, 276801.55598335766, 144694.52489213488, 150941.0141899361, 176838.9887528171, 79314.58648343815, 181250.51024005338, 374052.8242517153, 491359.5718778315, 94330.33268418709, 212317.45595372934, 157302.36051003335, 75569.2336650076, 84026.53772664408, 90380.4458872581, 83743.51298318477, 242021.29591221386, 104460.83339853998, 127721.10583081262, 131331.69891670984, 95986.46851037232, 124111.52708624065, 287955.7172241429, 126813.18654605301, 186958.53977722547, 139614.657605646, 141548.15960002356, 78337.52861886272, 82740.9560710339, 129041.09886043507, 161273.96474989134, 304709.94514386915, 68513.01114624427, 418145.4444812481, 261441.34331118647, 248361.43721861343, 137025.53337158024, 293375.2650594971, 141212.42680384003, 173563.32677244203, 180351.5513200463, 212994.98016871294, 282945.8553200631, 184998.18466240622, 170597.0578680833, 160787.49313566624, 147329.5612898432, 159805.96309400047, 148118.860835256, 104840.80108482068, 138696.66993189222, 408494.4562413809, 61200.3468097202, 152696.6378037329, 71431.70604051523, 65229.811912904355, 77255.0721504292, 63356.41543847535, 142306.93417266235, 264041.0976253816, 225517.92072949803, 61579.66131518463, 165969.1633598585, 135383.28776610107, 242514.37124146605, 118386.84426607688, 155785.3644424643, 144215.581826447, 213281.92141454018, 120886.96820209533, 84505.52968814717, 102361.65654332595, 234260.6076028903, 204439.79141995395, 241232.99966797326, 119580.79106942225, 111831.57073205862, 190189.26282049433, 136883.65298150614, 165743.45552825648, 169151.0740720156, 215443.00003201715, 408560.45496335963, 171667.46561777196, 276036.4098937261, 224219.31045403995, 258613.00203826753, 271130.72375639086, 391107.25266354583, 171221.66802960602, 126190.69838304087, 139427.36177586328, 241084.61472259482, 142940.3259437082, 162398.57670648917, 161142.20015725715, 144527.15725672347, 115660.20894178089, 187936.0349445094, 125868.74350756426, 164284.5063336506, 81697.6457485905, 101402.30954265974, 177857.45210381915, 132995.59709954332, 144567.4531048993, 70761.6631949112, 443905.49664291454, 194209.09445305137, 177614.95733115976, 114973.43149135483, 173175.35684602216, 156001.76854215402, 94999.66262178753, 159634.9450112321, 110222.31200500732, 175480.62214920376, 84905.49882818665, 160060.77894558874, 157734.4894902281, 164773.46772912054, 93328.43524583124, 136603.38519698053, 482465.66680040164, 443674.75122727576, 198395.90037426286, 162573.79423501657, 155979.7147810457, 174203.54819594696, 97998.6225106434, 169421.86797079857, 155321.64481886144, 129016.71249277618, 180351.5513200463, 140290.1327527432, 63592.07328328554, 80052.49841493423, 190904.55786186253, 814725.6725745955, 108821.11997004352, 161259.45119846438, 201733.79634622863, 79457.88371740577, 174780.1523490236, 157077.59535668945, 174780.1523490236, 149726.1555447973, 104382.86165761026, 93929.14091090253, 119097.78295575838, 102204.9903350988, 129130.74345696239, 255489.64815382494, 134003.99475963612, 127076.15566257895, 152396.5525533181, 156496.96057950624, 142471.00255151902, 163617.86608772964, 330240.34968974965, 228412.99308424332, 265213.5652827611, 164348.55274795112, 458971.4331399646, 537097.2734577626, 433249.642478212, 143503.87758854046, 128249.08109830097, 259034.72542251562, 128067.94593883575, 208725.9112354482, 120792.60373251163, 144787.52085238122, 139275.01785368327, 66147.44762750954, 291278.72460904776, 303724.3079827225, 441537.466534457, 194485.97026917103, 153249.76511865848, 218275.51662065746, 192501.6097684556, 151695.41526069684, 96850.43756045845, 121766.0444552059, 119523.21570919472, 97510.9778836316, 150169.19215600195, 743688.2418930407, 293551.9080425111, 168991.97079745436, 161529.55548387364, 194009.73352638748, 196124.22020691927, 220146.36744061531, 180168.42054262524, 137761.00846310786, 169180.62513612254, 249172.9936026141, 95486.57645401513, 63434.68809873699, 151635.59228938734, 192719.64964336227, 112070.1383912858, 250746.17294534924, 155489.3401704972, 180799.19619031798, 156676.96677084197, 394762.5031613671, 97182.33812618654, 338334.04618184303, 252973.2530133029, 243715.76809155155, 544908.395291994, 548227.7609619609, 245664.41248589588, 118153.89697211796, 242725.668207007, 208056.03916769373, 66886.01153267549, 225763.19961838378, 157584.27451725322, 169296.0000638656, 175838.74079799498, 109182.64864863735, 153911.02161876883, 173304.69513971414, 141580.78636456613, 197031.8810064784, 134605.5366684665, 294397.5825181582, 240060.48009431612, 155799.81985312313, 157471.18345665484, 228861.60282869844, 105334.06903676626, 123485.6260337004, 155692.97822103262, 136131.21911614545, 120053.70858424978, 953667.8552784054, 173630.98024080606, 169939.67485595305, 154979.3383471183, 152490.13125437807, 382474.2310138422, 189451.37795724682, 192215.4539676687, 377628.4344790572, 69848.1708026929, 159637.2991558069, 166706.2193772697, 295766.54144508095, 99793.20876851417, 132242.40621177337, 64028.92338842701, 159997.69610668786, 130123.45567444479, 174330.79683801963, 448096.20176365203, 351017.6130208831, 544619.3080248022, 139081.55612975775, 565484.514623211, 231693.6860545364, 137172.19875115575, 206770.60008175042, 241103.0894082689, 233624.77886970216, 136441.08921303062, 144762.93257394474, 175146.2088208935, 99170.09915647165, 305864.1006036916, 228018.0411596227, 142373.86640280578, 99879.28799640715, 176166.29552249153, 295750.53004801646, 150745.596884334, 160877.47764805442, 387205.89331180806, 161910.75485937914, 207155.18723612814, 155341.7823610364, 267903.81172379677, 160781.7031290039, 302154.7320790469, 153735.98629315422, 147562.4383960367, 389352.8262261165, 134756.78656047594, 181282.5854305682, 238789.8388482784, 196721.62306901332, 183094.3579361016, 156096.0142642643, 280625.84445295535, 163926.15826896759, 141271.61771477884, 113318.41241080404, 372866.47255971795, 196005.7063447493, 329519.1777118319, 143328.0458647734, 378593.60073937895, 196208.78837392875, 307214.50287622324, 136713.88057012318, 100955.48682407779, 337846.1725633392, 363890.016351437, 150494.7852348776, 242226.76873090444, 122679.80151321417, 222992.77247409747, 145142.54603296745, 124698.530192258, 149376.73627831758, 229907.10617032458, 128967.98254746658, 174217.22838536673, 152561.30899247507, 132689.64540611327, 424789.9952492684, 157116.01785752046, 169083.08949521655, 107602.27542650078, 129920.68766000873, 261776.0961872376, 276797.6644439392, 119533.0105046684, 215285.2030923063, 448126.79861578863, 295259.03721335775, 174179.60436797, 124733.38184843461, 83817.28553058095, 147409.68707749574, 188968.97746641302, 216941.15992984347, 178321.36447614204, 132453.68698354875, 124032.88498646098, 124747.3465545648, 64162.691775195744, 125864.791094494, 283666.28047620313, 88310.2546012389, 200493.49544864905, 145935.96655329212, 115129.1961798335, 200986.91247451372, 307386.6396147009, 290518.8006588825, 321780.99345192185, 177576.00675736618, 267628.692639654, 274756.42139609647, 216058.6342782326, 216271.9002553882, 169404.66665521602, 173811.12065501855, 154919.3078357434, 219531.53236848436, 210238.47321019365, 177692.87414144218, 229700.44899792044, 189013.8006420169, 206530.26286839962, 295854.24249657925, 106903.22781412576, 66677.84048520261, 96756.60988848552, 199751.04839718534, 133938.31381056117, 173555.68160358898, 175797.05224682816, 93158.20994361531, 165718.4529353688, 171214.811111483, 159964.07627435538, 216050.60178250968, 210992.47787838563, 183183.86070930253, 161056.23832255122, 146100.54568348016, 94781.65257618985, 435090.0418630361, 420443.43595533364, 288086.76937230764, 143122.34279467596, 188904.38063618337, 1011290.0173821517, 471367.393213226, 97528.23967581248, 177003.55966239967, 106201.34919556208, 163404.87387226245, 136046.46028227964, 208082.54072497267, 83886.01646467333, 159327.9341084382, 170827.41929433856, 424642.8749270892, 228654.71985056554, 145949.0477859081, 457837.9334857462, 152195.23438901393, 116089.61581652638, 107723.44327880722, 138734.2887071796, 117603.42969027991, 197272.4881498579, 181082.79105083682, 130700.90587439605, 253790.7837648801, 126975.44420520586, 172788.461283795, 238138.918600366, 267584.7307097465, 171266.58868684887, 452188.17792595, 101630.19818585528, 141375.07156014338, 244982.91000797416, 99853.68016384022, 152230.76939255896, 103652.01740425645, 238095.809714746, 111791.13060646213, 212663.73558187432, 247285.29020244835, 87371.70450728603, 146183.37463421046, 254969.50888357588, 174293.96767141714, 112391.18668333738, 296130.4445694594, 206159.17388826056, 731815.0794845885, 121567.39850358866, 147134.39451986068, 361084.73083065613, 498060.29687582393, 199752.44208892473, 108817.10922975073, 77452.1391886684, 196096.94439453198, 77050.30536732187, 77050.30536732187, 170839.08370155242, 164703.5005321932, 124332.26404555039, 63573.07598247587, 330266.11557546514, 144579.40804985134, 419808.7329411449, 180465.81794276647, 262155.7196852791, 185280.03400745348, 169934.7684565992, 136152.99868208944, 625681.5204923444, 155716.61314597173, 3003844.7417120934, 291642.9430123621, 380851.0181799584, 216095.80449365758, 129833.15818530487, 412894.26444943855, 150265.69758877935, 359166.6566461814, 133756.4600858276, 1023338.5951391617, 269772.42170432984, 150260.4112156799, 270935.2576741564, 111781.77472745252, 120833.5226627788, 173939.2270549986, 217841.86591256398, 157885.1992056776, 239482.02818737034, 640506.2429632038, 124207.23909879308, 157808.974110798, 188079.9913616392, 169807.43936199395, 363211.0494901764, 356984.23661797715, 445778.51243588666, 220430.12040203082, 150361.42640334633, 77463.59172246105, 352175.99850587785, 319178.46982465876, 94890.87901303844, 240961.6016212469, 176859.3018841783, 201930.3706652947, 170707.888299664, 169833.23758262832, 173942.77592340801, 168658.48133688027, 107205.10696330505, 174163.70431550252, 162233.2983128372, 157889.91278761905, 98908.2856041964, 167676.59302911698, 157002.58659312077, 194218.31132869155, 154692.73825281064, 175058.22067272535, 165591.2906803578, 166421.2738596012, 174135.36311655177, 172268.38658061804, 165591.2906803578, 175831.10579986338, 157767.10810629642, 129004.33548820757, 175471.37748727205, 83232.5173748631, 160758.4851201556, 154838.33485225835, 60476.521758673036, 160209.90319732318, 168770.45970828447, 88693.17904674834, 169049.36796267956, 61684.13224116994, 161627.7490573108, 334741.59587425576, 165591.2906803578, 172293.71247903912, 159795.83752774968, 160451.37718518937, 164502.08745402025, 82516.3469745333, 165742.88032266783, 129908.47914579693, 94073.59631838402, 87694.21302221148, 170309.6269622535, 140228.42123500697, 248628.4385741137, 85085.67089127963, 108764.29142048016, 169868.42898649228, 275040.2914744959, 157665.6508955484, 254497.3760423241, 223971.47346418994, 294761.88258659665, 126879.5314918061, 98271.23072525093, 227181.2151460478, 366225.7913287812, 143326.33186083936, 119300.58161954801, 154424.48139217397, 104661.11143319057, 147784.25113751416, 142781.4672962794, 227685.54977307934, 141800.46495704268, 568191.1371111941, 192853.98362201228, 216480.71433471932, 124492.33906339128, 100055.96931468557, 204131.8682970141, 191583.25899555924, 255486.1265796557, 237278.07743833712, 93824.10554627856, 173908.545568202, 269188.0946144337, 699602.1164601867, 83474.81878357215, 229107.4254642219, 137626.01271694675, 141591.36176685808, 715651.7306283155, 122585.80233025727, 228289.90429218396, 195513.49847546572, 148971.47401468368, 242818.86500285755, 138104.2155137975, 280946.1278548155, 249980.22765993755, 267009.8760136359, 157885.1992056776, 213207.07733922973, 138326.70400250258, 104906.51477341549, 270061.73512951814, 143574.06391311635, 120615.2630560869, 114598.76888029835, 112076.36532800773, 911136.641000458, 487144.71046745253, 229148.7080053845, 99468.88698653696, 112287.57984371732, 128536.11750643421, 71747.45668816859, 226398.27189032294, 148344.77176908456, 78732.97647583015, 136662.97577195909, 731889.8741485227, 212079.90442473738, 197248.67835230107, 869099.7590348411, 136662.97577195909, 1320207.6969504212, 189289.2704008685, 194413.97979241674, 230788.37303104706, 129671.65062336103, 173976.6241008104, 219075.07028909543, 227272.75912749342, 193986.1096286067, 86694.45096411463, 255342.83281767723, 481871.983673134, 227208.55832160806, 428366.0123132138, 1170357.5204861092, 384937.05325801077, 377446.8539112135, 198884.74100481512, 162129.36348903336, 197868.31081598406, 246070.6233352518, 240279.37988249626, 765585.8142337512, 134031.0540487932, 766720.7387133958, 180829.0848177965, 208912.80888075475, 327995.2679137501, 409921.9815959525, 246615.76156829114, 109303.26367028967, 127799.8274268915, 236504.46166475708, 161396.75184050514, 155393.79941987272, 175214.63644939772, 149116.06522238647, 169544.82064625286, 216493.23241100163, 163949.29765365532, 114336.05388495611, 109973.15530708671, 359525.890065411, 293842.87296979356, 726642.6194602821, 309082.5959631671, 179601.79595356912, 171220.0429616779, 116756.29145197956, 164686.32907148983, 116056.31813321325, 125133.45024570881, 90764.59666389716, 264788.02113380365, 141443.53663621534, 90975.9808830129, 106542.43939711366, 114449.31919956944, 180615.8572469877, 215100.264949299, 182969.40967593968, 150954.79757498883, 133725.9292702594, 648743.7424831379, 631800.6778349526, 266144.6088754385, 139715.0631326663, 200292.99108822612, 244067.75065456488, 651711.111500905, 136698.56953752597, 231887.50372200806, 186079.75141254853, 112533.05113354167, 277111.54667205905, 193565.5835782798, 129595.19828619466, 144091.96204063273, 170241.53391484884, 132565.287841709, 187666.05667698363, 201871.52865516866, 262222.848311857, 126652.51845499725, 289488.9434409384, 139269.08492660645, 335766.517100816, 288898.9720855166, 448527.8425778887, 183546.6143299504, 231931.82017536723, 294479.14299470925, 221411.63233087803, 256502.50854615448, 80876.56845899197, 325417.3738808497, 148408.82264553529, 471616.53618752974, 111426.73114634425, 124871.09297800197, 118552.42532882071, 1195180.664901113, 98332.83414689048, 261995.35556244387, 282465.40726207517, 1021822.5758692482, 164705.39652692876, 103216.24555295239, 233812.0314602704, 178867.36484240863, 132717.77268714822, 174533.272887972, 117920.13932190055, 262302.39709439076, 153235.31670147425, 1327517.0181951514, 290377.78523872717, 155451.6289841148, 151947.7026163943, 152501.20746273556, 184964.50106138142, 228693.92246013533, 1339051.001633542, 440914.4874092816, 112308.96120448086, 147425.69647939678, 403894.22158019326, 328767.41201416106, 321047.8260545738, 225461.3029210291, 152237.77310187332, 291268.6754574836, 291268.6754574836, 751383.3387371809, 153729.17693575172, 362665.053025392, 1019805.8960808855, 311351.1157178031, 276237.90328388807, 276237.90328388807, 130595.33670429094, 640598.2139542493, 541179.7539352528, 440055.11923793855, 168614.24096163685, 148934.61848185313, 763810.8796560116, 588121.289951234, 184656.7742099229, 184376.5798105328, 151610.99949197297, 295743.0759853419, 213986.19307647913, 188478.56522911036, 212125.30603826395, 135784.30570579774, 136527.3723309117, 603525.2988272373, 603525.2988272373, 603523.7076255638, 113938.90381016521, 195288.12307938837, 218538.01391510788, 205024.6426765832, 143144.17963245464, 164596.49280519117, 135020.33765268594, 79231.09161091832, 169497.06934617725, 105955.75930334293, 377729.7997794154, 721233.7732935537, 100156.39094905304, 158641.37815372003, 234415.46445817946, 128802.16925494102, 106219.58028042555, 113740.16424161257, 194773.66007468104, 2614976.5373866814, 842126.223335401, 414229.5644338732, 144696.75126802188, 109952.48701827864, 106147.51101229929, 93809.51549613055, 273536.6803908256, 140921.8313826057, 623566.9346313619, 560279.0125878232, 199512.5995665095, 121338.76745498249, 111756.40614529946, 95755.93902383155, 197353.51594766806, 301241.75574999995, 1573974.568737187, 120202.68601545235, 151634.76271604517, 256407.96873010846, 212657.57730685076, 234905.50783121237, 221353.02139669732, 205875.65785430672, 183456.3056941814, 173328.18078022692, 188519.91385524574, 193159.78720480064, 105030.98915612068, 123806.9954987819, 141756.14743595655, 228175.72438349333, 213418.98164363354, 322677.8996097981, 89736.74050794869, 91987.85718495466, 1493812.4663628242, 216689.12118237052, 168208.43854820266, 91910.83400849921, 193498.76649844577, 257822.72644358827, 268479.1466123356, 268365.9434291212, 210581.28883291077, 193626.6158210068, 1170749.3598796274, 250594.6949301537, 186903.51951323112, 140041.212616347, 102879.76301915114, 172495.27671264342, 143616.71025372826, 109816.4244439121, 216758.62371797257, 2601840.47676024, 213523.3450996513, 166341.61284628144, 123330.10021458038, 285377.5043932712, 252752.14789266573, 227076.39554523272, 140699.20317172303, 154663.7111254873, 154663.7111254873, 136950.59879893129, 154663.7111254873, 164991.93830699913, 164991.93830699913, 88130.6755961963, 171579.76671279717, 164991.93830699913, 129369.68370341201, 135523.3358142843, 270889.67394790525, 79834.01709958624, 167154.96711398984, 79834.01709958624, 79834.01709958624, 79834.01709958624, 79834.01709958624, 448115.97750276845, 442818.11895537283, 104650.16725461498, 1323998.7205927635, 375509.87219698046, 109956.95881270766, 213387.68824126615, 192524.3753302555, 416479.91252568446, 213426.29249416618, 136698.91392641785, 207774.43489073918, 398650.5078242644, 534295.909971495, 372590.11931809137, 102212.53413550521, 309505.18695864565, 573696.7358770599, 162141.28626747767, 166300.5367539862, 78066.66029012192, 218807.91800464346, 290415.51904508227, 170045.44851743407, 225348.99054519663, 112260.58528834017, 96965.65720131219, 410252.1870937419, 289505.3502004135, 171230.40859507924, 510158.7728333881, 230020.7745410741, 239001.89330835058, 285900.62525484816, 223008.88113636206, 104212.56105644238, 113721.23154360882, 113721.23154360882, 385823.70769833867, 2220335.994437253, 114698.40895269558, 89994.7953875167, 100743.47940464999, 114698.40895269558, 166539.3514445373, 100407.35357886077, 135143.49771477314, 133951.30311983422, 128070.11603663744, 145440.1555419962, 151088.7459592874, 60654.33046767592, 109290.90896704134, 167022.47736402808, 131402.08883212678, 154004.1001701869, 215312.43512651112, 310480.36295436055, 311652.2161185865, 233589.30376980873, 387345.28435153334, 132863.5206003435, 190852.78935891125, 191854.5292266313, 372429.3038531261, 372429.3038531261, 177286.9958433416, 123965.34424683315, 158188.33539533784, 93496.5731698741, 142135.0875275482, 267676.53921961336, 201117.8308466118, 137030.9092050195, 69438.75290317525, 286400.0135155789, 102640.91563856229, 110878.38620540312, 110799.58458914439, 131478.66655448457, 182736.13178850603, 171641.37936639023, 141756.14742321876, 297430.73663314036, 150455.97681890638, 98190.34304863554, 218860.1656982261, 217398.45685432287, 105302.35866827198, 105030.28373716775, 93453.92246160503, 140183.53624091644, 224340.8769179728, 308494.9234447309, 235361.51633648717, 618076.0934850425, 377152.8070304027, 118382.93423480814, 136164.57446915293, 115805.67109454086, 163865.96375042127, 178416.70153500015, 232507.4977248502, 230075.41923531203, 193339.12691907326, 255993.7206152566, 134009.3438390254, 202899.97539922438, 227987.18316832988, 151503.65814433963, 234960.90533029163, 199278.07122720292, 131296.63895160725, 521042.80163322337, 224970.37920601657, 267937.97857590206, 188916.07012466947, 191875.80833911008, 129149.3092174719, 147266.38435719372, 174077.3255008904, 177834.0878152905, 357804.647268778, 71406.97342130174, 141719.21583408877, 217023.01215841097, 733708.105576852, 171332.1693728886, 115377.30786058343, 272379.8434554608, 150092.36374613343, 471705.00593949686, 136278.7211735936, 136278.7211735936, 154649.44369578938, 218454.50355742592, 152287.94138899277, 404006.208974177, 148510.6634784533, 113063.01797549757, 125607.44829334792, 470136.9973207243, 107581.03429129985, 158455.68294356766, 106495.9968295574, 366826.04100129654, 366826.04100129654, 293234.24562069814, 282688.9030228395, 198489.42795752754, 275900.1292858283, 177058.36486985692, 192055.27567168858, 165622.38600772075, 230699.8451162734, 183246.41150733293, 180642.16425348053, 200115.5136240239, 216599.70643617644, 264342.9792483048, 144231.36996038066, 137170.2679948755, 145424.34008627405, 348703.82448905596, 273040.5377139705, 317147.612685237, 212026.899930672, 135878.95292669805, 417444.4362452449, 208976.5173745098, 436187.6938278256, 117893.55334993624, 231680.2110991588, 472332.9443887337, 539843.8865316671, 389628.2680645731, 101801.06616047284, 108611.9467306054, 110560.25034609134, 111402.90506047758, 113102.40277957646, 113102.40277957646, 113102.40277957646, 113102.40277957646, 111402.90506047758, 110874.81208771204, 110874.81208771204, 111402.90506047758, 113102.40277957646, 113102.40277957646, 113102.40277957646, 113102.40277957646, 111402.90506047758, 136925.51612509455, 110874.81208771204, 110874.81208771204, 110874.81208771204, 111402.90506047758, 113102.40277957646, 113102.40277957646, 111402.90506047758, 110874.81208771204, 110874.81208771204, 111402.90506047758, 113102.40277957646, 111402.90506047758, 110874.81208771204, 110874.81208771204, 110874.81208771204, 111402.90506047758, 113102.40277957646, 113102.40277957646, 113102.40277957646, 111402.90506047758, 110874.81208771204, 113102.40277957646, 113102.40277957646, 113102.40277957646, 113102.40277957646, 111402.90506047758, 110874.81208771204, 110874.81208771204, 110874.81208771204, 113102.40277957646, 113102.40277957646, 113102.40277957646, 155596.7760369095, 110874.81208771204, 193381.80517762338, 179553.38153923498, 136730.67515895556, 132877.6808714051, 177734.58014073092, 148736.3519374753, 151576.50455559295, 133557.98450487846, 121027.01748641078, 201115.56023620677, 105748.12612155204, 111603.14743987584, 194315.03823118718, 132007.05322621053, 152772.0411099008, 341787.7033784281, 81243.75184144359, 206219.19365870467, 658912.4687660295, 200116.91537617974, 202756.46142192767, 175410.54083155305, 317704.97246944567, 75104.53836571058, 131206.09609813488, 142610.35270054394, 405960.30555122084, 339465.0327507166, 161130.03172463644, 198025.7258732332, 280976.61524377594, 169160.27477620816, 291589.2962061879, 254016.23980109795, 341017.8289801546, 190497.19669671007, 217324.66882787898, 126737.33735656885, 426513.7198737923, 466274.92592207185, 310276.0221781144, 219445.98157840496, 310745.35187589604, 151069.4492587177, 198217.8037348888, 104951.29790140837, 141825.53761853263, 139870.0728309843, 355728.14783613157, 156905.01506436063, 102106.90886747571, 178447.71088624038, 178427.92543753682, 208379.12302539073, 173648.60662126425, 363933.46232985944, 173648.60662126425, 396428.4930765252, 273017.4139423523, 330159.34765364265, 153226.9620279062, 404604.25871993887, 181650.0067256345, 145156.64774316936, 425929.9352695489, 333008.9392534198, 269299.2382417562, 246534.2840408819, 192055.27567168858, 192055.27567168858, 192055.27567168858, 121115.18702064265, 282285.9732160122, 188359.73948991956, 508817.1850864389, 135116.8701970338, 171132.3646112967, 198713.23974639535, 134129.51565331515, 196518.6726749628, 181024.30336414705, 339230.23336819303, 156282.64302240912, 436888.48006001225, 157862.92812807122, 545996.3970151942, 261026.3828662423, 139505.10648618505, 193226.18793394545, 156998.61007389403, 96673.88669288054, 133827.40343814334, 258626.3217806839, 93145.78366226165, 301181.9297870517, 106628.5777182698, 133960.69805241798, 228053.17237461812, 137356.18758878077, 80662.21994046624, 190871.1694675091, 167621.1453767151, 366687.9410052914, 176710.2091986001, 112686.45837345699, 275648.5503985645, 239978.99156487623, 2170200.7743087057, 104247.13014271992, 358048.2495778824, 476583.5532924605, 146686.28469102064, 192298.28749856865, 264486.72673421627, 488756.4293637671, 177060.45979863615, 121115.18702064265, 321502.6774161127, 148711.20562573118, 95111.53047631108, 148711.20562573118, 148711.20562573118, 141462.0358148555, 130617.51592023208, 130849.09015022841, 149678.61314302552, 131251.69710214427, 221323.89026778034, 111161.21358189413, 149260.03181867613, 149260.03181867613, 439313.4639088686, 153779.50391287942, 157254.3943128799, 140091.3998926836, 115301.15632563754, 238496.1885344032, 144094.42701659488, 144094.42701659488, 131112.62905057863, 152937.15721615724, 131112.62905057863, 260588.1314654579, 170092.5067053982, 154570.443719568, 303392.17382765556, 154570.443719568, 154570.443719568, 154570.443719568, 109595.38729212234, 136131.8580981036, 144504.69890715272, 233587.1831294276, 289092.13468230737, 133610.24730523909, 130107.08357086607, 137065.22009262917, 130107.08357086607, 137065.22009262917, 130107.08357086607, 137065.22009262917, 130107.08357086607, 137065.22009262917, 137065.22009262917, 130107.08357086607, 137065.22009262917, 190829.07594191234, 92345.94813543637, 303392.17382765556, 260054.47113633185, 342669.16639033036, 260054.47113633185, 256044.5370303079, 85447.90913267867, 305032.47787459503, 132944.8423623688, 448415.89511254977, 227604.72641974757, 123516.81226515275, 145443.20441988012, 205201.44490417046, 138616.3060150747, 220389.66513335388, 121115.18702064265, 121115.18702064265, 121115.18702064265, 121115.18702064265, 121115.18702064265, 121115.18702064265, 121115.18702064265, 142825.30042909377, 93212.21817633686, 202783.91504424272, 535945.2843316454, 104139.3095252272, 215105.18561666537, 85348.6469597049, 130277.30755104894, 133092.0476911495, 86084.3202212807, 298487.0843334359, 257138.39576437318, 158429.83959148196, 193832.1116958243, 141479.11803650155, 547695.8214433228, 102810.27789984824, 177679.2139292579, 141915.45272638157, 293532.81476366415, 109266.90149602121, 206196.10269358795, 184579.2463216583, 109566.25429832407, 159305.67328061003, 175813.7056753196, 111645.17850645371, 158748.23726723128, 176254.5816421662, 89183.8291097814, 151088.7459592874, 156016.28539765094, 174090.89105271522, 116970.90886145162, 116970.90886145162, 217604.9709055833, 134957.55033539323, 217802.18771397276, 203440.42063415187, 282014.5070833485, 84432.45561279009, 163862.53480530725, 200645.58230200413, 98721.45377278855, 175465.76198144033, 79928.10845306776, 79928.10845306776, 79127.43431158751, 153405.5264282169, 141389.56517543248, 79928.10845306776, 290910.03178360756, 79928.10845306776, 78475.97496764729, 78475.97496764729, 153319.67958217164, 72744.00670926235, 97539.33549484605, 261495.1562480309, 72744.00670926235, 145534.26494365808, 130511.98962947265, 176687.5331257594, 97539.33549484605, 80195.5312293509, 198392.537887435, 180767.34222409673, 244851.7242326784, 605136.6127815422, 237631.9266623938, 605136.6127815422, 605136.6127815422, 82757.7099135956, 82757.7099135956, 156960.20605284258, 338848.13564105885, 101511.16895899695, 125614.93837549497, 152252.04191402317, 161743.58206633502, 161743.58206633502, 181107.10966163024, 115111.06240456608, 221850.4717607198, 134003.59423379294, 208681.7014514373, 139220.6416302826, 394255.15097204584, 98948.21929297486, 221852.21347039746, 196167.4795805734, 196167.4795805734, 151053.49972021455, 153108.97662330445, 153319.67958217164, 151053.49972021455, 126828.94979461194, 153108.97662330445, 151053.49972021455, 126828.94979461194, 119881.67026553418, 153108.97662330445, 151053.49972021455, 126828.94979461194, 119881.67026553418, 153108.97662330445, 153319.67958217164, 151053.49972021455, 126828.94979461194, 119881.67026553418, 153319.67958217164, 151053.49972021455, 126828.94979461194, 119881.67026553418, 153108.97662330445, 153319.67958217164, 151053.49972021455, 126828.94979461194, 153108.97662330445, 119881.67026553418, 153319.67958217164, 151053.49972021455, 126828.94979461194, 119881.67026553418, 151789.4617705813, 151053.49972021455, 126828.94979461194, 119881.67026553418, 150259.82518330085, 209089.10742812284, 130478.90707382208, 112634.4013863833, 581452.0771196202, 315685.48685042775, 188898.39570088868, 132489.38682917145, 187464.26575224628, 113327.24696323529, 113769.81161769232, 101205.60868346879, 236087.45462471354, 285453.1873113739, 106259.37759832935, 435585.14934817393, 149685.51083980987, 93484.43945665941, 296775.1536030927, 148545.1806448924, 152884.61564124166, 95712.38446795457, 214223.15034846685, 185425.03100353133, 204793.09704821312, 334960.05844418803, 334960.05844418803, 573605.5588554922, 160580.44000608774, 421407.1401086316, 184619.67921023795, 161117.74441924307, 222503.15938183846, 147549.2124032502, 229308.14769904347, 248375.72220035692, 92732.06053262872, 251346.29245939528, 172721.8312540785, 172721.8312540785, 147252.75987702698, 165785.2033448925, 351795.9741554646, 186654.90390796392, 135753.6538092014, 192188.85121858303, 137835.2587720575, 101503.6567067482, 235418.21415285705, 128834.78439317265, 130277.30755104894, 197725.8382306015, 234638.9612884316, 101381.93106048202, 189201.38645309702, 373221.9563569175, 370456.7571435491, 213084.1824393042, 212280.6277900458, 226975.24847517555, 72744.00670926235, 72744.00670926235, 72744.00670926235, 305604.7502214442, 129886.05494637898, 112811.88397006567, 189230.36200988942, 128206.15748312177, 555606.3214759296, 168011.8766527604, 160278.67295205605, 366349.62447312416, 215377.95704048904, 158150.55419499613, 127853.19127481541, 121221.04864552351, 191834.4343607174, 174737.86760033155, 158312.48774772524, 174737.86760033155, 130078.19945604095, 169202.81900005523, 467658.2842822166, 152739.20001244853, 315456.6320319069, 230063.14268687277, 64037.27549757478, 118192.04522978242, 111366.38909551682, 133136.83670353863, 464568.01560582005, 173057.20575690005, 129088.34420303223, 128788.37235790268, 112138.10111539596, 381842.5454809198, 129298.85789618905, 132348.54538874576, 184314.5869953433, 184314.5869953433, 184314.5869953433, 177208.78044862623, 138543.99499860997, 121407.17163295658, 620959.9984594199, 620959.9984594199, 625148.10277297, 114889.61514795951, 203910.1357886762, 625148.10277297, 620959.9984594199, 620959.9984594199, 139263.27753876493, 214351.27152034212, 213685.60248053988, 212623.18113702355, 209308.542725103, 208775.58251489114, 209603.27122806103, 227232.52315913563, 229049.70906136598, 229567.2303770925, 229987.33545758, 232155.6102747884, 230827.61885391275, 230821.50446258718, 232370.1559302906, 137466.05615931534, 138876.92298606224, 136290.17080802092, 135893.60788853382, 136870.86141930206, 134575.82424122997, 133896.56870459166, 134945.9063736616, 146507.3887294749, 146367.82708384912, 145600.9218629265, 145914.6447896383, 146282.64058362512, 146324.36981779456, 144372.77931866617, 144905.81075843342, 148714.53537651076, 149296.15745948267, 149039.1381218948, 149426.18642076035, 148678.7818701843, 148542.83719169773, 148987.39152109, 148850.08496852132, 150454.97757184616, 148616.9920560415, 204608.99318685386, 253838.41342381216, 441836.3272231349, 133408.71584493679, 133368.18950281182, 121057.26569844125, 131649.14129303256, 365925.984964938, 80536.78102988692, 87929.80506858393, 74677.18546733317, 93148.8453310921, 355552.62856099376, 87816.86474048972, 98722.30464946001, 1028302.5119591596, 132216.1351620598, 194704.6041110431, 205884.11229955681, 330115.8061746041, 117824.65616162197, 118795.74837688117, 155668.24134227578, 88332.6952662304, 362164.2463505376, 265717.5518049789, 389485.01780844666, 151837.3411841892, 596428.9667908761, 472392.6009297444, 174728.64690228808, 185447.19510162872, 309801.5694432825, 85596.66395378942, 126383.1688111469, 2612106.549768122, 705483.6990869383, 747762.4092353034, 248314.36887658873, 155413.60852636368, 1838703.535126455, 109812.55197536774, 159660.4362835892, 675662.0565816878, 193672.2961941523, 193822.49019465782, 301262.1171381776, 123022.25610563283, 164529.60057213396, 169433.4803483558, 278281.7823806616, 195663.5676118095, 175561.15182208817, 201746.8742926357, 147453.05431577936, 293548.211032374, 132107.1345848649, 98899.91767877925, 1170806.9547885957, 438543.89661359467, 134063.12471643346, 194857.61366493223, 129233.71813011449, 94709.62848926905, 94709.62848926905, 114551.29041973116, 90637.8289960415, 202501.50730883036, 343718.05458688975, 148852.00220819688, 133288.64594083242, 1170769.22408913, 264109.1524496838, 506002.9423112687, 162267.10078990116, 229447.72748397884, 143487.83638586555, 648020.4051913811, 183878.2910348183, 214306.45002581918, 344311.9433409093, 267818.70042282966, 148885.01968570013, 270409.1427473245, 216186.41248461357, 83598.71987304566, 1469613.467808999, 291228.73372961255, 156014.99869317818, 102752.07172613007, 134344.9142806447, 171211.0674959363, 256466.7061728404, 96147.6171913006, 96147.6171913006, 256466.7061728404, 96147.6171913006, 96147.6171913006, 256466.7061728404, 256466.7061728404, 256466.7061728404, 96147.6171913006, 96147.6171913006, 256466.7061728404, 256466.7061728404, 256466.7061728404, 96147.6171913006, 96147.6171913006, 256466.7061728404, 256466.7061728404, 256466.7061728404, 256466.7061728404, 256466.7061728404, 256466.7061728404, 96147.6171913006, 96147.6171913006, 256466.7061728404, 256466.7061728404, 256466.7061728404, 96147.6171913006, 98572.73730041427, 159088.4197257085, 152008.49780634223, 152008.49780634223, 256466.7061728404, 256466.7061728404, 256466.7061728404, 256466.7061728404, 96147.6171913006, 256466.7061728404, 256466.7061728404, 256466.7061728404, 96147.6171913006, 96147.6171913006, 256466.7061728404, 256466.7061728404, 96147.6171913006, 96147.6171913006, 256466.7061728404, 256466.7061728404, 256466.7061728404, 256466.7061728404, 343494.1639779713, 437634.5045992918, 222307.54289771465, 256466.7061728404, 256466.7061728404, 256466.7061728404, 256466.7061728404, 218613.88654254464, 218613.88654254464, 143307.1383554032, 411022.4874824426, 226218.47197805106, 223296.68899189087, 81278.28005873362, 81278.28005873362, 172070.15632772958, 121605.59514702739, 72301.52255693928, 72301.52255693928, 72301.52255693928, 72301.52255693928, 72301.52255693928, 250713.5535885782, 112905.33298298843, 209735.24791557546, 323074.98449257546, 205476.09729131564, 188156.1500098223, 153723.2919607293, 124016.10371187466, 124016.15782142234, 124016.15782142234, 124016.15782142234, 124016.13625463379, 124016.1903665135, 124016.17094387334, 124015.99698426841, 124016.10371187466, 124016.33021899794, 183240.1820450199, 421770.05548397044, 124015.94381980553, 124016.27609711174, 124016.15782142234, 124016.13625463379, 124016.1903665135, 124016.33021899794, 124016.33021899794, 124016.22291300772, 124016.22291300772, 124016.10371187466, 124016.1903665135, 124016.16879879648, 305763.2222902589, 274720.706729507, 972275.2460004545, 271035.20449337125, 373579.98288922274, 171387.31410649445, 136855.81809426463, 136855.81809426463, 264345.95984446927, 264345.95984446927, 158437.54301583342, 240344.83899459383, 296132.0256990357, 231599.3531998189, 123028.16162178811, 167370.73351685668, 186758.4144671186, 145833.798093001, 152796.14806886247, 234521.50921964686, 191710.41298471208, 314841.7630173493, 775034.706104545, 297939.968184459, 304836.38661766186, 445540.7710620002, 504458.3276746747, 249857.23718701737, 287616.6130419243, 209597.9776793248, 170561.0831586714, 387982.3734129244, 217385.66388678228, 321908.9116437302, 458141.15566656453, 275989.1252072237, 92030.49632986644, 213093.93365610493, 200269.0622111221, 203365.90679560683, 100814.97433150934, 172263.03215165823, 382380.368732722, 145459.489857403, 138518.36951401492, 151470.93852177903, 217792.93678528885, 127294.53516734872, 127294.53516734872, 133211.2562501065, 212653.66476041594, 157717.2947511453, 127294.53516734872, 127294.53516734872, 934913.1683642692, 184855.72764999288, 166259.69973363675, 184855.72764999288, 435797.1142666141, 121782.72282867211, 215756.70750632297, 296027.9357462113, 121952.92890573337, 153468.5935585592, 137240.3372926625, 158463.15758616987, 137158.49369119838, 92803.64112505109, 71907.1394706631, 127827.23439257822, 161603.27402744052, 167484.3557938505, 158118.16248682502, 329950.42701505765, 239025.29054724696, 239858.59628738725, 156683.521201562, 250436.18314461975, 130471.7545828479, 222252.79309817863, 108779.2359416699, 192944.5967009782, 78466.31600052203, 162177.47635003072, 133069.3892409359, 176240.46386002953, 182021.75009668368, 238814.43457268167, 272575.06237829366, 241974.6632200183, 141848.63946213608, 338771.9720515246, 94370.2097874099, 158634.142441759, 274200.28781962604, 632219.4004099113, 117171.173361702, 197145.609848843, 104033.89638554724, 291098.50003184145, 115630.71698442947, 122225.30965437232, 203214.13105625118, 147743.25673363908, 640937.3314692285, 155777.56808604018, 77382.54242817369, 77155.99937607144, 77066.44893554866, 77572.43510867305, 178274.92820889078, 110418.386079051, 150218.44157073367, 133282.97823473316, 275079.925511552, 224330.7801354276, 202285.64730552037, 116137.6121711475, 122163.23923658724, 128899.58825629298, 116301.431670908, 127741.11960101334, 274496.8319899044, 127741.11960101334, 207949.85824292825, 133544.0783279471, 156043.44180590805, 190228.95392750145, 155574.6704921769, 154206.04167033132, 285675.74340685474, 522740.9213941279, 79467.69649099841, 909286.2075305141, 212221.94693542251, 214940.24382309918, 561523.7206604127, 206856.37274895268, 121240.98220054558, 184168.22049830476, 111913.62450734996, 285234.9779392675, 225252.25725901, 164895.0204806469, 249128.58316101014, 146575.7757908046, 87667.11947487821, 142562.07443963236, 231353.7210772749, 161498.37299332744, 164203.21264964747, 118381.58946859845, 121521.09117536516, 106962.19692244222, 122619.50069127681, 128049.5382125089, 188888.5363419162, 198911.44226141713, 458782.8649284029, 178143.60957045283, 192636.97798586858, 318788.93111228733, 167509.69563675325, 326523.776388174, 144203.43029973828, 348994.0371259827, 128011.30942869159, 663045.2413453251, 133612.58277595055, 160493.03061687396, 214391.99143567763, 373974.7758448549, 174233.54111648153, 130637.21681121687, 201188.11604610662, 87544.5303857098, 428012.5970057065, 214114.18549677447, 208378.39315451108, 152887.43300380485, 115321.97121080552, 184765.7665365531, 105508.79549416431, 141849.27427660394, 196324.97644463347, 145135.19093791206, 218542.10612375726, 101508.04650932233, 97102.64766239507, 200560.3999524071, 382901.12029223086, 2002089.8076753253, 1173564.601897349, 307095.4143562811, 166057.8178127959, 156990.89222759305, 96269.42060346436, 298937.9163098327, 260240.86806702375, 302357.9185875739, 271193.61502220086, 121784.60439999368, 96755.18533155724, 103848.1944957996, 96641.87079959398, 99405.37468508304, 99405.37468508304, 179266.4886825364, 95193.86193871193, 127129.64981007467, 98177.32175278486, 107290.81597368917, 106245.74995564646, 132538.59152751428, 133388.5840321492, 106245.74995564646, 248026.49534811848, 331632.94586553134, 120111.3982971095, 109528.60189788796, 267214.47515693476, 91057.3119315012, 259394.7914505096, 112792.87912785163, 112792.87912785163, 120964.7396388952, 202860.25768622343, 937373.1445564851, 147403.96138040454, 238631.1534461611, 182256.5397309693, 122335.05550968283, 122335.05550968283, 120224.50878503465, 120224.50878503465, 120224.50878503465, 234093.146899771, 140958.8483754834, 280211.0699582507, 151617.70265421312, 128103.89928308898, 350700.32953324437, 338342.48654303217, 348704.5369791994, 193369.35808275538, 143491.23076050915, 230778.36063842513, 183329.59334982772, 134744.03935347733, 138574.39211085887, 324126.17848705617, 139227.01946617907, 535579.7195111436, 250019.6391164841, 251989.71390887527, 275134.50892275583, 106225.42505641488, 86491.78685400535, 88290.18727905152, 218680.29615031724, 149870.52965415874, 160669.17460928636, 147156.93839436516, 132844.80178477505, 150411.79402717075, 226360.716683313, 204753.1377505855, 111779.11045662432, 120807.57910521947, 136754.3547541592, 149654.79565018602, 439321.49934645306, 136269.57854761652, 136124.21836245558, 656404.3448380743, 122569.69579533879, 203845.85878590684, 198408.43287635097, 183827.4620189122, 536473.8654372968, 107232.69227141884, 206056.8689147274, 183338.22022251948, 658276.7706320948, 223579.72282914785, 140227.00491217736, 173078.55066522383, 270695.5008761103, 255233.7682421386, 183380.8281177861, 196433.3606569006, 146428.80570677025, 367321.787266703, 131727.70846001193, 101765.82545516502, 76776.72002906454, 438271.1729670635, 154893.93002891308, 129992.60857360708, 139731.95913353717, 165494.17427180283, 623933.3911661789, 498355.05554751045, 109449.65708415421, 149656.5161907028, 89638.47587886751, 73457.35540566243, 235186.32319059136, 283812.83254040946, 368092.3445972362, 122846.01171670144, 349361.85625369666, 351931.79265195044, 291560.78510514984, 161560.23027695325, 185127.18192217455, 78596.61559125417, 105640.31614793201, 250570.87435017107, 216129.5213716771, 160235.12898131952, 191247.2022427718, 85058.78654558717, 150034.486650068, 147113.62737133863, 210378.54182700554, 210337.32014434895, 278188.4203233001, 347465.6312938937, 322375.34095605346, 630106.8791850962, 240048.29362569726, 336844.9874309523, 284926.7272819618, 111689.39342003196, 1325988.5640739878, 177777.20077467457, 155699.7854041441, 284455.93817767856, 284455.93817767856, 132046.90631506772, 161171.28487864076, 133641.97188264626, 220692.3206559646, 145676.00245542527, 367369.37294471805, 92776.51898517233, 152632.43618682958, 159296.75948220948, 157396.96883439962, 75186.72826926557, 146999.9407306062, 142353.93851385897, 104721.29444203479, 230473.0881532042, 207233.7429108718, 217644.3183407228, 93296.36241721344, 116059.90254143639, 288354.6399365852, 189373.63729443925, 335609.25347428373, 119333.14353887741, 108475.9318475339, 281236.095233429, 139171.21028412812, 294829.7780377817, 139836.7159678982, 112986.31233771035, 169616.61872434913, 209300.85474051538, 109719.7755936222, 678844.1851433035, 84975.26646253126, 456943.81907315255, 130265.3424382107, 280213.151530054, 338397.7308350231, 292818.35184230877, 96257.87408065614, 1632457.293687015, 151085.96516283834, 285150.10096710146, 125539.04610313321, 94351.28767808984, 210345.97131843795, 154776.11752139515, 142239.86258180783, 113057.3125166241, 320134.95550135116, 117038.02231815827, 219893.17235254392, 348772.03251030965, 113057.3125166241, 570064.1705486875, 135806.3323196682, 135806.3323196682, 140106.54601594573, 127461.99727543403, 150651.46528850816, 236383.58671873482, 140106.54601594573, 135806.3323196682, 135806.3323196682, 127461.99727543403, 139817.3956415987, 139817.3956415987, 127461.99727543403, 135806.3323196682, 127461.99727543403, 127461.99727543403, 127461.99727543403, 136818.2799921773, 110966.98820960273, 284569.7902309545, 237341.41148182313, 226588.96464390302, 273692.87329392764, 241330.92985037988, 175243.07582232042, 212372.18810681248, 511698.20534530253, 158965.26305339386, 154856.05974348882, 192501.055777578, 159204.36691462251, 366411.95119362604, 163670.3119051438, 133452.80300381273, 192755.64148739376, 137270.20317306544, 128648.18312568186, 256021.4646426515, 124198.14748051978, 121351.11849463558, 126324.53116829057, 136816.92100896937, 120383.88433099803, 136833.9654654342, 121096.61403150836, 137537.41473678016, 136833.9654654342, 126324.53116829057, 139203.73176439333, 136816.92100896937, 120383.88433099803, 136833.9654654342, 119546.4337753007, 146685.83101495262, 126324.53116829057, 139203.73176439333, 136816.92100896937, 120383.88433099803, 136833.9654654342, 121096.61403150836, 119546.4337753007, 146685.83101495262, 136176.07237771194, 136505.0087522827, 194059.54720786755, 191100.98921044532, 142298.89135491708, 120383.20891598, 232709.40083673093, 107374.74846653276, 121055.05385629396, 140085.06988393748, 147074.77516063026, 142298.89135491708, 120383.20891598, 141520.67937923863, 107374.74846653276, 121055.05385629396, 140085.06988393748, 147074.77516063026, 142298.89135491708, 120383.20891598, 141520.67937923863, 161502.75256241177, 153314.84174735015, 166233.25839147862, 136816.92100896937, 199569.30737663803, 114669.00239737105, 117680.82118419517, 155029.8312394652, 136816.92100896937, 142683.03129320155, 155029.8312394652, 136816.92100896937, 147209.57545280713, 123995.6921882512, 133621.32731219928, 127879.71455979998, 286538.1380989093, 193173.447036741, 265449.1966748554, 116277.80191981947, 203527.03969103337, 457282.7030952602, 126227.43252674564, 86324.63089914859, 119828.87064727269, 343821.3082537946, 182757.83619913965, 177485.10066175362, 142385.34048727495, 232717.27573871458, 97810.4340140291, 100630.63980015393, 400117.79499309894, 147803.62626503868, 100629.75759107087, 119108.91467216487, 191381.305708857, 141509.33689576885, 225414.91489595457, 170331.95030994667, 125126.67130213414, 156197.04066630814, 192597.2024449775, 281795.7522922278, 419597.65082783846, 126189.39592069593, 305285.08060659154, 176583.0707449557, 125103.85568318791, 123142.74260357143, 115671.04589374701, 221244.4020518561, 153328.05230828084, 227835.80356896215, 104508.9937385907, 404269.6588402367, 261213.9660950767, 179826.89545288828, 112328.13810594066, 104537.22598230084, 304447.14511302, 284849.28139635746, 383807.50703676604, 243884.9405641992, 134333.9902212264, 238309.27311349474, 97309.61151885499, 104559.85100992529, 226373.13558248317, 555191.60498218, 298649.6923314488, 365435.833687869, 250181.32552455866, 115207.67340799206, 185135.07098240018, 117354.14040473977, 285798.53576325695, 130688.42088591254, 85943.10499456244, 88787.62004752121, 148237.5756250993, 238945.63290231576, 165077.85059829644, 71904.58045986498, 169941.638096085, 125889.88572272414, 125889.88572272414, 165077.85059829644, 125889.88572272414, 165077.85059829644, 125889.88572272414, 125889.88572272414, 165077.85059829644, 125889.88572272414, 226583.3325498691, 226583.3325498691, 605871.7189015589, 116272.9789229417, 116272.9789229417, 104489.69873954625, 116272.9789229417, 239053.6783561762, 283054.810044408, 114752.70265553956, 813329.2539560803, 163664.89703514072, 219090.93657212507, 116792.81051072275, 112237.3392017732, 118417.95133857452, 188184.7485120551, 125824.35272940774, 197784.06058329457, 129268.95164206767, 136544.07212349924, 128985.4989961226, 190570.29407525592, 145835.54091235413, 127371.33383052112, 127371.33383052112, 105505.80306921995, 161598.00176893466, 851116.9251021703, 122611.98122579537, 332714.7874788979, 558516.5291658692, 80137.14962988379, 215725.97466224426, 142003.83307165792, 142003.83307165792, 167427.68756183854, 151039.2753938677, 120241.18786079626, 127614.85860264755, 96295.48090294012, 150762.44066848658, 158471.81085393464, 109003.52778602602, 233528.80100993544, 122780.81975874414, 175068.09786885834, 291379.93436594814, 151855.31110832957, 258047.46101620424, 380089.3690503665, 178004.74018440032, 159305.49699965003, 352116.4516407837, 119391.13709055168, 204054.3547217499, 592084.3585388607, 370230.7682506919, 337453.6321653052, 114750.13349014352, 103184.20744308803, 180075.34544815897, 216169.43195640188, 447807.8559748747, 707856.3891523102, 176652.07126203808, 154834.6748855424, 298231.4376107427, 554842.8540715687, 707856.3891523102, 100437.31367053109, 144422.30564107222, 258048.12577247748, 284928.0598595225, 249259.15345308356, 171611.43344698768, 132607.5632369994, 134327.53127063622, 191591.90829501927, 302458.5055191843, 138896.9164112114, 191395.3109863813, 132931.21885803537, 125800.87057928623, 122092.19895301192, 134327.53127063622, 155966.66878190832, 149566.28509755034, 149566.28509755034, 130535.14815223779, 149566.28509755034, 149566.28509755034, 130535.14815223779, 127753.23932218312, 149566.28509755034, 172136.8226688273, 155966.66878190832, 154700.78651283993, 149566.28509755034, 183091.6533896579, 167919.6605482754, 291801.9237735508, 176828.28477376598, 131440.32566414715, 137398.98277483083, 103642.72326971934, 144472.81271188046, 161242.98462816447, 156616.5561571373, 129131.85825240283, 155023.08781090868, 148099.35396839405, 163237.88417147764, 176308.2143698396, 170269.0261042532, 106503.58533890297, 153315.59342432267, 1045497.8272541786, 245887.4987979339, 196411.3127195744, 408731.93581684574, 167042.23718236576, 561450.9324066406, 221209.77582558893, 189486.36281533557, 134524.32828374414, 601460.6620468519, 170705.0761249537, 144533.93793533486, 174182.59849357427, 323451.68496797635, 203855.699035123, 130066.86005910815, 142395.6084469158, 169203.53373441607, 151546.97997533157, 207158.37124085112, 126654.91210761898, 119324.95601100592, 444020.881890075, 96595.9275390667, 80275.32967617012, 128141.18060431362, 80275.32967617012, 67555.04281296956, 128141.18060431362, 79304.60983914208, 203458.82386327776, 96505.2501714869, 96505.2501714869, 120693.59512470383, 120693.59512470383, 119387.56790880041, 121805.57283666791, 121805.57283666791, 96505.2501714869, 96505.2501714869, 120693.59512470383, 125841.06693532999, 243846.49632581568, 228879.72517561878, 262228.79910922656, 187042.52213838935, 271491.1599474441, 182718.4866768715, 147643.43685674423, 442355.97519300174, 212586.18826355337, 262228.79910922656, 201035.42857072438, 198369.65442393126, 286714.8273393252, 163159.40876087925, 252505.22017369288, 237016.33941347044, 232126.24146244937, 147531.32837380454, 141627.05678846952, 129694.10269022544, 224708.8829813769, 248633.362915228, 175592.24494276333, 261319.83241320314, 171508.61163892387, 161926.2758958738, 210410.74493773116, 210410.74493773116, 155764.60531673732, 184949.2563817907, 191593.43033185732, 194563.5490944352, 193204.70163860425, 198644.37332088163, 180525.72308993124, 207161.93556460558, 182718.4866768715, 156205.87094593182, 183741.50785643831, 155980.80900155706, 156270.60886219877, 253729.30867187664, 236379.25436273907, 265372.63022604724, 232105.99272956498, 237228.14654413436, 156332.58360090049, 201622.7208693471, 200423.90491827828, 192881.57742838532, 175618.01820511743, 92535.83912784433, 145207.96175786466, 305888.0757393381, 1606687.7253253341, 158570.1651491627, 134015.94077087723, 191166.82737633953, 132376.21823984795, 170246.40314262037, 133544.67938935576, 152958.52605327673, 221468.89746014928, 94524.94021639798, 131909.83977067212, 133895.75201165787, 325906.5783456938, 217284.53388964804, 396410.5108503587, 332082.4724840504, 111170.61438112233, 175733.39270549297, 76012.65387953474, 98952.9059495885, 128287.81801852988, 116779.94040956825, 206502.39878160297, 116785.47744932598, 116785.47744932598, 84078.76048712959, 213975.97269725366, 129073.50332928162, 123728.34597010374, 206502.39878160297, 116785.47744932598, 116785.47744932598, 213975.97269725366, 213975.97269725366, 92680.71225552988, 92680.71225552988, 92680.71225552988, 92680.71225552988, 92680.71225552988, 92680.71225552988, 92680.71225552988, 92680.71225552988, 92680.71225552988, 101005.28775021569, 101005.28775021569, 99910.63902955406, 99910.63902955406, 297859.8522791327, 99910.63902955406, 136789.18128721326, 110561.40889873654, 116082.08599827954, 116082.08599827954, 128287.81801852988, 128287.81801852988, 84004.04364081047, 84134.31330401919, 200227.9511120739, 84004.04364081047, 94049.56219037474, 99910.63902955406, 96166.29656453324, 116082.08599827954, 127330.76514782291, 169824.5056643596, 156706.19302285174, 249350.12760937662, 244139.80730001407, 181971.83820297028, 120082.19799890964, 165773.88260281004, 165773.88260281004, 165292.36912750185, 208222.83958195496, 147458.7128764851, 216000.8882257377, 110170.8771859493, 165292.36912750185, 165773.88260281004, 165773.88260281004, 190443.89363509923, 165773.88260281004, 165773.88260281004, 165773.88260281004, 220732.5495370679, 220732.5495370679, 220732.5495370679, 220732.5495370679, 220732.5495370679, 220732.5495370679, 164923.80167937567, 76852.51680697288, 139293.01494082145, 159028.23370126786, 129656.26459630206, 157157.23740381817, 130270.89705863492, 129656.26459630206, 159028.23370126786, 159028.23370126786, 159028.23370126786, 131150.06968855954, 131150.06968855954, 131150.06968855954, 160952.97102561902, 174194.14931058438, 154501.32881043694, 198099.89343308925, 127909.51357478424, 135305.09473383374, 165773.88260281004, 135305.09473383374, 128017.39373281013, 135305.09473383374, 128017.39373281013, 135305.09473383374, 135305.09473383374, 128017.39373281013, 142073.52824554188, 142660.46469779295, 142073.52824554188, 381123.23046579084, 177748.87926409347, 242141.69298678412, 178951.00802356444, 178951.00802356444, 178951.00802356444, 178951.00802356444, 178951.00802356444, 178951.00802356444, 178951.00802356444, 178951.00802356444, 178951.00802356444, 178951.00802356444, 178951.00802356444, 178951.00802356444, 178951.00802356444, 178951.00802356444, 178951.00802356444, 178951.00802356444, 178951.00802356444, 178951.00802356444, 178951.00802356444, 169009.58221426915, 169009.58221426915, 169009.58221426915, 169009.58221426915, 169009.58221426915, 169009.58221426915, 169009.58221426915, 169009.58221426915, 178951.00802356444, 178951.00802356444, 178951.00802356444, 178951.00802356444, 245410.4110040119, 169783.41872017726, 179947.76928647922, 213007.44637320936, 168616.6292863742, 125517.58227202125, 117730.05184349076, 100923.80755581865, 100923.80755581865, 100923.80755581865, 120799.65671047238, 132232.1592279794, 171431.84723879083, 182930.7228596356, 182930.7228596356, 185845.3914618365, 185256.52491796, 116286.9379043069, 108062.01136377067, 116286.9379043069, 107056.40032343159, 345166.8429906056, 134033.58365280303, 115381.51197617053, 109793.19506375378, 111975.29757454357, 113708.54709123328, 109793.19506375378, 203583.09292736207, 157526.16778768055, 109793.19506375378, 158450.1016593076, 111975.29757454357, 144833.5528079363, 157526.16778768055, 135728.4873378725, 148599.2681914295, 124596.37435865295, 130223.60641772197, 158639.57132059484, 123591.43938211337, 122429.39972038878, 123591.43938211337, 122429.39972038878, 122429.39972038878, 128017.39373281013, 100248.77735725547, 158450.1016593076, 157526.16778768055, 172030.3456222485, 152749.74366169132, 152749.74366169132, 126156.53795602382, 108588.51580621675, 108588.51580621675, 257033.90173458168, 137891.47394502044, 146480.19704821915, 108588.51580621675, 111169.5123620042, 107974.6602119443, 119723.00309920948, 214124.46295194863, 140030.30119801732, 476346.368529586, 121462.83183020477, 572199.2630295716, 863169.7434158624, 111605.31262337168, 145035.04510603374, 141697.52832983652, 136121.52731402955, 125343.8646717285, 123784.53303470764, 141697.52832983652, 136121.52731402955, 125343.8646717285, 141697.52832983652, 136121.52731402955, 125343.8646717285, 136121.52731402955, 125343.8646717285, 141697.52832983652, 136121.52731402955, 125343.8646717285, 136121.52731402955, 125343.8646717285, 132369.16185821308, 122038.30891971219, 132379.39315287647, 118549.66871187, 128017.39373281013, 335339.28861725965, 581717.8860995648, 1286208.8856859251, 1431004.6437259691, 527285.2918175483, 673950.0091588439, 371201.51686207094, 2097049.1654788975, 1059838.4845872072, 283158.52079294785, 426726.84693343984, 1385075.298174259, 624683.8345761055, 1135031.4164899893, 335719.9846807746, 926297.4323744451, 235506.0330289952, 660024.4678412948, 691582.7597274835, 2023129.3520443686, 1012817.2472077002, 1499725.5433978895, 1108676.8379300544, 485526.61724861845, 837122.4160406698, 204273.6450480677, 680305.5174829083, 1521445.4291708851, 1584304.235518526, 615974.9105078329, 294128.17699804384, 273858.5329026584, 241324.11907202165, 181493.75503073994, 388000.07411493565, 458759.74399502063, 542796.3459716956, 810275.017929465, 201000.38366334166, 477272.2819195143, 113075.44865742532, 129055.02543187732, 86851.79255276323, 218569.73162697846, 208393.10321267872, 90731.13620040858, 109800.4100283701, 123490.94473830661, 109800.4100283701, 252667.6385187764, 129326.48046961639, 130409.12467279287, 128493.81500036451, 236450.8807021281, 130409.12467279287, 211009.438819639, 81314.01079393385, 111417.13244288888, 261726.60997106213, 524481.0993060495, 116348.73737822063, 79965.69817433797, 88348.17866694301, 203729.53500822195, 94189.17114574327, 187081.02253671666, 105239.33483402967, 133420.66828759527, 168326.45658913587, 237043.67074537682, 145786.75853434656, 105239.33483402967, 200809.54125947168, 187081.02253671666, 466813.4737029176, 105239.33483402967, 130409.12467279287, 148688.75871325182, 673005.2706325678, 292874.6388652476, 105239.33483402967, 133420.66828759527, 386381.5929435497, 115768.95639008612, 460677.1724807884, 218446.14445667868, 105239.33483402967, 320838.1072322544, 130409.12467279287, 186579.31936642368, 360288.39324307005, 79457.72201176608, 105466.03838731899, 224650.23511964697, 130409.12467279287, 79457.72201176608, 176509.50601599584, 119595.86979437179, 79457.72201176608, 187081.02253671666, 125623.48519284531, 125942.88493127155, 108143.47784073722, 148688.75871325182, 104894.30965249619, 133420.66828759527, 108143.47784073722, 130409.12467279287, 124687.98349044088, 94316.42927614736, 108143.47784073722, 108143.47784073722, 103725.27453989975, 130409.12467279287, 104894.30965249619, 328182.08905950317, 108143.47784073722, 155006.68502799582, 96069.83561407453, 102381.60618395412, 116530.67369492823, 104384.04388506379, 99222.13626554035, 108143.47784073722, 116124.31804194541, 116530.67369492823, 108143.47784073722, 99222.13626554035, 116530.67369492823, 176101.31305920158, 151352.54190129077, 108143.47784073722, 99222.13626554035, 155746.54575239407, 147018.74573847846, 116530.67369492823, 108143.47784073722, 277358.95507428807, 510766.20230623265, 99222.13626554035, 108143.47784073722, 116530.67369492823, 125497.57412763374, 131502.569531225, 123121.01973910014, 135559.8793689527, 96069.83561407453, 164732.51816913465, 108143.47784073722, 131850.3697441584, 125497.57412763374, 116530.67369492823, 93914.14703046845, 464006.9558499463, 86392.859798672, 123121.01973910014, 108143.47784073722, 96131.0376690122, 186550.52282487036, 79457.72201176608, 123121.01973910014, 110248.92746639616, 283082.92083420616, 79457.72201176608, 103503.55681677893, 215386.54788419872, 86404.31133368814, 79457.72201176608, 199934.73364276678, 98310.52990075506, 106444.02977116572, 105239.33483402967, 199934.73364276678, 160656.44863229655, 105239.33483402967, 399616.6492747319, 143034.89877859273, 112416.658116019, 108047.41490612124, 118934.97700346685, 199934.73364276678, 217693.74287976325, 120890.50496893936, 180987.28298786882, 86949.94513562812, 117815.5099589463, 199774.6409203789, 117934.39389227508, 97219.71125806593, 109678.14646445728, 141595.94944486092, 97119.80478001304, 102539.84576137805, 98310.52990075506, 141595.94944486092, 109388.82113547644, 106328.83749773804, 165143.39728042262, 141595.94944486092, 139012.44978745657, 104894.30965249619, 117606.81757188529, 199774.6409203789, 184219.82774505642, 503379.4857910559, 144210.86563941027, 123121.01973910014, 141758.18762309937, 745717.634452067, 116827.2672202306, 537260.8106666398, 82105.25812521583, 96131.0376690122, 278312.9743822559, 99222.13626554035, 215386.54788419872, 139846.6510424016, 495890.89220286236, 288894.0052785683, 304337.69663875585, 99222.13626554035, 109785.68226608081, 744051.5978756472, 160856.88602646397, 283874.7134616542, 633584.1839716332, 154356.0501082429, 951187.4490503168, 294566.4847810701, 447463.09981443395, 113496.17763286002, 165143.39728042262, 132126.62551859082, 150919.9691560937, 116530.67369492823, 377224.456237619, 149198.60250884236, 477057.30367352685, 171250.5703459397, 110248.92746639616, 149198.60250884236, 435626.5800844195, 174627.52333346393, 108047.41490612124, 84309.1757453551, 158414.65628058318, 98310.52990075506, 103792.58839360291, 114872.40447612219, 448131.8389535628, 96131.0376690122, 104159.905162996, 114746.12695773279, 525985.1147597648, 183743.4467166362, 96069.83561407453, 267391.0753080888, 114746.12695773279, 99222.13626554035, 118111.13878734758, 210456.21761064272, 144278.7153281556, 109785.68226608081, 136049.70892612706, 167299.37081638095, 282943.0458363855, 167299.37081638095, 153647.524302352, 145040.2773442925, 454535.13137136557, 181349.12532461545, 216239.88452817878, 181349.12532461545, 108032.89016052212, 86675.12656367257, 113088.25492211457, 238392.77891220132, 575550.3796962277, 116105.91032039086, 125938.36532868218, 177619.77235821242, 157413.14427625103, 155032.1932107787, 292852.624316767, 155032.1932107787, 150148.7879547219, 143612.807216731, 139012.44978745657, 112463.20041890693, 138316.57779413258, 320743.6615997895, 143193.697019229, 118975.31744562613, 660378.8145027838, 176606.91900780046, 135320.0984219196, 852818.5575117886, 238392.77891220132, 118975.31744562613, 140107.1723912764, 115387.06539342726, 846489.9450074187, 121750.24590817414, 148568.59824392834, 136452.67922277618, 121915.66840610612, 103725.27453989975, 114298.06880375039, 117709.56794200602, 102723.40826035634, 197589.29531637457, 154627.44030335746, 118975.31744562613, 105245.98764070185, 155437.081798385, 238392.77891220132, 91634.61540607935, 602429.5737547431, 154627.44030335746, 197589.29531637457, 121915.66840610612, 322166.98380464304, 157999.64389262686, 219860.7899016153, 120920.33374270215, 717770.2845137919, 124528.9140879439, 197395.11153346216, 92158.94028350007, 414300.8968281436, 125596.49277860235, 108404.27879476339, 157187.47029626233, 152105.00067718123, 157999.64389262686, 108404.27879476339, 157999.64389262686, 155820.17028440032, 117129.43088724969, 157999.64389262686, 120920.33374270215, 125596.49277860235, 157187.47029626233, 310887.74826412403, 293904.96484711603, 165534.2110935078, 291168.4945496882, 750470.9350043524, 157999.64389262686, 189081.2908650973, 233258.21869651927, 91720.42128055822, 485471.80067704455, 425266.4763309682, 136189.5624064857, 125596.49277860235, 233640.81269901484, 659388.2409921242, 121641.87458984386, 112979.23892774642, 105668.10735255957, 1211702.736936458, 109767.66873639311, 116013.58882656314, 125596.49277860235, 322607.125750692, 504405.815067571, 294414.81717211916, 109732.13448632178, 143876.70793932615, 400299.8845001103, 134478.14101757933, 111026.24704925163, 129122.47797621199, 275614.4589986883, 223463.71125648377, 279716.45151675824, 103360.67001188279, 97794.63192060112, 120920.33374270215, 136033.07510536985, 103622.07236483731, 310873.9772904427, 95615.22334177146, 83324.97195867909, 350648.4075687675, 95553.87845127027, 147004.81721915773, 173535.84726219246, 98706.03586203232, 201838.02815466432, 136442.05100450665, 109269.46789778388, 1110294.0082520074, 136442.05100450665, 514572.87501836393, 118914.5017863991, 112979.23892774642, 101046.805260064, 102060.27459114043, 116013.58882656314, 102763.01463576853, 140408.65846079303, 162907.83511631712, 109732.13448632178, 103606.88890701199, 186889.38680902956, 210279.40695810443, 97794.63192060112, 463390.798126232, 215271.659189324, 205546.73379392165, 95615.22334177146, 191740.67144438648, 95553.87845127027, 1117434.5862342585, 284469.0454533134, 188432.86241398109, 102763.01463576853, 98706.03586203232, 399534.9850083329, 277801.76613872533, 108774.14661729118, 291430.4486296891, 169465.1667764693, 191492.32230598957, 184337.80564091008, 130657.73171272894, 236950.91010176545, 1012251.5013718939, 804836.6922074172, 156132.7735876406, 132868.00380596792, 133962.4513740422, 136076.28691903164, 136076.28691903164, 146586.32515660048, 143229.15954906095, 142783.87697351712, 144595.864194048, 142783.87697351712, 145101.10620575634, 134471.2384396042, 144595.864194048, 144595.864194048, 144595.864194048, 99454.11884152019, 99454.11884152019, 99454.11884152019, 99454.11884152019, 99454.11884152019, 99454.11884152019, 99454.11884152019, 99454.11884152019, 157943.2260899097, 817263.0189808089, 203796.88167167295, 200979.77455698673, 123680.73827915349, 120151.88461980512, 99169.19031101467, 98511.4422120858, 101378.71819323084, 153002.2674220885, 119062.91020303384, 124473.05790153518, 254636.80831994567, 314025.8305365571, 1216681.4227397959, 183943.81942699503, 239596.71432720133, 190683.98118292284, 139519.98262181206, 148347.48465061694, 155997.11719137235, 146245.88141139626, 143057.93932680177, 160349.98017394583, 117054.79244023707, 242508.60712030297, 115697.21738008084, 117054.79244023707, 160349.98017394583, 115697.21738008084, 221246.05334594584, 130462.1744949173, 128294.98600081439, 128294.98600081439, 128294.98600081439, 128294.98600081439, 128294.98600081439, 128294.98600081439, 203967.52369662502, 212718.10467452893, 207553.64489329918, 203274.4753965886, 183113.76982287836, 183113.76982287836, 319481.46463587217, 183113.76982287836, 128362.83109300921, 128362.83109300921, 183113.76982287836, 130530.0352051637, 333125.5740580627, 329860.0710077595, 183113.76982287836, 323789.99638485466, 159056.9125951746, 153148.45780340876, 153148.45780340876, 159056.9125951746, 153148.45780340876, 153148.45780340876, 159056.9125951746, 153148.45780340876, 153148.45780340876, 159056.9125951746, 153148.45780340876, 153148.45780340876, 153148.45780340876, 153148.45780340876, 153148.45780340876, 159196.70146554554, 153148.45780340876, 159196.70146554554, 159056.9125951746, 159196.70146554554, 153148.45780340876, 153148.45780340876, 159196.70146554554, 159056.9125951746, 159196.70146554554, 153148.45780340876, 153148.45780340876, 159196.70146554554, 159056.9125951746, 159196.70146554554, 153148.45780340876, 159196.70146554554, 159056.9125951746, 159056.9125951746, 159196.70146554554, 153148.45780340876, 159196.70146554554, 159056.9125951746, 159056.9125951746, 159196.70146554554, 153148.45780340876, 153148.45780340876, 159196.70146554554, 159056.9125951746, 159056.9125951746, 159196.70146554554, 153148.45780340876, 153148.45780340876, 159196.70146554554, 159646.73900317893, 151203.11286388274, 151203.11286388274, 159646.73900317893, 159196.70146554554, 153148.45780340876, 153148.45780340876, 159196.70146554554, 136100.27235499586, 128119.49991551705, 268424.3107410463, 275405.45254498714, 139957.75131109255, 147132.79606941363, 237155.53013855757, 155667.60583286814, 111069.76228537766, 374435.8708140501, 94192.78292441531, 91684.24525779067, 185636.4595413986, 186320.95423580188, 156785.88590358073, 280459.5076976769, 150188.2344406463, 96272.10072259231, 113200.42567299206, 179777.2025437557, 167776.33412838672, 124597.12980240316, 123696.44367646343, 306137.94403438363, 172230.48427897342, 156580.01651528088, 218832.22761753472, 242054.08202751784, 156580.01651528088, 151685.073986303, 156929.10382840474, 140018.1138098008, 133141.18892885625, 163132.4074768219, 163132.4074768219, 186139.17003688467, 79852.27958255137, 194393.4749809589, 116011.0945216142, 1424183.7090768071, 88793.60910725495, 280610.54625452776, 138362.6694397013, 104007.51123864879, 243340.51637874896, 139087.64522159233, 145985.91002900578, 199186.78762877436, 134704.5218275897, 156144.54865813395, 313641.25397253525, 209732.43658262293, 175155.46888047035, 115547.7802071517, 119518.82044672589, 193067.8892173243, 212248.07708289134, 397232.1187635334, 263008.3778681826, 341530.9510185098, 306482.18688935763, 167237.3920483478, 184170.55291770792, 409233.44366719096, 398793.8532198329, 451469.89307253266, 384058.65961720486, 408874.353257874, 194741.60234310312, 483546.7991091442, 89147.17032628784, 205163.15111911704, 163848.83076666956, 294130.07441681507, 216933.36748148862, 287125.8338558911, 160631.388711437, 158529.0140963037, 166023.08922457875, 248878.71561177436, 177029.3484623019, 130418.87935702692, 130418.87935702692, 130418.87935702692, 130418.87935702692, 130418.87935702692, 130418.87935702692, 494910.82280257926, 166171.86426389232, 186170.46937422917, 202516.58789672802, 199541.18297410914, 153881.74303251988, 148258.24543753953, 147571.78806539843, 253211.9872084836, 179570.39685091696, 160631.388711437, 191479.23171753332, 258687.5690449326, 576635.3300840307, 97442.06105541022, 423262.03149904555, 238249.6447092348, 184387.30042566606, 172358.73325851682, 257435.4197086356, 81629.65752273786, 185702.26765483638, 141610.31491422837, 188634.39080990257, 1733477.9264055185, 183475.25751377398, 254502.73137881767, 113033.94864387251, 265819.944085837, 212279.80746139458, 166025.83109709652, 146852.02969026187, 214923.90382849914, 116147.73987073242, 140940.31996919547, 209085.43585605363, 167688.40292538278, 144939.62216549457, 67933.96080568434, 236020.68661725466, 69290.86892941079, 120580.75051779744, 104200.42047404287, 101683.92307359944, 228331.37758130406, 228331.37758130406, 208426.1951628615, 84869.06439125443, 178217.1525249579, 239315.9910281969, 152265.85321036773, 130904.9230950739, 121047.83309006169, 152265.85321036773, 156337.39895875932, 152265.85321036773, 153227.18990928604, 172039.44011294353, 172039.44011294353, 151423.65444223967, 81500.31196312589, 159459.23612587253, 219568.681078098, 219711.76959094944, 219568.681078098, 192878.05091418812, 90488.7266535821, 127843.11889057225, 117943.95334704079, 97854.50329609012, 178141.20596077383, 172107.26110913578, 224435.51711930434, 190998.595029208, 285318.3824853889, 264449.24048738624, 217724.10324107515, 188648.7462243526, 131079.28612790382, 115981.03603022298, 129905.27153460238, 345671.6279330797, 204551.36554338623, 169420.26647810446, 197795.218420488, 237746.49445944032, 313955.05883669324, 306031.3153732621, 130453.15930125408, 127671.2414830544, 230672.64953257988, 110182.38307750589, 251346.42099455046, 149378.9143972047, 155779.43422170795, 149378.9143972047, 130453.15930125408, 224435.51711930434, 241618.43911196786, 123709.50375775697, 93955.32160035553, 118810.65032710435, 242731.74329710356, 127671.2414830544, 168302.3350965162, 134859.06124149493, 171117.1527466077, 173764.7853680061, 155779.43422170795, 489298.9404545885, 99834.23866109063, 138686.9979484097, 168298.89398953813, 123469.98350044059, 111251.26476382482, 224900.73851731815, 147603.07725133057, 149378.9143972047, 130453.15930125408, 127671.2414830544, 160991.9955954123, 286165.2737419756, 155779.43422170795, 149378.9143972047, 235648.27173814192, 127671.2414830544, 155779.43422170795, 417806.7681081087, 149378.9143972047, 130453.15930125408, 127671.2414830544, 158305.42744288594, 245500.94468691282, 358864.1085641527, 149378.9143972047, 116824.0553757709, 127671.2414830544, 130453.15930125408, 149378.9143972047, 145995.08486626632, 265204.1609504578, 293679.91479179845, 162109.67530588925, 355591.99344280607, 596767.5364335792, 178502.71487778268, 281004.7031024153, 163361.1902085018, 205774.3749418428, 123513.24520719312, 158995.2000856821, 214233.83531353078, 148003.93990343795, 107168.70414908096, 240172.19691002448, 163653.25682723869, 270946.0163884148, 304979.5226635521, 124552.435659638, 155550.25994555085, 436443.79963127425, 99509.46530249833, 156486.64168869366, 231640.2993183135, 193030.46729069177, 140035.0164507211, 521537.58551200747, 521537.58551200747, 521537.58551200747, 76112.00390314237, 80643.13065588009, 141565.35994792695, 102885.39123542246, 148498.26239605556, 171454.88677651325, 170037.9190220839, 95429.31476698472, 189522.502746078, 139507.51897066593, 284545.8171753256, 167144.0881717226, 200263.79796440844, 153148.45780340876, 164328.91774023653, 99555.45342901484, 207025.52424453676, 290369.8015871044, 207524.54745242166, 285130.5553892769, 133252.25085277142, 85698.30621143355, 251018.78802660113, 125712.9640426075, 124386.10841134992, 177632.8687666124, 290425.50423101697, 1004912.1201335051, 1004912.1201335051, 169174.569161635, 227511.63895164395, 135486.99201527418, 223444.4517891235, 126355.58151837494, 205873.13891721267, 277201.4071168641, 289264.5797775575, 210189.1675975356, 364238.5309230678, 280146.00702996674, 404073.26394295663, 281255.7952935124, 457274.6528606496, 269008.46132531966, 289855.0433553374, 283205.2176393267, 219725.12635626525, 252740.9871573184, 240894.82612362516, 232203.39307147422, 159537.49555097232, 531178.3005965408, 162039.8667321198, 659325.9989734757, 90322.3146904833, 160315.62402145128, 165996.1062378453, 121294.80998087989, 102236.41255215429, 110414.0541036165, 199418.324934209, 221357.4739245192, 124957.94605265252, 136149.8904936713, 291019.8211228401, 140787.7913286997, 218363.54982795118, 336507.7457550777, 344123.07657763653, 230628.2291352442, 139887.52389670096, 178670.08465120598, 168568.3378612086, 270837.49555912317, 156297.979977514, 143727.93433545032, 208410.50708875616, 110406.50532510673, 88220.64337789474, 105689.29655575854, 247705.81453129288, 229846.02701007476, 136880.38627140792, 142665.0544345627, 136602.25704048423, 156272.16934567, 142665.0544345627, 102352.93773189033, 207951.74590210617, 148497.52946314114, 1174679.6033473695, 101297.91530968228, 188403.3834525284, 441342.65852553205, 208489.79882339822, 424781.7187872128, 238964.28918385154, 351265.7122920168, 393017.5269102914, 182224.2763288485, 286813.7948368129, 209730.8395647161, 665943.1635712512, 285874.00014102866, 153493.912841388, 456099.3219438701, 227467.98375343875, 155400.96178850197, 162782.18755400548, 154237.1459898986, 179351.99788839652, 85005.0150060001, 647335.4542510312, 429195.7965569585, 150811.42245141402, 230134.10844664954, 137354.98987047575, 128134.68891491125, 140566.9597188726, 286884.32143131545, 2338315.4334377367, 158771.91644552804, 368065.7869415077, 328715.0766610133, 160588.24173271135, 172525.50895336832, 205923.21216618083, 122567.4345555217, 77420.15630212925, 109839.80507182458, 109839.80507182458, 104621.15344758189, 231243.1382654166, 136672.88216301103, 78259.41322373958, 103938.87873550381, 232485.27415568725, 354488.42075376475, 206135.175492529, 102962.78501998053, 332907.7714444186, 105517.7778418181, 123193.56052095754, 263472.1984928102, 212085.83190833117, 172096.72600460818, 155389.7077638615, 288180.3323154355, 110911.39912759424, 231786.30184244196, 211788.6421970836, 163549.53874047796, 88907.80143310667, 145791.42001373976, 132654.68226050556, 184892.45922994724, 189468.6797500852, 211800.91726870477, 125111.73678121415, 266721.58926974924, 169806.66308860108, 361007.17794388114, 188304.18384206644, 143581.62116241315, 104266.9776320141, 371209.0445717162, 93258.05178612395, 297314.63864547334, 238289.9225346666, 137651.71593968215, 487115.00721025193, 181031.3095359191, 312578.2405650146, 86942.55468610249, 228450.00971730557, 305997.27740955993, 329471.0804595583, 237646.1793998918, 227322.50923623072, 92331.07005428843, 117142.62473177479, 143252.28130521512, 327250.80004008, 129545.9756684821, 461484.03749955073, 153739.55762990765, 131295.85115869538, 175120.02695306245, 110445.7017596187, 133268.76284908853, 158086.458993808, 253405.99185712542, 136729.08598807137, 276952.5274064409, 281371.38617729204, 306139.33933490166, 216687.81727094736, 110462.88917065918, 170731.9864342967, 468041.35566889535, 196263.0740143851, 178955.97996459052, 179973.36403881887, 133641.18780963004, 131711.11825989812, 198797.62699898807, 80738.75346526582, 115642.34413756599, 181746.2155929887, 133345.40383613278, 412444.7217358231, 215096.22446152486, 306656.95810482965, 131099.1774040573, 131099.1774040573, 133457.7635218971, 159310.6512163626, 131327.0549332481, 130723.83278241352, 123494.4300744105, 131099.1774040573, 131099.1774040573, 131099.1774040573, 131099.1774040573, 131099.1774040573, 133457.7635218971, 159310.6512163626, 131327.0549332481, 130723.83278241352, 123494.4300744105, 140373.9938897972, 176616.2938743913, 185989.36029187814, 135405.58261579997, 185989.36029187814, 185989.36029187814, 185989.36029187814, 199917.7206674484, 179419.80061225934, 177792.12540544037, 177790.89559005477, 179706.79968877503, 212947.95124059336, 280949.80646324897, 150477.2866651026, 288323.07494679664, 376846.45451767475, 279180.63735407265, 160554.11401182527, 221441.9827800689, 297834.1099395159, 1056420.8948550583, 1233822.139665561, 1233822.139665561, 1057254.3756907561, 1057254.3756907561, 1071387.4211512425, 1071387.4211512425, 1071387.4211512425, 1071387.4211512425, 1056420.8948550583, 1057254.3756907561, 1056420.8948550583, 802112.4043038458, 802112.4043038458, 1057254.3756907561, 1057254.3756907561, 1057254.3756907561, 1057254.3756907561, 151191.93678135987, 80892.27231130481, 198171.30065042205, 163155.66191910865, 130893.17113478888, 294189.4469155903, 420683.91539495735, 187424.09851444472, 223515.3624174001, 687267.6796649954, 193518.18333907428, 148389.97444605475, 212424.94917414195, 630523.9847063478, 179784.17304241488, 465797.1395472707, 256601.5177222864, 373275.54103161057, 710218.1065555561, 339299.21137759904, 317662.41766234656, 3070995.8264541463, 183447.31483634174, 178125.23465262604, 178125.23465262604, 106371.24154056689, 182816.4690939571, 133893.275291536, 191994.42410415784, 191994.42410415784, 138243.05014914784, 88307.5696067557, 240255.46986029486, 808982.3777845692, 455455.0126528953, 277434.35344973777, 201870.89335688113, 147327.61879919074, 180187.57929080172, 269155.68824315816, 136613.99383947288, 374148.18660971354, 235637.9938399765, 127320.50419123702, 84442.09309106471, 73348.81783878594, 153003.90007009736, 312227.9249111659, 487225.0423670751, 335076.1632556149, 339984.4180839339, 187165.9247622994, 212289.84854587415, 184157.86088465352, 129726.87090646304, 165925.0567513505, 143260.95727623513, 200527.63199310156, 298333.7572221718, 97621.7481030457, 106514.09406389458, 172047.77336735546, 161036.1396280641, 208786.0814781433, 582612.0059800793, 265875.5667127112, 173253.5698740437, 352544.99778964836, 257173.45766352274, 224886.3935510346, 89031.01749926445, 124982.78501738692, 178346.47948779078, 113559.06480817264, 159173.5457076034, 130592.09202615959, 215797.82327082052, 112744.7994309074, 535704.2897588883, 309593.47075567173, 242929.64586272324, 388305.58572358446, 436629.88274279865, 163565.97512314914, 227904.2647732761, 171968.58132236588, 90909.56263315154, 132531.46122516732, 246482.61655300448, 195401.83415970803, 205582.76683046314, 180929.75400688918, 408737.3490356905, 211671.02697129617, 204493.68375563045, 231194.1463588767, 482667.1222558579, 338870.3958360191, 118645.80933356525, 460440.5927230755, 193860.5949395961, 487899.2927268325, 158271.9015856176, 460274.05881135986, 117349.3991092918, 132156.95923392044, 176853.38629669382, 420786.77254295273, 180620.8734545081, 308959.44234875345, 201817.24930625482, 135054.02178415778, 230122.73172161783, 454426.83354943106, 221590.85417453432, 157958.73876301735, 110217.30668700958, 160341.3236791786, 187638.7811615255, 155898.82797794393, 230679.58855049295, 145954.632067511, 188276.82894131943, 312788.3129972328, 147599.5844954073, 285217.7788891197, 165719.7531613634, 306301.9097162365, 220913.01940617288, 155174.81133302674, 151588.14739969687, 153462.33397447504, 122409.65659446987, 240274.32127639526, 213409.62741820462, 132451.47017523748, 147214.19482942458, 145063.5014428767, 94505.48735261823, 145432.04601703963, 144048.53750116515, 345460.98729053425, 168868.69374037144, 154304.09550606212, 254910.7551963418, 190671.65016747382, 145316.27938237248, 146615.21123961709, 146615.21123961709, 142693.23190397798, 82070.69374431665, 391162.75687497674, 131398.97344474218, 133023.25878361549, 163224.8950284887, 237133.64770081505, 181652.25017444472, 134638.22547197697, 82035.38252081808, 105888.0934349306, 86382.41202802071, 164657.6224594996, 210826.1939248601, 254834.91633917307, 185324.33290230326, 117582.29608245079, 1017288.6158067583, 267151.5808788147, 252870.00393144428, 209254.29929137666, 145458.2407481468, 302718.7927969699, 436629.11784472, 447647.76826261246, 135368.9505907031, 319143.03179985133, 145271.16721561758, 205539.66085771413, 555207.5596301836, 231361.3050689854, 189687.23840429977, 162751.87556154345, 201251.3410461126, 84991.96595506421, 138897.68850161557, 145787.2573914309, 198507.24274592334, 243544.91414305707, 123784.43664841205, 340436.567671226, 138920.69697063256, 117356.72585635175, 154729.55396051513, 1391037.9788623222, 162076.96265600936, 121471.34517502449, 1208911.7511948282, 290252.7637957142, 106805.20585443059, 246090.29468736623, 96005.1191684647, 79640.8826746849, 100058.28474255081, 88047.04962879457, 225839.55663840217, 227064.0893438227, 154905.133795852, 146447.01247332979, 142981.9527591918, 165084.0782385547, 167809.2208115447, 142932.56971254063, 127341.40829151896, 203743.3676942783, 371377.27444937074, 140145.0678835296, 246727.19615325425, 77650.9900245991, 110022.4910704959, 159722.08484998223, 179585.65636590286, 612880.7161309739, 464720.2634385536, 225673.45745125692, 258135.4187580776, 478438.5792280413, 90944.7568234952, 182256.43381939293, 91582.77819051458, 434075.2959338833, 105857.86658282239, 216207.4342889145, 184899.7943718216, 460750.9834579795, 94163.91345865146, 251709.1138970621, 243126.9385102939, 96186.43256046165, 126386.13993513217, 258675.80814220922, 644463.6411888745, 200976.86105772358, 1097996.903508501, 1097996.903508501, 799728.0396617621, 799728.0396617621, 1053640.948277567, 1053640.948277567, 1053640.948277567, 1053640.948277567, 1234295.912086473, 1234295.912086473, 183182.9785253256, 139117.04624678136, 151938.38246289454, 165520.1946025186, 172576.91600531634, 167322.67544177562, 202609.66388096983, 420351.88173706236, 190720.81572511027, 181720.7788026601, 197813.73732538166, 480628.19586565904, 309917.9299684407, 189874.00747590227, 205434.99212681167, 129457.6941871144, 151400.2138136819, 245057.68787559704, 134885.13229825156, 115480.24684481822, 116629.82845096831, 116629.82845096831, 116629.82845096831, 159056.70499289656, 174430.37717423812, 352781.0564735389, 126197.60591858393, 237019.0275113324, 197775.1759103386, 190720.81572511027, 183182.9785253256, 141492.34554086687, 131749.93404886522, 166486.95268256313, 130375.5735430435, 119816.88516048928, 175780.04684059316, 228219.74563664888, 284510.63157668465, 209342.78232605316, 153597.19930455508, 664515.0256317934, 239192.77236932944, 158945.98444978968, 201965.4714616214, 93059.7694036244, 146328.7840607015, 130467.10756865221, 86010.06830983442, 173180.8010511903, 243595.0619892627, 335827.5871910886, 163670.47319844496, 152599.04456868817, 827352.2017535785, 180064.56171413756, 131616.43771457297, 300093.0888735007, 524505.0752134991, 160591.7048414356, 212094.66750811695, 499185.40515266266, 150396.9895129265, 456768.7783180239, 128766.1348427207, 96605.46551032466, 250676.01768130783, 288720.9581724291, 130224.1219490729, 135824.79912365932, 226304.25068887172, 269300.1232186928, 183991.89179188502, 308039.7474489205, 257226.55803759902, 123783.77832963775, 117121.01307940454, 136037.88671024438, 202388.19451947542, 116074.74197473476, 300407.00894055946, 295788.50516956626, 207424.71410388133, 296293.4276819282, 209087.5955846957, 273671.1772710792, 111675.76622806519, 110912.19186965462, 254461.8904030168, 864648.0116246523, 112145.44417636436, 96293.79559144063, 137827.39728531853, 102911.64115160798, 100791.72367836226, 164069.17272046057, 181099.06800196826, 247752.86561238635, 154841.35001979803, 254027.52572457033, 222123.91781147316, 101878.6357105865, 188486.36001007757, 402259.8631502557, 89447.39058424428, 157498.1205066344, 151230.139859975, 87015.20888792908, 89447.39058424428, 236590.99619643405, 267003.02255426906, 308246.98333543894, 171146.69045267842, 165625.06071092072, 89447.39058424428, 139206.36765116002, 97332.28746190573, 74563.43965898854, 87099.24283919555, 177250.79295704307, 116309.60207312118, 300597.95018477715, 86596.85554043243, 170522.7562899843, 165486.21782288633, 374537.63391223096, 272226.66844034253, 398808.45366658823, 89447.39058424428, 89447.39058424428, 81982.5306064418, 87082.18530907252, 296893.2655371865, 154847.47289718245, 308153.0431521221, 139767.2283581033, 87373.74700071647, 74762.05701203391, 183796.71857785076, 98571.4116326254, 74762.05701203391, 132309.35210133117, 84475.88894416345, 226007.04429990827, 112691.85191634239, 134318.42990921796, 173429.78441222935, 178374.0713378824, 180023.0587335874, 90373.30576111122, 115225.8538192332, 123575.68035059224, 395878.62437862594, 192060.05129293975, 101878.6357105865, 101878.6357105865, 76149.95253831169, 98483.50010656414, 121647.87975737243, 101878.6357105865, 149808.92639576405, 167870.47701519332, 101878.6357105865, 101878.6357105865, 101878.6357105865, 157030.9911509619, 105306.60555494725, 131877.84338351557, 134525.46369777, 113768.52082962052, 149645.5800635345, 120347.43647082093, 101878.6357105865, 247259.95943108492, 156628.28957216212, 75675.0965187055, 108943.927727925, 168013.48787915005, 90373.30576111122, 123850.20559974088, 129553.75200956572, 122072.70500352196, 113689.9965352106, 139944.9910560025, 182295.8833088137, 156050.92700496828, 163512.55975149487, 188242.17993012216, 340477.52300922363, 163079.874606091, 93848.82247818238, 75689.790615691, 75689.790615691, 250864.3279645349, 119784.42200816084, 475351.9008394693, 101878.6357105865, 230355.9947484167, 101878.6357105865, 101878.6357105865, 101878.6357105865, 101878.6357105865, 87968.0012029485, 133858.3575570373, 208856.2552678232, 88304.8257908607, 271227.98988240876, 588351.9746709932, 92315.60132552194, 87011.01286720757, 92315.60132552194, 92315.60132552194, 92315.60132552194, 101878.6357105865, 101878.6357105865, 101878.6357105865, 101671.606875025, 87011.01286720757, 208856.2552678232, 183616.12991810622, 87082.18530907252, 298800.6129054343, 148042.33644702318, 283021.8724293135, 110010.3625749439, 158930.94475216675, 329332.5406772066, 85919.12211443276, 139206.36765116002, 304473.52557280293, 412289.3195935757, 87015.20888792908, 149702.2584563676, 121701.87913240607, 88304.8257908607, 249154.73114480978, 96140.19136326978, 393167.93880806846, 127983.13268311696, 164184.81241058602, 99294.69874072647, 135492.72611832942, 99529.05790509342, 175225.53169150572, 187350.71525796872, 101878.6357105865, 150318.52814085127, 111419.97507206988, 124747.49689223946, 454158.43596374756, 141416.28824457363, 282643.98230186995, 112774.58018908119, 106077.33293312624, 158158.59643421572, 99518.5911550289, 104284.76640010245, 175616.24035152618, 326711.0818945561, 77312.38232645547, 157615.7108681217, 147085.05648943115, 282666.6816458074, 191625.58528751403, 116309.60207312118, 108943.927727925, 108657.09842367885, 201561.13210283782, 147085.05648943115, 101671.606875025, 243568.91064306418, 145362.6938694866, 280783.0049153859, 140651.31462657568, 181768.23271028948, 101878.6357105865, 96714.61042914688, 90373.30576111122, 90373.30576111122, 121647.87975737243, 121647.87975737243, 118634.35385834101, 103129.7146384803, 101671.606875025, 588351.9746709932, 172608.85056496208, 159599.76179723517, 75810.22063388256, 103957.48708190935, 103957.48708190935, 100461.02225405889, 249325.18557257272, 103111.25273060007, 107846.31815464477, 164186.23339245346, 116954.58262487578, 136804.5421667217, 194352.77623448585, 127665.61020762555, 180031.32789517386, 154964.482219566, 155721.4206160373, 190071.04470769077, 296970.40750938584, 377332.5598842341, 107408.97148149315, 104954.84538368562, 87432.72363378717, 150829.81605285063, 117917.08069622198, 117917.08069622198, 180218.119047188, 151228.7799155462, 114556.21014475155, 164136.03589793915, 87787.06501435471, 193712.35665156995, 83308.25374700672, 124793.94042890675, 113400.60423946231, 86979.03775731672, 86979.03775731672, 236284.8888422925, 236284.8888422925, 245200.38208943442, 245200.38208943442, 156971.87357971427, 84007.44918224128, 87787.06501435471, 86847.21347637183, 237999.06926971633, 154850.97355914183, 241574.87117840187, 144176.8742521905, 229330.0038579056, 126831.46082991463, 427083.3523464849, 197985.89272426817, 319720.2300919436, 125856.39126604059, 124727.77404769533, 124727.77404769533, 121647.87975737243, 156358.70967603527, 475868.4257498766, 149413.35804668462, 172190.05246337564, 130163.22754199128, 124727.77404769533, 152222.4250163639, 237049.8881393406, 147141.25244680565, 168503.14464299538, 95905.219243475, 233153.51144093278, 160152.52954369545, 171858.8168046134, 88018.01562834655, 87408.82240761496, 113208.80568559085, 142756.89416437963, 247547.34443279778, 157306.1152915904, 176133.4181425136, 86362.65640781587, 177112.64178236588, 1566612.332954295, 512904.5245400361, 480253.4481451913, 413688.2316316942, 208156.2640395014, 915376.0407741672, 263807.62795509933, 277188.803102538, 226726.25815568594, 122351.39497085492, 238496.9078320962, 220890.10508172744, 360409.57685468905, 241110.61791760774, 357746.58838783635, 154172.0366902288, 499043.2732939598, 3063301.5196746616, 206863.45324307895, 418495.31516013714, 343885.4934853055, 133842.57312809114, 199919.6672149496, 126176.6463925302, 139508.57894912374, 175393.3118911293, 295221.43497993745, 123061.59249703311, 221157.15035698135, 221380.6518919948, 712491.5157496348, 180756.32190604045, 232441.59681606136, 439192.95623885875, 258405.16290173575, 365955.0006503868, 343885.4934853055, 221310.40158156608, 1031259.2003839139, 265059.23921820347, 170787.05375386268, 168478.26242797886, 438844.05170483846, 155071.84575031576, 125662.81638228313, 570701.1435231251, 130178.30069422301, 696368.6570132974, 142920.7401301516, 142920.7401301516, 316873.89782609174, 497727.9641393767, 222194.61556333298, 131091.742112723, 130216.48902087103, 217258.99347012545, 175700.1098993844, 136251.40188173426, 450183.6535582456, 254123.0426449307, 322525.9839780077, 197025.73008838855, 103568.71395754661, 302642.1737871513, 242950.19455590445, 565180.3906391647, 188812.93182359394, 183599.32475740707, 173724.29773653796, 133087.23924007997, 173017.41021454672, 123774.37925517187, 259922.35039805924, 87355.63568578163, 128240.98105634056, 226400.78285642914, 311260.22094181256, 166988.27988491082, 312573.24717516644, 145196.41914601796, 192568.686402815, 124542.2046266802, 537247.1859675937, 205554.8220320109, 142646.63314724623, 93168.05393008253, 103610.7962653278, 140823.6384928519, 200328.24964773582, 241283.47818676638, 135533.68268272068, 186845.69242073677, 160201.85471101696, 137996.86190272242, 809096.7242536884, 763987.5930529614, 165353.86188733994, 248746.1807311794, 159293.49867762323, 164111.04914990222, 163026.87869491123, 81819.44396926094, 140274.27298004302, 304731.8834829937, 190083.50316285953, 219927.51740182072, 618987.1695974726, 145242.34897785485, 213191.73320682172, 205481.97121920384, 114932.05634775182, 175840.73537019233, 126701.50529782497, 159448.62109935458, 168438.51235585244, 163151.37028224248, 264994.8934932998, 125564.07188936381, 187044.0347881267, 117127.47239755644, 211602.50751775337, 859223.764092266, 400995.5018790763, 170787.8273134629, 342332.2665480755, 121863.09338860356, 255360.44686809042, 98137.75591638146, 105958.05112126056, 102208.50644954096, 637377.8717779489, 136717.80417512378, 224055.7162652946, 191209.09195733914, 1091651.4449593618, 230515.73298379724, 88166.72184607541, 183886.73369854892, 293961.20009425515, 191725.4088604119, 157081.6137124551, 86359.41498513498, 136864.88652561005, 279077.0968231872, 1040242.3360638424, 296236.9569154506, 585810.8597452238, 476889.25241771166, 199907.1479550642, 172478.67151036338, 167081.7609593545, 211233.84166773967, 183712.960165788, 421324.14844496903, 170928.48430849833, 354007.49058622, 129201.97115875944, 123556.1100856037, 146667.72182110537, 232277.20931068665, 102002.0185801652, 104907.64465391143, 112532.3501710186, 271928.4145701741, 133555.13268899967, 157579.3263504029, 173428.9478667625, 252301.0423995287, 1644421.3167590764, 197348.21985564852, 335242.7012901283, 310061.9970751998, 124479.08402130248, 219188.25664398677, 103408.89407921443, 74248.03677512934, 99038.73312588943, 87331.19643797088, 88301.12504519713, 159985.77220372413, 466170.78568048385, 122319.56145769937, 389087.624508528, 131607.5914254752, 302638.8497524988, 133844.59752882892, 257138.89763762854, 338966.2408716819, 284875.18590163294, 148904.62277001847, 284362.99883004394, 167308.29226577724, 125438.70930003759, 132923.37310855166, 84544.82829598502, 130865.61343471993, 312479.62801315065, 160141.3337350338, 160141.3337350338, 160141.3337350338, 178993.18653171597, 168325.74830859288, 202699.17708222862, 222767.09890123698, 154394.141675517, 148274.93824867814, 146244.91917339028, 207425.91021702858, 134664.3152377444, 134664.3152377444, 390603.7023577763, 152102.2046253652, 273155.39570852625, 238021.59367581294, 133589.45082893557, 197324.26895675252, 282499.5133431328, 300152.81505400385, 272013.14229647635, 117501.31668303144, 143476.37553007453, 196228.56764045972, 486905.97224380606, 125051.12755690819, 132079.9281561373, 132079.9281561373, 141720.9914322933, 151478.2472797763, 129408.21990512869, 177280.84619487726, 336612.58442997775, 239748.24760614373, 465368.5274194308, 197877.0602605203, 222750.49807839748, 220230.63634629338, 141977.48340094942, 241182.2568465976, 157798.3379882405, 200226.7522307235, 150623.3872960168, 152095.66529248309, 95957.39408291846, 136321.2484505776, 1025242.1732053716, 124819.96961977701, 147876.57018916207, 337972.2192896458, 88738.78032229644, 152229.27784402715, 129249.70220477061, 129031.40834893045, 488124.75528304966, 144007.56943296737, 389113.42368068354, 117100.8526133558, 117100.8526133558, 149347.82687651325, 229475.92107419262, 142855.93020216376, 239264.5681447777, 248151.39143127052, 147578.78423825296, 151920.15209767557, 151920.15209767557, 151920.15209767557, 147578.78423825296, 147578.78423825296, 147578.78423825296, 147578.78423825296, 147578.78423825296, 134880.69697889747, 134880.69697889747, 272673.9691608486, 213836.59486955198, 803547.9473901453, 171951.24496527834, 140432.83778738097, 144536.26761817493, 140432.83778738097, 139176.87753379255, 151490.94554613714, 145332.69307656892, 183524.81057325468, 140432.83778738097, 140432.83778738097, 213736.27556622383, 130004.77664792132, 339703.8302114574, 363720.3481603596, 310810.5055901834, 326911.39068433567, 116089.60451775677, 191270.04456290213, 165795.10577263217, 194306.01539341646, 196707.73172459402, 116995.5180931422, 139759.1568471749, 172924.90814959083, 172924.90814959083, 121810.61747996167, 313708.18573874614, 241523.34896845437, 258343.2450604377, 270365.01871944626, 299612.28381170775, 116346.24194368164, 270107.8355908924, 240600.3968028138, 227658.8154370726, 187049.59923919314, 301959.9627481519, 438973.56308282877, 167954.53350951875, 226510.28215891082, 204418.83907841696, 221811.11834683066, 549856.1697574268, 223242.90841430085, 95976.5636708363, 183345.60954624487, 222285.29744021638, 238937.59012506506, 328197.56443212106, 322251.0598256974, 146049.17444008132, 124747.935158235, 125839.54800869804, 227658.8154370726, 476874.98629705986, 261297.53528780368, 272433.8128681627, 200673.16663622233, 171847.01132229666, 110891.37033065004, 228387.3296172868, 135834.1736972378, 137379.28010314092, 137379.28010314092, 139650.8124097615, 153063.48060438083, 148966.09095296785, 189243.89061337482, 223699.14928052662, 210147.81071618575, 179639.2992938534, 394495.8799104983, 456383.1432833136, 170774.68716341545, 114093.50011237455, 238130.40925820774, 1153155.9717378118, 153164.41502330807, 745789.0605909305, 182323.7610740703, 77459.72084770563, 87623.92928229488, 155526.45976855568, 94705.10095727898, 109596.2046675959, 102721.20504426176, 368904.6480516728, 128335.247306204, 95146.5571230596, 213688.82456692966, 156435.94760626892, 122662.96371996932, 270202.19748080557, 119349.65645740315, 420076.20345914114, 119966.68118490544, 129483.39663968867, 120396.44315475339, 211771.0537489155, 102042.26568377863, 86607.81921839956, 262361.13594447257, 69442.73841123255, 88253.86332527654, 98459.13669487872, 231835.97626595828, 213397.61511190629, 451650.64953424566, 639069.869661667, 443521.60426181223, 179407.89673283746, 121295.51027888639, 169263.01917817554, 236631.68122274865, 369047.5471205029, 162488.00952163944, 208747.42901588944, 405475.4465959505, 405064.78242374456, 401205.8927573841, 405475.4465959505, 178725.83995049767, 173225.66589047137, 171607.76529212284, 535920.455847099, 129814.09887008551, 325284.49627026205, 138106.476684127, 113957.72596770356, 361719.7299854815, 108340.24720229067, 172924.90814959083, 172924.90814959083, 211213.56557655105, 212497.43494074015, 154980.93551487234, 198590.54556843775, 190381.7609732236, 224745.14693637588, 427298.97499442706, 241085.14715454372, 154811.58396228476, 265204.92978669, 160956.86743330653, 291462.101726718, 233197.08008977966, 1159828.7364561262, 185046.34846617343, 186017.5048774814, 141889.74457549298, 172039.81260757096, 126599.42550924208, 101369.27637415542, 128807.78235253981, 159520.19471257596, 192554.5592911297, 222741.26616197923, 167882.94052424346, 135927.29181796988, 150714.7095562429, 234700.94858568683, 178924.29630336282, 153337.6814862584, 77291.70110293638, 117586.35589499597, 97718.58227839017, 97718.58227839017, 211455.20240095077, 187378.38850010943, 119771.47589081629, 118649.73653336898, 199702.41477408836, 119227.9019910441, 135451.52714260356, 274694.8357232894, 274694.8357232894, 425392.38278838556, 159927.48292842947, 211079.51113298154, 190694.58755796388, 142378.14365951013, 112343.80890414416, 197249.50999007694, 226568.813771396, 118758.52428317194, 249399.5390418367, 155779.28734359445, 130212.76118288367, 207338.06245188275, 387458.7123853167, 208561.81974150563, 273447.4454015779, 132678.93319216112, 225143.01818090718, 159969.35911453582, 414803.53575442615, 245511.42745412298, 624687.8868426408, 207115.6961696603, 187303.6412892588, 526766.6641593556, 163944.88195537997, 297284.02837548667, 513725.34550041315, 516257.35253712046, 198180.68997223309, 182366.02761325857, 143680.06298250594, 150572.51204709595, 277484.3612380276, 391957.84672960895, 193422.90312097408, 240886.53702912325, 209962.02371188355, 132835.8667466507, 165992.49788728447, 177380.4664586289, 250449.71685109756, 545829.7665395455, 227957.98339704974, 227746.7502625284, 128090.32174709317, 919005.13684073, 767088.029981852, 215830.3249583316, 638147.3259140847, 191707.45751661298, 378623.296285892, 626719.0036188335, 480190.5056504996, 381532.7330968493, 170615.46497816325, 164169.56955342414, 75362.0309948495, 254360.5903472095, 229363.9428071479, 156006.94766678166, 87752.09971250991, 160420.85656578065, 149460.6210056366, 73828.34013207047, 170170.14740148542, 233273.7244178211, 242001.93335667902, 63257.5903099875, 119116.3304028718, 820969.3236542089, 138756.6892091441, 194905.30476534134, 93855.01872135224, 84839.77577807933, 94134.11725147757, 170390.88038850072, 167540.83300943006, 595750.3593082248, 96103.16371710165, 281425.8674414457, 129805.88348291532, 297197.3267527553, 179760.20342470225, 532214.6094136899, 450769.59607466677, 242058.3907188503, 90141.22453659092, 92360.3608730919, 226261.18872502373, 240713.63794224194, 143231.61294570236, 254801.34622860965, 281000.5344906019, 222676.30622913595, 152068.06617679386, 106762.82285449222, 145244.8549676639, 120413.76970025123, 76040.70532103011, 236535.7624463914, 174574.1569910548, 194864.03088767544, 463184.5792570761, 557530.305245592, 173062.97453522528, 121307.61498948975, 121307.61498948975, 121307.61498948975, 235456.90326793783, 173062.97453522528, 133486.27510538753, 121307.61498948975, 121307.61498948975, 121307.61498948975, 173062.97453522528, 99167.11513804225, 206428.0067549311, 292597.71127815626, 224947.63003867303, 222098.04136788173, 222098.04136788173, 232466.70479934535, 369274.027909792, 304060.65879494994, 244747.76697574632, 152792.09882727452, 147603.86618556635, 368987.20913684566, 348249.4559871887, 1024880.0741524608, 352688.68883832835, 345003.2189323409, 431217.4010081711, 127367.18354813315, 189755.8283876293, 616843.685888378, 218605.7786503583, 597256.8143055157, 139243.04181901697, 320118.80314262153, 181883.4350386089, 184306.53200340667, 338417.0092818003, 148529.44446502114, 152897.74850153588, 99435.92341070615, 173619.8066491692, 128243.08396518814, 1006515.3724904397, 247383.24178572823, 292179.40403838176, 117746.62648554148, 253392.83173269438, 143993.5965411446, 85581.77322923546, 210874.13783269917, 225372.22917855924, 131900.96871143093, 556848.5261112355, 179053.12693772736, 152212.29204864055, 341018.44775739394, 179517.4248330475, 130207.47185557932, 118752.01697915532, 76260.78038978552, 77202.24670164735, 221325.13358295703, 185833.02747598654, 199737.78665733937, 231220.63613034005, 191508.7447915665, 211968.3690520335, 171264.03931453807, 138504.9942770636, 202508.10149660148, 378120.3483801879, 173436.17500293785, 216726.99671300792, 124084.37484011546, 106292.41586975627, 191091.30632309345, 300412.128957537, 124062.90183808144, 173516.7760454321, 317814.0093104519, 132941.68289088056, 145857.25490855175, 188218.95335916444, 203880.05841455766, 89266.35217364664, 81555.88880879713, 317841.1428442031, 198898.46090585302, 322027.7240299039, 80701.01213990228, 88548.21986733453, 161951.30464321244, 134488.19282427468, 131607.38620693464, 123329.73060396442, 108567.25865424555, 482207.0638853224, 109021.62146075712, 127310.55225660745, 273089.14516047545, 95496.99056305039, 311421.45226111537, 246358.88770219425, 464032.79257571796, 163043.53566776786, 267800.4571573095, 98984.06982877932, 96748.16805233023, 101579.10029653941, 177454.49494359, 132485.45481240508, 216793.47785595705, 130761.24726300225, 133319.8343064534, 154503.49155617924, 408035.4889375888, 96915.88819721318, 251171.97016634318, 290578.37018849736, 270248.05077299196, 154461.23096034434, 232526.50134838824, 108982.61970718071, 159201.52092684578, 289459.3891979511, 300388.1165731669, 132866.32512182125, 230307.33826739065, 117367.44186768268, 206549.25046468334, 127188.63356470941, 165089.2256664842, 333506.1640165837, 165949.30750140315, 102276.60133965283, 102276.60133965283, 131919.764488207, 215378.1182185851, 732288.5324662345, 732288.5324662345, 1215231.6341902062, 114724.52632078246, 123635.61675257832, 120182.80743414037, 227828.3470619776, 225574.8200744328, 205790.4922605289, 205777.0581371474, 178725.90608167936, 349626.72047669324, 114618.56938726176, 140050.49689896777, 124832.54171590446, 623496.5768735792, 174570.54717099413, 462419.7972777863, 345218.8758607828, 208148.93672675168, 115206.22860730339, 114111.28149151825, 124306.18562741637, 126349.60188996985, 124306.18562741637, 124306.18562741637, 218265.32913260043, 565819.4346523649, 84679.41966567439, 269049.9380279419, 124533.77464837595, 124306.18562741637, 151399.48815568662, 103203.53020054751, 166402.46171853846, 212981.37997672227, 139009.13132753747, 113786.31774764089, 88834.58296870443, 166123.96379217014, 131489.62902378698, 132257.28288687897, 146149.64139403668, 201841.92514231394, 131732.0788609795, 189059.92425893963, 299966.760943847, 200104.37939169683, 93647.44748729988, 172410.03816316658, 368043.8581589285, 191686.7319224093, 194238.1152924872, 287494.16881593893, 155617.92393334006, 86791.52883786922, 519341.35877401073, 447846.8618066765, 467793.80470323504, 366961.832980788, 159920.4567571089, 165956.58334050397, 245896.09314340772, 119680.89302546205, 402367.92779223766, 222771.6470698152, 218807.77604716443, 111886.3322477682, 93887.0212733233, 124291.5418456848, 170185.60354577523, 93031.8870580516, 93887.0212733233, 147353.9401299376, 240787.90190306242, 119407.07556972906, 93887.0212733233, 242835.96017456215, 89493.69293748242, 89493.69293748242, 89493.69293748242, 183051.94797240203, 107978.69864191451, 112450.41255292567, 102691.82270652431, 340169.18204845994, 105287.8107950839, 190564.8147270091, 107714.88632657414, 137881.7257394577, 116888.15361988572, 212268.63048241223, 182200.467723269, 190287.5019190818, 148918.5755276437, 162192.55244429482, 182892.12048702367, 123326.40405196405, 242515.0022175389, 110301.3324783211, 121120.5555869939, 212277.12337915588, 393012.7848070751, 134283.1156446417, 296605.11251839675, 229512.00006913368, 230041.55064507038, 227344.85793792346, 173363.33145861936, 173363.33145861936, 173363.33145861936, 185755.44229042833, 185755.44229042833, 327198.8097266937, 163084.9903333822, 221718.93526110423, 104527.64793007278, 164654.25611021515, 553040.403159338, 162834.5642786072, 154829.50270686418, 100010.22017712133, 272771.3369147363, 126212.95071758918, 159953.90226026037, 76439.8705774453, 143647.58192704487, 151265.77787647405, 217324.37101470475, 228474.27286244626, 133673.31597522632, 384695.4544054849, 384695.4544054849, 419565.0191744336, 87164.42666126686, 194511.0413144814, 197284.2716725128, 224156.28546311834, 129041.18323306023, 291411.1730109265, 241298.7753235981, 154609.09029644917, 207314.15558948187, 197813.40504729707, 192983.01373286813, 186873.5368458569, 126743.09766899806, 182670.07060397047, 85833.98507073159, 180770.83574904, 145852.6479522431, 300440.6530804818, 133963.83779504424, 118420.23087187414, 202132.27050314948, 113901.0887637421, 110177.2291872121, 110230.82475554143, 136025.8655584535, 213440.8462581338, 422696.08291196264, 289864.791663324, 221006.81449418515, 108067.44253765463, 118978.54901538, 103605.26665586433, 103605.26665586433, 135390.94565478893, 407067.32338728674, 195673.08917680196, 327252.45671830804, 107347.65384291964, 271519.07299880346, 173240.64915458133, 73402.10790448496, 150015.01554466732, 114947.17298962046, 236900.83887409724, 172919.46266369452, 212013.98125541705, 123011.77338393012, 239654.64099841917, 728038.6126098917, 164714.11926605523, 102081.50310800441, 174209.58935182015, 191573.00076522055, 135352.9614817205, 236335.88430842644, 100799.03768424869, 127471.17062325249, 131249.6021917465, 186965.4153398767, 120272.15376442742, 109038.28838166787, 120000.07845383296, 515057.8206834752, 155293.0209869616, 305404.2545048993, 137297.03030930372, 134478.4572002189, 156285.75235185275, 173840.59138360288, 103435.23044500028, 214230.0890319813, 225480.53879975644, 91662.38976976335, 110327.57031126683, 183058.0147262549, 97048.75287322138, 388885.47726261965, 166086.7102611236, 277408.31746147445, 215400.43909734872, 222922.706218399, 512217.60283496487, 139840.93384244485, 1054266.3139459584, 218784.08751774539, 90414.15044169196, 259056.5612832729, 402613.35426193255, 282930.67213934776, 81992.86409811188, 121104.89811907361, 120069.14789102694, 121104.89811907361, 174314.04996082376, 121104.89811907361, 167550.00544319482, 127364.37116413255, 123927.60544038714, 123927.60544038714, 191533.43163080164, 151750.18835940294, 151750.18835940294, 151750.18835940294, 258273.46649647492, 294958.7755094583, 160409.80850622195, 173394.18060862442, 90616.85676198895, 273239.68945289456, 234638.89313972922, 136212.90351016793, 147384.21772141068, 630578.3581757864, 126876.30133936109, 164596.12680941026, 308199.5296433699, 99691.49925197773, 137419.17077730526, 158042.4102837165, 310861.1421510711, 145702.16596750217, 590191.0088753657, 144947.43384074006, 117973.64684292096, 308300.99435295456, 364172.3328791906, 189542.89540986787, 164365.76008152965, 1025278.0300977686, 115590.22208613997, 133339.60658137148, 186373.5527836947, 196944.3366374831, 211742.43151231285, 152541.77524286878, 197025.47341705757, 385171.36408408405, 245445.55910687818, 121098.67802396203, 223758.03944571837, 186786.5428220884, 151917.84687723895, 166424.1673323783, 384073.80966783647, 193765.19529186926, 127094.16523059852, 184442.26328682713, 236101.93417267854, 250649.24819409533, 138870.3530356256, 113409.85542874521, 100629.7777731134, 134101.77332326787, 173926.095556486, 588781.620335067, 278007.100975907, 234090.33111099878, 290338.11367629183, 102621.8303226761, 550348.5062331565, 177299.95982682903, 126604.39112396761, 142317.49189980462, 285444.0976117228, 248281.68300416908, 98974.47637082428, 130808.8838524975, 904427.8336552683, 186563.13983644452, 313331.0209388777, 111576.42742584893, 324905.2344123128, 140390.12833726214, 423273.4443652646, 757546.0198640773, 114210.3710965925, 216391.21869153957, 179518.20101554508, 173633.24745882966, 191150.33589768846, 132843.19899734866, 132843.19899734866, 177873.13802889138, 132843.19899734866, 132843.19899734866, 177873.13802889138, 132843.19899734866, 132843.19899734866, 132843.19899734866, 132843.19899734866, 177873.13802889138, 132843.19899734866, 177873.13802889138, 132843.19899734866, 132843.19899734866, 177873.13802889138, 116938.84363612952, 177873.13802889138, 132843.19899734866, 132843.19899734866, 132843.19899734866, 177873.13802889138, 132843.19899734866, 132843.19899734866, 132843.19899734866, 132843.19899734866, 178570.4563600664, 177873.13802889138, 177873.13802889138, 177873.13802889138, 177873.13802889138, 177873.13802889138, 264609.9885806205, 111352.16818000944, 98581.45382197307, 239194.10101952858, 154309.7164080875, 77621.8495964046, 238489.23660079518, 570187.2627085736, 122208.63210260644, 133847.61114602757, 285147.6024494978, 130050.27074569634, 149063.49292656514, 155849.7788592994, 278571.73524912336, 127003.38233149915, 290898.9708941101, 304345.81631468196, 292405.3904257367, 347747.99011748185, 92341.21967182227, 239705.26684650913, 381511.19732372207, 157105.84381010671, 445998.726796794, 267201.32060726493, 248655.01702108252, 122032.9825250744, 187302.83045430123, 182053.63066605403, 1020686.7684239687, 159198.13924400607, 573829.7531376354, 208501.3542858078, 222718.9540979012, 329634.5495311245, 482997.83209551586, 137258.45018776754, 137258.45018776754, 137258.45018776754, 137258.45018776754, 420383.5718974259, 243029.7837094806, 354663.438293244, 166202.32686142845, 100195.96866611314, 188886.70752180912, 263328.81002220546, 160004.36231042902, 130327.96722884715, 157607.28631603613, 151122.9703868865, 119973.72990549913, 174941.85690439894, 230018.7466600738, 226232.15309127606, 286929.93819457653, 230018.7466600738, 174941.85690439894, 276706.2527010208, 118266.48619384693, 233954.94693545316, 617280.0538142612, 230486.9703135611, 93457.13111400098, 276091.69013094396, 148878.49810828696, 262766.3536848607, 294710.2468340292, 144067.91177578404, 746724.9789560911, 320099.7282736925, 124711.12307753736, 168727.80969387654, 137465.938738227, 130955.26140547401, 125927.53161597402, 125927.53161597402, 111442.81549582792, 111442.81549582792, 125927.53161597402, 124711.12307753736, 241537.7583167771, 244484.86567527382, 151254.99393343832, 149466.13052463162, 171186.18566340106, 118046.4486515518, 118149.0785865675, 131971.8661457268, 118149.0785865675, 118046.4486515518, 216134.75949199218, 124711.12307753736, 191977.65242049797, 184349.5969527193, 263151.06729935494, 160939.5420316856, 226901.66433029104, 131011.48236510657, 131625.74495675007, 149466.13052463162, 243687.21505867294, 132565.76270700846, 279624.44456227357, 160167.11378047362, 750824.1535624638, 750824.1535624638, 275131.6896593329, 220040.20906928604, 119574.76404371894, 152514.5507465911, 341536.724147784, 165346.87438029272, 156877.31786643068, 224894.33622850588, 175532.84039902, 133988.88880465506, 137117.1126201073, 134578.47619981156, 128263.97361442252, 119620.86908364717, 117329.15697607685, 145546.43839945405, 126052.12954352517, 145686.45278563493, 125275.88647215492, 648273.4873092417, 257589.39621312259, 510971.8369531308, 746724.9789560911, 212978.2533461582, 230483.10430236917, 160280.72306949476, 124558.89238686995, 153882.90704836106, 93946.94641031722, 137463.2181124965, 136172.81053959197, 160367.26875640696, 221839.92520126532, 117752.82133133084, 102603.97470022376, 106604.76153062518, 121108.84588907954, 175385.12858971572, 114960.96919440743, 162612.47399651428, 374201.6867577075, 519493.28946582135, 109643.54384098982, 96572.24678589388, 201235.80660216953, 70532.95046310591, 102274.77331701666, 636116.5569839485, 118678.12259148841, 316777.93365794653, 180042.46283825336, 141022.01483858124, 121027.86041221725, 248298.0242355492, 214102.49445398597, 116862.573330252, 322339.15504692076, 151161.04111593554, 283775.2602935694, 333647.82445414696, 724757.7776869513, 116969.72998490151, 123716.40456864116, 158381.35641804012, 122056.52614738666, 123926.37052162045, 240248.58892868727, 244674.37801103122, 241068.7872383455, 156380.72237865248, 117872.3920503687, 241406.37590892566, 109815.31450583745, 193193.59918749653, 311165.95275406603, 82355.80708941286, 94270.73834217958, 97558.12073459428, 188285.06788277967, 336787.7905239243, 264545.80572112405, 264545.80572112405, 206681.65577354637, 213540.31530789784, 1096443.9365151615, 997936.0024253797, 118347.85400099437, 170809.54030037098, 304039.2475162203, 165542.36261617683, 184219.6513945555, 988349.9067818276, 213901.04489487884, 190432.2136475599, 250641.80011691895, 389014.4954212878, 94939.11193783497, 725635.1291292814, 179813.2675548242, 566406.5058725302, 137634.5402322215, 468374.7583585264, 330109.43212161306, 552528.6912299623, 118174.11225347314, 177194.79395742284, 158953.82728766213, 129113.2818015569, 110323.64458572496, 406952.33153709886, 179679.6950325153, 313749.6265145257, 163386.66408434292, 312890.7935618281, 459220.78357949277, 1224196.6548443667, 624785.8343702761, 572355.1886527214, 376198.2915533461, 137373.13288264239, 262450.83536874724, 269544.68450935994, 208626.37749953824, 263432.82507963735, 129186.92055248437, 127277.44292410035, 236963.8283207245, 170008.9595924646, 121828.80196776641, 213555.53419745757, 535322.8472479938, 156083.9697084675, 145325.86472824644, 146808.5553640647, 146808.5553640647, 129231.56738214122, 145569.50854503547, 145569.50854503547, 145569.50854503547, 145569.50854503547, 319199.065776828, 204322.18142105537, 127688.59872131125, 124130.03730897984, 231360.00372953812, 241328.31111037484, 295636.25302820926, 241324.0744556467, 296666.58101323695, 172938.06067249458, 271879.7713509886, 244379.15673765552, 137178.84835401663, 324649.85827583325, 192480.83363470618, 142550.6912180337, 112392.98140600932, 142550.6912180337, 234768.3607471086, 768517.3317579416, 158085.35083930322, 484460.8569303237, 173546.9515620758, 164078.79669370988, 150459.62800462768, 143936.952714836, 327081.25050135225, 139710.83250485247, 161294.3904953981, 152562.65125227082, 211007.6921791945, 566118.5374927735, 382499.1206157864, 152562.65125227082, 150459.59581079052, 190400.17422950536, 151836.48114874415, 149829.20521118896, 588684.7462233154, 451234.1673778011, 199123.85593212786, 452654.565593043, 151836.48114874415, 119327.34967295102, 451234.1673778011, 600492.5431113406, 299347.29621916387, 142021.2592933856, 124330.22220374677, 256163.8844632825, 150459.62800462768, 183441.12412043032, 143886.99567823048, 123861.98786893007, 346187.2734209675, 120082.58048199091, 100540.90761902719, 195298.67777994115, 334099.8965948511, 208884.2778171431, 428311.86308408657, 157484.7394380875, 325809.53421833954, 307145.2968718909, 245856.60884407788, 186807.26092563, 129381.5812297643, 202976.88331213442, 127004.95296985941, 105759.31441538007, 98401.42008681611, 433398.61940753175, 173109.47847526983, 239588.023203728, 158230.8419890405, 536592.8672110551, 269103.0381310224, 307395.46419927746, 150670.65932877807, 148675.07039625652, 71263.05542289617, 180614.90670340852, 162839.9182269174, 805432.2577462443, 231972.67132596413, 224676.76723236582, 506582.62031769485, 281376.86438530084, 75910.68315307157, 118432.61713414325, 213541.10748718143, 182955.0271350343, 1175029.7978580045, 196006.05256771191, 209142.3018794354, 301601.8506790076, 282793.39855534874, 154032.95524102845, 163715.59956647793, 121869.78395871076, 384296.11348772125, 425860.2856676021, 405236.7871088316, 422470.5808431191, 213239.49782988726, 231413.57715864753, 178709.82934867678, 269084.8426917004, 249916.9692050238, 123015.63284772457, 313249.97643623006, 186597.45093406434, 173889.54967361008, 131568.88731121147, 144642.80873570318, 319129.5507823186, 147029.48536104095, 311085.7100796505, 304380.50549616246, 96608.69839818687, 147566.87158722346, 131259.17064159, 129380.32496284157, 129380.32496284157, 167758.11041990956, 160545.07530150661, 164869.31703458802, 104763.73396640959, 123715.3011673354, 258107.32922996324, 128772.91732403164, 119674.71838936603, 138807.42309923298, 85856.54092172468, 123931.08077341685, 107507.29083374407, 150031.28631822095, 94360.29506664966, 222851.21558128728, 107896.56080280483, 116011.06475746816, 194536.498028604, 135781.34170155588, 78041.34236892601, 269398.4316782034, 75549.04038196044, 75549.04038196044, 122057.7285244182, 515465.85600833537, 125410.37032605341, 141741.5067551022, 88961.91031755791, 150001.88036513992, 138692.5636134538, 157538.72545869456, 204172.44190968623, 256733.03416188096, 133685.41606101466, 113712.05098761836, 280940.0493918987, 192483.37049888895, 144180.5571921799, 139853.61997444445, 264659.50878425804, 265424.1095580043, 187905.85274305154, 73394.6400611914, 144309.654796621, 449276.66902539966, 158594.67021896594, 168578.60996472713, 428660.4123528137, 270217.5822182867, 320806.6659756125, 230977.48377788093, 139182.4359510334, 208157.96641422666, 233752.15824949904, 165263.82320780298, 251259.11042858454, 317248.6838047396, 308364.76475533715, 131668.83844861222, 129506.72919137633, 130833.88291359162, 181123.11911096395, 320806.6659756125, 140066.05956950376, 212575.71883170228, 105043.04727128848, 150001.7199175547, 148040.3504920887, 139384.58211407711, 192746.87519186566, 121741.09429650914, 256716.37666053168, 158212.47206577787, 267465.86588380643, 226046.48167192595, 113246.11327314258, 120012.28637110788, 143547.93572534595, 340069.0227145982, 209992.2734356734, 178472.55283182324, 384042.48582227365, 201252.07530436764, 104778.61127006348, 105049.7355314315, 276596.7664188725, 196269.69063902894, 196269.69063902894, 106076.57662475006, 281426.42483891913, 360057.16804273525, 191141.98716339906, 262297.32048690645, 197247.4780529023, 170206.71054846977, 144155.90130618977, 123018.18269194034, 122497.13266439986, 123018.18269194034, 125659.95393775281, 123018.18269194034, 122497.13266439986, 152391.8329708019, 292492.92338660726, 126105.84993273288, 132320.8556577941, 92293.87322787469, 128396.210057485, 90436.02078901303, 107035.6961562303, 186041.57704201352, 132451.9765218121, 182355.25528309777, 185397.44557141545, 125921.02181838313, 157278.67018463032, 132362.35816952883, 122838.8533668713, 171333.03907960668, 189914.18841111092, 188578.37008365878, 132052.21626793125, 290356.25503589335, 303903.02487351093, 137046.6743571112, 185232.55386964162, 187638.6053069659, 131788.66278960253, 131886.24641819604, 132047.00803882733, 129860.90158394462, 576198.2712105792, 182860.484705177, 119305.69719104772, 192929.0342453537, 243938.85818765452, 171478.05018674058, 204912.2683325724, 304908.466446004, 148519.54585331236, 216796.57711855642, 202746.89409045927, 411185.11360266147, 709418.1666896282, 175047.04642537207, 180537.56628659918, 327029.6420158773, 311929.91069578176, 154875.05640390082, 650170.6860565993, 148864.68641945304, 214209.4956284637, 187424.51701372562, 101330.8521428036, 218035.6221536339, 109015.17198571957, 257663.78851839717, 240945.3699902215, 235338.74986519234, 133074.21189543488, 243925.97838994756, 235961.77349327, 259937.73365466917, 109424.59921407692, 127538.76257202214, 218296.7703778935, 267157.648468266, 122146.80550572259, 218713.76492421087, 542999.9619726648, 335180.51499967725, 216386.70499685893, 462309.7650712025, 65671.3726966274, 219343.41008130604, 115083.1721019882, 77130.19037946945, 372680.90009387606, 141833.68214960047, 79000.67932224432, 83573.28609469744, 247031.26618345312, 261880.72301338485, 156820.86891731227, 443727.1666298044, 265102.2811695531, 361677.67540403194, 118571.49130599415, 267803.2133851176, 379234.88202167884, 149972.50389938537, 331759.45354156604, 220649.56666474088, 685080.0167838329, 96017.27662075438, 153817.91119824164, 203938.35328212977, 134769.44575643603, 203103.24545109732, 350832.34052251134, 174932.3205272899, 178838.62058086973, 489891.8368642492, 212308.94336922633, 159177.6421609301, 224019.15284714283, 2009328.1229853542, 129275.30325580813, 149870.1348075923, 592232.7854094552, 281342.50032666017, 164281.71169415698, 120311.48555043768, 721692.1412887299, 238704.99719206447, 91613.06771379824, 147547.37775653997, 88289.84309760283, 92470.34122933513, 177310.36272109757, 418863.9527677042, 113638.2441750115, 144091.1766510079, 92470.34122933513, 127820.31502944937, 161519.97873378126, 122223.52830953828, 243177.69994080105, 149037.48707752008, 79088.02400635168, 198387.01191099765, 126697.03345833265, 126697.03345833265, 181540.23559901575, 219471.52195937803, 150468.8456055565, 141254.25235020806, 184880.75390921748, 127356.2545563787, 218964.26053104937, 92524.22310148, 181080.32193268315, 165785.99277010144, 178162.96952234046, 119763.1089615387, 135211.87275157188, 135211.87275157188, 118840.72988959275, 124238.70513023844, 206048.4289044187, 192450.70660905063, 128861.17228360397, 118834.33514009343, 506865.64953299053, 128861.17228360397, 218964.26053104937, 238965.1453270632, 289056.4378876354, 209582.282944739, 212474.31506786303, 604129.4099247963, 165508.41698967834, 295639.8574308395, 658323.8227136905, 512178.8202029238, 83927.73684406021, 122818.67215326248, 117662.21805230598, 243643.33174784225, 106896.35749382961, 207660.99177753058, 143136.63110005393, 231613.53093645934, 248705.4750457201, 168580.8302001137, 168580.8302001137, 114635.81002860998, 139344.27753543065, 177583.69914365996, 226786.60288503685, 535923.4522371523, 105918.76483406995, 250799.87027829533, 109764.26718598403, 140088.27493567375, 250799.87027829533, 150142.61688853463, 148687.20861605354, 114568.99700943245, 280784.32748227555, 245887.08270289135, 155350.08963148983, 116609.01912613548, 134504.24577962974, 168415.86305870154, 311201.75938417995, 193795.4261528511, 222115.75372035865, 105782.19214465428, 235344.6863272345, 230162.5558859147, 146312.59652785494, 223437.22973704847, 125307.36121727532, 224322.42218499808, 117779.5842378808, 177041.2973740622, 237502.76480720844, 128869.0265615993, 245141.70022987702, 76453.07788437922, 89393.83525578793, 108264.57654161085, 139824.9154670658, 110376.52805697512, 218193.16864637588, 311857.0387015826, 133968.67243379066, 174859.6206629361, 137971.181764882, 169828.972381032, 170551.78265186225, 241884.18480652725, 102830.53748567989, 136412.22286859568, 136412.44534601425, 129773.98438534897, 285609.3056241246, 490313.1201226943, 117318.74331154749, 186144.4048133899, 142542.58523751987, 186116.91860700084, 269523.9989845313, 245548.15436247032, 365050.29587273346, 218669.66435881672, 256199.444708017, 116679.25239922504, 290381.2742815144, 121855.16732063958, 209956.36651760543, 140294.2255760015, 122797.36742756033, 102718.75115226825, 83636.56000715883, 223395.67452594795, 385050.42582113534, 236762.45012364228, 246622.42155981695, 281997.46127666335, 342406.68408949085, 563574.6723731522, 176933.4144665474, 92759.62331752633, 146215.64936680105, 94982.10246567217, 1067275.7947384547, 124103.43609522155, 398881.94172420417, 366498.56787175103, 157326.31020603725, 214384.06060036598, 91542.00074502085, 522151.7350259721, 138994.3700020113, 109350.48292148906, 471757.65276145976, 146353.68410161146, 134524.4735497257, 131191.65225370144, 130382.94370540409, 179750.6385875777, 130876.75728804109, 136882.41809571424, 136882.41809571424, 179750.6385875777, 133279.77449836594, 296244.49852179724, 98802.36473497555, 71980.91122562083, 166794.043791484, 186559.36332176218, 158756.67047331223, 127945.44959075455, 209120.0253282071, 327912.63361162046, 86015.76481617843, 86015.76481617843, 160014.4758682809, 78460.80303640445, 103862.2963724882, 78517.21366227299, 78290.50873265509, 103862.2963724882, 103862.2963724882, 95997.12545506163, 181286.7567244109, 235664.73817753085, 181286.7567244109, 98160.49225232887, 145336.57584059902, 303669.897601434, 79400.20647163864, 411672.4120310393, 255701.56332339943, 202424.04528746873, 78549.0912797455, 98802.36473497555, 183103.4469005016, 148668.2689201738, 129031.37713224151, 103575.56510522723, 210261.74586743908, 152080.3616403899, 153733.63245609772, 136882.41809571424, 145217.15132759954, 131396.34401945048, 121859.65853543777, 144149.44957496662, 258303.21805431557, 218629.80050292885, 121227.9296434718, 144149.44957496662, 130771.48547254843, 167649.21867084267, 115507.00589335489, 509995.414771643, 179306.0401567843, 272971.29632448824, 421424.1552546071, 191496.42221527913, 202793.47473435622, 197250.27383620682, 260098.81073902594, 334908.0598078061, 80710.17636862662, 128621.69876350257, 89843.45862365494, 132471.79610707823, 119808.785698775, 149100.61294198228, 129126.60696393783, 127121.01347532452, 258298.13589945823, 156716.41541725592, 156219.73219322384, 190669.40099739132, 332914.58744423196, 336796.4561770628, 332852.78096042713, 454383.9139034073, 354901.2916948064, 264545.4711449217, 264545.4711449217, 273893.58826084353, 452935.3049680847, 462386.33718619554, 328182.2613168326, 332117.7541818627, 283045.18076378247, 193413.2317100192, 159561.55137016575, 461678.5265141859, 660748.8400337398, 188791.80698104858, 205523.62398122135, 679040.9728551989, 772832.5714012147, 414628.6401537516, 421889.051589061, 178922.58133601592, 239090.53787670736, 341145.193463103, 120006.60931574595, 159306.45334475915, 163370.39728803036, 498480.45546980586, 313680.99957796256, 98026.49778540901, 98026.49778540901, 92914.16093615096, 272263.5779701271, 177748.11437464517, 96940.89996099542, 120443.97123752185, 146916.1318046195, 174314.09155373997, 323625.1824852563, 345477.87886570196, 346446.46274818666, 355205.7382484363, 355583.56402597803, 497287.5274309887, 143447.1873883623, 118964.28812558761, 179576.88088125715, 191462.0048570033, 158213.3101486201, 83557.52951069488, 173539.8462867056, 93310.66109973546, 226586.52912158548, 1041449.5399097021, 93310.66109973546, 217377.30066407166, 606873.437586776, 127663.46721610674, 148474.1835155535, 133653.90494674622, 127663.46721610674, 1023055.9456941528, 350166.18345069827, 296737.4691471762, 194572.81544486596, 121679.64850253108, 145525.150009278, 244605.44092344062, 137921.1494560249, 285689.30964358785, 252101.47477283305, 486756.8719415239, 327186.2048315121, 137559.92989624105, 2137924.3765189536, 233581.334684783, 201164.1905523415, 634101.7865937758, 143146.74311769145, 107977.15425339625, 204880.90306483945, 540805.5549437673, 101426.10372463592, 190177.28677710536, 197276.2858920457, 148064.45025360896, 189937.71410480884, 157432.0533994368, 170160.2992120067, 134023.0627216173, 343676.27243365644, 106007.67590891202, 136366.14621187773, 278006.50760967244, 1652570.172633328, 150272.02297097858, 370459.2557555899, 210059.0387630219, 111531.7784654441, 106007.67590891202, 148368.9518545667, 112862.55779180786, 126398.95966424237, 678375.2752182436, 126398.95966424237, 214420.57138749966, 636141.5363522965, 519768.72605398914, 264422.7608698792, 1148155.0437841022, 1173570.4614319284, 384935.5875527763, 593479.1498881412, 310397.4846499248, 136609.70237640315, 564058.0502368954, 67521.61351901508, 120454.1836491724, 147594.89758502974, 220872.9016694212, 251527.92733269924, 169929.64701476682, 124219.409249137, 140069.39083181467, 220822.6671011766, 188953.57993139565, 195375.2538255116, 222051.7897661727, 224519.5423688419, 277791.0918734552, 206282.03657395387, 278521.21375494683, 274793.35139308096, 264748.27512174606, 220149.52230422478, 109775.36458876808, 204066.60433004075, 531459.9686871815, 138880.171948616, 312806.3284332474, 211162.3274129165, 110431.55063948821, 150713.47285383003, 162178.7841579783, 178042.64469775307, 480739.2542795542, 237725.3603848771, 184563.21648872818, 393510.78515009047, 438950.2423519906, 413520.3645214928, 742446.3476410805, 131850.97083302823, 243258.10242785927, 145722.07227744855, 157080.08278895848, 163298.1135944521, 96351.7329235362, 149806.26180745778, 130592.13055618524, 207014.57687349996, 140688.80250696873, 143308.60093783966, 163461.33140178752, 178800.6641900581, 187312.257734628, 738845.3124076563, 136542.294581082, 164315.9082034852, 177324.55499350018, 85011.87929418474, 93088.41311469968, 126325.25220392978, 126218.81905619302, 145993.51377982128, 133766.2699653152, 62422.380110866725, 127925.90286200294, 759271.3534524024, 150504.14616660637, 123141.34949937488, 195765.02175692574, 161565.5269161348, 174710.98829127266, 127321.05276475642, 139295.0141926756, 199139.60968208188, 111350.1644016712, 332255.97859206755, 214554.7906214443, 157716.16031588323, 133258.71837229733, 93088.41311469968, 112517.95997841757, 135851.00840481994, 279743.5926077451, 189461.66872079903, 590891.7301061932, 247182.55482968272, 158072.35792459722, 582703.2053846206, 146277.67735959202, 141462.79974775578, 355107.02594237635, 149175.71453453993, 212824.48115697334, 185601.66428263357, 328740.906014031, 90032.15924819477, 134149.87900774536, 102810.30279304377, 102810.30279304377, 102810.30279304377, 514418.7017188001, 102826.54597261874, 228370.4465454926, 148939.55100026936, 153070.39504518217, 128477.72879573397, 409248.88102682267, 249501.2207522435, 270040.7107432902, 116772.20280254714, 281303.55394684983, 111149.19168818918, 116772.20280254714, 111149.19168818918, 111149.19168818918, 111149.19168818918, 130373.12245832813, 584719.3219593328, 216174.42566647517, 136682.96738471003, 461871.59406269895, 274313.53792885615, 167379.83171267173, 231049.53532918237, 246781.38537198535, 141151.4458644871, 206290.26261374512, 172757.9202178845, 244939.54568597712, 577605.4709329148, 155068.13079989643, 513895.0571144207, 245418.43568982682, 112794.49988469435, 160859.6627072319, 104733.90388471312, 108344.70945221954, 122474.92394553097, 492631.05257142783, 208965.79258237843, 565252.2559559249, 187192.0102878026, 172345.50780350776, 172159.82492317903, 190821.00961219642, 138897.98651389766, 80966.21872285526, 132260.93718803575, 84368.92260824025, 190153.02103346994, 132034.3863896697, 133691.5392527892, 137620.8405945027, 155962.7847809786, 79135.14452322062, 144080.1975151728, 205161.32475749758, 106732.75159964844, 84772.21952689151, 93699.14660238771, 160504.3085181346, 111838.23736097106, 181905.87873857396, 266516.54537171905, 185349.6114646976, 160073.1692114649, 146460.99365987084, 147031.61028165632, 195628.7668059111, 142402.499189293, 137645.31249368997, 75832.10122544247, 540848.24677019, 176536.39515515653, 169321.6180927256, 274042.12119356723, 181946.04349879883, 181946.04349879883, 181946.04349879883, 153198.2275436956, 153198.2275436956, 153198.2275436956, 153198.2275436956, 153198.2275436956, 153198.2275436956, 153198.2275436956, 153198.2275436956, 153198.2275436956, 153198.2275436956, 153198.2275436956, 77070.16240213015, 191935.572661182, 140347.7214406399, 216168.18109512795, 292877.471563889, 259323.62141532206, 97599.19814117192, 150651.81129160864, 168178.58323807007, 149167.43011724402, 149787.77134009628, 108663.15067059878, 282641.1952779247, 156059.24044631084, 278154.1014204656, 272650.5087507632, 248816.51626888438, 248816.51626888438, 108728.90438400877, 259670.23546023603, 119311.68102857102, 294773.75102737005, 317475.9306480821, 190370.43174119655, 208455.84631978787, 304840.58932236803, 105524.56682265282, 130608.49410388057, 151267.92244126595, 236154.25084174922, 266592.59502711426, 144270.30040079044, 169753.60586274738, 148434.82585571523, 133832.48968848313, 163808.89129332182, 163808.89129332182, 163808.89129332182, 178618.23325047418, 659555.3903261134, 194876.659748312, 194876.659748312, 212572.11931084143, 626736.2744856672, 442997.2547934546, 626736.2744856672, 206605.91626959172, 140159.89614521514, 194876.659748312, 125183.89838549912, 125183.89838549912, 125183.89838549912, 125183.89838549912, 115382.0623030926, 148126.43279412983, 431734.9536941804, 126916.63693915484, 362369.2083172097, 130647.89562760328, 221289.09201738643, 148480.62237102274, 183501.05718145712, 283307.61907929287, 185324.4013574047, 340836.55760798784, 130102.28658845995, 543831.1695010616, 133963.97867520934, 106162.13726388654, 116546.32275374707, 244961.71118022891, 163982.73934169594, 159318.21319795854, 139177.74581039886, 153980.15327294954, 152052.0548870249, 152052.0548870249, 143302.78851919464, 152052.0548870249, 455301.38124458666, 432208.1730246082, 231231.2702738843, 81986.07452232004, 123259.85163771555, 147205.3764663279, 220108.4096124092, 272346.3377924448, 184321.5833407871, 89513.25913276302, 89513.25913276302, 89513.25913276302, 89513.25913276302, 125148.13615562143, 125148.13615562143, 226530.14677055884, 157248.5069802875, 198397.70679922428, 122813.28716122909, 381356.91485805076, 159948.3635296148, 152850.59088983448, 88056.21551261375, 192047.322625063, 261476.18009733479, 104255.1153426023, 414599.8760844105, 104255.1153426023, 273902.9851407846, 213530.00586013607, 117936.82394781968, 210110.93934840825, 350932.69956264104, 212425.1215336477, 139090.95552091586, 166669.3290231415, 200404.46918978755, 167492.5399524088, 182072.5304026727, 183941.4005194274, 136224.9169547481, 139923.6386812945, 140176.35852223827, 144155.40041738102, 137803.48041249736, 141138.3412104834, 141138.3412104834, 141138.3412104834, 167277.1036894585, 204697.9363092234, 139090.95552091586, 137863.29563512205, 150736.78516041604, 169227.22323469335, 123320.99086192013, 130490.10534388946, 129417.31351850966, 138512.65364246158, 137803.48041249736, 139090.95552091586, 137863.29563512205, 200404.46918978755, 150736.78516041604, 169227.22323469335, 123320.99086192013, 137803.48041249736, 141138.3412104834, 141138.3412104834, 141138.3412104834, 139090.95552091586, 137863.29563512205, 150736.78516041604, 129706.69315054872, 139090.95552091586, 137863.29563512205, 138512.65364246158, 137803.48041249736, 141138.3412104834, 141138.3412104834, 139090.95552091586, 150736.78516041604, 169227.22323469335, 123320.99086192013, 130490.10534388946, 129417.31351850966, 138512.65364246158, 137803.48041249736, 141138.3412104834, 141138.3412104834, 237030.8793640733, 139090.95552091586, 200404.46918978755, 167492.5399524088, 150736.78516041604, 123320.99086192013, 130490.10534388946, 129417.31351850966, 139317.45711190527, 141138.3412104834, 141138.3412104834, 141138.3412104834, 167277.1036894585, 237030.8793640733, 139090.95552091586, 200404.46918978755, 150736.78516041604, 200404.46918978755, 150736.78516041604, 169227.22323469335, 257945.27329186603, 250140.5035479212, 139090.95552091586, 200404.46918978755, 169227.22323469335, 247401.4764768419, 249996.69813783534, 237030.8793640733, 139090.95552091586, 200404.46918978755, 249996.69813783534, 311319.0248151611, 235745.6072146507, 317398.5690301749, 252760.7879029894, 235745.6072146507, 317398.5690301749, 252760.7879029894, 235745.6072146507, 317398.5690301749, 252760.7879029894, 235745.6072146507, 317398.5690301749, 252760.7879029894, 235745.6072146507, 317398.5690301749, 252760.7879029894, 235745.6072146507, 317398.5690301749, 252760.7879029894, 451863.45340047794, 327444.1006434185, 410878.0942018117, 327444.1006434185, 179521.4130482615, 338371.85398888396, 338936.7557898568, 338936.7557898568, 552579.1435396974, 179823.6986664421, 338371.85398888396, 338936.7557898568, 338936.7557898568, 92920.51397563197, 144938.5817356222, 306735.9154266532, 100610.1303215822, 159693.97967950883, 123048.85168235653, 98437.73772897541, 98437.73772897541, 106723.11833212132, 98437.73772897541, 98437.73772897541, 98437.73772897541, 106723.11833212132, 98437.73772897541, 98437.73772897541, 98437.73772897541, 106723.11833212132, 98437.73772897541, 99157.92144368326, 108035.00683617209, 98437.73772897541, 106723.11833212132, 98437.73772897541, 98437.73772897541, 108035.00683617209, 98437.73772897541, 98437.73772897541, 108035.00683617209, 98437.73772897541, 106723.11833212132, 98437.73772897541, 103448.15353449977, 108035.00683617209, 98437.73772897541, 98437.73772897541, 108035.00683617209, 98437.73772897541, 180080.18270588794, 118961.89883509536, 162724.13753583745, 112655.12285988605, 112655.12285988605, 112655.12285988605, 94191.15138012054, 94191.15138012054, 112655.12285988605, 94191.15138012054, 94191.15138012054, 94191.15138012054, 195558.84788668435, 186650.90787488726, 210025.60950141237, 126043.35448769762, 237789.32885510413, 151912.6503184899, 119604.04787648703, 426582.0275895557, 144151.70116260965, 160090.5285365386, 161827.3835134122, 656491.1862576504, 185104.9804392216, 189319.4971640775, 251493.14359684126, 202435.48796045856, 120402.75412916404, 844053.351753187, 562320.8113314412, 111018.23843313102, 120013.26326530153, 249624.21429837175, 264209.1824749827, 234741.0466644744, 140195.2354975969, 238164.48946187683, 124900.06572893934, 94252.4518114294, 151231.36853278693, 583928.8735157391, 151231.36853278693, 127335.877825842, 435410.18958338274, 157874.87453743367, 497975.04581933026, 726829.6466869072, 156883.45359421262, 170458.6027077881, 158945.2127451496, 170136.90566750744, 139465.79755035235, 107911.82615003803, 107911.82615003803, 107911.82615003803, 107911.82615003803, 258240.3744112894, 187515.23344400938, 350412.7493230711, 158577.82578086454, 341941.2491029342, 455668.4227040811, 104124.55613137907, 164713.73284896198, 240029.7247186896, 742527.9337412067, 135704.2405074848, 146105.93219820363, 143441.0924442059, 263583.702609442, 149058.23998801818, 457079.0402365066, 148857.85781420648, 147263.8151141958, 201869.59716493697, 268310.4471800686, 205781.17455370433, 754008.8969978013, 180269.9073474559, 193811.2755320408, 122315.89210563921, 136056.89184842663, 121990.80357699016, 168559.57905002803, 173869.8751904196, 262436.6335523463, 241600.66207340642, 131107.79411389216, 239444.75311266648, 276888.420112897, 379707.43791838613, 156500.11603309057, 89323.3033409365, 117279.0284890409, 299200.78736919427, 296020.9763516892, 195840.67043635208, 227608.9083498619, 554769.9699136189, 334385.7171511338, 220938.15678731445, 245227.7920127301, 329173.2131715694, 197012.6695342553, 83989.9673588333, 656203.2504907018, 108674.8954447183, 423346.54274432303, 172808.35476288214, 216134.43630024907, 212592.1022532314, 176546.1879961678, 1159404.7687156494, 419131.90042178734, 127170.16097580334, 89603.42215177977, 126355.09333379306, 131612.57968397194, 316634.6729220046, 109035.64537880219, 104172.31738819991, 137699.51547986965, 170416.76901348817, 110591.81182169124, 118474.05826611377, 72178.35247129302, 240259.2016146833, 107097.66130272736, 125458.82411205677, 222071.17059414912, 165072.0497044845, 674514.3723205617, 358271.76087403693, 93748.35763954312, 486487.06328183995, 107346.39861396498, 123919.71812849371, 124617.6492771402, 209975.47664634697, 147121.6240125588, 500662.09634626616, 75081.96669737459, 537132.8352939591, 296949.72082709067, 325976.19023359637, 126523.6305899219, 483272.86731591634, 500542.6745282783, 156046.8059749859, 128127.44207012019, 140092.1041913127, 184568.58507919472, 349959.76194473065, 125307.64297596655, 158216.80126778677, 279056.70314482297, 234891.77648724956, 188932.86412164243, 422158.81489879644, 240504.552537923, 571529.0074788381, 436899.6999834798, 322806.3346385828, 322806.3346385828, 194948.22740649173, 162455.9005916933, 164911.0975395215, 217069.80001662963, 169531.73437937716, 366059.81034269545, 276750.9213438358, 261382.0457103255, 140818.74864892123, 412744.4002561246, 175088.25406773746, 175752.2833921921, 243718.42891205597, 118574.24854039753, 124097.78993994059, 160677.3911487427, 175276.5829396399, 168495.3511151244, 175413.53102142934, 182714.76022336073, 173051.08852741923, 133309.02305078026, 126017.49923807805, 165137.1364368897, 171340.42690265673, 152873.21491844108, 153586.7734469119, 115510.30582567159, 164590.00175650633, 123001.15781921236, 182469.7920639795, 134302.01611988907, 142626.74241804748, 199676.0181890423, 252652.11778692453, 198629.56113691334, 503427.9798993344, 170892.6872057453, 284882.57142145716, 149120.33153186098, 196542.51918833982, 93175.09831423679, 147696.40598006686, 178747.55200050236, 97782.575729545, 122703.30691271488, 156585.98481710913, 269941.9134440614, 286499.1537629948, 498777.8158617736, 155636.42759075674, 464399.43066634855, 134175.10952612112, 146101.85228408105, 138385.1640144268, 461757.38483962615, 136625.72238849648, 197161.34145731258, 271515.3117844318, 247063.98874738155, 242602.97628946445, 183435.99541642366, 396771.20759763115, 168193.93925103568, 154168.70204456663, 141670.23954611772, 671462.8934408217, 638348.1526951175, 261003.9244013876, 132319.94452933245, 195987.12421615224, 181998.473109994, 149614.51468882515, 337703.8100394329, 737514.723794178, 208035.74965841178, 201075.11469263668, 170659.7139024929, 211434.19153792257, 87453.47234732345, 358126.20645687124, 479229.612837254, 244026.48412698045, 170659.7139024929, 149993.88596264218, 151286.69965444278, 161999.75389400593, 201715.8056705668, 160425.98538757456, 160425.98538757456, 170405.8761602606, 170405.8761602606, 127475.6183099167, 399309.5128301205, 367854.30191647494, 128989.32668015073, 155529.4437614803, 129059.54998186705, 248392.117081454, 154263.80382805757, 133232.38953462336, 167668.44861079307, 208362.87497626073, 234312.20625357737, 283656.5626158699, 199744.3496644919, 154746.98487935914, 93779.88747752158, 220930.74012004203, 165303.78744579843, 232389.1674031736, 321360.5827924051, 240720.32369001026, 155987.2831561652, 77789.57265764795, 75892.70651260417, 72300.61690522998, 175411.5042303776, 137693.93816741934, 85071.80744484949, 90217.38460112216, 98188.45418883278, 129929.19993958565, 84390.53803481397, 260601.34819681005, 199146.87213484474, 192456.2489982024, 193524.9054475196, 125434.16346329363, 125434.16346329363, 285719.5882457382, 115382.38688458744, 256817.5222371296, 206350.47240862693, 156732.8256681735, 280078.1475723505, 95314.15187989738, 160859.3173045246, 103091.89888867948, 104687.8126485717, 100093.98507161766, 212211.73335793143, 167320.16528254992, 168924.5004458329, 198115.55481751746, 139815.27901782794, 145588.41066325986, 145507.17568546694, 143711.09925878272, 143569.2553132341, 144188.52044600088, 142484.17357079414, 142480.6459586081, 164993.6566647092, 165056.7544150435, 163153.57472240005, 163011.91843444976, 163009.3788878853, 161733.7686182807, 142730.04450852014, 155360.90006743834, 155423.8217612332, 153520.70840541553, 153378.9277912099, 153376.3993270355, 153373.82765722316, 152100.7612139671, 152036.7187715849, 138210.72815290242, 138210.72815290242, 135416.2703229301, 135416.2703229301, 135416.2703229301, 160089.5712682632, 153857.15463398272, 220601.57960672787, 109048.28946640588, 366933.61932352185, 252741.14781012636, 252741.14781012636, 389404.753034303, 299686.5883274706, 291966.8949848161, 317957.16905589076, 313020.57181804284, 299686.5883274706, 317957.16905589076, 313020.57181804284, 199022.1091672333, 207889.5644414027, 199022.1091672333, 207889.5644414027, 161887.63187396593, 170803.1698941329, 161887.63187396593, 170803.1698941329, 175014.23573392164, 169513.58495732653, 175014.23573392164, 175014.23573392164, 169513.58495732653, 234420.1634076377, 249564.0582011158, 114925.25402190075, 95141.14266456703, 326783.68859943066, 138855.01747418093, 211259.29952511372, 426365.35798095533, 148595.89718612665, 164581.16924857014, 217998.68315491476, 91091.06836526637, 135957.4480279219, 145506.31983183228, 131840.40730092148, 142354.26455642696, 298849.3966705211, 101022.0400072094, 149288.8404921454, 140036.12014324372, 169909.08939938352, 162890.71814977023, 127530.0343874205, 158069.47432846826, 263637.79570080026, 111021.63343273522, 158069.47432846826, 263637.79570080026, 111021.63343273522, 100565.82048856324, 138309.64388239218, 100565.82048856324, 138309.64388239218, 158069.47432846826, 100565.82048856324, 138309.64388239218, 147701.84496272466, 100565.82048856324, 138309.64388239218, 132599.68128732403, 105416.92978697653, 122927.86934957828, 146644.18693177478, 118896.43834797473, 108262.17901082052, 172295.6448015551, 184077.9956240871, 249488.82763108742, 248945.991816993, 146338.99512833144, 123383.88981882768, 164605.16175223893, 274815.20170440455, 311033.9070112617, 105018.79662307633, 204795.09373100282, 232907.03590480192, 129180.60600393174, 327052.65382216685, 215130.7955710608, 267439.60865863535, 191903.83730691744, 183636.70041289445, 282081.1347872575, 174427.96217830508, 174427.96217830508, 174427.96217830508, 214736.74460042475, 555826.8147240113, 130498.29083157197, 412721.1585163318, 394901.4305361689, 340941.91092812363, 136368.1841479818, 288029.78307204164, 612216.2810235207, 577488.581767974, 293913.82840431, 197622.71752070612, 169087.70437692746, 126791.34992184429, 247019.43380287345, 183732.01492084583, 135848.0000427325, 104829.170400712, 284239.38148396014, 148085.91383563043, 101464.62814552234, 150625.93407429708, 144070.47759774575, 233341.18110089158, 133426.02616421191, 261380.56481330242, 264764.6945491996, 134102.7975538578, 154829.86282097874, 101939.21333599166, 83930.75617446075, 208568.30463821263, 103157.44437317124, 164216.51036697146, 258672.40416742375, 275459.2240498266, 140077.05732623147, 384231.3793472292, 152697.8990357208, 316052.4064435439, 182944.41552831093, 405909.5884165873, 154757.05706789522, 132882.3861168435, 184870.69382700927, 241834.0513746534, 133068.98515831577, 265022.86415992375, 300294.9260657009, 163221.94581697576, 220753.21931284232, 160017.15721965657, 120313.99866002591, 344903.14236596966, 180371.07504259568, 297742.84488856624, 170937.12825945445, 128822.26486127771, 250742.08440849345, 224199.01369092255, 183161.8558629134, 275353.5090769136, 166080.4932620883, 224369.60641162592, 104772.94960828686, 347972.5191537607, 167251.23362115308, 99916.24283783884, 141378.06820334226, 270788.66534895677, 176119.65515491113, 273764.66464618983, 172213.27029196575, 216407.70218336198, 129768.5608472857, 135613.11983462615, 203951.66199927835, 118858.07538139248, 132672.26661117788, 140899.79248396438, 278625.8960957634, 262106.2532921588, 152062.62570077152, 199873.91976433215, 181484.52447617115, 138818.79868469114, 306146.7919565575, 119555.5424354883, 377763.96321106964, 142588.28083192933, 161393.9668421122, 65112.456655078124, 79801.24545380689, 211620.3784472001, 211620.3784472001, 101629.27974302635, 101629.27974302635, 101629.27974302635, 189682.978540015, 101800.03264064163, 167203.44629329932, 102848.43039846575, 79287.96750729914, 196118.93268583462, 80926.88636548822, 162489.1901329884, 101928.63224215865, 161077.6867430619, 178176.6123924413, 304063.8181574817, 207162.2614948361, 142626.07094457262, 129147.36298800164, 158813.92289292262, 142196.36676826273, 173185.55291009875, 174864.8603648048, 173013.37146094418, 173013.37146094418, 173013.37146094418, 224366.5016529559, 186979.84665439485, 613336.043475175, 558160.8225950756, 160085.57514258858, 207462.12700946018, 125795.00994266217, 254973.90257878078, 340508.31867096253, 119453.39227382465, 126197.2791654622, 119453.02814217802, 139136.12539577624, 163296.83669011132, 157489.73355641722, 106099.7420780132, 137051.7331899687, 145592.04265006495, 106614.0871760524, 222345.2168688457, 218497.59766508886, 97089.78964219437, 91506.00524968168, 165703.5817826664, 86834.01998954017, 145574.28038098404, 350663.71971491294, 144000.16459391126, 151524.3138464421, 129052.06718368907, 303689.56798796565, 119968.41776401862, 923269.0085653646, 921698.3551435756, 222709.6277790394, 139084.35327480093, 1011109.7742813394, 415412.4109309877, 260549.2145830936, 936405.1664059593, 551650.5508337129, 243912.97118008815, 252165.14598908403, 252165.14598908403, 261362.92211207384, 424691.1015196535, 133088.6543389735, 139478.27120667862, 151682.08396684914, 255791.21136707588, 371443.4881186025, 174480.57919544313, 103921.38265738064, 200311.80091168036, 251983.3109821772, 228557.0288791911, 111406.80357024368, 271039.37722841627, 374374.7815452237, 240170.27703879954, 200768.48611285424, 240126.29086637148, 379355.79049886577, 197979.73798229953, 209657.45952217293, 182562.37173581624, 109487.3993198864, 116016.58406296211, 97501.51424918234, 108877.98153070202, 127578.8903313436, 109487.3993198864, 109052.11343195228, 108877.98153070202, 138213.9232918305, 182607.60453267547, 159880.55273466813, 197371.2109677044, 233013.39020991247, 143347.38448119233, 124984.5390013332, 223143.31407671218, 167760.97181925442, 367950.44713902334, 142207.1426695208, 112350.6636133331, 780240.9749088924, 227690.2456031116, 169096.76342790684, 562629.7963422538, 145027.9318963523, 220125.9491010078, 135276.37765467324, 198894.24867258934, 137005.06543364932, 209432.03808793254, 81436.17957224083, 184416.59644637426, 179480.2714715624, 197602.72212150536, 237815.03656513646, 120674.19528409216, 135818.8090374961, 121431.88667327419, 121044.7428465867, 89881.23659011936, 97070.27472092927, 154510.06309953032, 105730.79303094637, 162854.84029811714, 67511.75110405686, 342364.02929769404, 126708.53027339198, 157971.56305751705, 141268.18142231271, 168655.33302094124, 266129.9270736874, 169904.21920216302, 169904.21920216302, 184717.00779638224, 343141.32685978385, 139666.96708266533, 173444.18013788588, 191430.52185470602, 167674.52975403448, 271610.00453361886, 80860.15992004173, 131377.53521184434, 207826.40607334513, 140226.8860574738, 158515.58709511408, 255252.48587231454, 226561.9028641965, 208851.18076256543, 478960.53194016346, 460970.07797912805, 190717.870694647, 304688.0231598567, 239250.89056684513, 262459.9443212534, 126943.89593689509, 405149.3862459642, 405470.1772843192, 366596.4560635927, 222034.4604648227, 183987.0570498695, 119616.24231260299, 148478.93845982457, 223641.58626845267, 171329.35825909214, 230744.0732738852, 198772.19941049974, 195724.1074150971, 117036.50709325245, 259669.32608286926, 599778.4732220762, 375906.933917909, 919882.5754952194, 274723.9296726716, 821378.8402026561, 894530.2050556454, 550410.5054329, 222709.70640744054, 436231.09741835494, 131769.4028676768, 254771.57141219897, 261649.59197001494, 201544.7927482958, 201544.7927482958, 271717.12976257503, 201544.7927482958, 254771.57141219897, 119559.34235254358, 263034.37142292975, 256066.77202298495, 288160.8584317463, 446527.31142847554, 479006.776998507, 188430.95193693874, 209183.34729973783, 432309.51927811024, 316673.73495334596, 262459.16335005977, 136465.0973347433, 316152.53561241104, 197722.6271027909, 115203.82746014957, 247011.77560722735, 111030.13700454767, 118399.71149010971, 172069.009337849, 141118.2986446656, 226295.9340117306, 73939.53571749001, 79520.22694397412, 194644.57492502953, 119122.99048629354, 135123.82909637835, 133028.14476990528, 87368.07901074542, 205571.67709452938, 144349.41667252575, 229049.13054997352, 131372.52201595443, 147922.10832982173, 537747.5329972252, 171538.48906639632, 143784.8259311621, 105894.55622778511, 112614.1460029806, 125795.931351218, 273164.3807195957, 444913.76111793274, 216229.70107545285, 180119.91485765527, 114128.23234521467, 139149.66510944514, 103086.28422680731, 220680.25281625922, 332824.68578538945, 306070.3162037866, 157651.30198297024, 93199.12580467324, 92769.87211567223, 99118.64824102276, 97932.9203399868, 161210.80369678096, 1097791.2398929377, 168818.24734184684, 384763.9326741862, 178514.13466850028, 132572.69373876692, 173477.75731577055, 147147.92912523187, 360006.0406061652, 137243.97635576295, 151852.84341324275, 239921.36843454483, 179406.356873184, 217181.30884378147, 227160.70594684163, 164867.4747165737, 754470.8574877324, 208537.6415868887, 208537.6415868887, 208537.6415868887, 364934.2970788322, 364934.2970788322, 208537.6415868887, 208537.6415868887, 208537.6415868887, 208537.6415868887, 208537.6415868887, 397199.0313422671, 290141.5847408498, 208537.6415868887, 208537.6415868887, 208537.6415868887, 208537.6415868887, 403671.2847760447, 907255.9555466125, 421988.27247298934, 773155.919754475, 304844.4014685115, 209175.59749558617, 722998.6319882366, 807951.1244127273, 131782.15875233192, 304844.4014685115, 161749.73422505337, 174450.74453587917, 241137.39923900034, 126889.59443383268, 304844.4014685115, 203216.12614823272, 218364.7361214398, 103982.2310894482, 103982.2310894482, 142744.7405708303, 204342.59558333975, 186062.57533478065, 152293.03670481255, 130916.47154117866, 147184.97518764756, 149576.2402233058, 144391.34580919927, 211133.55127426214, 221696.26318142933, 222877.32228540894, 209283.48534451547, 240881.96247371676, 215659.9986583464, 645841.010059598, 242069.75383794628, 215862.88512945143, 190398.5682377199, 72657.50480304683, 122783.65530156634, 131613.93453547015, 202945.65779300468, 202945.65779300468, 128486.23010043264, 263044.5000927774, 223916.86904355185, 189663.93268070984, 234897.46077170994, 571421.6236881114, 264363.50202563975, 210332.66242493133, 250676.52952993696, 378386.80856921454, 212056.46797285575, 137852.4218955207, 120732.39144672226, 157317.245017469, 394296.4506713509, 261803.6958235456, 229471.15959945458, 193285.7577450944, 160138.86430920838, 790322.2873624741, 267860.84016488126, 227845.59809033517, 122908.6180909693, 104714.80750066538, 182657.21163434978, 132868.83197600394, 109643.51262684622, 95821.44610097836, 144620.80446888355, 103352.12553123757, 141910.03250664746, 153212.54417074, 260113.69327447345, 106970.71250568908, 128486.23010043264, 270922.1728008598, 270922.1728008598, 198497.9472499716, 141376.47959204591, 437782.5610849062, 819748.4009025567, 1418478.9154924671, 125715.15619031982, 800712.2778852719, 472213.4824686599, 171877.98315239465, 437318.421475981, 421243.51081406703, 145793.38782779672, 255519.54664498995, 148969.46832397045, 144472.505323427, 207560.10275972186, 314148.98187036207, 119781.95703444969, 1713708.3448472037, 202945.65779300468, 201555.55551347128, 270922.1728008598, 255519.54664498995, 564117.4895987716, 1009318.0602125941, 234278.2060419657, 1047602.0285476403, 216480.84395080034, 2183284.969355089, 129949.23835067578, 239325.55117320624, 129390.34247973649, 200371.44480818522, 182314.5067118261, 267039.65236239217, 434220.50513199193, 127283.02773396378, 150359.40694916956, 90637.55836650592, 98073.34865125277, 123745.791756718, 118634.49027710613, 189753.06097685575, 97368.5221916166, 92905.53467902716, 151870.19792252686, 180270.89961838126, 228566.44025893862, 172484.80613047347, 100659.45635759897, 162062.66512522585, 146642.89022861293, 135453.27116520162, 154778.60623485994, 175970.94181344082, 103182.86937052563, 179241.22499683907, 98591.02959087669, 98073.34865125277, 98073.34865125277, 87665.29548207019, 73472.2648352524, 87553.8367501096, 178398.9587379885, 232063.7728901397, 308654.19533459825, 103931.19613821695, 109095.86959540525, 98073.34865125277, 133552.66923277074, 91594.84597214602, 111957.67769781339, 141923.99006536475, 111957.67769781339, 111957.67769781339, 111957.67769781339, 141923.99006536475, 111957.67769781339, 141923.99006536475, 141923.99006536475, 141923.99006536475, 141923.99006536475, 141923.99006536475, 141923.99006536475, 141923.99006536475, 100114.41221414338, 149581.60279120613, 128324.46197670868, 100506.30205610946, 204011.51766865488, 310201.8527350925, 159870.05540865372, 91778.05111786953, 113966.69619297635, 113966.69619297635, 125941.81495179326, 153130.81976395645, 237998.5351263033, 98948.24345734183, 206255.92808140788, 190164.4874936525, 130682.65186749317, 214980.5234373471, 341312.24248590367, 138980.2634317198, 160503.28697764516, 132495.18554125945, 384958.73920523445, 120757.25620863137, 243722.8351110044, 190015.18917681777, 278308.5686990446, 152208.9145088696, 96086.29501703144, 152208.9145088696, 162503.9531297005, 123580.98546978824, 152726.57419549878, 125233.87394556748, 152090.7712223731, 152090.7712223731, 152090.7712223731, 184432.4841565078, 221166.7899264508, 195124.715867491, 198790.9553105349, 124994.92130218526, 102474.0342151118, 184432.4841565078, 160706.39088087872, 102474.0342151118, 176062.26707917533, 155507.44395040302, 151563.38367292692, 182932.15945267797, 93736.05431158378, 141925.50617698726, 155658.16996122504, 83061.09475337408, 122296.36469771167, 125125.63653099905, 131524.29489113367, 107030.54480466669, 114219.38003212475, 444336.88015652384, 195845.9771029205, 225671.54357599298, 637029.0988546555, 135297.87413621662, 431654.7568915784, 126254.82482086423, 135794.1161209552, 316289.3343152594, 96480.26052366672, 349338.46741562436, 204926.35489614532, 576688.0154552296, 111552.18040553125, 193679.9746653977, 187205.4394477012, 195512.76644153512, 115511.83247463312, 150990.7854584861, 100963.30140655626, 215534.1791941697, 177954.60937852075, 516123.06039421534, 125772.75976968488, 140956.891214584, 238587.90697533847, 109027.04696380175, 163085.57254247036, 138743.95144190098, 171401.94628174478, 911192.6941477746, 420857.67141798564, 208127.97768399538, 107588.01957816303, 137048.56937639613, 338410.0162031106, 392541.348883981, 368888.5298794724, 113288.9497845654, 195592.50499799685, 90905.67921113232, 259424.58027548259, 141736.0886658813, 183038.67493448654, 154304.29874040908, 185389.20424507445, 180521.26299655007, 154304.29874040908, 154304.29874040908, 149197.85274489698, 142758.34971580186, 323011.29108603694, 120301.80940683928, 186228.72393817652, 144700.57991525705, 146643.32053223986, 144702.70892466087, 148387.33515366216, 133358.52136478023, 339045.4004311725, 96754.22049716672, 162379.80652977608, 316746.3098852058, 285055.14411776577, 108078.36090005616, 250533.58457140703, 165360.27344021067, 246336.6923530059, 212856.90004257925, 100846.93780763236, 182822.7486347507, 231407.0186354848, 90314.83214483692, 132411.50769727415, 274947.4951156598, 116630.61586184672, 180842.72029055384, 505600.6750228304, 90314.83214483692, 278363.0623593526, 122584.03243514348, 153055.31443695354, 256349.73102577805, 190443.9219460804, 955266.9320971367, 121964.63692283607, 171537.25394191977, 190443.9219460804, 143402.33663793563, 188820.25763342835, 212625.72257222317, 250878.0789030655, 106775.73038969556, 191084.79087039255, 129757.02957456774, 268524.38196566753, 113899.13808789397, 494673.11681006156, 215623.4700022638, 358142.9912523017, 303862.7801489374, 115366.85923273777, 154304.29874040908, 427425.3889350607, 185389.20424507445, 180521.26299655007, 192390.8820216326, 118220.72055534698, 154304.29874040908, 158801.54327920944, 185389.20424507445, 228536.44462383393, 220289.29079851645, 120880.70437472124, 140544.19982753746, 193544.0446224273, 216248.31512704946, 1002016.0504311856, 126036.79172938556, 156533.4688987699, 556342.3016263166, 322507.3766491298, 133102.70198767105, 133984.34663056294, 178216.27501998955, 112875.4232324311, 177287.37503726868, 112355.15067960246, 294083.9209652663, 142122.85942063876, 103315.44651044678, 98597.61743894877, 146626.688841381, 209690.3717397233, 122776.8437924857, 158041.06168060165, 142259.41149432294, 247705.56991506036, 245740.66705476266, 118041.59773854246, 197836.9289599762, 297631.91068532015, 213818.7983063603, 141829.39091934497, 148834.58698375756, 199127.33767580488, 210049.99122011435, 484243.4662681703, 134619.8217892276, 237402.980333443, 193917.24761423666, 185493.43635846095, 202020.2733463874, 649536.8198824368, 131699.3331558004, 128709.1775315007, 216316.95042218862, 181719.5579783702, 262579.43767654954, 128709.1775315007, 122458.64288358754, 185980.12732128828, 178908.8664167588, 231572.9599630134, 243655.76207460626, 130718.05136475684, 144021.7389745201, 136038.86623008383, 150802.5874664595, 636866.6966025961, 287237.6532778133, 477379.4946828773, 173114.42922603572, 223927.79761360472, 121139.81815501562, 155476.85936197426, 282663.5735916906, 863103.0374636605, 385677.76383893547, 681024.9863198542, 148485.34879458975, 133609.339413953, 181518.1448756781, 301626.4964173658, 465146.1563210821, 230942.41769853365, 291174.654732704, 125803.47048031089, 155903.2370110234, 346012.211793764, 99407.13848880299, 99407.13848880299, 180264.79857094464, 107366.79382730674, 253718.99601486087, 338117.8389672645, 172995.9906478441, 115448.70082006101, 657955.7930075902, 146213.77501560078, 156913.98360257287, 116576.1470912381, 198502.31159378262, 123807.11173517091, 154275.94617231213, 154275.94617231213, 255519.84233120852, 119946.92874388647, 117129.642647457, 117129.642647457, 117129.642647457, 117129.642647457, 117129.642647457, 117129.642647457, 117129.642647457, 119946.92874388647, 104884.06901899574, 160177.81796990026, 159095.06223573198, 176833.09188233636, 117791.97419851639, 129199.39880566527, 199731.48524898128, 115053.03569136045, 125808.05365224437, 174999.0670059767, 262761.9086123374, 111727.67070331973, 111727.67070331973, 86107.02614300826, 155928.10328971435, 287518.74304081197, 156488.1902296642, 261861.28245527297, 420312.1138553517, 156488.1902296642, 261861.28245527297, 420312.1138553517, 156488.1902296642, 156488.1902296642, 261861.28245527297, 136225.25772754187, 420312.1138553517, 156488.1902296642, 261861.28245527297, 136225.25772754187, 420312.1138553517, 156563.83497701725, 156488.1902296642, 261861.28245527297, 136225.25772754187, 124429.34234834775, 522064.1047188356, 119447.97187540206, 122458.64288358754, 128709.1775315007, 140638.83707409093, 119586.553517172, 119586.553517172, 314526.49582682276, 118607.01553155563, 185896.69898364533, 250367.92287948093, 99319.1836887727, 99319.1836887727, 251328.2374435342, 129752.08927700488, 83907.76492963653, 127349.55629434678, 161345.4930809258, 105129.88725814856, 259141.91900134634, 221985.14285621064, 246610.56152202233, 143465.1044240994, 177345.92775498866, 291545.9342335185, 203834.83027209868, 143089.11964289204, 135721.93397176857, 101941.82354294021, 114526.42914590251, 114168.21742945982, 223962.43929373118, 129394.63510415028, 171867.05283470824, 158086.48537267122, 168930.65644228653, 193156.25608850992, 142094.4877421846, 161744.79975304357, 69077.80522507435, 103379.27140591387, 229465.00994759906, 176348.0922460281, 175582.63995450546, 235215.72634162914, 140629.79458988365, 183787.78557174426, 184260.79364467075, 1180031.0548345866, 378843.0439579863, 389276.2478682086, 426907.49047971034, 282890.1165330975, 213102.63646568876, 151298.495588349, 185980.12732128828, 204255.57414909668, 185216.0251686761, 151298.495588349, 216316.95042218862, 185980.12732128828, 181719.5579783702, 204255.57414909668, 262579.43767654954, 566837.1651229567, 227887.93791971426, 156510.58817101782, 168233.81109875216, 518944.69895714783, 212418.95334078395, 146578.80927529605, 152005.68443212885, 128458.75083393836, 152005.68443212885, 119586.553517172, 140638.83707409093, 185121.521176456, 205116.84925616323, 180631.98481725392, 262051.08460824, 262051.08460824, 205116.84925616323, 218345.95822613413, 129798.28212924411, 292098.86116432137, 120406.17767222814, 208420.05421902763, 262406.7366264039, 118240.14778681993, 140177.45969546633, 142267.7201040627, 124592.54295781394, 118388.5108796443, 258285.01400487727, 254363.85455132823, 254363.85455132823, 206916.79164700283, 176370.3291608868, 157721.30321565035, 158662.0387591283, 171795.64315680918, 87127.45055625385, 152254.86521626735, 234407.1526625271, 107317.73244120971, 144080.39425762932, 145039.02651316684, 145572.92917334102, 202169.27041735232, 69033.97046543479, 126057.05692741969, 115174.48323650265, 184020.56286361517, 140911.15636069264, 143959.08969555673, 169739.93725600804, 167271.73643556505, 226990.61833841, 181301.4928597953, 343708.84486084734, 131605.221077933, 104039.85752055685, 181301.4928597953, 123439.7388739336, 179420.33814814544, 135623.93542837148, 136200.67708734924, 168506.1388079145, 104278.41042720775, 523744.18903258815, 223924.61418351164, 224026.9672653784, 537441.0946462133, 550416.3185047772, 407040.8841100866, 239844.81878613014, 137877.6950698796, 108949.71575009033, 211209.69473215073, 225149.63612674954, 177757.59468398002, 264855.8302389035, 209657.4262094801, 139284.05016826311, 148307.7368863556, 82036.35345752488, 194591.04375250998, 161129.30908597476, 184924.06886475242, 86851.36208588944, 157814.8947464363, 128966.37807623335, 90501.05358879405, 167014.85124708325, 128292.20909855115, 190968.81270724023, 309076.4912187586, 151037.7933466924, 161227.24749759285, 260913.3768221275, 161839.51250431198, 135004.99171253346, 112756.59544450002, 117077.0527613331, 90006.63689801515, 87470.96741379141, 87821.6973329997, 145087.0295176575, 261673.57405167996, 260998.88809006396, 240265.38022389085, 324376.1916680386, 124332.6579076336, 152049.37430825795, 197169.09798957728, 109821.76482355372, 331772.9539011201, 321615.56775729265, 321615.56775729265, 331772.9539011201, 320661.7442908623, 376959.345562804, 376959.345562804, 386236.23589674744, 244985.80423107292, 114607.99718833341, 160614.80068066006, 126493.83109983639, 103107.46324875625, 170482.08739250788, 102031.19123907751, 102031.19123907751, 170945.5533933107, 184427.47200895555, 170064.1552749151, 171290.9421233412, 170064.1552749151, 152881.66927211918, 157610.19776050083, 158382.13394535863, 158382.13394535863, 160012.76084797014, 151237.30524494092, 151237.30524494092, 151237.30524494092, 151237.30524494092, 119570.68817561392, 122828.46270115014, 164970.79755224427, 200191.8148477806, 121363.99378077645, 126210.95074287718, 149149.82098638825, 298491.03765339253, 167460.45717504766, 171379.66233282932, 81503.32547465786, 131699.3331558004, 102149.11195960158, 149325.8447068968, 112455.15788599692, 120959.1008814024, 118939.85683871339, 176658.11899322763, 1196855.7804059323, 213093.52241617086, 79999.91724060806, 76464.23821411307, 140630.78476405074, 187382.78982335672, 187382.78982335672, 204003.52839705144, 124592.54295781394, 204003.52839705144, 187382.78982335672, 187382.78982335672, 142267.7201040627, 254987.66218786282, 242560.7821368879, 219519.95780936847, 208348.30283484838, 309626.2005250275, 127417.0916041488, 124806.18818400218, 99146.730588884, 82047.2103143131, 110621.1493808059, 74137.48621589916, 97784.01607128134, 123772.01011260359, 234198.6550265725, 197818.63635166423, 138520.4014190294, 327439.852123155, 195415.09506173068, 104735.89361595728, 233094.17066717768, 126039.99556908748, 144228.83667480134, 97952.07791515847, 173978.88201475394, 123933.64360715634, 484640.43539159413, 236046.9911087852, 197581.93174409334, 128628.39109517405, 192961.29503841835, 129171.17459926952, 124268.54561988128, 132864.19846022993, 176636.0250334237, 110799.58458914439, 107033.71579577994, 149631.17505361454, 150241.17549353855, 229501.15612063167, 164175.77050214462, 83036.6370127793, 263566.0381613686, 101301.01304617278, 131450.41230626174, 133912.65179544425, 145144.49386053337, 149625.9351270675, 283266.41569544125, 100274.6397815668, 138772.2858127482, 133599.5788228127, 178682.44381821397, 80071.40169952204, 303517.3642242557, 136489.17431676356, 208556.2114502261, 260771.15454872756, 273566.9245428521, 273566.9245428521, 321832.19171397254, 321832.19171397254, 273566.9245428521, 321832.19171397254, 273566.9245428521, 212510.967906864, 201409.35459070196, 163305.22812554333, 219731.92891981313, 322563.4129409934, 112192.80335811258, 247027.5224033402, 238234.362599222, 160767.36310574753, 299098.189996341, 466835.12747234583, 233293.59656989732, 260619.92327846598, 125788.83717468761, 150462.2099715757, 346663.63870473916, 180369.17139364197, 105551.02378974041, 231029.50495266714, 384904.7580989399, 251328.2374435342, 270497.4887243586, 255079.82523531278, 234559.06282399502, 624621.4486704305, 148521.1692611258, 142623.08497924462, 182139.9077484538, 176210.31236170445, 254363.85455132823, 270497.4887243586, 204003.52839705144, 258285.01400487727, 276039.8780506161, 276039.8780506161, 118388.5108796443, 118240.14778681993, 148521.1692611258, 140177.45969546633, 146379.78214417695, 126118.90422926996, 141759.34907263028, 146379.78214417695, 118607.42708253786, 146379.78214417695, 118607.42708253786, 187720.2618890247, 187720.2618890247, 258282.28570638885, 176743.25219206364, 277565.058619146, 258282.28570638885, 255596.87504651642, 255596.87504651642, 2640945.840035183, 187575.14252469735, 187575.14252469735, 547792.4495499749, 540177.4022174475, 177275.85339906032, 145967.2505788763, 116853.8923746158, 118578.16685047778, 128503.80264359411, 142479.94481112243, 255820.57574157752, 255820.57574157752, 204326.49373394166, 187397.7159692588, 187397.7159692588, 144683.0699945605, 220559.1503342926, 295814.10193147376, 98568.6393564075, 120671.71323111645, 98568.6393564075, 78250.2003594708, 120671.71323111645, 95285.41260527456, 109964.90633540845, 147277.110876801, 151264.853612623, 136225.25772754187, 201816.88244488474, 200642.7013161078, 223130.22093615806, 194717.12811541144, 68031.06064567315, 208367.7424399573, 314878.3681404679, 161433.3302926043, 163312.45730188565, 184075.5696808698, 560442.5013045762, 755576.9909312034, 165871.95117710778, 133190.8404154185, 133099.64492439915, 134546.20044173865, 134546.20044173865, 141554.3239972319, 799989.7384853242, 147110.55407235454, 1011537.422676622, 233474.44036873803, 125962.89132125162, 186403.74854108162, 283544.99839553586, 230695.4824436996, 483436.86231649027, 181249.33632025798, 197174.33338592964, 118728.23870087425, 217600.82205853495, 118728.23870087425, 217600.82205853495, 502297.6064885148, 687883.756960227, 74289.1606934832, 115726.8747647446, 256706.26692410294, 463636.8561977919, 217916.64733532318, 271880.2368015408, 120236.4038693833, 159257.01177205585, 339660.2107840187, 174540.76413618802, 106334.95852038139, 237610.18410411692, 338199.992364945, 204460.73384494512, 207556.1337381432, 161890.7469345507, 308565.6520596464, 168815.34455993437, 204299.2848772866, 209832.39622031737, 213528.98671629198, 211326.36493207002, 108773.37905900019, 386236.19276652276, 129861.76614829547, 139289.5120488723, 142259.28596268035, 117747.12689420229, 251423.85117012437, 127482.24615571508, 147855.731373557, 168086.25645175984, 121351.11849463558, 171900.9715058316, 149115.20815343235, 227198.61434894922, 121837.59740775224, 220098.83648552216, 113404.30020549461, 193685.7442597707, 344778.4610536638, 151833.1498153832, 199070.37014297853, 232602.5014681155, 174828.60836032635, 90006.63689801515, 84342.00251824837, 110655.69837001902, 133789.6821916179, 85033.9851561032, 190462.4912925418, 79487.35011667592, 264640.26677592524, 252870.79856232821, 423117.74146930757, 1195180.664901113, 1014997.3878965111, 181952.65167807494, 148346.4741611671, 143557.52043904757, 181366.44524644065, 152250.7760058764, 263008.3778681826, 184170.55291770792, 482884.5858036671, 118412.00852706446, 188630.42242178263, 118065.25441926322, 113113.09397920694, 94294.44783907084, 90006.63689801515, 151814.16059344675, 290473.4254137772, 334929.2785144116, 338258.6499600282, 173565.89862276986, 143873.07620345388, 169938.12318418917, 193215.33388448018, 161978.87124142275, 163392.49469364766, 162824.28801334035, 130109.66398094066, 130109.66398094066, 227674.78515363432, 213898.4278619766, 213443.94048038375, 213685.27024405572, 192243.2754298772, 191696.41258312837, 168731.79665278437, 190265.46683315618, 111933.95385654252, 150408.07154903648, 112009.4391181745, 168066.04218498152, 256980.18058633024, 234636.74100254264, 109208.89545154406, 247848.96683584887, 314203.1482514496, 132397.30794463478, 120474.56934398605, 97726.87752041922, 133189.0420622377, 93464.88369299928, 203247.360921909, 82671.19378279154, 742699.1735698244, 156311.62720303348, 377846.74778778217, 2569451.7779591586, 180595.8341724157, 133550.887652938, 312683.5022405545, 181334.6366129965, 342686.8198933795, 159415.88396851261, 948284.6328166968, 167886.1454437608, 183274.0819561259, 111951.80450562731, 286206.4836537834, 206950.01473298646, 178881.91195927135, 103955.95305904494, 178486.10421851373, 345360.6117668565, 107889.87122286431, 614470.8117027608, 144683.0699945605, 271396.66263213067, 148632.61397440732, 130026.02643691427, 112538.74004875611, 634428.2987726511, 170297.99949797176, 341479.67715311685, 147745.06364181536, 122188.12863362915, 160129.03462214553, 273591.7253476218, 145363.88340443894, 184190.93888319924, 103459.01535139214, 108106.00497759934, 194089.3942701904, 124198.14748051978, 285321.8141304223, 108658.15549131532, 264289.9787573061, 132979.87268005745, 177148.6113368343, 170819.14572078327, 155577.32705383364, 173723.0392425417, 194553.5258629026, 134311.45465597272, 134311.45465597272, 215056.44242949854, 202234.4858044702, 110808.58671520311, 399186.2356590491, 150568.90703914766, 267549.0943420595, 237272.14584603507, 131396.29475743597, 196785.42826098256, 281406.36810083175, 297836.75011385, 270835.14179383544, 115561.84911630652, 142314.6428037076, 137183.46397800476, 192016.74638425658, 485327.6178826837, 121710.68988804962, 132770.86332864192, 132770.86332864192, 221254.04090838705, 139360.69463933355, 148358.0655541329, 129180.14094866796, 173067.9428308974, 335525.18174599955, 210160.04177073107, 239247.3263636209, 463205.0979994273, 196856.65112880114, 219242.80458745055, 97522.87333704691, 219017.01822216465, 141127.47708567686, 240270.29531147995, 156483.77277259852, 195037.0673409486, 344036.38065267657, 123332.76674569787, 150545.67268922023, 94155.54134089482, 135472.45647932557, 1020727.0729249172, 165899.38682890704, 146026.13532737564, 203008.02928196403, 371615.4334003844, 192781.12364091203, 143732.51593090658, 235220.5089868248, 162248.76013529208, 184655.35216398427, 142366.9331095501, 173428.03610808635, 207616.0587833471, 397824.0449345642, 199091.55514234272, 153870.7245848697, 166490.75997297157, 111991.8501267397, 167922.41170603113, 258775.45546870952, 399197.262852384, 99326.0086378058, 111038.1531656941, 87541.68537117363, 174980.53378530638, 167478.8838095135, 325919.93848544714, 325919.93848544714, 83408.96065459053, 283820.1851888648, 131699.3331558004, 136025.5283271635, 116672.06574621906, 153148.45780340876, 153148.45780340876, 153148.45780340876, 111349.88057773389, 207548.59112455, 112983.86016779146, 113741.0819505127, 340838.94510032283, 377379.5631900333, 342507.787277314, 709459.4056850257, 359416.0658289893, 199468.62222677137, 204326.49373394166, 141760.38867634162, 158218.64613525828, 255820.57574157752, 187397.7159692588, 176375.0640167076, 134644.63919599573, 188048.78468680274, 255019.38289768208, 255019.38289768208, 188048.78468680274, 261953.02692098045, 271296.86677114374, 208244.3495161403, 208244.3495161403, 182332.38309306273, 193619.78071301157, 143649.7646384894, 146891.38893185137, 396020.8724491284, 399623.4674530737, 230476.10899915601, 281602.42390744307, 134933.81646383202, 345655.8732957616, 178804.19670702197, 103086.22517834743, 243252.78402217833, 340745.1238001822, 204977.94689714804, 205650.062714291, 179203.63394417218, 139362.84306315886, 232590.41870117382, 276522.906722142, 160760.10803206835, 69752.00292617525, 180977.28838341718, 240003.1627760458, 215036.4832105324, 106408.95412789035, 158994.81383006577, 227717.34935023572, 728451.1662061694, 135876.8675700608, 117627.90421940501, 386714.0928318031, 79218.7633900352, 147850.32316092696, 294183.7453982313, 141062.21815950092, 188432.17201395778, 751007.8703686837, 79693.31270217057, 266267.5151975722, 338826.25783066277, 183768.78616332737, 336069.96220752876, 156563.83497701725, 95306.76956276316, 169932.95210077177, 182719.09029138807, 753350.2695070468, 261806.9623977449, 138011.1537644106, 209621.02955761238, 186562.24903816474, 185519.5731924797, 316167.88442910986, 316167.88442910986, 273095.68729136745, 316167.88442910986, 297819.7448688602, 297819.7448688602, 330377.2363397286, 330377.2363397286, 272858.2442916071, 113182.16048267313, 119505.79425170335, 86181.33035553792, 102540.35237201765, 143594.68082041366, 224904.30987383562, 152974.99882998015, 196190.32008026936, 152084.75830702286, 199891.16741971986, 111725.84488904006, 128849.49187377135, 193244.56092381038, 128724.01523260612, 301774.1096169738, 135237.40363132802, 68110.86450697672, 129138.90395779192, 144355.17323826172, 396705.7121351098, 1349508.1975504966, 1349508.1975504966, 202845.16698647384, 403899.7201098993, 403899.7201098993, 403899.7201098993, 403899.7201098993, 196213.07756017745, 196213.07756017745, 174614.4610498624, 186132.79623233527, 391898.89922381996, 391898.89922381996, 125208.11246362253, 286294.69538332435, 601423.279933823, 560094.8301756211, 757908.0281244357, 145231.55969636588, 157846.69178960088, 200586.1777695103, 177695.2322626124, 130418.87935702692, 304732.30817289057, 188176.89424000407, 238712.74194663606, 466038.3014790269, 129590.45926209493, 129590.45926209493, 129590.45926209493, 336708.27147075254, 155748.14042868273, 127389.95658499419, 128978.78442924412, 122821.44051074746, 225416.06554959377, 235793.8991331077, 167059.4990442433, 122893.24953086837, 235525.6239038196, 190622.77650061226, 142781.5407304626, 150269.14299569363, 126954.70572224121, 93059.4274154901, 93059.4274154901, 291097.806931246, 183475.25751751667, 258918.70590031304, 210391.45993541827, 310674.7816706123, 145156.48342325483, 143259.71755029153, 154367.06400413366, 470814.0693740548, 248305.73727406777, 295431.72696321696, 290941.82027398405, 123332.76674569787, 323501.9112206676, 145210.54962590942, 278163.1231633118, 143294.32687094726, 399434.0819318343, 294962.88417166926, 189191.94208135628, 189191.94208135628, 450137.2986089289, 129871.11932780789, 136513.70100974053, 189191.94208135628, 189191.94208135628, 189191.94208135628, 131924.95933695376, 149341.4297754151, 149341.4297754151, 149341.4297754151, 149341.4297754151, 149341.4297754151, 222183.52580370588, 211992.37215036934, 287248.4394471554, 323501.9112206676, 1692531.8201771271, 492061.2775749017, 175872.29995962983, 134728.84142476114, 179389.81690507528, 116084.20364290706, 195591.55490052275, 168712.33003486076, 169531.3429734488, 117908.2823419877, 173174.99455159993, 284652.4362208576, 143288.00993644516, 121444.80332881723, 121444.80332881723, 180156.43556497642, 271296.86677114374, 188048.78468680274, 262078.11653672773, 135644.4884881614, 255019.38289768208, 121444.80332881723, 193619.78071301157, 261953.02692098045, 180156.43556497642, 262078.11653672773, 396445.6431742627, 261953.02692098045, 404994.64895832154, 192976.69751002593, 120853.44486096817, 187945.96811788334, 187945.96811788334, 255983.12564322783, 145413.34442756823, 136008.99731911765, 271652.34766089555, 208372.49550114002, 123305.81192627054, 123305.81192627054, 148594.81290342883, 135839.13504730485, 218800.26151491434, 229146.93387022018, 305175.12430101086, 137176.55332649878, 128071.90176919545, 128071.90176919545, 195333.87263527518, 256374.48882809162, 256374.48882809162, 136608.4682105059, 262011.43187791755, 195333.87263527518, 156443.13341968338, 191329.68604878683, 208383.88569077585, 137176.55332649878, 195333.87263527518, 152004.4806341798, 128071.90176919545, 237728.00917435528, 123332.76674569787, 123332.76674569787, 123332.76674569787, 123332.76674569787, 175164.6830790615, 129588.12231779167, 143259.71755029153, 129863.7420192955, 122242.61508685777, 159561.7171958619, 225027.2583796914, 143259.71755029153, 67490.06876756818, 146898.70288423274, 189191.94208135628, 189191.94208135628, 189191.94208135628, 67630.64926173334, 130140.68129319334, 240477.15827140567, 240200.97633665096, 125221.01708043339, 130513.34825161216, 137444.1496635064, 123332.76674569787, 123332.76674569787, 130513.34825161216, 123746.42736996962, 263292.2335014222, 123332.76674569787, 123332.76674569787, 123332.76674569787, 123332.76674569787, 310537.5100426354, 147734.37206865015, 125221.01708043339, 143259.71755029153, 104579.25518854414, 160351.59880203282, 143603.84604868424, 211522.5023329692, 77701.8294137989, 164021.92191937426, 300496.74778073496, 146185.96663677506, 184633.93156184777, 159664.48815055232, 667873.7245949976, 108693.4719352348, 235004.98360847187, 226515.6364375252, 215934.5363170857, 223379.55025637403, 129752.08927700488, 179013.29902975532, 203129.88413844878, 241085.14715454372, 241085.14715454372, 168962.06926650196, 414358.8370392034, 232547.62769772048, 232852.12135914608, 236103.91153078535, 100171.63372998251, 299857.46778525424, 229329.5375721893, 155972.46316490765, 422268.45175869105, 105981.72066054276, 210320.33765113069, 329370.6257836582, 137599.94556311038, 324058.7258866392, 241722.7412086123, 148037.8296169835, 273500.26255687117, 199938.74375433184, 157835.5636474444, 89498.62887921243, 158522.64229422045, 194573.07299244704, 366864.2155995165, 527643.5748570304, 482823.8804356281, 243239.06549272122, 180573.45088238106, 406127.7392569689, 267016.7896531574, 96751.5462147553, 95929.90219447747, 100562.5597558366, 176563.0929469244, 491786.3826009736, 263189.5476430303, 208383.88569077585, 153011.83251398458, 172381.3910327541, 263147.43001248885, 173329.63946594586, 220469.500321993, 245144.3535760534, 160399.4036496642, 174844.2629704827, 2496044.9609808098, 174856.11549287933, 230358.042210914, 277325.6857634855, 221170.64022392925, 171851.70908283134, 168327.09968451693, 334678.93913010217, 112487.2348658698, 1208092.41921045, 141289.11392379343, 96076.08592176235, 140616.06597100612, 221354.68113924464, 264750.7743397393, 666205.8511972905, 153148.45780340876, 107813.66330469678, 139061.07837855088, 192180.06118691392, 290288.9675496239, 157039.31596033784, 93275.84188234717, 247622.4769339861, 97858.94770851814, 178817.6159817128, 104551.77474470167, 283361.7613607299, 149047.24322333065, 507963.6596739644, 481718.95225850807, 478714.1408784891, 83068.11036270403, 153319.67958217164, 271136.46207863966, 186596.67839644366, 249281.98346991718, 211229.436341036, 318025.05343108316, 343518.39399065665, 137945.2527222383, 278546.7967734035, 179246.64131528634, 222599.74870044552, 179302.3744953601, 374024.069810585, 371635.0940963227, 101003.21117069216, 128119.49991551705, 101907.18673821895, 130926.6322797542, 154694.54924633668, 302001.2366681345, 142680.83772411867, 112550.06947578894, 139021.70921969294, 161814.06969369156, 102908.70330346498, 191934.87333888802, 619891.3443231328, 527805.2915106474, 522001.8363757285, 175729.0803322938, 104284.76640010245, 182825.0335948967, 189395.31822838594, 154553.71198112986, 150485.18748767502, 194009.74520708947, 203255.74165503524, 137837.8115512302, 256354.2285198562, 256354.2285198562, 194868.34522182826, 134306.11062129744, 264726.77995448967, 194868.34522182826, 130678.35810877028, 130678.35810877028, 130678.35810877028, 532515.1545542844, 325433.45760479965, 160429.1959935394, 155932.26020657195, 304035.8384749072, 96571.37662798335, 157327.0243616647, 130846.25105013317, 142739.30935241576, 141260.4231706958, 130881.29869050751, 130881.06832046897, 132021.73773604463, 133798.91289609484, 265762.8706227538, 193483.31226343277, 180134.0736373202, 224905.5242077845, 180134.0736373202, 138004.78166314255, 224905.5242077845, 754094.2830156761, 175508.8066932893, 159487.280787788, 119546.4337753007, 146685.83101495262, 119509.66548425396, 148036.19999751725, 124516.47260509734, 149334.5967209362, 144032.61889194296, 116950.14171758614, 363877.97503929527, 157563.215088841, 289643.64785703865, 153148.45780340876, 208296.11250521883, 215573.90013827232, 319849.23589185905, 471725.6607933754, 258374.09609315603, 258374.09609315603, 129861.76614829547, 129861.76614829547, 129861.76614829547, 129861.76614829547, 365188.2528306126, 407613.94266435143, 226159.83785334427, 344392.43722982693, 161802.98113126933, 97915.09178053458, 108317.84983996284, 374249.806755156, 126603.3206031752, 170850.0180717425, 169309.5240951409, 228829.5109787227, 133730.66618175732, 151225.36873919738, 166862.39914284172, 125664.98979551448, 288823.9804675556, 465548.13803774334, 276147.06794799364, 184886.14555620207, 288293.26955797354, 468670.6843444549, 236167.72182043674, 286506.3676720808, 138025.37744393433, 342968.9654113547, 178279.53704916008, 112796.76597112056, 245610.86746091535, 347609.8490078541, 204067.02743459103, 204067.02743459103, 455846.547421813, 209768.93164078175, 203255.74165503524, 186446.77074393202, 186536.63961239526, 403096.24529271206, 140626.92039429257, 108795.19791776103, 757153.7903620081, 378414.9279488533, 484626.08845553576, 94585.43473931121, 242484.73027865423, 214305.39412761253, 152275.0001938428, 85807.17340432579, 220754.4569262785, 81983.33508981418, 309638.90550119587, 170991.7860049785, 95014.48560213241, 176431.03207970466, 331538.23623820144, 158752.39352282404, 120621.62715160823, 518975.97438906, 245192.30810086933, 102855.79599499165, 144343.66081355623, 168859.0945389109, 134186.87813659798, 119978.63565898826, 405313.1808143141, 415599.20814973733, 747668.4929970315, 163853.4740827045, 339461.7977986262, 115021.46600491529, 628925.883581936, 180696.27160318676, 278244.9307329399, 98861.06309410775, 102837.2211736769, 142441.41885051387, 631330.3986414187, 86362.49099454304, 86362.49099454304, 326426.3611761502, 261434.70301865105, 125007.6408004181, 170422.92612028512, 302153.42089907906, 203955.66692460162, 196031.18374000868, 187653.6838841979, 406911.7387810204, 128664.23679849098, 278278.05109587073, 461365.1183781018, 226666.66305906186, 284418.03624624916, 131247.46377421578, 336037.46216826263, 172064.43340240634, 105724.87578349187, 233052.65084228947, 340923.5465531454, 204475.36020338227, 204475.36020338227, 457097.17281960754, 197715.37049727212, 224291.53882250277, 329033.5638310938, 234303.5525806322, 179957.6957068559, 192589.82459371016, 95725.50375154398, 98756.1510242018, 112365.06098061173, 228140.41344902824, 151938.20187417272, 109722.08219967471, 153900.54114729923, 130827.15992476887, 366870.3574977017, 370187.6602173137, 191317.00354799815, 424265.00877088314, 269446.3128306285, 189723.81115628965, 177233.06163926452, 123521.21714193557, 140194.10679016585, 163786.98103859334, 86495.87389106533, 235966.66654735713, 160893.14126709054, 114368.2980904726, 272453.6116021169, 187628.49507063127, 129196.96928681585, 382961.96274364286, 125084.62451045119, 166835.60826285335, 522770.5180560028, 175819.83821007508, 177086.1679193666, 117785.48883672775, 119527.7137266953, 120048.753466811, 182647.86864153834, 106341.75932575903, 159936.93831367075, 195789.12584681204, 161408.41289666036, 258370.9375846337, 210892.6511490951, 74163.76141628304, 107522.07197790741, 192370.40663073034, 302903.0963026242, 229413.61149294183, 152860.3019327028, 177365.14525106677, 189101.6859042631, 198737.26402973602, 122954.86952825112, 134837.61101665322, 130543.79268081996, 114923.52210861107, 175019.34639623624, 119012.76086088458, 134045.63868137085, 80518.38926021986, 140044.88890471272, 130107.08357086607, 91277.55828806313, 162838.08801417786, 125272.24912474233, 120206.76928856927, 124324.62550639361, 270883.0729275203, 192699.43852300366, 117762.03070855458, 161422.22631485565, 156675.0998908839, 76405.84748699827, 160631.388711437, 231841.52105884295, 176779.70142809575, 265344.32902073127, 179033.75728515195, 157265.48315962416, 140577.32110797445, 142664.27165519085, 194552.74947460042, 210374.7384803346, 134798.54803535176, 73316.69808770361, 540832.584650488, 175917.92298706278, 164557.3189824676, 131807.23698575867, 129474.03041015471, 273471.59785639425, 179027.91136863097, 179027.91136863097, 179027.91136863097, 147578.78423825296, 147578.78423825296, 147578.78423825296, 147578.78423825296, 147578.78423825296, 147578.78423825296, 147578.78423825296, 147578.78423825296, 147578.78423825296, 147578.78423825296, 147578.78423825296, 77368.79156225844, 154049.1828368238, 140867.75130371685, 149326.8552077573, 290588.53342003014, 140373.49007557935, 257456.80388741265, 103405.3981503687, 150052.65174561212, 160205.12673995254, 147699.7189683568, 149713.9714495919, 111548.91972292293, 294936.2894273186, 127179.5740406014, 277655.3304049413, 276107.56053815485, 247457.56683713375, 247457.56683713375, 110387.78188900602, 288555.14006306, 117870.56897300387, 276272.8315153067, 289410.1025559423, 148189.63761968922, 210652.9618375369, 206665.9451507868, 296290.45230868825, 93124.68202937912, 157808.5117500206, 117581.02330490564, 530022.6295211676, 199340.19857970253, 564011.5087886368, 177562.37439201883, 162664.29333024376, 162479.7936438882, 185829.2004292129, 142374.2145913665, 254203.80230913163, 258885.04679151715, 106002.40628752438, 152987.9429016662, 151219.85246906098, 441797.48100236704, 236138.36486595077, 224173.30399030546, 144243.9611033358, 228657.3025611896, 342005.69975423603, 227875.36564973916, 268272.80298335844, 564644.6345755005, 169731.23503091664, 148120.37109048737, 142316.6925480273, 153078.1706960727, 153078.1706960727, 153078.1706960727, 178658.80469093323, 659607.4753340839, 179527.12209432427, 179527.12209432427, 183190.36591996977, 623496.5768735792, 442689.05422171176, 623496.5768735792, 206600.11868660635, 122766.6913770175, 179527.12209432427, 176125.13511151465, 176125.13511151465, 176125.13511151465, 176125.13511151465, 136557.42624315122, 146588.47993002372, 432564.1922735852, 127068.09693084907, 362221.74713233445, 119415.84968934608, 193697.023299771, 217959.08440524995, 122618.44801758962, 177794.4774119504, 283623.24929965386, 199483.84961952546, 328158.65790373145, 151399.67767788417, 482530.4633416033, 106166.035996677, 117319.40640846829, 246776.4643934662, 163143.26575380188, 160631.7146389047, 138335.22400804245, 180001.76169951176, 151750.18835940294, 151750.18835940294, 143315.7954330203, 151750.18835940294, 133984.57810004862, 237619.25957844104, 287228.96786669386, 255858.68232234573, 436716.80712611903, 273840.1455041139, 476856.5435035217, 175662.27736159594, 473610.05075780745, 477666.94326181384, 229497.1323877961, 176761.4848767217, 201561.81244181772, 211845.5620182183, 157710.95273454476, 137837.8115512302, 203255.74165503524, 306849.8397826078, 153415.4948351297, 175392.99390480894, 201561.81244181772, 201561.81244181772, 152583.8050768234, 175392.99390480894, 152583.8050768234, 209768.93164078175, 420084.0818293615, 130678.35810877028, 203255.74165503524, 203255.74165503524, 256354.2285198562, 256354.2285198562, 264726.77995448967, 194868.34522182826, 158415.9762402695, 199824.89510954803, 201962.5886332227, 263188.9603209049, 209982.07150319745, 128864.15947953571, 126500.85959826253, 134620.41272451988, 257541.53182837096, 190096.54161598976, 147900.0031985878, 211737.26665591524, 202699.8022362917, 151066.12668446323, 134187.76458478914, 173068.7573280792, 168950.17245718022, 200005.5054188666, 200005.5054188666, 130546.94610182795, 145149.12682569178, 389116.7546431479, 154692.1992563801, 354742.29438503727, 110688.73228327285, 178331.4321523899, 194239.40853837872, 128912.508764547, 111674.66134125763, 148127.62514624893, 78850.8097188407, 136252.70685539782, 147261.19015396625, 148271.5411270404, 97767.00094707438, 103161.89318115477, 154435.76215693378, 275348.90077529725, 236112.5001578692, 105624.78359146454, 167242.53596732474, 185469.41623253224, 169438.51945305962, 159924.22452802391, 165215.07002305612, 491624.07071345916, 150450.6107782233, 155954.29027531657, 198680.97251397837, 229715.9673108865, 140400.73776346672, 128701.58763556604, 186255.5071882312, 122227.61269468456, 170583.98533861403, 277684.0972735287, 173816.7125451501, 190744.65458140246, 757146.3595945889, 178387.48828850247, 155889.6784225644, 360493.7983475123, 143244.4425543136, 117138.5295525023, 253899.9385084315, 446316.71374668647, 150638.9883443277, 198925.70262114936, 174859.4219525546, 310511.7262065902, 131628.48315528192, 155626.80948133918, 263895.53660481697, 183874.1025349252, 278578.40360123885, 126500.85959826253, 135525.71281405294, 257541.53182837096, 202297.26381176067, 219008.2647477684, 166408.17141519277, 149988.90304742302, 257546.24939457045, 124467.51725120553, 151218.8541560067, 278270.2288530867, 462099.55529834057, 226279.3931314516, 280854.7380134626, 128099.389185377, 337156.65420427406, 173192.8859959452, 105346.94383382823, 232139.32799339734, 341458.1439679037, 203795.93677073444, 203795.93677073444, 457081.7528092063, 151066.12668446323, 173068.7573280792, 145469.46493084298, 202278.77283128933, 211806.59696349184, 202278.77283128933, 150784.1416944937, 137781.55683543885, 173711.83941843075, 148128.40977070562, 123062.95338917014, 201878.8662803315, 133107.04008221687, 256338.40042849368, 262812.3408385584, 147959.7147109753, 201878.8662803315, 149028.98910835828, 262812.3408385584, 256338.40042849368, 137281.92297090814, 201878.8662803315, 154810.58557920248, 95571.00141079906, 115278.09512127483, 113935.70788328742, 212390.0055574797, 190723.1233939481, 133609.14957495028, 147988.55701605338, 210271.30733686677, 135631.00696823507, 252469.5039810728, 137158.34145654202, 138364.08033469506, 137158.34145654202, 239775.62205277136, 130369.7049268078, 383071.1316117613, 102031.19123907751, 152242.75528718383, 169891.18180418797, 99856.29606383272, 1374381.9155157346, 91355.16644985332, 94426.76477380536, 149912.92534867692, 134909.32848830763, 93768.31033699466, 93768.31033699466, 95341.5366297249, 91938.57787740139, 77661.41202163624, 194350.82018247579, 190049.68969260622, 125873.56393806086, 165940.05741009067, 137790.66330305135, 134084.26839904557, 1104345.257502442, 200759.3088407779, 104294.63792700817, 163096.94591115808, 143509.32345413466, 147791.2438395727, 148558.05824070552, 147877.47310525883, 141761.44709593809, 254216.56811259876, 254556.46965758852, 204700.7284415349, 164515.08204401782, 253214.12717781749, 117793.84459179599, 168112.425730947, 86182.73802348223, 123964.90061652796, 130370.71270685604, 107265.48562083837, 335167.7347190669, 171723.97059203542, 579994.921197025, 392620.3007403088, 177097.97494216138, 218195.70187904302, 100673.22146160874, 153200.7466480248, 442993.27833375445, 104685.71417949826, 138839.0955619586, 126668.7778844235, 227381.27724829214, 180109.9177588336, 226441.27573875152, 91590.07476326174, 187703.7617912153, 466687.2539434468, 161016.63467748213, 140394.13123969614, 378713.63832351356, 130270.3634882035, 124074.92583734669, 124074.92583734669, 239478.91862151408, 255387.69254752947, 434053.18967570073, 179125.44458660233, 160545.36944544673, 227228.69153870546, 210840.80945590194, 137281.92297090814, 148374.5804863248, 133107.04008221687, 263583.702609442, 347968.9713235749, 347254.0306229424, 278147.9685294219, 654949.9299977276, 188997.50377234534, 370855.98309371737, 106703.24737372546, 161036.9147085242, 458203.8606201945, 378710.7215321903, 691274.2121297508, 159905.81767048436, 187291.47203882987, 636412.6370079814, 232360.25486227986, 202960.27436209327, 121826.8054541608, 277553.406361154, 270305.53494197613, 203662.58071161935, 204047.57834721787, 271231.11700515036, 212104.60701895988, 421780.0169030739, 212104.60701895988, 277933.7587737516, 123062.95338917014, 173733.01515673345, 173733.01515673345, 256338.40042849368, 262812.3408385584, 123062.95338917014, 271231.11700515036, 204047.57834721787, 201965.5579509345, 174974.93400643417, 256806.47869305158, 187291.47203882987, 256806.47869305158, 201965.5579509345, 256806.47869305158, 122315.89210563921, 255791.21136707588, 172069.009337849, 155629.37552383772, 359159.1487999016, 141000.63610191163, 238936.97884522163, 298955.9964449309, 205848.28056563094, 121965.64323398945, 230729.2024279315, 160465.32237934804, 217134.97027275703, 108321.96743189337, 95749.69421376626, 222310.4195895957, 468484.2331082039, 203077.80423750915, 163099.43644895114, 277684.0972735287, 234217.1467692295, 217098.83356241716, 181757.3552498874, 163518.13613019354, 163518.13613019354, 168609.898556764, 141897.84969862277, 139419.51776246136, 219686.7981496405, 171006.0115179815, 149473.79826269945, 561567.979736918, 779995.4030998624, 221720.6685208468, 438419.2691683564, 150660.6106192732, 646112.0945001928, 178366.59036507216, 230744.0732738852, 158789.89050874094, 211946.35991353818, 87373.74700071647, 127582.63049724448, 93887.0212733233, 98716.99109588479, 108638.15156414678, 153320.6300270121, 173168.4137419291, 85560.66340126943, 384881.25386901415, 156766.66819208942, 97757.57825237885, 154067.12977802684, 213702.88810961926, 180737.9163375245, 244016.36736624513, 116763.66141936328, 161364.63869069307, 106550.97971571442, 348997.6938797263, 116752.80571430679, 272633.41180573276, 128655.75673057947, 188124.94972284112, 524762.3330348713, 320413.4175072133, 744112.4550456995, 190096.54161598976, 187125.12225227916, 256486.75675790597, 148128.40977070562, 125601.65750495179, 184631.45632504928, 186806.2926340956, 147600.91567385942, 147600.91567385942, 200825.64223672898, 201878.8662803315, 201878.8662803315, 147447.655035824, 147447.655035824, 133096.15218102327, 263583.702609442, 201103.8310564439, 170962.06354887385, 228707.82983578605, 179781.85769114943, 301805.2204998788, 194981.77190439374, 112436.6744593591, 263602.08106619044, 232436.93149755403, 118732.85592548692, 118732.85592548692, 528894.2907989628, 340087.63060729974, 340087.63060729974, 307749.2459328797, 295166.0838074578, 325919.93848544714, 129861.76614829547, 131023.57242034475, 83408.96065459053, 116157.83861281283, 187885.22746081577, 179516.78785125926, 169102.55548125488, 135439.79377110215, 184133.77427350712, 152108.26169515675, 101198.81137251305, 98064.52652758262, 147104.37954902364, 137344.9543239825, 165630.23161872095, 158453.01971774438, 217424.11936702573, 194011.0214827997, 100629.75759107087, 124091.00758688031, 237537.04119771143, 120612.10289948048, 124589.77641662788, 145762.78690729328, 393851.88962815574, 128294.98600081439, 233242.91340033582, 122841.24822542306, 170697.92356391042, 118845.2732895473, 328487.8000878637, 454855.37905286206, 181694.46255726542, 116158.89431778406, 590390.4071908551, 84567.85202848294, 141943.4586365961, 101157.87986659282, 344984.143765597, 119235.43992029935, 170861.62280002836, 159312.47763685303, 97856.06186129028, 176768.74017027928, 67230.18836422582, 268160.7347782045, 268160.7347782045, 277128.5918704276, 123011.56025185142, 200157.60570268144, 321703.4707427124, 135421.12284035928, 217077.1239849779, 160498.31218403135, 119474.2414095224, 100698.5287646391, 133634.62259378267, 149355.41405098385, 194071.99777732365, 233955.04722278242, 112969.38291093204, 250887.89560510052, 282339.1185415538, 293666.0334119795, 183924.14045090464, 404760.1117020155, 1078600.0208410462, 421179.6219837788, 421179.6219837788, 174668.9224185035, 92211.43343295685, 155227.19623514853, 137458.00368388227, 275186.48424469354, 208084.2349209269, 307490.1239312947, 137812.57093052042, 159953.83750294909, 109896.96704171672, 251972.80819751346, 175802.842795433, 186580.31291815135, 191196.34334489435, 184589.03241748892, 289200.5090054218, 289854.9268652543, 288855.00047073775, 206721.17845623798, 376263.49712560576, 137999.12036926873, 425295.7825656872, 204457.4137258244, 290923.5744460691, 185335.27558947788, 178951.00802356444, 99016.21378302413, 285750.2548124561, 196637.55574187997, 168553.0855898918, 161787.91721292547, 126731.98474841866, 178239.5469938651, 169304.7849666679, 366391.62331113266, 133565.95912059295, 174484.45956218173, 354391.9815735055, 236773.064623066, 142928.74673360796, 147463.93967697353, 276407.4607672988, 157099.36324410717, 252228.70201522196, 193798.35203634173, 187876.7128240888, 280289.4722429303, 485403.99356866913, 410191.80572533666, 180241.45740185367, 200254.01266239636, 190437.130660913, 139586.84408550462, 206825.5805265539, 212155.78718411224, 163292.74873876834, 90247.05588258864, 77766.33723554165, 96937.07513076978, 140841.29323645466, 133243.15128512442, 194679.3280589893, 191406.80835718146, 99358.46930975319, 120240.64510241045, 240672.72607150648, 99909.58592832486, 120933.59955844925, 152595.80080092882, 234502.0401774526, 255461.69521165558, 127997.06157616724, 275716.66984562244, 268454.27095888363, 154279.27266068256, 195356.0343443727, 155545.81100386815, 448553.2949492326, 178992.9381912303, 268524.38196566753, 317327.1566376951, 386236.23589674744, 386236.23589674744, 229457.32806129256, 134891.24837169787, 162335.29593136255, 171445.4129905066, 897527.1828282364, 211731.22617860796, 255694.38970685354, 129014.16545228729, 185599.58433453485, 568672.455584537, 122311.82877857056, 290772.00398390676, 422879.92232346704, 261715.95212293233, 136072.04661649466, 137138.68468041925, 127470.7839566065, 189994.2701231434, 150498.44266680744, 173711.83941843075, 110167.60954027581, 157432.0533994368, 184631.45632504928, 278268.3201329396, 505262.51834692026, 226059.79932434784, 282644.9124195557, 128068.2097545902, 337716.79799214395, 172650.7984577111, 105350.99441203832, 236675.2011542065, 341548.2351222338, 203218.4872140133, 203218.4872140133, 146833.46160648207, 175766.9961168372, 176036.12494102318, 176036.12494102318, 276985.5887388715, 211723.8765791652, 211723.8765791652, 185090.97078477824, 176028.8004254175, 185944.76379605802, 146780.68514756826, 150789.60769327116, 132116.22306939523, 221427.13346142304, 165213.20882688384, 300538.0766292227, 150727.4253897235, 118366.84767854461, 224510.41074072948, 158796.0341550918, 70416.40801451473, 97726.58998602806, 83709.80866348284, 116516.90177954135, 191267.93697232442, 150325.74661468784, 125006.86916387863, 265304.8830772666, 140547.45231391818, 304098.5131900156, 180993.7116861112, 259817.80767230288, 150661.7663502502, 100022.03502747903, 249626.36191214484, 212617.45158982536, 153163.49144863687, 260867.70934819142, 139243.92616481535, 139145.16252947392, 216315.91156347757, 145740.09182332773, 127983.43387816339, 149295.7681769348, 155290.6766116247, 146280.74138981244, 130888.88815422541, 215065.6232117184, 185107.75261504034, 207665.18925494672, 703120.8487989185, 148424.2481110693, 138002.11590929612, 111422.45917262032, 150873.9952566221, 237587.778622958, 237587.778622958, 507748.9511205533, 66079.71957867744, 178747.5739861883, 214104.66394046444, 164394.1936558429]\n"
     ]
    }
   ],
   "source": [
    "print(y_final)"
   ]
  },
  {
   "cell_type": "code",
   "execution_count": 230,
   "metadata": {
    "collapsed": false
   },
   "outputs": [],
   "source": [
    "# escribir al archivo\n",
    "output = pd.DataFrame( data={\"id\":test_df[\"id\"], \"price_usd\":y_final} )\n",
    "output.to_csv( \"../data/result/ensamblev02_rf2_\"+str(now)+\".csv\", index=False, quoting=3 )"
   ]
  },
  {
   "cell_type": "code",
   "execution_count": null,
   "metadata": {
    "collapsed": true
   },
   "outputs": [],
   "source": [
    "notebook_time = time() - start_notebook_time\n",
    "notebook_time = notebook_time/60\n",
    "print(\"Minutos totales del notebook: %0.2f \" % predict_time)"
   ]
  }
 ],
 "metadata": {
  "kernelspec": {
   "display_name": "Python 3",
   "language": "python",
   "name": "python3"
  },
  "language_info": {
   "codemirror_mode": {
    "name": "ipython",
    "version": 3
   },
   "file_extension": ".py",
   "mimetype": "text/x-python",
   "name": "python",
   "nbconvert_exporter": "python",
   "pygments_lexer": "ipython3",
   "version": "3.5.2"
  }
 },
 "nbformat": 4,
 "nbformat_minor": 2
}
