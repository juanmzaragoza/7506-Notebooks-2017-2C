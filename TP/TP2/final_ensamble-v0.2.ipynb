{
 "cells": [
  {
   "cell_type": "markdown",
   "metadata": {},
   "source": [
    "<h1 style=\"text-align: center;\" markdown=\"1\">TP2: Ensamble FINAL</h1>\n",
    "![](../data/icon_properati-data.png)\n",
    "\n",
    "Se entrenaran varios algoritmos y se iran combinando en este mismo notebook."
   ]
  },
  {
   "cell_type": "code",
   "execution_count": 1,
   "metadata": {
    "collapsed": false
   },
   "outputs": [
    {
     "name": "stdout",
     "output_type": "stream",
     "text": [
      "Populating the interactive namespace from numpy and matplotlib\n"
     ]
    },
    {
     "name": "stderr",
     "output_type": "stream",
     "text": [
      "/opt/conda/lib/python3.5/site-packages/IPython/core/magics/pylab.py:161: UserWarning: pylab import has clobbered these variables: ['plt']\n",
      "`%matplotlib` prevents importing * from pylab and numpy\n",
      "  \"\\n`%matplotlib` prevents importing * from pylab and numpy\"\n"
     ]
    }
   ],
   "source": [
    "import numpy as np \n",
    "import pandas as pd\n",
    "\n",
    "# plots\n",
    "import matplotlib.pyplot as plt\n",
    "import seaborn as sns\n",
    "%matplotlib inline\n",
    "%pylab inline\n",
    "\n",
    "# modules\n",
    "import knn as knnlibrary"
   ]
  },
  {
   "cell_type": "markdown",
   "metadata": {},
   "source": [
    "## Obtener y limpiar dataset"
   ]
  },
  {
   "cell_type": "code",
   "execution_count": 2,
   "metadata": {
    "collapsed": false
   },
   "outputs": [
    {
     "data": {
      "text/html": [
       "<div>\n",
       "<table border=\"1\" class=\"dataframe\">\n",
       "  <thead>\n",
       "    <tr style=\"text-align: right;\">\n",
       "      <th></th>\n",
       "      <th>id</th>\n",
       "      <th>created_on</th>\n",
       "      <th>operation</th>\n",
       "      <th>property_type</th>\n",
       "      <th>place_name</th>\n",
       "      <th>place_with_parent_names</th>\n",
       "      <th>country_name</th>\n",
       "      <th>state_name</th>\n",
       "      <th>geonames_id</th>\n",
       "      <th>lat-lon</th>\n",
       "      <th>...</th>\n",
       "      <th>surface_covered_in_m2</th>\n",
       "      <th>price_usd_per_m2</th>\n",
       "      <th>price_per_m2</th>\n",
       "      <th>floor</th>\n",
       "      <th>rooms</th>\n",
       "      <th>expenses</th>\n",
       "      <th>properati_url</th>\n",
       "      <th>description</th>\n",
       "      <th>title</th>\n",
       "      <th>image_thumbnail</th>\n",
       "    </tr>\n",
       "  </thead>\n",
       "  <tbody>\n",
       "    <tr>\n",
       "      <th>0</th>\n",
       "      <td>ecc59daba3d5bc726ae8aa9dbccfe79635aef175</td>\n",
       "      <td>2016-06-01</td>\n",
       "      <td>sell</td>\n",
       "      <td>apartment</td>\n",
       "      <td>Palermo</td>\n",
       "      <td>|Argentina|Capital Federal|Palermo|</td>\n",
       "      <td>Argentina</td>\n",
       "      <td>Capital Federal</td>\n",
       "      <td>3430234.0</td>\n",
       "      <td>-34.5888560251,-58.4087713338</td>\n",
       "      <td>...</td>\n",
       "      <td>130.0</td>\n",
       "      <td>NaN</td>\n",
       "      <td>3461.538462</td>\n",
       "      <td>5.0</td>\n",
       "      <td>4.0</td>\n",
       "      <td>NaN</td>\n",
       "      <td>http://www.properati.com.ar/ys05_venta_departa...</td>\n",
       "      <td>UNIDAD AL FRENTE CON BALCON CORRIDO Y 2 COCHER...</td>\n",
       "      <td>IMPECABLE PISO DE 4 AMB + DEP Y 2 COCHERAS</td>\n",
       "      <td>https://thumbs4.properati.com/2/RbSA4pJRsv2S8M...</td>\n",
       "    </tr>\n",
       "    <tr>\n",
       "      <th>1</th>\n",
       "      <td>7f1423f29df530cae38e7a59ddc6430c7da7ca38</td>\n",
       "      <td>2016-06-01</td>\n",
       "      <td>sell</td>\n",
       "      <td>apartment</td>\n",
       "      <td>Once</td>\n",
       "      <td>|Argentina|Capital Federal|Once|</td>\n",
       "      <td>Argentina</td>\n",
       "      <td>Capital Federal</td>\n",
       "      <td>3430291.0</td>\n",
       "      <td>-34.6033997612,-58.3984088548</td>\n",
       "      <td>...</td>\n",
       "      <td>46.0</td>\n",
       "      <td>NaN</td>\n",
       "      <td>2065.217391</td>\n",
       "      <td>1.0</td>\n",
       "      <td>1.0</td>\n",
       "      <td>NaN</td>\n",
       "      <td>http://www.properati.com.ar/ys06_venta_departa...</td>\n",
       "      <td>SE VENDE A ESTRENAR EN PLENO CORAZON DE ONCE !...</td>\n",
       "      <td>Excelentes oficinas a estrenar!!!!!</td>\n",
       "      <td>https://thumbs4.properati.com/8/IMCZ4CqITeOqx5...</td>\n",
       "    </tr>\n",
       "    <tr>\n",
       "      <th>2</th>\n",
       "      <td>4fdd84d998a3f82f4a3b36f405cc3f7013fb642e</td>\n",
       "      <td>2016-06-01</td>\n",
       "      <td>sell</td>\n",
       "      <td>store</td>\n",
       "      <td>Barrio Norte</td>\n",
       "      <td>|Argentina|Capital Federal|Barrio Norte|</td>\n",
       "      <td>Argentina</td>\n",
       "      <td>Capital Federal</td>\n",
       "      <td>3436109.0</td>\n",
       "      <td>-34.595849,-58.386979</td>\n",
       "      <td>...</td>\n",
       "      <td>0.0</td>\n",
       "      <td>NaN</td>\n",
       "      <td>NaN</td>\n",
       "      <td>NaN</td>\n",
       "      <td>NaN</td>\n",
       "      <td>500.0</td>\n",
       "      <td>http://www.properati.com.ar/ys0r_venta_local_b...</td>\n",
       "      <td>Local en Venta sobre Avenida Santa Fe.Ideal pa...</td>\n",
       "      <td>Local sobre Av. Santa Fe</td>\n",
       "      <td>https://thumbs4.properati.com/9/-VNE04tbyVFfcO...</td>\n",
       "    </tr>\n",
       "    <tr>\n",
       "      <th>3</th>\n",
       "      <td>a786b4d9a8f6cc86ba3e839f4cb85bbb03cf15fd</td>\n",
       "      <td>2016-06-01</td>\n",
       "      <td>sell</td>\n",
       "      <td>house</td>\n",
       "      <td>Adrogué</td>\n",
       "      <td>|Argentina|Bs.As. G.B.A. Zona Sur|Almirante Br...</td>\n",
       "      <td>Argentina</td>\n",
       "      <td>Bs.As. G.B.A. Zona Sur</td>\n",
       "      <td>NaN</td>\n",
       "      <td>-34.796679,-58.3993149</td>\n",
       "      <td>...</td>\n",
       "      <td>0.0</td>\n",
       "      <td>1285.714286</td>\n",
       "      <td>NaN</td>\n",
       "      <td>NaN</td>\n",
       "      <td>6.0</td>\n",
       "      <td>NaN</td>\n",
       "      <td>http://www.properati.com.ar/ys10_venta_casa_ad...</td>\n",
       "      <td>CHALET INMEJORABLE UBICACIÓN: PLANTA BAJA: AMP...</td>\n",
       "      <td>IMPORTANTE CHALET ZONA MUY RESIDENCIAL</td>\n",
       "      <td>https://thumbs4.properati.com/5/FhMeTqvYjAiHVS...</td>\n",
       "    </tr>\n",
       "    <tr>\n",
       "      <th>4</th>\n",
       "      <td>9844244d17eb024e0632a63b4098b67889de06bc</td>\n",
       "      <td>2016-06-01</td>\n",
       "      <td>sell</td>\n",
       "      <td>house</td>\n",
       "      <td>Pilar</td>\n",
       "      <td>|Argentina|Bs.As. G.B.A. Zona Norte|Pilar|</td>\n",
       "      <td>Argentina</td>\n",
       "      <td>Bs.As. G.B.A. Zona Norte</td>\n",
       "      <td>3429979.0</td>\n",
       "      <td>NaN</td>\n",
       "      <td>...</td>\n",
       "      <td>120.0</td>\n",
       "      <td>1250.000000</td>\n",
       "      <td>1250.000000</td>\n",
       "      <td>NaN</td>\n",
       "      <td>4.0</td>\n",
       "      <td>NaN</td>\n",
       "      <td>http://www.properati.com.ar/ys1c_venta_casa_pi...</td>\n",
       "      <td>Casa muy funcional, desarrollada en una sola p...</td>\n",
       "      <td>BAYUGAR PROPIEDADES/ LINDISIMA CASA/ BARRIO CA...</td>\n",
       "      <td>https://thumbs4.properati.com/2/dxU45Z8wqh3Mdq...</td>\n",
       "    </tr>\n",
       "  </tbody>\n",
       "</table>\n",
       "<p>5 rows × 27 columns</p>\n",
       "</div>"
      ],
      "text/plain": [
       "                                         id  created_on operation  \\\n",
       "0  ecc59daba3d5bc726ae8aa9dbccfe79635aef175  2016-06-01      sell   \n",
       "1  7f1423f29df530cae38e7a59ddc6430c7da7ca38  2016-06-01      sell   \n",
       "2  4fdd84d998a3f82f4a3b36f405cc3f7013fb642e  2016-06-01      sell   \n",
       "3  a786b4d9a8f6cc86ba3e839f4cb85bbb03cf15fd  2016-06-01      sell   \n",
       "4  9844244d17eb024e0632a63b4098b67889de06bc  2016-06-01      sell   \n",
       "\n",
       "  property_type    place_name  \\\n",
       "0     apartment       Palermo   \n",
       "1     apartment          Once   \n",
       "2         store  Barrio Norte   \n",
       "3         house       Adrogué   \n",
       "4         house         Pilar   \n",
       "\n",
       "                             place_with_parent_names country_name  \\\n",
       "0                |Argentina|Capital Federal|Palermo|    Argentina   \n",
       "1                   |Argentina|Capital Federal|Once|    Argentina   \n",
       "2           |Argentina|Capital Federal|Barrio Norte|    Argentina   \n",
       "3  |Argentina|Bs.As. G.B.A. Zona Sur|Almirante Br...    Argentina   \n",
       "4         |Argentina|Bs.As. G.B.A. Zona Norte|Pilar|    Argentina   \n",
       "\n",
       "                 state_name  geonames_id                        lat-lon  \\\n",
       "0           Capital Federal    3430234.0  -34.5888560251,-58.4087713338   \n",
       "1           Capital Federal    3430291.0  -34.6033997612,-58.3984088548   \n",
       "2           Capital Federal    3436109.0          -34.595849,-58.386979   \n",
       "3    Bs.As. G.B.A. Zona Sur          NaN         -34.796679,-58.3993149   \n",
       "4  Bs.As. G.B.A. Zona Norte    3429979.0                            NaN   \n",
       "\n",
       "                         ...                          surface_covered_in_m2  \\\n",
       "0                        ...                                          130.0   \n",
       "1                        ...                                           46.0   \n",
       "2                        ...                                            0.0   \n",
       "3                        ...                                            0.0   \n",
       "4                        ...                                          120.0   \n",
       "\n",
       "   price_usd_per_m2  price_per_m2 floor  rooms  expenses  \\\n",
       "0               NaN   3461.538462   5.0    4.0       NaN   \n",
       "1               NaN   2065.217391   1.0    1.0       NaN   \n",
       "2               NaN           NaN   NaN    NaN     500.0   \n",
       "3       1285.714286           NaN   NaN    6.0       NaN   \n",
       "4       1250.000000   1250.000000   NaN    4.0       NaN   \n",
       "\n",
       "                                       properati_url  \\\n",
       "0  http://www.properati.com.ar/ys05_venta_departa...   \n",
       "1  http://www.properati.com.ar/ys06_venta_departa...   \n",
       "2  http://www.properati.com.ar/ys0r_venta_local_b...   \n",
       "3  http://www.properati.com.ar/ys10_venta_casa_ad...   \n",
       "4  http://www.properati.com.ar/ys1c_venta_casa_pi...   \n",
       "\n",
       "                                         description  \\\n",
       "0  UNIDAD AL FRENTE CON BALCON CORRIDO Y 2 COCHER...   \n",
       "1  SE VENDE A ESTRENAR EN PLENO CORAZON DE ONCE !...   \n",
       "2  Local en Venta sobre Avenida Santa Fe.Ideal pa...   \n",
       "3  CHALET INMEJORABLE UBICACIÓN: PLANTA BAJA: AMP...   \n",
       "4  Casa muy funcional, desarrollada en una sola p...   \n",
       "\n",
       "                                               title  \\\n",
       "0         IMPECABLE PISO DE 4 AMB + DEP Y 2 COCHERAS   \n",
       "1                Excelentes oficinas a estrenar!!!!!   \n",
       "2                           Local sobre Av. Santa Fe   \n",
       "3             IMPORTANTE CHALET ZONA MUY RESIDENCIAL   \n",
       "4  BAYUGAR PROPIEDADES/ LINDISIMA CASA/ BARRIO CA...   \n",
       "\n",
       "                                     image_thumbnail  \n",
       "0  https://thumbs4.properati.com/2/RbSA4pJRsv2S8M...  \n",
       "1  https://thumbs4.properati.com/8/IMCZ4CqITeOqx5...  \n",
       "2  https://thumbs4.properati.com/9/-VNE04tbyVFfcO...  \n",
       "3  https://thumbs4.properati.com/5/FhMeTqvYjAiHVS...  \n",
       "4  https://thumbs4.properati.com/2/dxU45Z8wqh3Mdq...  \n",
       "\n",
       "[5 rows x 27 columns]"
      ]
     },
     "execution_count": 2,
     "metadata": {},
     "output_type": "execute_result"
    }
   ],
   "source": [
    "properties =knnlibrary.get_dataset()\n",
    "properties.head()"
   ]
  },
  {
   "cell_type": "code",
   "execution_count": 3,
   "metadata": {
    "collapsed": false
   },
   "outputs": [
    {
     "name": "stdout",
     "output_type": "stream",
     "text": [
      "<class 'pandas.core.frame.DataFrame'>\n",
      "Int64Index: 251014 entries, 18733 to 80257\n",
      "Data columns (total 27 columns):\n",
      "id                            251014 non-null object\n",
      "created_on                    251014 non-null object\n",
      "operation                     251014 non-null object\n",
      "property_type                 251014 non-null object\n",
      "place_name                    250976 non-null object\n",
      "place_with_parent_names       251014 non-null object\n",
      "country_name                  251014 non-null object\n",
      "state_name                    251014 non-null object\n",
      "geonames_id                   211841 non-null float64\n",
      "lat-lon                       178105 non-null object\n",
      "lat                           178105 non-null float64\n",
      "lon                           178105 non-null float64\n",
      "price                         219627 non-null float64\n",
      "currency                      217500 non-null object\n",
      "price_aprox_local_currency    219627 non-null float64\n",
      "price_aprox_usd               219627 non-null float64\n",
      "surface_total_in_m2           175419 non-null float64\n",
      "surface_covered_in_m2         213569 non-null float64\n",
      "price_usd_per_m2              148604 non-null float64\n",
      "price_per_m2                  189959 non-null float64\n",
      "floor                         21985 non-null float64\n",
      "rooms                         132595 non-null float64\n",
      "expenses                      26699 non-null float64\n",
      "properati_url                 251014 non-null object\n",
      "description                   251005 non-null object\n",
      "title                         251014 non-null object\n",
      "image_thumbnail               246610 non-null object\n",
      "dtypes: float64(13), object(14)\n",
      "memory usage: 53.6+ MB\n"
     ]
    }
   ],
   "source": [
    "# obtenemos las propiedades del ultimo año\n",
    "properties_lastyear = properties[properties['created_on']>'2016-10-01']\n",
    "properties_lastyear.info()"
   ]
  },
  {
   "cell_type": "code",
   "execution_count": 4,
   "metadata": {
    "collapsed": false
   },
   "outputs": [
    {
     "name": "stdout",
     "output_type": "stream",
     "text": [
      "<class 'pandas.core.frame.DataFrame'>\n",
      "Int64Index: 171941 entries, 18733 to 80257\n",
      "Data columns (total 27 columns):\n",
      "id                            171941 non-null object\n",
      "created_on                    171941 non-null object\n",
      "operation                     171941 non-null object\n",
      "property_type                 171941 non-null object\n",
      "place_name                    171903 non-null object\n",
      "place_with_parent_names       171941 non-null object\n",
      "country_name                  171941 non-null object\n",
      "state_name                    171941 non-null object\n",
      "geonames_id                   135676 non-null float64\n",
      "lat-lon                       119815 non-null object\n",
      "lat                           119815 non-null float64\n",
      "lon                           119815 non-null float64\n",
      "price                         158267 non-null float64\n",
      "currency                      157583 non-null object\n",
      "price_aprox_local_currency    158267 non-null float64\n",
      "price_aprox_usd               158267 non-null float64\n",
      "surface_total_in_m2           127538 non-null float64\n",
      "surface_covered_in_m2         156229 non-null float64\n",
      "price_usd_per_m2              112758 non-null float64\n",
      "price_per_m2                  144050 non-null float64\n",
      "floor                         16020 non-null float64\n",
      "rooms                         88023 non-null float64\n",
      "expenses                      22548 non-null float64\n",
      "properati_url                 171941 non-null object\n",
      "description                   171936 non-null object\n",
      "title                         171941 non-null object\n",
      "image_thumbnail               169164 non-null object\n",
      "dtypes: float64(13), object(14)\n",
      "memory usage: 36.7+ MB\n"
     ]
    }
   ],
   "source": [
    "# filtro por CABA y GBA\n",
    "properties_caba = properties_lastyear[(properties_lastyear['place_with_parent_names'].str.contains('Capital Federal') \\\n",
    "                             | properties_lastyear['place_with_parent_names'].str.contains('Bs.As. G.B.A.'))]\n",
    "\n",
    "properties_caba.info()"
   ]
  },
  {
   "cell_type": "code",
   "execution_count": 5,
   "metadata": {
    "collapsed": false
   },
   "outputs": [
    {
     "data": {
      "text/html": [
       "<div>\n",
       "<table border=\"1\" class=\"dataframe\">\n",
       "  <thead>\n",
       "    <tr style=\"text-align: right;\">\n",
       "      <th></th>\n",
       "      <th>price</th>\n",
       "      <th>price_aprox_usd</th>\n",
       "      <th>price_aprox_local_currency</th>\n",
       "      <th>currency</th>\n",
       "    </tr>\n",
       "  </thead>\n",
       "  <tbody>\n",
       "    <tr>\n",
       "      <th>18733</th>\n",
       "      <td>130000.0</td>\n",
       "      <td>130000.00</td>\n",
       "      <td>2075905.00</td>\n",
       "      <td>USD</td>\n",
       "    </tr>\n",
       "    <tr>\n",
       "      <th>18739</th>\n",
       "      <td>2898000.0</td>\n",
       "      <td>182545.43</td>\n",
       "      <td>2914976.69</td>\n",
       "      <td>ARS</td>\n",
       "    </tr>\n",
       "    <tr>\n",
       "      <th>18742</th>\n",
       "      <td>395000.0</td>\n",
       "      <td>395000.00</td>\n",
       "      <td>6307557.50</td>\n",
       "      <td>USD</td>\n",
       "    </tr>\n",
       "    <tr>\n",
       "      <th>18745</th>\n",
       "      <td>69000.0</td>\n",
       "      <td>69000.00</td>\n",
       "      <td>1101826.50</td>\n",
       "      <td>USD</td>\n",
       "    </tr>\n",
       "    <tr>\n",
       "      <th>18746</th>\n",
       "      <td>NaN</td>\n",
       "      <td>NaN</td>\n",
       "      <td>NaN</td>\n",
       "      <td>NaN</td>\n",
       "    </tr>\n",
       "  </tbody>\n",
       "</table>\n",
       "</div>"
      ],
      "text/plain": [
       "           price  price_aprox_usd  price_aprox_local_currency currency\n",
       "18733   130000.0        130000.00                  2075905.00      USD\n",
       "18739  2898000.0        182545.43                  2914976.69      ARS\n",
       "18742   395000.0        395000.00                  6307557.50      USD\n",
       "18745    69000.0         69000.00                  1101826.50      USD\n",
       "18746        NaN              NaN                         NaN      NaN"
      ]
     },
     "execution_count": 5,
     "metadata": {},
     "output_type": "execute_result"
    }
   ],
   "source": [
    "# se puede ver que tenemos diferencias entre proce y price aprox usd\n",
    "properties_caba[['price','price_aprox_usd','price_aprox_local_currency','currency']].head()"
   ]
  },
  {
   "cell_type": "code",
   "execution_count": 6,
   "metadata": {
    "collapsed": false
   },
   "outputs": [
    {
     "name": "stdout",
     "output_type": "stream",
     "text": [
      "(19695, 27)\n",
      "(13674, 27)\n",
      "(13674, 27)\n",
      "(0, 27)\n"
     ]
    }
   ],
   "source": [
    "print(properties_caba[properties_caba['price'] != properties_caba['price_aprox_usd']].shape)\n",
    "print(properties_caba[np.isnan(properties_caba['price'])].shape)\n",
    "print(properties_caba[np.isnan(properties_caba['price_aprox_usd'])].shape)\n",
    "print(properties_caba[(properties_caba['price'] != properties_caba['price_aprox_usd']) & np.isnan(properties_caba['price']) & (properties_caba['price_aprox_usd'])].shape)"
   ]
  },
  {
   "cell_type": "markdown",
   "metadata": {},
   "source": [
    "Podemos llegar a la conclusion que nos conviene quedarnos con price_aprox_usd"
   ]
  },
  {
   "cell_type": "code",
   "execution_count": 7,
   "metadata": {
    "collapsed": true
   },
   "outputs": [],
   "source": [
    "properties_caba = properties_caba[properties_caba['price_aprox_usd'].notnull() & properties_caba['price_aprox_usd'] > 0 \\\n",
    "                                  & properties_caba['place_name'].notnull()]"
   ]
  },
  {
   "cell_type": "code",
   "execution_count": 8,
   "metadata": {
    "collapsed": false
   },
   "outputs": [
    {
     "name": "stdout",
     "output_type": "stream",
     "text": [
      "<class 'pandas.core.frame.DataFrame'>\n",
      "Int64Index: 157577 entries, 18733 to 80257\n",
      "Data columns (total 12 columns):\n",
      "created_on               157577 non-null object\n",
      "property_type            157577 non-null object\n",
      "place_name               157539 non-null object\n",
      "state_name               157577 non-null object\n",
      "lat                      109791 non-null float64\n",
      "lon                      109791 non-null float64\n",
      "surface_total_in_m2      116736 non-null float64\n",
      "surface_covered_in_m2    145437 non-null float64\n",
      "floor                    15462 non-null float64\n",
      "rooms                    80335 non-null float64\n",
      "expenses                 21685 non-null float64\n",
      "price_aprox_usd          157577 non-null float64\n",
      "dtypes: float64(8), object(4)\n",
      "memory usage: 15.6+ MB\n"
     ]
    }
   ],
   "source": [
    "# algunas columnas ya sabemos que no son relevantes por lo que las podemos eliminar\n",
    "# filtro columnas segun lo que hay en el dataset\n",
    "attributes = ['created_on','property_type','place_name','state_name',\\\n",
    "              'lat','lon','surface_total_in_m2','surface_covered_in_m2',\\\n",
    "              'floor','rooms', 'expenses', 'price_aprox_usd']\n",
    "properties_caba[attributes].info()\n",
    "properties_caba_with_price_attributes = properties_caba[attributes]"
   ]
  },
  {
   "cell_type": "code",
   "execution_count": 9,
   "metadata": {
    "collapsed": false
   },
   "outputs": [
    {
     "name": "stdout",
     "output_type": "stream",
     "text": [
      "<class 'pandas.core.frame.DataFrame'>\n",
      "Int64Index: 156928 entries, 18733 to 80257\n",
      "Data columns (total 12 columns):\n",
      "created_on               156928 non-null object\n",
      "property_type            156928 non-null object\n",
      "place_name               156890 non-null object\n",
      "state_name               156928 non-null object\n",
      "lat                      109165 non-null float64\n",
      "lon                      109165 non-null float64\n",
      "surface_total_in_m2      116663 non-null float64\n",
      "surface_covered_in_m2    144791 non-null float64\n",
      "floor                    156928 non-null float64\n",
      "rooms                    156928 non-null float64\n",
      "expenses                 21677 non-null float64\n",
      "price_aprox_usd          156928 non-null float64\n",
      "dtypes: float64(8), object(4)\n",
      "memory usage: 15.6+ MB\n"
     ]
    },
    {
     "name": "stderr",
     "output_type": "stream",
     "text": [
      "/opt/conda/lib/python3.5/site-packages/ipykernel/__main__.py:2: SettingWithCopyWarning: \n",
      "A value is trying to be set on a copy of a slice from a DataFrame.\n",
      "Try using .loc[row_indexer,col_indexer] = value instead\n",
      "\n",
      "See the caveats in the documentation: http://pandas.pydata.org/pandas-docs/stable/indexing.html#indexing-view-versus-copy\n",
      "  from ipykernel import kernelapp as app\n",
      "/opt/conda/lib/python3.5/site-packages/ipykernel/__main__.py:3: SettingWithCopyWarning: \n",
      "A value is trying to be set on a copy of a slice from a DataFrame.\n",
      "Try using .loc[row_indexer,col_indexer] = value instead\n",
      "\n",
      "See the caveats in the documentation: http://pandas.pydata.org/pandas-docs/stable/indexing.html#indexing-view-versus-copy\n",
      "  app.launch_new_instance()\n"
     ]
    }
   ],
   "source": [
    "# completamos los nulos\n",
    "properties_caba_with_price_attributes['floor'] = properties_caba_with_price_attributes[['floor']].fillna(0)\n",
    "properties_caba_with_price_attributes['rooms'] = properties_caba_with_price_attributes[['rooms']].fillna(0)\n",
    "\n",
    "# eliminamos propiedades con mas de 54 pisos\n",
    "properties_caba_with_floors = properties_caba_with_price_attributes[properties_caba_with_price_attributes['floor'] <= 60]\n",
    "\n",
    "# eliminamos propiedades con mas de 9 pisos - ver analisis\n",
    "properties_caba_with_rooms = properties_caba_with_floors[properties_caba_with_floors['rooms'] <=  10]\n",
    "\n",
    "properties_caba_with_rooms.info()"
   ]
  },
  {
   "cell_type": "markdown",
   "metadata": {},
   "source": [
    "Intentamos incluir las expensas para ver si podemos mejorar las predicciones. Vamos a ver que forma tienen"
   ]
  },
  {
   "cell_type": "code",
   "execution_count": 10,
   "metadata": {
    "collapsed": false
   },
   "outputs": [
    {
     "data": {
      "text/plain": [
       "1.0       1030\n",
       "1500.0     941\n",
       "2000.0     850\n",
       "1000.0     831\n",
       "1200.0     731\n",
       "1800.0     663\n",
       "3000.0     627\n",
       "2500.0     597\n",
       "4000.0     539\n",
       "5000.0     474\n",
       "3500.0     469\n",
       "800.0      421\n",
       "1300.0     401\n",
       "4500.0     392\n",
       "1400.0     358\n",
       "1600.0     356\n",
       "6000.0     347\n",
       "1100.0     320\n",
       "500.0      299\n",
       "900.0      296\n",
       "1700.0     289\n",
       "700.0      277\n",
       "400.0      255\n",
       "2800.0     254\n",
       "7000.0     250\n",
       "2300.0     249\n",
       "2200.0     249\n",
       "1900.0     247\n",
       "600.0      230\n",
       "8000.0     218\n",
       "          ... \n",
       "1845.0       1\n",
       "5278.0       1\n",
       "1839.0       1\n",
       "1824.0       1\n",
       "5251.0       1\n",
       "5349.0       1\n",
       "1818.0       1\n",
       "1816.0       1\n",
       "5352.0       1\n",
       "1806.0       1\n",
       "5360.0       1\n",
       "1863.0       1\n",
       "1866.0       1\n",
       "1940.0       1\n",
       "1917.0       1\n",
       "1938.0       1\n",
       "1937.0       1\n",
       "1936.0       1\n",
       "5169.0       1\n",
       "1930.0       1\n",
       "5174.0       1\n",
       "5179.0       1\n",
       "1872.0       1\n",
       "1910.0       1\n",
       "1893.0       1\n",
       "5186.0       1\n",
       "1888.0       1\n",
       "1881.0       1\n",
       "5234.0       1\n",
       "6140.0       1\n",
       "Name: expenses, dtype: int64"
      ]
     },
     "execution_count": 10,
     "metadata": {},
     "output_type": "execute_result"
    }
   ],
   "source": [
    "properties_caba_with_rooms['expenses'].value_counts()"
   ]
  },
  {
   "cell_type": "code",
   "execution_count": 11,
   "metadata": {
    "collapsed": false
   },
   "outputs": [
    {
     "name": "stdout",
     "output_type": "stream",
     "text": [
      "<class 'pandas.core.frame.DataFrame'>\n",
      "Int64Index: 156928 entries, 18733 to 80257\n",
      "Data columns (total 12 columns):\n",
      "created_on               156928 non-null object\n",
      "property_type            156928 non-null object\n",
      "place_name               156890 non-null object\n",
      "state_name               156928 non-null object\n",
      "lat                      109165 non-null float64\n",
      "lon                      109165 non-null float64\n",
      "surface_total_in_m2      116663 non-null float64\n",
      "surface_covered_in_m2    144791 non-null float64\n",
      "floor                    156928 non-null float64\n",
      "rooms                    156928 non-null float64\n",
      "expenses                 156928 non-null float64\n",
      "price_aprox_usd          156928 non-null float64\n",
      "dtypes: float64(8), object(4)\n",
      "memory usage: 15.6+ MB\n"
     ]
    },
    {
     "name": "stderr",
     "output_type": "stream",
     "text": [
      "/opt/conda/lib/python3.5/site-packages/ipykernel/__main__.py:2: SettingWithCopyWarning: \n",
      "A value is trying to be set on a copy of a slice from a DataFrame.\n",
      "Try using .loc[row_indexer,col_indexer] = value instead\n",
      "\n",
      "See the caveats in the documentation: http://pandas.pydata.org/pandas-docs/stable/indexing.html#indexing-view-versus-copy\n",
      "  from ipykernel import kernelapp as app\n"
     ]
    }
   ],
   "source": [
    "# las convierto a float entonces\n",
    "properties_caba_with_rooms['expenses'] = properties_caba_with_rooms[['expenses']].fillna(0)\n",
    "properties_caba_with_rooms.info()"
   ]
  },
  {
   "cell_type": "markdown",
   "metadata": {},
   "source": [
    "Que hacemos con la superficie ademas de limitarla?"
   ]
  },
  {
   "cell_type": "code",
   "execution_count": 12,
   "metadata": {
    "collapsed": false
   },
   "outputs": [
    {
     "name": "stdout",
     "output_type": "stream",
     "text": [
      "<class 'pandas.core.frame.DataFrame'>\n",
      "Int64Index: 156701 entries, 18733 to 80257\n",
      "Data columns (total 12 columns):\n",
      "created_on               156701 non-null object\n",
      "property_type            156701 non-null object\n",
      "place_name               156663 non-null object\n",
      "state_name               156701 non-null object\n",
      "lat                      109084 non-null float64\n",
      "lon                      109084 non-null float64\n",
      "surface_total_in_m2      156701 non-null float64\n",
      "surface_covered_in_m2    156701 non-null float64\n",
      "floor                    156701 non-null float64\n",
      "rooms                    156701 non-null float64\n",
      "expenses                 156701 non-null float64\n",
      "price_aprox_usd          156701 non-null float64\n",
      "dtypes: float64(8), object(4)\n",
      "memory usage: 15.5+ MB\n"
     ]
    },
    {
     "name": "stderr",
     "output_type": "stream",
     "text": [
      "/opt/conda/lib/python3.5/site-packages/ipykernel/__main__.py:1: SettingWithCopyWarning: \n",
      "A value is trying to be set on a copy of a slice from a DataFrame.\n",
      "Try using .loc[row_indexer,col_indexer] = value instead\n",
      "\n",
      "See the caveats in the documentation: http://pandas.pydata.org/pandas-docs/stable/indexing.html#indexing-view-versus-copy\n",
      "  if __name__ == '__main__':\n",
      "/opt/conda/lib/python3.5/site-packages/ipykernel/__main__.py:2: SettingWithCopyWarning: \n",
      "A value is trying to be set on a copy of a slice from a DataFrame.\n",
      "Try using .loc[row_indexer,col_indexer] = value instead\n",
      "\n",
      "See the caveats in the documentation: http://pandas.pydata.org/pandas-docs/stable/indexing.html#indexing-view-versus-copy\n",
      "  from ipykernel import kernelapp as app\n"
     ]
    }
   ],
   "source": [
    "properties_caba_with_rooms['surface_total_in_m2'] = properties_caba_with_rooms[['surface_total_in_m2']].fillna(0)\n",
    "properties_caba_with_rooms['surface_covered_in_m2'] = properties_caba_with_rooms[['surface_covered_in_m2']].fillna(0)\n",
    "\n",
    "# eliminamos propiedades con mas de 2000 m2 de superficie cubierta - ver analisis\n",
    "properties_caba_surfacecovered = properties_caba_with_rooms[(properties_caba_with_rooms['surface_covered_in_m2'] <= 4000) & (properties_caba_with_rooms['surface_covered_in_m2'] >= 0)]\n",
    "# eliminamos propiedades con mas de 2000 m2 de superficie cubierta - ver analisis\n",
    "properties_surfaces = properties_caba_surfacecovered[(properties_caba_surfacecovered['surface_total_in_m2']<= 6000)  & (properties_caba_surfacecovered['surface_total_in_m2'] >= 0)]\n",
    "\n",
    "properties_surfaces.info()"
   ]
  },
  {
   "cell_type": "markdown",
   "metadata": {
    "collapsed": false
   },
   "source": [
    "Faltaria solucionar el tema de las latitudes. La manera manera mas sencilla para no tener que estimar valores es eliminar los datos con valores nulos tanto para lat como para lon."
   ]
  },
  {
   "cell_type": "code",
   "execution_count": 13,
   "metadata": {
    "collapsed": false
   },
   "outputs": [
    {
     "name": "stdout",
     "output_type": "stream",
     "text": [
      "(47617, 12)\n",
      "(47617, 12)\n",
      "(47617, 12)\n"
     ]
    }
   ],
   "source": [
    "print(properties_surfaces[np.isnan(properties_surfaces['lat']) & np.isnan(properties_surfaces['lon'])].shape)\n",
    "print(properties_surfaces[np.isnan(properties_surfaces['lat'])].shape)\n",
    "print(properties_surfaces[np.isnan(properties_surfaces['lon'])].shape)"
   ]
  },
  {
   "cell_type": "code",
   "execution_count": 14,
   "metadata": {
    "collapsed": false
   },
   "outputs": [
    {
     "name": "stdout",
     "output_type": "stream",
     "text": [
      "<class 'pandas.core.frame.DataFrame'>\n",
      "Int64Index: 109084 entries, 18733 to 80257\n",
      "Data columns (total 12 columns):\n",
      "created_on               109084 non-null object\n",
      "property_type            109084 non-null object\n",
      "place_name               109046 non-null object\n",
      "state_name               109084 non-null object\n",
      "lat                      109084 non-null float64\n",
      "lon                      109084 non-null float64\n",
      "surface_total_in_m2      109084 non-null float64\n",
      "surface_covered_in_m2    109084 non-null float64\n",
      "floor                    109084 non-null float64\n",
      "rooms                    109084 non-null float64\n",
      "expenses                 109084 non-null float64\n",
      "price_aprox_usd          109084 non-null float64\n",
      "dtypes: float64(8), object(4)\n",
      "memory usage: 10.8+ MB\n"
     ]
    }
   ],
   "source": [
    "properties_latlon = properties_surfaces[np.isfinite(properties_surfaces['lon'])]\n",
    "properties_latlon.info()"
   ]
  },
  {
   "cell_type": "markdown",
   "metadata": {},
   "source": [
    "Analicemos los atributos categoricos"
   ]
  },
  {
   "cell_type": "code",
   "execution_count": 15,
   "metadata": {
    "collapsed": false
   },
   "outputs": [
    {
     "data": {
      "text/plain": [
       "apartment    67814\n",
       "house        29832\n",
       "PH            7866\n",
       "store         3572\n",
       "Name: property_type, dtype: int64"
      ]
     },
     "execution_count": 15,
     "metadata": {},
     "output_type": "execute_result"
    }
   ],
   "source": [
    "properties_latlon['property_type'].value_counts()"
   ]
  },
  {
   "cell_type": "code",
   "execution_count": 16,
   "metadata": {
    "collapsed": false
   },
   "outputs": [
    {
     "data": {
      "text/html": [
       "<div>\n",
       "<table border=\"1\" class=\"dataframe\">\n",
       "  <thead>\n",
       "    <tr style=\"text-align: right;\">\n",
       "      <th></th>\n",
       "      <th>created_on</th>\n",
       "      <th>property_type</th>\n",
       "      <th>place_name</th>\n",
       "      <th>state_name</th>\n",
       "      <th>lat</th>\n",
       "      <th>lon</th>\n",
       "      <th>surface_total_in_m2</th>\n",
       "      <th>surface_covered_in_m2</th>\n",
       "      <th>floor</th>\n",
       "      <th>rooms</th>\n",
       "      <th>expenses</th>\n",
       "      <th>price_aprox_usd</th>\n",
       "    </tr>\n",
       "  </thead>\n",
       "  <tbody>\n",
       "    <tr>\n",
       "      <th>18733</th>\n",
       "      <td>2016-10-02</td>\n",
       "      <td>house</td>\n",
       "      <td>Munro</td>\n",
       "      <td>Bs.As. G.B.A. Zona Norte</td>\n",
       "      <td>-34.535086</td>\n",
       "      <td>-58.537104</td>\n",
       "      <td>126.0</td>\n",
       "      <td>126.0</td>\n",
       "      <td>0.0</td>\n",
       "      <td>3.0</td>\n",
       "      <td>0.0</td>\n",
       "      <td>130000.0</td>\n",
       "    </tr>\n",
       "    <tr>\n",
       "      <th>18742</th>\n",
       "      <td>2016-10-02</td>\n",
       "      <td>house</td>\n",
       "      <td>San Cristobal</td>\n",
       "      <td>Capital Federal</td>\n",
       "      <td>-34.623587</td>\n",
       "      <td>-58.408861</td>\n",
       "      <td>517.0</td>\n",
       "      <td>330.0</td>\n",
       "      <td>0.0</td>\n",
       "      <td>0.0</td>\n",
       "      <td>0.0</td>\n",
       "      <td>395000.0</td>\n",
       "    </tr>\n",
       "    <tr>\n",
       "      <th>18745</th>\n",
       "      <td>2016-10-02</td>\n",
       "      <td>apartment</td>\n",
       "      <td>Floresta</td>\n",
       "      <td>Capital Federal</td>\n",
       "      <td>-34.632349</td>\n",
       "      <td>-58.485810</td>\n",
       "      <td>40.0</td>\n",
       "      <td>40.0</td>\n",
       "      <td>0.0</td>\n",
       "      <td>0.0</td>\n",
       "      <td>700.0</td>\n",
       "      <td>69000.0</td>\n",
       "    </tr>\n",
       "  </tbody>\n",
       "</table>\n",
       "</div>"
      ],
      "text/plain": [
       "       created_on property_type     place_name                state_name  \\\n",
       "18733  2016-10-02         house          Munro  Bs.As. G.B.A. Zona Norte   \n",
       "18742  2016-10-02         house  San Cristobal           Capital Federal   \n",
       "18745  2016-10-02     apartment       Floresta           Capital Federal   \n",
       "\n",
       "             lat        lon  surface_total_in_m2  surface_covered_in_m2  \\\n",
       "18733 -34.535086 -58.537104                126.0                  126.0   \n",
       "18742 -34.623587 -58.408861                517.0                  330.0   \n",
       "18745 -34.632349 -58.485810                 40.0                   40.0   \n",
       "\n",
       "       floor  rooms  expenses  price_aprox_usd  \n",
       "18733    0.0    3.0       0.0         130000.0  \n",
       "18742    0.0    0.0       0.0         395000.0  \n",
       "18745    0.0    0.0     700.0          69000.0  "
      ]
     },
     "execution_count": 16,
     "metadata": {},
     "output_type": "execute_result"
    }
   ],
   "source": [
    "from sklearn.preprocessing import LabelEncoder\n",
    "\n",
    "encoder_property_type = LabelEncoder()\n",
    "properties_latlon.head(3)"
   ]
  },
  {
   "cell_type": "code",
   "execution_count": 17,
   "metadata": {
    "collapsed": false
   },
   "outputs": [
    {
     "name": "stderr",
     "output_type": "stream",
     "text": [
      "/opt/conda/lib/python3.5/site-packages/ipykernel/__main__.py:1: SettingWithCopyWarning: \n",
      "A value is trying to be set on a copy of a slice from a DataFrame.\n",
      "Try using .loc[row_indexer,col_indexer] = value instead\n",
      "\n",
      "See the caveats in the documentation: http://pandas.pydata.org/pandas-docs/stable/indexing.html#indexing-view-versus-copy\n",
      "  if __name__ == '__main__':\n"
     ]
    },
    {
     "data": {
      "text/plain": [
       "1    67814\n",
       "2    29832\n",
       "0     7866\n",
       "3     3572\n",
       "Name: property_type, dtype: int64"
      ]
     },
     "execution_count": 17,
     "metadata": {},
     "output_type": "execute_result"
    }
   ],
   "source": [
    "properties_latlon['property_type'] = encoder_property_type.fit_transform(properties_latlon['property_type'])\n",
    "properties_latlon['property_type'].value_counts()"
   ]
  },
  {
   "cell_type": "code",
   "execution_count": 18,
   "metadata": {
    "collapsed": false
   },
   "outputs": [
    {
     "data": {
      "text/plain": [
       "Palermo                       5024\n",
       "Belgrano                      4714\n",
       "Caballito                     3697\n",
       "Nordelta                      3506\n",
       "Tigre                         3291\n",
       "Recoleta                      3046\n",
       "Barrio Norte                  2610\n",
       "Pilar                         2445\n",
       "Flores                        2391\n",
       "Almagro                       2381\n",
       "Villa Urquiza                 2363\n",
       "Villa Crespo                  2240\n",
       "La Plata                      2199\n",
       "San Telmo                     1646\n",
       "Olivos                        1560\n",
       "San Miguel                    1515\n",
       "Balvanera                     1511\n",
       "Nuñez                         1332\n",
       "Puerto Madero                 1331\n",
       "Quilmes                       1281\n",
       "Ituzaingó                     1076\n",
       "Ramos Mejía                   1060\n",
       "Floresta                      1003\n",
       "San Isidro                     973\n",
       "Barracas                       947\n",
       "Lomas de Zamora                940\n",
       "Caseros                        902\n",
       "Saavedra                       900\n",
       "Villa Devoto                   887\n",
       "Morón                          886\n",
       "                              ... \n",
       "Mayling Club de Campo           78\n",
       "Palermo Viejo                   78\n",
       "Villa Rosa                      74\n",
       "Esteban Echeverría              74\n",
       "Country Nuevo Quilmes           72\n",
       "Cañuelas                        70\n",
       "Barrio San Isidro Labrador      70\n",
       "Villa de Mayo                   68\n",
       "La Reja                         68\n",
       "Guernica                        67\n",
       "Los Lagartos Country Club       66\n",
       "Garín                           65\n",
       "Isidro Casanova                 65\n",
       "Villa Lynch                     64\n",
       "Virreyes                        63\n",
       "Barrio San Agustin              62\n",
       "Villa Dominico                  61\n",
       "Grand Bourg                     60\n",
       "Llavallol                       59\n",
       "La Tablada                      59\n",
       "San Vicente                     58\n",
       "Tolosa                          57\n",
       "El Nacional Club de Campo       56\n",
       "Villa Libertad                  56\n",
       "Country San Jorge Village       56\n",
       "Almirante Brown                 54\n",
       "Mapuche Country Club            54\n",
       "Florencio Varela                53\n",
       "Barrio Los Castores             53\n",
       "Derqui                          52\n",
       "Name: place_name, dtype: int64"
      ]
     },
     "execution_count": 18,
     "metadata": {},
     "output_type": "execute_result"
    }
   ],
   "source": [
    "# me aseguro de tener varios datos en cada place_name\n",
    "properties_placenames = properties_latlon.groupby('place_name').filter(lambda x: len(x) > 50)\n",
    "properties_placenames['place_name'].value_counts()"
   ]
  },
  {
   "cell_type": "code",
   "execution_count": 19,
   "metadata": {
    "collapsed": false
   },
   "outputs": [
    {
     "name": "stderr",
     "output_type": "stream",
     "text": [
      "/opt/conda/lib/python3.5/site-packages/ipykernel/__main__.py:2: SettingWithCopyWarning: \n",
      "A value is trying to be set on a copy of a slice from a DataFrame.\n",
      "Try using .loc[row_indexer,col_indexer] = value instead\n",
      "\n",
      "See the caveats in the documentation: http://pandas.pydata.org/pandas-docs/stable/indexing.html#indexing-view-versus-copy\n",
      "  from ipykernel import kernelapp as app\n"
     ]
    },
    {
     "data": {
      "text/plain": [
       "120    5024\n",
       "22     4714\n",
       "32     3697\n",
       "116    3506\n",
       "161    3291\n",
       "139    3046\n",
       "15     2610\n",
       "133    2445\n",
       "63     2391\n",
       "4      2381\n",
       "192    2363\n",
       "174    2240\n",
       "85     2199\n",
       "153    1646\n",
       "118    1560\n",
       "151    1515\n",
       "7      1511\n",
       "117    1332\n",
       "136    1331\n",
       "137    1281\n",
       "79     1076\n",
       "138    1060\n",
       "64     1003\n",
       "148     973\n",
       "9       947\n",
       "94      940\n",
       "36      902\n",
       "143     900\n",
       "175     887\n",
       "113     886\n",
       "       ... \n",
       "124      78\n",
       "107      78\n",
       "189      74\n",
       "57       74\n",
       "48       72\n",
       "18       70\n",
       "38       70\n",
       "86       68\n",
       "193      68\n",
       "74       67\n",
       "97       66\n",
       "68       65\n",
       "78       65\n",
       "183      64\n",
       "195      63\n",
       "16       62\n",
       "176      61\n",
       "73       60\n",
       "87       59\n",
       "93       59\n",
       "154      58\n",
       "162      57\n",
       "49       56\n",
       "53       56\n",
       "179      56\n",
       "5        54\n",
       "101      54\n",
       "13       53\n",
       "62       53\n",
       "51       52\n",
       "Name: place_name, dtype: int64"
      ]
     },
     "execution_count": 19,
     "metadata": {},
     "output_type": "execute_result"
    }
   ],
   "source": [
    "encoder_place_name = LabelEncoder()\n",
    "properties_placenames['place_name'] = encoder_place_name.fit_transform(properties_placenames['place_name'])\n",
    "properties_placenames['place_name'].value_counts()"
   ]
  },
  {
   "cell_type": "code",
   "execution_count": 20,
   "metadata": {
    "collapsed": false
   },
   "outputs": [
    {
     "data": {
      "text/plain": [
       "Capital Federal             55539\n",
       "Bs.As. G.B.A. Zona Norte    26698\n",
       "Bs.As. G.B.A. Zona Sur      12041\n",
       "Bs.As. G.B.A. Zona Oeste    10145\n",
       "Name: state_name, dtype: int64"
      ]
     },
     "execution_count": 20,
     "metadata": {},
     "output_type": "execute_result"
    }
   ],
   "source": [
    "properties_placenames['state_name'].value_counts()"
   ]
  },
  {
   "cell_type": "code",
   "execution_count": 21,
   "metadata": {
    "collapsed": false
   },
   "outputs": [
    {
     "name": "stderr",
     "output_type": "stream",
     "text": [
      "/opt/conda/lib/python3.5/site-packages/sklearn/preprocessing/label.py:111: DataConversionWarning: A column-vector y was passed when a 1d array was expected. Please change the shape of y to (n_samples, ), for example using ravel().\n",
      "  y = column_or_1d(y, warn=True)\n",
      "/opt/conda/lib/python3.5/site-packages/ipykernel/__main__.py:2: SettingWithCopyWarning: \n",
      "A value is trying to be set on a copy of a slice from a DataFrame.\n",
      "Try using .loc[row_indexer,col_indexer] = value instead\n",
      "\n",
      "See the caveats in the documentation: http://pandas.pydata.org/pandas-docs/stable/indexing.html#indexing-view-versus-copy\n",
      "  from ipykernel import kernelapp as app\n"
     ]
    },
    {
     "data": {
      "text/plain": [
       "3    55539\n",
       "0    26698\n",
       "2    12041\n",
       "1    10145\n",
       "Name: state_name, dtype: int64"
      ]
     },
     "execution_count": 21,
     "metadata": {},
     "output_type": "execute_result"
    }
   ],
   "source": [
    "encoder_state_name = LabelEncoder()\n",
    "properties_placenames['state_name'] = encoder_state_name.fit_transform(properties_placenames[['state_name']])\n",
    "properties_placenames['state_name'].value_counts()"
   ]
  },
  {
   "cell_type": "code",
   "execution_count": 22,
   "metadata": {
    "collapsed": false
   },
   "outputs": [
    {
     "data": {
      "text/html": [
       "<div>\n",
       "<table border=\"1\" class=\"dataframe\">\n",
       "  <thead>\n",
       "    <tr style=\"text-align: right;\">\n",
       "      <th></th>\n",
       "      <th>created_on</th>\n",
       "      <th>property_type</th>\n",
       "      <th>place_name</th>\n",
       "      <th>state_name</th>\n",
       "      <th>lat</th>\n",
       "      <th>lon</th>\n",
       "      <th>surface_total_in_m2</th>\n",
       "      <th>surface_covered_in_m2</th>\n",
       "      <th>floor</th>\n",
       "      <th>rooms</th>\n",
       "      <th>expenses</th>\n",
       "      <th>price_aprox_usd</th>\n",
       "    </tr>\n",
       "  </thead>\n",
       "  <tbody>\n",
       "    <tr>\n",
       "      <th>18733</th>\n",
       "      <td>2016-10-02</td>\n",
       "      <td>2</td>\n",
       "      <td>114</td>\n",
       "      <td>0</td>\n",
       "      <td>-34.535086</td>\n",
       "      <td>-58.537104</td>\n",
       "      <td>126.0</td>\n",
       "      <td>126.0</td>\n",
       "      <td>0.0</td>\n",
       "      <td>3.0</td>\n",
       "      <td>0.0</td>\n",
       "      <td>130000.0</td>\n",
       "    </tr>\n",
       "    <tr>\n",
       "      <th>18742</th>\n",
       "      <td>2016-10-02</td>\n",
       "      <td>2</td>\n",
       "      <td>146</td>\n",
       "      <td>3</td>\n",
       "      <td>-34.623587</td>\n",
       "      <td>-58.408861</td>\n",
       "      <td>517.0</td>\n",
       "      <td>330.0</td>\n",
       "      <td>0.0</td>\n",
       "      <td>0.0</td>\n",
       "      <td>0.0</td>\n",
       "      <td>395000.0</td>\n",
       "    </tr>\n",
       "    <tr>\n",
       "      <th>18745</th>\n",
       "      <td>2016-10-02</td>\n",
       "      <td>1</td>\n",
       "      <td>64</td>\n",
       "      <td>3</td>\n",
       "      <td>-34.632349</td>\n",
       "      <td>-58.485810</td>\n",
       "      <td>40.0</td>\n",
       "      <td>40.0</td>\n",
       "      <td>0.0</td>\n",
       "      <td>0.0</td>\n",
       "      <td>700.0</td>\n",
       "      <td>69000.0</td>\n",
       "    </tr>\n",
       "  </tbody>\n",
       "</table>\n",
       "</div>"
      ],
      "text/plain": [
       "       created_on  property_type  place_name  state_name        lat  \\\n",
       "18733  2016-10-02              2         114           0 -34.535086   \n",
       "18742  2016-10-02              2         146           3 -34.623587   \n",
       "18745  2016-10-02              1          64           3 -34.632349   \n",
       "\n",
       "             lon  surface_total_in_m2  surface_covered_in_m2  floor  rooms  \\\n",
       "18733 -58.537104                126.0                  126.0    0.0    3.0   \n",
       "18742 -58.408861                517.0                  330.0    0.0    0.0   \n",
       "18745 -58.485810                 40.0                   40.0    0.0    0.0   \n",
       "\n",
       "       expenses  price_aprox_usd  \n",
       "18733       0.0         130000.0  \n",
       "18742       0.0         395000.0  \n",
       "18745     700.0          69000.0  "
      ]
     },
     "execution_count": 22,
     "metadata": {},
     "output_type": "execute_result"
    }
   ],
   "source": [
    "properties_placenames.head(3)"
   ]
  },
  {
   "cell_type": "code",
   "execution_count": 23,
   "metadata": {
    "collapsed": false
   },
   "outputs": [
    {
     "name": "stderr",
     "output_type": "stream",
     "text": [
      "/opt/conda/lib/python3.5/site-packages/ipykernel/__main__.py:2: SettingWithCopyWarning: \n",
      "A value is trying to be set on a copy of a slice from a DataFrame.\n",
      "Try using .loc[row_indexer,col_indexer] = value instead\n",
      "\n",
      "See the caveats in the documentation: http://pandas.pydata.org/pandas-docs/stable/indexing.html#indexing-view-versus-copy\n",
      "  from ipykernel import kernelapp as app\n"
     ]
    },
    {
     "data": {
      "text/html": [
       "<div>\n",
       "<table border=\"1\" class=\"dataframe\">\n",
       "  <thead>\n",
       "    <tr style=\"text-align: right;\">\n",
       "      <th></th>\n",
       "      <th>created_on</th>\n",
       "      <th>property_type</th>\n",
       "      <th>place_name</th>\n",
       "      <th>state_name</th>\n",
       "      <th>lat</th>\n",
       "      <th>lon</th>\n",
       "      <th>surface_total_in_m2</th>\n",
       "      <th>surface_covered_in_m2</th>\n",
       "      <th>floor</th>\n",
       "      <th>rooms</th>\n",
       "      <th>expenses</th>\n",
       "      <th>price_aprox_usd</th>\n",
       "    </tr>\n",
       "  </thead>\n",
       "  <tbody>\n",
       "    <tr>\n",
       "      <th>18733</th>\n",
       "      <td>20161002</td>\n",
       "      <td>2</td>\n",
       "      <td>114</td>\n",
       "      <td>0</td>\n",
       "      <td>-34.535086</td>\n",
       "      <td>-58.537104</td>\n",
       "      <td>126.0</td>\n",
       "      <td>126.0</td>\n",
       "      <td>0.0</td>\n",
       "      <td>3.0</td>\n",
       "      <td>0.0</td>\n",
       "      <td>130000.0</td>\n",
       "    </tr>\n",
       "    <tr>\n",
       "      <th>18742</th>\n",
       "      <td>20161002</td>\n",
       "      <td>2</td>\n",
       "      <td>146</td>\n",
       "      <td>3</td>\n",
       "      <td>-34.623587</td>\n",
       "      <td>-58.408861</td>\n",
       "      <td>517.0</td>\n",
       "      <td>330.0</td>\n",
       "      <td>0.0</td>\n",
       "      <td>0.0</td>\n",
       "      <td>0.0</td>\n",
       "      <td>395000.0</td>\n",
       "    </tr>\n",
       "    <tr>\n",
       "      <th>18745</th>\n",
       "      <td>20161002</td>\n",
       "      <td>1</td>\n",
       "      <td>64</td>\n",
       "      <td>3</td>\n",
       "      <td>-34.632349</td>\n",
       "      <td>-58.485810</td>\n",
       "      <td>40.0</td>\n",
       "      <td>40.0</td>\n",
       "      <td>0.0</td>\n",
       "      <td>0.0</td>\n",
       "      <td>700.0</td>\n",
       "      <td>69000.0</td>\n",
       "    </tr>\n",
       "    <tr>\n",
       "      <th>18747</th>\n",
       "      <td>20161002</td>\n",
       "      <td>1</td>\n",
       "      <td>7</td>\n",
       "      <td>3</td>\n",
       "      <td>-34.611201</td>\n",
       "      <td>-58.407291</td>\n",
       "      <td>230.0</td>\n",
       "      <td>230.0</td>\n",
       "      <td>0.0</td>\n",
       "      <td>8.0</td>\n",
       "      <td>0.0</td>\n",
       "      <td>298500.0</td>\n",
       "    </tr>\n",
       "    <tr>\n",
       "      <th>18752</th>\n",
       "      <td>20161002</td>\n",
       "      <td>2</td>\n",
       "      <td>112</td>\n",
       "      <td>1</td>\n",
       "      <td>-34.639858</td>\n",
       "      <td>-58.786730</td>\n",
       "      <td>0.0</td>\n",
       "      <td>84.0</td>\n",
       "      <td>3.0</td>\n",
       "      <td>4.0</td>\n",
       "      <td>0.0</td>\n",
       "      <td>119500.0</td>\n",
       "    </tr>\n",
       "  </tbody>\n",
       "</table>\n",
       "</div>"
      ],
      "text/plain": [
       "       created_on  property_type  place_name  state_name        lat  \\\n",
       "18733    20161002              2         114           0 -34.535086   \n",
       "18742    20161002              2         146           3 -34.623587   \n",
       "18745    20161002              1          64           3 -34.632349   \n",
       "18747    20161002              1           7           3 -34.611201   \n",
       "18752    20161002              2         112           1 -34.639858   \n",
       "\n",
       "             lon  surface_total_in_m2  surface_covered_in_m2  floor  rooms  \\\n",
       "18733 -58.537104                126.0                  126.0    0.0    3.0   \n",
       "18742 -58.408861                517.0                  330.0    0.0    0.0   \n",
       "18745 -58.485810                 40.0                   40.0    0.0    0.0   \n",
       "18747 -58.407291                230.0                  230.0    0.0    8.0   \n",
       "18752 -58.786730                  0.0                   84.0    3.0    4.0   \n",
       "\n",
       "       expenses  price_aprox_usd  \n",
       "18733       0.0         130000.0  \n",
       "18742       0.0         395000.0  \n",
       "18745     700.0          69000.0  \n",
       "18747       0.0         298500.0  \n",
       "18752       0.0         119500.0  "
      ]
     },
     "execution_count": 23,
     "metadata": {},
     "output_type": "execute_result"
    }
   ],
   "source": [
    "# fechas\n",
    "properties_placenames['created_on'] = properties_placenames['created_on'].str.replace('-','').apply(int)\n",
    "properties_placenames.head()"
   ]
  },
  {
   "cell_type": "markdown",
   "metadata": {},
   "source": [
    "Por ultimo separamos el set en 2 para poder entrenar y validar"
   ]
  },
  {
   "cell_type": "code",
   "execution_count": 24,
   "metadata": {
    "collapsed": false
   },
   "outputs": [
    {
     "name": "stdout",
     "output_type": "stream",
     "text": [
      "Index(['created_on', 'property_type', 'place_name', 'state_name', 'lat', 'lon',\n",
      "       'surface_total_in_m2', 'surface_covered_in_m2', 'floor', 'rooms',\n",
      "       'expenses'],\n",
      "      dtype='object')\n"
     ]
    }
   ],
   "source": [
    "# obtenemos las columnas\n",
    "properties = properties_placenames\n",
    "\n",
    "columns = properties.iloc[:, properties.columns != 'price_aprox_usd'].columns\n",
    "print(columns)"
   ]
  },
  {
   "cell_type": "code",
   "execution_count": 25,
   "metadata": {
    "collapsed": false
   },
   "outputs": [
    {
     "data": {
      "text/plain": [
       "(20885, 83538)"
      ]
     },
     "execution_count": 25,
     "metadata": {},
     "output_type": "execute_result"
    }
   ],
   "source": [
    "# separamos el train de traing para validarlo luego usando un 20% de los datos\n",
    "from sklearn.model_selection import train_test_split\n",
    "import datetime\n",
    "\n",
    "now = datetime.datetime.now()\n",
    "\n",
    "X, y = properties.iloc[:, properties.columns != 'price_aprox_usd'].values, properties.iloc[:, properties.columns == 'price_aprox_usd'].values\n",
    "\n",
    "X_train, X_test, y_train, y_test = \\\n",
    "        train_test_split(X, y, test_size=0.2, random_state=200)\n",
    "    \n",
    "len(X_test), len(X_train)"
   ]
  },
  {
   "cell_type": "code",
   "execution_count": 26,
   "metadata": {
    "collapsed": false
   },
   "outputs": [
    {
     "name": "stdout",
     "output_type": "stream",
     "text": [
      "[[  2.01706050e+07   1.00000000e+00   1.38000000e+02 ...,   0.00000000e+00\n",
      "    1.00000000e+00   0.00000000e+00]\n",
      " [  2.01705310e+07   1.00000000e+00   1.50000000e+02 ...,   0.00000000e+00\n",
      "    0.00000000e+00   0.00000000e+00]\n",
      " [  2.01703280e+07   2.00000000e+00   1.38000000e+02 ...,   0.00000000e+00\n",
      "    4.00000000e+00   0.00000000e+00]\n",
      " ..., \n",
      " [  2.01707290e+07   1.00000000e+00   1.41000000e+02 ...,   0.00000000e+00\n",
      "    0.00000000e+00   4.00000000e+03]\n",
      " [  2.01610200e+07   1.00000000e+00   1.23000000e+02 ...,   0.00000000e+00\n",
      "    2.00000000e+00   0.00000000e+00]\n",
      " [  2.01610260e+07   1.00000000e+00   1.96000000e+02 ...,   0.00000000e+00\n",
      "    2.00000000e+00   0.00000000e+00]]\n",
      "[[ 0.49651884 -0.38659992  0.70007077 ..., -0.2227901  -0.49428286\n",
      "  -0.01377297]\n",
      " [ 0.47558034 -0.38659992  0.91160085 ..., -0.2227901  -1.04386761\n",
      "  -0.01377297]\n",
      " [ 0.41814096  1.19683722  0.70007077 ..., -0.2227901   1.1544714\n",
      "  -0.01377297]\n",
      " ..., \n",
      " [ 0.53160496 -0.38659992  0.75295329 ..., -0.2227901  -1.04386761\n",
      "   0.04394306]\n",
      " [-2.21558211 -0.38659992  0.43565818 ..., -0.2227901   0.05530189\n",
      "  -0.01377297]\n",
      " [-2.2138844  -0.38659992  1.72246612 ..., -0.2227901   0.05530189\n",
      "  -0.01377297]]\n"
     ]
    }
   ],
   "source": [
    "# a cada dato le restamos la media y lo dividimos por su desviacion standard\n",
    "from sklearn.preprocessing import StandardScaler\n",
    "\n",
    "stdsc_train = StandardScaler()\n",
    "stdsc_test = StandardScaler()\n",
    "\n",
    "X_train_std = stdsc_train.fit_transform(X_train)\n",
    "X_test_std = stdsc_test.fit_transform(X_test)\n",
    "\n",
    "print(X_train)\n",
    "print(X_train_std)"
   ]
  },
  {
   "cell_type": "markdown",
   "metadata": {},
   "source": [
    "## Algoritmo 1: KNN"
   ]
  },
  {
   "cell_type": "code",
   "execution_count": 27,
   "metadata": {
    "collapsed": true
   },
   "outputs": [],
   "source": [
    "best_k = 5\n",
    "best_p = 2"
   ]
  },
  {
   "cell_type": "code",
   "execution_count": 28,
   "metadata": {
    "collapsed": false
   },
   "outputs": [
    {
     "name": "stdout",
     "output_type": "stream",
     "text": [
      "Transcurrieron: 12.59 segundos de entrenamiento\n",
      "Transcurrieron: 5.11 segundos de predicción\n"
     ]
    }
   ],
   "source": [
    "from time import time\n",
    "from sklearn.neighbors import KNeighborsRegressor\n",
    "\n",
    "# calculo el tiempo que tarda un knn\n",
    "start_time = time()\n",
    "\n",
    "knn = KNeighborsRegressor(n_neighbors=best_k, weights='distance', p=best_p)\n",
    "knn.fit(X_train_std, y_train)\n",
    "\n",
    "train_time = time() - start_time\n",
    "print(\"Transcurrieron: %0.2f segundos de entrenamiento\" % train_time)\n",
    "\n",
    "y_predict = knn.predict(X_test_std)\n",
    "\n",
    "predict_time = time() - start_time - train_time\n",
    "print(\"Transcurrieron: %0.2f segundos de predicción\" % predict_time)"
   ]
  },
  {
   "cell_type": "markdown",
   "metadata": {},
   "source": [
    "Intentamos buscar con backward selection cuales son los features que mejor prediccion nos dan"
   ]
  },
  {
   "cell_type": "code",
   "execution_count": 29,
   "metadata": {
    "collapsed": false
   },
   "outputs": [
    {
     "data": {
      "image/png": "[encoded data removed]",
      "text/plain": [
       "<matplotlib.figure.Figure at 0x7fcbaa872240>"
      ]
     },
     "metadata": {},
     "output_type": "display_data"
    }
   ],
   "source": [
    "from sklearn.base import clone\n",
    "from itertools import combinations\n",
    "from sklearn.model_selection import train_test_split\n",
    "from sklearn.metrics import accuracy_score, median_absolute_error, mean_squared_error\n",
    "\n",
    "# clase para hacer Backward Selection\n",
    "class SBS():\n",
    "    def __init__(self, estimator, k_features,\n",
    "        scoring=accuracy_score,\n",
    "        test_size=0.25, random_state=1):\n",
    "        self.scoring = scoring\n",
    "        self.estimator = clone(estimator)\n",
    "        self.k_features = k_features\n",
    "        self.test_size = test_size\n",
    "        self.random_state = random_state\n",
    "        \n",
    "    def fit(self, X, y):\n",
    "        X_train, X_test, y_train, y_test = \\\n",
    "            train_test_split(X, y, test_size=self.test_size,\n",
    "        random_state=self.random_state)\n",
    "        dim = X_train.shape[1]\n",
    "        self.indices_ = tuple(range(dim))\n",
    "        self.subsets_ = [self.indices_]\n",
    "        score = self._calc_score(X_train, y_train,\n",
    "        X_test, y_test, self.indices_)\n",
    "        self.scores_ = [score]\n",
    "        while dim > self.k_features:\n",
    "            scores = []\n",
    "            subsets = []\n",
    "            for p in combinations(self.indices_, r=dim-1):\n",
    "                score = self._calc_score(X_train, y_train,\n",
    "                X_test, y_test, p)\n",
    "                scores.append(score)\n",
    "                subsets.append(p)\n",
    "            best = np.argmax(scores)\n",
    "            self.indices_ = subsets[best]\n",
    "            self.subsets_.append(self.indices_)\n",
    "            dim -= 1\n",
    "            self.scores_.append(scores[best])\n",
    "        self.k_score_ = self.scores_[-1]\n",
    "        return self\n",
    "    \n",
    "    def transform(self, X):\n",
    "        return X[:, self.indices_]\n",
    "        \n",
    "    def _calc_score(self, X_train, y_train,\n",
    "                        X_test, y_test, indices):\n",
    "        self.estimator.fit(X_train[:, indices], y_train)\n",
    "        y_pred = self.estimator.predict(X_test[:, indices])\n",
    "        score = self.scoring(y_test, y_pred)\n",
    "        return score\n",
    "\n",
    "# aplicamos algoritmos\n",
    "from sklearn.neighbors import KNeighborsRegressor\n",
    "\n",
    "knn = KNeighborsRegressor(n_neighbors=5, weights='distance')\n",
    "sbs = SBS(knn, k_features=1, scoring=mean_squared_error)\n",
    "sbs.fit(X_train_std, y_train)\n",
    "\n",
    "# graficamos\n",
    "k_feat = [len(k) for k in sbs.subsets_]\n",
    "plot(k_feat, sbs.scores_, marker='o')\n",
    "#ylim([0.0, 1.1])\n",
    "ylabel('Mean Squared Error')\n",
    "xlabel('Number of features')\n",
    "grid()\n",
    "show()"
   ]
  },
  {
   "cell_type": "markdown",
   "metadata": {},
   "source": [
    "Observamos que el RMSE disminuye a medida que aumentamos la cantidad de features. No parece necesario disminuir la cantidad de features a menos que sea por temas de performance."
   ]
  },
  {
   "cell_type": "code",
   "execution_count": 30,
   "metadata": {
    "collapsed": false
   },
   "outputs": [
    {
     "name": "stdout",
     "output_type": "stream",
     "text": [
      "Buscando k optimo ..\n",
      "score= 223722.4035061741 k= 10\n",
      ".\n",
      "score= 220387.6993613128 k= 20\n",
      ".\n",
      "score= 220068.00637817345 k= 30\n",
      "......El k optimo parece estar cerca de 30\n"
     ]
    }
   ],
   "source": [
    "from sklearn.neighbors import KNeighborsRegressor\n",
    "from sklearn.metrics import mean_squared_error\n",
    "from math import sqrt\n",
    "\n",
    "# busqueda de hiper-parametros\n",
    "k_scores = []\n",
    "k_list = []\n",
    "\n",
    "best_score = float(\"inf\")\n",
    "\n",
    "print('Buscando k optimo .',end='')\n",
    "for i in [10,20,30,40,60,70,80,90,100]:\n",
    "    print('.',end='')\n",
    "    knn = KNeighborsRegressor(n_neighbors=i, weights='distance', n_jobs=-1)\n",
    "    knn.fit(X_train_std, y_train)\n",
    "\n",
    "    k_list.append(i)\n",
    "    \n",
    "    y_predict = knn.predict(X_test_std)\n",
    "    sc = sqrt(mean_squared_error(y_predict,y_test))\n",
    "\n",
    "    k_scores.append(sc)\n",
    "\n",
    "    if(sc < best_score):\n",
    "        best_score = sc\n",
    "        best_k = i\n",
    "        print(\"\")\n",
    "        print(\"score=\",best_score,\"k=\",best_k)\n",
    "        \n",
    "print(\"El k optimo parece estar cerca de\",best_k)"
   ]
  },
  {
   "cell_type": "code",
   "execution_count": 32,
   "metadata": {
    "collapsed": false
   },
   "outputs": [
    {
     "name": "stdout",
     "output_type": "stream",
     "text": [
      "Buscando k optimo ...\n",
      "score= 220003.37918159607 k= 26\n",
      "........El k optimo parece estar cerca de 26\n"
     ]
    }
   ],
   "source": [
    "# buscamos alrededor del 10\n",
    "print('Buscando k optimo .',end='')\n",
    "range_start = best_k - 5\n",
    "range_end = best_k + 5\n",
    "for i in range(range_start, range_end, 1):\n",
    "    print('.',end='')\n",
    "    knn = KNeighborsRegressor(n_neighbors=i, weights='distance', n_jobs=-1)\n",
    "    knn.fit(X_train_std, y_train)\n",
    "\n",
    "    k_list.append(i)\n",
    "    \n",
    "    y_predict = knn.predict(X_test_std)\n",
    "    sc = sqrt(mean_squared_error(y_predict,y_test))\n",
    "\n",
    "    k_scores.append(sc)\n",
    "\n",
    "    if(sc < best_score):\n",
    "        best_score = sc\n",
    "        best_k = i\n",
    "        print(\"\")\n",
    "        print(\"score=\",best_score,\"k=\",best_k)\n",
    "        \n",
    "print(\"El k optimo parece estar cerca de\",best_k)"
   ]
  },
  {
   "cell_type": "code",
   "execution_count": 33,
   "metadata": {
    "collapsed": false
   },
   "outputs": [
    {
     "name": "stdout",
     "output_type": "stream",
     "text": [
      "Buscando p optimo ............El p optimo parece estar cerca de 2\n"
     ]
    }
   ],
   "source": [
    "p_list = []\n",
    "print('Buscando p optimo .',end='')\n",
    "for p in [100,81,77,66,50,43,30,25,14,9,2]:\n",
    "    print('.',end='')\n",
    "    knn = KNeighborsRegressor(n_neighbors=best_k, p=p, weights='distance', n_jobs=-1)\n",
    "    knn.fit(X_train_std, y_train)\n",
    "\n",
    "    p_list.append(i)\n",
    "    \n",
    "    y_predict = knn.predict(X_test_std)\n",
    "    sc = sqrt(mean_squared_error(y_predict,y_test))\n",
    "\n",
    "    k_scores.append(sc)\n",
    "\n",
    "    if(sc < best_score):\n",
    "        best_score = sc\n",
    "        best_p = p\n",
    "        print(\"\")\n",
    "        print(\"score=\",best_score,\"k=\",best_p)\n",
    "        \n",
    "print(\"El p optimo parece estar cerca de\",best_p)"
   ]
  },
  {
   "cell_type": "code",
   "execution_count": 34,
   "metadata": {
    "collapsed": false
   },
   "outputs": [
    {
     "name": "stdout",
     "output_type": "stream",
     "text": [
      "Error del set de entrenamiento 32826.430387409986\n",
      "Error del set de test 220003.37918159607\n"
     ]
    }
   ],
   "source": [
    "# entrenamos el modelo\n",
    "model_knn = KNeighborsRegressor(n_neighbors=best_k, weights='distance', p=best_p, n_jobs=-1)\n",
    "model_knn.fit(X_train_std, y_train)\n",
    "\n",
    "y_predict = model_knn.predict(X_train_std)\n",
    "print(\"Error del set de entrenamiento\",sqrt(mean_squared_error(y_predict,y_train)))\n",
    "\n",
    "y_predict = model_knn.predict(X_test_std)\n",
    "print(\"Error del set de test\",sqrt(mean_squared_error(y_predict,y_test)))\n"
   ]
  },
  {
   "cell_type": "markdown",
   "metadata": {},
   "source": [
    "## Algoritmo II: Random Forest"
   ]
  },
  {
   "cell_type": "markdown",
   "metadata": {},
   "source": [
    "### RF con datos no-normalizados"
   ]
  },
  {
   "cell_type": "code",
   "execution_count": 167,
   "metadata": {
    "collapsed": true
   },
   "outputs": [],
   "source": [
    "best_max_depth = 5\n",
    "best_min_samples_leaf = 5\n",
    "best_min_samples_split = 10"
   ]
  },
  {
   "cell_type": "code",
   "execution_count": 168,
   "metadata": {
    "collapsed": false
   },
   "outputs": [
    {
     "name": "stderr",
     "output_type": "stream",
     "text": [
      "/opt/conda/lib/python3.5/site-packages/ipykernel/__main__.py:8: DataConversionWarning: A column-vector y was passed when a 1d array was expected. Please change the shape of y to (n_samples,), for example using ravel().\n"
     ]
    },
    {
     "name": "stdout",
     "output_type": "stream",
     "text": [
      "Transcurrieron: 14.58 segundos de entrenamiento\n",
      "Transcurrieron: 0.07 segundos de predicción\n"
     ]
    }
   ],
   "source": [
    "from time import time\n",
    "from sklearn.ensemble import RandomForestRegressor\n",
    "\n",
    "# calculo el tiempo que tarda un knn\n",
    "start_time = time()\n",
    "\n",
    "rf1 = RandomForestRegressor(n_estimators=100, max_features='auto', max_depth=best_max_depth,\\\n",
    "                           min_samples_leaf=best_min_samples_leaf, min_samples_split=best_min_samples_split)\n",
    "rf1.fit(X_train_std, y_train.ravel())\n",
    "\n",
    "train_time = time() - start_time\n",
    "print(\"Transcurrieron: %0.2f segundos de entrenamiento\" % train_time)\n",
    "\n",
    "y_predict = rf1.predict(X_test_std)\n",
    "\n",
    "predict_time = time() - start_time - train_time\n",
    "print(\"Transcurrieron: %0.2f segundos de predicción\" % predict_time)"
   ]
  },
  {
   "cell_type": "markdown",
   "metadata": {},
   "source": [
    "Primero fijo min leaf y min samples split y busco el max depth"
   ]
  },
  {
   "cell_type": "code",
   "execution_count": 172,
   "metadata": {
    "collapsed": false
   },
   "outputs": [
    {
     "name": "stdout",
     "output_type": "stream",
     "text": [
      "Buscando max_depth optimo ..\n",
      "score= 204462.48746332157 max_depth= 10\n",
      ".\n",
      "score= 193624.08728787221 max_depth= 20\n",
      ".\n",
      "score= 193204.01498244234 max_depth= 30\n",
      "..........El max_depth optimo parece estar cerca de 30\n"
     ]
    }
   ],
   "source": [
    "best_score = float(\"inf\")\n",
    "\n",
    "print('Buscando max_depth optimo .',end='')\n",
    "for i in [10,20,30,40,60,70,80,90,100,110,120,130,140]:\n",
    "    print('.',end='')\n",
    "    rf1 = RandomForestRegressor(n_estimators=100, max_features='auto', max_depth=i,\\\n",
    "                           min_samples_leaf=best_min_samples_leaf, min_samples_split=best_min_samples_split, n_jobs=-1)\n",
    "    rf1.fit(X_train, y_train.ravel())\n",
    "    \n",
    "    y_predict = rf1.predict(X_test)\n",
    "    sc = sqrt(mean_squared_error(y_predict,y_test))\n",
    "\n",
    "    if(sc < best_score):\n",
    "        best_score = sc\n",
    "        best_max_depth = i\n",
    "        print(\"\")\n",
    "        print(\"score=\",best_score,\"max_depth=\",best_max_depth)\n",
    "        \n",
    "print(\"El max_depth optimo parece estar cerca de\",best_max_depth)"
   ]
  },
  {
   "cell_type": "code",
   "execution_count": 173,
   "metadata": {
    "collapsed": false
   },
   "outputs": [
    {
     "name": "stdout",
     "output_type": "stream",
     "text": [
      "Buscando max_depth optimo ......\n",
      "score= 193159.91153818782 max_depth= 28\n",
      "....\n",
      "score= 192827.4127358393 max_depth= 32\n",
      "...El max_depth optimo parece estar cerca de 32\n"
     ]
    }
   ],
   "source": [
    "print('Buscando max_depth optimo .',end='')\n",
    "\n",
    "start_range = best_max_depth - 6\n",
    "end_range = best_max_depth + 6\n",
    "for i in range(start_range,end_range,1):\n",
    "    print('.',end='')\n",
    "    rf1 = RandomForestRegressor(n_estimators=100, max_features='auto', max_depth=i,\\\n",
    "                           min_samples_leaf=best_min_samples_leaf, min_samples_split=best_min_samples_split, n_jobs=-1)\n",
    "    rf1.fit(X_train, y_train.ravel())\n",
    "    \n",
    "    y_predict = rf1.predict(X_test)\n",
    "    sc = sqrt(mean_squared_error(y_predict,y_test))\n",
    "\n",
    "    if(sc < best_score):\n",
    "        best_score = sc\n",
    "        best_max_depth = i\n",
    "        print(\"\")\n",
    "        print(\"score=\",best_score,\"max_depth=\",best_max_depth)\n",
    "        \n",
    "print(\"El max_depth optimo parece estar cerca de\",best_max_depth)"
   ]
  },
  {
   "cell_type": "markdown",
   "metadata": {},
   "source": [
    "Fijado el max_depth ahora iteramos sobre el min leaf"
   ]
  },
  {
   "cell_type": "code",
   "execution_count": 176,
   "metadata": {
    "collapsed": false
   },
   "outputs": [
    {
     "name": "stdout",
     "output_type": "stream",
     "text": [
      "Buscando min_samples_leaf optimo .........El min_samples_leaf optimo parece estar cerca de 5\n"
     ]
    }
   ],
   "source": [
    "print('Buscando min_samples_leaf optimo .',end='')\n",
    "for i in [5,10,15,20,25,30,35,40]:\n",
    "    print('.',end='')\n",
    "    rf1 = RandomForestRegressor(n_estimators=100, max_features='auto', max_depth=best_max_depth,\\\n",
    "                           min_samples_leaf=i, min_samples_split=best_min_samples_split, n_jobs=-1)\n",
    "    rf1.fit(X_train, y_train.ravel())\n",
    "    \n",
    "    y_predict = rf1.predict(X_test)\n",
    "    sc = sqrt(mean_squared_error(y_predict,y_test))\n",
    "\n",
    "    if(sc < best_score):\n",
    "        best_score = sc\n",
    "        best_min_samples_leaf = i\n",
    "        print(\"\")\n",
    "        print(\"score=\",best_score,\"min_samples_leaf=\",best_min_samples_leaf)\n",
    "        \n",
    "print(\"El min_samples_leaf optimo parece estar cerca de\",best_min_samples_leaf)"
   ]
  },
  {
   "cell_type": "code",
   "execution_count": 178,
   "metadata": {
    "collapsed": false
   },
   "outputs": [
    {
     "name": "stdout",
     "output_type": "stream",
     "text": [
      "Buscando min_samples_leaf optimo ..\n",
      "score= 189328.4305402849 min_samples_leaf= 1\n",
      ".......El min_samples_leaf optimo parece estar cerca de 1\n"
     ]
    }
   ],
   "source": [
    "start_range = best_min_samples_leaf - 4\n",
    "end_range = best_min_samples_leaf + 4\n",
    "\n",
    "print('Buscando min_samples_leaf optimo .',end='')\n",
    "for i in range(start_range,end_range,1):\n",
    "    print('.',end='')\n",
    "    rf1 = RandomForestRegressor(n_estimators=100, max_features='auto', max_depth=best_max_depth,\\\n",
    "                           min_samples_leaf=i, min_samples_split=best_min_samples_split, n_jobs=-1)\n",
    "    rf1.fit(X_train, y_train.ravel())\n",
    "    \n",
    "    y_predict = rf1.predict(X_test)\n",
    "    sc = sqrt(mean_squared_error(y_predict,y_test))\n",
    "\n",
    "    if(sc < best_score):\n",
    "        best_score = sc\n",
    "        best_min_samples_leaf = i\n",
    "        print(\"\")\n",
    "        print(\"score=\",best_score,\"min_samples_leaf=\",best_min_samples_leaf)\n",
    "        \n",
    "print(\"El min_samples_leaf optimo parece estar cerca de\",best_min_samples_leaf)"
   ]
  },
  {
   "cell_type": "code",
   "execution_count": 179,
   "metadata": {
    "collapsed": false
   },
   "outputs": [
    {
     "name": "stdout",
     "output_type": "stream",
     "text": [
      "Buscando min_samples_split optimo ..\n",
      "score= 186975.5385509554 min_samples_split= 10\n",
      ".......El min_samples_split optimo parece estar cerca de 10\n"
     ]
    }
   ],
   "source": [
    "print('Buscando min_samples_split optimo .',end='')\n",
    "for i in [5,10,15,20,25,30,35,40]:\n",
    "    print('.',end='')\n",
    "    rf1 = RandomForestRegressor(n_estimators=100, max_features='auto', max_depth=best_max_depth,\\\n",
    "                           min_samples_leaf=best_min_samples_leaf, min_samples_split=i, n_jobs=-1)\n",
    "    rf1.fit(X_train, y_train.ravel())\n",
    "    \n",
    "    y_predict = rf1.predict(X_test)\n",
    "    sc = sqrt(mean_squared_error(y_predict,y_test))\n",
    "\n",
    "    if(sc < best_score):\n",
    "        best_score = sc\n",
    "        best_min_samples_leaf = i\n",
    "        print(\"\")\n",
    "        print(\"score=\",best_score,\"min_samples_split=\",best_min_samples_split)\n",
    "        \n",
    "print(\"El min_samples_split optimo parece estar cerca de\",best_min_samples_split)"
   ]
  },
  {
   "cell_type": "code",
   "execution_count": 180,
   "metadata": {
    "collapsed": false
   },
   "outputs": [
    {
     "name": "stdout",
     "output_type": "stream",
     "text": [
      "Buscando min_samples_split optimo .........El min_samples_split optimo parece estar cerca de 10\n"
     ]
    }
   ],
   "source": [
    "start_range = best_min_samples_split - 4\n",
    "end_range = best_min_samples_split + 4\n",
    "\n",
    "print('Buscando min_samples_split optimo .',end='')\n",
    "for i in range(start_range,end_range,1):\n",
    "    print('.',end='')\n",
    "    rf1 = RandomForestRegressor(n_estimators=100, max_features='auto', max_depth=best_max_depth,\\\n",
    "                           min_samples_leaf=best_min_samples_leaf, min_samples_split=i, n_jobs=-1)\n",
    "    rf1.fit(X_train, y_train.ravel())\n",
    "    \n",
    "    y_predict = rf1.predict(X_test)\n",
    "    sc = sqrt(mean_squared_error(y_predict,y_test))\n",
    "\n",
    "    if(sc < best_score):\n",
    "        best_score = sc\n",
    "        best_min_samples_leaf = i\n",
    "        print(\"\")\n",
    "        print(\"score=\",best_score,\"min_samples_split=\",best_min_samples_split)\n",
    "        \n",
    "print(\"El min_samples_split optimo parece estar cerca de\",best_min_samples_split)"
   ]
  },
  {
   "cell_type": "markdown",
   "metadata": {},
   "source": [
    "Por ultima vamos a ir aumentando los estimadores para mejorar la precisiones tratando de ver si mejoran o no los resultados. Esperamos que mientras mas estimadores tengamos, mejores seran los resultados"
   ]
  },
  {
   "cell_type": "code",
   "execution_count": 181,
   "metadata": {
    "collapsed": false
   },
   "outputs": [
    {
     "name": "stdout",
     "output_type": "stream",
     "text": [
      "Aumentando la cantidad de estimadores ...........La cantidad de estimadores que mejor resultados nos dio fue 100\n"
     ]
    }
   ],
   "source": [
    "best_estimators = 100\n",
    "\n",
    "print('Aumentando la cantidad de estimadores .',end='')\n",
    "for i in [100,200,300,400,500,600,700,800,900,1000]:\n",
    "    print('.',end='')\n",
    "    rf1 = RandomForestRegressor(n_estimators=i, max_features='auto', max_depth=best_max_depth,\\\n",
    "                           min_samples_leaf=best_min_samples_leaf, min_samples_split=best_min_samples_split, n_jobs=-1)\n",
    "    rf1.fit(X_train, y_train.ravel())\n",
    "    \n",
    "    y_predict = rf1.predict(X_test)\n",
    "    sc = sqrt(mean_squared_error(y_predict,y_test))\n",
    "\n",
    "    if(sc < best_score):\n",
    "        best_score = sc\n",
    "        best_estimators = i\n",
    "        print(\"\")\n",
    "        print(\"score=\",best_score,\"best_estimators=\",best_estimators)\n",
    "        \n",
    "print(\"La cantidad de estimadores que mejor resultados nos dio fue\",best_estimators)"
   ]
  },
  {
   "cell_type": "code",
   "execution_count": 184,
   "metadata": {
    "collapsed": false
   },
   "outputs": [
    {
     "name": "stdout",
     "output_type": "stream",
     "text": [
      "Error del set de entrenamiento 103808.53315985885\n",
      "Error del set de test 193179.15895364087\n"
     ]
    }
   ],
   "source": [
    "# entrenamos el modelo\n",
    "model_rf1 = RandomForestRegressor(n_estimators=best_estimators, max_features='auto', max_depth=best_max_depth,\\\n",
    "                           min_samples_leaf=best_min_samples_leaf, min_samples_split=best_min_samples_split, n_jobs=-1)\n",
    "model_rf1.fit(X_train, y_train.ravel())\n",
    "\n",
    "y_predict = model_rf1.predict(X_train)\n",
    "print(\"Error del set de entrenamiento\",sqrt(mean_squared_error(y_predict,y_train)))\n",
    "\n",
    "y_predict = model_rf1.predict(X_test)\n",
    "print(\"Error del set de test\",sqrt(mean_squared_error(y_predict,y_test)))"
   ]
  },
  {
   "cell_type": "markdown",
   "metadata": {},
   "source": [
    "### RF con datos normalizados"
   ]
  },
  {
   "cell_type": "code",
   "execution_count": null,
   "metadata": {
    "collapsed": false
   },
   "outputs": [
    {
     "data": {
      "text/plain": [
       "([mean: -33560509009.45726, std: 16139331957.76023, params: {'max_depth': 10, 'min_samples_split': 5, 'min_samples_leaf': 5},\n",
       "  mean: -33487612627.29683, std: 16363183890.34245, params: {'max_depth': 10, 'min_samples_split': 10, 'min_samples_leaf': 5},\n",
       "  mean: -34828791518.83158, std: 16399934876.30589, params: {'max_depth': 10, 'min_samples_split': 15, 'min_samples_leaf': 5},\n",
       "  mean: -37875762403.64905, std: 16453476623.49070, params: {'max_depth': 10, 'min_samples_split': 5, 'min_samples_leaf': 10},\n",
       "  mean: -37511667781.86235, std: 16433721353.32144, params: {'max_depth': 10, 'min_samples_split': 10, 'min_samples_leaf': 10},\n",
       "  mean: -37553579869.80670, std: 16387275532.88199, params: {'max_depth': 10, 'min_samples_split': 15, 'min_samples_leaf': 10},\n",
       "  mean: -41533355975.70618, std: 16689520123.97775, params: {'max_depth': 10, 'min_samples_split': 5, 'min_samples_leaf': 15},\n",
       "  mean: -41446288046.26664, std: 16732545965.57790, params: {'max_depth': 10, 'min_samples_split': 10, 'min_samples_leaf': 15},\n",
       "  mean: -41613863748.39275, std: 16754286312.21047, params: {'max_depth': 10, 'min_samples_split': 15, 'min_samples_leaf': 15},\n",
       "  mean: -30148510408.89368, std: 15522454364.34662, params: {'max_depth': 30, 'min_samples_split': 5, 'min_samples_leaf': 5},\n",
       "  mean: -30345518966.36008, std: 15684138130.83050, params: {'max_depth': 30, 'min_samples_split': 10, 'min_samples_leaf': 5},\n",
       "  mean: -31761487621.90945, std: 15772485300.63601, params: {'max_depth': 30, 'min_samples_split': 15, 'min_samples_leaf': 5},\n",
       "  mean: -35468728366.68581, std: 15909287658.61443, params: {'max_depth': 30, 'min_samples_split': 5, 'min_samples_leaf': 10},\n",
       "  mean: -35469061334.81966, std: 15882396986.28950, params: {'max_depth': 30, 'min_samples_split': 10, 'min_samples_leaf': 10},\n",
       "  mean: -35519017239.50798, std: 15917313225.01764, params: {'max_depth': 30, 'min_samples_split': 15, 'min_samples_leaf': 10},\n",
       "  mean: -40075819486.38246, std: 16495614666.76377, params: {'max_depth': 30, 'min_samples_split': 5, 'min_samples_leaf': 15},\n",
       "  mean: -40060460504.66417, std: 16613800130.23517, params: {'max_depth': 30, 'min_samples_split': 10, 'min_samples_leaf': 15},\n",
       "  mean: -39769492953.88977, std: 16350616486.02472, params: {'max_depth': 30, 'min_samples_split': 15, 'min_samples_leaf': 15},\n",
       "  mean: -30270866910.28709, std: 15639413834.68884, params: {'max_depth': 50, 'min_samples_split': 5, 'min_samples_leaf': 5},\n",
       "  mean: -30370842129.75925, std: 15657752243.60534, params: {'max_depth': 50, 'min_samples_split': 10, 'min_samples_leaf': 5},\n",
       "  mean: -32151471902.07700, std: 15922420118.02510, params: {'max_depth': 50, 'min_samples_split': 15, 'min_samples_leaf': 5},\n",
       "  mean: -35748021244.85074, std: 15811967595.64600, params: {'max_depth': 50, 'min_samples_split': 5, 'min_samples_leaf': 10},\n",
       "  mean: -35693472798.33313, std: 16017235899.45886, params: {'max_depth': 50, 'min_samples_split': 10, 'min_samples_leaf': 10},\n",
       "  mean: -35754308705.48848, std: 15825640016.07964, params: {'max_depth': 50, 'min_samples_split': 15, 'min_samples_leaf': 10},\n",
       "  mean: -40057559805.28391, std: 16456650968.73643, params: {'max_depth': 50, 'min_samples_split': 5, 'min_samples_leaf': 15},\n",
       "  mean: -40065432657.40338, std: 16316774366.64036, params: {'max_depth': 50, 'min_samples_split': 10, 'min_samples_leaf': 15},\n",
       "  mean: -39918632220.30669, std: 16658647014.74193, params: {'max_depth': 50, 'min_samples_split': 15, 'min_samples_leaf': 15},\n",
       "  mean: -29978172990.75351, std: 15540754619.41401, params: {'max_depth': 70, 'min_samples_split': 5, 'min_samples_leaf': 5},\n",
       "  mean: -30130421248.76183, std: 15333179117.56241, params: {'max_depth': 70, 'min_samples_split': 10, 'min_samples_leaf': 5},\n",
       "  mean: -32049327262.31295, std: 15666351077.55704, params: {'max_depth': 70, 'min_samples_split': 15, 'min_samples_leaf': 5},\n",
       "  mean: -35450639216.45219, std: 15767628220.70617, params: {'max_depth': 70, 'min_samples_split': 5, 'min_samples_leaf': 10},\n",
       "  mean: -35655611129.05627, std: 16048511474.58480, params: {'max_depth': 70, 'min_samples_split': 10, 'min_samples_leaf': 10},\n",
       "  mean: -35643680803.32750, std: 15787482390.86418, params: {'max_depth': 70, 'min_samples_split': 15, 'min_samples_leaf': 10},\n",
       "  mean: -40172948197.65707, std: 16537482275.21724, params: {'max_depth': 70, 'min_samples_split': 5, 'min_samples_leaf': 15},\n",
       "  mean: -39905429035.47937, std: 16433883059.66189, params: {'max_depth': 70, 'min_samples_split': 10, 'min_samples_leaf': 15},\n",
       "  mean: -39762325832.32825, std: 16450964398.31895, params: {'max_depth': 70, 'min_samples_split': 15, 'min_samples_leaf': 15},\n",
       "  mean: -30220528296.02174, std: 15418285609.10745, params: {'max_depth': 90, 'min_samples_split': 5, 'min_samples_leaf': 5},\n",
       "  mean: -30339566726.36579, std: 15603446379.23860, params: {'max_depth': 90, 'min_samples_split': 10, 'min_samples_leaf': 5},\n",
       "  mean: -32171034831.20443, std: 15650406789.98842, params: {'max_depth': 90, 'min_samples_split': 15, 'min_samples_leaf': 5},\n",
       "  mean: -35570956331.91573, std: 15874504278.49221, params: {'max_depth': 90, 'min_samples_split': 5, 'min_samples_leaf': 10},\n",
       "  mean: -35401628880.36402, std: 15972983602.89872, params: {'max_depth': 90, 'min_samples_split': 10, 'min_samples_leaf': 10},\n",
       "  mean: -35589819732.53548, std: 16051952132.83080, params: {'max_depth': 90, 'min_samples_split': 15, 'min_samples_leaf': 10},\n",
       "  mean: -40018110438.49296, std: 16612625420.66461, params: {'max_depth': 90, 'min_samples_split': 5, 'min_samples_leaf': 15},\n",
       "  mean: -40112601556.39614, std: 16452612459.03794, params: {'max_depth': 90, 'min_samples_split': 10, 'min_samples_leaf': 15},\n",
       "  mean: -40076392142.28206, std: 16467001298.56952, params: {'max_depth': 90, 'min_samples_split': 15, 'min_samples_leaf': 15},\n",
       "  mean: -30279928436.51106, std: 15367009515.48610, params: {'max_depth': 100, 'min_samples_split': 5, 'min_samples_leaf': 5},\n",
       "  mean: -30194543548.44493, std: 15178981581.25353, params: {'max_depth': 100, 'min_samples_split': 10, 'min_samples_leaf': 5},\n",
       "  mean: -32064552059.89088, std: 15761882563.54150, params: {'max_depth': 100, 'min_samples_split': 15, 'min_samples_leaf': 5},\n",
       "  mean: -35579555172.16311, std: 16204446091.77383, params: {'max_depth': 100, 'min_samples_split': 5, 'min_samples_leaf': 10},\n",
       "  mean: -35682612974.37357, std: 15969998200.24184, params: {'max_depth': 100, 'min_samples_split': 10, 'min_samples_leaf': 10},\n",
       "  mean: -35371860602.48154, std: 15829453109.82318, params: {'max_depth': 100, 'min_samples_split': 15, 'min_samples_leaf': 10},\n",
       "  mean: -40096585989.71894, std: 16592392501.97578, params: {'max_depth': 100, 'min_samples_split': 5, 'min_samples_leaf': 15},\n",
       "  mean: -40323671519.10112, std: 16540718751.13597, params: {'max_depth': 100, 'min_samples_split': 10, 'min_samples_leaf': 15},\n",
       "  mean: -39910977512.84044, std: 16449141689.16333, params: {'max_depth': 100, 'min_samples_split': 15, 'min_samples_leaf': 15}],\n",
       " {'max_depth': 70, 'min_samples_leaf': 5, 'min_samples_split': 5},\n",
       " -29978172990.75351)"
      ]
     },
     "execution_count": 42,
     "metadata": {},
     "output_type": "execute_result"
    }
   ],
   "source": [
    "# crossvalidation: max_depth, min_samples_*\n",
    "from sklearn.grid_search import GridSearchCV\n",
    "from sklearn.ensemble import RandomForestRegressor\n",
    "\n",
    "hyperparameters = { 'max_depth': [10,30,50,70,90,100],\n",
    "                    'min_samples_leaf': [5,10,15],\n",
    "                    'min_samples_split': [5,10,15]}\n",
    "\n",
    "model = RandomForestRegressor(n_estimators=100, max_features='auto')\n",
    "clf = GridSearchCV(estimator=model, param_grid=hyperparameters , iid=False, cv=10, scoring='neg_mean_squared_error')\n",
    "\n",
    "# Fit and tune model\n",
    "clf.fit(X_train_std, y_train.ravel())\n",
    "\n",
    "clf.grid_scores_, clf.best_params_, clf.best_score_"
   ]
  },
  {
   "cell_type": "code",
   "execution_count": null,
   "metadata": {
    "collapsed": false
   },
   "outputs": [],
   "source": [
    "# crossvalidation: n_estimators\n",
    "hyperparameters = { 'n_estimators': [100,200,300,400,500,600,700,800,900,1000]}\n",
    "\n",
    "model = RandomForestRegressor(n_estimators=100, max_features='auto', max_depth=100, min_samples_leaf=5, min_samples_split=5)\n",
    "clf = GridSearchCV(estimator=model, param_grid=hyperparameters , iid=False, cv=10, scoring='neg_mean_squared_error')\n",
    "\n",
    "# Fit and tune model\n",
    "clf.fit(X_train_std, y_train.ravel())\n",
    "\n",
    "clf.grid_scores_, clf.best_params_, clf.best_score_"
   ]
  },
  {
   "cell_type": "code",
   "execution_count": null,
   "metadata": {
    "collapsed": false
   },
   "outputs": [],
   "source": [
    "from sklearn.metrics import mean_squared_error\n",
    "from math import sqrt\n",
    "\n",
    "print(\"RMSE: \", sqrt(mean_squared_error(clf.predict(X_test_std),y_test)))"
   ]
  },
  {
   "cell_type": "code",
   "execution_count": null,
   "metadata": {
    "collapsed": false
   },
   "outputs": [],
   "source": [
    "# entrenamos el modelo\n",
    "from sklearn.ensemble import RandomForestRegressor\n",
    "\n",
    "model_rf2 = RandomForestRegressor(n_estimators=500, max_features='auto', max_depth=100, min_samples_leaf=5, min_samples_split=5)\n",
    "model_rf2.fit(X_train_std, y_train)\n",
    "\n",
    "from sklearn.metrics import mean_squared_error\n",
    "from math import sqrt\n",
    "\n",
    "print(\"RMSE: \", sqrt(mean_squared_error(model_rf2.predict(X_test_std),y_test)))"
   ]
  },
  {
   "cell_type": "markdown",
   "metadata": {},
   "source": [
    "## ENSAMBLE"
   ]
  },
  {
   "cell_type": "markdown",
   "metadata": {},
   "source": [
    "### Levantar set de test"
   ]
  },
  {
   "cell_type": "code",
   "execution_count": 144,
   "metadata": {
    "collapsed": false
   },
   "outputs": [
    {
     "data": {
      "text/html": [
       "<div>\n",
       "<table border=\"1\" class=\"dataframe\">\n",
       "  <thead>\n",
       "    <tr style=\"text-align: right;\">\n",
       "      <th></th>\n",
       "      <th>id</th>\n",
       "      <th>created_on</th>\n",
       "      <th>property_type</th>\n",
       "      <th>operation</th>\n",
       "      <th>place_name</th>\n",
       "      <th>place_with_parent_names</th>\n",
       "      <th>country_name</th>\n",
       "      <th>state_name</th>\n",
       "      <th>lat-lon</th>\n",
       "      <th>lat</th>\n",
       "      <th>lon</th>\n",
       "      <th>surface_total_in_m2</th>\n",
       "      <th>surface_covered_in_m2</th>\n",
       "      <th>floor</th>\n",
       "      <th>rooms</th>\n",
       "      <th>expenses</th>\n",
       "      <th>description</th>\n",
       "    </tr>\n",
       "  </thead>\n",
       "  <tbody>\n",
       "    <tr>\n",
       "      <th>0</th>\n",
       "      <td>3632</td>\n",
       "      <td>2017-08-24</td>\n",
       "      <td>departamento</td>\n",
       "      <td>venta</td>\n",
       "      <td>Puerto Madero</td>\n",
       "      <td>|Argentina|Capital Federal|Puerto Madero|</td>\n",
       "      <td>Argentina</td>\n",
       "      <td>Capital Federal</td>\n",
       "      <td>-34.6109877599,-58.3634635778</td>\n",
       "      <td>-34.610988</td>\n",
       "      <td>-58.363464</td>\n",
       "      <td>0.0</td>\n",
       "      <td>NaN</td>\n",
       "      <td>NaN</td>\n",
       "      <td>NaN</td>\n",
       "      <td>NaN</td>\n",
       "      <td>Edificio BA Houses situado frente al Dique 3 d...</td>\n",
       "    </tr>\n",
       "    <tr>\n",
       "      <th>1</th>\n",
       "      <td>3633</td>\n",
       "      <td>2017-08-25</td>\n",
       "      <td>departamento</td>\n",
       "      <td>venta</td>\n",
       "      <td>Buenos Aires Interior</td>\n",
       "      <td>|Argentina|Buenos Aires Interior|</td>\n",
       "      <td>Argentina</td>\n",
       "      <td>Buenos Aires Interior</td>\n",
       "      <td>NaN</td>\n",
       "      <td>NaN</td>\n",
       "      <td>NaN</td>\n",
       "      <td>0.0</td>\n",
       "      <td>NaN</td>\n",
       "      <td>NaN</td>\n",
       "      <td>NaN</td>\n",
       "      <td>NaN</td>\n",
       "      <td>El departamento cuenta con un living-comedor a...</td>\n",
       "    </tr>\n",
       "    <tr>\n",
       "      <th>2</th>\n",
       "      <td>2263404</td>\n",
       "      <td>2017-08-01</td>\n",
       "      <td>departamento</td>\n",
       "      <td>venta</td>\n",
       "      <td>Palermo Soho</td>\n",
       "      <td>|Argentina|Capital Federal|Palermo|Palermo Soho|</td>\n",
       "      <td>Argentina</td>\n",
       "      <td>Capital Federal</td>\n",
       "      <td>-34.5893633232,-58.4128798588</td>\n",
       "      <td>-34.589363</td>\n",
       "      <td>-58.412880</td>\n",
       "      <td>53.0</td>\n",
       "      <td>48.0</td>\n",
       "      <td>NaN</td>\n",
       "      <td>NaN</td>\n",
       "      <td>1500</td>\n",
       "      <td>IMPECABLE TORRE COY III – DEPA...</td>\n",
       "    </tr>\n",
       "    <tr>\n",
       "      <th>3</th>\n",
       "      <td>2263405</td>\n",
       "      <td>2017-08-01</td>\n",
       "      <td>departamento</td>\n",
       "      <td>venta</td>\n",
       "      <td>Chacarita</td>\n",
       "      <td>|Argentina|Capital Federal|Chacarita|</td>\n",
       "      <td>Argentina</td>\n",
       "      <td>Capital Federal</td>\n",
       "      <td>NaN</td>\n",
       "      <td>NaN</td>\n",
       "      <td>NaN</td>\n",
       "      <td>39.0</td>\n",
       "      <td>39.0</td>\n",
       "      <td>NaN</td>\n",
       "      <td>NaN</td>\n",
       "      <td>NaN</td>\n",
       "      <td>AMBIENTE DIVISIBLE CON PISOS D...</td>\n",
       "    </tr>\n",
       "    <tr>\n",
       "      <th>4</th>\n",
       "      <td>2263406</td>\n",
       "      <td>2017-08-01</td>\n",
       "      <td>departamento</td>\n",
       "      <td>venta</td>\n",
       "      <td>Chacarita</td>\n",
       "      <td>|Argentina|Capital Federal|Chacarita|</td>\n",
       "      <td>Argentina</td>\n",
       "      <td>Capital Federal</td>\n",
       "      <td>NaN</td>\n",
       "      <td>NaN</td>\n",
       "      <td>NaN</td>\n",
       "      <td>51.0</td>\n",
       "      <td>51.0</td>\n",
       "      <td>NaN</td>\n",
       "      <td>NaN</td>\n",
       "      <td>NaN</td>\n",
       "      <td>LIVING COMEDOR CON PISOS DE PO...</td>\n",
       "    </tr>\n",
       "  </tbody>\n",
       "</table>\n",
       "</div>"
      ],
      "text/plain": [
       "        id  created_on property_type operation             place_name  \\\n",
       "0     3632  2017-08-24  departamento     venta          Puerto Madero   \n",
       "1     3633  2017-08-25  departamento     venta  Buenos Aires Interior   \n",
       "2  2263404  2017-08-01  departamento     venta           Palermo Soho   \n",
       "3  2263405  2017-08-01  departamento     venta              Chacarita   \n",
       "4  2263406  2017-08-01  departamento     venta              Chacarita   \n",
       "\n",
       "                            place_with_parent_names country_name  \\\n",
       "0         |Argentina|Capital Federal|Puerto Madero|    Argentina   \n",
       "1                 |Argentina|Buenos Aires Interior|    Argentina   \n",
       "2  |Argentina|Capital Federal|Palermo|Palermo Soho|    Argentina   \n",
       "3             |Argentina|Capital Federal|Chacarita|    Argentina   \n",
       "4             |Argentina|Capital Federal|Chacarita|    Argentina   \n",
       "\n",
       "              state_name                        lat-lon        lat        lon  \\\n",
       "0        Capital Federal  -34.6109877599,-58.3634635778 -34.610988 -58.363464   \n",
       "1  Buenos Aires Interior                            NaN        NaN        NaN   \n",
       "2        Capital Federal  -34.5893633232,-58.4128798588 -34.589363 -58.412880   \n",
       "3        Capital Federal                            NaN        NaN        NaN   \n",
       "4        Capital Federal                            NaN        NaN        NaN   \n",
       "\n",
       "   surface_total_in_m2  surface_covered_in_m2  floor  rooms expenses  \\\n",
       "0                  0.0                    NaN    NaN    NaN      NaN   \n",
       "1                  0.0                    NaN    NaN    NaN      NaN   \n",
       "2                 53.0                   48.0    NaN    NaN     1500   \n",
       "3                 39.0                   39.0    NaN    NaN      NaN   \n",
       "4                 51.0                   51.0    NaN    NaN      NaN   \n",
       "\n",
       "                                         description  \n",
       "0  Edificio BA Houses situado frente al Dique 3 d...  \n",
       "1  El departamento cuenta con un living-comedor a...  \n",
       "2                  IMPECABLE TORRE COY III – DEPA...  \n",
       "3                  AMBIENTE DIVISIBLE CON PISOS D...  \n",
       "4                  LIVING COMEDOR CON PISOS DE PO...  "
      ]
     },
     "execution_count": 144,
     "metadata": {},
     "output_type": "execute_result"
    }
   ],
   "source": [
    "# leemos set de test\n",
    "test_df = pd.read_csv('../data/test/properati_dataset_testing_noprice.csv', low_memory=False)\n",
    "test_df.head()"
   ]
  },
  {
   "cell_type": "code",
   "execution_count": 145,
   "metadata": {
    "collapsed": false
   },
   "outputs": [
    {
     "name": "stdout",
     "output_type": "stream",
     "text": [
      "<class 'pandas.core.frame.DataFrame'>\n",
      "RangeIndex: 14166 entries, 0 to 14165\n",
      "Data columns (total 11 columns):\n",
      "created_on               14166 non-null object\n",
      "property_type            14166 non-null object\n",
      "place_name               14166 non-null object\n",
      "state_name               14166 non-null object\n",
      "lat                      10487 non-null float64\n",
      "lon                      10487 non-null float64\n",
      "surface_total_in_m2      11853 non-null float64\n",
      "surface_covered_in_m2    13005 non-null float64\n",
      "floor                    1368 non-null float64\n",
      "rooms                    7500 non-null float64\n",
      "expenses                 2543 non-null object\n",
      "dtypes: float64(6), object(5)\n",
      "memory usage: 1.2+ MB\n"
     ]
    }
   ],
   "source": [
    "# nos quedamos con las columnas con las que entrenamos el modelo\n",
    "test_predcit_df = test_df.loc[:,columns]\n",
    "test_predcit_df.info()"
   ]
  },
  {
   "cell_type": "code",
   "execution_count": 146,
   "metadata": {
    "collapsed": false
   },
   "outputs": [
    {
     "data": {
      "text/html": [
       "<div>\n",
       "<table border=\"1\" class=\"dataframe\">\n",
       "  <thead>\n",
       "    <tr style=\"text-align: right;\">\n",
       "      <th></th>\n",
       "      <th>floor</th>\n",
       "      <th>rooms</th>\n",
       "    </tr>\n",
       "  </thead>\n",
       "  <tbody>\n",
       "    <tr>\n",
       "      <th>count</th>\n",
       "      <td>14166.000000</td>\n",
       "      <td>14166.000000</td>\n",
       "    </tr>\n",
       "    <tr>\n",
       "      <th>mean</th>\n",
       "      <td>1.031272</td>\n",
       "      <td>1.484893</td>\n",
       "    </tr>\n",
       "    <tr>\n",
       "      <th>std</th>\n",
       "      <td>29.206664</td>\n",
       "      <td>1.742398</td>\n",
       "    </tr>\n",
       "    <tr>\n",
       "      <th>min</th>\n",
       "      <td>0.000000</td>\n",
       "      <td>0.000000</td>\n",
       "    </tr>\n",
       "    <tr>\n",
       "      <th>25%</th>\n",
       "      <td>0.000000</td>\n",
       "      <td>0.000000</td>\n",
       "    </tr>\n",
       "    <tr>\n",
       "      <th>50%</th>\n",
       "      <td>0.000000</td>\n",
       "      <td>1.000000</td>\n",
       "    </tr>\n",
       "    <tr>\n",
       "      <th>75%</th>\n",
       "      <td>0.000000</td>\n",
       "      <td>3.000000</td>\n",
       "    </tr>\n",
       "    <tr>\n",
       "      <th>max</th>\n",
       "      <td>2509.000000</td>\n",
       "      <td>21.000000</td>\n",
       "    </tr>\n",
       "  </tbody>\n",
       "</table>\n",
       "</div>"
      ],
      "text/plain": [
       "              floor         rooms\n",
       "count  14166.000000  14166.000000\n",
       "mean       1.031272      1.484893\n",
       "std       29.206664      1.742398\n",
       "min        0.000000      0.000000\n",
       "25%        0.000000      0.000000\n",
       "50%        0.000000      1.000000\n",
       "75%        0.000000      3.000000\n",
       "max     2509.000000     21.000000"
      ]
     },
     "execution_count": 146,
     "metadata": {},
     "output_type": "execute_result"
    }
   ],
   "source": [
    "# completamos los nulos\n",
    "test_predcit_df['floor'] = test_predcit_df[['floor']].fillna(0)\n",
    "test_predcit_df['rooms'] = test_predcit_df[['rooms']].fillna(0)\n",
    "\n",
    "test_predcit_df[['floor','rooms']].describe()"
   ]
  },
  {
   "cell_type": "code",
   "execution_count": 147,
   "metadata": {
    "collapsed": false
   },
   "outputs": [
    {
     "data": {
      "text/plain": [
       "280                   SI\n",
       "282                   NO\n",
       "363                $1500\n",
       "600               $16000\n",
       "639                $1980\n",
       "1340              $19000\n",
       "4520       $ 2400 aprox.\n",
       "6625              $25900\n",
       "6652              20.622\n",
       "6654                 8.5\n",
       "6655                 8.3\n",
       "6662                13.5\n",
       "6664                 8.2\n",
       "6665               15.47\n",
       "6667                 6.5\n",
       "6669              11.489\n",
       "6670                15.5\n",
       "6671                 8.5\n",
       "6673                 7.8\n",
       "6675                 4.2\n",
       "6681                $650\n",
       "6682                 7.6\n",
       "6685                14.5\n",
       "7623               $ 300\n",
       "8078               $1980\n",
       "8539           2000/2500\n",
       "9960        Sin expensas\n",
       "10978                 NO\n",
       "10987                 SI\n",
       "10989                 NO\n",
       "11054    5750 + 4000 ext\n",
       "11097        $ 600 aprox\n",
       "11250                1.3\n",
       "12000                4.5\n",
       "13329       Sin expensas\n",
       "13989              $1200\n",
       "13993                1.9\n",
       "Name: expenses, dtype: object"
      ]
     },
     "execution_count": 147,
     "metadata": {},
     "output_type": "execute_result"
    }
   ],
   "source": [
    "test_predcit_df['expenses'] = test_predcit_df[['expenses']].fillna(0)\n",
    "test_predcit_df[~test_predcit_df['expenses'].astype(str).str.isdigit()]['expenses']"
   ]
  },
  {
   "cell_type": "code",
   "execution_count": 148,
   "metadata": {
    "collapsed": false
   },
   "outputs": [
    {
     "data": {
      "text/plain": [
       "'12000'"
      ]
     },
     "execution_count": 148,
     "metadata": {},
     "output_type": "execute_result"
    }
   ],
   "source": [
    "import re\n",
    "\n",
    "re.sub('(\\$+)','', \"12000\")"
   ]
  },
  {
   "cell_type": "code",
   "execution_count": 149,
   "metadata": {
    "collapsed": false
   },
   "outputs": [
    {
     "data": {
      "text/plain": [
       "9960     \n",
       "13329    \n",
       "Name: expenses, dtype: object"
      ]
     },
     "execution_count": 149,
     "metadata": {},
     "output_type": "execute_result"
    }
   ],
   "source": [
    "def to_numeric(x):\n",
    "    replacement = x\n",
    "    try:\n",
    "        replacement = re.sub('(\\$+)','', replacement)\n",
    "        replacement = re.sub('aprox','', replacement)\n",
    "        replacement = re.sub('Sin expensas','', replacement)\n",
    "        replacement = re.sub('NO','0', replacement)\n",
    "        replacement = re.sub('SI','0', replacement)\n",
    "        replacement = re.sub('(\\.+)','', replacement)\n",
    "        replacement = re.sub(' ','', replacement)\n",
    "        replacement = re.sub('\\/.*$','', replacement)\n",
    "        replacement = re.sub('\\+.*$','', replacement)\n",
    "    except:\n",
    "        return x\n",
    "    return replacement\n",
    "    \n",
    "test_predcit_df['expenses'] = test_predcit_df['expenses'].apply(to_numeric)\n",
    "test_predcit_df['expenses'] = test_predcit_df[['expenses']].fillna(0)\n",
    "test_predcit_df[~test_predcit_df['expenses'].astype(str).str.isdigit()]['expenses']"
   ]
  },
  {
   "cell_type": "code",
   "execution_count": 150,
   "metadata": {
    "collapsed": false
   },
   "outputs": [
    {
     "data": {
      "text/html": [
       "<div>\n",
       "<table border=\"1\" class=\"dataframe\">\n",
       "  <thead>\n",
       "    <tr style=\"text-align: right;\">\n",
       "      <th></th>\n",
       "      <th>created_on</th>\n",
       "      <th>property_type</th>\n",
       "      <th>place_name</th>\n",
       "      <th>state_name</th>\n",
       "      <th>lat</th>\n",
       "      <th>lon</th>\n",
       "      <th>surface_total_in_m2</th>\n",
       "      <th>surface_covered_in_m2</th>\n",
       "      <th>floor</th>\n",
       "      <th>rooms</th>\n",
       "      <th>expenses</th>\n",
       "    </tr>\n",
       "  </thead>\n",
       "  <tbody>\n",
       "    <tr>\n",
       "      <th>0</th>\n",
       "      <td>2017-08-24</td>\n",
       "      <td>departamento</td>\n",
       "      <td>Puerto Madero</td>\n",
       "      <td>Capital Federal</td>\n",
       "      <td>-34.610988</td>\n",
       "      <td>-58.363464</td>\n",
       "      <td>0.0</td>\n",
       "      <td>NaN</td>\n",
       "      <td>0.0</td>\n",
       "      <td>0.0</td>\n",
       "      <td>0.0</td>\n",
       "    </tr>\n",
       "    <tr>\n",
       "      <th>1</th>\n",
       "      <td>2017-08-25</td>\n",
       "      <td>departamento</td>\n",
       "      <td>Buenos Aires Interior</td>\n",
       "      <td>Buenos Aires Interior</td>\n",
       "      <td>NaN</td>\n",
       "      <td>NaN</td>\n",
       "      <td>0.0</td>\n",
       "      <td>NaN</td>\n",
       "      <td>0.0</td>\n",
       "      <td>0.0</td>\n",
       "      <td>0.0</td>\n",
       "    </tr>\n",
       "    <tr>\n",
       "      <th>2</th>\n",
       "      <td>2017-08-01</td>\n",
       "      <td>departamento</td>\n",
       "      <td>Palermo Soho</td>\n",
       "      <td>Capital Federal</td>\n",
       "      <td>-34.589363</td>\n",
       "      <td>-58.412880</td>\n",
       "      <td>53.0</td>\n",
       "      <td>48.0</td>\n",
       "      <td>0.0</td>\n",
       "      <td>0.0</td>\n",
       "      <td>1500.0</td>\n",
       "    </tr>\n",
       "    <tr>\n",
       "      <th>3</th>\n",
       "      <td>2017-08-01</td>\n",
       "      <td>departamento</td>\n",
       "      <td>Chacarita</td>\n",
       "      <td>Capital Federal</td>\n",
       "      <td>NaN</td>\n",
       "      <td>NaN</td>\n",
       "      <td>39.0</td>\n",
       "      <td>39.0</td>\n",
       "      <td>0.0</td>\n",
       "      <td>0.0</td>\n",
       "      <td>0.0</td>\n",
       "    </tr>\n",
       "    <tr>\n",
       "      <th>4</th>\n",
       "      <td>2017-08-01</td>\n",
       "      <td>departamento</td>\n",
       "      <td>Chacarita</td>\n",
       "      <td>Capital Federal</td>\n",
       "      <td>NaN</td>\n",
       "      <td>NaN</td>\n",
       "      <td>51.0</td>\n",
       "      <td>51.0</td>\n",
       "      <td>0.0</td>\n",
       "      <td>0.0</td>\n",
       "      <td>0.0</td>\n",
       "    </tr>\n",
       "  </tbody>\n",
       "</table>\n",
       "</div>"
      ],
      "text/plain": [
       "   created_on property_type             place_name             state_name  \\\n",
       "0  2017-08-24  departamento          Puerto Madero        Capital Federal   \n",
       "1  2017-08-25  departamento  Buenos Aires Interior  Buenos Aires Interior   \n",
       "2  2017-08-01  departamento           Palermo Soho        Capital Federal   \n",
       "3  2017-08-01  departamento              Chacarita        Capital Federal   \n",
       "4  2017-08-01  departamento              Chacarita        Capital Federal   \n",
       "\n",
       "         lat        lon  surface_total_in_m2  surface_covered_in_m2  floor  \\\n",
       "0 -34.610988 -58.363464                  0.0                    NaN    0.0   \n",
       "1        NaN        NaN                  0.0                    NaN    0.0   \n",
       "2 -34.589363 -58.412880                 53.0                   48.0    0.0   \n",
       "3        NaN        NaN                 39.0                   39.0    0.0   \n",
       "4        NaN        NaN                 51.0                   51.0    0.0   \n",
       "\n",
       "   rooms  expenses  \n",
       "0    0.0       0.0  \n",
       "1    0.0       0.0  \n",
       "2    0.0    1500.0  \n",
       "3    0.0       0.0  \n",
       "4    0.0       0.0  "
      ]
     },
     "execution_count": 150,
     "metadata": {},
     "output_type": "execute_result"
    }
   ],
   "source": [
    "test_predcit_df['expenses'] = pd.to_numeric(test_predcit_df['expenses'])\n",
    "test_predcit_df.head()"
   ]
  },
  {
   "cell_type": "code",
   "execution_count": 151,
   "metadata": {
    "collapsed": false
   },
   "outputs": [
    {
     "data": {
      "text/plain": [
       "Capital Federal             8847\n",
       "Bs.As. G.B.A. Zona Oeste    3101\n",
       "Bs.As. G.B.A. Zona Sur      2215\n",
       "Bs.As. G.B.A. Zona Norte       2\n",
       "Buenos Aires Interior          1\n",
       "Name: state_name, dtype: int64"
      ]
     },
     "execution_count": 151,
     "metadata": {},
     "output_type": "execute_result"
    }
   ],
   "source": [
    "test_predcit_df['state_name'].value_counts()"
   ]
  },
  {
   "cell_type": "code",
   "execution_count": 152,
   "metadata": {
    "collapsed": false
   },
   "outputs": [
    {
     "data": {
      "text/plain": [
       "3    8847\n",
       "1    3101\n",
       "2    2215\n",
       "0       2\n",
       "4       1\n",
       "Name: state_name, dtype: int64"
      ]
     },
     "execution_count": 152,
     "metadata": {},
     "output_type": "execute_result"
    }
   ],
   "source": [
    "def convert_state_name(x):\n",
    "    name = str(x)\n",
    "    if('Capital Federal' in x):\n",
    "        return 3\n",
    "    if('Zona Norte' in x):\n",
    "        return 0\n",
    "    if('Zona Sur' in x):\n",
    "        return 2\n",
    "    if('Zona Oeste' in x):\n",
    "        return 1\n",
    "    return 4\n",
    "\n",
    "test_predcit_df['state_name'] = test_predcit_df.state_name.apply(convert_state_name)\n",
    "test_predcit_df['state_name'].value_counts()"
   ]
  },
  {
   "cell_type": "code",
   "execution_count": 153,
   "metadata": {
    "collapsed": false
   },
   "outputs": [
    {
     "data": {
      "text/plain": [
       "Palermo                       1020\n",
       "Belgrano                       783\n",
       "Caballito                      650\n",
       "La Plata                       603\n",
       "Recoleta                       556\n",
       "Ituzaingó                      547\n",
       "Ramos Mejía                    394\n",
       "Morón                          393\n",
       "Almagro                        376\n",
       "Castelar                       345\n",
       "Flores                         329\n",
       "Villa Crespo                   329\n",
       "Balvanera                      327\n",
       "Villa Urquiza                  309\n",
       "Nuñez                          300\n",
       "Barrio Norte                   276\n",
       "Capital Federal                247\n",
       "Monserrat                      221\n",
       "Saavedra                       211\n",
       "San Telmo                      207\n",
       "Lomas de Zamora                197\n",
       "Quilmes                        178\n",
       "Moreno                         171\n",
       "Palermo Hollywood              164\n",
       "Puerto Madero                  155\n",
       "Banfield                       134\n",
       "Haedo                          126\n",
       "Villa Devoto                   123\n",
       "Lanús                          113\n",
       "Colegiales                     113\n",
       "                              ... \n",
       "Los Pingüinos Country Club       1\n",
       "Buenos Aires Interior            1\n",
       "Monte Chingolo                   1\n",
       "Sourigues                        1\n",
       "Santos Tesei                     1\n",
       "Aldo Bonzi                       1\n",
       "9 de Abril                       1\n",
       "William Morris                   1\n",
       "Malvinas Argentinas              1\n",
       "San Diego Country Club           1\n",
       "Domselaar                        1\n",
       "Villa Numancia                   1\n",
       "Mariano Acosta                   1\n",
       "Villa Brown                      1\n",
       "Villa Riachuelo                  1\n",
       "Cuartel V                        1\n",
       "La Unión                         1\n",
       "Country Banco Provincia          1\n",
       "Altos de Hudson I                1\n",
       "Bosques                          1\n",
       "Abril Club de Campo              1\n",
       "Vicente López                    1\n",
       "González Catán                   1\n",
       "San Carlos                       1\n",
       "Las Golondrinas                  1\n",
       "Barrio Cerrado Malibú            1\n",
       "Barrio Parque San Martin         1\n",
       "Fincas de Iraola                 1\n",
       "General San Martín               1\n",
       "El Rocío                         1\n",
       "Name: place_name, dtype: int64"
      ]
     },
     "execution_count": 153,
     "metadata": {},
     "output_type": "execute_result"
    }
   ],
   "source": [
    "test_predcit_df['place_name'].value_counts()"
   ]
  },
  {
   "cell_type": "code",
   "execution_count": 154,
   "metadata": {
    "collapsed": false
   },
   "outputs": [
    {
     "data": {
      "text/plain": [
       "133    1020\n",
       "20      783\n",
       "31      650\n",
       "96      603\n",
       "157     556\n",
       "92      547\n",
       "155     394\n",
       "129     393\n",
       "7       376\n",
       "37      345\n",
       "196     329\n",
       "73      329\n",
       "12      327\n",
       "218     309\n",
       "130     300\n",
       "17      276\n",
       "34      247\n",
       "124     221\n",
       "160     211\n",
       "168     207\n",
       "110     197\n",
       "153     178\n",
       "128     171\n",
       "135     164\n",
       "152     155\n",
       "13      134\n",
       "85      126\n",
       "197     123\n",
       "101     113\n",
       "47      113\n",
       "       ... \n",
       "175       1\n",
       "70        1\n",
       "56        1\n",
       "126       1\n",
       "150       1\n",
       "55        1\n",
       "15        1\n",
       "80        1\n",
       "222       1\n",
       "26        1\n",
       "9         1\n",
       "77        1\n",
       "99        1\n",
       "2         1\n",
       "50        1\n",
       "114       1\n",
       "154       1\n",
       "162       1\n",
       "194       1\n",
       "105       1\n",
       "65        1\n",
       "29        1\n",
       "207       1\n",
       "116       1\n",
       "164       1\n",
       "18        1\n",
       "172       1\n",
       "212       1\n",
       "5         1\n",
       "0         1\n",
       "Name: place_name, dtype: int64"
      ]
     },
     "execution_count": 154,
     "metadata": {},
     "output_type": "execute_result"
    }
   ],
   "source": [
    "test_predcit_df['place_name'] = encoder_place_name.fit_transform(test_predcit_df['place_name'])\n",
    "test_predcit_df['place_name'].value_counts()"
   ]
  },
  {
   "cell_type": "code",
   "execution_count": 155,
   "metadata": {
    "collapsed": false
   },
   "outputs": [
    {
     "data": {
      "text/html": [
       "<div>\n",
       "<table border=\"1\" class=\"dataframe\">\n",
       "  <thead>\n",
       "    <tr style=\"text-align: right;\">\n",
       "      <th></th>\n",
       "      <th>created_on</th>\n",
       "      <th>property_type</th>\n",
       "      <th>place_name</th>\n",
       "      <th>state_name</th>\n",
       "      <th>lat</th>\n",
       "      <th>lon</th>\n",
       "      <th>surface_total_in_m2</th>\n",
       "      <th>surface_covered_in_m2</th>\n",
       "      <th>floor</th>\n",
       "      <th>rooms</th>\n",
       "      <th>expenses</th>\n",
       "    </tr>\n",
       "  </thead>\n",
       "  <tbody>\n",
       "    <tr>\n",
       "      <th>0</th>\n",
       "      <td>2017-08-24</td>\n",
       "      <td>departamento</td>\n",
       "      <td>152</td>\n",
       "      <td>3</td>\n",
       "      <td>-34.610988</td>\n",
       "      <td>-58.363464</td>\n",
       "      <td>0.0</td>\n",
       "      <td>0.0</td>\n",
       "      <td>0.0</td>\n",
       "      <td>0.0</td>\n",
       "      <td>0.0</td>\n",
       "    </tr>\n",
       "    <tr>\n",
       "      <th>1</th>\n",
       "      <td>2017-08-25</td>\n",
       "      <td>departamento</td>\n",
       "      <td>29</td>\n",
       "      <td>4</td>\n",
       "      <td>NaN</td>\n",
       "      <td>NaN</td>\n",
       "      <td>0.0</td>\n",
       "      <td>0.0</td>\n",
       "      <td>0.0</td>\n",
       "      <td>0.0</td>\n",
       "      <td>0.0</td>\n",
       "    </tr>\n",
       "    <tr>\n",
       "      <th>2</th>\n",
       "      <td>2017-08-01</td>\n",
       "      <td>departamento</td>\n",
       "      <td>136</td>\n",
       "      <td>3</td>\n",
       "      <td>-34.589363</td>\n",
       "      <td>-58.412880</td>\n",
       "      <td>53.0</td>\n",
       "      <td>48.0</td>\n",
       "      <td>0.0</td>\n",
       "      <td>0.0</td>\n",
       "      <td>1500.0</td>\n",
       "    </tr>\n",
       "    <tr>\n",
       "      <th>3</th>\n",
       "      <td>2017-08-01</td>\n",
       "      <td>departamento</td>\n",
       "      <td>40</td>\n",
       "      <td>3</td>\n",
       "      <td>NaN</td>\n",
       "      <td>NaN</td>\n",
       "      <td>39.0</td>\n",
       "      <td>39.0</td>\n",
       "      <td>0.0</td>\n",
       "      <td>0.0</td>\n",
       "      <td>0.0</td>\n",
       "    </tr>\n",
       "    <tr>\n",
       "      <th>4</th>\n",
       "      <td>2017-08-01</td>\n",
       "      <td>departamento</td>\n",
       "      <td>40</td>\n",
       "      <td>3</td>\n",
       "      <td>NaN</td>\n",
       "      <td>NaN</td>\n",
       "      <td>51.0</td>\n",
       "      <td>51.0</td>\n",
       "      <td>0.0</td>\n",
       "      <td>0.0</td>\n",
       "      <td>0.0</td>\n",
       "    </tr>\n",
       "  </tbody>\n",
       "</table>\n",
       "</div>"
      ],
      "text/plain": [
       "   created_on property_type  place_name  state_name        lat        lon  \\\n",
       "0  2017-08-24  departamento         152           3 -34.610988 -58.363464   \n",
       "1  2017-08-25  departamento          29           4        NaN        NaN   \n",
       "2  2017-08-01  departamento         136           3 -34.589363 -58.412880   \n",
       "3  2017-08-01  departamento          40           3        NaN        NaN   \n",
       "4  2017-08-01  departamento          40           3        NaN        NaN   \n",
       "\n",
       "   surface_total_in_m2  surface_covered_in_m2  floor  rooms  expenses  \n",
       "0                  0.0                    0.0    0.0    0.0       0.0  \n",
       "1                  0.0                    0.0    0.0    0.0       0.0  \n",
       "2                 53.0                   48.0    0.0    0.0    1500.0  \n",
       "3                 39.0                   39.0    0.0    0.0       0.0  \n",
       "4                 51.0                   51.0    0.0    0.0       0.0  "
      ]
     },
     "execution_count": 155,
     "metadata": {},
     "output_type": "execute_result"
    }
   ],
   "source": [
    "test_predcit_df['surface_total_in_m2'] = test_predcit_df[['surface_total_in_m2']].fillna(0)\n",
    "test_predcit_df['surface_covered_in_m2'] = test_predcit_df[['surface_covered_in_m2']].fillna(0)\n",
    "test_predcit_df.head()"
   ]
  },
  {
   "cell_type": "code",
   "execution_count": 156,
   "metadata": {
    "collapsed": false
   },
   "outputs": [
    {
     "data": {
      "text/plain": [
       "departamento    9761\n",
       "casa            3409\n",
       "ph               996\n",
       "Name: property_type, dtype: int64"
      ]
     },
     "execution_count": 156,
     "metadata": {},
     "output_type": "execute_result"
    }
   ],
   "source": [
    "test_predcit_df['property_type'].value_counts()"
   ]
  },
  {
   "cell_type": "code",
   "execution_count": 157,
   "metadata": {
    "collapsed": false
   },
   "outputs": [
    {
     "data": {
      "text/plain": [
       "1    9761\n",
       "2    3409\n",
       "0     996\n",
       "Name: property_type, dtype: int64"
      ]
     },
     "execution_count": 157,
     "metadata": {},
     "output_type": "execute_result"
    }
   ],
   "source": [
    "\n",
    "def convert_property_type(x):\n",
    "    if('departamento' in x):\n",
    "        return 1\n",
    "    if('casa' in x):\n",
    "        return 2\n",
    "    if('ph' in x):\n",
    "        return 0\n",
    "    return 3\n",
    "\n",
    "test_predcit_df['property_type'] = test_predcit_df.property_type.apply(convert_property_type)\n",
    "test_predcit_df['property_type'].value_counts()"
   ]
  },
  {
   "cell_type": "code",
   "execution_count": 158,
   "metadata": {
    "collapsed": false
   },
   "outputs": [
    {
     "data": {
      "text/html": [
       "<div>\n",
       "<table border=\"1\" class=\"dataframe\">\n",
       "  <thead>\n",
       "    <tr style=\"text-align: right;\">\n",
       "      <th></th>\n",
       "      <th>created_on</th>\n",
       "      <th>property_type</th>\n",
       "      <th>place_name</th>\n",
       "      <th>state_name</th>\n",
       "      <th>lat</th>\n",
       "      <th>lon</th>\n",
       "      <th>surface_total_in_m2</th>\n",
       "      <th>surface_covered_in_m2</th>\n",
       "      <th>floor</th>\n",
       "      <th>rooms</th>\n",
       "      <th>expenses</th>\n",
       "    </tr>\n",
       "  </thead>\n",
       "  <tbody>\n",
       "    <tr>\n",
       "      <th>0</th>\n",
       "      <td>20170824</td>\n",
       "      <td>1</td>\n",
       "      <td>152</td>\n",
       "      <td>3</td>\n",
       "      <td>-34.610988</td>\n",
       "      <td>-58.363464</td>\n",
       "      <td>0.0</td>\n",
       "      <td>0.0</td>\n",
       "      <td>0.0</td>\n",
       "      <td>0.0</td>\n",
       "      <td>0.0</td>\n",
       "    </tr>\n",
       "    <tr>\n",
       "      <th>1</th>\n",
       "      <td>20170825</td>\n",
       "      <td>1</td>\n",
       "      <td>29</td>\n",
       "      <td>4</td>\n",
       "      <td>NaN</td>\n",
       "      <td>NaN</td>\n",
       "      <td>0.0</td>\n",
       "      <td>0.0</td>\n",
       "      <td>0.0</td>\n",
       "      <td>0.0</td>\n",
       "      <td>0.0</td>\n",
       "    </tr>\n",
       "    <tr>\n",
       "      <th>2</th>\n",
       "      <td>20170801</td>\n",
       "      <td>1</td>\n",
       "      <td>136</td>\n",
       "      <td>3</td>\n",
       "      <td>-34.589363</td>\n",
       "      <td>-58.412880</td>\n",
       "      <td>53.0</td>\n",
       "      <td>48.0</td>\n",
       "      <td>0.0</td>\n",
       "      <td>0.0</td>\n",
       "      <td>1500.0</td>\n",
       "    </tr>\n",
       "    <tr>\n",
       "      <th>3</th>\n",
       "      <td>20170801</td>\n",
       "      <td>1</td>\n",
       "      <td>40</td>\n",
       "      <td>3</td>\n",
       "      <td>NaN</td>\n",
       "      <td>NaN</td>\n",
       "      <td>39.0</td>\n",
       "      <td>39.0</td>\n",
       "      <td>0.0</td>\n",
       "      <td>0.0</td>\n",
       "      <td>0.0</td>\n",
       "    </tr>\n",
       "    <tr>\n",
       "      <th>4</th>\n",
       "      <td>20170801</td>\n",
       "      <td>1</td>\n",
       "      <td>40</td>\n",
       "      <td>3</td>\n",
       "      <td>NaN</td>\n",
       "      <td>NaN</td>\n",
       "      <td>51.0</td>\n",
       "      <td>51.0</td>\n",
       "      <td>0.0</td>\n",
       "      <td>0.0</td>\n",
       "      <td>0.0</td>\n",
       "    </tr>\n",
       "  </tbody>\n",
       "</table>\n",
       "</div>"
      ],
      "text/plain": [
       "   created_on  property_type  place_name  state_name        lat        lon  \\\n",
       "0    20170824              1         152           3 -34.610988 -58.363464   \n",
       "1    20170825              1          29           4        NaN        NaN   \n",
       "2    20170801              1         136           3 -34.589363 -58.412880   \n",
       "3    20170801              1          40           3        NaN        NaN   \n",
       "4    20170801              1          40           3        NaN        NaN   \n",
       "\n",
       "   surface_total_in_m2  surface_covered_in_m2  floor  rooms  expenses  \n",
       "0                  0.0                    0.0    0.0    0.0       0.0  \n",
       "1                  0.0                    0.0    0.0    0.0       0.0  \n",
       "2                 53.0                   48.0    0.0    0.0    1500.0  \n",
       "3                 39.0                   39.0    0.0    0.0       0.0  \n",
       "4                 51.0                   51.0    0.0    0.0       0.0  "
      ]
     },
     "execution_count": 158,
     "metadata": {},
     "output_type": "execute_result"
    }
   ],
   "source": [
    "test_predcit_df['created_on'] = test_predcit_df['created_on'].str.replace('-','').apply(int)\n",
    "test_predcit_df.head()"
   ]
  },
  {
   "cell_type": "markdown",
   "metadata": {},
   "source": [
    "Claramente hay que mejorar el tema de los lat y lon nulos. Por ahora solo asigno un promedio"
   ]
  },
  {
   "cell_type": "code",
   "execution_count": 159,
   "metadata": {
    "collapsed": false
   },
   "outputs": [
    {
     "data": {
      "text/html": [
       "<div>\n",
       "<table border=\"1\" class=\"dataframe\">\n",
       "  <thead>\n",
       "    <tr style=\"text-align: right;\">\n",
       "      <th></th>\n",
       "      <th>created_on</th>\n",
       "      <th>property_type</th>\n",
       "      <th>place_name</th>\n",
       "      <th>state_name</th>\n",
       "      <th>lat</th>\n",
       "      <th>lon</th>\n",
       "      <th>surface_total_in_m2</th>\n",
       "      <th>surface_covered_in_m2</th>\n",
       "      <th>floor</th>\n",
       "      <th>rooms</th>\n",
       "      <th>expenses</th>\n",
       "    </tr>\n",
       "  </thead>\n",
       "  <tbody>\n",
       "    <tr>\n",
       "      <th>0</th>\n",
       "      <td>20170824</td>\n",
       "      <td>1</td>\n",
       "      <td>152</td>\n",
       "      <td>3</td>\n",
       "      <td>-34.610988</td>\n",
       "      <td>-58.363464</td>\n",
       "      <td>0.0</td>\n",
       "      <td>0.0</td>\n",
       "      <td>0.0</td>\n",
       "      <td>0.0</td>\n",
       "      <td>0.0</td>\n",
       "    </tr>\n",
       "    <tr>\n",
       "      <th>1</th>\n",
       "      <td>20170825</td>\n",
       "      <td>1</td>\n",
       "      <td>29</td>\n",
       "      <td>4</td>\n",
       "      <td>-34.629923</td>\n",
       "      <td>-58.465820</td>\n",
       "      <td>0.0</td>\n",
       "      <td>0.0</td>\n",
       "      <td>0.0</td>\n",
       "      <td>0.0</td>\n",
       "      <td>0.0</td>\n",
       "    </tr>\n",
       "    <tr>\n",
       "      <th>2</th>\n",
       "      <td>20170801</td>\n",
       "      <td>1</td>\n",
       "      <td>136</td>\n",
       "      <td>3</td>\n",
       "      <td>-34.589363</td>\n",
       "      <td>-58.412880</td>\n",
       "      <td>53.0</td>\n",
       "      <td>48.0</td>\n",
       "      <td>0.0</td>\n",
       "      <td>0.0</td>\n",
       "      <td>1500.0</td>\n",
       "    </tr>\n",
       "    <tr>\n",
       "      <th>3</th>\n",
       "      <td>20170801</td>\n",
       "      <td>1</td>\n",
       "      <td>40</td>\n",
       "      <td>3</td>\n",
       "      <td>-34.629923</td>\n",
       "      <td>-58.465820</td>\n",
       "      <td>39.0</td>\n",
       "      <td>39.0</td>\n",
       "      <td>0.0</td>\n",
       "      <td>0.0</td>\n",
       "      <td>0.0</td>\n",
       "    </tr>\n",
       "    <tr>\n",
       "      <th>4</th>\n",
       "      <td>20170801</td>\n",
       "      <td>1</td>\n",
       "      <td>40</td>\n",
       "      <td>3</td>\n",
       "      <td>-34.629923</td>\n",
       "      <td>-58.465820</td>\n",
       "      <td>51.0</td>\n",
       "      <td>51.0</td>\n",
       "      <td>0.0</td>\n",
       "      <td>0.0</td>\n",
       "      <td>0.0</td>\n",
       "    </tr>\n",
       "  </tbody>\n",
       "</table>\n",
       "</div>"
      ],
      "text/plain": [
       "   created_on  property_type  place_name  state_name        lat        lon  \\\n",
       "0    20170824              1         152           3 -34.610988 -58.363464   \n",
       "1    20170825              1          29           4 -34.629923 -58.465820   \n",
       "2    20170801              1         136           3 -34.589363 -58.412880   \n",
       "3    20170801              1          40           3 -34.629923 -58.465820   \n",
       "4    20170801              1          40           3 -34.629923 -58.465820   \n",
       "\n",
       "   surface_total_in_m2  surface_covered_in_m2  floor  rooms  expenses  \n",
       "0                  0.0                    0.0    0.0    0.0       0.0  \n",
       "1                  0.0                    0.0    0.0    0.0       0.0  \n",
       "2                 53.0                   48.0    0.0    0.0    1500.0  \n",
       "3                 39.0                   39.0    0.0    0.0       0.0  \n",
       "4                 51.0                   51.0    0.0    0.0       0.0  "
      ]
     },
     "execution_count": 159,
     "metadata": {},
     "output_type": "execute_result"
    }
   ],
   "source": [
    "from sklearn.preprocessing import Imputer\n",
    "imputer_mean = Imputer(missing_values='NaN', strategy='mean', axis=0)\n",
    "\n",
    "test_predcit_df[\"lat\"] = imputer_mean.fit_transform(test_predcit_df[[\"lat\"]])\n",
    "test_predcit_df[\"lon\"] = imputer_mean.fit_transform(test_predcit_df[[\"lon\"]])\n",
    "\n",
    "test_predcit_df.head()"
   ]
  },
  {
   "cell_type": "code",
   "execution_count": 161,
   "metadata": {
    "collapsed": false
   },
   "outputs": [
    {
     "data": {
      "text/plain": [
       "array([[  1.24258347e+00,  -3.20797510e-01,   7.82855685e-01, ...,\n",
       "         -3.53107240e-02,  -8.52242370e-01,  -1.88583144e-02],\n",
       "       [  1.36710992e+00,  -3.20797510e-01,  -1.17649092e+00, ...,\n",
       "         -3.53107240e-02,  -8.52242370e-01,  -1.88583144e-02],\n",
       "       [ -1.62152505e+00,  -3.20797510e-01,   5.27981330e-01, ...,\n",
       "         -3.53107240e-02,  -8.52242370e-01,  -3.19255009e-04],\n",
       "       ..., \n",
       "       [ -1.62152505e+00,   1.56250855e+00,   1.13810503e-01, ...,\n",
       "         -3.53107240e-02,  -8.52242370e-01,  -1.88583144e-02],\n",
       "       [  1.36710992e+00,  -3.20797510e-01,  -1.31985774e+00, ...,\n",
       "         -3.53107240e-02,  -8.52242370e-01,   3.21611770e-02],\n",
       "       [ -2.51734022e-01,   1.56250855e+00,  -9.69405505e-01, ...,\n",
       "         -3.53107240e-02,   1.44352476e+00,  -1.88583144e-02]])"
      ]
     },
     "execution_count": 161,
     "metadata": {},
     "output_type": "execute_result"
    }
   ],
   "source": [
    "test_predcit_df['expenses'] = test_predcit_df[['expenses']].fillna(0)\n",
    "\n",
    "stdsc_prediction = StandardScaler()\n",
    "X_test_std_df = stdsc_prediction.fit_transform(test_predcit_df)\n",
    "X_test_std_df"
   ]
  },
  {
   "cell_type": "markdown",
   "metadata": {},
   "source": [
    "### Predecir y ensamblar"
   ]
  },
  {
   "cell_type": "code",
   "execution_count": 185,
   "metadata": {
    "collapsed": false
   },
   "outputs": [],
   "source": [
    "y_knn = model_knn.predict(X_test_std_df)\n",
    "y_rf1 = model_rf1.predict(test_predcit_df)\n",
    "#y_rf2 = model_rf2.predict(X_test_std_df)"
   ]
  },
  {
   "cell_type": "code",
   "execution_count": 186,
   "metadata": {
    "collapsed": false
   },
   "outputs": [
    {
     "name": "stdout",
     "output_type": "stream",
     "text": [
      "[[ 285537.26556421]\n",
      " [ 239084.88037953]\n",
      " [ 274566.50487766]\n",
      " ..., \n",
      " [ 128511.58032552]\n",
      " [ 320008.60506712]\n",
      " [ 154685.17676239]]\n",
      "[ 481140.98809265   78704.79758388  170812.18849782 ...,  191265.11390728\n",
      "  193242.23525484  166685.44338797]\n"
     ]
    }
   ],
   "source": [
    "print(y_knn)\n",
    "print(y_rf1)"
   ]
  },
  {
   "cell_type": "markdown",
   "metadata": {},
   "source": [
    "Tener en cuenta para el ensamble cuales fueron los RMSE de cada algoritmo asi le damos un peso acorde a los errores de cada modelo"
   ]
  },
  {
   "cell_type": "code",
   "execution_count": 62,
   "metadata": {
    "collapsed": false
   },
   "outputs": [],
   "source": [
    "# ensamble\n",
    "C1 = 0.2\n",
    "C2 = 0.4\n",
    "C3 = 0.4\n",
    "\n",
    "y_final = []\n",
    "for row1,row2,row3 in zip(y_knn,y_rf1,y_rf2):\n",
    "    y_final.append(C1 * float(row1) + C2 * float(row2) + C3 * float(row3))"
   ]
  },
  {
   "cell_type": "code",
   "execution_count": 192,
   "metadata": {
    "collapsed": true
   },
   "outputs": [],
   "source": [
    "# ensamble\n",
    "C1 = 0.3\n",
    "C2 = 0.7\n",
    "\n",
    "y_final = []\n",
    "for row1,row2 in zip(y_knn,y_rf1):\n",
    "    y_final.append((C1 * float(row1) + C2 * float(row2)) )"
   ]
  },
  {
   "cell_type": "code",
   "execution_count": 187,
   "metadata": {
    "collapsed": false
   },
   "outputs": [],
   "source": [
    "# ensamble\n",
    "C1 = 1\n",
    "C2 = 0\n",
    "\n",
    "y_final = []\n",
    "for row1 in y_rf1:\n",
    "    y_final.append(float(row1))"
   ]
  },
  {
   "cell_type": "code",
   "execution_count": 193,
   "metadata": {
    "collapsed": false
   },
   "outputs": [
    {
     "name": "stdout",
     "output_type": "stream",
     "text": [
      "[422459.8713341198, 126818.82242257375, 201938.48341177282, 121868.17420211333, 134829.75134051975, 121868.17420211333, 121868.17420211333, 121868.17420211333, 192984.36906550883, 156555.24628668034, 156555.24628668034, 156555.24628668034, 160160.46935803525, 571177.7844621856, 107008.6102734968, 107008.6102734968, 107008.6102734968, 107008.6102734968, 107008.6102734968, 107008.6102734968, 107008.6102734968, 107008.6102734968, 117030.33407757609, 121446.39390555237, 121446.39390555237, 121446.39390555237, 121446.39390555237, 107008.6102734968, 107008.6102734968, 110811.96623723718, 110811.96623723718, 110811.96623723718, 110811.96623723718, 110811.96623723718, 107008.6102734968, 110811.96623723718, 110811.96623723718, 107008.6102734968, 107008.6102734968, 107008.6102734968, 107008.6102734968, 258292.86700974597, 128131.76334968454, 160160.46935803525, 160160.46935803525, 132826.14418421462, 129770.58408645832, 144304.0942548416, 131324.3786496385, 283735.2804833065, 274957.2879086666, 286752.4335965119, 250471.12741110643, 436827.6679485085, 111337.93546399343, 231605.66210374804, 89836.37284449596, 125766.2839985439, 161544.55864578605, 195700.32094295247, 584634.0921396795, 126066.00472256468, 169407.4029698202, 315126.1044945448, 140970.14440342225, 133756.19488785823, 103864.42616169335, 152247.53741859813, 103864.42616169335, 212756.0243695043, 156691.66906208146, 178577.24226253293, 121818.3892542705, 129586.30785082842, 156691.66906208146, 156691.66906208146, 156691.66906208146, 156691.66906208146, 415572.66110568575, 156691.66906208146, 197415.88499311006, 415572.66110568575, 235316.10679887058, 87045.1550472949, 147132.12971448322, 155686.2831412718, 274896.93583649915, 169646.0785291075, 187138.50448022963, 283099.286463202, 107461.41073582707, 312294.911336691, 181094.09774836033, 131836.97476148204, 131836.97476148204, 311179.69020231906, 202081.18583273445, 255740.31977463746, 126864.94760636655, 252197.10706859513, 127432.689160982, 177190.60472308926, 411817.27905302594, 411817.27905302594, 300455.3280670047, 133243.82176758116, 185219.06146440323, 151676.12238778383, 146322.1322868373, 192519.50002511346, 134744.31682712902, 151117.9694090838, 117114.0601782703, 99596.44218866744, 101048.09283781993, 105517.97741882943, 101048.09283781993, 105517.97741882943, 105437.51817344267, 139991.58583639562, 76894.6020536077, 105517.97741882943, 105437.51817344267, 138767.2997470274, 275620.12891030766, 156691.66906208146, 156691.66906208146, 156691.66906208146, 156691.66906208146, 156691.66906208146, 156691.66906208146, 156210.39470561832, 116601.06493374385, 148221.30295149097, 140423.8416524677, 144188.59339114756, 221684.73578479415, 176913.70602379213, 95021.87553616884, 176976.37069913093, 139989.02022335347, 222060.92622621165, 117114.0601782703, 125124.76942880987, 156283.01199982903, 167598.13064223927, 209865.82465256585, 272835.68165654613, 1803857.2220018215, 926911.8626437801, 325310.2289398489, 140508.88142978423, 865270.6702057858, 508025.03320306697, 865270.6702057858, 420422.4797845088, 865270.6702057858, 143598.31611154095, 145149.01522016473, 128524.89022348126, 344615.8871704749, 330020.6750359201, 242266.13127018898, 648960.42696008, 103637.21125768794, 272635.8332689228, 237240.04732664226, 382547.88310804934, 190869.84010527938, 220860.6252874854, 298309.10971465264, 82273.45746862412, 211367.01209888892, 160598.16778910076, 245285.75160592585, 160598.16778910076, 362103.41363850463, 146595.58481783123, 193444.9020555795, 253829.8317170093, 134984.6315144631, 276696.41434121894, 225370.77335722162, 67168.43060630471, 214479.7872647535, 244570.78747803048, 275427.50538983196, 141017.8993251431, 147966.54047646286, 183023.96883444715, 300203.6198629947, 192686.0766289861, 173777.2724011129, 166444.26843065902, 452439.0561811478, 105175.79101426249, 447240.7395961722, 192686.0766289861, 166444.26843065902, 298662.58455752715, 124901.81949844747, 327288.85953937506, 142062.31503536258, 633385.9595004276, 138728.65294071555, 170831.2984989127, 157439.58621093142, 153318.90352051554, 401789.0464582191, 221715.50248420896, 77951.38172571034, 360033.9445214417, 528298.359578265, 86666.65716441949, 418247.40273090114, 382141.13043527456, 339930.762895999, 415287.6584193072, 247056.29690797284, 270326.06766051037, 259294.7176322087, 130597.04379499934, 154877.13289064012, 151893.04664242908, 220278.89192024135, 147938.29148281354, 148543.13659348772, 440319.3070924433, 224698.40333392913, 203144.22809728145, 237035.8047961223, 135625.31783388744, 324371.61966907355, 286050.6621752047, 334326.38685015787, 345389.9018409397, 148208.59958991938, 160600.4596181306, 264754.0822318613, 113738.29796736295, 330576.9845787035, 107096.67116507632, 148103.6271886885, 185571.8965454491, 126808.62704403015, 129868.96999843599, 140784.98207944096, 140784.98207944096, 244905.8382950229, 313986.017315758, 291919.68817184895, 233778.8365739519, 151818.4591874319, 131954.47701997223, 174730.4030333268, 130982.61978276754, 130872.03501681543, 131385.84357945304, 130982.10786968183, 136585.97894120656, 130871.53870616929, 131372.82894474384, 120644.35057144579, 120460.33958139343, 120973.96019421077, 120961.19629528602, 123033.45987815369, 128299.87489636746, 128277.32811538449, 128950.34199062355, 129236.21693478353, 129213.66091746089, 129886.65675438526, 187237.7978338634, 136847.65704027572, 137209.5118222085, 137222.5099315915, 137222.5099315915, 159280.55005831356, 119510.28384624398, 72471.81626925396, 112067.93860620711, 149593.80493339972, 75187.50424333665, 107445.84522315106, 135456.6462416491, 178764.99957906516, 159385.9837211211, 239070.22136364854, 108292.03830599762, 410126.0876397912, 141369.98695600274, 168200.0145045812, 162775.35276063858, 157542.60679089066, 129918.7139978894, 124547.88542532275, 231477.09367149405, 318721.0642649288, 183029.48274864283, 187024.47667438842, 163117.20744856063, 160250.2830836332, 164301.18544903395, 225629.62281184574, 159330.7850728358, 236981.79088327195, 114618.71825379255, 114618.71825379255, 182804.79462145665, 113989.32648939069, 114574.07699114514, 114555.92166650767, 114555.92166650767, 114545.49205547394, 114545.49205547394, 118327.66858868525, 118542.87841635245, 118534.00755584578, 118684.78621518306, 113535.10035787718, 118327.66858868525, 117659.79849926275, 118542.87841635245, 118534.00755584578, 118684.78621518306, 118674.09164220653, 1393406.065619646, 131522.9302544064, 180466.3093004384, 129513.59830563623, 237239.1416708031, 155799.6144062838, 269824.29215987446, 155320.32230332567, 200724.57893822, 135973.80535100552, 132661.16472345393, 132739.5195307524, 110892.93526377171, 140764.13883171944, 140764.13883171944, 273778.5710587163, 124442.0789833224, 122150.85185133423, 171482.4648701578, 170093.27819653982, 164671.2183133859, 144012.80924896643, 183895.65373033105, 288589.6495347627, 242864.23150922294, 242864.23150922294, 368818.32725159195, 405099.2704457756, 397454.6366263903, 368411.83973859454, 405099.2704457756, 366288.30557350226, 397454.6366263903, 143767.2303509214, 153169.45762304778, 151839.11890718917, 155108.45382029435, 180651.7558795304, 150872.84825840418, 77766.08274392488, 76777.87043343324, 152588.15867530456, 202388.4616415038, 73203.55171881645, 253861.94722315524, 238068.1899956093, 267349.6984214237, 683600.0703459781, 173283.26415649365, 160151.6976011243, 127497.37496277824, 118252.55897379291, 157596.07788368137, 157596.07788368137, 157596.07788368137, 157596.07788368137, 157596.07788368137, 97669.57102516913, 108565.2321492795, 156121.5609493357, 109051.97433049735, 201497.93405841442, 430362.56995676656, 245387.00805827463, 132090.10588999494, 152112.72489692742, 125175.52847321166, 126218.01941918129, 125168.63478704175, 125756.5545042611, 81404.7119833573, 155718.57780672945, 167189.45684865065, 175503.35792525182, 114979.68730325978, 118042.61707270918, 110841.017473922, 127138.18543313738, 280189.45515015576, 164346.94595400747, 494416.5277784237, 161036.0694642197, 108480.79586528035, 124577.65974471389, 139409.28453701804, 139422.0102979106, 146979.7701393778, 140601.54315690696, 407127.5552938577, 135123.0588121984, 478128.9383591278, 373241.49090345757, 229177.37598225637, 224866.00025578288, 260395.5801904847, 116417.11581584197, 138699.45648974946, 143657.63034855598, 139958.95272229012, 260240.25034996375, 165015.37531271265, 360425.3374485745, 360425.3374485745, 599478.5870617934, 599478.5870617934, 333233.0216342646, 368085.8512143072, 368085.8512143072, 429819.2854871333, 429819.2854871333, 309637.2165402343, 309637.2165402343, 309637.2165402343, 309637.2165402343, 235508.86390306632, 253628.72314679224, 229743.21747995357, 131647.13781736244, 362687.50112322037, 362687.50112322037, 254108.3308408206, 254108.3308408206, 254108.3308408206, 254108.3308408206, 286759.8986555703, 286759.8986555703, 429819.2854871333, 429819.2854871333, 349246.86586670135, 349246.86586670135, 368085.8512143072, 368085.8512143072, 610148.9652165673, 610148.9652165673, 311286.5658717321, 311286.5658717321, 490818.24111221946, 599254.2368829258, 599254.2368829258, 312195.5688701171, 312195.5688701171, 307901.5001882153, 440792.4343250267, 365017.3180617802, 365017.3180617802, 226151.52256492944, 226151.52256492944, 308732.4806478296, 308732.4806478296, 393431.7565344768, 393431.7565344768, 251607.9204763803, 408981.4805309926, 262237.7944823343, 262237.7944823343, 240170.79022972044, 240170.79022972044, 618223.127846496, 618223.127846496, 230124.17475758033, 230124.17475758033, 203008.5885166003, 307909.659522688, 489739.1253735932, 2789767.677600059, 171764.12663325306, 214014.92322114052, 173586.20489900064, 306605.91477887216, 226467.63939107303, 365868.6558229839, 312195.5688701171, 141912.41622346232, 128246.87709551612, 171764.12663325306, 169886.14314944815, 421713.1249802692, 421713.1249802692, 365868.6558229839, 362004.4392311842, 177397.21871053026, 312195.5688701171, 242355.6113861172, 128246.87709551612, 308422.4356400131, 140072.52541537528, 163927.77450615214, 241727.59269750246, 240662.5509994606, 163748.9901920313, 318335.2380573865, 421713.1249802692, 262896.6503245018, 240008.7440769696, 113647.29162565067, 216673.29559311434, 128658.92730124314, 690741.5908149084, 690741.5908149084, 690741.5908149084, 690741.5908149084, 362687.50112322037, 146975.0722602088, 440652.38728225755, 241728.02269887578, 368085.8512143072, 495107.5116644638, 309315.5855318828, 440792.4343250267, 440792.4343250267, 130824.826964405, 126967.95951575527, 126967.95951575527, 127173.3387715558, 122925.55587798147, 122925.55587798147, 122925.55587798147, 122925.55587798147, 122925.55587798147, 122925.55587798147, 122925.55587798147, 122925.55587798147, 122925.55587798147, 122925.55587798147, 122925.55587798147, 122925.55587798147, 122925.55587798147, 122925.55587798147, 122925.55587798147, 127173.3387715558, 172221.58599704344, 365569.3917393648, 177276.08064581797, 152045.0870552672, 177276.08064581797, 177276.08064581797, 197682.25570989834, 148872.99470943055, 140992.98724111728, 140992.98724111728, 312840.98065585736, 179058.6189362213, 246897.63476575632, 273352.3611216985, 179058.6189362213, 236313.9541010833, 219951.7566096123, 246701.23948953263, 189364.04072306072, 218258.38937841842, 157944.45931282383, 326659.6039123223, 198334.76176827002, 76974.42891191614, 114661.69068568747, 191124.96761265077, 322124.6896923839, 132977.9364542008, 307235.7855924389, 390418.33655560855, 161124.85068553113, 67633.31960855621, 305990.87932547944, 67633.31960855621, 72735.66801882251, 67633.31960855621, 67633.31960855621, 161794.21643254152, 161794.21643254152, 138836.34424628268, 116262.26314271198, 123574.44903085413, 99147.60943118483, 407736.57737376564, 135010.6289269171, 280361.8106713559, 137071.743192897, 131836.6459355541, 135544.77989413159, 141803.41744942326, 309545.65829989914, 115047.25645185573, 114847.70624177632, 115470.96283118962, 116658.74720972517, 116658.74720972517, 116658.74720972517, 116658.74720972517, 155633.17335722956, 68260.92901664833, 68260.92901664833, 762964.0409351395, 145303.9900932021, 113876.08705100951, 253666.78487812166, 159018.11584698647, 135551.83600997037, 205680.68895981403, 202163.69761019025, 202163.69761019025, 153709.12952058943, 93948.08544446756, 158743.47696656827, 155258.11583944314, 109650.94937944038, 239698.90343932054, 492852.67649729084, 146496.25279432986, 294387.2834411617, 246669.8136819235, 203644.8121800794, 175439.1826400252, 223096.34324697673, 233141.73077917285, 152780.09543238764, 186262.3358750006, 220624.71029377342, 303512.30648255744, 137327.39392657325, 163612.31861053684, 124448.55063189208, 292433.3977041655, 285734.64652815915, 215773.68836666594, 268493.4355739184, 122590.59905534054, 203400.12707231217, 169133.73510234506, 254756.40752223774, 247232.93598761444, 240132.26911198214, 115390.7025877696, 319253.5829257837, 186248.59998089192, 92551.00419503418, 92551.00419503418, 92551.00419503418, 222584.9620593199, 288976.9560690668, 85786.60982824679, 119349.73701667502, 277486.4163240702, 208298.84329840008, 315511.0996295714, 321432.63888920215, 665313.3134031766, 327993.32567257003, 217830.55814716377, 233909.88707789435, 396370.66234939086, 459141.26444837474, 393349.49379420944, 126173.39119734382, 126747.06958817794, 175715.63495000708, 142259.14900471253, 409969.10196768265, 201996.61914227347, 231414.96212391352, 313461.7337146334, 195651.1768474909, 249876.98459791992, 82074.05483327225, 168504.86118120298, 168504.86118120298, 178645.92279353982, 143847.7369392338, 187906.49794970767, 140260.41626346362, 187805.80689857574, 143984.2119503953, 194007.3762354603, 99529.37693850146, 107183.08833824199, 145156.91291359157, 140096.6792813377, 208700.52645906853, 161361.1973817231, 225459.45524069178, 141578.82272928493, 144063.4592547521, 204407.5300800376, 227945.54515423742, 123571.34858437977, 84498.3971260701, 209692.809093509, 165321.98501880374, 175506.7843151648, 180753.44005511998, 111073.34840727191, 203036.70308199275, 125884.78472628951, 109799.05875465386, 114081.19418330121, 260817.44092847413, 121245.39955743954, 121245.39955743954, 121245.39955743954, 121245.39955743954, 170091.11225685777, 277790.1978985499, 126930.26766887467, 149786.4899861715, 107657.10241416433, 211183.11334355638, 164247.98897390685, 254848.27518504448, 256236.47070114722, 279262.48660118866, 311631.08368054155, 212976.0467821114, 169042.62730244314, 384286.28121779306, 220534.1089352091, 311580.92946382123, 171968.342451169, 96180.84752160477, 274844.32034662715, 106277.00990699793, 118138.71881621736, 301535.69204306044, 192265.19996698902, 464049.94638989324, 273184.81777032424, 261418.64119485588, 236431.53860276245, 176320.42824514274, 199831.6108635411, 80485.90895143688, 113749.17567443085, 152876.5057761477, 105350.02083051942, 126061.71035581078, 123971.75275902096, 171191.50397606957, 91324.84866048413, 125096.91722796069, 84014.3692423071, 105226.57251838152, 112775.29808301284, 196614.8677206825, 188082.97839121468, 85988.03056901536, 132973.62944366038, 339606.2618566712, 219555.59172103176, 134452.128441692, 321209.6326552164, 227800.16904577933, 196180.34211982536, 93169.48779937248, 103253.47202475015, 317142.40798009356, 142802.1196011774, 169358.3576607944, 148422.56376636628, 142884.20629791147, 114660.23332990264, 138284.59113880462, 374135.66111688403, 411143.9107710779, 218991.00651101785, 121349.56836627642, 147355.97133522845, 113635.11702492497, 267474.8022467069, 99389.07521700667, 268837.0637662626, 93795.6245871053, 126370.63823784626, 161616.08394355833, 145983.64606873697, 93796.8178960433, 124233.88985547822, 130307.70241776953, 153493.21906306484, 252263.86884667422, 112205.12333277213, 145983.64606873697, 94735.4455746763, 145983.64606873697, 144412.2756749802, 171364.32696975552, 386897.4896965063, 126648.11666337878, 89845.67847183169, 169943.76796715023, 93795.6245871053, 204776.79494020506, 137883.06925864855, 148112.23502799642, 270348.51099055447, 171364.32696975552, 167934.7801850991, 294601.7309231889, 195486.9869697654, 267918.4012621816, 318681.7623784108, 197226.63605880993, 337372.3264566869, 254040.09138507055, 204776.79494020506, 276468.6186280572, 87438.34800495818, 267474.8022467069, 257014.39684630648, 108216.33201104018, 117109.8176511771, 127794.44516331924, 209758.6990531223, 171364.32696975552, 391195.35458987305, 168177.35895950094, 149698.2190802926, 129203.68858475515, 161178.88865269386, 145283.96861701424, 88995.04327299754, 382254.83663050627, 96032.64576275495, 204776.7627692037, 267474.8022467069, 113616.48252862762, 248738.50855707563, 171364.32696975552, 196102.1129601734, 345027.37644342525, 253700.76183962144, 339372.0329745782, 161948.92061077734, 113947.45588341719, 113947.45588341719, 119733.29214341551, 171364.32696975552, 257014.39684630648, 304228.0351532225, 86805.33412890154, 209967.4224405692, 117109.8176511771, 268837.0637662626, 265350.0383916664, 131895.15379020327, 127584.07902568606, 94946.29614727324, 356739.6017503296, 95608.11073603758, 90825.45702106843, 130659.65022241458, 87549.76136467438, 99335.04438111422, 90038.74425228056, 252556.09852217097, 106710.42475623106, 148042.99664551823, 152780.1095726437, 127502.90599295114, 171364.32696975552, 422455.26840864064, 265211.655682486, 93796.8178960433, 136525.31033589877, 389880.4208267562, 150262.28084036044, 453833.2481411414, 246882.86420369576, 84379.3688779879, 90038.74425228056, 84379.3688779879, 84379.3688779879, 89332.2383053678, 89332.2383053678, 89332.2383053678, 89332.2383053678, 89332.2383053678, 89332.2383053678, 144412.2756749802, 129420.30365955729, 385909.8650399804, 90861.52502618899, 95638.6388788814, 339992.3745660923, 339992.3745660923, 225289.00792551241, 146899.35323312873, 357888.3367581806, 453503.0388374713, 151547.16449836417, 117109.8176511771, 117536.99133674303, 252060.14945068376, 147940.6544632722, 125986.57111212869, 99335.04438111422, 87549.76136467438, 153493.21906306484, 251738.64450075518, 146806.73754718446, 112324.5468964582, 84305.05759595265, 84305.05759595265, 84305.05759595265, 84305.05759595265, 84305.05759595265, 84305.05759595265, 84305.05759595265, 84305.05759595265, 84305.05759595265, 126043.09885521157, 112324.5468964582, 112324.5468964582, 112324.5468964582, 112324.5468964582, 114759.2711947727, 87571.41989341004, 120182.38071062375, 253700.76183962144, 267125.322190307, 91115.5827358384, 86774.67536377202, 229638.83309582935, 114838.47479533059, 103594.88729982387, 145983.64606873697, 100557.55157932016, 395512.10866595287, 209901.24634188408, 194728.87553810485, 210028.05701628042, 152754.93433479418, 207745.7740774108, 195873.91229992578, 285432.8637972361, 112205.06832878971, 269830.522399021, 271166.9504252106, 129166.78200305317, 388694.39974310104, 130659.65022241458, 268837.0637662626, 100557.55760631668, 120130.77203138186, 161948.92061077734, 126597.35085405686, 126397.18473133766, 677512.0072161594, 145917.7215386896, 115885.18486914711, 158845.43827509956, 269636.67981937627, 73988.32815252827, 97231.71225270972, 103248.70027383984, 345829.11300092924, 204696.90125227734, 191260.7241853482, 109981.10481632384, 388694.39974310104, 267474.8022467069, 150962.6965031188, 180651.20524964345, 169193.7376064019, 264058.9344656048, 150006.40794850985, 103248.70027383984, 138010.21554939976, 254310.2824707344, 126043.09885521157, 268493.1106320933, 180074.15316998409, 93796.8178960433, 356954.96054850996, 186904.06809642733, 205874.54481807555, 184098.17281677958, 142834.21106180467, 395662.9710905375, 84305.05759595265, 93444.2014555844, 84379.3688779879, 275131.34141999297, 81250.75605991014, 164708.44709761464, 121004.3203661, 122971.52497123784, 80447.92741996095, 107924.673702098, 204648.59625401231, 174093.57945853772, 204704.39040577624, 142191.74300634582, 80447.92741996095, 80447.92741996095, 98051.14319123965, 321409.86563596164, 160295.4133076379, 114627.62869025122, 138067.38216673303, 101235.09075821607, 105266.15590553166, 100599.64505791475, 208996.67778907888, 100976.82525769867, 190219.28231334023, 436746.78598038503, 337867.8758688097, 83108.7826602225, 83108.7826602225, 72067.89438541202, 83108.7826602225, 82119.62125764745, 82119.62125764745, 134420.34962976884, 352482.73148040613, 96837.25187285803, 122668.13134168432, 177259.77760900903, 293288.6481123855, 427185.4261969872, 102322.29213198417, 103871.56852430353, 134256.91679130401, 102322.29213198417, 102322.29213198417, 134140.17250219558, 375237.4626789625, 107595.07074113487, 149324.96688354254, 102195.07216347611, 102322.29213198417, 413473.0928949775, 204470.1685202865, 128244.22791004187, 209864.63358448964, 306934.4433792661, 179445.34428454062, 146352.54524593404, 120971.00108005502, 303515.3691828092, 71380.49653357279, 159908.32206590168, 381206.8817485163, 222856.057713548, 172931.1729048932, 118628.07664719273, 1272256.2973376934, 128634.84054776939, 474364.4874814738, 220943.24275455374, 379034.1780560294, 110742.34691840758, 110967.44371109264, 217620.57024013216, 235323.71331390901, 355080.6677845337, 150779.7843080863, 123200.94957407558, 258837.15672602077, 1272852.7376063708, 521112.9899029285, 258756.0126133036, 323456.03809320123, 669271.5721729216, 120186.00130533641, 340089.6523189507, 197994.10654029815, 186975.43425053032, 142938.40381844094, 285467.9575620678, 187280.21200393717, 261134.90492214588, 252778.72408652498, 222572.23167060674, 372797.8279578899, 106653.959335667, 243392.04168257467, 247367.1960319508, 96386.54112632407, 315431.71402006655, 238417.4836286906, 404571.81313843146, 130945.46020094719, 210680.3052810904, 309251.0664596425, 149409.83888023288, 233641.5028825823, 216646.86063614214, 354100.5887995591, 326103.24361219513, 539158.750232284, 186666.26569156302, 129976.6798942977, 160922.75602094142, 209293.42997972903, 165341.7643725478, 117895.44092863073, 436461.3380656668, 184660.8155399725, 195575.79103083734, 199010.21634079065, 225477.73124243555, 103168.4398142061, 148099.62278815766, 140483.93963263088, 147649.4387588345, 417259.2659999479, 597165.1659998392, 340393.49144116865, 113982.06054122659, 129516.41527366047, 128972.17325796562, 204417.33413450874, 122521.48859376993, 185426.8560915704, 120874.06293932805, 150026.91974336168, 339386.55255140126, 254325.0272097958, 120637.02101761612, 98195.29138037917, 132408.90621874394, 139127.29276963026, 228530.1294588432, 273367.13736084657, 563731.8480779505, 86778.56495399761, 171378.48343913298, 265640.3389925745, 219735.1456973122, 219735.1456973122, 173290.9878416654, 221279.72424183268, 537893.7653163467, 144998.74531086293, 177614.06013697572, 212360.91671332563, 279310.3658689689, 219169.5104732607, 124407.02778443861, 412888.5168554008, 156669.91106961796, 182004.72600266535, 79389.96573280328, 163157.82014423286, 194589.46595422883, 130999.9723730826, 185927.43129493704, 198252.6217153769, 125784.03986335434, 148533.91490350268, 203899.77407511507, 144444.41895555845, 144444.41895555845, 144444.41895555845, 144894.78223724628, 81573.57499215036, 275943.0396421047, 100722.00908791772, 118167.07877837129, 189292.86146051384, 146639.0639478126, 158746.75870316714, 214114.64057692682, 181191.82933582098, 270475.8101476996, 425148.04891076824, 92623.86379014539, 92623.86379014539, 92623.86379014539, 92623.86379014539, 92623.86379014539, 124140.80619348971, 124140.80619348971, 124140.80619348971, 124140.80619348971, 124140.80619348971, 122952.76190396695, 640977.3627542262, 197831.60562323662, 204849.0698759923, 254582.89819433977, 171379.84972578383, 195548.1699743739, 195548.1699743739, 346302.8048596399, 342464.5180473514, 340299.6340561194, 112032.11375952832, 212108.32931127993, 219852.71159107127, 314387.0034228367, 309944.36662143207, 152293.9839731782, 671087.0284504197, 619997.0258340358, 138745.33226887102, 172530.63987637463, 171421.90467754367, 221681.59988440826, 198559.02815686207, 103472.76953846178, 316253.10854952293, 186229.7286032053, 192422.62047844892, 199717.94587734202, 172502.03120778478, 246531.85201652773, 264776.0669956815, 492192.12881515187, 758882.3117553121, 194441.53372808985, 202919.36355129187, 115276.58806681543, 115276.58806681543, 168327.2001579071, 398385.2306614024, 748442.2347030035, 109144.27567268784, 319768.02500564454, 155580.92062753648, 249277.87766647033, 241624.5685486034, 187569.42075354175, 214828.48300521646, 266932.4739744903, 163472.66083304683, 192762.27328273476, 371771.0560333219, 125824.22295941127, 169393.74317430926, 219957.05325143042, 251276.56297172865, 535785.5075373134, 445170.5949572291, 368533.406888658, 203431.81986652926, 203420.17796941748, 193527.1269715009, 179046.14011957438, 247037.3297114856, 125115.91837730602, 106177.93025357707, 228922.50327433913, 139090.01475419087, 288320.82076556684, 216781.85359572107, 422929.48763807275, 388125.6439396454, 1087791.6301342016, 200148.57316488362, 176563.22446365526, 218691.13487485808, 89932.1090148892, 89932.1090148892, 353011.1949978054, 252863.72609547028, 127653.68992708164, 152030.38588018296, 154565.18898133666, 164658.61755268782, 130174.34688736181, 87176.50539245948, 150368.32226378005, 125674.19189532447, 152030.52428132395, 321524.6878044126, 192318.56357767183, 183083.82097808312, 176167.10657678943, 136897.90863980932, 176167.10657678943, 137666.55106199416, 115631.22186883216, 152400.9797710182, 223958.19966482552, 130816.18412866257, 194335.55138268071, 138289.69961165648, 300656.9999858955, 145298.7422675183, 188394.52178822827, 249539.14060914324, 117045.46226416517, 161004.32822664094, 158361.28703505077, 107517.6465234977, 219959.52376683988, 275889.8791309458, 140657.58698861804, 94987.64266533573, 94987.64266533573, 95330.72819067989, 95197.52263989171, 112656.7045342225, 111928.06714547004, 216461.24414022686, 137790.30814943585, 151789.19462825693, 152442.72854948675, 127680.54927237763, 164227.10104509053, 107379.54564560595, 107390.1973109264, 177620.60116129933, 202174.12671325152, 126461.16604941137, 126556.04285416484, 148353.54018009192, 201470.05133485072, 200435.48828646028, 130516.10896293685, 181551.57889044622, 224902.98357821547, 119137.11315780864, 793789.9319040327, 131205.3779771062, 176678.90659955223, 117412.74146987265, 179976.37868228927, 230099.86507002485, 238488.69674822397, 191940.54887933022, 110201.9847038719, 85210.12248236676, 466225.8525402526, 527549.6333905368, 186716.71506032918, 150066.36082952376, 231349.38559768253, 442092.38221855287, 498821.895528408, 183143.4418375818, 168133.703529038, 102765.06627420132, 122521.48298818068, 145422.38142545888, 165488.7422920212, 91610.83136664392, 238464.69726558588, 308098.2069133372, 524647.039954316, 114475.56297116655, 160314.9573479354, 167121.28947558295, 82398.97402853997, 167836.07536701448, 161034.29886969738, 130584.36981179984, 179697.51968979865, 205080.276922992, 185230.55757282823, 183883.51822744537, 168437.7927165121, 225769.24366718414, 101069.3110212217, 214912.18469238264, 142643.777667465, 102731.87711796555, 132449.46268397474, 221981.22022673214, 219001.00137328025, 136897.99971923744, 62950.26559334177, 128302.65649336658, 129279.97345124191, 127366.37329518751, 264337.5622019352, 238742.32414808375, 117177.94535253235, 165598.02163961285, 224102.90042938426, 140027.81853481376, 127718.54510822869, 171392.38195028517, 501375.3168929452, 113008.1581999616, 118277.92127713506, 344532.8922067811, 711390.7938884987, 334638.84776943515, 226833.38412543776, 113423.87328796624, 107121.08942923648, 463059.6172713423, 541206.6919117159, 218883.14311729465, 449163.8200178243, 129481.79811714351, 109998.1723852421, 160974.7904112278, 357518.7625106116, 203462.08282485072, 345599.5045229342, 147025.07500659087, 164952.71184930025, 152225.14616316417, 343262.02147070237, 178100.26960852006, 62912.36561934784, 141059.60760059833, 166309.2356018346, 133893.78312206367, 745192.2197818004, 133779.26543787878, 69804.77162401407, 125735.12768223659, 180014.93913743203, 145437.63145000118, 243300.2207027361, 163427.1378573008, 152496.68088935176, 197405.52295848198, 135994.1231628144, 151468.4795097967, 95831.70012282656, 158004.95357556423, 143437.28253240377, 132591.3118655229, 148805.78681099496, 239739.22009814024, 185669.70837999176, 112429.62441448553, 153010.46704653837, 350888.46435815387, 179991.8530510062, 138035.27897611095, 156577.40314485916, 271469.06159644504, 115157.81875971172, 125276.8681812534, 179532.85105433676, 144659.49150320532, 296850.4442029876, 160544.59870417844, 134650.40239397806, 159117.54477324535, 210199.16120900598, 160754.8876859325, 130495.19088483651, 152414.25546018148, 109134.97678787398, 90976.71842700487, 116824.28885206465, 111780.60248169166, 131322.19465083734, 189511.9624366348, 87927.04893000149, 190346.39809982458, 130183.07779668219, 174031.9907473572, 234769.81756383955, 109143.15042259751, 206489.17332916334, 206396.39704577986, 151492.33925109694, 151492.33925109694, 173088.1864961297, 125034.23194019058, 161522.58948871557, 125942.12413960413, 127718.54510822869, 133988.67077142958, 312114.41758550954, 355095.99309345963, 238443.9539311537, 272040.34065728745, 290139.7853428448, 272040.34065728745, 290139.7853428448, 236307.05466239696, 236307.05466239696, 329212.52092097583, 329212.52092097583, 366646.8266046049, 236307.05466239696, 118496.21483989153, 142830.3926188067, 240396.77610709728, 136470.5252856311, 169823.87484180823, 400580.57801344333, 271018.1597591533, 1463472.797265237, 80579.3899185748, 161339.90724788993, 173310.0334057218, 209481.60743469893, 180711.2170010359, 124833.70364572447, 399673.31429663673, 99114.88657782375, 126949.69693922024, 249436.76211628824, 123564.66033948993, 159174.1027126438, 318249.17328435706, 137977.49818904244, 180407.37190699315, 221277.65383188712, 282593.73385154037, 176079.4844052753, 107352.96356943352, 145003.9365122373, 175801.11775602892, 245122.94765302556, 265616.4823303787, 91952.7628508505, 298871.0296083744, 275961.0821436442, 470082.75467788236, 120812.50313086665, 271588.7847688314, 105717.32039486978, 1786546.9810949161, 318178.16681767773, 112018.24802141456, 618165.9612536043, 157853.34382220954, 374862.80931165116, 113307.99393428251, 173492.64622954885, 197942.69998441415, 131873.17538332296, 252015.36307905114, 107067.5098097348, 240409.6538331729, 107391.33943993342, 211207.0206799869, 101645.30548626659, 178661.40412174465, 396068.11007749883, 160114.64550527398, 172474.68445153587, 217285.4343969933, 394260.54723649303, 206734.10124392633, 183221.95247573545, 153969.79846266462, 207032.13749995048, 286085.9925293096, 159617.68108330958, 318069.3313277105, 486234.332745904, 298331.0149529601, 254616.17589368043, 201004.98524254165, 331347.36084006645, 131844.03932331246, 197204.64027642706, 517364.1462604217, 672911.787043112, 284586.35795606265, 223778.7155651258, 89022.61390471847, 92901.6310746992, 148052.72566545178, 108251.66862039274, 364908.4269377247, 123788.65131957248, 291759.885595305, 254440.21905056114, 71731.07962479278, 249557.2396900104, 186520.71579557267, 114688.32158282655, 75756.33156217265, 224027.70964868576, 591889.7159986937, 182446.08431617226, 197441.80491793295, 291919.6746274575, 176624.5653072446, 182038.9129650609, 164514.92971287927, 360232.7781397281, 148969.81037814368, 246920.20644294698, 233540.49811353622, 189697.87382037463, 111043.46683432542, 108016.37887498327, 111043.46683432542, 99397.07729461492, 111043.46683432542, 111043.46683432542, 144568.00591322183, 166331.1464213456, 113221.77756993851, 108016.37887498327, 146834.12520860415, 168354.07271323574, 110535.83179963383, 124291.45702855705, 164856.18177577376, 120937.18734154516, 108774.55448598872, 112528.8897352881, 149411.2265077901, 329590.8280227764, 152116.9445639823, 159376.41871407395, 399138.4375082353, 204032.5710788918, 114321.74009903468, 152412.95081881928, 153300.05752199623, 169893.35925355222, 194636.4979137259, 142516.17174879566, 722335.3447901995, 207408.1228413575, 132238.0426285292, 622907.8993994237, 170920.58977063542, 134538.2100309865, 107223.00958447985, 533720.6713096101, 282684.51254120725, 607866.9404171546, 100369.20791826036, 235323.51720384462, 341402.2390331154, 247502.08284742682, 273408.1475419081, 177811.47474118427, 221723.95602922718, 239602.75554946257, 174405.39378255553, 167095.27525634965, 93903.04378020973, 196299.23278493743, 99196.72083952604, 247624.83426160706, 306277.7603774833, 240694.84534749496, 100929.94255986597, 306297.09969421104, 336242.7114179748, 64394.519061369356, 185314.77074526018, 496616.12797157967, 910413.1963462932, 179845.45384145962, 131512.1301209362, 161676.82167022207, 104735.54654746628, 256087.94624220865, 132944.87262325024, 159903.33020685235, 403562.5815342593, 286357.0173521142, 475517.89161086234, 176906.5685721641, 112674.55402470082, 528584.7963458026, 151042.84722234268, 528584.7963458026, 292267.2092631295, 189535.9753733817, 130807.91063229566, 97353.65727758684, 167468.2091702635, 153452.65906986129, 447060.56904452806, 415276.6772250787, 146128.94108620577, 109985.24548014907, 161240.95858044692, 272783.75385024596, 113010.7874501076, 189144.65832886836, 135788.6630488528, 135789.94973322673, 241431.51852824178, 1056862.1031839796, 192246.57071715163, 205095.01428026194, 270498.01668824785, 240488.15379322914, 149847.67295905075, 150681.50747206635, 381850.4436864818, 466610.89203047263, 138755.12345806067, 181450.2568911729, 157331.43464629748, 228479.64307115585, 354285.98157208215, 535090.1978688503, 174723.35332256753, 216888.73267923243, 235447.30245664646, 207264.33459685819, 153987.85901985923, 160246.78794957045, 196405.8902939741, 173830.78869837054, 87852.6374818527, 74805.85155731617, 80626.03697222743, 305857.3640753796, 528477.9397524938, 68492.81228696849, 83165.80985987536, 94499.13188277752, 155423.09034223022, 208955.19549784553, 307354.2107618701, 172570.0649170738, 148348.15217161918, 96574.5092016797, 372355.915555957, 146057.74710638577, 186712.41125815333, 991817.0195412061, 742606.2086087961, 823197.4031750297, 456591.3152566084, 300625.37976376107, 242904.14712228318, 274341.990467342, 251454.27320780125, 897442.0796116538, 266866.4842839312, 581460.9308037257, 593690.3080597734, 103375.53593362188, 254821.03272265755, 123707.01333914607, 129335.00870235646, 517127.08524206595, 163098.77188131402, 138511.84558103897, 136261.74803417583, 147802.8716216956, 217317.75997215163, 217246.4339160361, 261873.75506947277, 111063.63030254909, 492680.03010412876, 423715.62585544813, 115803.24269172855, 197991.10961962008, 159976.2985841382, 216039.3375458681, 903478.2467393691, 151035.4932076272, 250133.2612726636, 243916.66809520312, 237821.67236766045, 603248.6975921085, 440162.7512735247, 163622.6768564285, 1713165.4867712078, 575680.0327003425, 142847.71905834076, 418281.7690435719, 367835.8282581557, 227701.66620022687, 719462.5968764708, 154726.4451485596, 215868.46008524284, 176380.78300592344, 176451.0374231332, 164707.81464216422, 213198.71125334135, 202209.9683769184, 157153.2206166879, 120364.00824116237, 127952.72420137125, 263326.0368047785, 2331409.1494872724, 444891.58912173385, 128593.65451807808, 157368.75823726214, 107712.77256486953, 147001.3057683744, 166206.76241054758, 223834.22769340954, 151413.08321014405, 163919.53536027763, 230820.3361480686, 142995.10727643565, 152416.83228884096, 137282.1544057004, 108099.71502032448, 174800.0031974207, 173770.69952353375, 140638.69141915173, 965532.3644222511, 191734.1924429751, 203662.98485255745, 277026.16224946297, 204876.00226136856, 685544.877446048, 174117.88202652545, 365458.60598120023, 484715.038819753, 220826.54126547658, 148055.74050937363, 111043.46683432542, 117578.32267462497, 114922.19221374977, 207450.55886813597, 158269.74223644467, 416512.74993831414, 617542.9996221205, 617542.9996221205, 617542.9996221205, 177278.7146110207, 110903.25416586689, 113169.97494994695, 292746.2139999831, 88556.37345257675, 196374.67494823074, 201451.52037935593, 192883.32244877733, 193995.028358929, 192594.71297960056, 198667.78523468252, 175156.78369131306, 128386.41905671023, 287476.4079825735, 176742.77090831028, 119687.61681537394, 145752.5391529352, 133393.9137407272, 397886.46395084367, 124305.42123420924, 357435.6472960806, 2438191.567155292, 318117.54372339224, 168571.51443596053, 168571.51443596053, 168571.51443596053, 167943.01525125583, 181161.29725096832, 98650.2029757105, 551738.2698187472, 359191.64314422756, 94832.35510375688, 194853.40358424681, 104821.84021166746, 159207.8865872204, 399505.3331801019, 608693.227285976, 227263.28680879748, 218726.68214735368, 148213.28324099546, 156400.3883812172, 164132.59508791374, 301380.46110734716, 301267.6725496237, 79784.83633254447, 204901.9800774621, 290294.8476640776, 169505.77534251552, 138780.41224263524, 519903.1437295676, 173981.79544381629, 179243.96881949605, 155450.5758932061, 330730.2013497729, 153051.93882698612, 245489.6870993402, 157073.2484388795, 194350.95958037308, 103480.60071354447, 101834.37495853187, 221237.78691904235, 242504.72456250218, 269159.66004666395, 121218.71179957059, 260334.75144235985, 265553.3049231573, 234992.68989251636, 223430.52236968165, 75011.04507182572, 214713.88119169849, 135288.17546408292, 128047.54709672733, 131786.01530921774, 237294.09832549747, 332920.11440944165, 154919.40974931268, 234044.168145723, 92662.28094184902, 424524.5869010888, 86567.01946351201, 199334.5032817328, 227476.14053680527, 1055582.6304638775, 228177.25158311764, 180903.237638272, 133399.62823148436, 95140.8618780048, 224350.5467555681, 593204.4872266391, 60920.74114803307, 258712.9731309288, 257505.28926030005, 231381.94753598163, 260960.1157838192, 129198.08222933717, 550762.615516057, 397391.23020141525, 162093.00381913423, 136306.51793500487, 174441.47045865143, 138310.597406866, 204203.38138232328, 230659.82532357346, 314288.17119692755, 79455.24273432876, 80608.33039463832, 212285.21609550426, 182044.76395762095, 117119.4517996275, 604281.0770102455, 205855.96898487277, 262440.1619001437, 388772.1155862192, 393225.208544658, 125288.93041300216, 82506.96904261214, 95437.56794504615, 174560.20699218445, 279889.5840416587, 190574.96156633287, 190948.55601089267, 131801.7957953033, 126473.5598785815, 244816.78623084308, 78246.61950157414, 103019.89417104551, 262683.4150605122, 227706.25953947136, 188941.33799023784, 197399.06494512234, 217708.41568935695, 133064.38246855655, 126718.38040634421, 127573.63343155858, 135221.26449156046, 182419.98430192162, 173741.55450158898, 270650.86151786573, 385325.18021721346, 157074.7432968768, 136705.48807738896, 84008.4208564595, 119068.09284869744, 101051.30166237448, 119853.83853511499, 787868.2541333629, 90859.79675073808, 168640.05009951477, 165666.81883757235, 613587.9335459209, 132737.43844512466, 125718.81367668114, 560573.6968043329, 144115.0499311875, 1027126.1267673012, 200034.09068185752, 1027126.1267673012, 271055.05075332883, 1243984.5286827665, 163782.03620329604, 102834.78212223807, 162277.03639903327, 162488.4480641869, 141552.2436275733, 166357.24631428707, 435644.5345078056, 529562.4906621067, 237934.98938192244, 199057.39781774167, 127791.5325698055, 151936.15807235564, 283100.978908865, 145103.44858041644, 145103.44858041644, 106803.95033507545, 961580.2908838929, 961580.2908838929, 1041052.1702856768, 146820.4642958893, 71966.59249855256, 341343.4045010895, 200225.51461767004, 131926.053183471, 181315.00808447585, 312487.3166593651, 147147.93866550334, 348961.2144512104, 115904.15838493657, 109797.13556450527, 115904.15838493657, 115904.15838493657, 115904.15838493657, 113776.30626913387, 115904.15838493657, 115904.15838493657, 145848.19690481888, 618967.2765175444, 138677.98367021585, 115904.15838493657, 142943.50054420676, 156583.33681428328, 160562.43903681956, 257500.0297046026, 289678.30127904733, 317118.5268364837, 141002.18828546716, 701033.282660102, 233455.92661687557, 133890.78167413274, 333884.27069851966, 182614.23744243523, 245767.24268478772, 156826.5012246826, 137295.29593943045, 149076.0633419428, 236418.64047264948, 476049.6377457743, 195487.60844000164, 175982.93108674156, 325375.8825423631, 154539.04770550475, 258128.2961870644, 137549.45868422836, 222562.69918684912, 315950.7168842641, 217479.78790270063, 825223.6526279433, 1033155.3887898421, 1039589.8253153183, 146952.9680011039, 173053.96149377385, 147756.89595092743, 171123.9051903708, 216644.60222750605, 174507.76075693843, 255589.19910644577, 262281.7087944249, 132651.97159438097, 97159.13824074232, 557511.0700261286, 165749.6116590591, 157700.36803811594, 199589.43934302308, 125514.12379405086, 101543.09549636679, 154700.39722597913, 104882.93945956054, 188971.62395540194, 145199.11431866264, 205249.67771173085, 215718.3842299519, 120267.50426206808, 374148.49365001277, 96435.99982541514, 100067.67643641896, 129035.42765754052, 281446.1097134215, 132775.08181094402, 106064.92529622732, 115314.17468036589, 81804.16863502597, 166131.8351435746, 112561.47054186965, 187976.3606125175, 139430.24507298623, 124661.88945863157, 155075.5729971116, 151330.01788130827, 104284.40582879688, 211821.58647949883, 121693.23973840388, 96734.1108095756, 266735.3892328944, 175607.44815264075, 887005.371748744, 257987.81789045507, 122060.71957832038, 141278.30051794188, 256326.56398529958, 134085.92901677106, 149516.02156547643, 154475.67680253115, 205365.1042633736, 95983.64444756953, 176328.72759364988, 181444.18043922272, 113452.89921084166, 181972.19437180212, 181043.01636964388, 139341.4306080784, 217754.65107239276, 126744.5954406123, 172877.39270870364, 358074.50133056473, 270930.16849359917, 486003.9839907509, 134370.1210910872, 202294.03639938106, 140443.3191037872, 140442.81120055163, 346494.17688366765, 167627.1941266638, 733873.394755122, 660570.0856568615, 535323.7469446419, 408191.5541598148, 407140.38406426064, 407140.38406426064, 407140.38406426064, 408191.5541598148, 408191.5541598148, 408191.5541598148, 472338.4541393195, 298105.23639454454, 421429.67649595236, 415900.3893725831, 1065902.3077705894, 374713.9736394371, 374713.9736394371, 388631.18184019445, 395785.34031846013, 395898.494153603, 395898.494153603, 395898.494153603, 439559.21370572306, 431750.3074070182, 379017.2144061775, 381375.0594624645, 380381.1537147009, 384103.4054398543, 396440.1992755489, 415420.6869751563, 404812.02748575155, 404874.04366291704, 399551.2177486139, 399551.2177486139, 470584.2635688615, 404200.7752064598, 184436.55138600143, 398391.80901843554, 398391.80901843554, 401619.2533683327, 405425.94954829133, 498692.6486909521, 501573.5460817182, 499672.540524925, 500720.23649990215, 258862.2458086175, 255305.44587619536, 379893.38554254896, 222071.25107048647, 292495.49915740726, 237844.601133888, 417784.6542435663, 238884.1191135096, 103383.53384267521, 94278.39637256422, 308670.16346418706, 222424.32751292724, 154517.97316926392, 164979.51391881792, 125541.75817211329, 321956.64389776497, 217015.26933738892, 108542.30642444106, 306263.32862202864, 156542.2288123986, 194331.32460924116, 192879.3879397894, 113664.57214843752, 195234.78869522142, 177782.25623893505, 300166.67931234103, 89936.78026435916, 323628.6545982784, 210091.43164312022, 444980.40927523334, 166568.95815858728, 340161.42094591225, 255724.05791256131, 485827.60148910416, 147615.44810320396, 106706.47009620396, 258741.0073475568, 110143.96997820059, 273151.13300462376, 723193.1509963942, 251979.7154216998, 837516.7927929093, 94968.81576019991, 97763.26000080735, 101067.58559960175, 117367.97634662266, 251909.50067957432, 156892.995840047, 142482.86152250087, 134480.8752331206, 148895.22751527152, 262163.6433379991, 273707.17063902016, 136326.61001310917, 228438.84706809794, 136326.61001310917, 135551.63885143137, 272670.23371166416, 260491.96108839594, 177693.18764200676, 219385.50550806752, 137901.01207492326, 455855.9177086437, 123871.72023670803, 341506.0598906012, 171606.68659471552, 221236.95581289142, 257392.70411037793, 321355.1578732985, 1325450.5265048065, 117186.0018387555, 179980.45872323084, 301285.0874093759, 128851.24460682107, 177636.9876985619, 219656.96648122766, 175702.78869808582, 892249.8824803177, 549855.5018343509, 210348.26003891573, 173515.3000240287, 242777.71846529358, 112794.01301560606, 161384.5521543239, 127278.06661529813, 223071.15857580438, 118178.59537554564, 132427.19559468774, 222750.57599338627, 170032.6323716562, 166401.4533534947, 173145.573885997, 215543.91728385413, 667175.1880967625, 129002.79670686941, 155503.8035944574, 239611.00448671728, 242918.24454010383, 265937.18892645993, 329731.47419493494, 111210.41086022592, 214257.6295424116, 241285.1462243087, 857846.3509184946, 73155.13439687114, 297523.9325277016, 120924.84965115131, 99092.80114703136, 89607.53927396447, 190541.3042423887, 129685.94429567066, 143207.58963120927, 164700.1379420175, 292878.6681343827, 185545.57263966717, 328152.72787032777, 144526.33696398957, 192557.11409223155, 110887.16787026147, 226425.07761525398, 117392.38099531487, 104050.8613120699, 172082.268378363, 317511.19172868325, 184437.57895748972, 375362.2734751082, 154000.40185307304, 290927.33844019304, 229622.27189649755, 189367.55437504294, 154945.15988497488, 204167.8798754885, 127049.14086194464, 127049.14086194464, 127049.14086194464, 127049.14086194464, 127049.14086194464, 110010.92922861574, 107946.43771150045, 107946.43771150045, 107946.43771150045, 107946.43771150045, 220354.83029125925, 212219.58839948868, 257090.7332836079, 534442.5427205056, 120319.0798447848, 358921.67562969, 534442.5427205056, 178159.6055807247, 178159.6055807247, 178159.6055807247, 178159.6055807247, 178159.6055807247, 178159.6055807247, 178159.6055807247, 68475.5381557956, 154161.99779036906, 137337.05304826327, 70281.4313523162, 198421.20699295506, 126241.98493890495, 91258.76412336534, 156256.1584570743, 237716.15116207048, 234056.77813235615, 234056.77813235615, 125284.98041449618, 135750.5831479138, 184632.48435611543, 89319.04752761897, 147860.95660682788, 188001.57506791232, 125906.27361564126, 130344.62945507062, 288549.1634578127, 66184.4864537334, 166917.36466946264, 520857.3902073245, 134218.28935518514, 133227.87990826467, 129566.02628914762, 129566.02628914762, 126183.88737389643, 160893.56896526285, 123095.35554056082, 534442.5427205056, 79156.43420560248, 138486.1610225942, 135616.34157198813, 115740.65893819748, 175064.58853801514, 139562.50871086537, 128468.59909322715, 130345.80805462418, 161743.85430021642, 123264.47916296273, 525863.8381681838, 125150.83467944026, 97147.68067494259, 238946.92720307584, 184420.5174484726, 160253.3086226823, 135242.2773870516, 270285.9651400755, 171666.89027078933, 215800.00885922502, 77348.94145939939, 151109.96112407127, 89042.80478550504, 208387.90451133146, 125753.53036526879, 76266.49562269077, 138633.8639865054, 176358.54002695996, 194473.06218656758, 140576.4810728795, 111269.59547414925, 413782.41944223974, 83507.96961904944, 67800.99255657665, 89596.92744837361, 68381.0312354709, 78547.9375984757, 200317.14372071682, 608158.6122694946, 200317.14372071682, 608158.6122694946, 181965.38104932895, 147355.27152745912, 188219.4633396177, 188219.4633396177, 618846.276399819, 608158.6122694946, 608158.6122694946, 608158.6122694946, 608158.6122694946, 154028.75891814358, 159388.6382050782, 170329.04947332377, 211133.14587918142, 196405.7150219293, 809769.0292998416, 185945.42836144107, 182342.00038581964, 164325.41757348905, 165415.4637989983, 120311.15463164367, 152164.18879144822, 235983.7791826872, 214641.2950046347, 141560.95488011697, 229778.7505446139, 243579.81809008913, 173793.10944959376, 290206.97658174956, 290206.97658174956, 137889.22839265497, 169492.57225133068, 154833.23547629872, 466676.76307963673, 68883.08508075413, 260228.52202874958, 169072.68512292005, 283030.88828932936, 170891.27339391428, 174387.16620212293, 108564.1713347256, 178747.89819529207, 175275.015654078, 140644.5825809881, 153769.9608867286, 142279.27647343185, 254019.84322710492, 148936.57671557675, 129840.16797029384, 150845.35726847965, 159166.71174327732, 210455.0602288359, 177311.33712664625, 243094.7361786657, 150013.6220008638, 130959.14918780513, 952069.3293999778, 616916.9387861609, 183404.35210566263, 654356.6509322439, 174632.47921708255, 156092.35935629217, 210606.10718845707, 61845.61225100432, 153251.41577749728, 539737.7043761605, 125139.68998728029, 470766.3560279412, 227042.2187936627, 237275.6876449001, 136170.37337098294, 143752.52708872184, 261142.0279014113, 127144.37749720445, 136325.65112379412, 129861.89482021102, 122488.24984557951, 166905.3272937808, 156678.0306615901, 167008.31034735672, 703233.2072593633, 149643.91094964588, 272497.10679046274, 454321.8398808626, 984713.3353344284, 160964.54161502086, 1123264.345503519, 347670.38040533254, 532120.2104419647, 179488.85468274468, 131785.86975860904, 131250.60039823817, 234347.53744566452, 140019.84681447138, 145612.1982328786, 230405.11674348102, 151414.76879983253, 440676.05805540836, 274690.0195902461, 278823.32506685914, 354439.6711354019, 615640.4384776612, 441991.1720474202, 159074.06975654856, 197495.8227574804, 206643.72886128718, 422521.30543785036, 835022.2951781461, 100297.67841180845, 96438.27708787966, 135166.256195673, 119169.98307777962, 460846.48226721666, 166967.0525118771, 199370.77392477845, 160509.69047451363, 120102.12489346327, 316641.32429337077, 238820.09012889385, 250674.56917307555, 158694.23660336994, 145230.01810828332, 145573.89450240188, 145573.89450240188, 144823.22575019457, 488568.91269183485, 106079.61049495329, 141473.32132571164, 264600.58293576026, 185672.0660857337, 581496.8391600961, 68883.08508075413, 240922.34692386308, 143437.520901458, 149273.93440136345, 183963.24057851193, 120645.77684141489, 311037.02407777583, 257806.4679363719, 147599.44079600822, 146207.23035403408, 68883.08508075413, 164040.37566185513, 140380.00238199797, 207864.53434636924, 426763.84621883463, 231467.76700936214, 110927.49052653665, 161960.24635817218, 245004.36972820057, 144246.1395774864, 70463.80141678259, 354002.22354894725, 133338.32461579423, 103705.42247821085, 194584.40038095592, 218578.22710114208, 175415.50140834437, 74067.99012601482, 221521.30439039652, 162265.08929881026, 187752.66569517666, 107297.19735910898, 140491.4393769854, 172374.0805264574, 120236.08364959703, 209445.96229455748, 131730.8215764808, 70235.94588478772, 138389.78113733308, 160080.29282531014, 352984.33775322547, 167782.08723846017, 135629.81838068555, 175413.82849118108, 145202.59263832547, 335509.5570071939, 77758.32211000317, 235819.1721125878, 258691.42583725095, 265672.2054210248, 126244.64694009561, 160380.5366197792, 91727.0775636922, 153312.7052676059, 131730.3883361922, 136882.73058927548, 420610.6322639007, 1080626.0967136458, 181268.4756883552, 150368.5952233457, 190012.9426557183, 241743.73225996736, 267308.631265699, 136568.0829475436, 242008.08733189866, 283732.47811512096, 157704.24810666972, 188184.73339583818, 146259.10183841223, 126391.06391860728, 132496.94992020377, 133408.4137819684, 134812.1381899149, 113810.66277218578, 384467.53161676985, 125225.212944003, 154667.85133978009, 167347.55956711317, 140531.2845835914, 145371.99538734884, 118999.20885379508, 149211.98532430182, 130464.41311346952, 157658.39980720106, 132448.53275994194, 144879.17191600613, 293262.1317098773, 422316.8195446821, 231313.81493957315, 166641.86481633811, 144821.93815127035, 164734.4573751153, 157258.79869772226, 376504.09785187355, 109281.6439653, 168028.23685480418, 79661.99383788083, 185471.6448227263, 134726.47258807727, 213847.97715418861, 103256.08985760856, 174201.50607676024, 109356.68886318523, 181858.41210616834, 130951.44322294323, 210094.162630658, 182481.80710873182, 213600.4732316532, 208396.85499604602, 89792.64173058797, 68458.11605416724, 67728.83946586179, 135619.2436588539, 91058.63329781956, 150126.9886277155, 202465.57534543634, 156609.69841800543, 178839.96864946705, 143402.18015348027, 123400.24094888318, 178839.96864946705, 202862.123935105, 124070.00233187896, 202862.123935105, 118488.27063349236, 481451.3866259651, 286910.58307481447, 253727.3157988537, 199697.05108709075, 131883.1017079776, 165434.53369143326, 269931.2841481974, 164000.41819399246, 134045.27221860766, 439235.3681445272, 178839.96864946705, 276462.7360444138, 70800.95497530235, 243253.98759130418, 99934.96032808014, 153092.02003914927, 86408.34630191456, 238021.38688587508, 192913.84790571503, 91246.36590487135, 288546.9472124872, 110208.10506905193, 251823.72625560046, 136643.04143046815, 83659.4137197023, 83659.4137197023, 83659.4137197023, 81330.54694314829, 127119.5224892789, 173238.7978002864, 139465.23920304116, 78541.67070236799, 160687.92376198564, 132111.71492455492, 141715.66324705488, 209993.8985671642, 127238.86252707445, 151613.31511345896, 187144.23074966806, 174201.50607676024, 78265.02296219542, 132631.63753897807, 109007.69808175255, 258938.99818211969, 148286.01309261465, 172499.63229413907, 147564.13617323578, 169513.8065980106, 177062.39533509145, 216233.28996834983, 156494.2523191368, 76804.38318803877, 66598.54112818972, 179226.7743698868, 199915.41687986892, 200618.47562497805, 154950.05575336027, 128347.2847358115, 137554.53639526537, 158268.56074888987, 176646.8808085704, 190848.8673254457, 68700.04202229992, 151303.04493181518, 124855.4915907903, 114491.66186597994, 324190.05571900983, 124308.25707972705, 139215.73142910333, 316893.29957416235, 114205.7395416743, 259156.3529747443, 127441.25564776637, 177468.99450678373, 289568.32304923714, 309771.28400538873, 163274.71170577098, 137478.49787126598, 108496.70082161331, 315524.1434030571, 149963.9204202302, 160802.93685619906, 118711.5759276806, 275204.0985549213, 158475.44476613254, 234108.37394395977, 161110.39099678324, 255101.6938494338, 256274.18838213955, 130082.35853025212, 174751.91478168237, 154468.0290709007, 174273.7771398159, 103975.25757124848, 67814.6443895338, 76512.79475558973, 132885.4551630761, 97109.65532462098, 144209.6133057578, 152469.96868075724, 136723.96943118115, 152951.65816868874, 373458.58975573094, 95099.89219418346, 155436.97379921505, 146566.66822569005, 138171.24767302402, 150186.4495817355, 70949.93413518446, 142730.41723311506, 152069.8674683167, 143090.57336200413, 269661.15096620447, 179636.0182551861, 190041.77727480812, 117622.84814999762, 132489.59491093183, 135866.6140328379, 263424.71358356555, 182946.18642037112, 150221.7492764945, 178228.9137539848, 166426.4410228543, 152305.63618579376, 214862.326513809, 84334.71814721262, 93979.20438656441, 249277.4330101045, 217915.53166114376, 162127.7488930632, 207555.48300915083, 69242.38541056562, 222268.3529760255, 240553.6850138525, 181706.7412888722, 136249.91619529913, 152714.52137512914, 64696.77279118463, 126653.36574983619, 70318.32662875467, 134054.7460120248, 99934.96032808014, 99029.99642599329, 99934.96032808014, 220992.31609802064, 186795.37040257163, 197011.17908354418, 94753.08406361136, 84149.01966967642, 194933.93950238757, 148254.07861546773, 80191.98067336206, 167782.08862645386, 136781.84070322683, 135427.75367361668, 259680.6554013174, 130623.33742582981, 109268.36688697123, 93592.74904549222, 148646.1186555323, 835233.1621177121, 148578.68920579663, 153778.7218684035, 157733.93821342927, 142367.0782291543, 205657.2974569074, 358577.391538025, 735414.9556608315, 157145.18099396478, 366937.94240629656, 93075.62227467062, 142367.0782291543, 216505.58426178145, 88677.633797844, 150803.63299835287, 154444.0276404878, 609269.2595749245, 133242.60798200956, 145183.04320155855, 131173.87292387866, 162936.30976077722, 164029.33332340425, 188950.6494788405, 110728.41649652555, 113095.36440331797, 121884.96469772102, 156690.50861792502, 341561.91603714495, 88638.21705297756, 130617.452511245, 90628.71918962347, 223226.30170690332, 204179.51473338646, 234945.03597723108, 202409.67460512085, 159270.8451435812, 209981.58803593583, 238695.43387007224, 200225.25068599838, 102630.6142407317, 106848.3839796615, 141994.29087879352, 168062.20491850283, 149789.87850062177, 161645.96738423177, 177614.34137204505, 196173.94164496733, 121935.37076206703, 140985.39880481697, 64696.77279118463, 64696.77279118463, 146728.58135984285, 205234.0794537983, 158266.9015772703, 271870.25676293235, 339940.5135470775, 296236.28226614435, 142797.0227359535, 71324.59738909706, 168408.14707169175, 339400.05435194075, 265706.1823775979, 138467.55931500724, 119371.09609696257, 171890.8107400049, 274589.25308851834, 170662.84412170824, 103626.5776982661, 129782.56471749721, 153564.03222172064, 255422.5421682884, 146650.98142668844, 95589.51521054129, 90478.23978525639, 84420.44491203685, 243752.21491514918, 134232.40881409807, 244599.66241494042, 203028.301694325, 159170.04320913466, 129454.85215697432, 160978.61028183356, 128897.37570503408, 158243.66780258412, 129454.85215697432, 160978.61028183356, 128897.37570503408, 158243.66780258412, 158243.66780258412, 128897.37570503408, 160978.61028183356, 129454.85215697432, 150058.64696185626, 157905.92562035, 200849.28195436992, 181090.77802529398, 181090.77802529398, 200849.28195436992, 157905.92562035, 150058.64696185626, 155588.39741596128, 164386.00610318233, 200849.28195436992, 181090.77802529398, 181090.77802529398, 200849.28195436992, 150058.64696185626, 161902.72843645254, 164386.00610318233, 157905.92562035, 157905.92562035, 167112.5486598871, 160593.5213685641, 71148.62607060978, 71148.62607060978, 74163.46238359081, 215887.9199175673, 123561.07565665097, 71148.62607060978, 166788.51615453284, 174195.75076646754, 148615.87370841234, 254051.4758430519, 132260.59774733582, 169178.99997465932, 255546.29935863055, 269196.5390468316, 159905.71565505397, 280426.99496280414, 126720.57583349367, 93298.67758533735, 216131.3894969851, 73082.27851163503, 218603.7982142445, 189016.9860074161, 156879.1521461308, 176693.52773938127, 277784.09761313116, 132652.03130554344, 143851.37961789864, 128744.1774120816, 163700.24273108703, 180355.28217808783, 145091.85232131145, 130891.84940967851, 118560.13533135806, 98032.84829319204, 134996.56063620097, 80724.9910065058, 131712.9681595907, 121630.16006095908, 132840.42766371596, 127050.63431623662, 130682.99521245374, 78045.6636944986, 123332.29774756238, 88320.14186417431, 139922.31660890186, 138821.41929057537, 352007.60447583225, 198287.57221916795, 152028.3621022498, 126481.3322009953, 265147.5972602705, 184787.68529379083, 138183.252505523, 175425.04559793338, 257502.0934329284, 117123.62994549391, 365505.403305788, 183586.31242430652, 155942.39861369046, 145284.85334837003, 249213.11982035535, 149708.247070411, 236987.47905468795, 175888.05408330337, 176874.23039688225, 159267.50545543834, 207811.11155037698, 286545.06407686, 250103.35664566662, 205420.2502136336, 123302.50171525148, 69385.39081954585, 131710.4516324317, 244628.9362401032, 144537.25301664617, 242453.93357812052, 143502.79983932932, 94500.098314039, 148461.94979940588, 391780.0762240407, 133399.75165552535, 269267.602191371, 201944.55149412094, 253139.67305350793, 178183.99492135594, 145258.80330394246, 142559.34577873812, 176113.64562515053, 155552.0156985728, 168568.3809485828, 125766.03507121635, 176111.64444980695, 168631.52604564466, 215921.42825030646, 183912.65144251334, 220322.8276096218, 176108.75065913, 176111.44955288531, 216897.68315310078, 139262.38947723387, 159797.04826914053, 164693.0745727428, 169285.8248014581, 129894.44533099217, 219343.60097362864, 133013.49892742556, 115000.4643669852, 153966.73423647694, 210313.84269304367, 226871.70592226528, 412702.48285557365, 126201.6033990263, 179893.30600871015, 120065.05729117122, 151428.03462800547, 178802.11200890722, 131646.86423478657, 136334.2304924357, 106413.3231210949, 170899.63018136847, 924693.9181861145, 148000.12570662922, 118582.71907966773, 76022.55988718696, 146107.51514325195, 124858.70586679518, 160385.55621842362, 147085.77811349713, 114734.85715919487, 113506.94446454267, 109281.6439653, 137341.3484406114, 128673.1101558104, 137779.59767314472, 180717.14685740473, 194851.11520996905, 120594.79976361785, 184807.57498163267, 182005.5101116254, 145381.46073679873, 117922.40737873144, 173263.00678912425, 71230.48678656397, 164362.94830543775, 332244.5937643634, 139585.59289756085, 132726.95961207073, 137696.6838279598, 168057.37237208273, 137864.2365950788, 126251.92525963724, 123726.24359645185, 146228.8149316481, 243139.0572515037, 265706.1823775979, 68452.46568623354, 1122136.0211014722, 115212.84237010704, 186902.95631810668, 102900.67512259792, 173348.16186385148, 326313.0618116053, 154717.92056614265, 196092.6298872923, 151517.57326105013, 107703.95156312786, 202465.57534543634, 480305.6149716087, 144854.93719088065, 142304.0220863052, 134726.47258807727, 116653.48111131636, 201602.41415401443, 124457.17428397297, 154323.65181929077, 92451.5465921515, 92451.5465921515, 92451.5465921515, 92451.5465921515, 92451.5465921515, 92451.5465921515, 92451.5465921515, 354216.2716565426, 95804.25303133155, 158715.54559938566, 79434.79821626948, 129195.18709846113, 73195.37725375268, 156304.00315844966, 188143.52702558684, 104398.9586973725, 182494.82744239352, 166588.65995305905, 82407.96790662385, 71238.15854891128, 129513.33898094977, 80810.63994332968, 92451.5465921515, 73439.98340161666, 169395.684437731, 159469.8896319855, 72846.63225432385, 72872.01737162954, 281142.974136108, 73637.98844303025, 264435.95758174575, 145570.11696111783, 165222.11228365655, 118211.85684285156, 121548.49704747787, 157568.06542949562, 125396.84827965817, 80861.23752809517, 572599.3895333977, 95316.1935621083, 208238.6723738034, 119250.63487564158, 127119.5224892789, 98079.20852122514, 219929.2560540532, 286763.9270771503, 134839.109305403, 138199.90494090677, 176065.04720451988, 159634.37231985718, 135232.8970149157, 157193.26274932307, 109557.86835178814, 144678.50253358108, 249389.0474066042, 214285.32428437314, 216386.85156018817, 160632.35168867634, 136103.89307777822, 149918.293450802, 122223.2388699146, 255383.8831818331, 253510.5160823915, 358134.2771623076, 200850.31712071446, 160955.58068367312, 92271.30130816749, 164578.35063447198, 118359.21079707376, 179065.17312028326, 129195.18709846113, 124038.02467199847, 248592.9687097087, 195534.70521462912, 82845.88124241872, 133663.52966455414, 310704.8250863075, 178719.69915466185, 149353.71988143455, 147031.836052755, 135754.93016400578, 177823.03830869222, 152770.87794129064, 139136.00603213662, 117542.40929863632, 306013.50360053894, 123064.76461131067, 98849.11894866136, 111421.20243360929, 107427.21600445767, 161494.62361531548, 124630.35063831648, 160059.5866161043, 153258.76083118015, 71094.53237192199, 194711.68458063115, 143552.72095325508, 125664.51377321724, 162205.5638293657, 130722.18035912837, 165438.8620795857, 299520.1883183317, 148513.01703312903, 147056.73694938456, 181969.7351422428, 128606.5630005558, 109651.55779135523, 180586.52104927832, 176554.0898913338, 190204.16895917442, 145987.56784648864, 321864.8498232694, 104111.13417968621, 164037.57975875365, 397854.47319677606, 215212.376546156, 122925.47039737065, 229903.9380172192, 162384.26673898072, 184308.79201256286, 129713.77506007737, 191116.96549089652, 204098.9760431609, 147800.5472159374, 150144.20478856604, 140168.72043641206, 129115.22171311856, 105582.6599803977, 200501.3112746458, 102026.84419069189, 133031.48472928, 226522.17967260626, 150277.39218152783, 244286.06222074266, 129254.71511138526, 131660.06909889836, 81715.62139793616, 81715.62139793616, 141448.6941834399, 104309.21698376584, 134733.90610314318, 148346.78245815748, 131660.06909889836, 172457.0024317289, 114384.37505757093, 334966.90686761355, 150267.7786211078, 98737.1211569244, 182342.00038581964, 197878.31444629224, 68047.6571319534, 124098.1988747748, 128323.82115590792, 77989.31420140818, 77989.31420140818, 175954.99345834463, 147201.0524828203, 128323.82115590792, 77989.31420140818, 102262.97321019112, 103073.88494267753, 99913.45017247746, 77989.31420140818, 175954.99345834463, 147201.0524828203, 144250.91997761372, 147825.5021134706, 217634.28679736383, 200794.44134384367, 163304.59968160847, 149133.88074450602, 170885.2446108815, 229437.5758364657, 145271.89139736767, 128905.4483967863, 154636.57889655183, 243727.67865176246, 185018.11209335556, 157919.99310093423, 233707.32003976865, 306101.1007314987, 84288.92375632704, 607758.3539514747, 357277.37063483987, 191173.46801680967, 98148.03308784543, 2427684.309419486, 139278.22173532684, 448231.52940340014, 94547.8688866322, 291095.8965348429, 278750.4646050351, 205008.38848936727, 150694.56065245072, 245691.48269962476, 261963.47034980042, 207829.91377041803, 158649.6634794146, 198143.02196368275, 154234.88754244088, 208970.05158450786, 168357.23242502057, 136257.5000230692, 178159.6055807247, 211318.67728985025, 128553.3548844289, 235845.33219196787, 132287.95603192155, 156547.4142837439, 87563.8093105969, 216694.05629754747, 78574.07236862389, 124504.0530689139, 250285.6374375687, 162036.42933905032, 70739.46875455424, 102851.8830169355, 133126.85135093096, 78574.07236862389, 78574.07236862389, 78574.07236862389, 78574.07236862389, 78574.07236862389, 78574.07236862389, 62422.50328751738, 78574.07236862389, 78574.07236862389, 78574.07236862389, 62422.50328751738, 62422.50328751738, 78574.07236862389, 78574.07236862389, 59244.54773205589, 59244.54773205589, 78574.07236862389, 78574.07236862389, 78574.07236862389, 78574.07236862389, 62422.50328751738, 59244.54773205589, 78574.07236862389, 78574.07236862389, 78574.07236862389, 78574.07236862389, 62422.50328751738, 62422.50328751738, 78574.07236862389, 78574.07236862389, 78574.07236862389, 78574.07236862389, 62422.50328751738, 62422.50328751738, 78574.07236862389, 78574.07236862389, 78574.07236862389, 78574.07236862389, 59244.54773205589, 59244.54773205589, 78574.07236862389, 150427.96412266733, 124666.17736463345, 156245.41561663116, 119044.30690809252, 298442.5612014587, 135218.93591787867, 317097.305555637, 166182.0842410626, 136278.62484585878, 175858.918494782, 303542.5059617484, 155066.19820585128, 175930.47065292607, 210961.1662876379, 126151.28678905725, 111985.1970577732, 145712.83152718132, 326569.5460775365, 193147.95055482385, 292983.58459377696, 223444.25640667608, 197753.73062400962, 214129.7422545301, 146580.3427077905, 492761.6571796483, 303709.57101761457, 209348.87643185462, 201382.25748787116, 129527.63666055165, 309618.59964876284, 253617.62122950488, 123181.91485488178, 245485.7706557829, 162005.3269027484, 344117.33931968524, 135464.6276116226, 165944.04162256612, 189805.2359048252, 359476.43737517274, 278582.7973979953, 194637.4938197199, 103626.5776982661, 141490.94360956486, 89319.04752761897, 157022.72969506297, 95350.09773806238, 154055.4616955486, 257084.56245032573, 71850.40701648264, 210432.17349272931, 213909.39653779854, 523515.67745693494, 355051.45572035376, 212367.35858649152, 150791.2411110051, 207451.3254637938, 209483.72031970214, 340881.88169146085, 140617.1703402648, 176073.3117814861, 353860.37593258166, 142200.7766660993, 294656.33511261956, 533010.4751191749, 147087.85442959418, 164144.77235625227, 145477.391881606, 141660.45111610065, 574815.6438869138, 356010.42266833654, 140022.42202868554, 156173.977666806, 277571.56670378876, 115145.6227411059, 145802.53689924759, 130738.76850166419, 168227.59396512387, 189667.04551756178, 153592.07993908526, 222272.39439239184, 135638.1696060255, 168674.0540128902, 136457.61764431326, 175064.72362658218, 305356.8432029345, 173554.76752597984, 118706.36940561679, 234690.78069482287, 148722.6420333898, 263005.07691716356, 151491.51332299176, 100878.61021879938, 188146.7726703088, 152216.2959985498, 132040.87032096108, 162610.1550918377, 249345.82306176794, 386672.35299124225, 160429.89064669624, 151099.1524400877, 182114.4959506542, 236509.76649843357, 150469.11169233298, 131356.13244464473, 174600.39504802963, 133839.12255766644, 103101.99997932448, 91066.98403789583, 256507.82900673256, 173917.79988595605, 174982.8127750059, 164093.0366682618, 162847.70646343412, 136914.71720681817, 240184.47603329676, 133414.0185491604, 128822.44685162965, 138848.94077752993, 111873.32001770876, 104953.53780849068, 131878.41082473748, 150662.2137026767, 169531.90174736216, 154234.88754244088, 162322.87994759617, 147253.16379458227, 175105.4218934634, 78156.5223094357, 127554.8208777976, 127055.69901496521, 91966.83169770357, 63685.97274757414, 63685.97274757414, 139619.41142429627, 160429.89064669624, 167127.79908511392, 198608.86711541918, 142481.76406382993, 127890.25796981715, 454816.25042673, 117381.38621280206, 224528.91151966143, 129713.77506007737, 350222.2444601022, 161998.26571040787, 132124.29408201005, 133285.31035950372, 129189.07434809278, 140667.9063118641, 146107.51514325195, 190965.32236308517, 67661.95451150002, 155597.6645710716, 155597.2895366211, 100815.22206560939, 302158.76328725385, 151883.98300370108, 136745.70608323227, 142036.53709713573, 98108.88065316532, 194995.3282329759, 195267.42560612364, 163451.24324575654, 152776.03770917206, 131353.68507224336, 291132.08320122096, 147139.6746792269, 267038.7498928715, 274552.6007921046, 68436.13421163463, 231328.91020661476, 231328.91020661476, 146763.90399256794, 169081.6899194104, 161605.84897458216, 78851.72710609146, 173330.82995741774, 179318.06596972217, 175114.1700005019, 97549.15431445281, 251903.62115694204, 128829.15486670547, 136191.87121933931, 500374.1795578945, 80655.86617364596, 241726.3852205358, 145703.00084644707, 158537.40831293113, 123253.266680649, 151437.79162385582, 148588.92635478725, 155238.16712263087, 169184.81264078326, 133356.2173830996, 196638.6596895686, 138157.63715940143, 163369.80809094818, 223191.14650733024, 156098.6126787369, 269715.05638966686, 148021.5944221782, 337337.1913628935, 160600.30118681528, 167654.45024587665, 341807.2466394627, 535170.6508171863, 205003.94098286176, 138985.32995839114, 133948.64001820024, 158440.03626133926, 150781.069284102, 165174.17263185914, 71230.48678656397, 134452.05096760835, 146907.87635594746, 167357.76743314206, 127031.44431680175, 180574.0355062956, 190055.10554595018, 86746.13784401561, 170292.86452988413, 131009.83237569264, 174616.7374478036, 128454.0830685695, 151007.27721011778, 307015.99406954984, 174393.7801611328, 213018.3090093803, 71702.60348361476, 71702.60348361476, 71702.60348361476, 112447.9530805646, 79640.75222670754, 79391.86237624283, 136333.92737525958, 144854.41454350227, 320186.0809585426, 199402.28084825844, 492305.2455602776, 145943.9155645606, 131758.07134373038, 125726.23699803764, 117226.49816508568, 186557.83236702334, 174063.97426843038, 151235.07266761566, 104178.95558860677, 136982.58812705873, 95842.35651797318, 166525.27930849438, 189599.85355760856, 183123.2761596814, 116264.77636452924, 117248.3415001839, 158593.7497631082, 219236.90962245275, 159905.71565505397, 120890.86705699714, 155269.43817928457, 237749.50524878514, 100619.76934877055, 134045.27221860766, 207362.05935879832, 176073.28641042142, 168487.2032121498, 139967.98182707856, 129185.39993127438, 175103.22393749445, 152536.97119609054, 180931.61976718617, 127046.21975617118, 127046.21975617118, 188914.97737940896, 179819.817649583, 95079.21911970382, 80623.35372658004, 80623.35372658004, 83855.73672972215, 80623.35372658004, 211421.1035823267, 69060.39644399621, 121686.6972457648, 136614.8588941855, 190178.1263796995, 209056.09231764992, 74107.02813231201, 73071.38610301813, 73071.38610301813, 169296.02196803247, 91287.16415467163, 124093.72263770277, 153248.53356923859, 146641.5461888044, 123369.44243738307, 125967.73956592288, 228973.56181201804, 203762.75209300336, 149385.50680188893, 124088.10918566419, 125939.1358342859, 169473.85738432646, 261350.3815247882, 95083.33869461188, 78002.59362078401, 100945.77649587652, 132688.38020473786, 152967.37729199335, 122102.63175448473, 191817.386626323, 160801.61526047575, 152971.65289048187, 95979.05844025973, 315185.17838055757, 102625.26037894774, 133593.64410905502, 245673.62085932057, 210628.8533006739, 127653.85284647011, 74204.0149746243, 137151.4015672865, 118359.21079707376, 181282.4278859391, 135638.15446915352, 102260.11850847528, 181281.01644116052, 145221.78893513788, 160225.38829068647, 94974.36787747801, 113568.97725466294, 156180.05151535448, 118795.70499146587, 166230.05698639707, 162427.75651677413, 162427.75651677413, 71320.91170059874, 167687.5476059795, 145863.77954451207, 118199.71335607898, 142118.88755771302, 117993.20723729585, 97346.45107958258, 180893.00036985712, 144329.67021727568, 105169.75826777877, 130322.61472992969, 132476.67254241163, 186433.28518531276, 118698.03834857151, 133383.5344657448, 74432.36750681192, 92723.36006278655, 356502.83419829013, 251593.38448171772, 97357.00641396182, 99389.31962235013, 103399.99536406141, 127653.85284647011, 138045.89871139877, 76892.63105337138, 154252.75978990615, 187447.20821007495, 95812.30104664908, 212687.47442906175, 95417.9346931561, 382272.86685936106, 181116.72973306314, 377740.60220758506, 76389.63811150253, 163282.8073853984, 184310.7152754382, 293103.88123427896, 152088.55674914262, 119631.16542780164, 198135.04977329276, 161658.04133575133, 127807.79206071659, 138775.13763601627, 105220.06806712525, 133172.60517166537, 136245.70473389278, 105890.56428792949, 222033.71572724567, 132607.7580604712, 143614.8375327633, 157606.84225632314, 162590.41077603094, 213384.6912296007, 120878.39118632363, 101496.23722063945, 78489.37384916734, 89419.37665800608, 79238.82363742337, 99738.72277705328, 95656.6405063796, 271770.9259001615, 67356.04394501966, 174990.23429368503, 128912.0763801111, 205353.78538748316, 181922.31109893124, 225664.94444450346, 140754.08265362578, 121257.60288700156, 124544.21408963375, 185244.25348829626, 144037.69259554337, 209948.24151791277, 71640.58767869935, 137319.71514310892, 139861.16874936677, 122429.61740658918, 158715.54559938566, 230001.73126583552, 145164.55523068522, 120316.74583624532, 181818.87634219497, 187100.00532585938, 128443.16851814132, 141456.65652339123, 153689.75758288393, 90123.75961382786, 171814.8694681984, 127696.26050860435, 119944.4075481928, 177847.0033994627, 205726.75424512097, 158148.90250255942, 241060.1613721007, 160915.61331762062, 151653.3595192792, 169133.06773470496, 170417.3155286013, 176778.53468798514, 173900.8258065064, 149852.05106925688, 134213.73480602214, 158854.66728682056, 91161.79999276625, 78683.05115765147, 148510.6795243416, 130627.84147833893, 87702.94057379736, 163568.1192349881, 138151.76147436304, 81459.28707310348, 141837.14977035433, 146950.1402476583, 132848.07729012924, 183844.28846299552, 145465.07995418672, 143257.93538089748, 208616.31240601186, 174852.84237801185, 185955.58001209405, 102004.93839734221, 177170.72596717215, 360150.7527543161, 166783.94785911767, 239190.191408908, 79127.07119014686, 472571.1039452936, 76897.81740008527, 88856.52413715234, 145537.07973220944, 192222.1881810296, 83336.55327607928, 142946.25242935162, 144440.9036719069, 142612.73294620265, 106266.7510468068, 182738.45840346438, 173651.08402722992, 271550.6416666026, 135870.81479007498, 144273.30366619883, 175627.5046083346, 77018.62864138934, 178185.6742040521, 348666.31071989547, 457732.9285005407, 95800.7437822041, 200076.26798412466, 150053.05558894447, 79417.91467082425, 80649.3205445649, 99803.84989409492, 85672.45890648753, 235777.61092768217, 105026.29113805757, 119184.30137948242, 121356.37490769476, 105666.91225002012, 127679.90545327973, 273352.16693746526, 129126.3174220961, 197001.0893779062, 139785.96315346274, 139997.16318195302, 75927.8852890213, 79733.27543597862, 120288.39790077014, 160920.76889019168, 288401.9281583728, 73564.79515939965, 391465.0321094088, 242637.18255051578, 240175.2292427024, 132119.99954421396, 279180.50316990045, 136755.43691213452, 170300.81206702278, 178523.004151651, 198749.20907582258, 271162.25008116604, 187433.2682872153, 166295.5230759494, 164276.2553146558, 150264.66209215348, 161625.53992831125, 146412.94529324802, 113851.47391034738, 142518.89083934986, 382954.0957489237, 60367.328980797, 147216.52491480546, 74523.7262682616, 69646.96401455425, 74793.43390291187, 68095.66428805863, 158023.05516120413, 263781.59864469204, 223083.3527682793, 62249.94773665618, 160748.74166258177, 126467.92085599294, 227236.21668399996, 136282.42055879615, 148437.47255504955, 146442.98120648338, 201071.21965724503, 119215.41349461534, 84921.25946611796, 105310.17512616437, 223937.37986563693, 209770.59923942358, 241433.74275668024, 133407.53283594345, 113987.92070912747, 195098.71905398733, 145662.1432345396, 161355.6584078302, 172612.41142738215, 219287.30985862552, 380155.72127088386, 185770.44185542094, 257800.6484299566, 208278.32608479317, 254539.05947142676, 258702.57268644968, 361297.3665067689, 185885.5031199301, 122574.28917853277, 129022.44621679686, 237662.74181153355, 146198.92048190348, 159811.49266696675, 166835.8438962137, 143486.14931150244, 116886.44188594061, 191139.49255850026, 137151.4015672865, 165418.5853333586, 77455.6399632346, 105422.12294280043, 188869.51607362373, 132804.98301656955, 136116.44461306004, 68032.95066818842, 409148.34609627124, 200341.50553082913, 188499.51194579998, 122533.5694818461, 189547.98002809647, 155584.53621609494, 93070.35177769179, 156682.9592283714, 117191.11501917252, 171223.11610734175, 97182.55166990813, 167741.2052855489, 154351.04238089465, 161687.79335025544, 94746.4361601665, 146132.56175231983, 445823.51193202665, 412212.918394087, 193767.6050659503, 165232.55145424954, 153084.31485770823, 172441.71109741752, 92784.64767751278, 164220.0954697628, 154052.09099313722, 144855.28662774593, 178523.004151651, 157026.05590039922, 68072.48267788594, 91163.74966995342, 182998.84055988883, 742142.1493521796, 109971.89783800303, 162729.97219739173, 210785.11493768045, 76625.26441898828, 173050.81561225752, 159567.0603913457, 173050.81561225752, 149904.79675415053, 104000.23755615306, 95705.92233739031, 121126.38864739102, 102878.69952974663, 131435.8010471639, 246262.51388935003, 129952.37611172532, 125954.5498299796, 166046.74514484126, 164343.0523862595, 137758.14743210716, 155820.6188576411, 313281.3483861108, 213016.65473438473, 255035.20587224403, 158151.31414487382, 425980.225946625, 497878.31021666754, 407499.32914576156, 140220.3127033856, 130269.92529454586, 248541.8545442241, 133371.35618773775, 222036.57894293414, 121003.93963041107, 145854.55222889298, 128902.05995610537, 70510.71488491942, 291003.17575994285, 292090.37212933245, 411603.7993427982, 190982.5685882799, 159758.72607134638, 210984.31237931878, 184973.74372289833, 158554.45357217075, 91828.08405738288, 116226.43539108915, 116679.8530949437, 97384.93899004108, 151905.98859961273, 673866.8683447789, 292880.6427347553, 175542.22168394586, 164014.08830716807, 187951.95153860535, 191899.1830765478, 212640.27418674764, 177515.6361891765, 142445.23554927376, 177064.56297664202, 241240.89138429065, 97117.61143743378, 68134.898527054, 151006.32289763892, 209969.96081155798, 124615.66499899782, 235410.5670874627, 151855.3290762343, 177701.90590350435, 151028.3816944715, 373470.8191742351, 94414.42725001849, 307504.3152495199, 244497.1941850167, 229946.9868085932, 519551.89084292855, 493592.7397141628, 233018.82809220365, 119954.96657128085, 230110.20196591894, 202772.8002659984, 71625.88186741166, 235819.01523410526, 149463.66466011447, 164134.54408373125, 169502.0623029071, 114751.21395026305, 155067.86782869685, 177237.78172605738, 155939.2708209665, 191123.65474016883, 137561.93225225923, 287669.9690235357, 240722.47400650074, 151640.33795520186, 157132.45135817197, 220486.99396166485, 119161.24404828517, 130246.42074567353, 169281.99098976632, 138553.32770903618, 122303.92497331418, 854763.5323326867, 172381.3072316242, 169152.98217620398, 155777.02004269836, 152862.45043801705, 363128.6036635254, 200691.32399584528, 193850.72870507435, 353257.6030093402, 74204.0149746243, 153611.96228058008, 159719.58421048283, 277222.8394385644, 100462.96221270294, 141164.11772624508, 68500.71937822354, 163248.27706992137, 131467.23341597762, 167113.87245431106, 416718.43438275415, 335359.43250509904, 513035.3137352542, 152418.25907450425, 533010.4751191749, 233236.27482081862, 133302.81766266853, 195800.5212184984, 229559.61932719275, 217193.04735039672, 136441.50981697367, 153069.44452122474, 169242.59334754077, 103463.58441317141, 279618.0419327113, 230248.4828415173, 137077.02015656835, 94382.24346221967, 176287.86781794674, 282748.1522709173, 163272.26107005, 150671.45951092613, 365390.21214348497, 154818.98923929062, 196182.15525579447, 154988.10412767966, 255456.1018385174, 153927.73230363996, 290980.6883686736, 156410.40585224223, 143605.78764643293, 357953.700037431, 137426.75376923347, 172456.2762040984, 227366.21878669164, 188191.6160754382, 172763.7208495867, 148392.25285492907, 262809.8544862503, 156848.91600678285, 137349.83400378044, 110296.69641307788, 344686.1316496289, 184666.28405806923, 312283.33129592217, 142147.84597228453, 356506.6235770949, 183789.2743676342, 297787.9205609839, 139293.31368555437, 102030.7057120321, 314876.0862914925, 340791.7282863087, 144212.30467889493, 230816.44090323275, 125218.1993117505, 209965.63025639093, 146842.841487442, 118562.5725870404, 143949.77742328108, 219496.4249345736, 129908.43832942327, 166637.67512828327, 151503.54089765876, 132459.77603531344, 394048.5619869245, 151228.79548000588, 175901.89261709206, 111860.16876233558, 133127.62475954654, 262946.79386709776, 260966.94381951442, 127148.15414742458, 223850.4846005252, 415918.6138883078, 288861.23274987075, 178566.64542914976, 132984.09061009134, 85906.85533864946, 145822.92817596404, 188747.89828581185, 210916.99701248293, 184635.12253857264, 135076.24225339037, 119996.36175557628, 132996.1897413518, 68089.26177838336, 137082.58200744563, 264078.3325320627, 91947.05616646889, 192167.78099020434, 140026.05410364387, 115561.64018564203, 205622.90514678822, 310209.7935956886, 283394.3276361694, 310678.1775311039, 182736.96752964274, 267276.3876735798, 255320.59085243443, 216852.6563682261, 216996.9613630451, 171782.9867527074, 175638.5877697583, 159106.1950001057, 215037.97152295976, 211401.69719451806, 177017.67546170944, 228922.92310278353, 203130.9115260081, 213742.2096043206, 284829.8583148498, 104470.19077881475, 65800.7914482567, 104134.55010432482, 186216.89456767013, 141945.47599919638, 176314.71842203336, 177987.3202060335, 106486.21090837722, 176104.2155609858, 175908.8632223712, 157501.4425782776, 229212.3100586664, 214328.74904196552, 190461.76329228072, 169012.70998593618, 151401.57389142792, 106565.84386878579, 417464.18116561597, 413123.4450832133, 280682.98791669175, 151762.5226131312, 197141.92521440517, 885789.8307219564, 442519.1818858507, 98583.44820354266, 189834.24452314537, 115400.96148142952, 157563.96364633847, 151517.47897035372, 202932.89330027153, 88532.4959080899, 205917.61028441298, 168623.48828458943, 403791.08078785345, 229680.02878466662, 150045.2839544792, 437940.8141049012, 164755.92485135052, 115023.5537999933, 111378.2022028639, 141313.7953288553, 128050.33485189904, 202435.22664028668, 184626.0183694557, 138540.4449580355, 245299.2208283375, 133675.36691811026, 171918.9058037314, 228629.46692696973, 268601.87838209374, 173478.90023529695, 415872.2036921871, 102332.36739437611, 141701.01709232002, 232102.37228888288, 106973.40994869759, 146959.7472509979, 114199.28508642556, 225649.426266095, 109818.65425097119, 202092.50938440335, 232877.9347410668, 86969.37055229717, 153293.2999380551, 245047.74740795483, 170991.49184546695, 108196.72201996701, 278747.0327413581, 206084.13707696061, 680755.6069288501, 114632.9109199802, 139000.74600363665, 345601.2613405308, 484859.6554776822, 191555.5540200823, 111969.64010085253, 74521.83752284205, 193852.84449342094, 74802.25604327729, 74802.25604327729, 167645.53213424768, 160046.470438454, 125375.30194644869, 69065.52890687608, 321455.2463129138, 139623.71334319594, 406287.8724665162, 182356.66539265678, 254911.07160072288, 191901.61086525035, 184778.45221695353, 154564.49044223272, 577003.6385675562, 146418.13079759406, 2670224.7908154796, 276807.73718893854, 376981.87082967395, 218351.153315468, 135989.72101404425, 399529.7853843547, 149941.13433759852, 350620.8797868753, 136409.60861105885, 951267.2228360348, 274923.48797553324, 161019.26723323617, 265271.197849837, 109695.28703069668, 124164.41441853254, 174149.87516811566, 228842.1610176597, 164808.45555685658, 232336.8698375838, 592331.9686033772, 138780.40160179575, 157427.56082550556, 197363.60331219248, 170792.7096672008, 340053.97997074504, 334447.99613443826, 413144.46713791654, 215486.46780534662, 145081.89604952576, 76054.21525217257, 327360.7963296951, 302305.98429033975, 100885.94414226805, 230514.8211479757, 174449.7459874865, 202842.1782714462, 171659.5610453568, 169460.60877059516, 172589.00519385858, 168400.45193632052, 101893.26085847244, 172839.58456651805, 162620.89930932783, 151124.6078658023, 112842.18061699491, 167638.7336832208, 150825.4021029609, 192813.62523259467, 149672.0107228197, 172407.42838623203, 161043.17604255633, 166129.5412487747, 173217.09032124205, 171300.69051692498, 161043.17604255633, 174309.66560851576, 158155.66787374517, 124493.94635910197, 173469.8405501239, 84773.00259307135, 161224.76468878312, 149022.23299902357, 60491.07507764416, 160709.66986473557, 168174.0240666847, 84780.46205892923, 168326.32269500502, 62125.04488617611, 162409.84204335665, 315699.79183385253, 161043.17604255633, 173652.24242472553, 159320.11448588065, 160972.14699798578, 172953.10835811228, 80358.43304969819, 165151.96099102843, 125467.42767297327, 95394.42743446212, 87138.50899612349, 169993.52782787214, 132299.5762756469, 237121.34489002282, 84864.62140908331, 112568.82557471258, 169470.4308640373, 260841.27392802917, 157551.6185663555, 242324.4167637839, 221166.11042089903, 286083.7895375312, 147418.9307483542, 97703.75136332789, 243892.25212786847, 352370.2993420359, 156496.75311732703, 122582.06804498358, 154124.28248088315, 106910.28931191412, 158262.4953153433, 154607.22952535, 232549.59492841215, 141530.00140978745, 532122.625213723, 211059.96723445388, 223485.94843056682, 125626.00449417738, 104020.6387235503, 215303.16351378273, 198044.17395838792, 252498.55447464663, 240466.9908761489, 118084.51016213928, 178747.57794031224, 272858.9930588244, 663795.7085659757, 89735.44647317517, 233679.5184293051, 136987.38366746544, 153940.75241960952, 664676.8954882774, 139539.19266254775, 230012.18921976746, 191821.95972902037, 147697.1954995198, 246803.74878373244, 133342.407409418, 276143.75324769074, 252147.64741986743, 247462.57271721028, 164808.45555685658, 224554.51180057088, 144338.06529109576, 113291.15562409433, 268468.627907816, 165331.84497101963, 122178.5374627428, 123308.33290970433, 120965.77678771946, 829048.3652125706, 476207.4118940061, 237836.90414235494, 102272.27758946337, 113916.69415590889, 129095.73084890068, 81028.65159846032, 231001.34891541692, 146451.38483154395, 80241.56453624213, 139678.68505564937, 669620.1660584883, 204095.57249750453, 203148.18669667008, 795984.2944526288, 139678.68505564937, 1193661.789441001, 200350.13212964928, 196170.12454362, 228572.42809380835, 131614.71217372207, 187059.71102242087, 215487.58246238026, 232395.20816024643, 201749.22719348563, 92751.78702794322, 256739.3939173572, 460029.8062083747, 232338.0236484757, 409364.85043392534, 1060366.0969089128, 366210.7813598048, 361846.1077762723, 205045.82352123928, 176942.20039856178, 196495.72551447107, 246885.91305648902, 236876.7123751512, 700624.2991784994, 150517.95674113088, 702894.1481377885, 184237.95253337256, 208846.17924645636, 325812.7428924045, 389685.6049297224, 244156.4657471637, 109929.2511914277, 136001.7430576094, 220466.5526814867, 162955.2251008908, 168304.57454335, 165242.9338459659, 164642.83453709187, 205821.6235851423, 219146.00915015614, 179288.1958640024, 118463.44370531716, 119556.13794587174, 348044.44749935425, 285594.01974258514, 677817.0157078665, 304279.81585144845, 185299.13252366186, 167792.3483759341, 116553.03062906428, 161169.03740376473, 118828.24857270294, 126178.94389562923, 94652.0456490418, 248314.28352710133, 132836.85640340688, 99771.36281620458, 121290.94288688563, 127536.58416670669, 189823.9523536964, 202405.29556653748, 177503.325670827, 164882.06038320452, 130492.62716314726, 588418.1140185988, 575301.685149206, 269541.8576409485, 137053.65189034506, 213067.27171232307, 238340.9232047118, 603383.4052435908, 155951.62691095017, 220502.02566568382, 190005.72389384045, 115911.57284542511, 277265.6559033884, 186130.35921491735, 137666.55491436354, 144545.21995153438, 178629.03394459275, 131134.7094814664, 184565.1004361627, 203032.38096144915, 254098.24583735986, 130495.50949113534, 284046.7496549174, 141761.52229093655, 314517.2345767168, 281682.5080241802, 422786.9264182761, 187190.91003288073, 238043.87387451378, 296915.02126236376, 234412.4473040331, 255335.10273026276, 84395.89403842317, 301439.0946458443, 147611.86114448856, 469376.10851756926, 116569.5505694043, 131750.62269986665, 135807.78966900712, 1073780.6316622195, 116036.79385274564, 253334.18005239943, 278908.321580079, 913967.3403570694, 166561.97694629832, 111930.9077928837, 226333.44265504624, 174956.4792420796, 145835.2453381281, 184343.32094934836, 125665.86412793229, 250277.0646929104, 146606.90891820943, 1193558.4366348945, 286557.25574935, 166263.95760103618, 155177.19664797746, 155657.76067553516, 193386.47686465533, 215090.00259215417, 1213363.3170013418, 421155.50851891545, 120438.38698886835, 144105.6549672262, 369878.1146912363, 301692.39057127293, 303036.8584503895, 210328.90963664523, 156633.7050515821, 270327.2473765568, 270327.2473765568, 704781.6470718593, 156050.66347983276, 336628.776260869, 924203.804537065, 296423.38557015255, 276994.35219487717, 276994.35219487717, 134859.10778891706, 569266.1268457499, 496679.25525781634, 414938.58692729584, 165607.48234467686, 157449.2432325128, 705202.2197146266, 536933.4194444102, 179915.8772582228, 179196.30318022182, 160053.12532212937, 291839.0487718804, 210256.6732215684, 187899.65375974547, 209644.7398377202, 151270.7471628032, 135429.52104476548, 565103.1344377709, 565103.1344377709, 565099.952034424, 113809.80032698467, 192968.2366684689, 217449.86226364473, 206225.4939551055, 146328.82850170773, 162416.1047374861, 138133.9786628428, 83175.77676786596, 163404.80908625864, 106540.90477720035, 373354.8715578279, 650826.2494556485, 105787.74407522842, 159877.63085355688, 223728.21360458815, 133058.96880144445, 101550.92403998661, 116643.02470416883, 196464.0190644714, 2332461.622522054, 789387.8122321566, 381577.60339007404, 163095.03450164676, 114394.46807146599, 110177.31866913722, 92810.81881575656, 258041.73422250798, 157903.68466876805, 592668.6050478991, 519205.9161903993, 194142.31955290464, 125117.88082907075, 128933.0201279014, 102959.76485406108, 210239.08831313328, 293614.16098571493, 1423215.630907638, 140095.6113167912, 145423.03977741767, 250396.9240377685, 206055.46483226636, 227433.6831156207, 221710.49425784868, 200458.78741356145, 186860.9177271789, 179196.51484746713, 200787.46329987684, 201823.43302671215, 112281.44972200175, 119168.03652351024, 140798.3684019624, 233071.96280457271, 214389.57219218404, 325101.57517955254, 87296.02678706676, 89265.82497583223, 1349578.3129231418, 221765.8676363994, 170857.5351428023, 89177.80094434993, 192906.6431970874, 257695.16544290195, 267059.53556753503, 266948.871503489, 223386.53236531175, 211143.2879069722, 1061149.775695949, 251364.86263660734, 189135.7735121103, 162538.27387623853, 109014.73257968226, 171921.31063318677, 142893.46393730608, 120258.39886237044, 234336.83796313102, 2299732.9571281215, 216891.78254659066, 161726.102632962, 131774.9039481213, 268813.84148258, 238406.88355422876, 233692.27922205138, 155567.86752914442, 167765.8729806384, 167765.8729806384, 152287.1614820827, 167765.8729806384, 178825.1592663567, 178825.1592663567, 85669.54456019953, 184562.33321986266, 178825.1592663567, 123321.40079432895, 144899.92139912207, 269784.57376841456, 79487.51727896593, 163604.07484281654, 79487.51727896593, 79487.51727896593, 79487.51727896593, 79487.51727896593, 434591.94954952813, 424385.2126070679, 110722.23267302733, 1206534.9346396876, 364415.4881365334, 107932.3058137336, 212955.518705783, 185259.23707660037, 381581.83811553085, 205927.2396639808, 136574.77665182826, 202767.94369374873, 365673.19135089836, 490046.88445214514, 341344.97798190743, 109084.7564822096, 296827.86464513134, 524208.2221696778, 157801.98396024932, 161288.22586067242, 76079.90037895471, 211397.27086190655, 271016.9098351379, 169796.8617510077, 214325.27910852266, 117827.00980226888, 101763.24111976888, 382226.25968075596, 270450.9788211511, 171736.80166476607, 485670.4105732966, 218288.30132513656, 226360.33221728267, 267240.8631526821, 212200.33296943986, 104608.7658782533, 119202.28185781074, 119202.28185781074, 357396.1446054956, 1989464.4993604696, 117089.35553887446, 96083.65511015244, 107252.72431064834, 117089.35553887446, 155472.86082354447, 98118.23613323199, 128027.62610156878, 137328.37131455936, 135467.94761125278, 141241.2655039016, 151527.9916982086, 64544.62596709657, 112326.20940139014, 169708.26933416465, 130461.96014012855, 150498.25794550037, 205015.85589286033, 307054.68251082656, 309102.0316964213, 220207.86059760928, 370011.95703102933, 130850.40578038103, 185922.19091466354, 191690.2058803733, 350698.60252190864, 350698.60252190864, 171002.14790134196, 125513.50729651067, 162453.9628009376, 100498.01001655904, 163761.6572456374, 260134.1755432931, 190731.16510600396, 132579.04944648707, 72016.60848507454, 274297.9374063981, 104683.0796074169, 119244.11119339074, 113535.75797162866, 137162.129269997, 181759.43171487862, 184620.93755155092, 140798.36837648682, 299809.1688888762, 154041.87220787187, 106391.65603889554, 226818.70664303028, 225059.40529701422, 113608.7409631247, 104186.47228246543, 96968.35265434804, 140874.47216493147, 236740.49263251544, 307805.6441969347, 235354.42959685036, 577084.5656235083, 381528.7770231376, 114861.49090479004, 133652.76140196907, 120171.67928935017, 169313.52693053384, 202173.20484777214, 225614.89316862868, 232417.5503839187, 206133.45146917552, 251356.95190708362, 144125.04223498786, 213418.02693844482, 235612.99610017677, 169193.50409145217, 241720.8502646327, 207700.7043411692, 133792.70215644068, 476702.0122519461, 230059.11414704408, 266763.96047985926, 197758.72918549133, 201034.42091736168, 133195.90190109305, 140727.1633394931, 176809.529349129, 176663.06639935504, 349263.3615406307, 72334.70229238106, 160098.78539890645, 204978.45387091453, 666006.8571713549, 172765.14034777146, 108729.17084613703, 253413.8997550277, 148954.64884243882, 433779.8861122994, 147039.26193229033, 147039.26193229033, 156527.36966235895, 226247.15240991398, 160937.00153092202, 390070.9788319171, 143030.66876766807, 114320.23922211488, 124771.24771720704, 432054.94086564187, 120677.84677208439, 158692.28625574743, 119727.42944951, 341688.34612498153, 341688.34612498153, 280185.65893669025, 271976.32313795405, 197706.87738074848, 277605.43385433085, 176600.85640956002, 196595.30082485094, 165244.80880969774, 236398.681551196, 188028.02282690565, 179258.81660603246, 202172.5621437961, 219671.30400583416, 267421.54233501246, 141243.74070000614, 143656.10559176386, 154443.11765543456, 349833.2987115731, 253737.93495183793, 322232.33219808526, 204410.04792632445, 132112.86730129702, 408178.5619966496, 207101.20695282076, 405615.86545832676, 112783.51233133886, 222594.836781719, 451236.00684458035, 503891.48351277364, 365872.0359982928, 118117.98241035243, 111847.23594299558, 125998.19535557457, 127531.28897114692, 129020.0724544054, 129020.0724544054, 129020.0724544054, 129020.0724544054, 127531.28897114692, 126273.05557139455, 126273.05557139455, 127531.28897114692, 129020.0724544054, 129020.0724544054, 129020.0724544054, 129020.0724544054, 127531.28897114692, 149016.25862057263, 126273.05557139455, 126273.05557139455, 126273.05557139455, 127531.28897114692, 129020.0724544054, 129020.0724544054, 127531.28897114692, 126273.05557139455, 126273.05557139455, 127531.28897114692, 129020.0724544054, 127531.28897114692, 126273.05557139455, 126273.05557139455, 126273.05557139455, 127531.28897114692, 129020.0724544054, 129020.0724544054, 129020.0724544054, 127531.28897114692, 126273.05557139455, 129020.0724544054, 129020.0724544054, 129020.0724544054, 129020.0724544054, 127531.28897114692, 126273.05557139455, 126273.05557139455, 126273.05557139455, 129020.0724544054, 129020.0724544054, 129020.0724544054, 165206.7615991334, 126273.05557139455, 193335.18021718445, 191235.17125052982, 151397.27746620716, 148158.82943627852, 189626.36365125273, 147804.86423753662, 148525.22071545618, 130270.00004992087, 117045.49709786157, 196698.7058942941, 114391.2769333188, 127714.31529390204, 178253.76641260335, 125984.30383931856, 161692.38322805206, 335436.41953378415, 85196.17572462471, 211876.40316085532, 603187.1322118079, 194030.63930326587, 198766.95292637555, 175401.24214273575, 301630.77129850746, 75350.05414669412, 136855.87422739508, 138282.61714206968, 384144.03533041757, 311518.7432582766, 157217.08691309602, 192213.3135049658, 263869.0870886643, 163776.9368679732, 276272.41972919524, 244289.2842122643, 319077.1806191826, 188777.57779269054, 210654.58539930644, 140443.93096534853, 399465.7777686604, 441187.3330748803, 308813.6416686406, 211244.23736161742, 287714.1093833161, 152311.41232232918, 195888.0315363459, 124107.03930543526, 155987.09097682044, 137014.9647919765, 323671.8552426731, 161510.321677342, 114263.68589837744, 173217.16053462963, 173151.6677089841, 203518.3393421158, 168046.87561659006, 332893.7250487192, 168046.87561659006, 376481.6361186851, 253459.27250473306, 315230.8044249294, 149199.6302150811, 385820.80050127534, 184525.90474691748, 148665.1011233344, 392311.3343098123, 305385.7725009769, 258118.43638486916, 244891.8469021704, 196595.30082485094, 196595.30082485094, 196595.30082485094, 130818.9769174885, 270393.8118993932, 188572.81046608434, 460837.24723370373, 133064.54386591652, 165244.6254792036, 186991.2338579535, 145449.23777838305, 184324.58032010833, 181199.40771950333, 315094.0294069395, 159939.40030286618, 407812.8615018556, 162544.73060299238, 498926.51188159705, 246759.87464916558, 130148.45039172721, 201118.26214392867, 149204.67276726614, 95840.05757599397, 138596.24988442875, 247972.63118549954, 105182.43622591061, 279293.6366585008, 117053.39396557804, 126844.88457616817, 222106.72913436376, 127012.63256271914, 80530.29679355571, 203026.58197934603, 169342.33230877516, 343374.23881490657, 179403.02182455704, 131353.82483708274, 271211.8907369808, 225974.36446638004, 1924193.315174109, 124587.03583939941, 343960.5530424865, 461344.8253020915, 144246.70835766732, 201067.7387564336, 251457.58577172924, 446193.83252981375, 172723.4689467388, 130818.9769174885, 292568.22180054756, 144177.14558301333, 92790.09916839181, 144177.14558301333, 144177.14558301333, 143517.90045567707, 137432.5648159908, 130896.16474043985, 156254.03102731804, 148138.45994231454, 238717.68223278603, 119462.70754384191, 144862.4160147466, 144862.4160147466, 428739.3021262438, 145337.28467395, 152360.89855217564, 134029.83585162388, 130668.75143157886, 222414.95842092938, 143303.72372387222, 143303.72372387222, 125215.47307675588, 148269.25319535992, 125215.47307675588, 244030.13268945878, 176939.11918928797, 158899.42039525695, 296567.1115448647, 158899.42039525695, 158899.42039525695, 158899.42039525695, 116103.25832099796, 140332.03934502503, 154229.33650975683, 234684.5595749556, 278013.9028549183, 132348.64709125477, 119758.75288700397, 125847.07137606107, 119758.75288700397, 125847.07137606107, 119758.75288700397, 125847.07137606107, 119758.75288700397, 125847.07137606107, 125847.07137606107, 119758.75288700397, 125847.07137606107, 185276.57377488283, 94048.26729064088, 296567.1115448647, 253302.9305801117, 318584.141459202, 253302.9305801117, 252648.87170105713, 84053.47762192175, 302697.82915074175, 124887.65480816408, 437535.0935197192, 215655.33707585293, 121082.83773428689, 139809.69180653547, 211134.9168607006, 139879.8920514711, 211821.3449997785, 130818.9769174885, 130818.9769174885, 130818.9769174885, 130818.9769174885, 130818.9769174885, 130818.9769174885, 130818.9769174885, 136908.28163535258, 90911.8951584221, 188222.60131765687, 494661.057409822, 102787.85755064443, 224477.25907021595, 83916.24193134982, 123866.29084112766, 142172.75907037477, 93222.85731061974, 282562.7097298199, 250008.13485285832, 152657.10090975594, 202704.2188448365, 140523.50869102383, 513081.22311914305, 111823.6371156286, 171189.47648607934, 142990.55076246875, 271801.2842993055, 111322.67121494196, 197237.01825531884, 187905.83321468215, 115529.37187397291, 157805.81620103942, 167763.08105617826, 129134.03469133028, 152811.38803156908, 169355.82795578035, 98874.81608642894, 151527.9916982086, 169727.28030410229, 168984.4050258355, 139680.43725751905, 139680.43725751905, 203266.05806399637, 127083.90307742698, 210840.30252413612, 204850.7006155463, 267089.72163428157, 87099.5119002023, 166099.68870180368, 206993.74163768254, 114594.70849410913, 175310.14610017734, 84725.79319952734, 84725.79319952734, 78897.5385013645, 158918.95281103026, 131099.64092853808, 84725.79319952734, 290924.1078942391, 84725.79319952734, 83456.1926721315, 83456.1926721315, 158292.64255572326, 78450.02103168986, 118575.72705388385, 253722.9517396828, 78450.02103168986, 147936.37581052943, 134277.42257771638, 173926.04198543655, 118575.72705388385, 79943.23987601927, 205591.84132685454, 168083.05586618345, 230402.43298848477, 566519.3974661379, 221000.66649372142, 566519.3974661379, 566519.3974661379, 83927.33980896897, 83927.33980896897, 170595.87897625694, 324558.10400181287, 122015.87616962663, 126672.8297789186, 162102.97642058635, 152834.90652298965, 152834.90652298965, 173488.76033260723, 117914.43754078698, 216190.39402475167, 139718.51118024986, 202060.7111298388, 131691.87742009264, 365279.4659350918, 94707.8645750373, 216193.87744410697, 203271.64146548562, 203271.64146548562, 155722.37724551072, 153502.96966905554, 158292.64255572326, 155722.37724551072, 133403.6146564862, 153502.96966905554, 155722.37724551072, 133403.6146564862, 127331.3568264193, 153502.96966905554, 155722.37724551072, 133403.6146564862, 127331.3568264193, 153502.96966905554, 158292.64255572326, 155722.37724551072, 133403.6146564862, 127331.3568264193, 158292.64255572326, 155722.37724551072, 133403.6146564862, 127331.3568264193, 153502.96966905554, 158292.64255572326, 155722.37724551072, 133403.6146564862, 153502.96966905554, 127331.3568264193, 158292.64255572326, 155722.37724551072, 133403.6146564862, 127331.3568264193, 158664.79918195942, 155722.37724551072, 133403.6146564862, 127331.3568264193, 163203.75911192305, 215653.55179437815, 145944.45043933028, 119866.57808023051, 541215.9561419768, 304452.01324794313, 189583.5222553717, 131219.7138238757, 174471.74014633804, 116026.65835594658, 131691.43536018996, 122532.2923605372, 242277.4586942019, 285556.96707492194, 116317.78122942625, 399712.93201513746, 154131.43800750165, 92989.46603896879, 279799.72810307256, 150271.6514352183, 169268.30451129982, 110826.05269213853, 215357.40874424746, 181087.58907756023, 196435.3024618826, 307403.4233559475, 307403.4233559475, 517407.29465829144, 156562.2415339907, 399082.0201303536, 196066.50075241004, 163028.84678655872, 210219.67711482063, 160976.54802331876, 232554.1939700999, 239024.9525267582, 100435.14735775505, 239801.61780823016, 171961.3465751551, 171961.3465751551, 145322.93166757267, 168068.14827169862, 337624.9028538886, 176608.39784201802, 153580.71646909608, 181398.5759398974, 132311.03254326098, 98036.96721012113, 236239.9318768154, 123969.29439825725, 123866.29084112766, 208386.51011597685, 223036.6662733117, 103999.63992435866, 188091.27378202582, 355248.7791139086, 352700.99431871524, 207825.4986073043, 207079.90056660166, 221000.63627890847, 78450.02103168986, 78450.02103168986, 78450.02103168986, 302874.7596514627, 123523.87226503565, 126455.04239441117, 181627.4862523867, 135221.35873868488, 502137.37917151535, 171903.587238995, 162314.6980658896, 332852.2681051103, 203000.775560953, 152921.647876549, 138166.74823670433, 113891.77017366611, 183276.30538156713, 165400.36362824694, 174822.67393951054, 165400.36362824694, 137294.90413220503, 162259.25403203582, 428002.1523044917, 170039.3069160431, 297444.342083608, 237457.7262912154, 64124.55346553749, 113759.99078369669, 132300.34724893555, 130784.38992182614, 429843.83576640073, 193215.78571788993, 132636.07798533747, 131532.52256664168, 120009.61163336347, 349721.2275615473, 133109.7355144268, 139611.51517232836, 180115.23106105777, 180115.23106105777, 180115.23106105777, 190892.8354659896, 140385.6456026077, 123278.95212961631, 558712.4943060336, 558712.4943060336, 567088.7029331337, 119056.98061155246, 208310.0776634965, 567088.7029331337, 558712.4943060336, 558712.4943060336, 150521.62540658077, 214054.35051413995, 212899.38308323672, 211383.29117340187, 208006.31271191384, 205198.9914208857, 206653.72506478566, 225328.86224237148, 226634.655629444, 226181.71957842947, 226072.4123925748, 227903.68331571546, 224476.15195335966, 224463.92317070853, 227360.58232367557, 146293.08236972778, 146063.10339854128, 144194.41939709958, 143091.8210956254, 144829.92459872033, 140297.46186757617, 138911.82919989392, 140758.16378589702, 154742.37068733515, 153860.24511285126, 152062.22791743462, 152595.36889331223, 153166.55106700023, 153008.66007105337, 148646.71624923125, 149712.77912876575, 156673.91421060724, 156422.82627255056, 155349.81892034883, 155668.15285774175, 152414.84394397584, 155972.57901658094, 155505.9476400902, 154345.57600816712, 156666.52121124542, 152786.32682963612, 203548.0387223505, 241914.50948855278, 410276.36629403976, 129993.14565396635, 149700.95531878094, 127808.49865020564, 146843.64999717087, 356534.5410127596, 79920.6867480453, 85684.37696372616, 75802.36689463789, 101241.86949791323, 333901.87416022946, 97498.70589787884, 96449.36143458184, 919861.5220527742, 126835.01449736286, 186571.1495347698, 196298.96603412757, 324936.0078052778, 140471.78289129774, 123615.87292467142, 156818.1420576144, 91512.59042265051, 345471.4397570167, 265271.0892907626, 383696.92991292756, 139606.47168995108, 562908.2848517322, 445620.11981707613, 189693.51789805834, 186183.04860090808, 302187.9663295764, 94041.93423344879, 129647.28444691404, 2331787.9934944427, 667868.1506415412, 707641.7579605209, 245868.9293223124, 161312.56683125655, 1646233.8766581735, 119737.76211016045, 181361.95064855664, 636977.0348921557, 199165.55203286075, 204579.68088933226, 293759.74815043417, 122926.80816512424, 158983.77850857808, 162672.16346607998, 277015.3382884141, 201688.02362310846, 177102.48641754512, 214648.78715666826, 158365.30237897337, 268252.85123124166, 149371.49918580678, 105232.24818737234, 1061264.9655138857, 433734.86993149586, 141979.49920342033, 207886.9031920582, 123049.4696477339, 99526.09473041582, 99526.09473041582, 120455.93578893744, 101943.22315727966, 203227.38598400846, 329921.5579397742, 149779.2021942896, 157119.25677848968, 1061189.5041149547, 271459.6055129205, 493007.6597284571, 161839.0545429622, 237335.38511180464, 147340.134166247, 620070.9766084144, 197011.8157734826, 219493.29359891592, 337594.45215655776, 276621.6643268682, 153682.71101311035, 272124.83536512905, 208342.46333312083, 84935.55811010329, 1338268.2891783249, 284112.1802796676, 171949.00105665956, 105648.21415841016, 137603.61521205102, 163408.07070051826, 238563.30889015394, 96883.34572310178, 96883.34572310178, 238563.30889015394, 96883.34572310178, 96883.34572310178, 238563.30889015394, 238563.30889015394, 238563.30889015394, 96883.34572310178, 96883.34572310178, 238563.30889015394, 238563.30889015394, 238563.30889015394, 96883.34572310178, 96883.34572310178, 238563.30889015394, 238563.30889015394, 238563.30889015394, 238563.30889015394, 238563.30889015394, 238563.30889015394, 96883.34572310178, 96883.34572310178, 238563.30889015394, 238563.30889015394, 238563.30889015394, 96883.34572310178, 99005.6222234233, 153478.04532932735, 147283.08785754288, 147283.08785754288, 238563.30889015394, 238563.30889015394, 238563.30889015394, 238563.30889015394, 96883.34572310178, 238563.30889015394, 238563.30889015394, 238563.30889015394, 96883.34572310178, 96883.34572310178, 238563.30889015394, 238563.30889015394, 96883.34572310178, 96883.34572310178, 238563.30889015394, 238563.30889015394, 238563.30889015394, 238563.30889015394, 322188.8877372126, 421258.2939659271, 211726.14506689657, 238563.30889015394, 238563.30889015394, 238563.30889015394, 238563.30889015394, 210964.61766241695, 210964.61766241695, 151722.8745811998, 380774.60701794317, 230624.74164504, 212188.20038080064, 83399.54183257464, 83399.54183257464, 171785.3209309443, 123059.18951575167, 75497.6470581793, 75497.6470581793, 75497.6470581793, 75497.6470581793, 75497.6470581793, 236574.58775144024, 115504.19406431368, 216003.46704914526, 306641.12010336824, 201118.57014766018, 181066.475959237, 152595.14885358958, 130813.5458707319, 130813.65408982728, 130813.65408982728, 130813.65408982728, 130813.61095625015, 130813.71918000959, 130813.68033472926, 130813.3324155194, 130813.5458707319, 130813.99888497847, 177020.6547193438, 387833.29152452335, 130813.22608659364, 130813.89064120606, 130813.65408982728, 130813.61095625015, 130813.71918000959, 130813.99888497847, 130813.99888497847, 130813.78427299802, 130813.78427299802, 130813.5458707319, 130813.71918000959, 130813.67604457555, 284249.71544066485, 257592.39961861027, 892639.5039692059, 254796.10227441145, 352027.4001048807, 166605.92060339794, 189557.49700760175, 189557.49700760175, 301681.72931027634, 301681.72931027634, 208319.70206443663, 231583.75326790698, 276047.4754143212, 219641.17903808484, 120054.74703243416, 163613.46029998132, 183686.70478646713, 145719.9649806081, 151713.87797385364, 226403.69662998384, 188036.0243560453, 320321.04374277324, 699960.2453416104, 286658.5410550134, 313500.073447919, 411056.31084640673, 458294.9987959951, 238093.524696508, 268806.10359925125, 200045.8361442063, 175392.6669838269, 359788.75156219536, 226056.79563367, 313383.7074627803, 438120.08651283366, 281263.60183876485, 96446.20003505712, 207557.75520347245, 204714.65990001062, 207441.00374830078, 116282.42665485981, 180274.0348783469, 367810.8260800868, 157305.12027948516, 142072.32159508183, 165972.58500593, 220306.44154356094, 124113.53802286406, 124113.53802286406, 129291.18184958093, 201456.95476879974, 150546.5740722837, 124113.53802286406, 124113.53802286406, 851745.225040496, 179864.34408411337, 174898.54876447335, 179864.34408411337, 423040.2504893541, 126186.27281871042, 209983.04694340704, 283571.20012674475, 128196.73167888365, 148896.51753931676, 127264.03211262835, 153688.92274597203, 144973.1268001836, 88978.78766309109, 77623.04233459361, 140855.7482113288, 159923.7371818919, 195032.6639045062, 161707.7836743565, 332696.5573596682, 225147.49642528652, 227360.00216699575, 159444.33441338586, 234289.4315143673, 128107.00905282391, 227500.27645806834, 117022.82695276485, 198518.04975416858, 85913.2622191193, 164155.10575457005, 134525.2396976581, 182328.60987221944, 172186.38561040128, 241939.99457790947, 281817.29168446164, 233728.5499167858, 159783.74209281328, 330108.95747942675, 101493.50811679868, 160634.486456737, 277939.9707295133, 589512.9714064659, 125911.84338723915, 199521.39044671037, 110516.9625996963, 283060.7853425695, 122426.57298187382, 117400.99181722614, 206538.64283483254, 157652.6125184996, 600655.703311507, 157614.73756552846, 77784.6850053243, 77657.97332199458, 77579.67835009839, 77737.0667624269, 189807.03119913157, 115669.93528596769, 144107.35480788333, 133817.02363106402, 259541.29098089287, 207158.25748291414, 197432.7030605498, 115944.21018842107, 121478.3064962599, 125611.10378506836, 116003.72576969367, 119492.85155776635, 258379.29567129558, 119492.85155776635, 197987.70578799525, 125262.23378329232, 148716.93897034382, 182664.1750829535, 148259.71960147156, 153320.62482417954, 280772.1320116779, 482134.5144594492, 81790.94811929062, 840314.928127256, 211211.9440361993, 211984.61694428156, 544218.0217906922, 206438.48596669012, 124835.53100805379, 183069.25962496852, 121756.68443148577, 285508.4568469302, 219435.17121887437, 173237.23559742112, 250978.57802575178, 140130.58107088052, 96103.69615934356, 147813.45437557512, 235632.0446133589, 160609.2145564182, 161045.71523792512, 134752.9411365238, 134549.57485593457, 116024.09584665179, 126559.79004877462, 139565.7741247221, 177581.87604432082, 188717.38104826846, 458119.57558803976, 195224.70174435878, 188669.47547787274, 318794.42216834467, 176929.50789492973, 329423.61588341097, 153994.8370355619, 316135.17642879067, 133335.64660496623, 616093.1842789233, 141235.39275999359, 166010.7309106567, 217522.95447478766, 344135.6419501745, 182201.96682277316, 141508.3480708168, 203121.9190276685, 85654.15790663773, 416402.29290204134, 210147.08041730174, 205681.64313752233, 146476.58115085436, 117519.8406032252, 188163.12141241273, 107280.81543926036, 150097.0514506936, 186398.00390453142, 144291.35073098575, 213508.91499381716, 102857.63463362394, 98719.9312098937, 202611.26064470972, 344947.39506376476, 1794971.4272135776, 1083984.2718274868, 297059.2715617063, 169189.3186304214, 151932.22435574752, 110867.8263664842, 281164.8533892399, 261650.60138294997, 300200.72819139546, 261907.1899457585, 132715.9274968859, 111485.60380285839, 119952.04956513294, 111386.33562316565, 113778.67710365447, 113778.67710365447, 173636.360616648, 112404.2161546405, 130785.85305837341, 114988.02792250106, 126826.3861749459, 122051.32977247823, 146374.8321674356, 147172.3717592075, 122051.32977247823, 232318.85980223722, 326185.32582487026, 128913.52179527536, 129499.06539582534, 250587.54549511964, 101639.52238714242, 243456.5672802623, 134733.7352409328, 134733.7352409328, 137777.34492487463, 193110.58376739034, 851841.6924178083, 158190.01923434675, 224555.45586457514, 190661.62686881324, 136670.74587177677, 136670.74587177677, 133671.94846042478, 133671.94846042478, 133671.94846042478, 232533.90712921083, 152635.72356887476, 272801.04558774526, 166031.1958725134, 151216.2455973991, 347332.9454711338, 330618.0224500743, 323152.45833705325, 207358.6652799841, 155428.7736283484, 219432.6481664949, 184401.97582367156, 136375.51140369746, 131652.9915422006, 320095.10195826634, 148843.3617285286, 501051.14268385957, 235774.11495881953, 252314.08432535455, 256340.75704236454, 102592.67120348541, 101830.97855133217, 99946.85243894745, 215119.36462136632, 154913.65023172053, 158004.06680084244, 151422.0745639337, 131974.150823135, 159021.79860724922, 218041.36053096832, 203428.4668702463, 109372.31025835683, 127097.58409624439, 143215.90219697703, 158099.5157010782, 410788.78018065495, 130505.01107665563, 158412.32909401687, 600333.4070338232, 141819.55498614418, 194339.2581135835, 189580.90335297852, 176838.19255011002, 503118.39435770776, 108677.80075964324, 202619.64885599565, 191986.88575634622, 609525.3078436822, 218351.54529458127, 138970.4786061612, 177973.4408341631, 277894.60784210317, 247633.93801350097, 190615.83585634246, 211741.68113041914, 149738.9641765649, 340065.48310324736, 138396.32269958663, 116528.39426424199, 78113.8716058002, 412224.60878819623, 160273.61948015657, 149902.88881905223, 139003.42768914637, 161747.71663901, 586454.2578679955, 484028.94106605323, 120733.38703691875, 150324.31296652977, 97764.864909842, 84490.33481679193, 235300.5911927651, 287270.0412318339, 363769.69693498965, 137275.23135883533, 341145.5526834836, 338102.44519577984, 286107.66849070636, 160541.44605340343, 190497.42160608526, 79992.71196313383, 111778.06612944104, 250022.12132690207, 219433.49282624916, 164054.50263998818, 194648.15773039512, 86716.99004552612, 151383.8674099961, 161217.42402833927, 203220.24209544854, 205925.36571373203, 286502.0466159589, 339623.96837814664, 321661.9642872672, 581157.9030425249, 225340.54970676277, 316277.4097072937, 287162.1140392242, 127098.5152692482, 1210514.6216021364, 188875.92145254882, 156870.01527340856, 274043.60013410944, 274043.60013410944, 134923.08148126391, 155351.37391522177, 132185.93125853632, 210274.6751257479, 139290.87329047066, 349569.2935478877, 92576.4730471491, 153391.2700652443, 155978.22234672788, 157376.4725992135, 78461.46794435816, 160158.48786577323, 149158.2438970157, 113343.27648592845, 245017.8692707552, 216503.9438336676, 223310.61457823758, 97747.63438600095, 114874.70959497595, 281565.7066726166, 184717.15401696143, 364630.3915111769, 146044.22962732663, 114341.54234934604, 264388.0470679704, 142017.67522378248, 273577.20846795954, 155393.73882808816, 133339.8497308605, 175429.7599243368, 197036.6925036541, 106905.45017499165, 640726.777831526, 87669.58500961517, 420057.3871742902, 120624.83265318442, 264511.9018269529, 314642.9493991507, 275795.2870152327, 93795.9407324077, 1473243.796902117, 168495.84570073267, 278259.41282391467, 137577.28734335562, 107031.56051573515, 198271.55419909532, 174891.7703383747, 160425.32156041835, 135262.6020184777, 311270.8556678389, 128923.81597155, 215278.05102493963, 334651.41008742905, 135262.6020184777, 538415.3284783987, 141188.63301897788, 141188.63301897788, 144953.8666842965, 133867.03178337598, 155793.95392011368, 230724.81325098866, 144953.8666842965, 141188.63301897788, 141188.63301897788, 133867.03178337598, 144695.76849817205, 144695.76849817205, 133867.03178337598, 141188.63301897788, 133867.03178337598, 133867.03178337598, 133867.03178337598, 130277.07498350053, 126777.29790494835, 287157.6850732337, 232131.02531374648, 218497.85645214838, 261736.5805624316, 247038.7525946141, 173580.2546760905, 209853.18122958863, 484792.1351023165, 154040.10718482014, 164093.4228099563, 196071.7466056171, 166751.27923658284, 345031.1197124203, 162665.01648690156, 130059.6370477894, 198598.34952431702, 149948.39115422312, 131245.53428246046, 247827.89868870546, 143822.36805850058, 141330.9597291105, 139537.5807395541, 148720.38737651418, 134338.5953623452, 148735.23989983334, 134955.53280758805, 149350.88076664624, 148735.23989983334, 139537.5807395541, 150809.77017344267, 148720.38737651418, 134338.5953623452, 148735.23989983334, 133601.07961864347, 157363.72125701894, 139537.5807395541, 150809.77017344267, 148720.38737651418, 134338.5953623452, 148735.23989983334, 134955.53280758805, 133601.07961864347, 157363.72125701894, 154099.15367845335, 148447.2186608431, 199867.9199618692, 197277.42882270153, 153516.12798986406, 134330.38944007247, 233658.59083011624, 123038.30830366327, 134920.14421985755, 151682.81915645243, 158392.64874409416, 153516.12798986406, 134330.38944007247, 152838.26965821005, 123038.30830366327, 134920.14421985755, 151682.81915645243, 158392.64874409416, 153516.12798986406, 134330.38944007247, 152838.26965821005, 171181.03515465523, 163256.82353975828, 175321.21426154775, 148720.38737651418, 204378.46220875927, 129422.65063129441, 132058.92938596872, 164676.32104634482, 148720.38737651418, 154547.8586326411, 164676.32104634482, 148720.38737651418, 158509.52970386477, 138428.10539838453, 146893.1827703168, 141923.87208766994, 266024.0664282078, 185231.7224146623, 264977.90304669633, 139720.02092316662, 208738.20832183858, 420353.73467654746, 119118.77551985538, 85296.09780431364, 132914.9210937437, 334464.8043677956, 191349.29920747364, 185768.47331282886, 138877.64461191022, 234600.54971237484, 100484.90946110978, 102856.17404288714, 376960.8405695206, 166192.49497744598, 97816.98249001702, 133847.2118983269, 185858.552222202, 142097.3284888774, 216741.24502977743, 177388.91052768112, 126846.34271888828, 163313.85595494887, 189906.41980792908, 271015.94920448423, 397145.04996928835, 129109.92293176692, 290400.0067017631, 179148.74491726825, 129459.91653716791, 131035.37812682867, 131068.81575885211, 224966.97537488834, 163519.65471746313, 225492.42381184356, 108522.57081471781, 374735.6533959303, 251883.85835724277, 176015.49049864954, 110349.2264253615, 108342.97348627725, 292861.96465307387, 261264.7863829869, 354400.88174359984, 225964.77221532876, 132153.87870923115, 238013.7149016643, 104123.33401707932, 119804.59760757287, 222247.29908341606, 509279.90595532616, 290754.23216613184, 349645.7062268829, 245994.9986971232, 109943.32392495521, 193362.44189051504, 115880.27378300701, 280832.57005737885, 130021.10735386977, 85356.2531328215, 87845.32437133846, 139865.7618159848, 215516.0271874513, 154044.7858435272, 72759.18402591578, 174181.61657675725, 119706.85867548324, 119706.85867548324, 154044.7858435272, 119706.85867548324, 154044.7858435272, 119706.85867548324, 119706.85867548324, 154044.7858435272, 119706.85867548324, 223632.36131780758, 223632.36131780758, 552072.6931336615, 131756.1735676904, 131756.1735676904, 105343.24378767548, 131756.1735676904, 241704.79309077462, 265099.84916298353, 110353.7700481889, 739978.643866033, 165073.18550287772, 224326.33980475186, 119193.7030659884, 126869.98635630909, 128719.74715451154, 188162.35251784854, 135038.7960326442, 208864.98653416274, 149265.38035397022, 155631.0176584489, 141304.81707438204, 182573.7839590979, 163584.28411200337, 139783.8513649373, 139783.8513649373, 120981.16840036039, 153207.23186758265, 793576.2121543371, 130400.30731764839, 335941.05228043924, 535358.4299140598, 80792.19504030788, 215919.8877698668, 134242.65575335146, 134242.65575335146, 193559.7381806734, 139432.31043597125, 117838.68398618186, 133618.63739910492, 91233.14308481096, 151789.61999926192, 158015.65672041095, 102904.42088153196, 222953.65371191292, 121341.6135729996, 172513.87973832907, 262343.51950897195, 150118.642070846, 254175.21630496718, 377040.9001340958, 196443.87678991718, 152259.01787678455, 340535.507357475, 145411.25675662217, 214448.31902912701, 546189.0582014932, 346701.0983074412, 326633.34111570934, 112672.76880837195, 133062.5758655392, 182130.9648153594, 212501.6203205391, 424961.078621852, 661595.8523220714, 186405.70263982608, 171182.9828059874, 298834.6955179059, 522320.73538870685, 661595.8523220714, 109478.9116889532, 153608.62175388157, 256649.2785019516, 289574.3990075604, 259377.21885173762, 170658.27249956471, 129797.15986150378, 142508.31231182587, 186754.66080187273, 296152.5249124475, 140638.4986484472, 192070.25596137627, 139075.67217652657, 133745.4263407734, 138980.21679262037, 142508.31231182587, 161659.19265169345, 156117.24206777572, 156117.24206777572, 139504.10673536416, 156117.24206777572, 156117.24206777572, 139504.10673536416, 137069.9587253709, 156117.24206777572, 192652.93846783676, 161659.19265169345, 170696.7471568841, 156117.24206777572, 186732.0565329721, 184633.53846217267, 298709.8488980837, 200398.88385004064, 146649.1671570462, 145400.85692548467, 110498.09443416979, 142908.39801912417, 158453.8688877761, 157929.3181647556, 122976.18546401904, 155247.52341576328, 148137.19209747185, 162875.41249560914, 193801.51020549558, 172109.99041312208, 114298.53471320923, 154053.76770174285, 957829.4032104582, 248574.95867806138, 206293.90602535818, 395591.76875485317, 169433.2904677, 520981.5297845909, 230179.25488841097, 188482.50803585624, 129731.64783593036, 552257.0521546833, 184062.42118913354, 166505.3110251652, 170593.54078863005, 309466.72262906434, 196444.85859311605, 148581.2936859387, 141211.34086686102, 182754.09850650182, 166735.41621512707, 205562.27746656942, 145476.45346606948, 120777.7329489974, 438613.4148013855, 97438.84164593433, 80121.36000125391, 119877.88626775122, 80121.36000125391, 66850.21486378933, 119877.88626775122, 78260.40192596066, 225433.34880399273, 97758.98488282505, 97758.98488282505, 118924.6316177609, 118924.6316177609, 117782.03880252744, 119897.853443261, 119897.853443261, 97758.98488282505, 97758.98488282505, 118924.6316177609, 144424.03431185486, 246731.39666259347, 223495.06121270292, 266234.14577358455, 197601.09012066748, 265287.29537349695, 196766.40600448253, 165702.83197002375, 409740.5506751778, 222861.5619917045, 266234.14577358455, 197054.9496571247, 194720.1120732103, 274122.36734677677, 164944.4480914481, 254836.05931729858, 241276.20259293859, 237180.70917281858, 162859.78961648402, 143777.71520552272, 146675.68242688698, 230686.3370129448, 250444.48276436282, 187839.19842941515, 262057.12732911808, 183846.2852665461, 175493.32466575986, 224613.74002327214, 224613.74002327214, 157890.2784162308, 183583.13983412742, 202515.7403178811, 205112.87803214462, 203926.2068887177, 208640.53902006889, 192418.1313426771, 216181.4984837179, 196766.40600448253, 160701.9092270899, 184821.71649000165, 160510.00476822522, 160761.15074340467, 255907.01634113857, 240721.39282004727, 265244.8503589366, 237159.99949527177, 241643.19872888018, 167170.00564440893, 206933.67168695625, 201470.15227450622, 194727.58701890433, 170744.6032929191, 99941.3899007992, 155329.24485542247, 284882.38194065605, 1459956.9168794083, 161171.20061281353, 134363.2541041655, 178480.16754583892, 121990.56571483011, 163031.54064567614, 131658.5671343781, 151167.74434206352, 216084.48590726987, 95193.04498320664, 134725.52326865887, 147276.44529171096, 310604.28120622254, 219909.01405472844, 386024.5252444735, 317173.5612138953, 127304.73361721987, 183638.59561712484, 77079.9888091576, 116635.35038153196, 129796.67389848467, 119721.16592314719, 197989.8801649955, 119712.32629821837, 119712.32629821837, 91219.48274365242, 204513.66951402297, 130484.20947813499, 125803.40416210564, 197989.8801649955, 119712.32629821837, 119712.32629821837, 204513.66951402297, 204513.66951402297, 98714.56992079291, 98714.56992079291, 98714.56992079291, 98714.56992079291, 98714.56992079291, 98714.56992079291, 98714.56992079291, 98714.56992079291, 98714.56992079291, 105974.56050789834, 105974.56050789834, 105016.05121795383, 105016.05121795383, 284742.39096518897, 105016.05121795383, 142526.8026991942, 114336.38537901116, 119095.86191793351, 119095.86191793351, 129796.67389848467, 129796.67389848467, 91153.2522934588, 91268.14616457451, 218188.6683483478, 91153.2522934588, 99913.05893087154, 105016.05121795383, 101738.51299073224, 119095.86191793351, 128958.36530358417, 168536.52006464615, 168019.30173055502, 249304.8638631964, 242811.1592675371, 191723.04389163508, 122089.3090655824, 173789.23361820838, 173789.23361820838, 173285.85559851202, 220692.42250668583, 187193.72928419305, 214097.04531005272, 115168.62511964762, 173285.85559851202, 173789.23361820838, 173789.23361820838, 186113.90075077693, 173789.23361820838, 173789.23361820838, 173789.23361820838, 225637.57398347207, 225637.57398347207, 225637.57398347207, 225637.57398347207, 225637.57398347207, 225637.57398347207, 173045.34022031564, 78711.55893033193, 136462.9854801441, 159981.0540655828, 130634.37682604209, 158342.00387561807, 131175.10855671618, 130634.37682604209, 159981.0540655828, 159981.0540655828, 159981.0540655828, 131941.36597729396, 131941.36597729396, 131941.36597729396, 161669.0601376588, 173286.9086552087, 152382.03329175504, 210725.62119063744, 142010.7966291922, 148481.1048358226, 173789.23361820838, 148481.1048358226, 141940.03324940332, 148481.1048358226, 141940.03324940332, 148481.1048358226, 148481.1048358226, 141940.03324940332, 154406.6244715693, 154919.2843901288, 154406.6244715693, 361494.02350618754, 169605.40076105902, 231825.53041003743, 169388.07311750005, 169388.07311750005, 169388.07311750005, 169388.07311750005, 169388.07311750005, 169388.07311750005, 169388.07311750005, 169388.07311750005, 169388.07311750005, 169388.07311750005, 169388.07311750005, 169388.07311750005, 169388.07311750005, 169388.07311750005, 169388.07311750005, 169388.07311750005, 169388.07311750005, 169388.07311750005, 169388.07311750005, 161949.9841676727, 161949.9841676727, 161949.9841676727, 161949.9841676727, 161949.9841676727, 161949.9841676727, 161949.9841676727, 161949.9841676727, 169388.07311750005, 169388.07311750005, 169388.07311750005, 169388.07311750005, 230202.85154832157, 173267.11638146802, 182163.56843391387, 215782.1353140014, 175936.83128075217, 139454.9864899103, 132834.09397264908, 118052.32911608352, 118052.32911608352, 118052.32911608352, 135520.7938620402, 145877.31172749045, 179455.91537496907, 186473.7793265805, 186473.7793265805, 188916.57990065514, 188398.90208831424, 132079.13305822643, 125189.16558472387, 132079.13305822643, 124325.67770392534, 330930.3677146048, 129475.3863029446, 113127.80451965156, 108325.86738550704, 110240.81861488719, 111663.83936199437, 108325.86738550704, 198266.9829796882, 151986.61981751473, 108325.86738550704, 152798.70563778622, 110240.81861488719, 139580.46815535112, 151986.61981751473, 131049.74361748689, 154703.32217471785, 142547.65786419867, 121245.13905005826, 164009.386366608, 141666.9192745857, 140650.35778675892, 141666.9192745857, 140650.35778675892, 140650.35778675892, 141940.03324940332, 112777.05594454083, 152798.70563778622, 151986.61981751473, 194576.45164659718, 151089.91134007424, 151089.91134007424, 127804.60649550872, 125241.58966802253, 125241.58966802253, 235935.7333416054, 150773.32700424804, 158082.8551078468, 125241.58966802253, 127479.99502862175, 124683.19716941306, 134845.35808886756, 225719.366110907, 131952.15634583854, 459382.53476390557, 128908.66121924203, 519526.564123473, 801920.7834631162, 118641.51109081201, 162895.5744881438, 159973.08707898363, 155082.8523236476, 145647.94596809478, 132772.4318881867, 159973.08707898363, 155082.8523236476, 145647.94596809478, 159973.08707898363, 155082.8523236476, 145647.94596809478, 155082.8523236476, 145647.94596809478, 159973.08707898363, 155082.8523236476, 145647.94596809478, 155082.8523236476, 145647.94596809478, 151798.46827808756, 142754.67287419614, 151805.42229110026, 133938.83888980717, 141940.03324940332, 335528.18889865035, 558357.0177956203, 1175506.5257946174, 1304468.0309439793, 497047.8863700058, 627790.161819193, 359703.1318049806, 1878690.0021300376, 971150.2385507014, 295696.1641633609, 410440.18025358906, 1258729.7180704165, 583439.9944338044, 1037600.073428934, 332469.484483454, 851996.4386460673, 240367.48702229027, 611668.2642738374, 628445.0188263574, 1815812.8080920537, 924587.2827205562, 1360179.0785146812, 1031697.5669132668, 474732.5661929141, 780557.2887224122, 227417.65050493303, 670796.8364906332, 1377546.0584797761, 1453039.5688731617, 572425.8145051923, 298661.14575663325, 263944.14744542434, 241065.58468607196, 184428.54940977466, 368507.4511346244, 437546.85027102305, 511323.91841418564, 784727.9476518799, 219730.18354648375, 448291.22781831684, 132326.29576426736, 132266.80956710037, 93775.56607619446, 210522.76985657343, 205309.4690114673, 93740.9313233137, 124450.84750776831, 136128.60817351178, 124450.84750776831, 254916.67178516113, 128214.11066284543, 150179.26953559835, 142423.78332203074, 230432.85446096305, 150179.26953559835, 207953.92631531807, 81620.97095213048, 127208.04362642355, 267683.3925663331, 500133.7245495982, 138097.7824171048, 80438.33386843489, 92373.3618441347, 212916.04230117408, 92295.35160095079, 200928.35572216305, 101723.59636774017, 152815.81016815215, 174226.28090593015, 233346.67827064617, 157027.39983996534, 101723.59636774017, 213123.56945354288, 200928.35572216305, 437051.7062706261, 101723.59636774017, 150179.26953559835, 166813.19695132872, 635362.6193973762, 280553.28192394425, 101723.59636774017, 152815.81016815215, 366774.30542926467, 137354.63542844105, 428449.47421806253, 206788.59566854258, 101723.59636774017, 310185.8338894065, 150179.26953559835, 187967.68467651273, 363428.05283676006, 79325.4922308485, 120551.22724314357, 227950.7107485694, 150179.26953559835, 79325.4922308485, 178706.85407638433, 116475.92979778856, 79325.4922308485, 200928.35572216305, 131490.60956895692, 146321.40568076452, 110142.16631604641, 166813.19695132872, 120050.77557638506, 152815.81016815215, 110142.16631604641, 150179.26953559835, 130076.08281106912, 110390.04129873382, 110142.16631604641, 110142.16631604641, 119221.71725140515, 150179.26953559835, 120050.77557638506, 326006.1086516311, 110142.16631604641, 160072.95290776255, 112459.12552452576, 118044.04202407706, 129987.53955770015, 106980.3852636133, 115190.89286208028, 110142.16631604641, 125665.34427366583, 129987.53955770015, 110142.16631604641, 115190.89286208028, 129987.53955770015, 178726.91378797276, 162279.1801739767, 110142.16631604641, 115190.89286208028, 172497.1307859518, 144981.06200840184, 129987.53955770015, 110142.16631604641, 266471.8978772315, 465405.32081898174, 115190.89286208028, 110142.16631604641, 129987.53955770015, 139743.14619207554, 130330.03290805261, 137664.6182421887, 144697.94515457784, 112459.12552452576, 181573.46550514403, 110142.16631604641, 131019.88138095778, 139743.14619207554, 129987.53955770015, 96880.30557039709, 433237.070741763, 104431.86986105464, 137664.6182421887, 110142.16631604641, 112510.61081323566, 190435.04473497593, 79325.4922308485, 137664.6182421887, 124486.8687019369, 272375.8072926042, 79325.4922308485, 120891.3007618979, 212053.90602366626, 85044.855009617, 79325.4922308485, 205456.08153627813, 114419.41662056795, 109350.80604978607, 101723.59636774017, 205456.08153627813, 165032.4420381561, 101723.59636774017, 373496.35829798784, 134556.47018351193, 113476.3704703424, 122917.30651378969, 132422.28772716993, 205456.08153627813, 218229.90169954416, 112860.11193717367, 186365.7113844214, 104917.75838461422, 119553.11840988789, 205316.05188206182, 131227.46244877792, 113372.89361330317, 113391.64427047345, 153888.0590410265, 113640.68636553481, 106638.72745208768, 114419.41662056795, 153888.0590410265, 111947.16447937879, 100001.79343034117, 169031.71405930366, 153888.0590410265, 142031.23105440265, 120050.77557638506, 132763.00549984688, 205316.05188206182, 190125.69488474686, 477107.51191417675, 140995.09230165632, 137664.6182421887, 157085.01519236958, 699876.2029173593, 128424.79960192394, 512999.52603581874, 81481.09861469927, 112510.61081323566, 265729.0356690231, 115190.89286208028, 212053.90602366626, 139602.91446993055, 471555.5398627153, 268257.63330359536, 304775.72770835774, 115190.89286208028, 124435.90536638151, 698883.861171411, 156319.8069152169, 271711.26420947205, 576286.0437494214, 154131.88679477593, 875079.1646607529, 273418.47665914486, 414746.84733554174, 127330.28376728899, 169031.71405930366, 134701.60661710263, 141650.49926228652, 129987.53955770015, 354804.97494278103, 158607.15469214076, 455084.4944409251, 174502.06814331777, 124486.8687019369, 158607.15469214076, 422737.8039190903, 171882.87336397346, 122917.30651378969, 88836.90165722818, 166678.07766393782, 114419.41662056795, 119608.6385659404, 128574.96149445655, 414707.08828446205, 112510.61081323566, 117521.38169736075, 128460.64703495053, 496692.61247047567, 182963.4784299576, 112459.12552452576, 253357.21423491865, 128460.64703495053, 115190.89286208028, 131407.100971876, 220170.82993722678, 154704.35160964905, 124435.90536638151, 148903.02660764125, 175069.8127405841, 271446.63625886966, 175069.8127405841, 164765.42315715898, 151190.4497143805, 418648.15772192104, 188555.32341864312, 213945.82577478327, 188555.32341864312, 122332.49813316752, 104492.95121880573, 118011.94951464699, 238131.92847753936, 542680.3051855521, 127908.11878903022, 146340.6432767009, 185336.4081943354, 155215.0748976374, 160119.9602659333, 295382.4346674798, 160119.9602659333, 161303.35492924092, 160357.0450095548, 142031.23105440265, 125769.14632578052, 157716.4315764836, 304476.48962718603, 155136.533465571, 137030.08687069995, 622000.0208107331, 179761.60091274523, 136088.98540290876, 784906.2333706565, 238131.92847753936, 137030.08687069995, 146819.79581825086, 118478.96051725427, 782703.2694744559, 138800.31083751522, 159840.95569439826, 155593.0455813739, 138946.625166619, 119221.71725140515, 133298.21575748362, 122016.06402790346, 118342.92846854245, 202807.7820206113, 172589.38974623987, 137030.08687069995, 118473.95154796122, 173300.73907296028, 238131.92847753936, 104391.82132379078, 571402.4647232563, 172589.38974623987, 202807.7820206113, 138946.625166619, 309191.91818357276, 178425.86326144397, 219073.25473888658, 146542.74563538714, 673602.6444028188, 136495.71683896688, 202419.41445478646, 104294.21717437328, 384131.2868129655, 150272.43753665235, 132348.47932261223, 177709.4497320496, 162790.37473947508, 178425.86326144397, 132348.47932261223, 178425.86326144397, 159489.3531073279, 133661.923205783, 178425.86326144397, 146542.74563538714, 150272.43753665235, 177709.4497320496, 309170.90659539314, 282069.007227811, 176016.56991119267, 276524.7911345963, 705843.3754505013, 178425.86326144397, 195040.56449089467, 246634.79312804947, 105130.34719895791, 462959.6636929319, 397094.7349900046, 143828.08127046117, 150272.43753665235, 235181.80128692818, 618600.054196659, 138225.5490616666, 126296.40635706176, 117352.14151283755, 1101997.7459485848, 128220.12792233145, 128953.36982096997, 150272.43753665235, 323686.0224903622, 470654.9247068915, 282546.8020395322, 123453.28274178816, 142221.41106158477, 374096.85374874447, 147991.2779037071, 112229.4828343454, 153360.2443068307, 279960.00962632964, 226946.5108292107, 284370.3126044915, 116200.87518152296, 113387.62066026007, 146542.74563538714, 156521.0698138697, 115879.80633888952, 300419.4059869022, 111478.98215875417, 100543.40021126161, 331370.2940807535, 111427.21119891721, 148087.92216835014, 189338.12977401845, 114158.69205506422, 214104.2915183028, 143889.87527875634, 123403.47662978768, 1001800.6807010989, 143889.87527875634, 481949.4530549363, 131415.751982771, 126296.40635706176, 113656.79387857378, 109302.80773344741, 128953.36982096997, 115113.34348089006, 150223.26556033644, 182819.39711653464, 123453.28274178816, 115740.01883337856, 193273.0423833172, 208578.09429699127, 113387.62066026007, 429794.1993595057, 215728.71333345614, 222982.39043890176, 111478.98215875417, 192730.5931479324, 111427.21119891721, 1017785.6811432339, 274151.6859042756, 202374.08533094084, 115113.34348089006, 114158.69205506422, 381771.8280879225, 280505.0807205798, 111868.91444709343, 279122.3773813988, 173059.5661897694, 194077.25428602047, 182079.6983067894, 142211.57692931558, 234671.52634484885, 920862.080526051, 741147.6149166771, 165929.4834741914, 146585.94222566905, 148905.83850636304, 153246.01410393932, 153246.01410393932, 155234.27480835115, 145695.78293469723, 168239.7121097555, 169825.4928226238, 168239.7121097555, 170267.87157037717, 157738.535388685, 169825.4928226238, 169825.4928226238, 169825.4928226238, 108187.33881405351, 108187.33881405351, 108187.33881405351, 108187.33881405351, 108187.33881405351, 108187.33881405351, 108187.33881405351, 108187.33881405351, 158706.08859269362, 747595.7459411942, 204523.23372800794, 195740.07189962093, 128714.77932680184, 130549.72648792886, 97877.24673976758, 111373.41089564672, 113719.09514199608, 152175.01339373697, 120432.8914948857, 136291.30629959196, 253605.05460056209, 304495.5198816914, 1100874.4408743833, 180488.23841262408, 225956.38384026528, 191259.26927848178, 141092.9170720933, 173643.52912367717, 181273.10976240964, 140864.4434697667, 138337.7766107085, 165284.00270157252, 124173.02168220034, 245582.49966159905, 123198.06820295274, 124173.02168220034, 165284.00270157252, 123198.06820295274, 224104.58422837715, 154279.25813672735, 152381.5303476101, 152381.5303476101, 152381.5303476101, 152381.5303476101, 152381.5303476101, 152381.5303476101, 218250.6620384048, 227264.821930805, 221937.7901245462, 217627.58837787824, 191255.5982435089, 191255.5982435089, 313399.95236392337, 191255.5982435089, 152517.22053199977, 152517.22053199977, 191255.5982435089, 154414.97955722013, 324834.11603412946, 322401.2707762178, 191255.5982435089, 317089.8303128878, 164224.8089648916, 158997.88158974441, 158997.88158974441, 164224.8089648916, 158997.88158974441, 158997.88158974441, 164224.8089648916, 158997.88158974441, 158997.88158974441, 164224.8089648916, 158997.88158974441, 158997.88158974441, 158997.88158974441, 158997.88158974441, 158997.88158974441, 164343.22685366063, 158997.88158974441, 164343.22685366063, 164224.8089648916, 164343.22685366063, 158997.88158974441, 158997.88158974441, 164343.22685366063, 164224.8089648916, 164343.22685366063, 158997.88158974441, 158997.88158974441, 164343.22685366063, 164224.8089648916, 164343.22685366063, 158997.88158974441, 164343.22685366063, 164224.8089648916, 164224.8089648916, 164343.22685366063, 158997.88158974441, 164343.22685366063, 164224.8089648916, 164224.8089648916, 164343.22685366063, 158997.88158974441, 158997.88158974441, 164343.22685366063, 164224.8089648916, 164224.8089648916, 164343.22685366063, 158997.88158974441, 158997.88158974441, 164343.22685366063, 164736.6048983625, 157291.4254106201, 157291.4254106201, 164736.6048983625, 164343.22685366063, 158997.88158974441, 158997.88158974441, 164343.22685366063, 143567.15024492628, 127560.84746447207, 265399.8581578385, 270345.08665362507, 141551.3436745639, 160536.29807375852, 239918.34324887634, 179484.67253988897, 110687.69693620676, 364948.4048137007, 95509.44551277699, 90205.85954172873, 174311.05622881703, 184018.4188599334, 156610.21978550937, 279334.37445792416, 160963.59972169227, 112048.9301784478, 123024.09574358817, 165695.06198612778, 160458.44875639092, 149811.13665094183, 115619.87624957567, 292533.30306750315, 160627.20303101643, 155919.30077326257, 209644.65481629016, 230581.7257363454, 155919.30077326257, 161347.75548847523, 155083.86015732543, 135017.94546345866, 138790.06167773233, 165696.68358968513, 165696.68358968513, 186451.27506185358, 83392.72254615974, 187472.26269338437, 124194.48061501759, 1277068.3506040631, 86886.67487110333, 259895.79800563905, 159224.39760948406, 114949.39505871113, 243398.26534870442, 130212.73164678577, 137059.54735885074, 195813.8775504065, 149823.9320283704, 163541.1108729235, 302952.186118538, 203069.9927736061, 168547.82714710795, 111028.53073575629, 114503.40879910396, 201102.80898193817, 199425.43975793567, 365510.6605528347, 252493.67369513374, 316963.522378622, 282726.42732979596, 165272.86760435472, 190761.65803502465, 376021.91789454746, 362905.36113355897, 424776.7025370237, 379232.6069520184, 372321.78186083084, 197824.93558756646, 464351.2551407894, 86141.86543526115, 220395.99512775976, 166445.79002961869, 288688.32137500163, 220395.66412130074, 290432.750988941, 179998.63044904266, 161650.89151547002, 184851.67854596436, 247514.40445358638, 172048.41910017372, 124039.21652460522, 124039.21652460522, 124039.21652460522, 124039.21652460522, 124039.21652460522, 124039.21652460522, 479795.70680975495, 164865.65411084835, 181172.1050540132, 205875.80684430175, 214059.4541857062, 161937.98879774497, 168771.30353730454, 157002.03355215554, 242697.3327334635, 198646.6606574874, 179998.63044904266, 200158.19233566945, 267457.72233212437, 534603.0276636437, 93722.89586790407, 403462.182454731, 229734.85014326213, 185555.21630646934, 163717.5654729557, 258432.81959171107, 91104.64066149337, 203869.96963702474, 131630.67965937342, 202293.91728558042, 1576178.2508579073, 182427.1000242332, 238216.97037937658, 125684.07010649031, 251431.8152945681, 215830.36783870112, 164671.2354211518, 144698.63886666714, 206661.19611176325, 116918.42322157255, 139524.47281973908, 198298.8468022633, 175488.09734442737, 135093.44581461535, 69905.26539331651, 235991.26652420626, 71094.22742760758, 130398.52764354175, 116382.81721464328, 114174.21615969347, 226081.1981364987, 226081.1981364987, 197163.01970473694, 84102.57418772751, 171537.68830149097, 226883.35005487193, 165810.38096970826, 125100.52083085125, 132252.74635728565, 165810.38096970826, 156483.16355538118, 165810.38096970826, 166650.0172361092, 180319.6342642304, 180319.6342642304, 152060.8128595042, 81872.17893983041, 178133.32724488818, 211910.8145961143, 220229.97009481606, 211910.8145961143, 198220.75179766657, 88451.32612646153, 140843.16143849032, 132347.70088847182, 115237.29613932004, 173552.47710538743, 175594.6730673643, 210223.3797411142, 196253.89431996757, 281833.52997152216, 281766.903605029, 225102.01410616643, 207278.47572689358, 131390.4557431979, 117743.82640577036, 127725.9616388015, 330043.7891915041, 205660.36989477943, 170047.13512235435, 206735.01273453524, 240792.2519854827, 308565.1789763107, 301528.69455940777, 139340.12903339675, 136905.96304711347, 248478.024705269, 109361.78640014309, 246542.82369826818, 155742.50066708445, 161284.72353129275, 155742.50066708445, 139340.12903339675, 210223.3797411142, 232332.99469627475, 140952.89570478315, 103564.1667748957, 130073.25681248869, 243233.8398618563, 136905.96304711347, 180279.1415533719, 144353.67565461202, 185003.91773201962, 171453.5779886741, 161284.72353129275, 456041.97867204284, 115466.60338695321, 152683.98805412327, 179389.08845842746, 131338.45581529444, 118928.45566044276, 243916.79451061913, 154268.47645217707, 155742.50066708445, 139340.12903339675, 136905.96304711347, 166088.69599130235, 286404.1040210678, 161284.72353129275, 155742.50066708445, 233066.96067962004, 136905.96304711347, 161284.72353129275, 397962.0111443037, 155742.50066708445, 139340.12903339675, 136905.96304711347, 163282.15938364534, 253372.60535277842, 330515.1737345805, 155742.50066708445, 118236.85366392619, 136905.96304711347, 139340.12903339675, 155742.50066708445, 138920.03300647583, 259668.49023588386, 285556.06110178167, 159791.05777899807, 344290.75723715883, 558723.8426899407, 191509.90521433833, 275258.65682179027, 164403.37766199023, 199075.83403258215, 125571.86153046828, 157261.75405670685, 206188.71683770872, 142479.18893415283, 113300.68951311195, 237929.83533915135, 161401.45233459628, 276671.1398679644, 284832.8567989019, 124015.10177928631, 153922.8118654936, 424333.62121867447, 107517.89984672714, 164372.82487857316, 247648.88827987033, 187833.34222964433, 131584.54068531268, 504913.4506691989, 504913.4506691989, 504913.4506691989, 81018.47688415737, 92596.93924522365, 150584.6993523508, 99709.63522975404, 148854.39996972747, 178223.319899968, 164231.9134487143, 108465.28251578836, 178388.93134873267, 141362.03343746497, 270685.3821938564, 176267.6571461184, 192518.61025631786, 158997.88158974441, 178319.37625136063, 114163.70419093486, 210981.68530034384, 287642.84129768575, 211712.67127974995, 269317.7234139098, 129658.53274570676, 83472.92131165232, 237905.66726138876, 138320.23601823568, 147400.9395625392, 184302.80744290797, 288644.28782990994, 906333.8790778083, 906333.8790778083, 175826.84310170825, 224265.1576017383, 165681.29314980563, 219321.92882557062, 147312.9505452028, 213839.18892484534, 256339.04934791639, 288242.6803119808, 204012.458778352, 348923.2105102927, 260422.62969976553, 389656.7426230223, 282442.57690493437, 436469.4271138904, 271721.69779708935, 289966.9906589404, 262114.67054925187, 202799.4837019925, 252451.29382687077, 243250.47642201075, 221251.09018244327, 167330.1061583832, 499560.2599760521, 158604.2843576017, 594493.0888281822, 89020.9512510551, 160495.9885911855, 165368.57999519544, 127129.517057958, 108853.34489475758, 128232.85907382544, 196624.48373547228, 218309.90650122068, 153003.5691240696, 147342.83495665528, 320034.009140999, 133534.97618774846, 211713.10384616602, 320914.7003509719, 331761.66544280347, 221658.30429910542, 129495.05113351229, 189256.505437456, 187358.7631271396, 263692.82417698065, 148316.41057129146, 144065.8257952184, 214917.93477709228, 103409.31859809684, 90755.26134360871, 99162.05766579005, 242647.47444417805, 226756.56880314666, 143265.55316241647, 148492.09466546308, 143022.2982161048, 173810.5228972279, 148492.09466546308, 112690.57967828827, 225349.04077752001, 144392.9103430426, 1081144.837807203, 108176.78892029802, 212839.51855491236, 423773.17215787835, 224539.312581194, 412853.9519002217, 228184.0754541474, 354067.84689461987, 390626.6785111525, 190339.07855209277, 298034.8949803951, 213943.91641466666, 636176.1679503655, 280137.9784430875, 150135.46824223798, 457316.04548843275, 227257.21066538192, 166863.00212776256, 163311.42779879927, 155182.54012865358, 204026.29758105802, 85317.16616504034, 601006.2344251674, 413066.7191086419, 159075.68429021304, 233028.36720846227, 143004.10485116174, 142335.1444912455, 151303.04435859132, 286336.24552334414, 2093511.0805118093, 155263.5410269452, 349384.11635799723, 332037.61502444634, 164298.44206246047, 201539.76305802196, 219770.45847585372, 122982.14289754193, 82233.73403028632, 114169.96762081134, 114169.96762081134, 109660.82368325526, 255723.11766508315, 132768.58504559912, 77670.9002641326, 103506.76508490421, 277753.24567050976, 326897.64216621255, 211764.45113684848, 122676.20257194966, 324520.40344193485, 113378.60841980888, 126488.08577033272, 267169.4874824813, 213058.08928103265, 192130.15102092305, 172007.4659972055, 287194.62424865994, 116017.68206342481, 234691.92545298708, 218199.54907792906, 172701.90495136156, 99451.82643078611, 149142.58581407898, 134060.49753776705, 195191.38523995742, 196769.83499673993, 211891.87924006357, 122558.41118817468, 291637.9841036962, 176489.28882261127, 346144.9010770086, 186893.44234108843, 144483.83122525015, 121072.6382646095, 357967.3949962761, 93068.56048440648, 286989.8528493233, 238728.9163778497, 133972.29956227157, 470717.2380330704, 161978.6935539071, 317475.3813857578, 85782.0265658516, 212742.5234279128, 284151.985526779, 332860.6849796055, 240381.11944768886, 216977.9508465823, 90662.72543489854, 112060.35920796939, 134806.9792873217, 331373.460328152, 156464.04798987313, 427662.17261621985, 144096.4271119655, 125770.74698363533, 170783.5659020756, 129454.83680395607, 127285.36934905121, 182886.30428569426, 254735.0989907562, 147731.999383991, 265250.78804738476, 262868.43053238484, 301193.42131097213, 217978.2047178725, 119710.52544066787, 193920.37238532814, 453896.89493854955, 216592.34523778266, 177902.86288665107, 177728.05701365, 153349.55656981998, 123510.19798166254, 206006.78647493545, 80564.16513949932, 111106.02862212597, 196495.6730551698, 146506.7822169317, 386842.9677874485, 208552.56686779356, 322531.2169602972, 157882.20442399802, 157882.20442399802, 159951.30832808453, 182921.79383878614, 158079.92175761488, 157550.4282324034, 151216.35146856715, 157882.20442399802, 157882.20442399802, 157882.20442399802, 157882.20442399802, 157882.20442399802, 159951.30832808453, 182921.79383878614, 158079.92175761488, 157550.4282324034, 151216.35146856715, 166005.22603726957, 196905.29432335345, 207156.7518783923, 161654.3546132009, 207156.7518783923, 207156.7518783923, 207156.7518783923, 219352.94715119142, 199221.1592068322, 197930.09302746455, 197927.63339669336, 201355.1779303527, 230746.75029684603, 260948.6547717533, 171387.62910126505, 285159.458652672, 362841.82190769404, 276676.29315323784, 179277.65161467018, 234625.67499842175, 292167.89259101136, 952237.9936708001, 1106359.5730763613, 1106359.5730763613, 952974.5740260293, 952974.5740260293, 965348.2630184724, 965348.2630184724, 965348.2630184724, 965348.2630184724, 952237.9936708001, 952974.5740260293, 952237.9936708001, 727282.2326168941, 727282.2326168941, 952974.5740260293, 952974.5740260293, 952974.5740260293, 952974.5740260293, 148269.09891552685, 80280.26929187696, 207478.96143207746, 162854.90057208226, 156919.6666308443, 274147.02429291734, 420020.6114669399, 194228.18369554484, 212862.86615445378, 625306.2859209013, 208041.6032614942, 150895.55803643953, 241903.10606830328, 581776.3856482098, 181579.40015396365, 440559.7419295632, 272812.0694312069, 356967.20580279245, 666953.9207181677, 343155.43767727667, 317699.40445515176, 2723277.013019347, 198984.58348918203, 189712.54058366313, 189712.54058366313, 117205.43353747057, 200659.36946372734, 140640.34493011466, 204876.94912622683, 204876.94912622683, 141124.36255157756, 87691.89179145111, 263651.4844865503, 739944.6998873265, 434232.1762822671, 284373.8755950716, 221400.8739570872, 201214.87947268656, 197084.28059487056, 286102.89855491935, 140095.22591806477, 355223.51915214513, 240578.25046448247, 142177.57878617928, 89126.02872446334, 77150.02252283573, 156060.2633494544, 307401.098794369, 478764.277406643, 331362.28273318824, 340294.30475456466, 180324.56618773204, 219660.37288970003, 196967.42695094732, 142591.3654436948, 150170.35101457764, 132696.0727058805, 208002.71290131236, 293951.0621027303, 101366.75334696395, 122038.477321815, 180917.71390527912, 161842.24287276505, 233259.2341381809, 552387.4677282649, 270772.8863576773, 189070.97867838817, 341854.7961825814, 245769.53776165747, 238372.71320766932, 90428.49853312992, 135293.380158303, 204952.92212554516, 120551.97399735369, 165871.13276422856, 145466.8457881917, 215890.0858698571, 126239.2911808205, 519897.0865361095, 289905.32853273855, 267728.86439964303, 376318.6374129019, 418502.58515759715, 168028.95861454742, 231935.5816037271, 170408.9308186785, 95124.09232117547, 145752.37273722462, 254636.80541203934, 209596.97431955024, 204537.48268618836, 203930.60759649257, 395826.47147309437, 199714.03620011665, 193897.64871361948, 233545.48787192366, 459557.709443767, 337961.89553197037, 130183.02893149244, 456129.6311355638, 203927.20280109753, 464061.67118669045, 176725.62620033248, 441778.2414222435, 117186.85741728972, 133423.35537439902, 183375.0944197806, 412710.8579999242, 188278.31037266427, 304711.8812223122, 189944.80663661959, 129784.3144390209, 244077.69808563954, 451411.5471146796, 198962.6030259856, 155948.68196731686, 109257.36966668826, 157531.76291851024, 178560.11378271505, 156646.37457632556, 248207.76911305467, 165853.16049943652, 180969.8944481933, 309488.1467762124, 155617.72071014432, 263975.74055562273, 172562.82412664106, 293954.3229815208, 208324.78924204226, 165224.08891176098, 152660.39877294516, 161045.70383928358, 120135.86017202339, 226743.27930376548, 223947.68144369824, 133530.40283758438, 140263.29510529587, 139834.11915436143, 90451.155546958, 140184.1148545897, 138883.2673664051, 333756.0920980723, 162985.25036051858, 169784.67865791358, 260543.78301622812, 178687.69280664003, 140142.98282730946, 141018.45399594458, 141018.45399594458, 137832.25143076945, 81976.26643869944, 355053.41492674785, 121851.91164900026, 129207.47018516058, 154249.54775777337, 222688.69133677086, 178969.50953866143, 165346.62742865778, 84702.73234865986, 105878.39669468542, 88868.74549870098, 180359.01182821678, 209972.07046827147, 249365.76270382034, 201178.1521231416, 128929.8955159604, 933814.9020772293, 256527.98706477685, 250190.60658908857, 209999.310453351, 155902.99879702137, 294195.2504104739, 420669.0225418124, 427174.1716247144, 133392.0488631304, 309262.58148788055, 148384.0490527292, 223595.8088492143, 547410.9907340759, 229244.10732420662, 187250.50781383095, 157169.4581221481, 210290.0574522519, 81579.41495107557, 136087.38205648318, 140204.76561230858, 193706.0508870486, 261365.39615367434, 139338.41300417404, 330138.9702287533, 143655.9802030855, 124363.88119799164, 152332.65989383904, 1271105.2175912093, 159829.60882152652, 132117.6047912723, 1106985.9902520734, 294168.8381342327, 114031.31426490238, 256665.68492186855, 99276.10708351425, 79942.61570705153, 93623.59906587133, 87277.62420289646, 216607.70082899227, 211699.32568071256, 175804.55315452843, 164178.9596826001, 160363.66187122127, 188676.16452829615, 169373.19801012304, 160496.16604525145, 133094.3549046125, 214833.1954763817, 364708.3881079274, 133477.0677041625, 244196.7808541193, 80765.97710891685, 109771.65961601984, 169360.7201856283, 175855.30814194333, 547983.6662310839, 435936.0046167499, 236243.6091549192, 258686.95744273043, 455853.3921156308, 96166.64040071127, 205752.45997764263, 103100.45218826385, 413973.7368796542, 102485.56438150973, 243124.30588371772, 178198.7770664451, 445553.222278908, 93461.03430251653, 240820.41052523302, 236066.7649811028, 99933.67297584233, 126767.537428195, 253299.54003554682, 606885.9739000582, 217767.39418196667, 985424.967249672, 985424.967249672, 722431.33025393, 722431.33025393, 945852.1495595365, 945852.1495595365, 945852.1495595365, 945852.1495595365, 1104691.6982059209, 1104691.6982059209, 179216.83549096464, 130673.7470365248, 172452.92086406908, 162483.36518094328, 190176.39798832743, 164632.72499067007, 211257.5775257774, 408570.0566133597, 213401.64247373524, 195752.93244222703, 200288.32372362082, 452380.8806183073, 293759.67147611623, 186771.22435355926, 223164.21705381817, 140791.0417437711, 166974.34572262905, 243616.77241539457, 137287.68420756963, 128553.80322001083, 129353.89583569503, 129353.89583569503, 129353.89583569503, 167087.53437620075, 184073.21732924724, 351924.7243817948, 125249.65086314414, 241322.3760095244, 218596.685265928, 213401.64247373524, 179216.83549096464, 167272.20065499505, 123752.2289404512, 166542.6102964313, 123329.22021640708, 123054.21244712209, 180489.30694954874, 237066.5954518997, 264002.82664316933, 196599.213495365, 145394.88294006052, 614142.5645155071, 251342.58033021464, 166484.62891865184, 200935.136818486, 101456.70783330136, 163668.26741409325, 143828.67081176117, 84988.98697789351, 172077.150655573, 246590.9983038153, 307336.53331831016, 186795.2816459606, 147367.86055073552, 753143.9794464912, 174949.61566295425, 136972.04807365406, 311438.4655101666, 481663.1190451154, 159374.15699566778, 225068.05059095603, 459251.72875822836, 143734.7737669502, 421142.64337344415, 151015.9236999558, 97911.61468654887, 247192.0089866574, 286890.1725149648, 132856.2045710487, 126642.29881822402, 225458.53147035645, 266028.3833687564, 198406.03932501172, 302278.2906800976, 258891.33290356965, 152500.34012731115, 142862.53473930602, 158389.50589779406, 216526.25435451485, 141788.3778407731, 284282.44458467775, 280456.20654163335, 202341.65980145265, 286431.8637726837, 220164.50890313162, 267841.35571734, 110981.89033291931, 121066.24938128788, 253944.38896164502, 787087.2033666325, 119029.74952367981, 120546.90363469673, 149039.6119564451, 115408.20371655378, 109254.44679544211, 164634.2125936859, 177085.23941384332, 255459.4073323803, 150584.81397006358, 252891.68532112887, 210779.09427546753, 102779.1556371006, 186862.42174025945, 378940.860658908, 93463.46074453348, 160234.1478906622, 149207.63475052567, 89772.71655216542, 93463.46074453348, 235944.7047512774, 253344.72728849624, 301920.14211086894, 171290.14510481432, 166823.6768274139, 93463.46074453348, 138990.3332911527, 103956.3168424679, 78877.12426413604, 91863.91527649784, 177063.23647986035, 119227.43337066774, 291663.2673485178, 90969.12826559084, 167656.2564144984, 171353.79689233066, 349851.4072797522, 260210.54849023384, 380972.8297679202, 93463.46074453348, 93463.46074453348, 92539.86053964932, 89831.55619811258, 288021.16961783567, 152619.28647717042, 291596.7352254434, 139481.2050505761, 91648.50802878702, 77402.32038929447, 192325.70489936328, 101446.29296362512, 77402.32038929447, 141640.04450711896, 97459.14345330698, 224874.83786735358, 126869.63617184956, 133330.11259005446, 182426.73842943384, 189021.5011462642, 184910.42519852592, 92711.69813080906, 118404.84399167424, 125313.00718588868, 378519.2809881931, 189834.33698081074, 102779.1556371006, 102779.1556371006, 80265.38188638573, 105351.0770791624, 123625.88484360164, 102779.1556371006, 147100.64103801083, 168637.46729702732, 102779.1556371006, 102779.1556371006, 102779.1556371006, 153146.65759196557, 109326.67598208583, 131376.52970785985, 148093.98388672405, 116731.32702564404, 156882.4006763643, 120937.1148518731, 102779.1556371006, 243263.77591753443, 158961.24139062554, 87019.66315857804, 112509.57050324549, 175432.9597073944, 92711.69813080906, 134204.21646425145, 135143.66446796377, 125472.91762328843, 141094.66219439515, 137767.5562534873, 189128.13257574796, 165024.91906868655, 166354.2859891121, 199130.11188638431, 361044.415742786, 165570.68428777182, 95752.010774006, 82095.93605314338, 82095.93605314338, 252458.8964419776, 120458.73598604734, 448260.4273622121, 102779.1556371006, 223082.2151599563, 102779.1556371006, 102779.1556371006, 102779.1556371006, 102779.1556371006, 90606.88030026587, 132336.01278378707, 215696.9773461424, 90901.66060055958, 259294.08443224707, 547998.8349854498, 101581.97862974415, 89769.33911796263, 101581.97862974415, 101581.97862974415, 101581.97862974415, 102779.1556371006, 102779.1556371006, 102779.1556371006, 102597.88790124818, 89769.33911796263, 215696.9773461424, 181128.9138472778, 89831.55619811258, 290680.00695621374, 152401.58113693222, 274673.1676567165, 111875.17096990891, 186354.77925842468, 321236.4505951819, 87823.63667985339, 138990.3332911527, 297578.2576789361, 393884.8159762148, 89772.71655216542, 145564.6099495411, 122137.41351339893, 90901.66060055958, 244278.0092671476, 106794.22417615168, 374477.6455871669, 139950.51039227727, 169766.1840321899, 107285.3926564955, 136033.3172754846, 109396.26107404275, 170730.77362499278, 198772.44788776076, 102779.1556371006, 148713.44192192802, 116283.98978229114, 124805.84887213277, 424020.4451287049, 144603.40879295542, 278076.0142054352, 116221.37368982153, 113072.97177550208, 169073.70075075753, 104554.0477885668, 108724.90402953286, 180266.08704838785, 338399.02221291437, 86826.18718347553, 159976.05217533023, 145884.601200236, 280943.1777043302, 200618.001778504, 119227.43337066774, 112509.57050324549, 112258.65425739059, 209312.3182944536, 145884.601200236, 102597.88790124818, 238622.35162126072, 149016.65759913757, 273702.2670514895, 139036.32040215484, 190923.03592466825, 102779.1556371006, 103415.56552061277, 92711.69813080906, 92711.69813080906, 123625.88484360164, 123625.88484360164, 117440.99623070366, 111044.15749281927, 102597.88790124818, 547998.8349854498, 183976.2200967988, 155630.70433054247, 87138.06715816294, 108410.13149919061, 108410.13149919061, 110575.6371580417, 262618.1830797703, 107669.61818093769, 132624.77591536954, 169424.04640579325, 132716.95830679755, 150089.42983761773, 206895.41890051548, 149971.55881987978, 199330.14534725458, 163618.39764697483, 163135.07262536624, 192947.2256993037, 294962.99127922097, 349702.84892188833, 112479.58797039886, 112326.87395524795, 89126.10810062318, 146058.95857815896, 133559.3945868526, 133559.3945868526, 172561.9805881145, 160812.78187797096, 122909.72664672055, 165588.42350856465, 90448.4435480458, 186037.48574001467, 86529.30726967097, 124207.09745039447, 140841.20190543853, 104302.63539542501, 104302.63539542501, 226258.75541573294, 226258.75541573294, 245903.19795397294, 245903.19795397294, 154704.6045421441, 102862.2882010723, 90448.4435480458, 88669.94563128758, 237181.7625796601, 163390.8568715735, 239013.52975753907, 146559.08068424862, 229003.2233581409, 150842.86059065198, 403609.9425031572, 200698.3315143862, 297917.1766650627, 125741.00210600102, 126320.9704530919, 126320.9704530919, 123625.88484360164, 164719.70040708387, 452023.7507967345, 151206.64740284084, 167387.96057077538, 129907.49602908088, 126320.9704530919, 175941.85854968213, 251991.83600316482, 134652.70785754544, 188519.83088758134, 107566.33797315121, 219418.0509525718, 159296.90687892004, 195854.2855430605, 92915.82641034998, 93659.63478330654, 114518.69714435501, 141146.96906921838, 235225.53952003596, 156514.63454584387, 176328.88775627897, 82206.38462869952, 174487.78678704184, 1391001.5885293859, 492227.98754979885, 443893.9379527649, 401202.6687629278, 229323.477106779, 829439.5947635783, 266048.82305823005, 256296.2692626596, 240549.42617899034, 132232.8880101405, 271275.98565396486, 231935.96972780343, 353997.99538562866, 232680.29251167478, 360963.06434739404, 166805.36906064622, 483221.58582663396, 2721201.7277288637, 200035.01432096498, 406494.96858461073, 335596.6939840683, 133457.90115539794, 221544.00859413072, 147273.91140196598, 166035.48650025245, 197279.5261361183, 295825.8200627111, 115552.66476858004, 237915.7902064125, 238343.98261257337, 662619.4078567553, 201529.3451710886, 249532.52441911522, 425178.15552123624, 269068.0166363914, 359856.95315411774, 335596.6939840683, 237044.85093178143, 941707.6929375452, 274476.0032865355, 201033.69840730936, 193397.37551944202, 424252.0193885206, 158285.74385140146, 141536.8796436779, 537912.5423491905, 145040.55024973516, 655511.6525489043, 148322.80113223055, 148322.80113223055, 315908.9669777976, 474692.2802420674, 226252.57193900348, 142452.96959480134, 123081.44152067997, 263474.4056055942, 200938.23642446636, 142692.3745448338, 432032.56436278456, 295662.57401860866, 323787.5273422426, 219480.47821274327, 106489.99775346872, 302432.97155830805, 229182.65919614103, 533386.275126753, 211018.97526947915, 191163.82672175192, 167322.4821108952, 138212.68957254768, 168501.45751812216, 131382.2755398422, 240077.14068848963, 83884.24609046163, 150809.88220492232, 227465.7846845217, 309382.4376545418, 175418.05429686618, 314547.4081435752, 151940.02209605786, 211398.30514547075, 123730.29197903266, 498740.2287876713, 205853.5813101009, 148441.26215488336, 94705.77534453312, 104321.63366985883, 139138.50327106396, 197356.13060374427, 235456.78922595634, 130885.33015221944, 190605.5925370321, 159695.30237311276, 161991.98242678726, 744064.7090121261, 713842.9542501437, 180675.39535842778, 256769.4146814146, 152290.11723341024, 163530.8418544073, 185731.37131361756, 82915.90845382557, 161968.60149401368, 292580.6671488015, 183039.56924390997, 224666.9368197925, 583674.4516460237, 152199.23204062867, 209439.38321761362, 199346.6204677644, 114072.16824432526, 190944.0548783106, 123274.56272598798, 173514.1522822209, 177288.49843306438, 177963.17210738434, 255606.4637308155, 150248.71573625092, 207677.83562211896, 124961.12992590619, 207186.35036678158, 802583.6855578709, 365860.35337330203, 173667.34575999703, 340960.47048446554, 120762.35844658538, 257164.34801630315, 98796.08481366199, 107032.5457751883, 112219.41338090964, 574826.6280357742, 144191.36928902348, 267508.00828069553, 186239.91523435293, 1102776.179580358, 220603.65242826642, 91906.45609545239, 233286.41129009478, 275219.43960858963, 212280.70164788168, 159739.11275919876, 90970.62922395658, 153376.92083354882, 275052.72723016544, 950008.8526857836, 319824.19287352636, 568782.5000363635, 460685.36370918574, 219585.7772944547, 188898.63491337537, 187083.7171947934, 210177.9965253855, 189885.44239950684, 399037.0004774666, 192978.977858333, 352736.61208149587, 151668.94537287828, 146868.56345713322, 152925.96522169324, 232524.0472244644, 100339.27417511484, 105777.59312581312, 125544.65659060847, 269983.5129699423, 153790.9998793336, 178414.85884997447, 175552.08595374087, 264056.2021514749, 1451948.6483700715, 189115.24511009367, 327212.8011964141, 314904.39593943633, 127763.65055522848, 213153.7920911371, 110368.8742963824, 69398.40806009922, 93818.67747055288, 87888.08368989156, 85825.24310023361, 164486.38109578777, 419834.3579293026, 129371.50179219613, 357659.69858632673, 130510.13620456192, 307159.4308059078, 127145.81840859685, 263933.32524612424, 333113.91689123516, 267200.674095226, 140142.18822354067, 264313.49633150536, 166924.46580305017, 135356.31486510078, 124121.38308683636, 81833.79529558096, 137926.23833153665, 317476.51381184044, 171779.00229370443, 171779.00229370443, 171779.00229370443, 173355.61315456353, 169235.1514030755, 192105.00596397163, 207531.4299819957, 177365.10561240156, 168639.7807273817, 160775.40281839517, 211914.41396981786, 126796.40478234297, 126796.40478234297, 361000.23902043194, 161364.6139482663, 278155.72181177314, 220487.8835049965, 125075.45149732304, 216626.32480298687, 267711.12241082627, 290850.62804139516, 256640.69404180974, 129846.63561155734, 135074.55888655648, 204674.1123622341, 453535.8720359119, 147927.38015542683, 125833.91763758985, 125833.91763758985, 131864.83275793697, 153947.58039395214, 125778.20330376341, 188335.20047105697, 323951.4739927371, 244970.2238809255, 419532.8314433599, 211560.96359877117, 223191.9840737047, 222940.99798405962, 167253.6261391799, 224490.75687128736, 157726.36743793677, 217807.091480241, 173369.06737243937, 139972.99544624457, 99837.56911704903, 132981.0157885478, 939667.8191869777, 151308.38220324847, 149895.14647091727, 337721.35167009087, 85196.9597316988, 171828.69525355205, 155341.48497026856, 155149.13080920157, 458760.03037285915, 168257.9496514853, 355512.2730350567, 145076.4440620556, 145076.4440620556, 167208.83032584222, 227941.2497085555, 167048.10109389987, 252498.55369578322, 230682.54828405468, 171274.30782575067, 175052.65128306113, 175052.65128306113, 175052.65128306113, 171274.30782575067, 171274.30782575067, 171274.30782575067, 171274.30782575067, 171274.30782575067, 160267.5745367884, 160267.5745367884, 257190.49037952718, 200949.51614329178, 741376.784936429, 185287.58329609924, 161184.74458942225, 151835.19103757973, 161184.74458942225, 134515.24886176368, 171359.12614157752, 145787.29507027016, 198258.89319812533, 161184.74458942225, 161184.74458942225, 222446.5370734437, 120099.78677962141, 325178.12272464077, 362960.53141300543, 295809.9425167855, 318581.3776415549, 136599.18036469736, 202709.40836731007, 174245.65199073232, 202520.3254990614, 204616.1462795484, 126385.45962222741, 140794.76914025328, 183421.01505838087, 183421.01505838087, 131625.22816366464, 317772.3986476925, 243440.38198290183, 267899.3632528109, 260144.58466229023, 284608.13196807913, 124687.51193950097, 261414.80044693546, 249167.34439866885, 247548.42605840243, 198070.8583175524, 281264.62614298775, 418721.24095799297, 171320.6693123121, 242399.12012608472, 212550.6775845723, 233922.5371531092, 515446.9783899619, 227791.26883237076, 111360.3118445976, 195816.67825521884, 237339.60943331668, 237438.67808589857, 308719.5766271828, 322277.4000081677, 197749.74558328258, 138793.38811107713, 150399.87462660365, 247548.42605840243, 461132.37094496033, 276632.85971776186, 259316.74933637987, 184148.03074416923, 173683.95093832313, 120038.43403641708, 220801.77960265017, 132381.34403370894, 134007.72075576044, 134007.72075576044, 136061.65881950626, 151433.04070018188, 157182.8975516972, 205421.50269960688, 222319.0544929406, 220207.28193723178, 183150.09244602761, 356430.6642175216, 434636.4637948867, 175000.91460892727, 125804.62018260107, 248458.94603259573, 1055279.7955581401, 151898.35565715766, 684734.8389379577, 178786.28266324173, 79747.49224658275, 89377.28314523608, 162407.33460624126, 91117.29084514205, 104160.05821223278, 109070.75012799547, 357901.46341821406, 126192.23077525094, 96976.78200284894, 214398.11391448998, 168591.58504050138, 142404.3474656616, 263379.49652869557, 121271.02095346345, 392484.7258654314, 128045.58721726178, 131261.35099379753, 128365.6260144948, 211349.45398500768, 104304.21970623033, 107132.67535009187, 259762.80739095618, 80603.94909644863, 93581.5867984778, 109749.8827404615, 228958.0897029571, 210583.71991374475, 444369.0132682184, 594002.1337475135, 437082.737792757, 179179.31775938615, 134237.7875367467, 170402.3733355549, 234299.21202220637, 349725.8042009364, 169093.80132054602, 208269.93642839493, 399414.88190457306, 399054.63213158963, 383923.8520826318, 399414.88190457306, 178587.98606418067, 178816.47108190728, 194401.35149117548, 504921.0664217862, 154756.40875266824, 326000.0231030268, 152077.79671091936, 114749.2650001857, 357391.7352478159, 113785.19686485168, 183421.01505838087, 183421.01505838087, 218903.33545333715, 215004.41928433173, 162394.7372976619, 202872.37195737683, 193316.12564982628, 218881.15599449145, 396524.27376971213, 251426.15531032503, 141739.62861824431, 253267.7335107815, 176538.18798382132, 291551.3990945561, 229255.21929020862, 1050212.3420158792, 180699.9127908183, 179580.73831325248, 141680.01968661367, 170237.76233449247, 131398.038287612, 101154.49301980078, 125730.95120255533, 157403.57729325228, 199071.17089244002, 212497.18767580704, 165249.89217607048, 133813.7095397607, 162052.9857346291, 242897.5760461659, 195134.07809907838, 157490.24882742102, 75020.67148260766, 137612.35883365734, 95818.59423028657, 95818.59423028657, 202022.89943212646, 177509.01775730873, 131896.20850015333, 136621.81531146873, 201782.90526289854, 145844.47368533054, 152271.868043195, 266665.27577312366, 266665.27577312366, 387451.3018140092, 170937.88704890315, 217114.72948243964, 190731.73151318263, 138701.0977186426, 130002.17773626788, 187514.63583256802, 237662.03288575984, 141439.14635836217, 234466.17686485365, 178947.13623573942, 132308.9339764389, 209415.96468032667, 355919.0178069237, 199428.19078419186, 256210.26378478642, 156866.09801382455, 213923.2099290622, 155975.65494339963, 394779.2939664124, 247698.2253976943, 572873.7064188886, 220729.39418724447, 181018.03258105385, 515896.1259276908, 177765.71894652848, 295110.4569971112, 489258.4886098059, 489883.55804615596, 190730.34138843353, 198728.12517536365, 143377.39024990596, 165343.25238184544, 277226.77550397936, 371853.76516296575, 214093.54376801843, 251500.5820731839, 229607.1550227113, 136563.85439095792, 180548.49372488598, 182092.89127576706, 256264.0456464736, 513304.4843366001, 242979.83670035968, 236222.28354849163, 145524.5632641826, 844212.0868472029, 725058.0242184212, 208005.5791282267, 612127.222271264, 193745.37531373277, 372901.49091739906, 605218.9100523046, 458528.2525034869, 371268.34449050453, 174880.04326376598, 172555.89789915193, 82911.49011302879, 263705.20221641264, 229006.54699464646, 164819.74583469093, 85571.06909420868, 169722.22273820214, 159553.61933846274, 79333.18013787027, 185304.97614519496, 234994.64889761512, 268195.56857558637, 61175.93239217218, 121369.34299134971, 776500.6945499438, 146321.13451550482, 210284.9164409436, 103035.39595599036, 86308.47897846623, 97201.68484625986, 162338.44670234298, 181004.5581724021, 541283.6253829635, 104582.10280113152, 266783.769079032, 142274.66374578, 290352.23342679546, 178167.7141036881, 509031.67192460917, 423753.2745210617, 228564.29947178767, 85871.63607159565, 98173.57713027202, 215433.47693691758, 236952.10338805235, 147517.8317934926, 253871.16322571103, 287281.2444982632, 233841.1600967326, 161383.05766755156, 107587.64505381978, 134363.02164282853, 115888.45173476508, 71184.21689207407, 227762.01722818858, 174771.16108679448, 214448.26943506487, 432914.132407111, 526420.130752257, 180921.67815076312, 135172.03684118285, 135172.03684118285, 135172.03684118285, 217362.68576756722, 180921.67815076312, 146461.16666398293, 135172.03684118285, 135172.03684118285, 135172.03684118285, 180921.67815076312, 98446.9473444605, 208620.67805672917, 291351.63978296745, 237228.85494324926, 214571.16463074723, 214571.16463074723, 231812.70862245726, 345750.1944716294, 286931.44119859894, 241217.53104302206, 176987.80265359327, 161967.01911563863, 348719.46063246805, 344505.97867156396, 941359.6316780616, 345081.41790493915, 331832.98658295715, 417139.1438858027, 132702.90332003514, 208411.1448773935, 567669.1702177994, 229078.71945176471, 564445.738188162, 145692.0041403072, 317594.09242906986, 190620.56428857986, 206994.45770994015, 336666.75635757553, 158583.68733470805, 162416.83248129475, 97528.5592624326, 197346.65765255905, 141178.56679879106, 918863.7014569168, 233355.7447254773, 281282.55639998394, 115490.8876739042, 255743.88054687306, 143348.1827896875, 89884.2461365012, 203142.1227161466, 212363.31025476236, 139282.64242985976, 555174.2331129494, 179035.67041308942, 173080.06139001308, 334847.1591409785, 181916.53130991757, 130709.08930759563, 119514.31984967657, 77142.70326590662, 82232.30890255535, 229940.31673402878, 182507.11863937622, 245334.09445615497, 224135.1615534581, 247897.07329929818, 212164.3960231235, 177253.47469237205, 145094.86362839487, 213350.54090049004, 355936.71431116154, 194561.9210037514, 223929.580978665, 128811.90935914702, 109322.7212112878, 202529.79124959587, 288267.5239997548, 131013.64897816104, 186281.06612810388, 317467.7054657346, 151448.8608558518, 150904.97277548022, 176934.47160750732, 211129.0850730111, 87796.58159612864, 79153.64624024741, 311965.8057082856, 223874.24668540285, 322047.35965693794, 80018.04903923084, 90752.76794814042, 165625.54383219633, 134454.24690293532, 133625.84873558115, 129570.1970493634, 107445.42511519673, 448416.1543877287, 114888.71058751261, 134789.63191330168, 272953.3647581158, 114326.30776171353, 308493.48055111605, 242114.3108498613, 422044.0966603212, 158427.82519158436, 250091.59897257615, 97423.9911316826, 100390.85701545706, 96578.79449100861, 170942.83666656585, 151554.35244636773, 231068.43054334994, 151290.13600582894, 138529.4085997218, 170822.8022524945, 402329.63117745327, 97267.14867724755, 257078.73809000716, 280497.187086302, 270301.3351967606, 171169.70645762535, 245356.57183864, 106400.1783888964, 169899.37667732843, 292023.0039994973, 292073.79487461474, 124007.28711337555, 214448.91206657124, 111100.18705437418, 196279.895147713, 119811.53778914992, 168666.09326839034, 320199.66060856753, 173829.28437072533, 120891.54777927395, 120891.54777927395, 133801.28730299635, 207840.34541242896, 670486.1149780998, 670486.1149780998, 1102055.0940597076, 114988.47226084943, 145462.91468479362, 126954.18525970666, 249189.29762461293, 240562.05358753982, 209530.0328939155, 204322.8896216135, 183920.37919400487, 343769.5415607129, 113078.75472429056, 159923.07236536522, 149640.09466768603, 577205.5674668591, 179882.22253376688, 436177.3978983288, 338290.16237708693, 210882.30329562436, 113210.00923019518, 124113.49687432282, 133078.84612843182, 146445.26606142364, 133078.84612843182, 133078.84612843182, 209429.44178034086, 525766.2372706156, 82256.24310384499, 252249.35849025752, 122877.03265401864, 133078.84612843182, 149528.09822374413, 107904.04180566841, 184083.26751641528, 204012.78866346137, 138625.1717096544, 117695.81123460816, 89106.66880553719, 184104.6801179764, 129597.98478058532, 125780.5233103579, 140137.87505339732, 199903.11564398158, 132852.23853876832, 182004.53372244153, 278711.9804812188, 196613.72628590764, 100572.94537557347, 178748.16271617234, 351627.3020194101, 199830.09613608656, 212828.72911155527, 294185.34224802384, 151520.95982242533, 90091.35105693963, 497871.67694749526, 404874.2585663102, 452907.0611693259, 340455.05186328193, 157980.72299093066, 165526.68334954017, 236319.91197670958, 119708.78563712523, 383060.75729060156, 221523.0555344387, 234467.69827322557, 114605.64750702068, 98855.18894300087, 125700.6589636034, 173706.48155270074, 98106.59249360043, 98855.18894300087, 151417.3801991946, 243503.54368951765, 118634.418986565, 98855.18894300087, 244264.82530904072, 92026.35989233291, 92026.35989233291, 92026.35989233291, 195049.67140873475, 111186.1143767745, 115098.6517680629, 102472.72853917944, 334191.67942536075, 106298.00704907319, 192889.24665614945, 110955.20784438313, 140714.23806436377, 122344.43689582971, 227804.72640274063, 177235.71827924025, 185855.63145227803, 150957.1181259018, 164075.85655688454, 192689.63030267306, 122246.66151188719, 242794.45348867128, 111132.64753767257, 123425.06016587222, 241964.4249581325, 375026.0279477664, 137565.53158901742, 287699.811983334, 243089.6421957091, 248269.4812869529, 239820.84186404166, 179645.11410447065, 179645.11410447065, 179645.11410447065, 198077.03075470764, 198077.03075470764, 321261.5552784508, 154191.15156090283, 212391.07135184685, 107954.90660462042, 168566.8234108409, 515692.73282622575, 152110.16812318936, 150593.10045587528, 103793.63918737887, 282642.7480508008, 137257.4695617244, 165202.0467619033, 72486.77734841769, 150142.19761710023, 170898.32158850803, 211932.45549107104, 224162.89387515353, 159894.24602790666, 362142.2452457737, 362142.2452457737, 403730.3030381922, 93562.72844886931, 183980.68587477418, 191568.3092282966, 237491.66451089754, 139343.4408350293, 285707.7481520139, 242361.73378784952, 163922.3040718208, 209970.8503931727, 201695.65611258685, 197255.66979577258, 194125.03671715295, 131895.58643252126, 179299.92371165624, 99301.2308917751, 183120.30975591394, 150895.7588628629, 280338.26316292834, 152492.91846656438, 132316.01465586445, 212379.5497690437, 122943.02595312483, 124882.85598084916, 124931.42370710662, 147453.26980558468, 222350.93377302942, 406124.2315249938, 278799.1031946188, 209781.21735325473, 120629.33383010823, 131163.82668940767, 115285.37072651478, 115285.37072651478, 129266.51303761176, 378285.3401573238, 195625.82854897252, 324951.83893245715, 118559.79370174391, 254406.02180501499, 200144.44899557077, 75738.50036169731, 143338.60309204398, 125209.78723879904, 241623.8080163798, 167600.86281710406, 226398.90093029628, 149494.13659408214, 248798.49791591347, 651279.8955214422, 160872.43043162726, 97088.10345465774, 166392.63333033372, 206686.78760518832, 125804.48458142384, 229610.398842095, 95323.13500403431, 124562.94318563236, 149274.34229948453, 190038.9280530442, 147921.85141205398, 126539.1410031231, 140558.6328212745, 491948.57147841214, 163182.16711623617, 321097.1122549592, 155330.49144389183, 141326.5879767864, 143631.01575775314, 160262.96161450367, 117595.60182487355, 228372.09466829075, 234792.4148993498, 89165.2892712375, 132388.19230673445, 188594.51830154043, 98394.91666050072, 380407.6691054356, 181096.38395950256, 262797.2387344396, 237610.87643446372, 233813.46427315287, 495938.18143956637, 161020.04366857873, 947058.0360260056, 219342.18187215884, 86128.24019006483, 276562.6857347338, 367539.55612666375, 259940.86162158137, 80258.0592769479, 118167.20126816857, 117267.03080253422, 118167.20126816857, 186211.42118885077, 118167.20126816857, 176678.5010821942, 118297.19783704862, 127095.10564113701, 127095.10564113701, 210337.08408949018, 161418.31856077744, 161418.31856077744, 161418.31856077744, 267367.2994171062, 302739.487210014, 176542.48458568577, 159487.75933141398, 95212.23262065841, 271000.2606441447, 240081.52338975327, 138473.13732435854, 140150.1058068106, 582875.9227990373, 135717.9346290948, 160993.78088545072, 298972.6873237886, 108030.23035382634, 137833.06441541627, 159361.89705753519, 291360.6854100569, 156769.28098617157, 546504.5753479053, 156108.82411965518, 139702.1228395761, 308182.146113512, 364205.6231783253, 195960.0739163097, 173544.44691830303, 936682.22124925, 128950.04598519512, 154637.1745663937, 190849.1616853957, 200062.4088082497, 213013.44723430788, 156234.5487919095, 200170.50324105995, 368403.03428499, 254024.32733115013, 126397.35689907723, 238938.37461092265, 206793.4773150207, 171740.21502500668, 179005.80839557835, 369431.6109555346, 189208.89866119792, 144208.15114688253, 182877.54007223222, 246617.9757380184, 262062.10373113118, 152527.52105649147, 135709.71575495432, 103649.40152092728, 141430.7731359288, 221917.73148617684, 563699.6739162335, 273612.2678977597, 252663.37195412233, 294602.76426275866, 127933.1601346778, 523751.54215391004, 188424.20121972723, 136666.26056984073, 143804.99869737445, 285851.72200336854, 242361.74431548332, 100292.88091221443, 132435.95153108798, 831091.8044098789, 201280.03687451797, 307942.7768529605, 129760.59876230184, 318634.81854769867, 142146.1019235658, 400009.2043833517, 684103.5248728491, 114582.53670212823, 222036.90114314226, 193032.47197993667, 176237.03027800907, 198900.08599750197, 123961.0348644304, 123961.0348644304, 171780.12283716863, 123961.0348644304, 123961.0348644304, 171780.12283716863, 123961.0348644304, 123961.0348644304, 123961.0348644304, 123961.0348644304, 171780.12283716863, 123961.0348644304, 171780.12283716863, 123961.0348644304, 123961.0348644304, 171780.12283716863, 113040.54073208864, 171780.12283716863, 123961.0348644304, 123961.0348644304, 123961.0348644304, 171780.12283716863, 123961.0348644304, 123961.0348644304, 123961.0348644304, 123961.0348644304, 172503.88132761788, 171780.12283716863, 171780.12283716863, 171780.12283716863, 171780.12283716863, 171780.12283716863, 268066.6883315708, 107255.39481767325, 106958.84943742218, 230223.78033842196, 151914.675132557, 78214.01549968056, 237132.22915090303, 527134.4397324801, 134604.94455080424, 122507.9372031976, 287714.8233046603, 147172.21819576435, 134218.6895612798, 158571.5969607824, 282127.0242595045, 129590.25525080718, 278957.41648359376, 288724.0650471826, 277949.145398255, 326739.3871136063, 92158.49748803169, 244235.21383474534, 360003.54178214003, 156921.02229923394, 424960.62666695326, 267132.64704949164, 252019.64770851913, 119610.11620649924, 189572.39690384702, 185078.12623864252, 924965.2774220706, 169892.61331164895, 541839.9076186473, 188518.0124272984, 214094.23096391422, 325283.6011481159, 461364.103807362, 133001.52210356898, 133001.52210356898, 133001.52210356898, 133001.52210356898, 409640.58357196924, 253170.5505756525, 347413.52208428277, 174804.67003523174, 96066.77530457433, 205039.32284943585, 274646.80584167835, 156055.0776109043, 153274.08128085776, 177020.48479612544, 139651.59272609578, 135880.9194380736, 202419.99340012326, 238418.8966078653, 247588.59444078867, 268362.5866430799, 238418.8966078653, 202419.99340012326, 262893.05186613277, 146505.20111002354, 243445.2067859502, 572709.3843321516, 243093.53745117085, 90037.36183069409, 258362.96166844535, 146471.51580626162, 254592.839378612, 296296.0681906755, 135759.2577972942, 700551.3002295243, 318126.00768891827, 161057.88021064678, 196982.62261975568, 151193.32477779296, 145496.31133153354, 141061.755176207, 141061.755176207, 128767.75301628374, 128767.75301628374, 141061.755176207, 161057.88021064678, 261035.75284573954, 263474.7242692963, 181773.76187991432, 174024.93565573468, 199133.7749198891, 138855.50395608542, 138945.30692572723, 150791.94349735684, 138945.30692572723, 138855.50395608542, 236495.68923948222, 161057.88021064678, 203437.81309431593, 205431.82621840807, 277740.7823391227, 169596.36755867826, 228835.64709879487, 163413.0052816357, 142699.18552715197, 174024.93565573468, 262882.6682959369, 144130.1998694052, 292474.2025883359, 154322.69689106056, 727063.6721255656, 727063.6721255656, 286534.74383299873, 235949.16242108727, 146559.76477231417, 176692.36338694958, 337029.41044655885, 157117.2098737725, 153786.38281128302, 235295.849823666, 189427.36150848982, 152365.13600941488, 168213.12732972618, 152881.4233612414, 146937.7406446099, 139439.14474710176, 145537.60734182337, 165036.79994393507, 126921.65397865968, 170070.38507528158, 118898.42952780309, 611758.4491791801, 252782.78504687955, 476570.4004151884, 700551.3002295243, 223992.59182733594, 247611.96599138237, 153192.72752817353, 136901.67345633594, 166084.43353628233, 95148.17648121498, 161743.9284790394, 159630.74614377978, 172665.44927364244, 221306.22621280406, 146024.26461955588, 118047.42537395484, 128003.25774788609, 154766.2545380434, 189998.13039077405, 140440.56034570906, 178570.38890660397, 368332.1913034287, 489514.46356577205, 118601.52286503703, 102688.06987552794, 217191.13044537045, 70039.10388458245, 97638.27477520388, 596907.4808730097, 116876.06242862376, 305490.51482161105, 174099.29302417225, 135517.53494256618, 125722.7073542419, 261618.29842953477, 235899.3187188211, 126593.45685403874, 315143.75875014416, 160325.08174444234, 285834.1146961314, 325282.68103249464, 661300.5843011918, 135569.83221875672, 139145.4257947275, 155134.57009218444, 148378.21496685862, 142681.97093782737, 229161.1007661746, 253695.8394308907, 246772.5597920756, 149040.98149295905, 111113.94081170534, 242422.77253461, 121611.32950097756, 189912.92384032407, 288233.05398829444, 79049.99702796548, 90377.22181562145, 97870.48469305021, 185867.64300482924, 319166.7557149483, 259685.81680117256, 259685.81680117256, 218428.24604516276, 219941.52733909772, 996701.5893279603, 899246.7761459809, 121004.7487218999, 174738.62319620437, 312348.47552812163, 167180.4175735003, 192834.43444005057, 898928.4730410918, 217417.82577742785, 187033.9038831326, 259533.48915922965, 377830.1566328312, 106365.83390726382, 674195.5519457812, 202735.0357099711, 525257.9218716085, 142154.19942505125, 446652.1972847957, 324354.31507007254, 531410.3876789237, 130916.18236967557, 196291.60144478886, 170962.82116042584, 119821.1247116199, 109870.2019061443, 392778.1290754595, 179982.90034858853, 308391.9348732466, 160683.01447426353, 291870.34288314823, 436238.39517620817, 1122513.976108164, 576587.1086364815, 540334.12464632, 369456.868882352, 136060.95654815529, 255999.31375941628, 272071.0945795211, 222428.82143425848, 259380.3153211965, 140054.8035315525, 136113.24834755572, 235342.25005567592, 179096.46297397724, 112841.75516729074, 218031.54394282243, 498021.36663509905, 157518.18302316763, 165611.68336367927, 166909.83790694003, 166909.83790694003, 134320.80371291132, 165824.89658001496, 165824.89658001496, 165824.89658001496, 165824.89658001496, 311211.31375685084, 222608.10917932534, 131386.9548198707, 132050.54876312503, 225332.52290284794, 243451.32900638902, 297962.81304765516, 237368.60622736847, 292648.8909146015, 190855.49606852312, 269567.72695515625, 253168.1433216213, 150360.61379331743, 318738.00702777423, 183030.0509075632, 155694.92364438012, 117443.19966061483, 155694.92364438012, 228690.86717016855, 703281.5687164172, 151343.82184293738, 464485.1183595027, 195297.90534911695, 166394.13305026537, 147406.73161608056, 156982.44134507625, 331083.6637588412, 147014.8294414605, 176523.88378344566, 150858.94690599776, 206477.85420677724, 525086.2482101154, 374260.3307909686, 150858.94690599776, 147406.6672284062, 243235.80401659565, 155100.6618180139, 150494.46793679718, 538765.1423091094, 439198.8490696301, 207102.59175406923, 441308.49853568367, 155100.6618180139, 155375.03336156352, 439198.8490696301, 558163.1148812276, 296601.3051345159, 165720.47530893446, 140120.1478124048, 258218.8457007464, 147406.73161608056, 190619.52824947782, 141655.7765917356, 138804.7761070082, 339577.93375189847, 126650.11826738431, 106495.0122873318, 210402.51328013834, 321567.30381486804, 226863.84319266301, 392108.8133391826, 157217.53057147242, 305706.5365905965, 306538.4085075384, 247623.44994760308, 174774.10944826476, 148440.69384865992, 210804.1905125396, 130119.76912410436, 117654.96123484152, 94199.96915179321, 395332.1993604564, 188385.06099600194, 245221.71413937726, 169402.03083592904, 515356.65184048814, 273280.4213833349, 310187.49968776794, 175078.91837174332, 146937.19584109072, 71635.80095321899, 174000.6995783413, 167705.3937398757, 738006.8698974883, 247751.66668922215, 225460.66496974218, 473508.3905680071, 276352.1333958538, 77499.61339823199, 142503.45448081952, 203507.8845516846, 187058.84174930817, 1075062.1180766828, 202516.2913065824, 221084.68774809816, 300459.12673175475, 284458.22183179477, 150363.91136330768, 149279.4855127978, 137864.84370498007, 383442.98512442823, 397826.51070022443, 372841.34269662877, 410407.8179738222, 210887.55770467315, 240086.984577164, 180812.9095886475, 278401.7075718432, 255946.46401480344, 134589.3273049291, 311894.7063780132, 181310.4736749584, 172053.63765897526, 131016.61645632579, 146292.21525985142, 301378.1494303008, 151563.69828156265, 295161.4721809252, 282971.25799193536, 107439.9725452413, 146750.06693696478, 136430.9132649466, 134527.90511606808, 134527.90511606808, 166759.7224781708, 158746.5223303835, 164503.54982996537, 112082.84391634594, 128881.90949603157, 249516.74732995394, 133844.22937179139, 123351.24341484206, 127875.74081303437, 88058.75935642688, 131678.91368770308, 113299.0319285934, 164224.8267477392, 93830.64133059497, 204613.81819170274, 104350.68434308156, 110846.8895136363, 209893.7432222492, 131171.51011223605, 74107.73362351581, 272498.96136130794, 81205.6412799822, 81205.6412799822, 146916.6202285659, 501758.68664422893, 143119.29305763694, 140353.12017848622, 92857.60641870718, 147888.71165960026, 137537.23535528267, 168728.7119899036, 202977.81486827042, 257711.5611734268, 128038.90539641128, 120170.1234502867, 274212.74586526526, 210440.8665375514, 136364.46913908832, 142546.6019457781, 261106.57318917493, 265970.24015367875, 186373.6633092144, 68205.84593837264, 142467.0757757758, 422980.02584386646, 152762.85694058318, 185772.58448904677, 414900.0213431442, 275073.7648515025, 305553.18349991244, 238739.37119376392, 131802.06968190134, 189155.4122987482, 255153.88312954, 170657.53246567666, 263760.2194888376, 308884.52447727625, 301020.4087342481, 127985.70000353036, 131496.78147636127, 132121.86783057745, 199548.12381528277, 305553.18349991244, 136360.27961076028, 226906.74310971732, 116237.84150452809, 170905.32636599784, 153271.3498001121, 145671.773914574, 200114.56545863365, 117367.76176603037, 242702.208345165, 171745.9761111844, 266973.8156550847, 240486.11422025453, 107611.27575008101, 113532.64857713331, 151047.47774377782, 317537.7407587305, 225404.94623457576, 196399.51168107204, 360080.7620904248, 212815.96372550243, 116013.71086347423, 116251.21802481414, 282085.10748776654, 208501.58612300624, 208501.58612300624, 116756.66948226167, 286306.53688143566, 332820.34970408416, 209118.56280086946, 258041.62370765427, 217732.93105113707, 167675.27034503082, 156411.38164644776, 125940.79000821098, 125484.8866772448, 125940.79000821098, 148910.2573937942, 125940.79000821098, 125484.8866772448, 161198.4219236562, 290059.6046816813, 142009.53964699394, 153258.2085773816, 101090.61157865028, 144014.31323791327, 97472.52529208083, 108285.65982873845, 201025.31654835085, 153472.90030541754, 202481.52327392972, 201416.88451455723, 141849.20728204446, 176234.05621593416, 153293.66360085102, 128498.05150673355, 180014.41237993853, 203216.03508147795, 202073.99507765356, 152673.37979765589, 280450.32785099983, 289261.5633267535, 158307.36624245672, 201051.43993138775, 203184.61414165777, 152453.35996599842, 152877.89840780085, 153017.60046444804, 125702.38257978749, 556048.1317494378, 186780.1341941094, 128039.56715274302, 205674.06725639518, 234855.4971694841, 180039.71189459885, 219160.0519464721, 300922.6695392576, 160843.5277908828, 216811.55743103876, 202571.82848905982, 367539.9552656844, 666858.561155742, 187061.1408493231, 204071.74069090828, 311414.826070281, 319370.2980691071, 164572.32076288984, 620149.5694491909, 158975.25190123956, 211179.9313240213, 192999.89973255742, 101522.99287348034, 233221.9118934793, 117117.48069933082, 257900.7352928576, 249713.09225550666, 243897.8275037338, 155191.53563661408, 237568.79084946594, 233713.25994224756, 261254.07756765524, 99352.99866261505, 137551.77906291446, 222157.53184625518, 270905.2007998515, 126131.06063083574, 218120.60963660877, 506699.362591429, 334124.4155266492, 219744.50477280124, 450605.48289575777, 65182.500282681736, 263983.926881731, 113195.8980331987, 82780.47001726576, 360209.88674453524, 144095.8979273741, 84454.53151055478, 74944.554268602, 249681.0640318559, 264536.2629771192, 149994.95687243433, 444048.6065398682, 263037.7017558914, 363570.0366742983, 123679.16221585611, 278749.80405985605, 371009.606267058, 147308.78844133663, 332201.21343314013, 214785.21812795626, 641199.9576050073, 93583.46119771738, 145174.5675260667, 213900.3287592384, 130274.67886309684, 207091.43876500244, 358942.3019036465, 174758.57166415668, 175206.61114725267, 469479.44926369016, 212962.21086412884, 180697.7567148923, 218278.13610507458, 1795095.3927447, 142787.3843329767, 172386.44172598526, 560074.5260588712, 293935.50343701325, 181930.47563733184, 148125.0356522943, 687483.000712195, 245991.45684522172, 84386.45659292754, 145219.38635463742, 85321.69864054334, 89088.09357372932, 162785.05242404036, 405556.3852467552, 123835.01896318478, 153771.74926995652, 89088.09357372932, 124317.49630241422, 164236.21566036332, 114590.62624036112, 257526.37070099084, 164624.00500174536, 74846.68769953358, 208389.3342636698, 150349.39617137026, 150349.39617137026, 201873.1117193403, 225249.8987331929, 166830.8795223749, 158768.06462731728, 174437.0274345157, 150926.25528164423, 220814.22772452727, 101026.40075183139, 174062.8081075872, 158513.94196731952, 172359.78582406678, 146626.61586868082, 160112.3908241832, 160112.3908241832, 119058.24292994951, 123939.07654812525, 195479.58603266778, 215392.71609582356, 159386.76310006063, 139853.3126729463, 461245.81409131875, 159386.76310006063, 220814.22772452727, 255216.77090796048, 285157.4624581815, 205146.9109804379, 218015.8169038592, 546353.1941350348, 191094.72967915237, 296023.80949333217, 611567.515229651, 481136.3632220203, 81503.81451732828, 119988.62704956706, 133987.968592853, 251985.40240275714, 127088.09463492218, 221785.67623936723, 138824.00896505476, 244013.01147622126, 257731.0784703974, 179019.5220430767, 179019.5220430767, 141164.9072800856, 158870.08851200988, 196180.91142382924, 238155.4285063804, 512966.70499591634, 109212.02642851042, 257686.794253867, 112195.83298394116, 171011.56660858143, 257686.794253867, 179809.24683576953, 136905.30940143458, 131634.84994758846, 281700.2516803623, 243870.83571204502, 147623.9420684139, 134501.7574971618, 137394.47576000835, 169011.22568768208, 301154.6537333925, 176882.48302833328, 230090.4858306429, 112437.71786427207, 249671.62075747555, 235683.22327464208, 155662.68391461734, 220590.08321183478, 144210.74637209467, 207500.5917440654, 119590.04426470681, 183704.04456310204, 251863.72426431405, 148243.62880293076, 228937.2778677842, 80048.752307521, 83420.2136006636, 117772.30310687376, 157790.78799321124, 113592.9728645361, 226791.45417914807, 311405.9428694964, 126472.93743158656, 195400.5282904022, 133245.35340907687, 186385.5409017199, 162785.27721359552, 236858.7404938015, 113817.8026235337, 139347.97317246252, 139348.41812729966, 162323.83123420036, 288113.21231131954, 466355.95029069553, 110373.21725785342, 209886.915064835, 139848.9601435597, 181896.8327275823, 250719.21537226264, 232515.71947424847, 360204.236606363, 209407.1310070936, 240513.16376359033, 111004.35748071276, 274852.49838107324, 141429.59554728793, 212922.0913045645, 169015.85674669006, 119970.03020255841, 98055.49360834424, 82881.25673928722, 216544.79723654967, 353647.86112758756, 244417.9066267333, 255648.56713067088, 284226.9312659809, 342832.5221573279, 533929.7191602769, 191417.71932133264, 99540.38795150783, 174179.76407523348, 101484.29047186323, 977938.3171652087, 121112.70592130744, 367027.253731811, 346444.98057862173, 154705.85804279125, 225967.156381999, 90337.46333200476, 503464.2045947284, 134189.74805909098, 108894.66711304586, 419914.64801854704, 142915.0693795071, 131107.57444342267, 120297.0645403405, 120457.87268030127, 175063.7214472558, 126994.17094770056, 132249.45791946238, 132249.45791946238, 175063.7214472558, 124931.86701976582, 279030.6222847557, 99311.06363111582, 69126.81431227131, 164538.94899496096, 183110.88785329953, 151513.46291000143, 125027.9931375255, 202121.85258727524, 309924.0849046079, 80846.72464781236, 80846.72464781236, 148581.34361758796, 82337.29653083425, 104399.94180306018, 82349.01406972864, 82187.49832269514, 104399.94180306018, 104399.94180306018, 89349.56970728481, 174618.2670021217, 219770.78766564513, 174618.2670021217, 99412.29372007775, 139640.1796327995, 283326.6397983169, 83123.26392731308, 376229.4554191761, 239764.38714768674, 192208.89525339595, 82412.22657521759, 99311.06363111582, 195012.97962481488, 146381.15159482288, 117825.07137916196, 103337.40148905457, 197130.4855354231, 146224.8383709432, 148021.1164627978, 132249.45791946238, 140218.6216292998, 123495.70979297461, 149127.50172356376, 168633.03405103675, 261705.5353272161, 219087.676494825, 148928.25669027894, 168633.03405103675, 156926.07554819348, 179893.1244539728, 111317.99334126465, 469920.8203409427, 170427.06488866237, 286299.96815815696, 421641.9916878301, 195694.0562640982, 212443.18491680053, 185815.5454243702, 272128.7384783208, 340652.0126998195, 80699.06327215621, 130318.19109451116, 91704.00345060826, 135569.22847115743, 123261.08843247907, 175337.32064395183, 147265.93707981036, 137366.41539089952, 264621.2793694662, 153586.99111884655, 176837.21373868425, 192853.11055198702, 315787.50548413506, 319184.08702122536, 315737.7419934484, 419898.59428824676, 332860.69180444157, 259685.14764876798, 259685.14764876798, 258160.088734548, 418483.7225714477, 426752.6427259658, 313057.48246624187, 315093.0634363197, 275490.93776105274, 205449.04512209655, 209469.56385813426, 450724.7766999606, 619483.6611533664, 191974.63978318515, 218848.8142151832, 633021.453255396, 711341.9293214735, 407307.2997569932, 402043.2027489717, 185377.67011389107, 242792.09820419428, 328830.33788206644, 135914.9316391257, 151814.55199716857, 174676.17881448162, 474181.5549593596, 305528.56048083975, 98543.74465214218, 98543.74465214218, 97460.49853971667, 282553.51899206196, 184202.40699572084, 94420.02608424026, 142398.4764423127, 145339.60714012026, 199275.0660128981, 300120.9167041696, 331919.2386443183, 333856.4064092877, 342907.15870064247, 343662.810255726, 478159.2389814998, 158643.21797980682, 128366.90954293952, 191336.29110250674, 184968.91025109618, 176725.00735903753, 86699.9331904129, 189840.2794621333, 93827.65520994703, 264604.83969652595, 939870.8744807459, 93827.65520994703, 230972.47057757992, 590219.9987283584, 150069.5030213907, 151199.92867321667, 138058.59837767488, 150069.5030213907, 930494.5538699523, 329490.768233641, 290417.4118402224, 203246.02201683665, 134234.4005425905, 158383.91391980246, 249262.36970411296, 159281.5173525571, 287975.0666710735, 243988.80955377704, 470018.2253049799, 317350.1836060039, 171477.3902330753, 1901337.5140089756, 245593.58938812988, 214358.71196753357, 613186.1442249013, 144635.90970099095, 111922.99736078647, 194093.96538665524, 523997.48559128004, 117879.86049186472, 210921.84082934557, 200533.57152555065, 161299.3188052509, 203999.87835440805, 165394.5627854619, 170293.33487378334, 120484.48952822041, 349189.2647623487, 122052.14659494179, 140092.34162697472, 275252.7186852986, 1485385.8364791095, 150509.61234592818, 358598.01712926803, 214449.7472253798, 128455.19815701664, 122052.14659494179, 166587.395278521, 112578.40506558752, 129901.9125960478, 642132.6125017211, 129901.9125960478, 221321.77829671899, 613389.5540791411, 496751.60400721774, 247119.1939294836, 1054093.323488095, 1066985.7793974795, 366311.78439449467, 560599.9843161597, 309632.91013786313, 157341.11945704208, 534284.4865554732, 62764.125673489034, 134109.7126962833, 143989.87113422662, 209338.54858700553, 253584.85911760025, 167331.72078821852, 116282.32754799159, 145991.54019830073, 223480.5558833143, 208206.46288565686, 207917.82787592284, 237079.2273208847, 238177.4469550663, 275956.5720114468, 221628.89419127337, 287707.06781338615, 278808.78888804134, 255509.10804709466, 234685.7396632541, 135237.08526980746, 220386.5524645276, 492688.0232293742, 149137.7924233543, 313203.74124045635, 202499.17233855635, 109394.42980279283, 174044.00423233863, 179610.23952707765, 178478.34832691558, 475293.1093471503, 241729.59508030495, 199310.05788515456, 377469.64675607055, 400190.697363939, 397667.82466655667, 678078.1389369327, 142805.75374244348, 237727.4490268743, 142146.15379403866, 154889.30220994784, 162548.58026573499, 95591.8818299027, 142551.81280780103, 157961.3034962361, 229918.6666552267, 135349.1680902819, 140437.70417513925, 151086.36127877043, 181520.15229669897, 203146.1472961282, 672318.7930609533, 147017.99615669018, 177935.71406031348, 171183.78309861675, 86733.68889860518, 93799.77780981283, 133806.41218891385, 130352.36855380793, 172113.6169798547, 128158.4799748124, 65360.97714070031, 130185.18887428759, 691599.8480571096, 153779.25420101255, 124276.25459148132, 191936.67690637894, 192343.375353679, 184106.14709884487, 140900.9703854105, 130966.45274194836, 199319.0179059785, 120930.10949842376, 326746.00751460396, 227224.5179281152, 150200.59638350192, 138954.33020021708, 93799.77780981283, 110661.88022890601, 131492.84810007818, 261575.97885358232, 182619.2298071965, 559230.0445433802, 243797.52465386753, 175336.41573673757, 555329.0580345604, 159165.34111498325, 152431.274305179, 339595.4064394491, 166789.11054946226, 205906.72107120353, 202968.5131073257, 321859.2200662856, 89482.73629728606, 138490.27254110726, 124067.91391670311, 124067.91391670311, 124067.91391670311, 501693.5440982327, 102982.8457398664, 234743.14723067958, 161721.06280738092, 150720.97367248745, 132298.45637302072, 389857.84827583283, 261540.7546407187, 279556.78143875883, 127796.75463728941, 276386.6682715849, 122135.94256616512, 127796.75463728941, 122135.94256616512, 122135.94256616512, 122135.94256616512, 135925.96259137767, 556452.540833877, 210275.85433759724, 131718.94257158376, 445686.8773576267, 273501.67131842003, 162606.5396165143, 233895.3547200996, 240540.70898836647, 148275.3475151867, 216785.47629531642, 163976.05566374955, 235781.94468867715, 549553.6585595324, 168154.50626291137, 492605.586026862, 236737.43194685277, 115130.49738533478, 176579.60375410016, 125201.46939785674, 119480.20980319913, 142069.88374658878, 449052.9574543788, 211504.73696470493, 515032.09546252684, 192462.63954094145, 179542.751901164, 179380.47064039414, 183011.29551523877, 170999.38718318744, 80556.41103144083, 123281.79328188892, 91955.29764258096, 186694.9803323567, 151568.88105804462, 155949.79414456862, 168882.56678886956, 152347.65385789936, 77408.96833768011, 143014.97425934946, 214008.5643485446, 116262.42298269251, 101108.19908813243, 94547.8984979426, 158061.61554174047, 113319.22005975587, 202192.05655296307, 255609.04213839216, 205121.048034262, 165897.4672385967, 174078.32135920582, 157436.03763779963, 215749.79394341348, 137489.31640473485, 154227.43509071582, 74518.66287387096, 480447.9275356111, 180378.31669095546, 168150.63492198975, 274830.53213168273, 206564.1583453268, 206564.1583453268, 206564.1583453268, 182513.19443663594, 182513.19443663594, 182513.19443663594, 182513.19443663594, 182513.19443663594, 182513.19443663594, 182513.19443663594, 182513.19443663594, 182513.19443663594, 182513.19443663594, 182513.19443663594, 73447.12908907208, 209495.20077095588, 142096.32828546013, 212918.74691820826, 300468.54554910574, 265672.930797721, 106512.42062824743, 159412.38951712835, 190504.77320331556, 175271.07228499552, 165906.99805388163, 109271.41796956887, 264340.4828529632, 157961.32491318762, 267904.0992898789, 259384.73893820035, 245708.73905947112, 245708.73905947112, 105755.20122431025, 243812.80341694455, 128044.61009813039, 292094.5208339688, 315993.6729915064, 183812.17164294707, 199905.60552519205, 306875.26548783324, 123032.57502653035, 125645.6114548952, 178610.44232492757, 241059.34128223866, 282791.77371994767, 160046.7436801507, 182182.35134112585, 171500.09022413436, 135443.26553959303, 160416.44829613756, 160416.44829613756, 160416.44829613756, 193907.1534641722, 605770.6752321249, 208673.42939203946, 208673.42939203946, 224080.2617656123, 583684.9626910352, 425610.30446649884, 583684.9626910352, 213963.05654013334, 160141.87085785996, 208673.42939203946, 134834.27164459735, 134834.27164459735, 134834.27164459735, 134834.27164459735, 126655.05849747156, 147091.37053507988, 404104.446840939, 130072.9499356854, 364272.9926996742, 136522.47914082208, 237538.62568862713, 154045.0083102397, 201848.49012296915, 286222.0661557806, 170243.27021671203, 318558.11444458365, 127717.95774508257, 505535.4593985052, 154624.81588529595, 111396.66878055112, 121997.00196222856, 240248.3622979145, 172998.50362880286, 155713.73607276223, 151367.11335833272, 154785.76506335937, 162022.05161602132, 162022.05161602132, 169904.2363756703, 162022.05161602132, 433055.0289615557, 391237.3381081193, 239969.26882560103, 77329.77603485192, 114684.6732254278, 142192.30996946627, 240409.56687607733, 283129.11618926236, 206116.52075608436, 92634.80164420407, 92634.80164420407, 92634.80164420407, 92634.80164420407, 123429.10682125023, 123429.10682125023, 215359.92734757328, 171843.19866480527, 208439.45225838054, 120001.86966989591, 358760.7881342095, 163922.21234047285, 161562.98410966783, 85393.47378895033, 206902.73351485922, 255175.58027972758, 115662.95412159394, 378513.1060221428, 115662.95412159394, 277704.01487631904, 200412.46959789447, 125916.47787739657, 220915.6928005286, 342042.19555955485, 233740.38836671342, 170168.59991493073, 193197.44535984565, 222715.61896443664, 195343.71756075323, 206674.92465307462, 208806.86228218692, 167661.3012675912, 170897.99539354874, 171119.33371325262, 174601.2038665326, 169042.48076369963, 171960.16904573844, 171960.16904573844, 171960.16904573844, 195155.05411177577, 226471.915253709, 170168.59991493073, 169094.7098639565, 180359.84911972846, 196861.58319523756, 156714.46122384025, 162987.6469484086, 161703.746867228, 169662.37759820922, 169042.48076369963, 170168.59991493073, 169094.7098639565, 222715.61896443664, 180359.84911972846, 196861.58319523756, 156714.46122384025, 169042.48076369963, 171960.16904573844, 171960.16904573844, 171960.16904573844, 170168.59991493073, 169094.7098639565, 180359.84911972846, 119503.61978487621, 170168.59991493073, 169094.7098639565, 169662.37759820922, 169042.48076369963, 171960.16904573844, 171960.16904573844, 170168.59991493073, 180359.84911972846, 196861.58319523756, 156714.46122384025, 162987.6469484086, 161703.746867228, 169662.37759820922, 169042.48076369963, 171960.16904573844, 171960.16904573844, 255101.01638558632, 170168.59991493073, 222715.61896443664, 195343.71756075323, 180359.84911972846, 156714.46122384025, 162987.6469484086, 161703.746867228, 170367.1900512806, 171960.16904573844, 171960.16904573844, 171960.16904573844, 195155.05411177577, 255101.01638558632, 170168.59991493073, 222715.61896443664, 180359.84911972846, 222715.61896443664, 180359.84911972846, 196861.58319523756, 274957.08537055063, 268127.9613828186, 170168.59991493073, 222715.61896443664, 196861.58319523756, 266172.17602528183, 268305.8058621727, 255101.01638558632, 170168.59991493073, 222715.61896443664, 268305.8058621727, 321658.9826275124, 254006.65655691316, 326975.8109125691, 270995.55478249775, 254006.65655691316, 326975.8109125691, 270995.55478249775, 254006.65655691316, 326975.8109125691, 270995.55478249775, 254006.65655691316, 326975.8109125691, 270995.55478249775, 254006.65655691316, 326975.8109125691, 270995.55478249775, 254006.65655691316, 326975.8109125691, 270995.55478249775, 444662.54038465454, 325353.83606485336, 406143.9177194766, 325353.83606485336, 181654.55242126054, 330053.6690274531, 331183.47262939875, 331183.47262939875, 499038.6856242137, 179643.18377892193, 330053.6690274531, 331183.47262939875, 331183.47262939875, 88242.17987308792, 160227.24092049946, 284655.65067647083, 97734.8840184885, 169299.9369521359, 123736.75451051426, 110745.63503671346, 110745.63503671346, 117851.92097175651, 110745.63503671346, 110745.63503671346, 110745.63503671346, 117851.92097175651, 110745.63503671346, 110745.63503671346, 110745.63503671346, 117851.92097175651, 110745.63503671346, 111201.12663467087, 119142.67996418237, 110745.63503671346, 117851.92097175651, 110745.63503671346, 110745.63503671346, 119142.67996418237, 110745.63503671346, 110745.63503671346, 119142.67996418237, 110745.63503671346, 117851.92097175651, 110745.63503671346, 114956.71930321396, 119142.67996418237, 110745.63503671346, 110745.63503671346, 119142.67996418237, 110745.63503671346, 181986.94365852248, 118518.94746018393, 171952.92053269857, 121344.65359958875, 121344.65359958875, 121344.65359958875, 105365.55253242831, 105365.55253242831, 121344.65359958875, 105365.55253242831, 105365.55253242831, 105365.55253242831, 207450.5721227185, 186740.4731695525, 196658.21280336965, 140341.9310724582, 241143.59358005878, 166308.1544194728, 151288.41341949246, 413786.3918695845, 154187.89306754025, 171861.02678316098, 173056.51763426707, 615262.2845510032, 198598.60352606268, 176803.6644126894, 245617.93632079853, 215760.93100979878, 108608.36289702084, 781660.9821582275, 551031.9597988365, 118024.90007941882, 143374.7805458225, 262731.4148942818, 268190.19367941143, 235798.47162078088, 137960.268711134, 249278.32554153953, 132701.73631424832, 94517.57368483246, 156059.60867561045, 560453.6148124934, 156059.60867561045, 145520.7233370837, 426575.40131981956, 169025.49585302031, 466556.65525638964, 682450.9081570456, 155851.39263565163, 175361.47334318218, 160720.87172028184, 168716.94070962572, 150231.7120778564, 115094.08767081122, 115094.08767081122, 115094.08767081122, 115094.08767081122, 255451.83324854227, 187880.99702385077, 335488.75846865517, 173133.032297288, 335190.0975408481, 423928.36119503435, 116554.68746929929, 164353.63508310178, 233691.3220394446, 680486.9814556163, 138022.19267781594, 144814.14305259252, 158631.02809149396, 265194.9683897911, 161488.10422359878, 421757.52433805197, 161863.81348678132, 163218.83677302967, 208491.7685291454, 275805.3088860952, 212499.42260971037, 704421.641822008, 183268.45054621823, 202535.91207751734, 141612.72149447975, 149327.02093260596, 139679.01854133932, 175593.9401575974, 189371.07748398965, 252977.06428915716, 222451.55451649733, 143531.27258748724, 235733.94407807442, 258438.51467474975, 388998.26648886356, 162272.66092021862, 90401.85059576556, 129694.24969021278, 303748.02119433385, 301968.08416958596, 209676.02494599693, 243225.83283698844, 526774.6683385744, 320016.6806423502, 224284.50625730326, 234526.15392451643, 310414.85535481153, 215992.6220333005, 87597.06342855933, 603214.3660692167, 138021.48830630636, 409645.6074101312, 190400.8885693447, 226729.70330385148, 227406.28806625656, 186979.16307248024, 1052923.9262843214, 402402.57016376825, 124238.27750495131, 90895.17347897636, 121224.0075715777, 134168.16159398513, 318661.6513145217, 129285.82166477086, 116925.91579206489, 137455.97525380773, 169431.38891199813, 123290.98078143771, 123220.25268434426, 75963.74020074346, 233460.6444920858, 119892.0607275586, 131168.357650871, 249096.47145789416, 172981.6670746451, 597313.1396537691, 355560.85440762324, 101117.59375627883, 469438.78582165996, 109953.04798210491, 124450.94917978082, 139106.73951678598, 224135.46459858218, 152632.5152304553, 477053.2508655112, 80385.66737293566, 514066.31982080365, 288238.88729477895, 307736.8094082148, 119537.68672147117, 467661.2569234701, 473652.94999010465, 175089.42366455524, 143181.02716348483, 152120.370196537, 200006.7324121567, 339099.21847712656, 125418.84193538672, 174666.46400617188, 269842.8474100309, 225941.58218117437, 201303.5096370835, 416284.5133406051, 243912.89111989143, 542869.6001329002, 424393.9465054795, 321736.06783580635, 321736.06783580635, 209007.17185336383, 169048.40066233298, 161973.32648987733, 223301.34825034387, 171797.50351169612, 347511.0366027249, 258211.24466708803, 257629.04346707353, 139805.47603832826, 393239.8422314244, 185431.9551912873, 185055.64877126552, 238054.04041653458, 116568.08418912052, 122386.83799426333, 162432.16591342125, 170647.93748517908, 168216.19459948817, 175088.8836715776, 178371.87818166416, 172308.32731899153, 135646.84683952786, 131220.13737912267, 168246.78363931552, 176895.77547019516, 181274.68328161188, 154046.72773062316, 125284.43931567777, 165857.76754914544, 124540.42412266645, 188557.0460376446, 136911.14969343384, 144174.54242975122, 211438.5144370254, 254051.98115108098, 191773.31714076543, 472449.78272197396, 172658.5166828999, 276085.99263115803, 146112.55266947113, 207738.38398195346, 93445.85264588581, 169602.18485502596, 174624.5490219392, 105448.34738388016, 136221.87300851627, 174893.19643229299, 278969.5626659558, 288096.8803703967, 472477.3947664878, 175312.06827505367, 433476.95534195536, 135931.64643294242, 167253.65951799613, 164829.28817439775, 445703.9976365018, 158192.12869922174, 208422.74447414526, 271438.6619326681, 257186.43318607344, 244752.79989068565, 197643.63408922625, 368763.4385739388, 155070.08120021978, 173137.47905574332, 175048.79558509518, 616642.4424246041, 591219.7246179564, 265771.37503945635, 140382.0687257645, 200439.61090122175, 200558.29222157501, 154785.6422309861, 328539.46843793645, 685756.5631958117, 192172.0817180387, 216672.39043097082, 188042.899639408, 219016.5806835654, 93505.3429201809, 353473.5229762868, 444449.66941249353, 234817.19974007522, 188042.899639408, 158288.0027129749, 173432.75167067334, 177365.0506075786, 225327.3815289925, 154837.2321246476, 154837.2321246476, 164281.5131603841, 164281.5131603841, 132046.34162663328, 391581.749054368, 365498.7827702521, 139516.4892612797, 167554.27031935926, 116214.56051353819, 261644.4545015336, 171478.79314625892, 120078.61226370606, 186633.4615189466, 212100.6046131524, 232195.8002104061, 293675.8048823721, 207711.5030098518, 156296.77870773053, 90226.54508479187, 207900.6679607231, 165387.864965163, 219222.05565187556, 291662.14619151864, 223298.48460871654, 146437.75361456512, 71679.49935901724, 69668.77882200555, 67137.63609125631, 163136.40016367513, 132732.93549489143, 84446.77530259907, 87446.96039315836, 94635.91206193724, 123221.44557465405, 82079.19682477393, 250773.5924775783, 199350.39330634152, 188691.6445609555, 190828.95745958984, 139589.2865441399, 139589.2865441399, 275291.5495483915, 112974.08433918603, 243987.10812191232, 200034.06843490986, 154570.32823846032, 265499.84530333267, 91771.18166009749, 155211.55690209303, 105008.77477996275, 106513.93660725787, 98880.8748699392, 228318.03467138973, 178212.51571025405, 169767.03350241925, 201939.44601196737, 147419.37278037128, 151345.4422641538, 151345.0526657108, 147632.52481234237, 147348.8369212452, 147887.8561247787, 144965.41903436527, 144958.3638099932, 168515.61569315096, 168641.81119381954, 164835.45180853255, 164552.13923263195, 164547.06013950313, 161995.8396002939, 149970.81129022088, 159897.0118577482, 160022.8552453379, 156216.62853370255, 155933.0673052913, 155928.01037694246, 155922.8670373178, 153376.73415080574, 152701.76117358034, 140413.14469654247, 140413.14469654247, 137769.85990563084, 137769.85990563084, 137769.85990563084, 155787.07593889348, 150332.93260380664, 226094.4382544499, 101684.3270762419, 347558.92355598963, 258492.35202400244, 258492.35202400244, 370154.8501151472, 289101.0124948614, 276550.16142193985, 325048.1345153303, 318063.4756520221, 289101.0124948614, 325048.1345153303, 318063.4756520221, 207418.21125656518, 226064.6254625335, 207418.21125656518, 226064.6254625335, 170981.91495911597, 185443.277372845, 170981.91495911597, 185443.277372845, 184365.60004705942, 192721.69510000112, 184365.60004705942, 184365.60004705942, 192721.69510000112, 220520.2128975982, 249991.67311560625, 112436.94255026974, 96259.2007544016, 327345.9390336218, 154036.19029116223, 215404.42331116053, 406818.34782631084, 145608.88893401594, 170123.29068421095, 206428.53404784296, 96056.92139355259, 133464.6372573148, 139923.65978793474, 128258.55549491342, 143138.5456674979, 278503.29139645636, 98945.36275476243, 147026.49275188998, 145481.71118503893, 171930.81935361755, 165438.37533711098, 132421.66998413697, 161321.3877251996, 253849.0186228587, 119573.38107527554, 161321.3877251996, 253849.0186228587, 119573.38107527554, 111257.21253718129, 143244.0976697998, 111257.21253718129, 143244.0976697998, 161321.3877251996, 111257.21253718129, 143244.0976697998, 150098.57804341547, 111257.21253718129, 143244.0976697998, 136320.2997969606, 113142.29205247393, 131474.53277236235, 141896.39252333977, 122231.8413665505, 112997.53689257758, 180087.02939470438, 209457.71112185594, 243801.2375139361, 248287.3600470962, 163944.28605887058, 122943.53530857252, 181667.20594974866, 282996.7762676499, 312170.2195026445, 105074.93126662349, 189508.27722138457, 256674.86211365933, 126961.7105859415, 317561.51390916295, 215617.07295427387, 274184.55490183434, 192958.0887502387, 194272.16211800365, 290510.54696159286, 184873.24976366916, 184873.24976366916, 184873.24976366916, 228263.06102017465, 511086.6322847332, 136118.53904637758, 387068.0294201658, 366331.8813071717, 324434.5878262629, 138116.48520864907, 280687.66539317253, 566064.4443072503, 535676.80716274, 289540.9474510956, 210297.03633953503, 173409.07765646811, 132268.9829323441, 243815.84398767707, 180937.33084066835, 134608.48412659336, 106545.82987868963, 268168.11405464716, 146756.2247582934, 101682.06309223894, 156427.49461518007, 153927.3963244581, 214351.94845510286, 141180.62755881884, 267174.92666418443, 266764.1606421474, 133679.25454868315, 156154.38095090422, 100519.86746932197, 86457.6649336644, 200215.85464406188, 105861.19601913707, 188007.01030763012, 241857.6225229412, 263405.251604656, 137832.39720361034, 362101.2723794925, 145231.44001181668, 299188.36088228144, 180539.03937064923, 391861.4501057299, 150383.99251127074, 146499.38820739352, 177109.9082516378, 245327.7677595471, 139505.3938979803, 267585.0588182582, 304991.2553840768, 159851.84584865553, 229837.8232520115, 161664.18234243098, 138935.39241907443, 325028.2819625571, 198048.33302731358, 298487.0102850243, 185181.79959908294, 121862.40127683946, 246647.00647759018, 234410.6959119946, 185552.7260308448, 277248.7868091213, 180961.92409713363, 232358.0875631373, 99839.94808855478, 322512.967026654, 162764.95539259294, 96842.03561878434, 131896.32686800393, 257426.9746933064, 173575.01941583684, 271569.4549064333, 182309.08593621457, 232955.70685893984, 132715.12736793066, 150991.83302334556, 216921.3092325682, 143978.87948826305, 142576.39744842154, 151291.45511435985, 285258.3873876125, 264292.23662444006, 170901.77729978354, 198432.6832566017, 176488.75682632436, 135227.54693942476, 315850.3516929591, 134840.04042748996, 365282.44901187153, 135337.81876701553, 162814.35322911828, 68058.15751125029, 96348.7143252654, 195477.01706777487, 195477.01706777487, 98792.88605051044, 98792.88605051044, 98792.88605051044, 176122.22445621042, 100049.85292823672, 161515.80874337623, 100512.16881434542, 80719.2210940137, 180943.490720907, 77155.51909634264, 178669.57268206816, 97359.72631504628, 164001.77409950393, 193683.55723692293, 298540.991975655, 215004.8662220232, 139678.5502678967, 130998.7187381261, 158007.78197049783, 156054.1917359364, 193324.46362819985, 189164.38818156245, 197794.2695600879, 197794.2695600879, 197794.2695600879, 238686.90608105285, 200263.49938069878, 576023.2867545835, 522319.34774318244, 168114.65261372784, 219550.8881624566, 133231.16424073436, 261922.577938274, 333612.30419448717, 127683.10110313719, 133770.75842318463, 127682.37283984394, 145186.90765272302, 164606.84164141808, 159126.22967723364, 117310.08103743431, 128751.13733676795, 137934.06161870804, 117756.57195852978, 218696.4893667447, 229294.5190262355, 100903.97560664432, 88412.13350395195, 164803.92192942087, 81161.48329419471, 165092.483906995, 331394.7679248428, 149467.97085117543, 164576.81269338637, 124544.43462139892, 300110.0352275715, 119257.89029807258, 844402.379995828, 838553.3567436587, 239654.24146641488, 155292.40431502718, 942062.2235226745, 395353.70396144624, 273135.8704297135, 867186.2480372422, 522351.19336651545, 251977.06572878998, 248103.46595820718, 248103.46595820718, 262497.08892586676, 413189.9969134953, 138386.48873412993, 150256.65939050895, 150626.2600901865, 264124.7508007942, 363138.4276400794, 171525.9070393485, 108692.7730938642, 217515.6313220095, 269030.75939727365, 240365.05598585127, 115470.84398908351, 269920.06106525933, 354921.2350080755, 248866.19539030053, 197784.71722074365, 240880.5331502897, 371237.72711314, 216286.31147449446, 222113.1072052386, 183173.77548753226, 107394.72152220753, 116478.56872728467, 113090.03866504814, 101836.10116542896, 139394.55848404765, 107394.72152220753, 101691.97500733467, 101836.10116542896, 153410.8100051948, 204415.83698974625, 180889.93380181037, 198968.6512432225, 223674.73418824578, 151466.9262243798, 126779.31772195418, 235684.0397803731, 181457.44818548, 364333.3976160617, 151956.01666657254, 126962.39842309599, 720439.3061761307, 228974.76505865308, 154636.11964139098, 553105.9270921774, 146175.9942806929, 200373.12348428066, 157054.43896345585, 196832.01922919563, 138727.21306958736, 222690.0217544315, 81607.71500890554, 194090.60953875177, 195376.2767476554, 205355.89585564838, 240413.85142016102, 135742.16404304255, 145974.43881397974, 129252.33062398061, 128992.74203916454, 89885.42309623756, 90062.81411805977, 157165.72814337158, 121143.27442227869, 157779.70540481416, 67138.33597105199, 336976.5670222973, 127471.46154391707, 180803.2788002987, 153679.84542251797, 185981.7907589323, 264341.88849557005, 174696.68991766422, 174696.68991766422, 195622.60182607226, 334309.7246886915, 149612.19671393168, 176204.52045352847, 210984.38445532456, 181127.4622843112, 274758.02837910346, 80730.50332176982, 130208.68718962776, 221342.5405404471, 151738.2738315014, 166410.31053882878, 259019.06352066266, 234898.71899710398, 212362.50637005328, 480234.85532742896, 424405.5875955799, 182936.9773652978, 287677.9726882198, 248044.95300534368, 255796.85709645756, 124495.18332698458, 403353.04546241823, 403632.0798118554, 369493.9807829295, 231737.96131112892, 186093.4529393053, 128281.60365946773, 198888.1487800314, 235448.8975676134, 178283.27390167964, 223481.46145646126, 191253.4508635287, 214076.1991301402, 127609.2414253479, 244086.06403896573, 553281.1300823948, 366513.29691259225, 835959.331868038, 275088.2359644675, 749825.608785243, 814843.6345931801, 524096.2542144415, 226586.79124878702, 415099.2575702417, 147331.77109828847, 262085.47089104034, 262473.5922000817, 213849.01384402122, 213849.01384402122, 283314.939073193, 213849.01384402122, 262085.47089104034, 136099.62198828848, 264096.3060167666, 260479.92598820297, 289088.7407400798, 437442.0365986688, 443772.72616777365, 192502.5402131688, 219805.23737729766, 425072.8687925813, 311347.2746276269, 264899.31734295137, 137334.90194466696, 318336.5565919319, 212112.0468180983, 136358.0455353646, 236142.81958136937, 113294.66903986281, 130963.45627352604, 182552.43385504093, 132590.35778934922, 216665.40651390477, 70585.31411199123, 75410.05293886617, 184247.75309587037, 115524.98782016122, 128091.04755472933, 147953.38115328483, 86325.710087997, 204032.61369831013, 136165.04524263716, 216346.7709226362, 125509.05063533802, 143780.5829250452, 504879.55311898846, 162698.6115162835, 147948.7920141301, 115815.48505547206, 120354.02963009401, 113235.80976004514, 272713.44661158527, 422790.69530923077, 206217.53162024118, 171528.51094129964, 116955.61186524933, 138947.12723396922, 106856.21647837921, 236297.59565483508, 322976.9183876756, 294834.35417746654, 154846.25608208, 114426.41110404814, 95633.35824474483, 93606.58767420497, 92512.43339605008, 156445.265538783, 984209.0939849962, 164807.77775499693, 354813.02433271287, 201495.35314866883, 135371.87237260776, 175732.3629769096, 160277.42824469646, 341361.28365880984, 160097.72337798146, 184019.10165316, 258205.044603456, 200233.02335492897, 220198.2668331356, 239744.91154307628, 172356.5710959416, 687935.5227218724, 223490.17040178253, 223490.17040178253, 223490.17040178253, 362308.7352027957, 362308.7352027957, 223490.17040178253, 223490.17040178253, 223490.17040178253, 223490.17040178253, 223490.17040178253, 387293.0263853492, 293116.34751425503, 223490.17040178253, 223490.17040178253, 223490.17040178253, 223490.17040178253, 392956.10628796223, 820608.2606186959, 399567.7618494958, 704329.6475800328, 303834.6449523648, 219108.4543259656, 669881.4377960552, 745797.5105388858, 139302.43901992228, 303834.6449523648, 166289.14844063073, 188911.6164532837, 247997.95709271065, 142163.4905614944, 303834.6449523648, 209529.79622062063, 214191.07417839862, 110036.79785322666, 110036.79785322666, 153829.84532279818, 209272.0818465834, 207700.7510953123, 167769.88073498424, 138042.25010729424, 160360.36744864893, 161938.154164914, 150401.9606505372, 218566.06300659885, 222489.91225197818, 227415.59659852192, 215484.6017217638, 244347.5023167414, 220100.3029098944, 610919.8996225635, 245280.8009521739, 215191.04658324883, 209818.59746120847, 72189.7926787624, 139112.3283372851, 130926.50545085347, 221385.51985905, 221385.51985905, 129181.64025704828, 264116.56335646193, 228233.8200642756, 198164.80250490882, 238383.06141292912, 521550.07051519107, 269750.02150701644, 204148.89725935252, 255997.820774335, 355720.2690470022, 215156.90257156064, 164557.30881900052, 122689.83155733958, 155270.32535644417, 385383.65263450274, 267527.57157560956, 239671.102222344, 198322.07437698933, 170197.45809745416, 727680.2091398331, 278469.55854545, 224466.13293164183, 124072.28117602656, 108447.19645903845, 202992.48790392192, 146313.9977430366, 124565.10737966762, 94479.54473006973, 149743.56414685393, 108186.04525546521, 141012.77110478576, 184535.2827584743, 270089.0987220632, 94540.37133020698, 129181.64025704828, 281725.0251497625, 281725.0251497625, 202545.45845970645, 154053.07616124355, 433698.83291731426, 765934.6049540164, 1269998.6944441993, 142756.74722613516, 749296.4997505113, 463535.7165956751, 192060.64583803288, 433237.4079563181, 411913.8164957448, 160277.98220023146, 263581.4213566223, 161310.56089550332, 163704.65512051553, 223005.13207869616, 323279.56335868826, 141465.20382065195, 1541172.520782281, 221385.51985905, 213870.53937437222, 281725.0251497625, 263581.4213566223, 542943.1816634975, 928308.893679324, 251750.12579985178, 963224.1708232339, 218521.3404871684, 1944611.26424415, 137262.3425374871, 252561.5884210568, 148765.9547828256, 219293.0465849947, 170359.44439607914, 266504.6758313351, 401435.65949776286, 137521.89076748813, 155192.50262679908, 94625.31605316178, 107227.8436988598, 132892.70279916457, 128420.2718835707, 190622.89838854555, 106611.06284021863, 97142.97072198422, 161669.07186271957, 184894.2790657319, 226283.38210903507, 177096.23451902502, 109490.83220080246, 163468.08995617044, 145695.37331033332, 137754.1022508083, 163912.45119132986, 180053.0352981377, 120387.10964774797, 186142.26261836622, 107680.90107760942, 107227.8436988598, 107227.8436988598, 99279.55646019842, 78657.98648045817, 91927.04738519332, 182201.3769401961, 261627.0999831085, 293327.1708622135, 113129.41559658649, 110072.97488013397, 107227.8436988598, 141473.8188695713, 94393.01268130646, 119376.86242384285, 148798.76671617787, 119376.86242384285, 119376.86242384285, 119376.86242384285, 148798.76671617787, 119376.86242384285, 148798.76671617787, 148798.76671617787, 148798.76671617787, 148798.76671617787, 148798.76671617787, 148798.76671617787, 148798.76671617787, 109013.88972433083, 151064.63349327652, 127914.14046057186, 112557.92465633297, 203833.1186964269, 294681.02881044726, 154782.38520098792, 95623.22883054268, 121134.86900176478, 121134.86900176478, 124905.5000697874, 157827.74403787672, 231159.51906259687, 106928.4063144594, 227621.01669122887, 203152.03381805864, 128164.96496420601, 205759.18540003418, 320510.0045636452, 156514.90303472616, 176269.98074392416, 133583.16683655404, 376955.2730069191, 113923.55586193263, 251821.32531346002, 189683.61943135096, 258944.53284642135, 141010.4004209774, 92032.89009677686, 141010.4004209774, 169707.09622448785, 134661.61017857285, 176607.9624093639, 136107.92059560088, 183518.90209318022, 183518.90209318022, 183518.90209318022, 202981.11746373694, 206680.3088897624, 197433.4493400994, 217806.9928800937, 157263.36327486308, 97566.05973403131, 202981.11746373694, 153404.5430036905, 97566.05973403131, 178841.86751780284, 166169.7712104509, 149114.57260982227, 183917.60541528487, 94726.39228374811, 139390.12210238626, 153668.9670913464, 80443.90751380805, 150000.91404811153, 115865.0028403419, 163552.88665087387, 122962.15813313251, 128812.94077290257, 424560.94377961825, 192446.6563123363, 226875.5725124066, 600517.9888127212, 131416.35262504712, 415625.42808209703, 143966.88570541074, 131128.34326830113, 319822.69318621006, 112756.22559338549, 344469.04121002764, 225821.8955245563, 544322.5841676015, 140628.4176699758, 199361.1326015237, 178824.43800194265, 210100.1537071211, 117463.03757140652, 138982.6982085893, 95544.21447198186, 236392.77753858315, 190048.15337034193, 477054.8755305988, 142677.63094509288, 162857.8565041371, 232110.98254378163, 135328.50180060923, 180170.03608815404, 131422.40885208163, 168007.7030595541, 838412.4847650155, 383856.7848652997, 212930.64344927733, 133804.94445276615, 132581.7604808262, 328797.78642282856, 383189.1044255412, 365566.5853371947, 117778.79112210992, 199892.12920923746, 104882.23777310134, 266136.1363101919, 168752.4457369526, 202872.47336884736, 164288.57232735923, 191488.1072057317, 187033.89603264362, 164288.57232735923, 164288.57232735923, 171085.64302221182, 165450.71337713674, 329151.317939157, 132645.34602398623, 186709.5968655649, 172897.2204254723, 176782.70165943797, 172901.47844427993, 159897.396415391, 164983.77739729622, 312167.7948018779, 107672.56108757172, 171769.79529830324, 323484.3037074961, 285412.9559350199, 113288.55162700391, 235893.37009745504, 175248.61414808827, 259601.28007460403, 196606.68663888867, 113580.72107055658, 187931.49131467557, 241741.04597090118, 86087.33429778907, 133584.2707561935, 276416.0259563812, 112459.56391978677, 185155.13650090885, 473313.8874735476, 86087.33429778907, 289126.63372143666, 118130.0116481306, 147588.82907998987, 240298.8367272892, 188429.82360733696, 864522.0430111276, 151234.6725932353, 185725.55312728946, 188429.82360733696, 141391.25934819586, 212594.17902252908, 193929.2970539938, 264557.5616704288, 109052.83998443407, 209435.48954660268, 119604.29263291428, 272626.76648796815, 116920.90414541832, 457421.1985342047, 222106.97881562682, 313449.3020176637, 304461.7830987825, 122998.55007698585, 164288.57232735923, 403037.15135952993, 191488.1072057317, 187033.89603264362, 180091.95980555276, 132785.9095999173, 164288.57232735923, 156602.21413164362, 191488.1072057317, 233093.79525145184, 224631.00397792167, 135115.33715348833, 152262.9636842567, 196688.2007704422, 237110.76304074895, 926310.6710246893, 140360.0453612816, 180067.3338896473, 524070.0688203296, 308057.0544959321, 139721.16140137694, 145910.01009227498, 184480.56726869897, 127589.1094139574, 178791.03569258197, 133283.36243684657, 301826.7571161706, 158629.2178594927, 123968.15867440199, 114532.50053140597, 176768.2032236742, 213211.33617008233, 156264.7215586077, 168236.5283220944, 172946.2285833329, 266285.53551804135, 264644.78176538786, 152142.82431430713, 220478.4993183862, 297102.8314777929, 200170.5106564034, 154983.30328902515, 153019.9571274601, 208700.52645906853, 218126.93449821352, 466139.66786634264, 138493.71648873424, 252960.0038554888, 211069.9709982989, 185401.96148586384, 203296.66411486492, 591681.6129674243, 126648.11666337878, 128999.98233074148, 230988.66844210302, 193162.98710550752, 265915.8116866905, 128999.98233074148, 137328.11960460944, 196885.117211479, 169939.09289650834, 232414.23653976884, 253056.987023801, 129502.01114711992, 141529.13246301093, 125319.74035795536, 149305.77142307357, 591683.7039142997, 307784.68347682117, 447240.7395961722, 183123.27343446744, 228427.88066288875, 133732.53881847815, 197877.94098495724, 311787.8812846927, 785904.8409163934, 382141.13043527456, 652101.5261873506, 160845.20298516384, 135047.39680857118, 214628.20900802733, 296021.7953467284, 442994.20772552816, 251062.30986770106, 309418.5434644788, 171506.84915166986, 152925.29663604018, 333143.4878574653, 93776.69599755833, 93776.69599755833, 192884.96616537205, 116271.6992400689, 276003.41351860645, 324827.656918695, 174429.38038400735, 108338.32934369202, 593222.6500686842, 158210.4849946259, 160892.95584026712, 126310.48529221426, 199946.69582693133, 105874.25015449552, 172268.77718449724, 172268.77718449724, 255917.8317349673, 121628.91278344957, 119566.70265532777, 119566.70265532777, 119566.70265532777, 119566.70265532777, 119566.70265532777, 119566.70265532777, 119566.70265532777, 121628.91278344957, 108851.72780139517, 177702.42579336118, 148115.9873867897, 181042.56477978444, 113795.14749611935, 138865.97280250597, 206555.32923969397, 113452.89921084166, 118661.7738118974, 168232.38095306445, 245055.88808113284, 103726.45240125572, 103726.45240125572, 82829.2156614257, 174169.7230450527, 300170.4530526429, 205855.96898487277, 262440.1619001437, 388772.1155862192, 205855.96898487277, 262440.1619001437, 388772.1155862192, 205855.96898487277, 205855.96898487277, 262440.1619001437, 126596.68514728296, 388772.1155862192, 205855.96898487277, 262440.1619001437, 126596.68514728296, 388772.1155862192, 165831.12301740405, 205855.96898487277, 262440.1619001437, 126596.68514728296, 124273.29753569621, 477744.8078779541, 131929.4526050695, 137328.11960460944, 128999.98233074148, 154779.33031413515, 131583.94087177835, 131583.94087177835, 305425.29798836284, 129624.86490054565, 192655.67804272776, 255188.1485118607, 93600.78639749777, 93600.78639749777, 257108.77763996727, 132651.97159438097, 89974.81098199905, 128885.11837857918, 179378.04730918808, 112826.16407140408, 267995.6895296494, 235554.26602117714, 254134.292582137, 131515.0940785882, 205431.52301103337, 290276.8316160528, 190068.1405189769, 142057.88016536756, 146395.2291128192, 115212.13478891892, 127573.21499851465, 117491.67580318646, 224440.15294143415, 125626.51818966428, 195004.04993306857, 200415.24767009754, 173003.8013487515, 200332.64298669735, 143215.57274812466, 178965.94756347357, 70504.04045078083, 112261.16252711744, 225654.25400755164, 175255.60930852135, 205606.8034445916, 255197.69145817772, 141815.82105278596, 209939.93468278676, 210885.95082863973, 1078537.298009551, 364330.7320841035, 374682.4147944862, 404874.04366291704, 301607.45208018034, 223024.9109539676, 165653.42930248426, 196885.117211479, 221879.4779899901, 205823.62614506664, 165653.42930248426, 230988.66844210302, 196885.117211479, 193162.98710550752, 221879.4779899901, 265915.8116866905, 548798.9605884721, 245692.9803181223, 167979.34332698167, 163471.10773653165, 490411.89026205, 246430.26085619614, 161851.31926175382, 167067.80699004393, 128499.12893561681, 167067.80699004393, 131583.94087177835, 154779.33031413515, 195167.90492181442, 223602.0282041232, 190987.8407832749, 264859.1055500714, 264859.1055500714, 223602.0282041232, 212689.10425861215, 147330.0103730053, 284171.55090907635, 133223.18918189066, 230208.43812985197, 265570.40958639927, 129425.33871410452, 152546.81140981492, 158352.41809469138, 121300.9224863983, 134058.780150572, 257654.02126542391, 263095.45985555527, 263095.45985555527, 238420.7914136171, 203385.8818385438, 161948.96469184858, 163258.48166966607, 171489.31321422587, 89706.89769101555, 185423.35329836432, 221860.5465452879, 107127.2616076874, 141578.96290637227, 143921.01371147012, 142766.54311333538, 193455.98581040936, 68292.97555465682, 130808.20484524772, 122034.29983006086, 200357.85184733017, 144968.19223137066, 152634.94478953854, 165837.3306000285, 161313.11642380594, 224484.7294353183, 181447.1459404056, 340057.63792319875, 132718.22160885896, 130777.71186785903, 181447.1459404056, 119853.28113523954, 179577.94958022787, 136216.03965438646, 136697.28190091345, 176501.2391555893, 110005.37639417805, 491871.9961590188, 251027.88530853402, 249848.0491748358, 499426.3351088826, 517222.7619402815, 392384.32724503614, 225751.43281726452, 145510.8454779912, 113812.33816573341, 220774.15706202725, 230871.55768917833, 184729.69001058553, 266271.70136260416, 218408.49578638293, 132614.81262756576, 161611.0095774245, 79426.66223305413, 182580.8633037985, 156044.42207134323, 196958.80701781597, 86815.53620731896, 171841.61987705465, 132298.9198852798, 91130.71972310857, 160395.40161125758, 125196.05736437705, 198983.89478258733, 307963.12057404866, 159445.49657879703, 174003.58499704406, 262226.4949940662, 173175.3287068809, 128071.7757067273, 115534.8119923018, 113839.69338534564, 90152.61909492026, 86176.7382302974, 88240.74894536925, 158738.0288926438, 261424.42690347385, 259735.53850084177, 220457.274986569, 311671.8174298849, 137356.04101632358, 150494.6451861811, 201676.8984654868, 122964.35900853516, 318335.2380573865, 309448.00986064074, 309448.00986064074, 318335.2380573865, 308614.28692031937, 357876.7249257404, 357876.7249257404, 365994.78023346124, 242355.6113861172, 133480.3743450199, 158688.1259525543, 140456.04319755174, 101038.19392887311, 170559.32226037135, 96837.25187285803, 96837.25187285803, 163925.28027762173, 175724.21454410077, 163154.14895732276, 164228.5653785041, 163154.14895732276, 148147.88211382355, 152287.8102025483, 152961.67273536598, 152961.67273536598, 154388.79669491207, 146678.43232290796, 146678.43232290796, 146678.43232290796, 146678.43232290796, 118408.54670923707, 121268.2150550811, 178472.1068210639, 192363.07321751877, 134342.27943202417, 138586.34445382433, 158621.47449541162, 298229.6867624617, 148152.34457591316, 156213.4781726697, 78590.81659704795, 126648.11666337878, 100480.30325956189, 142057.91752080634, 108038.26627596041, 115619.78981512826, 121090.25400980514, 195449.62508149794, 1113207.802990983, 247461.23954376852, 79751.98826808025, 76245.35073951754, 145584.37583047757, 200083.4794073908, 200083.4794073908, 207959.00996040142, 121300.9224863983, 207959.00996040142, 200083.4794073908, 200083.4794073908, 158352.41809469138, 254614.94684947474, 243370.4530422645, 218303.47797781447, 201437.11604224483, 302367.7515506044, 132048.97322698878, 124091.39097931703, 107179.5027323846, 85160.11554653296, 120656.72052803685, 75186.43306320338, 97966.76580136901, 137632.30588878208, 245844.3292433438, 199681.76648197934, 151951.6464738422, 323554.70894534205, 202398.59769421263, 105412.12677443994, 257258.14054499642, 133564.92475958262, 154879.3473581995, 99409.50753713438, 173090.2675663424, 129308.86386510391, 462139.48787452397, 216646.86063614214, 201436.98378929863, 125218.8545873546, 211005.6223374414, 139168.02616771765, 130916.07684087381, 155646.06859229793, 215445.27863565704, 113535.75797162866, 117622.09000425565, 165744.04759647915, 152615.66238818545, 241342.03433840035, 176482.77097823616, 88340.59717939176, 260564.49328533787, 98369.3807486206, 143064.25452855404, 148710.80188989843, 155192.64046089945, 160140.49694626822, 284913.16104632814, 115207.03015659007, 156842.40851039474, 148604.05612392328, 186762.05741850572, 78594.98341589801, 296844.8665850429, 147891.27335808665, 223890.5846563531, 247772.4608678162, 267402.540000363, 267402.540000363, 309637.2165402343, 309637.2165402343, 267402.540000363, 309637.2165402343, 267402.540000363, 210167.54398514947, 208678.11581870224, 175955.3482738023, 228429.0897539587, 320724.4444207073, 109740.99801518588, 254115.72789395903, 255506.78121704917, 153706.4296564252, 290965.1825046787, 446372.15002805565, 255764.66761042835, 269005.0204165187, 171477.58254042332, 147050.58381109405, 334446.3416794155, 190068.2365843081, 112640.15916493625, 231390.82398201458, 372623.01042906014, 257108.77763996727, 263847.4095883863, 250700.66127537668, 234332.63578861015, 576054.8602570872, 160632.98595106814, 154373.6699726813, 194431.7435677526, 188139.25745320122, 263095.45985555527, 263847.4095883863, 207959.00996040142, 257654.02126542391, 270615.320130994, 270615.320130994, 134058.780150572, 129425.33871410452, 160632.98595106814, 152546.81140981492, 156350.21171717043, 124353.64502931031, 157335.67603182665, 156350.21171717043, 134496.61255635912, 156350.21171717043, 134496.61255635912, 200758.42353872675, 200758.42353872675, 257648.56466844707, 189205.1371139196, 273665.68126805377, 257648.56466844707, 265561.5008459317, 265561.5008459317, 2351751.584205956, 200468.18481007207, 200468.18481007207, 512181.7798163912, 505206.70603706513, 190270.3395279129, 155525.14858656915, 103618.90363854961, 110513.67814590404, 129123.44185795865, 157151.78164112713, 266008.90223605384, 266008.90223605384, 208604.94063418187, 200113.33169919497, 200113.33169919497, 158493.64000331305, 202470.64617109075, 293468.26040489366, 100167.15035967965, 119077.7851759478, 100167.15035967965, 81943.53660019464, 119077.7851759478, 110075.55394381228, 108477.98503626836, 162399.65810676973, 151758.1765460028, 126596.68514728296, 210492.7080604417, 195716.3814526007, 245995.39031872465, 199740.16840262845, 66932.0238441701, 214963.2859914392, 307374.3233691355, 168801.69719728729, 169180.4979519641, 200486.32279886643, 548303.7939495253, 690440.9141614313, 172445.36971748603, 147231.61544457017, 147180.22560707695, 150185.8411493533, 150185.8411493533, 145170.27248961403, 731453.7074724911, 147885.0444436192, 919433.9231355074, 227718.586878794, 132821.89614636093, 186211.58410713245, 269463.9015420716, 254619.96954359103, 455027.7082846419, 210048.66961800086, 210624.41954741068, 120762.30197975025, 211728.89386988548, 120762.30197975025, 211728.89386988548, 472002.0646243872, 644864.0121024384, 72467.48132447025, 137760.20064773835, 249001.5913164994, 440182.3632646619, 225494.89491097708, 271313.83337184944, 160359.0659298147, 164100.59118245792, 321348.7090436022, 181475.30678933504, 114236.81059588486, 244524.66546681552, 325683.0477508525, 207162.76500297367, 231364.55704945725, 165493.42211359815, 294967.49881301646, 171503.33055705728, 202160.03899177306, 204911.25115510143, 206909.2119220182, 201427.3307740333, 109382.19778841821, 365994.6939730119, 122925.55587798147, 153908.92885847663, 142722.64572095172, 109853.8777518772, 238715.79354843526, 141858.80024445086, 146092.8880714391, 165542.96514231942, 141330.9597291105, 170556.77975102517, 156623.78375266364, 223706.33828725797, 138378.4917337727, 212697.92810927692, 121406.37571845313, 183521.44839701673, 313233.5067825178, 156117.01413180536, 199898.23810401052, 226679.34534969032, 170797.673214303, 90152.61909492026, 84992.61750350744, 106746.72336500637, 149603.66065614275, 82119.62125764745, 227534.53165564995, 90285.3781668153, 274158.6806244008, 247063.93690255965, 400501.94477332185, 1073780.6316622195, 916919.7012499243, 191950.00135577205, 148224.49581642312, 162047.69003419834, 172913.7204584775, 143832.0773102036, 252493.67369513374, 190761.65803502465, 462232.855573991, 133724.6869270122, 188603.48682336698, 114501.18761725567, 115846.73085074863, 93904.58052738536, 90152.61909492026, 142496.7689221738, 281536.2255535901, 320437.5055262195, 327723.0953472958, 174168.42919487078, 135914.4928602689, 160624.34503449354, 180358.99332547258, 153464.62452758045, 155518.25592982245, 154381.8425692079, 124364.52905758654, 124364.52905758654, 212631.25944022587, 200392.17751800868, 199323.86184573208, 199806.52137307602, 180323.08441655815, 179229.35872306055, 158342.69311622938, 176198.29012402525, 104824.39662624264, 156110.99082105194, 119977.23371678125, 214083.43796971865, 268795.4615506452, 222990.10511090694, 106138.7453936186, 244277.77021567104, 310528.908256394, 138371.04795311287, 118692.1029974315, 104299.19185899146, 129930.6206812566, 93556.69592578452, 205988.8219956085, 100132.6556200106, 681084.2303964952, 180506.3814347347, 352862.20588632225, 2285467.275431587, 170423.8326236567, 134833.37968670684, 296517.33822438144, 171069.26386168777, 347432.94943832257, 146378.8465205589, 866376.725390265, 182180.08745564052, 209636.3370669919, 141900.93289919343, 295094.5564077473, 212119.8037718149, 181823.91422359983, 104501.06298149175, 174909.51558537217, 323718.05637097586, 113239.6535669275, 580528.3760620347, 158493.64000331305, 265645.7574039305, 160855.87537763116, 120502.13350095465, 114980.40601659301, 595145.6761188897, 179420.98497393716, 324193.1879353277, 148618.58513260938, 135054.2358124875, 154827.12242362546, 279727.03764753987, 158712.87572355967, 195205.2475399117, 107768.86906429094, 110105.23496339386, 192621.4369300411, 143822.36805850058, 286263.6883584054, 115131.53099849264, 268934.29817631736, 136404.03722685442, 190260.934814927, 170667.27568916857, 143518.1644518682, 175122.11158982836, 185761.48737049347, 129674.39951231412, 129674.39951231412, 217947.73599137797, 198113.12484935948, 124210.48025292584, 366291.9459959709, 160973.5897916886, 266796.91621100495, 220462.25585020683, 124796.6155746166, 218215.68044134864, 267349.9481326067, 288809.88974068593, 256225.373863807, 128607.85538645269, 153847.81012665946, 128587.06820913295, 198090.16359702265, 448575.8272345058, 143741.52763479736, 128164.81473867908, 128164.81473867908, 219798.73978256085, 131860.35346373578, 149159.84794420956, 126441.6075703199, 181832.19860987784, 322779.9916046113, 198392.00768210329, 246248.49959818268, 419444.6449318123, 211549.06461146238, 220983.95220126383, 115436.0787978142, 221181.34447726313, 167831.4243313997, 224467.13902901203, 157142.99034224392, 209926.02727656125, 347590.3465569954, 146072.14388984762, 139968.53841982465, 100085.0036885679, 132945.70173324077, 928852.8447252387, 178573.9352018278, 150254.68079067604, 221172.88379928865, 367621.6272753075, 190727.73834296956, 147962.59166813287, 235925.53966658242, 158290.01953699155, 177699.57469427114, 158964.34270650524, 181494.69326014502, 201947.22430594533, 384318.4348554248, 191372.41760671712, 166122.10759356798, 173615.7574183045, 112491.51278778595, 170157.09857753757, 251372.3731287208, 375238.0296545801, 96766.85761269578, 115908.47685554645, 102909.98812904464, 184113.16831083162, 170504.11853763438, 313214.818994592, 313214.818994592, 84379.3688779879, 265211.655682486, 126648.11666337878, 155166.52733998746, 129067.5104955218, 158997.88158974441, 158997.88158974441, 158997.88158974441, 133097.1431038035, 210095.36631270475, 121820.0180025888, 113416.37077184912, 350768.26229860354, 380883.8235088083, 334851.4514785995, 656051.6426159827, 352141.44942098786, 212356.9680847334, 208604.94063418187, 157337.7552392493, 163974.7117567539, 266008.90223605384, 200113.33169919497, 188468.7607632075, 141405.1149627618, 201415.46913428284, 264406.516548263, 264406.516548263, 201415.46913428284, 264990.04709763033, 265446.1656819567, 216440.65219857916, 216440.65219857916, 200383.3989159178, 200659.2850572138, 150890.17670579534, 162910.27787789475, 386188.44349568116, 388121.9998226527, 250613.81823864277, 290758.207583654, 189753.8911187121, 333340.034067088, 190002.17193100287, 107739.34391181695, 255809.8653029384, 330773.3106213269, 208197.1911073795, 207361.3670963784, 183439.22872745822, 150968.94099276466, 254737.44171983894, 281894.1706780442, 167803.7060984138, 69413.72227194707, 184738.63374740173, 233601.42668885752, 215958.3206107478, 112321.19592342484, 177357.14853524574, 233737.52936697804, 669620.4135923382, 153026.67174740604, 127163.81737668108, 387344.0480799781, 76082.85027376012, 157278.9890740426, 287947.620459871, 141491.45822401633, 183836.90531746252, 692249.4100465683, 80371.73198453123, 281799.643998571, 333169.08666912303, 195960.3987837928, 322147.7661999153, 165831.12301740405, 92281.23582276586, 182614.8069845345, 189804.96718938512, 685025.3699517086, 256923.873854066, 153379.76261998672, 200393.58253822292, 178209.27385124454, 161536.4007210328, 305240.83666175546, 305240.83666175546, 266990.982375736, 305240.83666175546, 289184.323903519, 289184.323903519, 317673.50882964616, 317673.50882964616, 267341.48470662354, 116880.77512132515, 134009.2967136195, 86805.33412890154, 106939.3406092699, 150750.73768983575, 224569.5109629128, 157442.65972310782, 200288.54647110472, 161829.9333299806, 204905.6809198708, 133272.28962866237, 141184.2428960094, 212894.78147559997, 122066.8957144592, 310015.5566223754, 160822.54316386324, 74884.50579160299, 151500.52598043758, 169445.72569551237, 384666.8630079719, 1219859.0642780522, 1219859.0642780522, 218071.87482217784, 391566.08213547245, 391566.08213547245, 391566.08213547245, 391566.08213547245, 213086.5508246613, 213086.5508246613, 183534.79383298272, 201055.3713783566, 380461.1469832582, 380461.1469832582, 136772.23877972792, 284019.38276036235, 555249.4585664533, 515397.40979199734, 722240.5469235928, 147443.2411715257, 150693.34942789184, 212984.8439650262, 187229.06499765223, 124039.21652460522, 296953.78416941216, 185487.1174344973, 240994.0636638046, 453740.67618642666, 156333.48582253334, 156333.48582253334, 156333.48582253334, 324050.1004476267, 162000.67087798548, 148275.1220415043, 144532.8986633367, 144850.44980179874, 216164.87832559744, 234151.39014170846, 187054.67745230772, 144994.0678420405, 232582.0072372232, 209290.25100084668, 168068.8088941999, 162196.73902732774, 136113.0223308476, 105706.46211404089, 105706.46211404089, 285309.9205019225, 182427.10003171852, 261202.3411560601, 196662.98050257287, 302285.9440372988, 152429.79433489344, 168043.71145594568, 179019.0629148916, 435583.5702412574, 245540.97890852368, 299923.2116971019, 285085.20938838774, 146072.14388984762, 317651.9134814317, 171243.7406717968, 278009.5614022529, 149656.33947953256, 386216.821904861, 299516.1802478825, 198453.83886096964, 198453.83886096964, 414317.3030088786, 123009.20072217897, 134221.3449037614, 198453.83886096964, 198453.83886096964, 198453.83886096964, 153163.6264870257, 160540.35420491878, 160540.35420491878, 160540.35420491878, 160540.35420491878, 160540.35420491878, 218053.8165110113, 209734.56666212736, 282024.5338924759, 317651.9134814317, 1518126.2151482943, 472691.9509519083, 189319.02993889496, 151777.37876978988, 178214.05273867145, 124954.95219350126, 187432.3661251, 170891.90629768342, 189242.09243155224, 113013.97038060376, 182730.8271654846, 269351.13827248535, 158767.9118917726, 140171.36504891785, 140171.36504891785, 190464.7992007978, 265446.1656819567, 201415.46913428284, 264697.2438782066, 145105.9548628889, 264406.516548263, 140171.36504891785, 200659.2850572138, 264990.04709763033, 190464.7992007978, 264697.2438782066, 386559.3778030926, 264990.04709763033, 391840.79442332435, 199373.11865124255, 138988.64811321974, 201209.83599644402, 201209.83599644402, 266334.00203935447, 154417.336283953, 144133.8312090057, 266492.5407338268, 216659.57988286432, 144141.29075428625, 144141.29075428625, 166565.03433151144, 144195.7008901276, 234579.80872308125, 254796.16478034557, 313145.18238451803, 147242.03440563395, 152119.261346545, 152119.261346545, 212683.24395472743, 266518.33319274423, 266518.33319274423, 144782.68223826768, 263008.857675129, 212683.24395472743, 175614.45684800216, 217414.39294301064, 216818.38981310715, 147242.03440563395, 212683.24395472743, 174884.11701485742, 152119.261346545, 251993.81714261736, 146072.14388984762, 146072.14388984762, 146072.14388984762, 146072.14388984762, 168546.98769381407, 123705.66562942877, 168043.71145594568, 122847.4467417465, 143163.12475398564, 184117.50641079008, 240772.33738411538, 168043.71145594568, 68970.88647154588, 138456.24615150117, 198453.83886096964, 198453.83886096964, 198453.83886096964, 69093.98504728882, 123956.86877735087, 237394.66659627983, 238607.98531179974, 149848.6445593187, 124116.52433931682, 152608.25363192515, 146072.14388984762, 146072.14388984762, 124116.52433931682, 147758.33513839112, 263132.56287933653, 146072.14388984762, 146072.14388984762, 146072.14388984762, 146072.14388984762, 302098.662982334, 174393.62295968836, 149848.6445593187, 168043.71145594568, 134226.32471798264, 183400.07902357873, 149689.78391591785, 208617.8061302756, 79385.6999262404, 169892.2345667187, 294502.35441261105, 140210.52553887412, 182718.43695949047, 177493.0673136385, 614377.6946910667, 119818.7817397581, 236772.4035824231, 229550.75473413136, 218062.80489444395, 227331.3859484273, 132651.97159438097, 184776.3734529962, 193500.20681479864, 251426.15531032503, 251426.15531032503, 174739.6944585193, 400315.63652218855, 247418.57104778138, 233506.4301020312, 240588.6910557558, 99846.88122575256, 302584.63211073243, 229052.1530531618, 164865.1933593755, 410935.2563915876, 116662.15255989079, 216903.9651279529, 321963.31701484753, 145436.57968698296, 316808.43811786413, 254070.5533996435, 154086.0074429488, 274115.2087859615, 187290.60240430335, 160431.7583707588, 89084.7680979125, 162552.14921115237, 213866.35364460808, 349161.1279455567, 489314.41006656, 443789.1895479139, 259329.16478146805, 175067.3792367042, 380591.40951840184, 250508.05059761083, 94297.26275095667, 100811.13155799493, 99389.07521700667, 171364.32696975552, 447548.6123342239, 265735.3983988402, 216818.38981310715, 173789.4833674013, 186444.0058716524, 266740.36369855865, 184454.27798362472, 231079.98386583693, 247840.8711736978, 177426.74272251746, 189672.4661064837, 2236725.080950192, 190014.51152476086, 235855.15844166404, 279884.6476475114, 224760.4025545821, 178346.84710141626, 183956.13871063924, 316688.9550452052, 113175.96533294009, 1191439.154124764, 156316.3190675989, 100055.35331710192, 148438.05244428548, 215144.62086273945, 274377.1026350117, 611041.9478956526, 158997.88158974441, 111144.3576160067, 143285.65048372312, 201785.04046780738, 293682.1607028428, 180720.69776025595, 96593.14177049533, 232285.57243864282, 110303.27732918966, 179981.41628072975, 105174.41952032899, 277924.31494152005, 156789.83304568497, 472951.7623942879, 461650.256850897, 440650.3201624646, 82345.53220963376, 158292.64255572326, 252466.93747400877, 175684.77931067935, 229865.08495883935, 195533.23640211736, 294043.24001968605, 337842.4305968898, 159519.82579127687, 258519.80378883507, 180370.74346836947, 222706.22567872354, 174982.79184422814, 356323.02966407506, 351545.07823555043, 99774.88138743692, 127560.84746447207, 107008.6102734968, 148292.91531676846, 164637.7636154141, 291066.3522312029, 144477.54885390072, 108042.02990778237, 128729.61607786125, 148590.77170316398, 110145.85490239534, 198201.03800615278, 580098.8077927069, 492846.13398163306, 492688.97789377335, 182160.63071762538, 108724.90402953286, 181915.07442663138, 192598.89605261272, 151950.3982613018, 164507.8865486827, 200377.4196974638, 222005.6875831111, 149320.67457815085, 265250.78510635486, 265250.78510635486, 200496.11879108613, 140821.40129877784, 269334.2394570222, 200496.11879108613, 158337.65350074187, 158337.65350074187, 158337.65350074187, 507201.2265269468, 328030.10099345556, 147520.27552462157, 163717.96383237795, 280120.2642841138, 95973.5551079227, 170280.89586626118, 129734.64676787257, 140032.9345113997, 138543.48152761286, 129570.14604374851, 129569.67405367139, 130568.14453390389, 133633.15944000572, 246431.32800915575, 205227.32795812807, 177097.8317841022, 218308.39648421924, 177097.8317841022, 142271.31336249423, 218308.39648421924, 685538.8567603007, 177608.46122928435, 157146.412206914, 133601.07961864347, 157363.72125701894, 126044.68958300138, 154110.3948546088, 125173.00205894967, 169978.39821535, 143294.22818950692, 132328.7658793353, 345372.0213423385, 153498.28743378623, 284194.75951913267, 158997.88158974441, 191874.41076962187, 205770.1459276078, 307901.5001882153, 440792.4343250267, 254108.3308408206, 254108.3308408206, 122925.55587798147, 122925.55587798147, 122925.55587798147, 122925.55587798147, 335190.2498976868, 383942.41078445106, 219294.11187020212, 327121.7882579764, 168058.71706904683, 94015.99352675403, 107366.11492155501, 362323.95597847, 129353.34705388063, 186370.0275031061, 165710.75994487072, 240890.21426151693, 148410.05764513597, 164721.9082728707, 187187.32050242982, 120366.45988766255, 301848.1373602322, 444004.92694456485, 273058.3139632386, 198252.83450015483, 299589.13350393495, 451033.7120641316, 260983.5357039845, 299197.08111475746, 195907.47162661178, 328321.71070630447, 189079.85630549773, 114046.26584846465, 259404.8075410105, 344460.74849696655, 205866.5781682257, 205866.5781682257, 419008.94950876164, 218831.04554000555, 222005.6875831111, 208178.43574599945, 202151.09785400797, 389709.43106128206, 143499.4612740397, 110354.70738780318, 687364.7218763211, 352246.93922843965, 447393.6055877292, 98325.53372172767, 238062.98446735577, 207868.64774705318, 166167.04620215175, 86477.9791685825, 210028.05701628042, 81608.09729227357, 285737.83741169353, 177690.84482068586, 110347.66298828577, 175752.4784900872, 324641.49826956075, 153233.78807194214, 135469.40384466504, 498836.01642281946, 248623.53719343548, 99244.25836819758, 174695.71586975153, 167184.45734043335, 145734.66202753407, 132459.1941226942, 394400.1026484562, 406433.22841038613, 698137.6903319034, 159571.32739923004, 326278.58099201246, 126854.95033616826, 583326.4098490042, 226687.6963882421, 298725.9299341566, 95164.4737526167, 108538.34852313713, 152240.99489841046, 599125.2149083483, 86251.68231201869, 86251.68231201869, 302744.3388799808, 252146.4266393117, 127968.80161384647, 183314.0699103233, 304086.5794146499, 222631.40701280796, 218411.00340447103, 202906.73171432695, 394132.39352050656, 150204.11772664622, 280107.3541804619, 436290.9476918648, 242819.47047571733, 295711.3883638267, 182166.50507636275, 314373.83985529357, 176250.55384531492, 112378.22336543415, 235238.94763351674, 331277.55279588245, 206172.72906722597, 206172.72906722597, 421793.78950425383, 202166.31492923666, 232713.8783770216, 315698.3796412891, 248139.301780262, 166355.4791731974, 179931.03754524095, 97382.03592326504, 106425.16264793985, 111798.60547607142, 238883.20851021248, 159520.86815740322, 124636.5153983006, 161770.97303904383, 137332.06542799098, 375587.9999931751, 359374.7482113453, 199623.9282566865, 394224.4727402167, 276114.6127514281, 196464.29995156475, 194705.96798610463, 124676.99858419056, 139417.80288901666, 176504.10565756954, 88384.45705847933, 260619.81350382266, 159228.122727464, 123181.84484089779, 258388.14701292443, 202584.97740865016, 125824.94715109673, 385560.9188123817, 135852.83571964555, 175785.79514673396, 506938.22365346726, 183295.01409528314, 189246.7326568792, 116982.96382268998, 121644.20922954023, 122100.09198565682, 195560.1571159936, 116068.73751344821, 157212.07445409507, 193570.91496724548, 167854.06989875063, 257541.47722906468, 220821.02426696313, 75168.39473603464, 117300.77618263646, 191084.3690678717, 290710.0785242531, 239881.4925998075, 167201.33908150275, 178002.30781526898, 212000.54865158454, 197115.74377110307, 141757.6047035865, 150620.21442888642, 149750.4439364205, 122288.1810853643, 181336.32505239025, 131615.33663629487, 151412.727289639, 80865.47812507051, 141047.05829399137, 119758.75288700397, 101989.57520718867, 163585.39282232476, 140427.7305842723, 129024.12509427403, 144934.5881043435, 272625.45125263854, 210484.2595033056, 111503.56732810207, 162073.82126300468, 155947.5332919198, 76778.11853141258, 179998.63044904266, 232605.12620181462, 194330.34390853712, 254473.5719727618, 194114.27172431938, 161919.78019903263, 163588.01681943884, 149905.28983778332, 214543.31225685705, 197918.30173518293, 149856.05755273323, 73925.98610836371, 483583.8188051749, 180128.42217650177, 159536.8394287465, 158168.89448019204, 155383.06130806502, 273689.4854573368, 200727.89408499113, 200727.89408499113, 200727.89408499113, 171274.30782575067, 171274.30782575067, 171274.30782575067, 171274.30782575067, 171274.30782575067, 171274.30782575067, 171274.30782575067, 171274.30782575067, 171274.30782575067, 171274.30782575067, 171274.30782575067, 74044.38740932866, 177007.20321800266, 143136.3880116141, 158075.28936412945, 298198.586071421, 158887.93721023836, 261939.29574190226, 118124.82064664099, 158214.07042513532, 174557.8602070805, 172335.6499872211, 165759.39827287284, 112560.67704934141, 284205.7763126297, 146576.8800358929, 266906.55725883023, 266298.8425129837, 242990.84019596985, 242990.84019596985, 109072.95623430476, 274563.2288325058, 125162.38598699609, 275025.90122436825, 287744.6519278783, 142349.02722735406, 197912.91747561868, 196325.80318718991, 289774.9914604736, 109902.15049305768, 150884.721299613, 119713.9813687111, 480882.13404507027, 193955.37651037125, 514621.5238891553, 174905.195300392, 161954.13130536507, 161794.21643254152, 174870.62304358237, 143016.6181040213, 251891.45942134404, 247692.7220430413, 123988.25395627345, 150321.66773417714, 178514.30238051765, 414530.309294138, 241027.5693306417, 243625.62227152515, 159994.06508524145, 231107.54926739566, 342030.5534868182, 233257.45957731083, 268468.9802856931, 536069.6435649735, 182137.60967746435, 170871.18069367867, 143550.22305041293, 147798.13276438284, 147798.13276438284, 147798.13276438284, 193988.29634509032, 605874.8452480658, 186543.46592301765, 186543.46592301765, 190479.81393170203, 577205.5674668591, 424993.9033230131, 577205.5674668591, 213951.46137416267, 137211.52091498248, 186543.46592301765, 179048.20633856035, 179048.20633856035, 179048.20633856035, 179048.20633856035, 144025.45016396072, 144015.4648068677, 405762.92399974854, 130375.86991907388, 363978.0703299237, 114898.49486767508, 194333.8784453111, 230878.61046435422, 137560.51410492143, 190435.33058395574, 286853.32659650256, 180695.00368563525, 324245.29981890396, 139439.68063225265, 457900.4387769251, 111404.46624613204, 123543.16927167101, 243877.86872438912, 171319.55645301475, 158340.73895465455, 149682.0697536199, 172774.40957054775, 161418.31856077744, 161418.31856077744, 169930.25020332163, 161418.31856077744, 154666.0147349745, 224334.99018136095, 288604.96270967205, 269135.44371633185, 420376.4678050536, 294323.83816266735, 457337.06295059493, 186528.44056398817, 456620.75800497737, 459327.9843545894, 237793.6260431867, 185085.11009634973, 207547.61741393062, 221451.3854331587, 178793.529716652, 149320.67457815085, 222005.6875831111, 300953.0528364021, 178579.8328733416, 185415.1568532549, 207547.61741393062, 207547.61741393062, 163566.83994679767, 185415.1568532549, 163566.83994679767, 218831.04554000555, 396510.7279759057, 158337.65350074187, 222005.6875831111, 222005.6875831111, 265250.78510635486, 265250.78510635486, 269334.2394570222, 200496.11879108613, 180203.57672810138, 210409.21856652567, 219419.38153948606, 264405.48381271696, 219257.32526483698, 150929.66435700993, 149982.65647972634, 141450.00550522274, 267625.3917233844, 209270.90186119697, 167548.84960025782, 222767.71557027253, 220893.80874562403, 165503.8776164889, 140584.70922576127, 180766.6836997955, 191294.15563293928, 204435.00336802838, 204435.00336802838, 130834.22022096704, 162011.02615666785, 380367.4381441678, 172127.09197763132, 346499.7476824094, 128514.27352786105, 186056.9052956209, 192897.52021204017, 161033.7646498871, 109235.77730080113, 145167.40412205586, 74767.09603081863, 130894.29226459596, 155325.85590976605, 146292.5230216109, 93913.94887959506, 102942.71615610443, 176928.5799212521, 274196.89651686087, 245090.1097990566, 109097.44753579408, 163931.6386785388, 180867.1388512202, 167351.21354190883, 155631.33384771325, 162298.42628629744, 461813.8261631287, 143673.5396187166, 158814.1350093601, 213590.98798192426, 243873.57925282215, 152244.44876685884, 128427.94632806852, 184491.98241231288, 133692.49114540417, 155405.84677921655, 272725.8260202122, 182959.47724585247, 189658.91900127905, 687349.8603414827, 184701.32065301045, 165406.8266946611, 343016.91465218796, 170736.9411842471, 121038.52126992599, 238662.1982161714, 442028.91953217343, 185316.0611933461, 216615.31639315776, 194549.02291066054, 303306.93673234025, 125598.71212497796, 179944.8255073164, 265818.6363805411, 198855.02071413916, 293103.2454292879, 149982.65647972634, 144696.4771037963, 267625.3917233844, 220088.73189656198, 226808.57957134672, 192416.84393964818, 158377.0358879969, 267634.82685578335, 142136.37990034957, 171128.91485665145, 280091.7096948939, 437759.8215323424, 242044.9306204968, 288584.79189825355, 175870.35589868517, 316612.2239273165, 178507.45903239265, 111622.3594661069, 233412.30193573248, 332346.74762539903, 204813.88220193033, 204813.88220193033, 421762.9494834514, 165503.8776164889, 180766.6836997955, 162687.7730647682, 220051.7499356193, 222906.37618542573, 220051.7499356193, 164939.90763654985, 149208.16514656812, 182052.84788049856, 154656.0493345621, 143106.8440615416, 219251.93683370366, 138423.2602206167, 265219.12892362976, 263652.244848024, 164610.63596658863, 219251.93683370366, 161429.60246427899, 263652.244848024, 265219.12892362976, 148208.89741750673, 219251.93683370366, 158189.99195098743, 87946.0913152283, 127191.55800827952, 125966.3541804897, 199112.0261038613, 193232.97764149058, 137333.34833360082, 144790.4125181866, 197650.03407154407, 129039.74271233336, 263732.38664904813, 148318.46626012577, 160520.94235642743, 148318.46626012577, 244612.67627794028, 133878.00709478825, 359470.4274981506, 96837.25187285803, 153784.23876229665, 173279.47100885955, 112761.66262425983, 1234192.3745620798, 98224.13618069454, 94020.33625399729, 146937.66098386858, 129273.96648942473, 93444.2014555844, 93444.2014555844, 98126.40017265754, 91189.6482125725, 78799.61902393555, 173738.41944998212, 200838.79220492818, 137655.33359486307, 164426.42218508106, 140071.9857860736, 138563.52843645154, 1009763.4896262663, 196119.57200443762, 114374.09757945985, 159228.45521516688, 147284.07544373354, 151031.16040072363, 154735.9535769971, 151307.2889280708, 140019.96695197723, 227967.51279238204, 228264.81588236155, 222946.4722103998, 210893.77342790033, 283772.7987972296, 122662.21195343854, 177024.93284704222, 89872.05617196538, 128399.67048941416, 142939.09488068864, 114563.25540774246, 344929.78024437826, 195269.1912033395, 548218.9271174013, 388430.5278678103, 190352.58391619124, 217090.26564595746, 114496.12557110803, 160842.64717166836, 412844.6378834569, 104529.96314850156, 143506.11714701258, 134319.89617443312, 245229.10251304205, 199066.81028651734, 241637.01317672984, 111208.30902122514, 187023.64501064207, 420770.35018249543, 180197.3603674981, 151580.65112776362, 352844.3599777602, 143918.3260670533, 138583.27237429068, 138583.27237429068, 247286.1061187252, 256703.17280046217, 419666.26738771907, 197981.68230813515, 177617.84431126207, 237724.19624770893, 206357.09956997412, 148208.89741750673, 169836.93689846114, 138423.2602206167, 265194.9683897911, 329435.18573571736, 328900.4154455635, 284288.4473709181, 601939.7385462563, 202131.81247133377, 366337.5054111084, 113079.46662449173, 180237.92042958224, 430348.2850943868, 352838.5263951136, 646037.713371728, 162155.9960074736, 190223.58041695104, 596005.8575173665, 242255.02400609705, 216679.9770716162, 127162.53508097539, 276432.84087045974, 280491.7494319952, 218084.58977066833, 218854.58504186542, 282342.91355834366, 223502.3962963618, 399902.59812333045, 223502.3962963618, 277193.54569565493, 143106.8440615416, 182095.19935710396, 182095.19935710396, 265219.12892362976, 263652.244848024, 143106.8440615416, 282342.91355834366, 218854.58504186542, 214690.54424929863, 184579.0370565054, 266155.28545274556, 190223.58041695104, 266155.28545274556, 214690.54424929863, 266155.28545274556, 141612.72149447975, 264124.7508007942, 182552.43385504093, 151961.60095551945, 344023.4040274062, 141563.16563636882, 243822.76461574784, 286760.85435313697, 196035.58267263524, 130809.71260755364, 232806.25882271712, 166156.2863071996, 224153.33107886865, 126727.2009914139, 87316.1464391881, 217674.9383063197, 486605.6477995381, 218163.5765590042, 171660.61435914354, 272725.8260202122, 241572.54402286938, 214562.7761428944, 179954.19979849193, 169591.85560857988, 169591.85560857988, 183413.15014791876, 148650.33842559627, 146548.48392473962, 200470.44434700493, 159815.37052466153, 154783.6737585956, 550554.7508142089, 719157.0114924413, 217702.2077155614, 430316.4466128347, 162069.49111682683, 594257.0666356022, 184659.52480614986, 223481.46145646126, 156125.14213874534, 202029.56730152218, 91648.50802878702, 131702.22024267132, 98855.18894300087, 105555.25585361486, 112241.95696074225, 158516.1325218788, 173001.63598282036, 88500.10690036486, 380134.57576860423, 164537.85493482416, 105495.25179916227, 152713.2523835067, 231047.5279665187, 200705.1583412775, 258357.8504890742, 145925.38757146057, 202691.52415294264, 111393.01873870721, 337297.9447835715, 117400.29690128795, 289703.11597389623, 138596.25819619055, 202768.2809934388, 497138.8408567465, 318826.63973536156, 691359.5770580601, 209270.90186119697, 209535.1387626937, 256201.44997024094, 154656.0493345621, 133438.59794081657, 198340.73127931607, 208897.47952632653, 153601.0611408697, 153601.0611408697, 219134.1349875901, 219251.93683370366, 219251.93683370366, 153294.53986479886, 153294.53986479886, 138401.4844182295, 265194.9683897911, 217701.8663859284, 186640.6114762762, 242017.7475502533, 186156.49091677048, 301564.92807690916, 208185.74842823445, 125772.143680876, 266049.7178773207, 236447.6509677068, 132206.87292871217, 132206.87292871217, 490818.24111221946, 324000.37623531464, 324000.37623531464, 301043.69993107545, 285005.4225940152, 313214.818994592, 122925.55587798147, 126043.09885521157, 84379.3688779879, 134392.31951817448, 199603.3613513675, 191197.36673172115, 180125.32701545738, 144971.5171647175, 176125.75219373824, 134512.8440186091, 96677.17325876777, 95374.11590390396, 142402.31405011745, 154994.47341820676, 179294.83650194923, 158653.11931926143, 215248.1327381907, 206233.07727648175, 97816.98249001702, 144998.26366353582, 239226.4394727583, 133410.81411329715, 131642.42339780598, 163464.05050587846, 382597.2871725927, 152381.5303476101, 246903.4971373382, 127182.24977610723, 173404.54414858436, 130757.60059490375, 323808.0492907694, 412293.071712738, 189349.3197024045, 123398.31923778552, 566274.0400864637, 81853.78981836901, 152329.91290135, 117826.57009536785, 347530.93436992343, 146972.5142444868, 184236.8353762119, 147139.3997615855, 105539.87713434012, 199458.60651092333, 64905.091888204995, 271493.0818922873, 271493.0818922873, 267242.94769709464, 115242.05307667216, 187727.43766077436, 320470.1795877108, 151884.73314863315, 231269.0952791305, 165831.2197792437, 147450.1172229329, 95014.66918814751, 163704.24567532088, 144680.5800899433, 195083.8274004163, 242400.87609877274, 112378.13844400435, 264577.1950744989, 288426.91112693434, 297848.7583742823, 192731.65361658434, 387322.2318451886, 961580.2908838929, 386155.34096056316, 386155.34096056316, 170792.0371776842, 93834.7263184897, 160993.97824625345, 166451.0024149281, 279762.7491251769, 215910.91884649702, 289763.9701355612, 159544.02658631068, 167598.03162929224, 93180.27378549933, 272032.5603255604, 186578.67608358152, 190246.66507875125, 199266.37764563898, 199326.70223423847, 283095.6061193191, 283284.03418590786, 288695.5392778, 220737.7000071681, 392173.5128163346, 145753.69607676944, 390337.25639533094, 211631.23795288737, 296138.4315684387, 196914.39548086637, 169388.07311750005, 109147.63865056078, 292638.17423691665, 200545.12878820047, 176050.89512738993, 167314.16529936768, 144616.0978081312, 187405.11945424482, 192371.96553203312, 350403.51291978185, 133401.10652140423, 183937.41962551157, 337853.62195496797, 241703.58388320424, 152061.34664391598, 189556.3283029532, 276298.95760485553, 172174.7847766946, 255733.0445505766, 195030.62749682146, 210031.78071462247, 280244.4722147869, 498408.8903206481, 423225.664085518, 189705.11996584147, 206541.8694978958, 203030.63240162202, 140640.5933473035, 215632.78603562422, 212984.56076731754, 172234.835039069, 90579.59222593711, 81796.33540119557, 97595.91199711445, 142004.10272244504, 154596.72255603812, 211124.9385776118, 189446.50889219478, 101083.27802935042, 172815.1053515546, 251169.12177441473, 105927.31830859662, 136016.2473705439, 153532.15286772433, 235247.41037514276, 276830.54072715394, 129116.18700424398, 272351.7300766451, 258092.6711929719, 166818.00470809115, 193482.67351757697, 145599.33738885797, 428041.93718786916, 172000.24373012612, 272626.76648796815, 312997.4630078332, 365994.78023346124, 365994.78023346124, 243639.2493163904, 126740.80382978903, 166006.03755824137, 180354.47984696718, 825013.7847994004, 208006.81785430928, 270450.3623549449, 140682.10195728004, 193071.72372562578, 547829.2534159478, 125458.72318088025, 293122.85346324276, 417470.11629094166, 278729.3232046678, 138419.44670766222, 135826.68597726442, 133889.60984992265, 191111.44965195682, 170529.4961936242, 182052.84788049856, 110536.5180625981, 165394.5627854619, 198340.73127931607, 280087.89225459966, 475759.4463911587, 241605.74300628935, 292165.14071043977, 175807.99703711158, 317732.5115030563, 177423.28395592442, 111630.46062252705, 242027.03434456472, 332526.9299340592, 203658.98308848808, 203658.98308848808, 152066.15300611503, 186163.1612773114, 186701.41892568336, 186701.41892568336, 275297.20562589477, 222740.9354167725, 222740.9354167725, 205466.83582769186, 186686.769894472, 200967.34622133354, 151960.6000882874, 170806.8012640327, 151667.35327433498, 211538.389656473, 173174.0938804642, 322033.9516376584, 148633.3724566738, 118796.97554018421, 215471.28713542747, 181848.48214091233, 65933.04495630335, 93493.07020711587, 80830.6303089976, 112196.65701891232, 188437.96079079545, 170702.8137200875, 131772.6644677266, 274234.67117357964, 131547.7303065871, 282161.7343738079, 196762.1913299983, 274106.20509978355, 156890.93439803843, 113193.7527028486, 252792.78552666242, 215815.86490074667, 174261.52979752398, 262602.536860276, 141233.68779333966, 145501.74199363607, 212744.16878769215, 149005.72852298507, 136278.25855307843, 152788.6185770012, 165084.5924789639, 150431.2243201783, 133755.35240774095, 220898.05192889756, 202627.13154207147, 197628.30322471977, 679617.7002928404, 148365.28982378283, 137500.90212687603, 109234.42308160747, 142416.72112824646, 259556.6425664922, 259556.6425664922, 464716.16011693643, 69019.60262797936, 172439.05383275115, 231272.14619852515, 163085.36340029715]\n"
     ]
    }
   ],
   "source": [
    "print(y_final)"
   ]
  },
  {
   "cell_type": "code",
   "execution_count": 194,
   "metadata": {
    "collapsed": false
   },
   "outputs": [],
   "source": [
    "# escribir al archivo\n",
    "output = pd.DataFrame( data={\"id\":test_df[\"id\"], \"price_usd\":y_final} )\n",
    "output.to_csv( \"../data/result/ensamblev02_rf1_\"+str(now)+\".csv\", index=False, quoting=3 )"
   ]
  },
  {
   "cell_type": "code",
   "execution_count": null,
   "metadata": {
    "collapsed": true
   },
   "outputs": [],
   "source": []
  }
 ],
 "metadata": {
  "kernelspec": {
   "display_name": "Python 3",
   "language": "python",
   "name": "python3"
  },
  "language_info": {
   "codemirror_mode": {
    "name": "ipython",
    "version": 3
   },
   "file_extension": ".py",
   "mimetype": "text/x-python",
   "name": "python",
   "nbconvert_exporter": "python",
   "pygments_lexer": "ipython3",
   "version": "3.5.2"
  }
 },
 "nbformat": 4,
 "nbformat_minor": 2
}
