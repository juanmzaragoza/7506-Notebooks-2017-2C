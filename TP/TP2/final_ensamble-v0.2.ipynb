{
 "cells": [
  {
   "cell_type": "markdown",
   "metadata": {},
   "source": [
    "<h1 style=\"text-align: center;\" markdown=\"1\">TP2: Ensamble FINAL</h1>\n",
    "![](../data/icon_properati-data.png)\n",
    "\n",
    "Se entrenaran varios algoritmos y se iran combinando en este mismo notebook."
   ]
  },
  {
   "cell_type": "code",
   "execution_count": 1,
   "metadata": {
    "collapsed": false
   },
   "outputs": [
    {
     "name": "stdout",
     "output_type": "stream",
     "text": [
      "Populating the interactive namespace from numpy and matplotlib\n"
     ]
    },
    {
     "name": "stderr",
     "output_type": "stream",
     "text": [
      "/opt/conda/lib/python3.5/site-packages/IPython/core/magics/pylab.py:161: UserWarning: pylab import has clobbered these variables: ['plt']\n",
      "`%matplotlib` prevents importing * from pylab and numpy\n",
      "  \"\\n`%matplotlib` prevents importing * from pylab and numpy\"\n"
     ]
    }
   ],
   "source": [
    "import numpy as np \n",
    "import pandas as pd\n",
    "\n",
    "# plots\n",
    "import matplotlib.pyplot as plt\n",
    "import seaborn as sns\n",
    "%matplotlib inline\n",
    "%pylab inline\n",
    "\n",
    "# modules\n",
    "import knn as knnlibrary"
   ]
  },
  {
   "cell_type": "markdown",
   "metadata": {},
   "source": [
    "## Obtener y limpiar dataset"
   ]
  },
  {
   "cell_type": "code",
   "execution_count": 2,
   "metadata": {
    "collapsed": true
   },
   "outputs": [],
   "source": [
    "from time import time\n",
    "# calculo el tiempo que tarda el notebook\n",
    "start_notebook_time = time()"
   ]
  },
  {
   "cell_type": "code",
   "execution_count": 3,
   "metadata": {
    "collapsed": false
   },
   "outputs": [
    {
     "data": {
      "text/html": [
       "<div>\n",
       "<table border=\"1\" class=\"dataframe\">\n",
       "  <thead>\n",
       "    <tr style=\"text-align: right;\">\n",
       "      <th></th>\n",
       "      <th>id</th>\n",
       "      <th>created_on</th>\n",
       "      <th>operation</th>\n",
       "      <th>property_type</th>\n",
       "      <th>place_name</th>\n",
       "      <th>place_with_parent_names</th>\n",
       "      <th>country_name</th>\n",
       "      <th>state_name</th>\n",
       "      <th>geonames_id</th>\n",
       "      <th>lat-lon</th>\n",
       "      <th>...</th>\n",
       "      <th>surface_covered_in_m2</th>\n",
       "      <th>price_usd_per_m2</th>\n",
       "      <th>price_per_m2</th>\n",
       "      <th>floor</th>\n",
       "      <th>rooms</th>\n",
       "      <th>expenses</th>\n",
       "      <th>properati_url</th>\n",
       "      <th>description</th>\n",
       "      <th>title</th>\n",
       "      <th>image_thumbnail</th>\n",
       "    </tr>\n",
       "  </thead>\n",
       "  <tbody>\n",
       "    <tr>\n",
       "      <th>0</th>\n",
       "      <td>ecc59daba3d5bc726ae8aa9dbccfe79635aef175</td>\n",
       "      <td>2016-06-01</td>\n",
       "      <td>sell</td>\n",
       "      <td>apartment</td>\n",
       "      <td>Palermo</td>\n",
       "      <td>|Argentina|Capital Federal|Palermo|</td>\n",
       "      <td>Argentina</td>\n",
       "      <td>Capital Federal</td>\n",
       "      <td>3430234.0</td>\n",
       "      <td>-34.5888560251,-58.4087713338</td>\n",
       "      <td>...</td>\n",
       "      <td>130.0</td>\n",
       "      <td>NaN</td>\n",
       "      <td>3461.538462</td>\n",
       "      <td>5.0</td>\n",
       "      <td>4.0</td>\n",
       "      <td>NaN</td>\n",
       "      <td>http://www.properati.com.ar/ys05_venta_departa...</td>\n",
       "      <td>UNIDAD AL FRENTE CON BALCON CORRIDO Y 2 COCHER...</td>\n",
       "      <td>IMPECABLE PISO DE 4 AMB + DEP Y 2 COCHERAS</td>\n",
       "      <td>https://thumbs4.properati.com/2/RbSA4pJRsv2S8M...</td>\n",
       "    </tr>\n",
       "    <tr>\n",
       "      <th>1</th>\n",
       "      <td>7f1423f29df530cae38e7a59ddc6430c7da7ca38</td>\n",
       "      <td>2016-06-01</td>\n",
       "      <td>sell</td>\n",
       "      <td>apartment</td>\n",
       "      <td>Once</td>\n",
       "      <td>|Argentina|Capital Federal|Once|</td>\n",
       "      <td>Argentina</td>\n",
       "      <td>Capital Federal</td>\n",
       "      <td>3430291.0</td>\n",
       "      <td>-34.6033997612,-58.3984088548</td>\n",
       "      <td>...</td>\n",
       "      <td>46.0</td>\n",
       "      <td>NaN</td>\n",
       "      <td>2065.217391</td>\n",
       "      <td>1.0</td>\n",
       "      <td>1.0</td>\n",
       "      <td>NaN</td>\n",
       "      <td>http://www.properati.com.ar/ys06_venta_departa...</td>\n",
       "      <td>SE VENDE A ESTRENAR EN PLENO CORAZON DE ONCE !...</td>\n",
       "      <td>Excelentes oficinas a estrenar!!!!!</td>\n",
       "      <td>https://thumbs4.properati.com/8/IMCZ4CqITeOqx5...</td>\n",
       "    </tr>\n",
       "    <tr>\n",
       "      <th>2</th>\n",
       "      <td>4fdd84d998a3f82f4a3b36f405cc3f7013fb642e</td>\n",
       "      <td>2016-06-01</td>\n",
       "      <td>sell</td>\n",
       "      <td>store</td>\n",
       "      <td>Barrio Norte</td>\n",
       "      <td>|Argentina|Capital Federal|Barrio Norte|</td>\n",
       "      <td>Argentina</td>\n",
       "      <td>Capital Federal</td>\n",
       "      <td>3436109.0</td>\n",
       "      <td>-34.595849,-58.386979</td>\n",
       "      <td>...</td>\n",
       "      <td>0.0</td>\n",
       "      <td>NaN</td>\n",
       "      <td>NaN</td>\n",
       "      <td>NaN</td>\n",
       "      <td>NaN</td>\n",
       "      <td>500.0</td>\n",
       "      <td>http://www.properati.com.ar/ys0r_venta_local_b...</td>\n",
       "      <td>Local en Venta sobre Avenida Santa Fe.Ideal pa...</td>\n",
       "      <td>Local sobre Av. Santa Fe</td>\n",
       "      <td>https://thumbs4.properati.com/9/-VNE04tbyVFfcO...</td>\n",
       "    </tr>\n",
       "    <tr>\n",
       "      <th>3</th>\n",
       "      <td>a786b4d9a8f6cc86ba3e839f4cb85bbb03cf15fd</td>\n",
       "      <td>2016-06-01</td>\n",
       "      <td>sell</td>\n",
       "      <td>house</td>\n",
       "      <td>Adrogué</td>\n",
       "      <td>|Argentina|Bs.As. G.B.A. Zona Sur|Almirante Br...</td>\n",
       "      <td>Argentina</td>\n",
       "      <td>Bs.As. G.B.A. Zona Sur</td>\n",
       "      <td>NaN</td>\n",
       "      <td>-34.796679,-58.3993149</td>\n",
       "      <td>...</td>\n",
       "      <td>0.0</td>\n",
       "      <td>1285.714286</td>\n",
       "      <td>NaN</td>\n",
       "      <td>NaN</td>\n",
       "      <td>6.0</td>\n",
       "      <td>NaN</td>\n",
       "      <td>http://www.properati.com.ar/ys10_venta_casa_ad...</td>\n",
       "      <td>CHALET INMEJORABLE UBICACIÓN: PLANTA BAJA: AMP...</td>\n",
       "      <td>IMPORTANTE CHALET ZONA MUY RESIDENCIAL</td>\n",
       "      <td>https://thumbs4.properati.com/5/FhMeTqvYjAiHVS...</td>\n",
       "    </tr>\n",
       "    <tr>\n",
       "      <th>4</th>\n",
       "      <td>9844244d17eb024e0632a63b4098b67889de06bc</td>\n",
       "      <td>2016-06-01</td>\n",
       "      <td>sell</td>\n",
       "      <td>house</td>\n",
       "      <td>Pilar</td>\n",
       "      <td>|Argentina|Bs.As. G.B.A. Zona Norte|Pilar|</td>\n",
       "      <td>Argentina</td>\n",
       "      <td>Bs.As. G.B.A. Zona Norte</td>\n",
       "      <td>3429979.0</td>\n",
       "      <td>NaN</td>\n",
       "      <td>...</td>\n",
       "      <td>120.0</td>\n",
       "      <td>1250.000000</td>\n",
       "      <td>1250.000000</td>\n",
       "      <td>NaN</td>\n",
       "      <td>4.0</td>\n",
       "      <td>NaN</td>\n",
       "      <td>http://www.properati.com.ar/ys1c_venta_casa_pi...</td>\n",
       "      <td>Casa muy funcional, desarrollada en una sola p...</td>\n",
       "      <td>BAYUGAR PROPIEDADES/ LINDISIMA CASA/ BARRIO CA...</td>\n",
       "      <td>https://thumbs4.properati.com/2/dxU45Z8wqh3Mdq...</td>\n",
       "    </tr>\n",
       "  </tbody>\n",
       "</table>\n",
       "<p>5 rows × 27 columns</p>\n",
       "</div>"
      ],
      "text/plain": [
       "                                         id  created_on operation  \\\n",
       "0  ecc59daba3d5bc726ae8aa9dbccfe79635aef175  2016-06-01      sell   \n",
       "1  7f1423f29df530cae38e7a59ddc6430c7da7ca38  2016-06-01      sell   \n",
       "2  4fdd84d998a3f82f4a3b36f405cc3f7013fb642e  2016-06-01      sell   \n",
       "3  a786b4d9a8f6cc86ba3e839f4cb85bbb03cf15fd  2016-06-01      sell   \n",
       "4  9844244d17eb024e0632a63b4098b67889de06bc  2016-06-01      sell   \n",
       "\n",
       "  property_type    place_name  \\\n",
       "0     apartment       Palermo   \n",
       "1     apartment          Once   \n",
       "2         store  Barrio Norte   \n",
       "3         house       Adrogué   \n",
       "4         house         Pilar   \n",
       "\n",
       "                             place_with_parent_names country_name  \\\n",
       "0                |Argentina|Capital Federal|Palermo|    Argentina   \n",
       "1                   |Argentina|Capital Federal|Once|    Argentina   \n",
       "2           |Argentina|Capital Federal|Barrio Norte|    Argentina   \n",
       "3  |Argentina|Bs.As. G.B.A. Zona Sur|Almirante Br...    Argentina   \n",
       "4         |Argentina|Bs.As. G.B.A. Zona Norte|Pilar|    Argentina   \n",
       "\n",
       "                 state_name  geonames_id                        lat-lon  \\\n",
       "0           Capital Federal    3430234.0  -34.5888560251,-58.4087713338   \n",
       "1           Capital Federal    3430291.0  -34.6033997612,-58.3984088548   \n",
       "2           Capital Federal    3436109.0          -34.595849,-58.386979   \n",
       "3    Bs.As. G.B.A. Zona Sur          NaN         -34.796679,-58.3993149   \n",
       "4  Bs.As. G.B.A. Zona Norte    3429979.0                            NaN   \n",
       "\n",
       "                         ...                          surface_covered_in_m2  \\\n",
       "0                        ...                                          130.0   \n",
       "1                        ...                                           46.0   \n",
       "2                        ...                                            0.0   \n",
       "3                        ...                                            0.0   \n",
       "4                        ...                                          120.0   \n",
       "\n",
       "   price_usd_per_m2  price_per_m2 floor  rooms  expenses  \\\n",
       "0               NaN   3461.538462   5.0    4.0       NaN   \n",
       "1               NaN   2065.217391   1.0    1.0       NaN   \n",
       "2               NaN           NaN   NaN    NaN     500.0   \n",
       "3       1285.714286           NaN   NaN    6.0       NaN   \n",
       "4       1250.000000   1250.000000   NaN    4.0       NaN   \n",
       "\n",
       "                                       properati_url  \\\n",
       "0  http://www.properati.com.ar/ys05_venta_departa...   \n",
       "1  http://www.properati.com.ar/ys06_venta_departa...   \n",
       "2  http://www.properati.com.ar/ys0r_venta_local_b...   \n",
       "3  http://www.properati.com.ar/ys10_venta_casa_ad...   \n",
       "4  http://www.properati.com.ar/ys1c_venta_casa_pi...   \n",
       "\n",
       "                                         description  \\\n",
       "0  UNIDAD AL FRENTE CON BALCON CORRIDO Y 2 COCHER...   \n",
       "1  SE VENDE A ESTRENAR EN PLENO CORAZON DE ONCE !...   \n",
       "2  Local en Venta sobre Avenida Santa Fe.Ideal pa...   \n",
       "3  CHALET INMEJORABLE UBICACIÓN: PLANTA BAJA: AMP...   \n",
       "4  Casa muy funcional, desarrollada en una sola p...   \n",
       "\n",
       "                                               title  \\\n",
       "0         IMPECABLE PISO DE 4 AMB + DEP Y 2 COCHERAS   \n",
       "1                Excelentes oficinas a estrenar!!!!!   \n",
       "2                           Local sobre Av. Santa Fe   \n",
       "3             IMPORTANTE CHALET ZONA MUY RESIDENCIAL   \n",
       "4  BAYUGAR PROPIEDADES/ LINDISIMA CASA/ BARRIO CA...   \n",
       "\n",
       "                                     image_thumbnail  \n",
       "0  https://thumbs4.properati.com/2/RbSA4pJRsv2S8M...  \n",
       "1  https://thumbs4.properati.com/8/IMCZ4CqITeOqx5...  \n",
       "2  https://thumbs4.properati.com/9/-VNE04tbyVFfcO...  \n",
       "3  https://thumbs4.properati.com/5/FhMeTqvYjAiHVS...  \n",
       "4  https://thumbs4.properati.com/2/dxU45Z8wqh3Mdq...  \n",
       "\n",
       "[5 rows x 27 columns]"
      ]
     },
     "execution_count": 3,
     "metadata": {},
     "output_type": "execute_result"
    }
   ],
   "source": [
    "properties =knnlibrary.get_dataset()\n",
    "properties.head()"
   ]
  },
  {
   "cell_type": "code",
   "execution_count": 4,
   "metadata": {
    "collapsed": false
   },
   "outputs": [
    {
     "name": "stdout",
     "output_type": "stream",
     "text": [
      "<class 'pandas.core.frame.DataFrame'>\n",
      "Int64Index: 251014 entries, 18733 to 80257\n",
      "Data columns (total 27 columns):\n",
      "id                            251014 non-null object\n",
      "created_on                    251014 non-null object\n",
      "operation                     251014 non-null object\n",
      "property_type                 251014 non-null object\n",
      "place_name                    250976 non-null object\n",
      "place_with_parent_names       251014 non-null object\n",
      "country_name                  251014 non-null object\n",
      "state_name                    251014 non-null object\n",
      "geonames_id                   211841 non-null float64\n",
      "lat-lon                       178105 non-null object\n",
      "lat                           178105 non-null float64\n",
      "lon                           178105 non-null float64\n",
      "price                         219627 non-null float64\n",
      "currency                      217500 non-null object\n",
      "price_aprox_local_currency    219627 non-null float64\n",
      "price_aprox_usd               219627 non-null float64\n",
      "surface_total_in_m2           175419 non-null float64\n",
      "surface_covered_in_m2         213569 non-null float64\n",
      "price_usd_per_m2              148604 non-null float64\n",
      "price_per_m2                  189959 non-null float64\n",
      "floor                         21985 non-null float64\n",
      "rooms                         132595 non-null float64\n",
      "expenses                      26699 non-null float64\n",
      "properati_url                 251014 non-null object\n",
      "description                   251005 non-null object\n",
      "title                         251014 non-null object\n",
      "image_thumbnail               246610 non-null object\n",
      "dtypes: float64(13), object(14)\n",
      "memory usage: 53.6+ MB\n"
     ]
    }
   ],
   "source": [
    "# obtenemos las propiedades del ultimo año\n",
    "properties_lastyear = properties[properties['created_on']>'2016-10-01']\n",
    "properties_lastyear.info()"
   ]
  },
  {
   "cell_type": "code",
   "execution_count": 5,
   "metadata": {
    "collapsed": false
   },
   "outputs": [
    {
     "name": "stdout",
     "output_type": "stream",
     "text": [
      "<class 'pandas.core.frame.DataFrame'>\n",
      "Int64Index: 171941 entries, 18733 to 80257\n",
      "Data columns (total 27 columns):\n",
      "id                            171941 non-null object\n",
      "created_on                    171941 non-null object\n",
      "operation                     171941 non-null object\n",
      "property_type                 171941 non-null object\n",
      "place_name                    171903 non-null object\n",
      "place_with_parent_names       171941 non-null object\n",
      "country_name                  171941 non-null object\n",
      "state_name                    171941 non-null object\n",
      "geonames_id                   135676 non-null float64\n",
      "lat-lon                       119815 non-null object\n",
      "lat                           119815 non-null float64\n",
      "lon                           119815 non-null float64\n",
      "price                         158267 non-null float64\n",
      "currency                      157583 non-null object\n",
      "price_aprox_local_currency    158267 non-null float64\n",
      "price_aprox_usd               158267 non-null float64\n",
      "surface_total_in_m2           127538 non-null float64\n",
      "surface_covered_in_m2         156229 non-null float64\n",
      "price_usd_per_m2              112758 non-null float64\n",
      "price_per_m2                  144050 non-null float64\n",
      "floor                         16020 non-null float64\n",
      "rooms                         88023 non-null float64\n",
      "expenses                      22548 non-null float64\n",
      "properati_url                 171941 non-null object\n",
      "description                   171936 non-null object\n",
      "title                         171941 non-null object\n",
      "image_thumbnail               169164 non-null object\n",
      "dtypes: float64(13), object(14)\n",
      "memory usage: 36.7+ MB\n"
     ]
    }
   ],
   "source": [
    "# filtro por CABA y GBA\n",
    "properties_caba = properties_lastyear[(properties_lastyear['place_with_parent_names'].str.contains('Capital Federal') \\\n",
    "                             | properties_lastyear['place_with_parent_names'].str.contains('Bs.As. G.B.A.'))]\n",
    "\n",
    "properties_caba.info()"
   ]
  },
  {
   "cell_type": "code",
   "execution_count": 6,
   "metadata": {
    "collapsed": false
   },
   "outputs": [
    {
     "data": {
      "text/html": [
       "<div>\n",
       "<table border=\"1\" class=\"dataframe\">\n",
       "  <thead>\n",
       "    <tr style=\"text-align: right;\">\n",
       "      <th></th>\n",
       "      <th>price</th>\n",
       "      <th>price_aprox_usd</th>\n",
       "      <th>price_aprox_local_currency</th>\n",
       "      <th>currency</th>\n",
       "    </tr>\n",
       "  </thead>\n",
       "  <tbody>\n",
       "    <tr>\n",
       "      <th>18733</th>\n",
       "      <td>130000.0</td>\n",
       "      <td>130000.00</td>\n",
       "      <td>2075905.00</td>\n",
       "      <td>USD</td>\n",
       "    </tr>\n",
       "    <tr>\n",
       "      <th>18739</th>\n",
       "      <td>2898000.0</td>\n",
       "      <td>182545.43</td>\n",
       "      <td>2914976.69</td>\n",
       "      <td>ARS</td>\n",
       "    </tr>\n",
       "    <tr>\n",
       "      <th>18742</th>\n",
       "      <td>395000.0</td>\n",
       "      <td>395000.00</td>\n",
       "      <td>6307557.50</td>\n",
       "      <td>USD</td>\n",
       "    </tr>\n",
       "    <tr>\n",
       "      <th>18745</th>\n",
       "      <td>69000.0</td>\n",
       "      <td>69000.00</td>\n",
       "      <td>1101826.50</td>\n",
       "      <td>USD</td>\n",
       "    </tr>\n",
       "    <tr>\n",
       "      <th>18746</th>\n",
       "      <td>NaN</td>\n",
       "      <td>NaN</td>\n",
       "      <td>NaN</td>\n",
       "      <td>NaN</td>\n",
       "    </tr>\n",
       "  </tbody>\n",
       "</table>\n",
       "</div>"
      ],
      "text/plain": [
       "           price  price_aprox_usd  price_aprox_local_currency currency\n",
       "18733   130000.0        130000.00                  2075905.00      USD\n",
       "18739  2898000.0        182545.43                  2914976.69      ARS\n",
       "18742   395000.0        395000.00                  6307557.50      USD\n",
       "18745    69000.0         69000.00                  1101826.50      USD\n",
       "18746        NaN              NaN                         NaN      NaN"
      ]
     },
     "execution_count": 6,
     "metadata": {},
     "output_type": "execute_result"
    }
   ],
   "source": [
    "# se puede ver que tenemos diferencias entre proce y price aprox usd\n",
    "properties_caba[['price','price_aprox_usd','price_aprox_local_currency','currency']].head()"
   ]
  },
  {
   "cell_type": "code",
   "execution_count": 7,
   "metadata": {
    "collapsed": false
   },
   "outputs": [
    {
     "name": "stdout",
     "output_type": "stream",
     "text": [
      "(19695, 27)\n",
      "(13674, 27)\n",
      "(13674, 27)\n",
      "(0, 27)\n"
     ]
    }
   ],
   "source": [
    "print(properties_caba[properties_caba['price'] != properties_caba['price_aprox_usd']].shape)\n",
    "print(properties_caba[np.isnan(properties_caba['price'])].shape)\n",
    "print(properties_caba[np.isnan(properties_caba['price_aprox_usd'])].shape)\n",
    "print(properties_caba[(properties_caba['price'] != properties_caba['price_aprox_usd']) & np.isnan(properties_caba['price']) & (properties_caba['price_aprox_usd'])].shape)"
   ]
  },
  {
   "cell_type": "markdown",
   "metadata": {},
   "source": [
    "Podemos llegar a la conclusion que nos conviene quedarnos con price_aprox_usd"
   ]
  },
  {
   "cell_type": "code",
   "execution_count": 8,
   "metadata": {
    "collapsed": true
   },
   "outputs": [],
   "source": [
    "properties_caba = properties_caba[properties_caba['price_aprox_usd'].notnull() & properties_caba['price_aprox_usd'] > 0 \\\n",
    "                                  & properties_caba['place_name'].notnull()]"
   ]
  },
  {
   "cell_type": "code",
   "execution_count": 9,
   "metadata": {
    "collapsed": false
   },
   "outputs": [
    {
     "name": "stdout",
     "output_type": "stream",
     "text": [
      "<class 'pandas.core.frame.DataFrame'>\n",
      "Int64Index: 157577 entries, 18733 to 80257\n",
      "Data columns (total 12 columns):\n",
      "created_on               157577 non-null object\n",
      "property_type            157577 non-null object\n",
      "place_name               157539 non-null object\n",
      "state_name               157577 non-null object\n",
      "lat                      109791 non-null float64\n",
      "lon                      109791 non-null float64\n",
      "surface_total_in_m2      116736 non-null float64\n",
      "surface_covered_in_m2    145437 non-null float64\n",
      "floor                    15462 non-null float64\n",
      "rooms                    80335 non-null float64\n",
      "expenses                 21685 non-null float64\n",
      "price_aprox_usd          157577 non-null float64\n",
      "dtypes: float64(8), object(4)\n",
      "memory usage: 15.6+ MB\n"
     ]
    }
   ],
   "source": [
    "# algunas columnas ya sabemos que no son relevantes por lo que las podemos eliminar\n",
    "# filtro columnas segun lo que hay en el dataset\n",
    "attributes = ['created_on','property_type','place_name','state_name',\\\n",
    "              'lat','lon','surface_total_in_m2','surface_covered_in_m2',\\\n",
    "              'floor','rooms', 'expenses', 'price_aprox_usd']\n",
    "properties_caba[attributes].info()\n",
    "properties_caba_with_price_attributes = properties_caba[attributes]"
   ]
  },
  {
   "cell_type": "code",
   "execution_count": 10,
   "metadata": {
    "collapsed": false
   },
   "outputs": [
    {
     "name": "stdout",
     "output_type": "stream",
     "text": [
      "<class 'pandas.core.frame.DataFrame'>\n",
      "Int64Index: 156928 entries, 18733 to 80257\n",
      "Data columns (total 12 columns):\n",
      "created_on               156928 non-null object\n",
      "property_type            156928 non-null object\n",
      "place_name               156890 non-null object\n",
      "state_name               156928 non-null object\n",
      "lat                      109165 non-null float64\n",
      "lon                      109165 non-null float64\n",
      "surface_total_in_m2      116663 non-null float64\n",
      "surface_covered_in_m2    144791 non-null float64\n",
      "floor                    156928 non-null float64\n",
      "rooms                    156928 non-null float64\n",
      "expenses                 21677 non-null float64\n",
      "price_aprox_usd          156928 non-null float64\n",
      "dtypes: float64(8), object(4)\n",
      "memory usage: 15.6+ MB\n"
     ]
    },
    {
     "name": "stderr",
     "output_type": "stream",
     "text": [
      "/opt/conda/lib/python3.5/site-packages/ipykernel/__main__.py:2: SettingWithCopyWarning: \n",
      "A value is trying to be set on a copy of a slice from a DataFrame.\n",
      "Try using .loc[row_indexer,col_indexer] = value instead\n",
      "\n",
      "See the caveats in the documentation: http://pandas.pydata.org/pandas-docs/stable/indexing.html#indexing-view-versus-copy\n",
      "  from ipykernel import kernelapp as app\n",
      "/opt/conda/lib/python3.5/site-packages/ipykernel/__main__.py:3: SettingWithCopyWarning: \n",
      "A value is trying to be set on a copy of a slice from a DataFrame.\n",
      "Try using .loc[row_indexer,col_indexer] = value instead\n",
      "\n",
      "See the caveats in the documentation: http://pandas.pydata.org/pandas-docs/stable/indexing.html#indexing-view-versus-copy\n",
      "  app.launch_new_instance()\n"
     ]
    }
   ],
   "source": [
    "# completamos los nulos\n",
    "properties_caba_with_price_attributes['floor'] = properties_caba_with_price_attributes[['floor']].fillna(0)\n",
    "properties_caba_with_price_attributes['rooms'] = properties_caba_with_price_attributes[['rooms']].fillna(0)\n",
    "\n",
    "# eliminamos propiedades con mas de 54 pisos\n",
    "properties_caba_with_floors = properties_caba_with_price_attributes[properties_caba_with_price_attributes['floor'] <= 60]\n",
    "\n",
    "# eliminamos propiedades con mas de 9 pisos - ver analisis\n",
    "properties_caba_with_rooms = properties_caba_with_floors[properties_caba_with_floors['rooms'] <=  10]\n",
    "\n",
    "properties_caba_with_rooms.info()"
   ]
  },
  {
   "cell_type": "markdown",
   "metadata": {},
   "source": [
    "Intentamos incluir las expensas para ver si podemos mejorar las predicciones. Vamos a ver que forma tienen"
   ]
  },
  {
   "cell_type": "code",
   "execution_count": 11,
   "metadata": {
    "collapsed": false
   },
   "outputs": [
    {
     "data": {
      "text/plain": [
       "1.0       1030\n",
       "1500.0     941\n",
       "2000.0     850\n",
       "1000.0     831\n",
       "1200.0     731\n",
       "1800.0     663\n",
       "3000.0     627\n",
       "2500.0     597\n",
       "4000.0     539\n",
       "5000.0     474\n",
       "3500.0     469\n",
       "800.0      421\n",
       "1300.0     401\n",
       "4500.0     392\n",
       "1400.0     358\n",
       "1600.0     356\n",
       "6000.0     347\n",
       "1100.0     320\n",
       "500.0      299\n",
       "900.0      296\n",
       "1700.0     289\n",
       "700.0      277\n",
       "400.0      255\n",
       "2800.0     254\n",
       "7000.0     250\n",
       "2300.0     249\n",
       "2200.0     249\n",
       "1900.0     247\n",
       "600.0      230\n",
       "8000.0     218\n",
       "          ... \n",
       "1845.0       1\n",
       "5278.0       1\n",
       "1839.0       1\n",
       "1824.0       1\n",
       "5251.0       1\n",
       "5349.0       1\n",
       "1818.0       1\n",
       "1816.0       1\n",
       "5352.0       1\n",
       "1806.0       1\n",
       "5360.0       1\n",
       "1863.0       1\n",
       "1866.0       1\n",
       "1940.0       1\n",
       "1917.0       1\n",
       "1938.0       1\n",
       "1937.0       1\n",
       "1936.0       1\n",
       "5169.0       1\n",
       "1930.0       1\n",
       "5174.0       1\n",
       "5179.0       1\n",
       "1872.0       1\n",
       "1910.0       1\n",
       "1893.0       1\n",
       "5186.0       1\n",
       "1888.0       1\n",
       "1881.0       1\n",
       "5234.0       1\n",
       "6140.0       1\n",
       "Name: expenses, dtype: int64"
      ]
     },
     "execution_count": 11,
     "metadata": {},
     "output_type": "execute_result"
    }
   ],
   "source": [
    "properties_caba_with_rooms['expenses'].value_counts()"
   ]
  },
  {
   "cell_type": "code",
   "execution_count": 12,
   "metadata": {
    "collapsed": false
   },
   "outputs": [
    {
     "name": "stdout",
     "output_type": "stream",
     "text": [
      "<class 'pandas.core.frame.DataFrame'>\n",
      "Int64Index: 156928 entries, 18733 to 80257\n",
      "Data columns (total 12 columns):\n",
      "created_on               156928 non-null object\n",
      "property_type            156928 non-null object\n",
      "place_name               156890 non-null object\n",
      "state_name               156928 non-null object\n",
      "lat                      109165 non-null float64\n",
      "lon                      109165 non-null float64\n",
      "surface_total_in_m2      116663 non-null float64\n",
      "surface_covered_in_m2    144791 non-null float64\n",
      "floor                    156928 non-null float64\n",
      "rooms                    156928 non-null float64\n",
      "expenses                 156928 non-null float64\n",
      "price_aprox_usd          156928 non-null float64\n",
      "dtypes: float64(8), object(4)\n",
      "memory usage: 15.6+ MB\n"
     ]
    },
    {
     "name": "stderr",
     "output_type": "stream",
     "text": [
      "/opt/conda/lib/python3.5/site-packages/ipykernel/__main__.py:2: SettingWithCopyWarning: \n",
      "A value is trying to be set on a copy of a slice from a DataFrame.\n",
      "Try using .loc[row_indexer,col_indexer] = value instead\n",
      "\n",
      "See the caveats in the documentation: http://pandas.pydata.org/pandas-docs/stable/indexing.html#indexing-view-versus-copy\n",
      "  from ipykernel import kernelapp as app\n"
     ]
    }
   ],
   "source": [
    "# las convierto a float entonces\n",
    "properties_caba_with_rooms['expenses'] = properties_caba_with_rooms[['expenses']].fillna(0)\n",
    "properties_caba_with_rooms.info()"
   ]
  },
  {
   "cell_type": "markdown",
   "metadata": {},
   "source": [
    "Que hacemos con la superficie ademas de limitarla?"
   ]
  },
  {
   "cell_type": "code",
   "execution_count": 13,
   "metadata": {
    "collapsed": false
   },
   "outputs": [
    {
     "name": "stdout",
     "output_type": "stream",
     "text": [
      "<class 'pandas.core.frame.DataFrame'>\n",
      "Int64Index: 156701 entries, 18733 to 80257\n",
      "Data columns (total 12 columns):\n",
      "created_on               156701 non-null object\n",
      "property_type            156701 non-null object\n",
      "place_name               156663 non-null object\n",
      "state_name               156701 non-null object\n",
      "lat                      109084 non-null float64\n",
      "lon                      109084 non-null float64\n",
      "surface_total_in_m2      156701 non-null float64\n",
      "surface_covered_in_m2    156701 non-null float64\n",
      "floor                    156701 non-null float64\n",
      "rooms                    156701 non-null float64\n",
      "expenses                 156701 non-null float64\n",
      "price_aprox_usd          156701 non-null float64\n",
      "dtypes: float64(8), object(4)\n",
      "memory usage: 15.5+ MB\n"
     ]
    },
    {
     "name": "stderr",
     "output_type": "stream",
     "text": [
      "/opt/conda/lib/python3.5/site-packages/ipykernel/__main__.py:1: SettingWithCopyWarning: \n",
      "A value is trying to be set on a copy of a slice from a DataFrame.\n",
      "Try using .loc[row_indexer,col_indexer] = value instead\n",
      "\n",
      "See the caveats in the documentation: http://pandas.pydata.org/pandas-docs/stable/indexing.html#indexing-view-versus-copy\n",
      "  if __name__ == '__main__':\n",
      "/opt/conda/lib/python3.5/site-packages/ipykernel/__main__.py:2: SettingWithCopyWarning: \n",
      "A value is trying to be set on a copy of a slice from a DataFrame.\n",
      "Try using .loc[row_indexer,col_indexer] = value instead\n",
      "\n",
      "See the caveats in the documentation: http://pandas.pydata.org/pandas-docs/stable/indexing.html#indexing-view-versus-copy\n",
      "  from ipykernel import kernelapp as app\n"
     ]
    }
   ],
   "source": [
    "properties_caba_with_rooms['surface_total_in_m2'] = properties_caba_with_rooms[['surface_total_in_m2']].fillna(0)\n",
    "properties_caba_with_rooms['surface_covered_in_m2'] = properties_caba_with_rooms[['surface_covered_in_m2']].fillna(0)\n",
    "\n",
    "# eliminamos propiedades con mas de 2000 m2 de superficie cubierta - ver analisis\n",
    "properties_caba_surfacecovered = properties_caba_with_rooms[(properties_caba_with_rooms['surface_covered_in_m2'] <= 4000) & (properties_caba_with_rooms['surface_covered_in_m2'] >= 0)]\n",
    "# eliminamos propiedades con mas de 2000 m2 de superficie cubierta - ver analisis\n",
    "properties_surfaces = properties_caba_surfacecovered[(properties_caba_surfacecovered['surface_total_in_m2']<= 6000)  & (properties_caba_surfacecovered['surface_total_in_m2'] >= 0)]\n",
    "\n",
    "properties_surfaces.info()"
   ]
  },
  {
   "cell_type": "markdown",
   "metadata": {
    "collapsed": false
   },
   "source": [
    "Faltaria solucionar el tema de las latitudes. La manera manera mas sencilla para no tener que estimar valores es eliminar los datos con valores nulos tanto para lat como para lon."
   ]
  },
  {
   "cell_type": "code",
   "execution_count": 14,
   "metadata": {
    "collapsed": false
   },
   "outputs": [
    {
     "name": "stdout",
     "output_type": "stream",
     "text": [
      "(47617, 12)\n",
      "(47617, 12)\n",
      "(47617, 12)\n"
     ]
    }
   ],
   "source": [
    "print(properties_surfaces[np.isnan(properties_surfaces['lat']) & np.isnan(properties_surfaces['lon'])].shape)\n",
    "print(properties_surfaces[np.isnan(properties_surfaces['lat'])].shape)\n",
    "print(properties_surfaces[np.isnan(properties_surfaces['lon'])].shape)"
   ]
  },
  {
   "cell_type": "code",
   "execution_count": 15,
   "metadata": {
    "collapsed": false
   },
   "outputs": [
    {
     "name": "stdout",
     "output_type": "stream",
     "text": [
      "<class 'pandas.core.frame.DataFrame'>\n",
      "Int64Index: 109084 entries, 18733 to 80257\n",
      "Data columns (total 12 columns):\n",
      "created_on               109084 non-null object\n",
      "property_type            109084 non-null object\n",
      "place_name               109046 non-null object\n",
      "state_name               109084 non-null object\n",
      "lat                      109084 non-null float64\n",
      "lon                      109084 non-null float64\n",
      "surface_total_in_m2      109084 non-null float64\n",
      "surface_covered_in_m2    109084 non-null float64\n",
      "floor                    109084 non-null float64\n",
      "rooms                    109084 non-null float64\n",
      "expenses                 109084 non-null float64\n",
      "price_aprox_usd          109084 non-null float64\n",
      "dtypes: float64(8), object(4)\n",
      "memory usage: 10.8+ MB\n"
     ]
    }
   ],
   "source": [
    "properties_latlon = properties_surfaces[np.isfinite(properties_surfaces['lon'])]\n",
    "properties_latlon.info()"
   ]
  },
  {
   "cell_type": "markdown",
   "metadata": {},
   "source": [
    "Analicemos los atributos categoricos"
   ]
  },
  {
   "cell_type": "code",
   "execution_count": 16,
   "metadata": {
    "collapsed": false
   },
   "outputs": [
    {
     "data": {
      "text/plain": [
       "apartment    67814\n",
       "house        29832\n",
       "PH            7866\n",
       "store         3572\n",
       "Name: property_type, dtype: int64"
      ]
     },
     "execution_count": 16,
     "metadata": {},
     "output_type": "execute_result"
    }
   ],
   "source": [
    "properties_latlon['property_type'].value_counts()"
   ]
  },
  {
   "cell_type": "code",
   "execution_count": 17,
   "metadata": {
    "collapsed": false
   },
   "outputs": [
    {
     "data": {
      "text/html": [
       "<div>\n",
       "<table border=\"1\" class=\"dataframe\">\n",
       "  <thead>\n",
       "    <tr style=\"text-align: right;\">\n",
       "      <th></th>\n",
       "      <th>created_on</th>\n",
       "      <th>property_type</th>\n",
       "      <th>place_name</th>\n",
       "      <th>state_name</th>\n",
       "      <th>lat</th>\n",
       "      <th>lon</th>\n",
       "      <th>surface_total_in_m2</th>\n",
       "      <th>surface_covered_in_m2</th>\n",
       "      <th>floor</th>\n",
       "      <th>rooms</th>\n",
       "      <th>expenses</th>\n",
       "      <th>price_aprox_usd</th>\n",
       "    </tr>\n",
       "  </thead>\n",
       "  <tbody>\n",
       "    <tr>\n",
       "      <th>18733</th>\n",
       "      <td>2016-10-02</td>\n",
       "      <td>house</td>\n",
       "      <td>Munro</td>\n",
       "      <td>Bs.As. G.B.A. Zona Norte</td>\n",
       "      <td>-34.535086</td>\n",
       "      <td>-58.537104</td>\n",
       "      <td>126.0</td>\n",
       "      <td>126.0</td>\n",
       "      <td>0.0</td>\n",
       "      <td>3.0</td>\n",
       "      <td>0.0</td>\n",
       "      <td>130000.0</td>\n",
       "    </tr>\n",
       "    <tr>\n",
       "      <th>18742</th>\n",
       "      <td>2016-10-02</td>\n",
       "      <td>house</td>\n",
       "      <td>San Cristobal</td>\n",
       "      <td>Capital Federal</td>\n",
       "      <td>-34.623587</td>\n",
       "      <td>-58.408861</td>\n",
       "      <td>517.0</td>\n",
       "      <td>330.0</td>\n",
       "      <td>0.0</td>\n",
       "      <td>0.0</td>\n",
       "      <td>0.0</td>\n",
       "      <td>395000.0</td>\n",
       "    </tr>\n",
       "    <tr>\n",
       "      <th>18745</th>\n",
       "      <td>2016-10-02</td>\n",
       "      <td>apartment</td>\n",
       "      <td>Floresta</td>\n",
       "      <td>Capital Federal</td>\n",
       "      <td>-34.632349</td>\n",
       "      <td>-58.485810</td>\n",
       "      <td>40.0</td>\n",
       "      <td>40.0</td>\n",
       "      <td>0.0</td>\n",
       "      <td>0.0</td>\n",
       "      <td>700.0</td>\n",
       "      <td>69000.0</td>\n",
       "    </tr>\n",
       "  </tbody>\n",
       "</table>\n",
       "</div>"
      ],
      "text/plain": [
       "       created_on property_type     place_name                state_name  \\\n",
       "18733  2016-10-02         house          Munro  Bs.As. G.B.A. Zona Norte   \n",
       "18742  2016-10-02         house  San Cristobal           Capital Federal   \n",
       "18745  2016-10-02     apartment       Floresta           Capital Federal   \n",
       "\n",
       "             lat        lon  surface_total_in_m2  surface_covered_in_m2  \\\n",
       "18733 -34.535086 -58.537104                126.0                  126.0   \n",
       "18742 -34.623587 -58.408861                517.0                  330.0   \n",
       "18745 -34.632349 -58.485810                 40.0                   40.0   \n",
       "\n",
       "       floor  rooms  expenses  price_aprox_usd  \n",
       "18733    0.0    3.0       0.0         130000.0  \n",
       "18742    0.0    0.0       0.0         395000.0  \n",
       "18745    0.0    0.0     700.0          69000.0  "
      ]
     },
     "execution_count": 17,
     "metadata": {},
     "output_type": "execute_result"
    }
   ],
   "source": [
    "from sklearn.preprocessing import LabelEncoder\n",
    "\n",
    "encoder_property_type = LabelEncoder()\n",
    "properties_latlon.head(3)"
   ]
  },
  {
   "cell_type": "code",
   "execution_count": 18,
   "metadata": {
    "collapsed": false
   },
   "outputs": [
    {
     "name": "stderr",
     "output_type": "stream",
     "text": [
      "/opt/conda/lib/python3.5/site-packages/ipykernel/__main__.py:1: SettingWithCopyWarning: \n",
      "A value is trying to be set on a copy of a slice from a DataFrame.\n",
      "Try using .loc[row_indexer,col_indexer] = value instead\n",
      "\n",
      "See the caveats in the documentation: http://pandas.pydata.org/pandas-docs/stable/indexing.html#indexing-view-versus-copy\n",
      "  if __name__ == '__main__':\n"
     ]
    },
    {
     "data": {
      "text/plain": [
       "1    67814\n",
       "2    29832\n",
       "0     7866\n",
       "3     3572\n",
       "Name: property_type, dtype: int64"
      ]
     },
     "execution_count": 18,
     "metadata": {},
     "output_type": "execute_result"
    }
   ],
   "source": [
    "properties_latlon['property_type'] = encoder_property_type.fit_transform(properties_latlon['property_type'])\n",
    "properties_latlon['property_type'].value_counts()"
   ]
  },
  {
   "cell_type": "code",
   "execution_count": 19,
   "metadata": {
    "collapsed": false
   },
   "outputs": [
    {
     "data": {
      "text/plain": [
       "Palermo                       5024\n",
       "Belgrano                      4714\n",
       "Caballito                     3697\n",
       "Nordelta                      3506\n",
       "Tigre                         3291\n",
       "Recoleta                      3046\n",
       "Barrio Norte                  2610\n",
       "Pilar                         2445\n",
       "Flores                        2391\n",
       "Almagro                       2381\n",
       "Villa Urquiza                 2363\n",
       "Villa Crespo                  2240\n",
       "La Plata                      2199\n",
       "San Telmo                     1646\n",
       "Olivos                        1560\n",
       "San Miguel                    1515\n",
       "Balvanera                     1511\n",
       "Nuñez                         1332\n",
       "Puerto Madero                 1331\n",
       "Quilmes                       1281\n",
       "Ituzaingó                     1076\n",
       "Ramos Mejía                   1060\n",
       "Floresta                      1003\n",
       "San Isidro                     973\n",
       "Barracas                       947\n",
       "Lomas de Zamora                940\n",
       "Caseros                        902\n",
       "Saavedra                       900\n",
       "Villa Devoto                   887\n",
       "Morón                          886\n",
       "                              ... \n",
       "Paso del Rey                    78\n",
       "Mayling Club de Campo           78\n",
       "Esteban Echeverría              74\n",
       "Villa Rosa                      74\n",
       "Country Nuevo Quilmes           72\n",
       "Barrio San Isidro Labrador      70\n",
       "Cañuelas                        70\n",
       "Villa de Mayo                   68\n",
       "La Reja                         68\n",
       "Guernica                        67\n",
       "Los Lagartos Country Club       66\n",
       "Isidro Casanova                 65\n",
       "Garín                           65\n",
       "Villa Lynch                     64\n",
       "Virreyes                        63\n",
       "Barrio San Agustin              62\n",
       "Villa Dominico                  61\n",
       "Grand Bourg                     60\n",
       "La Tablada                      59\n",
       "Llavallol                       59\n",
       "San Vicente                     58\n",
       "Tolosa                          57\n",
       "Country San Jorge Village       56\n",
       "El Nacional Club de Campo       56\n",
       "Villa Libertad                  56\n",
       "Almirante Brown                 54\n",
       "Mapuche Country Club            54\n",
       "Barrio Los Castores             53\n",
       "Florencio Varela                53\n",
       "Derqui                          52\n",
       "Name: place_name, dtype: int64"
      ]
     },
     "execution_count": 19,
     "metadata": {},
     "output_type": "execute_result"
    }
   ],
   "source": [
    "# me aseguro de tener varios datos en cada place_name\n",
    "properties_placenames = properties_latlon.groupby('place_name').filter(lambda x: len(x) > 50)\n",
    "properties_placenames['place_name'].value_counts()"
   ]
  },
  {
   "cell_type": "code",
   "execution_count": 20,
   "metadata": {
    "collapsed": false
   },
   "outputs": [
    {
     "name": "stderr",
     "output_type": "stream",
     "text": [
      "/opt/conda/lib/python3.5/site-packages/ipykernel/__main__.py:2: SettingWithCopyWarning: \n",
      "A value is trying to be set on a copy of a slice from a DataFrame.\n",
      "Try using .loc[row_indexer,col_indexer] = value instead\n",
      "\n",
      "See the caveats in the documentation: http://pandas.pydata.org/pandas-docs/stable/indexing.html#indexing-view-versus-copy\n",
      "  from ipykernel import kernelapp as app\n"
     ]
    },
    {
     "data": {
      "text/plain": [
       "120    5024\n",
       "22     4714\n",
       "32     3697\n",
       "116    3506\n",
       "161    3291\n",
       "139    3046\n",
       "15     2610\n",
       "133    2445\n",
       "63     2391\n",
       "4      2381\n",
       "192    2363\n",
       "174    2240\n",
       "85     2199\n",
       "153    1646\n",
       "118    1560\n",
       "151    1515\n",
       "7      1511\n",
       "117    1332\n",
       "136    1331\n",
       "137    1281\n",
       "79     1076\n",
       "138    1060\n",
       "64     1003\n",
       "148     973\n",
       "9       947\n",
       "94      940\n",
       "36      902\n",
       "143     900\n",
       "175     887\n",
       "113     886\n",
       "       ... \n",
       "124      78\n",
       "107      78\n",
       "189      74\n",
       "57       74\n",
       "48       72\n",
       "18       70\n",
       "38       70\n",
       "86       68\n",
       "193      68\n",
       "74       67\n",
       "97       66\n",
       "68       65\n",
       "78       65\n",
       "183      64\n",
       "195      63\n",
       "16       62\n",
       "176      61\n",
       "73       60\n",
       "87       59\n",
       "93       59\n",
       "154      58\n",
       "162      57\n",
       "49       56\n",
       "53       56\n",
       "179      56\n",
       "5        54\n",
       "101      54\n",
       "13       53\n",
       "62       53\n",
       "51       52\n",
       "Name: place_name, dtype: int64"
      ]
     },
     "execution_count": 20,
     "metadata": {},
     "output_type": "execute_result"
    }
   ],
   "source": [
    "encoder_place_name = LabelEncoder()\n",
    "properties_placenames['place_name'] = encoder_place_name.fit_transform(properties_placenames['place_name'])\n",
    "properties_placenames['place_name'].value_counts()"
   ]
  },
  {
   "cell_type": "code",
   "execution_count": 21,
   "metadata": {
    "collapsed": false
   },
   "outputs": [
    {
     "data": {
      "text/plain": [
       "Capital Federal             55539\n",
       "Bs.As. G.B.A. Zona Norte    26698\n",
       "Bs.As. G.B.A. Zona Sur      12041\n",
       "Bs.As. G.B.A. Zona Oeste    10145\n",
       "Name: state_name, dtype: int64"
      ]
     },
     "execution_count": 21,
     "metadata": {},
     "output_type": "execute_result"
    }
   ],
   "source": [
    "properties_placenames['state_name'].value_counts()"
   ]
  },
  {
   "cell_type": "code",
   "execution_count": 22,
   "metadata": {
    "collapsed": false
   },
   "outputs": [
    {
     "name": "stderr",
     "output_type": "stream",
     "text": [
      "/opt/conda/lib/python3.5/site-packages/sklearn/preprocessing/label.py:111: DataConversionWarning: A column-vector y was passed when a 1d array was expected. Please change the shape of y to (n_samples, ), for example using ravel().\n",
      "  y = column_or_1d(y, warn=True)\n",
      "/opt/conda/lib/python3.5/site-packages/ipykernel/__main__.py:2: SettingWithCopyWarning: \n",
      "A value is trying to be set on a copy of a slice from a DataFrame.\n",
      "Try using .loc[row_indexer,col_indexer] = value instead\n",
      "\n",
      "See the caveats in the documentation: http://pandas.pydata.org/pandas-docs/stable/indexing.html#indexing-view-versus-copy\n",
      "  from ipykernel import kernelapp as app\n"
     ]
    },
    {
     "data": {
      "text/plain": [
       "3    55539\n",
       "0    26698\n",
       "2    12041\n",
       "1    10145\n",
       "Name: state_name, dtype: int64"
      ]
     },
     "execution_count": 22,
     "metadata": {},
     "output_type": "execute_result"
    }
   ],
   "source": [
    "encoder_state_name = LabelEncoder()\n",
    "properties_placenames['state_name'] = encoder_state_name.fit_transform(properties_placenames[['state_name']])\n",
    "properties_placenames['state_name'].value_counts()"
   ]
  },
  {
   "cell_type": "code",
   "execution_count": 23,
   "metadata": {
    "collapsed": false
   },
   "outputs": [
    {
     "data": {
      "text/html": [
       "<div>\n",
       "<table border=\"1\" class=\"dataframe\">\n",
       "  <thead>\n",
       "    <tr style=\"text-align: right;\">\n",
       "      <th></th>\n",
       "      <th>created_on</th>\n",
       "      <th>property_type</th>\n",
       "      <th>place_name</th>\n",
       "      <th>state_name</th>\n",
       "      <th>lat</th>\n",
       "      <th>lon</th>\n",
       "      <th>surface_total_in_m2</th>\n",
       "      <th>surface_covered_in_m2</th>\n",
       "      <th>floor</th>\n",
       "      <th>rooms</th>\n",
       "      <th>expenses</th>\n",
       "      <th>price_aprox_usd</th>\n",
       "    </tr>\n",
       "  </thead>\n",
       "  <tbody>\n",
       "    <tr>\n",
       "      <th>18733</th>\n",
       "      <td>2016-10-02</td>\n",
       "      <td>2</td>\n",
       "      <td>114</td>\n",
       "      <td>0</td>\n",
       "      <td>-34.535086</td>\n",
       "      <td>-58.537104</td>\n",
       "      <td>126.0</td>\n",
       "      <td>126.0</td>\n",
       "      <td>0.0</td>\n",
       "      <td>3.0</td>\n",
       "      <td>0.0</td>\n",
       "      <td>130000.0</td>\n",
       "    </tr>\n",
       "    <tr>\n",
       "      <th>18742</th>\n",
       "      <td>2016-10-02</td>\n",
       "      <td>2</td>\n",
       "      <td>146</td>\n",
       "      <td>3</td>\n",
       "      <td>-34.623587</td>\n",
       "      <td>-58.408861</td>\n",
       "      <td>517.0</td>\n",
       "      <td>330.0</td>\n",
       "      <td>0.0</td>\n",
       "      <td>0.0</td>\n",
       "      <td>0.0</td>\n",
       "      <td>395000.0</td>\n",
       "    </tr>\n",
       "    <tr>\n",
       "      <th>18745</th>\n",
       "      <td>2016-10-02</td>\n",
       "      <td>1</td>\n",
       "      <td>64</td>\n",
       "      <td>3</td>\n",
       "      <td>-34.632349</td>\n",
       "      <td>-58.485810</td>\n",
       "      <td>40.0</td>\n",
       "      <td>40.0</td>\n",
       "      <td>0.0</td>\n",
       "      <td>0.0</td>\n",
       "      <td>700.0</td>\n",
       "      <td>69000.0</td>\n",
       "    </tr>\n",
       "  </tbody>\n",
       "</table>\n",
       "</div>"
      ],
      "text/plain": [
       "       created_on  property_type  place_name  state_name        lat  \\\n",
       "18733  2016-10-02              2         114           0 -34.535086   \n",
       "18742  2016-10-02              2         146           3 -34.623587   \n",
       "18745  2016-10-02              1          64           3 -34.632349   \n",
       "\n",
       "             lon  surface_total_in_m2  surface_covered_in_m2  floor  rooms  \\\n",
       "18733 -58.537104                126.0                  126.0    0.0    3.0   \n",
       "18742 -58.408861                517.0                  330.0    0.0    0.0   \n",
       "18745 -58.485810                 40.0                   40.0    0.0    0.0   \n",
       "\n",
       "       expenses  price_aprox_usd  \n",
       "18733       0.0         130000.0  \n",
       "18742       0.0         395000.0  \n",
       "18745     700.0          69000.0  "
      ]
     },
     "execution_count": 23,
     "metadata": {},
     "output_type": "execute_result"
    }
   ],
   "source": [
    "properties_placenames.head(3)"
   ]
  },
  {
   "cell_type": "code",
   "execution_count": 24,
   "metadata": {
    "collapsed": false
   },
   "outputs": [
    {
     "name": "stderr",
     "output_type": "stream",
     "text": [
      "/opt/conda/lib/python3.5/site-packages/ipykernel/__main__.py:2: SettingWithCopyWarning: \n",
      "A value is trying to be set on a copy of a slice from a DataFrame.\n",
      "Try using .loc[row_indexer,col_indexer] = value instead\n",
      "\n",
      "See the caveats in the documentation: http://pandas.pydata.org/pandas-docs/stable/indexing.html#indexing-view-versus-copy\n",
      "  from ipykernel import kernelapp as app\n"
     ]
    },
    {
     "data": {
      "text/html": [
       "<div>\n",
       "<table border=\"1\" class=\"dataframe\">\n",
       "  <thead>\n",
       "    <tr style=\"text-align: right;\">\n",
       "      <th></th>\n",
       "      <th>created_on</th>\n",
       "      <th>property_type</th>\n",
       "      <th>place_name</th>\n",
       "      <th>state_name</th>\n",
       "      <th>lat</th>\n",
       "      <th>lon</th>\n",
       "      <th>surface_total_in_m2</th>\n",
       "      <th>surface_covered_in_m2</th>\n",
       "      <th>floor</th>\n",
       "      <th>rooms</th>\n",
       "      <th>expenses</th>\n",
       "      <th>price_aprox_usd</th>\n",
       "    </tr>\n",
       "  </thead>\n",
       "  <tbody>\n",
       "    <tr>\n",
       "      <th>18733</th>\n",
       "      <td>20161002</td>\n",
       "      <td>2</td>\n",
       "      <td>114</td>\n",
       "      <td>0</td>\n",
       "      <td>-34.535086</td>\n",
       "      <td>-58.537104</td>\n",
       "      <td>126.0</td>\n",
       "      <td>126.0</td>\n",
       "      <td>0.0</td>\n",
       "      <td>3.0</td>\n",
       "      <td>0.0</td>\n",
       "      <td>130000.0</td>\n",
       "    </tr>\n",
       "    <tr>\n",
       "      <th>18742</th>\n",
       "      <td>20161002</td>\n",
       "      <td>2</td>\n",
       "      <td>146</td>\n",
       "      <td>3</td>\n",
       "      <td>-34.623587</td>\n",
       "      <td>-58.408861</td>\n",
       "      <td>517.0</td>\n",
       "      <td>330.0</td>\n",
       "      <td>0.0</td>\n",
       "      <td>0.0</td>\n",
       "      <td>0.0</td>\n",
       "      <td>395000.0</td>\n",
       "    </tr>\n",
       "    <tr>\n",
       "      <th>18745</th>\n",
       "      <td>20161002</td>\n",
       "      <td>1</td>\n",
       "      <td>64</td>\n",
       "      <td>3</td>\n",
       "      <td>-34.632349</td>\n",
       "      <td>-58.485810</td>\n",
       "      <td>40.0</td>\n",
       "      <td>40.0</td>\n",
       "      <td>0.0</td>\n",
       "      <td>0.0</td>\n",
       "      <td>700.0</td>\n",
       "      <td>69000.0</td>\n",
       "    </tr>\n",
       "    <tr>\n",
       "      <th>18747</th>\n",
       "      <td>20161002</td>\n",
       "      <td>1</td>\n",
       "      <td>7</td>\n",
       "      <td>3</td>\n",
       "      <td>-34.611201</td>\n",
       "      <td>-58.407291</td>\n",
       "      <td>230.0</td>\n",
       "      <td>230.0</td>\n",
       "      <td>0.0</td>\n",
       "      <td>8.0</td>\n",
       "      <td>0.0</td>\n",
       "      <td>298500.0</td>\n",
       "    </tr>\n",
       "    <tr>\n",
       "      <th>18752</th>\n",
       "      <td>20161002</td>\n",
       "      <td>2</td>\n",
       "      <td>112</td>\n",
       "      <td>1</td>\n",
       "      <td>-34.639858</td>\n",
       "      <td>-58.786730</td>\n",
       "      <td>0.0</td>\n",
       "      <td>84.0</td>\n",
       "      <td>3.0</td>\n",
       "      <td>4.0</td>\n",
       "      <td>0.0</td>\n",
       "      <td>119500.0</td>\n",
       "    </tr>\n",
       "  </tbody>\n",
       "</table>\n",
       "</div>"
      ],
      "text/plain": [
       "       created_on  property_type  place_name  state_name        lat  \\\n",
       "18733    20161002              2         114           0 -34.535086   \n",
       "18742    20161002              2         146           3 -34.623587   \n",
       "18745    20161002              1          64           3 -34.632349   \n",
       "18747    20161002              1           7           3 -34.611201   \n",
       "18752    20161002              2         112           1 -34.639858   \n",
       "\n",
       "             lon  surface_total_in_m2  surface_covered_in_m2  floor  rooms  \\\n",
       "18733 -58.537104                126.0                  126.0    0.0    3.0   \n",
       "18742 -58.408861                517.0                  330.0    0.0    0.0   \n",
       "18745 -58.485810                 40.0                   40.0    0.0    0.0   \n",
       "18747 -58.407291                230.0                  230.0    0.0    8.0   \n",
       "18752 -58.786730                  0.0                   84.0    3.0    4.0   \n",
       "\n",
       "       expenses  price_aprox_usd  \n",
       "18733       0.0         130000.0  \n",
       "18742       0.0         395000.0  \n",
       "18745     700.0          69000.0  \n",
       "18747       0.0         298500.0  \n",
       "18752       0.0         119500.0  "
      ]
     },
     "execution_count": 24,
     "metadata": {},
     "output_type": "execute_result"
    }
   ],
   "source": [
    "# fechas\n",
    "properties_placenames['created_on'] = properties_placenames['created_on'].str.replace('-','').apply(int)\n",
    "properties_placenames.head()"
   ]
  },
  {
   "cell_type": "markdown",
   "metadata": {},
   "source": [
    "Por ultimo separamos el set en 2 para poder entrenar y validar"
   ]
  },
  {
   "cell_type": "code",
   "execution_count": 25,
   "metadata": {
    "collapsed": false
   },
   "outputs": [
    {
     "name": "stdout",
     "output_type": "stream",
     "text": [
      "Index(['created_on', 'property_type', 'place_name', 'state_name', 'lat', 'lon',\n",
      "       'surface_total_in_m2', 'surface_covered_in_m2', 'floor', 'rooms',\n",
      "       'expenses'],\n",
      "      dtype='object')\n"
     ]
    }
   ],
   "source": [
    "# obtenemos las columnas\n",
    "properties = properties_placenames\n",
    "\n",
    "columns = properties.iloc[:, properties.columns != 'price_aprox_usd'].columns\n",
    "print(columns)"
   ]
  },
  {
   "cell_type": "code",
   "execution_count": 26,
   "metadata": {
    "collapsed": false
   },
   "outputs": [
    {
     "data": {
      "text/plain": [
       "(20885, 83538)"
      ]
     },
     "execution_count": 26,
     "metadata": {},
     "output_type": "execute_result"
    }
   ],
   "source": [
    "# separamos el train de traing para validarlo luego usando un 20% de los datos\n",
    "from sklearn.model_selection import train_test_split\n",
    "import datetime\n",
    "\n",
    "now = datetime.datetime.now()\n",
    "\n",
    "X, y = properties.iloc[:, properties.columns != 'price_aprox_usd'].values, properties.iloc[:, properties.columns == 'price_aprox_usd'].values\n",
    "\n",
    "X_train, X_test, y_train, y_test = \\\n",
    "        train_test_split(X, y, test_size=0.2, random_state=200)\n",
    "    \n",
    "len(X_test), len(X_train)"
   ]
  },
  {
   "cell_type": "code",
   "execution_count": 27,
   "metadata": {
    "collapsed": false
   },
   "outputs": [
    {
     "name": "stdout",
     "output_type": "stream",
     "text": [
      "[[  2.01706050e+07   1.00000000e+00   1.38000000e+02 ...,   0.00000000e+00\n",
      "    1.00000000e+00   0.00000000e+00]\n",
      " [  2.01705310e+07   1.00000000e+00   1.50000000e+02 ...,   0.00000000e+00\n",
      "    0.00000000e+00   0.00000000e+00]\n",
      " [  2.01703280e+07   2.00000000e+00   1.38000000e+02 ...,   0.00000000e+00\n",
      "    4.00000000e+00   0.00000000e+00]\n",
      " ..., \n",
      " [  2.01707290e+07   1.00000000e+00   1.41000000e+02 ...,   0.00000000e+00\n",
      "    0.00000000e+00   4.00000000e+03]\n",
      " [  2.01610200e+07   1.00000000e+00   1.23000000e+02 ...,   0.00000000e+00\n",
      "    2.00000000e+00   0.00000000e+00]\n",
      " [  2.01610260e+07   1.00000000e+00   1.96000000e+02 ...,   0.00000000e+00\n",
      "    2.00000000e+00   0.00000000e+00]]\n",
      "[[ 0.49651884 -0.38659992  0.70007077 ..., -0.2227901  -0.49428286\n",
      "  -0.01377297]\n",
      " [ 0.47558034 -0.38659992  0.91160085 ..., -0.2227901  -1.04386761\n",
      "  -0.01377297]\n",
      " [ 0.41814096  1.19683722  0.70007077 ..., -0.2227901   1.1544714\n",
      "  -0.01377297]\n",
      " ..., \n",
      " [ 0.53160496 -0.38659992  0.75295329 ..., -0.2227901  -1.04386761\n",
      "   0.04394306]\n",
      " [-2.21558211 -0.38659992  0.43565818 ..., -0.2227901   0.05530189\n",
      "  -0.01377297]\n",
      " [-2.2138844  -0.38659992  1.72246612 ..., -0.2227901   0.05530189\n",
      "  -0.01377297]]\n"
     ]
    }
   ],
   "source": [
    "# a cada dato le restamos la media y lo dividimos por su desviacion standard\n",
    "from sklearn.preprocessing import StandardScaler\n",
    "\n",
    "stdsc_train = StandardScaler()\n",
    "stdsc_test = StandardScaler()\n",
    "\n",
    "X_train_std = stdsc_train.fit_transform(X_train)\n",
    "X_test_std = stdsc_test.fit_transform(X_test)\n",
    "\n",
    "print(X_train)\n",
    "print(X_train_std)"
   ]
  },
  {
   "cell_type": "markdown",
   "metadata": {},
   "source": [
    "## Algoritmo 1: KNN"
   ]
  },
  {
   "cell_type": "code",
   "execution_count": 28,
   "metadata": {
    "collapsed": true
   },
   "outputs": [],
   "source": [
    "best_k = 5\n",
    "best_p = 2"
   ]
  },
  {
   "cell_type": "code",
   "execution_count": 29,
   "metadata": {
    "collapsed": false
   },
   "outputs": [
    {
     "name": "stdout",
     "output_type": "stream",
     "text": [
      "Transcurrieron: 10.63 segundos de entrenamiento\n",
      "Transcurrieron: 5.11 segundos de predicción\n"
     ]
    }
   ],
   "source": [
    "from time import time\n",
    "from sklearn.neighbors import KNeighborsRegressor\n",
    "\n",
    "# calculo el tiempo que tarda un knn\n",
    "start_time = time()\n",
    "\n",
    "knn = KNeighborsRegressor(n_neighbors=best_k, weights='distance', p=best_p)\n",
    "knn.fit(X_train_std, y_train)\n",
    "\n",
    "train_time = time() - start_time\n",
    "print(\"Transcurrieron: %0.2f segundos de entrenamiento\" % train_time)\n",
    "\n",
    "y_predict = knn.predict(X_test_std)\n",
    "\n",
    "predict_time = time() - start_time - train_time\n",
    "print(\"Transcurrieron: %0.2f segundos de predicción\" % predict_time)"
   ]
  },
  {
   "cell_type": "markdown",
   "metadata": {},
   "source": [
    "Intentamos buscar con backward selection cuales son los features que mejor prediccion nos dan"
   ]
  },
  {
   "cell_type": "code",
   "execution_count": 30,
   "metadata": {
    "collapsed": false
   },
   "outputs": [
    {
     "data": {
      "image/png": "[encoded data removed]",
      "text/plain": [
       "<matplotlib.figure.Figure at 0x7f057bddf358>"
      ]
     },
     "metadata": {},
     "output_type": "display_data"
    }
   ],
   "source": [
    "from sklearn.base import clone\n",
    "from itertools import combinations\n",
    "from sklearn.model_selection import train_test_split\n",
    "from sklearn.metrics import accuracy_score, median_absolute_error, mean_squared_error\n",
    "\n",
    "# clase para hacer Backward Selection\n",
    "class SBS():\n",
    "    def __init__(self, estimator, k_features,\n",
    "        scoring=accuracy_score,\n",
    "        test_size=0.25, random_state=1):\n",
    "        self.scoring = scoring\n",
    "        self.estimator = clone(estimator)\n",
    "        self.k_features = k_features\n",
    "        self.test_size = test_size\n",
    "        self.random_state = random_state\n",
    "        \n",
    "    def fit(self, X, y):\n",
    "        X_train, X_test, y_train, y_test = \\\n",
    "            train_test_split(X, y, test_size=self.test_size,\n",
    "        random_state=self.random_state)\n",
    "        dim = X_train.shape[1]\n",
    "        self.indices_ = tuple(range(dim))\n",
    "        self.subsets_ = [self.indices_]\n",
    "        score = self._calc_score(X_train, y_train,\n",
    "        X_test, y_test, self.indices_)\n",
    "        self.scores_ = [score]\n",
    "        while dim > self.k_features:\n",
    "            scores = []\n",
    "            subsets = []\n",
    "            for p in combinations(self.indices_, r=dim-1):\n",
    "                score = self._calc_score(X_train, y_train,\n",
    "                X_test, y_test, p)\n",
    "                scores.append(score)\n",
    "                subsets.append(p)\n",
    "            best = np.argmax(scores)\n",
    "            self.indices_ = subsets[best]\n",
    "            self.subsets_.append(self.indices_)\n",
    "            dim -= 1\n",
    "            self.scores_.append(scores[best])\n",
    "        self.k_score_ = self.scores_[-1]\n",
    "        return self\n",
    "    \n",
    "    def transform(self, X):\n",
    "        return X[:, self.indices_]\n",
    "        \n",
    "    def _calc_score(self, X_train, y_train,\n",
    "                        X_test, y_test, indices):\n",
    "        self.estimator.fit(X_train[:, indices], y_train)\n",
    "        y_pred = self.estimator.predict(X_test[:, indices])\n",
    "        score = self.scoring(y_test, y_pred)\n",
    "        return score\n",
    "\n",
    "# aplicamos algoritmos\n",
    "from sklearn.neighbors import KNeighborsRegressor\n",
    "\n",
    "knn = KNeighborsRegressor(n_neighbors=5, weights='distance')\n",
    "sbs = SBS(knn, k_features=1, scoring=mean_squared_error)\n",
    "sbs.fit(X_train_std, y_train)\n",
    "\n",
    "# graficamos\n",
    "k_feat = [len(k) for k in sbs.subsets_]\n",
    "plot(k_feat, sbs.scores_, marker='o')\n",
    "#ylim([0.0, 1.1])\n",
    "ylabel('Mean Squared Error')\n",
    "xlabel('Number of features')\n",
    "grid()\n",
    "show()"
   ]
  },
  {
   "cell_type": "markdown",
   "metadata": {},
   "source": [
    "Observamos que el RMSE disminuye a medida que aumentamos la cantidad de features. No parece necesario disminuir la cantidad de features a menos que sea por temas de performance."
   ]
  },
  {
   "cell_type": "code",
   "execution_count": 31,
   "metadata": {
    "collapsed": false
   },
   "outputs": [
    {
     "name": "stdout",
     "output_type": "stream",
     "text": [
      "Buscando k optimo ..\n",
      "score= 223722.4035061741 k= 10\n",
      ".\n",
      "score= 220387.6993613128 k= 20\n",
      ".\n",
      "score= 220068.00637817345 k= 30\n",
      "......El k optimo parece estar cerca de 30\n"
     ]
    }
   ],
   "source": [
    "from sklearn.neighbors import KNeighborsRegressor\n",
    "from sklearn.metrics import mean_squared_error\n",
    "from math import sqrt\n",
    "\n",
    "# busqueda de hiper-parametros\n",
    "k_scores = []\n",
    "k_list = []\n",
    "\n",
    "best_score = float(\"inf\")\n",
    "\n",
    "print('Buscando k optimo .',end='')\n",
    "for i in [10,20,30,40,60,70,80,90,100]:\n",
    "    print('.',end='')\n",
    "    knn = KNeighborsRegressor(n_neighbors=i, weights='distance', n_jobs=-1)\n",
    "    knn.fit(X_train_std, y_train)\n",
    "\n",
    "    k_list.append(i)\n",
    "    \n",
    "    y_predict = knn.predict(X_test_std)\n",
    "    sc = sqrt(mean_squared_error(y_predict,y_test))\n",
    "\n",
    "    k_scores.append(sc)\n",
    "\n",
    "    if(sc < best_score):\n",
    "        best_score = sc\n",
    "        best_k = i\n",
    "        print(\"\")\n",
    "        print(\"score=\",best_score,\"k=\",best_k)\n",
    "        \n",
    "print(\"El k optimo parece estar cerca de\",best_k)"
   ]
  },
  {
   "cell_type": "code",
   "execution_count": 32,
   "metadata": {
    "collapsed": false
   },
   "outputs": [
    {
     "name": "stdout",
     "output_type": "stream",
     "text": [
      "Buscando k optimo ...\n",
      "score= 220003.37918159607 k= 26\n",
      "........El k optimo parece estar cerca de 26\n"
     ]
    }
   ],
   "source": [
    "# buscamos alrededor del 10\n",
    "print('Buscando k optimo .',end='')\n",
    "range_start = best_k - 5\n",
    "range_end = best_k + 5\n",
    "for i in range(range_start, range_end, 1):\n",
    "    print('.',end='')\n",
    "    knn = KNeighborsRegressor(n_neighbors=i, weights='distance', n_jobs=-1)\n",
    "    knn.fit(X_train_std, y_train)\n",
    "\n",
    "    k_list.append(i)\n",
    "    \n",
    "    y_predict = knn.predict(X_test_std)\n",
    "    sc = sqrt(mean_squared_error(y_predict,y_test))\n",
    "\n",
    "    k_scores.append(sc)\n",
    "\n",
    "    if(sc < best_score):\n",
    "        best_score = sc\n",
    "        best_k = i\n",
    "        print(\"\")\n",
    "        print(\"score=\",best_score,\"k=\",best_k)\n",
    "        \n",
    "print(\"El k optimo parece estar cerca de\",best_k)"
   ]
  },
  {
   "cell_type": "code",
   "execution_count": 33,
   "metadata": {
    "collapsed": false
   },
   "outputs": [
    {
     "name": "stdout",
     "output_type": "stream",
     "text": [
      "Buscando p optimo ............El p optimo parece estar cerca de 2\n"
     ]
    }
   ],
   "source": [
    "p_list = []\n",
    "print('Buscando p optimo .',end='')\n",
    "for p in [100,81,77,66,50,43,30,25,14,9,2]:\n",
    "    print('.',end='')\n",
    "    knn = KNeighborsRegressor(n_neighbors=best_k, p=p, weights='distance', n_jobs=-1)\n",
    "    knn.fit(X_train_std, y_train)\n",
    "\n",
    "    p_list.append(i)\n",
    "    \n",
    "    y_predict = knn.predict(X_test_std)\n",
    "    sc = sqrt(mean_squared_error(y_predict,y_test))\n",
    "\n",
    "    k_scores.append(sc)\n",
    "\n",
    "    if(sc < best_score):\n",
    "        best_score = sc\n",
    "        best_p = p\n",
    "        print(\"\")\n",
    "        print(\"score=\",best_score,\"p=\",best_p)\n",
    "        \n",
    "print(\"El p optimo parece estar cerca de\",best_p)"
   ]
  },
  {
   "cell_type": "code",
   "execution_count": 34,
   "metadata": {
    "collapsed": false
   },
   "outputs": [
    {
     "name": "stdout",
     "output_type": "stream",
     "text": [
      "Error del set de entrenamiento 32826.430387409986\n",
      "Error del set de test 220003.37918159607\n"
     ]
    }
   ],
   "source": [
    "# entrenamos el modelo\n",
    "model_knn = KNeighborsRegressor(n_neighbors=best_k, weights='distance', p=best_p, n_jobs=-1)\n",
    "model_knn.fit(X_train_std, y_train)\n",
    "\n",
    "y_predict = model_knn.predict(X_train_std)\n",
    "print(\"Error del set de entrenamiento\",sqrt(mean_squared_error(y_predict,y_train)))\n",
    "\n",
    "y_predict = model_knn.predict(X_test_std)\n",
    "print(\"Error del set de test\",sqrt(mean_squared_error(y_predict,y_test)))\n"
   ]
  },
  {
   "cell_type": "markdown",
   "metadata": {},
   "source": [
    "## Algoritmo II: Random Forest"
   ]
  },
  {
   "cell_type": "markdown",
   "metadata": {},
   "source": [
    "### RF con datos no-normalizados"
   ]
  },
  {
   "cell_type": "code",
   "execution_count": 35,
   "metadata": {
    "collapsed": true
   },
   "outputs": [],
   "source": [
    "best_max_depth = 5\n",
    "best_min_samples_leaf = 5\n",
    "best_min_samples_split = 10"
   ]
  },
  {
   "cell_type": "code",
   "execution_count": 36,
   "metadata": {
    "collapsed": false
   },
   "outputs": [
    {
     "name": "stdout",
     "output_type": "stream",
     "text": [
      "Transcurrieron: 13.19 segundos de entrenamiento\n",
      "Transcurrieron: 0.07 segundos de predicción\n"
     ]
    }
   ],
   "source": [
    "from time import time\n",
    "from sklearn.ensemble import RandomForestRegressor\n",
    "\n",
    "# calculo el tiempo que tarda un knn\n",
    "start_time = time()\n",
    "\n",
    "rf1 = RandomForestRegressor(n_estimators=100, max_features='auto', max_depth=best_max_depth,\\\n",
    "                           min_samples_leaf=best_min_samples_leaf, min_samples_split=best_min_samples_split)\n",
    "rf1.fit(X_train_std, y_train.ravel())\n",
    "\n",
    "train_time = time() - start_time\n",
    "print(\"Transcurrieron: %0.2f segundos de entrenamiento\" % train_time)\n",
    "\n",
    "y_predict = rf1.predict(X_test_std)\n",
    "\n",
    "predict_time = time() - start_time - train_time\n",
    "print(\"Transcurrieron: %0.2f segundos de predicción\" % predict_time)"
   ]
  },
  {
   "cell_type": "markdown",
   "metadata": {},
   "source": [
    "Primero fijo min leaf y min samples split y busco el max depth"
   ]
  },
  {
   "cell_type": "code",
   "execution_count": 37,
   "metadata": {
    "collapsed": false
   },
   "outputs": [
    {
     "name": "stdout",
     "output_type": "stream",
     "text": [
      "Buscando max_depth optimo ..\n",
      "score= 204730.0019477595 max_depth= 10\n",
      ".\n",
      "score= 194262.23753979258 max_depth= 20\n",
      ".\n",
      "score= 194068.67913295468 max_depth= 30\n",
      ".\n",
      "score= 193569.22289046555 max_depth= 40\n",
      ".\n",
      "score= 193120.98427735892 max_depth= 60\n",
      "........El max_depth optimo parece estar cerca de 60\n"
     ]
    }
   ],
   "source": [
    "best_score = float(\"inf\")\n",
    "\n",
    "print('Buscando max_depth optimo .',end='')\n",
    "for i in [10,20,30,40,60,70,80,90,100,110,120,130,140]:\n",
    "    print('.',end='')\n",
    "    rf1 = RandomForestRegressor(n_estimators=100, max_features='auto', max_depth=i,\\\n",
    "                           min_samples_leaf=best_min_samples_leaf, min_samples_split=best_min_samples_split, n_jobs=-1)\n",
    "    rf1.fit(X_train, y_train.ravel())\n",
    "    \n",
    "    y_predict = rf1.predict(X_test)\n",
    "    sc = sqrt(mean_squared_error(y_predict,y_test))\n",
    "\n",
    "    if(sc < best_score):\n",
    "        best_score = sc\n",
    "        best_max_depth = i\n",
    "        print(\"\")\n",
    "        print(\"score=\",best_score,\"max_depth=\",best_max_depth)\n",
    "        \n",
    "print(\"El max_depth optimo parece estar cerca de\",best_max_depth)"
   ]
  },
  {
   "cell_type": "code",
   "execution_count": 38,
   "metadata": {
    "collapsed": false
   },
   "outputs": [
    {
     "name": "stdout",
     "output_type": "stream",
     "text": [
      "Buscando max_depth optimo .....\n",
      "score= 192818.95436076893 max_depth= 57\n",
      "........El max_depth optimo parece estar cerca de 57\n"
     ]
    }
   ],
   "source": [
    "print('Buscando max_depth optimo .',end='')\n",
    "\n",
    "start_range = best_max_depth - 6\n",
    "end_range = best_max_depth + 6\n",
    "for i in range(start_range,end_range,1):\n",
    "    print('.',end='')\n",
    "    rf1 = RandomForestRegressor(n_estimators=100, max_features='auto', max_depth=i,\\\n",
    "                           min_samples_leaf=best_min_samples_leaf, min_samples_split=best_min_samples_split, n_jobs=-1)\n",
    "    rf1.fit(X_train, y_train.ravel())\n",
    "    \n",
    "    y_predict = rf1.predict(X_test)\n",
    "    sc = sqrt(mean_squared_error(y_predict,y_test))\n",
    "\n",
    "    if(sc < best_score):\n",
    "        best_score = sc\n",
    "        best_max_depth = i\n",
    "        print(\"\")\n",
    "        print(\"score=\",best_score,\"max_depth=\",best_max_depth)\n",
    "        \n",
    "print(\"El max_depth optimo parece estar cerca de\",best_max_depth)"
   ]
  },
  {
   "cell_type": "markdown",
   "metadata": {},
   "source": [
    "Fijado el max_depth ahora iteramos sobre el min leaf"
   ]
  },
  {
   "cell_type": "code",
   "execution_count": 39,
   "metadata": {
    "collapsed": false
   },
   "outputs": [
    {
     "name": "stdout",
     "output_type": "stream",
     "text": [
      "Buscando min_samples_leaf optimo .........El min_samples_leaf optimo parece estar cerca de 5\n"
     ]
    }
   ],
   "source": [
    "print('Buscando min_samples_leaf optimo .',end='')\n",
    "for i in [5,10,15,20,25,30,35,40]:\n",
    "    print('.',end='')\n",
    "    rf1 = RandomForestRegressor(n_estimators=100, max_features='auto', max_depth=best_max_depth,\\\n",
    "                           min_samples_leaf=i, min_samples_split=best_min_samples_split, n_jobs=-1)\n",
    "    rf1.fit(X_train, y_train.ravel())\n",
    "    \n",
    "    y_predict = rf1.predict(X_test)\n",
    "    sc = sqrt(mean_squared_error(y_predict,y_test))\n",
    "\n",
    "    if(sc < best_score):\n",
    "        best_score = sc\n",
    "        best_min_samples_leaf = i\n",
    "        print(\"\")\n",
    "        print(\"score=\",best_score,\"min_samples_leaf=\",best_min_samples_leaf)\n",
    "        \n",
    "print(\"El min_samples_leaf optimo parece estar cerca de\",best_min_samples_leaf)"
   ]
  },
  {
   "cell_type": "code",
   "execution_count": 40,
   "metadata": {
    "collapsed": false
   },
   "outputs": [
    {
     "name": "stdout",
     "output_type": "stream",
     "text": [
      "Buscando min_samples_leaf optimo ..\n",
      "score= 188724.57369693517 min_samples_leaf= 1\n",
      ".......El min_samples_leaf optimo parece estar cerca de 1\n"
     ]
    }
   ],
   "source": [
    "start_range = best_min_samples_leaf - 4\n",
    "end_range = best_min_samples_leaf + 4\n",
    "\n",
    "print('Buscando min_samples_leaf optimo .',end='')\n",
    "for i in range(start_range,end_range,1):\n",
    "    print('.',end='')\n",
    "    rf1 = RandomForestRegressor(n_estimators=100, max_features='auto', max_depth=best_max_depth,\\\n",
    "                           min_samples_leaf=i, min_samples_split=best_min_samples_split, n_jobs=-1)\n",
    "    rf1.fit(X_train, y_train.ravel())\n",
    "    \n",
    "    y_predict = rf1.predict(X_test)\n",
    "    sc = sqrt(mean_squared_error(y_predict,y_test))\n",
    "\n",
    "    if(sc < best_score):\n",
    "        best_score = sc\n",
    "        best_min_samples_leaf = i\n",
    "        print(\"\")\n",
    "        print(\"score=\",best_score,\"min_samples_leaf=\",best_min_samples_leaf)\n",
    "        \n",
    "print(\"El min_samples_leaf optimo parece estar cerca de\",best_min_samples_leaf)"
   ]
  },
  {
   "cell_type": "code",
   "execution_count": 41,
   "metadata": {
    "collapsed": false
   },
   "outputs": [
    {
     "name": "stdout",
     "output_type": "stream",
     "text": [
      "Buscando min_samples_split optimo ..\n",
      "score= 186412.56347241113 min_samples_split= 10\n",
      ".......El min_samples_split optimo parece estar cerca de 10\n"
     ]
    }
   ],
   "source": [
    "print('Buscando min_samples_split optimo .',end='')\n",
    "for i in [5,10,15,20,25,30,35,40]:\n",
    "    print('.',end='')\n",
    "    rf1 = RandomForestRegressor(n_estimators=100, max_features='auto', max_depth=best_max_depth,\\\n",
    "                           min_samples_leaf=best_min_samples_leaf, min_samples_split=i, n_jobs=-1)\n",
    "    rf1.fit(X_train, y_train.ravel())\n",
    "    \n",
    "    y_predict = rf1.predict(X_test)\n",
    "    sc = sqrt(mean_squared_error(y_predict,y_test))\n",
    "\n",
    "    if(sc < best_score):\n",
    "        best_score = sc\n",
    "        best_min_samples_leaf = i\n",
    "        print(\"\")\n",
    "        print(\"score=\",best_score,\"min_samples_split=\",best_min_samples_split)\n",
    "        \n",
    "print(\"El min_samples_split optimo parece estar cerca de\",best_min_samples_split)"
   ]
  },
  {
   "cell_type": "code",
   "execution_count": 42,
   "metadata": {
    "collapsed": false
   },
   "outputs": [
    {
     "name": "stdout",
     "output_type": "stream",
     "text": [
      "Buscando min_samples_split optimo .........El min_samples_split optimo parece estar cerca de 10\n"
     ]
    }
   ],
   "source": [
    "start_range = best_min_samples_split - 4\n",
    "end_range = best_min_samples_split + 4\n",
    "\n",
    "print('Buscando min_samples_split optimo .',end='')\n",
    "for i in range(start_range,end_range,1):\n",
    "    print('.',end='')\n",
    "    rf1 = RandomForestRegressor(n_estimators=100, max_features='auto', max_depth=best_max_depth,\\\n",
    "                           min_samples_leaf=best_min_samples_leaf, min_samples_split=i, n_jobs=-1)\n",
    "    rf1.fit(X_train, y_train.ravel())\n",
    "    \n",
    "    y_predict = rf1.predict(X_test)\n",
    "    sc = sqrt(mean_squared_error(y_predict,y_test))\n",
    "\n",
    "    if(sc < best_score):\n",
    "        best_score = sc\n",
    "        best_min_samples_leaf = i\n",
    "        print(\"\")\n",
    "        print(\"score=\",best_score,\"min_samples_split=\",best_min_samples_split)\n",
    "        \n",
    "print(\"El min_samples_split optimo parece estar cerca de\",best_min_samples_split)"
   ]
  },
  {
   "cell_type": "markdown",
   "metadata": {},
   "source": [
    "Por ultima vamos a ir aumentando los estimadores para mejorar la precisiones tratando de ver si mejoran o no los resultados. Esperamos que mientras mas estimadores tengamos, mejores seran los resultados"
   ]
  },
  {
   "cell_type": "code",
   "execution_count": 43,
   "metadata": {
    "collapsed": false
   },
   "outputs": [
    {
     "name": "stdout",
     "output_type": "stream",
     "text": [
      "Aumentando la cantidad de estimadores ...........La cantidad de estimadores que mejor resultados nos dio fue 100\n"
     ]
    }
   ],
   "source": [
    "best_estimators = 100\n",
    "\n",
    "print('Aumentando la cantidad de estimadores .',end='')\n",
    "for i in [100,200,300,400,500,600,700,800,900,1000]:\n",
    "    print('.',end='')\n",
    "    rf1 = RandomForestRegressor(n_estimators=i, max_features='auto', max_depth=best_max_depth,\\\n",
    "                           min_samples_leaf=best_min_samples_leaf, min_samples_split=best_min_samples_split, n_jobs=-1)\n",
    "    rf1.fit(X_train, y_train.ravel())\n",
    "    \n",
    "    y_predict = rf1.predict(X_test)\n",
    "    sc = sqrt(mean_squared_error(y_predict,y_test))\n",
    "\n",
    "    if(sc < best_score):\n",
    "        best_score = sc\n",
    "        best_estimators = i\n",
    "        print(\"\")\n",
    "        print(\"score=\",best_score,\"best_estimators=\",best_estimators)\n",
    "        \n",
    "print(\"La cantidad de estimadores que mejor resultados nos dio fue\",best_estimators)"
   ]
  },
  {
   "cell_type": "code",
   "execution_count": 44,
   "metadata": {
    "collapsed": false
   },
   "outputs": [
    {
     "name": "stdout",
     "output_type": "stream",
     "text": [
      "Error del set de entrenamiento 103637.05030992422\n",
      "Error del set de test 193246.23918219376\n"
     ]
    }
   ],
   "source": [
    "# entrenamos el modelo\n",
    "model_rf1 = RandomForestRegressor(n_estimators=best_estimators, max_features='auto', max_depth=best_max_depth,\\\n",
    "                           min_samples_leaf=best_min_samples_leaf, min_samples_split=best_min_samples_split, n_jobs=-1)\n",
    "model_rf1.fit(X_train, y_train.ravel())\n",
    "\n",
    "y_predict = model_rf1.predict(X_train)\n",
    "print(\"Error del set de entrenamiento\",sqrt(mean_squared_error(y_predict,y_train)))\n",
    "\n",
    "y_predict = model_rf1.predict(X_test)\n",
    "print(\"Error del set de test\",sqrt(mean_squared_error(y_predict,y_test)))"
   ]
  },
  {
   "cell_type": "markdown",
   "metadata": {},
   "source": [
    "## ENSAMBLE"
   ]
  },
  {
   "cell_type": "markdown",
   "metadata": {},
   "source": [
    "### Levantar set de test"
   ]
  },
  {
   "cell_type": "code",
   "execution_count": 45,
   "metadata": {
    "collapsed": false
   },
   "outputs": [
    {
     "data": {
      "text/html": [
       "<div>\n",
       "<table border=\"1\" class=\"dataframe\">\n",
       "  <thead>\n",
       "    <tr style=\"text-align: right;\">\n",
       "      <th></th>\n",
       "      <th>id</th>\n",
       "      <th>created_on</th>\n",
       "      <th>property_type</th>\n",
       "      <th>operation</th>\n",
       "      <th>place_name</th>\n",
       "      <th>place_with_parent_names</th>\n",
       "      <th>country_name</th>\n",
       "      <th>state_name</th>\n",
       "      <th>lat-lon</th>\n",
       "      <th>lat</th>\n",
       "      <th>lon</th>\n",
       "      <th>surface_total_in_m2</th>\n",
       "      <th>surface_covered_in_m2</th>\n",
       "      <th>floor</th>\n",
       "      <th>rooms</th>\n",
       "      <th>expenses</th>\n",
       "      <th>description</th>\n",
       "    </tr>\n",
       "  </thead>\n",
       "  <tbody>\n",
       "    <tr>\n",
       "      <th>0</th>\n",
       "      <td>3632</td>\n",
       "      <td>2017-08-24</td>\n",
       "      <td>departamento</td>\n",
       "      <td>venta</td>\n",
       "      <td>Puerto Madero</td>\n",
       "      <td>|Argentina|Capital Federal|Puerto Madero|</td>\n",
       "      <td>Argentina</td>\n",
       "      <td>Capital Federal</td>\n",
       "      <td>-34.6109877599,-58.3634635778</td>\n",
       "      <td>-34.610988</td>\n",
       "      <td>-58.363464</td>\n",
       "      <td>0.0</td>\n",
       "      <td>NaN</td>\n",
       "      <td>NaN</td>\n",
       "      <td>NaN</td>\n",
       "      <td>NaN</td>\n",
       "      <td>Edificio BA Houses situado frente al Dique 3 d...</td>\n",
       "    </tr>\n",
       "    <tr>\n",
       "      <th>1</th>\n",
       "      <td>3633</td>\n",
       "      <td>2017-08-25</td>\n",
       "      <td>departamento</td>\n",
       "      <td>venta</td>\n",
       "      <td>Buenos Aires Interior</td>\n",
       "      <td>|Argentina|Buenos Aires Interior|</td>\n",
       "      <td>Argentina</td>\n",
       "      <td>Buenos Aires Interior</td>\n",
       "      <td>NaN</td>\n",
       "      <td>NaN</td>\n",
       "      <td>NaN</td>\n",
       "      <td>0.0</td>\n",
       "      <td>NaN</td>\n",
       "      <td>NaN</td>\n",
       "      <td>NaN</td>\n",
       "      <td>NaN</td>\n",
       "      <td>El departamento cuenta con un living-comedor a...</td>\n",
       "    </tr>\n",
       "    <tr>\n",
       "      <th>2</th>\n",
       "      <td>2263404</td>\n",
       "      <td>2017-08-01</td>\n",
       "      <td>departamento</td>\n",
       "      <td>venta</td>\n",
       "      <td>Palermo Soho</td>\n",
       "      <td>|Argentina|Capital Federal|Palermo|Palermo Soho|</td>\n",
       "      <td>Argentina</td>\n",
       "      <td>Capital Federal</td>\n",
       "      <td>-34.5893633232,-58.4128798588</td>\n",
       "      <td>-34.589363</td>\n",
       "      <td>-58.412880</td>\n",
       "      <td>53.0</td>\n",
       "      <td>48.0</td>\n",
       "      <td>NaN</td>\n",
       "      <td>NaN</td>\n",
       "      <td>1500</td>\n",
       "      <td>IMPECABLE TORRE COY III – DEPA...</td>\n",
       "    </tr>\n",
       "    <tr>\n",
       "      <th>3</th>\n",
       "      <td>2263405</td>\n",
       "      <td>2017-08-01</td>\n",
       "      <td>departamento</td>\n",
       "      <td>venta</td>\n",
       "      <td>Chacarita</td>\n",
       "      <td>|Argentina|Capital Federal|Chacarita|</td>\n",
       "      <td>Argentina</td>\n",
       "      <td>Capital Federal</td>\n",
       "      <td>NaN</td>\n",
       "      <td>NaN</td>\n",
       "      <td>NaN</td>\n",
       "      <td>39.0</td>\n",
       "      <td>39.0</td>\n",
       "      <td>NaN</td>\n",
       "      <td>NaN</td>\n",
       "      <td>NaN</td>\n",
       "      <td>AMBIENTE DIVISIBLE CON PISOS D...</td>\n",
       "    </tr>\n",
       "    <tr>\n",
       "      <th>4</th>\n",
       "      <td>2263406</td>\n",
       "      <td>2017-08-01</td>\n",
       "      <td>departamento</td>\n",
       "      <td>venta</td>\n",
       "      <td>Chacarita</td>\n",
       "      <td>|Argentina|Capital Federal|Chacarita|</td>\n",
       "      <td>Argentina</td>\n",
       "      <td>Capital Federal</td>\n",
       "      <td>NaN</td>\n",
       "      <td>NaN</td>\n",
       "      <td>NaN</td>\n",
       "      <td>51.0</td>\n",
       "      <td>51.0</td>\n",
       "      <td>NaN</td>\n",
       "      <td>NaN</td>\n",
       "      <td>NaN</td>\n",
       "      <td>LIVING COMEDOR CON PISOS DE PO...</td>\n",
       "    </tr>\n",
       "  </tbody>\n",
       "</table>\n",
       "</div>"
      ],
      "text/plain": [
       "        id  created_on property_type operation             place_name  \\\n",
       "0     3632  2017-08-24  departamento     venta          Puerto Madero   \n",
       "1     3633  2017-08-25  departamento     venta  Buenos Aires Interior   \n",
       "2  2263404  2017-08-01  departamento     venta           Palermo Soho   \n",
       "3  2263405  2017-08-01  departamento     venta              Chacarita   \n",
       "4  2263406  2017-08-01  departamento     venta              Chacarita   \n",
       "\n",
       "                            place_with_parent_names country_name  \\\n",
       "0         |Argentina|Capital Federal|Puerto Madero|    Argentina   \n",
       "1                 |Argentina|Buenos Aires Interior|    Argentina   \n",
       "2  |Argentina|Capital Federal|Palermo|Palermo Soho|    Argentina   \n",
       "3             |Argentina|Capital Federal|Chacarita|    Argentina   \n",
       "4             |Argentina|Capital Federal|Chacarita|    Argentina   \n",
       "\n",
       "              state_name                        lat-lon        lat        lon  \\\n",
       "0        Capital Federal  -34.6109877599,-58.3634635778 -34.610988 -58.363464   \n",
       "1  Buenos Aires Interior                            NaN        NaN        NaN   \n",
       "2        Capital Federal  -34.5893633232,-58.4128798588 -34.589363 -58.412880   \n",
       "3        Capital Federal                            NaN        NaN        NaN   \n",
       "4        Capital Federal                            NaN        NaN        NaN   \n",
       "\n",
       "   surface_total_in_m2  surface_covered_in_m2  floor  rooms expenses  \\\n",
       "0                  0.0                    NaN    NaN    NaN      NaN   \n",
       "1                  0.0                    NaN    NaN    NaN      NaN   \n",
       "2                 53.0                   48.0    NaN    NaN     1500   \n",
       "3                 39.0                   39.0    NaN    NaN      NaN   \n",
       "4                 51.0                   51.0    NaN    NaN      NaN   \n",
       "\n",
       "                                         description  \n",
       "0  Edificio BA Houses situado frente al Dique 3 d...  \n",
       "1  El departamento cuenta con un living-comedor a...  \n",
       "2                  IMPECABLE TORRE COY III – DEPA...  \n",
       "3                  AMBIENTE DIVISIBLE CON PISOS D...  \n",
       "4                  LIVING COMEDOR CON PISOS DE PO...  "
      ]
     },
     "execution_count": 45,
     "metadata": {},
     "output_type": "execute_result"
    }
   ],
   "source": [
    "# leemos set de test\n",
    "test_df = pd.read_csv('../data/test/properati_dataset_testing_noprice.csv', low_memory=False)\n",
    "test_df.head()"
   ]
  },
  {
   "cell_type": "code",
   "execution_count": 46,
   "metadata": {
    "collapsed": false
   },
   "outputs": [
    {
     "name": "stdout",
     "output_type": "stream",
     "text": [
      "<class 'pandas.core.frame.DataFrame'>\n",
      "RangeIndex: 14166 entries, 0 to 14165\n",
      "Data columns (total 11 columns):\n",
      "created_on               14166 non-null object\n",
      "property_type            14166 non-null object\n",
      "place_name               14166 non-null object\n",
      "state_name               14166 non-null object\n",
      "lat                      10487 non-null float64\n",
      "lon                      10487 non-null float64\n",
      "surface_total_in_m2      11853 non-null float64\n",
      "surface_covered_in_m2    13005 non-null float64\n",
      "floor                    1368 non-null float64\n",
      "rooms                    7500 non-null float64\n",
      "expenses                 2543 non-null object\n",
      "dtypes: float64(6), object(5)\n",
      "memory usage: 1.2+ MB\n"
     ]
    }
   ],
   "source": [
    "# nos quedamos con las columnas con las que entrenamos el modelo\n",
    "test_predcit_df = test_df.loc[:,columns]\n",
    "test_predcit_df.info()"
   ]
  },
  {
   "cell_type": "code",
   "execution_count": 47,
   "metadata": {
    "collapsed": false
   },
   "outputs": [
    {
     "data": {
      "text/html": [
       "<div>\n",
       "<table border=\"1\" class=\"dataframe\">\n",
       "  <thead>\n",
       "    <tr style=\"text-align: right;\">\n",
       "      <th></th>\n",
       "      <th>floor</th>\n",
       "      <th>rooms</th>\n",
       "    </tr>\n",
       "  </thead>\n",
       "  <tbody>\n",
       "    <tr>\n",
       "      <th>count</th>\n",
       "      <td>14166.000000</td>\n",
       "      <td>14166.000000</td>\n",
       "    </tr>\n",
       "    <tr>\n",
       "      <th>mean</th>\n",
       "      <td>1.031272</td>\n",
       "      <td>1.484893</td>\n",
       "    </tr>\n",
       "    <tr>\n",
       "      <th>std</th>\n",
       "      <td>29.206664</td>\n",
       "      <td>1.742398</td>\n",
       "    </tr>\n",
       "    <tr>\n",
       "      <th>min</th>\n",
       "      <td>0.000000</td>\n",
       "      <td>0.000000</td>\n",
       "    </tr>\n",
       "    <tr>\n",
       "      <th>25%</th>\n",
       "      <td>0.000000</td>\n",
       "      <td>0.000000</td>\n",
       "    </tr>\n",
       "    <tr>\n",
       "      <th>50%</th>\n",
       "      <td>0.000000</td>\n",
       "      <td>1.000000</td>\n",
       "    </tr>\n",
       "    <tr>\n",
       "      <th>75%</th>\n",
       "      <td>0.000000</td>\n",
       "      <td>3.000000</td>\n",
       "    </tr>\n",
       "    <tr>\n",
       "      <th>max</th>\n",
       "      <td>2509.000000</td>\n",
       "      <td>21.000000</td>\n",
       "    </tr>\n",
       "  </tbody>\n",
       "</table>\n",
       "</div>"
      ],
      "text/plain": [
       "              floor         rooms\n",
       "count  14166.000000  14166.000000\n",
       "mean       1.031272      1.484893\n",
       "std       29.206664      1.742398\n",
       "min        0.000000      0.000000\n",
       "25%        0.000000      0.000000\n",
       "50%        0.000000      1.000000\n",
       "75%        0.000000      3.000000\n",
       "max     2509.000000     21.000000"
      ]
     },
     "execution_count": 47,
     "metadata": {},
     "output_type": "execute_result"
    }
   ],
   "source": [
    "# completamos los nulos\n",
    "test_predcit_df['floor'] = test_predcit_df[['floor']].fillna(0)\n",
    "test_predcit_df['rooms'] = test_predcit_df[['rooms']].fillna(0)\n",
    "\n",
    "test_predcit_df[['floor','rooms']].describe()"
   ]
  },
  {
   "cell_type": "code",
   "execution_count": 48,
   "metadata": {
    "collapsed": false
   },
   "outputs": [
    {
     "data": {
      "text/plain": [
       "280                   SI\n",
       "282                   NO\n",
       "363                $1500\n",
       "600               $16000\n",
       "639                $1980\n",
       "1340              $19000\n",
       "4520       $ 2400 aprox.\n",
       "6625              $25900\n",
       "6652              20.622\n",
       "6654                 8.5\n",
       "6655                 8.3\n",
       "6662                13.5\n",
       "6664                 8.2\n",
       "6665               15.47\n",
       "6667                 6.5\n",
       "6669              11.489\n",
       "6670                15.5\n",
       "6671                 8.5\n",
       "6673                 7.8\n",
       "6675                 4.2\n",
       "6681                $650\n",
       "6682                 7.6\n",
       "6685                14.5\n",
       "7623               $ 300\n",
       "8078               $1980\n",
       "8539           2000/2500\n",
       "9960        Sin expensas\n",
       "10978                 NO\n",
       "10987                 SI\n",
       "10989                 NO\n",
       "11054    5750 + 4000 ext\n",
       "11097        $ 600 aprox\n",
       "11250                1.3\n",
       "12000                4.5\n",
       "13329       Sin expensas\n",
       "13989              $1200\n",
       "13993                1.9\n",
       "Name: expenses, dtype: object"
      ]
     },
     "execution_count": 48,
     "metadata": {},
     "output_type": "execute_result"
    }
   ],
   "source": [
    "test_predcit_df['expenses'] = test_predcit_df[['expenses']].fillna(0)\n",
    "test_predcit_df[~test_predcit_df['expenses'].astype(str).str.isdigit()]['expenses']"
   ]
  },
  {
   "cell_type": "code",
   "execution_count": 49,
   "metadata": {
    "collapsed": false
   },
   "outputs": [
    {
     "data": {
      "text/plain": [
       "'12000'"
      ]
     },
     "execution_count": 49,
     "metadata": {},
     "output_type": "execute_result"
    }
   ],
   "source": [
    "import re\n",
    "\n",
    "re.sub('(\\$+)','', \"12000\")"
   ]
  },
  {
   "cell_type": "code",
   "execution_count": 50,
   "metadata": {
    "collapsed": false
   },
   "outputs": [
    {
     "data": {
      "text/plain": [
       "9960     \n",
       "13329    \n",
       "Name: expenses, dtype: object"
      ]
     },
     "execution_count": 50,
     "metadata": {},
     "output_type": "execute_result"
    }
   ],
   "source": [
    "def to_numeric(x):\n",
    "    replacement = x\n",
    "    try:\n",
    "        replacement = re.sub('(\\$+)','', replacement)\n",
    "        replacement = re.sub('aprox','', replacement)\n",
    "        replacement = re.sub('Sin expensas','', replacement)\n",
    "        replacement = re.sub('NO','0', replacement)\n",
    "        replacement = re.sub('SI','0', replacement)\n",
    "        replacement = re.sub('(\\.+)','', replacement)\n",
    "        replacement = re.sub(' ','', replacement)\n",
    "        replacement = re.sub('\\/.*$','', replacement)\n",
    "        replacement = re.sub('\\+.*$','', replacement)\n",
    "    except:\n",
    "        return x\n",
    "    return replacement\n",
    "    \n",
    "test_predcit_df['expenses'] = test_predcit_df['expenses'].apply(to_numeric)\n",
    "test_predcit_df['expenses'] = test_predcit_df[['expenses']].fillna(0)\n",
    "test_predcit_df[~test_predcit_df['expenses'].astype(str).str.isdigit()]['expenses']"
   ]
  },
  {
   "cell_type": "code",
   "execution_count": 51,
   "metadata": {
    "collapsed": false
   },
   "outputs": [
    {
     "data": {
      "text/html": [
       "<div>\n",
       "<table border=\"1\" class=\"dataframe\">\n",
       "  <thead>\n",
       "    <tr style=\"text-align: right;\">\n",
       "      <th></th>\n",
       "      <th>created_on</th>\n",
       "      <th>property_type</th>\n",
       "      <th>place_name</th>\n",
       "      <th>state_name</th>\n",
       "      <th>lat</th>\n",
       "      <th>lon</th>\n",
       "      <th>surface_total_in_m2</th>\n",
       "      <th>surface_covered_in_m2</th>\n",
       "      <th>floor</th>\n",
       "      <th>rooms</th>\n",
       "      <th>expenses</th>\n",
       "    </tr>\n",
       "  </thead>\n",
       "  <tbody>\n",
       "    <tr>\n",
       "      <th>0</th>\n",
       "      <td>2017-08-24</td>\n",
       "      <td>departamento</td>\n",
       "      <td>Puerto Madero</td>\n",
       "      <td>Capital Federal</td>\n",
       "      <td>-34.610988</td>\n",
       "      <td>-58.363464</td>\n",
       "      <td>0.0</td>\n",
       "      <td>NaN</td>\n",
       "      <td>0.0</td>\n",
       "      <td>0.0</td>\n",
       "      <td>0.0</td>\n",
       "    </tr>\n",
       "    <tr>\n",
       "      <th>1</th>\n",
       "      <td>2017-08-25</td>\n",
       "      <td>departamento</td>\n",
       "      <td>Buenos Aires Interior</td>\n",
       "      <td>Buenos Aires Interior</td>\n",
       "      <td>NaN</td>\n",
       "      <td>NaN</td>\n",
       "      <td>0.0</td>\n",
       "      <td>NaN</td>\n",
       "      <td>0.0</td>\n",
       "      <td>0.0</td>\n",
       "      <td>0.0</td>\n",
       "    </tr>\n",
       "    <tr>\n",
       "      <th>2</th>\n",
       "      <td>2017-08-01</td>\n",
       "      <td>departamento</td>\n",
       "      <td>Palermo Soho</td>\n",
       "      <td>Capital Federal</td>\n",
       "      <td>-34.589363</td>\n",
       "      <td>-58.412880</td>\n",
       "      <td>53.0</td>\n",
       "      <td>48.0</td>\n",
       "      <td>0.0</td>\n",
       "      <td>0.0</td>\n",
       "      <td>1500.0</td>\n",
       "    </tr>\n",
       "    <tr>\n",
       "      <th>3</th>\n",
       "      <td>2017-08-01</td>\n",
       "      <td>departamento</td>\n",
       "      <td>Chacarita</td>\n",
       "      <td>Capital Federal</td>\n",
       "      <td>NaN</td>\n",
       "      <td>NaN</td>\n",
       "      <td>39.0</td>\n",
       "      <td>39.0</td>\n",
       "      <td>0.0</td>\n",
       "      <td>0.0</td>\n",
       "      <td>0.0</td>\n",
       "    </tr>\n",
       "    <tr>\n",
       "      <th>4</th>\n",
       "      <td>2017-08-01</td>\n",
       "      <td>departamento</td>\n",
       "      <td>Chacarita</td>\n",
       "      <td>Capital Federal</td>\n",
       "      <td>NaN</td>\n",
       "      <td>NaN</td>\n",
       "      <td>51.0</td>\n",
       "      <td>51.0</td>\n",
       "      <td>0.0</td>\n",
       "      <td>0.0</td>\n",
       "      <td>0.0</td>\n",
       "    </tr>\n",
       "  </tbody>\n",
       "</table>\n",
       "</div>"
      ],
      "text/plain": [
       "   created_on property_type             place_name             state_name  \\\n",
       "0  2017-08-24  departamento          Puerto Madero        Capital Federal   \n",
       "1  2017-08-25  departamento  Buenos Aires Interior  Buenos Aires Interior   \n",
       "2  2017-08-01  departamento           Palermo Soho        Capital Federal   \n",
       "3  2017-08-01  departamento              Chacarita        Capital Federal   \n",
       "4  2017-08-01  departamento              Chacarita        Capital Federal   \n",
       "\n",
       "         lat        lon  surface_total_in_m2  surface_covered_in_m2  floor  \\\n",
       "0 -34.610988 -58.363464                  0.0                    NaN    0.0   \n",
       "1        NaN        NaN                  0.0                    NaN    0.0   \n",
       "2 -34.589363 -58.412880                 53.0                   48.0    0.0   \n",
       "3        NaN        NaN                 39.0                   39.0    0.0   \n",
       "4        NaN        NaN                 51.0                   51.0    0.0   \n",
       "\n",
       "   rooms  expenses  \n",
       "0    0.0       0.0  \n",
       "1    0.0       0.0  \n",
       "2    0.0    1500.0  \n",
       "3    0.0       0.0  \n",
       "4    0.0       0.0  "
      ]
     },
     "execution_count": 51,
     "metadata": {},
     "output_type": "execute_result"
    }
   ],
   "source": [
    "test_predcit_df['expenses'] = pd.to_numeric(test_predcit_df['expenses'])\n",
    "test_predcit_df.head()"
   ]
  },
  {
   "cell_type": "code",
   "execution_count": 52,
   "metadata": {
    "collapsed": false
   },
   "outputs": [
    {
     "data": {
      "text/plain": [
       "Capital Federal             8847\n",
       "Bs.As. G.B.A. Zona Oeste    3101\n",
       "Bs.As. G.B.A. Zona Sur      2215\n",
       "Bs.As. G.B.A. Zona Norte       2\n",
       "Buenos Aires Interior          1\n",
       "Name: state_name, dtype: int64"
      ]
     },
     "execution_count": 52,
     "metadata": {},
     "output_type": "execute_result"
    }
   ],
   "source": [
    "test_predcit_df['state_name'].value_counts()"
   ]
  },
  {
   "cell_type": "code",
   "execution_count": 53,
   "metadata": {
    "collapsed": false
   },
   "outputs": [
    {
     "data": {
      "text/plain": [
       "3    8847\n",
       "1    3101\n",
       "2    2215\n",
       "0       2\n",
       "4       1\n",
       "Name: state_name, dtype: int64"
      ]
     },
     "execution_count": 53,
     "metadata": {},
     "output_type": "execute_result"
    }
   ],
   "source": [
    "def convert_state_name(x):\n",
    "    name = str(x)\n",
    "    if('Capital Federal' in x):\n",
    "        return 3\n",
    "    if('Zona Norte' in x):\n",
    "        return 0\n",
    "    if('Zona Sur' in x):\n",
    "        return 2\n",
    "    if('Zona Oeste' in x):\n",
    "        return 1\n",
    "    return 4\n",
    "\n",
    "test_predcit_df['state_name'] = test_predcit_df.state_name.apply(convert_state_name)\n",
    "test_predcit_df['state_name'].value_counts()"
   ]
  },
  {
   "cell_type": "code",
   "execution_count": 54,
   "metadata": {
    "collapsed": false
   },
   "outputs": [
    {
     "data": {
      "text/plain": [
       "Palermo                     1020\n",
       "Belgrano                     783\n",
       "Caballito                    650\n",
       "La Plata                     603\n",
       "Recoleta                     556\n",
       "Ituzaingó                    547\n",
       "Ramos Mejía                  394\n",
       "Morón                        393\n",
       "Almagro                      376\n",
       "Castelar                     345\n",
       "Villa Crespo                 329\n",
       "Flores                       329\n",
       "Balvanera                    327\n",
       "Villa Urquiza                309\n",
       "Nuñez                        300\n",
       "Barrio Norte                 276\n",
       "Capital Federal              247\n",
       "Monserrat                    221\n",
       "Saavedra                     211\n",
       "San Telmo                    207\n",
       "Lomas de Zamora              197\n",
       "Quilmes                      178\n",
       "Moreno                       171\n",
       "Palermo Hollywood            164\n",
       "Puerto Madero                155\n",
       "Banfield                     134\n",
       "Haedo                        126\n",
       "Villa Devoto                 123\n",
       "Colegiales                   113\n",
       "Lanús                        113\n",
       "                            ... \n",
       "La Unión                       1\n",
       "Vicente López                  1\n",
       "Sourigues                      1\n",
       "Fincas de Iraola               1\n",
       "Bosques                        1\n",
       "Barrio Cerrado Malibú          1\n",
       "El Rocío                       1\n",
       "Barrio Parque San Martin       1\n",
       "Prados del Oeste               1\n",
       "Villa Brown                    1\n",
       "Villa Riachuelo                1\n",
       "Malvinas Argentinas            1\n",
       "9 de Abril                     1\n",
       "Mariano Acosta                 1\n",
       "Domselaar                      1\n",
       "Buenos Aires Interior          1\n",
       "Abril Club de Campo            1\n",
       "Villa Numancia                 1\n",
       "Monte Chingolo                 1\n",
       "Las Golondrinas                1\n",
       "Cuartel V                      1\n",
       "William Morris                 1\n",
       "General San Martín             1\n",
       "San Carlos                     1\n",
       "Country Banco Provincia        1\n",
       "González Catán                 1\n",
       "Aldo Bonzi                     1\n",
       "Santos Tesei                   1\n",
       "San Diego Country Club         1\n",
       "Rafael Castillo                1\n",
       "Name: place_name, dtype: int64"
      ]
     },
     "execution_count": 54,
     "metadata": {},
     "output_type": "execute_result"
    }
   ],
   "source": [
    "test_predcit_df['place_name'].value_counts()"
   ]
  },
  {
   "cell_type": "code",
   "execution_count": 55,
   "metadata": {
    "collapsed": false
   },
   "outputs": [
    {
     "data": {
      "text/plain": [
       "133    1020\n",
       "20      783\n",
       "31      650\n",
       "96      603\n",
       "157     556\n",
       "92      547\n",
       "155     394\n",
       "129     393\n",
       "7       376\n",
       "37      345\n",
       "196     329\n",
       "73      329\n",
       "12      327\n",
       "218     309\n",
       "130     300\n",
       "17      276\n",
       "34      247\n",
       "124     221\n",
       "160     211\n",
       "168     207\n",
       "110     197\n",
       "153     178\n",
       "128     171\n",
       "135     164\n",
       "152     155\n",
       "13      134\n",
       "85      126\n",
       "197     123\n",
       "101     113\n",
       "47      113\n",
       "       ... \n",
       "175       1\n",
       "70        1\n",
       "56        1\n",
       "126       1\n",
       "150       1\n",
       "55        1\n",
       "15        1\n",
       "80        1\n",
       "222       1\n",
       "26        1\n",
       "9         1\n",
       "77        1\n",
       "99        1\n",
       "2         1\n",
       "50        1\n",
       "114       1\n",
       "154       1\n",
       "162       1\n",
       "194       1\n",
       "105       1\n",
       "65        1\n",
       "29        1\n",
       "207       1\n",
       "116       1\n",
       "164       1\n",
       "18        1\n",
       "172       1\n",
       "212       1\n",
       "5         1\n",
       "0         1\n",
       "Name: place_name, dtype: int64"
      ]
     },
     "execution_count": 55,
     "metadata": {},
     "output_type": "execute_result"
    }
   ],
   "source": [
    "test_predcit_df['place_name'] = encoder_place_name.fit_transform(test_predcit_df['place_name'])\n",
    "test_predcit_df['place_name'].value_counts()"
   ]
  },
  {
   "cell_type": "code",
   "execution_count": 56,
   "metadata": {
    "collapsed": false
   },
   "outputs": [
    {
     "data": {
      "text/html": [
       "<div>\n",
       "<table border=\"1\" class=\"dataframe\">\n",
       "  <thead>\n",
       "    <tr style=\"text-align: right;\">\n",
       "      <th></th>\n",
       "      <th>created_on</th>\n",
       "      <th>property_type</th>\n",
       "      <th>place_name</th>\n",
       "      <th>state_name</th>\n",
       "      <th>lat</th>\n",
       "      <th>lon</th>\n",
       "      <th>surface_total_in_m2</th>\n",
       "      <th>surface_covered_in_m2</th>\n",
       "      <th>floor</th>\n",
       "      <th>rooms</th>\n",
       "      <th>expenses</th>\n",
       "    </tr>\n",
       "  </thead>\n",
       "  <tbody>\n",
       "    <tr>\n",
       "      <th>0</th>\n",
       "      <td>2017-08-24</td>\n",
       "      <td>departamento</td>\n",
       "      <td>152</td>\n",
       "      <td>3</td>\n",
       "      <td>-34.610988</td>\n",
       "      <td>-58.363464</td>\n",
       "      <td>0.0</td>\n",
       "      <td>0.0</td>\n",
       "      <td>0.0</td>\n",
       "      <td>0.0</td>\n",
       "      <td>0.0</td>\n",
       "    </tr>\n",
       "    <tr>\n",
       "      <th>1</th>\n",
       "      <td>2017-08-25</td>\n",
       "      <td>departamento</td>\n",
       "      <td>29</td>\n",
       "      <td>4</td>\n",
       "      <td>NaN</td>\n",
       "      <td>NaN</td>\n",
       "      <td>0.0</td>\n",
       "      <td>0.0</td>\n",
       "      <td>0.0</td>\n",
       "      <td>0.0</td>\n",
       "      <td>0.0</td>\n",
       "    </tr>\n",
       "    <tr>\n",
       "      <th>2</th>\n",
       "      <td>2017-08-01</td>\n",
       "      <td>departamento</td>\n",
       "      <td>136</td>\n",
       "      <td>3</td>\n",
       "      <td>-34.589363</td>\n",
       "      <td>-58.412880</td>\n",
       "      <td>53.0</td>\n",
       "      <td>48.0</td>\n",
       "      <td>0.0</td>\n",
       "      <td>0.0</td>\n",
       "      <td>1500.0</td>\n",
       "    </tr>\n",
       "    <tr>\n",
       "      <th>3</th>\n",
       "      <td>2017-08-01</td>\n",
       "      <td>departamento</td>\n",
       "      <td>40</td>\n",
       "      <td>3</td>\n",
       "      <td>NaN</td>\n",
       "      <td>NaN</td>\n",
       "      <td>39.0</td>\n",
       "      <td>39.0</td>\n",
       "      <td>0.0</td>\n",
       "      <td>0.0</td>\n",
       "      <td>0.0</td>\n",
       "    </tr>\n",
       "    <tr>\n",
       "      <th>4</th>\n",
       "      <td>2017-08-01</td>\n",
       "      <td>departamento</td>\n",
       "      <td>40</td>\n",
       "      <td>3</td>\n",
       "      <td>NaN</td>\n",
       "      <td>NaN</td>\n",
       "      <td>51.0</td>\n",
       "      <td>51.0</td>\n",
       "      <td>0.0</td>\n",
       "      <td>0.0</td>\n",
       "      <td>0.0</td>\n",
       "    </tr>\n",
       "  </tbody>\n",
       "</table>\n",
       "</div>"
      ],
      "text/plain": [
       "   created_on property_type  place_name  state_name        lat        lon  \\\n",
       "0  2017-08-24  departamento         152           3 -34.610988 -58.363464   \n",
       "1  2017-08-25  departamento          29           4        NaN        NaN   \n",
       "2  2017-08-01  departamento         136           3 -34.589363 -58.412880   \n",
       "3  2017-08-01  departamento          40           3        NaN        NaN   \n",
       "4  2017-08-01  departamento          40           3        NaN        NaN   \n",
       "\n",
       "   surface_total_in_m2  surface_covered_in_m2  floor  rooms  expenses  \n",
       "0                  0.0                    0.0    0.0    0.0       0.0  \n",
       "1                  0.0                    0.0    0.0    0.0       0.0  \n",
       "2                 53.0                   48.0    0.0    0.0    1500.0  \n",
       "3                 39.0                   39.0    0.0    0.0       0.0  \n",
       "4                 51.0                   51.0    0.0    0.0       0.0  "
      ]
     },
     "execution_count": 56,
     "metadata": {},
     "output_type": "execute_result"
    }
   ],
   "source": [
    "test_predcit_df['surface_total_in_m2'] = test_predcit_df[['surface_total_in_m2']].fillna(0)\n",
    "test_predcit_df['surface_covered_in_m2'] = test_predcit_df[['surface_covered_in_m2']].fillna(0)\n",
    "test_predcit_df.head()"
   ]
  },
  {
   "cell_type": "code",
   "execution_count": 57,
   "metadata": {
    "collapsed": false
   },
   "outputs": [
    {
     "data": {
      "text/plain": [
       "departamento    9761\n",
       "casa            3409\n",
       "ph               996\n",
       "Name: property_type, dtype: int64"
      ]
     },
     "execution_count": 57,
     "metadata": {},
     "output_type": "execute_result"
    }
   ],
   "source": [
    "test_predcit_df['property_type'].value_counts()"
   ]
  },
  {
   "cell_type": "code",
   "execution_count": 58,
   "metadata": {
    "collapsed": false
   },
   "outputs": [
    {
     "data": {
      "text/plain": [
       "1    9761\n",
       "2    3409\n",
       "0     996\n",
       "Name: property_type, dtype: int64"
      ]
     },
     "execution_count": 58,
     "metadata": {},
     "output_type": "execute_result"
    }
   ],
   "source": [
    "\n",
    "def convert_property_type(x):\n",
    "    if('departamento' in x):\n",
    "        return 1\n",
    "    if('casa' in x):\n",
    "        return 2\n",
    "    if('ph' in x):\n",
    "        return 0\n",
    "    return 3\n",
    "\n",
    "test_predcit_df['property_type'] = test_predcit_df.property_type.apply(convert_property_type)\n",
    "test_predcit_df['property_type'].value_counts()"
   ]
  },
  {
   "cell_type": "code",
   "execution_count": 59,
   "metadata": {
    "collapsed": false
   },
   "outputs": [
    {
     "data": {
      "text/html": [
       "<div>\n",
       "<table border=\"1\" class=\"dataframe\">\n",
       "  <thead>\n",
       "    <tr style=\"text-align: right;\">\n",
       "      <th></th>\n",
       "      <th>created_on</th>\n",
       "      <th>property_type</th>\n",
       "      <th>place_name</th>\n",
       "      <th>state_name</th>\n",
       "      <th>lat</th>\n",
       "      <th>lon</th>\n",
       "      <th>surface_total_in_m2</th>\n",
       "      <th>surface_covered_in_m2</th>\n",
       "      <th>floor</th>\n",
       "      <th>rooms</th>\n",
       "      <th>expenses</th>\n",
       "    </tr>\n",
       "  </thead>\n",
       "  <tbody>\n",
       "    <tr>\n",
       "      <th>0</th>\n",
       "      <td>20170824</td>\n",
       "      <td>1</td>\n",
       "      <td>152</td>\n",
       "      <td>3</td>\n",
       "      <td>-34.610988</td>\n",
       "      <td>-58.363464</td>\n",
       "      <td>0.0</td>\n",
       "      <td>0.0</td>\n",
       "      <td>0.0</td>\n",
       "      <td>0.0</td>\n",
       "      <td>0.0</td>\n",
       "    </tr>\n",
       "    <tr>\n",
       "      <th>1</th>\n",
       "      <td>20170825</td>\n",
       "      <td>1</td>\n",
       "      <td>29</td>\n",
       "      <td>4</td>\n",
       "      <td>NaN</td>\n",
       "      <td>NaN</td>\n",
       "      <td>0.0</td>\n",
       "      <td>0.0</td>\n",
       "      <td>0.0</td>\n",
       "      <td>0.0</td>\n",
       "      <td>0.0</td>\n",
       "    </tr>\n",
       "    <tr>\n",
       "      <th>2</th>\n",
       "      <td>20170801</td>\n",
       "      <td>1</td>\n",
       "      <td>136</td>\n",
       "      <td>3</td>\n",
       "      <td>-34.589363</td>\n",
       "      <td>-58.412880</td>\n",
       "      <td>53.0</td>\n",
       "      <td>48.0</td>\n",
       "      <td>0.0</td>\n",
       "      <td>0.0</td>\n",
       "      <td>1500.0</td>\n",
       "    </tr>\n",
       "    <tr>\n",
       "      <th>3</th>\n",
       "      <td>20170801</td>\n",
       "      <td>1</td>\n",
       "      <td>40</td>\n",
       "      <td>3</td>\n",
       "      <td>NaN</td>\n",
       "      <td>NaN</td>\n",
       "      <td>39.0</td>\n",
       "      <td>39.0</td>\n",
       "      <td>0.0</td>\n",
       "      <td>0.0</td>\n",
       "      <td>0.0</td>\n",
       "    </tr>\n",
       "    <tr>\n",
       "      <th>4</th>\n",
       "      <td>20170801</td>\n",
       "      <td>1</td>\n",
       "      <td>40</td>\n",
       "      <td>3</td>\n",
       "      <td>NaN</td>\n",
       "      <td>NaN</td>\n",
       "      <td>51.0</td>\n",
       "      <td>51.0</td>\n",
       "      <td>0.0</td>\n",
       "      <td>0.0</td>\n",
       "      <td>0.0</td>\n",
       "    </tr>\n",
       "  </tbody>\n",
       "</table>\n",
       "</div>"
      ],
      "text/plain": [
       "   created_on  property_type  place_name  state_name        lat        lon  \\\n",
       "0    20170824              1         152           3 -34.610988 -58.363464   \n",
       "1    20170825              1          29           4        NaN        NaN   \n",
       "2    20170801              1         136           3 -34.589363 -58.412880   \n",
       "3    20170801              1          40           3        NaN        NaN   \n",
       "4    20170801              1          40           3        NaN        NaN   \n",
       "\n",
       "   surface_total_in_m2  surface_covered_in_m2  floor  rooms  expenses  \n",
       "0                  0.0                    0.0    0.0    0.0       0.0  \n",
       "1                  0.0                    0.0    0.0    0.0       0.0  \n",
       "2                 53.0                   48.0    0.0    0.0    1500.0  \n",
       "3                 39.0                   39.0    0.0    0.0       0.0  \n",
       "4                 51.0                   51.0    0.0    0.0       0.0  "
      ]
     },
     "execution_count": 59,
     "metadata": {},
     "output_type": "execute_result"
    }
   ],
   "source": [
    "test_predcit_df['created_on'] = test_predcit_df['created_on'].str.replace('-','').apply(int)\n",
    "test_predcit_df.head()"
   ]
  },
  {
   "cell_type": "markdown",
   "metadata": {},
   "source": [
    "Claramente hay que mejorar el tema de los lat y lon nulos. Por ahora solo asigno un promedio"
   ]
  },
  {
   "cell_type": "code",
   "execution_count": 60,
   "metadata": {
    "collapsed": false
   },
   "outputs": [
    {
     "data": {
      "text/html": [
       "<div>\n",
       "<table border=\"1\" class=\"dataframe\">\n",
       "  <thead>\n",
       "    <tr style=\"text-align: right;\">\n",
       "      <th></th>\n",
       "      <th>created_on</th>\n",
       "      <th>property_type</th>\n",
       "      <th>place_name</th>\n",
       "      <th>state_name</th>\n",
       "      <th>lat</th>\n",
       "      <th>lon</th>\n",
       "      <th>surface_total_in_m2</th>\n",
       "      <th>surface_covered_in_m2</th>\n",
       "      <th>floor</th>\n",
       "      <th>rooms</th>\n",
       "      <th>expenses</th>\n",
       "    </tr>\n",
       "  </thead>\n",
       "  <tbody>\n",
       "    <tr>\n",
       "      <th>0</th>\n",
       "      <td>20170824</td>\n",
       "      <td>1</td>\n",
       "      <td>152</td>\n",
       "      <td>3</td>\n",
       "      <td>-34.610988</td>\n",
       "      <td>-58.363464</td>\n",
       "      <td>0.0</td>\n",
       "      <td>0.0</td>\n",
       "      <td>0.0</td>\n",
       "      <td>0.0</td>\n",
       "      <td>0.0</td>\n",
       "    </tr>\n",
       "    <tr>\n",
       "      <th>1</th>\n",
       "      <td>20170825</td>\n",
       "      <td>1</td>\n",
       "      <td>29</td>\n",
       "      <td>4</td>\n",
       "      <td>-34.629923</td>\n",
       "      <td>-58.465820</td>\n",
       "      <td>0.0</td>\n",
       "      <td>0.0</td>\n",
       "      <td>0.0</td>\n",
       "      <td>0.0</td>\n",
       "      <td>0.0</td>\n",
       "    </tr>\n",
       "    <tr>\n",
       "      <th>2</th>\n",
       "      <td>20170801</td>\n",
       "      <td>1</td>\n",
       "      <td>136</td>\n",
       "      <td>3</td>\n",
       "      <td>-34.589363</td>\n",
       "      <td>-58.412880</td>\n",
       "      <td>53.0</td>\n",
       "      <td>48.0</td>\n",
       "      <td>0.0</td>\n",
       "      <td>0.0</td>\n",
       "      <td>1500.0</td>\n",
       "    </tr>\n",
       "    <tr>\n",
       "      <th>3</th>\n",
       "      <td>20170801</td>\n",
       "      <td>1</td>\n",
       "      <td>40</td>\n",
       "      <td>3</td>\n",
       "      <td>-34.629923</td>\n",
       "      <td>-58.465820</td>\n",
       "      <td>39.0</td>\n",
       "      <td>39.0</td>\n",
       "      <td>0.0</td>\n",
       "      <td>0.0</td>\n",
       "      <td>0.0</td>\n",
       "    </tr>\n",
       "    <tr>\n",
       "      <th>4</th>\n",
       "      <td>20170801</td>\n",
       "      <td>1</td>\n",
       "      <td>40</td>\n",
       "      <td>3</td>\n",
       "      <td>-34.629923</td>\n",
       "      <td>-58.465820</td>\n",
       "      <td>51.0</td>\n",
       "      <td>51.0</td>\n",
       "      <td>0.0</td>\n",
       "      <td>0.0</td>\n",
       "      <td>0.0</td>\n",
       "    </tr>\n",
       "  </tbody>\n",
       "</table>\n",
       "</div>"
      ],
      "text/plain": [
       "   created_on  property_type  place_name  state_name        lat        lon  \\\n",
       "0    20170824              1         152           3 -34.610988 -58.363464   \n",
       "1    20170825              1          29           4 -34.629923 -58.465820   \n",
       "2    20170801              1         136           3 -34.589363 -58.412880   \n",
       "3    20170801              1          40           3 -34.629923 -58.465820   \n",
       "4    20170801              1          40           3 -34.629923 -58.465820   \n",
       "\n",
       "   surface_total_in_m2  surface_covered_in_m2  floor  rooms  expenses  \n",
       "0                  0.0                    0.0    0.0    0.0       0.0  \n",
       "1                  0.0                    0.0    0.0    0.0       0.0  \n",
       "2                 53.0                   48.0    0.0    0.0    1500.0  \n",
       "3                 39.0                   39.0    0.0    0.0       0.0  \n",
       "4                 51.0                   51.0    0.0    0.0       0.0  "
      ]
     },
     "execution_count": 60,
     "metadata": {},
     "output_type": "execute_result"
    }
   ],
   "source": [
    "from sklearn.preprocessing import Imputer\n",
    "imputer_mean = Imputer(missing_values='NaN', strategy='mean', axis=0)\n",
    "\n",
    "test_predcit_df[\"lat\"] = imputer_mean.fit_transform(test_predcit_df[[\"lat\"]])\n",
    "test_predcit_df[\"lon\"] = imputer_mean.fit_transform(test_predcit_df[[\"lon\"]])\n",
    "\n",
    "test_predcit_df.head()"
   ]
  },
  {
   "cell_type": "code",
   "execution_count": 61,
   "metadata": {
    "collapsed": false
   },
   "outputs": [
    {
     "data": {
      "text/plain": [
       "array([[  1.24258347e+00,  -3.20797510e-01,   7.82855685e-01, ...,\n",
       "         -3.53107240e-02,  -8.52242370e-01,  -1.88583144e-02],\n",
       "       [  1.36710992e+00,  -3.20797510e-01,  -1.17649092e+00, ...,\n",
       "         -3.53107240e-02,  -8.52242370e-01,  -1.88583144e-02],\n",
       "       [ -1.62152505e+00,  -3.20797510e-01,   5.27981330e-01, ...,\n",
       "         -3.53107240e-02,  -8.52242370e-01,  -3.19255009e-04],\n",
       "       ..., \n",
       "       [ -1.62152505e+00,   1.56250855e+00,   1.13810503e-01, ...,\n",
       "         -3.53107240e-02,  -8.52242370e-01,  -1.88583144e-02],\n",
       "       [  1.36710992e+00,  -3.20797510e-01,  -1.31985774e+00, ...,\n",
       "         -3.53107240e-02,  -8.52242370e-01,   3.21611770e-02],\n",
       "       [ -2.51734022e-01,   1.56250855e+00,  -9.69405505e-01, ...,\n",
       "         -3.53107240e-02,   1.44352476e+00,  -1.88583144e-02]])"
      ]
     },
     "execution_count": 61,
     "metadata": {},
     "output_type": "execute_result"
    }
   ],
   "source": [
    "test_predcit_df['expenses'] = test_predcit_df[['expenses']].fillna(0)\n",
    "\n",
    "stdsc_prediction = StandardScaler()\n",
    "X_test_std_df = stdsc_prediction.fit_transform(test_predcit_df)\n",
    "X_test_std_df"
   ]
  },
  {
   "cell_type": "markdown",
   "metadata": {},
   "source": [
    "### Predecir y ensamblar"
   ]
  },
  {
   "cell_type": "code",
   "execution_count": 62,
   "metadata": {
    "collapsed": false
   },
   "outputs": [],
   "source": [
    "y_knn = model_knn.predict(X_test_std_df)\n",
    "y_rf1 = model_rf1.predict(test_predcit_df)"
   ]
  },
  {
   "cell_type": "code",
   "execution_count": 63,
   "metadata": {
    "collapsed": false
   },
   "outputs": [
    {
     "name": "stdout",
     "output_type": "stream",
     "text": [
      "[[ 285537.26556421]\n",
      " [ 239084.88037953]\n",
      " [ 274566.50487766]\n",
      " ..., \n",
      " [ 128511.58032552]\n",
      " [ 320008.60506712]\n",
      " [ 154685.17676239]]\n",
      "[ 476888.06802274   79593.00153088  167729.61641183 ...,  177178.15945608\n",
      "  193058.75047926  164553.42950258]\n"
     ]
    }
   ],
   "source": [
    "print(y_knn)\n",
    "print(y_rf1)"
   ]
  },
  {
   "cell_type": "markdown",
   "metadata": {},
   "source": [
    "Tener en cuenta para el ensamble cuales fueron los RMSE de cada algoritmo asi le damos un peso acorde a los errores de cada modelo"
   ]
  },
  {
   "cell_type": "code",
   "execution_count": 64,
   "metadata": {
    "collapsed": true
   },
   "outputs": [],
   "source": [
    "# ensamble\n",
    "C1 = 0.2\n",
    "C2 = 0.8\n",
    "\n",
    "y_final = []\n",
    "for row1,row2 in zip(y_knn,y_rf1):\n",
    "    y_final.append((C1 * float(row1) + C2 * float(row2)) )"
   ]
  },
  {
   "cell_type": "code",
   "execution_count": 65,
   "metadata": {
    "collapsed": false
   },
   "outputs": [
    {
     "name": "stdout",
     "output_type": "stream",
     "text": [
      "[438617.9075310357, 111491.37730061161, 189096.99410499242, 106989.22063653608, 125344.31875655644, 106989.22063653608, 106989.22063653608, 106989.22063653608, 189897.77416785245, 144702.8733855302, 144702.8733855302, 144702.8733855302, 149988.67184024712, 600478.050527563, 96596.32477442647, 96596.32477442647, 96596.32477442647, 96596.32477442647, 96596.32477442647, 96596.32477442647, 96596.32477442647, 96596.32477442647, 108085.9740564074, 115897.91143876084, 115897.91143876084, 115897.91143876084, 115897.91143876084, 96596.32477442647, 96596.32477442647, 103895.0187783877, 103895.0187783877, 103895.0187783877, 103895.0187783877, 103895.0187783877, 96596.32477442647, 103895.0187783877, 103895.0187783877, 96596.32477442647, 96596.32477442647, 96596.32477442647, 96596.32477442647, 266398.5386513115, 111515.74357590114, 149988.67184024712, 149988.67184024712, 119963.52478172147, 114592.58749290992, 139941.99265060865, 132720.87438124328, 290601.4618970262, 283908.89380386635, 292612.89730582986, 244920.87003475393, 500229.15503051126, 103216.20614449492, 251839.6332722367, 88523.65091807245, 114128.30635581893, 170986.11322466496, 189374.91588893693, 607525.637155174, 106069.95455973776, 166242.2562521916, 309031.03408519464, 123136.91707061054, 133707.9912668175, 92326.2101883085, 157181.07562578557, 92326.2101883085, 207793.1307268979, 156448.7265019172, 175243.0483942416, 115934.67080896992, 131843.13281201638, 156448.7265019172, 156448.7265019172, 156448.7265019172, 156448.7265019172, 442900.6401981003, 156448.7265019172, 194890.5266854124, 442900.6401981003, 229593.22219399363, 83849.57847946891, 131580.38851506554, 148116.73302064795, 274971.60402441636, 156602.43514577736, 178283.43753897276, 289691.0561902581, 116321.52704567666, 319893.41123363335, 169841.67843858013, 114651.66167927542, 114651.66167927542, 325672.5570064796, 200064.05172696506, 255743.60590773015, 107199.98391148739, 268397.7338466332, 111823.45336185703, 164366.34315101826, 456072.6255077107, 456072.6255077107, 298574.57844247017, 131100.30658415292, 178471.67713706614, 147158.24890428822, 134558.5064590981, 176320.0404678284, 136347.73516744064, 165598.798454278, 110455.30075956981, 97411.18175758109, 102896.40882965084, 103922.02368128236, 102896.40882965084, 103922.02368128236, 107060.83226273632, 145425.86598701953, 71645.02437397739, 103922.02368128236, 107060.83226273632, 143278.53671379155, 283906.4945092807, 156448.7265019172, 156448.7265019172, 156448.7265019172, 156448.7265019172, 156448.7265019172, 156448.7265019172, 167727.57756799273, 112054.23260941065, 134538.5141325607, 144501.64099151833, 136527.93320569937, 220165.81497904932, 186466.3248999264, 97833.96382234496, 166098.58355738624, 133093.71235462787, 232959.97146578916, 110455.30075956981, 120355.10538950906, 142500.422713531, 147999.30135030826, 210591.12663991534, 259596.00250275066, 2033069.7052147277, 1028796.6635701787, 334592.68311212724, 132320.6271327354, 914837.6622528094, 544009.1553812886, 914837.6622528094, 446101.20223353046, 914837.6622528094, 132406.4376943887, 131459.42389284013, 117884.55115249615, 332257.7389687008, 321909.6551469449, 251618.04213776108, 667173.6030027306, 97973.7763551781, 253409.26308085193, 249431.89266890305, 384725.0991369988, 165183.24614238067, 193332.44771465368, 285571.78394936933, 87122.99119173804, 217295.19840971107, 168314.25410184293, 231149.9083791676, 168314.25410184293, 373248.7981247377, 135693.67258192057, 206276.87292805524, 225026.98877300334, 116665.2759960136, 288288.25815546303, 197366.26705832884, 62891.21725936389, 207199.53580718732, 219157.22512007412, 247038.7267966707, 132209.01121592222, 137497.57734017778, 199834.17659170096, 272346.15403410007, 170519.0579586061, 150139.19037229198, 141842.3078690655, 489831.8115273783, 91241.54370730877, 458312.6570045184, 170519.0579586061, 141842.3078690655, 288057.136835266, 105239.05381200195, 352138.12326701835, 141900.54071125668, 707820.7404243388, 138308.65715074664, 163013.0458954332, 154685.64052506138, 142301.9109623624, 431960.0307754079, 226701.77921834594, 73664.3569709267, 336917.9343606283, 560939.4647340017, 79697.97656004834, 414165.4778085889, 371678.0202214533, 350411.5683901872, 449488.65727951634, 247048.91626641288, 243236.67716689708, 226910.52520790612, 131736.2075605157, 144596.78460062135, 142844.7580215121, 184290.64750852706, 119418.18340007428, 139618.88289211545, 448310.6375787766, 189091.78289145615, 171633.66241966383, 212623.58701111225, 117520.13797240017, 329714.7755093804, 306122.1545794957, 358143.48704179254, 364467.94594601606, 132485.22834435647, 161441.3028734285, 273622.3156771092, 112528.77711586743, 329082.99625144555, 94686.69767808724, 143017.75543703392, 191046.7569744329, 128891.56823879557, 131909.59831119148, 135046.4132516171, 135046.4132516171, 235301.46160903573, 340077.793737081, 265260.83487256424, 239892.66358679763, 148295.73580117818, 130581.3200048157, 181686.07294049725, 134316.28361462665, 135141.85196289522, 135211.4562301351, 135834.27666837905, 142948.6960293772, 136659.85541827398, 137242.19038886577, 127142.7692401369, 127319.58413565754, 127311.47935901725, 127302.97009306743, 128100.50788723018, 135566.62200434622, 135551.59081702423, 136000.2667338503, 135630.01114106807, 135614.9737961863, 136063.6376874692, 169784.01178678134, 134331.54787857388, 134323.51581011878, 134315.4589941519, 134315.4589941519, 152165.48157492574, 124581.35337492105, 67390.07272281604, 103660.17052812023, 141688.81515761194, 70008.83603413164, 102727.10386442326, 129787.6506000713, 177493.24675562905, 148832.6354092905, 227568.9460577118, 102491.8769910958, 425158.92434630496, 131104.30528694086, 152155.8750876467, 144031.4937622676, 148431.21982143162, 115242.72586768687, 119697.84166018269, 243654.4434441172, 326154.43346491415, 188297.7944718058, 183364.94934468163, 150073.06539316147, 150583.25163510902, 151857.5315205309, 209130.07725571177, 148949.18127358478, 237693.54783951776, 105702.61907861155, 105702.61907861155, 173164.62471654563, 104889.87608489666, 104811.05023995519, 104798.94669019687, 104798.94669019687, 104791.99361617438, 104791.99361617438, 109103.99746132552, 109402.66229667269, 109578.61505633491, 109572.08365750925, 104541.1211558767, 109103.99746132552, 108761.38526103713, 109402.66229667269, 109578.61505633491, 109572.08365750925, 109564.95394219157, 1673225.429458738, 128849.76214115613, 174460.63195165157, 120502.28305613884, 230398.48187012493, 149583.43681349256, 258903.47133488223, 143492.9716835766, 162332.70708357636, 154411.23252179724, 141327.13637604457, 141323.60624757688, 116574.09545611242, 116139.42150091237, 116139.42150091237, 293723.5848873243, 128775.04385506551, 125548.32727191229, 162644.91056061513, 162895.1613380934, 167286.07529643364, 146570.82087845812, 183626.99967763002, 270064.30496782524, 224461.18409144343, 224461.18409144343, 373407.79094498354, 399560.407895345, 391802.2241300406, 375772.0441060767, 399560.407895345, 371694.5934436342, 391802.2241300406, 133038.98295383021, 135010.94179730213, 145413.32958380948, 145113.8038653058, 163042.9794328052, 147221.69138711973, 76834.51697998964, 75648.5249542547, 158069.52595751156, 205805.5627740592, 71550.79890086249, 231387.31690046104, 219064.83205528927, 237567.44173803105, 736466.4551167917, 151081.08959712696, 133803.07673795806, 135740.9877509484, 111429.11704699867, 148154.34278084288, 148154.34278084288, 148154.34278084288, 148154.34278084288, 148154.34278084288, 97389.99712370026, 108456.96205252921, 178044.2578219262, 93418.20230441992, 198516.231692957, 487369.96139192267, 260974.5381273522, 115893.3957153473, 149896.52981673062, 120166.50399021732, 120818.2667848109, 120161.90819943738, 120391.86105094214, 76261.129153761, 158503.89670071294, 168547.43985703544, 169954.4149265587, 106933.19129941822, 105209.21824725982, 103217.68542277192, 113808.69868031761, 263964.64312919124, 150679.2706386906, 542065.242971543, 166485.86024047268, 112794.25286173931, 120797.49052878655, 135242.56512255478, 135251.04896314983, 140695.9321897216, 136482.5679730159, 425271.3242741423, 134821.72287646958, 487512.21201694047, 338285.86168981524, 220857.23545039733, 192456.54000582805, 235693.3066059574, 112114.13186118289, 139814.58576123664, 132956.0987294179, 144000.57706835854, 253442.69046981048, 164938.35690077892, 380069.5127343741, 380069.5127343741, 604249.6489389988, 604249.6489389988, 361428.1381836488, 381494.0470957894, 381494.0470957894, 458579.5233438281, 458579.5233438281, 327717.51675332617, 327717.51675332617, 327717.51675332617, 327717.51675332617, 223099.05313477298, 251730.19685146437, 224464.68080209265, 121303.7772336452, 383744.63063305744, 383744.63063305744, 256922.60235024287, 256922.60235024287, 256922.60235024287, 256922.60235024287, 291706.21577270556, 291706.21577270556, 458579.5233438281, 458579.5233438281, 382139.91862278635, 382139.91862278635, 381494.0470957894, 381494.0470957894, 627895.3763047735, 627895.3763047735, 331722.45134125376, 331722.45134125376, 497718.2957880134, 607036.8591940658, 607036.8591940658, 338828.4031198758, 338828.4031198758, 331682.7884565728, 462123.7846579056, 378983.11681228655, 378983.11681228655, 225558.6199053883, 225558.6199053883, 322640.40018788306, 322640.40018788306, 414798.2396970599, 414798.2396970599, 255007.7589486678, 460784.33027502656, 265783.87940688315, 265783.87940688315, 242689.20002943638, 242689.20002943638, 622281.6769343846, 622281.6769343846, 229388.73271208187, 229388.73271208187, 204449.66479491963, 329879.13585759606, 497718.4686289292, 2990600.278006876, 166675.16435853628, 216372.58439073604, 168095.9744035098, 309583.47861986, 220972.07940563912, 383405.18582066003, 338828.4031198758, 131726.5684005799, 113178.4441928895, 166675.16435853628, 165398.68813163866, 454062.26104528684, 454062.26104528684, 383405.18582066003, 383403.5657554801, 170536.77209467295, 338828.4031198758, 270259.69399249216, 113178.4441928895, 325083.86703358265, 130404.61242344123, 158491.20446435775, 269300.0975159797, 262384.06249797356, 157931.13855959362, 328302.62642786244, 454062.26104528684, 268551.2908753194, 253891.71267438596, 121441.09904965136, 237927.15558045695, 133954.25346535697, 821138.1564567717, 821138.1564567717, 821138.1564567717, 821138.1564567717, 383744.63063305744, 139727.74480691366, 464685.7421221789, 270199.63587499055, 381494.0470957894, 518563.1330356186, 327717.57419556996, 462123.7846579056, 462123.7846579056, 133336.6540132518, 112754.56589217554, 112754.56589217554, 113529.16215736921, 127149.1112462842, 127149.1112462842, 127149.1112462842, 127149.1112462842, 127149.1112462842, 127149.1112462842, 127149.1112462842, 127149.1112462842, 127149.1112462842, 127149.1112462842, 127149.1112462842, 127149.1112462842, 127149.1112462842, 127149.1112462842, 127149.1112462842, 113529.16215736921, 173642.98191320646, 366667.79065706214, 166638.15139180198, 155700.19737905293, 166638.15139180198, 166638.15139180198, 188486.17437866284, 141522.92398351996, 150766.6483364623, 150766.6483364623, 311854.5391158089, 196801.64152691176, 263063.1096364632, 271089.3632359335, 196801.64152691176, 206350.24868212047, 206312.7556835294, 248344.36660246606, 187386.31652878685, 208516.96720172724, 139736.78477441924, 335043.49470603745, 211166.62627350696, 69834.78506345727, 97666.2223848507, 213328.077866624, 336603.3051141693, 115332.21504893602, 314529.1680131722, 478400.72217591025, 174491.59212696983, 64573.516408019015, 323004.7311604958, 64573.516408019015, 68808.65428102297, 64573.516408019015, 64573.516408019015, 163621.60456212095, 163621.60456212095, 125512.9999654574, 118903.67810373433, 108959.72014309003, 100489.27967122597, 438620.1734845937, 137962.4339655395, 304451.510146714, 130820.01634224893, 114574.9787022848, 115474.18897594466, 127017.75977913516, 347673.5783679988, 124896.48462038129, 126869.09388778513, 125558.0629587207, 127157.95795819256, 127157.95795819256, 127157.95795819256, 127157.95795819256, 167234.0517355136, 64567.203906781404, 64567.203906781404, 873328.278888915, 153725.31152159738, 109426.19839324678, 265857.81783254736, 152070.29397332657, 139814.6398526349, 213796.29476360977, 193968.30925577678, 193968.30925577678, 158786.88866849468, 92944.4932819029, 163983.11203696547, 162058.48704921265, 118746.32188625286, 244140.3086282907, 506517.45726769615, 145420.76312883123, 300236.46240725135, 220442.8389669956, 169707.10565533856, 158752.96304719805, 236245.43006533151, 208113.50714480714, 135014.49490715525, 166549.4897769345, 222093.31367201792, 302959.12151720125, 135437.2661329694, 166193.6595704303, 122790.95247611808, 305886.82067357795, 285545.0769392992, 205299.13079912262, 273807.5963511969, 107102.43216020969, 196364.89594098274, 148713.4456805006, 273999.5269471451, 266040.921342793, 263778.2950513939, 112418.39049354749, 332454.7279165759, 180240.51840404345, 88204.25158128883, 88204.25158128883, 88204.25158128883, 212420.03239562825, 299497.7154885342, 75652.7919113098, 115087.40824490238, 294266.96552547475, 205496.31432709395, 332339.0787205085, 325643.0407532972, 688071.8875212072, 332547.039595135, 219955.13132395493, 224482.02129660867, 435803.1173058193, 498246.2643271601, 444336.28756717336, 118435.70109766096, 121969.00676061408, 152918.98905584394, 117509.97406370236, 437371.9333884981, 179789.21202643815, 214582.03039078746, 310278.027043342, 174986.81847084794, 228490.72900346626, 80325.96084975862, 172981.35101634508, 172981.35101634508, 211314.40707818538, 148020.6593299133, 236925.37421197072, 140458.79441357625, 225667.41056270746, 144653.46738353037, 199816.27979278122, 99631.98238664024, 100466.68659577434, 153816.3273561101, 134062.52471786112, 200573.7543792558, 147538.0517904144, 214648.46769741643, 155172.41618037835, 155466.3957162351, 218511.59469257036, 228363.50044266888, 125758.3525792136, 85417.6922257428, 187515.609439008, 166766.99883582827, 183616.09177893802, 184455.8255975918, 117538.45718830911, 214635.38854107313, 130842.81634680256, 118508.70974303827, 119939.88575995984, 268449.2617901592, 124376.02164097384, 124376.02164097384, 124376.02164097384, 124376.02164097384, 178666.1835772894, 294918.07124427916, 136684.19475991456, 152756.94385523204, 96040.21669635759, 206889.64685275863, 169057.10314024094, 253502.67150120417, 248515.84603826338, 271390.416045432, 323928.3863939933, 206427.70702408405, 147536.555995876, 387139.7804895851, 215886.43261580274, 317902.4275961556, 163918.73089522225, 85086.63595702095, 288484.32859211654, 94861.43646771996, 116545.6167786201, 304543.8615827127, 189406.93044751236, 423636.0383052163, 255061.315439224, 241413.331399563, 213843.80010060666, 164202.4717846256, 188141.51973015495, 78685.6795722541, 107164.65881296422, 160535.1024422727, 110485.68242351354, 135607.7108330592, 107327.52766575592, 202899.72255140383, 92762.18559449406, 135981.4268933623, 86943.2771112601, 105137.65894316183, 110085.07822309413, 200905.55548964406, 182821.51227133983, 90077.46054517278, 146517.2229843508, 354706.80489622627, 223322.9368008817, 132082.4768852381, 316030.6570878851, 224706.01655178174, 188348.78959536704, 93466.3855948767, 102458.48621091498, 318487.28803344886, 126398.25239257158, 155397.45832839172, 149802.2516749436, 132799.96657812165, 101923.19201562056, 124667.6850502037, 391476.33987212897, 429162.8757002821, 218913.3902308182, 119397.22314355915, 154242.73191611236, 116149.75626128662, 280251.21849917737, 95157.94403984334, 277084.643918612, 93961.23334716212, 128835.40616052614, 169381.65847840358, 154306.09547022643, 92325.63070614779, 130453.2502413809, 135189.45465247132, 161045.05178526163, 277688.96262678603, 117624.86834414181, 154306.09547022643, 93449.2187456094, 154306.09547022643, 159855.8772267834, 188446.35101515945, 423294.5381542816, 130294.57522321577, 90874.41568105831, 147590.46157644794, 93961.23334716212, 205720.67895793778, 128620.31343240032, 155365.36112174904, 282407.0793354609, 188446.35101515945, 172804.17125909514, 291422.24193250167, 188676.4834390178, 279214.6185015603, 317750.5982648909, 201965.4567121903, 349271.05001323664, 270089.0156930868, 205720.67895793778, 276824.64133924764, 83453.90030022364, 280251.21849917737, 273897.4147108607, 105469.74538843386, 121912.8791951793, 126986.16353698817, 207542.0322386086, 188446.35101515945, 425136.13082659314, 169871.67827966958, 153303.9918634845, 134135.94617673152, 166294.0546972055, 158713.9037423595, 85465.35016055641, 419741.7003867458, 96319.61559821552, 203978.29872272472, 280251.21849917737, 116412.95977494758, 264405.6792383612, 188446.35101515945, 195624.80070011516, 384947.72972277197, 270699.3954930896, 389391.29386003496, 166578.65965457217, 117004.6396593579, 117004.6396593579, 114786.99799200185, 188446.35101515945, 273897.4147108607, 336660.3104669186, 82699.98853455385, 208035.4552376473, 121912.8791951793, 277084.643918612, 277643.5919500735, 134541.11868864147, 131601.50824533805, 96263.83837737245, 400225.24040586763, 95947.39392531133, 92861.29591062445, 134744.7901060309, 83598.7065471991, 91024.59599865839, 86243.62118931128, 270972.3429901678, 112655.29274477881, 153654.28326517562, 155626.53850257647, 137212.1435357809, 188446.35101515945, 455395.7014640261, 275464.65542947385, 92325.63070614779, 138826.17059082954, 422650.57002085156, 154160.5287194027, 481603.08665088826, 260285.25914552083, 78463.42265449333, 86243.62118931128, 78463.42265449333, 78463.42265449333, 85293.97636889192, 85293.97636889192, 85293.97636889192, 85293.97636889192, 85293.97636889192, 85293.97636889192, 159855.8772267834, 133886.0030979478, 424815.4052330812, 93381.29626627258, 96436.88472627924, 387084.9700855096, 387084.9700855096, 256587.98107451687, 155228.72605366283, 395234.48885760666, 502534.79451626533, 156870.18080265846, 121912.8791951793, 122149.15020326914, 273865.9276820287, 152679.1562176278, 132467.65849328216, 91024.59599865839, 83598.7065471991, 161045.05178526163, 275028.5707275587, 151921.67553052583, 117490.21321181547, 79198.05153700744, 79198.05153700744, 79198.05153700744, 79198.05153700744, 79198.05153700744, 79198.05153700744, 79198.05153700744, 79198.05153700744, 79198.05153700744, 128699.61745659313, 117490.21321181547, 117490.21321181547, 117490.21321181547, 117490.21321181547, 117149.6020955967, 84200.42171021234, 122178.36498443558, 270699.3954930896, 311666.896272185, 87778.0695305975, 83639.75859772156, 248387.6255797227, 117239.40573407811, 108135.59637305647, 154306.09547022643, 104588.23358051328, 425136.21687731304, 209773.9406468266, 203526.75728760884, 209384.58324269942, 155562.55845137063, 223777.108104551, 195624.75783570766, 325076.33047960897, 117398.47611926464, 280174.76953072567, 283313.7713271803, 135019.5239306498, 424024.76732675894, 134744.7901060309, 277084.643918612, 104588.23759851095, 121565.21608120618, 166578.65965457217, 136681.46468022518, 130294.61931980372, 710214.8280607197, 162382.91234042245, 120194.8790817188, 160212.34874449027, 311138.2088322254, 68350.26469948023, 97590.99556050039, 107763.36595990043, 384947.8375702248, 218864.3366574553, 204876.20062508836, 118034.65999861028, 424024.76732675894, 280251.21849917737, 156367.3462120472, 191020.7151787108, 169951.24625661754, 276090.37839007156, 168181.103833459, 107763.36595990043, 139168.47836196714, 269988.5655463856, 128699.61745659313, 313168.4420716994, 187333.7588348793, 92325.63070614779, 393005.4797598108, 201344.50831394742, 208564.2604602394, 192667.48510472855, 161625.9000599198, 426753.1600810044, 79198.05153700744, 94399.732569365, 78463.42265449333, 279250.7028360405, 84707.29275925888, 167783.18443790157, 116078.59878897759, 106611.29623244714, 72363.32521841141, 97103.37667799913, 199542.52089250574, 172218.23076608477, 201965.22486589474, 139282.1211959839, 72363.32521841141, 72363.32521841141, 95086.58107138916, 317257.92196182255, 146803.09109951888, 121261.82214908426, 145159.04881130398, 95040.58107607078, 103305.42650310748, 106394.0971945561, 224663.38654090333, 95582.15850737468, 176372.1295270144, 454629.23554600554, 340748.193059031, 82278.69499721675, 82278.69499721675, 66886.14535633948, 82278.69499721675, 80539.19653262073, 80539.19653262073, 140045.05001916637, 371705.9572653927, 99898.1828978387, 127858.3924521396, 190577.15273820647, 282644.748396185, 427904.75122582837, 93117.86599679774, 103190.74115960105, 127536.57996138476, 93117.86599679774, 93117.86599679774, 124889.34851411596, 415019.1071262956, 97563.58883408486, 136627.49666497757, 101647.09624805549, 93117.86599679774, 440493.7004514255, 197833.35282111162, 109882.90350516532, 204773.91263455423, 348096.17814006726, 173279.96531031636, 144335.08390876668, 134352.94051396265, 327049.4297304419, 66435.07553985532, 150650.7262959003, 389125.1911856569, 219043.75224234196, 177999.51550873474, 115824.2506309271, 1344200.6235373272, 118902.48900062873, 489458.4441570396, 194648.9265045295, 379520.22420871834, 103311.33050291256, 94283.81885208604, 190786.3683947033, 261917.52783637462, 339839.97711373406, 132193.05304396508, 124055.16131291151, 262704.3348674559, 1393225.4623171045, 515707.1606920107, 230747.1607829237, 303561.1667066639, 709977.7927154589, 119801.10648344767, 336165.51981790445, 202500.82047241085, 233463.06083723166, 131140.97208754197, 278613.1740815214, 164135.33831949672, 270845.0057937928, 248758.59322488034, 229775.47921606968, 362675.0722714616, 97028.17649744918, 248634.3683413186, 261268.97085737565, 86473.85498705719, 305584.1221069259, 209546.39446651086, 414711.8257842099, 131033.00839429456, 205439.72042359537, 302481.111682968, 147148.88028675498, 233414.30260065626, 213262.8912848488, 399745.37784187275, 351180.7723873273, 546054.9364407933, 171763.72892013993, 135257.84716193972, 172298.54356484828, 203476.31551543612, 163845.79245883468, 109149.75040794794, 459971.22927707183, 194567.79954980264, 182851.6940123834, 185611.11178091945, 221440.93635111942, 104560.5845665562, 133372.76107263684, 135048.57457706853, 152921.83469389944, 434198.07732731156, 665880.2596134496, 342288.15362266003, 117973.86279936568, 131828.44469627854, 123496.74292755559, 214188.19329275074, 122566.80870379454, 182360.25280456262, 109830.0558131383, 149832.2440848333, 389400.973577917, 269998.39537242654, 122608.60221463152, 95182.67986414884, 111167.2958111873, 117686.21116127993, 208282.58859637126, 283289.594006952, 658171.1954634739, 83991.16677130063, 159780.44308794304, 274655.56568148755, 223091.5624425629, 223091.5624425629, 155006.31555444267, 215237.02336334123, 588780.4143230387, 129881.73880227446, 190881.79958691628, 212377.62612567536, 288157.77751852875, 232051.80646740334, 126964.06168187104, 451414.11809396575, 142964.58912263467, 174324.23384957964, 72295.36690149631, 176085.78892647498, 179800.33395174315, 133824.85153766576, 178189.14910766575, 189669.76887994388, 129718.52402319947, 137309.41789832726, 199685.58387408574, 140028.06937885963, 140028.06937885963, 140028.06937885963, 157173.13526621193, 82304.4786218901, 285000.9058154324, 94414.60821636299, 122959.87630371618, 172417.96229138164, 136860.39658377535, 161832.1244459714, 201948.53299663123, 187256.62299932714, 269639.4476751593, 455150.18081702484, 92064.79422593175, 92064.79422593175, 92064.79422593175, 92064.79422593175, 92064.79422593175, 135068.28216141416, 135068.28216141416, 135068.28216141416, 135068.28216141416, 135068.28216141416, 109323.4595846257, 647178.8971196107, 192109.3870761236, 195439.70746913465, 227456.66707667604, 188456.69951917834, 181885.97242252325, 181885.97242252325, 343683.4911312016, 349667.25537423376, 318189.0590474481, 104488.77129502012, 196827.92243557982, 220049.78228921175, 319779.06333555287, 308159.85622900305, 152215.02555425512, 723699.3311971766, 646589.7081427162, 125403.15587442752, 148556.05719282205, 169093.7114066058, 222009.9865975279, 187965.45149932662, 94032.66590980478, 297919.40565026324, 155658.0923635636, 183607.24490852258, 175594.5028663203, 171147.23668170994, 221884.10524719307, 236199.05518507105, 505400.6006337317, 867108.4953787928, 178005.06097646992, 194776.8766976591, 102832.68347929092, 102832.68347929092, 134123.79103531197, 433385.9622540036, 806811.3310367842, 97069.46102089272, 312436.0382280022, 142162.5874922129, 217986.55546949245, 244168.97785880472, 170367.89977014248, 181561.52472836553, 245735.3637073997, 161691.4689001968, 204981.62043509586, 394692.8908876628, 133450.72391601634, 161862.06935667185, 208125.42328590614, 240584.8321090389, 584619.4417469284, 456128.534812543, 404628.56908843666, 184874.71717471693, 184313.44721558507, 193470.51202831772, 182389.0012237797, 234404.1770381949, 118005.16454495273, 93926.40171800557, 223243.03730155725, 127405.18096453075, 295856.70238681126, 227253.70056322278, 470802.4140420847, 407632.407941295, 1193840.1093917508, 175439.10543984978, 160762.07931023036, 195133.14313834874, 92227.39150595746, 92227.39150595746, 381431.77347026137, 279857.6549778322, 116236.66665385272, 129777.54455081749, 130335.51352119034, 140322.88071048722, 115738.91065901142, 82482.58675479644, 140446.3888289004, 113380.07477256941, 158920.0889558604, 336147.77988932445, 200415.47110983115, 184805.17724401408, 178073.63489449638, 134321.56052945653, 178073.63489449638, 143940.3049988308, 116406.49727999726, 146082.51107710588, 219325.27515785748, 128435.86327666495, 189639.78601974738, 131695.07317181415, 306047.32032580883, 142614.28700792976, 182341.35806061284, 226366.47165100527, 126212.33857638118, 144721.60800356106, 164187.4255456974, 105299.05416130372, 223573.23033008818, 297329.7345081374, 137253.82266857816, 86345.4016849676, 86345.4016849676, 86726.76188298702, 86581.40551172083, 109340.92111291492, 103825.80692629688, 203986.2527240869, 123230.70667214425, 146600.20500976272, 145318.12321040046, 113185.99362126348, 161353.98840373775, 98949.79794234784, 99037.92270142781, 173818.3742076601, 197495.70538633005, 115803.07752252977, 115791.89852962032, 138129.00953426465, 195837.74552131066, 195652.11184114273, 120073.37163698494, 180907.74951797404, 228821.29805142307, 105231.25851614922, 834445.4441544719, 129324.66549499593, 182177.17074815664, 105243.73154432888, 180859.16299654183, 211093.43057254137, 191510.78843207395, 182715.02944399472, 106551.0857728443, 85359.01572140901, 459407.02532629104, 551466.9758121925, 175437.24567695774, 122592.12932258092, 197691.0362999314, 455623.4817126024, 501755.2450681258, 178151.31097867218, 166102.97312444996, 106354.11365980365, 119976.09499564438, 136502.9506795102, 158853.45596351122, 79539.47002478447, 240932.91250248963, 323243.5057066533, 576671.3056340084, 113284.77300334618, 153492.91419402708, 137733.44929063064, 78462.63760859007, 161869.352896709, 157417.097482856, 131842.9100850104, 160523.59244022824, 197446.06466634583, 185662.500019641, 185178.61567009764, 191912.4734117558, 235399.73564662883, 107996.07322914363, 223905.3083714917, 135254.50917292302, 99229.21565962677, 124977.00464846553, 225340.89448301532, 208553.10359083972, 133801.08791574195, 61462.6513119914, 129851.84584840566, 132700.9644538422, 127660.43056353355, 252825.74403249583, 235721.20733792745, 103598.51801719621, 160571.8263040072, 214303.06365117783, 132031.69363628665, 131008.19418644902, 188465.05433551257, 523391.6015526218, 96883.47106856914, 99323.98357611841, 343260.46022160613, 779996.529464003, 329003.8471092902, 200828.53145177977, 96871.33128854365, 91024.2003487169, 459857.5698900523, 573843.5861447904, 214084.5691466469, 459594.7106189531, 131404.88717333943, 101494.4249378168, 141004.32763774172, 336001.9880521806, 170322.4653815464, 349166.8122348846, 121201.9381615842, 146558.54009013472, 128022.11041647465, 346473.8225429707, 168401.32691468875, 62131.788210188075, 130874.91854213348, 140511.42213260892, 131316.96599386274, 871947.5625168533, 120156.28375826083, 66530.26024504805, 117448.14239035593, 160124.24915458268, 122865.09294662403, 256627.7308201832, 145098.83934432155, 129017.70431234589, 181626.1302649309, 123672.88245047379, 129003.44570139959, 89704.45970628242, 139832.60635439534, 116979.62852958495, 107079.84996989716, 123321.81821226896, 229454.19541340723, 163746.9499800037, 100934.70771107101, 155773.3476812395, 386816.39779010444, 153467.7360506007, 140525.2837127875, 157664.70769967823, 292622.41313528677, 101729.19908253709, 111190.57661753507, 163422.05386374315, 137109.8508905413, 296786.8963160811, 161591.991367751, 131902.05653555857, 137116.69196994236, 210804.2514441866, 175875.95913353862, 131642.794867338, 141334.05783667965, 106919.72022052, 86179.44140733263, 120610.84229402045, 117391.01413740913, 132158.13340427546, 189281.07426416455, 77717.90283471806, 198708.33081281703, 127572.97160317887, 178367.14412141952, 226368.51515774758, 93547.57578966668, 170863.52098947615, 169476.98695362965, 147132.35343139703, 147132.35343139703, 137108.7992954178, 131518.81022030718, 164800.32107747224, 120799.05325460027, 131008.19418644902, 125194.69691755323, 302472.0763376059, 344687.44823396334, 232115.98795625177, 262291.82060917054, 274054.2698986014, 262291.82060917054, 274054.2698986014, 221680.19154519087, 221680.19154519087, 320502.240962018, 320502.240962018, 370777.9039716073, 221680.19154519087, 114063.47619839804, 135611.6154001635, 224542.85202752752, 124553.12174900061, 167016.1678474628, 399081.9993782823, 277127.97354625846, 1573318.911399229, 78944.26870116516, 159126.78209914765, 182256.27269971743, 209258.28232256038, 193028.92401096184, 122608.75596643955, 423594.1292536806, 96709.24960513042, 121089.69878346071, 239463.11861496314, 112975.75728225952, 137147.59746023797, 324888.32015083043, 135494.77447311452, 178951.59518080787, 216874.6585890027, 287043.8970727341, 177678.36199071456, 103839.03344012893, 132427.03055489965, 158189.0952246752, 238441.99862008967, 251757.97041414204, 88137.32272338873, 321752.2114964274, 274587.72168354853, 524572.1693144098, 113063.51330756934, 269643.3591147025, 97725.36060060559, 1963711.2942762861, 298290.6180449778, 102274.43945836806, 642952.2515994906, 150744.24056390102, 355789.71207177814, 109601.25197987373, 166292.92384325314, 199463.79555281418, 121570.33262884454, 238780.34638801633, 98750.94799924847, 212187.41443228393, 99964.71800877647, 202209.35667724852, 97143.33180102368, 168779.51109457965, 405158.27414949617, 136369.89769112476, 148640.72892357883, 187135.0770964417, 403488.103296972, 180621.36566943908, 175638.9759739239, 146321.32879982126, 218111.80106621017, 307020.80411435006, 149780.660465847, 321838.09941401595, 556531.3998356656, 309978.69678334915, 261622.09549420947, 205235.84799864626, 337343.4243591243, 126282.14259461849, 191316.39413291268, 540740.812940722, 688797.4390348268, 261952.7908856622, 210162.26535373786, 90143.61092931722, 93332.91376467852, 156449.0052435918, 104943.79904533445, 356093.127498048, 122830.33426204864, 311785.46546597005, 230638.03759165326, 71452.53646683725, 252908.73415249382, 200219.25239493288, 106404.11042255364, 73316.04100997675, 237232.84247201608, 615116.1368817696, 172509.57149650354, 198447.7134204098, 298491.2477259516, 149149.79921686553, 157164.05382334156, 150724.2029699537, 361608.6930318349, 143557.0282336743, 227156.2579811737, 219468.69600333934, 178789.31988621826, 102008.6718583386, 99543.35940234992, 102008.6718583386, 91106.70200198132, 102008.6718583386, 102008.6718583386, 135284.82773932617, 163204.65696939145, 107388.79869224834, 99543.35940234992, 136211.49307679746, 163011.45635143408, 100745.14345867511, 121899.36158968683, 139965.78150962107, 104751.73230031424, 109567.0052606781, 104747.10241380632, 142493.34559286156, 348380.79046392353, 147721.6442670998, 129346.50174693635, 455277.8594250273, 203193.2416142322, 103359.37455425823, 135594.52924459823, 145220.69602266874, 146676.57182880252, 184739.30284161202, 133934.83264055935, 779818.278888668, 185606.882584598, 131105.38494679035, 685051.9696475174, 147187.46313192585, 124606.21007894081, 92745.2070923512, 505668.12324805843, 288169.68956947624, 615270.3595776437, 92726.23515424097, 205106.35043590463, 332664.80310823425, 218776.5035199069, 260697.6957049064, 154431.96973392746, 187195.8659865618, 242314.48222162802, 174882.14398942923, 170406.11859407372, 83517.23418346538, 196604.809679491, 95901.81899858027, 246485.93120990117, 293131.09073819546, 199240.932427959, 97944.8395992447, 284400.2501513808, 346020.0575668087, 58583.31987474893, 163694.93213226597, 530169.8135749713, 929462.0260320411, 168989.35961040275, 122912.01112238018, 140279.7011421605, 103815.3644382711, 250873.6395622172, 122121.85677551826, 157473.4762779359, 430591.3069683377, 297725.0031672994, 526527.0459282694, 171171.28124899918, 112445.42473053832, 523305.3732880779, 145576.9539448652, 523305.3732880779, 299347.9301226839, 193644.51766723662, 153595.15803919258, 87995.26556652259, 171991.27943140053, 158583.7599879912, 470722.63428498595, 466057.71508757514, 134084.51400752598, 96941.45728262086, 146164.49135864596, 278951.12481660506, 99806.86303330716, 169591.34913519656, 129040.53604587233, 129121.88343545496, 218059.48120457184, 1040596.4302508994, 170154.4418476298, 178364.57664131318, 253728.54044962296, 228201.347341589, 141930.5376898341, 159553.50932215294, 358947.24220845656, 506343.3942896392, 127452.21643098345, 163576.2277825729, 142975.83232665708, 218967.99745240307, 349467.15984064597, 520392.59527292725, 177550.9851626126, 183899.55914253526, 213164.13910485216, 203905.7915639743, 141657.3689097089, 137455.29705842317, 189049.26694134116, 165677.9176188567, 83522.26972554009, 73650.72451498188, 80549.43528660721, 316825.2724972371, 504079.6412196541, 64267.7917620434, 79155.79659103291, 90683.28259061651, 153226.99802136756, 268855.0320838346, 299024.9893783542, 177912.8467339536, 164438.41464030856, 91104.05545919357, 415475.5607597891, 136752.66066515804, 180058.8737261932, 1022077.0950706517, 834066.6617197337, 834384.3680819299, 489730.6511282944, 294462.5621376949, 228742.1467251893, 258744.1967866455, 232772.71991841475, 1010445.6640964856, 250351.59438350657, 605192.492537708, 616106.1782524635, 105597.51489989115, 273551.75927342585, 119684.81401183714, 117333.31352650892, 531384.0767469364, 154324.21454777112, 128200.73365162613, 124567.29198639886, 141405.2376890844, 184316.1097004289, 182950.72032158828, 230677.27887221245, 106751.3853091847, 501022.95905964356, 431034.5607779401, 109068.73934454867, 182190.46422550693, 146759.6145502124, 230466.70105406654, 1021306.9941049467, 128656.75932935499, 235616.46993790154, 238188.236280916, 225476.91904265125, 637073.9862668897, 445931.7844909873, 140854.07495595055, 1886474.3869653381, 625228.5642636213, 116518.55489962373, 458815.67573915166, 368685.4265235587, 213895.55029954764, 805865.7104106426, 138605.84941373114, 224602.2044393232, 157989.35561689094, 182438.12482961162, 146966.90361221693, 199970.98861928078, 179188.37713737937, 134891.18573080527, 110499.14235978294, 117017.53689139937, 282286.5080027303, 2628811.4829741567, 459459.4845585204, 114075.56843223351, 142683.99016044126, 103733.93354355037, 135753.14249191497, 151938.9665981239, 225009.61199679584, 146557.42248455752, 157975.51240749806, 215040.81007794273, 131978.12794044073, 153643.7724166265, 110722.21197945578, 98775.11524396724, 169832.1242431798, 151579.70920745254, 139937.21602047444, 1093369.4098996904, 180352.85916662868, 198924.35395769798, 264286.7226044685, 191708.82844201534, 689894.8681045461, 153805.10347940942, 396833.7770291908, 481345.58221961174, 240720.74013519858, 118993.0098242495, 102008.6718583386, 108568.38982450578, 109299.05969140411, 196535.89649769705, 156105.90344123173, 425432.9906037324, 642193.4942402728, 642193.4942402728, 642193.4942402728, 160307.23000333077, 97485.00681596753, 101632.75935510095, 301524.0015482874, 88071.49898088523, 190330.17269236004, 194303.65982778248, 184155.91493015148, 185015.32635204575, 203001.02361926672, 190160.02670256078, 184554.27815536066, 121885.95896519633, 293751.0719414987, 181558.55849647292, 113940.68353718938, 133816.43565281038, 131038.03191615711, 445526.03310337727, 110801.70599625909, 353702.24976443546, 2672802.437899198, 307000.38485152647, 152327.09977199984, 152327.09977199984, 152327.09977199984, 152255.87458900816, 183387.8730889258, 86185.51899593908, 559405.8792878545, 354474.80342072475, 96913.76960400918, 204211.89729032174, 108563.97154856469, 166323.82998872016, 417743.85495202214, 644437.7812179811, 209034.47117940243, 204320.14227941973, 136003.0182138796, 137164.89563608175, 144519.34316247815, 282069.30459715065, 298431.0679106145, 77938.87432627146, 193785.0417091991, 289102.44938193116, 183904.80761766742, 142921.33969264792, 520909.93157873536, 153592.5467019425, 177772.44299550168, 149259.30734370233, 345652.348501205, 141601.6401067791, 250276.9242228934, 146853.52761495928, 188604.925993721, 99957.4067117094, 98255.23234212813, 188825.02764036195, 227388.55717961647, 270691.4328952823, 125086.36076057298, 268515.9583913337, 250429.93651912984, 227744.5782387396, 223164.06229580968, 71024.76913504124, 220489.91781679905, 135675.0867647103, 129702.1833552004, 129017.7569020965, 218454.54674992745, 337625.31135118665, 143389.48881787978, 224377.03237939463, 86937.66613077931, 441688.8083458915, 84469.0578115892, 186751.48762062372, 211738.63711893364, 1404275.8549212823, 191804.96166546963, 163971.86212714465, 122422.12464141223, 95192.83794223543, 195588.41074021853, 615418.1868119746, 59065.911909121205, 304309.0043208173, 264656.9043800724, 250669.92445226756, 283109.7470310289, 133849.10657055714, 593405.4358000788, 411196.5662450134, 139450.34360111968, 117423.30867629994, 151751.4615805401, 141546.89224908073, 209555.2448809251, 229821.53580519333, 303750.99196410866, 76518.52209269909, 77268.91221627928, 201463.43997095322, 180802.59349769662, 103816.05496368467, 637740.2668615031, 169897.69751856953, 252281.8335927579, 396636.8721416836, 440039.6531533514, 114899.68698397276, 84047.59660744295, 86784.4243452936, 149440.98185714195, 295800.6101881025, 180894.96851704112, 179316.0880048856, 120775.16782447751, 134573.77743963603, 247590.36932127728, 76863.12281476318, 99692.00526075007, 285442.2583070271, 226290.29745657917, 202906.80733204304, 206060.72730294915, 226603.3561410264, 134681.48900111995, 125030.00716812187, 126785.74767721428, 134777.24469082544, 184221.25841570843, 151384.6642777869, 272187.7016593219, 384145.3229407404, 138912.02431445647, 127702.4217863249, 79551.34610201529, 101853.19530315296, 101299.73390944055, 124425.05497313294, 811942.120772444, 84544.35025725745, 175193.6929662493, 144388.05058725088, 679311.1632025095, 125892.90107850064, 125943.4848837322, 629411.9020245018, 131445.14237233784, 1134750.5573038068, 194516.57656703863, 1134750.5573038068, 242859.8048738161, 1375793.688966269, 140798.3077203982, 99960.0288944506, 145682.38796556156, 146322.15128643342, 124752.77431832772, 150801.86182477497, 449009.38333636336, 598472.5495315222, 243102.17007811778, 193025.98885230307, 119848.61917849704, 126761.69122539701, 269198.8731066005, 136630.9096679716, 136630.9096679716, 92234.95108699848, 1091289.2101737754, 1091289.2101737754, 1164962.8129374378, 139586.28047831362, 68344.55763957236, 355218.61076753004, 209629.17847650632, 136704.71675669058, 181366.91409409745, 311232.8646641911, 133190.71662542998, 388312.6686592351, 107452.28029804686, 101177.78434512517, 107452.28029804686, 107452.28029804686, 107452.28029804686, 106570.27175430658, 107452.28029804686, 107452.28029804686, 135459.320147076, 688622.0908841068, 138765.5852255614, 107452.28029804686, 113775.88292125802, 156388.63760397496, 163646.3287056377, 263449.6375247532, 284518.19679543807, 309797.3692092402, 129501.2971710175, 741248.539740756, 213092.0080128221, 118731.8588280968, 335920.97926612984, 178494.19170274353, 234133.5741274287, 147588.83030510813, 133242.67709858454, 139845.2989713442, 245751.51353725602, 510187.9273024359, 191557.74328578974, 172542.63570337443, 380533.3132677814, 135636.2650936118, 265966.6724523421, 132598.3219007746, 230270.35009848932, 307553.38616549753, 224325.67248051686, 933693.1586138782, 1162919.192494839, 1138989.5084269827, 125174.59321902975, 178315.98665367902, 161253.69348221057, 178159.90347781015, 202380.14720212173, 151263.17743096143, 251081.4991904123, 259152.217779823, 127067.72853260895, 91206.49326374354, 585886.0139634722, 161234.91795391502, 145080.31735326376, 190965.6072215165, 129196.77098884436, 91681.73033125522, 153551.39980002845, 88661.76482957299, 191511.99403863054, 140780.39035752066, 202600.93939647314, 198608.77129580057, 131180.51155134247, 370584.24370870664, 97520.48828924261, 100024.36047824126, 109593.17114582245, 287604.7614842112, 134145.07558790984, 85125.57354427948, 115195.27917426113, 75028.14733365209, 159029.02110095587, 118204.59797406461, 177508.84798280464, 138528.7355083516, 127549.54219860476, 150912.03658671115, 131812.59660078963, 98754.88407402151, 205110.95273037805, 103121.82371433353, 94433.37107790259, 270440.0376089553, 182766.2260472111, 966669.3672889655, 288059.25528937514, 111357.30013586866, 139756.38204563368, 259801.03344801307, 136606.08029943836, 141837.19251982146, 153906.57633473238, 202597.52311570916, 91778.24688366146, 159062.2097677044, 174630.28165924555, 103617.24657787381, 161041.11549533223, 160745.44193304246, 118476.11085597158, 211393.32178707846, 117625.55501882451, 156102.6724191787, 360250.2453058519, 260326.40711470356, 468774.1344925114, 125130.59368956582, 179366.7653362193, 132606.00741219491, 132605.6688100379, 345047.72653682134, 172920.62438666058, 762770.5374720366, 695730.026326397, 542427.5895325483, 418056.1158654572, 426864.6254632564, 426864.6254632564, 426864.6254632564, 418056.1158654572, 418056.1158654572, 418056.1158654572, 476128.2921146518, 292601.74947654834, 442031.2304551107, 436389.8483865154, 1203630.7306930502, 364291.2909641548, 364291.2909641548, 381505.3668271087, 411995.7231330472, 403775.9095301833, 403775.9095301833, 403775.9095301833, 455932.24421727896, 450618.710278182, 384464.2095749293, 381576.2419539131, 394380.2552013681, 384238.7581118207, 406135.9371042553, 427639.3827395736, 411628.0625372227, 421550.09470296546, 403709.7277888184, 403709.7277888184, 458920.28500666464, 416751.1001995264, 174591.488163798, 408805.15734158154, 408805.15734158154, 417861.50395000185, 410630.9831990937, 515467.1516615029, 512150.0937107117, 505948.95504889457, 506996.68185272557, 245833.89581696776, 277037.055262111, 384867.2536067795, 207333.83903407413, 290641.4962240433, 219372.0362292486, 429958.1110239582, 230278.50360658506, 91626.88541992988, 84235.93189842295, 309331.6838890767, 196258.08172056463, 139097.18405570238, 140540.9301185044, 115004.91330183997, 326209.8076310798, 232056.7932512089, 98570.4099949999, 315034.95177281124, 151247.81905662492, 193739.03054425653, 168054.4492092069, 108092.72881584386, 173849.91917270783, 162590.89244306213, 310106.56142619235, 87545.52267674368, 322307.0312535506, 182559.91774514434, 430363.47884811537, 142137.89217504812, 348252.4831663535, 250286.90241462918, 506998.1388205885, 144081.08927902172, 98444.36443373573, 237070.3919816418, 99398.17739653827, 271616.3856902737, 773927.5712017595, 257393.30061450263, 905949.2260638782, 88476.95054651448, 89713.9597731675, 92215.30459921586, 117687.6549375316, 246943.62621275778, 157097.15044860134, 138631.39032097248, 117439.73167952895, 134636.76452230744, 261133.7216911753, 276542.6670966613, 138943.2267448752, 229484.94628351496, 138943.2267448752, 130114.5780210569, 285029.2402081747, 283654.15587268275, 192150.98563643353, 210026.66409633998, 126547.95854256328, 486926.40989793884, 121274.38233231749, 337208.5305764465, 158953.46566847054, 209499.19416924362, 234767.02646298, 335446.4904322284, 1247216.425211184, 121650.80425024187, 158603.5013681847, 305719.6515553031, 120803.43799812673, 168427.8194984754, 214903.0452271542, 162674.80291576928, 934219.1418181118, 575023.1348190777, 202734.8294928384, 152500.38347836764, 233680.9303676408, 103573.3879710763, 149680.29859692426, 124976.41170835921, 225424.21918514094, 106921.89364852931, 128574.68600711168, 215748.67306706525, 162502.41663519086, 153736.71763454835, 173240.30788022914, 199978.81616209866, 715926.3350428332, 127458.66359817366, 140933.5479457542, 252022.9231351632, 250281.5919310415, 294118.26834406843, 312859.43858297955, 107615.46337402752, 216947.97641949047, 237552.21596391217, 880576.2057012948, 72212.10473893664, 301755.10980003164, 117439.08288199855, 92522.36625919411, 83403.42482684106, 155437.13707624545, 130189.72072833513, 135283.9233385051, 154318.93669775478, 283618.37177365326, 152500.60511326365, 327563.4617556522, 139143.50817220204, 173338.4447780639, 105258.28648996248, 208300.2753232466, 106255.51619067087, 95073.39925819263, 164623.7422392222, 336878.0556442504, 190002.64704040895, 393141.28176393337, 142975.65508197068, 304656.60092992865, 245041.59389018005, 168233.4603585115, 126321.97005816383, 204185.74782184744, 123169.03456014892, 123169.03456014892, 123169.03456014892, 123169.03456014892, 123169.03456014892, 102277.90267246995, 98895.2923731652, 98895.2923731652, 98895.2923731652, 98895.2923731652, 239934.74901078007, 191092.48490867636, 256948.4167194314, 603566.4434051502, 104712.22063654481, 391190.60276498, 603566.4434051502, 224483.04798869614, 224483.04798869614, 224483.04798869614, 224483.04798869614, 224483.04798869614, 224483.04798869614, 224483.04798869614, 63428.60345915196, 138083.95737416204, 138450.66916651037, 66799.72430014063, 224388.13563848814, 127925.21137423383, 92165.95738168582, 163842.4455739331, 254499.36743126318, 220313.48513741905, 220313.48513741905, 123894.25131253299, 126465.71965589831, 180700.97668596453, 89101.05077883607, 146240.1308593995, 175348.24617777698, 128098.96027795342, 128462.59965893172, 309514.571758238, 64499.71244974122, 163988.7248107181, 489745.99677842873, 133540.64021538864, 129572.39457079492, 130537.47956594126, 130537.47956594126, 134479.7198679537, 164054.99241483991, 121878.092260791, 603566.4434051502, 81055.88583882464, 141895.78934622582, 145828.83928218207, 105499.54772960502, 158589.02431786148, 140499.5592647175, 134045.45944862854, 129726.43260215336, 153346.59144194654, 124065.85020110974, 584288.86274179, 117072.6841050987, 94986.54446774839, 257292.70535258806, 188260.43118657786, 165394.16591833072, 128681.6316094113, 289188.9967108038, 167938.89674827794, 213126.64274900642, 75920.29126933067, 150524.69347328192, 83574.54057227165, 200551.25276177324, 133729.77990948042, 68075.5337209134, 143652.302077342, 150522.55045305687, 168320.41821151634, 125416.17990903577, 113919.47692443259, 414348.60631360783, 81289.89217090406, 62542.75691374706, 91607.91851267968, 63648.225371055225, 77670.10787779621, 147299.3870047108, 727980.5036806229, 147299.3870047108, 727980.5036806229, 168949.1533274962, 119998.16054583719, 180500.07602566728, 180500.07602566728, 611981.6010092725, 727980.5036806229, 727980.5036806229, 727980.5036806229, 727980.5036806229, 141049.58373110072, 151968.32201274656, 156611.06198140545, 185193.62409099395, 193325.77233402268, 981151.1638739924, 158938.06100750924, 206202.55002377377, 170174.75096712465, 159177.09797376825, 122992.10742941132, 169223.76879728388, 253123.25109129495, 222296.21553565902, 153840.30474492523, 235941.6081996331, 260205.90102410497, 183780.96794769628, 292582.27270314016, 292582.27270314016, 140978.02313959927, 174309.39640620892, 168571.83128183903, 398975.65669653274, 70743.65032126615, 259943.3482459664, 174616.84975068597, 294410.7963454658, 178691.0422114582, 175479.3267325945, 100274.9922986651, 156419.90070762622, 155216.3265169023, 144088.7983401678, 160715.1162746224, 200454.124407275, 262846.3638276744, 149081.10611708302, 143395.01947689426, 154503.84610803452, 150960.75838766136, 185663.15134937142, 166951.8174913881, 262972.9271840912, 152461.16876781994, 134437.59195519265, 1058459.0287633797, 678622.1985900349, 175200.8198141165, 765711.3854572767, 169415.2361596754, 153161.62495399144, 222766.7667171578, 61057.06238686101, 132363.48843473644, 608762.7725267379, 114465.80322147509, 473093.477949974, 255049.60401256662, 259372.53994103736, 125245.86009895086, 143128.8637439167, 270705.05122182914, 109209.31990443825, 144878.35293541854, 122541.16055703767, 120193.74396037972, 166952.00366906906, 164419.98829857574, 173830.14603705093, 771975.7627147704, 151059.1190107589, 301152.95660299744, 491174.8373675494, 1031376.7958557454, 137862.23339662922, 1173312.4753118386, 349158.7068886806, 599336.9985708324, 189387.05296614725, 130307.53130970662, 135167.98527028877, 237835.00347050146, 137653.19834428205, 140466.58505518376, 231938.48325991465, 164463.63689221858, 451040.9698132137, 308738.77988555015, 307521.39611608395, 395586.8640374935, 655913.970694439, 467849.0988415644, 167555.01211529155, 209227.88374235126, 205431.0590863632, 459507.36078840325, 961295.1327408428, 95110.56669163538, 92919.26758842175, 133521.81129990373, 110139.20154546041, 504516.3631834469, 170937.79406152453, 194043.9442530641, 149271.53108548216, 111494.25264472872, 320942.30795290315, 237012.6747001871, 262567.61422432953, 160869.07459873962, 138862.4565667063, 133557.78521852824, 133557.78521852824, 143460.90286113648, 519382.4715619687, 101889.60594062651, 139786.0700266121, 268534.6429721641, 179658.61124165735, 620766.5402997008, 70743.65032126615, 269979.484430655, 152850.45321732253, 125384.06269086857, 192406.51119444048, 129104.81966219288, 315815.4894844641, 259412.43878173066, 137177.16668795617, 148120.3761661308, 70743.65032126615, 154490.18462918565, 136747.95172596115, 197021.23713236896, 446162.6543192757, 196879.15531367314, 112513.03195551984, 161747.4182234565, 251665.239172803, 150399.6856603761, 67081.55775951903, 368988.29951297125, 138828.93227636217, 97797.48488591453, 181366.7238118081, 221703.1083261047, 162780.5654565111, 70588.9859493981, 220598.05646138932, 143850.11922297528, 167131.15377070053, 97427.65936601264, 137442.64716508822, 185090.48912020164, 116635.36240571104, 205404.82989335194, 138547.24596404043, 70059.08919364553, 137272.70782640725, 163249.3535028594, 369207.85264832317, 192590.66293867613, 122284.07361434924, 161536.2054743147, 119552.94963583341, 332707.2091623226, 73929.22528987663, 216120.30734907184, 265472.8423606545, 256926.40443280272, 114781.22256072957, 144224.24997294327, 89087.03367316542, 160182.41481460378, 116180.96896512652, 141190.25323544373, 447269.75255250867, 1164979.497559246, 157804.30943907666, 159785.19839436683, 193193.86166979227, 262953.20589411445, 281897.4233017733, 141663.60824732733, 249079.35647345032, 317679.8157590344, 167214.0384359333, 189948.9353690858, 160166.7413442162, 137678.49112583307, 146232.4083357734, 138612.22155252774, 140519.81276332965, 107338.42744584254, 413444.37569716014, 131966.48059201753, 161436.72642621194, 172504.74428624177, 146616.71494544312, 146155.73006192877, 125028.43978991234, 149703.29252347135, 132859.9967065493, 160185.98076598512, 134542.94440857705, 143471.36761635265, 324747.4200577633, 478037.18410853413, 235326.05937577348, 161094.7506094486, 153810.8239531878, 144486.35549248406, 150264.70726159008, 410447.04556861875, 114058.1628975018, 153196.5932450157, 78712.20094969028, 198459.61139814436, 126342.43235223286, 199580.97199052622, 106653.12812029837, 176810.23214623806, 97217.85731274828, 179594.6952520311, 124613.44627996725, 213133.93210819009, 171174.0172340655, 231940.78635885692, 209035.48906648374, 89382.41988295651, 63115.42366181778, 62373.722818638445, 128287.03748645641, 91700.2485051059, 165257.1723507306, 188231.5751044981, 161854.02830620712, 162660.37353629657, 135020.4303838372, 117940.35086426898, 162660.37353629657, 191892.14601316612, 115775.99472008934, 191892.14601316612, 110108.04748873191, 504398.0680812208, 294420.98538751225, 272010.53375155973, 196660.0022336463, 138868.19169310725, 172730.34108924848, 291542.75103817467, 177807.49462588565, 136847.38845933878, 473414.9072722312, 162660.37353629657, 284298.0028219298, 66937.51306943988, 254615.8181728658, 90689.34694951806, 178616.45544648412, 82237.69259963148, 241586.5237087135, 195697.12785484394, 86954.087977094, 300761.4652273621, 109715.32222522494, 264447.7665808093, 143807.40468764334, 87625.74914627714, 87625.74914627714, 87625.74914627714, 73022.19356063053, 118616.80018023934, 175118.77827850077, 145242.2128271745, 78197.28678327957, 164810.72653920503, 134372.37120911566, 139811.03386466834, 219456.18149381428, 128716.42748903984, 158502.52632645972, 173844.76708806687, 176810.23214623806, 72171.56432898159, 118915.04397056077, 100436.71877123945, 251528.67173403106, 150073.88818883142, 165582.8941461229, 152227.87161795248, 169706.25446846097, 178699.70943513856, 218496.0438797768, 155911.3131735128, 74923.81584015508, 64555.22864496138, 183142.86219009847, 202886.78007329078, 206876.8129723967, 165415.48048341626, 109494.14525208005, 129306.35293460218, 162073.27121456398, 181655.99411454552, 176546.6865963212, 64074.85293219424, 152725.79540805402, 123395.8271059385, 127749.26348451881, 347816.2280820857, 104217.89362312098, 129878.72353598899, 339257.3269168899, 100692.04047640791, 274345.364639518, 126694.43757529756, 183250.07690049626, 266737.609472019, 328451.6566745035, 163802.934015912, 148852.03178779758, 102259.54634819947, 338697.7174899052, 141526.69679499173, 157885.28771040967, 115785.27025716055, 302460.13885087357, 148234.38286437278, 234391.33761418238, 159210.41958851382, 230038.04795397367, 280632.1667496288, 123086.38013112442, 169400.60529591358, 152844.84202338298, 169915.32827719586, 95818.63638804124, 68671.2530286127, 72197.97235621237, 139685.79524387012, 98086.7753127776, 135369.19786160323, 148971.08084538093, 134343.19532834314, 150478.6305752022, 382262.68877844245, 97513.99630577053, 138169.06218727282, 147445.07806043976, 142521.21192581876, 156561.40895983667, 67141.98434465373, 134012.66673782753, 157476.76295487696, 157864.6501407598, 274305.0373057049, 162589.4108573026, 185381.8456589862, 121787.48397354783, 125685.23949646417, 137097.39325768323, 291415.39351190475, 197746.1994860548, 151767.45545648522, 181482.45363684255, 172449.0635993658, 141895.20093761498, 216984.67528396958, 80710.44546284748, 90967.09282552653, 255527.42946330225, 181725.62548325065, 160933.93042449132, 213088.5080994203, 70050.49459238439, 209220.99885375542, 238750.1161345648, 180558.915367669, 124443.20454439012, 151386.14992064453, 63517.14659129312, 130188.6999019565, 65361.0564027132, 150909.58132931974, 90689.34694951806, 90486.28953898931, 90689.34694951806, 240056.93177884436, 158300.210976645, 192876.98083071504, 96791.39624621983, 81327.60157190877, 196892.56679819265, 145370.51183927563, 76380.97454493867, 161200.48259959227, 140259.94992213027, 137987.05055652838, 267775.3874503444, 135156.21761485923, 107734.54418057445, 97427.75859214668, 163986.49577729008, 882881.8169621781, 146257.7157919685, 155259.26739007508, 162767.21761151036, 133431.78922953436, 234683.90707795034, 361886.49730603746, 816578.3222178866, 162233.43755769858, 380845.46946563496, 94192.07442533498, 133431.78922953436, 203242.76016286865, 94056.80424684622, 141688.37843392536, 157723.7716532983, 651488.7275456184, 149132.70768249992, 140504.01989807136, 133743.71102012775, 167312.66647117015, 170676.85339698865, 185995.4949282568, 104442.39063204749, 111568.77997133904, 120660.25165425727, 168103.9258143808, 381420.1915379482, 84228.50039498089, 132091.71868728887, 91049.38085958967, 216710.99660206668, 192624.86502512274, 245248.67347371075, 224968.62091278957, 163683.52684482824, 221372.65268847925, 238693.39358467044, 203832.74125841263, 105484.92331886332, 103611.53892802895, 140054.39414540277, 169008.15783380327, 139005.01934657583, 170794.14013300498, 192725.2134710733, 203284.72458093142, 126682.54577556992, 141105.26477016794, 63517.14659129312, 63517.14659129312, 143541.9024956526, 204597.4687868252, 155388.1337177797, 282675.23595548567, 375514.54172513855, 332894.1624946626, 140805.13646843267, 66154.3800891005, 157960.71354267618, 375977.98144882993, 278679.51930154924, 138339.5913013129, 110367.06445330736, 185080.02975580556, 288740.608143964, 176623.09544597968, 96551.42999503108, 124405.35708563603, 152954.29289287014, 255975.12727470367, 160083.78814222518, 95968.33384724573, 88525.33841454756, 82018.25776773729, 254450.136829903, 134932.6424133334, 270289.67633092933, 203764.60824604807, 155719.9218549933, 111243.81955588484, 141604.4447731991, 109127.53558767837, 139194.82387618077, 111243.81955588484, 141604.4447731991, 109127.53558767837, 139194.82387618077, 139194.82387618077, 109127.53558767837, 141604.4447731991, 111243.81955588484, 122243.30701313174, 139629.30656428525, 176423.82450949392, 157795.24787724914, 157795.24787724914, 176423.82450949392, 139629.30656428525, 122243.30701313174, 126256.00368542466, 144288.98653918272, 176423.82450949392, 157795.24787724914, 157795.24787724914, 176423.82450949392, 122243.30701313174, 139862.72052120417, 144288.98653918272, 139629.30656428525, 139629.30656428525, 154556.2658457724, 145042.46621540614, 65280.29339900828, 65280.29339900828, 69443.63927935212, 236664.25357045172, 115934.6460081582, 65280.29339900828, 160543.0938548401, 159640.54157512152, 166705.90534280438, 260682.67184499203, 131211.18558896493, 172718.9507089062, 271338.3074574969, 296746.87206020765, 157633.5924777855, 293887.3514825298, 133483.7305693112, 88590.80208361983, 227458.2515219433, 75152.80059602593, 225698.96822154077, 187283.46873037127, 157191.32282564352, 176572.17956576837, 297432.8432990013, 129681.37004713503, 155248.5826942591, 130854.29144072278, 160752.04601129284, 180833.48516810985, 143796.464760598, 129131.46630279995, 111835.79732122112, 91824.87165507671, 133337.77061775417, 80884.39706211672, 137721.12894007354, 114055.10639790993, 119665.26599275589, 112735.96928903567, 116462.67835596754, 76348.32173368841, 126510.2966294947, 85216.05159986432, 148601.32545767393, 140686.789969969, 367018.77273734426, 186301.69399060015, 146570.7200066888, 125530.76831476907, 274701.3608206494, 187763.8412315924, 129902.7221618873, 169155.3821093542, 264496.4842550968, 113888.25388463968, 377856.79706023354, 182062.56626764737, 171770.98452870868, 121766.43718977357, 247621.02557332275, 134244.75008627033, 222726.50474490554, 173234.31983904517, 148823.6649674438, 136737.63194620697, 204151.90722367025, 276476.4705957766, 248845.91019497078, 192069.00558270264, 120794.47217478047, 64628.150002528295, 134658.63235020114, 262883.85679309926, 142069.50631071432, 246914.8980353168, 149077.67846987216, 88649.64046346076, 159368.81874487057, 418464.7946510049, 129588.47404227754, 270756.2196561001, 201566.57234018444, 263418.6728092189, 176588.40882832915, 153978.79958232175, 129997.79010594668, 171784.33772061142, 153345.54099177057, 162941.6692527813, 121308.01958634166, 170051.89171987155, 162603.05874236507, 211197.57197768107, 178308.31862625256, 214650.9437001634, 171781.07440993105, 170051.76178859046, 192520.5713946246, 155299.8609988802, 139091.88882173155, 157256.6284143524, 167136.15552297916, 135647.2077667247, 213728.9719300528, 144391.39994430006, 116594.86986585458, 152954.4176911279, 217014.3998405622, 223415.10037773193, 438076.62427945156, 123251.38894459768, 183143.70650399738, 119388.13675494502, 150530.87225481117, 158293.3803336197, 131973.16574787922, 135101.24157960928, 102900.44023261366, 156267.6933200517, 1004567.3818943732, 173885.61964142777, 104348.93472731681, 69690.95211905648, 131068.80236585291, 112354.59838723476, 161531.48088374612, 157950.63770845305, 96549.75001411131, 95610.142729461, 114058.1628975018, 133162.18032654666, 128401.19314741774, 129372.67937700838, 154913.6498700295, 195820.7355381333, 107724.87183536819, 157319.64526804886, 158140.8700923731, 142923.42491192545, 106323.58814739677, 152040.92878737213, 65412.00107652375, 145522.03037772965, 369337.2305477256, 133067.7807206561, 126332.44331201684, 138049.81114303958, 148854.24428006983, 136104.72171093908, 127337.22783239119, 131093.50277727368, 146147.55512741944, 251249.78614795496, 278679.51930154924, 63595.71871495384, 1159490.261946651, 109726.77137641892, 198136.09759490628, 104036.53761474648, 179001.86681845045, 341464.04601127683, 163895.18351481884, 192862.80452730184, 159293.2320435352, 98067.1573098295, 188231.5751044981, 498071.18115742435, 145183.71461972874, 141362.81070279545, 126342.43235223286, 117419.27706334389, 199860.41692643866, 125997.97625026238, 156444.73342765972, 88648.98430035055, 88648.98430035055, 88648.98430035055, 88648.98430035055, 88648.98430035055, 88648.98430035055, 88648.98430035055, 356412.5152279197, 92463.13985069885, 166708.47630075255, 77987.84478392043, 126870.66699015917, 69272.42488054119, 160626.3015459521, 180876.59629256983, 99690.41511547833, 179321.04179256374, 181715.17621981347, 80733.28643109801, 68174.41777645356, 125365.32362752559, 77992.09063549439, 88648.98430035055, 69370.63901175803, 170506.71867702325, 139605.0668816024, 70289.55739571866, 70492.20079921185, 307250.62546039466, 69952.31350057138, 279053.3515189532, 165836.65153184105, 174044.21739797335, 118168.77630604676, 126343.05905239849, 149953.51354745257, 112580.79807364922, 71299.18032288842, 651416.5318720649, 88007.30893422924, 205628.5482343051, 115190.99043103718, 118616.80018023934, 97730.17330137291, 210315.4449070457, 296910.6679645242, 131016.70563544556, 131682.25592738338, 166394.03134062796, 150961.56837112296, 133464.74265174527, 160479.64285406613, 113974.74464014037, 116771.29358845978, 276680.3599523295, 211330.11459717527, 216353.1556081895, 157534.97829499876, 127299.64968477312, 151748.2656709833, 104442.91209154233, 267631.6242591576, 265038.64108122885, 362167.0537804149, 203104.19177779494, 167789.5016287375, 86592.37974762786, 155389.54370154868, 116612.27584552242, 195495.43581573025, 126870.66699015917, 126627.73186235079, 244770.21172930233, 194528.4028210336, 78819.8981087683, 136533.45851163467, 312363.42099641426, 166635.80215748283, 148871.63644438228, 157420.32242031724, 133984.39801013778, 168120.16129267862, 143185.4291618963, 151814.302877156, 109863.42972465458, 336413.82618456567, 128359.72125968, 97079.364568043, 104542.98351614525, 110011.91583763197, 165322.7086768893, 105076.03164138633, 152239.96511001585, 154297.2764436999, 67842.07603746538, 188684.1798517416, 136197.19355507314, 121905.15367829821, 157002.26249602798, 116869.97755853465, 163131.2669934953, 323227.8047507867, 147913.31447648173, 147728.5970943785, 176528.90228664057, 130529.31932620084, 114579.61637136484, 173728.73106912003, 157397.55773032727, 193160.10506087414, 146145.79425013362, 377365.1020761537, 101266.9320449472, 156458.6709071525, 415086.17835586594, 228211.7351941437, 111765.47785770088, 228293.23808723182, 172213.07495627357, 192452.79102882228, 135987.20607268575, 188253.9155875929, 210616.79468710942, 152953.0684283264, 141459.73278599157, 136844.23195626124, 141336.36517419916, 102139.90903120006, 207705.07466905695, 103421.24791258405, 132132.63057364617, 233158.90457961566, 155370.77476186337, 269833.4558856079, 134304.93058849775, 113105.6244940983, 82819.07955507022, 82819.07955507022, 155990.4145079169, 107614.46357291409, 133699.29224163876, 148460.1259152536, 113105.6244940983, 172351.3485634174, 87777.86775119897, 314617.3460411703, 150391.67429067686, 93463.97186155622, 206202.55002377377, 190323.56265800295, 62587.23330473896, 117478.59641064427, 138256.41838722076, 79317.94095617128, 79317.94095617128, 196029.2658497126, 153125.75952562856, 138256.41838722076, 79317.94095617128, 94168.20313277455, 93525.68299497981, 89615.55194342256, 79317.94095617128, 196029.2658497126, 153125.75952562856, 157218.70148833672, 159314.33990067802, 258097.2382912491, 207578.06301916446, 162771.33719814898, 143946.03809935617, 161728.89071966076, 244583.77617796138, 143882.08038027282, 131899.55173276336, 163206.67593059246, 252544.4885623328, 209233.74629297198, 164077.97225561555, 260142.4501347813, 305873.5401780767, 86462.72475724135, 679265.5852226156, 372516.404500074, 165377.68916184228, 94553.75013706344, 2595650.278529374, 118009.38573632322, 462611.50367331365, 99271.50188411128, 298028.06159172347, 280941.03770016227, 178518.25140876748, 142067.272312571, 247656.53946761394, 258655.12176107103, 183476.6445545154, 150359.82375431474, 169942.98412665303, 141210.12532135093, 223006.9310852593, 170130.8223833657, 139188.73739304254, 224483.04798869614, 212788.83784924605, 130448.96940872457, 244589.34172252036, 134052.75951978195, 164659.04182349768, 82111.85571236194, 199347.87433495343, 80854.70477045939, 129432.8879418755, 257146.87961091608, 161665.5630610503, 66883.98418611934, 103619.45396999668, 130824.34491319551, 80854.70477045939, 80854.70477045939, 80854.70477045939, 80854.70477045939, 80854.70477045939, 80854.70477045939, 59449.74027468146, 80854.70477045939, 80854.70477045939, 80854.70477045939, 59449.74027468146, 59449.74027468146, 80854.70477045939, 80854.70477045939, 57145.870723577376, 57145.870723577376, 80854.70477045939, 80854.70477045939, 80854.70477045939, 80854.70477045939, 59449.74027468146, 57145.870723577376, 80854.70477045939, 80854.70477045939, 80854.70477045939, 80854.70477045939, 59449.74027468146, 59449.74027468146, 80854.70477045939, 80854.70477045939, 80854.70477045939, 80854.70477045939, 59449.74027468146, 59449.74027468146, 80854.70477045939, 80854.70477045939, 80854.70477045939, 80854.70477045939, 57145.870723577376, 57145.870723577376, 80854.70477045939, 147645.02643355192, 114956.09965459742, 149594.39500500477, 130807.00509719561, 315169.75518653647, 131208.71620879575, 306837.13542130485, 154565.72154500804, 139791.62909636553, 175365.92389925942, 330145.7283091028, 165117.15200348734, 175763.9109919231, 199033.98173948357, 118533.01367623374, 113627.00619353248, 146424.00434086635, 334820.7680363676, 201861.9070720746, 298475.32434575557, 237561.33999181614, 204398.3216494429, 228458.86721226206, 154687.30003618923, 526764.6987311667, 340089.64692017366, 226399.42729373486, 207628.84898688595, 115509.13378110985, 331883.7823742508, 264106.19809867186, 125436.52311017567, 254216.81909007198, 159739.4206347032, 371972.448387129, 124438.40042030734, 161941.9988291434, 194725.79401873666, 373529.3558325544, 269477.7828866479, 175559.41032510856, 96551.42999503108, 125680.15684369784, 89101.05077883607, 168710.63405445596, 97260.72759946673, 156723.21406455935, 242055.95968143086, 72090.63695144177, 206464.61553369905, 216267.4965847658, 548044.2437393349, 364365.86389136425, 216911.1513487812, 149246.8655893466, 197401.06898829117, 230742.28790899366, 371061.66993154644, 149026.948741588, 173736.75348634677, 372003.039352113, 144021.83449297777, 314274.6005211211, 552946.9077938484, 131108.25865421252, 160516.79000986827, 144802.49340226277, 138130.18399027895, 625898.7107213588, 375841.93028851604, 141766.21450211687, 163732.66941629513, 286857.56252122833, 107771.48429601749, 148217.18912367208, 128210.44307626155, 176559.91729122703, 181704.01762364182, 164683.68980158662, 227013.83702279042, 127016.09770726794, 176433.43077637424, 121437.73043710698, 170606.5953490811, 313922.20489849173, 162273.2437864773, 127513.94441928258, 252882.32383605436, 150417.49978834103, 265637.4133778687, 147489.39693370546, 93227.70110937263, 161694.61375831979, 136856.35654524234, 125484.4317302343, 171008.3902542095, 245274.29604777836, 411634.2012638834, 170282.23660159853, 148008.64436083718, 179247.00486436236, 230889.43527493533, 153513.93102002348, 123323.84976820613, 179894.36466497288, 134175.55350506722, 95009.56638898462, 79767.33934969222, 257045.60684788064, 163115.25533279814, 176354.36018943897, 157251.02223270305, 175254.9386737658, 157819.10396383912, 255809.21043363697, 148733.1828502775, 146185.54459119757, 135519.13544545867, 110605.09185438138, 98948.82153263816, 129294.73018518637, 156036.9921214002, 149444.51042911375, 141210.12532135093, 146379.10925030513, 161284.6544419152, 233662.9975270045, 78220.81517832304, 131956.72167094142, 129708.14998873159, 86333.57995323872, 61299.657964069105, 61299.657964069105, 136965.8275079745, 170282.23660159853, 162867.4360559987, 199464.15915972728, 141698.75139731236, 127036.88846158911, 497559.63452757016, 118834.70521593542, 226091.70201453706, 135987.20607268575, 359892.8724816837, 168367.8141630346, 129835.86140706201, 129480.38933450253, 114422.24759390499, 156267.77471527184, 131068.80236585291, 168670.68245353512, 63935.095396623175, 161181.97000633687, 162358.57927854935, 89980.49979093771, 303656.3403669826, 155652.93934896775, 128940.40504223632, 149669.98357472272, 94242.78541530087, 177831.029468265, 180449.55622786068, 159414.89738529874, 155765.31125503543, 113567.90852080873, 308274.1394234953, 152313.1470797533, 302051.9069625859, 309091.61441398325, 63116.959783520055, 225264.91248052588, 225264.91248052588, 133195.5531575507, 170314.05054223503, 146685.49944694043, 76466.50321937504, 191411.30936070942, 188376.597764483, 170778.27748262478, 92531.87211603031, 266069.32553516515, 119755.65621719978, 129895.18784634164, 496852.00643234135, 78866.83684563784, 264873.5858910268, 148558.90986077563, 148036.19006791624, 115323.50928259525, 153283.2679366914, 138893.99571086082, 155653.6410997331, 170995.97940250588, 130774.31649079687, 193874.36044432354, 140496.17121697034, 165530.11577783833, 233411.41529144603, 152523.1256364224, 302591.68602302857, 157954.9229286337, 363298.0790530595, 169415.8466492968, 167654.35182568146, 409242.24648988934, 582539.7403607399, 213190.16245580706, 135782.6703676938, 133794.617743108, 154242.64035759546, 150816.9512212294, 150633.12760388397, 65412.00107652375, 138882.06871010247, 137965.30744456145, 157292.70295750035, 113342.190387246, 177353.41990634866, 185280.69062125782, 83478.31197492688, 176953.05600436684, 160200.33827385755, 164232.93384149953, 129790.59024924919, 144288.06701876613, 332079.39763785613, 183082.1226517357, 216128.07744971052, 72090.62094804837, 72090.62094804837, 72090.62094804837, 115301.36212137614, 80610.89739090423, 80477.94047640225, 135101.0395014919, 154084.73022174143, 343582.7535862598, 196816.87319445628, 514025.79348234273, 137374.37877673982, 124618.23393502834, 125947.53554300347, 115768.62985706417, 185248.87709946185, 190262.39547344975, 148241.62744548643, 106199.9571767081, 143523.89921828973, 96046.34203310212, 164313.57873438668, 184839.93905366937, 181523.48455850146, 113636.4466122166, 115157.9458554949, 160368.66089471616, 222314.6214148191, 157633.5924777855, 116267.8164193166, 154789.80428348016, 257592.30206583082, 98631.40224030126, 136847.38845933878, 198559.96195230345, 159236.98932186334, 151858.50387857127, 131654.36545199697, 134513.0445106687, 170230.64689447306, 153923.39717214424, 176641.9174063047, 135284.92014035105, 135284.92014035105, 189550.68022654648, 171803.11934875016, 99686.85993326217, 86005.13833927266, 86005.13833927266, 86461.50557021573, 86005.13833927266, 214951.79137550152, 66787.2062457761, 125615.10090701334, 155159.35129673008, 181060.04808496416, 199887.21128344958, 68833.52453506527, 66052.81097074364, 66052.81097074364, 171270.5647348758, 99923.80299803565, 115623.27995290258, 154658.9452356898, 139878.68389040354, 128807.16632427376, 132677.2740298319, 232847.51044192852, 222190.47244965663, 146597.50972438703, 123473.85973453085, 119998.85951180385, 166939.7709466205, 278722.2893624039, 92151.08397925357, 71882.31509553133, 103042.56182210303, 136903.88097243442, 166572.4977511351, 112173.15881124581, 210381.96452045807, 163642.36625488906, 152185.21445326862, 81996.7732274209, 378507.1308006484, 94868.87938920988, 136867.25035203202, 256664.58115734658, 212545.44665641518, 127727.37195985854, 69917.66100429873, 132052.80567189457, 116612.27584552242, 182893.73357871978, 127303.36612535328, 89091.1363322696, 182892.7926155341, 145881.03079192076, 150335.83127272682, 93720.91654159228, 115263.69949846364, 168769.41940031573, 117257.75733644924, 163898.22289644965, 181058.4692413078, 181058.4692413078, 72524.26690859567, 168217.75202806498, 139460.03317269354, 120605.71844876984, 141003.65549197776, 117968.02831936447, 98625.36189114633, 181923.78358610612, 131365.02419846217, 108640.57571584842, 136302.2366369057, 134813.111609808, 200619.13530255161, 111769.90202734037, 132592.99260622272, 72253.4157536171, 93147.49206440285, 394750.2637135065, 279653.0719960254, 91039.06343445682, 94926.84011412597, 95494.75245353457, 127727.37195985854, 144164.23818995978, 78966.63698220515, 158396.69123914267, 177054.4252436326, 90111.75424287115, 210496.07687301343, 98094.27975664109, 427689.91495199065, 183178.1142335477, 408827.5695692457, 76214.63139427184, 162008.6974454263, 185281.53096640704, 318108.5064573757, 158492.13340006766, 120699.39633101076, 200921.52342923576, 153945.67381240695, 129528.9536159104, 137636.9449538991, 93669.70429673871, 143325.53653125756, 140093.4231717902, 104594.3739041232, 215581.13827013184, 131681.85671386536, 140913.65423793334, 169849.19330393735, 173270.0425572932, 216178.91836410124, 140841.94509090722, 97811.38227174775, 75011.99935338143, 87535.7112990318, 80338.44561059918, 94398.42822958768, 92553.68431495447, 298383.6181440457, 63923.01762188028, 178396.57958790998, 118087.90318595557, 202589.97719844888, 190676.56648419445, 236092.35492540436, 120654.83004286964, 123778.69925741732, 129491.01641250262, 218370.81074419362, 121186.51538341271, 227753.2140346408, 68127.65830037437, 138057.4907923392, 183520.6461669104, 123412.1862750174, 166708.47630075255, 258086.50712548685, 147874.05501387073, 107395.88044109309, 186910.55962261726, 169838.98681905458, 161510.62755854876, 134707.84352910175, 157676.24172538234, 84786.30519093541, 173435.0486236069, 136209.07405191532, 128687.87415004754, 173032.84983557722, 226412.80115179022, 166248.52846542816, 247712.07477476535, 158898.95486293835, 157500.20194944384, 159207.93228215573, 166042.78395429716, 161643.86039047796, 172776.39878800503, 156427.62733899662, 143974.5040492944, 157008.24703605505, 88900.81240163182, 73271.92500182166, 154409.54192098603, 138375.39185414583, 94441.03535770571, 175886.29419772947, 137800.06667339138, 84150.07812964536, 149784.413685611, 150860.67923465048, 139701.46845684538, 203621.17441206233, 152622.13459077245, 152255.32180460164, 221668.70802888073, 180413.30511004484, 178728.0287814826, 103810.05050116421, 178003.9468788069, 392703.3309261664, 169018.9027323638, 260912.67243479122, 79626.18449974095, 506453.5672883176, 72545.2366700714, 89202.87210894436, 137288.9271879202, 194018.04707585057, 82639.86677101506, 145705.9779674784, 150752.36236272057, 148163.03880607587, 105466.80466897885, 187474.40833117042, 180714.64938454592, 275299.9247090513, 142684.5722575316, 151207.94366477377, 181185.98925630233, 75078.8057595953, 185406.7803099863, 366033.10417002015, 458938.3642465089, 89054.10870197084, 207989.24418772297, 154158.64551333064, 77091.05856232751, 83484.2329636208, 91105.55243519058, 82044.42398295678, 244432.88943463383, 105034.17418336375, 131881.87932203087, 129030.05033977168, 100292.0808974776, 131804.10448185966, 304966.0515298714, 130100.02454759166, 195682.05373172378, 150800.10131030454, 139198.2328864616, 74339.68274850266, 78893.6033322495, 132293.20675819472, 157627.96323052564, 325007.0754136054, 68174.44336999656, 435659.63504960085, 289236.0791311249, 242469.11009243655, 146575.23565207163, 318250.0049653585, 145571.659624737, 174616.04180866957, 184786.10692351824, 207305.95171616957, 300157.24423984933, 179389.1492840934, 166126.0408529437, 158086.2975830366, 163728.10169391803, 171673.8859061477, 147789.13071445568, 104844.31127456791, 142929.8840666415, 443081.17898910504, 59000.986885493585, 151054.03234628783, 70558.2728289128, 66511.2233078407, 70339.59126783785, 63680.84579400592, 157582.89469902113, 270355.10475920833, 221964.6127471499, 60171.24873496078, 160785.30701969488, 129493.56534832901, 245650.7591897708, 122894.83885652236, 158636.3015939331, 135034.3396668299, 213918.11901295962, 119668.61879619578, 86065.36656804415, 105314.96091884539, 239082.86316975844, 215144.47546497505, 232039.4329009959, 129430.7715095553, 114701.52092389624, 210185.02907820084, 142749.26990990058, 162876.18362132285, 181435.33464819676, 220799.6470256084, 418630.8004624923, 169141.23102520258, 272778.3489423921, 212232.8545919112, 259403.5803783723, 264445.67595614167, 405374.6486722369, 166652.9966778629, 125556.6274672285, 127431.92946972934, 236508.9376238651, 135761.34170876295, 164923.21864000784, 175221.02684734605, 143289.69537072495, 158219.22484853366, 196138.97593662847, 132052.80567189457, 151768.22067571036, 77290.04678778804, 104376.57106979811, 181364.18240992312, 135869.27624058357, 133376.05060081198, 67866.37457916723, 442766.62870353216, 198732.9303593143, 166480.4854309263, 122409.45105367119, 170710.57548928203, 147106.46336890484, 97408.45400902716, 166771.52094148344, 109398.38280893175, 169767.65348660524, 84969.39050396708, 154059.00274622758, 161519.03252094882, 166279.125004309, 86879.50452500136, 131320.34322692463, 473916.7780127897, 433553.5277132641, 190078.06619994683, 152517.02062630595, 156357.7196679659, 172085.40247430326, 93814.22621519792, 174563.29609702362, 165318.0678465377, 138755.20913552566, 184786.10692351824, 154782.06169140333, 62691.256360276464, 83459.47472442217, 218804.79413559078, 820251.6199339577, 110581.4701642717, 165358.76737989628, 221192.45072430978, 74874.67526251137, 166119.0320204806, 154978.20378971245, 166119.0320204806, 151835.41069773925, 115644.03269410672, 92593.82202711924, 127167.75758667072, 97213.50745419394, 143600.47280174607, 256149.14438478157, 130199.973610121, 127423.37191305635, 160717.80874660827, 155083.7442943975, 151685.31128570292, 150193.62913332638, 316108.57457926596, 214048.7410360398, 246839.77885742765, 152876.4041843312, 446145.2992587553, 553940.8597680343, 459027.50501936354, 138923.0186159187, 132309.15476017006, 268453.0640979222, 130416.30757139348, 219141.90473691933, 119027.80262459556, 146359.80339085808, 128112.49825847414, 65995.46757309948, 294720.5463989755, 322849.00290149916, 458603.70448440814, 185027.63397130225, 167468.3029947272, 230630.07645223313, 198034.66733019985, 167306.1676959467, 94274.95227014854, 120607.88341448005, 119521.48072784256, 99364.29563027549, 150379.68281936203, 810888.0418626412, 298301.79004319024, 188060.07851729804, 156117.11547322528, 188243.48901092715, 195858.71707375374, 238040.33272425216, 184935.81513150988, 142148.76037755332, 159124.427539239, 233277.76912245326, 94223.10102956677, 63025.03889887198, 161936.91455780514, 209395.13445174278, 120692.68364411272, 243419.2530069351, 159589.69072656528, 184382.332774647, 156640.01678276097, 401546.1299365304, 98699.49885491686, 360315.07834985165, 255628.9241513711, 245968.89652868517, 509767.1493252421, 543980.6073773202, 247865.28009813, 125128.95004097286, 254959.76992230766, 213534.8251246755, 65612.33856174407, 216120.2027634168, 151132.34966150645, 160771.25801130504, 163377.74424182382, 116150.41103612323, 169122.03951427565, 181392.90663958952, 147342.94211632514, 190976.72066416568, 145343.63546781515, 302279.20452648454, 231673.55003514243, 149963.43808248808, 158361.4571774836, 233371.5749989671, 113573.34382748796, 119971.64835542577, 166059.35456073115, 141858.77656155615, 124691.88194370037, 996266.918135996, 169140.63897030466, 169465.35717731644, 150584.1612269198, 161288.02131557977, 384937.97055830836, 210648.7659250249, 189141.73622790954, 385130.0815307422, 69917.66100429873, 152959.80068993257, 164710.436945747, 314720.6004238412, 96663.99530650466, 129061.01957373979, 63757.55206958696, 158123.16490176026, 137069.5773095641, 177615.10179839004, 422437.73502834025, 352839.6041499667, 544417.3201003022, 123966.59945891063, 552946.9077938484, 227944.59191656258, 141204.60708976025, 214593.77100997439, 240033.4954079526, 220542.4779425821, 117712.18321351938, 151286.14746249642, 190407.31682724287, 103353.83709398514, 296810.3178534025, 250551.73174008695, 144135.76495357818, 93727.91520015891, 171745.4108132099, 299636.1972726832, 159693.58139597703, 175481.41408202396, 390567.7921748128, 166402.43492375404, 216384.76463556662, 149914.3625108319, 261769.5317076823, 157644.432933672, 322938.18633590644, 149896.63900121016, 154034.90862736673, 386287.01015020924, 134509.95678493148, 178817.24197476392, 229300.26209224694, 192471.79002520692, 173227.21029086696, 171831.45426919826, 287884.5565926462, 157772.74188750066, 150731.32392873798, 113852.17887643175, 379618.9509893178, 207894.94957631853, 342377.5416580978, 152516.95469631127, 388127.73280746554, 227063.33735092322, 327451.23786032357, 143985.82552716957, 107085.41713165787, 354053.0532245632, 360486.0774033085, 151421.32123656574, 224935.99906514992, 123915.71349453801, 225733.14065888038, 140546.795706235, 128494.8779750416, 139250.94031516823, 230940.2157974807, 131017.9013752895, 169748.67685298645, 146937.91937611016, 137847.8573689126, 464033.4922016805, 155039.7536117977, 160038.63986923645, 110141.14271737344, 127881.31110915402, 260568.6887033347, 275138.3590232973, 119610.60968733298, 206444.21682390154, 452935.78587339766, 288763.5235051317, 174717.97818974717, 121853.31894921031, 82300.51048092349, 131351.71206387228, 193641.9306821762, 218210.16416247265, 177789.8006862777, 130855.91606585095, 128437.60887156201, 121709.49770965861, 63217.45268726201, 116600.10508145565, 267459.6552238448, 88351.94892441925, 213783.24483548154, 140962.94404351764, 115395.77216368637, 196796.88478897535, 326254.11104502686, 284993.72696029546, 306455.48491845466, 169062.7419969759, 249817.68936762138, 258506.95888166627, 206586.53071592253, 206314.6644393568, 156182.58047578274, 163170.00236998685, 144987.85245462786, 206044.0729034954, 197657.63460131173, 165810.5559148644, 225413.37206205796, 182875.45592307928, 211577.77432592952, 292769.5879919501, 104661.74712321702, 62517.75530685279, 96704.62565308093, 222575.4795770499, 137269.8530675333, 159999.41595147728, 166766.8257498887, 93256.39981703197, 174019.57959048607, 157571.81489737186, 152563.63091003423, 227184.586473, 207451.22460211668, 176413.5004265855, 144490.9381823378, 147446.09874764894, 93465.42023418989, 416195.21327274496, 423160.6634047245, 282414.4996412113, 143222.87205572656, 183506.84116836972, 921853.2081566795, 454262.69588261645, 94239.3213202648, 169455.2857737275, 103572.7053159067, 160145.04581102106, 135304.75753736997, 178228.28607820813, 80004.53866036327, 173306.3138383993, 169359.80405492266, 415382.1431286644, 218504.14191195538, 130571.36451490363, 435847.54073012655, 154069.5115013532, 110794.7150430724, 106521.05984781071, 151169.2221682254, 116988.20573415342, 196122.83579995457, 169890.4433644437, 134706.69785739615, 257917.6928675082, 124735.86143897826, 173916.11575845897, 242469.10434284393, 262646.3080762346, 157379.87531273015, 492427.8484853347, 90397.80970266357, 148053.87163454763, 238623.94806666358, 99106.57558605252, 164885.9904230309, 95339.40454065404, 243653.55906393714, 111344.921260634, 218890.05332980075, 247804.9664065115, 85337.89249644295, 143618.38678110356, 258354.08456446056, 171966.8497758636, 113614.88803599868, 311092.557493426, 201285.98646201924, 679541.5051603264, 97765.17759738915, 125711.06341344866, 379530.6266665017, 510044.54076050397, 196319.13547689677, 108149.94183271157, 71125.57703676804, 184152.18113126163, 74288.38793597705, 74288.38793597705, 167548.1034739696, 165058.79010825432, 133899.47211921518, 63952.604921420454, 323581.99320340366, 146922.86876454263, 425173.6785554912, 166922.5311072318, 269315.076972399, 173069.4812475793, 174993.13639713617, 141457.82984010215, 617121.2213624935, 137661.997767252, 2683232.669109473, 304915.4545362503, 369142.3780407549, 208936.2388784179, 114715.9746703456, 401778.62097361434, 146506.49245025145, 355278.6737289439, 139019.3637652289, 1021669.2994736346, 255066.679634967, 139818.47504605207, 264562.141120453, 98668.1213566553, 106926.02879709251, 161041.66098201097, 220580.9118898834, 148186.09401925871, 246950.6197547995, 643217.7674296009, 127619.03648910666, 162336.00597198412, 193426.08238822385, 174964.74015293544, 344526.23260556394, 351645.19165889866, 443056.97576300515, 217424.8534666808, 149381.16466502647, 71772.1118791614, 329302.6826973447, 324478.6333900127, 94729.83218766042, 245719.88842451497, 187117.52965755019, 217423.5403431013, 168198.30570551488, 172781.681594109, 181321.60786383355, 174267.61999716956, 108257.4870494187, 183240.5873650358, 159262.49076105977, 158891.932907964, 100668.55590573366, 178109.40104399231, 155781.04585042107, 192243.37244182057, 155965.076783661, 183014.81655198245, 171451.40163837696, 160612.69185453738, 178661.1175369238, 175733.54440185643, 171451.40163837696, 184832.12637665155, 161935.10059443227, 128289.08583763274, 183736.29034400536, 80296.63966414935, 165731.54068627214, 151520.4305860445, 57974.811270321494, 157929.3274690028, 177495.1362181657, 82785.88855686212, 179651.1088327488, 58490.85976250154, 160220.8703923622, 319609.07119166, 171451.40163837696, 170734.74831833027, 158513.60852477924, 153668.24331602693, 179581.53022874333, 75576.44531112831, 168158.98733217682, 129175.59219309018, 93111.12287258329, 84518.08516132848, 172865.43103128276, 132902.36055501725, 262861.29837809026, 81104.91814903838, 107681.82405714705, 172788.2296564037, 266270.58219934296, 158628.10618207586, 277562.2976086933, 199959.58038711935, 289395.47090886295, 130554.39570935679, 96283.57519962512, 232306.3632919764, 347204.5053899982, 134869.79397213797, 115992.01897240899, 148926.94165047756, 107611.61841353978, 138774.77659369627, 133783.83522165092, 230558.973531754, 146820.66825798055, 561997.4662057568, 194168.1751306775, 211656.23844192864, 120425.47550923144, 99101.87018572868, 199833.18626192558, 178132.89268827933, 244045.52307375395, 236258.6777033551, 97235.79075682623, 161016.63379452884, 269541.09045783547, 691380.8740674561, 80863.97872062986, 225543.40009703874, 122051.9890214517, 128803.87633336108, 713307.7841869729, 114676.32373932948, 212800.79711325737, 180348.48196878904, 143344.69838419894, 234023.94171057726, 128180.64912723386, 276053.4684887949, 240419.98968648465, 255082.33643577527, 148186.09401925871, 212219.1813540315, 138704.00746979724, 103778.06506001274, 265227.81184150995, 135508.13657471462, 103792.52074536623, 114219.75296275597, 113356.30352519837, 865442.6409446563, 479537.88277995645, 219611.64969743183, 95984.72492300138, 113497.89920199862, 113896.51351461637, 69715.8469598472, 230234.274398426, 128575.27822834055, 76009.8540392052, 115273.7244909498, 720823.8800964894, 198064.4549211921, 188692.5179468116, 878810.1925473157, 115273.7244909498, 1332329.6584775269, 178383.06407707534, 178274.6943350358, 212034.17668460187, 112374.73492245443, 185721.49249379174, 218993.92274682832, 220127.55655620515, 185036.06903612235, 82885.25656458369, 248458.31164827867, 488592.0376008617, 220126.36093354318, 434647.5004053097, 1159492.7594634537, 375485.0728472127, 367883.4278354448, 187724.70907956938, 154689.6043718952, 185454.50028692954, 243303.8681324102, 224932.25916572072, 778553.1593703984, 136770.84055131357, 780066.3920099244, 169148.48666282877, 194921.825633962, 321726.7755745414, 397075.43520932994, 238381.78574976194, 103278.47162602271, 126857.40714220583, 213412.82568846154, 155774.962818012, 142449.5081045552, 159397.63940768043, 151712.5991530454, 182127.93165143207, 209466.14276820997, 155186.82117347588, 108921.63804293447, 109682.47254072514, 344111.6205210808, 328060.5863585832, 697115.3899860758, 308170.13465270586, 185620.613122548, 169185.41828339736, 121119.0603310479, 165803.19848937774, 113882.33960671385, 122742.61493488346, 89153.0834244039, 253596.5466730457, 135794.30275579734, 87662.27971783257, 107287.06693353267, 113950.09487818909, 168735.20880105477, 188008.42960365966, 183866.13263330157, 155303.62119163666, 132517.03930129128, 632813.8105016572, 603482.9854270192, 260938.0629074805, 132077.99885456654, 192291.7442977094, 240117.5734994937, 639613.9289642674, 141567.98497078137, 234595.0984857098, 186999.37028156267, 111656.89079804288, 272303.0575497472, 196723.35942602545, 129398.98565897364, 142449.50843856853, 171308.91618539, 130035.5041330485, 186538.66957094715, 224490.6566861719, 261259.92970374643, 112827.6022482855, 283360.7745992161, 138141.45190941557, 343029.0547604217, 283768.8416642726, 464377.6823348694, 191019.21465715856, 231742.8021906357, 298064.17951166193, 218671.45717798825, 258800.11087496, 76536.90652329227, 307898.411011654, 156202.68050865474, 488488.03377161094, 111326.42713477455, 121580.55447044589, 117899.86500294553, 1193926.9041862835, 99616.9476827505, 248136.13942517282, 284313.2274133146, 952326.8033738341, 157929.6174311749, 100143.83697835042, 223084.80331511618, 164867.43729803376, 136635.00387230312, 173004.8064255223, 119774.18847546281, 248571.26808770036, 134105.71767367198, 1302377.195571161, 295354.65620120254, 170038.3034967975, 139514.96665012272, 139343.53223653365, 194261.4540574401, 228670.21658973303, 1378051.4718426405, 461202.86101659265, 109137.61594877864, 133570.8537650587, 385512.9343973476, 313866.71464836376, 333915.8918469648, 214915.3972573946, 134581.5732123628, 283549.6523902976, 283549.6523902976, 769128.1944389336, 143183.46793539802, 338195.1849322978, 1011419.661277492, 293850.7485092672, 266612.301223328, 266612.301223328, 130419.41194023186, 625072.8463067911, 547247.260914945, 436066.17863334273, 153490.44483994582, 148628.63885128713, 544030.9900020378, 579382.7844933575, 173259.62641100446, 176718.39403578668, 149652.40793347076, 301976.57509086904, 195093.02859156384, 184253.06035507045, 194002.56719037425, 138616.985892246, 130772.24797691095, 597715.6221571839, 597715.6221571839, 597713.5005549527, 108474.6054088842, 191432.58570623904, 187019.4668236213, 193607.34199644323, 144799.08006239685, 156501.38388981984, 141607.6522040058, 80472.68340213563, 173019.21809600596, 107543.26463673364, 374891.80755352176, 758439.1349054999, 96745.26439629348, 162404.83769738427, 240515.88354945043, 125233.78328147708, 100357.14049382356, 111278.06934863004, 188206.57074109945, 2402136.573844434, 848137.7506982373, 415439.12256005965, 142553.55362699364, 108175.1043019709, 101659.33967914499, 90063.1812476333, 275948.46357871854, 132437.64864007742, 627237.8428533918, 582095.9792723075, 189057.75222926063, 116921.66423540402, 116465.47069678336, 91752.02344747543, 190448.68895780493, 301476.584750906, 1518077.1328783634, 123189.68695147189, 131964.6004874406, 254271.92601184957, 214683.9147791798, 219248.52938563083, 219467.29533076246, 196336.35193377506, 178771.3718396221, 159011.10756480423, 179588.56654771918, 183894.5738990677, 94655.60623353298, 113727.71558598647, 131150.05089382012, 217875.09940745845, 198107.30028980246, 321429.0595782123, 85576.77136783341, 87112.48909973986, 1369166.2408471364, 214713.8988272729, 165098.97608535754, 87121.70694238805, 186880.21333669787, 258191.7815304008, 260855.8882306803, 257657.6037975806, 204702.74490166386, 189736.52954754667, 1160015.2119881446, 245302.87739864405, 186013.38129925987, 144784.385308052, 102318.13063112625, 161880.27817684377, 134694.01215258508, 107223.94627835709, 216534.04407374075, 2553400.5483769937, 201315.8010669364, 160405.31809210134, 123811.10185669296, 275556.0978899715, 238818.83952915613, 216848.56641722945, 141947.06898283635, 154581.70841387528, 154581.70841387528, 138962.23393852054, 154581.70841387528, 168026.4074512441, 168026.4074512441, 79460.28334406219, 174708.3061367162, 168026.4074512441, 118553.74210740534, 134679.83536270808, 270156.73174402677, 78546.14716663669, 163176.7332003392, 78546.14716663669, 78546.14716663669, 78546.14716663669, 78546.14716663669, 454937.05510004406, 437894.7966615663, 96548.0828690607, 1302967.3302679323, 389789.17895647045, 110392.6761826711, 222030.80030219338, 187770.4302277169, 416355.1410404371, 221664.50137082432, 161922.3235078515, 189814.94184692434, 388796.27987295436, 514754.80420025036, 362695.74288786075, 100575.46714054144, 317287.9612809007, 543593.7516794772, 158963.30617606096, 175397.54032175313, 70810.05171305573, 213514.1284378783, 309761.27361279627, 197141.45402076567, 238886.5739955373, 118422.51148108038, 100082.78720046356, 424546.59141896944, 277426.09649172495, 173563.5353226299, 495521.6529883181, 230620.16905258657, 239856.60187002597, 306273.87326740206, 228454.9652751597, 102268.6901969124, 112614.1165406563, 112614.1165406563, 397289.97306112654, 2155411.3435767773, 112808.04421194742, 88388.17657658308, 98244.53496683744, 112808.04421194742, 160706.69242777847, 106546.73238561461, 129161.19637289006, 141244.82180538547, 126714.7166908138, 140752.27807694272, 158423.70851707237, 62776.701773672874, 105544.01652770533, 151537.49878980732, 127296.91925330153, 139697.2584227191, 208796.1651601699, 317548.0342109888, 319250.93366805196, 219044.30682377628, 407382.82321022474, 130884.41832178927, 175888.95341265682, 179511.85412680043, 352815.597591049, 352815.597591049, 155228.65174477405, 115299.25092706662, 149333.57037036706, 92768.84670190194, 144921.0342383983, 257289.01416875937, 192374.13104952316, 125230.28714352543, 68849.1962546866, 262687.2253493787, 98063.63210276581, 113646.40636784726, 108086.63575464135, 130571.6065120126, 164046.20742991654, 161216.14208695333, 131150.0508768364, 292273.90743403346, 148276.8239930411, 87630.35246661076, 212849.51858897394, 212260.4057190015, 107026.93029454592, 101499.11927962473, 97789.31077531702, 127090.2592463389, 201890.53938072248, 307591.72965008824, 230477.33967894543, 613334.5766172769, 371230.2033027159, 119368.87031849095, 143723.3176381611, 117692.44016406545, 158522.35330849158, 179986.1601448568, 231217.71587437537, 216561.67657470662, 178811.47719087516, 256848.5682258285, 122854.54492796987, 180037.97400103428, 205122.95712883773, 150994.77971143508, 230176.13500052094, 195980.745242592, 117862.05506887686, 510062.9806829085, 224562.29167096064, 262179.40876824956, 179479.0280014436, 191599.27827271406, 131821.57365523512, 136182.8033883341, 184335.0896748658, 173009.4517039954, 362385.85847190674, 69026.0942677703, 145250.50534216032, 221984.57059546042, 737733.521638789, 176154.06211382573, 119263.79333383577, 277556.0744471342, 140454.00000653407, 497229.06643943, 136623.8697692816, 136623.8697692816, 143287.7413382, 226011.58400971, 149634.98118940866, 382191.0087090109, 132060.03340818494, 105820.20638260276, 126630.78972515475, 470290.0838356555, 107491.49235987382, 145212.04227530153, 106067.87500943438, 350007.12983902066, 350007.12983902066, 311292.6778000084, 274056.516696844, 191328.8724659427, 277522.2794918405, 161342.32570006646, 186496.29838550522, 158342.09126720822, 220895.6535153004, 181474.93270024838, 183431.99042429842, 186296.00061002068, 211644.65717466787, 277037.3893398416, 151464.68094104624, 137506.37007301112, 147044.16188189975, 342777.23084675457, 283578.74578608543, 323289.0337460755, 197249.07813796267, 132101.2880264433, 407603.409240302, 208117.7460345496, 428608.26989480946, 101405.77038254874, 226331.52224420663, 495366.55005915975, 522567.07654201693, 375178.5554709416, 103807.57398957887, 107030.22156508846, 111052.24079923268, 112462.23282415903, 116860.14021203193, 116860.14021203193, 116860.14021203193, 116860.14021203193, 112462.23282415903, 110984.57367642899, 110984.57367642899, 112462.23282415903, 116860.14021203193, 116860.14021203193, 116860.14021203193, 116860.14021203193, 112462.23282415903, 136808.5943688592, 110984.57367642899, 110984.57367642899, 110984.57367642899, 112462.23282415903, 116860.14021203193, 116860.14021203193, 112462.23282415903, 110984.57367642899, 110984.57367642899, 112462.23282415903, 116860.14021203193, 112462.23282415903, 110984.57367642899, 110984.57367642899, 110984.57367642899, 112462.23282415903, 116860.14021203193, 116860.14021203193, 116860.14021203193, 112462.23282415903, 110984.57367642899, 116860.14021203193, 116860.14021203193, 116860.14021203193, 116860.14021203193, 112462.23282415903, 110984.57367642899, 110984.57367642899, 110984.57367642899, 116860.14021203193, 116860.14021203193, 116860.14021203193, 151233.82644063278, 110984.57367642899, 199147.72604121026, 171039.66610474448, 135431.78563041578, 139902.89859756254, 172842.53120452617, 157999.86745450133, 153002.4886361332, 132045.40736091047, 115974.05797872372, 199350.05339053247, 105286.46879848256, 114763.6974514466, 186453.6941134889, 133430.77479391155, 154746.49599304152, 330254.04986115196, 81746.85383248462, 200211.99331419053, 683034.949668245, 162477.0319645098, 192531.46025895944, 166181.50833001654, 282460.2631349458, 70835.8825889813, 124036.16457100108, 131232.50183338663, 402550.6254259724, 327168.401381038, 136973.96606703315, 188502.7231968465, 275998.91282961256, 145761.68109541727, 284448.97345417825, 241665.80589966977, 328824.3620473752, 176652.99051021456, 202352.83324507409, 126534.15774174075, 384814.8114520426, 443821.2777788615, 319171.14455784636, 205727.36586294838, 297559.09871052456, 140864.5533199376, 189555.9238690678, 110866.58210767117, 148837.73558927025, 117847.68661775709, 342718.3362978574, 149369.14977742586, 101636.74730074621, 175208.1234756551, 174851.93025123212, 179067.3759589579, 153640.2205882706, 354651.9424685283, 153640.2205882706, 367337.17349813326, 257900.22873900508, 325806.7986086266, 153213.2380539343, 400900.1549751902, 170985.44438533424, 139204.99717147765, 398338.4634570774, 317599.98150962155, 256597.01620134298, 243588.14745258793, 186496.29838550522, 186496.29838550522, 186496.29838550522, 117773.90033419334, 262984.17464837484, 176975.8533627158, 519388.2110061097, 133618.52890183066, 149330.99557222406, 190461.2346313076, 135951.86171463277, 196113.94785737825, 177986.8813332897, 364602.27860436105, 157602.87183511182, 438754.7105306804, 160598.48657231365, 531990.8953974711, 282150.8071651627, 143703.1094709973, 192313.09172917568, 147383.9971452579, 101287.95050971587, 140083.58235757085, 252827.17747593776, 94363.63308281857, 301889.6240118259, 95453.78669688823, 123069.4117758869, 218433.53651416596, 131529.86109059764, 77251.79232076832, 187593.00460937136, 162722.6823562659, 375660.0401529713, 184211.5352439356, 113688.40347644978, 273526.0956654555, 232331.14104427162, 2269327.013704044, 107511.4117144335, 357609.66568676976, 482031.83180103236, 153148.13699618, 191588.77449121774, 262927.2538951429, 537330.7582913722, 174161.48715799348, 117773.90033419334, 325632.6919798046, 133317.64337114533, 92822.63733075812, 133317.64337114533, 133317.64337114533, 136864.2777256774, 130261.91181815366, 102512.05490762711, 154863.9626050438, 136189.6021052238, 223842.21912109485, 109860.23531436839, 146434.7863349184, 146434.7863349184, 436994.1003468673, 149343.14206534743, 147937.48466934002, 133175.81136707187, 120647.52408547382, 219712.74524833923, 128918.12622883591, 128918.12622883591, 127922.42497933956, 162338.64159708444, 127922.42497933956, 256677.49923796143, 164829.83577481745, 144179.06465864627, 302453.2440150548, 144179.06465864627, 144179.06465864627, 144179.06465864627, 108288.26739794287, 128256.63644198762, 144063.1396023166, 230000.11447084433, 289651.05555336457, 115116.56939248514, 129494.51300792128, 138801.2116775358, 129494.51300792128, 138801.2116775358, 129494.51300792128, 138801.2116775358, 129494.51300792128, 138801.2116775358, 138801.2116775358, 129494.51300792128, 138801.2116775358, 201691.08442891896, 89775.00421276028, 302453.2440150548, 251685.73965839218, 319592.130617935, 251685.73965839218, 254222.41249191822, 83613.95294916007, 307794.6861323723, 131723.74772746596, 450335.33066873654, 224549.8345382182, 120048.1613933143, 137283.31698205255, 200084.22390549313, 132751.1199017301, 219836.90025136535, 117773.90033419334, 117773.90033419334, 117773.90033419334, 117773.90033419334, 117773.90033419334, 117773.90033419334, 117773.90033419334, 138902.98282295626, 91569.86472723892, 196598.02424956916, 553862.7320089239, 100548.97126960629, 213713.72478140297, 83565.92287442568, 129424.75850747802, 132995.95439669502, 88282.93060195603, 288384.1591586259, 244697.10611441676, 165537.39822534268, 195060.00922276548, 139341.76816643451, 540258.3529871703, 102764.6875247176, 167183.03378070937, 129031.83403736698, 273078.8757050357, 105702.56905585573, 201092.9590974833, 174476.4291013113, 109464.14532959269, 150291.99510774665, 166079.58228182656, 114739.1284802666, 144837.50230838102, 163041.38814580787, 85581.14334313231, 158423.70851707237, 158119.75255709706, 167370.51494409918, 119456.98025608709, 119456.98025608709, 191135.8809610225, 135446.43543861038, 216281.8972389181, 192407.11898851677, 267381.3107023545, 79707.56216229725, 158898.01814622796, 196707.7984713697, 100037.02926081035, 175700.52839250115, 79432.43519635429, 79432.43519635429, 78509.73887050083, 149692.77245691002, 143257.91684226083, 79432.43519635429, 296555.5540694189, 79432.43519635429, 78492.93767284513, 78492.93767284513, 148892.76189404138, 73007.00356019936, 100759.23822066808, 249257.96716140973, 73007.00356019936, 142168.33162500407, 131572.53077121748, 166230.35906837758, 100759.23822066808, 77999.12418969057, 182319.52496944694, 177684.6992591827, 247319.59134189942, 598457.1572046926, 229953.41295586858, 598457.1572046926, 598457.1572046926, 80064.13979699713, 80064.13979699713, 160100.0391694193, 336753.2092861634, 104175.37432971067, 118964.33955412879, 155265.74182875664, 156866.61503567468, 156866.61503567468, 169449.53390905663, 101091.71954796821, 195887.97557293068, 138753.28490621108, 200906.34594098773, 134739.5569388409, 376206.64150579716, 94573.46623013043, 195890.2978525009, 193658.82069446053, 193658.82069446053, 146529.40014458657, 152244.26992221177, 148892.76189404138, 146529.40014458657, 124708.43038137381, 152244.26992221177, 146529.40014458657, 124708.43038137381, 117021.05995573415, 152244.26992221177, 146529.40014458657, 124708.43038137381, 117021.05995573415, 152244.26992221177, 148892.76189404138, 146529.40014458657, 124708.43038137381, 117021.05995573415, 148892.76189404138, 146529.40014458657, 124708.43038137381, 117021.05995573415, 152244.26992221177, 148892.76189404138, 146529.40014458657, 124708.43038137381, 152244.26992221177, 117021.05995573415, 148892.76189404138, 146529.40014458657, 124708.43038137381, 117021.05995573415, 151147.62841235395, 146529.40014458657, 124708.43038137381, 117021.05995573415, 150863.58855503087, 210853.1014229515, 132203.40007457498, 110348.29678450458, 562076.3878076816, 310842.75928825425, 188117.8307141146, 129367.98543640846, 182321.33761175597, 110661.1033541001, 114695.57309145336, 102179.12911561171, 232619.7882275618, 259062.98588258048, 99761.56912726953, 431647.42318488425, 144903.18366745184, 91385.62267979719, 293462.5122340048, 150651.16072714067, 144180.36259679438, 95342.21134108471, 209588.73438572724, 168948.6265587557, 198644.1707765816, 316481.9546628561, 316481.9546628561, 551232.0354384201, 178138.84555901962, 418190.94964675175, 179330.64618609095, 161716.77190928205, 217459.38272414944, 147234.81858780733, 231286.4230667121, 233569.32746876674, 91612.22504991558, 236293.84378669836, 169130.53943924844, 169130.53943924844, 157673.92824708874, 162977.5455638547, 339369.67894801917, 194258.1800246477, 136487.80266762665, 173890.19946258044, 131672.2998396924, 98198.17909444068, 230106.41876237813, 128548.1932938466, 129424.75850747802, 205503.1916421437, 219124.65791082673, 98976.03970955421, 202447.98691474574, 356935.8075561997, 364945.98865736363, 200737.87109008527, 195431.4913597515, 213927.33077179833, 73007.00356019936, 73007.00356019936, 73007.00356019936, 295910.14291091304, 125229.79545482712, 108450.90357655598, 174320.06924616557, 133986.93727877107, 565936.5696607869, 158364.08087644487, 156322.71792205205, 355655.6744021245, 190296.99963136727, 137374.19824925245, 140695.44274340288, 108800.51335460336, 187089.3372340735, 163313.4881181918, 165662.79221973917, 163313.4881181918, 119105.73292653527, 173679.5206554576, 478848.0416539368, 159477.81076038344, 304203.75032547093, 237612.3381996727, 59951.21600997458, 100112.99319867187, 114625.68665390305, 130335.34952534987, 438529.6852879607, 173316.6318457094, 119210.38850480755, 120087.01666840905, 113456.40737318626, 376528.27814400924, 133526.86905654136, 121254.22321544756, 166542.8122065197, 166542.8122065197, 166542.8122065197, 179491.04538668483, 131283.38643482258, 118199.34729696703, 609729.7032791928, 609729.7032791928, 615551.7060002896, 108934.81615049692, 206120.204666734, 615551.7060002896, 609729.7032791928, 609729.7032791928, 130873.41756306446, 208248.3458829708, 205918.64483078418, 205344.63372393872, 205645.1123537964, 203214.66671613397, 204184.4891454006, 220471.73949245497, 223065.27495954983, 223291.05549906666, 222506.2026647824, 225143.84110634885, 222394.30216696684, 222386.14964519945, 224317.25574717746, 133317.7313524193, 134365.399095033, 135701.87084550277, 135459.65257825013, 136171.53792874052, 133179.76880242222, 132241.95064168298, 133472.84036568506, 143240.6890819986, 143066.32667128003, 142570.34811030384, 143201.06467309932, 143893.2063684673, 144202.81166838552, 141327.60185066285, 142038.31043701916, 143015.20216111175, 142839.30735504336, 142380.47911624698, 142672.54015430398, 141333.66289635457, 143197.63804908138, 143316.49395205727, 142674.19070035475, 144484.20560033532, 142041.66755044681, 188371.1574963236, 258869.817301227, 475496.49308504985, 132440.57601298744, 133618.60427227413, 117686.70384275581, 131079.6472484914, 349898.5546394079, 79056.53174481037, 82379.73565065471, 70913.28891334031, 90238.17397074022, 352162.4531814024, 90425.72335031164, 107177.86896685135, 1146892.6039571431, 129726.21535117632, 197911.43062852745, 207112.38970042398, 309569.6699084507, 123201.52854058333, 107148.8378459992, 146328.55024640728, 87501.91446799407, 351911.9903369094, 249262.09341631128, 395837.3166409075, 129744.0005048115, 594176.8207291297, 465910.34125485376, 173051.72791095873, 173600.84750916727, 304154.2148484789, 84750.00025281013, 120031.61794131901, 2365365.3299838696, 691518.9897894355, 727658.0094992339, 244241.13693637273, 144429.02061344573, 1890318.7436416356, 112213.24267269713, 162983.12089173577, 710644.4097243205, 196990.04565259215, 198592.12922628713, 288215.0482395379, 118101.2862703206, 148205.97450212674, 149439.03089902503, 278280.2115864799, 180202.79944084858, 174292.678539654, 200183.87910698928, 136618.93597865533, 272377.4750488619, 125841.71960386296, 93463.6936701472, 1160092.0052001022, 448105.039096373, 132732.88723224023, 189016.0753890919, 118372.45467634198, 95253.7902894622, 95253.7902894622, 113561.85226347252, 94100.50824818734, 203577.19073287476, 333754.1544999777, 143628.81251583557, 137971.60211592374, 1155287.2531563705, 256724.50079833018, 501241.37880919577, 152665.93958888916, 223415.7028522413, 130730.89613192549, 621699.0632265887, 175508.04668302962, 208525.36659525085, 334086.78713847004, 272445.5395153236, 143878.73640210554, 271137.69605316466, 217361.17749561244, 82088.74764946339, 1451243.4811929502, 284160.9070414647, 157753.0523458094, 100676.67780955443, 137709.04733578896, 155320.84698997557, 280827.8498313167, 94748.16106698773, 94748.16106698773, 280827.8498313167, 94748.16106698773, 94748.16106698773, 280827.8498313167, 280827.8498313167, 280827.8498313167, 94748.16106698773, 94748.16106698773, 280827.8498313167, 280827.8498313167, 280827.8498313167, 94748.16106698773, 94748.16106698773, 280827.8498313167, 280827.8498313167, 280827.8498313167, 280827.8498313167, 280827.8498313167, 280827.8498313167, 94748.16106698773, 94748.16106698773, 280827.8498313167, 280827.8498313167, 280827.8498313167, 94748.16106698773, 95358.48498334782, 149460.5381903294, 148652.84398606245, 148652.84398606245, 280827.8498313167, 280827.8498313167, 280827.8498313167, 280827.8498313167, 94748.16106698773, 280827.8498313167, 280827.8498313167, 280827.8498313167, 94748.16106698773, 94748.16106698773, 280827.8498313167, 280827.8498313167, 94748.16106698773, 94748.16106698773, 280827.8498313167, 280827.8498313167, 280827.8498313167, 280827.8498313167, 357225.2125586105, 445541.07592568436, 221417.37622030074, 280827.8498313167, 280827.8498313167, 280827.8498313167, 280827.8498313167, 223039.84174092958, 223039.84174092958, 172446.27607008276, 426681.8923048369, 222239.0781357998, 232460.41744316975, 78685.7153167916, 78685.7153167916, 164487.94991380867, 116108.73307950443, 71439.42167857254, 71439.42167857254, 71439.42167857254, 71439.42167857254, 71439.42167857254, 248631.88379573936, 112778.72202272157, 212089.31882606292, 319514.3787376156, 191907.8301148707, 182019.75817017021, 164401.69337152035, 124844.70903127108, 124844.78117733465, 124844.78117733465, 124844.78117733465, 124844.75242161656, 124844.82457078953, 124844.79867393596, 124844.56672779605, 124844.70903127108, 124845.01104076878, 203182.99826107724, 401758.9949244408, 124844.49584184555, 124844.93887825383, 124844.78117733465, 124844.75242161656, 124844.82457078953, 124845.01104076878, 124845.01104076878, 124844.86796611514, 124844.86796611514, 124844.70903127108, 124844.82457078953, 124844.7958138335, 302000.59252761025, 262361.5270685997, 1064889.095207147, 275753.164946398, 385625.962458307, 199039.47087743098, 151944.10545195578, 151944.10545195578, 299352.45748242026, 299352.45748242026, 173704.89931708825, 264026.7848237461, 292636.7579486837, 229347.69684207393, 125011.86689318375, 179495.35199608415, 195719.52835602808, 170053.0898077153, 149568.79454468068, 221340.80748004577, 196072.11801295675, 323616.8998329729, 721693.3602976492, 314624.23411843483, 323131.37289450644, 445851.3919958289, 504828.41872177925, 239243.0431597118, 278707.5455581395, 217862.24739944833, 167560.95986121584, 411172.81785330095, 215433.8971938952, 312529.2126699799, 473231.7985047633, 283970.43822833407, 93410.08567402606, 207752.3084419216, 198848.65177858307, 201067.3258532051, 101159.84845665218, 175281.8773497216, 392898.52316076227, 139234.52589702627, 138263.6649164764, 154757.85632914034, 201825.8379805907, 113602.84404771183, 113602.84404771183, 120151.95857812322, 191235.99286843117, 138867.20649205253, 113602.84404771183, 113602.84404771183, 939699.5333952174, 189600.3163459338, 169778.82377257425, 189600.3163459338, 423744.15624420275, 124671.47639184401, 205773.00770501798, 327026.1963013409, 121109.86433786924, 160773.16934664134, 130869.71004166428, 161516.0830223664, 128898.42489669097, 91942.37506456359, 72118.51155800887, 132505.85359278345, 172236.32828350473, 171594.32882073155, 156181.07086680853, 324159.9862317216, 230578.84699105454, 232324.93415219407, 147874.19435442347, 259433.30404995652, 121897.31275533384, 222270.41222487128, 103791.43810541672, 195909.63743162906, 80425.06124433292, 160040.6757930696, 136479.51272606404, 164987.91581681435, 178059.05809992927, 224923.0002843003, 270526.84251202084, 232517.69346701866, 135487.39680813462, 330140.975683485, 92466.63622155924, 144447.01727481637, 279145.3418116731, 639992.426489457, 115154.90024813841, 185856.2407944682, 100284.06229824685, 301649.9823352443, 117299.22151323789, 125369.79595815433, 188575.54527086037, 140468.941595412, 676365.2575669975, 147872.89379809512, 75974.64594903549, 75472.84115462328, 76413.77701669876, 75644.81823795143, 174548.4681917132, 104164.96029884208, 131145.49142357078, 135871.86193224372, 268020.72596965847, 207039.0771305468, 200852.55376440688, 121375.53787295181, 124267.19392767796, 127963.01469391094, 122119.25064141926, 124317.8098705913, 286394.5818105512, 124317.8098705913, 205614.6000713624, 127716.25395237775, 154165.73520425835, 191927.83681757143, 150864.22268008254, 163917.88272972827, 280090.9764078051, 510503.91986464156, 77795.50621526262, 846034.0604895802, 204177.8303986662, 213207.27677993197, 561256.5276697766, 197463.80090187222, 116286.29274699853, 172442.42085260415, 110144.01628473346, 285244.7087951271, 210027.34859271414, 167338.22396987543, 241543.42301439788, 126424.96870410189, 85729.17113091642, 149803.84137575925, 227471.47852940156, 169607.6323521381, 160077.2087832934, 118855.59148486504, 117763.7985969652, 109210.36722362993, 108655.38962953037, 122708.73210508598, 177564.87673934828, 194537.97336111497, 490797.79529287724, 193648.6056273138, 191215.3525950309, 323006.03692541027, 169237.25150482293, 314463.2462116641, 140846.70367448422, 290048.53307615576, 143163.30542690464, 654334.0284504646, 122655.82912424169, 149359.91640076682, 207548.05572682418, 363333.58860092936, 171259.09322950285, 120139.18496392496, 197124.76226711678, 81072.5399133875, 450622.26615548646, 212720.53848325572, 220193.0513729321, 150477.3392371181, 109146.96623947938, 182125.08943311236, 108667.00309080553, 155226.95511666514, 196191.28484307393, 138443.6723339499, 216895.36283670625, 98234.9214810646, 96903.84086893976, 194269.7796101618, 358500.00330959604, 1897584.477954681, 1164629.2883407979, 284164.1598990659, 165241.07650121732, 166156.709987998, 96311.65060829346, 288902.81336161355, 256382.5458823235, 312296.98835361033, 259122.85190860258, 118771.53534120225, 95236.54165603379, 105533.82411405022, 95181.61941114928, 96161.25776510166, 96161.25776510166, 190186.63840368605, 96632.11999781957, 113538.46926380525, 99617.23440745645, 108325.64770588766, 106418.70581703274, 137018.70777212185, 135830.89816138658, 106418.70581703274, 238756.97356199054, 342167.1161344967, 123562.05141531807, 115748.75200651097, 272520.00723224314, 91037.83411246276, 248112.93783664587, 115616.83295035524, 115616.83295035524, 122259.13607309469, 194951.292077904, 972429.9455724634, 149004.7995417132, 225644.83727306436, 174251.14962229578, 124488.93271918414, 124488.93271918414, 120510.06169260983, 120510.06169260983, 120510.06169260983, 236813.0873809966, 143038.52625032578, 286886.0460536247, 150334.02483949656, 130274.91482108689, 348015.10820669617, 337692.2677927839, 330498.5949987864, 200301.72804771108, 147267.33467684448, 214092.87390825595, 187186.403781344, 136418.00441002895, 146816.48486764723, 329400.3492878806, 145034.42302546764, 543150.9692956421, 250472.42234876862, 259265.35309598545, 262072.23458291893, 102265.4818074702, 87219.29061511153, 89484.30319317659, 227526.13811388388, 155281.73382080137, 154585.66060000684, 155824.70754819206, 129884.85690442432, 149270.32553850245, 225534.45521945253, 195844.59930417687, 106846.22354783695, 112581.08484988066, 139968.640844488, 149547.98678546635, 455910.73302137543, 132444.4551989231, 140549.77306279005, 647859.0876459167, 125637.6412724396, 205819.06464734187, 194411.08013702155, 167948.78325071337, 520756.4791309529, 99652.49599627992, 156926.05358105348, 183833.3806646383, 646389.0898602101, 221491.5761009637, 127862.45914124159, 160227.61339843954, 283214.2030072322, 246085.72987829926, 182722.9231307587, 199546.02234974087, 143724.02879378689, 380473.99150310113, 128370.02198401424, 104221.50382760656, 74039.91670387142, 449080.5572020937, 144030.567630456, 127188.0137508834, 143417.752392724, 160978.10542499882, 805348.3910091955, 513869.93773349887, 113173.76690622947, 146515.51236699912, 93620.64869135912, 72426.67269866692, 228826.69479034745, 285608.7949533223, 385330.5918759256, 116203.09425470588, 350727.84902828274, 345664.46579348575, 275999.3779447025, 141301.01212170333, 192654.20258463288, 75842.21885125058, 104928.41202933519, 257045.14730016506, 215453.9231045304, 154323.1476779231, 185523.20143655225, 81757.07152988925, 146931.60045997385, 145164.5686263814, 203005.2080738766, 198110.86606979312, 286902.270683847, 355949.67843776994, 323889.9201406624, 601884.3497121811, 219058.6839985959, 344688.4953485993, 291663.6930560215, 105758.95720651999, 1305620.454909565, 176913.5276542845, 138073.11938999128, 269037.99062476755, 269037.99062476755, 128401.9232501066, 141247.30258731704, 133541.43419217237, 212806.2162136189, 141602.63580158714, 467545.971732435, 94016.24743580734, 162721.76542232372, 145671.17062196523, 162003.86720000472, 70779.94403812519, 146060.18505781618, 128821.04456706272, 104358.71939947829, 231643.73100313602, 212590.41310671094, 222356.21442347893, 90925.02277252424, 119505.83246555841, 263296.95510359795, 177099.9828152379, 366371.6769556127, 124060.38183897144, 110371.67497847116, 276344.8861491499, 136818.1008154198, 309853.27778516454, 138590.94532012782, 115560.35301568673, 167886.17239661646, 185112.1348456785, 101711.45709201055, 714333.4706408863, 83587.07661834573, 452699.45590799855, 124797.49296928184, 273596.96941718366, 339029.3660590819, 250385.7242131473, 93619.69751873452, 1745235.1692944507, 159745.53924321037, 274592.58526679897, 122125.87090397059, 93754.14004112744, 217774.4141315559, 155429.365261318, 150578.35018951824, 115969.41080205185, 338526.7559641903, 114628.2073581754, 204250.6878569984, 349825.2489950587, 115969.41080205185, 529092.1168257325, 121365.67901472491, 121365.67901472491, 123037.26324520702, 111927.5571045395, 143438.33248592887, 215608.8032934826, 123037.26324520702, 121365.67901472491, 121365.67901472491, 111927.5571045395, 124623.86051837244, 124623.86051837244, 111927.5571045395, 121365.67901472491, 111927.5571045395, 111927.5571045395, 111927.5571045395, 130316.32813318544, 112075.53135443445, 285057.04564922734, 226656.01837943244, 223602.20482347155, 282069.05920036265, 244762.26732807883, 182252.48074830108, 210082.15302575185, 521873.8896631313, 161622.03326118097, 152505.16784732195, 187212.04485577636, 159763.70310395918, 358815.00030583236, 155433.4081760418, 131905.1653594895, 200419.49093862134, 139022.55306027672, 129045.09891154317, 241872.2609867372, 126367.29119938114, 123849.17695831036, 118774.83359845064, 127019.74956960848, 114184.65908692456, 126940.82127202328, 115052.3364691188, 126984.37837554199, 126940.82127202328, 118774.83359845064, 130122.98843296437, 127019.74956960848, 114184.65908692456, 126940.82127202328, 114550.17730143579, 141014.64814707445, 118774.83359845064, 130122.98843296437, 127019.74956960848, 114184.65908692456, 126940.82127202328, 115052.3364691188, 114550.17730143579, 141014.64814707445, 142877.25867861393, 127219.73094283522, 195649.48347766927, 190916.21956818827, 137550.22163257434, 113379.11675951708, 222582.02621031142, 101921.2404675255, 115026.45343352927, 133374.41376380328, 141454.21709589424, 137550.22163257434, 113379.11675951708, 131804.36545705912, 101921.2404675255, 115026.45343352927, 133374.41376380328, 141454.21709589424, 137550.22163257434, 113379.11675951708, 131804.36545705912, 161651.61473249612, 146161.5613633169, 167023.39806705492, 127019.74956960848, 195376.64928798735, 107083.84960512673, 109617.18627370021, 150386.09308073478, 127019.74956960848, 135628.4736165854, 150386.09308073478, 127019.74956960848, 139149.262893975, 125576.922793008, 131059.11773425696, 126496.21078995726, 277917.72505832143, 209242.34872771183, 271022.402381576, 120789.21378671733, 188262.65519509366, 449942.2308449382, 125662.34463128769, 82661.09633053976, 120024.91511647582, 349272.3045103242, 177673.65020080865, 178225.1789676373, 138238.91203609115, 226926.83496770504, 88503.0047785301, 91956.74715947476, 374000.96224407846, 152784.6899116526, 81327.39205489715, 121377.91817996872, 193878.6111924146, 136985.78266132096, 215905.03312252808, 163583.5857224677, 105244.2217876844, 153509.950753373, 197547.83638048387, 269604.67987217254, 403163.10556408425, 122527.17335321379, 305225.062868701, 184042.01730574307, 120130.84318591289, 113468.14148333635, 117363.47043573904, 221346.87575616475, 147290.73226526112, 248723.03420516176, 103578.95178337651, 433275.8881927851, 259752.22860149282, 190887.13144689717, 120879.47319421949, 108027.53109990904, 316307.0193274951, 274518.4437653589, 389841.2256866015, 232149.50879117913, 134797.85712495644, 225467.89478073196, 95800.87308007028, 104739.36792165323, 217713.11031971098, 521879.04417514754, 272382.54703674064, 342071.44628939894, 244742.8049690152, 112592.93712524958, 177831.6428742031, 114853.68609459154, 285762.8310327108, 122778.04819608163, 82136.36772596382, 84781.3412686832, 144324.14426505816, 222047.91684595303, 166977.74898896093, 69508.47952213013, 157318.1973620389, 125561.46089919312, 125561.46089919312, 166977.74898896093, 125561.46089919312, 166977.74898896093, 125561.46089919312, 125561.46089919312, 166977.74898896093, 125561.46089919312, 209415.6450979296, 209415.6450979296, 590398.1684941689, 118787.65956966102, 118787.65956966102, 101557.00985194686, 118787.65956966102, 233212.471515993, 304472.53680229094, 116337.84738578089, 846426.648001977, 153357.67721344894, 213568.9721969219, 108672.34949631903, 113853.22646418886, 107288.59032176565, 177678.85639219434, 118501.73112789853, 196052.32618293245, 130452.25614458467, 131343.72884498973, 131733.60211673795, 167577.8109077935, 149345.72565247223, 130808.38087127208, 130808.38087127208, 108763.17972363443, 155531.04154585866, 897247.4619254839, 111333.37764525818, 337143.7415039258, 569291.609337969, 81544.70809927268, 203760.73713077832, 141018.5530806924, 141018.5530806924, 169493.00157792366, 135361.5014013017, 118202.24869172787, 116098.88037041597, 104740.51538542312, 155094.61863607247, 159196.00312805895, 92218.93964709267, 224586.8292252447, 129770.34853865576, 175739.9913199328, 312976.5070349583, 151380.06492182083, 247295.5295976784, 388917.5042580299, 176770.25562548864, 150302.62932691886, 361850.3518195147, 122215.77136897304, 211825.7765561695, 556030.8680630089, 347809.41871782613, 317958.61824670894, 101954.28236831151, 108303.19692753705, 169405.9229946896, 200926.22734335827, 435471.1468597644, 696709.0850826469, 168184.54192524546, 148992.23831797257, 289850.99565168936, 550354.2023711042, 696709.0850826469, 99701.15678665595, 143384.53061617975, 245846.86562443647, 294102.9268855019, 242337.16706929653, 170094.65779971197, 122870.91481885524, 133085.42930451062, 202321.30456998467, 289810.2327475468, 142549.8977739779, 178940.51030832727, 131570.33180688694, 127360.69589300908, 116839.87871173448, 133085.42930451062, 155901.46205403015, 150409.95507594373, 150409.95507594373, 129303.84617743624, 150409.95507594373, 150409.95507594373, 129303.84617743624, 128158.53318261566, 150409.95507594373, 177774.34553366783, 155901.46205403015, 155952.80973426526, 150409.95507594373, 177032.6282175809, 173146.8508031753, 296728.3833164661, 179285.59731655568, 136185.1530802638, 138222.60954786747, 111461.93480838303, 138181.33557186805, 171981.05641921336, 153128.44320042367, 128622.22794943684, 154559.52378039848, 146855.63466432487, 149432.40930036732, 188645.2062549427, 170642.89207576617, 105630.87163821424, 168692.2300238345, 1056761.480314835, 241962.2077524314, 189941.84869078145, 411734.9627479381, 159226.657758969, 563524.5245235685, 225545.6290969064, 180531.77594671812, 131213.11283707464, 561309.746959933, 168222.39112419536, 156652.75239055633, 170559.42242736183, 317435.6729564814, 207230.58606813897, 132001.68768183028, 143100.59141188132, 168897.4578192554, 142361.90750293486, 201323.9244337836, 128461.71700033297, 117183.0920525336, 446846.11679631664, 92498.00419157876, 77885.83557234745, 124518.9721466698, 77885.83557234745, 64335.17012277356, 124518.9721466698, 75594.66222050716, 208906.25340698598, 96776.12288989928, 96776.12288989928, 119941.04582306484, 119941.04582306484, 119204.53406969011, 123307.95284182033, 123307.95284182033, 96776.12288989928, 96776.12288989928, 119941.04582306484, 118906.76455609966, 240863.63722401857, 229013.17979631468, 261796.73548007803, 181751.95767160572, 255257.58961782997, 183092.920614812, 149122.66613314842, 434891.38353250735, 215059.63441953913, 261796.73548007803, 196500.2122255084, 192159.1103070266, 265332.7990523729, 151575.481165848, 249862.77734773394, 232134.67580757098, 226920.1305820706, 150941.1259372223, 149927.9434588201, 131200.0847645027, 220857.9131031338, 238426.82476441585, 170835.17881302035, 253291.87021981692, 172208.24819242506, 163865.91352673882, 215012.23147922012, 215012.23147922012, 140480.7891266442, 170724.75079635542, 191881.30678129662, 189639.2933765611, 192257.3549944884, 194922.73554928368, 179490.09825801605, 203960.6213690136, 183092.920614812, 145982.0738603731, 168324.99987862268, 144949.88597042975, 145265.60558269467, 250732.0126524496, 231999.29131046231, 256137.0388139234, 235939.9542200406, 244804.37200545456, 163258.8960687415, 193943.3812826798, 189285.84389976072, 184764.39843445693, 164331.85330524697, 92268.49426282509, 141944.0062744719, 297722.5534206199, 1510153.2123331777, 151329.9248790925, 136119.33201583877, 185564.3874090251, 125139.01054036367, 167275.10565957284, 133174.11349624937, 148567.40255807203, 201651.61468023845, 94052.61294553283, 122680.65194540794, 135733.75678956741, 333512.0543796684, 218534.11541306524, 381363.7401332238, 339213.7582110541, 111270.3115952901, 180478.08537335412, 72280.3192956157, 100408.85384155888, 126358.0181423352, 113094.10869753044, 189356.88733960013, 112438.8830724817, 112438.8830724817, 81544.35321935303, 201346.9419084113, 127433.29447193842, 117485.55751542136, 189356.88733960013, 112438.8830724817, 112438.8830724817, 201346.9419084113, 201346.9419084113, 90313.56177970217, 90313.56177970217, 90313.56177970217, 90313.56177970217, 90313.56177970217, 90313.56177970217, 90313.56177970217, 90313.56177970217, 90313.56177970217, 98279.7279197796, 98279.7279197796, 97396.40611619112, 97396.40611619112, 287700.54909714457, 97396.40611619112, 124865.12603490464, 97251.94304016887, 110913.3300487865, 110913.3300487865, 126358.0181423352, 126358.0181423352, 81358.30876171599, 81780.76981626404, 196141.8655762425, 81358.30876171599, 92120.40673115707, 97396.40611619112, 93697.55924933156, 110913.3300487865, 124746.7989088455, 204230.793235945, 142654.64254585357, 240448.22219695646, 236340.50815411712, 178036.33487855713, 119371.21880982723, 166156.30433453902, 166156.30433453902, 165174.2651270426, 213656.00519900746, 167900.87861839792, 212568.15144637693, 105322.63920842658, 165174.2651270426, 166156.30433453902, 166156.30433453902, 187762.25042498557, 166156.30433453902, 166156.30433453902, 166156.30433453902, 218937.47362732262, 218937.47362732262, 218937.47362732262, 218937.47362732262, 218937.47362732262, 218937.47362732262, 166098.1493860756, 77782.66730040187, 144425.98957263684, 142476.07663035206, 112088.70051506055, 140376.2137586105, 114156.24896328873, 112088.70051506055, 142476.07663035206, 142476.07663035206, 142476.07663035206, 114539.96030065196, 114539.96030065196, 114539.96030065196, 145576.68480381212, 159115.7282422408, 135437.54366045026, 196957.60566764695, 129860.8738883932, 136866.83538941536, 166156.30433453902, 136866.83538941536, 129341.6968472015, 136866.83538941536, 129341.6968472015, 136866.83538941536, 136866.83538941536, 129341.6968472015, 145355.18466781464, 144206.79197175687, 145355.18466781464, 380012.65962775954, 158945.9056725335, 225619.4017893691, 159391.37357748122, 159391.37357748122, 159391.37357748122, 159391.37357748122, 159391.37357748122, 159391.37357748122, 159391.37357748122, 159391.37357748122, 159391.37357748122, 159391.37357748122, 159391.37357748122, 159391.37357748122, 159391.37357748122, 159391.37357748122, 159391.37357748122, 159391.37357748122, 159391.37357748122, 159391.37357748122, 159391.37357748122, 151385.88350973127, 151385.88350973127, 151385.88350973127, 151385.88350973127, 151385.88350973127, 151385.88350973127, 151385.88350973127, 151385.88350973127, 159391.37357748122, 159391.37357748122, 159391.37357748122, 159391.37357748122, 229253.29202538612, 157593.48453833727, 166740.99114258843, 211153.06941878115, 171137.65539553773, 127004.98391397175, 119673.52581867175, 103061.24615187454, 103061.24615187454, 103061.24615187454, 121860.37563590426, 123576.12299533363, 170274.7152746711, 173082.41693466905, 173082.41693466905, 183514.54532104393, 183024.50618539687, 118497.73063557045, 111916.93599854139, 118497.73063557045, 110237.27895350402, 351424.4311612554, 114540.09595271494, 93787.02663423769, 89675.70819121599, 93187.77944102595, 94854.87841465915, 89675.70819121599, 208851.31443083537, 142205.62132414768, 89675.70819121599, 142787.1419809109, 93187.77944102595, 124457.47706499542, 142205.62132414768, 137124.01919610612, 143317.8902681708, 126065.75452185502, 128802.06095519391, 151840.51227362794, 124621.90132015964, 123627.09126415617, 124621.90132015964, 123627.09126415617, 123627.09126415617, 129341.6968472015, 100314.06274467925, 142787.1419809109, 142205.62132414768, 168949.96191452158, 148205.33403139323, 148205.33403139323, 121610.6417589566, 110287.48332806087, 110287.48332806087, 234249.1202179517, 139894.16931428495, 148067.55857027616, 110287.48332806087, 113305.40855048806, 110023.89584337866, 123325.49084637174, 226500.6018149544, 137629.70666893703, 484789.45269696, 117132.67774862965, 584022.4721154503, 856223.4944260112, 102634.32449636614, 148849.44487906777, 150709.64507019508, 141026.9763016395, 130314.09611640009, 124469.91442401372, 150709.64507019508, 141026.9763016395, 130314.09611640009, 150709.64507019508, 141026.9763016395, 130314.09611640009, 141026.9763016395, 130314.09611640009, 150709.64507019508, 141026.9763016395, 130314.09611640009, 141026.9763016395, 130314.09611640009, 136596.24663898756, 126605.63587028414, 135002.64290350437, 121709.44609732032, 129341.6968472015, 339894.3784408972, 574808.9385217791, 1265015.704948865, 1413582.2450758615, 524709.2341303026, 687460.9942870867, 335667.25372266484, 1992655.2798897575, 1012972.0047659153, 286670.0919945535, 444105.9556325475, 1341035.0318553317, 627588.239171561, 1077740.8904813319, 332713.40521807014, 1005731.6430846114, 235461.51521195666, 614953.0357673994, 697240.917901604, 1863303.6834757044, 1001486.157826076, 1422375.9416000275, 1101651.8122145005, 514356.84609857365, 842089.3267571641, 212683.96759044172, 710145.6227311724, 1411470.105687642, 1554873.8459736635, 619022.0405298003, 267155.1228397962, 272023.24248458596, 235949.81867159333, 162548.54697399907, 393107.5445805437, 461467.2756959102, 533753.7019397747, 802418.5177371973, 204618.09110203688, 456381.53385145694, 114532.08357372986, 126918.76340954284, 88603.12089811785, 228340.63607768159, 203005.4746018606, 88372.10649489416, 110339.45329951461, 121046.65579228615, 110339.45329951461, 253331.0729916551, 124821.81272161704, 131504.8709181478, 128415.38432044069, 239471.67137145164, 131504.8709181478, 209837.71515201344, 80011.80216119972, 110444.56134278051, 268116.07019273314, 473193.1232340762, 120974.98111278715, 76140.03124390729, 88100.46028821132, 199679.6417544817, 92631.05455112504, 182890.8406459914, 102903.1209044079, 134946.01405372762, 156637.1450669993, 239430.27082093403, 143947.2372151007, 102903.1209044079, 205360.8384220627, 182890.8406459914, 450268.623100381, 102903.1209044079, 131504.8709181478, 149307.285707835, 685703.5790511286, 304724.0199364376, 102903.1209044079, 134946.01405372762, 371930.0516405308, 117242.45066400775, 471822.02738299855, 216654.9349354749, 102903.1209044079, 297210.8566474433, 131504.8709181478, 186736.91377581444, 377722.75772298285, 77329.20627809783, 107206.94429523137, 228050.52618450526, 131504.8709181478, 77329.20627809783, 178978.40134253603, 121091.40565944261, 77329.20627809783, 182890.8406459914, 125318.23165218189, 128282.2529254397, 107858.46056346832, 149307.285707835, 106904.34802125662, 134946.01405372762, 107858.46056346832, 131504.8709181478, 126186.36995983431, 93405.8742421167, 107858.46056346832, 107858.46056346832, 105477.61977213816, 131504.8709181478, 106904.34802125662, 348161.5923702016, 107858.46056346832, 154379.41390302742, 95289.47099428976, 104404.3515363937, 117181.25544049773, 104501.6547825245, 96750.51038383982, 107858.46056346832, 124713.97148304747, 117181.25544049773, 107858.46056346832, 96750.51038383982, 117181.25544049773, 184673.06033984688, 151725.65071421798, 107858.46056346832, 96750.51038383982, 157971.6588884343, 152102.66196959472, 117181.25544049773, 107858.46056346832, 285692.2826379052, 499429.3790422035, 96750.51038383982, 107858.46056346832, 117181.25544049773, 127474.18979542337, 131501.45000775918, 124914.43928396906, 133741.9131847847, 95289.47099428976, 162450.52530432103, 107858.46056346832, 124743.4863206929, 127474.18979542337, 117181.25544049773, 90332.75701108284, 440005.4589140632, 89593.3812420099, 124914.43928396906, 107858.46056346832, 95175.81112885848, 194079.51012223013, 77329.20627809783, 124914.43928396906, 110596.44171029923, 271359.30481156247, 77329.20627809783, 105672.61268447404, 213645.5936958153, 84472.99517916245, 77329.20627809783, 194979.28316180618, 96780.78771289848, 107688.51429077389, 102903.1209044079, 194979.28316180618, 166268.62349883653, 102903.1209044079, 400741.1415020676, 144373.09575564245, 110612.94772998618, 108451.0272356259, 123558.9525711545, 194979.28316180618, 209204.85101910523, 108494.86267731318, 167845.77198058422, 90361.66588488658, 114162.49133738401, 194372.1665376981, 116927.0069506485, 99138.18330754535, 107938.13660656498, 143848.2598279609, 95151.99978406072, 93590.98646870468, 96780.78771289848, 143848.2598279609, 105339.46634540007, 99702.50151475013, 169959.33948306117, 143848.2598279609, 143275.75450102452, 106904.34802125662, 120022.495323299, 194372.1665376981, 187552.90066102083, 509740.0850186837, 138949.33166107998, 124914.43928396906, 140863.27952341794, 741760.6465851103, 119526.85279303594, 544450.2269017622, 81334.00019092485, 95175.81112885848, 280637.5421393313, 96750.51038383982, 213645.5936958153, 132300.27874647174, 478128.60651976865, 305337.17977741425, 314905.56026410975, 96750.51038383982, 109962.2604921573, 757857.686346063, 169638.62207511993, 287525.28844217496, 605906.6062653229, 159873.95683207148, 934705.8821620701, 305633.80412081524, 444503.02022081346, 115880.05078323465, 169959.33948306117, 129453.43071018113, 150897.3168542344, 117181.25544049773, 404593.38424701337, 144440.13410463798, 474708.87459541805, 169039.5095131992, 110596.44171029923, 144440.13410463798, 450189.50317058543, 180863.22395820604, 108451.0272356259, 78873.47579087468, 145459.56651355693, 96780.78771289848, 101826.3329596848, 118462.45356415921, 442706.59388483997, 95175.81112885848, 106263.09320201674, 118193.57141258975, 526271.5768278366, 187075.64332861666, 95289.47099428976, 260438.02175324285, 118193.57141258975, 96750.51038383982, 119714.72955229384, 214642.1154349203, 139244.45656337836, 109962.2604921573, 138250.98329922766, 167727.86660240515, 292943.53687458864, 167727.86660240515, 148889.50572904592, 144978.47589159303, 430047.67609116697, 184114.71025613748, 213064.80377422745, 184114.71025613748, 108388.87594145723, 89293.225881351, 112441.89250324716, 246378.40853083992, 587441.2287146987, 119064.17826535628, 131191.79016817198, 175266.00107870097, 153584.74670029315, 152457.14350384515, 294634.21182620653, 152457.14350384515, 153715.84479261126, 137180.8904474017, 143275.75450102452, 113079.70673686596, 143159.3267384624, 336252.9478430053, 139174.08273433807, 124679.04096941468, 697999.9309166106, 183495.2462090751, 128426.93027633707, 876819.763646131, 246378.40853083992, 124679.04096941468, 140168.6103618422, 113118.96445678934, 895134.5986335557, 125999.77253679864, 149423.89791960956, 139528.9528554364, 126547.57292037601, 105477.61977213816, 115549.35858357116, 116426.96381061373, 104756.94006374318, 205939.38574254935, 157828.59884076132, 124679.04096941468, 107267.47361457565, 158579.6736156988, 246378.40853083992, 92311.42024491008, 650840.83961877, 157828.59884076132, 205939.38574254935, 126547.57292037601, 333985.3047885599, 161996.4230746879, 221238.71502252945, 124379.04516884017, 735004.8954588943, 124944.3195170551, 205680.47403199942, 94611.83087964018, 446786.10001659, 133507.27474671628, 112150.84174885825, 161241.97216463447, 150612.74687469963, 161996.4230746879, 112150.84174885825, 161996.4230746879, 157422.860523632, 119614.356144265, 161996.4230746879, 124379.04516884017, 133507.27474671628, 161241.97216463447, 320412.0421404749, 305189.04463446746, 153267.72877100777, 317838.2723374166, 753755.8609967044, 161996.4230746879, 178649.37562528544, 235612.74432496424, 92843.68473259461, 462264.8851323685, 478377.55172392586, 134792.94123385567, 133507.27474671628, 220992.27408263448, 696420.1838859972, 123352.59776959883, 115190.7991764165, 105565.39237605574, 1259690.4751446864, 110539.95426022641, 116491.80894934427, 133507.27474671628, 334780.28019269457, 496583.7697783893, 312866.77320190304, 109907.38440353342, 141275.26962032815, 400744.29958034976, 129166.14104168958, 105974.76639467204, 136156.65234718382, 279464.66220279416, 208669.27907725913, 270931.45780498703, 95244.6479258461, 96092.9237393599, 124379.04516884017, 142412.56575586562, 105622.01067581907, 301999.9090797506, 94488.05869253748, 86436.85881858434, 361340.01122565725, 94601.52811055072, 153141.3186761617, 177373.21465853803, 96062.3765124958, 199290.46235795837, 137570.89793885726, 109273.97466776139, 1071102.4602703499, 137570.89793885726, 509809.00746119977, 118914.2135000535, 115190.7991764165, 102293.35982779053, 102947.83933930007, 116491.80894934427, 102454.18553902282, 143053.74454486585, 183132.18054712604, 109907.38440353342, 103114.1239506831, 178425.05348420743, 206021.92508830497, 96092.9237393599, 454307.35855468933, 216686.5824332803, 208387.8068861157, 94488.05869253748, 191191.4436770008, 94601.52811055072, 1143605.3111247825, 288162.01275188476, 192501.03238152878, 102454.18553902282, 96062.3765124958, 370393.67692546255, 296153.0494936787, 109718.83218797881, 303110.5599486304, 167201.6503438522, 189485.37155666846, 183227.98476834915, 130982.11655251653, 240015.44276872076, 1151424.3166677759, 854885.289491944, 159338.6026636086, 135187.27420515544, 136589.25324501205, 138913.5775335952, 138913.5775335952, 148945.35232204688, 144169.54452491173, 148234.16118974728, 149003.6307241958, 148234.16118974728, 149774.22712272414, 137248.61299003827, 149003.6307241958, 149003.6307241958, 149003.6307241958, 98825.2202706825, 98825.2202706825, 98825.2202706825, 98825.2202706825, 98825.2202706825, 98825.2202706825, 98825.2202706825, 98825.2202706825, 160115.0479640323, 843012.9037484895, 185005.35931206302, 202150.0912382563, 119385.23780984768, 122362.50183563217, 97316.66905438574, 99912.88379983752, 101971.15911619728, 164080.61810668846, 113237.14208249091, 116769.70906747383, 247992.83990638197, 304885.24511337775, 1132469.9903131952, 155072.54139294056, 234037.0875441495, 193356.9623670678, 137571.52730090497, 155144.02603783723, 163281.86484755707, 141521.87028759954, 138250.68344536185, 158338.43647310516, 116605.9805225707, 244662.56706698856, 115382.24112519261, 116605.9805225707, 158338.43647310516, 115382.24112519261, 211458.63262137407, 133886.8213702075, 131447.8729713903, 131447.8729713903, 131447.8729713903, 131447.8729713903, 131447.8729713903, 131447.8729713903, 219255.25272009807, 228094.22786329343, 223929.10908668302, 218902.53873197216, 179538.13257380703, 179538.13257380703, 321849.8753903659, 179538.13257380703, 131538.33309431674, 131538.33309431674, 179538.13257380703, 133977.30231720267, 337737.5674916273, 332391.5832203376, 179538.13257380703, 325622.25605284533, 146291.53268208102, 137260.8106751417, 137260.8106751417, 146291.53268208102, 137260.8106751417, 137260.8106751417, 146291.53268208102, 137260.8106751417, 137260.8106751417, 146291.53268208102, 137260.8106751417, 137260.8106751417, 137260.8106751417, 137260.8106751417, 137260.8106751417, 146021.57841051684, 137260.8106751417, 146021.57841051684, 146291.53268208102, 146021.57841051684, 137260.8106751417, 137260.8106751417, 146021.57841051684, 146291.53268208102, 146021.57841051684, 137260.8106751417, 137260.8106751417, 146021.57841051684, 146291.53268208102, 146021.57841051684, 137260.8106751417, 146021.57841051684, 146291.53268208102, 146291.53268208102, 146021.57841051684, 137260.8106751417, 146021.57841051684, 146291.53268208102, 146291.53268208102, 146021.57841051684, 137260.8106751417, 137260.8106751417, 146021.57841051684, 146291.53268208102, 146291.53268208102, 146021.57841051684, 137260.8106751417, 137260.8106751417, 146021.57841051684, 146009.75899536928, 137404.98460789514, 137404.98460789514, 146009.75899536928, 146021.57841051684, 137260.8106751417, 137260.8106751417, 146021.57841051684, 121067.62499933993, 110039.68094068054, 262623.01814772835, 257254.66088058037, 135778.6614559975, 143644.72885724006, 236077.24363557005, 150877.335417459, 91891.2300655887, 381447.48131510196, 80610.81261992405, 88288.1562489357, 178191.90913285463, 178609.2641208936, 143375.58405161044, 284018.89604377886, 141652.48049728348, 94878.93660548248, 115807.8537819633, 176916.4465819409, 171814.33818213205, 123777.20656864869, 120410.24253136796, 303235.040034292, 166547.07725105053, 150378.16944790373, 209472.85029787244, 232921.13066604518, 150378.16944790373, 155641.9921061258, 157181.91056877584, 136822.7582566888, 117555.7860902812, 146699.12328039683, 146699.12328039683, 183406.12973527028, 75784.01812523605, 194077.8501684536, 121321.83552018995, 1298410.2572631836, 83685.17400639073, 279820.174383942, 139519.55726888182, 99904.64169650374, 223525.5252676154, 140685.03495977935, 139720.75379145087, 193322.57897018216, 133278.96709292085, 177139.12291232706, 287779.8347461163, 203780.10253071232, 186568.68446672778, 114412.0320685075, 120175.27329379719, 189291.70249125897, 208599.66693878616, 413454.39933149563, 252070.27494385402, 345512.3003889627, 299561.27578247857, 154387.43232660106, 184751.98826621321, 410013.4205399275, 405005.42574813956, 450765.52063233586, 382066.3785452314, 399678.08771421504, 189899.05617757878, 489708.11412620166, 84831.1406835788, 202707.24742039604, 150415.24342708912, 298698.2301898487, 207433.75322027766, 297180.6263384655, 164237.3888851243, 156483.7465966452, 170467.0004584885, 250064.86589013317, 178691.8828278, 128555.30846403338, 128555.30846403338, 128555.30846403338, 128555.30846403338, 128555.30846403338, 128555.30846403338, 489149.0698016137, 177262.6079591795, 186864.0439456785, 220256.89240327768, 202620.82932682475, 145374.51341648036, 150907.37315191905, 139263.99717903952, 244374.73387944323, 180324.89841421554, 164237.3888851243, 183582.40466097728, 266413.7321658287, 544872.4293504035, 93823.80920623714, 401303.026812557, 246275.1552363154, 172582.25867876297, 169038.87764723567, 295810.80483947217, 80143.90761522762, 186194.73498485048, 134587.9898576861, 189797.65761592463, 1669183.9527758986, 186718.05772480037, 249628.4992214377, 115269.73071230117, 278090.6472496132, 215133.05367500923, 171545.2393110036, 139662.11521608822, 208306.9278871247, 112910.4187107732, 136295.61728107324, 194431.77552586218, 163674.82870604296, 143163.63638980282, 66695.31784448853, 225067.44602611547, 67543.16648358884, 122057.78140536099, 105873.38405903036, 101772.25469262514, 217427.70360296237, 217427.70360296237, 198462.29075365182, 86608.50484447046, 188787.52352691474, 230971.5343994485, 151727.3220100147, 129262.8446681974, 121096.15558793361, 151727.3220100147, 160749.43395213687, 151727.3220100147, 150929.30729256256, 167518.18338938832, 167518.18338938832, 164490.18035562875, 80700.95562223224, 166798.1567857976, 221516.7019132765, 220289.8608674748, 221516.7019132765, 182209.10830377456, 87212.55232095547, 128037.79410356964, 119420.83716544817, 96745.29520425585, 158559.52635935877, 168041.50009323563, 200484.78292957952, 192628.88196739295, 282650.6844315341, 281426.2418227987, 206437.40279301498, 183472.3205685412, 123683.57200968226, 114895.97217845077, 116692.71199976228, 338141.5589524469, 202954.1567519791, 165372.86287722675, 197835.90462150663, 250403.36218508374, 309202.092307467, 304459.83456739667, 129194.52770945795, 128049.20273044406, 237852.2835832317, 110305.40585409646, 250571.52150115938, 150160.12747548288, 155651.81597376303, 150160.12747548288, 129194.52770945795, 200484.78292957952, 247367.4524975479, 123559.96390001746, 105668.55656820002, 117838.0363157008, 235745.67901208825, 128049.20273044406, 160938.36095008533, 125415.74586051333, 163773.41498817538, 169300.89027007204, 155651.81597376303, 482671.7307619811, 94338.9173897186, 128449.98506434, 167569.6021826363, 111637.80233054925, 111524.08073583728, 231354.23965380326, 139856.46924619857, 150160.12747548288, 129194.52770945795, 128049.20273044406, 163290.37379856102, 279893.9938842194, 155651.81597376303, 150160.12747548288, 241051.25354760682, 128049.20273044406, 155651.81597376303, 407141.60065436317, 150160.12747548288, 129194.52770945795, 128049.20273044406, 157421.6518705146, 247088.073480239, 338301.6074097507, 150160.12747548288, 116047.7302140969, 128049.20273044406, 129194.52770945795, 150160.12747548288, 128000.33026856137, 252343.78284762398, 284829.16780521884, 152449.8824959356, 365795.9237666718, 589720.5115963101, 179941.69711223533, 279121.48664845154, 149290.50274096784, 187091.473547852, 120813.62508108381, 168560.6488605581, 200328.68012261202, 141972.16250195217, 105202.10698313461, 236972.51046153734, 162961.30736759419, 266767.65416968963, 273287.63749726187, 123376.55545351839, 161692.37261730793, 424606.403397083, 97504.42369952935, 153207.6964377304, 213353.5515407281, 188744.15589882282, 135286.28181826713, 510326.6214670014, 510326.6214670014, 510326.6214670014, 78562.22774594743, 81691.24315316741, 149648.63419322815, 98940.35876636584, 145258.25758044934, 186879.41394747415, 163276.79187611418, 95233.82807998481, 184133.75515199386, 145241.30548188812, 294096.74212860694, 157396.24705817812, 207669.46708065819, 137260.8106751417, 153448.3775100938, 98263.06388387489, 196576.59655543912, 297627.26048843825, 196925.4447598917, 283082.8910324957, 131637.7624914344, 81441.39656862398, 249212.7625276605, 127662.58499280259, 127895.83018059615, 177759.45468235412, 270902.9767388295, 993299.5399970147, 993299.5399970147, 175789.22673154346, 203590.6475128012, 141571.0470043398, 197975.66544014332, 128645.87842781947, 195185.50632852668, 277325.4534324874, 277302.6309829627, 206183.33527846506, 341385.37645001226, 275859.0580927949, 396795.3499871853, 286572.03485072835, 463899.7958010343, 267909.34761305596, 325939.4530199354, 286525.2754807063, 185537.93728706715, 241454.81229874582, 225880.6051513052, 209066.74573455242, 177844.79451929612, 536474.6700474722, 165400.05249515135, 617098.5586149256, 86339.12932264483, 165463.1513177993, 173331.4057974571, 128462.94145492412, 112826.58215860769, 112561.80102226275, 191795.67560847278, 228107.28337612568, 128695.84661012303, 128571.87418022132, 305679.0639054415, 136178.79247789553, 206014.39624841645, 338895.70617283945, 323490.4696801714, 224990.86993743267, 129529.58917179043, 167020.99998806536, 161203.46853233522, 271084.31002810097, 138550.63809013856, 138314.92544333308, 205586.2527662111, 100062.01843773956, 81231.2440301912, 99827.21747724306, 244310.0932460028, 237520.30631435206, 126316.00678134634, 132952.56712204465, 126208.68417653898, 151873.21559922563, 132952.56712204465, 103982.04836732562, 218203.21060218732, 158424.38329591166, 1116635.5905553645, 102428.92227380349, 183175.01735228562, 457307.0295728301, 212072.58576647466, 417809.2236319136, 234441.7165546165, 336036.8157454127, 383613.97123146633, 189892.46475190154, 286654.3969443933, 208665.67123738266, 705816.3273394809, 285224.7355173436, 152270.85330180457, 459552.07159299287, 216368.94904630183, 157520.18549841276, 162349.4125213703, 156538.02858584252, 183637.57834642503, 82287.34407972236, 689486.8681910215, 442342.4569377981, 149045.08227125232, 225767.21509354748, 138404.14345464937, 129427.73901130227, 141809.69083345722, 287233.35139415093, 2109049.17990402, 128521.84899993095, 358759.7892948886, 335971.56222903635, 156090.23649734474, 171561.81885759946, 182936.7384343153, 120658.40850469236, 78048.31768776267, 104656.86754253572, 104656.86754253572, 99868.25316886329, 247777.41992497898, 131596.83638578793, 75695.6353931112, 101248.01044056375, 245228.54391117577, 337303.6591411123, 201268.1960706179, 101740.71685708608, 316660.8047712558, 102382.07422691709, 119567.15032511199, 271513.43449240073, 210796.56876466, 181335.874930991, 161982.7698744807, 294260.1127871026, 112927.23570742544, 242094.3882349931, 212250.89481387424, 165348.62906663373, 90825.46811314895, 133812.81838449507, 117719.98532963522, 194428.07173147204, 181732.75014821813, 205780.52689935797, 146160.03607583026, 268548.1636928659, 162565.07797653397, 378986.42298834096, 179350.29175183355, 127031.00449319862, 105485.08904622999, 355277.3563294769, 90261.23257981724, 313844.677471709, 221238.08521813853, 134522.85032953063, 524787.0368678997, 160818.8304853993, 314728.8342782351, 83577.07942365877, 223152.17798864146, 308686.3177790978, 338365.1802095365, 225435.63211882213, 207652.98413380154, 88811.63663339555, 115816.46525530565, 143925.63381873275, 322963.49373355333, 136917.84901924417, 449168.131457649, 181213.70110370644, 129709.6621033868, 180963.11311571454, 113321.02913895602, 128523.30119932094, 166191.31352884238, 243253.02229364822, 139180.692989067, 274330.814361653, 267156.0588960247, 287262.86211209337, 219953.18408115278, 108759.40328228756, 175605.97364390525, 473524.73768652906, 193218.48178856724, 180473.14376338603, 182411.4840293768, 132953.23718767794, 140208.25761452733, 196627.2787998796, 80148.17975534484, 114463.69732608729, 176691.83893627388, 123244.00962216203, 391297.028106748, 197675.51461022627, 315301.41735523235, 136096.73827335463, 136096.73827335463, 136875.83317959617, 161487.54406694882, 135822.68984858188, 137102.29779160095, 127977.21694406352, 136096.73827335463, 136096.73827335463, 136096.73827335463, 136096.73827335463, 136096.73827335463, 136875.83317959617, 161487.54406694882, 135822.68984858188, 137102.29779160095, 127977.21694406352, 145715.4822032012, 176338.59791261534, 184211.6001566091, 136686.80163840836, 184211.6001566091, 184211.6001566091, 184211.6001566091, 214426.62823604455, 176973.49172413888, 175648.27176291903, 175926.9224784049, 177456.74849373274, 222802.60111908911, 285251.837375303, 153234.3700019453, 309370.4850391486, 351976.4258613542, 288576.779423, 172887.66522680916, 225556.23261074594, 298648.99126971944, 1049145.610621944, 1241703.695195497, 1241703.695195497, 1046315.37497275, 1046315.37497275, 1069850.834002328, 1069850.834002328, 1069850.834002328, 1069850.834002328, 1049145.610621944, 1046315.37497275, 1049145.610621944, 792921.851870517, 792921.851870517, 1046315.37497275, 1046315.37497275, 1046315.37497275, 1046315.37497275, 153477.44861099924, 85618.13541280193, 185295.27495452442, 159726.27306148174, 139951.4364518664, 311801.04706882825, 395450.47193982435, 207776.73250125497, 215318.06366209657, 681343.6160806712, 180440.12258998436, 145299.36120630568, 211329.4570729941, 623938.3007135708, 162889.46710278047, 431405.7979963999, 253426.67498159228, 361032.6821455507, 699023.998594312, 325225.73556176363, 314777.8790819447, 3199676.9029320674, 176602.19270447732, 177678.23971474599, 177678.23971474599, 112571.56386092238, 170376.0673562915, 127674.09022513672, 188419.77569400542, 188419.77569400542, 137161.69001220283, 87440.0822710727, 236503.73527045455, 804832.4414950273, 448537.2104355225, 281145.8486867202, 210059.84761031036, 164583.45426812003, 173820.80932948698, 256104.4060601759, 131753.19616129636, 369178.4227333549, 235780.55601808443, 131408.46382334607, 83377.12800332469, 70563.47741725326, 148484.96934918535, 314264.57289857126, 474560.1901447451, 332361.06920195447, 335663.48635890346, 173933.57672092455, 201235.78983124235, 186733.98752869142, 131962.5969818544, 148930.7546076188, 120271.9936087509, 195899.03329899342, 306072.11541592225, 94479.06549026948, 106833.51241854689, 168747.78055048964, 148536.04373758644, 214649.52795670283, 566913.9474417343, 249058.130028765, 176146.801274573, 358060.17787566665, 240998.66291949415, 214718.56984046416, 88859.81902613866, 113027.48072552899, 172431.25919757574, 113818.24016734435, 155696.5675008372, 120211.3956669237, 215994.12844999248, 112473.8580307922, 530403.5517990314, 312865.5880557873, 241083.3435348764, 376191.3866112173, 429689.2400585814, 168957.5377775825, 220701.8964141852, 173866.94912847062, 93206.84869713745, 132717.5885152472, 237480.43059203896, 196952.70996835965, 201495.34135002058, 176382.43716648794, 384417.51619429665, 198066.61907168082, 213453.09827374655, 229423.03306663665, 462107.1268816075, 332546.73321393563, 118467.62556183967, 462293.152873516, 195685.9491459786, 476963.6007697954, 149977.96762005205, 454624.81613706786, 105705.63249007887, 130554.32215329315, 175282.64546205587, 455257.700350971, 179444.36528416025, 298827.37005848944, 183753.5461301371, 140320.59310917617, 234350.33789324402, 473820.81562780176, 193086.31242833642, 155565.00685772218, 111416.75487661913, 141777.1080116728, 172336.47980118718, 138994.39524006518, 238972.0975339213, 143060.40079729637, 193332.94882103452, 311061.9611761299, 131610.0601263838, 285677.21573028277, 156196.36688641706, 296751.09397816, 217324.22191467058, 153575.52712337888, 156251.98733026168, 144456.9751098692, 124066.22933356444, 235126.93116252671, 202340.3791861973, 114553.9022823454, 130998.85617601092, 137457.77186932578, 90082.25726534391, 137579.0041063016, 136765.0814648425, 324820.08745035063, 168645.05416887705, 157793.49973039373, 256985.23668532932, 196684.70819303027, 137762.7643179578, 141713.4641267181, 141713.4641267181, 138523.4916443549, 79409.43266880861, 373739.1434120886, 127684.60362522565, 133571.21575563663, 158835.62253253325, 232822.5771181574, 190972.21301099585, 133536.3883569095, 82331.60118223571, 109250.42570189381, 86382.89013673177, 158856.7077952146, 197528.2431705176, 252908.5472543953, 182710.16084060597, 114455.41488495158, 1120537.9683570887, 267122.8034920348, 244438.46259454373, 207600.48558714084, 145491.4700803284, 307645.255242239, 442856.8204370899, 430012.5904461353, 131954.54851822052, 298196.4393915055, 142881.78323173407, 203123.72352316894, 521473.7012749072, 233681.30408369098, 189488.61758821906, 167299.07092311594, 199907.64433460636, 75626.45446880227, 132456.93786809884, 160355.72793061144, 180806.34464714082, 250377.28996569212, 129186.15117095958, 343737.5967433933, 128729.3693757134, 117703.19934317905, 141590.61971185275, 1473416.1086020505, 151686.40241452755, 124242.67374437972, 1263902.0752714754, 289620.9788671336, 103984.18472518797, 255072.3949200518, 92380.26386943679, 79176.62199522948, 99162.67862522112, 83881.032477987, 213435.2766550994, 213401.056601162, 154965.90688438504, 146756.2900149589, 158962.11956219122, 158013.00028331816, 164429.65075161113, 149959.75641733402, 121867.30221655106, 200258.21454545663, 365046.408467494, 124736.9415559758, 247664.50804041684, 75527.81462764656, 105530.9617852417, 165556.65405328767, 188500.23199895112, 579210.9308523713, 509651.4847245975, 239619.31533822068, 263181.5631675059, 431921.3785026068, 89176.52864363045, 174521.1957992921, 87890.69862580224, 413888.6676732229, 89888.50024327767, 216494.3420502531, 175572.7487962273, 485694.7154939575, 103410.79579538312, 265897.16870533285, 246109.9962226431, 95772.71643905503, 130187.39765355628, 257657.12974842128, 611580.4679996572, 192321.63926356935, 1103181.9274008998, 1103181.9274008998, 789687.9169618742, 789687.9169618742, 1041567.091995088, 1041567.091995088, 1041567.091995088, 1041567.091995088, 1241431.7197888442, 1241431.7197888442, 191881.85799284355, 136218.25849706255, 151953.9249157135, 172523.32116465052, 177055.1073728883, 162536.44278236316, 205687.29605910764, 407282.8146596773, 192298.3006162978, 180578.34282157628, 188490.90754701383, 459057.1779645921, 290756.23753082164, 171887.07978590755, 185838.50869628746, 118858.80207787192, 144975.80633128007, 245821.0758510504, 138142.44381554466, 115942.53092528015, 117701.05876579246, 117701.05876579246, 117701.05876579246, 161307.12636923624, 159771.7795458888, 348370.8011140149, 113801.28166284307, 243580.60716774687, 194554.70847399748, 192298.3006162978, 191881.85799284355, 144154.9572449737, 124964.95593436272, 164130.6390031707, 126664.92307244036, 111043.94647638552, 178349.6619744438, 217300.64007720136, 274045.78317184706, 184820.48217348574, 147556.31817551033, 659934.7902213943, 243348.76308586387, 167909.49320575682, 200333.84454010503, 91439.23291065481, 149402.49395661138, 132072.58845023022, 82394.8197345487, 184297.96939660513, 239056.6699497817, 345141.7655129016, 172503.95733249083, 156218.46874367137, 790256.0830296468, 190176.54822310028, 128375.20335135999, 291318.38817888696, 516633.9152032525, 168086.9846424822, 212880.95519619994, 460837.42300850444, 147548.0205890772, 420353.4583942557, 131094.39924013236, 96268.55986463958, 258527.0252596804, 301186.04095604, 130118.87910393534, 138929.5507196182, 210473.6398266119, 265463.3861810906, 187690.75056605766, 308244.52882161277, 258524.7340857891, 129209.1224728669, 121067.45842145348, 140948.03256405535, 200739.71290992145, 123852.68439049654, 313755.37011912727, 289496.75044631487, 202343.478310704, 299909.9022847233, 215594.32531407865, 282971.35048506403, 103488.19291003549, 106539.90338508296, 251458.01667103713, 874235.840873599, 110712.99744048015, 99295.69796595084, 134468.18169073007, 100139.51384856386, 97519.00368483721, 165263.80095765225, 170126.91615797373, 227479.36950107705, 154496.7409610016, 239629.98370653007, 235687.73383577948, 100047.00813066383, 198016.47388867868, 415919.1963271594, 88782.71269018759, 158369.74666615855, 155258.4389797591, 80334.27646403227, 88782.71269018759, 230548.41496911252, 272081.8746512438, 312763.76591548783, 153388.67257925522, 174917.91177066904, 88782.71269018759, 140077.50695133358, 95831.76410843158, 71551.70563930023, 87349.19700826381, 189849.8766810217, 114014.00589240002, 313001.7648130234, 86250.98396620488, 170164.58352371355, 170776.35252231936, 396532.21406031883, 276988.2056436559, 412467.15796530514, 88782.71269018759, 88782.71269018759, 80736.77170993175, 87449.34206778473, 304160.78429043293, 162150.46333852786, 320554.4912585046, 142924.67406750162, 84730.21656522859, 71198.61950705541, 195162.4991519219, 87344.87769189908, 71198.61950705541, 138312.0696074076, 84611.62957441274, 224639.33090484075, 112934.60188595686, 116633.32750367624, 177955.9723454503, 180945.61598608928, 181364.535414562, 88318.80793108615, 117627.8805114654, 125836.57425251068, 420528.1948696717, 201057.3387339556, 100047.00813066383, 100047.00813066383, 72758.97213682457, 97202.17257434607, 127260.6421603003, 100047.00813066383, 156247.39455214044, 174060.50635708828, 100047.00813066383, 100047.00813066383, 100047.00813066383, 165078.26524203655, 104175.45615115161, 125850.41394610272, 142924.51990116976, 116890.7960317307, 153731.62731667748, 123009.8685420803, 100047.00813066383, 239062.29814290977, 169603.40086578083, 75023.02947755324, 108735.41871449596, 180852.11103095784, 88318.80793108615, 130215.04104332204, 129924.2300798044, 120608.70430992101, 120454.05008357615, 138384.31713667643, 188853.63604921335, 165090.39399257815, 157477.8269386716, 204367.0091441566, 370226.40003706876, 175988.94144632557, 84629.74074152876, 76515.2963272818, 76515.2963272818, 252824.58621358033, 128068.9321360342, 491005.08436525177, 100047.00813066383, 226763.28408482214, 100047.00813066383, 100047.00813066383, 100047.00813066383, 100047.00813066383, 87185.96910535132, 129075.59700381912, 214286.59706416953, 87136.13335944111, 272304.88282907696, 587088.3919135167, 86911.40948303578, 87533.158922753, 86911.40948303578, 86911.40948303578, 86911.40948303578, 100047.00813066383, 100047.00813066383, 100047.00813066383, 100819.0665745663, 87533.158922753, 214286.59706416953, 186417.27498266715, 87449.34206778473, 317234.395129898, 145245.13411303292, 312675.2821915747, 108218.20721560437, 164884.7336823995, 338050.41979304515, 81834.01481639892, 140077.50695133358, 312238.478477367, 439145.1107537027, 80334.27646403227, 155204.56053411873, 125665.5841906164, 87136.13335944111, 243965.62380732642, 92037.18250801066, 412529.34639602836, 129417.0198565149, 172077.7598966991, 100548.4810306164, 137357.4640396973, 100442.973849744, 157175.6051716694, 202615.21909793536, 100047.00813066383, 171957.89013526982, 109931.54069280479, 128280.56393858802, 475489.68886190554, 142048.32759159373, 287009.08267014066, 110216.64173753496, 107968.85070154065, 175408.48816403595, 99690.60752398938, 104330.51599733027, 181214.49944461446, 443935.0489842404, 75938.66241230172, 166449.0760036597, 145948.2770651995, 291152.3394729749, 191752.12568741565, 114014.00589240002, 108735.41871449596, 108714.32181669939, 199126.90550506432, 145948.2770651995, 100819.0665745663, 233270.87577876257, 134937.06627577258, 279650.78331158316, 139130.26853802838, 192139.92070544537, 100047.00813066383, 95456.73480604883, 88318.80793108615, 88318.80793108615, 127260.6421603003, 127260.6421603003, 122865.78314608503, 90255.08223367868, 100819.0665745663, 587088.3919135167, 175103.92899007798, 160270.7420824301, 75065.87587613691, 104851.21900762714, 104851.21900762714, 100852.28808650546, 256163.84194691209, 103116.9605089487, 109993.61188187217, 167305.0472530783, 119668.42424468238, 141343.8221613557, 204583.72485230636, 131704.77996741323, 185548.73472139527, 160820.93503337703, 181445.39849153755, 192824.31989355246, 302286.84517417947, 404406.1061281158, 107715.49295508265, 104848.47418793861, 85060.858084576, 156487.63501074564, 120957.28235568776, 120957.28235568776, 168192.93454487636, 163254.14347114923, 112699.50229747724, 172161.14412970742, 86556.68394567819, 173201.65071893745, 84416.10693109035, 123877.60889756883, 119249.11228821205, 87969.09359742037, 87969.09359742037, 236170.73589153663, 236170.73589153663, 250181.4471643991, 250181.4471643991, 163280.8714828372, 86405.0143972048, 86556.68394567819, 86320.36492552416, 239031.1939719171, 168473.0103756321, 227321.37428716468, 147359.17917139683, 224041.52912469805, 132112.37468794134, 440760.5935718414, 201633.39249240636, 329202.65879638493, 122845.04049859784, 126906.71504129708, 126906.71504129708, 127260.6421603003, 162931.45883594087, 478484.47716058244, 148330.35882176016, 175080.3364676641, 125082.96362809376, 126906.71504129708, 155262.41117322273, 241286.85808122726, 129227.41830776253, 162174.10563753278, 94623.7417744789, 232704.47460692283, 163120.93237939454, 167701.37123710272, 89262.26097046174, 88043.00559308172, 113150.81252176901, 138838.88212282135, 239060.8731683505, 160052.2155659243, 169731.02503027016, 86408.0073733728, 169271.67139560572, 1605018.141725863, 507630.1375976719, 500209.5621475925, 405562.19804357144, 212282.31151235226, 897648.6369542221, 253573.60932959302, 264148.82650290336, 214700.64363396127, 119341.8663650181, 227191.58680942358, 199398.13661203696, 349268.54705407226, 234211.49019034364, 347140.85085294157, 142610.24732849794, 525882.2684780355, 2916473.4898032574, 220018.36366723548, 393788.5295632277, 342074.9358022698, 130025.77027902895, 204345.02856933424, 130866.5000495093, 145141.2141943397, 180445.81671027277, 290036.6315575905, 104292.47106967919, 218551.70647424101, 216692.60643878236, 684860.4070727937, 183274.06913468594, 239033.50105797692, 438582.0828885629, 260539.94594731784, 366125.80562786467, 342074.9358022698, 213628.63594946134, 989467.930456197, 259488.11591054406, 166372.91192219654, 161006.27814478325, 450691.0654963383, 149646.299570849, 127322.87079191837, 569439.0665182906, 128674.45754343763, 685858.1700560752, 128433.74689567015, 128433.74689567015, 307244.9913440827, 476222.0029867125, 220941.05107864708, 130629.58269486262, 112094.14502519014, 222629.51710345654, 181306.62273288015, 125280.43532632382, 445383.0462868922, 244911.0737758297, 318599.2500848013, 193987.82585586753, 100512.83406299239, 300377.806014567, 237964.4844006017, 525732.0801458802, 194908.36152363213, 158649.0115581016, 159619.22274929815, 125422.27889243166, 164703.40362311984, 123809.12856125922, 265123.3298958087, 84709.57290353587, 122793.96730858128, 214164.82155731527, 294928.89368443796, 159329.33761344635, 304705.55300023634, 162095.7529762368, 197122.9790863702, 116860.54216988319, 504132.89069447154, 194194.2514550745, 154249.20834369224, 89541.09311253863, 96385.6378224012, 141285.36748134939, 205574.87722591785, 236655.4160188197, 134597.0604114483, 181908.52633255857, 168088.7056171375, 142966.88330237038, 739624.7793647427, 714351.417058215, 159885.9816754753, 238587.2392096343, 161093.66351861454, 168067.70884258242, 167626.69984272472, 79500.78805818166, 146194.85800134612, 295358.1255753681, 195771.49640736252, 222001.2325323187, 632515.8123028036, 133380.93244302235, 197468.38821852632, 200968.75680101218, 112861.53816946554, 179136.75648267285, 125572.6681483759, 146861.9581580325, 167468.20105256, 152072.9075692736, 271890.2662752889, 121097.63658582719, 186359.0084696742, 119769.88042839456, 216158.57117530977, 892806.8640279355, 377441.35332757066, 161897.54683602636, 338830.165533842, 148929.4767718507, 254676.9447133409, 97131.86853135121, 104174.04488630153, 101777.79889292736, 590755.9939661017, 132683.01884672546, 226267.8614862563, 176887.37913540943, 1104225.1796981972, 205828.244009715, 84736.6485919427, 194628.03535898868, 275077.54418469034, 182351.93878034732, 167960.7735131318, 84538.18050276865, 139917.82405533033, 278598.7551309996, 1007924.9233269738, 293886.51292556175, 586216.2593529485, 464683.2716933118, 195752.8238055931, 162234.50715674035, 162949.44340904895, 202255.24949291925, 183801.51330402016, 402253.77281307953, 171889.8780592954, 373537.56831444305, 135119.70865021064, 129730.53320849777, 148932.52909972443, 236628.15658575523, 100291.60918685354, 119225.56762421715, 110748.11809718245, 261931.059551749, 136130.07429254398, 153056.97756492277, 167936.44388427155, 257213.0913866948, 1772856.6993361395, 184104.30285461806, 347632.25128077925, 293103.74505811767, 131722.92321054745, 213371.6815825917, 101026.47838777376, 67385.53696861886, 95953.77832731864, 83753.70786868935, 81678.07227770443, 146982.25614591842, 452236.23555534333, 120627.91440903879, 357761.4416210487, 119960.68897833387, 310187.98948428873, 137624.31812435295, 249299.37416180235, 334959.5181229126, 279525.5244292335, 151793.13069158435, 274865.8825288201, 163568.1591987026, 120428.31604218454, 128610.08617218748, 77747.49351184384, 128260.12941679744, 323344.78511096886, 145781.55781111505, 145781.55781111505, 145781.55781111505, 179571.43213764293, 165156.654576129, 202071.856829176, 202096.3847319794, 158593.2303149579, 139843.64501603233, 150411.98952296222, 202682.31238103405, 127902.95093730025, 127902.95093730025, 393141.77769890346, 151871.94176820864, 267037.0034648637, 224503.8118961745, 134014.85585519916, 206997.68096372494, 274605.79207024403, 301124.90559904184, 269589.58866824064, 107447.78067397643, 147687.3589902655, 198192.91619023436, 478169.54030341504, 126567.48150184409, 129772.8951912529, 129772.8951912529, 134854.86049740374, 137273.11156119357, 129931.77376019233, 175724.20578221296, 338871.31016558467, 235538.45107939272, 483626.160329519, 202778.53768314322, 209392.8840214106, 217639.77055473538, 147013.63208935416, 225322.85698016104, 167995.05963061872, 199302.44572885038, 154053.75776576385, 140516.7178170318, 93275.78277503172, 139465.12035297544, 1048674.2757428328, 128380.27728990633, 152192.45933926798, 345076.49579570576, 81797.27606230527, 151537.77450870213, 133739.6272659889, 133532.68346202516, 498659.3848109941, 148908.3344477078, 382756.4421888702, 123622.3507252307, 123622.3507252307, 155498.63497705472, 239018.68159740252, 147820.1597054777, 255076.35340978726, 232391.38022149308, 144141.44128447236, 149889.7251084685, 149889.7251084685, 149889.7251084685, 144141.44128447236, 144141.44128447236, 144141.44128447236, 144141.44128447236, 144141.44128447236, 139165.35743858726, 139165.35743858726, 294292.46436252655, 217181.26919959643, 788728.7260052986, 164647.51202677237, 143968.34520961015, 135158.7256471503, 143968.34520961015, 142844.0907898315, 152196.73184702388, 151355.2483137701, 177483.818471629, 143968.34520961015, 143968.34520961015, 223582.31023374345, 124666.90582124994, 331661.7497615125, 359713.0760267675, 306216.2440010846, 326657.3015428612, 116879.42774808119, 193799.79014646335, 165570.1120173828, 185845.80213668742, 187531.3538755713, 115581.18630668134, 143354.96075449573, 174735.78435214987, 174735.78435214987, 121273.5323298421, 301703.5233397827, 239738.47209661684, 254516.1785817251, 263659.65402351815, 298933.84552666836, 115673.25471099347, 265184.11306948506, 227204.7436148796, 213917.82147455518, 176546.87532840733, 280403.27615218115, 429494.4628123485, 162358.53549317617, 221704.5576052811, 188889.56066238732, 215345.66427675541, 546854.3167977954, 219372.9835976818, 98595.7333938891, 173669.7368634101, 213173.1580628013, 237766.24999957767, 298377.1728610109, 314097.0549125505, 160009.76236517733, 127871.40835870718, 130732.71501235534, 213917.82147455518, 464265.22811786144, 259649.43790001184, 255699.64935042858, 176509.19055856112, 176208.10907420024, 112442.9369895148, 218853.50006427366, 130674.71080554766, 131949.60567579456, 131949.60567579456, 133577.8669778706, 143041.04695397543, 145483.37294648116, 178695.81247083214, 227220.138614609, 209292.84536977363, 173372.68878800637, 376697.76718610886, 455842.5629796606, 170352.61148334146, 105225.48746307296, 231428.75861489528, 1215837.1131799747, 132455.86357478442, 802164.4511554462, 181301.25134057674, 74313.17665642027, 94369.03439572654, 149951.37832128434, 83861.74598504644, 107211.10258816893, 98988.20742701941, 363129.51670379273, 126789.76358032336, 91401.37501595198, 212931.07778737842, 142627.15864283787, 128735.87635649726, 252375.2805826161, 114919.31805059662, 424806.16717069095, 123826.54527193657, 129908.64645695011, 122076.09924147194, 212056.75726475377, 97849.66540426666, 88465.28918011833, 264727.412238617, 68067.99604279362, 84651.20398535987, 96212.89277333391, 225777.34940478593, 193528.71423163207, 463458.021006849, 632542.5381832505, 452666.1189672348, 180235.26125407705, 123584.78930871686, 160408.10431506188, 245453.70543582347, 360792.3152518886, 149210.36802773314, 195054.63544924086, 395904.9049000984, 395903.81616255385, 382017.5031097735, 395904.9049000984, 179216.24634089158, 176622.90111861198, 167284.42327943436, 510673.56906720286, 130560.36477712236, 318610.30633183615, 127397.19533417949, 110462.53093167946, 357791.36521703226, 98415.44227666546, 174735.78435214987, 174735.78435214987, 209036.01165230697, 212272.43273650194, 157145.8461425884, 203036.37584347537, 183994.78168990853, 208804.047976096, 447245.4346425909, 231004.51224653423, 134143.36820612682, 246992.21222432127, 152221.12142902578, 282256.5766129721, 242420.38056801652, 1164748.6117640368, 176423.38358824226, 189411.24583202656, 139806.91333888803, 179346.69496453315, 111986.36831889438, 98492.47741244477, 128821.08483904337, 154980.10449275648, 198626.5702731279, 214474.40118074356, 181611.97406039384, 117265.15871594519, 147902.7899669853, 231281.69262183804, 170080.17657265713, 146716.70497081435, 71265.20331360065, 119240.20829929019, 94873.21289379805, 94873.21289379805, 204618.2124905259, 183421.81404255854, 121056.65820768033, 122802.61433261412, 200554.58145847917, 122739.29494576139, 140088.10165461007, 261623.55347294043, 261623.55347294043, 410739.9138223802, 147349.8040723736, 195333.1601777475, 183051.08652095377, 139958.88935424696, 110333.96768734428, 202151.4350817356, 213813.87489816156, 120249.2531972875, 251377.58505039135, 147291.07364578097, 125833.98049920613, 226752.29133742893, 399877.35615447484, 201499.7045487066, 275597.15260718204, 137550.7904194538, 208327.99861594147, 162279.7647779049, 401440.2914467302, 242405.27002808548, 641995.7497828943, 200347.21836979303, 177708.23912475244, 539218.0054614223, 153095.00705370936, 283006.38679212925, 523518.9274819775, 508632.3421859954, 179884.5065747646, 180273.55815298855, 128748.68328238737, 150700.3866394672, 266410.48677602044, 360905.6614425675, 191262.54503266688, 252964.82218414877, 208730.22492559496, 129675.65039699357, 155290.33274292643, 179374.4340069705, 249860.44753250168, 581538.9045462656, 227922.32010221004, 213374.520248768, 121247.9067046556, 948678.0983103969, 769463.4382824546, 216193.04862462985, 630818.7781179502, 174695.52202693303, 369595.3270587112, 633449.7014180679, 472831.7477811547, 384622.95080505265, 154420.64687067704, 160144.77383586852, 73378.24757426327, 246855.50304648746, 238164.33401566077, 171551.45103082436, 87303.73511188108, 164460.68009647488, 138485.17156944633, 72487.9659309095, 159024.62680657674, 218427.89750324964, 242735.70119473693, 60304.769640074, 110919.20927964203, 816954.4134118296, 137978.85459743842, 196383.5807824271, 93055.74877315098, 81526.43224531488, 88888.93929817653, 168665.62424364663, 158774.00854351395, 579005.4169349547, 95941.97472968767, 267870.15134673734, 168780.03156990785, 289144.4995475954, 176190.7955047834, 534192.631839303, 485982.0890242921, 283745.46113128634, 88828.29793874928, 88852.95698648234, 212291.712241795, 247125.21338846808, 116540.49421959359, 239016.39002716437, 270984.03219376574, 211543.76838219268, 148364.6142642593, 94768.07883970032, 126010.2638694096, 117248.50557315699, 70436.87258147808, 236920.63244441486, 169872.79880624294, 208130.9542681746, 497027.1575871248, 558505.1221249837, 167048.29979242434, 119147.00779434448, 119147.00779434448, 119147.00779434448, 207696.96468332087, 167048.29979242434, 134090.91251089209, 119147.00779434448, 119147.00779434448, 119147.00779434448, 167048.29979242434, 92027.06005544821, 187764.50096915592, 291432.1954614421, 220402.65997067976, 223489.447951998, 223489.447951998, 230494.29967630995, 396844.81861141964, 298184.2290422213, 238540.92174586392, 153572.31628188334, 149410.41521159915, 378676.02901432465, 363945.95332481444, 1044006.0411180548, 341419.54090649355, 333837.6016138232, 442432.9980629427, 126283.48204736381, 183495.92714565212, 704267.8609634414, 223972.38640831702, 585379.2721833402, 139282.6199662545, 311255.56694933807, 173744.82672463468, 189495.6875931305, 357250.65931575483, 134871.8773200433, 137904.57716283796, 89365.79872968647, 175243.60212436484, 125819.04482903979, 800468.6761632122, 230486.4944298901, 286111.1347618264, 113061.52783731438, 254850.1313828109, 129468.9405360542, 82884.62328144186, 201871.48589278854, 230365.3228973892, 133467.12084793334, 550893.448207558, 184215.1018723401, 149098.68927995558, 342420.8660686349, 164956.7506548366, 120262.93711255427, 121030.48701159784, 73810.5377027349, 77424.9114126217, 217644.3669585257, 183334.85067188484, 201693.31827208103, 234484.1217846927, 203924.9883596442, 213912.9515971142, 165599.17361689385, 134328.75310748926, 205316.33935679507, 340114.094904557, 172903.53927373397, 209368.82881150875, 121252.8564340419, 100806.2495620086, 177445.18949441664, 303591.717720655, 124515.54226361692, 163263.5369416886, 313763.5021702242, 131475.42131608957, 145233.05021343858, 187434.662486086, 200938.1705559407, 90270.42669098682, 74461.52785306725, 304805.4475506557, 193284.84015427297, 314349.66514822934, 78126.25032001201, 83297.63904158368, 158204.60847795487, 131551.98509540316, 119749.30051271498, 120266.8838613716, 94939.62577553073, 522622.9636737441, 106969.8541880522, 131936.06167005305, 263649.2436027101, 99726.38503459551, 318582.68348106137, 253179.62479967665, 455121.5869651465, 159933.9400221468, 276586.2736281365, 92500.22844268128, 94641.15378989125, 93284.42355584462, 188165.3574796997, 128836.89507287431, 214390.10861745436, 122395.97868154357, 122295.96918996381, 147068.79044327477, 397279.4125381765, 93831.08556021117, 241172.3946938737, 290361.4455404368, 263419.3582409957, 145135.59778783203, 255053.66033964956, 105289.7130609926, 144528.47406686438, 287522.7496436227, 292644.09443026886, 128534.02218988027, 225702.32017363657, 122874.66867623635, 198088.03403757064, 126457.19819665432, 163515.68028435844, 315344.7991884533, 165628.53845397284, 103810.33419828705, 103810.33419828705, 119970.08344767484, 216844.1071702838, 727868.3447554572, 727868.3447554572, 1128604.6515687918, 106416.1831064401, 122009.90156770151, 118156.49221703812, 235047.83486859512, 230712.64418474684, 207573.26639510188, 201830.649000721, 167379.33442787558, 354796.7981078375, 121851.26450049656, 140194.83421412937, 128289.11160784337, 610295.2943079323, 169107.46032367973, 452790.87850168074, 340468.15077201644, 205303.09932337765, 118622.05136707256, 118598.54549914278, 103656.82820007039, 117553.02638351027, 103656.82820007039, 103656.82820007039, 211273.61592969543, 537286.8033178905, 77831.6032392387, 265452.46657054184, 127208.35973019693, 103656.82820007039, 152356.32914865663, 100104.4493111934, 160388.43528801776, 219007.20157173072, 131901.31367655654, 106415.48308061417, 89995.7137931469, 174275.64131462845, 117600.84166208314, 119294.08338700201, 138050.34232909323, 191347.37645756072, 132614.26999947114, 190511.29253209961, 300680.6791855652, 202357.17723994004, 91191.86694009486, 162311.7507701991, 378216.6856419727, 180265.96545994037, 190998.8837562714, 280498.0695506791, 135526.59462306305, 88052.01761421264, 534736.7832315059, 394395.0968274784, 482177.74120523536, 367438.9596415874, 159580.1363862371, 175328.1711418515, 237980.73195920745, 124969.62281069538, 412402.388126427, 220182.52382148465, 233993.71032797487, 109162.92392691903, 92161.18087564824, 119978.6720067243, 172272.5022431455, 86846.01672215354, 92161.18087564824, 142626.3775441357, 239207.86072621078, 123672.42355014873, 92161.18087564824, 234105.8202970061, 84982.11780759253, 84982.11780759253, 84982.11780759253, 195663.25038342818, 105651.64729044642, 107771.66880097546, 96531.54002522849, 350597.85552595445, 101942.14651085612, 185620.47771345387, 106119.430297839, 137154.43333836488, 119633.52699623888, 211455.17757725567, 181697.64724078213, 190040.12272722175, 148751.4807254112, 153219.31868669367, 191420.7264840455, 120993.84733045957, 235294.48641733738, 104848.11622477861, 118120.48733065237, 238359.99331834755, 415384.9013768226, 137194.50678937937, 317393.075385369, 214282.60011328297, 233725.8890386931, 228332.61867897795, 175584.617278138, 175584.617278138, 175584.617278138, 189209.20976238002, 189209.20976238002, 327876.92996850965, 155002.68648427515, 217401.0000122441, 98986.37534925077, 174283.0587879226, 547247.6142715563, 154948.52626789134, 159901.98483886494, 97232.55231391784, 274048.42339802603, 135728.68716871075, 150636.05576351052, 73628.23181325884, 134294.33093810693, 155504.85304688953, 204129.4548102201, 243693.30980926863, 132681.93775077083, 371777.5238773246, 371777.5238773246, 432923.56238873675, 83847.7359381576, 184239.8772315121, 205235.7195167875, 231862.0713104946, 127693.95973282836, 285896.9075622391, 262443.92578627105, 153995.53316924712, 207482.09360495035, 201202.42912728293, 185993.8681174913, 193064.12798677952, 124335.84711715192, 178412.3577127438, 85897.81501616782, 179283.69343340964, 145226.90760502702, 306413.9628680416, 134110.88560557517, 118627.08404633994, 209055.50182901626, 109750.58617637315, 112239.24930528188, 112344.3203391171, 131825.70335049066, 219235.49036512178, 411513.3201356161, 308785.6766306847, 208842.54867150105, 100375.34253145353, 118090.2324824683, 102717.15165267153, 102717.15165267153, 131376.41601937107, 379728.94339105353, 193055.47313440076, 343803.2475516469, 99488.17942541992, 284427.08661137545, 179647.57725458685, 69600.2898957032, 141694.52607924343, 115414.97720995964, 239009.3086212676, 185840.09541667855, 214468.97462426597, 119079.66721657221, 259879.11496712914, 742064.3116518136, 162748.58686352617, 100772.97787788794, 164112.24490237038, 187953.09967379514, 128559.45633319451, 237805.6428992048, 96930.74936250936, 108041.07808812073, 129825.74423624534, 186747.57837756252, 128178.93403442876, 111553.17968812841, 118963.00647294492, 511410.4512685317, 157030.1985160096, 321189.32243543514, 139798.5709872062, 135466.2403561568, 151082.04460681495, 164626.56315091206, 100907.77195276499, 205547.5324133323, 218370.46377768353, 87095.01015436006, 112221.88727303, 182401.1309013401, 94038.620233661, 397566.8692098319, 164095.2561632276, 261615.8101529177, 203514.71323399944, 211543.22749194517, 520234.0414533785, 148752.32086977968, 1045692.3055254143, 227397.8100035539, 85723.77684480356, 268761.2445561118, 389377.5288953616, 277297.5301970505, 77684.7578473794, 104666.9743139604, 98338.10279969023, 104666.9743139604, 180592.07687730165, 104666.9743139604, 169007.77660641578, 124739.72370423592, 122357.12192480997, 122357.12192480997, 200814.46612748524, 150757.23360098968, 150757.23360098968, 150757.23360098968, 255441.95750359545, 298549.05311405996, 158518.25341981807, 163742.21273656806, 86764.51581231639, 270339.8263218228, 223577.33972411306, 132956.6231377587, 137482.76885114846, 628505.8073690878, 121136.7606068149, 167248.01062628423, 301342.8571496668, 102421.92519270132, 147710.50895863035, 155430.17986888788, 297377.60656475485, 132368.62541324337, 601029.4276656343, 136606.75123169928, 118716.57234363671, 300964.0523670296, 366988.9410602187, 172826.3001842126, 153222.32860210454, 1091930.8373491913, 113077.64298503047, 137505.8019294677, 184157.13975398501, 189246.26756221105, 209866.29905574088, 150576.96389407077, 196698.11601901328, 396111.83272871823, 239425.31990131346, 109825.56657786721, 226105.06186524848, 185099.44014092343, 147605.93563519695, 163424.22943192063, 370324.6368218104, 180465.20191123994, 121298.1908227987, 185622.94856420453, 236790.5258154701, 253415.2370443854, 140906.99918612785, 114935.5481247241, 97793.0084223128, 118850.40851546865, 186995.0565091084, 590585.0310459186, 278389.75441769423, 229269.3887633421, 281508.51798241347, 105071.07215600673, 527540.5643070701, 177641.41275253534, 124130.43192918852, 142191.68682056223, 294210.63654534577, 242435.1896981177, 96235.67060998025, 137167.60300831575, 997197.8248090798, 190534.98845300046, 301881.0826381449, 113349.28845044305, 331377.27730844147, 140433.22419735225, 422581.1062461521, 813196.1244031979, 100465.11069522134, 218886.75888544295, 176476.4560227039, 180138.41787030493, 191401.53613852395, 128503.18735725016, 128503.18735725016, 188723.54826010155, 128503.18735725016, 128503.18735725016, 188723.54826010155, 128503.18735725016, 128503.18735725016, 128503.18735725016, 128503.18735725016, 188723.54826010155, 128503.18735725016, 188723.54826010155, 128503.18735725016, 128503.18735725016, 188723.54826010155, 120074.28394245348, 188723.54826010155, 128503.18735725016, 128503.18735725016, 128503.18735725016, 188723.54826010155, 128503.18735725016, 128503.18735725016, 128503.18735725016, 128503.18735725016, 178995.52431276278, 188723.54826010155, 188723.54826010155, 188723.54826010155, 188723.54826010155, 188723.54826010155, 267698.46401157137, 101537.51728919224, 98775.30283472815, 234688.84545794525, 157581.5840399436, 71537.70994975732, 232349.53217562212, 622265.9468955485, 125720.0070350527, 125273.10767206197, 293544.8552969398, 136700.10067732597, 138115.61630027567, 149451.57088988676, 274313.0662964288, 124332.9800305955, 306869.4554085965, 297595.5596892703, 311596.05138620676, 355124.51824564824, 88315.32540301642, 228138.30510565045, 402482.39381176955, 143931.12402820558, 423495.2830966133, 269957.0060145989, 235096.88821264228, 107580.2578539842, 174404.63553340698, 172048.0895691434, 936731.2617892073, 144523.9651564114, 538247.6457430003, 201450.68184128177, 222955.66181569506, 343270.85576317314, 475838.23097946245, 133866.42206334253, 133866.42206334253, 133866.42206334253, 133866.42206334253, 413424.0878792502, 235127.79231536906, 354970.9954695476, 178205.35735267276, 94078.7825032871, 183532.74931329122, 284536.22245403996, 156876.11604472838, 127665.51174291196, 154119.15717314545, 152578.96532724414, 120139.96790930761, 174425.6525934146, 222460.76827421953, 241660.52827154723, 306237.6580150921, 222460.76827421953, 174425.6525934146, 288082.1841434853, 125229.65822683308, 219293.12484390842, 599457.497791409, 236040.62939599893, 80315.2734676225, 289680.8282210395, 156070.24968457455, 262682.01471163624, 314822.29048861016, 129527.80171020812, 785844.0850613385, 337537.95151784096, 130071.62341327113, 174566.8057378614, 140156.3632327301, 128805.82069286196, 126460.44582302592, 126460.44582302592, 111647.54762301352, 111647.54762301352, 126460.44582302592, 130071.62341327113, 248727.19392711914, 249928.80164977518, 160493.68568641864, 159763.340157907, 174314.8910501898, 120210.4486712369, 120185.96099612126, 131014.06966949663, 120185.96099612126, 120210.4486712369, 217102.16023063357, 130071.62341327113, 195762.56143412736, 193276.9974051829, 262776.62461332243, 159409.00833359483, 227460.8174792886, 135253.062511446, 130800.47177216866, 159763.340157907, 247699.2528024536, 132987.93485336454, 298204.33203390334, 166856.39845678097, 742846.0029612491, 742846.0029612491, 289779.52367183246, 216348.47946777428, 124283.22189984866, 158282.8821811713, 336965.67227744247, 153751.4101412565, 161342.03569794996, 234328.4815489577, 175505.88413444094, 133649.63866038757, 141724.5925682857, 134228.90002806316, 127804.68666144872, 124293.83355278609, 125356.20527781647, 148523.15594690872, 112921.52654106077, 148415.41990552226, 124901.77731190578, 658666.1048602096, 232312.02400322355, 489943.2439502332, 785844.0850613385, 214154.92785033595, 235774.15094170594, 155841.7159962036, 123608.60983715788, 152131.5751099867, 88250.08553834041, 140851.4783900414, 138624.19445720292, 150943.8882824829, 211325.66137902517, 125392.84215477112, 102008.44419344042, 105928.35536576978, 126563.13505068496, 169087.62884779042, 121670.37263887323, 165191.65349217114, 354324.6969787696, 507790.50221023103, 107580.18526332834, 94223.09794778752, 195152.03005531768, 65989.59939522485, 100807.92420190864, 617631.1814681124, 112922.71311926085, 331756.70835986646, 189609.6664639123, 134703.73465808117, 122488.85837349496, 245152.85967998198, 207372.60865203233, 114597.75569260304, 314684.36014661356, 150098.41343118518, 269058.12273933116, 327355.26683764055, 705597.757650564, 115216.28900866496, 124406.24988432511, 157296.04903894366, 126928.12954439803, 128881.46741750315, 222367.73271810292, 235521.3243582078, 238064.77492101476, 149106.70276294075, 122982.89785768808, 230300.4751637302, 106450.5870407506, 175474.80634422073, 321569.6384964405, 72479.05313842575, 91513.31833770456, 97826.3760418903, 181561.0973482993, 309127.5846943357, 252271.20391905095, 252271.20391905095, 190912.24890192805, 210053.4877768496, 994253.9059707674, 975836.7970317524, 116947.0097760717, 167976.69927674028, 312138.0272096934, 158083.7850923609, 169403.00418846158, 953911.5113637414, 204497.9587487312, 186503.37046515004, 241243.72642852925, 394369.4723573829, 96714.72001168503, 746809.0164352041, 186222.5739240585, 564076.1511245712, 126351.8944887628, 455457.72521208454, 329493.02282129927, 557162.393310775, 117034.10536081217, 179851.9074372424, 148231.15479057244, 108608.40625659989, 102548.42647787675, 400268.853743594, 163766.26440660394, 301160.7807379855, 157608.45078346896, 311368.9822277977, 445035.99639906886, 1217581.2632917988, 600288.383817893, 595363.1861383985, 363445.6654926655, 121174.63718485483, 247644.74776955496, 260315.7828470543, 208053.30933316288, 251350.3043979483, 126068.43597187004, 124978.11923829792, 234976.84873179326, 157132.51597250745, 97262.46378679981, 217670.3034126543, 531013.723926247, 159502.11771359725, 150209.95841384865, 149423.65214229835, 149423.65214229835, 125365.7577222582, 150228.71541030993, 150228.71541030993, 150228.71541030993, 150228.71541030993, 334715.6687327701, 196766.01920209447, 120082.3895064651, 118365.24535871967, 231819.6226257251, 250648.0662161077, 290460.271181201, 219253.50934013762, 290903.7078296661, 162623.59992038464, 277446.0431238863, 235877.96442232124, 124867.62804251321, 318675.69119505136, 183110.0373081016, 129760.52236275573, 110805.96815440754, 129760.52236275573, 235634.52572961763, 792997.3920910973, 141379.95618693024, 500827.8420265872, 177546.40201598054, 162052.4929719883, 149617.79224270288, 145807.389681431, 328987.21916908736, 123779.83378034136, 159984.6805293442, 152740.26418973267, 199763.30341049802, 612555.3009191504, 373967.1681142617, 152740.26418973267, 149617.74931758663, 197637.70370989077, 141773.88724532284, 137350.39267146587, 604607.650629524, 447770.5543032745, 185588.33564267855, 459414.7544241478, 141773.88724532284, 124789.9309697657, 447770.5543032745, 577265.0180203769, 281137.796489196, 138342.4703828334, 125093.63554856982, 259863.94173622294, 149617.79224270288, 174747.19254702388, 124763.88616144744, 124597.59314286314, 344729.0956474899, 119915.50582718397, 97797.157453839, 194893.9500405952, 326181.63831207034, 193217.5480806572, 425382.8383324172, 158682.7538327148, 333672.98119197576, 308257.9139465391, 248867.81261557224, 166795.6155892337, 128940.32189594804, 194619.7270621938, 125328.66079110016, 103140.79091429754, 95060.31235470223, 414515.9113217317, 164026.2387611487, 242211.95204173168, 160340.51765423204, 522489.76320000924, 258451.18837568702, 299544.6547927318, 160169.45048389854, 161152.5979034966, 65240.74871384684, 190429.53104481494, 147328.85291286797, 748942.0527899938, 226092.62774276198, 217969.93542473123, 484119.1959004942, 279613.3593122554, 71374.09797077098, 119880.78121270699, 210677.25289204018, 164936.47276424593, 1083599.7632192944, 200186.40595671503, 204603.67935646547, 281279.81648732553, 276633.8362328554, 137933.84925502748, 146763.55514045685, 127428.3041147136, 377791.35121234576, 414545.91615387646, 351366.07658441825, 431440.2312505703, 215846.9760870972, 228277.38316050888, 169466.12237382773, 257295.05521248604, 255285.69196238267, 115812.94457535054, 266003.96918102633, 179210.88723468356, 175473.27534908644, 113056.64726839928, 146153.2027006087, 315666.2595669781, 140894.39827175354, 308615.6478757176, 303227.9566023486, 93581.85519848543, 147171.53200242174, 129340.15734556058, 129606.28331681111, 129606.28331681111, 155205.52170058858, 159037.91155442203, 150248.26100378123, 106539.44857570186, 119293.8645910983, 254450.22148950576, 130059.61755213255, 119341.26203080363, 129655.27922534966, 84153.63625258178, 134101.26387720474, 105201.00192678891, 149689.17469519458, 96890.49497941916, 221250.96280490258, 106528.25490661114, 119264.71184936889, 196822.94319793506, 133747.83282122796, 69849.31324153973, 257606.44543757598, 74172.11268578109, 74172.11268578109, 124770.52598551233, 593304.8793942522, 131185.858265382, 126808.42153959883, 85647.96540583904, 148621.4778245748, 143575.75363048218, 151743.72930677596, 202255.31403826133, 251196.46410769474, 131091.3647249624, 104328.44460858108, 270597.6466945876, 186067.46566327373, 138843.87581603933, 141398.70267950353, 256957.19748657287, 267427.70538644603, 180979.02328115364, 67337.59979409397, 133994.43263004415, 443085.0262341383, 152899.98969036966, 169337.32670783013, 400934.9424525281, 266809.84072948946, 315163.98838743404, 225938.11907223088, 125262.7923970269, 194963.03465056076, 226885.17331365723, 151115.37875575328, 256805.55749345396, 328318.1992539275, 309992.2955942027, 115724.3277485067, 115209.27847709447, 120240.86048409445, 173336.6518195609, 315163.98838743404, 134785.1307516707, 208531.83909165295, 103815.32046050302, 150047.940424402, 127883.76526931429, 122354.35348558468, 175659.03301685175, 117566.2145347087, 241378.62127999548, 143068.55251451558, 255968.56269708005, 232181.21126994968, 95199.78621551165, 103721.26064595477, 129916.45328801038, 333115.005161569, 201354.97000349488, 175338.94586715198, 366830.5761375334, 200903.43998343247, 102859.24318224678, 103558.19914069373, 285747.47418690956, 194625.98474328103, 194625.98474328103, 105099.94016415012, 276607.9762501286, 340626.31498869264, 179768.33054956235, 260997.39055070077, 210727.9210006161, 168492.24941956642, 148518.07574587702, 119427.90818489634, 122694.98135547865, 119427.90818489634, 125769.17668893994, 119427.90818489634, 122694.98135547865, 138979.070299705, 273560.7542664303, 130122.2449906308, 133758.60807645193, 88708.4994037866, 130086.49363445761, 86362.94121111633, 107389.94672385021, 191577.1262583449, 133877.080339587, 185816.1393496923, 191480.43901519125, 129524.90877354908, 162464.43127089238, 133904.32424594436, 119795.13157109861, 171740.9979307489, 194837.1104624298, 195038.17466573865, 133544.69750880025, 281835.15201751457, 295254.73690580454, 138937.69483452264, 191964.72870105214, 193244.80956753503, 133410.5129394047, 133758.57597579126, 133757.43302894066, 118598.02056585177, 570936.6905721745, 184413.72704937882, 119858.20517493907, 197876.3926117372, 243519.65391970426, 177106.82228590097, 207985.08949290134, 293553.4162941139, 149054.93660158804, 196964.30132759386, 187517.50288465092, 373700.61957945116, 675766.5505821544, 168182.0563378191, 172974.16915163753, 320850.83051709156, 302562.8005465062, 149032.6991944611, 681060.6344069069, 138187.25440238326, 209903.38428270977, 188468.2807961725, 94283.56476250279, 211751.11986141093, 113880.11878066756, 249762.84660637964, 230153.72832442255, 231117.85455852552, 135959.83899770974, 230619.06497906876, 231026.15332169595, 246337.32204231818, 91368.69342244658, 126867.40383188543, 197398.16793045524, 275275.52438939986, 126305.41748055292, 216806.66035369344, 531491.4642854144, 321741.7603826987, 205157.38467270826, 474418.40855680464, 61265.29328367893, 214952.64974773617, 105178.5097795964, 77603.44013909575, 359905.64380552206, 150133.14269951836, 73295.63274220205, 71560.41926930838, 247505.35943694075, 268911.3240040704, 148195.41234914475, 427621.1231087792, 252823.54323737492, 367789.367135413, 118099.99942468191, 262894.35341257625, 382895.7687779577, 135797.232589297, 341984.4419763188, 208958.84117436624, 720967.7528007452, 102938.58019901611, 154942.5599361391, 198043.8135499252, 132961.85034204146, 202725.27541013208, 351854.54620012484, 166989.5652791771, 184576.6809766348, 511057.1686670822, 195748.36580593622, 159875.60936690037, 212578.80775221196, 1987974.371039563, 118960.95215274088, 149618.37391904212, 595865.4871380614, 286943.3288053366, 169267.49738314713, 128678.02760096136, 738339.4206124607, 234978.83451945477, 86495.48285440836, 154222.4922436522, 81760.26082129343, 84861.18110413844, 196765.46933455535, 390461.9994566326, 114641.04265224504, 143383.6831585236, 84861.18110413844, 122416.51525397942, 152566.82497689014, 120018.12800837186, 260965.99856029885, 155450.8954274355, 74213.36836395964, 193171.17309515298, 129958.3906551965, 129958.3906551965, 184165.5859293209, 225409.36108025903, 145650.22363171048, 138259.823443692, 185877.8352361787, 130160.26576904341, 218302.6289300572, 91568.44164362915, 152713.41847531003, 169089.82569271047, 189109.99025136698, 121270.20064268367, 131294.03846421913, 131294.03846421913, 111039.54213391087, 126880.13829460552, 202299.590623187, 202054.7804098252, 133082.2035418811, 120580.304111095, 484385.62567408837, 133082.2035418811, 218302.6289300572, 241142.9931439407, 278886.82648327557, 200913.45146572674, 203824.97813616303, 583962.8601175023, 168001.1680735189, 277871.9835022382, 650640.6987610989, 482074.58844991046, 77086.94209375718, 120399.96638985738, 116247.6840062848, 245492.56443604815, 108092.45564007039, 197058.5820737388, 149405.32410283253, 237803.6220765125, 246667.0796406443, 168307.07593372595, 168307.07593372595, 119385.0226934989, 133168.62550455896, 180460.67546749403, 224680.60029002925, 541258.4272878914, 106133.54166674736, 256313.65387962398, 107811.89593962127, 145493.22307325315, 256313.65387962398, 148117.26425543468, 143381.1583689077, 115608.33620089137, 293095.4006593239, 245283.15561595332, 146351.43195785568, 114092.13392561575, 132234.59485336914, 162016.03496363378, 315002.77315916587, 195698.4654333932, 231517.50173862863, 101577.40241783528, 240464.2488490168, 230215.82547373232, 137880.33397249732, 218797.84395630468, 117475.82585720597, 226109.62476512117, 116647.5751656948, 182890.9293115105, 234344.67045951253, 130446.97828873033, 225493.37454651963, 71899.65978362592, 83455.12486760713, 106850.70166962063, 133969.71583224795, 110224.45705047215, 210308.47453252005, 306807.6680664797, 132276.7102542342, 186489.09143597426, 135530.26380248406, 170683.48233503033, 174030.20277649738, 252221.81099919544, 101778.73724155177, 133255.41869921712, 133255.7153357752, 137378.79001732424, 290078.79233855335, 478358.10643840896, 110985.10149617105, 189430.5033325696, 144080.54284780176, 177924.2362149028, 260701.529961833, 245877.2143788517, 361901.59886270855, 213920.7070790235, 254642.76475448068, 119079.43784105575, 304290.04615189217, 120159.6444321727, 213587.45868283257, 145208.20032722986, 120663.1950030441, 94284.529763923, 80765.40880682858, 215113.02241246685, 364004.52426239324, 230077.64910866175, 232797.26151040377, 272126.7504562975, 327429.7404504836, 564071.5240419593, 168118.9845166469, 89233.51110548116, 150932.2104642939, 93341.05353929648, 1114601.5289677235, 121399.7620254292, 402034.5608258432, 356172.1068414799, 159476.19160559186, 205478.86720570148, 87013.27780955799, 571393.156315227, 129609.86076191765, 109460.44739650408, 397921.26035917655, 150305.28780971974, 133595.82126434974, 124578.98089405257, 124905.6297550365, 180635.2603184473, 124798.83733915265, 133365.04594060482, 133365.04594060482, 180635.2603184473, 129150.40879414044, 291523.87851252325, 95430.8041280307, 65940.499602353, 159376.59150146722, 179594.148238983, 167499.0471285462, 122285.51756204749, 199019.3378086623, 306126.7941923711, 84217.76246376969, 84217.76246376969, 175265.10940501367, 74683.31349741273, 103924.99870943333, 74766.09416598559, 75309.37680868732, 103924.99870943333, 103924.99870943333, 84550.28054996958, 188816.14566694823, 230944.16499520594, 188816.14566694823, 95059.63977099306, 141315.45563266615, 321842.88920702226, 76195.19900900405, 414584.99817573203, 225821.20767161134, 188836.83317646454, 75366.03171249841, 95430.8041280307, 178668.0193101931, 149091.61732389603, 137146.35732946097, 97897.28785510162, 217013.70168910775, 157592.959721729, 159668.53552920138, 133365.04594060482, 139652.47352586186, 131039.10695391489, 126560.8130822595, 150853.85528077488, 257108.37890956877, 215184.97465667382, 126235.37640344515, 150853.85528077488, 133869.26142413352, 168583.52140865236, 119639.2186825879, 518550.5157337524, 160429.3104519653, 292845.3686330969, 452247.0955871059, 182067.01276781235, 210681.54221104953, 193490.89538169914, 270263.5591828221, 346525.8427172812, 75848.1632930636, 109003.09949837919, 87355.73502707783, 136644.4174677931, 122864.99419791091, 155614.1802062481, 120264.27888492355, 118484.75573533925, 229068.3631370383, 141832.95978054949, 151720.0175878361, 193701.7774799589, 300661.7897828845, 309139.13889852044, 300693.8419041117, 438737.0689883174, 334536.291347251, 252270.75781744788, 252270.75781744788, 241272.3581189573, 436238.32459592144, 445005.5949396633, 294849.6547081871, 299807.1395326925, 282954.32008775277, 195025.63731198368, 181711.27890954886, 451760.02145261643, 632671.2566978633, 184099.83168325605, 206748.91790959716, 669075.2915458372, 735474.3533614873, 402637.0059136057, 410462.4644029316, 175105.63918220138, 239366.7334697494, 315544.3879248599, 121222.81387642471, 140864.73075350412, 153118.6205421431, 489446.05963688076, 306349.6391709997, 97237.96977704178, 97237.96977704178, 101580.35851574247, 264103.38630783, 164608.37384669262, 85287.06470918875, 117877.54367588536, 131788.61254809547, 166156.48412418133, 306719.2346484813, 326609.34094775945, 327154.3861244057, 339905.7344550984, 341155.90215848736, 489871.30688085395, 138576.7257124772, 103331.25263149699, 178325.19020637998, 169602.3512303075, 166821.19300980022, 80185.42748962475, 174777.2843701251, 89407.86208646934, 219007.68600927232, 1008017.6705201246, 89407.86208646934, 220608.40890426026, 606193.8705184195, 134311.93446230754, 145948.11720190634, 128803.14436948349, 134311.93446230754, 1067825.2289537215, 356813.3159169406, 290192.6610923138, 178116.39253510913, 122755.45756259146, 145821.25386841773, 238939.5169171112, 142874.08908187936, 279305.2433585201, 257019.98274069125, 504251.87913553783, 322091.6963186299, 138984.8493498597, 2158225.1953683374, 230181.1931603882, 203000.07447772837, 630932.2516348668, 129184.24512590616, 106740.57361874878, 188266.32214455467, 525550.8466164469, 104183.36927921939, 205751.09833277762, 195366.23606753955, 139232.55841059095, 188409.14676639246, 157614.60167355684, 166011.2135432862, 113370.10293444281, 332985.14520070876, 108997.03980536427, 140983.03700974546, 284392.158090713, 1729812.0906778777, 142251.40740921666, 357574.6785103347, 207295.074562537, 112232.36549538415, 108997.03980536427, 151252.95346309023, 105661.47906068285, 115454.47671945041, 681142.7593942784, 115454.47671945041, 198969.88265978103, 619751.6309101922, 506802.3048779942, 266412.6645751088, 1144228.7207687797, 1163905.881122498, 375552.4082036726, 574189.0627981063, 305324.7669273879, 134317.22732333973, 539969.5915100295, 60274.865239200604, 110227.21854006952, 161139.30969955417, 216077.29454902883, 246022.06204434868, 175007.74944014882, 120153.67961185689, 130717.76459433863, 222338.77421465778, 190602.00092497552, 188557.8445801514, 213727.70798498674, 209354.71400132857, 268172.7063864114, 206437.0461275212, 279182.549540115, 262781.0587316251, 250198.77415417036, 223509.82743957298, 112468.26006447428, 197655.33515214914, 462213.07449635083, 136529.69730592135, 313969.8239299379, 196247.03812447801, 96475.28586959635, 153662.88460177166, 161229.07854001317, 171722.81357173773, 505199.21540662413, 252277.75418069094, 176390.70988873916, 371528.0021826799, 424142.74544841977, 408690.09661131154, 748368.7778268292, 130689.88544434737, 233939.79061712293, 138196.4353332485, 147868.01777317023, 161222.73587753967, 90173.62121046701, 141755.1408016886, 128592.21992831714, 202419.7291113701, 134610.36649182302, 135899.3347777322, 155067.79509379328, 179488.57854699926, 182941.56603762368, 724207.0199708774, 135876.73968774514, 167238.39021383924, 173924.2802891014, 82379.21219359782, 87033.09530171363, 146395.48502934386, 125240.96225263493, 150321.7150046463, 131895.83513466278, 60534.72896941424, 123748.52006075304, 766855.7096341151, 143511.0031629239, 124047.92499954127, 195242.1028993774, 155730.3370726899, 180445.01324936986, 124703.64070781082, 135715.87018118877, 179672.97811679734, 116439.74973306709, 333538.96387766243, 212123.0224542439, 166023.91852349724, 126099.48010575453, 87033.09530171363, 109199.78475070663, 134058.90610930324, 319847.32627514313, 189766.3903734746, 578306.6322456731, 247409.4983850523, 156740.47772740037, 569395.6497912019, 137363.85424012068, 157035.20872343273, 338149.8059497492, 150186.5668971771, 200901.85535381304, 187844.24798087086, 319902.8648225867, 83632.14948825943, 126954.41199667763, 104243.54166350962, 104243.54166350962, 104243.54166350962, 461324.75381603616, 94014.6392749981, 225138.92809954897, 139986.43693957137, 163471.36236950912, 125115.01503409972, 398811.7863740389, 242046.34538076073, 263394.78592529363, 119104.1316650282, 288497.4206462362, 112472.20382302805, 119104.1316650282, 112472.20382302805, 112472.20382302805, 112472.20382302805, 125938.83921694923, 599467.1052137642, 217813.0127615289, 134218.68767191583, 472145.39801453496, 283613.2715312772, 156853.2517716132, 222599.9184299238, 244955.96353402376, 133242.82526576033, 205281.13561850632, 176636.16607278807, 241170.4227921515, 558189.5837273393, 147458.6864255066, 525839.7527756002, 253158.05234728626, 114235.20953076515, 157949.9964126748, 106710.8756439132, 106932.05709189973, 120849.65806503316, 477505.4737966509, 210701.46128689358, 688786.9266943969, 181732.58901810035, 173212.95356643113, 175345.7740340227, 175033.76094462984, 144407.16424530325, 73966.14820195631, 131843.20660451124, 84159.00765314477, 170987.25446880946, 133322.32903275327, 127148.37763299853, 142704.94297927798, 160214.2215685972, 77505.3512657786, 141868.70041718776, 207660.86146526702, 110743.67878069414, 87478.65738983106, 86125.68261391575, 157517.0957327045, 120132.86872727031, 187862.32808069824, 263646.5105773391, 188657.12949261704, 160776.07808117336, 161372.68947878882, 152184.18380489724, 201102.14721660007, 140058.01215318753, 138278.3052537858, 70002.67029189291, 535345.4838545347, 179823.44469702663, 165154.60178733215, 283164.22536486574, 179618.85002321334, 179618.85002321334, 179618.85002321334, 151634.03235839587, 151634.03235839587, 151634.03235839587, 151634.03235839587, 151634.03235839587, 151634.03235839587, 151634.03235839587, 151634.03235839587, 151634.03235839587, 151634.03235839587, 151634.03235839587, 73337.8153834137, 189260.41890131903, 137607.48201554624, 203241.97873219498, 304722.94741835777, 256347.59622858447, 96168.61698468926, 146930.5773321377, 167330.11852166234, 154249.90846390172, 156325.62083672866, 95746.83296297741, 291290.43781145464, 141451.47354430647, 275349.55530047044, 264185.98396280786, 241820.90842693107, 241820.90842693107, 101295.57677733038, 271263.55293366377, 117914.72378743571, 297053.8910213195, 310400.38715944614, 194903.7997767229, 203751.43635644502, 302723.86217299756, 107527.92032015385, 131267.7693450181, 158678.8864355836, 231412.24370384682, 254886.64458856295, 150501.45991512266, 174429.89389671118, 138856.14332403446, 131405.2886649139, 160240.63826641077, 160240.63826641077, 160240.63826641077, 174689.59067177348, 652500.4661804362, 194996.49488633606, 194996.49488633606, 213344.72396639478, 614614.8911240497, 456302.15934254945, 614614.8911240497, 202423.55735672882, 140340.69987579252, 194996.49488633606, 104827.11187751408, 104827.11187751408, 104827.11187751408, 104827.11187751408, 120292.91991457526, 161641.9404668499, 421760.39863784116, 120996.81504380847, 378919.27607230155, 129718.33310434004, 220343.75055547745, 133274.5092953023, 182679.9965066117, 274277.50569996715, 176487.20239857424, 315878.7979587346, 131604.1488197476, 553865.4124193448, 127642.69687878067, 104335.02729415277, 117882.48488059826, 239691.88827328972, 162327.96432081505, 150472.63023462225, 140881.65852795375, 175822.38631447303, 151159.7223044856, 151159.7223044856, 148780.70558034774, 151159.7223044856, 469877.4923343634, 429028.45223817177, 226432.54248919286, 78152.57316245195, 118741.346971513, 159919.9376719296, 219299.71404233674, 273815.01599016384, 189659.23863625288, 82297.19198440299, 82297.19198440299, 82297.19198440299, 82297.19198440299, 123841.91020730355, 123841.91020730355, 210857.8104428044, 156186.3224189409, 200694.89394065645, 120684.42131460243, 376845.491580896, 159888.21220213943, 150226.64693581554, 81439.51497458637, 192718.24971540322, 261209.0342730154, 103105.11101893068, 407302.8840398267, 103105.11101893068, 253073.39751792053, 207332.7925719471, 121194.41631146712, 203034.9804467642, 369862.5865263404, 220736.23601007878, 147280.41229777667, 168282.00792150333, 208123.61061670526, 174564.94918691623, 179536.83642298414, 185857.89799326082, 142611.03420886534, 146610.56533879443, 147731.17165308932, 148490.39197527, 142197.5783455287, 146870.82030808344, 146870.82030808344, 146870.82030808344, 173220.1032728423, 207164.03595742572, 147280.41229777667, 142634.94504228557, 159031.39834968082, 175827.5676534207, 126999.31934230022, 135418.7764705598, 134891.9112442372, 146747.40413241403, 142197.5783455287, 147280.41229777667, 142634.94504228557, 208123.61061670526, 159031.39834968082, 175827.5676534207, 126999.31934230022, 142197.5783455287, 146870.82030808344, 146870.82030808344, 146870.82030808344, 147280.41229777667, 142634.94504228557, 159031.39834968082, 124269.46115808646, 147280.41229777667, 142634.94504228557, 146747.40413241403, 142197.5783455287, 146870.82030808344, 146870.82030808344, 147280.41229777667, 159031.39834968082, 175827.5676534207, 126999.31934230022, 135418.7764705598, 134891.9112442372, 146747.40413241403, 142197.5783455287, 146870.82030808344, 146870.82030808344, 236998.97306491074, 147280.41229777667, 208123.61061670526, 174564.94918691623, 159031.39834968082, 126999.31934230022, 135418.7764705598, 134891.9112442372, 144216.36307414118, 146870.82030808344, 146870.82030808344, 146870.82030808344, 173220.1032728423, 236998.97306491074, 147280.41229777667, 208123.61061670526, 159031.39834968082, 208123.61061670526, 159031.39834968082, 175827.5676534207, 264380.3533322707, 247980.50864305015, 147280.41229777667, 208123.61061670526, 175827.5676534207, 250840.97921137462, 249280.1865780375, 236998.97306491074, 147280.41229777667, 208123.61061670526, 249280.1865780375, 324758.85545039934, 241632.3150554127, 342542.83554246055, 263274.2950722886, 241632.3150554127, 342542.83554246055, 263274.2950722886, 241632.3150554127, 342542.83554246055, 263274.2950722886, 241632.3150554127, 342542.83554246055, 263274.2950722886, 241632.3150554127, 342542.83554246055, 263274.2950722886, 241632.3150554127, 342542.83554246055, 263274.2950722886, 433203.10460417095, 319130.8203248992, 397412.4649094374, 319130.8203248992, 176374.91337697837, 324540.50108870736, 325293.70349000447, 325293.70349000447, 557612.9387528168, 182711.4850569127, 324540.50108870736, 325293.70349000447, 325293.70349000447, 88187.5366461622, 146535.11047940658, 278941.5311436591, 99099.61815572437, 167292.2135323311, 121539.15726735965, 93695.31015767729, 93695.31015767729, 106904.45029507243, 93695.31015767729, 93695.31015767729, 93695.31015767729, 106904.45029507243, 93695.31015767729, 93695.31015767729, 93695.31015767729, 106904.45029507243, 93695.31015767729, 93902.22180906724, 97458.24957358636, 93695.31015767729, 106904.45029507243, 93695.31015767729, 93695.31015767729, 97458.24957358636, 93695.31015767729, 93695.31015767729, 97458.24957358636, 93695.31015767729, 106904.45029507243, 93695.31015767729, 98726.4535664514, 97458.24957358636, 93695.31015767729, 93695.31015767729, 97458.24957358636, 93695.31015767729, 181595.81841440065, 121486.6527057454, 170318.46101426633, 110003.22485259754, 110003.22485259754, 110003.22485259754, 92563.05724958073, 92563.05724958073, 110003.22485259754, 92563.05724958073, 92563.05724958073, 92563.05724958073, 186466.701229268, 189519.9893462295, 216698.85320107214, 127952.25877210715, 239844.62350796626, 155123.9896362258, 123024.78525547331, 418677.3909828863, 131951.17233235337, 151263.98974793678, 154395.44685015423, 677044.4861609355, 184983.15730416324, 174581.37298808392, 236552.74483146577, 205927.9606669268, 100539.43681454296, 828313.4117338512, 557554.5567968355, 107548.40955258862, 122820.53516310675, 255187.50423967643, 257512.41066629393, 232401.40061068366, 124495.42905106342, 238318.37813565106, 126784.30676104181, 90422.30079869411, 146919.48395893688, 599832.2901493235, 146919.48395893688, 118940.95861929988, 420187.2319653955, 148597.86380636884, 483426.6331386912, 743853.3958669561, 157310.4078231558, 167463.87954616817, 160682.2125258266, 178748.5952189464, 128245.28713028622, 105249.13212924008, 105249.13212924008, 105249.13212924008, 105249.13212924008, 238844.094622675, 181489.52866756436, 355348.48101082636, 151929.81224056263, 321997.5281622616, 460849.18955257285, 102093.82664199246, 147719.5730905197, 250250.5798205588, 728080.8539020484, 126020.01561366976, 140034.99009390397, 138568.59912026863, 261273.5821860457, 141644.68196039792, 435195.5123825723, 138951.27671719395, 141757.5499130546, 211614.6319580201, 263753.8730254636, 214000.42753226875, 783486.8021827877, 170298.0971573252, 184271.40074938547, 117570.27915347106, 126175.42166186107, 125794.49662388452, 151815.99560150778, 177305.09487950275, 275817.10014776513, 223790.39044448725, 148619.33516444216, 238076.80084584444, 265009.2276270835, 381165.5631123558, 159666.2265213616, 91875.00593430868, 117665.12519282712, 305442.77234164113, 301448.3452502376, 190812.2390191938, 231737.11528350943, 578295.5380099717, 312744.60776609817, 202023.68040207628, 237344.85526261045, 333608.080855137, 202206.04440663013, 81881.29210746953, 662948.8179975869, 113337.3916195464, 437821.78845335654, 177377.61481832038, 214563.04693579552, 216890.50948668862, 173402.09906729954, 1074904.6768148746, 404270.33550274366, 126291.1367793369, 78979.13799260187, 125569.80340887335, 137658.80308524912, 312039.35123611346, 119303.88092751693, 107172.24396765101, 138172.8823327264, 165191.79687424976, 102123.13228297263, 107699.63744870367, 69251.87838486781, 243241.22229575744, 106718.24592990425, 122529.25021343611, 230649.51774847994, 160377.4605681815, 654451.0953127514, 353549.97074210737, 90029.32351022257, 504363.15032264474, 104972.3735815999, 124721.26079029453, 124778.76448096424, 205507.43616788398, 141553.10117762128, 468443.8692140563, 70166.96128766876, 501132.8461165526, 303340.9137911871, 309921.84321594023, 107773.34232752651, 481513.5848359522, 527807.2917937961, 161766.71555936497, 128700.91823262685, 140318.70197506284, 185251.48814716097, 350995.0836810251, 126363.29883422948, 161361.10052341508, 275341.249727134, 214326.67967599508, 192055.73832151038, 439366.2475907317, 251445.40683071205, 582079.6611147778, 448742.32862043235, 325611.5464130135, 325611.5464130135, 190248.36645073106, 171209.7039425926, 152510.53803855903, 217602.89324733222, 183686.19674572453, 403998.4465424865, 270932.10606877785, 272485.43507554, 156876.92006033118, 425114.65656172886, 181353.2623326895, 175986.9375603553, 227700.9394807344, 116792.14846275351, 126333.03870109095, 171445.39172965212, 178304.10195716206, 168473.22383389162, 178410.79444229795, 173227.15838499516, 175731.07491706047, 123183.72973709583, 122652.91772636815, 171746.15170616825, 172009.4611982858, 163022.93840745202, 152127.49130782427, 113119.53053203519, 156076.14862526738, 118123.4592256916, 186977.7436352777, 144849.3708146112, 149981.2054966539, 201324.60679834778, 244597.05593923962, 176001.75159981943, 545837.8035285872, 158654.7894415986, 277823.1087758371, 131792.08994100633, 198091.10069356856, 88115.4559934837, 156267.2578413462, 168656.90947117272, 94337.41318873344, 123924.08959262919, 151633.91719869836, 272778.987139149, 281462.68996848434, 437184.320081678, 148951.8113918178, 459892.72234623204, 132336.50524893138, 143599.71010768198, 134872.90129798354, 498972.4378385158, 131097.5289525312, 192495.70858406433, 278327.1763218498, 236902.32085088413, 245956.7504984827, 176167.47373562653, 386962.4323353039, 155874.9534066679, 148587.78989748447, 147322.47229883092, 696342.8063266237, 636513.1838988857, 239703.25963832295, 127343.90054975329, 183127.6022878871, 173245.91430157886, 138469.327549086, 328659.2591956176, 748152.1290361152, 183678.60731780325, 199616.15504318837, 162293.2074767885, 207427.5828645814, 83059.99407793698, 345360.0916085788, 500084.8267467627, 229536.02733063977, 162293.2074767885, 140906.95089579764, 159488.09598012318, 163199.96893468066, 205443.02080646943, 144276.5196289728, 144276.5196289728, 156240.7352502573, 156240.7352502573, 132192.17550276162, 398183.74722797045, 367594.1974904732, 126427.2743306866, 147080.68513060512, 110954.70995451987, 247343.88300555598, 154630.27106009546, 114457.43263482244, 173484.80962414417, 199128.3201699589, 228462.86398929334, 292817.2622915615, 201762.68847233593, 166231.7557351562, 83361.29465866901, 212303.8327232227, 168148.03661849513, 233343.32971881176, 353645.73675877746, 223263.9618292583, 155849.2535048963, 71184.33414047046, 71880.62646423523, 66871.80255248338, 164087.32127359978, 133073.45113594268, 83748.40249261953, 86511.92262305037, 91318.54043080694, 133085.2878648554, 79675.08209323969, 261242.94166134665, 193770.0404607857, 185757.35896874085, 187182.2342344971, 124800.11041584406, 124800.11041584406, 267228.7099264208, 108148.40844721673, 263791.0434851335, 207670.78299601207, 164981.00128298407, 261704.7610227084, 89747.09816195066, 163037.05251803316, 97972.48705167125, 102258.08597027889, 99684.1746054058, 223127.70310802665, 158759.90375093886, 161048.00735633896, 191052.83182700997, 135514.52209885351, 138186.26810345036, 138270.0500378217, 135464.55674967487, 135604.43491751485, 135601.0716136483, 132815.888991314, 132811.18550839927, 153340.80064997295, 153424.930983752, 150887.35806022736, 150698.48300962697, 150695.09694754105, 148994.28325473494, 136139.1988356072, 147577.57668226666, 147858.52837752257, 144938.26613686522, 144866.8687464958, 144863.49746092994, 144860.0685678468, 143162.64664350543, 140786.5653088399, 132664.23786372726, 132664.23786372726, 128686.28953059978, 128686.28953059978, 128686.28953059978, 152964.24360845995, 148648.50533152584, 220742.93989977989, 93267.05675029867, 350766.082994463, 243480.72642415517, 243480.72642415517, 371637.04496830615, 284497.0276544095, 277627.5528122184, 306828.6217494408, 303669.9417136585, 284497.0276544095, 306828.6217494408, 303669.9417136585, 188847.61986980782, 199452.99035681604, 188847.61986980782, 199452.99035681604, 154393.47153605078, 167766.666461317, 154393.47153605078, 167766.666461317, 165125.61152716138, 161633.28331830577, 165125.61152716138, 165125.61152716138, 161633.28331830577, 232444.24435143423, 250484.11605292815, 111514.60123116494, 91938.28873977785, 341960.1871790751, 120575.07632228258, 201165.86502369924, 412582.5500990988, 148126.97643651732, 168444.46357925696, 212132.85224960954, 87872.88965088941, 137319.8054408342, 135265.91456613073, 128624.26024629213, 151578.29967068054, 289206.73509330914, 95435.38110458139, 158520.77893409424, 138429.2903834443, 169549.35507552655, 161719.77452574504, 125691.7924262484, 155067.21398027986, 291764.7661035765, 114007.32794091236, 155067.21398027986, 291764.7661035765, 114007.32794091236, 99773.6389737603, 134323.55215125126, 99773.6389737603, 134323.55215125126, 155067.21398027986, 99773.6389737603, 134323.55215125126, 146464.01323595826, 99773.6389737603, 134323.55215125126, 128714.15756457963, 106852.79470269594, 121809.28481122133, 136396.03003915338, 114561.32636219994, 107149.34846319046, 165123.84990395693, 182105.85806980557, 245080.2492173919, 250765.56456602868, 148455.5636481168, 122600.377504506, 164085.77676736098, 270418.0388569347, 301058.8332532161, 109782.32140464181, 202367.7479901674, 231334.27294989378, 107598.2126525343, 323547.48269844026, 250397.17270495958, 262035.96528766866, 175383.61637167033, 175746.3451695562, 277052.73322450125, 163384.42121226407, 163384.42121226407, 163384.42121226407, 209142.08804122813, 592076.3499473054, 131623.3898976933, 421467.4787729884, 427818.8609470819, 329922.98921595025, 134959.6962661451, 263639.0167443607, 595107.9844464828, 546573.316786983, 306631.03374380467, 197420.29700695828, 174906.22966813593, 129297.37199382231, 261257.8849874737, 186382.6720309974, 135531.0192721222, 107811.7620903985, 290411.3283054489, 150617.72271099518, 94996.44359494618, 149907.58273891546, 128978.9960370546, 212741.72956875744, 139744.62710741902, 274045.73391649337, 271063.7450174268, 135704.32298096962, 158018.6007316473, 98944.56150041678, 83235.00211651811, 209260.6284242248, 103583.55909834497, 160327.20440457802, 248543.1833075411, 286831.0011566042, 139365.99076405662, 379689.3987238641, 150296.64439570857, 324225.6292661428, 187005.02070434715, 387892.5152623863, 159724.29729137968, 132227.80799232578, 157105.5959089251, 233820.5781512045, 134561.08869571067, 262458.2936214597, 311180.3261808553, 171873.9058472834, 219504.16117794457, 158958.2377691769, 116793.61425068385, 331429.6328450375, 172983.8054663675, 292485.2416118467, 164270.528550181, 114594.3273737253, 230178.63278103853, 218950.7919374893, 172688.28629271366, 270199.1637113204, 165050.27051758615, 229244.2690142399, 96784.59522450094, 336281.3116591363, 172882.80139123095, 95624.6979971845, 145859.39466639195, 262071.92556895604, 176287.47799577215, 263369.8056531425, 160925.3590322239, 207408.96579917305, 117159.78987234697, 128987.88969821893, 193292.6828685622, 120946.99668934738, 133953.13142739056, 143947.67192582373, 262940.460625101, 258438.53559862415, 157234.607523778, 189702.99986552895, 167007.33163612406, 119195.89662411406, 306656.9222874634, 117181.73695706739, 375937.57671802666, 141806.9256637107, 159608.24712826379, 64099.535196131204, 83465.99566394703, 250287.67435869342, 250287.67435869342, 96007.05763280916, 96007.05763280916, 96007.05763280916, 185677.18406721947, 105868.75854750304, 166112.39538519125, 98486.65282791191, 83713.49877813412, 198411.0168112566, 77402.9912377151, 176838.10229601245, 98011.834071948, 161019.6601345465, 170420.15509964636, 292810.2508833925, 195030.85880163682, 140089.07745168536, 127719.23433786115, 155082.66884243532, 127843.19589474922, 170340.43230546912, 182259.72675538636, 173771.87983510346, 173771.87983510346, 173771.87983510346, 216277.00841203853, 175409.06402642926, 598560.5665661242, 519115.237439427, 143559.34094628552, 201640.20086532348, 123132.16918992583, 246477.36701011204, 335100.9549615734, 117386.54798048845, 123830.45964882246, 117386.0624716263, 148916.72044091468, 163621.32135053695, 156219.50792769153, 106122.22609539912, 136247.47840482715, 154112.51692426563, 107488.39329040228, 218130.2713581993, 225731.21332880334, 99897.82405357546, 85086.67423769827, 167806.9284140407, 82480.17604875585, 148560.27858894868, 328159.70280640584, 140166.68118118425, 142056.3743764416, 128651.62648060272, 296158.9148796899, 110470.74112758809, 915736.9206007285, 892682.9101331964, 228164.82740940538, 131550.31028421188, 1024787.2239920723, 388387.6203557815, 262414.3986997892, 866618.5975642698, 549809.4902203308, 239055.06639949413, 239011.4205014991, 239011.4205014991, 247975.41133851686, 404575.00507256493, 120844.46187280878, 128261.91867205457, 151180.0526673064, 258762.1022986426, 381660.26491361385, 160738.3746364437, 100090.91792833291, 201053.46054835914, 256008.93000561444, 225517.48654068404, 109491.06437338666, 256389.5244056097, 361546.85610798793, 242805.95683814844, 195674.94939765404, 229023.42573165518, 368340.0317813477, 201532.82314834517, 198186.55238028406, 173335.17800552535, 94573.98551924119, 101529.916523761, 96077.8010191244, 92517.0474214141, 116699.06825345484, 94573.98551924119, 93272.15537102718, 92517.0474214141, 143137.98301566363, 184840.9159667309, 163007.13269228407, 186805.67897979319, 228955.22749616246, 133777.59184736828, 124901.25747689816, 212149.59515964694, 171592.7985137048, 366132.1480497345, 142134.43230826737, 111615.40370712381, 777438.9043376966, 216687.89993234642, 144781.75554250996, 581068.7504833544, 130435.23218343554, 204478.09072538154, 139076.43754966801, 195456.71064599644, 134496.40712407033, 199580.1498009815, 76065.24277693061, 176005.5400926549, 177045.54037041543, 201275.08287467994, 234471.6086411714, 119862.90518341756, 140370.64879104943, 116568.11152606271, 116694.54633793043, 90116.53542458241, 81618.3509929738, 146324.3744913363, 107373.20169709658, 160216.59689947538, 63054.91708275289, 362540.806797803, 127884.83480969598, 151439.09578328792, 135998.73033305036, 169712.43231907208, 248094.85978936026, 151732.8410469534, 151732.8410469534, 181585.30530008845, 331056.28862413473, 126256.78434449423, 171248.35488173895, 189037.72310617374, 169189.98682720223, 260610.69103886184, 77064.12502422508, 131039.87005285083, 204967.94693432175, 125698.21238109797, 159946.50857071934, 253101.68069619773, 221114.77801301377, 211414.63402445766, 495589.83279663185, 461557.6079377938, 175785.71397228754, 285783.93775324215, 238589.26953526092, 258115.5755012049, 115950.90313444387, 391200.4541655288, 393154.8830055096, 356970.92162133526, 222388.14820106977, 186849.2927059914, 121228.97473866762, 162113.23393795168, 224721.62319307352, 168952.89831404586, 216253.13481418006, 218385.9542380294, 195061.3681700027, 112880.69053857558, 256252.066597565, 612363.2797770794, 375863.85673109384, 874526.7081672895, 265081.4698772071, 757823.2731728831, 863006.5566948958, 485019.09216676507, 220900.15073571447, 423324.1900471978, 121569.09685729284, 257402.58235880669, 256700.1242858632, 197157.02296408903, 197157.02296408903, 263446.21368853666, 197157.02296408903, 257402.58235880669, 113894.87948267689, 260541.14060402935, 247550.58351849354, 283049.4066952048, 439975.4968550444, 486596.5948951704, 190993.31688629248, 209703.49174894008, 449119.2211507729, 306360.9784913874, 258286.1326790531, 134655.60709732043, 303670.94401893753, 190290.51307792414, 113414.91525827313, 234342.87091138164, 101812.56431817962, 118617.99682797567, 168711.48476885623, 128379.16443741694, 247631.31554380074, 69397.40097292847, 73858.4014159148, 184417.9220455762, 121284.42215933625, 129848.96445978318, 137383.40467444924, 82943.0265927901, 200479.60772672825, 138405.3895147015, 227073.35533995903, 127722.71581258308, 156432.3221656417, 551534.7692719233, 162050.3778781175, 149322.78901814402, 104087.10534321776, 99964.35588387142, 108270.56067435011, 260395.67053671886, 422048.66219146503, 181405.72695378284, 174644.37968139743, 116825.38711588472, 140791.61632020428, 101510.61044965418, 228167.88437840092, 336460.6626638672, 287263.40138364927, 141116.07221430336, 93246.89681859435, 91190.071267506, 98441.68082499137, 88526.0227829208, 162934.59293557628, 1102371.3452244492, 164318.44937678755, 360764.4808148451, 178577.91888965108, 132904.89089675646, 165552.1507431453, 135934.89726857695, 345521.34119292017, 138009.05253624005, 158460.0801058545, 246095.27917584818, 168127.97714228655, 209573.71363185003, 222564.8667236443, 150738.70823448763, 780500.6393866654, 215501.23595511605, 215501.23595511605, 215501.23595511605, 366685.1517479634, 366685.1517479634, 215501.23595511605, 215501.23595511605, 215501.23595511605, 215501.23595511605, 215501.23595511605, 396830.7094977099, 287494.067398946, 215501.23595511605, 215501.23595511605, 215501.23595511605, 215501.23595511605, 397432.3165921942, 928936.2575729574, 414691.24112891837, 788920.8920245583, 300853.0347544206, 207379.3934275895, 740449.0668970392, 798388.2987747528, 124662.24487724405, 300853.0347544206, 154443.28907174728, 175946.85180240098, 238083.04284269986, 123464.51216397576, 300853.0347544206, 201999.1456522827, 232615.88216840386, 98793.3597188429, 98793.3597188429, 134673.93817719584, 187859.14393032363, 179173.42538750672, 170305.3347975192, 115731.08252889711, 134431.55910512176, 135446.3231942302, 124994.19375989345, 204689.56509982533, 216542.66527255313, 233015.64208116982, 227763.66649923584, 245933.8550370856, 217234.04473847093, 634985.4775958101, 248643.44013859617, 195642.47128506564, 184295.8709231164, 70142.74742117696, 120980.22329370365, 130271.88404652846, 196453.9953489712, 196453.9953489712, 114707.896221421, 260554.64549715962, 216833.5012513975, 176534.80256930966, 215465.64670510366, 575678.9322472045, 270200.6205266196, 202225.97671684492, 256758.36759176684, 366502.82858032174, 210914.15191655167, 135404.0629398807, 119658.91259757707, 153366.11288674295, 380388.23719353206, 267529.9308174704, 215673.73269800292, 181432.6004412218, 165311.37230925445, 765092.3421062541, 258028.44163893716, 224369.8373858775, 121544.66639029756, 102036.05751913702, 177412.75570295195, 123141.0789144488, 110113.93018731408, 91119.42395746992, 132943.660085001, 91662.7994729166, 125972.94561557003, 162739.74254809384, 252633.13592737284, 88975.98589953146, 114707.896221421, 262386.27107291634, 262386.27107291634, 190462.4601430396, 130792.86318587764, 416040.9328083617, 804610.4413378672, 1436705.6718917363, 126873.85333954159, 781544.7926831009, 470460.9884832959, 169507.43562703964, 415728.3430075244, 430342.9101830797, 139796.9801978558, 258399.88266919466, 141526.31974166763, 147328.5784708242, 210755.72885354122, 324010.58875101205, 120937.303100244, 1684171.3691019318, 196453.9953489712, 197171.37331765637, 262386.27107291634, 258399.88266919466, 569375.4579861504, 996807.1223270841, 234719.44147663383, 1076559.8974860094, 215442.9607700414, 2220019.8987535443, 131103.99130246273, 231289.55811388744, 122325.1051068859, 194630.87801757513, 174002.9654804168, 262544.2944438932, 426668.47814521246, 126382.64772499538, 148330.44579003818, 83215.28266853941, 97742.95071288751, 127665.04654741104, 119488.73356748614, 201763.67436230945, 98635.67982918877, 92283.23675123436, 154557.28679959936, 176016.24960583786, 229003.88645786612, 185300.8523895261, 99504.89731108176, 166150.75886991515, 140812.14809343868, 134757.59572887968, 171742.28287159893, 181588.8008408925, 103416.19079164, 187743.30248755944, 98322.29367747434, 97742.95071288751, 97742.95071288751, 86500.27993263162, 72545.742540459, 86016.2612791773, 185473.4773460974, 242255.60371523036, 317330.83151022985, 105791.62457668167, 106550.37415378544, 97742.95071288751, 136610.44870829908, 86966.58701252323, 112005.04958962942, 142544.11910624092, 112005.04958962942, 112005.04958962942, 112005.04958962942, 142544.11910624092, 112005.04958962942, 142544.11910624092, 142544.11910624092, 142544.11910624092, 142544.11910624092, 142544.11910624092, 142544.11910624092, 142544.11910624092, 99316.5109815814, 157927.33142395428, 126594.21260152024, 102395.044955524, 187373.01706176996, 318625.0198380569, 153808.53759398902, 89497.3258992118, 112810.91152513167, 112810.91152513167, 121070.81146675457, 175645.77281381277, 233552.33051501756, 97248.03688292808, 209897.164208123, 195963.3062522639, 127922.35772282249, 216490.97870321496, 324315.98139339895, 143578.07138301796, 163076.02875971992, 127641.16950400521, 383711.82703513245, 119310.55100879207, 237088.77345498127, 184215.36132510754, 275146.7118924307, 143998.66564325226, 91962.37354834242, 143998.66564325226, 153862.7452688858, 125163.5757983657, 162546.2310101682, 125376.89013255376, 164860.94423510076, 164860.94423510076, 164860.94423510076, 194239.1718210763, 231244.37387667497, 200179.74885524504, 204366.30490967864, 129032.88621244897, 93958.24051438105, 194239.1718210763, 163239.9590655468, 93958.24051438105, 175349.87547636052, 156134.26161980274, 153580.51344973108, 179490.93750098534, 87968.89607336248, 139606.56502402353, 149246.10172361738, 76937.96486602808, 127143.08796529137, 119872.90850874622, 136811.40742935997, 111308.34689412097, 113971.10975839334, 448694.6213807387, 172045.25291998056, 224805.60922676144, 638052.3944167751, 127756.77549433251, 429594.02072880673, 128452.12812217681, 133665.45516714934, 321293.59865912946, 95191.38527061648, 349397.02861331403, 206418.01577215426, 575771.9211934058, 113976.13821079301, 188517.6425827854, 185148.29959474204, 194241.47797367224, 110423.38032623005, 149250.75494934674, 94639.64304421945, 230587.38129413954, 179194.2537732003, 481555.5660398257, 125711.95772594216, 144309.33468852105, 242341.45520152512, 111271.41933565051, 155727.442994977, 134632.66657476636, 176143.6021422461, 852519.6744394995, 405102.33372460876, 209478.45564623017, 110328.15402084537, 133586.58098151404, 317040.04311469407, 382161.35917841643, 372013.68721657526, 109184.7947818349, 190828.1945870935, 90137.38138930849, 264208.9713804482, 145609.99513005168, 190001.91693293568, 160810.01638083495, 179454.9669748893, 176534.57686847617, 160810.01638083495, 160810.01638083495, 159239.76451202825, 150369.5909622622, 319207.01165653934, 119572.77715746735, 189573.05561902153, 151738.78250308178, 154329.10332572553, 151741.62118228682, 149804.00880859414, 142197.0370392749, 354208.4907937037, 95105.93514575623, 172076.39168341417, 328622.52750192484, 282468.05046527804, 102034.78865932379, 238982.19476756474, 160641.3919561011, 252727.65858479816, 214093.19604403054, 101564.9466569727, 180478.09967695104, 239080.6327125775, 83223.93367152201, 128189.6978523003, 279376.1012485435, 119686.96606758556, 180812.5954805744, 505891.1048158866, 83223.93367152201, 301661.10497916193, 112154.30724587382, 152959.65974107865, 251065.95437160166, 173306.45587980823, 966737.0595078373, 125779.11385026222, 173472.01885155166, 173306.45587980823, 142415.56510787795, 191765.41628738242, 188994.31719011284, 253909.948750038, 94738.82626514608, 186463.52711140248, 124336.57639011183, 261309.64404555492, 109564.504795335, 473973.1835355319, 213823.8759019471, 289910.5511780589, 293821.3104076396, 113215.77076186289, 160810.01638083495, 425479.2725900822, 179454.9669748893, 176534.57686847617, 189829.36603737986, 114318.35779375807, 160810.01638083495, 168656.82280971893, 179454.9669748893, 229236.46871102674, 221009.84273705588, 118817.638798971, 139052.714036527, 192601.53572784894, 228090.4572792254, 1022661.6215944042, 124298.99125174328, 158913.33063099804, 550576.6334078065, 335381.785792337, 122523.1214305093, 137875.7914653116, 181842.606219603, 116197.38568676692, 171467.7238060925, 115252.76477915782, 302641.9655400483, 144389.5726565292, 104549.78604826199, 98259.34728626464, 154713.84112517574, 206918.7932904381, 126675.82294182203, 167441.46754192785, 147828.44821832507, 250078.93699248933, 250285.43884718133, 124422.25178573726, 206786.06779570057, 306036.254761251, 211558.331827771, 135531.27428823608, 145235.46903189732, 200573.7543792558, 241906.35136251664, 494518.23233084916, 118629.15685383181, 225454.64843795839, 196584.13229318958, 170934.90260953386, 197804.76102659185, 674697.4934478301, 130294.57522321577, 114586.79093721647, 206797.3489731177, 176653.57458583068, 251846.79543086834, 114586.79093721647, 112551.5217610049, 179073.04529914423, 156040.57279736508, 216662.1615693326, 229403.4456857725, 113675.01519445304, 128365.0737726991, 129459.59892323709, 152623.45082956165, 632813.9507800996, 285046.3227635948, 458312.6570045184, 160597.62716883904, 208178.25165836606, 122976.69878566748, 164759.47990970625, 299049.2178015893, 798824.6604239425, 371678.0202214533, 673984.9527052441, 144510.80775032245, 129221.1537378364, 187985.35279992467, 283554.9135078043, 449957.9187706526, 226154.04163559008, 283459.05070302426, 135454.92386089746, 149400.3718251544, 338260.500767062, 86119.93707722136, 86119.93707722136, 174416.7993123109, 106085.57630325752, 238041.7654259076, 327014.9206501686, 167362.6680148138, 111522.2987992779, 652491.4613013766, 150152.38005933544, 157805.6893296647, 116255.18044304306, 199559.4369367862, 101461.37237687761, 160508.8266250664, 160508.8266250664, 260417.452642138, 116974.12791851675, 115988.38004389714, 115988.38004389714, 115988.38004389714, 115988.38004389714, 115988.38004389714, 115988.38004389714, 115988.38004389714, 116974.12791851675, 101990.20980792819, 154117.85196572775, 164218.23621007387, 178645.2717571459, 118014.76381107511, 127621.75400877744, 190098.9190937002, 103617.24657787381, 111309.40057190685, 160295.9247473242, 239529.5244006877, 103583.02995288422, 103583.02995288422, 82260.78266781816, 158782.0140666453, 276289.438395621, 169897.69751856953, 252281.8335927579, 396636.8721416836, 169897.69751856953, 252281.8335927579, 396636.8721416836, 169897.69751856953, 169897.69751856953, 252281.8335927579, 119569.79570370188, 396636.8721416836, 169897.69751856953, 252281.8335927579, 119569.79570370188, 396636.8721416836, 157318.274110054, 169897.69751856953, 252281.8335927579, 119569.79570370188, 127005.76179073277, 513119.08320676605, 121297.55113423386, 112551.5217610049, 114586.79093721647, 130686.70164824529, 108722.06927245084, 108722.06927245084, 306951.8830123261, 107416.01862496237, 175932.42211649555, 252804.36743935358, 86002.66401051432, 86002.66401051432, 254084.7868580913, 127067.72853260895, 81927.16627472742, 120826.02051263212, 161675.96203350037, 103594.82200827499, 250492.91107721135, 219538.8334810127, 237887.92929442704, 125880.84486421812, 172619.67391246982, 290777.6245807454, 183073.904074381, 129561.98580865619, 134708.791892215, 99457.38918336475, 121151.35647634385, 106858.803731971, 216689.37626851228, 119730.95277779736, 168540.5763789645, 168007.420092281, 156563.16231724934, 204096.56906071366, 150848.19678507422, 168380.4605264456, 64679.142735482965, 96325.91627489997, 222315.00977731193, 169363.94044642829, 173943.48707873424, 234342.19020740685, 132733.52551162677, 178306.1934070026, 178936.87083757127, 1183911.5843203687, 369539.84404066566, 381132.82847033365, 421550.09470296546, 277184.3060378774, 216215.38608528528, 144421.56534632156, 179073.04529914423, 202510.66572806827, 182634.83066611266, 144421.56534632156, 206797.3489731177, 179073.04529914423, 176653.57458583068, 202510.66572806827, 251846.79543086834, 575725.4018268802, 219791.6864307168, 150316.78239188058, 164999.71653629252, 510388.74997136556, 220947.47696309033, 140845.87157220402, 145364.4838046947, 114252.88867380004, 145364.4838046947, 108722.06927245084, 130686.70164824529, 177928.23710603453, 203659.03253749036, 175203.47703767562, 251142.3246731223, 251142.3246731223, 203659.03253749036, 212604.41387435977, 122540.49574077825, 271089.6293762996, 109814.90147919237, 208063.30582130954, 251616.52736400755, 107283.00116733494, 134512.45466581592, 133068.7601686161, 109454.08437432101, 112534.31825753258, 246338.93515002396, 258075.90833515, 258075.90833515, 219836.2140059036, 168018.73126414724, 142262.3179887348, 144288.21544834666, 177891.22809608295, 86418.03554658566, 160291.31188754577, 225260.4453620525, 101849.1967505291, 128443.2126035114, 132058.3753504099, 131080.16958753418, 180667.7314606224, 67344.40347878663, 131490.2630642318, 115035.0398903682, 187723.71566188475, 128273.62769000998, 145641.94010848616, 164927.0524259255, 165484.39718377183, 235088.9867221103, 184019.1842505313, 344728.1703653267, 129447.7679475915, 106192.54892946039, 184019.1842505313, 125926.66063445019, 183131.16989005698, 134336.02678385697, 134335.7882815416, 157406.88059751352, 102211.0295009126, 475508.7137709281, 223315.00483670508, 222343.7561080132, 553096.516574228, 586726.9289530499, 388327.7306010334, 225669.62450748024, 130812.4298231977, 106691.73106399186, 199987.67471973386, 209807.36967589246, 177703.15766075885, 258788.64565224218, 198410.5672026376, 139872.54862983132, 144164.6629047037, 79748.05991892441, 174971.119130851, 154582.4402408548, 177079.4259834501, 80184.2316129533, 156078.44420560214, 126453.26543654379, 90369.59578770577, 145414.76821815872, 126780.10876204688, 198145.76913325727, 319652.9037822512, 150011.32434521813, 165395.55113093465, 259879.93519336637, 161700.67240986758, 131730.6012707941, 114213.01788654056, 116292.2590200856, 87501.85840944725, 84366.37929128137, 84486.12254114056, 151378.26113856002, 264715.9757746513, 262075.59513968506, 233777.86897074268, 332491.4438711731, 129190.39756268353, 147841.26005172147, 193299.55904446577, 110467.06251403765, 328302.62642786244, 325292.61321620404, 325292.61321620404, 328302.62642786244, 327785.2259928135, 382409.20956202585, 382409.20956202585, 382996.531542641, 270259.69399249216, 115361.14233360512, 154556.99576277903, 130467.14712908737, 96600.99224377549, 180880.05135599876, 99898.1828978387, 99898.1828978387, 151488.06120361772, 164620.14651796754, 158714.7362962711, 161279.04856844764, 158714.7362962711, 151375.11357796597, 143027.33796520456, 151294.9052587272, 151294.9052587272, 146714.25968512986, 136266.4101615962, 136266.4101615962, 136266.4101615962, 136266.4101615962, 103445.12830892543, 105094.73742268914, 156020.8820975119, 195394.48190571237, 121698.7472477979, 124271.19236739352, 149916.6715291058, 296871.688019959, 144559.99204809594, 155205.40144025738, 77712.49109293282, 130294.57522321577, 96009.70000818092, 145785.58140160586, 112652.51351681468, 117289.8389906512, 105893.87573640267, 170394.73310914318, 1194720.563518167, 220352.7048005484, 78722.46115937957, 72164.6837370368, 124543.80430460593, 181205.28676308546, 181205.28676308546, 204500.59866896528, 109454.08437432101, 204500.59866896528, 181205.28676308546, 181205.28676308546, 133068.7601686161, 264798.4200879897, 243958.37050182914, 216717.12072697253, 205634.28930407754, 312602.47696682916, 124235.8916026402, 120857.63401551172, 97629.74074720919, 83224.58202446027, 106214.03382226473, 68838.14601467969, 94855.79138875905, 125590.64563249283, 233602.21235718013, 185937.01273379236, 136907.7551686649, 333732.6635984451, 199912.23588321154, 118981.92338996837, 243530.12394213385, 131080.6215732717, 158415.15238833573, 94559.55540204095, 164325.0050302836, 112365.05204466308, 473464.97547796206, 213262.8912848488, 197992.18299450673, 116695.11365866008, 189854.78246548824, 129532.34786238839, 126431.70096726966, 131016.80026638055, 187744.91024844215, 108086.63575464135, 105342.74707066701, 156394.68935148782, 150470.59035666566, 218312.45515749202, 150428.78008727945, 82409.44447308338, 257288.05134506396, 94522.94863725039, 133099.2563107267, 134479.91419117415, 144748.23186927635, 150062.64771047994, 282464.1459731613, 102388.91809965853, 151451.86842695088, 135047.1830448883, 182111.15809210294, 79168.81502793051, 312240.73445624736, 137871.4021582422, 208902.47612238443, 251307.78419722916, 272005.0635724258, 272005.0635724258, 327717.51675332617, 327717.51675332617, 272005.0635724258, 327717.51675332617, 272005.0635724258, 196068.6643529976, 197973.42045157263, 174493.64378045194, 211124.1220721847, 324698.668805609, 105824.7591305639, 236324.18449873157, 232736.23450640682, 142125.9825263419, 280183.83827977115, 452209.8803056709, 229288.94679740828, 244796.29204936745, 135435.41278673307, 145610.07325196086, 339129.0699816955, 171599.58056088485, 103664.54958650243, 210216.79554934296, 384326.7572928106, 254084.7868580913, 264563.5037924006, 251610.7107764361, 233647.12504107837, 618955.998783231, 141074.60311204416, 135860.77204615567, 177499.4122273274, 170845.2515382024, 258075.90833515, 264563.5037924006, 204500.59866896528, 246338.93515002396, 262780.3847240043, 262780.3847240043, 112534.31825753258, 107283.00116733494, 141074.60311204416, 134512.45466581592, 138219.42028944567, 111489.23273626236, 132390.9321267063, 138219.42028944567, 112826.20652805732, 138219.42028944567, 112826.20652805732, 181655.24951730942, 181655.24951730942, 246335.29741870606, 171555.8379786813, 264813.95881537744, 246335.29741870606, 259719.93566206758, 259719.93566206758, 2481691.1310389517, 181461.75703153963, 181461.75703153963, 583366.2742037897, 556950.0971930163, 172265.97292134352, 137669.37820237817, 100518.23961523839, 103079.99066468913, 114669.0972886946, 137582.43482002406, 260018.20325548237, 260018.20325548237, 204931.21911815225, 181225.1882909549, 181225.1882909549, 138607.4187332435, 195316.2938828972, 277867.4766036824, 97807.57827213532, 114927.47260510022, 97807.57827213532, 75199.67234734815, 114927.47260510022, 93563.35244905879, 90418.08879896312, 149859.48197133822, 141580.90036317994, 119569.79570370188, 202897.93734912944, 219108.7430110972, 219658.2678084619, 195767.75574806624, 64047.275329185955, 200399.59634950504, 316738.9126446191, 165074.35136885376, 171978.6764871009, 185163.46716182918, 577867.328388253, 766259.3185329619, 168281.96082294316, 135617.7230177562, 135438.844645488, 136873.46223053784, 136873.46223053784, 142236.01744288878, 848422.6845291533, 147308.97664322716, 1150472.2117407466, 235380.14979135088, 124722.32936388008, 185982.57530191122, 271349.31919076445, 228570.19402349796, 471284.4451395208, 178599.40099096077, 188572.43123768506, 109300.09666152381, 176107.31688897556, 109300.09666152381, 176107.31688897556, 494146.1889807308, 695251.2312145587, 71394.63361213304, 117421.95754907824, 256827.35394061255, 448083.3557967418, 209109.09833110747, 258055.9106412714, 128023.06837966066, 157607.7549195623, 330397.3148911533, 166810.35972828622, 104728.9838738015, 217055.9333913803, 327585.18120494025, 203451.9410567197, 206191.55512167604, 157480.18067355198, 291771.7327876424, 154794.7714081151, 191718.80305417918, 194190.52374685457, 196081.6983086637, 205966.0082124174, 106991.22059037667, 382704.74070234154, 127149.1112462842, 142334.54567199317, 126676.88854176237, 121532.51776668955, 249752.84671902482, 130021.62781027937, 146737.2262856642, 151959.94045454578, 123849.17695831036, 173088.38718328625, 147600.89892884047, 203218.10130314765, 123369.17939365123, 193559.6649626142, 111374.82854331967, 184397.98787859132, 337877.404883596, 144886.15186565832, 185891.5391146368, 249328.21704726608, 172641.05448598656, 87501.85840944725, 79133.26147168662, 114794.22193351616, 137593.43438869106, 80539.19653262073, 197289.94972532953, 80150.2024342285, 272578.01856842695, 255961.12120701498, 441423.32064054476, 1193926.9041862835, 1002896.110102601, 179899.895499776, 134707.1985819096, 153946.72805663347, 161931.64567202126, 152669.87148632534, 252070.27494385402, 184751.98826621321, 519130.78189518006, 120000.1790999262, 178714.02923113995, 116742.83291703733, 112911.15488816866, 92318.35069459298, 87501.85840944725, 142199.2334676513, 305842.84824061283, 309840.24032132124, 341254.00698842795, 164903.2351597073, 116710.21015078679, 150061.64676388144, 171213.7279158607, 145326.19931175036, 147048.48341580396, 146950.20255333072, 111905.95319183709, 111905.95319183709, 211053.82951656549, 198232.82581428805, 197437.99415398244, 197759.76717221172, 176805.04882777773, 176075.898365446, 148608.4720044326, 173967.46450730125, 93956.61897141144, 134696.53696941613, 105574.2739345035, 183350.7313663145, 244672.2611230039, 214536.25230372674, 108067.14088037121, 245392.94478295956, 311083.93263393134, 133683.60164826526, 124806.27175922244, 96107.84124169208, 127531.19120194497, 92409.76682741329, 197417.7766431246, 85843.06561898554, 771935.2870839578, 161930.6308566482, 350195.27112730284, 2391373.234221436, 163989.74820369759, 123053.74405613187, 292247.691096066, 161713.2457547396, 326398.6695975458, 139699.4757180969, 976148.1890161091, 160129.10908683177, 178300.7985773923, 117492.81763100419, 274154.8650451302, 198291.5174494622, 165715.57926577228, 100617.39642834754, 180166.48946896382, 359528.1559668605, 103769.53294955927, 596599.2498967674, 138607.4187332435, 265762.4023360967, 141223.1960630862, 114536.35500232561, 107309.985316231, 634470.8526208875, 162463.2612440651, 343025.0615865623, 139310.15175402162, 123466.61003428939, 148227.97958095567, 271626.48590895126, 146412.2661014917, 176406.15153490315, 102695.21560345807, 97728.50971014122, 189200.99195255875, 126367.29119938114, 293363.23273944843, 99937.27411413613, 264351.80398153386, 134164.41246193502, 180123.52045682116, 163630.489908278, 144558.30776617955, 168426.04637030512, 185247.02798148445, 129821.61409061436, 129821.61409061436, 212785.25869750732, 199650.1699504291, 110902.80274507553, 384281.9554748996, 151611.2589971568, 259464.46639768494, 224486.72679298138, 133828.96524006155, 208057.25138929943, 274365.00921809766, 299764.41339856904, 269312.70854957215, 106621.92719057333, 145964.93244914289, 142574.83216186363, 193803.61701342676, 474862.84376914427, 123776.91315475776, 131326.82659197904, 131326.82659197904, 212985.52312716606, 134851.87430126962, 134081.28992803185, 130374.04327122998, 171388.87120809354, 338090.3219068341, 198766.19859262052, 236390.6348908975, 483567.3693218207, 202770.60502493737, 207920.86277311668, 96621.9851507225, 216466.66821687107, 147398.83088416734, 225307.1117519775, 167606.1415668235, 194048.4029263972, 346447.54405411147, 130645.25170411763, 140513.7464660852, 93440.73915604429, 139441.57764943741, 1041464.2927683402, 159372.95496369706, 152432.1488857738, 209801.7769215993, 385829.5580747356, 193722.34139714233, 138844.57289580855, 228210.4441147958, 160517.63578401686, 185286.99091262466, 136810.80350066116, 175023.6896508646, 196073.02371080202, 399473.3129557696, 194820.4397745155, 146359.54881782283, 169062.21929015545, 105346.58279633545, 156028.8792630166, 245909.75899762727, 390074.4001455365, 98632.4120910003, 106615.9494858342, 91450.9703871657, 163201.32991063132, 155897.26141566026, 325200.2538445321, 325200.2538445321, 78463.42265449333, 275464.65542947385, 130294.57522321577, 137046.28895522267, 117569.78438652298, 137260.8106751417, 137260.8106751417, 137260.8106751417, 115496.47846325953, 186118.31467257283, 115736.18382465374, 98315.4433727125, 330703.8973355994, 370091.4598098569, 327153.33524873585, 680481.8969122786, 335583.81597508205, 196162.32579123048, 204931.21911815225, 132392.31826498808, 145984.30917032465, 260018.20325548237, 181225.1882909549, 171064.9204115399, 122856.87935856337, 182093.27991434681, 258949.94613028847, 258949.94613028847, 182093.27991434681, 251229.6190381616, 265629.34118811414, 210155.02682775044, 210155.02682775044, 179008.01251334677, 188363.87043955075, 134579.39694852894, 141551.84398296464, 387574.52373861487, 389293.55284772883, 225855.0472162179, 271018.82678247435, 147619.61850559228, 338391.5315734772, 172494.9364893981, 100397.33941775623, 224579.39994879556, 330978.6897852565, 204141.55845965695, 206781.75036236877, 170788.03848205687, 136088.53453335888, 242328.2883389608, 272108.89764198125, 148408.36838143607, 68060.71751146244, 180052.87021470343, 231189.1090584451, 206586.5857402299, 107979.82529885991, 153813.149625459, 241316.9603274421, 797476.6818828186, 152386.3520815696, 117423.63122946455, 366454.7886191788, 72414.33054207572, 138190.09256930806, 291057.46481226163, 134488.63509896523, 190370.99657322685, 797553.4020912485, 77064.40447811747, 261210.2533301002, 334996.2979748379, 177385.45444711042, 324878.1413285174, 157318.274110054, 92989.16130549007, 166868.5241741356, 191702.0861043881, 762648.9557264801, 254860.97172421607, 137244.31693313803, 203532.00122792355, 183888.65143851575, 163726.35010184356, 310372.4139864393, 310372.4139864393, 278537.5341237633, 310372.4139864393, 286429.3516558324, 286429.3516558324, 309831.63574139006, 309831.63574139006, 275636.1868493124, 109113.63067820451, 122465.38368332444, 82699.98853455385, 103014.29786448156, 133869.4923888914, 210082.9236521567, 166341.60761467347, 185048.21217973324, 153241.03636615584, 202636.43189646065, 114357.8389079826, 132696.35155648633, 195629.07508516466, 126622.26782246112, 309043.0383184131, 137314.74562957976, 69551.3329425483, 131089.3322184444, 154748.9183894316, 411989.4324157456, 1245805.5890534145, 1245805.5890534145, 200622.39123907115, 405417.3312524037, 405417.3312524037, 405417.3312524037, 405417.3312524037, 199219.53917123482, 199219.53917123482, 174319.51463632775, 194457.96826014796, 409805.20519110706, 409805.20519110706, 129716.42320306011, 324129.64390806283, 604394.7885976157, 560422.4380566067, 871382.2105370627, 145274.82059830567, 151583.78673453533, 197004.73901853373, 187143.704930638, 128555.30846403338, 334104.8734532259, 182154.37369365213, 229031.73325645333, 422711.82806823537, 136860.7038248775, 136860.7038248775, 136860.7038248775, 376789.42414945655, 165379.03203856378, 131377.89228988733, 123968.68986979304, 129656.64966562041, 204471.8482109871, 227973.3990451114, 175268.5181408134, 129926.5343389129, 212231.8252356154, 191460.06192982575, 153837.5230310475, 149134.18501144822, 127541.29757192053, 93748.11121175808, 93748.11121175808, 306965.2433631753, 186718.0577297906, 252155.1528313863, 202887.41491210953, 315756.9666951034, 149723.37151992478, 152699.33085903488, 162815.73688449297, 514179.85611322825, 221803.6525734995, 293338.7929201693, 303790.76726990304, 130645.25170411763, 335748.83962664806, 155947.5950402879, 268839.14217027376, 144266.99892947348, 407070.5295421323, 291879.7991417472, 187659.19091950203, 187659.19091950203, 434324.35999706853, 126652.683794237, 140240.6072251201, 187659.19091950203, 187659.19091950203, 187659.19091950203, 141543.36687222112, 148029.9284631756, 148029.9284631756, 148029.9284631756, 148029.9284631756, 148029.9284631756, 213437.04020447235, 195222.7338625367, 291015.6148344358, 335748.83962664806, 1456148.0465612682, 483060.6069176984, 176950.28536073648, 126112.82253925211, 179591.75124026724, 117396.2324132199, 210225.06752812484, 160734.45962314756, 164094.23537879676, 105732.5955066661, 171375.86272399512, 286821.1302711873, 138659.85498712104, 116609.37485642981, 116609.37485642981, 174854.78264935754, 265629.34118811414, 182093.27991434681, 260941.76584498936, 124237.78468074778, 258949.94613028847, 116609.37485642981, 188363.87043955075, 251229.6190381616, 174854.78264935754, 260941.76584498936, 387573.6466102225, 251229.6190381616, 387295.46467023523, 187506.42616890324, 115820.89689929775, 181956.1911557876, 181956.1911557876, 260234.93645768278, 136930.83666730073, 124676.02352272597, 266326.9245560275, 210300.97861727388, 119255.99199334206, 119255.99199334206, 143988.34828537577, 124717.26997680722, 205491.4523570697, 216631.59684282052, 298987.5497325835, 125661.83770924449, 124574.63905484791, 124574.63905484791, 189605.1297946432, 260357.82389327593, 260357.82389327593, 125108.59087556729, 249908.82608982734, 189605.1297946432, 151062.25037666684, 190362.00853140868, 210406.85190410243, 125661.83770924449, 189605.1297946432, 149403.99173584426, 124574.63905484791, 241510.84076506633, 130645.25170411763, 130645.25170411763, 130645.25170411763, 130645.25170411763, 186568.1248311985, 129108.54805970998, 152699.33085903488, 126156.07268765943, 128328.05296707834, 164217.73805477662, 229789.05421048997, 152699.33085903488, 63803.18430292095, 144763.9603017558, 187659.19091950203, 187659.19091950203, 187659.19091950203, 64056.78673928962, 128778.74329919714, 214879.65240835864, 219743.57980673923, 132988.77950396706, 128606.84700717445, 141215.98577316807, 130645.25170411763, 130645.25170411763, 128606.84700717445, 132040.57989001533, 274504.44015689427, 130645.25170411763, 130645.25170411763, 130645.25170411763, 130645.25170411763, 315632.1126584602, 158242.20709627686, 132988.77950396706, 152699.33085903488, 110355.12762350762, 153289.17949846762, 144238.75839400408, 208657.83530030097, 78823.17232481879, 160412.72230896566, 308237.19096671394, 138098.7759860778, 187052.68719341222, 153940.18863120314, 666594.824382965, 105394.59575004052, 232654.41600364263, 222318.96209915026, 211310.96556493288, 207447.25518205846, 127067.72853260895, 172140.46273763297, 182620.562582385, 231004.51224653423, 231004.51224653423, 183953.56942593164, 428149.5096706186, 241787.49793903547, 236144.44819227175, 218754.76984272225, 90911.34670523311, 303994.08123161946, 238194.73805467098, 171581.74938061408, 431791.85686241393, 104748.57313165367, 200062.23376277194, 330350.5035444915, 137389.15137842382, 306982.65404066147, 242070.65232651675, 171836.5273314217, 274784.3823081114, 192882.83358309526, 170039.70215504218, 89005.62803757505, 172155.222635697, 207743.01040787005, 359335.3800425942, 520832.15133250336, 470664.8457273518, 230394.32733105327, 162629.133356399, 385692.5938472077, 276863.9080448263, 90415.74285553064, 94921.33681824984, 95157.94403984334, 188446.35101515945, 510432.90044860845, 261633.86885874515, 210406.85190410243, 148804.64764263568, 175935.7630790102, 260320.61488100913, 179965.15033257642, 218303.66417582682, 228926.20567101068, 157852.47044260817, 179029.3150885819, 2397052.715333607, 179775.71091544686, 227857.8487777356, 261033.804712839, 220725.22677769262, 166328.08855625667, 173763.0809071313, 326765.44903907686, 110459.97561337338, 1377469.0534619736, 143648.85677613755, 95930.89096894095, 141113.3188355734, 205526.55935295334, 272723.6332421676, 664370.9931860222, 137260.8106751417, 114761.24781755637, 138287.9232173649, 184532.0121332385, 288628.8541125197, 162073.50840699568, 92046.91182053197, 227084.13699911258, 97498.6106213335, 176659.06288746634, 104346.47988117163, 296360.96032843785, 144687.1038339958, 512660.0557992739, 441779.90943357605, 485654.40353165654, 77068.14550813977, 148892.76189404138, 254728.94264596383, 171591.41367643702, 232908.6477100606, 194643.7986475255, 294903.5523587223, 349965.0789723805, 147752.1756182451, 271752.7152555916, 177827.95296786175, 214923.8470579412, 190198.66567728287, 363719.5614584171, 362745.08959697647, 102564.16316640741, 110039.68094068054, 96596.32477442647, 135634.6115367584, 158000.59618212824, 311265.1283046167, 133546.76979753346, 109924.82292202247, 134863.2414042625, 158559.96216931543, 103423.42723684336, 190792.48703855046, 595903.3082430915, 507494.1481820398, 490535.0253806065, 175718.54555836687, 104330.51599733027, 191012.65848604718, 185858.44048650863, 162051.20258337556, 141721.9123603762, 188175.96019971743, 196867.4404983453, 127047.59782425576, 259512.79183568302, 259512.79183568302, 188255.092928799, 122467.73691590739, 254125.74727775616, 188255.092928799, 128720.23382431248, 128720.23382431248, 128720.23382431248, 517052.8129909817, 322463.37890497636, 136856.79663167096, 150206.72242453406, 279357.5114470671, 94065.72631653745, 146904.61498061943, 113817.7836638437, 126513.45532730629, 123576.19426294816, 113798.4896803252, 113798.16918694047, 115200.31249622177, 116876.83854916604, 240678.44600366178, 186853.728832872, 167949.00677229947, 206783.30493753802, 167949.00677229947, 125295.37478590813, 206783.30493753802, 762991.2802655415, 165245.50823319022, 157603.67244206823, 114550.17730143579, 141014.64814707445, 118774.64284992618, 139748.86384918727, 120713.52462596144, 154569.17895181512, 151127.2156180063, 117771.86553681541, 372081.6473284231, 156205.19393334485, 282607.3497254398, 137260.8106751417, 203688.28073616407, 207387.56808864104, 331682.7884565728, 462123.7846579056, 256922.60235024287, 256922.60235024287, 127149.1112462842, 127149.1112462842, 127149.1112462842, 127149.1112462842, 340335.7904802641, 396291.9726875714, 212543.49984506879, 341443.1729186767, 173708.05537521615, 92711.5946514069, 109212.0422320129, 356212.5128876855, 130440.29327060992, 175087.06158126163, 153427.0272183204, 234837.60713502433, 130896.29420637456, 142583.33730753488, 159080.8995849602, 107268.53707566822, 284078.7076863178, 450631.7315833437, 270704.10670896876, 180046.8061822622, 282572.705115453, 455317.5883297216, 232768.1921931124, 276644.7424698767, 151722.00551085873, 335045.98266628815, 171880.059405728, 105356.12094192294, 226976.02810751027, 340103.6483690163, 202587.81650022106, 202587.81650022106, 433363.1291630454, 211748.62238870136, 196867.4404983453, 184204.7037334012, 182645.6484181643, 377204.7432758023, 142027.16926396, 104034.23440347037, 759576.8285771924, 349785.0933553811, 473067.78975389525, 97554.90756899689, 232568.04247636843, 196911.7454003772, 149990.88387029013, 82834.44228597409, 209384.58324269942, 77400.0780012214, 296487.5562849983, 167167.70827235532, 96960.59803806408, 170793.43920656067, 337167.20024003985, 145146.1780281502, 126085.93212340077, 568307.6975339544, 243489.2822587361, 99982.43090484876, 148147.20633109938, 176631.22091178122, 137808.88902854008, 121015.59947569501, 394146.92787131236, 393149.31311500684, 737548.3313783708, 148776.15469564885, 313843.2166648239, 115182.82634111977, 606329.4320575494, 191390.20985135034, 293112.5634087681, 84049.94262330147, 92829.9507955669, 132762.68558484927, 622220.8061987612, 86563.79062264306, 86563.79062264306, 316208.3978205153, 274934.27827340824, 135667.85314664946, 173254.6073504473, 290176.4117845273, 195731.22132699774, 188025.43415565998, 181724.7420344418, 413020.6716246566, 133908.52799323155, 269584.8522331376, 445489.0787482104, 220658.81537426764, 274320.94730258954, 142561.36114402604, 325747.40209894755, 163327.19109893948, 103489.9257201677, 212782.21131701107, 331314.85123496025, 202791.91709955456, 202791.91709955456, 435219.6891600402, 195539.92042842362, 208138.44519375393, 340324.3320359298, 228181.7166727765, 182783.1905174786, 177882.9392869344, 93525.60150139994, 99582.55436681586, 109944.00920608346, 230402.64317510306, 149536.77246804364, 111320.8452656905, 147372.5133588849, 127733.93370928362, 375801.34268133086, 370008.6132844919, 182419.41813675629, 412144.55751387135, 279795.1375417029, 199540.61107476288, 183961.95527231065, 121303.5414742723, 145423.69026039055, 163790.75800769098, 82143.10852286243, 239067.70455459238, 153116.7888783215, 106336.25886898846, 260047.9141263604, 180830.20624400623, 115683.79416134195, 379058.37670990254, 125629.07870010508, 174369.13640646942, 554300.5045543882, 179076.11661070396, 176079.67737339623, 106945.06951592532, 120134.52972367562, 116867.4428365269, 185171.31035922095, 101891.42344393425, 147642.7799686691, 180726.51170526416, 166235.99457357265, 247879.001768633, 211627.74988150835, 73085.09540441784, 107305.53125596716, 198912.88694004182, 301716.1116222527, 229923.22395100334, 152270.37615423487, 167599.69852956798, 187328.85651471856, 198352.15156896808, 124912.64259223592, 137041.18727762345, 134014.76541252862, 117816.33679435636, 175090.79293063545, 119178.94366271916, 135635.6164897204, 74172.19293104278, 140455.6747409125, 129494.51300792128, 92985.7194593717, 174369.5387097284, 125894.89538357171, 109197.93159946881, 126739.62385626062, 266091.34050383605, 202290.99978304715, 114859.16450540327, 157469.1738142704, 162614.14119127748, 77084.78472826692, 164237.3888851243, 224846.1105348677, 182621.18631774763, 262889.5304669189, 181319.27861932197, 158124.28672146398, 154379.15311894414, 147163.68527155303, 200297.8260922291, 217538.91248894765, 135364.0535617974, 69607.55244822141, 537436.0780342439, 179656.8483540575, 159412.0714585033, 135038.65482431237, 136914.3572609914, 282403.52758196846, 175728.00718298956, 175728.00718298956, 175728.00718298956, 144141.44128447236, 144141.44128447236, 144141.44128447236, 144141.44128447236, 144141.44128447236, 144141.44128447236, 144141.44128447236, 144141.44128447236, 144141.44128447236, 144141.44128447236, 144141.44128447236, 73735.98759691807, 152368.40083528147, 138300.8551663155, 147591.54610838217, 291903.9360399833, 134701.1486435994, 253858.50619137197, 103910.21699695164, 146131.6979374757, 156698.84319083896, 152292.96026538545, 156227.22098272282, 101613.28356009148, 308231.2466385915, 129381.49622314388, 274684.52727977134, 268795.38634599675, 240008.97585126356, 240008.97585126356, 103507.41345066005, 302350.77307437477, 115993.2410466795, 261823.55757097833, 295340.1691061637, 147600.9103601127, 217535.3229825715, 201364.9014644436, 291323.67948809115, 93916.54702475973, 154788.76510082217, 113219.19332374728, 504790.7851682487, 199001.88765067112, 688513.2123121492, 170027.62619106733, 161487.20650256515, 163621.60456212095, 169606.64596352557, 155282.86228734255, 255085.33262011938, 242037.01416829173, 108165.03960664925, 158882.63364497782, 158614.79313931032, 443117.7142630075, 231391.0624027822, 202960.08738334832, 150466.34085184982, 218360.00722437768, 326895.09467014374, 221958.00299033272, 258644.5779279631, 565498.1403117571, 174400.06612093683, 138436.87030373068, 139562.7704530311, 154523.0401618242, 154523.0401618242, 154523.0401618242, 174743.68592571892, 652569.9128577302, 176744.62509271936, 176744.62509271936, 180625.10268517098, 610295.2943079323, 455891.2252468923, 610295.2943079323, 202415.82724608172, 123938.86066753772, 176744.62509271936, 183249.2706909275, 183249.2706909275, 183249.2706909275, 183249.2706909275, 139784.59239234426, 159591.33664804176, 422866.05007704755, 121198.76169940078, 378722.6611591346, 118796.74600140608, 198744.5031409458, 215903.7404059622, 122741.76991491803, 175071.22348060278, 274698.3459937818, 188058.84456388082, 325333.148172613, 140080.49966388717, 467893.25514176016, 104340.22560454006, 118913.26308689325, 242111.55922427282, 161208.666203623, 152223.96548921714, 139758.29612481187, 189612.00437295256, 150757.23360098968, 150757.23360098968, 148798.0481321153, 150757.23360098968, 127670.16277856639, 247206.23965545167, 292519.48647821054, 256301.22438193587, 435990.41757144773, 268223.11015769356, 451490.4217751632, 169533.496732446, 467436.06373925554, 452817.70271115954, 241736.0294795916, 180203.5930896849, 202065.9387442614, 195969.66829645965, 153181.6322891001, 127047.59782425576, 196867.4404983453, 298246.0227125315, 151867.80230816704, 173101.58913273097, 202065.9387442614, 202065.9387442614, 153569.9966078034, 173101.58913273097, 153569.9966078034, 211748.62238870136, 397854.90745306516, 128720.23382431248, 196867.4404983453, 196867.4404983453, 259512.79183568302, 259512.79183568302, 254125.74727775616, 188255.092928799, 154121.66363006632, 194863.82611242536, 195143.23646926193, 260747.25913466295, 212032.80887192232, 121440.5196472206, 123150.23581030214, 122886.80638687065, 261095.8629137027, 187392.18442295695, 144513.81345944453, 214373.06907554602, 196126.18794002055, 144321.8642223247, 122309.942200563, 170002.6070304247, 171877.9800475919, 199990.8627136599, 199990.8627136599, 121931.45583596147, 144122.7621867548, 378404.3884833334, 149724.97649333725, 354540.0279772141, 108406.93643091833, 163551.4052317136, 179871.97405298013, 134597.32448951167, 105811.60461121143, 159330.24747063473, 74844.54027585112, 140521.51619166535, 137072.59354661423, 161158.69788658846, 95238.53135434966, 98577.77203386136, 147864.38297349925, 270681.0072455518, 245692.29462014922, 99151.74208391432, 158807.40911859577, 155915.06852647034, 159061.94510918274, 145405.50125539678, 155910.53670411475, 434738.2751926335, 138106.04260991153, 157737.31415251954, 199476.76495868253, 226823.98006957036, 139379.00082580018, 118560.55115404759, 197272.79084244664, 108674.99961150993, 143697.20014749648, 276707.6252850709, 174074.77853939447, 186455.64272965287, 759566.9208873002, 177206.74776222595, 145707.2909060147, 351218.00637578225, 149684.53436662146, 115263.69458140193, 241452.8504718786, 446342.6746146215, 146891.95692066455, 200378.29834661185, 179673.0144994206, 289954.22989096923, 117747.32079545174, 152908.20906924573, 261689.3608465457, 179647.52668087062, 278676.6618859952, 123150.23581030214, 123964.7995080194, 261095.8629137027, 195589.47004064586, 210770.85062004218, 170778.13331963704, 150110.12723526955, 261102.1530019687, 115578.33000944703, 147030.93530213577, 269574.4225760923, 446468.3279751954, 220142.45547078727, 269569.8829922074, 138363.92835890767, 327239.6581469629, 164831.7945569913, 102986.01645394953, 211564.44751848825, 332027.6477879713, 201886.0191893575, 201886.0191893575, 435199.1291461719, 144321.8642223247, 170002.6070304247, 141273.0957691181, 195564.81540001743, 214465.50948564816, 195564.81540001743, 143945.8842356986, 126972.59153653395, 170860.04981756007, 147629.46953297965, 118566.36086484563, 195031.606665407, 120868.97619713328, 259491.6877138663, 260245.09982486762, 142685.4160420939, 195031.606665407, 141605.68078751807, 260245.09982486762, 259491.6877138663, 126306.41305049299, 195031.606665407, 151134.60958457252, 75923.54529743124, 113813.61585690148, 118651.30861308581, 196197.47330039763, 190550.80097152718, 119712.0950354698, 150759.92758757077, 198271.5495189144, 120328.83734683922, 244821.36288575336, 136956.78890557765, 141311.0462649681, 136956.78890557765, 232851.14391895145, 126628.39079758686, 368607.59347050963, 99898.1828978387, 150691.91450756218, 173669.3783265745, 99866.27858705986, 1352557.9703837128, 88126.73293689384, 92468.13237765414, 153963.85834853913, 136089.83111282348, 94399.732569365, 94399.732569365, 92521.95231886348, 82100.47025383504, 77032.16202758213, 168510.49694023991, 178198.51801514547, 118162.99887614866, 152159.9871864951, 126544.12771770467, 120456.13390473447, 1126563.154382638, 208565.14966537946, 105945.6263315505, 170518.39714740537, 140337.426116839, 140343.52171964542, 142415.65892787237, 141196.9872827366, 136344.94172278, 231153.26661643217, 233244.50666669494, 193427.1274076425, 179419.34478509985, 264160.4670052427, 106243.32101726296, 188781.174688095, 87400.95751628092, 122801.45121643573, 130032.36819071566, 107137.77443339967, 347261.8430083109, 175873.73385730927, 579105.7791088544, 390785.88245082804, 179986.90915195819, 203268.6079831464, 98593.88418344592, 154456.88772429002, 414485.06851546554, 104485.72506684257, 133880.47911265935, 118503.02441708742, 223843.7043052634, 184504.1266802255, 228847.03359915118, 91101.49543004567, 186085.10035007427, 451045.79652846593, 155743.05066710955, 142920.76816543099, 350183.3738549281, 132605.16147863545, 124817.72441304587, 124817.72441304587, 240007.28175338305, 248583.5172451384, 411499.961921721, 173438.23855590314, 166604.6932561767, 223756.91338192247, 203157.53046411986, 126306.41305049299, 140842.46883071138, 120868.97619713328, 261273.5821860457, 333446.82276729704, 334374.3792585795, 271858.0949548445, 682501.0245116159, 191143.17680964537, 392448.1592110742, 104950.34379293624, 155770.090708499, 482886.4908813987, 350179.4847998304, 737870.6618154086, 156296.56353557654, 189474.01035548066, 619560.5059055169, 217237.5925653829, 199044.33178248568, 116752.09994582558, 272953.79131378286, 261564.0872610715, 199980.74024852045, 200494.0704293185, 262798.1966786371, 214862.8562262722, 400116.15421801497, 214862.8562262722, 273460.927863913, 118566.36086484563, 170888.284135297, 170888.284135297, 259491.6877138663, 260245.09982486762, 118566.36086484563, 262798.1966786371, 200494.0704293185, 197718.043234274, 172544.17593489797, 260115.79206661019, 189474.01035548066, 260115.79206661019, 197718.043234274, 260115.79206661019, 117570.27915347106, 258762.1022986426, 168711.48476885623, 139880.8883081763, 354901.1862318611, 135397.27362598345, 234161.12905244448, 286230.50576793926, 199328.64715801837, 126583.35165459212, 221880.13492893352, 149148.2892601668, 204462.45602531062, 111095.81940985339, 79787.23920705935, 210995.78696931567, 466587.1771483354, 209643.73672280327, 164182.93051074125, 276707.6252850709, 228092.2842866273, 208425.3474467059, 190942.03002985287, 172252.91492484472, 172252.91492484472, 168835.28259040514, 128831.67702245273, 129510.59866028534, 204542.97130053106, 148234.58946469033, 136173.68516870402, 579367.966298042, 776584.041215237, 209172.86170361863, 443530.5255734885, 151261.35301277484, 665139.8194851289, 177178.88386431886, 216253.13481418006, 152797.31926912197, 210134.3076869914, 84730.21656522859, 132644.86575968008, 92161.18087564824, 90351.63464505572, 107579.85415804916, 163184.33881813465, 179521.9611522914, 80326.01204754581, 391759.87452257256, 180138.0879328123, 94466.18637360395, 156090.6096431156, 204258.5528123164, 184609.6231399853, 237516.45498766442, 121508.98832413858, 173848.68615587446, 103845.78904664572, 339767.7594104314, 111029.19058288044, 268640.86232077295, 119938.28296179294, 184135.06776459469, 508800.9033760209, 311347.22189654387, 726116.4904933253, 187392.18442295695, 185109.1724111974, 254041.04061760847, 147629.46953297965, 125173.62374401087, 180105.4040350364, 184684.06625361927, 146926.14407051803, 146926.14407051803, 206003.7467831907, 195031.606665407, 195031.606665407, 146721.7965531375, 146721.7965531375, 120854.4589955418, 261273.5821860457, 193998.22636689016, 171751.08451413194, 230855.75266900455, 176620.01352876547, 299682.1843247892, 189558.96051120263, 113555.94810903058, 258286.88652879163, 231374.1276672234, 117211.82068102754, 117211.82068102754, 497718.2957880134, 351316.7391105433, 351316.7391105433, 300468.5996511516, 295398.12279904704, 325200.2538445321, 127149.1112462842, 128699.61745659313, 78463.42265449333, 120905.45737200204, 179174.15719099698, 170998.07776570966, 168521.05416943718, 132887.60497954852, 172716.22419865197, 131545.95852796445, 95298.92644363623, 97511.97911679246, 147655.59041548736, 140066.88979076038, 167438.12090671188, 155858.0410855617, 202856.4495849426, 194602.2732566456, 81327.39205489715, 125137.2401671239, 240072.31077270617, 123250.4086580596, 125320.10362545997, 154313.39308697984, 393165.96898145933, 131447.8729713903, 231543.08954812266, 119308.7071477483, 172601.9035846514, 118323.22027387863, 332990.96872761333, 442600.3110076447, 174694.2974520783, 112719.91644322938, 584876.8813624462, 76779.70328141405, 144953.00096560322, 98215.64601575825, 346407.93592939683, 125999.84928245543, 168729.25332426504, 158292.69978017916, 108270.54375853158, 180810.16560085412, 63330.08575230592, 268512.436384554, 268512.436384554, 301796.11611584504, 119436.32795501263, 213178.2155759059, 332092.90973714297, 136255.63231609587, 211423.91621930094, 161491.67093195967, 126318.25126808615, 94286.61285499657, 142461.81350582864, 149155.2789351722, 199244.46911101596, 242526.28674783217, 107033.4475746286, 253923.03768608472, 291341.2402516051, 285457.77471625194, 177467.60742193443, 387736.5263345522, 1091289.2101737754, 423824.0535351318, 423824.0535351318, 174744.37612217118, 90924.78636962475, 153824.90871648968, 140422.26947373684, 278927.2158387773, 198082.44154510187, 287857.58845824696, 131476.94152829875, 162275.73985568143, 87132.35614483111, 243774.3510638834, 165983.53986451885, 179221.77798910745, 182296.83418438834, 183102.1076975054, 276589.07849826984, 276963.06175958575, 278895.62982254615, 203836.1465923068, 364250.18590693804, 130974.33022238319, 389604.69615669205, 207196.79935747, 286332.08398217615, 184437.56061136303, 159391.37357748122, 102098.66723907314, 281967.588929475, 186092.11879270454, 170685.64442954576, 147777.9300310614, 119552.70392391994, 175187.61709811082, 166914.49485484272, 364027.7897567829, 125591.26113488391, 177589.7891751883, 348478.964275672, 238619.219563438, 142706.14608194202, 155950.47458082973, 275026.3568401447, 150966.14832097787, 254951.7095193037, 185420.87012533462, 189334.95240126035, 273824.66982151684, 493898.9862750451, 429841.74849771644, 172594.50247220785, 201270.71528760542, 190463.4969778133, 138954.295899937, 204773.1882611587, 219856.77135953578, 165948.8784594178, 96386.93761024904, 78445.6015497063, 93092.47321584167, 132040.8355764142, 137999.44224256027, 194263.07790662136, 184601.49055567052, 99435.39098285353, 132448.2906066762, 232243.82444456022, 92491.27797533362, 116252.700937141, 162725.66463191912, 233104.7121435669, 259484.2083297635, 118911.21523723326, 267029.66984350345, 267400.2685671218, 157608.77865311567, 195558.9648468806, 159945.00493542032, 452125.4661921616, 188210.30026788154, 261309.64404555492, 334745.63085649716, 382996.531542641, 382996.531542641, 215422.02581999978, 135660.52231961736, 162437.24777897677, 171240.18341148563, 933553.2467281829, 209497.6309804981, 257809.73809196075, 128566.17049526455, 176902.35320441416, 558766.2643527703, 129051.89789984762, 286034.14589853847, 408341.3035552419, 266332.5812652914, 128446.52308272404, 129312.0031506205, 128175.13584822934, 182138.55654960102, 140240.16198373295, 170860.04981756007, 95778.98199597698, 157614.60167355684, 180105.4040350364, 269571.8776158961, 475419.43830730027, 219849.6637279823, 271956.78220033157, 138322.35578452525, 327986.5165307894, 164109.01117267914, 102991.41722489629, 215390.8459765464, 332147.7693270781, 201116.08644706264, 201116.08644706264, 145902.8719806816, 173600.25874876863, 173959.0971810166, 173959.0971810166, 272196.70115073957, 214355.21563987932, 214355.21563987932, 182396.97045452945, 173949.33116020903, 181856.48066304802, 145832.50336879655, 155277.08740552745, 125013.8208095867, 200068.74946795125, 164585.97884068446, 275036.17330846714, 150695.87810080004, 130743.5557909403, 213659.14974551956, 158379.39969951753, 65740.26596769996, 94921.71927950734, 80968.36702538036, 119511.69480033591, 208864.7956522148, 149348.63102129803, 127002.7593851715, 256385.76291650126, 123715.21854359984, 298674.58970688534, 178836.6337082408, 264394.8809091717, 143435.37593480686, 97725.63560460629, 228781.45453914767, 208395.65178489234, 158983.15497430824, 250421.25116859813, 130393.91313780591, 130967.1559081402, 212606.73432473274, 147892.50830297757, 130385.5019502966, 137434.68424301984, 148042.30745539058, 148154.1421998634, 130517.52665608234, 204794.49041813362, 183353.73366690386, 187394.24695315963, 720913.3755380389, 141762.89359380526, 142698.5873376683, 106184.97736953513, 144443.30574588757, 233275.25835568854, 233275.25835568854, 494068.6608217075, 65879.5269835479, 167444.84362996914, 218448.72139683345, 162579.7789545413]\n"
     ]
    }
   ],
   "source": [
    "print(y_final)"
   ]
  },
  {
   "cell_type": "code",
   "execution_count": 70,
   "metadata": {
    "collapsed": false
   },
   "outputs": [],
   "source": [
    "# escribir al archivo\n",
    "output = pd.DataFrame( data={\"id\":test_df[\"id\"], \"price_usd\":y_final} )\n",
    "output.to_csv( \"../data/result/RESULTADO_FINAL_\"+str(now)+\".csv\", index=False, quoting=3 )"
   ]
  },
  {
   "cell_type": "code",
   "execution_count": 71,
   "metadata": {
    "collapsed": false
   },
   "outputs": [
    {
     "name": "stdout",
     "output_type": "stream",
     "text": [
      "Minutos totales del notebook: 48.58 \n"
     ]
    }
   ],
   "source": [
    "notebook_time = time() - start_notebook_time\n",
    "notebook_time = notebook_time/60\n",
    "print(\"Minutos totales del notebook: %0.2f \" % notebook_time)"
   ]
  },
  {
   "cell_type": "code",
   "execution_count": null,
   "metadata": {
    "collapsed": true
   },
   "outputs": [],
   "source": []
  }
 ],
 "metadata": {
  "kernelspec": {
   "display_name": "Python 3",
   "language": "python",
   "name": "python3"
  },
  "language_info": {
   "codemirror_mode": {
    "name": "ipython",
    "version": 3
   },
   "file_extension": ".py",
   "mimetype": "text/x-python",
   "name": "python",
   "nbconvert_exporter": "python",
   "pygments_lexer": "ipython3",
   "version": "3.5.2"
  }
 },
 "nbformat": 4,
 "nbformat_minor": 2
}
