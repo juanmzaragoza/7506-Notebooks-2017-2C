{
 "cells": [
  {
   "cell_type": "markdown",
   "metadata": {},
   "source": [
    "<h1 style=\"text-align: center;\" markdown=\"1\">TP2: KNN filtrado de valores anomalos y estandarizacion de columnas</h1>\n",
    "![](../data/icon_properati-data.png)"
   ]
  },
  {
   "cell_type": "code",
   "execution_count": 2,
   "metadata": {
    "collapsed": false
   },
   "outputs": [
    {
     "name": "stdout",
     "output_type": "stream",
     "text": [
      "Populating the interactive namespace from numpy and matplotlib\n"
     ]
    },
    {
     "name": "stderr",
     "output_type": "stream",
     "text": [
      "/opt/conda/lib/python3.5/site-packages/IPython/core/magics/pylab.py:161: UserWarning: pylab import has clobbered these variables: ['plt']\n",
      "`%matplotlib` prevents importing * from pylab and numpy\n",
      "  \"\\n`%matplotlib` prevents importing * from pylab and numpy\"\n"
     ]
    }
   ],
   "source": [
    "import numpy as np \n",
    "import pandas as pd\n",
    "\n",
    "# plots\n",
    "import matplotlib.pyplot as plt\n",
    "import seaborn as sns\n",
    "%matplotlib inline\n",
    "%pylab inline\n",
    "\n",
    "# modules\n",
    "import knn as knnlibrary"
   ]
  },
  {
   "cell_type": "code",
   "execution_count": 96,
   "metadata": {
    "collapsed": false
   },
   "outputs": [
    {
     "name": "stderr",
     "output_type": "stream",
     "text": [
      "/opt/conda/lib/python3.5/site-packages/numpy/lib/function_base.py:3834: RuntimeWarning: Invalid value encountered in percentile\n",
      "  RuntimeWarning)\n"
     ]
    },
    {
     "data": {
      "text/html": [
       "<div>\n",
       "<table border=\"1\" class=\"dataframe\">\n",
       "  <thead>\n",
       "    <tr style=\"text-align: right;\">\n",
       "      <th></th>\n",
       "      <th>geonames_id</th>\n",
       "      <th>lat</th>\n",
       "      <th>lon</th>\n",
       "      <th>price</th>\n",
       "      <th>price_aprox_local_currency</th>\n",
       "      <th>price_aprox_usd</th>\n",
       "      <th>surface_total_in_m2</th>\n",
       "      <th>surface_covered_in_m2</th>\n",
       "      <th>price_usd_per_m2</th>\n",
       "      <th>price_per_m2</th>\n",
       "      <th>floor</th>\n",
       "      <th>rooms</th>\n",
       "      <th>expenses</th>\n",
       "    </tr>\n",
       "  </thead>\n",
       "  <tbody>\n",
       "    <tr>\n",
       "      <th>count</th>\n",
       "      <td>3.732840e+05</td>\n",
       "      <td>322074.000000</td>\n",
       "      <td>322074.000000</td>\n",
       "      <td>4.009750e+05</td>\n",
       "      <td>4.009750e+05</td>\n",
       "      <td>4.009750e+05</td>\n",
       "      <td>300532.000000</td>\n",
       "      <td>3.669520e+05</td>\n",
       "      <td>2.509300e+05</td>\n",
       "      <td>3.271290e+05</td>\n",
       "      <td>46040.000000</td>\n",
       "      <td>244112.000000</td>\n",
       "      <td>4.342700e+04</td>\n",
       "    </tr>\n",
       "    <tr>\n",
       "      <th>mean</th>\n",
       "      <td>3.553372e+06</td>\n",
       "      <td>-34.699326</td>\n",
       "      <td>-59.168083</td>\n",
       "      <td>3.809285e+05</td>\n",
       "      <td>3.781469e+06</td>\n",
       "      <td>2.250482e+05</td>\n",
       "      <td>278.836074</td>\n",
       "      <td>5.615626e+03</td>\n",
       "      <td>1.894633e+03</td>\n",
       "      <td>5.418064e+03</td>\n",
       "      <td>15.472806</td>\n",
       "      <td>3.030720</td>\n",
       "      <td>4.449903e+03</td>\n",
       "    </tr>\n",
       "    <tr>\n",
       "      <th>std</th>\n",
       "      <td>3.767492e+05</td>\n",
       "      <td>2.181177</td>\n",
       "      <td>2.350918</td>\n",
       "      <td>1.308443e+06</td>\n",
       "      <td>6.118143e+06</td>\n",
       "      <td>3.628449e+05</td>\n",
       "      <td>2113.919504</td>\n",
       "      <td>3.301612e+06</td>\n",
       "      <td>3.539391e+03</td>\n",
       "      <td>2.066647e+04</td>\n",
       "      <td>122.820555</td>\n",
       "      <td>1.620854</td>\n",
       "      <td>1.001485e+05</td>\n",
       "    </tr>\n",
       "    <tr>\n",
       "      <th>min</th>\n",
       "      <td>3.427208e+06</td>\n",
       "      <td>-54.833014</td>\n",
       "      <td>-122.419415</td>\n",
       "      <td>0.000000e+00</td>\n",
       "      <td>0.000000e+00</td>\n",
       "      <td>0.000000e+00</td>\n",
       "      <td>0.000000</td>\n",
       "      <td>0.000000e+00</td>\n",
       "      <td>0.000000e+00</td>\n",
       "      <td>5.000000e-05</td>\n",
       "      <td>1.000000</td>\n",
       "      <td>1.000000</td>\n",
       "      <td>1.000000e+00</td>\n",
       "    </tr>\n",
       "    <tr>\n",
       "      <th>25%</th>\n",
       "      <td>NaN</td>\n",
       "      <td>NaN</td>\n",
       "      <td>NaN</td>\n",
       "      <td>NaN</td>\n",
       "      <td>NaN</td>\n",
       "      <td>NaN</td>\n",
       "      <td>NaN</td>\n",
       "      <td>NaN</td>\n",
       "      <td>NaN</td>\n",
       "      <td>NaN</td>\n",
       "      <td>NaN</td>\n",
       "      <td>NaN</td>\n",
       "      <td>NaN</td>\n",
       "    </tr>\n",
       "    <tr>\n",
       "      <th>50%</th>\n",
       "      <td>NaN</td>\n",
       "      <td>NaN</td>\n",
       "      <td>NaN</td>\n",
       "      <td>NaN</td>\n",
       "      <td>NaN</td>\n",
       "      <td>NaN</td>\n",
       "      <td>NaN</td>\n",
       "      <td>NaN</td>\n",
       "      <td>NaN</td>\n",
       "      <td>NaN</td>\n",
       "      <td>NaN</td>\n",
       "      <td>NaN</td>\n",
       "      <td>NaN</td>\n",
       "    </tr>\n",
       "    <tr>\n",
       "      <th>75%</th>\n",
       "      <td>NaN</td>\n",
       "      <td>NaN</td>\n",
       "      <td>NaN</td>\n",
       "      <td>NaN</td>\n",
       "      <td>NaN</td>\n",
       "      <td>NaN</td>\n",
       "      <td>NaN</td>\n",
       "      <td>NaN</td>\n",
       "      <td>NaN</td>\n",
       "      <td>NaN</td>\n",
       "      <td>NaN</td>\n",
       "      <td>NaN</td>\n",
       "      <td>NaN</td>\n",
       "    </tr>\n",
       "    <tr>\n",
       "      <th>max</th>\n",
       "      <td>6.948895e+06</td>\n",
       "      <td>52.619706</td>\n",
       "      <td>19.032799</td>\n",
       "      <td>6.500000e+08</td>\n",
       "      <td>8.212711e+08</td>\n",
       "      <td>5.000000e+07</td>\n",
       "      <td>200000.000000</td>\n",
       "      <td>2.000000e+09</td>\n",
       "      <td>1.271027e+06</td>\n",
       "      <td>4.000000e+06</td>\n",
       "      <td>7167.000000</td>\n",
       "      <td>40.000000</td>\n",
       "      <td>1.000150e+07</td>\n",
       "    </tr>\n",
       "  </tbody>\n",
       "</table>\n",
       "</div>"
      ],
      "text/plain": [
       "        geonames_id            lat            lon         price  \\\n",
       "count  3.732840e+05  322074.000000  322074.000000  4.009750e+05   \n",
       "mean   3.553372e+06     -34.699326     -59.168083  3.809285e+05   \n",
       "std    3.767492e+05       2.181177       2.350918  1.308443e+06   \n",
       "min    3.427208e+06     -54.833014    -122.419415  0.000000e+00   \n",
       "25%             NaN            NaN            NaN           NaN   \n",
       "50%             NaN            NaN            NaN           NaN   \n",
       "75%             NaN            NaN            NaN           NaN   \n",
       "max    6.948895e+06      52.619706      19.032799  6.500000e+08   \n",
       "\n",
       "       price_aprox_local_currency  price_aprox_usd  surface_total_in_m2  \\\n",
       "count                4.009750e+05     4.009750e+05        300532.000000   \n",
       "mean                 3.781469e+06     2.250482e+05           278.836074   \n",
       "std                  6.118143e+06     3.628449e+05          2113.919504   \n",
       "min                  0.000000e+00     0.000000e+00             0.000000   \n",
       "25%                           NaN              NaN                  NaN   \n",
       "50%                           NaN              NaN                  NaN   \n",
       "75%                           NaN              NaN                  NaN   \n",
       "max                  8.212711e+08     5.000000e+07        200000.000000   \n",
       "\n",
       "       surface_covered_in_m2  price_usd_per_m2  price_per_m2         floor  \\\n",
       "count           3.669520e+05      2.509300e+05  3.271290e+05  46040.000000   \n",
       "mean            5.615626e+03      1.894633e+03  5.418064e+03     15.472806   \n",
       "std             3.301612e+06      3.539391e+03  2.066647e+04    122.820555   \n",
       "min             0.000000e+00      0.000000e+00  5.000000e-05      1.000000   \n",
       "25%                      NaN               NaN           NaN           NaN   \n",
       "50%                      NaN               NaN           NaN           NaN   \n",
       "75%                      NaN               NaN           NaN           NaN   \n",
       "max             2.000000e+09      1.271027e+06  4.000000e+06   7167.000000   \n",
       "\n",
       "               rooms      expenses  \n",
       "count  244112.000000  4.342700e+04  \n",
       "mean        3.030720  4.449903e+03  \n",
       "std         1.620854  1.001485e+05  \n",
       "min         1.000000  1.000000e+00  \n",
       "25%              NaN           NaN  \n",
       "50%              NaN           NaN  \n",
       "75%              NaN           NaN  \n",
       "max        40.000000  1.000150e+07  "
      ]
     },
     "execution_count": 96,
     "metadata": {},
     "output_type": "execute_result"
    }
   ],
   "source": [
    "properties =knnlibrary.get_dataset()\n",
    "properties.describe()"
   ]
  },
  {
   "cell_type": "code",
   "execution_count": 97,
   "metadata": {
    "collapsed": false
   },
   "outputs": [
    {
     "name": "stderr",
     "output_type": "stream",
     "text": [
      "/opt/conda/lib/python3.5/site-packages/numpy/lib/function_base.py:3834: RuntimeWarning: Invalid value encountered in percentile\n",
      "  RuntimeWarning)\n"
     ]
    },
    {
     "data": {
      "text/html": [
       "<div>\n",
       "<table border=\"1\" class=\"dataframe\">\n",
       "  <thead>\n",
       "    <tr style=\"text-align: right;\">\n",
       "      <th></th>\n",
       "      <th>geonames_id</th>\n",
       "      <th>lat</th>\n",
       "      <th>lon</th>\n",
       "      <th>price</th>\n",
       "      <th>price_aprox_local_currency</th>\n",
       "      <th>price_aprox_usd</th>\n",
       "      <th>surface_total_in_m2</th>\n",
       "      <th>surface_covered_in_m2</th>\n",
       "      <th>price_usd_per_m2</th>\n",
       "      <th>price_per_m2</th>\n",
       "      <th>floor</th>\n",
       "      <th>rooms</th>\n",
       "      <th>expenses</th>\n",
       "      <th>created_on_year</th>\n",
       "      <th>created_on_month</th>\n",
       "      <th>created_on_day</th>\n",
       "    </tr>\n",
       "  </thead>\n",
       "  <tbody>\n",
       "    <tr>\n",
       "      <th>count</th>\n",
       "      <td>3.732840e+05</td>\n",
       "      <td>322074.000000</td>\n",
       "      <td>322074.000000</td>\n",
       "      <td>4.009750e+05</td>\n",
       "      <td>4.009750e+05</td>\n",
       "      <td>4.009750e+05</td>\n",
       "      <td>300532.000000</td>\n",
       "      <td>3.669520e+05</td>\n",
       "      <td>2.509300e+05</td>\n",
       "      <td>3.271290e+05</td>\n",
       "      <td>46040.000000</td>\n",
       "      <td>244112.000000</td>\n",
       "      <td>4.342700e+04</td>\n",
       "      <td>442700.000000</td>\n",
       "      <td>442700.000000</td>\n",
       "      <td>442700.000000</td>\n",
       "    </tr>\n",
       "    <tr>\n",
       "      <th>mean</th>\n",
       "      <td>3.553372e+06</td>\n",
       "      <td>-34.699326</td>\n",
       "      <td>-59.168083</td>\n",
       "      <td>3.809285e+05</td>\n",
       "      <td>3.781469e+06</td>\n",
       "      <td>2.250482e+05</td>\n",
       "      <td>278.836074</td>\n",
       "      <td>5.615626e+03</td>\n",
       "      <td>1.894633e+03</td>\n",
       "      <td>5.418064e+03</td>\n",
       "      <td>15.472806</td>\n",
       "      <td>3.030720</td>\n",
       "      <td>4.449903e+03</td>\n",
       "      <td>2016.267612</td>\n",
       "      <td>5.916969</td>\n",
       "      <td>17.323738</td>\n",
       "    </tr>\n",
       "    <tr>\n",
       "      <th>std</th>\n",
       "      <td>3.767492e+05</td>\n",
       "      <td>2.181177</td>\n",
       "      <td>2.350918</td>\n",
       "      <td>1.308443e+06</td>\n",
       "      <td>6.118143e+06</td>\n",
       "      <td>3.628449e+05</td>\n",
       "      <td>2113.919504</td>\n",
       "      <td>3.301612e+06</td>\n",
       "      <td>3.539391e+03</td>\n",
       "      <td>2.066647e+04</td>\n",
       "      <td>122.820555</td>\n",
       "      <td>1.620854</td>\n",
       "      <td>1.001485e+05</td>\n",
       "      <td>0.800265</td>\n",
       "      <td>2.993135</td>\n",
       "      <td>8.561486</td>\n",
       "    </tr>\n",
       "    <tr>\n",
       "      <th>min</th>\n",
       "      <td>3.427208e+06</td>\n",
       "      <td>-54.833014</td>\n",
       "      <td>-122.419415</td>\n",
       "      <td>0.000000e+00</td>\n",
       "      <td>0.000000e+00</td>\n",
       "      <td>0.000000e+00</td>\n",
       "      <td>0.000000</td>\n",
       "      <td>0.000000e+00</td>\n",
       "      <td>0.000000e+00</td>\n",
       "      <td>5.000000e-05</td>\n",
       "      <td>1.000000</td>\n",
       "      <td>1.000000</td>\n",
       "      <td>1.000000e+00</td>\n",
       "      <td>2015.000000</td>\n",
       "      <td>1.000000</td>\n",
       "      <td>1.000000</td>\n",
       "    </tr>\n",
       "    <tr>\n",
       "      <th>25%</th>\n",
       "      <td>NaN</td>\n",
       "      <td>NaN</td>\n",
       "      <td>NaN</td>\n",
       "      <td>NaN</td>\n",
       "      <td>NaN</td>\n",
       "      <td>NaN</td>\n",
       "      <td>NaN</td>\n",
       "      <td>NaN</td>\n",
       "      <td>NaN</td>\n",
       "      <td>NaN</td>\n",
       "      <td>NaN</td>\n",
       "      <td>NaN</td>\n",
       "      <td>NaN</td>\n",
       "      <td>2016.000000</td>\n",
       "      <td>3.000000</td>\n",
       "      <td>10.000000</td>\n",
       "    </tr>\n",
       "    <tr>\n",
       "      <th>50%</th>\n",
       "      <td>NaN</td>\n",
       "      <td>NaN</td>\n",
       "      <td>NaN</td>\n",
       "      <td>NaN</td>\n",
       "      <td>NaN</td>\n",
       "      <td>NaN</td>\n",
       "      <td>NaN</td>\n",
       "      <td>NaN</td>\n",
       "      <td>NaN</td>\n",
       "      <td>NaN</td>\n",
       "      <td>NaN</td>\n",
       "      <td>NaN</td>\n",
       "      <td>NaN</td>\n",
       "      <td>2016.000000</td>\n",
       "      <td>6.000000</td>\n",
       "      <td>19.000000</td>\n",
       "    </tr>\n",
       "    <tr>\n",
       "      <th>75%</th>\n",
       "      <td>NaN</td>\n",
       "      <td>NaN</td>\n",
       "      <td>NaN</td>\n",
       "      <td>NaN</td>\n",
       "      <td>NaN</td>\n",
       "      <td>NaN</td>\n",
       "      <td>NaN</td>\n",
       "      <td>NaN</td>\n",
       "      <td>NaN</td>\n",
       "      <td>NaN</td>\n",
       "      <td>NaN</td>\n",
       "      <td>NaN</td>\n",
       "      <td>NaN</td>\n",
       "      <td>2017.000000</td>\n",
       "      <td>7.000000</td>\n",
       "      <td>24.000000</td>\n",
       "    </tr>\n",
       "    <tr>\n",
       "      <th>max</th>\n",
       "      <td>6.948895e+06</td>\n",
       "      <td>52.619706</td>\n",
       "      <td>19.032799</td>\n",
       "      <td>6.500000e+08</td>\n",
       "      <td>8.212711e+08</td>\n",
       "      <td>5.000000e+07</td>\n",
       "      <td>200000.000000</td>\n",
       "      <td>2.000000e+09</td>\n",
       "      <td>1.271027e+06</td>\n",
       "      <td>4.000000e+06</td>\n",
       "      <td>7167.000000</td>\n",
       "      <td>40.000000</td>\n",
       "      <td>1.000150e+07</td>\n",
       "      <td>2017.000000</td>\n",
       "      <td>12.000000</td>\n",
       "      <td>31.000000</td>\n",
       "    </tr>\n",
       "  </tbody>\n",
       "</table>\n",
       "</div>"
      ],
      "text/plain": [
       "        geonames_id            lat            lon         price  \\\n",
       "count  3.732840e+05  322074.000000  322074.000000  4.009750e+05   \n",
       "mean   3.553372e+06     -34.699326     -59.168083  3.809285e+05   \n",
       "std    3.767492e+05       2.181177       2.350918  1.308443e+06   \n",
       "min    3.427208e+06     -54.833014    -122.419415  0.000000e+00   \n",
       "25%             NaN            NaN            NaN           NaN   \n",
       "50%             NaN            NaN            NaN           NaN   \n",
       "75%             NaN            NaN            NaN           NaN   \n",
       "max    6.948895e+06      52.619706      19.032799  6.500000e+08   \n",
       "\n",
       "       price_aprox_local_currency  price_aprox_usd  surface_total_in_m2  \\\n",
       "count                4.009750e+05     4.009750e+05        300532.000000   \n",
       "mean                 3.781469e+06     2.250482e+05           278.836074   \n",
       "std                  6.118143e+06     3.628449e+05          2113.919504   \n",
       "min                  0.000000e+00     0.000000e+00             0.000000   \n",
       "25%                           NaN              NaN                  NaN   \n",
       "50%                           NaN              NaN                  NaN   \n",
       "75%                           NaN              NaN                  NaN   \n",
       "max                  8.212711e+08     5.000000e+07        200000.000000   \n",
       "\n",
       "       surface_covered_in_m2  price_usd_per_m2  price_per_m2         floor  \\\n",
       "count           3.669520e+05      2.509300e+05  3.271290e+05  46040.000000   \n",
       "mean            5.615626e+03      1.894633e+03  5.418064e+03     15.472806   \n",
       "std             3.301612e+06      3.539391e+03  2.066647e+04    122.820555   \n",
       "min             0.000000e+00      0.000000e+00  5.000000e-05      1.000000   \n",
       "25%                      NaN               NaN           NaN           NaN   \n",
       "50%                      NaN               NaN           NaN           NaN   \n",
       "75%                      NaN               NaN           NaN           NaN   \n",
       "max             2.000000e+09      1.271027e+06  4.000000e+06   7167.000000   \n",
       "\n",
       "               rooms      expenses  created_on_year  created_on_month  \\\n",
       "count  244112.000000  4.342700e+04    442700.000000     442700.000000   \n",
       "mean        3.030720  4.449903e+03      2016.267612          5.916969   \n",
       "std         1.620854  1.001485e+05         0.800265          2.993135   \n",
       "min         1.000000  1.000000e+00      2015.000000          1.000000   \n",
       "25%              NaN           NaN      2016.000000          3.000000   \n",
       "50%              NaN           NaN      2016.000000          6.000000   \n",
       "75%              NaN           NaN      2017.000000          7.000000   \n",
       "max        40.000000  1.000150e+07      2017.000000         12.000000   \n",
       "\n",
       "       created_on_day  \n",
       "count   442700.000000  \n",
       "mean        17.323738  \n",
       "std          8.561486  \n",
       "min          1.000000  \n",
       "25%         10.000000  \n",
       "50%         19.000000  \n",
       "75%         24.000000  \n",
       "max         31.000000  "
      ]
     },
     "execution_count": 97,
     "metadata": {},
     "output_type": "execute_result"
    }
   ],
   "source": [
    "# transformo el campo fecha\n",
    "properties_caba = knnlibrary.transform_date(properties)\n",
    "\n",
    "properties_caba.describe()"
   ]
  },
  {
   "cell_type": "code",
   "execution_count": 114,
   "metadata": {
    "collapsed": false
   },
   "outputs": [
    {
     "name": "stdout",
     "output_type": "stream",
     "text": [
      "<class 'pandas.core.frame.DataFrame'>\n",
      "Int64Index: 10543 entries, 385 to 80073\n",
      "Data columns (total 14 columns):\n",
      "property_type              10543 non-null object\n",
      "place_name                 10543 non-null object\n",
      "place_with_parent_names    10543 non-null object\n",
      "state_name                 10543 non-null object\n",
      "lat                        9620 non-null float64\n",
      "lon                        9620 non-null float64\n",
      "price                      10543 non-null float64\n",
      "surface_total_in_m2        10543 non-null float64\n",
      "surface_covered_in_m2      10543 non-null float64\n",
      "floor                      10543 non-null float64\n",
      "rooms                      10543 non-null float64\n",
      "created_on_year            10543 non-null int64\n",
      "created_on_month           10543 non-null int64\n",
      "created_on_day             10543 non-null int64\n",
      "dtypes: float64(7), int64(3), object(4)\n",
      "memory usage: 1.2+ MB\n"
     ]
    }
   ],
   "source": [
    "# filtro por CABA y GBA\n",
    "# queremos solo las propiedades que tienen precio y eliminamos columnas que sabemos que no son \n",
    "#redundantes y que no nos servirian para knn\n",
    "# eliminamos propiedades con mas de 54 pisos\n",
    "properties_caba = knnlibrary.clean_dataset(properties)\n",
    "\n",
    "# las expensas tienen demasiados nulos por lo que voy a eliminar esa columna\n",
    "properties_caba = properties_caba.drop(['expenses'], axis = 1)\n",
    "\n",
    "properties_caba.info()"
   ]
  },
  {
   "cell_type": "code",
   "execution_count": 115,
   "metadata": {
    "collapsed": false
   },
   "outputs": [
    {
     "name": "stdout",
     "output_type": "stream",
     "text": [
      "<class 'pandas.core.frame.DataFrame'>\n",
      "Int64Index: 10543 entries, 385 to 80073\n",
      "Data columns (total 14 columns):\n",
      "property_type              10543 non-null object\n",
      "place_name                 10543 non-null object\n",
      "place_with_parent_names    10543 non-null object\n",
      "state_name                 10543 non-null object\n",
      "lat                        10543 non-null float64\n",
      "lon                        10543 non-null float64\n",
      "price                      10543 non-null float64\n",
      "surface_total_in_m2        10543 non-null float64\n",
      "surface_covered_in_m2      10543 non-null float64\n",
      "floor                      10543 non-null float64\n",
      "rooms                      10543 non-null float64\n",
      "created_on_year            10543 non-null int64\n",
      "created_on_month           10543 non-null int64\n",
      "created_on_day             10543 non-null int64\n",
      "dtypes: float64(7), int64(3), object(4)\n",
      "memory usage: 1.2+ MB\n"
     ]
    }
   ],
   "source": [
    "from sklearn.preprocessing import Imputer\n",
    "imputer_mean = Imputer(missing_values='NaN', strategy='mean', axis=0)\n",
    "properties_caba['floor'] = properties_caba[['floor']].fillna(1)\n",
    "properties_caba['rooms'] = properties_caba[['rooms']].fillna(1)\n",
    "\n",
    "properties_caba[\"surface_total_in_m2\"] = imputer_mean.fit_transform(properties_caba[[\"surface_total_in_m2\"]])\n",
    "properties_caba[\"surface_covered_in_m2\"] = imputer_mean.fit_transform(properties_caba[[\"surface_covered_in_m2\"]])\n",
    "properties_caba[\"lat\"] = imputer_mean.fit_transform(properties_caba[[\"lat\"]])\n",
    "properties_caba[\"lon\"] = imputer_mean.fit_transform(properties_caba[[\"lon\"]])\n",
    "\n",
    "properties_caba.info()"
   ]
  },
  {
   "cell_type": "code",
   "execution_count": 116,
   "metadata": {
    "collapsed": false
   },
   "outputs": [
    {
     "name": "stderr",
     "output_type": "stream",
     "text": [
      "/opt/conda/lib/python3.5/site-packages/sklearn/preprocessing/label.py:111: DataConversionWarning: A column-vector y was passed when a 1d array was expected. Please change the shape of y to (n_samples, ), for example using ravel().\n",
      "  y = column_or_1d(y, warn=True)\n"
     ]
    }
   ],
   "source": [
    "# atributos categoricos\n",
    "from sklearn.preprocessing import LabelEncoder\n",
    "\n",
    "encoder = LabelEncoder()\n",
    "properties_caba = knnlibrary.encoder_attributes(properties_caba, encoder)\n",
    "\n",
    "#properties_caba.tail()"
   ]
  },
  {
   "cell_type": "code",
   "execution_count": 117,
   "metadata": {
    "collapsed": false
   },
   "outputs": [
    {
     "data": {
      "text/plain": [
       "(1055, 9488)"
      ]
     },
     "execution_count": 117,
     "metadata": {},
     "output_type": "execute_result"
    }
   ],
   "source": [
    "# separamos el train de traing para validarlo luego usando un 30% de los datos\n",
    "from sklearn.model_selection import train_test_split\n",
    "import datetime\n",
    "\n",
    "now = datetime.datetime.now()\n",
    "\n",
    "X, y = properties_caba.iloc[:, properties_caba.columns != 'price'].values, properties_caba.iloc[:, properties_caba.columns == 'price'].values\n",
    "X_train, X_test, y_train, y_test = \\\n",
    "        train_test_split(X, y, test_size=0.1, random_state=now.microsecond)\n",
    "    \n",
    "len(X_test), len(X_train)"
   ]
  },
  {
   "cell_type": "code",
   "execution_count": 118,
   "metadata": {
    "collapsed": false
   },
   "outputs": [
    {
     "name": "stderr",
     "output_type": "stream",
     "text": [
      "/opt/conda/lib/python3.5/site-packages/sklearn/utils/validation.py:578: DataConversionWarning: A column-vector y was passed when a 1d array was expected. Please change the shape of y to (n_samples, ), for example using ravel().\n",
      "  y = column_or_1d(y, warn=True)\n"
     ]
    },
    {
     "data": {
      "text/plain": [
       "0.87552535317329117"
      ]
     },
     "execution_count": 118,
     "metadata": {},
     "output_type": "execute_result"
    }
   ],
   "source": [
    "from sklearn import ensemble\n",
    "clf = ensemble.GradientBoostingRegressor(n_estimators = 400, max_depth = 5, min_samples_split = 2,\n",
    "          learning_rate = 0.1, loss = 'ls')\n",
    "\n",
    "clf.fit(X_train, y_train)\n",
    "clf.score(X_test,y_test)"
   ]
  },
  {
   "cell_type": "code",
   "execution_count": 88,
   "metadata": {
    "collapsed": false
   },
   "outputs": [],
   "source": [
    "# a cada dato le restamos la media y lo dividimos por su desviacion standard\n",
    "from sklearn.preprocessing import StandardScaler\n",
    "stdsc = StandardScaler()\n",
    "X_train_std = stdsc.fit_transform(X_train)\n",
    "X_test_std =stdsc.fit_transform(X_test)"
   ]
  },
  {
   "cell_type": "code",
   "execution_count": 89,
   "metadata": {
    "collapsed": false
   },
   "outputs": [
    {
     "data": {
      "text/plain": [
       "<knn.SBS at 0x7fc9e54a4358>"
      ]
     },
     "execution_count": 89,
     "metadata": {},
     "output_type": "execute_result"
    }
   ],
   "source": [
    "# aplicamos algoritmos\n",
    "from sklearn.neighbors import KNeighborsRegressor\n",
    "from sklearn.metrics import mean_squared_error\n",
    "\n",
    "knn = KNeighborsRegressor(n_neighbors=5, weights='distance')\n",
    "sbs = knnlibrary.SBS(knn, k_features=1, scoring=mean_squared_error)\n",
    "sbs.fit(X_train_std, y_train)"
   ]
  },
  {
   "cell_type": "code",
   "execution_count": 90,
   "metadata": {
    "collapsed": false
   },
   "outputs": [
    {
     "data": {
      "text/plain": [
       "[(0, 1, 2, 3, 4, 5, 6, 7, 8, 9, 10, 11, 12, 13),\n",
       " (0, 1, 2, 3, 4, 5, 6, 7, 8, 9, 10, 11, 12),\n",
       " (0, 1, 2, 3, 4, 5, 6, 7, 8, 9, 10, 11),\n",
       " (0, 1, 2, 3, 4, 5, 6, 7, 8, 9, 10),\n",
       " (0, 2, 3, 4, 5, 6, 7, 8, 9, 10),\n",
       " (0, 2, 3, 4, 5, 7, 8, 9, 10),\n",
       " (0, 3, 4, 5, 7, 8, 9, 10),\n",
       " (0, 3, 5, 7, 8, 9, 10),\n",
       " (0, 3, 7, 8, 9, 10),\n",
       " (0, 3, 8, 9, 10),\n",
       " (0, 8, 9, 10),\n",
       " (0, 8, 10),\n",
       " (0, 8),\n",
       " (0,)]"
      ]
     },
     "execution_count": 90,
     "metadata": {},
     "output_type": "execute_result"
    }
   ],
   "source": [
    "sbs.subsets_"
   ]
  },
  {
   "cell_type": "code",
   "execution_count": 91,
   "metadata": {
    "collapsed": false
   },
   "outputs": [
    {
     "data": {
      "text/plain": [
       "[42278661601.598938,\n",
       " 47158766387.224518,\n",
       " 50104614482.876137,\n",
       " 61380632646.310287,\n",
       " 64588425735.890785,\n",
       " 69009123909.686478,\n",
       " 74175041262.051941,\n",
       " 79413143180.834152,\n",
       " 99068005087.028778,\n",
       " 111082655100.04437,\n",
       " 128463779401.0062,\n",
       " 144293503697.44626,\n",
       " 165450415364.75854,\n",
       " 141532795262.74747]"
      ]
     },
     "execution_count": 91,
     "metadata": {},
     "output_type": "execute_result"
    }
   ],
   "source": [
    "sbs.scores_"
   ]
  },
  {
   "cell_type": "code",
   "execution_count": 92,
   "metadata": {
    "collapsed": false
   },
   "outputs": [
    {
     "data": {
      "image/png": "[encoded data removed]",
      "text/plain": [
       "<matplotlib.figure.Figure at 0x7fc9deab7390>"
      ]
     },
     "metadata": {},
     "output_type": "display_data"
    }
   ],
   "source": [
    "# graficamos\n",
    "k_feat = [len(k) for k in sbs.subsets_]\n",
    "plot(k_feat, sbs.scores_, marker='o')\n",
    "#ylim([0.0, 1.1])\n",
    "ylabel('Mean Squared Error')\n",
    "xlabel('Number of features')\n",
    "grid()\n",
    "show()"
   ]
  },
  {
   "cell_type": "code",
   "execution_count": 93,
   "metadata": {
    "collapsed": false
   },
   "outputs": [
    {
     "name": "stdout",
     "output_type": "stream",
     "text": [
      "Training accuracy: 0.997468334667\n",
      "Test accuracy: 0.696346889611\n"
     ]
    }
   ],
   "source": [
    "# hacemos una prueba en el set original\n",
    "knn.fit(X_train_std, y_train)\n",
    "print('Training accuracy:', knn.score(X_train_std, y_train))\n",
    "print('Test accuracy:', knn.score(X_test_std, y_test))"
   ]
  },
  {
   "cell_type": "code",
   "execution_count": 39,
   "metadata": {
    "collapsed": false
   },
   "outputs": [
    {
     "name": "stdout",
     "output_type": "stream",
     "text": [
      "Index(['property_type', 'place_name', 'place_with_parent_names', 'state_name',\n",
      "       'lat', 'lon', 'surface_total_in_m2', 'surface_covered_in_m2', 'floor',\n",
      "       'rooms', 'expenses', 'created_on_year', 'created_on_month',\n",
      "       'created_on_day'],\n",
      "      dtype='object')\n"
     ]
    }
   ],
   "source": [
    "k_param = list(sbs.subsets_[0])\n",
    "print(properties_caba.iloc[:, properties_caba.columns != 'price'].columns[k_param])"
   ]
  },
  {
   "cell_type": "code",
   "execution_count": 40,
   "metadata": {
    "collapsed": false
   },
   "outputs": [
    {
     "name": "stdout",
     "output_type": "stream",
     "text": [
      "Training accuracy: 0.996093741728\n",
      "Test accuracy: 0.650929678649\n"
     ]
    }
   ],
   "source": [
    "# y como clasifica tomando solo los features devueltos\n",
    "knn.fit(X_train_std[:, k_param], y_train)\n",
    "print('Training accuracy:', knn.score(X_train_std[:, k_param], y_train))\n",
    "print('Test accuracy:', knn.score(X_test_std[:, k_param], y_test))"
   ]
  },
  {
   "cell_type": "code",
   "execution_count": 94,
   "metadata": {
    "collapsed": false
   },
   "outputs": [],
   "source": [
    "# grid search de k y random search de p\n",
    "k_scores = []\n",
    "k_list = []\n",
    "p_list = []\n",
    "labels = []\n",
    "\n",
    "best_score = 0\n",
    "best_k = 5\n",
    "i = 5\n",
    "best_p = 0\n",
    "\n",
    "for p in range(2,15):\n",
    "    knn = KNeighborsRegressor(n_neighbors=i, weights='distance', p=p)\n",
    "    knn.fit(X_train_std[:, k_param], y_train)\n",
    "\n",
    "    p_list.append(p)\n",
    "    k_list.append(i)\n",
    "\n",
    "    sc = knn.score(X_test_std[:, k_param], y_test)\n",
    "\n",
    "    labels.append(str(round(sc,3)))\n",
    "    k_scores.append(sc)\n",
    "\n",
    "    if(sc > best_score):\n",
    "        best_score = sc\n",
    "        best_k = i\n",
    "        best_p = p\n",
    "\n",
    "mu = np.mean(k_scores)\n",
    "v = np.var(k_scores)\n",
    "\n",
    "k_scores = list(map(lambda x: ((x-mu)/v)*50, k_scores))"
   ]
  },
  {
   "cell_type": "code",
   "execution_count": 95,
   "metadata": {
    "collapsed": false
   },
   "outputs": [
    {
     "data": {
      "image/png": "[encoded data removed]",
      "text/plain": [
       "<matplotlib.figure.Figure at 0x7fc9e41f3940>"
      ]
     },
     "metadata": {},
     "output_type": "display_data"
    }
   ],
   "source": [
    "# graficamos\n",
    "fig, ax = plt.subplots()\n",
    "ax.scatter(k_list, p_list, s=k_scores, alpha=0.5)\n",
    "\n",
    "title = \"K vs Distancia - best k=%s, best p=%s, score=%s\"%(best_k, best_p, best_score)\n",
    "plt.title(title)\n",
    "ylabel('Distance')\n",
    "xlabel('k values')\n",
    "\n",
    "for i, label in enumerate(labels):\n",
    "    ax.annotate(label, (k_list[i],p_list[i]))\n",
    "\n",
    "ax.grid(linestyle='-', linewidth='0.5', color='red')\n",
    "\n",
    "# plt.savefig('/home/jovyan/work/TP/TP2/img/best_k=%s-best_p=%s-score=%s.png'%(best_k, best_p, best_score));"
   ]
  },
  {
   "cell_type": "markdown",
   "metadata": {},
   "source": [
    "# TEST"
   ]
  },
  {
   "cell_type": "code",
   "execution_count": 107,
   "metadata": {
    "collapsed": false
   },
   "outputs": [
    {
     "data": {
      "text/html": [
       "<div>\n",
       "<table border=\"1\" class=\"dataframe\">\n",
       "  <thead>\n",
       "    <tr style=\"text-align: right;\">\n",
       "      <th></th>\n",
       "      <th>id</th>\n",
       "      <th>created_on</th>\n",
       "      <th>property_type</th>\n",
       "      <th>operation</th>\n",
       "      <th>place_name</th>\n",
       "      <th>place_with_parent_names</th>\n",
       "      <th>country_name</th>\n",
       "      <th>state_name</th>\n",
       "      <th>lat-lon</th>\n",
       "      <th>lat</th>\n",
       "      <th>lon</th>\n",
       "      <th>surface_total_in_m2</th>\n",
       "      <th>surface_covered_in_m2</th>\n",
       "      <th>floor</th>\n",
       "      <th>rooms</th>\n",
       "      <th>expenses</th>\n",
       "      <th>description</th>\n",
       "    </tr>\n",
       "  </thead>\n",
       "  <tbody>\n",
       "    <tr>\n",
       "      <th>0</th>\n",
       "      <td>3632</td>\n",
       "      <td>2017-08-24</td>\n",
       "      <td>departamento</td>\n",
       "      <td>venta</td>\n",
       "      <td>Puerto Madero</td>\n",
       "      <td>|Argentina|Capital Federal|Puerto Madero|</td>\n",
       "      <td>Argentina</td>\n",
       "      <td>Capital Federal</td>\n",
       "      <td>-34.6109877599,-58.3634635778</td>\n",
       "      <td>-34.610988</td>\n",
       "      <td>-58.363464</td>\n",
       "      <td>0.0</td>\n",
       "      <td>NaN</td>\n",
       "      <td>NaN</td>\n",
       "      <td>NaN</td>\n",
       "      <td>NaN</td>\n",
       "      <td>Edificio BA Houses situado frente al Dique 3 d...</td>\n",
       "    </tr>\n",
       "    <tr>\n",
       "      <th>1</th>\n",
       "      <td>3633</td>\n",
       "      <td>2017-08-25</td>\n",
       "      <td>departamento</td>\n",
       "      <td>venta</td>\n",
       "      <td>Buenos Aires Interior</td>\n",
       "      <td>|Argentina|Buenos Aires Interior|</td>\n",
       "      <td>Argentina</td>\n",
       "      <td>Buenos Aires Interior</td>\n",
       "      <td>NaN</td>\n",
       "      <td>NaN</td>\n",
       "      <td>NaN</td>\n",
       "      <td>0.0</td>\n",
       "      <td>NaN</td>\n",
       "      <td>NaN</td>\n",
       "      <td>NaN</td>\n",
       "      <td>NaN</td>\n",
       "      <td>El departamento cuenta con un living-comedor a...</td>\n",
       "    </tr>\n",
       "    <tr>\n",
       "      <th>2</th>\n",
       "      <td>2263404</td>\n",
       "      <td>2017-08-01</td>\n",
       "      <td>departamento</td>\n",
       "      <td>venta</td>\n",
       "      <td>Palermo Soho</td>\n",
       "      <td>|Argentina|Capital Federal|Palermo|Palermo Soho|</td>\n",
       "      <td>Argentina</td>\n",
       "      <td>Capital Federal</td>\n",
       "      <td>-34.5893633232,-58.4128798588</td>\n",
       "      <td>-34.589363</td>\n",
       "      <td>-58.412880</td>\n",
       "      <td>53.0</td>\n",
       "      <td>48.0</td>\n",
       "      <td>NaN</td>\n",
       "      <td>NaN</td>\n",
       "      <td>1500</td>\n",
       "      <td>IMPECABLE TORRE COY III – DEPA...</td>\n",
       "    </tr>\n",
       "    <tr>\n",
       "      <th>3</th>\n",
       "      <td>2263405</td>\n",
       "      <td>2017-08-01</td>\n",
       "      <td>departamento</td>\n",
       "      <td>venta</td>\n",
       "      <td>Chacarita</td>\n",
       "      <td>|Argentina|Capital Federal|Chacarita|</td>\n",
       "      <td>Argentina</td>\n",
       "      <td>Capital Federal</td>\n",
       "      <td>NaN</td>\n",
       "      <td>NaN</td>\n",
       "      <td>NaN</td>\n",
       "      <td>39.0</td>\n",
       "      <td>39.0</td>\n",
       "      <td>NaN</td>\n",
       "      <td>NaN</td>\n",
       "      <td>NaN</td>\n",
       "      <td>AMBIENTE DIVISIBLE CON PISOS D...</td>\n",
       "    </tr>\n",
       "    <tr>\n",
       "      <th>4</th>\n",
       "      <td>2263406</td>\n",
       "      <td>2017-08-01</td>\n",
       "      <td>departamento</td>\n",
       "      <td>venta</td>\n",
       "      <td>Chacarita</td>\n",
       "      <td>|Argentina|Capital Federal|Chacarita|</td>\n",
       "      <td>Argentina</td>\n",
       "      <td>Capital Federal</td>\n",
       "      <td>NaN</td>\n",
       "      <td>NaN</td>\n",
       "      <td>NaN</td>\n",
       "      <td>51.0</td>\n",
       "      <td>51.0</td>\n",
       "      <td>NaN</td>\n",
       "      <td>NaN</td>\n",
       "      <td>NaN</td>\n",
       "      <td>LIVING COMEDOR CON PISOS DE PO...</td>\n",
       "    </tr>\n",
       "  </tbody>\n",
       "</table>\n",
       "</div>"
      ],
      "text/plain": [
       "        id  created_on property_type operation             place_name  \\\n",
       "0     3632  2017-08-24  departamento     venta          Puerto Madero   \n",
       "1     3633  2017-08-25  departamento     venta  Buenos Aires Interior   \n",
       "2  2263404  2017-08-01  departamento     venta           Palermo Soho   \n",
       "3  2263405  2017-08-01  departamento     venta              Chacarita   \n",
       "4  2263406  2017-08-01  departamento     venta              Chacarita   \n",
       "\n",
       "                            place_with_parent_names country_name  \\\n",
       "0         |Argentina|Capital Federal|Puerto Madero|    Argentina   \n",
       "1                 |Argentina|Buenos Aires Interior|    Argentina   \n",
       "2  |Argentina|Capital Federal|Palermo|Palermo Soho|    Argentina   \n",
       "3             |Argentina|Capital Federal|Chacarita|    Argentina   \n",
       "4             |Argentina|Capital Federal|Chacarita|    Argentina   \n",
       "\n",
       "              state_name                        lat-lon        lat        lon  \\\n",
       "0        Capital Federal  -34.6109877599,-58.3634635778 -34.610988 -58.363464   \n",
       "1  Buenos Aires Interior                            NaN        NaN        NaN   \n",
       "2        Capital Federal  -34.5893633232,-58.4128798588 -34.589363 -58.412880   \n",
       "3        Capital Federal                            NaN        NaN        NaN   \n",
       "4        Capital Federal                            NaN        NaN        NaN   \n",
       "\n",
       "   surface_total_in_m2  surface_covered_in_m2  floor  rooms expenses  \\\n",
       "0                  0.0                    NaN    NaN    NaN      NaN   \n",
       "1                  0.0                    NaN    NaN    NaN      NaN   \n",
       "2                 53.0                   48.0    NaN    NaN     1500   \n",
       "3                 39.0                   39.0    NaN    NaN      NaN   \n",
       "4                 51.0                   51.0    NaN    NaN      NaN   \n",
       "\n",
       "                                         description  \n",
       "0  Edificio BA Houses situado frente al Dique 3 d...  \n",
       "1  El departamento cuenta con un living-comedor a...  \n",
       "2                  IMPECABLE TORRE COY III – DEPA...  \n",
       "3                  AMBIENTE DIVISIBLE CON PISOS D...  \n",
       "4                  LIVING COMEDOR CON PISOS DE PO...  "
      ]
     },
     "execution_count": 107,
     "metadata": {},
     "output_type": "execute_result"
    }
   ],
   "source": [
    "# leemos set de test\n",
    "test_df = pd.read_csv('../data/test/properati_dataset_testing_noprice.csv', low_memory=False)\n",
    "test_df.head()"
   ]
  },
  {
   "cell_type": "code",
   "execution_count": 122,
   "metadata": {
    "collapsed": false
   },
   "outputs": [
    {
     "name": "stderr",
     "output_type": "stream",
     "text": [
      "/opt/conda/lib/python3.5/site-packages/sklearn/preprocessing/label.py:111: DataConversionWarning: A column-vector y was passed when a 1d array was expected. Please change the shape of y to (n_samples, ), for example using ravel().\n",
      "  y = column_or_1d(y, warn=True)\n",
      "/opt/conda/lib/python3.5/site-packages/ipykernel/__main__.py:17: SettingWithCopyWarning: \n",
      "A value is trying to be set on a copy of a slice from a DataFrame.\n",
      "Try using .loc[row_indexer,col_indexer] = value instead\n",
      "\n",
      "See the caveats in the documentation: http://pandas.pydata.org/pandas-docs/stable/indexing.html#indexing-view-versus-copy\n",
      "/opt/conda/lib/python3.5/site-packages/ipykernel/__main__.py:18: SettingWithCopyWarning: \n",
      "A value is trying to be set on a copy of a slice from a DataFrame.\n",
      "Try using .loc[row_indexer,col_indexer] = value instead\n",
      "\n",
      "See the caveats in the documentation: http://pandas.pydata.org/pandas-docs/stable/indexing.html#indexing-view-versus-copy\n",
      "/opt/conda/lib/python3.5/site-packages/ipykernel/__main__.py:20: SettingWithCopyWarning: \n",
      "A value is trying to be set on a copy of a slice from a DataFrame.\n",
      "Try using .loc[row_indexer,col_indexer] = value instead\n",
      "\n",
      "See the caveats in the documentation: http://pandas.pydata.org/pandas-docs/stable/indexing.html#indexing-view-versus-copy\n",
      "/opt/conda/lib/python3.5/site-packages/ipykernel/__main__.py:21: SettingWithCopyWarning: \n",
      "A value is trying to be set on a copy of a slice from a DataFrame.\n",
      "Try using .loc[row_indexer,col_indexer] = value instead\n",
      "\n",
      "See the caveats in the documentation: http://pandas.pydata.org/pandas-docs/stable/indexing.html#indexing-view-versus-copy\n",
      "/opt/conda/lib/python3.5/site-packages/ipykernel/__main__.py:22: SettingWithCopyWarning: \n",
      "A value is trying to be set on a copy of a slice from a DataFrame.\n",
      "Try using .loc[row_indexer,col_indexer] = value instead\n",
      "\n",
      "See the caveats in the documentation: http://pandas.pydata.org/pandas-docs/stable/indexing.html#indexing-view-versus-copy\n"
     ]
    },
    {
     "name": "stdout",
     "output_type": "stream",
     "text": [
      "<class 'pandas.core.frame.DataFrame'>\n",
      "RangeIndex: 14166 entries, 0 to 14165\n",
      "Data columns (total 13 columns):\n",
      "property_type              14166 non-null int64\n",
      "place_name                 14166 non-null int64\n",
      "place_with_parent_names    14166 non-null int64\n",
      "state_name                 14166 non-null int64\n",
      "lat                        14166 non-null float64\n",
      "lon                        14166 non-null float64\n",
      "surface_total_in_m2        14166 non-null float64\n",
      "surface_covered_in_m2      14166 non-null float64\n",
      "floor                      14166 non-null float64\n",
      "rooms                      14166 non-null float64\n",
      "created_on_year            14166 non-null int64\n",
      "created_on_month           14166 non-null int64\n",
      "created_on_day             14166 non-null int64\n",
      "dtypes: float64(6), int64(7)\n",
      "memory usage: 1.4 MB\n"
     ]
    },
    {
     "name": "stderr",
     "output_type": "stream",
     "text": [
      "/opt/conda/lib/python3.5/site-packages/ipykernel/__main__.py:24: SettingWithCopyWarning: \n",
      "A value is trying to be set on a copy of a slice from a DataFrame.\n",
      "Try using .loc[row_indexer,col_indexer] = value instead\n",
      "\n",
      "See the caveats in the documentation: http://pandas.pydata.org/pandas-docs/stable/indexing.html#indexing-view-versus-copy\n"
     ]
    }
   ],
   "source": [
    "# transformamos atributos categoricos\n",
    "test_df['place_name'] = encoder.fit_transform(test_df[['place_name']])\n",
    "test_df['state_name'] = encoder.fit_transform(test_df[['state_name']])\n",
    "test_df['place_with_parent_names'] = encoder.fit_transform(test_df[['place_with_parent_names']])\n",
    "test_df['property_type'] = encoder.fit_transform(test_df[['property_type']])\n",
    "\n",
    "# tranformamos fechas\n",
    "X_test_df = knnlibrary.transform_date(test_df)\n",
    "X_test_df = X_test_df[['property_type', 'place_name', 'place_with_parent_names', 'state_name',\n",
    "       'lat', 'lon', 'surface_total_in_m2', 'surface_covered_in_m2', 'floor',\n",
    "       'rooms', 'created_on_year', 'created_on_month',\n",
    "       'created_on_day']]\n",
    "\n",
    "# completamos valores nan\n",
    "from sklearn.preprocessing import Imputer\n",
    "imputer_mean = Imputer(missing_values='NaN', strategy='mean', axis=0)\n",
    "X_test_df['floor'] = X_test_df[['floor']].fillna(1)\n",
    "X_test_df['rooms'] = X_test_df[['rooms']].fillna(1)\n",
    "\n",
    "X_test_df[\"surface_total_in_m2\"] = imputer_mean.fit_transform(X_test_df[[\"surface_total_in_m2\"]])\n",
    "X_test_df[\"surface_covered_in_m2\"] = imputer_mean.fit_transform(X_test_df[[\"surface_covered_in_m2\"]])\n",
    "X_test_df[\"lat\"] = imputer_mean.fit_transform(X_test_df[[\"lat\"]])\n",
    "\n",
    "X_test_df[\"lon\"] = imputer_mean.fit_transform(X_test_df[[\"lon\"]])\n",
    "\n",
    "#X_test_std_df = stdsc.transform(X_test_df)\n",
    "\n",
    "X_test_df.info()"
   ]
  },
  {
   "cell_type": "code",
   "execution_count": 123,
   "metadata": {
    "collapsed": false
   },
   "outputs": [
    {
     "name": "stderr",
     "output_type": "stream",
     "text": [
      "/opt/conda/lib/python3.5/site-packages/ipykernel/__main__.py:4: SettingWithCopyWarning: \n",
      "A value is trying to be set on a copy of a slice from a DataFrame.\n",
      "Try using .loc[row_indexer,col_indexer] = value instead\n",
      "\n",
      "See the caveats in the documentation: http://pandas.pydata.org/pandas-docs/stable/indexing.html#indexing-view-versus-copy\n"
     ]
    },
    {
     "data": {
      "text/html": [
       "<div>\n",
       "<table border=\"1\" class=\"dataframe\">\n",
       "  <thead>\n",
       "    <tr style=\"text-align: right;\">\n",
       "      <th></th>\n",
       "      <th>property_type</th>\n",
       "      <th>place_name</th>\n",
       "      <th>place_with_parent_names</th>\n",
       "      <th>state_name</th>\n",
       "      <th>lat</th>\n",
       "      <th>lon</th>\n",
       "      <th>surface_total_in_m2</th>\n",
       "      <th>surface_covered_in_m2</th>\n",
       "      <th>floor</th>\n",
       "      <th>rooms</th>\n",
       "      <th>created_on_year</th>\n",
       "      <th>created_on_month</th>\n",
       "      <th>created_on_day</th>\n",
       "      <th>prediction</th>\n",
       "    </tr>\n",
       "  </thead>\n",
       "  <tbody>\n",
       "    <tr>\n",
       "      <th>0</th>\n",
       "      <td>1</td>\n",
       "      <td>152</td>\n",
       "      <td>219</td>\n",
       "      <td>4</td>\n",
       "      <td>-34.610988</td>\n",
       "      <td>-58.363464</td>\n",
       "      <td>0.0</td>\n",
       "      <td>359.471588</td>\n",
       "      <td>1.0</td>\n",
       "      <td>1.0</td>\n",
       "      <td>2017</td>\n",
       "      <td>8</td>\n",
       "      <td>24</td>\n",
       "      <td>124529.925517</td>\n",
       "    </tr>\n",
       "    <tr>\n",
       "      <th>1</th>\n",
       "      <td>1</td>\n",
       "      <td>29</td>\n",
       "      <td>180</td>\n",
       "      <td>3</td>\n",
       "      <td>-34.629923</td>\n",
       "      <td>-58.465820</td>\n",
       "      <td>0.0</td>\n",
       "      <td>359.471588</td>\n",
       "      <td>1.0</td>\n",
       "      <td>1.0</td>\n",
       "      <td>2017</td>\n",
       "      <td>8</td>\n",
       "      <td>25</td>\n",
       "      <td>-683.504031</td>\n",
       "    </tr>\n",
       "    <tr>\n",
       "      <th>2</th>\n",
       "      <td>1</td>\n",
       "      <td>136</td>\n",
       "      <td>210</td>\n",
       "      <td>4</td>\n",
       "      <td>-34.589363</td>\n",
       "      <td>-58.412880</td>\n",
       "      <td>53.0</td>\n",
       "      <td>48.000000</td>\n",
       "      <td>1.0</td>\n",
       "      <td>1.0</td>\n",
       "      <td>2017</td>\n",
       "      <td>8</td>\n",
       "      <td>1</td>\n",
       "      <td>345549.378124</td>\n",
       "    </tr>\n",
       "    <tr>\n",
       "      <th>3</th>\n",
       "      <td>1</td>\n",
       "      <td>40</td>\n",
       "      <td>193</td>\n",
       "      <td>4</td>\n",
       "      <td>-34.629923</td>\n",
       "      <td>-58.465820</td>\n",
       "      <td>39.0</td>\n",
       "      <td>39.000000</td>\n",
       "      <td>1.0</td>\n",
       "      <td>1.0</td>\n",
       "      <td>2017</td>\n",
       "      <td>8</td>\n",
       "      <td>1</td>\n",
       "      <td>-37428.197502</td>\n",
       "    </tr>\n",
       "    <tr>\n",
       "      <th>4</th>\n",
       "      <td>1</td>\n",
       "      <td>40</td>\n",
       "      <td>193</td>\n",
       "      <td>4</td>\n",
       "      <td>-34.629923</td>\n",
       "      <td>-58.465820</td>\n",
       "      <td>51.0</td>\n",
       "      <td>51.000000</td>\n",
       "      <td>1.0</td>\n",
       "      <td>1.0</td>\n",
       "      <td>2017</td>\n",
       "      <td>8</td>\n",
       "      <td>1</td>\n",
       "      <td>206545.147112</td>\n",
       "    </tr>\n",
       "    <tr>\n",
       "      <th>5</th>\n",
       "      <td>1</td>\n",
       "      <td>40</td>\n",
       "      <td>193</td>\n",
       "      <td>4</td>\n",
       "      <td>-34.629923</td>\n",
       "      <td>-58.465820</td>\n",
       "      <td>39.0</td>\n",
       "      <td>39.000000</td>\n",
       "      <td>1.0</td>\n",
       "      <td>1.0</td>\n",
       "      <td>2017</td>\n",
       "      <td>8</td>\n",
       "      <td>1</td>\n",
       "      <td>-37428.197502</td>\n",
       "    </tr>\n",
       "    <tr>\n",
       "      <th>6</th>\n",
       "      <td>1</td>\n",
       "      <td>40</td>\n",
       "      <td>193</td>\n",
       "      <td>4</td>\n",
       "      <td>-34.629923</td>\n",
       "      <td>-58.465820</td>\n",
       "      <td>39.0</td>\n",
       "      <td>39.000000</td>\n",
       "      <td>1.0</td>\n",
       "      <td>1.0</td>\n",
       "      <td>2017</td>\n",
       "      <td>8</td>\n",
       "      <td>1</td>\n",
       "      <td>-37428.197502</td>\n",
       "    </tr>\n",
       "    <tr>\n",
       "      <th>7</th>\n",
       "      <td>1</td>\n",
       "      <td>40</td>\n",
       "      <td>193</td>\n",
       "      <td>4</td>\n",
       "      <td>-34.629923</td>\n",
       "      <td>-58.465820</td>\n",
       "      <td>39.0</td>\n",
       "      <td>39.000000</td>\n",
       "      <td>1.0</td>\n",
       "      <td>1.0</td>\n",
       "      <td>2017</td>\n",
       "      <td>8</td>\n",
       "      <td>1</td>\n",
       "      <td>-37428.197502</td>\n",
       "    </tr>\n",
       "    <tr>\n",
       "      <th>8</th>\n",
       "      <td>1</td>\n",
       "      <td>47</td>\n",
       "      <td>195</td>\n",
       "      <td>4</td>\n",
       "      <td>-34.578721</td>\n",
       "      <td>-58.457095</td>\n",
       "      <td>67.0</td>\n",
       "      <td>67.000000</td>\n",
       "      <td>1.0</td>\n",
       "      <td>1.0</td>\n",
       "      <td>2017</td>\n",
       "      <td>8</td>\n",
       "      <td>1</td>\n",
       "      <td>429732.761377</td>\n",
       "    </tr>\n",
       "    <tr>\n",
       "      <th>9</th>\n",
       "      <td>1</td>\n",
       "      <td>7</td>\n",
       "      <td>184</td>\n",
       "      <td>4</td>\n",
       "      <td>-34.629923</td>\n",
       "      <td>-58.465820</td>\n",
       "      <td>47.0</td>\n",
       "      <td>47.000000</td>\n",
       "      <td>1.0</td>\n",
       "      <td>1.0</td>\n",
       "      <td>2017</td>\n",
       "      <td>8</td>\n",
       "      <td>1</td>\n",
       "      <td>22229.865600</td>\n",
       "    </tr>\n",
       "  </tbody>\n",
       "</table>\n",
       "</div>"
      ],
      "text/plain": [
       "   property_type  place_name  place_with_parent_names  state_name        lat  \\\n",
       "0              1         152                      219           4 -34.610988   \n",
       "1              1          29                      180           3 -34.629923   \n",
       "2              1         136                      210           4 -34.589363   \n",
       "3              1          40                      193           4 -34.629923   \n",
       "4              1          40                      193           4 -34.629923   \n",
       "5              1          40                      193           4 -34.629923   \n",
       "6              1          40                      193           4 -34.629923   \n",
       "7              1          40                      193           4 -34.629923   \n",
       "8              1          47                      195           4 -34.578721   \n",
       "9              1           7                      184           4 -34.629923   \n",
       "\n",
       "         lon  surface_total_in_m2  surface_covered_in_m2  floor  rooms  \\\n",
       "0 -58.363464                  0.0             359.471588    1.0    1.0   \n",
       "1 -58.465820                  0.0             359.471588    1.0    1.0   \n",
       "2 -58.412880                 53.0              48.000000    1.0    1.0   \n",
       "3 -58.465820                 39.0              39.000000    1.0    1.0   \n",
       "4 -58.465820                 51.0              51.000000    1.0    1.0   \n",
       "5 -58.465820                 39.0              39.000000    1.0    1.0   \n",
       "6 -58.465820                 39.0              39.000000    1.0    1.0   \n",
       "7 -58.465820                 39.0              39.000000    1.0    1.0   \n",
       "8 -58.457095                 67.0              67.000000    1.0    1.0   \n",
       "9 -58.465820                 47.0              47.000000    1.0    1.0   \n",
       "\n",
       "   created_on_year  created_on_month  created_on_day     prediction  \n",
       "0             2017                 8              24  124529.925517  \n",
       "1             2017                 8              25    -683.504031  \n",
       "2             2017                 8               1  345549.378124  \n",
       "3             2017                 8               1  -37428.197502  \n",
       "4             2017                 8               1  206545.147112  \n",
       "5             2017                 8               1  -37428.197502  \n",
       "6             2017                 8               1  -37428.197502  \n",
       "7             2017                 8               1  -37428.197502  \n",
       "8             2017                 8               1  429732.761377  \n",
       "9             2017                 8               1   22229.865600  "
      ]
     },
     "execution_count": 123,
     "metadata": {},
     "output_type": "execute_result"
    }
   ],
   "source": [
    "# prediccion del set de test\n",
    "#knn = KNeighborsRegressor(n_neighbors=best_k, weights='distance', p=best_p)\n",
    "#knn.fit(X_train_std[:, k_param], y_train)\n",
    "X_test_df['prediction'] = clf.predict(X_test_df)\n",
    "X_test_df.head(10)"
   ]
  },
  {
   "cell_type": "code",
   "execution_count": 124,
   "metadata": {
    "collapsed": false
   },
   "outputs": [],
   "source": [
    "# guardo el file\n",
    "output = pd.DataFrame( data={\"id\":test_df[\"id\"], \"price_usd\":X_test_df['prediction']} )\n",
    "output.to_csv( \"../data/result/result_gb_\"+str(now)+\".csv\", index=False, quoting=3 )"
   ]
  },
  {
   "cell_type": "code",
   "execution_count": null,
   "metadata": {
    "collapsed": true
   },
   "outputs": [],
   "source": []
  }
 ],
 "metadata": {
  "kernelspec": {
   "display_name": "Python 3",
   "language": "python",
   "name": "python3"
  },
  "language_info": {
   "codemirror_mode": {
    "name": "ipython",
    "version": 3
   },
   "file_extension": ".py",
   "mimetype": "text/x-python",
   "name": "python",
   "nbconvert_exporter": "python",
   "pygments_lexer": "ipython3",
   "version": "3.5.2"
  }
 },
 "nbformat": 4,
 "nbformat_minor": 2
}
