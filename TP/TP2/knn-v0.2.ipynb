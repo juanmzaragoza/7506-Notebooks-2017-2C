{
 "cells": [
  {
   "cell_type": "markdown",
   "metadata": {},
   "source": [
    "<h1 style=\"text-align: center;\" markdown=\"1\">TP2: Primer KNN eliminando filas con columnas nulas y regresion</h1>\n",
    "![](../data/icon_properati-data.png)"
   ]
  },
  {
   "cell_type": "code",
   "execution_count": 1,
   "metadata": {
    "collapsed": false
   },
   "outputs": [
    {
     "name": "stdout",
     "output_type": "stream",
     "text": [
      "Populating the interactive namespace from numpy and matplotlib\n"
     ]
    },
    {
     "name": "stderr",
     "output_type": "stream",
     "text": [
      "/opt/conda/lib/python3.5/site-packages/IPython/core/magics/pylab.py:161: UserWarning: pylab import has clobbered these variables: ['plt']\n",
      "`%matplotlib` prevents importing * from pylab and numpy\n",
      "  \"\\n`%matplotlib` prevents importing * from pylab and numpy\"\n"
     ]
    }
   ],
   "source": [
    "import numpy as np \n",
    "import pandas as pd\n",
    "\n",
    "# plots\n",
    "import matplotlib.pyplot as plt\n",
    "import seaborn as sns\n",
    "%matplotlib inline\n",
    "%pylab inline\n",
    "\n",
    "# modules\n",
    "import knn as knnlibrary"
   ]
  },
  {
   "cell_type": "code",
   "execution_count": 2,
   "metadata": {
    "collapsed": false
   },
   "outputs": [
    {
     "data": {
      "text/html": [
       "<div>\n",
       "<table border=\"1\" class=\"dataframe\">\n",
       "  <thead>\n",
       "    <tr style=\"text-align: right;\">\n",
       "      <th></th>\n",
       "      <th>country_name</th>\n",
       "      <th>created_on</th>\n",
       "      <th>currency</th>\n",
       "      <th>description</th>\n",
       "      <th>expenses</th>\n",
       "      <th>floor</th>\n",
       "      <th>geonames_id</th>\n",
       "      <th>id</th>\n",
       "      <th>image_thumbnail</th>\n",
       "      <th>lat</th>\n",
       "      <th>...</th>\n",
       "      <th>price_aprox_usd</th>\n",
       "      <th>price_per_m2</th>\n",
       "      <th>price_usd_per_m2</th>\n",
       "      <th>properati_url</th>\n",
       "      <th>property_type</th>\n",
       "      <th>rooms</th>\n",
       "      <th>state_name</th>\n",
       "      <th>surface_covered_in_m2</th>\n",
       "      <th>surface_total_in_m2</th>\n",
       "      <th>title</th>\n",
       "    </tr>\n",
       "  </thead>\n",
       "  <tbody>\n",
       "    <tr>\n",
       "      <th>0</th>\n",
       "      <td>Argentina</td>\n",
       "      <td>2016-06-01</td>\n",
       "      <td>USD</td>\n",
       "      <td>UNIDAD AL FRENTE CON BALCON CORRIDO Y 2 COCHER...</td>\n",
       "      <td>NaN</td>\n",
       "      <td>5.0</td>\n",
       "      <td>3430234.0</td>\n",
       "      <td>ecc59daba3d5bc726ae8aa9dbccfe79635aef175</td>\n",
       "      <td>https://thumbs4.properati.com/2/RbSA4pJRsv2S8M...</td>\n",
       "      <td>-34.588856</td>\n",
       "      <td>...</td>\n",
       "      <td>450000.0</td>\n",
       "      <td>3461.538462</td>\n",
       "      <td>NaN</td>\n",
       "      <td>http://www.properati.com.ar/ys05_venta_departa...</td>\n",
       "      <td>apartment</td>\n",
       "      <td>4.0</td>\n",
       "      <td>Capital Federal</td>\n",
       "      <td>130.0</td>\n",
       "      <td>NaN</td>\n",
       "      <td>IMPECABLE PISO DE 4 AMB + DEP Y 2 COCHERAS</td>\n",
       "    </tr>\n",
       "    <tr>\n",
       "      <th>1</th>\n",
       "      <td>Argentina</td>\n",
       "      <td>2016-06-01</td>\n",
       "      <td>USD</td>\n",
       "      <td>SE VENDE A ESTRENAR EN PLENO CORAZON DE ONCE !...</td>\n",
       "      <td>NaN</td>\n",
       "      <td>1.0</td>\n",
       "      <td>3430291.0</td>\n",
       "      <td>7f1423f29df530cae38e7a59ddc6430c7da7ca38</td>\n",
       "      <td>https://thumbs4.properati.com/8/IMCZ4CqITeOqx5...</td>\n",
       "      <td>-34.603400</td>\n",
       "      <td>...</td>\n",
       "      <td>95000.0</td>\n",
       "      <td>2065.217391</td>\n",
       "      <td>NaN</td>\n",
       "      <td>http://www.properati.com.ar/ys06_venta_departa...</td>\n",
       "      <td>apartment</td>\n",
       "      <td>1.0</td>\n",
       "      <td>Capital Federal</td>\n",
       "      <td>46.0</td>\n",
       "      <td>NaN</td>\n",
       "      <td>Excelentes oficinas a estrenar!!!!!</td>\n",
       "    </tr>\n",
       "    <tr>\n",
       "      <th>2</th>\n",
       "      <td>Argentina</td>\n",
       "      <td>2016-06-01</td>\n",
       "      <td>USD</td>\n",
       "      <td>Local en Venta sobre Avenida Santa Fe.Ideal pa...</td>\n",
       "      <td>500</td>\n",
       "      <td>NaN</td>\n",
       "      <td>3436109.0</td>\n",
       "      <td>4fdd84d998a3f82f4a3b36f405cc3f7013fb642e</td>\n",
       "      <td>https://thumbs4.properati.com/9/-VNE04tbyVFfcO...</td>\n",
       "      <td>-34.595849</td>\n",
       "      <td>...</td>\n",
       "      <td>52000.0</td>\n",
       "      <td>NaN</td>\n",
       "      <td>NaN</td>\n",
       "      <td>http://www.properati.com.ar/ys0r_venta_local_b...</td>\n",
       "      <td>store</td>\n",
       "      <td>NaN</td>\n",
       "      <td>Capital Federal</td>\n",
       "      <td>0.0</td>\n",
       "      <td>NaN</td>\n",
       "      <td>Local sobre Av. Santa Fe</td>\n",
       "    </tr>\n",
       "    <tr>\n",
       "      <th>3</th>\n",
       "      <td>Argentina</td>\n",
       "      <td>2016-06-01</td>\n",
       "      <td>USD</td>\n",
       "      <td>CHALET INMEJORABLE UBICACIÓN: PLANTA BAJA: AMP...</td>\n",
       "      <td>NaN</td>\n",
       "      <td>NaN</td>\n",
       "      <td>NaN</td>\n",
       "      <td>a786b4d9a8f6cc86ba3e839f4cb85bbb03cf15fd</td>\n",
       "      <td>https://thumbs4.properati.com/5/FhMeTqvYjAiHVS...</td>\n",
       "      <td>-34.796679</td>\n",
       "      <td>...</td>\n",
       "      <td>360000.0</td>\n",
       "      <td>NaN</td>\n",
       "      <td>1285.714286</td>\n",
       "      <td>http://www.properati.com.ar/ys10_venta_casa_ad...</td>\n",
       "      <td>house</td>\n",
       "      <td>6.0</td>\n",
       "      <td>Bs.As. G.B.A. Zona Sur</td>\n",
       "      <td>0.0</td>\n",
       "      <td>280.0</td>\n",
       "      <td>IMPORTANTE CHALET ZONA MUY RESIDENCIAL</td>\n",
       "    </tr>\n",
       "    <tr>\n",
       "      <th>4</th>\n",
       "      <td>Argentina</td>\n",
       "      <td>2016-06-01</td>\n",
       "      <td>USD</td>\n",
       "      <td>Casa muy funcional, desarrollada en una sola p...</td>\n",
       "      <td>NaN</td>\n",
       "      <td>NaN</td>\n",
       "      <td>3429979.0</td>\n",
       "      <td>9844244d17eb024e0632a63b4098b67889de06bc</td>\n",
       "      <td>https://thumbs4.properati.com/2/dxU45Z8wqh3Mdq...</td>\n",
       "      <td>NaN</td>\n",
       "      <td>...</td>\n",
       "      <td>150000.0</td>\n",
       "      <td>1250.000000</td>\n",
       "      <td>1250.000000</td>\n",
       "      <td>http://www.properati.com.ar/ys1c_venta_casa_pi...</td>\n",
       "      <td>house</td>\n",
       "      <td>4.0</td>\n",
       "      <td>Bs.As. G.B.A. Zona Norte</td>\n",
       "      <td>120.0</td>\n",
       "      <td>120.0</td>\n",
       "      <td>BAYUGAR PROPIEDADES/ LINDISIMA CASA/ BARRIO CA...</td>\n",
       "    </tr>\n",
       "  </tbody>\n",
       "</table>\n",
       "<p>5 rows × 27 columns</p>\n",
       "</div>"
      ],
      "text/plain": [
       "  country_name  created_on currency  \\\n",
       "0    Argentina  2016-06-01      USD   \n",
       "1    Argentina  2016-06-01      USD   \n",
       "2    Argentina  2016-06-01      USD   \n",
       "3    Argentina  2016-06-01      USD   \n",
       "4    Argentina  2016-06-01      USD   \n",
       "\n",
       "                                         description expenses  floor  \\\n",
       "0  UNIDAD AL FRENTE CON BALCON CORRIDO Y 2 COCHER...      NaN    5.0   \n",
       "1  SE VENDE A ESTRENAR EN PLENO CORAZON DE ONCE !...      NaN    1.0   \n",
       "2  Local en Venta sobre Avenida Santa Fe.Ideal pa...      500    NaN   \n",
       "3  CHALET INMEJORABLE UBICACIÓN: PLANTA BAJA: AMP...      NaN    NaN   \n",
       "4  Casa muy funcional, desarrollada en una sola p...      NaN    NaN   \n",
       "\n",
       "   geonames_id                                        id  \\\n",
       "0    3430234.0  ecc59daba3d5bc726ae8aa9dbccfe79635aef175   \n",
       "1    3430291.0  7f1423f29df530cae38e7a59ddc6430c7da7ca38   \n",
       "2    3436109.0  4fdd84d998a3f82f4a3b36f405cc3f7013fb642e   \n",
       "3          NaN  a786b4d9a8f6cc86ba3e839f4cb85bbb03cf15fd   \n",
       "4    3429979.0  9844244d17eb024e0632a63b4098b67889de06bc   \n",
       "\n",
       "                                     image_thumbnail        lat  \\\n",
       "0  https://thumbs4.properati.com/2/RbSA4pJRsv2S8M... -34.588856   \n",
       "1  https://thumbs4.properati.com/8/IMCZ4CqITeOqx5... -34.603400   \n",
       "2  https://thumbs4.properati.com/9/-VNE04tbyVFfcO... -34.595849   \n",
       "3  https://thumbs4.properati.com/5/FhMeTqvYjAiHVS... -34.796679   \n",
       "4  https://thumbs4.properati.com/2/dxU45Z8wqh3Mdq...        NaN   \n",
       "\n",
       "                         ...                         price_aprox_usd  \\\n",
       "0                        ...                                450000.0   \n",
       "1                        ...                                 95000.0   \n",
       "2                        ...                                 52000.0   \n",
       "3                        ...                                360000.0   \n",
       "4                        ...                                150000.0   \n",
       "\n",
       "   price_per_m2 price_usd_per_m2  \\\n",
       "0   3461.538462              NaN   \n",
       "1   2065.217391              NaN   \n",
       "2           NaN              NaN   \n",
       "3           NaN      1285.714286   \n",
       "4   1250.000000      1250.000000   \n",
       "\n",
       "                                       properati_url property_type  rooms  \\\n",
       "0  http://www.properati.com.ar/ys05_venta_departa...     apartment    4.0   \n",
       "1  http://www.properati.com.ar/ys06_venta_departa...     apartment    1.0   \n",
       "2  http://www.properati.com.ar/ys0r_venta_local_b...         store    NaN   \n",
       "3  http://www.properati.com.ar/ys10_venta_casa_ad...         house    6.0   \n",
       "4  http://www.properati.com.ar/ys1c_venta_casa_pi...         house    4.0   \n",
       "\n",
       "                 state_name  surface_covered_in_m2  surface_total_in_m2  \\\n",
       "0           Capital Federal                  130.0                  NaN   \n",
       "1           Capital Federal                   46.0                  NaN   \n",
       "2           Capital Federal                    0.0                  NaN   \n",
       "3    Bs.As. G.B.A. Zona Sur                    0.0                280.0   \n",
       "4  Bs.As. G.B.A. Zona Norte                  120.0                120.0   \n",
       "\n",
       "                                               title  \n",
       "0         IMPECABLE PISO DE 4 AMB + DEP Y 2 COCHERAS  \n",
       "1                Excelentes oficinas a estrenar!!!!!  \n",
       "2                           Local sobre Av. Santa Fe  \n",
       "3             IMPORTANTE CHALET ZONA MUY RESIDENCIAL  \n",
       "4  BAYUGAR PROPIEDADES/ LINDISIMA CASA/ BARRIO CA...  \n",
       "\n",
       "[5 rows x 27 columns]"
      ]
     },
     "execution_count": 2,
     "metadata": {},
     "output_type": "execute_result"
    }
   ],
   "source": [
    "properties =knnlibrary.get_dataset()\n",
    "properties.head()"
   ]
  },
  {
   "cell_type": "code",
   "execution_count": 3,
   "metadata": {
    "collapsed": false
   },
   "outputs": [
    {
     "name": "stdout",
     "output_type": "stream",
     "text": [
      "<class 'pandas.core.frame.DataFrame'>\n",
      "Int64Index: 456866 entries, 0 to 80257\n",
      "Data columns (total 30 columns):\n",
      "country_name                  456866 non-null object\n",
      "created_on                    456866 non-null object\n",
      "currency                      386939 non-null object\n",
      "description                   456847 non-null object\n",
      "expenses                      45970 non-null object\n",
      "floor                         47408 non-null float64\n",
      "geonames_id                   373284 non-null float64\n",
      "id                            456866 non-null object\n",
      "image_thumbnail               435112 non-null object\n",
      "lat                           332561 non-null float64\n",
      "lat-lon                       332561 non-null object\n",
      "lon                           332561 non-null float64\n",
      "operation                     456866 non-null object\n",
      "place_name                    456801 non-null object\n",
      "place_with_parent_names       456866 non-null object\n",
      "price                         400975 non-null float64\n",
      "price_aprox_local_currency    400975 non-null float64\n",
      "price_aprox_usd               400975 non-null float64\n",
      "price_per_m2                  327129 non-null float64\n",
      "price_usd_per_m2              250930 non-null float64\n",
      "properati_url                 442700 non-null object\n",
      "property_type                 456866 non-null object\n",
      "rooms                         251612 non-null float64\n",
      "state_name                    456866 non-null object\n",
      "surface_covered_in_m2         379957 non-null float64\n",
      "surface_total_in_m2           312385 non-null float64\n",
      "title                         442700 non-null object\n",
      "created_on_year               456866 non-null int64\n",
      "created_on_month              456866 non-null int64\n",
      "created_on_day                456866 non-null int64\n",
      "dtypes: float64(12), int64(3), object(15)\n",
      "memory usage: 108.1+ MB\n"
     ]
    }
   ],
   "source": [
    "# transformo el campo fecha\n",
    "properties_caba = knnlibrary.transform_date(properties)\n",
    "\n",
    "properties_caba.info()"
   ]
  },
  {
   "cell_type": "code",
   "execution_count": 4,
   "metadata": {
    "collapsed": false
   },
   "outputs": [
    {
     "name": "stdout",
     "output_type": "stream",
     "text": [
      "<class 'pandas.core.frame.DataFrame'>\n",
      "Int64Index: 36021 entries, 0 to 80130\n",
      "Data columns (total 15 columns):\n",
      "currency                   35538 non-null object\n",
      "floor                      36021 non-null float64\n",
      "lat                        26803 non-null float64\n",
      "lon                        26803 non-null float64\n",
      "place_name                 36021 non-null object\n",
      "place_with_parent_names    36021 non-null object\n",
      "price                      36021 non-null float64\n",
      "property_type              36021 non-null object\n",
      "rooms                      20263 non-null float64\n",
      "state_name                 36021 non-null object\n",
      "surface_covered_in_m2      34147 non-null float64\n",
      "surface_total_in_m2        24789 non-null float64\n",
      "created_on_year            36021 non-null int64\n",
      "created_on_month           36021 non-null int64\n",
      "created_on_day             36021 non-null int64\n",
      "dtypes: float64(7), int64(3), object(5)\n",
      "memory usage: 4.4+ MB\n"
     ]
    }
   ],
   "source": [
    "# filtro por CABA y GBA\n",
    "# queremos solo las propiedades que tienen precio y eliminamos columnas que sabemos que no son \n",
    "#redundantes y que no nos servirian para knn\n",
    "# eliminamos propiedades con mas de 54 pisos\n",
    "properties_caba = knnlibrary.clean_dataset(properties)\n",
    "\n",
    "# las expensas tienen demasiados nulos por lo que voy a eliminar esa columna\n",
    "properties_caba = properties_caba.drop(['expenses'], axis = 1)\n",
    "\n",
    "properties_caba.info()"
   ]
  },
  {
   "cell_type": "code",
   "execution_count": 5,
   "metadata": {
    "collapsed": false
   },
   "outputs": [
    {
     "name": "stdout",
     "output_type": "stream",
     "text": [
      "<class 'pandas.core.frame.DataFrame'>\n",
      "Int64Index: 9380 entries, 385 to 80073\n",
      "Data columns (total 15 columns):\n",
      "currency                   9380 non-null object\n",
      "floor                      9380 non-null float64\n",
      "lat                        9380 non-null float64\n",
      "lon                        9380 non-null float64\n",
      "place_name                 9380 non-null object\n",
      "place_with_parent_names    9380 non-null object\n",
      "price                      9380 non-null float64\n",
      "property_type              9380 non-null object\n",
      "rooms                      9380 non-null float64\n",
      "state_name                 9380 non-null object\n",
      "surface_covered_in_m2      9380 non-null float64\n",
      "surface_total_in_m2        9380 non-null float64\n",
      "created_on_year            9380 non-null int64\n",
      "created_on_month           9380 non-null int64\n",
      "created_on_day             9380 non-null int64\n",
      "dtypes: float64(7), int64(3), object(5)\n",
      "memory usage: 1.1+ MB\n"
     ]
    }
   ],
   "source": [
    "# eliminamos filas con valores nulo\n",
    "properties_caba = properties_caba.dropna(how='any')\n",
    "properties_caba.info()"
   ]
  },
  {
   "cell_type": "code",
   "execution_count": 6,
   "metadata": {
    "collapsed": false
   },
   "outputs": [
    {
     "name": "stderr",
     "output_type": "stream",
     "text": [
      "/opt/conda/lib/python3.5/site-packages/sklearn/preprocessing/label.py:111: DataConversionWarning: A column-vector y was passed when a 1d array was expected. Please change the shape of y to (n_samples, ), for example using ravel().\n",
      "  y = column_or_1d(y, warn=True)\n"
     ]
    },
    {
     "data": {
      "text/html": [
       "<div>\n",
       "<table border=\"1\" class=\"dataframe\">\n",
       "  <thead>\n",
       "    <tr style=\"text-align: right;\">\n",
       "      <th></th>\n",
       "      <th>currency</th>\n",
       "      <th>floor</th>\n",
       "      <th>lat</th>\n",
       "      <th>lon</th>\n",
       "      <th>place_name</th>\n",
       "      <th>place_with_parent_names</th>\n",
       "      <th>price</th>\n",
       "      <th>property_type</th>\n",
       "      <th>rooms</th>\n",
       "      <th>state_name</th>\n",
       "      <th>surface_covered_in_m2</th>\n",
       "      <th>surface_total_in_m2</th>\n",
       "      <th>created_on_year</th>\n",
       "      <th>created_on_month</th>\n",
       "      <th>created_on_day</th>\n",
       "    </tr>\n",
       "  </thead>\n",
       "  <tbody>\n",
       "    <tr>\n",
       "      <th>385</th>\n",
       "      <td>1</td>\n",
       "      <td>2.0</td>\n",
       "      <td>-34.544033</td>\n",
       "      <td>-58.472911</td>\n",
       "      <td>91</td>\n",
       "      <td>121</td>\n",
       "      <td>135000.0</td>\n",
       "      <td>1</td>\n",
       "      <td>3.0</td>\n",
       "      <td>3</td>\n",
       "      <td>74.0</td>\n",
       "      <td>74.0</td>\n",
       "      <td>2016</td>\n",
       "      <td>6</td>\n",
       "      <td>2</td>\n",
       "    </tr>\n",
       "    <tr>\n",
       "      <th>890</th>\n",
       "      <td>1</td>\n",
       "      <td>2.0</td>\n",
       "      <td>-34.648915</td>\n",
       "      <td>-58.796383</td>\n",
       "      <td>66</td>\n",
       "      <td>45</td>\n",
       "      <td>48000.0</td>\n",
       "      <td>1</td>\n",
       "      <td>2.0</td>\n",
       "      <td>1</td>\n",
       "      <td>32.0</td>\n",
       "      <td>32.0</td>\n",
       "      <td>2016</td>\n",
       "      <td>6</td>\n",
       "      <td>9</td>\n",
       "    </tr>\n",
       "    <tr>\n",
       "      <th>1010</th>\n",
       "      <td>1</td>\n",
       "      <td>10.0</td>\n",
       "      <td>-34.599574</td>\n",
       "      <td>-58.378334</td>\n",
       "      <td>23</td>\n",
       "      <td>93</td>\n",
       "      <td>129000.0</td>\n",
       "      <td>1</td>\n",
       "      <td>3.0</td>\n",
       "      <td>3</td>\n",
       "      <td>43.0</td>\n",
       "      <td>43.0</td>\n",
       "      <td>2016</td>\n",
       "      <td>6</td>\n",
       "      <td>10</td>\n",
       "    </tr>\n",
       "    <tr>\n",
       "      <th>1018</th>\n",
       "      <td>1</td>\n",
       "      <td>7.0</td>\n",
       "      <td>-34.651616</td>\n",
       "      <td>-58.623603</td>\n",
       "      <td>67</td>\n",
       "      <td>50</td>\n",
       "      <td>58000.0</td>\n",
       "      <td>1</td>\n",
       "      <td>1.0</td>\n",
       "      <td>1</td>\n",
       "      <td>27.0</td>\n",
       "      <td>29.0</td>\n",
       "      <td>2016</td>\n",
       "      <td>6</td>\n",
       "      <td>10</td>\n",
       "    </tr>\n",
       "    <tr>\n",
       "      <th>1025</th>\n",
       "      <td>1</td>\n",
       "      <td>2.0</td>\n",
       "      <td>-34.425266</td>\n",
       "      <td>-58.579019</td>\n",
       "      <td>104</td>\n",
       "      <td>26</td>\n",
       "      <td>100000.0</td>\n",
       "      <td>1</td>\n",
       "      <td>2.0</td>\n",
       "      <td>0</td>\n",
       "      <td>50.0</td>\n",
       "      <td>56.0</td>\n",
       "      <td>2016</td>\n",
       "      <td>6</td>\n",
       "      <td>10</td>\n",
       "    </tr>\n",
       "  </tbody>\n",
       "</table>\n",
       "</div>"
      ],
      "text/plain": [
       "      currency  floor        lat        lon  place_name  \\\n",
       "385          1    2.0 -34.544033 -58.472911          91   \n",
       "890          1    2.0 -34.648915 -58.796383          66   \n",
       "1010         1   10.0 -34.599574 -58.378334          23   \n",
       "1018         1    7.0 -34.651616 -58.623603          67   \n",
       "1025         1    2.0 -34.425266 -58.579019         104   \n",
       "\n",
       "      place_with_parent_names     price  property_type  rooms  state_name  \\\n",
       "385                       121  135000.0              1    3.0           3   \n",
       "890                        45   48000.0              1    2.0           1   \n",
       "1010                       93  129000.0              1    3.0           3   \n",
       "1018                       50   58000.0              1    1.0           1   \n",
       "1025                       26  100000.0              1    2.0           0   \n",
       "\n",
       "      surface_covered_in_m2  surface_total_in_m2  created_on_year  \\\n",
       "385                    74.0                 74.0             2016   \n",
       "890                    32.0                 32.0             2016   \n",
       "1010                   43.0                 43.0             2016   \n",
       "1018                   27.0                 29.0             2016   \n",
       "1025                   50.0                 56.0             2016   \n",
       "\n",
       "      created_on_month  created_on_day  \n",
       "385                  6               2  \n",
       "890                  6               9  \n",
       "1010                 6              10  \n",
       "1018                 6              10  \n",
       "1025                 6              10  "
      ]
     },
     "execution_count": 6,
     "metadata": {},
     "output_type": "execute_result"
    }
   ],
   "source": [
    "from sklearn.preprocessing import LabelEncoder\n",
    "\n",
    "# atributos categoricos\n",
    "encoder = LabelEncoder()\n",
    "properties_caba = knnlibrary.encoder_attributes(properties_caba, encoder)\n",
    "\n",
    "properties_caba.head()"
   ]
  },
  {
   "cell_type": "markdown",
   "metadata": {},
   "source": [
    "# Separacion del set de train para Cross-validation, Normalizacion y feature selection"
   ]
  },
  {
   "cell_type": "code",
   "execution_count": 7,
   "metadata": {
    "collapsed": false
   },
   "outputs": [
    {
     "data": {
      "text/plain": [
       "(1876, 7504)"
      ]
     },
     "execution_count": 7,
     "metadata": {},
     "output_type": "execute_result"
    }
   ],
   "source": [
    "from sklearn.model_selection import train_test_split\n",
    "import datetime\n",
    "\n",
    "now = datetime.datetime.now()\n",
    "\n",
    "# separamos el train de traing para validarlo luego usando un 30% de los datos\n",
    "X, y = properties_caba.iloc[:, properties_caba.columns != 'price'].values, properties_caba.iloc[:, properties_caba.columns == 'price'].values\n",
    "X_train, X_test, y_train, y_test = \\\n",
    "        train_test_split(X, y, test_size=0.2, random_state=now.microsecond)\n",
    "    \n",
    "len(X_test), len(X_train)"
   ]
  },
  {
   "cell_type": "code",
   "execution_count": 8,
   "metadata": {
    "collapsed": false
   },
   "outputs": [
    {
     "name": "stderr",
     "output_type": "stream",
     "text": [
      "/opt/conda/lib/python3.5/site-packages/sklearn/utils/validation.py:578: DataConversionWarning: A column-vector y was passed when a 1d array was expected. Please change the shape of y to (n_samples, ), for example using ravel().\n",
      "  y = column_or_1d(y, warn=True)\n"
     ]
    },
    {
     "name": "stdout",
     "output_type": "stream",
     "text": [
      "Training accuracy: 0.0539712153518\n",
      "Test accuracy: 0.044776119403\n"
     ]
    }
   ],
   "source": [
    "# a cada dato le restamos la media y lo dividimos por su desviacion standard\n",
    "from sklearn.preprocessing import StandardScaler\n",
    "stdsc = StandardScaler()\n",
    "X_train_std = stdsc.fit_transform(X_train)\n",
    "X_test_std = stdsc.transform(X_test)\n",
    "\n",
    "# en la documentacion de sklearn menciona sobre la regularizacion pero la voy a escapear por ahora\n",
    "from sklearn.linear_model import LogisticRegression\n",
    "\n",
    "LogisticRegression(penalty='l1')\n",
    "\n",
    "logi_regr = LogisticRegression(penalty='l1', C=0.1)\n",
    "logi_regr.fit(X_train_std, y_train)\n",
    "print('Training accuracy:', logi_regr.score(X_train_std, y_train))\n",
    "print('Test accuracy:', logi_regr.score(X_test_std, y_test))"
   ]
  },
  {
   "cell_type": "markdown",
   "metadata": {},
   "source": [
    "Aca vemos que hay algo extrano porque no hicimos ningun tipo de moficacion en los parametros"
   ]
  },
  {
   "cell_type": "code",
   "execution_count": 9,
   "metadata": {
    "collapsed": false
   },
   "outputs": [
    {
     "data": {
      "text/plain": [
       "<__main__.SBS at 0x7f83a6536208>"
      ]
     },
     "execution_count": 9,
     "metadata": {},
     "output_type": "execute_result"
    }
   ],
   "source": [
    "from sklearn.base import clone\n",
    "from itertools import combinations\n",
    "from sklearn.model_selection import train_test_split\n",
    "from sklearn.metrics import accuracy_score, median_absolute_error\n",
    "\n",
    "# clase para hacer Backward Selection\n",
    "class SBS():\n",
    "    def __init__(self, estimator, k_features,\n",
    "        scoring=accuracy_score,\n",
    "        test_size=0.25, random_state=1):\n",
    "        self.scoring = scoring\n",
    "        self.estimator = clone(estimator)\n",
    "        self.k_features = k_features\n",
    "        self.test_size = test_size\n",
    "        self.random_state = random_state\n",
    "        \n",
    "    def fit(self, X, y):\n",
    "        X_train, X_test, y_train, y_test = \\\n",
    "            train_test_split(X, y, test_size=self.test_size,\n",
    "        random_state=self.random_state)\n",
    "        dim = X_train.shape[1]\n",
    "        self.indices_ = tuple(range(dim))\n",
    "        self.subsets_ = [self.indices_]\n",
    "        score = self._calc_score(X_train, y_train,\n",
    "        X_test, y_test, self.indices_)\n",
    "        self.scores_ = [score]\n",
    "        while dim > self.k_features:\n",
    "            scores = []\n",
    "            subsets = []\n",
    "            for p in combinations(self.indices_, r=dim-1):\n",
    "                score = self._calc_score(X_train, y_train,\n",
    "                X_test, y_test, p)\n",
    "                scores.append(score)\n",
    "                subsets.append(p)\n",
    "            best = np.argmax(scores)\n",
    "            self.indices_ = subsets[best]\n",
    "            self.subsets_.append(self.indices_)\n",
    "            dim -= 1\n",
    "            self.scores_.append(scores[best])\n",
    "        self.k_score_ = self.scores_[-1]\n",
    "        return self\n",
    "    \n",
    "    def transform(self, X):\n",
    "        return X[:, self.indices_]\n",
    "        \n",
    "    def _calc_score(self, X_train, y_train,\n",
    "                        X_test, y_test, indices):\n",
    "        self.estimator.fit(X_train[:, indices], y_train)\n",
    "        y_pred = self.estimator.predict(X_test[:, indices])\n",
    "        score = self.scoring(y_test, y_pred)\n",
    "        return score\n",
    "\n",
    "# aplicamos algoritmos\n",
    "from sklearn.neighbors import KNeighborsRegressor\n",
    "\n",
    "knn = KNeighborsRegressor(n_neighbors=5, weights='distance')\n",
    "sbs = SBS(knn, k_features=1, scoring=median_absolute_error)\n",
    "sbs.fit(X_train_std, y_train)\n",
    "#y_pred = knn.fit(X_train_std, y_train).predict(X_test_std)\n",
    "#median_absolute_error(y_test, y_pred)"
   ]
  },
  {
   "cell_type": "code",
   "execution_count": 10,
   "metadata": {
    "collapsed": false
   },
   "outputs": [
    {
     "data": {
      "text/plain": [
       "[(0, 1, 2, 3, 4, 5, 6, 7, 8, 9, 10, 11, 12, 13),\n",
       " (0, 2, 3, 4, 5, 6, 7, 8, 9, 10, 11, 12, 13),\n",
       " (0, 2, 3, 4, 5, 6, 7, 8, 9, 11, 12, 13),\n",
       " (0, 2, 3, 4, 5, 6, 7, 8, 11, 12, 13),\n",
       " (0, 2, 3, 4, 5, 6, 8, 11, 12, 13),\n",
       " (0, 3, 4, 5, 6, 8, 11, 12, 13),\n",
       " (0, 4, 5, 6, 8, 11, 12, 13),\n",
       " (0, 4, 5, 6, 8, 11, 12),\n",
       " (0, 4, 5, 6, 8, 11),\n",
       " (4, 5, 6, 8, 11),\n",
       " (4, 5, 6, 11),\n",
       " (4, 6, 11),\n",
       " (6, 11),\n",
       " (11,)]"
      ]
     },
     "execution_count": 10,
     "metadata": {},
     "output_type": "execute_result"
    }
   ],
   "source": [
    "sbs.subsets_"
   ]
  },
  {
   "cell_type": "code",
   "execution_count": 11,
   "metadata": {
    "collapsed": false
   },
   "outputs": [
    {
     "data": {
      "text/plain": [
       "[2650.1023215144378,\n",
       " 4285.1901519912135,\n",
       " 4500.0,\n",
       " 5880.4000000000015,\n",
       " 9908.3804622956959,\n",
       " 10999.800000000003,\n",
       " 19873.840898074704,\n",
       " 26000.000000000007,\n",
       " 32100.0,\n",
       " 40450.0,\n",
       " 40300.0,\n",
       " 38996.0,\n",
       " 54170.0,\n",
       " 40922.600000000006]"
      ]
     },
     "execution_count": 11,
     "metadata": {},
     "output_type": "execute_result"
    }
   ],
   "source": [
    "sbs.scores_"
   ]
  },
  {
   "cell_type": "code",
   "execution_count": 12,
   "metadata": {
    "collapsed": false
   },
   "outputs": [
    {
     "data": {
      "image/png": "[encoded data removed]",
      "text/plain": [
       "<matplotlib.figure.Figure at 0x7f83acd4ed68>"
      ]
     },
     "metadata": {},
     "output_type": "display_data"
    }
   ],
   "source": [
    "# graficamos\n",
    "k_feat = [len(k) for k in sbs.subsets_]\n",
    "plot(k_feat, sbs.scores_, marker='o')\n",
    "#ylim([0.0, 1.1])\n",
    "ylabel('Accuracy')\n",
    "xlabel('Number of features')\n",
    "grid()\n",
    "show()"
   ]
  },
  {
   "cell_type": "code",
   "execution_count": 13,
   "metadata": {
    "collapsed": false
   },
   "outputs": [
    {
     "name": "stdout",
     "output_type": "stream",
     "text": [
      "Training accuracy: 0.999623535627\n",
      "Test accuracy: 0.964413645729\n"
     ]
    }
   ],
   "source": [
    "# hacemos una prueba en el set original\n",
    "knn.fit(X_train_std, y_train)\n",
    "print('Training accuracy:', knn.score(X_train_std, y_train))\n",
    "print('Test accuracy:', knn.score(X_test_std, y_test))"
   ]
  },
  {
   "cell_type": "code",
   "execution_count": 14,
   "metadata": {
    "collapsed": false
   },
   "outputs": [
    {
     "name": "stdout",
     "output_type": "stream",
     "text": [
      "Index(['currency', 'floor', 'lat', 'lon', 'place_name',\n",
      "       'place_with_parent_names', 'property_type', 'rooms', 'state_name',\n",
      "       'surface_covered_in_m2', 'surface_total_in_m2', 'created_on_year',\n",
      "       'created_on_month', 'created_on_day'],\n",
      "      dtype='object')\n",
      "Training accuracy: 0.999623535627\n",
      "Test accuracy: 0.964413645729\n"
     ]
    }
   ],
   "source": [
    "k_param = list(sbs.subsets_[0])\n",
    "print(properties_caba.iloc[:, properties_caba.columns != 'price'].columns[k_param])\n",
    "\n",
    "# y como clasifica tomando solo los features devueltos\n",
    "knn.fit(X_train_std[:, k_param], y_train)\n",
    "print('Training accuracy:', knn.score(X_train_std[:, k_param], y_train))\n",
    "print('Test accuracy:', knn.score(X_test_std[:, k_param], y_test))"
   ]
  },
  {
   "cell_type": "markdown",
   "metadata": {
    "collapsed": true
   },
   "source": [
    "Creo que luego de varias corridas el mejor resultado se da cuando seleccionamos todos los features. Por lo que nos quedamos con este resultado."
   ]
  },
  {
   "cell_type": "markdown",
   "metadata": {},
   "source": [
    "# Seleccion de la cantidad optima de vecinos y la metrica a utilizar\n",
    "Elegimos k usando grid search y luego p usando random search"
   ]
  },
  {
   "cell_type": "code",
   "execution_count": 15,
   "metadata": {
    "collapsed": false
   },
   "outputs": [],
   "source": [
    "k_scores = []\n",
    "k_list = []\n",
    "p_list = []\n",
    "labels = []\n",
    "\n",
    "best_score = 0\n",
    "best_k = 0\n",
    "best_p = 0\n",
    "\n",
    "for i in range(2,10):\n",
    "    for p in np.random.randint(2,10,size=4):\n",
    "        knn = KNeighborsRegressor(n_neighbors=i, weights='distance', p=p)\n",
    "        knn.fit(X_train_std[:, k_param], y_train)\n",
    "\n",
    "        p_list.append(p)\n",
    "        k_list.append(i)\n",
    "        \n",
    "        sc = knn.score(X_test_std[:, k_param], y_test)\n",
    "        \n",
    "        labels.append(str(round(sc,3)))\n",
    "        k_scores.append(sc)\n",
    "        \n",
    "        if(sc > best_score):\n",
    "            best_score = sc\n",
    "            best_k = i\n",
    "            best_p = p\n",
    "\n",
    "mu = np.mean(k_scores)\n",
    "v = np.var(k_scores)\n",
    "\n",
    "k_scores = list(map(lambda x: ((x-mu)/v)*50, k_scores))"
   ]
  },
  {
   "cell_type": "code",
   "execution_count": 16,
   "metadata": {
    "collapsed": false
   },
   "outputs": [
    {
     "data": {
      "image/png": "[encoded data removed]",
      "text/plain": [
       "<matplotlib.figure.Figure at 0x7f83a04f0dd8>"
      ]
     },
     "metadata": {},
     "output_type": "display_data"
    }
   ],
   "source": [
    "# graficamos\n",
    "fig, ax = plt.subplots()\n",
    "ax.scatter(k_list, p_list, s=k_scores, alpha=0.5)\n",
    "\n",
    "title = \"K vs Distancia - best k=%s, best p=%s, score=%s\"%(best_k, best_p, best_score)\n",
    "plt.title(title)\n",
    "ylabel('Distance')\n",
    "xlabel('k values')\n",
    "\n",
    "for i, label in enumerate(labels):\n",
    "    ax.annotate(label, (k_list[i],p_list[i]))\n",
    "\n",
    "ax.grid(linestyle='-', linewidth='0.5', color='red')\n",
    "\n",
    "plt.savefig('/home/jovyan/work/TP/TP2/img/best_k=%s-best_p=%s-score=%s.png'%(best_k, best_p, best_score));"
   ]
  },
  {
   "cell_type": "markdown",
   "metadata": {},
   "source": [
    "### Corridas con p=2\n",
    "Primera corrida: p=2 k=5\n",
    "</br>Corridas posteriores: p=2, k entre 9 y 13\n",
    "\n",
    "### Corridas modificando tanto p como k\n",
    "<ul>\n",
    "<li>p=46, k=3, score=0.93</li>\n",
    "<li>p=57, k=3, score=0.933</li>\n",
    "<li>p=4, k=2, score=0.905</li>\n",
    "<li>p=82, k=4, score=0.89477</li>\n",
    "<li>p=81, k=5, score=0.8630</li>\n",
    "<li>p=2, k=6, score=0.9638</li>\n",
    "</ul>"
   ]
  },
  {
   "cell_type": "markdown",
   "metadata": {},
   "source": [
    "# Prediccion"
   ]
  },
  {
   "cell_type": "code",
   "execution_count": 17,
   "metadata": {
    "collapsed": false
   },
   "outputs": [
    {
     "name": "stderr",
     "output_type": "stream",
     "text": [
      "/opt/conda/lib/python3.5/site-packages/sklearn/preprocessing/label.py:111: DataConversionWarning: A column-vector y was passed when a 1d array was expected. Please change the shape of y to (n_samples, ), for example using ravel().\n",
      "  y = column_or_1d(y, warn=True)\n"
     ]
    },
    {
     "data": {
      "text/html": [
       "<div>\n",
       "<table border=\"1\" class=\"dataframe\">\n",
       "  <thead>\n",
       "    <tr style=\"text-align: right;\">\n",
       "      <th></th>\n",
       "      <th>floor</th>\n",
       "      <th>lat</th>\n",
       "      <th>lon</th>\n",
       "      <th>place_name</th>\n",
       "      <th>place_with_parent_names</th>\n",
       "      <th>property_type</th>\n",
       "      <th>rooms</th>\n",
       "      <th>state_name</th>\n",
       "      <th>surface_covered_in_m2</th>\n",
       "      <th>surface_total_in_m2</th>\n",
       "      <th>created_on_year</th>\n",
       "      <th>created_on_month</th>\n",
       "      <th>created_on_day</th>\n",
       "    </tr>\n",
       "  </thead>\n",
       "  <tbody>\n",
       "    <tr>\n",
       "      <th>0</th>\n",
       "      <td>NaN</td>\n",
       "      <td>-34.610988</td>\n",
       "      <td>-58.363464</td>\n",
       "      <td>152</td>\n",
       "      <td>219</td>\n",
       "      <td>1</td>\n",
       "      <td>NaN</td>\n",
       "      <td>4</td>\n",
       "      <td>NaN</td>\n",
       "      <td>0.0</td>\n",
       "      <td>2017</td>\n",
       "      <td>8</td>\n",
       "      <td>24</td>\n",
       "    </tr>\n",
       "    <tr>\n",
       "      <th>1</th>\n",
       "      <td>NaN</td>\n",
       "      <td>NaN</td>\n",
       "      <td>NaN</td>\n",
       "      <td>29</td>\n",
       "      <td>180</td>\n",
       "      <td>1</td>\n",
       "      <td>NaN</td>\n",
       "      <td>3</td>\n",
       "      <td>NaN</td>\n",
       "      <td>0.0</td>\n",
       "      <td>2017</td>\n",
       "      <td>8</td>\n",
       "      <td>25</td>\n",
       "    </tr>\n",
       "    <tr>\n",
       "      <th>2</th>\n",
       "      <td>NaN</td>\n",
       "      <td>-34.589363</td>\n",
       "      <td>-58.412880</td>\n",
       "      <td>136</td>\n",
       "      <td>210</td>\n",
       "      <td>1</td>\n",
       "      <td>NaN</td>\n",
       "      <td>4</td>\n",
       "      <td>48.0</td>\n",
       "      <td>53.0</td>\n",
       "      <td>2017</td>\n",
       "      <td>8</td>\n",
       "      <td>1</td>\n",
       "    </tr>\n",
       "    <tr>\n",
       "      <th>3</th>\n",
       "      <td>NaN</td>\n",
       "      <td>NaN</td>\n",
       "      <td>NaN</td>\n",
       "      <td>40</td>\n",
       "      <td>193</td>\n",
       "      <td>1</td>\n",
       "      <td>NaN</td>\n",
       "      <td>4</td>\n",
       "      <td>39.0</td>\n",
       "      <td>39.0</td>\n",
       "      <td>2017</td>\n",
       "      <td>8</td>\n",
       "      <td>1</td>\n",
       "    </tr>\n",
       "    <tr>\n",
       "      <th>4</th>\n",
       "      <td>NaN</td>\n",
       "      <td>NaN</td>\n",
       "      <td>NaN</td>\n",
       "      <td>40</td>\n",
       "      <td>193</td>\n",
       "      <td>1</td>\n",
       "      <td>NaN</td>\n",
       "      <td>4</td>\n",
       "      <td>51.0</td>\n",
       "      <td>51.0</td>\n",
       "      <td>2017</td>\n",
       "      <td>8</td>\n",
       "      <td>1</td>\n",
       "    </tr>\n",
       "  </tbody>\n",
       "</table>\n",
       "</div>"
      ],
      "text/plain": [
       "   floor        lat        lon  place_name  place_with_parent_names  \\\n",
       "0    NaN -34.610988 -58.363464         152                      219   \n",
       "1    NaN        NaN        NaN          29                      180   \n",
       "2    NaN -34.589363 -58.412880         136                      210   \n",
       "3    NaN        NaN        NaN          40                      193   \n",
       "4    NaN        NaN        NaN          40                      193   \n",
       "\n",
       "   property_type  rooms  state_name  surface_covered_in_m2  \\\n",
       "0              1    NaN           4                    NaN   \n",
       "1              1    NaN           3                    NaN   \n",
       "2              1    NaN           4                   48.0   \n",
       "3              1    NaN           4                   39.0   \n",
       "4              1    NaN           4                   51.0   \n",
       "\n",
       "   surface_total_in_m2  created_on_year  created_on_month  created_on_day  \n",
       "0                  0.0             2017                 8              24  \n",
       "1                  0.0             2017                 8              25  \n",
       "2                 53.0             2017                 8               1  \n",
       "3                 39.0             2017                 8               1  \n",
       "4                 51.0             2017                 8               1  "
      ]
     },
     "execution_count": 17,
     "metadata": {},
     "output_type": "execute_result"
    }
   ],
   "source": [
    "# leemos set de test\n",
    "test_df = pd.read_csv('../data/properati_dataset_testing_noprice.csv', low_memory=False)\n",
    "\n",
    "# transformamos atributos categoricos\n",
    "test_df['place_name'] = encoder.fit_transform(test_df[['place_name']])\n",
    "test_df['state_name'] = encoder.fit_transform(test_df[['state_name']])\n",
    "test_df['place_with_parent_names'] = encoder.fit_transform(test_df[['place_with_parent_names']])\n",
    "test_df['property_type'] = encoder.fit_transform(test_df[['property_type']])\n",
    "\n",
    "# tranformamos fechas\n",
    "X_test_df = knnlibrary.transform_date(test_df)\n",
    "X_test_df = X_test_df[['floor','lat','lon','place_name','place_with_parent_names','property_type','rooms','state_name','surface_covered_in_m2','surface_total_in_m2','created_on_year','created_on_month','created_on_day']].head()\n",
    "X_test_df.head()"
   ]
  },
  {
   "cell_type": "code",
   "execution_count": 20,
   "metadata": {
    "collapsed": false
   },
   "outputs": [
    {
     "ename": "ValueError",
     "evalue": "Input contains NaN, infinity or a value too large for dtype('float64').",
     "output_type": "error",
     "traceback": [
      "\u001b[0;31m---------------------------------------------------------------------------\u001b[0m",
      "\u001b[0;31mValueError\u001b[0m                                Traceback (most recent call last)",
      "\u001b[0;32m<ipython-input-20-e99a8e205221>\u001b[0m in \u001b[0;36m<module>\u001b[0;34m()\u001b[0m\n\u001b[0;32m----> 1\u001b[0;31m \u001b[0mknn\u001b[0m\u001b[0;34m.\u001b[0m\u001b[0mpredict\u001b[0m\u001b[0;34m(\u001b[0m\u001b[0mX_test_df\u001b[0m\u001b[0;34m)\u001b[0m\u001b[0;34m\u001b[0m\u001b[0m\n\u001b[0m",
      "\u001b[0;32m/opt/conda/lib/python3.5/site-packages/sklearn/neighbors/regression.py\u001b[0m in \u001b[0;36mpredict\u001b[0;34m(self, X)\u001b[0m\n\u001b[1;32m    140\u001b[0m             \u001b[0mTarget\u001b[0m \u001b[0mvalues\u001b[0m\u001b[0;34m\u001b[0m\u001b[0m\n\u001b[1;32m    141\u001b[0m         \"\"\"\n\u001b[0;32m--> 142\u001b[0;31m         \u001b[0mX\u001b[0m \u001b[0;34m=\u001b[0m \u001b[0mcheck_array\u001b[0m\u001b[0;34m(\u001b[0m\u001b[0mX\u001b[0m\u001b[0;34m,\u001b[0m \u001b[0maccept_sparse\u001b[0m\u001b[0;34m=\u001b[0m\u001b[0;34m'csr'\u001b[0m\u001b[0;34m)\u001b[0m\u001b[0;34m\u001b[0m\u001b[0m\n\u001b[0m\u001b[1;32m    143\u001b[0m \u001b[0;34m\u001b[0m\u001b[0m\n\u001b[1;32m    144\u001b[0m         \u001b[0mneigh_dist\u001b[0m\u001b[0;34m,\u001b[0m \u001b[0mneigh_ind\u001b[0m \u001b[0;34m=\u001b[0m \u001b[0mself\u001b[0m\u001b[0;34m.\u001b[0m\u001b[0mkneighbors\u001b[0m\u001b[0;34m(\u001b[0m\u001b[0mX\u001b[0m\u001b[0;34m)\u001b[0m\u001b[0;34m\u001b[0m\u001b[0m\n",
      "\u001b[0;32m/opt/conda/lib/python3.5/site-packages/sklearn/utils/validation.py\u001b[0m in \u001b[0;36mcheck_array\u001b[0;34m(array, accept_sparse, dtype, order, copy, force_all_finite, ensure_2d, allow_nd, ensure_min_samples, ensure_min_features, warn_on_dtype, estimator)\u001b[0m\n\u001b[1;32m    451\u001b[0m                              % (array.ndim, estimator_name))\n\u001b[1;32m    452\u001b[0m         \u001b[0;32mif\u001b[0m \u001b[0mforce_all_finite\u001b[0m\u001b[0;34m:\u001b[0m\u001b[0;34m\u001b[0m\u001b[0m\n\u001b[0;32m--> 453\u001b[0;31m             \u001b[0m_assert_all_finite\u001b[0m\u001b[0;34m(\u001b[0m\u001b[0marray\u001b[0m\u001b[0;34m)\u001b[0m\u001b[0;34m\u001b[0m\u001b[0m\n\u001b[0m\u001b[1;32m    454\u001b[0m \u001b[0;34m\u001b[0m\u001b[0m\n\u001b[1;32m    455\u001b[0m     \u001b[0mshape_repr\u001b[0m \u001b[0;34m=\u001b[0m \u001b[0m_shape_repr\u001b[0m\u001b[0;34m(\u001b[0m\u001b[0marray\u001b[0m\u001b[0;34m.\u001b[0m\u001b[0mshape\u001b[0m\u001b[0;34m)\u001b[0m\u001b[0;34m\u001b[0m\u001b[0m\n",
      "\u001b[0;32m/opt/conda/lib/python3.5/site-packages/sklearn/utils/validation.py\u001b[0m in \u001b[0;36m_assert_all_finite\u001b[0;34m(X)\u001b[0m\n\u001b[1;32m     42\u001b[0m             and not np.isfinite(X).all()):\n\u001b[1;32m     43\u001b[0m         raise ValueError(\"Input contains NaN, infinity\"\n\u001b[0;32m---> 44\u001b[0;31m                          \" or a value too large for %r.\" % X.dtype)\n\u001b[0m\u001b[1;32m     45\u001b[0m \u001b[0;34m\u001b[0m\u001b[0m\n\u001b[1;32m     46\u001b[0m \u001b[0;34m\u001b[0m\u001b[0m\n",
      "\u001b[0;31mValueError\u001b[0m: Input contains NaN, infinity or a value too large for dtype('float64')."
     ]
    }
   ],
   "source": [
    "knn.predict(X_test_df)"
   ]
  },
  {
   "cell_type": "code",
   "execution_count": 19,
   "metadata": {
    "collapsed": false
   },
   "outputs": [
    {
     "ename": "ValueError",
     "evalue": "could not convert string to float: 'Venta de Chalet 4 AMBIENTES en CIRCUNSCRIPCIÓN 3°, CIUDAD EVITA.Chalet en esquina refaccionado. Living con estar y comedor agregado, piso de cerámico; cocina con comedor diario, muebles de cocina en madera y piso cerámico: tres dormitorios ( 2 con placard) con pisos cerámicos; cochera semicubierta para un auto con piso de laja; quincho con techo de tejas, parrilla, instalación de gas y lavadero.Parque libre con piscina de 2.5 X 5 con caldera Lote: 367 m2          Superficie Cubierta: 130 m2VILA Propiedades. -  - VILA PROPIEDADES'",
     "output_type": "error",
     "traceback": [
      "\u001b[0;31m---------------------------------------------------------------------------\u001b[0m",
      "\u001b[0;31mValueError\u001b[0m                                Traceback (most recent call last)",
      "\u001b[0;32m<ipython-input-19-61bd97169102>\u001b[0m in \u001b[0;36m<module>\u001b[0;34m()\u001b[0m\n\u001b[1;32m      1\u001b[0m \u001b[0;31m# estandarizamos los valores\u001b[0m\u001b[0;34m\u001b[0m\u001b[0;34m\u001b[0m\u001b[0m\n\u001b[1;32m      2\u001b[0m \u001b[0mX_train_std\u001b[0m \u001b[0;34m=\u001b[0m \u001b[0mstdsc\u001b[0m\u001b[0;34m.\u001b[0m\u001b[0mfit_transform\u001b[0m\u001b[0;34m(\u001b[0m\u001b[0mX_train_df\u001b[0m\u001b[0;34m)\u001b[0m\u001b[0;34m\u001b[0m\u001b[0m\n\u001b[0;32m----> 3\u001b[0;31m \u001b[0mtest_cat_df\u001b[0m \u001b[0;34m=\u001b[0m \u001b[0mstdsc\u001b[0m\u001b[0;34m.\u001b[0m\u001b[0mtransform\u001b[0m\u001b[0;34m(\u001b[0m\u001b[0mtest_df\u001b[0m\u001b[0;34m)\u001b[0m\u001b[0;34m\u001b[0m\u001b[0m\n\u001b[0m",
      "\u001b[0;32m/opt/conda/lib/python3.5/site-packages/sklearn/preprocessing/data.py\u001b[0m in \u001b[0;36mtransform\u001b[0;34m(self, X, y, copy)\u001b[0m\n\u001b[1;32m    679\u001b[0m         \u001b[0mcopy\u001b[0m \u001b[0;34m=\u001b[0m \u001b[0mcopy\u001b[0m \u001b[0;32mif\u001b[0m \u001b[0mcopy\u001b[0m \u001b[0;32mis\u001b[0m \u001b[0;32mnot\u001b[0m \u001b[0;32mNone\u001b[0m \u001b[0;32melse\u001b[0m \u001b[0mself\u001b[0m\u001b[0;34m.\u001b[0m\u001b[0mcopy\u001b[0m\u001b[0;34m\u001b[0m\u001b[0m\n\u001b[1;32m    680\u001b[0m         X = check_array(X, accept_sparse='csr', copy=copy, warn_on_dtype=True,\n\u001b[0;32m--> 681\u001b[0;31m                         estimator=self, dtype=FLOAT_DTYPES)\n\u001b[0m\u001b[1;32m    682\u001b[0m \u001b[0;34m\u001b[0m\u001b[0m\n\u001b[1;32m    683\u001b[0m         \u001b[0;32mif\u001b[0m \u001b[0msparse\u001b[0m\u001b[0;34m.\u001b[0m\u001b[0missparse\u001b[0m\u001b[0;34m(\u001b[0m\u001b[0mX\u001b[0m\u001b[0;34m)\u001b[0m\u001b[0;34m:\u001b[0m\u001b[0;34m\u001b[0m\u001b[0m\n",
      "\u001b[0;32m/opt/conda/lib/python3.5/site-packages/sklearn/utils/validation.py\u001b[0m in \u001b[0;36mcheck_array\u001b[0;34m(array, accept_sparse, dtype, order, copy, force_all_finite, ensure_2d, allow_nd, ensure_min_samples, ensure_min_features, warn_on_dtype, estimator)\u001b[0m\n\u001b[1;32m    431\u001b[0m                                       force_all_finite)\n\u001b[1;32m    432\u001b[0m     \u001b[0;32melse\u001b[0m\u001b[0;34m:\u001b[0m\u001b[0;34m\u001b[0m\u001b[0m\n\u001b[0;32m--> 433\u001b[0;31m         \u001b[0marray\u001b[0m \u001b[0;34m=\u001b[0m \u001b[0mnp\u001b[0m\u001b[0;34m.\u001b[0m\u001b[0marray\u001b[0m\u001b[0;34m(\u001b[0m\u001b[0marray\u001b[0m\u001b[0;34m,\u001b[0m \u001b[0mdtype\u001b[0m\u001b[0;34m=\u001b[0m\u001b[0mdtype\u001b[0m\u001b[0;34m,\u001b[0m \u001b[0morder\u001b[0m\u001b[0;34m=\u001b[0m\u001b[0morder\u001b[0m\u001b[0;34m,\u001b[0m \u001b[0mcopy\u001b[0m\u001b[0;34m=\u001b[0m\u001b[0mcopy\u001b[0m\u001b[0;34m)\u001b[0m\u001b[0;34m\u001b[0m\u001b[0m\n\u001b[0m\u001b[1;32m    434\u001b[0m \u001b[0;34m\u001b[0m\u001b[0m\n\u001b[1;32m    435\u001b[0m         \u001b[0;32mif\u001b[0m \u001b[0mensure_2d\u001b[0m\u001b[0;34m:\u001b[0m\u001b[0;34m\u001b[0m\u001b[0m\n",
      "\u001b[0;31mValueError\u001b[0m: could not convert string to float: 'Venta de Chalet 4 AMBIENTES en CIRCUNSCRIPCIÓN 3°, CIUDAD EVITA.Chalet en esquina refaccionado. Living con estar y comedor agregado, piso de cerámico; cocina con comedor diario, muebles de cocina en madera y piso cerámico: tres dormitorios ( 2 con placard) con pisos cerámicos; cochera semicubierta para un auto con piso de laja; quincho con techo de tejas, parrilla, instalación de gas y lavadero.Parque libre con piscina de 2.5 X 5 con caldera Lote: 367 m2          Superficie Cubierta: 130 m2VILA Propiedades. -  - VILA PROPIEDADES'"
     ]
    }
   ],
   "source": []
  },
  {
   "cell_type": "code",
   "execution_count": null,
   "metadata": {
    "collapsed": true
   },
   "outputs": [],
   "source": [
    "# ejecutamos knn\n",
    "knn = KNeighborsRegressor(n_neighbors=best_k, weights='distance', p=best_p)\n",
    "knn.fit(X_train_std[:, k_param], y_train)"
   ]
  }
 ],
 "metadata": {
  "kernelspec": {
   "display_name": "Python 3",
   "language": "python",
   "name": "python3"
  },
  "language_info": {
   "codemirror_mode": {
    "name": "ipython",
    "version": 3
   },
   "file_extension": ".py",
   "mimetype": "text/x-python",
   "name": "python",
   "nbconvert_exporter": "python",
   "pygments_lexer": "ipython3",
   "version": "3.5.2"
  }
 },
 "nbformat": 4,
 "nbformat_minor": 2
}
