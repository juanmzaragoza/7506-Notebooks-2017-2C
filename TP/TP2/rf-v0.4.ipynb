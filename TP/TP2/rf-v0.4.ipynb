{
 "cells": [
  {
   "cell_type": "markdown",
   "metadata": {},
   "source": [
    "<h1 style=\"text-align: center;\" markdown=\"1\">TP2: Random Forest tuneo de parametros</h1>\n",
    "![](../data/icon_properati-data.png)"
   ]
  },
  {
   "cell_type": "code",
   "execution_count": 1,
   "metadata": {
    "collapsed": false
   },
   "outputs": [
    {
     "name": "stderr",
     "output_type": "stream",
     "text": [
      "/opt/conda/lib/python3.5/site-packages/sklearn/cross_validation.py:41: DeprecationWarning: This module was deprecated in version 0.18 in favor of the model_selection module into which all the refactored classes and functions are moved. Also note that the interface of the new CV iterators are different from that of this module. This module will be removed in 0.20.\n",
      "  \"This module will be removed in 0.20.\", DeprecationWarning)\n",
      "/opt/conda/lib/python3.5/site-packages/sklearn/grid_search.py:42: DeprecationWarning: This module was deprecated in version 0.18 in favor of the model_selection module into which all the refactored classes and functions are moved. This module will be removed in 0.20.\n",
      "  DeprecationWarning)\n"
     ]
    }
   ],
   "source": [
    "from sklearn import svm\n",
    "import numpy as np \n",
    "import matplotlib.pyplot as plt\n",
    "\n",
    "from sklearn.metrics import r2_score\n",
    "from sklearn.cross_validation import train_test_split\n",
    "from sklearn.ensemble import RandomForestRegressor\n",
    "from sklearn.grid_search import GridSearchCV\n",
    "\n",
    "import pandas as pd\n",
    "\n",
    "# modules\n",
    "import knn as knnlibrary"
   ]
  },
  {
   "cell_type": "code",
   "execution_count": 2,
   "metadata": {
    "collapsed": false
   },
   "outputs": [
    {
     "name": "stdout",
     "output_type": "stream",
     "text": [
      "['properati-AR-2016-12-01-properties-sell.csv', 'properati-AR-2016-05-01-properties-sell.csv', 'properati-AR-2016-06-01-properties-sell.csv', 'properati-AR-2016-08-01-properties-sell.csv', 'properati-AR-2017-02-01-properties-sell.csv', 'properati-AR-2017-08-01-properties-sell-six_months.csv', 'properati-AR-2016-04-01-properties-sell.csv', 'properati-AR-2016-11-01-properties-sell.csv', 'properati-AR-2015-02-01-properties-sell-six_months.csv', 'properati-AR-2015-12-01-properties-sell-six_months.csv', 'properati-AR-2016-03-01-properties-sell-six_months.csv', 'properati-AR-2017-01-01-properties-sell.csv', 'properati-AR-2016-10-01-properties-sell.csv', 'properati-AR-2016-07-01-properties-sell.csv', 'properati-AR-2015-07-01-properties-sell-six_months.csv', 'properati-AR-2016-09-01-properties-sell.csv', 'properati-AR-2017-07-01-properties-sell-six_months.csv']\n",
      "<class 'pandas.core.frame.DataFrame'>\n",
      "Int64Index: 457560 entries, 0 to 80257\n",
      "Data columns (total 27 columns):\n",
      "id                            457560 non-null object\n",
      "created_on                    457560 non-null object\n",
      "operation                     457560 non-null object\n",
      "property_type                 457560 non-null object\n",
      "place_name                    457494 non-null object\n",
      "place_with_parent_names       457560 non-null object\n",
      "country_name                  457560 non-null object\n",
      "state_name                    457560 non-null object\n",
      "geonames_id                   386355 non-null float64\n",
      "lat-lon                       334976 non-null object\n",
      "lat                           334976 non-null float64\n",
      "lon                           334976 non-null float64\n",
      "price                         415497 non-null float64\n",
      "currency                      399083 non-null object\n",
      "price_aprox_local_currency    415497 non-null float64\n",
      "price_aprox_usd               415497 non-null float64\n",
      "surface_total_in_m2           309478 non-null float64\n",
      "surface_covered_in_m2         377372 non-null float64\n",
      "price_usd_per_m2              258005 non-null float64\n",
      "price_per_m2                  335880 non-null float64\n",
      "floor                         48541 non-null float64\n",
      "rooms                         253418 non-null float64\n",
      "expenses                      44125 non-null float64\n",
      "properati_url                 457560 non-null object\n",
      "description                   457540 non-null object\n",
      "title                         457560 non-null object\n",
      "image_thumbnail               449899 non-null object\n",
      "dtypes: float64(13), object(14)\n",
      "memory usage: 97.7+ MB\n"
     ]
    }
   ],
   "source": [
    "properties =knnlibrary.get_dataset()\n",
    "properties.info()"
   ]
  },
  {
   "cell_type": "code",
   "execution_count": 28,
   "metadata": {
    "collapsed": false
   },
   "outputs": [
    {
     "name": "stdout",
     "output_type": "stream",
     "text": [
      "<class 'pandas.core.frame.DataFrame'>\n",
      "Int64Index: 2958 entries, 31261 to 80073\n",
      "Data columns (total 27 columns):\n",
      "id                            2958 non-null object\n",
      "created_on                    2958 non-null object\n",
      "operation                     2958 non-null object\n",
      "property_type                 2958 non-null object\n",
      "place_name                    2958 non-null object\n",
      "place_with_parent_names       2958 non-null object\n",
      "country_name                  2958 non-null object\n",
      "state_name                    2958 non-null object\n",
      "geonames_id                   2485 non-null float64\n",
      "lat-lon                       2791 non-null object\n",
      "lat                           2791 non-null float64\n",
      "lon                           2791 non-null float64\n",
      "price                         2958 non-null float64\n",
      "currency                      2958 non-null object\n",
      "price_aprox_local_currency    2958 non-null float64\n",
      "price_aprox_usd               2958 non-null float64\n",
      "surface_total_in_m2           2958 non-null float64\n",
      "surface_covered_in_m2         2958 non-null float64\n",
      "price_usd_per_m2              2958 non-null float64\n",
      "price_per_m2                  2958 non-null float64\n",
      "floor                         2958 non-null float64\n",
      "rooms                         2958 non-null float64\n",
      "expenses                      1594 non-null float64\n",
      "properati_url                 2958 non-null object\n",
      "description                   2958 non-null object\n",
      "title                         2958 non-null object\n",
      "image_thumbnail               2958 non-null object\n",
      "dtypes: float64(13), object(14)\n",
      "memory usage: 647.1+ KB\n"
     ]
    }
   ],
   "source": [
    "# transformo el campo fecha\n",
    "properties_2017 = properties[properties['created_on'] > '2017-0-0']\n",
    "\n",
    "# filtro por CABA y GBA\n",
    "properties_caba = properties_2017[(properties_2017['place_with_parent_names'].str.contains('Capital Federal') \\\n",
    "                             | properties_2017['place_with_parent_names'].str.contains('Bs.As. G.B.A.'))]\n",
    "\n",
    "properties_caba = properties_caba[properties_caba['price'].notnull() & properties_caba['price'] > 0 & properties_caba['place_name'].notnull()]\n",
    "\n",
    "# eliminamos propiedades con mas de 54 pisos\n",
    "properties_caba = properties_caba[properties_caba['floor'] <= 60]\n",
    "# eliminamos propiedades con mas de 9 pisos - ver analisis\n",
    "properties_caba = properties_caba[properties_caba['rooms'] <=  10]\n",
    "# eliminamos propiedades con mas de 2000 m2 de superficie cubierta - ver analisis\n",
    "properties_caba = properties_caba[(properties_caba['surface_covered_in_m2'] <= 4000) & (properties_caba['surface_covered_in_m2'] >= 0)]\n",
    "# eliminamos propiedades con mas de 2000 m2 de superficie cubierta - ver analisis\n",
    "properties_caba = properties_caba[(properties_caba['surface_total_in_m2']<= 6000)  & (properties_caba['surface_total_in_m2'] >= 0)]\n",
    "properties_caba.info()"
   ]
  },
  {
   "cell_type": "code",
   "execution_count": 29,
   "metadata": {
    "collapsed": false
   },
   "outputs": [
    {
     "name": "stdout",
     "output_type": "stream",
     "text": [
      "<class 'pandas.core.frame.DataFrame'>\n",
      "Int64Index: 2958 entries, 31261 to 80073\n",
      "Data columns (total 13 columns):\n",
      "created_on                 2958 non-null object\n",
      "property_type              2958 non-null object\n",
      "place_name                 2958 non-null object\n",
      "place_with_parent_names    2958 non-null object\n",
      "country_name               2958 non-null object\n",
      "state_name                 2958 non-null object\n",
      "lat                        2791 non-null float64\n",
      "lon                        2791 non-null float64\n",
      "surface_total_in_m2        2958 non-null float64\n",
      "surface_covered_in_m2      2958 non-null float64\n",
      "floor                      2958 non-null float64\n",
      "rooms                      2958 non-null float64\n",
      "price                      2958 non-null float64\n",
      "dtypes: float64(7), object(6)\n",
      "memory usage: 323.5+ KB\n"
     ]
    }
   ],
   "source": [
    "# filtro columnas segun lo que hay en el dataset\n",
    "attributes = ['created_on','property_type','place_name','place_with_parent_names',\\\n",
    "              'country_name','state_name','lat','lon','surface_total_in_m2','surface_covered_in_m2',\\\n",
    "              'floor','rooms', 'price']\n",
    "properties_caba[attributes].info()\n",
    "properties_caba_with_price_attributes = properties_caba[attributes]"
   ]
  },
  {
   "cell_type": "code",
   "execution_count": 30,
   "metadata": {
    "collapsed": false
   },
   "outputs": [
    {
     "name": "stderr",
     "output_type": "stream",
     "text": [
      "/opt/conda/lib/python3.5/site-packages/pandas/core/frame.py:2762: SettingWithCopyWarning: \n",
      "A value is trying to be set on a copy of a slice from a DataFrame\n",
      "\n",
      "See the caveats in the documentation: http://pandas.pydata.org/pandas-docs/stable/indexing.html#indexing-view-versus-copy\n",
      "  downcast=downcast, **kwargs)\n",
      "/opt/conda/lib/python3.5/site-packages/sklearn/preprocessing/label.py:111: DataConversionWarning: A column-vector y was passed when a 1d array was expected. Please change the shape of y to (n_samples, ), for example using ravel().\n",
      "  y = column_or_1d(y, warn=True)\n",
      "/opt/conda/lib/python3.5/site-packages/ipykernel/__main__.py:7: SettingWithCopyWarning: \n",
      "A value is trying to be set on a copy of a slice from a DataFrame.\n",
      "Try using .loc[row_indexer,col_indexer] = value instead\n",
      "\n",
      "See the caveats in the documentation: http://pandas.pydata.org/pandas-docs/stable/indexing.html#indexing-view-versus-copy\n",
      "/opt/conda/lib/python3.5/site-packages/ipykernel/__main__.py:9: SettingWithCopyWarning: \n",
      "A value is trying to be set on a copy of a slice from a DataFrame.\n",
      "Try using .loc[row_indexer,col_indexer] = value instead\n",
      "\n",
      "See the caveats in the documentation: http://pandas.pydata.org/pandas-docs/stable/indexing.html#indexing-view-versus-copy\n",
      "/opt/conda/lib/python3.5/site-packages/ipykernel/__main__.py:10: SettingWithCopyWarning: \n",
      "A value is trying to be set on a copy of a slice from a DataFrame.\n",
      "Try using .loc[row_indexer,col_indexer] = value instead\n",
      "\n",
      "See the caveats in the documentation: http://pandas.pydata.org/pandas-docs/stable/indexing.html#indexing-view-versus-copy\n",
      "/opt/conda/lib/python3.5/site-packages/ipykernel/__main__.py:11: SettingWithCopyWarning: \n",
      "A value is trying to be set on a copy of a slice from a DataFrame.\n",
      "Try using .loc[row_indexer,col_indexer] = value instead\n",
      "\n",
      "See the caveats in the documentation: http://pandas.pydata.org/pandas-docs/stable/indexing.html#indexing-view-versus-copy\n",
      "/opt/conda/lib/python3.5/site-packages/ipykernel/__main__.py:12: SettingWithCopyWarning: \n",
      "A value is trying to be set on a copy of a slice from a DataFrame.\n",
      "Try using .loc[row_indexer,col_indexer] = value instead\n",
      "\n",
      "See the caveats in the documentation: http://pandas.pydata.org/pandas-docs/stable/indexing.html#indexing-view-versus-copy\n",
      "/opt/conda/lib/python3.5/site-packages/ipykernel/__main__.py:13: SettingWithCopyWarning: \n",
      "A value is trying to be set on a copy of a slice from a DataFrame.\n",
      "Try using .loc[row_indexer,col_indexer] = value instead\n",
      "\n",
      "See the caveats in the documentation: http://pandas.pydata.org/pandas-docs/stable/indexing.html#indexing-view-versus-copy\n",
      "/opt/conda/lib/python3.5/site-packages/ipykernel/__main__.py:17: SettingWithCopyWarning: \n",
      "A value is trying to be set on a copy of a slice from a DataFrame.\n",
      "Try using .loc[row_indexer,col_indexer] = value instead\n",
      "\n",
      "See the caveats in the documentation: http://pandas.pydata.org/pandas-docs/stable/indexing.html#indexing-view-versus-copy\n",
      "/opt/conda/lib/python3.5/site-packages/ipykernel/__main__.py:18: SettingWithCopyWarning: \n",
      "A value is trying to be set on a copy of a slice from a DataFrame.\n",
      "Try using .loc[row_indexer,col_indexer] = value instead\n",
      "\n",
      "See the caveats in the documentation: http://pandas.pydata.org/pandas-docs/stable/indexing.html#indexing-view-versus-copy\n"
     ]
    },
    {
     "data": {
      "text/html": [
       "<div>\n",
       "<table border=\"1\" class=\"dataframe\">\n",
       "  <thead>\n",
       "    <tr style=\"text-align: right;\">\n",
       "      <th></th>\n",
       "      <th>created_on</th>\n",
       "      <th>property_type</th>\n",
       "      <th>place_name</th>\n",
       "      <th>place_with_parent_names</th>\n",
       "      <th>country_name</th>\n",
       "      <th>state_name</th>\n",
       "      <th>lat</th>\n",
       "      <th>lon</th>\n",
       "      <th>surface_total_in_m2</th>\n",
       "      <th>surface_covered_in_m2</th>\n",
       "      <th>floor</th>\n",
       "      <th>rooms</th>\n",
       "      <th>price</th>\n",
       "    </tr>\n",
       "  </thead>\n",
       "  <tbody>\n",
       "    <tr>\n",
       "      <th>31261</th>\n",
       "      <td>0</td>\n",
       "      <td>1</td>\n",
       "      <td>15</td>\n",
       "      <td>38</td>\n",
       "      <td>0</td>\n",
       "      <td>1</td>\n",
       "      <td>-34.632319</td>\n",
       "      <td>-58.567871</td>\n",
       "      <td>90.0</td>\n",
       "      <td>68.0</td>\n",
       "      <td>3.0</td>\n",
       "      <td>3.0</td>\n",
       "      <td>145000.0</td>\n",
       "    </tr>\n",
       "    <tr>\n",
       "      <th>31270</th>\n",
       "      <td>0</td>\n",
       "      <td>0</td>\n",
       "      <td>36</td>\n",
       "      <td>50</td>\n",
       "      <td>0</td>\n",
       "      <td>2</td>\n",
       "      <td>-34.606879</td>\n",
       "      <td>-58.464805</td>\n",
       "      <td>73.0</td>\n",
       "      <td>34.0</td>\n",
       "      <td>2.0</td>\n",
       "      <td>2.0</td>\n",
       "      <td>930000.0</td>\n",
       "    </tr>\n",
       "    <tr>\n",
       "      <th>32137</th>\n",
       "      <td>1</td>\n",
       "      <td>1</td>\n",
       "      <td>73</td>\n",
       "      <td>28</td>\n",
       "      <td>0</td>\n",
       "      <td>1</td>\n",
       "      <td>-34.681743</td>\n",
       "      <td>-58.558447</td>\n",
       "      <td>37.0</td>\n",
       "      <td>37.0</td>\n",
       "      <td>4.0</td>\n",
       "      <td>2.0</td>\n",
       "      <td>90000.0</td>\n",
       "    </tr>\n",
       "    <tr>\n",
       "      <th>32143</th>\n",
       "      <td>1</td>\n",
       "      <td>1</td>\n",
       "      <td>15</td>\n",
       "      <td>38</td>\n",
       "      <td>0</td>\n",
       "      <td>1</td>\n",
       "      <td>-34.605972</td>\n",
       "      <td>-58.563086</td>\n",
       "      <td>83.0</td>\n",
       "      <td>79.0</td>\n",
       "      <td>23.0</td>\n",
       "      <td>4.0</td>\n",
       "      <td>145000.0</td>\n",
       "    </tr>\n",
       "    <tr>\n",
       "      <th>32162</th>\n",
       "      <td>1</td>\n",
       "      <td>1</td>\n",
       "      <td>2</td>\n",
       "      <td>59</td>\n",
       "      <td>0</td>\n",
       "      <td>3</td>\n",
       "      <td>-34.605446</td>\n",
       "      <td>-58.417212</td>\n",
       "      <td>55.0</td>\n",
       "      <td>55.0</td>\n",
       "      <td>1.0</td>\n",
       "      <td>4.0</td>\n",
       "      <td>110000.0</td>\n",
       "    </tr>\n",
       "  </tbody>\n",
       "</table>\n",
       "</div>"
      ],
      "text/plain": [
       "       created_on  property_type  place_name  place_with_parent_names  \\\n",
       "31261           0              1          15                       38   \n",
       "31270           0              0          36                       50   \n",
       "32137           1              1          73                       28   \n",
       "32143           1              1          15                       38   \n",
       "32162           1              1           2                       59   \n",
       "\n",
       "       country_name  state_name        lat        lon  surface_total_in_m2  \\\n",
       "31261             0           1 -34.632319 -58.567871                 90.0   \n",
       "31270             0           2 -34.606879 -58.464805                 73.0   \n",
       "32137             0           1 -34.681743 -58.558447                 37.0   \n",
       "32143             0           1 -34.605972 -58.563086                 83.0   \n",
       "32162             0           3 -34.605446 -58.417212                 55.0   \n",
       "\n",
       "       surface_covered_in_m2  floor  rooms     price  \n",
       "31261                   68.0    3.0    3.0  145000.0  \n",
       "31270                   34.0    2.0    2.0  930000.0  \n",
       "32137                   37.0    4.0    2.0   90000.0  \n",
       "32143                   79.0   23.0    4.0  145000.0  \n",
       "32162                   55.0    1.0    4.0  110000.0  "
      ]
     },
     "execution_count": 30,
     "metadata": {},
     "output_type": "execute_result"
    }
   ],
   "source": [
    "from sklearn.preprocessing import LabelEncoder\n",
    "\n",
    "properties_caba_with_price_attributes.fillna('NaN', inplace=True)\n",
    "# atributos categoricos\n",
    "encoder = LabelEncoder()\n",
    "\n",
    "properties_caba_with_price_attributes['property_type'] = encoder.fit_transform(properties_caba_with_price_attributes[['property_type']])\n",
    "#properties_caba_with_price_attributes['operation'] = encoder.fit_transform(properties_caba_with_price_attributes[['operation']])\n",
    "properties_caba_with_price_attributes['place_name'] = encoder.fit_transform(properties_caba_with_price_attributes[['place_name']])\n",
    "properties_caba_with_price_attributes['place_with_parent_names'] = encoder.fit_transform(properties_caba_with_price_attributes[['place_with_parent_names']])\n",
    "properties_caba_with_price_attributes['country_name'] = encoder.fit_transform(properties_caba_with_price_attributes[['country_name']])\n",
    "properties_caba_with_price_attributes['state_name'] = encoder.fit_transform(properties_caba_with_price_attributes[['state_name']])\n",
    "properties_caba_with_price_attributes['created_on'] = encoder.fit_transform(properties_caba_with_price_attributes[['created_on']])\n",
    "# completamos valores nan\n",
    "from sklearn.preprocessing import Imputer\n",
    "imputer_mean = Imputer(missing_values='NaN', strategy='mean', axis=0)\n",
    "properties_caba_with_price_attributes[\"lat\"] = imputer_mean.fit_transform(properties_caba_with_price_attributes[[\"lat\"]])\n",
    "properties_caba_with_price_attributes[\"lon\"] = imputer_mean.fit_transform(properties_caba_with_price_attributes[[\"lon\"]])\n",
    "\n",
    "properties_caba_with_price_attributes.head()"
   ]
  },
  {
   "cell_type": "code",
   "execution_count": 31,
   "metadata": {
    "collapsed": false
   },
   "outputs": [
    {
     "name": "stdout",
     "output_type": "stream",
     "text": [
      "[[  50000.]\n",
      " [  97000.]\n",
      " [ 957260.]\n",
      " ..., \n",
      " [ 450000.]\n",
      " [ 120000.]\n",
      " [ 165000.]]\n"
     ]
    },
    {
     "data": {
      "text/plain": [
       "(592, 2366)"
      ]
     },
     "execution_count": 31,
     "metadata": {},
     "output_type": "execute_result"
    }
   ],
   "source": [
    "# separamos el set de train\n",
    "from sklearn.model_selection import train_test_split\n",
    "import datetime\n",
    "\n",
    "now = datetime.datetime.now()\n",
    "\n",
    "# separamos el train de traing para validarlo luego usando un 30% de los datos\n",
    "X, y = properties_caba_with_price_attributes.iloc[:, properties_caba_with_price_attributes.columns != 'price'].values, properties_caba_with_price_attributes.iloc[:, properties_caba_with_price_attributes.columns == 'price'].values\n",
    "X_train, X_test, y_train, y_test = \\\n",
    "        train_test_split(X, y, test_size=0.2, random_state=200)\n",
    "    \n",
    "print(y_train)\n",
    "    \n",
    "len(X_test), len(X_train)"
   ]
  },
  {
   "cell_type": "code",
   "execution_count": 32,
   "metadata": {
    "collapsed": false
   },
   "outputs": [],
   "source": [
    "# preprocesamiento\n",
    "from sklearn import preprocessing\n",
    "from sklearn.pipeline import make_pipeline\n",
    "\n",
    "scaler = preprocessing.StandardScaler().fit(X_train)\n",
    "\n",
    "X_train_scaled = scaler.transform(X_train)\n",
    "X_test_scaled = scaler.transform(X_test)\n",
    "\n",
    "pipeline = make_pipeline(preprocessing.StandardScaler(), RandomForestRegressor(n_estimators=100))"
   ]
  },
  {
   "cell_type": "code",
   "execution_count": 33,
   "metadata": {
    "collapsed": false
   },
   "outputs": [
    {
     "name": "stdout",
     "output_type": "stream",
     "text": [
      "{'randomforestregressor__oob_score': False, 'randomforestregressor__random_state': None, 'randomforestregressor__verbose': 0, 'randomforestregressor__max_depth': None, 'randomforestregressor__min_samples_split': 2, 'randomforestregressor__criterion': 'mse', 'randomforestregressor__warm_start': False, 'standardscaler__copy': True, 'randomforestregressor': RandomForestRegressor(bootstrap=True, criterion='mse', max_depth=None,\n",
      "           max_features='auto', max_leaf_nodes=None,\n",
      "           min_impurity_decrease=0.0, min_impurity_split=None,\n",
      "           min_samples_leaf=1, min_samples_split=2,\n",
      "           min_weight_fraction_leaf=0.0, n_estimators=100, n_jobs=1,\n",
      "           oob_score=False, random_state=None, verbose=0, warm_start=False), 'standardscaler__with_std': True, 'randomforestregressor__min_impurity_split': None, 'memory': None, 'randomforestregressor__n_jobs': 1, 'randomforestregressor__n_estimators': 100, 'randomforestregressor__min_samples_leaf': 1, 'steps': [('standardscaler', StandardScaler(copy=True, with_mean=True, with_std=True)), ('randomforestregressor', RandomForestRegressor(bootstrap=True, criterion='mse', max_depth=None,\n",
      "           max_features='auto', max_leaf_nodes=None,\n",
      "           min_impurity_decrease=0.0, min_impurity_split=None,\n",
      "           min_samples_leaf=1, min_samples_split=2,\n",
      "           min_weight_fraction_leaf=0.0, n_estimators=100, n_jobs=1,\n",
      "           oob_score=False, random_state=None, verbose=0, warm_start=False))], 'randomforestregressor__min_weight_fraction_leaf': 0.0, 'standardscaler__with_mean': True, 'standardscaler': StandardScaler(copy=True, with_mean=True, with_std=True), 'randomforestregressor__max_leaf_nodes': None, 'randomforestregressor__max_features': 'auto', 'randomforestregressor__bootstrap': True, 'randomforestregressor__min_impurity_decrease': 0.0}\n"
     ]
    }
   ],
   "source": [
    "# hiperparametros a tunear\n",
    "print(pipeline.get_params())\n",
    "\n",
    "hyperparameters = { 'randomforestregressor__max_depth': [10,30,50,70,90,100],\n",
    "                    'randomforestregressor__max_features' : ['auto', 'sqrt', 'log2'],\n",
    "                    'randomforestregressor__min_samples_leaf': [5,10,15,20],\n",
    "                    'randomforestregressor__min_samples_split': [5,10,15,20]}"
   ]
  },
  {
   "cell_type": "code",
   "execution_count": 34,
   "metadata": {
    "collapsed": false
   },
   "outputs": [
    {
     "data": {
      "text/plain": [
       "GridSearchCV(cv=10, error_score='raise',\n",
       "       estimator=Pipeline(memory=None,\n",
       "     steps=[('standardscaler', StandardScaler(copy=True, with_mean=True, with_std=True)), ('randomforestregressor', RandomForestRegressor(bootstrap=True, criterion='mse', max_depth=None,\n",
       "           max_features='auto', max_leaf_nodes=None,\n",
       "           min_impurity_decr...mators=100, n_jobs=1,\n",
       "           oob_score=False, random_state=None, verbose=0, warm_start=False))]),\n",
       "       fit_params={}, iid=True, n_jobs=1,\n",
       "       param_grid={'randomforestregressor__max_features': ['auto', 'sqrt', 'log2'], 'randomforestregressor__min_samples_split': [5, 10, 15, 20], 'randomforestregressor__max_depth': [10, 30, 50, 70, 90, 100], 'randomforestregressor__min_samples_leaf': [5, 10, 15, 20]},\n",
       "       pre_dispatch='2*n_jobs', refit=True, scoring=None, verbose=0)"
      ]
     },
     "execution_count": 34,
     "metadata": {},
     "output_type": "execute_result"
    }
   ],
   "source": [
    "# crossvalidation\n",
    "clf = GridSearchCV(pipeline, hyperparameters, cv=10)\n",
    " \n",
    "# Fit and tune model\n",
    "clf.fit(X_train, y_train.ravel())"
   ]
  },
  {
   "cell_type": "code",
   "execution_count": 35,
   "metadata": {
    "collapsed": false
   },
   "outputs": [
    {
     "name": "stdout",
     "output_type": "stream",
     "text": [
      "{'randomforestregressor__max_features': 'auto', 'randomforestregressor__min_samples_split': 10, 'randomforestregressor__max_depth': 10, 'randomforestregressor__min_samples_leaf': 5}\n",
      "True\n"
     ]
    }
   ],
   "source": [
    "# cuales son los mejores hiperparametros\n",
    "print(clf.best_params_)\n",
    "\n",
    "#Confirm model will be retrained\n",
    "print(clf.refit)"
   ]
  },
  {
   "cell_type": "code",
   "execution_count": 36,
   "metadata": {
    "collapsed": false
   },
   "outputs": [
    {
     "name": "stdout",
     "output_type": "stream",
     "text": [
      "0.890383626675\n",
      "108229.66311734897\n"
     ]
    }
   ],
   "source": [
    "from sklearn.ensemble import RandomForestRegressor\n",
    "from sklearn.metrics import r2_score, mean_squared_error\n",
    "from math import sqrt\n",
    "\n",
    "y_pred = clf.predict(X_test)\n",
    "\n",
    "print(r2_score(y_test, y_pred))\n",
    " \n",
    "print(sqrt(mean_squared_error(y_test, y_pred)))"
   ]
  },
  {
   "cell_type": "code",
   "execution_count": 40,
   "metadata": {
    "collapsed": false
   },
   "outputs": [
    {
     "name": "stderr",
     "output_type": "stream",
     "text": [
      "/opt/conda/lib/python3.5/site-packages/ipykernel/__main__.py:2: DataConversionWarning: A column-vector y was passed when a 1d array was expected. Please change the shape of y to (n_samples,), for example using ravel().\n",
      "  from ipykernel import kernelapp as app\n"
     ]
    },
    {
     "data": {
      "text/plain": [
       "0.8930850174490752"
      ]
     },
     "execution_count": 40,
     "metadata": {},
     "output_type": "execute_result"
    }
   ],
   "source": [
    "model = RandomForestRegressor(n_estimators=3000, max_features='auto', max_depth=10,min_samples_leaf=5,min_samples_split=10 )\n",
    "model.fit(X_train, y_train)\n",
    "\n",
    "r2_score(y_test, model.predict(X_test))"
   ]
  },
  {
   "cell_type": "markdown",
   "metadata": {},
   "source": [
    "# Encuentro hiper-parametros usando los valores normalizados"
   ]
  },
  {
   "cell_type": "code",
   "execution_count": 37,
   "metadata": {
    "collapsed": false
   },
   "outputs": [
    {
     "data": {
      "text/plain": [
       "GridSearchCV(cv=10, error_score='raise',\n",
       "       estimator=Pipeline(memory=None,\n",
       "     steps=[('standardscaler', StandardScaler(copy=True, with_mean=True, with_std=True)), ('randomforestregressor', RandomForestRegressor(bootstrap=True, criterion='mse', max_depth=None,\n",
       "           max_features='auto', max_leaf_nodes=None,\n",
       "           min_impurity_decr...mators=100, n_jobs=1,\n",
       "           oob_score=False, random_state=None, verbose=0, warm_start=False))]),\n",
       "       fit_params={}, iid=True, n_jobs=1,\n",
       "       param_grid={'randomforestregressor__max_features': ['auto', 'sqrt', 'log2'], 'randomforestregressor__min_samples_split': [5, 10, 15, 20], 'randomforestregressor__max_depth': [10, 30, 50, 70, 90, 100], 'randomforestregressor__min_samples_leaf': [5, 10, 15, 20]},\n",
       "       pre_dispatch='2*n_jobs', refit=True, scoring=None, verbose=0)"
      ]
     },
     "execution_count": 37,
     "metadata": {},
     "output_type": "execute_result"
    }
   ],
   "source": [
    "# crossvalidation\n",
    "clf = GridSearchCV(pipeline, hyperparameters, cv=10)\n",
    " \n",
    "# Fit and tune model\n",
    "clf.fit(X_train_scaled, y_train.ravel())"
   ]
  },
  {
   "cell_type": "code",
   "execution_count": 38,
   "metadata": {
    "collapsed": false
   },
   "outputs": [
    {
     "name": "stdout",
     "output_type": "stream",
     "text": [
      "0.88770368872\n",
      "109544.69168553899\n"
     ]
    }
   ],
   "source": [
    "# diferencia con los sets estandarizados\n",
    "from sklearn.ensemble import RandomForestRegressor\n",
    "from sklearn.metrics import r2_score, mean_squared_error\n",
    "\n",
    "y_pred = clf.predict(X_test_scaled)\n",
    "\n",
    "print(r2_score(y_test, y_pred))\n",
    " \n",
    "print(sqrt(mean_squared_error(y_test, y_pred)))"
   ]
  },
  {
   "cell_type": "code",
   "execution_count": 39,
   "metadata": {
    "collapsed": false
   },
   "outputs": [
    {
     "name": "stdout",
     "output_type": "stream",
     "text": [
      "{'randomforestregressor__max_features': 'auto', 'randomforestregressor__min_samples_split': 10, 'randomforestregressor__max_depth': 100, 'randomforestregressor__min_samples_leaf': 5}\n",
      "True\n"
     ]
    }
   ],
   "source": [
    "# cuales son los mejores hiperparametros\n",
    "print(clf.best_params_)\n",
    "\n",
    "#Confirm model will be retrained\n",
    "print(clf.refit)"
   ]
  },
  {
   "cell_type": "code",
   "execution_count": 41,
   "metadata": {
    "collapsed": false
   },
   "outputs": [
    {
     "name": "stderr",
     "output_type": "stream",
     "text": [
      "/opt/conda/lib/python3.5/site-packages/ipykernel/__main__.py:3: DataConversionWarning: A column-vector y was passed when a 1d array was expected. Please change the shape of y to (n_samples,), for example using ravel().\n",
      "  app.launch_new_instance()\n"
     ]
    },
    {
     "data": {
      "text/plain": [
       "0.89312056160868725"
      ]
     },
     "execution_count": 41,
     "metadata": {},
     "output_type": "execute_result"
    }
   ],
   "source": [
    "# Creando modelo con hiper-parametros encontrados\n",
    "model_std = RandomForestRegressor(n_estimators=3000, max_features='auto', max_depth=100,min_samples_leaf=5,min_samples_split=10 )\n",
    "model_std.fit(X_train_scaled, y_train)\n",
    "\n",
    "r2_score(y_test, model_std.predict(X_test_scaled))"
   ]
  },
  {
   "cell_type": "markdown",
   "metadata": {
    "collapsed": true
   },
   "source": [
    "# Prediction"
   ]
  },
  {
   "cell_type": "code",
   "execution_count": 42,
   "metadata": {
    "collapsed": false
   },
   "outputs": [
    {
     "data": {
      "text/html": [
       "<div>\n",
       "<table border=\"1\" class=\"dataframe\">\n",
       "  <thead>\n",
       "    <tr style=\"text-align: right;\">\n",
       "      <th></th>\n",
       "      <th>id</th>\n",
       "      <th>created_on</th>\n",
       "      <th>property_type</th>\n",
       "      <th>operation</th>\n",
       "      <th>place_name</th>\n",
       "      <th>place_with_parent_names</th>\n",
       "      <th>country_name</th>\n",
       "      <th>state_name</th>\n",
       "      <th>lat-lon</th>\n",
       "      <th>lat</th>\n",
       "      <th>lon</th>\n",
       "      <th>surface_total_in_m2</th>\n",
       "      <th>surface_covered_in_m2</th>\n",
       "      <th>floor</th>\n",
       "      <th>rooms</th>\n",
       "      <th>expenses</th>\n",
       "      <th>description</th>\n",
       "    </tr>\n",
       "  </thead>\n",
       "  <tbody>\n",
       "    <tr>\n",
       "      <th>0</th>\n",
       "      <td>3632</td>\n",
       "      <td>2017-08-24</td>\n",
       "      <td>departamento</td>\n",
       "      <td>venta</td>\n",
       "      <td>Puerto Madero</td>\n",
       "      <td>|Argentina|Capital Federal|Puerto Madero|</td>\n",
       "      <td>Argentina</td>\n",
       "      <td>Capital Federal</td>\n",
       "      <td>-34.6109877599,-58.3634635778</td>\n",
       "      <td>-34.610988</td>\n",
       "      <td>-58.363464</td>\n",
       "      <td>0.0</td>\n",
       "      <td>NaN</td>\n",
       "      <td>NaN</td>\n",
       "      <td>NaN</td>\n",
       "      <td>NaN</td>\n",
       "      <td>Edificio BA Houses situado frente al Dique 3 d...</td>\n",
       "    </tr>\n",
       "    <tr>\n",
       "      <th>1</th>\n",
       "      <td>3633</td>\n",
       "      <td>2017-08-25</td>\n",
       "      <td>departamento</td>\n",
       "      <td>venta</td>\n",
       "      <td>Buenos Aires Interior</td>\n",
       "      <td>|Argentina|Buenos Aires Interior|</td>\n",
       "      <td>Argentina</td>\n",
       "      <td>Buenos Aires Interior</td>\n",
       "      <td>NaN</td>\n",
       "      <td>NaN</td>\n",
       "      <td>NaN</td>\n",
       "      <td>0.0</td>\n",
       "      <td>NaN</td>\n",
       "      <td>NaN</td>\n",
       "      <td>NaN</td>\n",
       "      <td>NaN</td>\n",
       "      <td>El departamento cuenta con un living-comedor a...</td>\n",
       "    </tr>\n",
       "    <tr>\n",
       "      <th>2</th>\n",
       "      <td>2263404</td>\n",
       "      <td>2017-08-01</td>\n",
       "      <td>departamento</td>\n",
       "      <td>venta</td>\n",
       "      <td>Palermo Soho</td>\n",
       "      <td>|Argentina|Capital Federal|Palermo|Palermo Soho|</td>\n",
       "      <td>Argentina</td>\n",
       "      <td>Capital Federal</td>\n",
       "      <td>-34.5893633232,-58.4128798588</td>\n",
       "      <td>-34.589363</td>\n",
       "      <td>-58.412880</td>\n",
       "      <td>53.0</td>\n",
       "      <td>48.0</td>\n",
       "      <td>NaN</td>\n",
       "      <td>NaN</td>\n",
       "      <td>1500</td>\n",
       "      <td>IMPECABLE TORRE COY III – DEPA...</td>\n",
       "    </tr>\n",
       "    <tr>\n",
       "      <th>3</th>\n",
       "      <td>2263405</td>\n",
       "      <td>2017-08-01</td>\n",
       "      <td>departamento</td>\n",
       "      <td>venta</td>\n",
       "      <td>Chacarita</td>\n",
       "      <td>|Argentina|Capital Federal|Chacarita|</td>\n",
       "      <td>Argentina</td>\n",
       "      <td>Capital Federal</td>\n",
       "      <td>NaN</td>\n",
       "      <td>NaN</td>\n",
       "      <td>NaN</td>\n",
       "      <td>39.0</td>\n",
       "      <td>39.0</td>\n",
       "      <td>NaN</td>\n",
       "      <td>NaN</td>\n",
       "      <td>NaN</td>\n",
       "      <td>AMBIENTE DIVISIBLE CON PISOS D...</td>\n",
       "    </tr>\n",
       "    <tr>\n",
       "      <th>4</th>\n",
       "      <td>2263406</td>\n",
       "      <td>2017-08-01</td>\n",
       "      <td>departamento</td>\n",
       "      <td>venta</td>\n",
       "      <td>Chacarita</td>\n",
       "      <td>|Argentina|Capital Federal|Chacarita|</td>\n",
       "      <td>Argentina</td>\n",
       "      <td>Capital Federal</td>\n",
       "      <td>NaN</td>\n",
       "      <td>NaN</td>\n",
       "      <td>NaN</td>\n",
       "      <td>51.0</td>\n",
       "      <td>51.0</td>\n",
       "      <td>NaN</td>\n",
       "      <td>NaN</td>\n",
       "      <td>NaN</td>\n",
       "      <td>LIVING COMEDOR CON PISOS DE PO...</td>\n",
       "    </tr>\n",
       "  </tbody>\n",
       "</table>\n",
       "</div>"
      ],
      "text/plain": [
       "        id  created_on property_type operation             place_name  \\\n",
       "0     3632  2017-08-24  departamento     venta          Puerto Madero   \n",
       "1     3633  2017-08-25  departamento     venta  Buenos Aires Interior   \n",
       "2  2263404  2017-08-01  departamento     venta           Palermo Soho   \n",
       "3  2263405  2017-08-01  departamento     venta              Chacarita   \n",
       "4  2263406  2017-08-01  departamento     venta              Chacarita   \n",
       "\n",
       "                            place_with_parent_names country_name  \\\n",
       "0         |Argentina|Capital Federal|Puerto Madero|    Argentina   \n",
       "1                 |Argentina|Buenos Aires Interior|    Argentina   \n",
       "2  |Argentina|Capital Federal|Palermo|Palermo Soho|    Argentina   \n",
       "3             |Argentina|Capital Federal|Chacarita|    Argentina   \n",
       "4             |Argentina|Capital Federal|Chacarita|    Argentina   \n",
       "\n",
       "              state_name                        lat-lon        lat        lon  \\\n",
       "0        Capital Federal  -34.6109877599,-58.3634635778 -34.610988 -58.363464   \n",
       "1  Buenos Aires Interior                            NaN        NaN        NaN   \n",
       "2        Capital Federal  -34.5893633232,-58.4128798588 -34.589363 -58.412880   \n",
       "3        Capital Federal                            NaN        NaN        NaN   \n",
       "4        Capital Federal                            NaN        NaN        NaN   \n",
       "\n",
       "   surface_total_in_m2  surface_covered_in_m2  floor  rooms expenses  \\\n",
       "0                  0.0                    NaN    NaN    NaN      NaN   \n",
       "1                  0.0                    NaN    NaN    NaN      NaN   \n",
       "2                 53.0                   48.0    NaN    NaN     1500   \n",
       "3                 39.0                   39.0    NaN    NaN      NaN   \n",
       "4                 51.0                   51.0    NaN    NaN      NaN   \n",
       "\n",
       "                                         description  \n",
       "0  Edificio BA Houses situado frente al Dique 3 d...  \n",
       "1  El departamento cuenta con un living-comedor a...  \n",
       "2                  IMPECABLE TORRE COY III – DEPA...  \n",
       "3                  AMBIENTE DIVISIBLE CON PISOS D...  \n",
       "4                  LIVING COMEDOR CON PISOS DE PO...  "
      ]
     },
     "execution_count": 42,
     "metadata": {},
     "output_type": "execute_result"
    }
   ],
   "source": [
    "# leemos set de test\n",
    "test_df = pd.read_csv('../data/test/properati_dataset_testing_noprice.csv', low_memory=False)\n",
    "test_df.head()"
   ]
  },
  {
   "cell_type": "code",
   "execution_count": 43,
   "metadata": {
    "collapsed": false
   },
   "outputs": [
    {
     "name": "stderr",
     "output_type": "stream",
     "text": [
      "/opt/conda/lib/python3.5/site-packages/sklearn/preprocessing/label.py:111: DataConversionWarning: A column-vector y was passed when a 1d array was expected. Please change the shape of y to (n_samples, ), for example using ravel().\n",
      "  y = column_or_1d(y, warn=True)\n",
      "/opt/conda/lib/python3.5/site-packages/ipykernel/__main__.py:14: SettingWithCopyWarning: \n",
      "A value is trying to be set on a copy of a slice from a DataFrame.\n",
      "Try using .loc[row_indexer,col_indexer] = value instead\n",
      "\n",
      "See the caveats in the documentation: http://pandas.pydata.org/pandas-docs/stable/indexing.html#indexing-view-versus-copy\n",
      "/opt/conda/lib/python3.5/site-packages/ipykernel/__main__.py:15: SettingWithCopyWarning: \n",
      "A value is trying to be set on a copy of a slice from a DataFrame.\n",
      "Try using .loc[row_indexer,col_indexer] = value instead\n",
      "\n",
      "See the caveats in the documentation: http://pandas.pydata.org/pandas-docs/stable/indexing.html#indexing-view-versus-copy\n",
      "/opt/conda/lib/python3.5/site-packages/ipykernel/__main__.py:17: SettingWithCopyWarning: \n",
      "A value is trying to be set on a copy of a slice from a DataFrame.\n",
      "Try using .loc[row_indexer,col_indexer] = value instead\n",
      "\n",
      "See the caveats in the documentation: http://pandas.pydata.org/pandas-docs/stable/indexing.html#indexing-view-versus-copy\n",
      "/opt/conda/lib/python3.5/site-packages/ipykernel/__main__.py:18: SettingWithCopyWarning: \n",
      "A value is trying to be set on a copy of a slice from a DataFrame.\n",
      "Try using .loc[row_indexer,col_indexer] = value instead\n",
      "\n",
      "See the caveats in the documentation: http://pandas.pydata.org/pandas-docs/stable/indexing.html#indexing-view-versus-copy\n",
      "/opt/conda/lib/python3.5/site-packages/ipykernel/__main__.py:19: SettingWithCopyWarning: \n",
      "A value is trying to be set on a copy of a slice from a DataFrame.\n",
      "Try using .loc[row_indexer,col_indexer] = value instead\n",
      "\n",
      "See the caveats in the documentation: http://pandas.pydata.org/pandas-docs/stable/indexing.html#indexing-view-versus-copy\n",
      "/opt/conda/lib/python3.5/site-packages/ipykernel/__main__.py:20: SettingWithCopyWarning: \n",
      "A value is trying to be set on a copy of a slice from a DataFrame.\n",
      "Try using .loc[row_indexer,col_indexer] = value instead\n",
      "\n",
      "See the caveats in the documentation: http://pandas.pydata.org/pandas-docs/stable/indexing.html#indexing-view-versus-copy\n"
     ]
    }
   ],
   "source": [
    "# transformamos atributos categoricos\n",
    "test_df['place_name'] = encoder.fit_transform(test_df[['place_name']])\n",
    "test_df['state_name'] = encoder.fit_transform(test_df[['state_name']])\n",
    "test_df['place_with_parent_names'] = encoder.fit_transform(test_df[['place_with_parent_names']])\n",
    "test_df['property_type'] = encoder.fit_transform(test_df[['property_type']])\n",
    "test_df['created_on'] = encoder.fit_transform(test_df[['created_on']])\n",
    "test_df['country_name'] = encoder.fit_transform(test_df[['country_name']])\n",
    "\n",
    "X_test_df = test_df[['created_on','property_type','place_name','place_with_parent_names',\\\n",
    "              'country_name','state_name','lat','lon','surface_total_in_m2','surface_covered_in_m2',\\\n",
    "              'floor','rooms']]\n",
    "\n",
    "# completamos valores nan\n",
    "from sklearn.preprocessing import Imputer\n",
    "imputer_mean = Imputer(missing_values='NaN', strategy='mean', axis=0)\n",
    "X_test_df['floor'] = X_test_df[['floor']].fillna(1)\n",
    "X_test_df['rooms'] = X_test_df[['rooms']].fillna(1)\n",
    "\n",
    "X_test_df[\"surface_total_in_m2\"] = imputer_mean.fit_transform(X_test_df[[\"surface_total_in_m2\"]])\n",
    "X_test_df[\"surface_covered_in_m2\"] = imputer_mean.fit_transform(X_test_df[[\"surface_covered_in_m2\"]])\n",
    "X_test_df[\"lat\"] = imputer_mean.fit_transform(X_test_df[[\"lat\"]])\n",
    "X_test_df[\"lon\"] = imputer_mean.fit_transform(X_test_df[[\"lon\"]])\n",
    "\n",
    "X_test_std_df = scaler.transform(X_test_df)"
   ]
  },
  {
   "cell_type": "code",
   "execution_count": 44,
   "metadata": {
    "collapsed": false
   },
   "outputs": [
    {
     "name": "stderr",
     "output_type": "stream",
     "text": [
      "/opt/conda/lib/python3.5/site-packages/ipykernel/__main__.py:2: DataConversionWarning: A column-vector y was passed when a 1d array was expected. Please change the shape of y to (n_samples,), for example using ravel().\n",
      "  from ipykernel import kernelapp as app\n"
     ]
    },
    {
     "data": {
      "text/plain": [
       "RandomForestRegressor(bootstrap=True, criterion='mse', max_depth=10,\n",
       "           max_features='auto', max_leaf_nodes=None,\n",
       "           min_impurity_decrease=0.0, min_impurity_split=None,\n",
       "           min_samples_leaf=5, min_samples_split=10,\n",
       "           min_weight_fraction_leaf=0.0, n_estimators=3000, n_jobs=1,\n",
       "           oob_score=False, random_state=None, verbose=0, warm_start=False)"
      ]
     },
     "execution_count": 44,
     "metadata": {},
     "output_type": "execute_result"
    }
   ],
   "source": [
    "model = RandomForestRegressor(n_estimators=3000, max_features='auto', max_depth=10,min_samples_leaf=5,min_samples_split=10 )\n",
    "model.fit(X, y)"
   ]
  },
  {
   "cell_type": "code",
   "execution_count": 46,
   "metadata": {
    "collapsed": false
   },
   "outputs": [
    {
     "data": {
      "text/html": [
       "<div>\n",
       "<table border=\"1\" class=\"dataframe\">\n",
       "  <thead>\n",
       "    <tr style=\"text-align: right;\">\n",
       "      <th></th>\n",
       "      <th>created_on</th>\n",
       "      <th>property_type</th>\n",
       "      <th>place_name</th>\n",
       "      <th>place_with_parent_names</th>\n",
       "      <th>country_name</th>\n",
       "      <th>state_name</th>\n",
       "      <th>lat</th>\n",
       "      <th>lon</th>\n",
       "      <th>surface_total_in_m2</th>\n",
       "      <th>surface_covered_in_m2</th>\n",
       "      <th>floor</th>\n",
       "      <th>rooms</th>\n",
       "    </tr>\n",
       "  </thead>\n",
       "  <tbody>\n",
       "    <tr>\n",
       "      <th>0</th>\n",
       "      <td>23</td>\n",
       "      <td>1</td>\n",
       "      <td>152</td>\n",
       "      <td>219</td>\n",
       "      <td>0</td>\n",
       "      <td>4</td>\n",
       "      <td>-34.610988</td>\n",
       "      <td>-58.363464</td>\n",
       "      <td>0.0</td>\n",
       "      <td>359.471588</td>\n",
       "      <td>1.0</td>\n",
       "      <td>1.0</td>\n",
       "    </tr>\n",
       "    <tr>\n",
       "      <th>1</th>\n",
       "      <td>24</td>\n",
       "      <td>1</td>\n",
       "      <td>29</td>\n",
       "      <td>180</td>\n",
       "      <td>0</td>\n",
       "      <td>3</td>\n",
       "      <td>-34.629923</td>\n",
       "      <td>-58.465820</td>\n",
       "      <td>0.0</td>\n",
       "      <td>359.471588</td>\n",
       "      <td>1.0</td>\n",
       "      <td>1.0</td>\n",
       "    </tr>\n",
       "    <tr>\n",
       "      <th>2</th>\n",
       "      <td>0</td>\n",
       "      <td>1</td>\n",
       "      <td>136</td>\n",
       "      <td>210</td>\n",
       "      <td>0</td>\n",
       "      <td>4</td>\n",
       "      <td>-34.589363</td>\n",
       "      <td>-58.412880</td>\n",
       "      <td>53.0</td>\n",
       "      <td>48.000000</td>\n",
       "      <td>1.0</td>\n",
       "      <td>1.0</td>\n",
       "    </tr>\n",
       "    <tr>\n",
       "      <th>3</th>\n",
       "      <td>0</td>\n",
       "      <td>1</td>\n",
       "      <td>40</td>\n",
       "      <td>193</td>\n",
       "      <td>0</td>\n",
       "      <td>4</td>\n",
       "      <td>-34.629923</td>\n",
       "      <td>-58.465820</td>\n",
       "      <td>39.0</td>\n",
       "      <td>39.000000</td>\n",
       "      <td>1.0</td>\n",
       "      <td>1.0</td>\n",
       "    </tr>\n",
       "    <tr>\n",
       "      <th>4</th>\n",
       "      <td>0</td>\n",
       "      <td>1</td>\n",
       "      <td>40</td>\n",
       "      <td>193</td>\n",
       "      <td>0</td>\n",
       "      <td>4</td>\n",
       "      <td>-34.629923</td>\n",
       "      <td>-58.465820</td>\n",
       "      <td>51.0</td>\n",
       "      <td>51.000000</td>\n",
       "      <td>1.0</td>\n",
       "      <td>1.0</td>\n",
       "    </tr>\n",
       "    <tr>\n",
       "      <th>5</th>\n",
       "      <td>0</td>\n",
       "      <td>1</td>\n",
       "      <td>40</td>\n",
       "      <td>193</td>\n",
       "      <td>0</td>\n",
       "      <td>4</td>\n",
       "      <td>-34.629923</td>\n",
       "      <td>-58.465820</td>\n",
       "      <td>39.0</td>\n",
       "      <td>39.000000</td>\n",
       "      <td>1.0</td>\n",
       "      <td>1.0</td>\n",
       "    </tr>\n",
       "    <tr>\n",
       "      <th>6</th>\n",
       "      <td>0</td>\n",
       "      <td>1</td>\n",
       "      <td>40</td>\n",
       "      <td>193</td>\n",
       "      <td>0</td>\n",
       "      <td>4</td>\n",
       "      <td>-34.629923</td>\n",
       "      <td>-58.465820</td>\n",
       "      <td>39.0</td>\n",
       "      <td>39.000000</td>\n",
       "      <td>1.0</td>\n",
       "      <td>1.0</td>\n",
       "    </tr>\n",
       "    <tr>\n",
       "      <th>7</th>\n",
       "      <td>0</td>\n",
       "      <td>1</td>\n",
       "      <td>40</td>\n",
       "      <td>193</td>\n",
       "      <td>0</td>\n",
       "      <td>4</td>\n",
       "      <td>-34.629923</td>\n",
       "      <td>-58.465820</td>\n",
       "      <td>39.0</td>\n",
       "      <td>39.000000</td>\n",
       "      <td>1.0</td>\n",
       "      <td>1.0</td>\n",
       "    </tr>\n",
       "    <tr>\n",
       "      <th>8</th>\n",
       "      <td>0</td>\n",
       "      <td>1</td>\n",
       "      <td>47</td>\n",
       "      <td>195</td>\n",
       "      <td>0</td>\n",
       "      <td>4</td>\n",
       "      <td>-34.578721</td>\n",
       "      <td>-58.457095</td>\n",
       "      <td>67.0</td>\n",
       "      <td>67.000000</td>\n",
       "      <td>1.0</td>\n",
       "      <td>1.0</td>\n",
       "    </tr>\n",
       "    <tr>\n",
       "      <th>9</th>\n",
       "      <td>0</td>\n",
       "      <td>1</td>\n",
       "      <td>7</td>\n",
       "      <td>184</td>\n",
       "      <td>0</td>\n",
       "      <td>4</td>\n",
       "      <td>-34.629923</td>\n",
       "      <td>-58.465820</td>\n",
       "      <td>47.0</td>\n",
       "      <td>47.000000</td>\n",
       "      <td>1.0</td>\n",
       "      <td>1.0</td>\n",
       "    </tr>\n",
       "  </tbody>\n",
       "</table>\n",
       "</div>"
      ],
      "text/plain": [
       "   created_on  property_type  place_name  place_with_parent_names  \\\n",
       "0          23              1         152                      219   \n",
       "1          24              1          29                      180   \n",
       "2           0              1         136                      210   \n",
       "3           0              1          40                      193   \n",
       "4           0              1          40                      193   \n",
       "5           0              1          40                      193   \n",
       "6           0              1          40                      193   \n",
       "7           0              1          40                      193   \n",
       "8           0              1          47                      195   \n",
       "9           0              1           7                      184   \n",
       "\n",
       "   country_name  state_name        lat        lon  surface_total_in_m2  \\\n",
       "0             0           4 -34.610988 -58.363464                  0.0   \n",
       "1             0           3 -34.629923 -58.465820                  0.0   \n",
       "2             0           4 -34.589363 -58.412880                 53.0   \n",
       "3             0           4 -34.629923 -58.465820                 39.0   \n",
       "4             0           4 -34.629923 -58.465820                 51.0   \n",
       "5             0           4 -34.629923 -58.465820                 39.0   \n",
       "6             0           4 -34.629923 -58.465820                 39.0   \n",
       "7             0           4 -34.629923 -58.465820                 39.0   \n",
       "8             0           4 -34.578721 -58.457095                 67.0   \n",
       "9             0           4 -34.629923 -58.465820                 47.0   \n",
       "\n",
       "   surface_covered_in_m2  floor  rooms  \n",
       "0             359.471588    1.0    1.0  \n",
       "1             359.471588    1.0    1.0  \n",
       "2              48.000000    1.0    1.0  \n",
       "3              39.000000    1.0    1.0  \n",
       "4              51.000000    1.0    1.0  \n",
       "5              39.000000    1.0    1.0  \n",
       "6              39.000000    1.0    1.0  \n",
       "7              39.000000    1.0    1.0  \n",
       "8              67.000000    1.0    1.0  \n",
       "9              47.000000    1.0    1.0  "
      ]
     },
     "execution_count": 46,
     "metadata": {},
     "output_type": "execute_result"
    }
   ],
   "source": [
    "# prediccion model 1\n",
    "prediction1 = model.predict(X_test_std_df)\n",
    "X_test_df.head(10)"
   ]
  },
  {
   "cell_type": "code",
   "execution_count": 47,
   "metadata": {
    "collapsed": false
   },
   "outputs": [
    {
     "name": "stderr",
     "output_type": "stream",
     "text": [
      "/opt/conda/lib/python3.5/site-packages/ipykernel/__main__.py:4: DataConversionWarning: A column-vector y was passed when a 1d array was expected. Please change the shape of y to (n_samples,), for example using ravel().\n"
     ]
    },
    {
     "data": {
      "text/plain": [
       "RandomForestRegressor(bootstrap=True, criterion='mse', max_depth=100,\n",
       "           max_features='auto', max_leaf_nodes=None,\n",
       "           min_impurity_decrease=0.0, min_impurity_split=None,\n",
       "           min_samples_leaf=5, min_samples_split=10,\n",
       "           min_weight_fraction_leaf=0.0, n_estimators=3000, n_jobs=1,\n",
       "           oob_score=False, random_state=None, verbose=0, warm_start=False)"
      ]
     },
     "execution_count": 47,
     "metadata": {},
     "output_type": "execute_result"
    }
   ],
   "source": [
    "X_fulltrain_scaled = scaler.transform(X)\n",
    "# Creando modelo con hiper-parametros encontrados\n",
    "model_std = RandomForestRegressor(n_estimators=3000, max_features='auto', max_depth=100,min_samples_leaf=5,min_samples_split=10 )\n",
    "model_std.fit(X_fulltrain_scaled, y)"
   ]
  },
  {
   "cell_type": "code",
   "execution_count": 48,
   "metadata": {
    "collapsed": false
   },
   "outputs": [
    {
     "data": {
      "text/html": [
       "<div>\n",
       "<table border=\"1\" class=\"dataframe\">\n",
       "  <thead>\n",
       "    <tr style=\"text-align: right;\">\n",
       "      <th></th>\n",
       "      <th>created_on</th>\n",
       "      <th>property_type</th>\n",
       "      <th>place_name</th>\n",
       "      <th>place_with_parent_names</th>\n",
       "      <th>country_name</th>\n",
       "      <th>state_name</th>\n",
       "      <th>lat</th>\n",
       "      <th>lon</th>\n",
       "      <th>surface_total_in_m2</th>\n",
       "      <th>surface_covered_in_m2</th>\n",
       "      <th>floor</th>\n",
       "      <th>rooms</th>\n",
       "    </tr>\n",
       "  </thead>\n",
       "  <tbody>\n",
       "    <tr>\n",
       "      <th>0</th>\n",
       "      <td>23</td>\n",
       "      <td>1</td>\n",
       "      <td>152</td>\n",
       "      <td>219</td>\n",
       "      <td>0</td>\n",
       "      <td>4</td>\n",
       "      <td>-34.610988</td>\n",
       "      <td>-58.363464</td>\n",
       "      <td>0.0</td>\n",
       "      <td>359.471588</td>\n",
       "      <td>1.0</td>\n",
       "      <td>1.0</td>\n",
       "    </tr>\n",
       "    <tr>\n",
       "      <th>1</th>\n",
       "      <td>24</td>\n",
       "      <td>1</td>\n",
       "      <td>29</td>\n",
       "      <td>180</td>\n",
       "      <td>0</td>\n",
       "      <td>3</td>\n",
       "      <td>-34.629923</td>\n",
       "      <td>-58.465820</td>\n",
       "      <td>0.0</td>\n",
       "      <td>359.471588</td>\n",
       "      <td>1.0</td>\n",
       "      <td>1.0</td>\n",
       "    </tr>\n",
       "    <tr>\n",
       "      <th>2</th>\n",
       "      <td>0</td>\n",
       "      <td>1</td>\n",
       "      <td>136</td>\n",
       "      <td>210</td>\n",
       "      <td>0</td>\n",
       "      <td>4</td>\n",
       "      <td>-34.589363</td>\n",
       "      <td>-58.412880</td>\n",
       "      <td>53.0</td>\n",
       "      <td>48.000000</td>\n",
       "      <td>1.0</td>\n",
       "      <td>1.0</td>\n",
       "    </tr>\n",
       "    <tr>\n",
       "      <th>3</th>\n",
       "      <td>0</td>\n",
       "      <td>1</td>\n",
       "      <td>40</td>\n",
       "      <td>193</td>\n",
       "      <td>0</td>\n",
       "      <td>4</td>\n",
       "      <td>-34.629923</td>\n",
       "      <td>-58.465820</td>\n",
       "      <td>39.0</td>\n",
       "      <td>39.000000</td>\n",
       "      <td>1.0</td>\n",
       "      <td>1.0</td>\n",
       "    </tr>\n",
       "    <tr>\n",
       "      <th>4</th>\n",
       "      <td>0</td>\n",
       "      <td>1</td>\n",
       "      <td>40</td>\n",
       "      <td>193</td>\n",
       "      <td>0</td>\n",
       "      <td>4</td>\n",
       "      <td>-34.629923</td>\n",
       "      <td>-58.465820</td>\n",
       "      <td>51.0</td>\n",
       "      <td>51.000000</td>\n",
       "      <td>1.0</td>\n",
       "      <td>1.0</td>\n",
       "    </tr>\n",
       "    <tr>\n",
       "      <th>5</th>\n",
       "      <td>0</td>\n",
       "      <td>1</td>\n",
       "      <td>40</td>\n",
       "      <td>193</td>\n",
       "      <td>0</td>\n",
       "      <td>4</td>\n",
       "      <td>-34.629923</td>\n",
       "      <td>-58.465820</td>\n",
       "      <td>39.0</td>\n",
       "      <td>39.000000</td>\n",
       "      <td>1.0</td>\n",
       "      <td>1.0</td>\n",
       "    </tr>\n",
       "    <tr>\n",
       "      <th>6</th>\n",
       "      <td>0</td>\n",
       "      <td>1</td>\n",
       "      <td>40</td>\n",
       "      <td>193</td>\n",
       "      <td>0</td>\n",
       "      <td>4</td>\n",
       "      <td>-34.629923</td>\n",
       "      <td>-58.465820</td>\n",
       "      <td>39.0</td>\n",
       "      <td>39.000000</td>\n",
       "      <td>1.0</td>\n",
       "      <td>1.0</td>\n",
       "    </tr>\n",
       "    <tr>\n",
       "      <th>7</th>\n",
       "      <td>0</td>\n",
       "      <td>1</td>\n",
       "      <td>40</td>\n",
       "      <td>193</td>\n",
       "      <td>0</td>\n",
       "      <td>4</td>\n",
       "      <td>-34.629923</td>\n",
       "      <td>-58.465820</td>\n",
       "      <td>39.0</td>\n",
       "      <td>39.000000</td>\n",
       "      <td>1.0</td>\n",
       "      <td>1.0</td>\n",
       "    </tr>\n",
       "    <tr>\n",
       "      <th>8</th>\n",
       "      <td>0</td>\n",
       "      <td>1</td>\n",
       "      <td>47</td>\n",
       "      <td>195</td>\n",
       "      <td>0</td>\n",
       "      <td>4</td>\n",
       "      <td>-34.578721</td>\n",
       "      <td>-58.457095</td>\n",
       "      <td>67.0</td>\n",
       "      <td>67.000000</td>\n",
       "      <td>1.0</td>\n",
       "      <td>1.0</td>\n",
       "    </tr>\n",
       "    <tr>\n",
       "      <th>9</th>\n",
       "      <td>0</td>\n",
       "      <td>1</td>\n",
       "      <td>7</td>\n",
       "      <td>184</td>\n",
       "      <td>0</td>\n",
       "      <td>4</td>\n",
       "      <td>-34.629923</td>\n",
       "      <td>-58.465820</td>\n",
       "      <td>47.0</td>\n",
       "      <td>47.000000</td>\n",
       "      <td>1.0</td>\n",
       "      <td>1.0</td>\n",
       "    </tr>\n",
       "  </tbody>\n",
       "</table>\n",
       "</div>"
      ],
      "text/plain": [
       "   created_on  property_type  place_name  place_with_parent_names  \\\n",
       "0          23              1         152                      219   \n",
       "1          24              1          29                      180   \n",
       "2           0              1         136                      210   \n",
       "3           0              1          40                      193   \n",
       "4           0              1          40                      193   \n",
       "5           0              1          40                      193   \n",
       "6           0              1          40                      193   \n",
       "7           0              1          40                      193   \n",
       "8           0              1          47                      195   \n",
       "9           0              1           7                      184   \n",
       "\n",
       "   country_name  state_name        lat        lon  surface_total_in_m2  \\\n",
       "0             0           4 -34.610988 -58.363464                  0.0   \n",
       "1             0           3 -34.629923 -58.465820                  0.0   \n",
       "2             0           4 -34.589363 -58.412880                 53.0   \n",
       "3             0           4 -34.629923 -58.465820                 39.0   \n",
       "4             0           4 -34.629923 -58.465820                 51.0   \n",
       "5             0           4 -34.629923 -58.465820                 39.0   \n",
       "6             0           4 -34.629923 -58.465820                 39.0   \n",
       "7             0           4 -34.629923 -58.465820                 39.0   \n",
       "8             0           4 -34.578721 -58.457095                 67.0   \n",
       "9             0           4 -34.629923 -58.465820                 47.0   \n",
       "\n",
       "   surface_covered_in_m2  floor  rooms  \n",
       "0             359.471588    1.0    1.0  \n",
       "1             359.471588    1.0    1.0  \n",
       "2              48.000000    1.0    1.0  \n",
       "3              39.000000    1.0    1.0  \n",
       "4              51.000000    1.0    1.0  \n",
       "5              39.000000    1.0    1.0  \n",
       "6              39.000000    1.0    1.0  \n",
       "7              39.000000    1.0    1.0  \n",
       "8              67.000000    1.0    1.0  \n",
       "9              47.000000    1.0    1.0  "
      ]
     },
     "execution_count": 48,
     "metadata": {},
     "output_type": "execute_result"
    }
   ],
   "source": [
    "# prediccion model 2\n",
    "prediction2 = model_std.predict(X_test_std_df)\n",
    "X_test_df.head(10)"
   ]
  },
  {
   "cell_type": "code",
   "execution_count": 49,
   "metadata": {
    "collapsed": false
   },
   "outputs": [
    {
     "name": "stdout",
     "output_type": "stream",
     "text": [
      "[ 429444.7137888   432479.45859003  209025.68256891 ...,  773986.55619567\n",
      "  196063.23310613  618656.02848883]\n",
      "[ 235601.27214387  235867.04457643  235601.27214387 ...,  231168.0135398\n",
      "  235607.275349    231168.0135398 ]\n",
      "[  623288.15543372   629091.87260364   182450.09299395 ...,\n",
      "  1316805.09885154   156519.19086325  1006144.04343786]\n"
     ]
    }
   ],
   "source": [
    "prediction  = (prediction1 + prediction2) / 2\n",
    "print(prediction)\n",
    "print(prediction1)\n",
    "print(prediction2)"
   ]
  },
  {
   "cell_type": "code",
   "execution_count": 50,
   "metadata": {
    "collapsed": true
   },
   "outputs": [],
   "source": [
    "output = pd.DataFrame( data={\"id\":test_df[\"id\"], \"price_usd\": prediction} )"
   ]
  },
  {
   "cell_type": "code",
   "execution_count": 51,
   "metadata": {
    "collapsed": true
   },
   "outputs": [],
   "source": [
    "# guardamos\n",
    "output.to_csv( \"../data/result/result_randomforestv02_\"+str(now)+\".csv\", index=False, quoting=3 )"
   ]
  },
  {
   "cell_type": "code",
   "execution_count": null,
   "metadata": {
    "collapsed": true
   },
   "outputs": [],
   "source": []
  }
 ],
 "metadata": {
  "kernelspec": {
   "display_name": "Python 3",
   "language": "python",
   "name": "python3"
  },
  "language_info": {
   "codemirror_mode": {
    "name": "ipython",
    "version": 3
   },
   "file_extension": ".py",
   "mimetype": "text/x-python",
   "name": "python",
   "nbconvert_exporter": "python",
   "pygments_lexer": "ipython3",
   "version": "3.5.2"
  }
 },
 "nbformat": 4,
 "nbformat_minor": 0
}
