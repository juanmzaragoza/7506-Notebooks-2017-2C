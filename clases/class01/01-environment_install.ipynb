{
 "cells": [
  {
   "cell_type": "markdown",
   "metadata": {
    "deletable": true,
    "editable": true
   },
   "source": [
    "# Analisis Exploratorio de Datos :: Instalacion Entorno"
   ]
  },
  {
   "cell_type": "markdown",
   "metadata": {
    "deletable": true,
    "editable": true
   },
   "source": [
    "Algunas condiciones previas es tener una instalacion de python (2.x o 3.x) con pip.\n",
    "Por organizacion vamos a utilizar virtualenv pero la instalacion de referencia pueden realizarla sobre su instalacion de python sin utilizar virtualenv."
   ]
  },
  {
   "cell_type": "markdown",
   "metadata": {
    "deletable": true,
    "editable": true
   },
   "source": [
    "## Virtualenv\n",
    "\n",
    "Este paso es opcional pero muchas veces sirve para tener mas organizadas las dependencias que uno esta utilizando en python. Virtualenv crea un entorno virtual en el cual pueden manejar mejor sus dependencias.\n",
    "\n",
    "Para mas informacion de instalacion y uso:\n",
    "\n",
    "- [https://virtualenv.pypa.io/en/stable/installation/](https://virtualenv.pypa.io/en/stable/installation/)\n",
    "- [https://virtualenv.pypa.io/en/stable/userguide/](https://virtualenv.pypa.io/en/stable/userguide/)\n",
    "\n",
    "### Instalacion de Virtualenv\n",
    "\n",
    "```\n",
    "$ [sudo] pip install virtualenv\n",
    "```\n",
    "\n",
    "### Creacion de un nuevo Virtualenv\n",
    "\n",
    "Para poder crear un virtualenv utilizamos el comando \n",
    "\n",
    "```\n",
    "$ virtualenv ENV\n",
    "```\n",
    "\n",
    "Donde ENV es el nombre del directorio donde vamos a instalar el nuevo virtualenv.\n",
    "\n",
    "Un detalle que tenemos que una vez creado un nuevo virtualenv, todas las dependencias que instalemos estan en ese directorio por lo que si queremos eliminarlo por completo, solamente tendremos que eliminar el mismo.\n",
    "\n",
    "### Activacion del Virtualenv\n",
    "\n",
    "Una vez creado el virtualenv, para poder usarlo debemos activarlo con el script de activacion del directorio creado:\n",
    "\n",
    "```\n",
    "$ cd ENV\n",
    "$ source bin/activate\n",
    "```\n",
    "\n",
    "Una vez realizado esto el virtualenv estara activado en ese shell.\n",
    "\n",
    "Todas aquellas acciones que realizamos con el interprete de python, instalacion de dependencias, etc haran referencia a ese virtualenv.\n",
    "\n",
    "### Desactivacion de virtualenv\n",
    "\n",
    "Si queremos desactivar el virtualenv en el entorno, tenemos que correr en el shell el comando \n",
    "\n",
    "```\n",
    "$ deactivate\n",
    "```"
   ]
  },
  {
   "cell_type": "markdown",
   "metadata": {
    "deletable": true,
    "editable": true
   },
   "source": [
    "## Dependencias: Pandas, Jupyter\n",
    "\n",
    "```\n",
    "pip install jupyter pandas numpy\n",
    "```\n",
    "\n",
    "## Visualizacion\n",
    "\n",
    "```\n",
    "pip install matplotlib seaborn bokeh\n",
    "```\n"
   ]
  }
 ],
 "metadata": {
  "kernelspec": {
   "display_name": "Python 2",
   "language": "python",
   "name": "python2"
  },
  "language_info": {
   "codemirror_mode": {
    "name": "ipython",
    "version": 2
   },
   "file_extension": ".py",
   "mimetype": "text/x-python",
   "name": "python",
   "nbconvert_exporter": "python",
   "pygments_lexer": "ipython2",
   "version": "2.7.12"
  }
 },
 "nbformat": 4,
 "nbformat_minor": 2
}
