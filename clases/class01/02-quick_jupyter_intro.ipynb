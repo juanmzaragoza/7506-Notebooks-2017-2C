{
 "cells": [
  {
   "cell_type": "markdown",
   "metadata": {},
   "source": [
    "# Jupyter Notebook :: Una Introduccion"
   ]
  },
  {
   "cell_type": "markdown",
   "metadata": {},
   "source": [
    "Jupyter Notebook es una aplicacion web que permite la creacion de notebooks interactivos que pueden tener codigo (que puede ser ejecutado), ecuaciones, visualizaciones y texto. \n",
    "\n",
    "Previamente esta conocido como Ipython Notebook, pero al soportarse mayor cantidad de kernels (mecanismo utilizado para poder realizar la ejecucion de codigo) por ejemplo Julia y R, cambio su nombre.\n",
    "\n",
    "Sus usos incluyen: Limpieza de informacion y transformaciones, simulaciones numericas, modelado estadistico y machine learning, y mucho mas."
   ]
  },
  {
   "cell_type": "markdown",
   "metadata": {},
   "source": [
    "## Ejecutando un server de Jupyter"
   ]
  },
  {
   "cell_type": "markdown",
   "metadata": {},
   "source": [
    "Desde el directorio donde queremos ejecutar o guardar nuestros notebooks ejecutamos el comando en el shell:\n",
    "\n",
    "```\n",
    "$ jupyter notebook \n",
    "```\n",
    "\n",
    "Y comenzara en el puerto default 8080\n",
    "\n",
    "Tambien si tienen funcionando otros servicios en ese pueden indicar el puerto con el comando\n",
    "\n",
    "```\n",
    "$ jupyter notebook --port=PORT\n",
    "```\n",
    "\n",
    "indicando en PORT el puerto deseado.\n",
    "\n",
    "Para mas informacion pueden hacer\n",
    "\n",
    "```\n",
    "$ jupyter notebook help\n",
    "```\n"
   ]
  },
  {
   "cell_type": "markdown",
   "metadata": {},
   "source": [
    "## Ejecutando Celdas"
   ]
  },
  {
   "cell_type": "code",
   "execution_count": 1,
   "metadata": {},
   "outputs": [
    {
     "name": "stdout",
     "output_type": "stream",
     "text": [
      "Esto es una celda, presionar el boton ▶ para ejecutarla\n"
     ]
    }
   ],
   "source": [
    "import pandas as pd\n",
    "\n",
    "print \"Esto es una celda, presionar el boton ▶ para ejecutarla\""
   ]
  },
  {
   "cell_type": "markdown",
   "metadata": {},
   "source": [
    "Otra forma de ejecutar las mismas es utilizar Ctrl+Enter or Shift+Enter."
   ]
  },
  {
   "cell_type": "markdown",
   "metadata": {},
   "source": [
    "## Escribiendo Codigo"
   ]
  },
  {
   "cell_type": "markdown",
   "metadata": {},
   "source": [
    "Algo muy util es el autocompletado utilizando Shift-Tab. (Intentar utilizarlo haciendo multiples tabs)."
   ]
  },
  {
   "cell_type": "code",
   "execution_count": null,
   "metadata": {},
   "outputs": [],
   "source": [
    "pd.read_csv(as_recarray=)"
   ]
  },
  {
   "cell_type": "markdown",
   "metadata": {},
   "source": [
    "O el autocompletado al utilizar el Tab sobre funciones."
   ]
  },
  {
   "cell_type": "code",
   "execution_count": null,
   "metadata": {},
   "outputs": [],
   "source": [
    "pd.read"
   ]
  },
  {
   "cell_type": "markdown",
   "metadata": {},
   "source": [
    "Escribir codigo es directo como se trabajaria en el lenguaje, teniendo en cuenta que la secuencia de ejecucion debe respetarse"
   ]
  },
  {
   "cell_type": "code",
   "execution_count": 2,
   "metadata": {
    "collapsed": true
   },
   "outputs": [],
   "source": [
    "def print_nums(limit):\n",
    "    for i in range(limit):\n",
    "        print i,"
   ]
  },
  {
   "cell_type": "code",
   "execution_count": 5,
   "metadata": {},
   "outputs": [
    {
     "name": "stdout",
     "output_type": "stream",
     "text": [
      "0 1 2 3 4 5 6 7 8 9 10 11 12 13 14 15 16 17 18 19 20 21 22 23 24 25 26 27 28 29 30 31 32 33 34 35 36 37 38 39 40 41 42 43 44 45 46 47 48 49 50 51 52 53 54 55 56 57 58 59 60 61 62 63 64 65 66 67 68 69 70 71 72 73 74 75 76 77 78 79 80 81 82 83 84 85 86 87 88 89 90 91 92 93 94 95 96 97 98 99 100 101 102 103 104 105 106 107 108 109 110 111 112 113 114 115 116 117 118 119 120 121 122 123 124 125 126 127 128 129 130 131 132 133 134 135 136 137 138 139 140 141 142 143 144 145 146 147 148 149 150 151 152 153 154 155 156 157 158 159 160 161 162 163 164 165 166 167 168 169 170 171 172 173 174 175 176 177 178 179 180 181 182 183 184 185 186 187 188 189 190 191 192 193 194 195 196 197 198 199 200 201 202 203 204 205 206 207 208 209 210 211 212 213 214 215 216 217 218 219 220 221 222\n"
     ]
    }
   ],
   "source": [
    "print_nums(223)"
   ]
  },
  {
   "cell_type": "markdown",
   "metadata": {},
   "source": [
    "## Magic Functions\n",
    "\n",
    "Jupyter tiene un conjunto de funciones o comandos magicos que permiten realizar acciones con el kernel especifico (en este caso de IPython), las mismas permiten hacer profiling de ejecucion de comandos y otras cosas con jupyter y pueden\n",
    "resultar muy utiles.\n",
    "\n",
    "Para una mayor referencia al respecto pueden consultar [http://ipython.readthedocs.io/en/stable/interactive/magics.html](http://ipython.readthedocs.io/en/stable/interactive/magics.html)"
   ]
  },
  {
   "cell_type": "code",
   "execution_count": 6,
   "metadata": {},
   "outputs": [],
   "source": [
    "# para tener una referencia rapida de las mismas\n",
    "# Su notacion con un %\n",
    "% quickref"
   ]
  },
  {
   "cell_type": "code",
   "execution_count": null,
   "metadata": {
    "collapsed": true
   },
   "outputs": [],
   "source": []
  }
 ],
 "metadata": {
  "kernelspec": {
   "display_name": "Python 2",
   "language": "python",
   "name": "python2"
  },
  "language_info": {
   "codemirror_mode": {
    "name": "ipython",
    "version": 2
   },
   "file_extension": ".py",
   "mimetype": "text/x-python",
   "name": "python",
   "nbconvert_exporter": "python",
   "pygments_lexer": "ipython2",
   "version": "2.7.13"
  }
 },
 "nbformat": 4,
 "nbformat_minor": 2
}
