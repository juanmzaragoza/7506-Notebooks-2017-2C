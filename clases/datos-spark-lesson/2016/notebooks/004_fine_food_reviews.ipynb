{
 "cells": [
  {
   "cell_type": "code",
   "execution_count": 33,
   "metadata": {
    "collapsed": true
   },
   "outputs": [],
   "source": [
    "import pyspark\n",
    "\n",
    "try: \n",
    "    type(sc)\n",
    "except NameError:\n",
    "    sc = pyspark.SparkContext('local[*]')"
   ]
  },
  {
   "cell_type": "markdown",
   "metadata": {},
   "source": [
    "## Fine Food Reviews\n",
    "\n",
    "Fuente: https://inclass.kaggle.com/c/fine-food-reviews\n",
    "\n",
    "### Representacion\n",
    "\n",
    "- **Id** - El id que identifica a cada review\n",
    "- **ProductId** - El Id del producto\n",
    "- **UserId** - El Id del usuario\n",
    "- **ProfileName** - El nombre del usuario \n",
    "- **HelpfulnessNumerator** - El numerador indicando la cantidad de usuarios que juzgaron al review como util\n",
    "- **HelpfulnessDenominator** - El denominador indicando la cantidad de usuarios que evaluaron si el review fue útil o no\n",
    "- **Prediction** - La cantidad de estrellas del review\n",
    "- **Time** - Un timestamp para el review\n",
    "- **Summary** - Un resumen del review\n",
    "- **Text** - Texto del review"
   ]
  },
  {
   "cell_type": "code",
   "execution_count": 34,
   "metadata": {
    "collapsed": false
   },
   "outputs": [
    {
     "data": {
      "text/plain": [
       "['\"Id\",\"ProductId\",\"UserId\",\"ProfileName\",\"HelpfulnessNumerator\",\"HelpfulnessDenominator\",\"Prediction\",\"Time\",\"Summary\",\"Text\"']"
      ]
     },
     "execution_count": 34,
     "metadata": {},
     "output_type": "execute_result"
    }
   ],
   "source": [
    "## creamos el RDD a partir de\n",
    "reviewsTextRDD = sc.textFile('data/fine-food-reviews-train.csv',8)\n",
    "## aplicamos una accion para tomar los 15 items del RDD\n",
    "reviewsTextRDD.take(1)"
   ]
  },
  {
   "cell_type": "markdown",
   "metadata": {},
   "source": [
    "### Parseando el CSV"
   ]
  },
  {
   "cell_type": "code",
   "execution_count": 40,
   "metadata": {
    "collapsed": false
   },
   "outputs": [
    {
     "data": {
      "text/plain": [
       "[['492346',\n",
       "  '\"B001VNP0Y6\"',\n",
       "  '\"AEZRVY3CV52UZ\"',\n",
       "  '\"Corey Wright \"\"Democratus\"\"\"',\n",
       "  '3',\n",
       "  '3',\n",
       "  '5',\n",
       "  '1320537600',\n",
       "  '\"Just what I needed\"',\n",
       "  '\"I got them in a very timely manner and they\\'re all very large and green. There seems to be an inordinate amount of the seeds that come out a weird beige color but it still tastes great and is a much better deal than any of the Indian markets in town. Cheers to Frontier.\"']]"
      ]
     },
     "execution_count": 40,
     "metadata": {},
     "output_type": "execute_result"
    }
   ],
   "source": [
    "def parse_csv(line):\n",
    "    return re.sub(\"\\\"[^\\\"]*\\\"\", lambda x: x.group(0).replace(',',''), line).split(',')\n",
    "\n",
    "#can we do better?\n",
    "reviewsRDD = reviewsTextRDD.map(parse_csv).filter(lambda a: a[0] != '\"Id\"')\n",
    "reviewsRDD.take(1)"
   ]
  },
  {
   "cell_type": "markdown",
   "metadata": {},
   "source": [
    "### User Profiles con Mayor Cantidad de Reviews"
   ]
  },
  {
   "cell_type": "code",
   "execution_count": 43,
   "metadata": {
    "collapsed": false
   },
   "outputs": [
    {
     "data": {
      "text/plain": [
       "[('\"C. F. Hill \"\"CFH\"\"\"', 347),\n",
       " ('\"O. Brown \"\"Ms. O. Khannah-Brown\"\"\"', 338),\n",
       " ('\"Gary Peterson\"', 306),\n",
       " ('\"Chris\"', 292),\n",
       " ('\"Rebecca of Amazon \"\"The Rebecca Review\"\"\"', 289),\n",
       " ('\"Linda\"', 224),\n",
       " ('\"Mike\"', 209),\n",
       " ('\"c2\"', 207),\n",
       " ('\"Laura\"', 206),\n",
       " ('\"John\"', 204)]"
      ]
     },
     "execution_count": 43,
     "metadata": {},
     "output_type": "execute_result"
    }
   ],
   "source": [
    "from operator import add\n",
    "reviewsRDD.map(lambda a: (a[3], 1)).reduceByKey(add).sortBy(ascending=False,keyfunc=lambda x:x[1]).take(10)"
   ]
  },
  {
   "cell_type": "markdown",
   "metadata": {},
   "source": [
    "### ProductIds con Mayor Cantidad de Reviews"
   ]
  },
  {
   "cell_type": "code",
   "execution_count": 44,
   "metadata": {
    "collapsed": false
   },
   "outputs": [
    {
     "data": {
      "text/plain": [
       "[('\"B007JFMH8M\"', 714),\n",
       " ('\"B003B3OOPA\"', 511),\n",
       " ('\"B0026RQTGE\"', 509),\n",
       " ('\"B002QWP8H0\"', 508),\n",
       " ('\"B002QWP89S\"', 499)]"
      ]
     },
     "execution_count": 44,
     "metadata": {},
     "output_type": "execute_result"
    }
   ],
   "source": [
    "from operator import add\n",
    "reviewsRDD.map(lambda a: (a[1], 1)).reduceByKey(add).sortBy(ascending=False,keyfunc=lambda x:x[1]).take(5)"
   ]
  },
  {
   "cell_type": "markdown",
   "metadata": {},
   "source": [
    "### Cantidad totales de Reviews por Calificacion"
   ]
  },
  {
   "cell_type": "code",
   "execution_count": 45,
   "metadata": {
    "collapsed": false
   },
   "outputs": [
    {
     "data": {
      "text/plain": [
       "[('5', 290403), ('4', 64593), ('1', 41775), ('3', 34118), ('2', 23871)]"
      ]
     },
     "execution_count": 45,
     "metadata": {},
     "output_type": "execute_result"
    }
   ],
   "source": [
    "reviewsPerScoreRDD = reviewsRDD.map(lambda a: (a[6], 1)).reduceByKey(add).sortBy(ascending=False,keyfunc=lambda x:x[1])\n",
    "reviewsPerScoreRDD.take(100)"
   ]
  },
  {
   "cell_type": "markdown",
   "metadata": {},
   "source": [
    "### Probabilidad total de cada Calificacion"
   ]
  },
  {
   "cell_type": "code",
   "execution_count": 46,
   "metadata": {
    "collapsed": false
   },
   "outputs": [
    {
     "data": {
      "text/plain": [
       "[('5', 0.639), ('4', 0.142), ('1', 0.092), ('3', 0.075), ('2', 0.052)]"
      ]
     },
     "execution_count": 46,
     "metadata": {},
     "output_type": "execute_result"
    }
   ],
   "source": [
    "totalFreq = reviewsRDD.count()\n",
    "reviewsPerScoreRDD.map(lambda x: (x[0], round(float(x[1])/totalFreq,3))).take(100)"
   ]
  },
  {
   "cell_type": "markdown",
   "metadata": {},
   "source": [
    "## Matriz de Utilidad\n",
    "\n",
    "N usuarios con una lista de M items puede representarse como una matriz de NxM.\n",
    "Similar a una matriz dispersa, pero con numero desconocidos (posibles clasificaciones).\n",
    "\n",
    "Objetivo de un potencial clasificador es estimar las calificaciones que nos faltan, con un sistema de recomendacion.\n",
    "\n"
   ]
  },
  {
   "cell_type": "code",
   "execution_count": null,
   "metadata": {
    "collapsed": true
   },
   "outputs": [],
   "source": []
  }
 ],
 "metadata": {
  "kernelspec": {
   "display_name": "Python 3",
   "language": "python",
   "name": "python3"
  },
  "language_info": {
   "codemirror_mode": {
    "name": "ipython",
    "version": 3
   },
   "file_extension": ".py",
   "mimetype": "text/x-python",
   "name": "python",
   "nbconvert_exporter": "python",
   "pygments_lexer": "ipython3",
   "version": "3.5.2"
  }
 },
 "nbformat": 4,
 "nbformat_minor": 0
}
