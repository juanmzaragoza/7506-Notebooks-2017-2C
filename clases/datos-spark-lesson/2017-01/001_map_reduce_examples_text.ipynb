{
 "cells": [
  {
   "cell_type": "markdown",
   "metadata": {
    "deletable": true,
    "editable": true
   },
   "source": [
    "## Wordcount"
   ]
  },
  {
   "cell_type": "markdown",
   "metadata": {
    "deletable": true,
    "editable": true
   },
   "source": [
    "La idea de este ejemplos es obtener la cantidad de apariciones de cada palabra en todas las obras de shakespeare.\n",
    "Fuente de Datos: http://www.gutenberg.org/cache/epub/100/pg100.txt (se elimino la introduccion y licencia).\n"
   ]
  },
  {
   "cell_type": "code",
   "execution_count": 16,
   "metadata": {
    "collapsed": false,
    "deletable": true,
    "editable": true
   },
   "outputs": [],
   "source": [
    "import pyspark\n",
    "\n",
    "try: \n",
    "    type(sc)\n",
    "except NameError:\n",
    "    sc = pyspark.SparkContext('local[*]')"
   ]
  },
  {
   "cell_type": "code",
   "execution_count": 17,
   "metadata": {
    "collapsed": false,
    "deletable": true,
    "editable": true
   },
   "outputs": [],
   "source": [
    "shakespeareRDD = sc.textFile('data/shakespeare.txt',8)"
   ]
  },
  {
   "cell_type": "code",
   "execution_count": 18,
   "metadata": {
    "collapsed": false,
    "deletable": true,
    "editable": true
   },
   "outputs": [
    {
     "data": {
      "text/plain": [
       "[u'1609',\n",
       " u'',\n",
       " u'THE SONNETS',\n",
       " u'',\n",
       " u'by William Shakespeare',\n",
       " u'',\n",
       " u'',\n",
       " u'',\n",
       " u'                     1',\n",
       " u'  From fairest creatures we desire increase,',\n",
       " u\"  That thereby beauty's rose might never die,\",\n",
       " u'  But as the riper should by time decease,',\n",
       " u'  His tender heir might bear his memory:',\n",
       " u'  But thou contracted to thine own bright eyes,',\n",
       " u\"  Feed'st thy light's flame with self-substantial fuel,\",\n",
       " u'  Making a famine where abundance lies,',\n",
       " u'  Thy self thy foe, to thy sweet self too cruel:',\n",
       " u\"  Thou that art now the world's fresh ornament,\",\n",
       " u'  And only herald to the gaudy spring,',\n",
       " u'  Within thine own bud buriest thy content,']"
      ]
     },
     "execution_count": 18,
     "metadata": {},
     "output_type": "execute_result"
    }
   ],
   "source": [
    "shakespeareRDD.take(20)"
   ]
  },
  {
   "cell_type": "code",
   "execution_count": 19,
   "metadata": {
    "collapsed": false,
    "deletable": true,
    "editable": true
   },
   "outputs": [
    {
     "data": {
      "text/plain": [
       "[u'1609',\n",
       " u'THE',\n",
       " u'SONNETS',\n",
       " u'by',\n",
       " u'William',\n",
       " u'Shakespeare',\n",
       " u'1',\n",
       " u'From',\n",
       " u'fairest',\n",
       " u'creatures']"
      ]
     },
     "execution_count": 19,
     "metadata": {},
     "output_type": "execute_result"
    }
   ],
   "source": [
    "wordsRDD = shakespeareRDD.flatMap(lambda line: line.split())\n",
    "wordsRDD.take(10)"
   ]
  },
  {
   "cell_type": "code",
   "execution_count": 20,
   "metadata": {
    "collapsed": false,
    "deletable": true,
    "editable": true
   },
   "outputs": [
    {
     "data": {
      "text/plain": [
       "[(u'1609', 1), (u'THE', 1), (u'SONNETS', 1), (u'by', 1), (u'William', 1)]"
      ]
     },
     "execution_count": 20,
     "metadata": {},
     "output_type": "execute_result"
    }
   ],
   "source": [
    "wordsCountRDD = wordsRDD.map(lambda word: (word,1))\n",
    "wordsCountRDD.take(5)"
   ]
  },
  {
   "cell_type": "code",
   "execution_count": 21,
   "metadata": {
    "collapsed": false,
    "deletable": true,
    "editable": true
   },
   "outputs": [
    {
     "data": {
      "text/plain": [
       "[(u'fawn', 11),\n",
       " (u'voluble', 2),\n",
       " (u'annoy!', 2),\n",
       " (u'mustachio', 1),\n",
       " (u'four', 114),\n",
       " (u'reproach-', 1),\n",
       " (u'drollery.', 1),\n",
       " (u'conjuring', 1),\n",
       " (u'slew.', 1),\n",
       " (u'increase', 14)]"
      ]
     },
     "execution_count": 21,
     "metadata": {},
     "output_type": "execute_result"
    }
   ],
   "source": [
    "wordsCountRDD.reduceByKey(lambda a,b: a+b).take(10)"
   ]
  },
  {
   "cell_type": "code",
   "execution_count": 22,
   "metadata": {
    "collapsed": false,
    "deletable": true,
    "editable": true
   },
   "outputs": [
    {
     "data": {
      "text/plain": [
       "[(u'the', 23373),\n",
       " (u'I', 19540),\n",
       " (u'and', 18334),\n",
       " (u'to', 15667),\n",
       " (u'of', 15626),\n",
       " (u'a', 12575),\n",
       " (u'my', 10825),\n",
       " (u'in', 9624),\n",
       " (u'you', 9111),\n",
       " (u'is', 7862)]"
      ]
     },
     "execution_count": 22,
     "metadata": {},
     "output_type": "execute_result"
    }
   ],
   "source": [
    "wordsCountRDD.reduceByKey(lambda a,b: a+b).sortBy(ascending=False,keyfunc=lambda x:x[1]).take(10)"
   ]
  },
  {
   "cell_type": "markdown",
   "metadata": {
    "deletable": true,
    "editable": true
   },
   "source": [
    "## N-Grams"
   ]
  },
  {
   "cell_type": "markdown",
   "metadata": {
    "deletable": true,
    "editable": true
   },
   "source": [
    "### Que es un n-grama\n",
    "\n",
    "Es una secuencia continua de n caracteres de una cadena de texto."
   ]
  },
  {
   "cell_type": "code",
   "execution_count": 23,
   "metadata": {
    "collapsed": true,
    "deletable": true,
    "editable": true
   },
   "outputs": [],
   "source": [
    "def trigrams(t):\n",
    "    t=t.lower()\n",
    "    return [t[i:i+3] for i in range(0, len(t) - 2)]"
   ]
  },
  {
   "cell_type": "code",
   "execution_count": 24,
   "metadata": {
    "collapsed": false,
    "deletable": true,
    "editable": true
   },
   "outputs": [
    {
     "data": {
      "text/plain": [
       "['hol', 'ola', 'la ', 'a d', ' da', 'dat', 'ato', 'tos']"
      ]
     },
     "execution_count": 24,
     "metadata": {},
     "output_type": "execute_result"
    }
   ],
   "source": [
    "trigrams(\"hola datos\")"
   ]
  },
  {
   "cell_type": "markdown",
   "metadata": {
    "deletable": true,
    "editable": true
   },
   "source": [
    "Buscando los trigramas de todas las obras de shakespeare"
   ]
  },
  {
   "cell_type": "code",
   "execution_count": 25,
   "metadata": {
    "collapsed": true,
    "deletable": true,
    "editable": true
   },
   "outputs": [],
   "source": [
    "anotherShakespeareRDD = sc.textFile('data/shakespeare.txt',8)"
   ]
  },
  {
   "cell_type": "code",
   "execution_count": 27,
   "metadata": {
    "collapsed": false,
    "deletable": true,
    "editable": true
   },
   "outputs": [],
   "source": [
    "trigramsRDD = anotherShakespeareRDD.flatMap(trigrams).filter(lambda a : a != '   ')"
   ]
  },
  {
   "cell_type": "code",
   "execution_count": 28,
   "metadata": {
    "collapsed": false,
    "deletable": true,
    "editable": true
   },
   "outputs": [
    {
     "data": {
      "text/plain": [
       "[u'160',\n",
       " u'609',\n",
       " u'the',\n",
       " u'he ',\n",
       " u'e s',\n",
       " u' so',\n",
       " u'son',\n",
       " u'onn',\n",
       " u'nne',\n",
       " u'net']"
      ]
     },
     "execution_count": 28,
     "metadata": {},
     "output_type": "execute_result"
    }
   ],
   "source": [
    "trigramsRDD.take(10)"
   ]
  },
  {
   "cell_type": "markdown",
   "metadata": {
    "deletable": true,
    "editable": true
   },
   "source": [
    "Calculando la frecuencia de cada trigrama"
   ]
  },
  {
   "cell_type": "code",
   "execution_count": 29,
   "metadata": {
    "collapsed": false,
    "deletable": true,
    "editable": true
   },
   "outputs": [
    {
     "name": "stdout",
     "output_type": "stream",
     "text": [
      "[(u'osy', 15), (u'aln', 4), (u'? t', 262), (u'f; ', 116), (u' 54', 1)]\n"
     ]
    }
   ],
   "source": [
    "trigramsCount = trigramsRDD.map(lambda x: (x, 1)).reduceByKey(lambda x,y: x+y)\n",
    "print(trigramsCount.take(5))"
   ]
  },
  {
   "cell_type": "code",
   "execution_count": 30,
   "metadata": {
    "collapsed": false,
    "deletable": true,
    "editable": true
   },
   "outputs": [
    {
     "name": "stdout",
     "output_type": "stream",
     "text": [
      "[(u' th', 83504), (u'the', 52000), (u'he ', 35101), (u'and', 32677), (u' an', 32633), (u'nd ', 31158), (u' to', 23607), (u'is ', 23118), (u' yo', 22873), (u'you', 22242), (u' he', 20994), (u'to ', 19818), (u' of', 19811), (u' no', 19309), (u' i ', 19146), (u'her', 18969), (u'hat', 18789), (u'll ', 18605), (u'at ', 18091), (u' wi', 17937)]\n"
     ]
    }
   ],
   "source": [
    "trigramsCountSorted = trigramsCount.sortBy(ascending=False,keyfunc=lambda x:x[1])\n",
    "print(trigramsCountSorted.take(20))"
   ]
  },
  {
   "cell_type": "code",
   "execution_count": 31,
   "metadata": {
    "collapsed": false,
    "deletable": true,
    "editable": true
   },
   "outputs": [
    {
     "data": {
      "text/plain": [
       "[(u' th', 83504),\n",
       " (u'the', 52000),\n",
       " (u'he ', 35101),\n",
       " (u'and', 32677),\n",
       " (u' an', 32633),\n",
       " (u'nd ', 31158),\n",
       " (u' to', 23607),\n",
       " (u'is ', 23118),\n",
       " (u' yo', 22873),\n",
       " (u'you', 22242)]"
      ]
     },
     "execution_count": 31,
     "metadata": {},
     "output_type": "execute_result"
    }
   ],
   "source": [
    "trigramsCountSorted.take(10)"
   ]
  },
  {
   "cell_type": "markdown",
   "metadata": {
    "deletable": true,
    "editable": true
   },
   "source": [
    "### Caculando la frecuencia total de la coleccion"
   ]
  },
  {
   "cell_type": "code",
   "execution_count": 33,
   "metadata": {
    "collapsed": false,
    "deletable": true,
    "editable": true
   },
   "outputs": [],
   "source": [
    "totalFrec = trigramsCountSorted.map(lambda x: x[1]).reduce(lambda x,y: x+y)"
   ]
  },
  {
   "cell_type": "code",
   "execution_count": 34,
   "metadata": {
    "collapsed": false,
    "deletable": true,
    "editable": true
   },
   "outputs": [
    {
     "name": "stdout",
     "output_type": "stream",
     "text": [
      "4829019\n"
     ]
    }
   ],
   "source": [
    "print(totalFrec)"
   ]
  },
  {
   "cell_type": "code",
   "execution_count": 35,
   "metadata": {
    "collapsed": false
   },
   "outputs": [
    {
     "name": "stdout",
     "output_type": "stream",
     "text": [
      "4829019\n"
     ]
    }
   ],
   "source": [
    "print(trigramsRDD.count())"
   ]
  },
  {
   "cell_type": "markdown",
   "metadata": {
    "deletable": true,
    "editable": true
   },
   "source": [
    "### Calculando la probabilidad de cada trigrama"
   ]
  },
  {
   "cell_type": "code",
   "execution_count": 36,
   "metadata": {
    "collapsed": false,
    "deletable": true,
    "editable": true
   },
   "outputs": [
    {
     "name": "stdout",
     "output_type": "stream",
     "text": [
      "[(u' th', 83504), (u'the', 52000), (u'he ', 35101), (u'and', 32677), (u' an', 32633)]\n"
     ]
    }
   ],
   "source": [
    "print(trigramsCountSorted.take(5))\n",
    "trigramsProb = trigramsCountSorted.map(lambda x: (x[0],round(float(x[1])/totalFrec,3)))"
   ]
  },
  {
   "cell_type": "code",
   "execution_count": 37,
   "metadata": {
    "collapsed": false,
    "deletable": true,
    "editable": true
   },
   "outputs": [
    {
     "data": {
      "text/plain": [
       "[(u' th', 0.017),\n",
       " (u'the', 0.011),\n",
       " (u'he ', 0.007),\n",
       " (u'and', 0.007),\n",
       " (u' an', 0.007),\n",
       " (u'nd ', 0.006),\n",
       " (u' to', 0.005),\n",
       " (u'is ', 0.005),\n",
       " (u' yo', 0.005),\n",
       " (u'you', 0.005)]"
      ]
     },
     "execution_count": 37,
     "metadata": {},
     "output_type": "execute_result"
    }
   ],
   "source": [
    "trigramsProb.take(10)"
   ]
  },
  {
   "cell_type": "code",
   "execution_count": null,
   "metadata": {
    "collapsed": true,
    "deletable": true,
    "editable": true
   },
   "outputs": [],
   "source": []
  }
 ],
 "metadata": {
  "kernelspec": {
   "display_name": "Python 2",
   "language": "python",
   "name": "python2"
  },
  "language_info": {
   "codemirror_mode": {
    "name": "ipython",
    "version": 2
   },
   "file_extension": ".py",
   "mimetype": "text/x-python",
   "name": "python",
   "nbconvert_exporter": "python",
   "pygments_lexer": "ipython2",
   "version": "2.7.13"
  }
 },
 "nbformat": 4,
 "nbformat_minor": 0
}
