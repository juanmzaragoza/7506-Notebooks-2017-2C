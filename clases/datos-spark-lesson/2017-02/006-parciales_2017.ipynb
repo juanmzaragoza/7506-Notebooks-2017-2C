{
 "cells": [
  {
   "cell_type": "markdown",
   "metadata": {
    "deletable": true,
    "editable": true
   },
   "source": [
    "## Primer Cuatrimestre de 2017. Examen parcial, primera oportunidad.\n",
    "\n",
    "Se tiene información estadística de la temporada regular de todos los\n",
    "jugadores de la NBA en un RDD de tuplas con el siguiente formato:\n",
    "(id_jugador, nombre, promedio_puntos, promedio_asistencias, promedio_robos,\n",
    "promedio_bloqueos, promedio_rebotes, promedio_faltas). \n",
    "\n",
    "Un analista de la\n",
    "cadena ESPN está trabajando con un RDD que corresponde a la primera ronda\n",
    "de playoffs y que tiene el siguiente formato: (id_jugador, id_partido, timestamp,\n",
    "cantidad_puntos, cantidad_rebotes, cantidad_bloqueos, cantidad_robos,\n",
    "cantidad_asistencias, cantidad_faltas). \n",
    "\n",
    "En base a estos RDDs se quiere\n",
    "programar en PySpark un programa que genere un RDD con los nombres (sin\n",
    "duplicados) de los jugadores que lograron en algún partido de playoffs una\n",
    "cantidad de asistencias mayor a su promedio histórico. (****) (15 pts)"
   ]
  },
  {
   "cell_type": "code",
   "execution_count": 26,
   "metadata": {
    "collapsed": true,
    "deletable": true,
    "editable": true
   },
   "outputs": [],
   "source": [
    "# Criterio\n",
    "\n",
    "# Existen diversas maneras de realizarlo, \n",
    "# pero es posible resolverlo realizando un reduceByKey con clave (id_jugador,id_partido) \n",
    "# acumulando la cantidad de asistencias por partido quedando ((id_jugador, id_partido), sum_asistencias).\n",
    "# Luego efectuamos un cambio de clave a id_jugador con un map para \n",
    "# poder realizar un join de la informacion de la temporada usando id_jugador.\n",
    "# Una vez hecho esto, filtramos aquella informacion \n",
    "# que cumple de mayor cantidad asistencias en el partido que el promedio de la temporada.\n",
    "# Dado que pueden quedarnos duplicados (un jugador podria superar su promedio de temporada en varios partidos) \n",
    "# es importante al mapearla informacion al formato final realizar un distinct."
   ]
  },
  {
   "cell_type": "code",
   "execution_count": 27,
   "metadata": {
    "collapsed": false
   },
   "outputs": [],
   "source": [
    "# usamos para simplificar el formato, que puede obtenerse con un map.\n",
    "# (id_jugador, nombre, promedio_asistencias)\n",
    "players_all_time_stats = [\n",
    "    (1, 'Manu Ginobili', 800),\n",
    "    (2, 'Kobe Bryant', 100),\n",
    "    (3, 'Marc Gasol', 25),\n",
    "    (4, 'James Harden', 1000)]\n",
    "\n",
    "# usamos para simplificar el formato, que puede obtenerse con un map.\n",
    "# (id_jugador, id_partido, timestamp, cantidad_asistencias)\n",
    "scores = [\n",
    "  (1, 1, 1, 100),\n",
    "  (1, 1, 3, 100),\n",
    "  (2, 1, 1, 150),\n",
    "  (2, 1, 3, 150),\n",
    "  (3, 2, 2, 50),\n",
    "  (3, 2, 3, 50),      \n",
    "  (1, 2, 1, 150),\n",
    "  (1, 2, 3, 150),\n",
    "]\n",
    "\n",
    "players_all_time_stats_rdd = sc.parallelize(players_all_time_stats)\n",
    "scores_rdd = sc.parallelize(scores)"
   ]
  },
  {
   "cell_type": "code",
   "execution_count": 28,
   "metadata": {
    "collapsed": false
   },
   "outputs": [
    {
     "data": {
      "text/plain": [
       "[((1, 1), 100),\n",
       " ((1, 1), 100),\n",
       " ((2, 1), 150),\n",
       " ((2, 1), 150),\n",
       " ((3, 2), 50),\n",
       " ((3, 2), 50),\n",
       " ((1, 2), 150),\n",
       " ((1, 2), 150)]"
      ]
     },
     "execution_count": 28,
     "metadata": {},
     "output_type": "execute_result"
    }
   ],
   "source": [
    "# cambio de clave a id_jugador, partido\n",
    "scores_by_match = scores_rdd.map(lambda a: ((a[0],a[1]),a[3]))\n",
    "# scores_by_match = scores_by_match.reduceByKey(lambda a,b: a+b)\n",
    "scores_by_match.collect()"
   ]
  },
  {
   "cell_type": "code",
   "execution_count": 29,
   "metadata": {
    "collapsed": false
   },
   "outputs": [
    {
     "data": {
      "text/plain": [
       "[(1, 100), (1, 100), (2, 150), (2, 150), (3, 50), (3, 50), (1, 150), (1, 150)]"
      ]
     },
     "execution_count": 29,
     "metadata": {},
     "output_type": "execute_result"
    }
   ],
   "source": [
    "# cambio de clave a id_jugador\n",
    "scores_by_player = scores_by_match.map(lambda a: (a[0][0], a[1]))\n",
    "scores_by_player.collect()"
   ]
  },
  {
   "cell_type": "code",
   "execution_count": 30,
   "metadata": {
    "collapsed": false
   },
   "outputs": [
    {
     "data": {
      "text/plain": [
       "[(1, (1, 'Manu Ginobili', 800)),\n",
       " (2, (2, 'Kobe Bryant', 100)),\n",
       " (3, (3, 'Marc Gasol', 25)),\n",
       " (4, (4, 'James Harden', 1000))]"
      ]
     },
     "execution_count": 30,
     "metadata": {},
     "output_type": "execute_result"
    }
   ],
   "source": [
    "# juntamos los datos para poder evaluar lo pedido\n",
    "# preparamos la key del lado de informacion historica de jugadores.\n",
    "\n",
    "all_time_with_key = players_all_time_stats_rdd.map(lambda a: (a[0],a))\n",
    "all_time_with_key.collect()"
   ]
  },
  {
   "cell_type": "code",
   "execution_count": 31,
   "metadata": {
    "collapsed": false
   },
   "outputs": [
    {
     "data": {
      "text/plain": [
       "[(1, (100, (1, 'Manu Ginobili', 800))),\n",
       " (1, (100, (1, 'Manu Ginobili', 800))),\n",
       " (1, (150, (1, 'Manu Ginobili', 800))),\n",
       " (1, (150, (1, 'Manu Ginobili', 800))),\n",
       " (2, (150, (2, 'Kobe Bryant', 100))),\n",
       " (2, (150, (2, 'Kobe Bryant', 100))),\n",
       " (3, (50, (3, 'Marc Gasol', 25))),\n",
       " (3, (50, (3, 'Marc Gasol', 25)))]"
      ]
     },
     "execution_count": 31,
     "metadata": {},
     "output_type": "execute_result"
    }
   ],
   "source": [
    "scores_by_player = scores_by_player.join(all_time_with_key)\n",
    "scores_by_player.collect()"
   ]
  },
  {
   "cell_type": "code",
   "execution_count": 32,
   "metadata": {
    "collapsed": false
   },
   "outputs": [
    {
     "data": {
      "text/plain": [
       "[(2, (150, (2, 'Kobe Bryant', 100))),\n",
       " (2, (150, (2, 'Kobe Bryant', 100))),\n",
       " (3, (50, (3, 'Marc Gasol', 25))),\n",
       " (3, (50, (3, 'Marc Gasol', 25)))]"
      ]
     },
     "execution_count": 32,
     "metadata": {},
     "output_type": "execute_result"
    }
   ],
   "source": [
    "overperformers = scores_by_player.filter(lambda a: a[1][0] > a[1][1][2])\n",
    "overperformers.collect()"
   ]
  },
  {
   "cell_type": "code",
   "execution_count": 33,
   "metadata": {
    "collapsed": false
   },
   "outputs": [
    {
     "data": {
      "text/plain": [
       "['Kobe Bryant', 'Marc Gasol']"
      ]
     },
     "execution_count": 33,
     "metadata": {},
     "output_type": "execute_result"
    }
   ],
   "source": [
    "# veamos los duplicados\n",
    "overperformers = overperformers.map(lambda a: a[1][1][1]).distinct()\n",
    "overperformers.take(5)"
   ]
  }
 ],
 "metadata": {
  "kernelspec": {
   "display_name": "Python 2",
   "language": "python",
   "name": "python2"
  },
  "language_info": {
   "codemirror_mode": {
    "name": "ipython",
    "version": 2
   },
   "file_extension": ".py",
   "mimetype": "text/x-python",
   "name": "python",
   "nbconvert_exporter": "python",
   "pygments_lexer": "ipython2",
   "version": "2.7.13"
  }
 },
 "nbformat": 4,
 "nbformat_minor": 2
}
