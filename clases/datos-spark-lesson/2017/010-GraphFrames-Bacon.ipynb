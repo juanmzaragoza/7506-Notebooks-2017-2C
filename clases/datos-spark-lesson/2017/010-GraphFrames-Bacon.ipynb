{
 "cells": [
  {
   "cell_type": "markdown",
   "metadata": {},
   "source": [
    "## Cargo el dataframe de actores"
   ]
  },
  {
   "cell_type": "code",
   "execution_count": 1,
   "metadata": {
    "collapsed": false
   },
   "outputs": [],
   "source": [
    "df_actors = \\\n",
    "    spark.read.load('imdb_actors_key_noheader.tsv', \n",
    "                    format=\"csv\", delimiter='\\t', header=True)"
   ]
  },
  {
   "cell_type": "code",
   "execution_count": 2,
   "metadata": {
    "collapsed": false
   },
   "outputs": [
    {
     "data": {
      "text/plain": [
       "17577"
      ]
     },
     "execution_count": 2,
     "metadata": {},
     "output_type": "execute_result"
    }
   ],
   "source": [
    "df_actors.count()"
   ]
  },
  {
   "cell_type": "code",
   "execution_count": 3,
   "metadata": {
    "collapsed": false
   },
   "outputs": [
    {
     "data": {
      "text/plain": [
       "Row(id=u'15629', name=u'Rudder, Michael (I)', movie_count=u'12', category=u'Thriller', detail=u'Action:1,Comedy:1,Drama:1,Fantasy:1,Horror:1,NULL:2,Romance:1,Sci-Fi:1,Thriller:2,War:1')"
      ]
     },
     "execution_count": 3,
     "metadata": {},
     "output_type": "execute_result"
    }
   ],
   "source": [
    "df_actors.first()"
   ]
  },
  {
   "cell_type": "markdown",
   "metadata": {},
   "source": [
    "## Cargo el dataframe de aristas"
   ]
  },
  {
   "cell_type": "code",
   "execution_count": 4,
   "metadata": {
    "collapsed": true
   },
   "outputs": [],
   "source": [
    "df_edges = \\\n",
    "    spark.read.load('imdb_actor_edges.tsv', \n",
    "                    format=\"csv\", delimiter='\\t', header=True)"
   ]
  },
  {
   "cell_type": "code",
   "execution_count": 5,
   "metadata": {
    "collapsed": false
   },
   "outputs": [
    {
     "data": {
      "text/plain": [
       "287074"
      ]
     },
     "execution_count": 5,
     "metadata": {},
     "output_type": "execute_result"
    }
   ],
   "source": [
    "df_edges.count()"
   ]
  },
  {
   "cell_type": "code",
   "execution_count": 6,
   "metadata": {
    "collapsed": false
   },
   "outputs": [
    {
     "data": {
      "text/plain": [
       "Row(src=u'17776', dst=u'17778', times_acted_together=u'6')"
      ]
     },
     "execution_count": 6,
     "metadata": {},
     "output_type": "execute_result"
    }
   ],
   "source": [
    "df_edges.first()"
   ]
  },
  {
   "cell_type": "markdown",
   "metadata": {},
   "source": [
    "## Creo el grafo"
   ]
  },
  {
   "cell_type": "code",
   "execution_count": 7,
   "metadata": {
    "collapsed": true
   },
   "outputs": [],
   "source": [
    "from graphframes import *"
   ]
  },
  {
   "cell_type": "code",
   "execution_count": 8,
   "metadata": {
    "collapsed": false
   },
   "outputs": [],
   "source": [
    "g = GraphFrame(df_actors, df_edges)"
   ]
  },
  {
   "cell_type": "code",
   "execution_count": 9,
   "metadata": {
    "collapsed": false
   },
   "outputs": [
    {
     "data": {
      "text/plain": [
       "17577"
      ]
     },
     "execution_count": 9,
     "metadata": {},
     "output_type": "execute_result"
    }
   ],
   "source": [
    "g.vertices.count()"
   ]
  },
  {
   "cell_type": "code",
   "execution_count": 10,
   "metadata": {
    "collapsed": false
   },
   "outputs": [
    {
     "data": {
      "text/plain": [
       "287074"
      ]
     },
     "execution_count": 10,
     "metadata": {},
     "output_type": "execute_result"
    }
   ],
   "source": [
    "g.edges.count()"
   ]
  },
  {
   "cell_type": "markdown",
   "metadata": {},
   "source": [
    "## Busco a nuestra estrella"
   ]
  },
  {
   "cell_type": "code",
   "execution_count": 11,
   "metadata": {
    "collapsed": false
   },
   "outputs": [],
   "source": [
    "bacon = g.vertices.filter(\"name = 'Bacon, Kevin'\").first()"
   ]
  },
  {
   "cell_type": "code",
   "execution_count": 12,
   "metadata": {
    "collapsed": false
   },
   "outputs": [
    {
     "data": {
      "text/plain": [
       "Row(id=u'3257', name=u'Bacon, Kevin', movie_count=u'43', category=u'Drama', detail=u'Adventure:1,Comedy:3,Documentary:10,Drama:8,Family:3,Music:2,Mystery:3,NULL:1,Short:9,Thriller:2,War:1')"
      ]
     },
     "execution_count": 12,
     "metadata": {},
     "output_type": "execute_result"
    }
   ],
   "source": [
    "bacon"
   ]
  },
  {
   "cell_type": "markdown",
   "metadata": {},
   "source": [
    "## Actores que actuaron con Bacon"
   ]
  },
  {
   "cell_type": "code",
   "execution_count": 13,
   "metadata": {
    "collapsed": true
   },
   "outputs": [],
   "source": [
    "bacon_actors = g.edges.filter(\"src = 3257 or dst = 3257\")"
   ]
  },
  {
   "cell_type": "code",
   "execution_count": 14,
   "metadata": {
    "collapsed": false
   },
   "outputs": [
    {
     "name": "stdout",
     "output_type": "stream",
     "text": [
      "+-----+----+--------------------+\n",
      "|  src| dst|times_acted_together|\n",
      "+-----+----+--------------------+\n",
      "| 8087|3257|                   4|\n",
      "| 6895|3257|                   2|\n",
      "|  708|3257|                   2|\n",
      "| 8982|3257|                   2|\n",
      "|10966|3257|                   2|\n",
      "| 2662|3257|                   2|\n",
      "| 7105|3257|                   3|\n",
      "|  519|3257|                   2|\n",
      "| 7762|3257|                   2|\n",
      "| 8578|3257|                   3|\n",
      "| 3169|3257|                   2|\n",
      "| 8996|3257|                   2|\n",
      "| 8999|3257|                   2|\n",
      "| 9386|3257|                   2|\n",
      "| 5612|3257|                   3|\n",
      "| 3160|3257|                   2|\n",
      "| 4248|3257|                   2|\n",
      "| 3242|3257|                   4|\n",
      "| 3133|3257|                   2|\n",
      "| 1064|3257|                   2|\n",
      "+-----+----+--------------------+\n",
      "only showing top 20 rows\n",
      "\n"
     ]
    }
   ],
   "source": [
    "bacon_actors.show()"
   ]
  },
  {
   "cell_type": "code",
   "execution_count": 15,
   "metadata": {
    "collapsed": false
   },
   "outputs": [
    {
     "data": {
      "text/plain": [
       "101"
      ]
     },
     "execution_count": 15,
     "metadata": {},
     "output_type": "execute_result"
    }
   ],
   "source": [
    "bacon_actors.count()"
   ]
  },
  {
   "cell_type": "markdown",
   "metadata": {},
   "source": [
    "## Lo mismo pero con motif"
   ]
  },
  {
   "cell_type": "code",
   "execution_count": 16,
   "metadata": {
    "collapsed": false
   },
   "outputs": [
    {
     "name": "stdout",
     "output_type": "stream",
     "text": [
      "+--------------------+--------------+--------------------+\n",
      "|                   a|             e|                   b|\n",
      "+--------------------+--------------+--------------------+\n",
      "|[8087,Sedgwick, K...| [8087,3257,4]|[3257,Bacon, Kevi...|\n",
      "|[6895,Matlin, Mar...| [6895,3257,2]|[3257,Bacon, Kevi...|\n",
      "|[708,Murphy, Eddi...|  [708,3257,2]|[3257,Bacon, Kevi...|\n",
      "|[8982,Bonham Cart...| [8982,3257,2]|[3257,Bacon, Kevi...|\n",
      "|[10966,Ramis, Har...|[10966,3257,2]|[3257,Bacon, Kevi...|\n",
      "|[2662,Jackson, Ja...| [2662,3257,2]|[3257,Bacon, Kevi...|\n",
      "|[7105,Allen, Kare...| [7105,3257,3]|[3257,Bacon, Kevi...|\n",
      "|[519,Masterson, M...|  [519,3257,2]|[3257,Bacon, Kevi...|\n",
      "|[7762,Quinlan, Ka...| [7762,3257,2]|[3257,Bacon, Kevi...|\n",
      "|[8578,Linney, Lau...| [8578,3257,3]|[3257,Bacon, Kevi...|\n",
      "|[3169,Willis, Bru...| [3169,3257,2]|[3257,Bacon, Kevi...|\n",
      "|[8996,MacLaine, S...| [8996,3257,2]|[3257,Bacon, Kevi...|\n",
      "|[8999,Schiffer, C...| [8999,3257,2]|[3257,Bacon, Kevi...|\n",
      "|[9386,McRobbie, P...| [9386,3257,2]|[3257,Bacon, Kevi...|\n",
      "|[5612,Moore, Demi...| [5612,3257,3]|[3257,Bacon, Kevi...|\n",
      "|[3160,Danes, Clai...| [3160,3257,2]|[3257,Bacon, Kevi...|\n",
      "|[4248,Vella, Vinn...| [4248,3257,2]|[3257,Bacon, Kevi...|\n",
      "|[3242,Shue, Elisa...| [3242,3257,4]|[3257,Bacon, Kevi...|\n",
      "|[3133,Dern, Laura...| [3133,3257,2]|[3257,Bacon, Kevi...|\n",
      "|[1064,Roberts, Ju...| [1064,3257,2]|[3257,Bacon, Kevi...|\n",
      "+--------------------+--------------+--------------------+\n",
      "only showing top 20 rows\n",
      "\n"
     ]
    }
   ],
   "source": [
    "motifs = g.find(\"(a)-[e]->(b)\")\\\n",
    "          .filter(\"a.id = 3257 or b.id = 3257\")\n",
    "motifs.show()"
   ]
  },
  {
   "cell_type": "code",
   "execution_count": 17,
   "metadata": {
    "collapsed": false
   },
   "outputs": [
    {
     "data": {
      "text/plain": [
       "101"
      ]
     },
     "execution_count": 17,
     "metadata": {},
     "output_type": "execute_result"
    }
   ],
   "source": [
    "motifs.count()"
   ]
  },
  {
   "cell_type": "markdown",
   "metadata": {},
   "source": [
    "## Cargo las aristas invertidas"
   ]
  },
  {
   "cell_type": "code",
   "execution_count": 18,
   "metadata": {
    "collapsed": true
   },
   "outputs": [],
   "source": [
    "df_edges2 = spark.read.load('imdb_actor_edges2.tsv', format=\"csv\", delimiter='\\t', header=True)"
   ]
  },
  {
   "cell_type": "code",
   "execution_count": 19,
   "metadata": {
    "collapsed": false
   },
   "outputs": [
    {
     "data": {
      "text/plain": [
       "287074"
      ]
     },
     "execution_count": 19,
     "metadata": {},
     "output_type": "execute_result"
    }
   ],
   "source": [
    "df_edges2.count()"
   ]
  },
  {
   "cell_type": "markdown",
   "metadata": {},
   "source": [
    "## Uno los dos conjuntos de aristas"
   ]
  },
  {
   "cell_type": "code",
   "execution_count": 20,
   "metadata": {
    "collapsed": false
   },
   "outputs": [],
   "source": [
    "df_edges_all = df_edges.unionAll(df_edges2)"
   ]
  },
  {
   "cell_type": "code",
   "execution_count": 21,
   "metadata": {
    "collapsed": false
   },
   "outputs": [
    {
     "data": {
      "text/plain": [
       "574148"
      ]
     },
     "execution_count": 21,
     "metadata": {},
     "output_type": "execute_result"
    }
   ],
   "source": [
    "df_edges_all.count()"
   ]
  },
  {
   "cell_type": "markdown",
   "metadata": {},
   "source": [
    "## Y creo un nuevo grafo con estas"
   ]
  },
  {
   "cell_type": "code",
   "execution_count": 22,
   "metadata": {
    "collapsed": true
   },
   "outputs": [],
   "source": [
    "g2 = GraphFrame(df_actors, df_edges_all)"
   ]
  },
  {
   "cell_type": "code",
   "execution_count": 23,
   "metadata": {
    "collapsed": false
   },
   "outputs": [
    {
     "data": {
      "text/plain": [
       "574148"
      ]
     },
     "execution_count": 23,
     "metadata": {},
     "output_type": "execute_result"
    }
   ],
   "source": [
    "g2.edges.count()"
   ]
  },
  {
   "cell_type": "markdown",
   "metadata": {},
   "source": [
    "## Busco los actores a grado 2 de Bacon"
   ]
  },
  {
   "cell_type": "code",
   "execution_count": 24,
   "metadata": {
    "collapsed": true
   },
   "outputs": [],
   "source": [
    "motifs2 = g2.find(\"(a)-[e]->(b); (b)-[e2]->(c)\")\\\n",
    "            .filter(\"a.id = 3257\")"
   ]
  },
  {
   "cell_type": "code",
   "execution_count": 25,
   "metadata": {
    "collapsed": false
   },
   "outputs": [
    {
     "name": "stdout",
     "output_type": "stream",
     "text": [
      "+--------------------+-------------+--------------------+--------------+--------------------+\n",
      "|                   a|            e|                   b|            e2|                   c|\n",
      "+--------------------+-------------+--------------------+--------------+--------------------+\n",
      "|[3257,Bacon, Kevi...|[3257,9079,2]|[9079,Fonda, Pete...| [9079,8964,2]|[8964,Sorvino, Mi...|\n",
      "|[3257,Bacon, Kevi...|[3257,9079,2]|[9079,Fonda, Pete...|  [9079,503,2]|[503,Diaz, Camero...|\n",
      "|[3257,Bacon, Kevi...|[3257,9079,2]|[9079,Fonda, Pete...| [9079,9049,2]|[9049,Davis, Geen...|\n",
      "|[3257,Bacon, Kevi...|[3257,9079,2]|[9079,Fonda, Pete...| [9079,9098,2]|[9098,Stone, Shar...|\n",
      "|[3257,Bacon, Kevi...|[3257,9079,2]|[9079,Fonda, Pete...|  [9079,659,2]|[659,Moore, Julia...|\n",
      "|[3257,Bacon, Kevi...|[3257,9079,2]|[9079,Fonda, Pete...|  [9079,447,2]|[447,Duvall, Robe...|\n",
      "|[3257,Bacon, Kevi...|[3257,9079,2]|[9079,Fonda, Pete...| [9079,7003,2]|[7003,Cassel, Sey...|\n",
      "|[3257,Bacon, Kevi...|[3257,9079,2]|[9079,Fonda, Pete...| [9079,3213,2]|[3213,Goldberg, W...|\n",
      "|[3257,Bacon, Kevi...|[3257,9079,2]|[9079,Fonda, Pete...| [9079,3346,2]|[3346,Gray, Linda...|\n",
      "|[3257,Bacon, Kevi...|[3257,9079,2]|[9079,Fonda, Pete...| [9079,8082,3]|[8082,Thornton, B...|\n",
      "|[3257,Bacon, Kevi...|[3257,9079,2]|[9079,Fonda, Pete...| [9079,9004,2]|[9004,DeGeneres, ...|\n",
      "|[3257,Bacon, Kevi...|[3257,9079,2]|[9079,Fonda, Pete...| [9079,1231,2]|[1231,Steiger, Ro...|\n",
      "|[3257,Bacon, Kevi...|[3257,9079,2]|[9079,Fonda, Pete...|[9079,15276,2]|[15276,Heinle, Am...|\n",
      "|[3257,Bacon, Kevi...|[3257,9079,2]|[9079,Fonda, Pete...| [9079,7150,4]|[7150,Corman, Rog...|\n",
      "|[3257,Bacon, Kevi...|[3257,9079,2]|[9079,Fonda, Pete...| [9079,5744,5]|[5744,Fonda, Brid...|\n",
      "|[3257,Bacon, Kevi...|[3257,9079,2]|[9079,Fonda, Pete...| [9079,3195,3]|[3195,Redford, Ro...|\n",
      "|[3257,Bacon, Kevi...|[3257,9079,2]|[9079,Fonda, Pete...| [9079,9406,2]|[9406,Driver, Min...|\n",
      "|[3257,Bacon, Kevi...|[3257,9079,2]|[9079,Fonda, Pete...| [9079,3183,3]|[3183,Cher (I),41...|\n",
      "|[3257,Bacon, Kevi...|[3257,9079,2]|[9079,Fonda, Pete...| [9079,3276,2]|[3276,Beatty, War...|\n",
      "|[3257,Bacon, Kevi...|[3257,9079,2]|[9079,Fonda, Pete...| [9079,3959,4]|[3959,Voight, Jon...|\n",
      "+--------------------+-------------+--------------------+--------------+--------------------+\n",
      "only showing top 20 rows\n",
      "\n"
     ]
    }
   ],
   "source": [
    "motifs2.show()"
   ]
  },
  {
   "cell_type": "code",
   "execution_count": 26,
   "metadata": {
    "collapsed": false
   },
   "outputs": [
    {
     "data": {
      "text/plain": [
       "11063"
      ]
     },
     "execution_count": 26,
     "metadata": {},
     "output_type": "execute_result"
    }
   ],
   "source": [
    "motifs2.count()"
   ]
  },
  {
   "cell_type": "code",
   "execution_count": null,
   "metadata": {
    "collapsed": true
   },
   "outputs": [],
   "source": [
    "grade2_a = motifs2.select(\"a.id\", \"a.name\")\n",
    "grade2_c = motifs2.select(\"c.id\", \"c.name\")\n",
    "grade2 = grade2_a.unionAll(grade2_c)"
   ]
  },
  {
   "cell_type": "code",
   "execution_count": 28,
   "metadata": {
    "collapsed": true
   },
   "outputs": [],
   "source": [
    "grade2 = motifs2.select(\"c.id\", \"c.name\")"
   ]
  },
  {
   "cell_type": "code",
   "execution_count": 29,
   "metadata": {
    "collapsed": false
   },
   "outputs": [
    {
     "data": {
      "text/plain": [
       "11063"
      ]
     },
     "execution_count": 29,
     "metadata": {},
     "output_type": "execute_result"
    }
   ],
   "source": [
    "grade2.count()"
   ]
  },
  {
   "cell_type": "code",
   "execution_count": 30,
   "metadata": {
    "collapsed": false
   },
   "outputs": [
    {
     "data": {
      "text/plain": [
       "Row(id=u'8964', name=u'Sorvino, Mira')"
      ]
     },
     "execution_count": 30,
     "metadata": {},
     "output_type": "execute_result"
    }
   ],
   "source": [
    "grade2.first()"
   ]
  },
  {
   "cell_type": "code",
   "execution_count": 31,
   "metadata": {
    "collapsed": false
   },
   "outputs": [
    {
     "data": {
      "text/plain": [
       "2485"
      ]
     },
     "execution_count": 31,
     "metadata": {},
     "output_type": "execute_result"
    }
   ],
   "source": [
    "grade2.filter(\"id != 3257\").distinct().count()"
   ]
  },
  {
   "cell_type": "markdown",
   "metadata": {},
   "source": [
    "## Cuanto los triangulos"
   ]
  },
  {
   "cell_type": "code",
   "execution_count": 32,
   "metadata": {
    "collapsed": false
   },
   "outputs": [
    {
     "name": "stdout",
     "output_type": "stream",
     "text": [
      "+--------------------+---------------+--------------------+---------------+--------------------+---------------+\n",
      "|                   a|              e|                   b|             e2|                   c|             e3|\n",
      "+--------------------+---------------+--------------------+---------------+--------------------+---------------+\n",
      "|[17776,Wood, T.J....|[17776,17778,6]|[17778,Black, Ric...|[17778,17777,6]|[17777,Sterne, Je...|[17777,17776,8]|\n",
      "|[5578,Gale, Vince...|  [5578,9770,3]|[9770,Gray, G. Mi...|   [9770,814,2]|[814,Fletcher, Br...|   [814,5578,2]|\n",
      "|[5578,Gale, Vince...|  [5578,9770,3]|[9770,Gray, G. Mi...|  [9770,9767,2]|[9767,Santiago, Z...|  [9767,5578,3]|\n",
      "|[5578,Gale, Vince...|  [5578,9770,3]|[9770,Gray, G. Mi...|  [9770,4014,2]|[4014,Cubitt, Dav...|  [4014,5578,3]|\n",
      "|[5578,Gale, Vince...|  [5578,9770,3]|[9770,Gray, G. Mi...| [9770,14813,2]|[14813,Armour, No...| [14813,5578,2]|\n",
      "|[5578,Gale, Vince...|   [5578,929,2]|[929,Holden, Mark...|   [929,7902,3]|[7902,Bivens, J.B...|  [7902,5578,2]|\n",
      "|[5578,Gale, Vince...|   [5578,929,2]|[929,Holden, Mark...|    [929,909,4]|[909,Riley, Clair...|   [909,5578,2]|\n",
      "|[5578,Gale, Vince...|   [5578,929,2]|[929,Holden, Mark...|   [929,8802,2]|[8802,Lindbjerg, ...|  [8802,5578,2]|\n",
      "|[5578,Gale, Vince...|   [5578,929,2]|[929,Holden, Mark...|    [929,804,2]|[804,Miller, Step...|   [804,5578,3]|\n",
      "|[5578,Gale, Vince...|  [5578,9982,2]|[9982,Gray-Stanfo...|   [9982,807,2]|[807,Reynoldson, ...|   [807,5578,2]|\n",
      "|[5578,Gale, Vince...|  [5578,9982,2]|[9982,Gray-Stanfo...|  [9982,8802,3]|[8802,Lindbjerg, ...|  [8802,5578,2]|\n",
      "|[1835,Moore, Ashl...|  [1835,6278,2]|[6278,Star, Judy,...|  [6278,1980,2]|[1980,Cheeks, Fio...|  [1980,1835,2]|\n",
      "|[1835,Moore, Ashl...|  [1835,6278,2]|[6278,Star, Judy,...| [6278,11490,2]|[11490,Roccaforte...| [11490,1835,2]|\n",
      "|[1835,Moore, Ashl...|  [1835,6278,2]|[6278,Star, Judy,...|   [6278,175,6]|[175,Lawrence, Jo...|   [175,1835,2]|\n",
      "|[1835,Moore, Ashl...|  [1835,6278,2]|[6278,Star, Judy,...|  [6278,6248,2]|[6248,Marie, Ann ...|  [6248,1835,2]|\n",
      "|[1835,Moore, Ashl...|  [1835,6278,2]|[6278,Star, Judy,...|  [6278,1995,2]|[1995,Rae, Sapphi...|  [1995,1835,8]|\n",
      "|[1835,Moore, Ashl...|  [1835,6278,2]|[6278,Star, Judy,...|  [6278,1742,2]|[1742,Night, Juli...|  [1742,1835,3]|\n",
      "|[1835,Moore, Ashl...|  [1835,6278,2]|[6278,Star, Judy,...| [6278,1802,12]|[1802,Marcus, Mr....|  [1802,1835,3]|\n",
      "|[1835,Moore, Ashl...|  [1835,6278,2]|[6278,Star, Judy,...|  [6278,1642,3]|[1642,Tesoro, Tre...|  [1642,1835,4]|\n",
      "|[1835,Moore, Ashl...|  [1835,6278,2]|[6278,Star, Judy,...|  [6278,3672,2]|[3672,Crystal, An...|  [3672,1835,3]|\n",
      "+--------------------+---------------+--------------------+---------------+--------------------+---------------+\n",
      "only showing top 20 rows\n",
      "\n"
     ]
    }
   ],
   "source": [
    "triangles = g2.find(\"(a)-[e]->(b); (b)-[e2]->(c); (c)-[e3]->(a)\")\n",
    "triangles.show()"
   ]
  },
  {
   "cell_type": "code",
   "execution_count": 33,
   "metadata": {
    "collapsed": false
   },
   "outputs": [
    {
     "data": {
      "text/plain": [
       "21283836"
      ]
     },
     "execution_count": 33,
     "metadata": {},
     "output_type": "execute_result"
    }
   ],
   "source": [
    "triangles.count()"
   ]
  },
  {
   "cell_type": "markdown",
   "metadata": {},
   "source": [
    "## Camino mínimo entre Bacon y Henriksen, Gaston Pauls y Andrea Pietra"
   ]
  },
  {
   "cell_type": "code",
   "execution_count": 34,
   "metadata": {
    "collapsed": true
   },
   "outputs": [],
   "source": [
    "paths = g2.bfs(\"id = 3257\", \"id = 8473\", None, 4)"
   ]
  },
  {
   "cell_type": "code",
   "execution_count": 35,
   "metadata": {
    "collapsed": false
   },
   "outputs": [
    {
     "data": {
      "text/plain": [
       "2"
      ]
     },
     "execution_count": 35,
     "metadata": {},
     "output_type": "execute_result"
    }
   ],
   "source": [
    "paths.count()"
   ]
  },
  {
   "cell_type": "code",
   "execution_count": 12,
   "metadata": {
    "collapsed": false
   },
   "outputs": [
    {
     "name": "stdout",
     "output_type": "stream",
     "text": [
      "+--------------------+-------------+--------------------+-------------+--------------------+\n",
      "|                from|           e0|                  v1|           e1|                  to|\n",
      "+--------------------+-------------+--------------------+-------------+--------------------+\n",
      "|[3257,Bacon, Kevi...|[3257,7884,2]|[7884,Paxton, Bil...|[7884,8473,2]|[8473,Henriksen, ...|\n",
      "|[3257,Bacon, Kevi...|[3257,8468,2]|[8468,Woodruff Jr...|[8468,8473,4]|[8473,Henriksen, ...|\n",
      "+--------------------+-------------+--------------------+-------------+--------------------+\n",
      "\n"
     ]
    }
   ],
   "source": [
    "paths.show()"
   ]
  },
  {
   "cell_type": "code",
   "execution_count": 36,
   "metadata": {
    "collapsed": true
   },
   "outputs": [],
   "source": [
    "paths2 = g2.bfs(\"id = 3257\", \"id = 4763\", None, 4)"
   ]
  },
  {
   "cell_type": "code",
   "execution_count": 14,
   "metadata": {
    "collapsed": false
   },
   "outputs": [
    {
     "name": "stdout",
     "output_type": "stream",
     "text": [
      "+--------------------+-------------+--------------------+-------------+--------------------+-------------+--------------------+\n",
      "|                from|           e0|                  v1|           e1|                  v2|           e2|                  to|\n",
      "+--------------------+-------------+--------------------+-------------+--------------------+-------------+--------------------+\n",
      "|[3257,Bacon, Kevi...|[3257,7884,2]|[7884,Paxton, Bil...|[7884,8473,2]|[8473,Henriksen, ...|[8473,4763,2]|[4763,Pauls, Gast...|\n",
      "|[3257,Bacon, Kevi...|[3257,8468,2]|[8468,Woodruff Jr...|[8468,8473,4]|[8473,Henriksen, ...|[8473,4763,2]|[4763,Pauls, Gast...|\n",
      "+--------------------+-------------+--------------------+-------------+--------------------+-------------+--------------------+\n",
      "\n"
     ]
    }
   ],
   "source": [
    "paths2.show()"
   ]
  },
  {
   "cell_type": "code",
   "execution_count": 37,
   "metadata": {
    "collapsed": true
   },
   "outputs": [],
   "source": [
    "paths3 = g2.bfs(\"id = 3257\", \"id = 9611\", None, 4)"
   ]
  },
  {
   "cell_type": "code",
   "execution_count": 16,
   "metadata": {
    "collapsed": false
   },
   "outputs": [
    {
     "name": "stdout",
     "output_type": "stream",
     "text": [
      "+--------------------+-------------+--------------------+-------------+--------------------+-------------+--------------------+-------------+--------------------+\n",
      "|                from|           e0|                  v1|           e1|                  v2|           e2|                  v3|           e3|                  to|\n",
      "+--------------------+-------------+--------------------+-------------+--------------------+-------------+--------------------+-------------+--------------------+\n",
      "|[3257,Bacon, Kevi...|[3257,7884,2]|[7884,Paxton, Bil...|[7884,8473,2]|[8473,Henriksen, ...|[8473,4763,2]|[4763,Pauls, Gast...|[4763,9611,2]|[9611,Pietra, And...|\n",
      "|[3257,Bacon, Kevi...|[3257,8468,2]|[8468,Woodruff Jr...|[8468,8473,4]|[8473,Henriksen, ...|[8473,4763,2]|[4763,Pauls, Gast...|[4763,9611,2]|[9611,Pietra, And...|\n",
      "+--------------------+-------------+--------------------+-------------+--------------------+-------------+--------------------+-------------+--------------------+\n",
      "\n"
     ]
    }
   ],
   "source": [
    "paths3.show()"
   ]
  },
  {
   "cell_type": "markdown",
   "metadata": {},
   "source": [
    "## Intento encontrar el camino mínimo entre Bacon y Francella"
   ]
  },
  {
   "cell_type": "code",
   "execution_count": null,
   "metadata": {
    "collapsed": true
   },
   "outputs": [],
   "source": [
    "paths = g2.bfs(\"id = 3257\", \"id = 5222\", None, 5)"
   ]
  },
  {
   "cell_type": "code",
   "execution_count": null,
   "metadata": {
    "collapsed": false
   },
   "outputs": [],
   "source": [
    "g2.vertices.first()"
   ]
  },
  {
   "cell_type": "code",
   "execution_count": 8,
   "metadata": {
    "collapsed": true
   },
   "outputs": [],
   "source": [
    "v2 = g2.vertices.filter(\"category != 'Adult'\")"
   ]
  },
  {
   "cell_type": "code",
   "execution_count": 9,
   "metadata": {
    "collapsed": true
   },
   "outputs": [],
   "source": [
    "paths_no_adults = g2.find(\"(a)-[e]->(b)\").\\\n",
    "filter(\"a.category != 'Adult' and b.category != 'Adult'\")"
   ]
  },
  {
   "cell_type": "code",
   "execution_count": 12,
   "metadata": {
    "collapsed": false
   },
   "outputs": [
    {
     "data": {
      "text/plain": [
       "441772"
      ]
     },
     "execution_count": 12,
     "metadata": {},
     "output_type": "execute_result"
    }
   ],
   "source": [
    "e2 = paths_no_adults.select(\"e.src\", \"e.dst\", \"e.times_acted_together\")\n",
    "e2.count()"
   ]
  },
  {
   "cell_type": "code",
   "execution_count": 13,
   "metadata": {
    "collapsed": true
   },
   "outputs": [],
   "source": [
    "g3 = GraphFrame(v2, e2)"
   ]
  },
  {
   "cell_type": "code",
   "execution_count": 14,
   "metadata": {
    "collapsed": false
   },
   "outputs": [
    {
     "data": {
      "text/plain": [
       "15698"
      ]
     },
     "execution_count": 14,
     "metadata": {},
     "output_type": "execute_result"
    }
   ],
   "source": [
    "g3.vertices.count()"
   ]
  },
  {
   "cell_type": "code",
   "execution_count": null,
   "metadata": {
    "collapsed": true
   },
   "outputs": [],
   "source": []
  }
 ],
 "metadata": {
  "kernelspec": {
   "display_name": "Python 2",
   "language": "python",
   "name": "python2"
  },
  "language_info": {
   "codemirror_mode": {
    "name": "ipython",
    "version": 2
   },
   "file_extension": ".py",
   "mimetype": "text/x-python",
   "name": "python",
   "nbconvert_exporter": "python",
   "pygments_lexer": "ipython2",
   "version": "2.7.6"
  }
 },
 "nbformat": 4,
 "nbformat_minor": 0
}
